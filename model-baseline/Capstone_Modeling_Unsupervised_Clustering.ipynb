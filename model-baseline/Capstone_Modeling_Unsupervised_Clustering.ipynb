{
  "cells": [
    {
      "cell_type": "markdown",
      "metadata": {
        "id": "oGQ5uB5WwHvJ"
      },
      "source": [
        "**Business Objective**\n",
        "\n",
        "Rampant fraud in US healthcare system results in increased premiums for many vulnerable citizens who cannot afford to pay hefty price for a fundamental right such as healthcare. The aim is to find patterns of fraud commited by providers and train ML models to detect similar patterns in the future. Dataset for this capstone project is obtained from Kaggle [here](https://www.kaggle.com/code/rohitrox/medical-provider-fraud-detection/data).\n",
        "\n",
        "---\n",
        "\n",
        "\n",
        "Abuse in healthcare system can take many forms, such as:\n",
        "\n",
        "*Billing for services that were not rendered.\n",
        "\n",
        "*Duplicate submission of a claim for the same service.\n",
        "\n",
        "*Charging for a more complex or expensive than was actually provided."
      ]
    },
    {
      "cell_type": "markdown",
      "metadata": {
        "id": "VsKXuTdyy5Lg"
      },
      "source": [
        "# Fetching Train and Test Files"
      ]
    },
    {
      "cell_type": "code",
      "execution_count": 1,
      "metadata": {
        "colab": {
          "base_uri": "https://localhost:8080/"
        },
        "id": "3uENGd3z72D8",
        "outputId": "4136846a-bcd1-4e39-f4f4-36d9617b9dd0"
      },
      "outputs": [
        {
          "output_type": "stream",
          "name": "stdout",
          "text": [
            "Looking in indexes: https://pypi.org/simple, https://us-python.pkg.dev/colab-wheels/public/simple/\n",
            "Collecting sklearn==0.0.post1\n",
            "  Downloading sklearn-0.0.post1.tar.gz (3.6 kB)\n",
            "  Preparing metadata (setup.py) ... \u001b[?25l\u001b[?25hdone\n",
            "Building wheels for collected packages: sklearn\n",
            "  Building wheel for sklearn (setup.py) ... \u001b[?25l\u001b[?25hdone\n",
            "  Created wheel for sklearn: filename=sklearn-0.0.post1-py3-none-any.whl size=2344 sha256=9ab62aa411477bf0ae600e4791aba83f1ce4b658435b0e8b54eea707d33eb9c1\n",
            "  Stored in directory: /root/.cache/pip/wheels/14/25/f7/1cc0956978ae479e75140219088deb7a36f60459df242b1a72\n",
            "Successfully built sklearn\n",
            "Installing collected packages: sklearn\n",
            "Successfully installed sklearn-0.0.post1\n"
          ]
        }
      ],
      "source": [
        "!pip install sklearn==0.0.post1"
      ]
    },
    {
      "cell_type": "code",
      "execution_count": 2,
      "metadata": {
        "colab": {
          "base_uri": "https://localhost:8080/",
          "height": 35
        },
        "id": "bLHPa3Hq7aUp",
        "outputId": "939f96fb-29c8-4737-d492-ab5cb54f0b77"
      },
      "outputs": [
        {
          "output_type": "execute_result",
          "data": {
            "text/plain": [
              "'1.0.2'"
            ],
            "application/vnd.google.colaboratory.intrinsic+json": {
              "type": "string"
            }
          },
          "metadata": {},
          "execution_count": 2
        }
      ],
      "source": [
        "import sklearn\n",
        "sklearn.__version__"
      ]
    },
    {
      "cell_type": "code",
      "execution_count": 3,
      "metadata": {
        "id": "p7mYKEZRI-v_"
      },
      "outputs": [],
      "source": [
        "import numpy as np\n",
        "import pickle"
      ]
    },
    {
      "cell_type": "code",
      "execution_count": 4,
      "metadata": {
        "colab": {
          "base_uri": "https://localhost:8080/"
        },
        "id": "iT4Y0NjcKlfr",
        "outputId": "38c2d87a-6556-4063-eba7-e0a96104fb65"
      },
      "outputs": [
        {
          "output_type": "stream",
          "name": "stdout",
          "text": [
            "Mounted at /content/drive\n"
          ]
        }
      ],
      "source": [
        "from google.colab import drive\n",
        "drive.mount('/content/drive')"
      ]
    },
    {
      "cell_type": "code",
      "execution_count": 5,
      "metadata": {
        "colab": {
          "base_uri": "https://localhost:8080/"
        },
        "id": "fxRPjtPlXexS",
        "outputId": "ee948bb0-909a-4d7b-fdce-57d108768dce"
      },
      "outputs": [
        {
          "output_type": "stream",
          "name": "stdout",
          "text": [
            "dog_dataset\t\t\t\tTrain_Beneficiarydata-1542865627584.csv\n",
            "Test-1542969243754.csv\t\t\tTrain_Inpatientdata-1542865627584.csv\n",
            "Test_Beneficiarydata-1542969243754.csv\tTrain_Outpatientdata-1542865627584.csv\n",
            "Test_Inpatientdata-1542969243754.csv\ttweets.csv.gz\n",
            "Test_Outpatientdata-1542969243754.csv\ttwitter-mask.png\n",
            "Train-1542865627584.csv\n"
          ]
        }
      ],
      "source": [
        "!ls /content/drive/MyDrive/fourthbrain"
      ]
    },
    {
      "cell_type": "code",
      "execution_count": 6,
      "metadata": {
        "id": "aVrfisylwe3Q"
      },
      "outputs": [],
      "source": [
        "import pandas as pd\n",
        "import os\n",
        "pathname = '/content/drive/MyDrive/fourthbrain'\n",
        "\n",
        "train_df = pd.read_csv(os.path.join(pathname,'Train-1542865627584.csv'))\n",
        "train_beneficiary_df = pd.read_csv(os.path.join(pathname,'Train_Beneficiarydata-1542865627584.csv'))\n",
        "train_inpatient_df = pd.read_csv(os.path.join(pathname,'Train_Inpatientdata-1542865627584.csv'))\n",
        "train_outpatient_df = pd.read_csv(os.path.join(pathname,'Train_Outpatientdata-1542865627584.csv'))\n",
        "\n",
        "test_df = pd.read_csv(os.path.join(pathname,'Test-1542969243754.csv'))\n",
        "test_beneficiary_df = pd.read_csv(os.path.join(pathname,'Test_Beneficiarydata-1542969243754.csv'))\n",
        "test_inpatient_df = pd.read_csv(os.path.join(pathname,'Test_Inpatientdata-1542969243754.csv'))\n",
        "test_outpatient_df = pd.read_csv(os.path.join(pathname,'Test_Outpatientdata-1542969243754.csv'))"
      ]
    },
    {
      "cell_type": "markdown",
      "metadata": {
        "id": "MyzCpDbQzB_K"
      },
      "source": [
        "# Data Engineering on Beneficiary Dataset"
      ]
    },
    {
      "cell_type": "code",
      "execution_count": 7,
      "metadata": {
        "colab": {
          "base_uri": "https://localhost:8080/"
        },
        "id": "wn9BwzZdxs-9",
        "outputId": "8387fb7f-7599-4a21-d896-4f2ffda8828b"
      },
      "outputs": [
        {
          "output_type": "execute_result",
          "data": {
            "text/plain": [
              "2    92530\n",
              "1    46026\n",
              "Name: ChronicCond_Alzheimer, dtype: int64"
            ]
          },
          "metadata": {},
          "execution_count": 7
        }
      ],
      "source": [
        "train_beneficiary_df['ChronicCond_Alzheimer'].value_counts()"
      ]
    },
    {
      "cell_type": "code",
      "execution_count": 8,
      "metadata": {
        "colab": {
          "base_uri": "https://localhost:8080/"
        },
        "id": "dXzeDnfbyBXA",
        "outputId": "2489f81d-b896-4b8e-993d-eb968008cc33"
      },
      "outputs": [
        {
          "output_type": "execute_result",
          "data": {
            "text/plain": [
              "2    70154\n",
              "1    68402\n",
              "Name: ChronicCond_Heartfailure, dtype: int64"
            ]
          },
          "metadata": {},
          "execution_count": 8
        }
      ],
      "source": [
        "train_beneficiary_df['ChronicCond_Heartfailure'].value_counts()"
      ]
    },
    {
      "cell_type": "code",
      "execution_count": 9,
      "metadata": {
        "colab": {
          "base_uri": "https://localhost:8080/"
        },
        "id": "0TSaPAysyHWD",
        "outputId": "30d71c76-6f00-419f-c04a-9aaee87b6208"
      },
      "outputs": [
        {
          "output_type": "execute_result",
          "data": {
            "text/plain": [
              "2    121935\n",
              "1     16621\n",
              "Name: ChronicCond_Cancer, dtype: int64"
            ]
          },
          "metadata": {},
          "execution_count": 9
        }
      ],
      "source": [
        "train_beneficiary_df['ChronicCond_Cancer'].value_counts()"
      ]
    },
    {
      "cell_type": "code",
      "execution_count": 10,
      "metadata": {
        "colab": {
          "base_uri": "https://localhost:8080/"
        },
        "id": "LOdtEiDHzhV_",
        "outputId": "fc96d9fb-a2c3-4dbd-f08b-8e06b457b213"
      },
      "outputs": [
        {
          "output_type": "execute_result",
          "data": {
            "text/plain": [
              "2    55176\n",
              "1     8792\n",
              "Name: ChronicCond_Cancer, dtype: int64"
            ]
          },
          "metadata": {},
          "execution_count": 10
        }
      ],
      "source": [
        "test_beneficiary_df['ChronicCond_Cancer'].value_counts()"
      ]
    },
    {
      "cell_type": "code",
      "execution_count": 11,
      "metadata": {
        "id": "kIO05q2PyWfF"
      },
      "outputs": [],
      "source": [
        "cols = ['ChronicCond_Alzheimer', 'ChronicCond_Heartfailure',\n",
        "       'ChronicCond_KidneyDisease', 'ChronicCond_Cancer',\n",
        "       'ChronicCond_ObstrPulmonary', 'ChronicCond_Depression',\n",
        "       'ChronicCond_Diabetes', 'ChronicCond_IschemicHeart',\n",
        "       'ChronicCond_Osteoporasis', 'ChronicCond_rheumatoidarthritis',\n",
        "       'ChronicCond_stroke'] \n",
        "\n",
        "for col in cols:\n",
        "  train_beneficiary_df.replace({col: 2}, 0, inplace=True)\n",
        "  test_beneficiary_df.replace({col: 2}, 0, inplace=True)"
      ]
    },
    {
      "cell_type": "code",
      "execution_count": 12,
      "metadata": {
        "colab": {
          "base_uri": "https://localhost:8080/"
        },
        "id": "OzS-qEypyuSn",
        "outputId": "b03672ac-c888-4252-d262-5d2986cf00e1"
      },
      "outputs": [
        {
          "output_type": "execute_result",
          "data": {
            "text/plain": [
              "0    92530\n",
              "1    46026\n",
              "Name: ChronicCond_Alzheimer, dtype: int64"
            ]
          },
          "metadata": {},
          "execution_count": 12
        }
      ],
      "source": [
        "train_beneficiary_df['ChronicCond_Alzheimer'].value_counts()"
      ]
    },
    {
      "cell_type": "code",
      "execution_count": 13,
      "metadata": {
        "colab": {
          "base_uri": "https://localhost:8080/"
        },
        "id": "vlbHzEwPysTu",
        "outputId": "514b97e4-6aef-4519-b1e2-8599f114d68a"
      },
      "outputs": [
        {
          "output_type": "execute_result",
          "data": {
            "text/plain": [
              "0    70154\n",
              "1    68402\n",
              "Name: ChronicCond_Heartfailure, dtype: int64"
            ]
          },
          "metadata": {},
          "execution_count": 13
        }
      ],
      "source": [
        "train_beneficiary_df['ChronicCond_Heartfailure'].value_counts()"
      ]
    },
    {
      "cell_type": "code",
      "execution_count": 14,
      "metadata": {
        "colab": {
          "base_uri": "https://localhost:8080/"
        },
        "id": "-EDo4flHypLW",
        "outputId": "bfde619e-af91-4f62-e73c-f5dd1b088f80"
      },
      "outputs": [
        {
          "output_type": "execute_result",
          "data": {
            "text/plain": [
              "0    121935\n",
              "1     16621\n",
              "Name: ChronicCond_Cancer, dtype: int64"
            ]
          },
          "metadata": {},
          "execution_count": 14
        }
      ],
      "source": [
        "train_beneficiary_df['ChronicCond_Cancer'].value_counts()"
      ]
    },
    {
      "cell_type": "code",
      "execution_count": 15,
      "metadata": {
        "colab": {
          "base_uri": "https://localhost:8080/"
        },
        "id": "orUUSj-AyrQv",
        "outputId": "fa15227f-31b6-401d-b67f-ec6edec9e1a4"
      },
      "outputs": [
        {
          "output_type": "execute_result",
          "data": {
            "text/plain": [
              "0    55176\n",
              "1     8792\n",
              "Name: ChronicCond_Cancer, dtype: int64"
            ]
          },
          "metadata": {},
          "execution_count": 15
        }
      ],
      "source": [
        "test_beneficiary_df['ChronicCond_Cancer'].value_counts()"
      ]
    },
    {
      "cell_type": "markdown",
      "metadata": {
        "id": "DF29noY-zuJR"
      },
      "source": [
        "## Person's Age on Train dataset"
      ]
    },
    {
      "cell_type": "code",
      "execution_count": 16,
      "metadata": {
        "id": "85ZX55AxzelO"
      },
      "outputs": [],
      "source": [
        "train_beneficiary_df['DOB'] = pd.to_datetime(train_beneficiary_df['DOB'], format = '%Y-%m-%d')\n",
        "train_beneficiary_df['DOD'] = pd.to_datetime(train_beneficiary_df['DOD'], format = '%Y-%m-%d') \n",
        "train_beneficiary_df['Age'] = round((train_beneficiary_df['DOD'] - train_beneficiary_df['DOB']).dt.days/365) "
      ]
    },
    {
      "cell_type": "code",
      "execution_count": 17,
      "metadata": {
        "colab": {
          "base_uri": "https://localhost:8080/"
        },
        "id": "3cHryIBB0BzR",
        "outputId": "ec71cd37-026d-4eb2-d7f4-f5677585bb01"
      },
      "outputs": [
        {
          "output_type": "execute_result",
          "data": {
            "text/plain": [
              "(137135, 138556)"
            ]
          },
          "metadata": {},
          "execution_count": 17
        }
      ],
      "source": [
        "train_beneficiary_df['Age'].isna().sum(), train_beneficiary_df.shape[0]"
      ]
    },
    {
      "cell_type": "markdown",
      "metadata": {
        "id": "RdKffm8K0KP-"
      },
      "source": [
        "**Take-away message**\n",
        "\n",
        "There are 1421 beneficiaries still alive and we need to calculate their age as well. "
      ]
    },
    {
      "cell_type": "code",
      "execution_count": 18,
      "metadata": {
        "colab": {
          "base_uri": "https://localhost:8080/"
        },
        "id": "rczZ6Gq90F-S",
        "outputId": "7371f001-04db-4819-a132-077ce786d3de"
      },
      "outputs": [
        {
          "output_type": "execute_result",
          "data": {
            "text/plain": [
              "Timestamp('2009-12-01 00:00:00')"
            ]
          },
          "metadata": {},
          "execution_count": 18
        }
      ],
      "source": [
        "train_beneficiary_df['DOD'].max()"
      ]
    },
    {
      "cell_type": "markdown",
      "metadata": {
        "id": "last8gUD0clQ"
      },
      "source": [
        "**Take-away message**\n",
        "Beneficiary data was last recorded on 2009-12-01, so we can calculate age of people that are still alive based on this date. "
      ]
    },
    {
      "cell_type": "code",
      "execution_count": 19,
      "metadata": {
        "id": "MHojV0Y_0aG6"
      },
      "outputs": [],
      "source": [
        "train_beneficiary_df['Age'].fillna(round(((pd.to_datetime('2019-12-01', format='%Y-%m-%d') - train_beneficiary_df['DOB']).dt.days)/365), inplace=True)"
      ]
    },
    {
      "cell_type": "code",
      "execution_count": 20,
      "metadata": {
        "colab": {
          "base_uri": "https://localhost:8080/"
        },
        "id": "Lf4eMebF1Fs3",
        "outputId": "f3e550b1-4271-4f23-f29d-cc5e9928301d"
      },
      "outputs": [
        {
          "output_type": "execute_result",
          "data": {
            "text/plain": [
              "0"
            ]
          },
          "metadata": {},
          "execution_count": 20
        }
      ],
      "source": [
        "train_beneficiary_df.Age.isna().sum()"
      ]
    },
    {
      "cell_type": "markdown",
      "metadata": {
        "id": "dE8bWqjG1SaO"
      },
      "source": [
        "## Person's Age on Test dataset"
      ]
    },
    {
      "cell_type": "code",
      "execution_count": 21,
      "metadata": {
        "id": "m4RlSQE61Liq"
      },
      "outputs": [],
      "source": [
        "test_beneficiary_df['DOB'] = pd.to_datetime(test_beneficiary_df['DOB'], format = '%Y-%m-%d')\n",
        "test_beneficiary_df['DOD'] = pd.to_datetime(test_beneficiary_df['DOD'], format = '%Y-%m-%d') \n",
        "test_beneficiary_df['Age'] = round((test_beneficiary_df['DOD'] - test_beneficiary_df['DOB']).dt.days/365)"
      ]
    },
    {
      "cell_type": "code",
      "execution_count": 22,
      "metadata": {
        "colab": {
          "base_uri": "https://localhost:8080/"
        },
        "id": "aX1c4-Ev1bD3",
        "outputId": "ea1bf951-1a12-4100-fb8d-bf37d589a0e3"
      },
      "outputs": [
        {
          "output_type": "execute_result",
          "data": {
            "text/plain": [
              "(63394, 63968)"
            ]
          },
          "metadata": {},
          "execution_count": 22
        }
      ],
      "source": [
        "test_beneficiary_df['Age'].isna().sum(), test_beneficiary_df.shape[0]\n"
      ]
    },
    {
      "cell_type": "code",
      "execution_count": 23,
      "metadata": {
        "colab": {
          "base_uri": "https://localhost:8080/"
        },
        "id": "jqmCkPjX1eJa",
        "outputId": "9f181c73-826f-42eb-f578-bf65154ca60e"
      },
      "outputs": [
        {
          "output_type": "execute_result",
          "data": {
            "text/plain": [
              "574"
            ]
          },
          "metadata": {},
          "execution_count": 23
        }
      ],
      "source": [
        "63968 - 63394 "
      ]
    },
    {
      "cell_type": "markdown",
      "metadata": {
        "id": "Mg-hMWRk1k8z"
      },
      "source": [
        "**Take-away message**\n",
        "\n",
        "In the test dataset, there are 574 beneficiaries that are still alive. We'll calculate their age based on the last recorded date. "
      ]
    },
    {
      "cell_type": "code",
      "execution_count": 24,
      "metadata": {
        "colab": {
          "base_uri": "https://localhost:8080/"
        },
        "id": "p3oEc9sB1jof",
        "outputId": "47dba4bf-6987-49c5-ed93-1d4f5491e063"
      },
      "outputs": [
        {
          "output_type": "execute_result",
          "data": {
            "text/plain": [
              "Timestamp('2009-12-01 00:00:00')"
            ]
          },
          "metadata": {},
          "execution_count": 24
        }
      ],
      "source": [
        "test_beneficiary_df['DOD'].max()\n"
      ]
    },
    {
      "cell_type": "code",
      "execution_count": 25,
      "metadata": {
        "id": "q_WIjbif1zTX"
      },
      "outputs": [],
      "source": [
        "test_beneficiary_df['Age'].fillna(round(((pd.to_datetime('2019-12-01', format='%Y-%m-%d') - test_beneficiary_df['DOB']).dt.days)/365), inplace=True)\n"
      ]
    },
    {
      "cell_type": "code",
      "execution_count": 26,
      "metadata": {
        "colab": {
          "base_uri": "https://localhost:8080/"
        },
        "id": "KG77e0gv15lo",
        "outputId": "bf5d56ec-76ff-4325-84a8-c00571d1d9cb"
      },
      "outputs": [
        {
          "output_type": "execute_result",
          "data": {
            "text/plain": [
              "0"
            ]
          },
          "metadata": {},
          "execution_count": 26
        }
      ],
      "source": [
        "test_beneficiary_df.Age.isna().sum()\n"
      ]
    },
    {
      "cell_type": "markdown",
      "metadata": {
        "id": "Adb_wHlQ1_8u"
      },
      "source": [
        "## Add dead flag column"
      ]
    },
    {
      "cell_type": "code",
      "execution_count": 27,
      "metadata": {
        "colab": {
          "base_uri": "https://localhost:8080/"
        },
        "id": "Gw5gthr-2VL1",
        "outputId": "6f356dd1-494b-4651-f03d-c562f9e1cfc8"
      },
      "outputs": [
        {
          "output_type": "execute_result",
          "data": {
            "text/plain": [
              "(138556, 26)"
            ]
          },
          "metadata": {},
          "execution_count": 27
        }
      ],
      "source": [
        "train_beneficiary_df.shape"
      ]
    },
    {
      "cell_type": "code",
      "execution_count": 28,
      "metadata": {
        "colab": {
          "base_uri": "https://localhost:8080/"
        },
        "id": "ef0gQ2ll2Z2h",
        "outputId": "b2f762be-c002-4a57-8363-01c599140978"
      },
      "outputs": [
        {
          "output_type": "execute_result",
          "data": {
            "text/plain": [
              "(137135, 1421)"
            ]
          },
          "metadata": {},
          "execution_count": 28
        }
      ],
      "source": [
        "train_beneficiary_df['DOD'].isna().sum(), train_beneficiary_df['DOD'].notna().sum()"
      ]
    },
    {
      "cell_type": "code",
      "execution_count": 29,
      "metadata": {
        "id": "r1aHCK1n182y"
      },
      "outputs": [],
      "source": [
        "train_beneficiary_df.loc[train_beneficiary_df['DOD'].isna(), 'DeadOrNot'] = 0 \n",
        "train_beneficiary_df.loc[train_beneficiary_df['DOD'].notna(), 'DeadOrNot'] = 1 "
      ]
    },
    {
      "cell_type": "code",
      "execution_count": 30,
      "metadata": {
        "colab": {
          "base_uri": "https://localhost:8080/"
        },
        "id": "rpKGrvKU2hBg",
        "outputId": "2b4c9aed-3780-4339-d118-201d3441a71c"
      },
      "outputs": [
        {
          "output_type": "execute_result",
          "data": {
            "text/plain": [
              "0.0    137135\n",
              "1.0      1421\n",
              "Name: DeadOrNot, dtype: int64"
            ]
          },
          "metadata": {},
          "execution_count": 30
        }
      ],
      "source": [
        "train_beneficiary_df['DeadOrNot'].value_counts()"
      ]
    },
    {
      "cell_type": "code",
      "execution_count": 31,
      "metadata": {
        "colab": {
          "base_uri": "https://localhost:8080/"
        },
        "id": "iUeqP5qi2jDW",
        "outputId": "38a7f4c2-67fa-4015-fea6-bf1c1baac68b"
      },
      "outputs": [
        {
          "output_type": "execute_result",
          "data": {
            "text/plain": [
              "(63968, 26)"
            ]
          },
          "metadata": {},
          "execution_count": 31
        }
      ],
      "source": [
        "test_beneficiary_df.shape"
      ]
    },
    {
      "cell_type": "code",
      "execution_count": 32,
      "metadata": {
        "colab": {
          "base_uri": "https://localhost:8080/"
        },
        "id": "itKqSJzP2lqc",
        "outputId": "ac259892-e13c-4553-86ad-9623c1b1cd9a"
      },
      "outputs": [
        {
          "output_type": "execute_result",
          "data": {
            "text/plain": [
              "(63394, 574)"
            ]
          },
          "metadata": {},
          "execution_count": 32
        }
      ],
      "source": [
        "test_beneficiary_df['DOD'].isna().sum(), test_beneficiary_df['DOD'].notna().sum()\n"
      ]
    },
    {
      "cell_type": "code",
      "execution_count": 33,
      "metadata": {
        "id": "mj_ecHe02ofz"
      },
      "outputs": [],
      "source": [
        "test_beneficiary_df.loc[test_beneficiary_df['DOD'].isna(), 'DeadOrNot'] = 0 \n",
        "test_beneficiary_df.loc[test_beneficiary_df['DOD'].notna(), 'DeadOrNot'] = 1 "
      ]
    },
    {
      "cell_type": "code",
      "execution_count": 34,
      "metadata": {
        "colab": {
          "base_uri": "https://localhost:8080/"
        },
        "id": "HmoBBY312ux-",
        "outputId": "4e67ca0d-1279-4757-9a30-3fbe047243fc"
      },
      "outputs": [
        {
          "output_type": "execute_result",
          "data": {
            "text/plain": [
              "0.0    63394\n",
              "1.0      574\n",
              "Name: DeadOrNot, dtype: int64"
            ]
          },
          "metadata": {},
          "execution_count": 34
        }
      ],
      "source": [
        "test_beneficiary_df['DeadOrNot'].value_counts()"
      ]
    },
    {
      "cell_type": "markdown",
      "metadata": {
        "id": "kuG1F9Zc299m"
      },
      "source": [
        "# Data Engineering for in-patient dataset"
      ]
    },
    {
      "cell_type": "markdown",
      "metadata": {
        "id": "ompT3vdq5AHX"
      },
      "source": [
        "**Calculating Admitted Days**\n",
        "\n",
        "Creating a new feature 'AdmittedDays' based on AdmissionDt and DischargeDt"
      ]
    },
    {
      "cell_type": "code",
      "execution_count": 35,
      "metadata": {
        "id": "-Da3cxEw2y7d"
      },
      "outputs": [],
      "source": [
        "train_inpatient_df['AdmissionDt'] = pd.to_datetime(train_inpatient_df['AdmissionDt'], format='%Y-%m-%d')\n",
        "train_inpatient_df['DischargeDt'] = pd.to_datetime(train_inpatient_df['DischargeDt'], format='%Y-%m-%d')\n",
        "train_inpatient_df['AdmittedDays'] = round((train_inpatient_df['DischargeDt'] - train_inpatient_df['AdmissionDt']).dt.days + 1) \n",
        "                                           \n",
        "test_inpatient_df['AdmissionDt'] = pd.to_datetime(test_inpatient_df['AdmissionDt'], format='%Y-%m-%d')\n",
        "test_inpatient_df['DischargeDt'] = pd.to_datetime(test_inpatient_df['DischargeDt'], format='%Y-%m-%d')\n",
        "test_inpatient_df['AdmittedDays'] = round((test_inpatient_df['DischargeDt'] - test_inpatient_df['AdmissionDt']).dt.days + 1)"
      ]
    },
    {
      "cell_type": "code",
      "execution_count": 36,
      "metadata": {
        "colab": {
          "base_uri": "https://localhost:8080/"
        },
        "id": "Uryplkq65dRL",
        "outputId": "8c17ca3a-ab1d-4588-8481-17f7dd52ab36"
      },
      "outputs": [
        {
          "output_type": "execute_result",
          "data": {
            "text/plain": [
              "0"
            ]
          },
          "metadata": {},
          "execution_count": 36
        }
      ],
      "source": [
        "train_inpatient_df['AdmittedDays'].isna().sum()"
      ]
    },
    {
      "cell_type": "code",
      "execution_count": 37,
      "metadata": {
        "colab": {
          "base_uri": "https://localhost:8080/"
        },
        "id": "eiHytc6Z5keN",
        "outputId": "17f16c98-0a1b-4b91-b5a1-8a88dc1624d8"
      },
      "outputs": [
        {
          "output_type": "execute_result",
          "data": {
            "text/plain": [
              "0"
            ]
          },
          "metadata": {},
          "execution_count": 37
        }
      ],
      "source": [
        "test_inpatient_df['AdmittedDays'].isna().sum()"
      ]
    },
    {
      "cell_type": "markdown",
      "metadata": {
        "id": "8nT0eeKC5sJC"
      },
      "source": [
        "# Merging Inpatient and Outpatient dataset"
      ]
    },
    {
      "cell_type": "code",
      "execution_count": 38,
      "metadata": {
        "colab": {
          "base_uri": "https://localhost:8080/"
        },
        "id": "Y6h1yFk85mLF",
        "outputId": "3cc34135-d8e3-4e3f-a4cf-64d27b4e646f"
      },
      "outputs": [
        {
          "output_type": "execute_result",
          "data": {
            "text/plain": [
              "['BeneID',\n",
              " 'ClaimID',\n",
              " 'ClaimStartDt',\n",
              " 'ClaimEndDt',\n",
              " 'Provider',\n",
              " 'InscClaimAmtReimbursed',\n",
              " 'AttendingPhysician',\n",
              " 'OperatingPhysician',\n",
              " 'OtherPhysician',\n",
              " 'ClmDiagnosisCode_1',\n",
              " 'ClmDiagnosisCode_2',\n",
              " 'ClmDiagnosisCode_3',\n",
              " 'ClmDiagnosisCode_4',\n",
              " 'ClmDiagnosisCode_5',\n",
              " 'ClmDiagnosisCode_6',\n",
              " 'ClmDiagnosisCode_7',\n",
              " 'ClmDiagnosisCode_8',\n",
              " 'ClmDiagnosisCode_9',\n",
              " 'ClmDiagnosisCode_10',\n",
              " 'ClmProcedureCode_1',\n",
              " 'ClmProcedureCode_2',\n",
              " 'ClmProcedureCode_3',\n",
              " 'ClmProcedureCode_4',\n",
              " 'ClmProcedureCode_5',\n",
              " 'ClmProcedureCode_6',\n",
              " 'DeductibleAmtPaid',\n",
              " 'ClmAdmitDiagnosisCode']"
            ]
          },
          "metadata": {},
          "execution_count": 38
        }
      ],
      "source": [
        "key_columns_to_merge = list(train_outpatient_df.columns)\n",
        "key_columns_to_merge"
      ]
    },
    {
      "cell_type": "code",
      "execution_count": 39,
      "metadata": {
        "colab": {
          "base_uri": "https://localhost:8080/"
        },
        "id": "aoVwnxwr57wz",
        "outputId": "78ed6f69-a0d2-4b5f-9d3f-12dcaf15cc09"
      },
      "outputs": [
        {
          "output_type": "execute_result",
          "data": {
            "text/plain": [
              "(558211, 31)"
            ]
          },
          "metadata": {},
          "execution_count": 39
        }
      ],
      "source": [
        "train_merged_patient_data = train_inpatient_df.merge(train_outpatient_df, on=key_columns_to_merge, how='outer')\n",
        "train_merged_patient_data.shape"
      ]
    },
    {
      "cell_type": "code",
      "execution_count": 40,
      "metadata": {
        "colab": {
          "base_uri": "https://localhost:8080/"
        },
        "id": "ktYtadI36BGL",
        "outputId": "5dbb514a-fac3-4a55-d1a2-a1f42738e787"
      },
      "outputs": [
        {
          "output_type": "execute_result",
          "data": {
            "text/plain": [
              "['BeneID',\n",
              " 'ClaimID',\n",
              " 'ClaimStartDt',\n",
              " 'ClaimEndDt',\n",
              " 'Provider',\n",
              " 'InscClaimAmtReimbursed',\n",
              " 'AttendingPhysician',\n",
              " 'OperatingPhysician',\n",
              " 'OtherPhysician',\n",
              " 'ClmDiagnosisCode_1',\n",
              " 'ClmDiagnosisCode_2',\n",
              " 'ClmDiagnosisCode_3',\n",
              " 'ClmDiagnosisCode_4',\n",
              " 'ClmDiagnosisCode_5',\n",
              " 'ClmDiagnosisCode_6',\n",
              " 'ClmDiagnosisCode_7',\n",
              " 'ClmDiagnosisCode_8',\n",
              " 'ClmDiagnosisCode_9',\n",
              " 'ClmDiagnosisCode_10',\n",
              " 'ClmProcedureCode_1',\n",
              " 'ClmProcedureCode_2',\n",
              " 'ClmProcedureCode_3',\n",
              " 'ClmProcedureCode_4',\n",
              " 'ClmProcedureCode_5',\n",
              " 'ClmProcedureCode_6',\n",
              " 'DeductibleAmtPaid',\n",
              " 'ClmAdmitDiagnosisCode']"
            ]
          },
          "metadata": {},
          "execution_count": 40
        }
      ],
      "source": [
        "key_columns_to_merge_test = list(test_outpatient_df.columns)\n",
        "key_columns_to_merge_test"
      ]
    },
    {
      "cell_type": "code",
      "execution_count": 41,
      "metadata": {
        "colab": {
          "base_uri": "https://localhost:8080/"
        },
        "id": "KevcSS2j6KIt",
        "outputId": "5dc116cd-a959-4410-bd32-9c151f030d55"
      },
      "outputs": [
        {
          "output_type": "execute_result",
          "data": {
            "text/plain": [
              "(135392, 31)"
            ]
          },
          "metadata": {},
          "execution_count": 41
        }
      ],
      "source": [
        "test_merged_patient_data = test_inpatient_df.merge(test_outpatient_df, on=key_columns_to_merge_test, how='outer')\n",
        "test_merged_patient_data.shape"
      ]
    },
    {
      "cell_type": "markdown",
      "metadata": {
        "id": "1JNH-YWp6fru"
      },
      "source": [
        "# Merging Beneficiary with All-patient data"
      ]
    },
    {
      "cell_type": "code",
      "execution_count": 42,
      "metadata": {
        "colab": {
          "base_uri": "https://localhost:8080/"
        },
        "id": "SVW5kY-66WG6",
        "outputId": "2f4df00f-a596-4274-d1c1-f8732cd8c2f1"
      },
      "outputs": [
        {
          "output_type": "execute_result",
          "data": {
            "text/plain": [
              "(558211, 57)"
            ]
          },
          "metadata": {},
          "execution_count": 42
        }
      ],
      "source": [
        "trainAllPatientDetailsData = train_merged_patient_data.merge(train_beneficiary_df, on='BeneID', how='inner')\n",
        "trainAllPatientDetailsData.shape"
      ]
    },
    {
      "cell_type": "code",
      "execution_count": 43,
      "metadata": {
        "colab": {
          "base_uri": "https://localhost:8080/"
        },
        "id": "jQD5SlSx6uMm",
        "outputId": "d96ba51f-c3e3-484b-86e5-28ce64eed3ca"
      },
      "outputs": [
        {
          "output_type": "execute_result",
          "data": {
            "text/plain": [
              "(135392, 57)"
            ]
          },
          "metadata": {},
          "execution_count": 43
        }
      ],
      "source": [
        "testAllPatientDetailsData = test_merged_patient_data.merge(test_beneficiary_df, on='BeneID', how='inner')\n",
        "testAllPatientDetailsData.shape"
      ]
    },
    {
      "cell_type": "markdown",
      "metadata": {
        "id": "7As_Ff3m673K"
      },
      "source": [
        "# Merging all-patients data with provider data with fraud label"
      ]
    },
    {
      "cell_type": "code",
      "execution_count": 44,
      "metadata": {
        "colab": {
          "base_uri": "https://localhost:8080/"
        },
        "id": "hYCtce9H643C",
        "outputId": "4a6842e7-f390-41ae-d7ed-306c2d25305a"
      },
      "outputs": [
        {
          "output_type": "execute_result",
          "data": {
            "text/plain": [
              "(558211, 58)"
            ]
          },
          "metadata": {},
          "execution_count": 44
        }
      ],
      "source": [
        "trainAllPatientDetailsProvider = trainAllPatientDetailsData.merge(train_df, on='Provider', how='inner')\n",
        "trainAllPatientDetailsProvider.shape"
      ]
    },
    {
      "cell_type": "code",
      "execution_count": 45,
      "metadata": {
        "colab": {
          "base_uri": "https://localhost:8080/"
        },
        "id": "4S-99DU67HMl",
        "outputId": "4db51442-ee28-4496-cc01-d585a33b20d8"
      },
      "outputs": [
        {
          "output_type": "execute_result",
          "data": {
            "text/plain": [
              "(135392, 57)"
            ]
          },
          "metadata": {},
          "execution_count": 45
        }
      ],
      "source": [
        "testAllPatientDetailsProvider = testAllPatientDetailsData.merge(test_df, on='Provider', how='inner')\n",
        "testAllPatientDetailsProvider.shape"
      ]
    },
    {
      "cell_type": "code",
      "execution_count": 46,
      "metadata": {
        "id": "7x-wikO77T3x"
      },
      "outputs": [],
      "source": [
        "test_columns = list(testAllPatientDetailsProvider.columns)"
      ]
    },
    {
      "cell_type": "code",
      "execution_count": 47,
      "metadata": {
        "id": "sJKmpLjt7bB7"
      },
      "outputs": [],
      "source": [
        "train_columns = trainAllPatientDetailsProvider.columns"
      ]
    },
    {
      "cell_type": "code",
      "execution_count": 48,
      "metadata": {
        "colab": {
          "base_uri": "https://localhost:8080/"
        },
        "id": "kZbfcFdb7fBW",
        "outputId": "bef2dc6b-d8bf-4a28-8afa-38832c663848"
      },
      "outputs": [
        {
          "output_type": "execute_result",
          "data": {
            "text/plain": [
              "['PotentialFraud']"
            ]
          },
          "metadata": {},
          "execution_count": 48
        }
      ],
      "source": [
        "[test for test in train_columns if test not in test_columns]"
      ]
    },
    {
      "cell_type": "code",
      "execution_count": 49,
      "metadata": {
        "colab": {
          "base_uri": "https://localhost:8080/",
          "height": 206
        },
        "id": "xM2L1BWG8ykK",
        "outputId": "7d9c9b55-b217-4bdc-fffc-3256edcdb305"
      },
      "outputs": [
        {
          "output_type": "execute_result",
          "data": {
            "text/plain": [
              "   Provider\n",
              "0  PRV51002\n",
              "1  PRV51006\n",
              "2  PRV51009\n",
              "3  PRV51010\n",
              "4  PRV51018"
            ],
            "text/html": [
              "\n",
              "  <div id=\"df-bb3f1bc0-a7c8-48f1-827f-4f5053ee1ec7\">\n",
              "    <div class=\"colab-df-container\">\n",
              "      <div>\n",
              "<style scoped>\n",
              "    .dataframe tbody tr th:only-of-type {\n",
              "        vertical-align: middle;\n",
              "    }\n",
              "\n",
              "    .dataframe tbody tr th {\n",
              "        vertical-align: top;\n",
              "    }\n",
              "\n",
              "    .dataframe thead th {\n",
              "        text-align: right;\n",
              "    }\n",
              "</style>\n",
              "<table border=\"1\" class=\"dataframe\">\n",
              "  <thead>\n",
              "    <tr style=\"text-align: right;\">\n",
              "      <th></th>\n",
              "      <th>Provider</th>\n",
              "    </tr>\n",
              "  </thead>\n",
              "  <tbody>\n",
              "    <tr>\n",
              "      <th>0</th>\n",
              "      <td>PRV51002</td>\n",
              "    </tr>\n",
              "    <tr>\n",
              "      <th>1</th>\n",
              "      <td>PRV51006</td>\n",
              "    </tr>\n",
              "    <tr>\n",
              "      <th>2</th>\n",
              "      <td>PRV51009</td>\n",
              "    </tr>\n",
              "    <tr>\n",
              "      <th>3</th>\n",
              "      <td>PRV51010</td>\n",
              "    </tr>\n",
              "    <tr>\n",
              "      <th>4</th>\n",
              "      <td>PRV51018</td>\n",
              "    </tr>\n",
              "  </tbody>\n",
              "</table>\n",
              "</div>\n",
              "      <button class=\"colab-df-convert\" onclick=\"convertToInteractive('df-bb3f1bc0-a7c8-48f1-827f-4f5053ee1ec7')\"\n",
              "              title=\"Convert this dataframe to an interactive table.\"\n",
              "              style=\"display:none;\">\n",
              "        \n",
              "  <svg xmlns=\"http://www.w3.org/2000/svg\" height=\"24px\"viewBox=\"0 0 24 24\"\n",
              "       width=\"24px\">\n",
              "    <path d=\"M0 0h24v24H0V0z\" fill=\"none\"/>\n",
              "    <path d=\"M18.56 5.44l.94 2.06.94-2.06 2.06-.94-2.06-.94-.94-2.06-.94 2.06-2.06.94zm-11 1L8.5 8.5l.94-2.06 2.06-.94-2.06-.94L8.5 2.5l-.94 2.06-2.06.94zm10 10l.94 2.06.94-2.06 2.06-.94-2.06-.94-.94-2.06-.94 2.06-2.06.94z\"/><path d=\"M17.41 7.96l-1.37-1.37c-.4-.4-.92-.59-1.43-.59-.52 0-1.04.2-1.43.59L10.3 9.45l-7.72 7.72c-.78.78-.78 2.05 0 2.83L4 21.41c.39.39.9.59 1.41.59.51 0 1.02-.2 1.41-.59l7.78-7.78 2.81-2.81c.8-.78.8-2.07 0-2.86zM5.41 20L4 18.59l7.72-7.72 1.47 1.35L5.41 20z\"/>\n",
              "  </svg>\n",
              "      </button>\n",
              "      \n",
              "  <style>\n",
              "    .colab-df-container {\n",
              "      display:flex;\n",
              "      flex-wrap:wrap;\n",
              "      gap: 12px;\n",
              "    }\n",
              "\n",
              "    .colab-df-convert {\n",
              "      background-color: #E8F0FE;\n",
              "      border: none;\n",
              "      border-radius: 50%;\n",
              "      cursor: pointer;\n",
              "      display: none;\n",
              "      fill: #1967D2;\n",
              "      height: 32px;\n",
              "      padding: 0 0 0 0;\n",
              "      width: 32px;\n",
              "    }\n",
              "\n",
              "    .colab-df-convert:hover {\n",
              "      background-color: #E2EBFA;\n",
              "      box-shadow: 0px 1px 2px rgba(60, 64, 67, 0.3), 0px 1px 3px 1px rgba(60, 64, 67, 0.15);\n",
              "      fill: #174EA6;\n",
              "    }\n",
              "\n",
              "    [theme=dark] .colab-df-convert {\n",
              "      background-color: #3B4455;\n",
              "      fill: #D2E3FC;\n",
              "    }\n",
              "\n",
              "    [theme=dark] .colab-df-convert:hover {\n",
              "      background-color: #434B5C;\n",
              "      box-shadow: 0px 1px 3px 1px rgba(0, 0, 0, 0.15);\n",
              "      filter: drop-shadow(0px 1px 2px rgba(0, 0, 0, 0.3));\n",
              "      fill: #FFFFFF;\n",
              "    }\n",
              "  </style>\n",
              "\n",
              "      <script>\n",
              "        const buttonEl =\n",
              "          document.querySelector('#df-bb3f1bc0-a7c8-48f1-827f-4f5053ee1ec7 button.colab-df-convert');\n",
              "        buttonEl.style.display =\n",
              "          google.colab.kernel.accessAllowed ? 'block' : 'none';\n",
              "\n",
              "        async function convertToInteractive(key) {\n",
              "          const element = document.querySelector('#df-bb3f1bc0-a7c8-48f1-827f-4f5053ee1ec7');\n",
              "          const dataTable =\n",
              "            await google.colab.kernel.invokeFunction('convertToInteractive',\n",
              "                                                     [key], {});\n",
              "          if (!dataTable) return;\n",
              "\n",
              "          const docLinkHtml = 'Like what you see? Visit the ' +\n",
              "            '<a target=\"_blank\" href=https://colab.research.google.com/notebooks/data_table.ipynb>data table notebook</a>'\n",
              "            + ' to learn more about interactive tables.';\n",
              "          element.innerHTML = '';\n",
              "          dataTable['output_type'] = 'display_data';\n",
              "          await google.colab.output.renderOutput(dataTable, element);\n",
              "          const docLink = document.createElement('div');\n",
              "          docLink.innerHTML = docLinkHtml;\n",
              "          element.appendChild(docLink);\n",
              "        }\n",
              "      </script>\n",
              "    </div>\n",
              "  </div>\n",
              "  "
            ]
          },
          "metadata": {},
          "execution_count": 49
        }
      ],
      "source": [
        "test_df.head()"
      ]
    },
    {
      "cell_type": "markdown",
      "metadata": {
        "id": "RmjNzKEg9Krk"
      },
      "source": [
        "# Missing value information in final dataset"
      ]
    },
    {
      "cell_type": "code",
      "execution_count": 50,
      "metadata": {
        "colab": {
          "base_uri": "https://localhost:8080/"
        },
        "id": "2dyyjR3M86xs",
        "outputId": "fdfb5674-d426-4ed9-a43a-199c6f16e13b"
      },
      "outputs": [
        {
          "output_type": "execute_result",
          "data": {
            "text/plain": [
              "BeneID                               0.000000\n",
              "ClaimID                              0.000000\n",
              "ClaimStartDt                         0.000000\n",
              "ClaimEndDt                           0.000000\n",
              "Provider                             0.000000\n",
              "InscClaimAmtReimbursed               0.000000\n",
              "AttendingPhysician                   0.270149\n",
              "OperatingPhysician                  79.497538\n",
              "OtherPhysician                      64.218548\n",
              "AdmissionDt                         92.749337\n",
              "ClmAdmitDiagnosisCode               73.863109\n",
              "DeductibleAmtPaid                    0.161050\n",
              "DischargeDt                         92.749337\n",
              "DiagnosisGroupCode                  92.749337\n",
              "ClmDiagnosisCode_1                   1.872589\n",
              "ClmDiagnosisCode_2                  35.041588\n",
              "ClmDiagnosisCode_3                  56.458221\n",
              "ClmDiagnosisCode_4                  70.524407\n",
              "ClmDiagnosisCode_5                  79.949517\n",
              "ClmDiagnosisCode_6                  84.881702\n",
              "ClmDiagnosisCode_7                  88.144805\n",
              "ClmDiagnosisCode_8                  90.425843\n",
              "ClmDiagnosisCode_9                  92.509105\n",
              "ClmDiagnosisCode_10                 99.102490\n",
              "ClmProcedureCode_1                  95.824160\n",
              "ClmProcedureCode_2                  99.016501\n",
              "ClmProcedureCode_3                  99.826410\n",
              "ClmProcedureCode_4                  99.978861\n",
              "ClmProcedureCode_5                  99.998388\n",
              "ClmProcedureCode_6                 100.000000\n",
              "AdmittedDays                        92.749337\n",
              "DOB                                  0.000000\n",
              "DOD                                 99.259957\n",
              "Gender                               0.000000\n",
              "Race                                 0.000000\n",
              "RenalDiseaseIndicator                0.000000\n",
              "State                                0.000000\n",
              "County                               0.000000\n",
              "NoOfMonths_PartACov                  0.000000\n",
              "NoOfMonths_PartBCov                  0.000000\n",
              "ChronicCond_Alzheimer                0.000000\n",
              "ChronicCond_Heartfailure             0.000000\n",
              "ChronicCond_KidneyDisease            0.000000\n",
              "ChronicCond_Cancer                   0.000000\n",
              "ChronicCond_ObstrPulmonary           0.000000\n",
              "ChronicCond_Depression               0.000000\n",
              "ChronicCond_Diabetes                 0.000000\n",
              "ChronicCond_IschemicHeart            0.000000\n",
              "ChronicCond_Osteoporasis             0.000000\n",
              "ChronicCond_rheumatoidarthritis      0.000000\n",
              "ChronicCond_stroke                   0.000000\n",
              "IPAnnualReimbursementAmt             0.000000\n",
              "IPAnnualDeductibleAmt                0.000000\n",
              "OPAnnualReimbursementAmt             0.000000\n",
              "OPAnnualDeductibleAmt                0.000000\n",
              "Age                                  0.000000\n",
              "DeadOrNot                            0.000000\n",
              "PotentialFraud                       0.000000\n",
              "dtype: float64"
            ]
          },
          "metadata": {},
          "execution_count": 50
        }
      ],
      "source": [
        "trainAllPatientDetailsProvider.isna().sum()*100/len(trainAllPatientDetailsProvider)"
      ]
    },
    {
      "cell_type": "code",
      "execution_count": 51,
      "metadata": {
        "colab": {
          "base_uri": "https://localhost:8080/"
        },
        "id": "VptE4idA9P65",
        "outputId": "1feab66d-e6ef-43b5-bf7d-dca12b0f60b6"
      },
      "outputs": [
        {
          "output_type": "execute_result",
          "data": {
            "text/plain": [
              "BeneID                               0.000000\n",
              "ClaimID                              0.000000\n",
              "ClaimStartDt                         0.000000\n",
              "ClaimEndDt                           0.000000\n",
              "Provider                             0.000000\n",
              "InscClaimAmtReimbursed               0.000000\n",
              "AttendingPhysician                   0.256293\n",
              "OperatingPhysician                  79.915357\n",
              "OtherPhysician                      64.080596\n",
              "AdmissionDt                         92.945669\n",
              "ClmAdmitDiagnosisCode               73.886197\n",
              "DeductibleAmtPaid                    0.144765\n",
              "DischargeDt                         92.945669\n",
              "DiagnosisGroupCode                  92.945669\n",
              "ClmDiagnosisCode_1                   1.904101\n",
              "ClmDiagnosisCode_2                  35.293814\n",
              "ClmDiagnosisCode_3                  56.682817\n",
              "ClmDiagnosisCode_4                  70.739039\n",
              "ClmDiagnosisCode_5                  80.207102\n",
              "ClmDiagnosisCode_6                  85.109903\n",
              "ClmDiagnosisCode_7                  88.341261\n",
              "ClmDiagnosisCode_8                  90.603581\n",
              "ClmDiagnosisCode_9                  92.705625\n",
              "ClmDiagnosisCode_10                 99.150615\n",
              "ClmProcedureCode_1                  95.962095\n",
              "ClmProcedureCode_2                  99.067153\n",
              "ClmProcedureCode_3                  99.833816\n",
              "ClmProcedureCode_4                  99.978581\n",
              "ClmProcedureCode_5                  99.998523\n",
              "ClmProcedureCode_6                 100.000000\n",
              "AdmittedDays                        92.945669\n",
              "DOB                                  0.000000\n",
              "DOD                                 99.231860\n",
              "Gender                               0.000000\n",
              "Race                                 0.000000\n",
              "RenalDiseaseIndicator                0.000000\n",
              "State                                0.000000\n",
              "County                               0.000000\n",
              "NoOfMonths_PartACov                  0.000000\n",
              "NoOfMonths_PartBCov                  0.000000\n",
              "ChronicCond_Alzheimer                0.000000\n",
              "ChronicCond_Heartfailure             0.000000\n",
              "ChronicCond_KidneyDisease            0.000000\n",
              "ChronicCond_Cancer                   0.000000\n",
              "ChronicCond_ObstrPulmonary           0.000000\n",
              "ChronicCond_Depression               0.000000\n",
              "ChronicCond_Diabetes                 0.000000\n",
              "ChronicCond_IschemicHeart            0.000000\n",
              "ChronicCond_Osteoporasis             0.000000\n",
              "ChronicCond_rheumatoidarthritis      0.000000\n",
              "ChronicCond_stroke                   0.000000\n",
              "IPAnnualReimbursementAmt             0.000000\n",
              "IPAnnualDeductibleAmt                0.000000\n",
              "OPAnnualReimbursementAmt             0.000000\n",
              "OPAnnualDeductibleAmt                0.000000\n",
              "Age                                  0.000000\n",
              "DeadOrNot                            0.000000\n",
              "dtype: float64"
            ]
          },
          "metadata": {},
          "execution_count": 51
        }
      ],
      "source": [
        "testAllPatientDetailsProvider.isna().sum()*100/len(testAllPatientDetailsProvider)"
      ]
    },
    {
      "cell_type": "markdown",
      "metadata": {
        "id": "pHetZKjX-22k"
      },
      "source": [
        "# Feature Engineering"
      ]
    },
    {
      "cell_type": "code",
      "execution_count": 52,
      "metadata": {
        "colab": {
          "base_uri": "https://localhost:8080/",
          "height": 357
        },
        "id": "hxsa3YSpAWdz",
        "outputId": "54eb5c0a-fc48-4b4f-a119-f1bf09556315"
      },
      "outputs": [
        {
          "output_type": "execute_result",
          "data": {
            "text/plain": [
              "      BeneID    ClaimID ClaimStartDt  ClaimEndDt  Provider  \\\n",
              "0  BENE11001   CLM46614   2009-04-12  2009-04-18  PRV55912   \n",
              "1  BENE16973  CLM565430   2009-09-06  2009-09-06  PRV55912   \n",
              "2  BENE17521   CLM34721   2009-01-20  2009-02-01  PRV55912   \n",
              "3  BENE21718   CLM72336   2009-10-17  2009-11-04  PRV55912   \n",
              "4  BENE22934   CLM73394   2009-10-25  2009-10-29  PRV55912   \n",
              "\n",
              "   InscClaimAmtReimbursed AttendingPhysician OperatingPhysician  \\\n",
              "0                   26000          PHY390922                NaN   \n",
              "1                      50          PHY365867          PHY327147   \n",
              "2                   19000          PHY349293          PHY370861   \n",
              "3                   17000          PHY334706          PHY334706   \n",
              "4                   13000          PHY390614          PHY323689   \n",
              "\n",
              "  OtherPhysician AdmissionDt ClmAdmitDiagnosisCode  DeductibleAmtPaid  \\\n",
              "0            NaN  2009-04-12                  7866             1068.0   \n",
              "1            NaN         NaT                   NaN                0.0   \n",
              "2      PHY363291  2009-01-20                 45340             1068.0   \n",
              "3            NaN  2009-10-17                 V5789             1068.0   \n",
              "4      PHY363291  2009-10-25                 71946             1068.0   \n",
              "\n",
              "  DischargeDt DiagnosisGroupCode ClmDiagnosisCode_1 ClmDiagnosisCode_2  \\\n",
              "0  2009-04-18                201               1970               4019   \n",
              "1         NaT                NaN              V7183              53081   \n",
              "2  2009-02-01                987               4240               2639   \n",
              "3  2009-11-04                941              V5789               4168   \n",
              "4  2009-10-29                506              71535              71960   \n",
              "\n",
              "  ClmDiagnosisCode_3 ClmDiagnosisCode_4 ClmDiagnosisCode_5 ClmDiagnosisCode_6  \\\n",
              "0               5853               7843               2768              71590   \n",
              "1              78959               4280              E8788              78079   \n",
              "2               2948              40390              45821              28489   \n",
              "3              73313               7812               7993              78830   \n",
              "4               4019              V1202               4240               2449   \n",
              "\n",
              "  ClmDiagnosisCode_7 ClmDiagnosisCode_8 ClmDiagnosisCode_9  \\\n",
              "0               2724              19889               5849   \n",
              "1              79902              25002              71848   \n",
              "2               5854               2753              E9305   \n",
              "3              72273              43812               4019   \n",
              "4               2768                NaN                NaN   \n",
              "\n",
              "  ClmDiagnosisCode_10  ClmProcedureCode_1  ClmProcedureCode_2  \\\n",
              "0                 NaN                 NaN                 NaN   \n",
              "1                 NaN                 NaN                 NaN   \n",
              "2                 NaN              7769.0              5849.0   \n",
              "3                 NaN              9338.0                 NaN   \n",
              "4                 NaN              8154.0                 NaN   \n",
              "\n",
              "   ClmProcedureCode_3  ClmProcedureCode_4  ClmProcedureCode_5  \\\n",
              "0                 NaN                 NaN                 NaN   \n",
              "1                 NaN                 NaN                 NaN   \n",
              "2                 NaN                 NaN                 NaN   \n",
              "3                 NaN                 NaN                 NaN   \n",
              "4                 NaN                 NaN                 NaN   \n",
              "\n",
              "   ClmProcedureCode_6  AdmittedDays        DOB DOD  Gender  Race  \\\n",
              "0                 NaN           7.0 1943-01-01 NaT       1     1   \n",
              "1                 NaN           NaN 1932-05-01 NaT       1     1   \n",
              "2                 NaN          13.0 1913-12-01 NaT       2     1   \n",
              "3                 NaN          19.0 1922-10-01 NaT       1     1   \n",
              "4                 NaN           5.0 1930-07-01 NaT       2     1   \n",
              "\n",
              "  RenalDiseaseIndicator  State  County  NoOfMonths_PartACov  \\\n",
              "0                     0     39     230                   12   \n",
              "1                     0     39     310                   12   \n",
              "2                     0     39     230                   12   \n",
              "3                     0     39     600                   12   \n",
              "4                     0     39     280                   12   \n",
              "\n",
              "   NoOfMonths_PartBCov  ChronicCond_Alzheimer  ChronicCond_Heartfailure  \\\n",
              "0                   12                      1                         0   \n",
              "1                   12                      1                         1   \n",
              "2                   12                      1                         1   \n",
              "3                   12                      0                         0   \n",
              "4                   12                      0                         1   \n",
              "\n",
              "   ChronicCond_KidneyDisease  ChronicCond_Cancer  ChronicCond_ObstrPulmonary  \\\n",
              "0                          1                   0                           0   \n",
              "1                          1                   0                           0   \n",
              "2                          1                   0                           1   \n",
              "3                          0                   0                           0   \n",
              "4                          0                   0                           1   \n",
              "\n",
              "   ChronicCond_Depression  ChronicCond_Diabetes  ChronicCond_IschemicHeart  \\\n",
              "0                       1                     1                          1   \n",
              "1                       0                     0                          1   \n",
              "2                       0                     0                          1   \n",
              "3                       0                     0                          1   \n",
              "4                       0                     1                          1   \n",
              "\n",
              "   ChronicCond_Osteoporasis  ChronicCond_rheumatoidarthritis  \\\n",
              "0                         0                                1   \n",
              "1                         0                                0   \n",
              "2                         0                                0   \n",
              "3                         1                                0   \n",
              "4                         1                                1   \n",
              "\n",
              "   ChronicCond_stroke  IPAnnualReimbursementAmt  IPAnnualDeductibleAmt  \\\n",
              "0                   1                     36000                   3204   \n",
              "1                   0                     24000                   2136   \n",
              "2                   0                     19000                   1068   \n",
              "3                   0                     17000                   1068   \n",
              "4                   0                     27000                   2136   \n",
              "\n",
              "   OPAnnualReimbursementAmt  OPAnnualDeductibleAmt    Age  DeadOrNot  \\\n",
              "0                        60                     70   77.0        0.0   \n",
              "1                       450                    200   88.0        0.0   \n",
              "2                       100                     20  106.0        0.0   \n",
              "3                      1050                    540   97.0        0.0   \n",
              "4                       450                    160   89.0        0.0   \n",
              "\n",
              "  PotentialFraud  \n",
              "0            Yes  \n",
              "1            Yes  \n",
              "2            Yes  \n",
              "3            Yes  \n",
              "4            Yes  "
            ],
            "text/html": [
              "\n",
              "  <div id=\"df-e1691e49-2417-4fad-8788-f7394166bc3a\">\n",
              "    <div class=\"colab-df-container\">\n",
              "      <div>\n",
              "<style scoped>\n",
              "    .dataframe tbody tr th:only-of-type {\n",
              "        vertical-align: middle;\n",
              "    }\n",
              "\n",
              "    .dataframe tbody tr th {\n",
              "        vertical-align: top;\n",
              "    }\n",
              "\n",
              "    .dataframe thead th {\n",
              "        text-align: right;\n",
              "    }\n",
              "</style>\n",
              "<table border=\"1\" class=\"dataframe\">\n",
              "  <thead>\n",
              "    <tr style=\"text-align: right;\">\n",
              "      <th></th>\n",
              "      <th>BeneID</th>\n",
              "      <th>ClaimID</th>\n",
              "      <th>ClaimStartDt</th>\n",
              "      <th>ClaimEndDt</th>\n",
              "      <th>Provider</th>\n",
              "      <th>InscClaimAmtReimbursed</th>\n",
              "      <th>AttendingPhysician</th>\n",
              "      <th>OperatingPhysician</th>\n",
              "      <th>OtherPhysician</th>\n",
              "      <th>AdmissionDt</th>\n",
              "      <th>ClmAdmitDiagnosisCode</th>\n",
              "      <th>DeductibleAmtPaid</th>\n",
              "      <th>DischargeDt</th>\n",
              "      <th>DiagnosisGroupCode</th>\n",
              "      <th>ClmDiagnosisCode_1</th>\n",
              "      <th>ClmDiagnosisCode_2</th>\n",
              "      <th>ClmDiagnosisCode_3</th>\n",
              "      <th>ClmDiagnosisCode_4</th>\n",
              "      <th>ClmDiagnosisCode_5</th>\n",
              "      <th>ClmDiagnosisCode_6</th>\n",
              "      <th>ClmDiagnosisCode_7</th>\n",
              "      <th>ClmDiagnosisCode_8</th>\n",
              "      <th>ClmDiagnosisCode_9</th>\n",
              "      <th>ClmDiagnosisCode_10</th>\n",
              "      <th>ClmProcedureCode_1</th>\n",
              "      <th>ClmProcedureCode_2</th>\n",
              "      <th>ClmProcedureCode_3</th>\n",
              "      <th>ClmProcedureCode_4</th>\n",
              "      <th>ClmProcedureCode_5</th>\n",
              "      <th>ClmProcedureCode_6</th>\n",
              "      <th>AdmittedDays</th>\n",
              "      <th>DOB</th>\n",
              "      <th>DOD</th>\n",
              "      <th>Gender</th>\n",
              "      <th>Race</th>\n",
              "      <th>RenalDiseaseIndicator</th>\n",
              "      <th>State</th>\n",
              "      <th>County</th>\n",
              "      <th>NoOfMonths_PartACov</th>\n",
              "      <th>NoOfMonths_PartBCov</th>\n",
              "      <th>ChronicCond_Alzheimer</th>\n",
              "      <th>ChronicCond_Heartfailure</th>\n",
              "      <th>ChronicCond_KidneyDisease</th>\n",
              "      <th>ChronicCond_Cancer</th>\n",
              "      <th>ChronicCond_ObstrPulmonary</th>\n",
              "      <th>ChronicCond_Depression</th>\n",
              "      <th>ChronicCond_Diabetes</th>\n",
              "      <th>ChronicCond_IschemicHeart</th>\n",
              "      <th>ChronicCond_Osteoporasis</th>\n",
              "      <th>ChronicCond_rheumatoidarthritis</th>\n",
              "      <th>ChronicCond_stroke</th>\n",
              "      <th>IPAnnualReimbursementAmt</th>\n",
              "      <th>IPAnnualDeductibleAmt</th>\n",
              "      <th>OPAnnualReimbursementAmt</th>\n",
              "      <th>OPAnnualDeductibleAmt</th>\n",
              "      <th>Age</th>\n",
              "      <th>DeadOrNot</th>\n",
              "      <th>PotentialFraud</th>\n",
              "    </tr>\n",
              "  </thead>\n",
              "  <tbody>\n",
              "    <tr>\n",
              "      <th>0</th>\n",
              "      <td>BENE11001</td>\n",
              "      <td>CLM46614</td>\n",
              "      <td>2009-04-12</td>\n",
              "      <td>2009-04-18</td>\n",
              "      <td>PRV55912</td>\n",
              "      <td>26000</td>\n",
              "      <td>PHY390922</td>\n",
              "      <td>NaN</td>\n",
              "      <td>NaN</td>\n",
              "      <td>2009-04-12</td>\n",
              "      <td>7866</td>\n",
              "      <td>1068.0</td>\n",
              "      <td>2009-04-18</td>\n",
              "      <td>201</td>\n",
              "      <td>1970</td>\n",
              "      <td>4019</td>\n",
              "      <td>5853</td>\n",
              "      <td>7843</td>\n",
              "      <td>2768</td>\n",
              "      <td>71590</td>\n",
              "      <td>2724</td>\n",
              "      <td>19889</td>\n",
              "      <td>5849</td>\n",
              "      <td>NaN</td>\n",
              "      <td>NaN</td>\n",
              "      <td>NaN</td>\n",
              "      <td>NaN</td>\n",
              "      <td>NaN</td>\n",
              "      <td>NaN</td>\n",
              "      <td>NaN</td>\n",
              "      <td>7.0</td>\n",
              "      <td>1943-01-01</td>\n",
              "      <td>NaT</td>\n",
              "      <td>1</td>\n",
              "      <td>1</td>\n",
              "      <td>0</td>\n",
              "      <td>39</td>\n",
              "      <td>230</td>\n",
              "      <td>12</td>\n",
              "      <td>12</td>\n",
              "      <td>1</td>\n",
              "      <td>0</td>\n",
              "      <td>1</td>\n",
              "      <td>0</td>\n",
              "      <td>0</td>\n",
              "      <td>1</td>\n",
              "      <td>1</td>\n",
              "      <td>1</td>\n",
              "      <td>0</td>\n",
              "      <td>1</td>\n",
              "      <td>1</td>\n",
              "      <td>36000</td>\n",
              "      <td>3204</td>\n",
              "      <td>60</td>\n",
              "      <td>70</td>\n",
              "      <td>77.0</td>\n",
              "      <td>0.0</td>\n",
              "      <td>Yes</td>\n",
              "    </tr>\n",
              "    <tr>\n",
              "      <th>1</th>\n",
              "      <td>BENE16973</td>\n",
              "      <td>CLM565430</td>\n",
              "      <td>2009-09-06</td>\n",
              "      <td>2009-09-06</td>\n",
              "      <td>PRV55912</td>\n",
              "      <td>50</td>\n",
              "      <td>PHY365867</td>\n",
              "      <td>PHY327147</td>\n",
              "      <td>NaN</td>\n",
              "      <td>NaT</td>\n",
              "      <td>NaN</td>\n",
              "      <td>0.0</td>\n",
              "      <td>NaT</td>\n",
              "      <td>NaN</td>\n",
              "      <td>V7183</td>\n",
              "      <td>53081</td>\n",
              "      <td>78959</td>\n",
              "      <td>4280</td>\n",
              "      <td>E8788</td>\n",
              "      <td>78079</td>\n",
              "      <td>79902</td>\n",
              "      <td>25002</td>\n",
              "      <td>71848</td>\n",
              "      <td>NaN</td>\n",
              "      <td>NaN</td>\n",
              "      <td>NaN</td>\n",
              "      <td>NaN</td>\n",
              "      <td>NaN</td>\n",
              "      <td>NaN</td>\n",
              "      <td>NaN</td>\n",
              "      <td>NaN</td>\n",
              "      <td>1932-05-01</td>\n",
              "      <td>NaT</td>\n",
              "      <td>1</td>\n",
              "      <td>1</td>\n",
              "      <td>0</td>\n",
              "      <td>39</td>\n",
              "      <td>310</td>\n",
              "      <td>12</td>\n",
              "      <td>12</td>\n",
              "      <td>1</td>\n",
              "      <td>1</td>\n",
              "      <td>1</td>\n",
              "      <td>0</td>\n",
              "      <td>0</td>\n",
              "      <td>0</td>\n",
              "      <td>0</td>\n",
              "      <td>1</td>\n",
              "      <td>0</td>\n",
              "      <td>0</td>\n",
              "      <td>0</td>\n",
              "      <td>24000</td>\n",
              "      <td>2136</td>\n",
              "      <td>450</td>\n",
              "      <td>200</td>\n",
              "      <td>88.0</td>\n",
              "      <td>0.0</td>\n",
              "      <td>Yes</td>\n",
              "    </tr>\n",
              "    <tr>\n",
              "      <th>2</th>\n",
              "      <td>BENE17521</td>\n",
              "      <td>CLM34721</td>\n",
              "      <td>2009-01-20</td>\n",
              "      <td>2009-02-01</td>\n",
              "      <td>PRV55912</td>\n",
              "      <td>19000</td>\n",
              "      <td>PHY349293</td>\n",
              "      <td>PHY370861</td>\n",
              "      <td>PHY363291</td>\n",
              "      <td>2009-01-20</td>\n",
              "      <td>45340</td>\n",
              "      <td>1068.0</td>\n",
              "      <td>2009-02-01</td>\n",
              "      <td>987</td>\n",
              "      <td>4240</td>\n",
              "      <td>2639</td>\n",
              "      <td>2948</td>\n",
              "      <td>40390</td>\n",
              "      <td>45821</td>\n",
              "      <td>28489</td>\n",
              "      <td>5854</td>\n",
              "      <td>2753</td>\n",
              "      <td>E9305</td>\n",
              "      <td>NaN</td>\n",
              "      <td>7769.0</td>\n",
              "      <td>5849.0</td>\n",
              "      <td>NaN</td>\n",
              "      <td>NaN</td>\n",
              "      <td>NaN</td>\n",
              "      <td>NaN</td>\n",
              "      <td>13.0</td>\n",
              "      <td>1913-12-01</td>\n",
              "      <td>NaT</td>\n",
              "      <td>2</td>\n",
              "      <td>1</td>\n",
              "      <td>0</td>\n",
              "      <td>39</td>\n",
              "      <td>230</td>\n",
              "      <td>12</td>\n",
              "      <td>12</td>\n",
              "      <td>1</td>\n",
              "      <td>1</td>\n",
              "      <td>1</td>\n",
              "      <td>0</td>\n",
              "      <td>1</td>\n",
              "      <td>0</td>\n",
              "      <td>0</td>\n",
              "      <td>1</td>\n",
              "      <td>0</td>\n",
              "      <td>0</td>\n",
              "      <td>0</td>\n",
              "      <td>19000</td>\n",
              "      <td>1068</td>\n",
              "      <td>100</td>\n",
              "      <td>20</td>\n",
              "      <td>106.0</td>\n",
              "      <td>0.0</td>\n",
              "      <td>Yes</td>\n",
              "    </tr>\n",
              "    <tr>\n",
              "      <th>3</th>\n",
              "      <td>BENE21718</td>\n",
              "      <td>CLM72336</td>\n",
              "      <td>2009-10-17</td>\n",
              "      <td>2009-11-04</td>\n",
              "      <td>PRV55912</td>\n",
              "      <td>17000</td>\n",
              "      <td>PHY334706</td>\n",
              "      <td>PHY334706</td>\n",
              "      <td>NaN</td>\n",
              "      <td>2009-10-17</td>\n",
              "      <td>V5789</td>\n",
              "      <td>1068.0</td>\n",
              "      <td>2009-11-04</td>\n",
              "      <td>941</td>\n",
              "      <td>V5789</td>\n",
              "      <td>4168</td>\n",
              "      <td>73313</td>\n",
              "      <td>7812</td>\n",
              "      <td>7993</td>\n",
              "      <td>78830</td>\n",
              "      <td>72273</td>\n",
              "      <td>43812</td>\n",
              "      <td>4019</td>\n",
              "      <td>NaN</td>\n",
              "      <td>9338.0</td>\n",
              "      <td>NaN</td>\n",
              "      <td>NaN</td>\n",
              "      <td>NaN</td>\n",
              "      <td>NaN</td>\n",
              "      <td>NaN</td>\n",
              "      <td>19.0</td>\n",
              "      <td>1922-10-01</td>\n",
              "      <td>NaT</td>\n",
              "      <td>1</td>\n",
              "      <td>1</td>\n",
              "      <td>0</td>\n",
              "      <td>39</td>\n",
              "      <td>600</td>\n",
              "      <td>12</td>\n",
              "      <td>12</td>\n",
              "      <td>0</td>\n",
              "      <td>0</td>\n",
              "      <td>0</td>\n",
              "      <td>0</td>\n",
              "      <td>0</td>\n",
              "      <td>0</td>\n",
              "      <td>0</td>\n",
              "      <td>1</td>\n",
              "      <td>1</td>\n",
              "      <td>0</td>\n",
              "      <td>0</td>\n",
              "      <td>17000</td>\n",
              "      <td>1068</td>\n",
              "      <td>1050</td>\n",
              "      <td>540</td>\n",
              "      <td>97.0</td>\n",
              "      <td>0.0</td>\n",
              "      <td>Yes</td>\n",
              "    </tr>\n",
              "    <tr>\n",
              "      <th>4</th>\n",
              "      <td>BENE22934</td>\n",
              "      <td>CLM73394</td>\n",
              "      <td>2009-10-25</td>\n",
              "      <td>2009-10-29</td>\n",
              "      <td>PRV55912</td>\n",
              "      <td>13000</td>\n",
              "      <td>PHY390614</td>\n",
              "      <td>PHY323689</td>\n",
              "      <td>PHY363291</td>\n",
              "      <td>2009-10-25</td>\n",
              "      <td>71946</td>\n",
              "      <td>1068.0</td>\n",
              "      <td>2009-10-29</td>\n",
              "      <td>506</td>\n",
              "      <td>71535</td>\n",
              "      <td>71960</td>\n",
              "      <td>4019</td>\n",
              "      <td>V1202</td>\n",
              "      <td>4240</td>\n",
              "      <td>2449</td>\n",
              "      <td>2768</td>\n",
              "      <td>NaN</td>\n",
              "      <td>NaN</td>\n",
              "      <td>NaN</td>\n",
              "      <td>8154.0</td>\n",
              "      <td>NaN</td>\n",
              "      <td>NaN</td>\n",
              "      <td>NaN</td>\n",
              "      <td>NaN</td>\n",
              "      <td>NaN</td>\n",
              "      <td>5.0</td>\n",
              "      <td>1930-07-01</td>\n",
              "      <td>NaT</td>\n",
              "      <td>2</td>\n",
              "      <td>1</td>\n",
              "      <td>0</td>\n",
              "      <td>39</td>\n",
              "      <td>280</td>\n",
              "      <td>12</td>\n",
              "      <td>12</td>\n",
              "      <td>0</td>\n",
              "      <td>1</td>\n",
              "      <td>0</td>\n",
              "      <td>0</td>\n",
              "      <td>1</td>\n",
              "      <td>0</td>\n",
              "      <td>1</td>\n",
              "      <td>1</td>\n",
              "      <td>1</td>\n",
              "      <td>1</td>\n",
              "      <td>0</td>\n",
              "      <td>27000</td>\n",
              "      <td>2136</td>\n",
              "      <td>450</td>\n",
              "      <td>160</td>\n",
              "      <td>89.0</td>\n",
              "      <td>0.0</td>\n",
              "      <td>Yes</td>\n",
              "    </tr>\n",
              "  </tbody>\n",
              "</table>\n",
              "</div>\n",
              "      <button class=\"colab-df-convert\" onclick=\"convertToInteractive('df-e1691e49-2417-4fad-8788-f7394166bc3a')\"\n",
              "              title=\"Convert this dataframe to an interactive table.\"\n",
              "              style=\"display:none;\">\n",
              "        \n",
              "  <svg xmlns=\"http://www.w3.org/2000/svg\" height=\"24px\"viewBox=\"0 0 24 24\"\n",
              "       width=\"24px\">\n",
              "    <path d=\"M0 0h24v24H0V0z\" fill=\"none\"/>\n",
              "    <path d=\"M18.56 5.44l.94 2.06.94-2.06 2.06-.94-2.06-.94-.94-2.06-.94 2.06-2.06.94zm-11 1L8.5 8.5l.94-2.06 2.06-.94-2.06-.94L8.5 2.5l-.94 2.06-2.06.94zm10 10l.94 2.06.94-2.06 2.06-.94-2.06-.94-.94-2.06-.94 2.06-2.06.94z\"/><path d=\"M17.41 7.96l-1.37-1.37c-.4-.4-.92-.59-1.43-.59-.52 0-1.04.2-1.43.59L10.3 9.45l-7.72 7.72c-.78.78-.78 2.05 0 2.83L4 21.41c.39.39.9.59 1.41.59.51 0 1.02-.2 1.41-.59l7.78-7.78 2.81-2.81c.8-.78.8-2.07 0-2.86zM5.41 20L4 18.59l7.72-7.72 1.47 1.35L5.41 20z\"/>\n",
              "  </svg>\n",
              "      </button>\n",
              "      \n",
              "  <style>\n",
              "    .colab-df-container {\n",
              "      display:flex;\n",
              "      flex-wrap:wrap;\n",
              "      gap: 12px;\n",
              "    }\n",
              "\n",
              "    .colab-df-convert {\n",
              "      background-color: #E8F0FE;\n",
              "      border: none;\n",
              "      border-radius: 50%;\n",
              "      cursor: pointer;\n",
              "      display: none;\n",
              "      fill: #1967D2;\n",
              "      height: 32px;\n",
              "      padding: 0 0 0 0;\n",
              "      width: 32px;\n",
              "    }\n",
              "\n",
              "    .colab-df-convert:hover {\n",
              "      background-color: #E2EBFA;\n",
              "      box-shadow: 0px 1px 2px rgba(60, 64, 67, 0.3), 0px 1px 3px 1px rgba(60, 64, 67, 0.15);\n",
              "      fill: #174EA6;\n",
              "    }\n",
              "\n",
              "    [theme=dark] .colab-df-convert {\n",
              "      background-color: #3B4455;\n",
              "      fill: #D2E3FC;\n",
              "    }\n",
              "\n",
              "    [theme=dark] .colab-df-convert:hover {\n",
              "      background-color: #434B5C;\n",
              "      box-shadow: 0px 1px 3px 1px rgba(0, 0, 0, 0.15);\n",
              "      filter: drop-shadow(0px 1px 2px rgba(0, 0, 0, 0.3));\n",
              "      fill: #FFFFFF;\n",
              "    }\n",
              "  </style>\n",
              "\n",
              "      <script>\n",
              "        const buttonEl =\n",
              "          document.querySelector('#df-e1691e49-2417-4fad-8788-f7394166bc3a button.colab-df-convert');\n",
              "        buttonEl.style.display =\n",
              "          google.colab.kernel.accessAllowed ? 'block' : 'none';\n",
              "\n",
              "        async function convertToInteractive(key) {\n",
              "          const element = document.querySelector('#df-e1691e49-2417-4fad-8788-f7394166bc3a');\n",
              "          const dataTable =\n",
              "            await google.colab.kernel.invokeFunction('convertToInteractive',\n",
              "                                                     [key], {});\n",
              "          if (!dataTable) return;\n",
              "\n",
              "          const docLinkHtml = 'Like what you see? Visit the ' +\n",
              "            '<a target=\"_blank\" href=https://colab.research.google.com/notebooks/data_table.ipynb>data table notebook</a>'\n",
              "            + ' to learn more about interactive tables.';\n",
              "          element.innerHTML = '';\n",
              "          dataTable['output_type'] = 'display_data';\n",
              "          await google.colab.output.renderOutput(dataTable, element);\n",
              "          const docLink = document.createElement('div');\n",
              "          docLink.innerHTML = docLinkHtml;\n",
              "          element.appendChild(docLink);\n",
              "        }\n",
              "      </script>\n",
              "    </div>\n",
              "  </div>\n",
              "  "
            ]
          },
          "metadata": {},
          "execution_count": 52
        }
      ],
      "source": [
        "pd.set_option('display.max_columns', None)\n",
        "trainAllPatientDetailsProvider.head()"
      ]
    },
    {
      "cell_type": "code",
      "execution_count": 53,
      "metadata": {
        "colab": {
          "base_uri": "https://localhost:8080/"
        },
        "id": "qiNs0R8IAV8W",
        "outputId": "879c584a-d3b1-4a96-c494-2363ea0c484b"
      },
      "outputs": [
        {
          "output_type": "execute_result",
          "data": {
            "text/plain": [
              "(558211, 27)"
            ]
          },
          "metadata": {},
          "execution_count": 53
        }
      ],
      "source": [
        "columns_to_remove = ['BeneID', 'ClaimID', 'ClaimStartDt','ClaimEndDt','AttendingPhysician',\n",
        "                     'OperatingPhysician', 'OtherPhysician', 'ClmDiagnosisCode_1',\n",
        "                     'ClmDiagnosisCode_2', 'ClmDiagnosisCode_3', 'ClmDiagnosisCode_4',\n",
        "                     'ClmDiagnosisCode_5', 'ClmDiagnosisCode_6', 'ClmDiagnosisCode_7',\n",
        "                     'ClmDiagnosisCode_8', 'ClmDiagnosisCode_9', 'ClmDiagnosisCode_10',\n",
        "                     'ClmProcedureCode_1', 'ClmProcedureCode_2', 'ClmProcedureCode_3',\n",
        "                     'ClmProcedureCode_4', 'ClmProcedureCode_5', 'ClmProcedureCode_6',\n",
        "                     'ClmAdmitDiagnosisCode', 'AdmissionDt',\n",
        "                     'DischargeDt', 'DiagnosisGroupCode','DOB', 'DOD',\n",
        "                     'State', 'County']\n",
        "\n",
        "train_final = trainAllPatientDetailsProvider.drop(columns=columns_to_remove, axis=1)\n",
        "train_final.shape"
      ]
    },
    {
      "cell_type": "code",
      "execution_count": 54,
      "metadata": {
        "colab": {
          "base_uri": "https://localhost:8080/"
        },
        "id": "f2ZXWx0PBS4T",
        "outputId": "a6771c8f-2d56-4caa-9743-72dd18bf2fee"
      },
      "outputs": [
        {
          "output_type": "execute_result",
          "data": {
            "text/plain": [
              "Provider                                0\n",
              "InscClaimAmtReimbursed                  0\n",
              "DeductibleAmtPaid                     899\n",
              "AdmittedDays                       517737\n",
              "Gender                                  0\n",
              "Race                                    0\n",
              "RenalDiseaseIndicator                   0\n",
              "NoOfMonths_PartACov                     0\n",
              "NoOfMonths_PartBCov                     0\n",
              "ChronicCond_Alzheimer                   0\n",
              "ChronicCond_Heartfailure                0\n",
              "ChronicCond_KidneyDisease               0\n",
              "ChronicCond_Cancer                      0\n",
              "ChronicCond_ObstrPulmonary              0\n",
              "ChronicCond_Depression                  0\n",
              "ChronicCond_Diabetes                    0\n",
              "ChronicCond_IschemicHeart               0\n",
              "ChronicCond_Osteoporasis                0\n",
              "ChronicCond_rheumatoidarthritis         0\n",
              "ChronicCond_stroke                      0\n",
              "IPAnnualReimbursementAmt                0\n",
              "IPAnnualDeductibleAmt                   0\n",
              "OPAnnualReimbursementAmt                0\n",
              "OPAnnualDeductibleAmt                   0\n",
              "Age                                     0\n",
              "DeadOrNot                               0\n",
              "PotentialFraud                          0\n",
              "dtype: int64"
            ]
          },
          "metadata": {},
          "execution_count": 54
        }
      ],
      "source": [
        "train_final.isnull().sum()"
      ]
    },
    {
      "cell_type": "code",
      "execution_count": 55,
      "metadata": {
        "colab": {
          "base_uri": "https://localhost:8080/"
        },
        "id": "kIf4xMVGBXxd",
        "outputId": "54100034-8665-490c-f82f-efd71b7ac9cb"
      },
      "outputs": [
        {
          "output_type": "execute_result",
          "data": {
            "text/plain": [
              "(135392, 26)"
            ]
          },
          "metadata": {},
          "execution_count": 55
        }
      ],
      "source": [
        "test_final = testAllPatientDetailsProvider.drop(columns=columns_to_remove, axis=1)\n",
        "test_final.shape"
      ]
    },
    {
      "cell_type": "code",
      "execution_count": 56,
      "metadata": {
        "colab": {
          "base_uri": "https://localhost:8080/"
        },
        "id": "oinj62dNBkUX",
        "outputId": "9995e772-0837-45fb-ae84-0c2a71bf4d11"
      },
      "outputs": [
        {
          "output_type": "execute_result",
          "data": {
            "text/plain": [
              "Provider                                0\n",
              "InscClaimAmtReimbursed                  0\n",
              "DeductibleAmtPaid                     196\n",
              "AdmittedDays                       125841\n",
              "Gender                                  0\n",
              "Race                                    0\n",
              "RenalDiseaseIndicator                   0\n",
              "NoOfMonths_PartACov                     0\n",
              "NoOfMonths_PartBCov                     0\n",
              "ChronicCond_Alzheimer                   0\n",
              "ChronicCond_Heartfailure                0\n",
              "ChronicCond_KidneyDisease               0\n",
              "ChronicCond_Cancer                      0\n",
              "ChronicCond_ObstrPulmonary              0\n",
              "ChronicCond_Depression                  0\n",
              "ChronicCond_Diabetes                    0\n",
              "ChronicCond_IschemicHeart               0\n",
              "ChronicCond_Osteoporasis                0\n",
              "ChronicCond_rheumatoidarthritis         0\n",
              "ChronicCond_stroke                      0\n",
              "IPAnnualReimbursementAmt                0\n",
              "IPAnnualDeductibleAmt                   0\n",
              "OPAnnualReimbursementAmt                0\n",
              "OPAnnualDeductibleAmt                   0\n",
              "Age                                     0\n",
              "DeadOrNot                               0\n",
              "dtype: int64"
            ]
          },
          "metadata": {},
          "execution_count": 56
        }
      ],
      "source": [
        "test_final.isnull().sum()"
      ]
    },
    {
      "cell_type": "code",
      "execution_count": 57,
      "metadata": {
        "id": "rc77o8gOBoN_"
      },
      "outputs": [],
      "source": [
        "train_final.Gender = train_final.Gender.astype('category')\n",
        "train_final.Race = train_final.Race.astype('category')"
      ]
    },
    {
      "cell_type": "code",
      "execution_count": 58,
      "metadata": {
        "id": "eXWDnISGBsCo"
      },
      "outputs": [],
      "source": [
        "test_final.Gender = test_final.Gender.astype('category')\n",
        "test_final.Race = test_final.Race.astype('category')"
      ]
    },
    {
      "cell_type": "markdown",
      "metadata": {
        "id": "Uo3AXMo7B08B"
      },
      "source": [
        "## One-hot encoding"
      ]
    },
    {
      "cell_type": "code",
      "execution_count": 59,
      "metadata": {
        "colab": {
          "base_uri": "https://localhost:8080/",
          "height": 270
        },
        "id": "4uTw412rBwAC",
        "outputId": "910e8d62-d230-4111-97d6-9af7accb3db2"
      },
      "outputs": [
        {
          "output_type": "execute_result",
          "data": {
            "text/plain": [
              "   Provider  InscClaimAmtReimbursed  DeductibleAmtPaid  AdmittedDays  \\\n",
              "0  PRV55912                   26000             1068.0           7.0   \n",
              "1  PRV55912                      50                0.0           NaN   \n",
              "2  PRV55912                   19000             1068.0          13.0   \n",
              "3  PRV55912                   17000             1068.0          19.0   \n",
              "4  PRV55912                   13000             1068.0           5.0   \n",
              "\n",
              "  RenalDiseaseIndicator  NoOfMonths_PartACov  NoOfMonths_PartBCov  \\\n",
              "0                     0                   12                   12   \n",
              "1                     0                   12                   12   \n",
              "2                     0                   12                   12   \n",
              "3                     0                   12                   12   \n",
              "4                     0                   12                   12   \n",
              "\n",
              "   ChronicCond_Alzheimer  ChronicCond_Heartfailure  ChronicCond_KidneyDisease  \\\n",
              "0                      1                         0                          1   \n",
              "1                      1                         1                          1   \n",
              "2                      1                         1                          1   \n",
              "3                      0                         0                          0   \n",
              "4                      0                         1                          0   \n",
              "\n",
              "   ChronicCond_Cancer  ChronicCond_ObstrPulmonary  ChronicCond_Depression  \\\n",
              "0                   0                           0                       1   \n",
              "1                   0                           0                       0   \n",
              "2                   0                           1                       0   \n",
              "3                   0                           0                       0   \n",
              "4                   0                           1                       0   \n",
              "\n",
              "   ChronicCond_Diabetes  ChronicCond_IschemicHeart  ChronicCond_Osteoporasis  \\\n",
              "0                     1                          1                         0   \n",
              "1                     0                          1                         0   \n",
              "2                     0                          1                         0   \n",
              "3                     0                          1                         1   \n",
              "4                     1                          1                         1   \n",
              "\n",
              "   ChronicCond_rheumatoidarthritis  ChronicCond_stroke  \\\n",
              "0                                1                   1   \n",
              "1                                0                   0   \n",
              "2                                0                   0   \n",
              "3                                0                   0   \n",
              "4                                1                   0   \n",
              "\n",
              "   IPAnnualReimbursementAmt  IPAnnualDeductibleAmt  OPAnnualReimbursementAmt  \\\n",
              "0                     36000                   3204                        60   \n",
              "1                     24000                   2136                       450   \n",
              "2                     19000                   1068                       100   \n",
              "3                     17000                   1068                      1050   \n",
              "4                     27000                   2136                       450   \n",
              "\n",
              "   OPAnnualDeductibleAmt    Age  DeadOrNot PotentialFraud  Gender_2  Race_2  \\\n",
              "0                     70   77.0        0.0            Yes         0       0   \n",
              "1                    200   88.0        0.0            Yes         0       0   \n",
              "2                     20  106.0        0.0            Yes         1       0   \n",
              "3                    540   97.0        0.0            Yes         0       0   \n",
              "4                    160   89.0        0.0            Yes         1       0   \n",
              "\n",
              "   Race_3  Race_5  \n",
              "0       0       0  \n",
              "1       0       0  \n",
              "2       0       0  \n",
              "3       0       0  \n",
              "4       0       0  "
            ],
            "text/html": [
              "\n",
              "  <div id=\"df-01e80cd9-9e44-43e5-9901-188fc5904a90\">\n",
              "    <div class=\"colab-df-container\">\n",
              "      <div>\n",
              "<style scoped>\n",
              "    .dataframe tbody tr th:only-of-type {\n",
              "        vertical-align: middle;\n",
              "    }\n",
              "\n",
              "    .dataframe tbody tr th {\n",
              "        vertical-align: top;\n",
              "    }\n",
              "\n",
              "    .dataframe thead th {\n",
              "        text-align: right;\n",
              "    }\n",
              "</style>\n",
              "<table border=\"1\" class=\"dataframe\">\n",
              "  <thead>\n",
              "    <tr style=\"text-align: right;\">\n",
              "      <th></th>\n",
              "      <th>Provider</th>\n",
              "      <th>InscClaimAmtReimbursed</th>\n",
              "      <th>DeductibleAmtPaid</th>\n",
              "      <th>AdmittedDays</th>\n",
              "      <th>RenalDiseaseIndicator</th>\n",
              "      <th>NoOfMonths_PartACov</th>\n",
              "      <th>NoOfMonths_PartBCov</th>\n",
              "      <th>ChronicCond_Alzheimer</th>\n",
              "      <th>ChronicCond_Heartfailure</th>\n",
              "      <th>ChronicCond_KidneyDisease</th>\n",
              "      <th>ChronicCond_Cancer</th>\n",
              "      <th>ChronicCond_ObstrPulmonary</th>\n",
              "      <th>ChronicCond_Depression</th>\n",
              "      <th>ChronicCond_Diabetes</th>\n",
              "      <th>ChronicCond_IschemicHeart</th>\n",
              "      <th>ChronicCond_Osteoporasis</th>\n",
              "      <th>ChronicCond_rheumatoidarthritis</th>\n",
              "      <th>ChronicCond_stroke</th>\n",
              "      <th>IPAnnualReimbursementAmt</th>\n",
              "      <th>IPAnnualDeductibleAmt</th>\n",
              "      <th>OPAnnualReimbursementAmt</th>\n",
              "      <th>OPAnnualDeductibleAmt</th>\n",
              "      <th>Age</th>\n",
              "      <th>DeadOrNot</th>\n",
              "      <th>PotentialFraud</th>\n",
              "      <th>Gender_2</th>\n",
              "      <th>Race_2</th>\n",
              "      <th>Race_3</th>\n",
              "      <th>Race_5</th>\n",
              "    </tr>\n",
              "  </thead>\n",
              "  <tbody>\n",
              "    <tr>\n",
              "      <th>0</th>\n",
              "      <td>PRV55912</td>\n",
              "      <td>26000</td>\n",
              "      <td>1068.0</td>\n",
              "      <td>7.0</td>\n",
              "      <td>0</td>\n",
              "      <td>12</td>\n",
              "      <td>12</td>\n",
              "      <td>1</td>\n",
              "      <td>0</td>\n",
              "      <td>1</td>\n",
              "      <td>0</td>\n",
              "      <td>0</td>\n",
              "      <td>1</td>\n",
              "      <td>1</td>\n",
              "      <td>1</td>\n",
              "      <td>0</td>\n",
              "      <td>1</td>\n",
              "      <td>1</td>\n",
              "      <td>36000</td>\n",
              "      <td>3204</td>\n",
              "      <td>60</td>\n",
              "      <td>70</td>\n",
              "      <td>77.0</td>\n",
              "      <td>0.0</td>\n",
              "      <td>Yes</td>\n",
              "      <td>0</td>\n",
              "      <td>0</td>\n",
              "      <td>0</td>\n",
              "      <td>0</td>\n",
              "    </tr>\n",
              "    <tr>\n",
              "      <th>1</th>\n",
              "      <td>PRV55912</td>\n",
              "      <td>50</td>\n",
              "      <td>0.0</td>\n",
              "      <td>NaN</td>\n",
              "      <td>0</td>\n",
              "      <td>12</td>\n",
              "      <td>12</td>\n",
              "      <td>1</td>\n",
              "      <td>1</td>\n",
              "      <td>1</td>\n",
              "      <td>0</td>\n",
              "      <td>0</td>\n",
              "      <td>0</td>\n",
              "      <td>0</td>\n",
              "      <td>1</td>\n",
              "      <td>0</td>\n",
              "      <td>0</td>\n",
              "      <td>0</td>\n",
              "      <td>24000</td>\n",
              "      <td>2136</td>\n",
              "      <td>450</td>\n",
              "      <td>200</td>\n",
              "      <td>88.0</td>\n",
              "      <td>0.0</td>\n",
              "      <td>Yes</td>\n",
              "      <td>0</td>\n",
              "      <td>0</td>\n",
              "      <td>0</td>\n",
              "      <td>0</td>\n",
              "    </tr>\n",
              "    <tr>\n",
              "      <th>2</th>\n",
              "      <td>PRV55912</td>\n",
              "      <td>19000</td>\n",
              "      <td>1068.0</td>\n",
              "      <td>13.0</td>\n",
              "      <td>0</td>\n",
              "      <td>12</td>\n",
              "      <td>12</td>\n",
              "      <td>1</td>\n",
              "      <td>1</td>\n",
              "      <td>1</td>\n",
              "      <td>0</td>\n",
              "      <td>1</td>\n",
              "      <td>0</td>\n",
              "      <td>0</td>\n",
              "      <td>1</td>\n",
              "      <td>0</td>\n",
              "      <td>0</td>\n",
              "      <td>0</td>\n",
              "      <td>19000</td>\n",
              "      <td>1068</td>\n",
              "      <td>100</td>\n",
              "      <td>20</td>\n",
              "      <td>106.0</td>\n",
              "      <td>0.0</td>\n",
              "      <td>Yes</td>\n",
              "      <td>1</td>\n",
              "      <td>0</td>\n",
              "      <td>0</td>\n",
              "      <td>0</td>\n",
              "    </tr>\n",
              "    <tr>\n",
              "      <th>3</th>\n",
              "      <td>PRV55912</td>\n",
              "      <td>17000</td>\n",
              "      <td>1068.0</td>\n",
              "      <td>19.0</td>\n",
              "      <td>0</td>\n",
              "      <td>12</td>\n",
              "      <td>12</td>\n",
              "      <td>0</td>\n",
              "      <td>0</td>\n",
              "      <td>0</td>\n",
              "      <td>0</td>\n",
              "      <td>0</td>\n",
              "      <td>0</td>\n",
              "      <td>0</td>\n",
              "      <td>1</td>\n",
              "      <td>1</td>\n",
              "      <td>0</td>\n",
              "      <td>0</td>\n",
              "      <td>17000</td>\n",
              "      <td>1068</td>\n",
              "      <td>1050</td>\n",
              "      <td>540</td>\n",
              "      <td>97.0</td>\n",
              "      <td>0.0</td>\n",
              "      <td>Yes</td>\n",
              "      <td>0</td>\n",
              "      <td>0</td>\n",
              "      <td>0</td>\n",
              "      <td>0</td>\n",
              "    </tr>\n",
              "    <tr>\n",
              "      <th>4</th>\n",
              "      <td>PRV55912</td>\n",
              "      <td>13000</td>\n",
              "      <td>1068.0</td>\n",
              "      <td>5.0</td>\n",
              "      <td>0</td>\n",
              "      <td>12</td>\n",
              "      <td>12</td>\n",
              "      <td>0</td>\n",
              "      <td>1</td>\n",
              "      <td>0</td>\n",
              "      <td>0</td>\n",
              "      <td>1</td>\n",
              "      <td>0</td>\n",
              "      <td>1</td>\n",
              "      <td>1</td>\n",
              "      <td>1</td>\n",
              "      <td>1</td>\n",
              "      <td>0</td>\n",
              "      <td>27000</td>\n",
              "      <td>2136</td>\n",
              "      <td>450</td>\n",
              "      <td>160</td>\n",
              "      <td>89.0</td>\n",
              "      <td>0.0</td>\n",
              "      <td>Yes</td>\n",
              "      <td>1</td>\n",
              "      <td>0</td>\n",
              "      <td>0</td>\n",
              "      <td>0</td>\n",
              "    </tr>\n",
              "  </tbody>\n",
              "</table>\n",
              "</div>\n",
              "      <button class=\"colab-df-convert\" onclick=\"convertToInteractive('df-01e80cd9-9e44-43e5-9901-188fc5904a90')\"\n",
              "              title=\"Convert this dataframe to an interactive table.\"\n",
              "              style=\"display:none;\">\n",
              "        \n",
              "  <svg xmlns=\"http://www.w3.org/2000/svg\" height=\"24px\"viewBox=\"0 0 24 24\"\n",
              "       width=\"24px\">\n",
              "    <path d=\"M0 0h24v24H0V0z\" fill=\"none\"/>\n",
              "    <path d=\"M18.56 5.44l.94 2.06.94-2.06 2.06-.94-2.06-.94-.94-2.06-.94 2.06-2.06.94zm-11 1L8.5 8.5l.94-2.06 2.06-.94-2.06-.94L8.5 2.5l-.94 2.06-2.06.94zm10 10l.94 2.06.94-2.06 2.06-.94-2.06-.94-.94-2.06-.94 2.06-2.06.94z\"/><path d=\"M17.41 7.96l-1.37-1.37c-.4-.4-.92-.59-1.43-.59-.52 0-1.04.2-1.43.59L10.3 9.45l-7.72 7.72c-.78.78-.78 2.05 0 2.83L4 21.41c.39.39.9.59 1.41.59.51 0 1.02-.2 1.41-.59l7.78-7.78 2.81-2.81c.8-.78.8-2.07 0-2.86zM5.41 20L4 18.59l7.72-7.72 1.47 1.35L5.41 20z\"/>\n",
              "  </svg>\n",
              "      </button>\n",
              "      \n",
              "  <style>\n",
              "    .colab-df-container {\n",
              "      display:flex;\n",
              "      flex-wrap:wrap;\n",
              "      gap: 12px;\n",
              "    }\n",
              "\n",
              "    .colab-df-convert {\n",
              "      background-color: #E8F0FE;\n",
              "      border: none;\n",
              "      border-radius: 50%;\n",
              "      cursor: pointer;\n",
              "      display: none;\n",
              "      fill: #1967D2;\n",
              "      height: 32px;\n",
              "      padding: 0 0 0 0;\n",
              "      width: 32px;\n",
              "    }\n",
              "\n",
              "    .colab-df-convert:hover {\n",
              "      background-color: #E2EBFA;\n",
              "      box-shadow: 0px 1px 2px rgba(60, 64, 67, 0.3), 0px 1px 3px 1px rgba(60, 64, 67, 0.15);\n",
              "      fill: #174EA6;\n",
              "    }\n",
              "\n",
              "    [theme=dark] .colab-df-convert {\n",
              "      background-color: #3B4455;\n",
              "      fill: #D2E3FC;\n",
              "    }\n",
              "\n",
              "    [theme=dark] .colab-df-convert:hover {\n",
              "      background-color: #434B5C;\n",
              "      box-shadow: 0px 1px 3px 1px rgba(0, 0, 0, 0.15);\n",
              "      filter: drop-shadow(0px 1px 2px rgba(0, 0, 0, 0.3));\n",
              "      fill: #FFFFFF;\n",
              "    }\n",
              "  </style>\n",
              "\n",
              "      <script>\n",
              "        const buttonEl =\n",
              "          document.querySelector('#df-01e80cd9-9e44-43e5-9901-188fc5904a90 button.colab-df-convert');\n",
              "        buttonEl.style.display =\n",
              "          google.colab.kernel.accessAllowed ? 'block' : 'none';\n",
              "\n",
              "        async function convertToInteractive(key) {\n",
              "          const element = document.querySelector('#df-01e80cd9-9e44-43e5-9901-188fc5904a90');\n",
              "          const dataTable =\n",
              "            await google.colab.kernel.invokeFunction('convertToInteractive',\n",
              "                                                     [key], {});\n",
              "          if (!dataTable) return;\n",
              "\n",
              "          const docLinkHtml = 'Like what you see? Visit the ' +\n",
              "            '<a target=\"_blank\" href=https://colab.research.google.com/notebooks/data_table.ipynb>data table notebook</a>'\n",
              "            + ' to learn more about interactive tables.';\n",
              "          element.innerHTML = '';\n",
              "          dataTable['output_type'] = 'display_data';\n",
              "          await google.colab.output.renderOutput(dataTable, element);\n",
              "          const docLink = document.createElement('div');\n",
              "          docLink.innerHTML = docLinkHtml;\n",
              "          element.appendChild(docLink);\n",
              "        }\n",
              "      </script>\n",
              "    </div>\n",
              "  </div>\n",
              "  "
            ]
          },
          "metadata": {},
          "execution_count": 59
        }
      ],
      "source": [
        "train_final = pd.get_dummies(train_final, columns=['Gender', 'Race'], drop_first=True)\n",
        "train_final.head()"
      ]
    },
    {
      "cell_type": "code",
      "execution_count": 60,
      "metadata": {
        "id": "znsIjeqiCEVK"
      },
      "outputs": [],
      "source": [
        "train_final.loc[train_final['PotentialFraud'] == 'Yes', 'PotentialFraud'] = 1\n",
        "train_final.loc[train_final['PotentialFraud'] == 'No', 'PotentialFraud'] = 0"
      ]
    },
    {
      "cell_type": "code",
      "execution_count": 61,
      "metadata": {
        "colab": {
          "base_uri": "https://localhost:8080/"
        },
        "id": "nkLWERF9Cb0G",
        "outputId": "e308c00b-ca42-4c96-c498-342a5d62f1fd"
      },
      "outputs": [
        {
          "output_type": "execute_result",
          "data": {
            "text/plain": [
              "0    345415\n",
              "1    212796\n",
              "Name: PotentialFraud, dtype: int64"
            ]
          },
          "metadata": {},
          "execution_count": 61
        }
      ],
      "source": [
        "train_final['PotentialFraud'].value_counts()"
      ]
    },
    {
      "cell_type": "code",
      "execution_count": 62,
      "metadata": {
        "colab": {
          "base_uri": "https://localhost:8080/",
          "height": 270
        },
        "id": "nff9J5Y-CfCp",
        "outputId": "5b29a001-871c-41c5-e57b-963f0528b41b"
      },
      "outputs": [
        {
          "output_type": "execute_result",
          "data": {
            "text/plain": [
              "   Provider  InscClaimAmtReimbursed  DeductibleAmtPaid  AdmittedDays  \\\n",
              "0  PRV57070                    9000             1068.0           8.0   \n",
              "1  PRV57070                    3000             1068.0           3.0   \n",
              "2  PRV57070                    7000             1068.0           7.0   \n",
              "3  PRV57070                    5000             1068.0           9.0   \n",
              "4  PRV57070                    9000             1068.0          11.0   \n",
              "\n",
              "  RenalDiseaseIndicator  NoOfMonths_PartACov  NoOfMonths_PartBCov  \\\n",
              "0                     Y                   12                   12   \n",
              "1                     0                   12                   12   \n",
              "2                     Y                   12                   12   \n",
              "3                     0                   12                   12   \n",
              "4                     Y                   12                   12   \n",
              "\n",
              "   ChronicCond_Alzheimer  ChronicCond_Heartfailure  ChronicCond_KidneyDisease  \\\n",
              "0                      0                         1                          1   \n",
              "1                      1                         1                          1   \n",
              "2                      0                         1                          1   \n",
              "3                      0                         0                          1   \n",
              "4                      1                         1                          1   \n",
              "\n",
              "   ChronicCond_Cancer  ChronicCond_ObstrPulmonary  ChronicCond_Depression  \\\n",
              "0                   0                           1                       1   \n",
              "1                   0                           1                       1   \n",
              "2                   0                           1                       0   \n",
              "3                   0                           1                       0   \n",
              "4                   1                           1                       0   \n",
              "\n",
              "   ChronicCond_Diabetes  ChronicCond_IschemicHeart  ChronicCond_Osteoporasis  \\\n",
              "0                     0                          1                         0   \n",
              "1                     1                          1                         0   \n",
              "2                     0                          1                         1   \n",
              "3                     0                          1                         1   \n",
              "4                     1                          1                         0   \n",
              "\n",
              "   ChronicCond_rheumatoidarthritis  ChronicCond_stroke  \\\n",
              "0                                0                   0   \n",
              "1                                1                   0   \n",
              "2                                0                   0   \n",
              "3                                0                   0   \n",
              "4                                1                   0   \n",
              "\n",
              "   IPAnnualReimbursementAmt  IPAnnualDeductibleAmt  OPAnnualReimbursementAmt  \\\n",
              "0                     21260                   2136                       120   \n",
              "1                      8000                   2136                      2540   \n",
              "2                     10200                   2136                        40   \n",
              "3                      5000                   1068                       600   \n",
              "4                      9000                   1068                        10   \n",
              "\n",
              "   OPAnnualDeductibleAmt   Age  DeadOrNot  Gender_2  Race_2  Race_3  Race_5  \n",
              "0                    100  82.0        0.0         1       0       0       0  \n",
              "1                   1880  83.0        0.0         1       0       0       0  \n",
              "2                    100  82.0        0.0         1       0       0       0  \n",
              "3                    180  95.0        0.0         1       0       0       0  \n",
              "4                     40  76.0        0.0         1       0       0       0  "
            ],
            "text/html": [
              "\n",
              "  <div id=\"df-887f1ee1-190a-4711-a800-b0ea19d6b487\">\n",
              "    <div class=\"colab-df-container\">\n",
              "      <div>\n",
              "<style scoped>\n",
              "    .dataframe tbody tr th:only-of-type {\n",
              "        vertical-align: middle;\n",
              "    }\n",
              "\n",
              "    .dataframe tbody tr th {\n",
              "        vertical-align: top;\n",
              "    }\n",
              "\n",
              "    .dataframe thead th {\n",
              "        text-align: right;\n",
              "    }\n",
              "</style>\n",
              "<table border=\"1\" class=\"dataframe\">\n",
              "  <thead>\n",
              "    <tr style=\"text-align: right;\">\n",
              "      <th></th>\n",
              "      <th>Provider</th>\n",
              "      <th>InscClaimAmtReimbursed</th>\n",
              "      <th>DeductibleAmtPaid</th>\n",
              "      <th>AdmittedDays</th>\n",
              "      <th>RenalDiseaseIndicator</th>\n",
              "      <th>NoOfMonths_PartACov</th>\n",
              "      <th>NoOfMonths_PartBCov</th>\n",
              "      <th>ChronicCond_Alzheimer</th>\n",
              "      <th>ChronicCond_Heartfailure</th>\n",
              "      <th>ChronicCond_KidneyDisease</th>\n",
              "      <th>ChronicCond_Cancer</th>\n",
              "      <th>ChronicCond_ObstrPulmonary</th>\n",
              "      <th>ChronicCond_Depression</th>\n",
              "      <th>ChronicCond_Diabetes</th>\n",
              "      <th>ChronicCond_IschemicHeart</th>\n",
              "      <th>ChronicCond_Osteoporasis</th>\n",
              "      <th>ChronicCond_rheumatoidarthritis</th>\n",
              "      <th>ChronicCond_stroke</th>\n",
              "      <th>IPAnnualReimbursementAmt</th>\n",
              "      <th>IPAnnualDeductibleAmt</th>\n",
              "      <th>OPAnnualReimbursementAmt</th>\n",
              "      <th>OPAnnualDeductibleAmt</th>\n",
              "      <th>Age</th>\n",
              "      <th>DeadOrNot</th>\n",
              "      <th>Gender_2</th>\n",
              "      <th>Race_2</th>\n",
              "      <th>Race_3</th>\n",
              "      <th>Race_5</th>\n",
              "    </tr>\n",
              "  </thead>\n",
              "  <tbody>\n",
              "    <tr>\n",
              "      <th>0</th>\n",
              "      <td>PRV57070</td>\n",
              "      <td>9000</td>\n",
              "      <td>1068.0</td>\n",
              "      <td>8.0</td>\n",
              "      <td>Y</td>\n",
              "      <td>12</td>\n",
              "      <td>12</td>\n",
              "      <td>0</td>\n",
              "      <td>1</td>\n",
              "      <td>1</td>\n",
              "      <td>0</td>\n",
              "      <td>1</td>\n",
              "      <td>1</td>\n",
              "      <td>0</td>\n",
              "      <td>1</td>\n",
              "      <td>0</td>\n",
              "      <td>0</td>\n",
              "      <td>0</td>\n",
              "      <td>21260</td>\n",
              "      <td>2136</td>\n",
              "      <td>120</td>\n",
              "      <td>100</td>\n",
              "      <td>82.0</td>\n",
              "      <td>0.0</td>\n",
              "      <td>1</td>\n",
              "      <td>0</td>\n",
              "      <td>0</td>\n",
              "      <td>0</td>\n",
              "    </tr>\n",
              "    <tr>\n",
              "      <th>1</th>\n",
              "      <td>PRV57070</td>\n",
              "      <td>3000</td>\n",
              "      <td>1068.0</td>\n",
              "      <td>3.0</td>\n",
              "      <td>0</td>\n",
              "      <td>12</td>\n",
              "      <td>12</td>\n",
              "      <td>1</td>\n",
              "      <td>1</td>\n",
              "      <td>1</td>\n",
              "      <td>0</td>\n",
              "      <td>1</td>\n",
              "      <td>1</td>\n",
              "      <td>1</td>\n",
              "      <td>1</td>\n",
              "      <td>0</td>\n",
              "      <td>1</td>\n",
              "      <td>0</td>\n",
              "      <td>8000</td>\n",
              "      <td>2136</td>\n",
              "      <td>2540</td>\n",
              "      <td>1880</td>\n",
              "      <td>83.0</td>\n",
              "      <td>0.0</td>\n",
              "      <td>1</td>\n",
              "      <td>0</td>\n",
              "      <td>0</td>\n",
              "      <td>0</td>\n",
              "    </tr>\n",
              "    <tr>\n",
              "      <th>2</th>\n",
              "      <td>PRV57070</td>\n",
              "      <td>7000</td>\n",
              "      <td>1068.0</td>\n",
              "      <td>7.0</td>\n",
              "      <td>Y</td>\n",
              "      <td>12</td>\n",
              "      <td>12</td>\n",
              "      <td>0</td>\n",
              "      <td>1</td>\n",
              "      <td>1</td>\n",
              "      <td>0</td>\n",
              "      <td>1</td>\n",
              "      <td>0</td>\n",
              "      <td>0</td>\n",
              "      <td>1</td>\n",
              "      <td>1</td>\n",
              "      <td>0</td>\n",
              "      <td>0</td>\n",
              "      <td>10200</td>\n",
              "      <td>2136</td>\n",
              "      <td>40</td>\n",
              "      <td>100</td>\n",
              "      <td>82.0</td>\n",
              "      <td>0.0</td>\n",
              "      <td>1</td>\n",
              "      <td>0</td>\n",
              "      <td>0</td>\n",
              "      <td>0</td>\n",
              "    </tr>\n",
              "    <tr>\n",
              "      <th>3</th>\n",
              "      <td>PRV57070</td>\n",
              "      <td>5000</td>\n",
              "      <td>1068.0</td>\n",
              "      <td>9.0</td>\n",
              "      <td>0</td>\n",
              "      <td>12</td>\n",
              "      <td>12</td>\n",
              "      <td>0</td>\n",
              "      <td>0</td>\n",
              "      <td>1</td>\n",
              "      <td>0</td>\n",
              "      <td>1</td>\n",
              "      <td>0</td>\n",
              "      <td>0</td>\n",
              "      <td>1</td>\n",
              "      <td>1</td>\n",
              "      <td>0</td>\n",
              "      <td>0</td>\n",
              "      <td>5000</td>\n",
              "      <td>1068</td>\n",
              "      <td>600</td>\n",
              "      <td>180</td>\n",
              "      <td>95.0</td>\n",
              "      <td>0.0</td>\n",
              "      <td>1</td>\n",
              "      <td>0</td>\n",
              "      <td>0</td>\n",
              "      <td>0</td>\n",
              "    </tr>\n",
              "    <tr>\n",
              "      <th>4</th>\n",
              "      <td>PRV57070</td>\n",
              "      <td>9000</td>\n",
              "      <td>1068.0</td>\n",
              "      <td>11.0</td>\n",
              "      <td>Y</td>\n",
              "      <td>12</td>\n",
              "      <td>12</td>\n",
              "      <td>1</td>\n",
              "      <td>1</td>\n",
              "      <td>1</td>\n",
              "      <td>1</td>\n",
              "      <td>1</td>\n",
              "      <td>0</td>\n",
              "      <td>1</td>\n",
              "      <td>1</td>\n",
              "      <td>0</td>\n",
              "      <td>1</td>\n",
              "      <td>0</td>\n",
              "      <td>9000</td>\n",
              "      <td>1068</td>\n",
              "      <td>10</td>\n",
              "      <td>40</td>\n",
              "      <td>76.0</td>\n",
              "      <td>0.0</td>\n",
              "      <td>1</td>\n",
              "      <td>0</td>\n",
              "      <td>0</td>\n",
              "      <td>0</td>\n",
              "    </tr>\n",
              "  </tbody>\n",
              "</table>\n",
              "</div>\n",
              "      <button class=\"colab-df-convert\" onclick=\"convertToInteractive('df-887f1ee1-190a-4711-a800-b0ea19d6b487')\"\n",
              "              title=\"Convert this dataframe to an interactive table.\"\n",
              "              style=\"display:none;\">\n",
              "        \n",
              "  <svg xmlns=\"http://www.w3.org/2000/svg\" height=\"24px\"viewBox=\"0 0 24 24\"\n",
              "       width=\"24px\">\n",
              "    <path d=\"M0 0h24v24H0V0z\" fill=\"none\"/>\n",
              "    <path d=\"M18.56 5.44l.94 2.06.94-2.06 2.06-.94-2.06-.94-.94-2.06-.94 2.06-2.06.94zm-11 1L8.5 8.5l.94-2.06 2.06-.94-2.06-.94L8.5 2.5l-.94 2.06-2.06.94zm10 10l.94 2.06.94-2.06 2.06-.94-2.06-.94-.94-2.06-.94 2.06-2.06.94z\"/><path d=\"M17.41 7.96l-1.37-1.37c-.4-.4-.92-.59-1.43-.59-.52 0-1.04.2-1.43.59L10.3 9.45l-7.72 7.72c-.78.78-.78 2.05 0 2.83L4 21.41c.39.39.9.59 1.41.59.51 0 1.02-.2 1.41-.59l7.78-7.78 2.81-2.81c.8-.78.8-2.07 0-2.86zM5.41 20L4 18.59l7.72-7.72 1.47 1.35L5.41 20z\"/>\n",
              "  </svg>\n",
              "      </button>\n",
              "      \n",
              "  <style>\n",
              "    .colab-df-container {\n",
              "      display:flex;\n",
              "      flex-wrap:wrap;\n",
              "      gap: 12px;\n",
              "    }\n",
              "\n",
              "    .colab-df-convert {\n",
              "      background-color: #E8F0FE;\n",
              "      border: none;\n",
              "      border-radius: 50%;\n",
              "      cursor: pointer;\n",
              "      display: none;\n",
              "      fill: #1967D2;\n",
              "      height: 32px;\n",
              "      padding: 0 0 0 0;\n",
              "      width: 32px;\n",
              "    }\n",
              "\n",
              "    .colab-df-convert:hover {\n",
              "      background-color: #E2EBFA;\n",
              "      box-shadow: 0px 1px 2px rgba(60, 64, 67, 0.3), 0px 1px 3px 1px rgba(60, 64, 67, 0.15);\n",
              "      fill: #174EA6;\n",
              "    }\n",
              "\n",
              "    [theme=dark] .colab-df-convert {\n",
              "      background-color: #3B4455;\n",
              "      fill: #D2E3FC;\n",
              "    }\n",
              "\n",
              "    [theme=dark] .colab-df-convert:hover {\n",
              "      background-color: #434B5C;\n",
              "      box-shadow: 0px 1px 3px 1px rgba(0, 0, 0, 0.15);\n",
              "      filter: drop-shadow(0px 1px 2px rgba(0, 0, 0, 0.3));\n",
              "      fill: #FFFFFF;\n",
              "    }\n",
              "  </style>\n",
              "\n",
              "      <script>\n",
              "        const buttonEl =\n",
              "          document.querySelector('#df-887f1ee1-190a-4711-a800-b0ea19d6b487 button.colab-df-convert');\n",
              "        buttonEl.style.display =\n",
              "          google.colab.kernel.accessAllowed ? 'block' : 'none';\n",
              "\n",
              "        async function convertToInteractive(key) {\n",
              "          const element = document.querySelector('#df-887f1ee1-190a-4711-a800-b0ea19d6b487');\n",
              "          const dataTable =\n",
              "            await google.colab.kernel.invokeFunction('convertToInteractive',\n",
              "                                                     [key], {});\n",
              "          if (!dataTable) return;\n",
              "\n",
              "          const docLinkHtml = 'Like what you see? Visit the ' +\n",
              "            '<a target=\"_blank\" href=https://colab.research.google.com/notebooks/data_table.ipynb>data table notebook</a>'\n",
              "            + ' to learn more about interactive tables.';\n",
              "          element.innerHTML = '';\n",
              "          dataTable['output_type'] = 'display_data';\n",
              "          await google.colab.output.renderOutput(dataTable, element);\n",
              "          const docLink = document.createElement('div');\n",
              "          docLink.innerHTML = docLinkHtml;\n",
              "          element.appendChild(docLink);\n",
              "        }\n",
              "      </script>\n",
              "    </div>\n",
              "  </div>\n",
              "  "
            ]
          },
          "metadata": {},
          "execution_count": 62
        }
      ],
      "source": [
        "test_final = pd.get_dummies(test_final, columns=['Gender', 'Race'], drop_first=True)\n",
        "test_final.head()"
      ]
    },
    {
      "cell_type": "code",
      "execution_count": 63,
      "metadata": {
        "colab": {
          "base_uri": "https://localhost:8080/"
        },
        "id": "uDA2bnF8C2DW",
        "outputId": "ea9c4bdb-d0e9-465f-85d6-951f3849dad1"
      },
      "outputs": [
        {
          "output_type": "execute_result",
          "data": {
            "text/plain": [
              "0    448363\n",
              "Y    109848\n",
              "Name: RenalDiseaseIndicator, dtype: int64"
            ]
          },
          "metadata": {},
          "execution_count": 63
        }
      ],
      "source": [
        "train_final['RenalDiseaseIndicator'].value_counts()"
      ]
    },
    {
      "cell_type": "code",
      "execution_count": 64,
      "metadata": {
        "id": "YFAK4M-KC9qx"
      },
      "outputs": [],
      "source": [
        "train_final.loc[train_final['RenalDiseaseIndicator'] == 'Y', 'RenalDiseaseIndicator'] = 1 "
      ]
    },
    {
      "cell_type": "code",
      "execution_count": 65,
      "metadata": {
        "colab": {
          "base_uri": "https://localhost:8080/"
        },
        "id": "fq3H8xSMDL9m",
        "outputId": "1ba168d0-1d96-4542-a2d3-5ff72e51c762"
      },
      "outputs": [
        {
          "output_type": "execute_result",
          "data": {
            "text/plain": [
              "0    448363\n",
              "1    109848\n",
              "Name: RenalDiseaseIndicator, dtype: int64"
            ]
          },
          "metadata": {},
          "execution_count": 65
        }
      ],
      "source": [
        "train_final['RenalDiseaseIndicator'].value_counts()"
      ]
    },
    {
      "cell_type": "code",
      "execution_count": 66,
      "metadata": {
        "id": "I6we2RYBDNZh"
      },
      "outputs": [],
      "source": [
        "test_final.loc[test_final['RenalDiseaseIndicator'] == 'Y', 'RenalDiseaseIndicator'] = 1 "
      ]
    },
    {
      "cell_type": "code",
      "execution_count": 67,
      "metadata": {
        "colab": {
          "base_uri": "https://localhost:8080/"
        },
        "id": "vl5WhXGiDRzC",
        "outputId": "73bc93c7-ebd8-4399-c7d2-913160e312c2"
      },
      "outputs": [
        {
          "output_type": "execute_result",
          "data": {
            "text/plain": [
              "0    109143\n",
              "1     26249\n",
              "Name: RenalDiseaseIndicator, dtype: int64"
            ]
          },
          "metadata": {},
          "execution_count": 67
        }
      ],
      "source": [
        "test_final['RenalDiseaseIndicator'].value_counts()"
      ]
    },
    {
      "cell_type": "code",
      "execution_count": 68,
      "metadata": {
        "id": "P1ZXUmKcDTz4"
      },
      "outputs": [],
      "source": [
        "train_final['DeductibleAmtPaid'].fillna(0, inplace=True)\n",
        "train_final['AdmittedDays'].fillna(0, inplace=True)"
      ]
    },
    {
      "cell_type": "code",
      "execution_count": 69,
      "metadata": {
        "colab": {
          "base_uri": "https://localhost:8080/"
        },
        "id": "7qbainfJDYWT",
        "outputId": "9e22f00f-821e-4008-a6e7-fca553d0a532"
      },
      "outputs": [
        {
          "output_type": "execute_result",
          "data": {
            "text/plain": [
              "Provider                           0\n",
              "InscClaimAmtReimbursed             0\n",
              "DeductibleAmtPaid                  0\n",
              "AdmittedDays                       0\n",
              "RenalDiseaseIndicator              0\n",
              "NoOfMonths_PartACov                0\n",
              "NoOfMonths_PartBCov                0\n",
              "ChronicCond_Alzheimer              0\n",
              "ChronicCond_Heartfailure           0\n",
              "ChronicCond_KidneyDisease          0\n",
              "ChronicCond_Cancer                 0\n",
              "ChronicCond_ObstrPulmonary         0\n",
              "ChronicCond_Depression             0\n",
              "ChronicCond_Diabetes               0\n",
              "ChronicCond_IschemicHeart          0\n",
              "ChronicCond_Osteoporasis           0\n",
              "ChronicCond_rheumatoidarthritis    0\n",
              "ChronicCond_stroke                 0\n",
              "IPAnnualReimbursementAmt           0\n",
              "IPAnnualDeductibleAmt              0\n",
              "OPAnnualReimbursementAmt           0\n",
              "OPAnnualDeductibleAmt              0\n",
              "Age                                0\n",
              "DeadOrNot                          0\n",
              "PotentialFraud                     0\n",
              "Gender_2                           0\n",
              "Race_2                             0\n",
              "Race_3                             0\n",
              "Race_5                             0\n",
              "dtype: int64"
            ]
          },
          "metadata": {},
          "execution_count": 69
        }
      ],
      "source": [
        "train_final.isna().sum()"
      ]
    },
    {
      "cell_type": "code",
      "execution_count": 70,
      "metadata": {
        "id": "nx338Jn_Da82"
      },
      "outputs": [],
      "source": [
        "test_final['DeductibleAmtPaid'].fillna(0, inplace=True)\n",
        "test_final['AdmittedDays'].fillna(0, inplace=True)"
      ]
    },
    {
      "cell_type": "code",
      "execution_count": 71,
      "metadata": {
        "colab": {
          "base_uri": "https://localhost:8080/"
        },
        "id": "Ah7zGnPsDe9a",
        "outputId": "f0b11b19-f763-4870-87f0-cf2425cad959"
      },
      "outputs": [
        {
          "output_type": "execute_result",
          "data": {
            "text/plain": [
              "Provider                           0\n",
              "InscClaimAmtReimbursed             0\n",
              "DeductibleAmtPaid                  0\n",
              "AdmittedDays                       0\n",
              "RenalDiseaseIndicator              0\n",
              "NoOfMonths_PartACov                0\n",
              "NoOfMonths_PartBCov                0\n",
              "ChronicCond_Alzheimer              0\n",
              "ChronicCond_Heartfailure           0\n",
              "ChronicCond_KidneyDisease          0\n",
              "ChronicCond_Cancer                 0\n",
              "ChronicCond_ObstrPulmonary         0\n",
              "ChronicCond_Depression             0\n",
              "ChronicCond_Diabetes               0\n",
              "ChronicCond_IschemicHeart          0\n",
              "ChronicCond_Osteoporasis           0\n",
              "ChronicCond_rheumatoidarthritis    0\n",
              "ChronicCond_stroke                 0\n",
              "IPAnnualReimbursementAmt           0\n",
              "IPAnnualDeductibleAmt              0\n",
              "OPAnnualReimbursementAmt           0\n",
              "OPAnnualDeductibleAmt              0\n",
              "Age                                0\n",
              "DeadOrNot                          0\n",
              "Gender_2                           0\n",
              "Race_2                             0\n",
              "Race_3                             0\n",
              "Race_5                             0\n",
              "dtype: int64"
            ]
          },
          "metadata": {},
          "execution_count": 71
        }
      ],
      "source": [
        "test_final.isna().sum()"
      ]
    },
    {
      "cell_type": "code",
      "execution_count": 72,
      "metadata": {
        "colab": {
          "base_uri": "https://localhost:8080/"
        },
        "id": "rOexHaEEDhC3",
        "outputId": "a04223be-a63a-46e0-d50d-a88112646103"
      },
      "outputs": [
        {
          "output_type": "execute_result",
          "data": {
            "text/plain": [
              "0    345415\n",
              "1    212796\n",
              "Name: PotentialFraud, dtype: int64"
            ]
          },
          "metadata": {},
          "execution_count": 72
        }
      ],
      "source": [
        "train_final['PotentialFraud'].value_counts()"
      ]
    },
    {
      "cell_type": "markdown",
      "metadata": {
        "id": "Gs9XKBN3Iu9p"
      },
      "source": [
        "## Check for correlated columns"
      ]
    },
    {
      "cell_type": "code",
      "execution_count": 73,
      "metadata": {
        "colab": {
          "base_uri": "https://localhost:8080/"
        },
        "id": "ugbHyHrDJuJs",
        "outputId": "d33800eb-c5c8-4fb0-a91d-e29ea1cec201"
      },
      "outputs": [
        {
          "output_type": "execute_result",
          "data": {
            "text/plain": [
              "(558211, 29)"
            ]
          },
          "metadata": {},
          "execution_count": 73
        }
      ],
      "source": [
        "train_final.shape"
      ]
    },
    {
      "cell_type": "code",
      "execution_count": 74,
      "metadata": {
        "colab": {
          "base_uri": "https://localhost:8080/"
        },
        "id": "0lF2nktQD9x8",
        "outputId": "81451085-435c-4679-932f-26dc16544264"
      },
      "outputs": [
        {
          "output_type": "execute_result",
          "data": {
            "text/plain": [
              "array([ True,  True,  True,  True,  True,  True,  True,  True,  True,\n",
              "        True,  True,  True,  True,  True,  True,  True,  True,  True,\n",
              "       False,  True,  True,  True,  True,  True,  True,  True])"
            ]
          },
          "metadata": {},
          "execution_count": 74
        }
      ],
      "source": [
        "cor = train_final.corr() \n",
        "\n",
        "keep_columns = np.full(cor.shape[0], True) \n",
        "\n",
        "for i in range(cor.shape[0]-1):\n",
        "  for j in range(i+1, cor.shape[0]-1):\n",
        "    if (np.abs(cor.iloc[i,j]) >= 0.8):\n",
        "      keep_columns[i] = False \n",
        "\n",
        "#selected_columns = train_final.columns[keep_columns]\n",
        "\n",
        "keep_columns"
      ]
    },
    {
      "cell_type": "code",
      "execution_count": 75,
      "metadata": {
        "colab": {
          "base_uri": "https://localhost:8080/"
        },
        "id": "WfhjvGKkI5H2",
        "outputId": "c6feb071-622e-4320-e3c2-0eef1e5ed2b4"
      },
      "outputs": [
        {
          "output_type": "execute_result",
          "data": {
            "text/plain": [
              "Index(['Provider', 'InscClaimAmtReimbursed', 'DeductibleAmtPaid',\n",
              "       'AdmittedDays', 'RenalDiseaseIndicator', 'NoOfMonths_PartACov',\n",
              "       'NoOfMonths_PartBCov', 'ChronicCond_Alzheimer',\n",
              "       'ChronicCond_Heartfailure', 'ChronicCond_KidneyDisease',\n",
              "       'ChronicCond_Cancer', 'ChronicCond_ObstrPulmonary',\n",
              "       'ChronicCond_Depression', 'ChronicCond_Diabetes',\n",
              "       'ChronicCond_IschemicHeart', 'ChronicCond_Osteoporasis',\n",
              "       'ChronicCond_rheumatoidarthritis', 'ChronicCond_stroke',\n",
              "       'IPAnnualReimbursementAmt', 'IPAnnualDeductibleAmt',\n",
              "       'OPAnnualReimbursementAmt', 'OPAnnualDeductibleAmt', 'Age', 'DeadOrNot',\n",
              "       'Gender_2', 'Race_2', 'Race_3', 'Race_5'],\n",
              "      dtype='object')"
            ]
          },
          "metadata": {},
          "execution_count": 75
        }
      ],
      "source": [
        "test_final.columns"
      ]
    },
    {
      "cell_type": "code",
      "execution_count": 76,
      "metadata": {
        "colab": {
          "base_uri": "https://localhost:8080/"
        },
        "id": "zSvQNDhr3sfY",
        "outputId": "90fc6773-5e12-4424-e160-888f4eb29127"
      },
      "outputs": [
        {
          "output_type": "execute_result",
          "data": {
            "text/plain": [
              "Index(['Provider', 'InscClaimAmtReimbursed', 'DeductibleAmtPaid',\n",
              "       'AdmittedDays', 'RenalDiseaseIndicator', 'NoOfMonths_PartACov',\n",
              "       'NoOfMonths_PartBCov', 'ChronicCond_Alzheimer',\n",
              "       'ChronicCond_Heartfailure', 'ChronicCond_KidneyDisease',\n",
              "       'ChronicCond_Cancer', 'ChronicCond_ObstrPulmonary',\n",
              "       'ChronicCond_Depression', 'ChronicCond_Diabetes',\n",
              "       'ChronicCond_IschemicHeart', 'ChronicCond_Osteoporasis',\n",
              "       'ChronicCond_rheumatoidarthritis', 'ChronicCond_stroke',\n",
              "       'IPAnnualReimbursementAmt', 'IPAnnualDeductibleAmt',\n",
              "       'OPAnnualReimbursementAmt', 'OPAnnualDeductibleAmt', 'Age', 'DeadOrNot',\n",
              "       'PotentialFraud', 'Gender_2', 'Race_2', 'Race_3', 'Race_5'],\n",
              "      dtype='object')"
            ]
          },
          "metadata": {},
          "execution_count": 76
        }
      ],
      "source": [
        "train_final.columns"
      ]
    },
    {
      "cell_type": "code",
      "execution_count": 77,
      "metadata": {
        "id": "oxps92Qd3sO-"
      },
      "outputs": [],
      "source": [
        "y = train_final.pop('PotentialFraud')\n",
        "X = train_final.drop(columns = ['Provider'], axis=1)"
      ]
    },
    {
      "cell_type": "code",
      "execution_count": 78,
      "metadata": {
        "colab": {
          "base_uri": "https://localhost:8080/"
        },
        "id": "esAyufNG4iCt",
        "outputId": "ddbc0a4f-69ac-4da6-f4db-f04776dde886"
      },
      "outputs": [
        {
          "output_type": "execute_result",
          "data": {
            "text/plain": [
              "((558211, 27), (558211,))"
            ]
          },
          "metadata": {},
          "execution_count": 78
        }
      ],
      "source": [
        "X.shape, y.shape"
      ]
    },
    {
      "cell_type": "code",
      "execution_count": 79,
      "metadata": {
        "id": "yjIO0NAS4phO"
      },
      "outputs": [],
      "source": [
        "from sklearn.decomposition import PCA \n",
        "from sklearn.preprocessing import StandardScaler\n",
        "import matplotlib.pyplot as plt"
      ]
    },
    {
      "cell_type": "code",
      "execution_count": 80,
      "metadata": {
        "id": "cXv15EYh42nw"
      },
      "outputs": [],
      "source": [
        "scaler = StandardScaler()\n",
        "model = scaler.fit(X) \n",
        "X_scaled = model.transform(X)\n",
        "pca = PCA(n_components=27, whiten=True).fit(X_scaled)\n",
        "X_reduced = pca.transform(X_scaled)"
      ]
    },
    {
      "cell_type": "code",
      "execution_count": 81,
      "metadata": {
        "colab": {
          "base_uri": "https://localhost:8080/"
        },
        "id": "9WwbwtAESBWB",
        "outputId": "5a74163b-7347-48f7-c80d-e49f55cf15dd"
      },
      "outputs": [
        {
          "output_type": "stream",
          "name": "stdout",
          "text": [
            "PCA explained variance: [0.138 0.088 0.06  0.045 0.043 0.04  0.039 0.038 0.037 0.037 0.037 0.035\n",
            " 0.034 0.033 0.032 0.032 0.03  0.029 0.029 0.029 0.026 0.026 0.019 0.017\n",
            " 0.011 0.009 0.006]\n"
          ]
        }
      ],
      "source": [
        "print(f'PCA explained variance: {np.round(pca.explained_variance_ratio_, 3)}')"
      ]
    },
    {
      "cell_type": "code",
      "source": [
        "pickle.dump(model, open('km_scaler.pkl', 'wb'))"
      ],
      "metadata": {
        "id": "WmD2jK7oTtB5"
      },
      "execution_count": null,
      "outputs": []
    },
    {
      "cell_type": "code",
      "source": [
        "X.columns"
      ],
      "metadata": {
        "colab": {
          "base_uri": "https://localhost:8080/"
        },
        "id": "-eR2KjpV8Imk",
        "outputId": "519a80d4-369e-4654-b5eb-781e9ba63b5d"
      },
      "execution_count": 113,
      "outputs": [
        {
          "output_type": "execute_result",
          "data": {
            "text/plain": [
              "Index(['InscClaimAmtReimbursed', 'DeductibleAmtPaid', 'AdmittedDays',\n",
              "       'RenalDiseaseIndicator', 'NoOfMonths_PartACov', 'NoOfMonths_PartBCov',\n",
              "       'ChronicCond_Alzheimer', 'ChronicCond_Heartfailure',\n",
              "       'ChronicCond_KidneyDisease', 'ChronicCond_Cancer',\n",
              "       'ChronicCond_ObstrPulmonary', 'ChronicCond_Depression',\n",
              "       'ChronicCond_Diabetes', 'ChronicCond_IschemicHeart',\n",
              "       'ChronicCond_Osteoporasis', 'ChronicCond_rheumatoidarthritis',\n",
              "       'ChronicCond_stroke', 'IPAnnualReimbursementAmt',\n",
              "       'IPAnnualDeductibleAmt', 'OPAnnualReimbursementAmt',\n",
              "       'OPAnnualDeductibleAmt', 'Age', 'DeadOrNot', 'Gender_2', 'Race_2',\n",
              "       'Race_3', 'Race_5'],\n",
              "      dtype='object')"
            ]
          },
          "metadata": {},
          "execution_count": 113
        }
      ]
    },
    {
      "cell_type": "code",
      "source": [
        "df_cluster = pd.DataFrame(np.squeeze(X_scaled), columns=['InscClaimAmtReimbursed', 'DeductibleAmtPaid',\n",
        "       'AdmittedDays', 'RenalDiseaseIndicator', 'NoOfMonths_PartACov',\n",
        "       'NoOfMonths_PartBCov', 'ChronicCond_Alzheimer',\n",
        "       'ChronicCond_Heartfailure', 'ChronicCond_KidneyDisease',\n",
        "       'ChronicCond_Cancer', 'ChronicCond_ObstrPulmonary',\n",
        "       'ChronicCond_Depression', 'ChronicCond_Diabetes',\n",
        "       'ChronicCond_IschemicHeart', 'ChronicCond_Osteoporasis',\n",
        "       'ChronicCond_rheumatoidarthritis', 'ChronicCond_stroke',\n",
        "       'IPAnnualReimbursementAmt', 'IPAnnualDeductibleAmt',\n",
        "       'OPAnnualReimbursementAmt', 'OPAnnualDeductibleAmt', 'Age', 'DeadOrNot', \n",
        "       'Gender_2', 'Race_2', 'Race_3', 'Race_5'])"
      ],
      "metadata": {
        "id": "1L_XBzB_5i7T"
      },
      "execution_count": 85,
      "outputs": []
    },
    {
      "cell_type": "code",
      "source": [
        "df_selected = df_cluster[['InscClaimAmtReimbursed', 'DeductibleAmtPaid',\n",
        "                      'AdmittedDays', 'RenalDiseaseIndicator', 'NoOfMonths_PartACov',\n",
        "                      'NoOfMonths_PartBCov', 'ChronicCond_Alzheimer',\n",
        "                      'ChronicCond_Heartfailure', 'ChronicCond_KidneyDisease',\n",
        "                      'ChronicCond_Cancer', 'ChronicCond_ObstrPulmonary',\n",
        "                      'ChronicCond_Depression', 'ChronicCond_Diabetes',\n",
        "                      'ChronicCond_IschemicHeart', 'ChronicCond_Osteoporasis',\n",
        "                      'ChronicCond_rheumatoidarthritis', 'ChronicCond_stroke',\n",
        "                      'IPAnnualReimbursementAmt', 'IPAnnualDeductibleAmt',\n",
        "                      'OPAnnualReimbursementAmt', 'OPAnnualDeductibleAmt', 'Age']]"
      ],
      "metadata": {
        "id": "sGoEDLQl57_R"
      },
      "execution_count": 86,
      "outputs": []
    },
    {
      "cell_type": "markdown",
      "metadata": {
        "id": "0j9n5zNp65X3"
      },
      "source": [
        "# K-means clustering"
      ]
    },
    {
      "cell_type": "code",
      "execution_count": 82,
      "metadata": {
        "id": "29KONpyi68WJ"
      },
      "outputs": [],
      "source": [
        "from sklearn.cluster import KMeans"
      ]
    },
    {
      "cell_type": "code",
      "execution_count": null,
      "metadata": {
        "id": "6tdnulzm7AiQ"
      },
      "outputs": [],
      "source": [
        "def visualize_elbow(X, ks):\n",
        "    fig, ax = plt.subplots()\n",
        "    inertias = []\n",
        "    for k in ks:\n",
        "        kmeanModel = KMeans(n_clusters=k, random_state=0).fit(X)\n",
        "        kmeanModel.fit(X)\n",
        "        inertias.append(kmeanModel.inertia_)\n",
        "    plt.plot(ks, inertias)\n",
        "    plt.xticks(ks)\n",
        "    plt.xlabel('Number of clusters')\n",
        "    plt.ylabel('Inertia')\n",
        "    plt.title('Elbow plot')"
      ]
    },
    {
      "cell_type": "code",
      "execution_count": null,
      "metadata": {
        "colab": {
          "background_save": true,
          "base_uri": "https://localhost:8080/",
          "height": 295
        },
        "id": "eDL29y1M7REW",
        "outputId": "fee403dd-9b41-4caa-ac44-e7ebbdbeeaf6"
      },
      "outputs": [
        {
          "data": {
            "image/png": "[encoded data removed]",
            "text/plain": [
              "<Figure size 432x288 with 1 Axes>"
            ]
          },
          "metadata": {},
          "output_type": "display_data"
        }
      ],
      "source": [
        "K = range(1, 10)\n",
        "visualize_elbow(X, K)"
      ]
    },
    {
      "cell_type": "code",
      "execution_count": null,
      "metadata": {
        "id": "_O_qovrA9mJp"
      },
      "outputs": [],
      "source": [
        "from sklearn.metrics import silhouette_samples, silhouette_score"
      ]
    },
    {
      "cell_type": "code",
      "execution_count": null,
      "metadata": {
        "id": "m20m_9_19pSQ",
        "colab": {
          "base_uri": "https://localhost:8080/",
          "height": 363
        },
        "outputId": "815389ed-65b2-4235-fe05-dc1819a87dc9"
      },
      "outputs": [
        {
          "output_type": "error",
          "ename": "KeyboardInterrupt",
          "evalue": "ignored",
          "traceback": [
            "\u001b[0;31m---------------------------------------------------------------------------\u001b[0m",
            "\u001b[0;31mKeyboardInterrupt\u001b[0m                         Traceback (most recent call last)",
            "\u001b[0;32m<ipython-input-85-2b296f679206>\u001b[0m in \u001b[0;36m<module>\u001b[0;34m\u001b[0m\n\u001b[1;32m      5\u001b[0m \u001b[0;34m\u001b[0m\u001b[0m\n\u001b[1;32m      6\u001b[0m   \u001b[0mcluster_labels\u001b[0m \u001b[0;34m=\u001b[0m \u001b[0mkmeans\u001b[0m\u001b[0;34m.\u001b[0m\u001b[0mlabels_\u001b[0m\u001b[0;34m\u001b[0m\u001b[0;34m\u001b[0m\u001b[0m\n\u001b[0;32m----> 7\u001b[0;31m   \u001b[0msilhouette_avg\u001b[0m \u001b[0;34m=\u001b[0m \u001b[0msilhouette_score\u001b[0m\u001b[0;34m(\u001b[0m\u001b[0mX_reduced\u001b[0m\u001b[0;34m,\u001b[0m \u001b[0mcluster_labels\u001b[0m\u001b[0;34m)\u001b[0m\u001b[0;34m\u001b[0m\u001b[0;34m\u001b[0m\u001b[0m\n\u001b[0m\u001b[1;32m      8\u001b[0m   \u001b[0mprint\u001b[0m\u001b[0;34m(\u001b[0m\u001b[0;34m\"For n_clusters={0}, the silhouette score is {1}\"\u001b[0m\u001b[0;34m.\u001b[0m\u001b[0mformat\u001b[0m\u001b[0;34m(\u001b[0m\u001b[0mnum_clusters\u001b[0m\u001b[0;34m,\u001b[0m \u001b[0msilhouette_avg\u001b[0m\u001b[0;34m)\u001b[0m\u001b[0;34m)\u001b[0m\u001b[0;34m\u001b[0m\u001b[0;34m\u001b[0m\u001b[0m\n",
            "\u001b[0;32m/usr/local/lib/python3.8/dist-packages/sklearn/metrics/cluster/_unsupervised.py\u001b[0m in \u001b[0;36msilhouette_score\u001b[0;34m(X, labels, metric, sample_size, random_state, **kwds)\u001b[0m\n\u001b[1;32m    115\u001b[0m         \u001b[0;32melse\u001b[0m\u001b[0;34m:\u001b[0m\u001b[0;34m\u001b[0m\u001b[0;34m\u001b[0m\u001b[0m\n\u001b[1;32m    116\u001b[0m             \u001b[0mX\u001b[0m\u001b[0;34m,\u001b[0m \u001b[0mlabels\u001b[0m \u001b[0;34m=\u001b[0m \u001b[0mX\u001b[0m\u001b[0;34m[\u001b[0m\u001b[0mindices\u001b[0m\u001b[0;34m]\u001b[0m\u001b[0;34m,\u001b[0m \u001b[0mlabels\u001b[0m\u001b[0;34m[\u001b[0m\u001b[0mindices\u001b[0m\u001b[0;34m]\u001b[0m\u001b[0;34m\u001b[0m\u001b[0;34m\u001b[0m\u001b[0m\n\u001b[0;32m--> 117\u001b[0;31m     \u001b[0;32mreturn\u001b[0m \u001b[0mnp\u001b[0m\u001b[0;34m.\u001b[0m\u001b[0mmean\u001b[0m\u001b[0;34m(\u001b[0m\u001b[0msilhouette_samples\u001b[0m\u001b[0;34m(\u001b[0m\u001b[0mX\u001b[0m\u001b[0;34m,\u001b[0m \u001b[0mlabels\u001b[0m\u001b[0;34m,\u001b[0m \u001b[0mmetric\u001b[0m\u001b[0;34m=\u001b[0m\u001b[0mmetric\u001b[0m\u001b[0;34m,\u001b[0m \u001b[0;34m**\u001b[0m\u001b[0mkwds\u001b[0m\u001b[0;34m)\u001b[0m\u001b[0;34m)\u001b[0m\u001b[0;34m\u001b[0m\u001b[0;34m\u001b[0m\u001b[0m\n\u001b[0m\u001b[1;32m    118\u001b[0m \u001b[0;34m\u001b[0m\u001b[0m\n\u001b[1;32m    119\u001b[0m \u001b[0;34m\u001b[0m\u001b[0m\n",
            "\u001b[0;32m/usr/local/lib/python3.8/dist-packages/sklearn/metrics/cluster/_unsupervised.py\u001b[0m in \u001b[0;36msilhouette_samples\u001b[0;34m(X, labels, metric, **kwds)\u001b[0m\n\u001b[1;32m    231\u001b[0m         \u001b[0m_silhouette_reduce\u001b[0m\u001b[0;34m,\u001b[0m \u001b[0mlabels\u001b[0m\u001b[0;34m=\u001b[0m\u001b[0mlabels\u001b[0m\u001b[0;34m,\u001b[0m \u001b[0mlabel_freqs\u001b[0m\u001b[0;34m=\u001b[0m\u001b[0mlabel_freqs\u001b[0m\u001b[0;34m\u001b[0m\u001b[0;34m\u001b[0m\u001b[0m\n\u001b[1;32m    232\u001b[0m     )\n\u001b[0;32m--> 233\u001b[0;31m     \u001b[0mresults\u001b[0m \u001b[0;34m=\u001b[0m \u001b[0mzip\u001b[0m\u001b[0;34m(\u001b[0m\u001b[0;34m*\u001b[0m\u001b[0mpairwise_distances_chunked\u001b[0m\u001b[0;34m(\u001b[0m\u001b[0mX\u001b[0m\u001b[0;34m,\u001b[0m \u001b[0mreduce_func\u001b[0m\u001b[0;34m=\u001b[0m\u001b[0mreduce_func\u001b[0m\u001b[0;34m,\u001b[0m \u001b[0;34m**\u001b[0m\u001b[0mkwds\u001b[0m\u001b[0;34m)\u001b[0m\u001b[0;34m)\u001b[0m\u001b[0;34m\u001b[0m\u001b[0;34m\u001b[0m\u001b[0m\n\u001b[0m\u001b[1;32m    234\u001b[0m     \u001b[0mintra_clust_dists\u001b[0m\u001b[0;34m,\u001b[0m \u001b[0minter_clust_dists\u001b[0m \u001b[0;34m=\u001b[0m \u001b[0mresults\u001b[0m\u001b[0;34m\u001b[0m\u001b[0;34m\u001b[0m\u001b[0m\n\u001b[1;32m    235\u001b[0m     \u001b[0mintra_clust_dists\u001b[0m \u001b[0;34m=\u001b[0m \u001b[0mnp\u001b[0m\u001b[0;34m.\u001b[0m\u001b[0mconcatenate\u001b[0m\u001b[0;34m(\u001b[0m\u001b[0mintra_clust_dists\u001b[0m\u001b[0;34m)\u001b[0m\u001b[0;34m\u001b[0m\u001b[0;34m\u001b[0m\u001b[0m\n",
            "\u001b[0;32m/usr/local/lib/python3.8/dist-packages/sklearn/metrics/pairwise.py\u001b[0m in \u001b[0;36mpairwise_distances_chunked\u001b[0;34m(X, Y, reduce_func, metric, n_jobs, working_memory, **kwds)\u001b[0m\n\u001b[1;32m   1715\u001b[0m         \u001b[0;32melse\u001b[0m\u001b[0;34m:\u001b[0m\u001b[0;34m\u001b[0m\u001b[0;34m\u001b[0m\u001b[0m\n\u001b[1;32m   1716\u001b[0m             \u001b[0mX_chunk\u001b[0m \u001b[0;34m=\u001b[0m \u001b[0mX\u001b[0m\u001b[0;34m[\u001b[0m\u001b[0msl\u001b[0m\u001b[0;34m]\u001b[0m\u001b[0;34m\u001b[0m\u001b[0;34m\u001b[0m\u001b[0m\n\u001b[0;32m-> 1717\u001b[0;31m         \u001b[0mD_chunk\u001b[0m \u001b[0;34m=\u001b[0m \u001b[0mpairwise_distances\u001b[0m\u001b[0;34m(\u001b[0m\u001b[0mX_chunk\u001b[0m\u001b[0;34m,\u001b[0m \u001b[0mY\u001b[0m\u001b[0;34m,\u001b[0m \u001b[0mmetric\u001b[0m\u001b[0;34m=\u001b[0m\u001b[0mmetric\u001b[0m\u001b[0;34m,\u001b[0m \u001b[0mn_jobs\u001b[0m\u001b[0;34m=\u001b[0m\u001b[0mn_jobs\u001b[0m\u001b[0;34m,\u001b[0m \u001b[0;34m**\u001b[0m\u001b[0mkwds\u001b[0m\u001b[0;34m)\u001b[0m\u001b[0;34m\u001b[0m\u001b[0;34m\u001b[0m\u001b[0m\n\u001b[0m\u001b[1;32m   1718\u001b[0m         if (X is Y or Y is None) and PAIRWISE_DISTANCE_FUNCTIONS.get(\n\u001b[1;32m   1719\u001b[0m             \u001b[0mmetric\u001b[0m\u001b[0;34m,\u001b[0m \u001b[0;32mNone\u001b[0m\u001b[0;34m\u001b[0m\u001b[0;34m\u001b[0m\u001b[0m\n",
            "\u001b[0;32m/usr/local/lib/python3.8/dist-packages/sklearn/metrics/pairwise.py\u001b[0m in \u001b[0;36mpairwise_distances\u001b[0;34m(X, Y, metric, n_jobs, force_all_finite, **kwds)\u001b[0m\n\u001b[1;32m   1887\u001b[0m         \u001b[0mfunc\u001b[0m \u001b[0;34m=\u001b[0m \u001b[0mpartial\u001b[0m\u001b[0;34m(\u001b[0m\u001b[0mdistance\u001b[0m\u001b[0;34m.\u001b[0m\u001b[0mcdist\u001b[0m\u001b[0;34m,\u001b[0m \u001b[0mmetric\u001b[0m\u001b[0;34m=\u001b[0m\u001b[0mmetric\u001b[0m\u001b[0;34m,\u001b[0m \u001b[0;34m**\u001b[0m\u001b[0mkwds\u001b[0m\u001b[0;34m)\u001b[0m\u001b[0;34m\u001b[0m\u001b[0;34m\u001b[0m\u001b[0m\n\u001b[1;32m   1888\u001b[0m \u001b[0;34m\u001b[0m\u001b[0m\n\u001b[0;32m-> 1889\u001b[0;31m     \u001b[0;32mreturn\u001b[0m \u001b[0m_parallel_pairwise\u001b[0m\u001b[0;34m(\u001b[0m\u001b[0mX\u001b[0m\u001b[0;34m,\u001b[0m \u001b[0mY\u001b[0m\u001b[0;34m,\u001b[0m \u001b[0mfunc\u001b[0m\u001b[0;34m,\u001b[0m \u001b[0mn_jobs\u001b[0m\u001b[0;34m,\u001b[0m \u001b[0;34m**\u001b[0m\u001b[0mkwds\u001b[0m\u001b[0;34m)\u001b[0m\u001b[0;34m\u001b[0m\u001b[0;34m\u001b[0m\u001b[0m\n\u001b[0m\u001b[1;32m   1890\u001b[0m \u001b[0;34m\u001b[0m\u001b[0m\n\u001b[1;32m   1891\u001b[0m \u001b[0;34m\u001b[0m\u001b[0m\n",
            "\u001b[0;32m/usr/local/lib/python3.8/dist-packages/sklearn/metrics/pairwise.py\u001b[0m in \u001b[0;36m_parallel_pairwise\u001b[0;34m(X, Y, func, n_jobs, **kwds)\u001b[0m\n\u001b[1;32m   1428\u001b[0m \u001b[0;34m\u001b[0m\u001b[0m\n\u001b[1;32m   1429\u001b[0m     \u001b[0;32mif\u001b[0m \u001b[0meffective_n_jobs\u001b[0m\u001b[0;34m(\u001b[0m\u001b[0mn_jobs\u001b[0m\u001b[0;34m)\u001b[0m \u001b[0;34m==\u001b[0m \u001b[0;36m1\u001b[0m\u001b[0;34m:\u001b[0m\u001b[0;34m\u001b[0m\u001b[0;34m\u001b[0m\u001b[0m\n\u001b[0;32m-> 1430\u001b[0;31m         \u001b[0;32mreturn\u001b[0m \u001b[0mfunc\u001b[0m\u001b[0;34m(\u001b[0m\u001b[0mX\u001b[0m\u001b[0;34m,\u001b[0m \u001b[0mY\u001b[0m\u001b[0;34m,\u001b[0m \u001b[0;34m**\u001b[0m\u001b[0mkwds\u001b[0m\u001b[0;34m)\u001b[0m\u001b[0;34m\u001b[0m\u001b[0;34m\u001b[0m\u001b[0m\n\u001b[0m\u001b[1;32m   1431\u001b[0m \u001b[0;34m\u001b[0m\u001b[0m\n\u001b[1;32m   1432\u001b[0m     \u001b[0;31m# enforce a threading backend to prevent data communication overhead\u001b[0m\u001b[0;34m\u001b[0m\u001b[0;34m\u001b[0m\u001b[0;34m\u001b[0m\u001b[0m\n",
            "\u001b[0;32m/usr/local/lib/python3.8/dist-packages/sklearn/metrics/pairwise.py\u001b[0m in \u001b[0;36meuclidean_distances\u001b[0;34m(X, Y, Y_norm_squared, squared, X_norm_squared)\u001b[0m\n\u001b[1;32m    328\u001b[0m             )\n\u001b[1;32m    329\u001b[0m \u001b[0;34m\u001b[0m\u001b[0m\n\u001b[0;32m--> 330\u001b[0;31m     \u001b[0;32mreturn\u001b[0m \u001b[0m_euclidean_distances\u001b[0m\u001b[0;34m(\u001b[0m\u001b[0mX\u001b[0m\u001b[0;34m,\u001b[0m \u001b[0mY\u001b[0m\u001b[0;34m,\u001b[0m \u001b[0mX_norm_squared\u001b[0m\u001b[0;34m,\u001b[0m \u001b[0mY_norm_squared\u001b[0m\u001b[0;34m,\u001b[0m \u001b[0msquared\u001b[0m\u001b[0;34m)\u001b[0m\u001b[0;34m\u001b[0m\u001b[0;34m\u001b[0m\u001b[0m\n\u001b[0m\u001b[1;32m    331\u001b[0m \u001b[0;34m\u001b[0m\u001b[0m\n\u001b[1;32m    332\u001b[0m \u001b[0;34m\u001b[0m\u001b[0m\n",
            "\u001b[0;32m/usr/local/lib/python3.8/dist-packages/sklearn/metrics/pairwise.py\u001b[0m in \u001b[0;36m_euclidean_distances\u001b[0;34m(X, Y, X_norm_squared, Y_norm_squared, squared)\u001b[0m\n\u001b[1;32m    369\u001b[0m     \u001b[0;32melse\u001b[0m\u001b[0;34m:\u001b[0m\u001b[0;34m\u001b[0m\u001b[0;34m\u001b[0m\u001b[0m\n\u001b[1;32m    370\u001b[0m         \u001b[0;31m# if dtype is already float64, no need to chunk and upcast\u001b[0m\u001b[0;34m\u001b[0m\u001b[0;34m\u001b[0m\u001b[0;34m\u001b[0m\u001b[0m\n\u001b[0;32m--> 371\u001b[0;31m         \u001b[0mdistances\u001b[0m \u001b[0;34m=\u001b[0m \u001b[0;34m-\u001b[0m\u001b[0;36m2\u001b[0m \u001b[0;34m*\u001b[0m \u001b[0msafe_sparse_dot\u001b[0m\u001b[0;34m(\u001b[0m\u001b[0mX\u001b[0m\u001b[0;34m,\u001b[0m \u001b[0mY\u001b[0m\u001b[0;34m.\u001b[0m\u001b[0mT\u001b[0m\u001b[0;34m,\u001b[0m \u001b[0mdense_output\u001b[0m\u001b[0;34m=\u001b[0m\u001b[0;32mTrue\u001b[0m\u001b[0;34m)\u001b[0m\u001b[0;34m\u001b[0m\u001b[0;34m\u001b[0m\u001b[0m\n\u001b[0m\u001b[1;32m    372\u001b[0m         \u001b[0mdistances\u001b[0m \u001b[0;34m+=\u001b[0m \u001b[0mXX\u001b[0m\u001b[0;34m\u001b[0m\u001b[0;34m\u001b[0m\u001b[0m\n\u001b[1;32m    373\u001b[0m         \u001b[0mdistances\u001b[0m \u001b[0;34m+=\u001b[0m \u001b[0mYY\u001b[0m\u001b[0;34m\u001b[0m\u001b[0;34m\u001b[0m\u001b[0m\n",
            "\u001b[0;31mKeyboardInterrupt\u001b[0m: "
          ]
        }
      ],
      "source": [
        "range_n_clusters = [2,3,4,5,6,7,8]\n",
        "for num_clusters in range_n_clusters:\n",
        "  kmeans = KMeans(n_clusters=num_clusters, max_iter=50, random_state=2022)\n",
        "  kmeans.fit(X_reduced)\n",
        "\n",
        "  cluster_labels = kmeans.labels_\n",
        "  silhouette_avg = silhouette_score(X_reduced, cluster_labels)\n",
        "  print(\"For n_clusters={0}, the silhouette score is {1}\".format(num_clusters, silhouette_avg))"
      ]
    },
    {
      "cell_type": "code",
      "execution_count": 87,
      "metadata": {
        "id": "EAtx5JaQ9xSG",
        "colab": {
          "base_uri": "https://localhost:8080/"
        },
        "outputId": "e0f279b6-3f59-4ec7-8944-439bb28fb5f4"
      },
      "outputs": [
        {
          "output_type": "execute_result",
          "data": {
            "text/plain": [
              "KMeans(max_iter=50, n_clusters=3, random_state=2022)"
            ]
          },
          "metadata": {},
          "execution_count": 87
        }
      ],
      "source": [
        "km = KMeans(n_clusters=3, max_iter=50, random_state=2022)\n",
        "km.fit(df_selected)"
      ]
    },
    {
      "cell_type": "code",
      "execution_count": 88,
      "metadata": {
        "id": "un1F9f-0I3EA",
        "colab": {
          "base_uri": "https://localhost:8080/"
        },
        "outputId": "fec3c67a-22e3-4940-803a-df8ed9fa6776"
      },
      "outputs": [
        {
          "output_type": "stream",
          "name": "stdout",
          "text": [
            "Cluster 0\n",
            "Center: [ 2.39834597  3.54944016  2.69753837  0.15922457 -0.01712115 -0.01921468\n",
            "  0.21242977  0.27355763  0.39168702  0.11349358  0.36230027  0.13809479\n",
            "  0.21741891  0.23251636  0.075788    0.10830251  0.22513452  1.05781376\n",
            "  1.21140822 -0.09641148 -0.12136136  0.02762291]\n",
            "Size: 39973\n",
            "Cluster 1\n",
            "Center: [-0.16498013 -0.2756735  -0.20678946  0.50616846  0.02928922  0.03572619\n",
            "  0.37891145  0.54934652  0.75168049  0.21027373  0.50909834  0.36479773\n",
            "  0.506143    0.42179049  0.20517263  0.30468394  0.26964406  0.28276294\n",
            "  0.27113126  0.35876803  0.37551855  0.0718642 ]\n",
            "Size: 216016\n",
            "Cluster 2\n",
            "Center: [-0.19925723 -0.27239836 -0.20896129 -0.38236253 -0.01864422 -0.02296235\n",
            " -0.29855624 -0.42829714 -0.58834299 -0.16510066 -0.4112974  -0.27865559\n",
            " -0.39003674 -0.33181949 -0.15647528 -0.23180681 -0.22223786 -0.34166971\n",
            " -0.35366953 -0.24335336 -0.2520123  -0.05494975]\n",
            "Size: 302222\n"
          ]
        }
      ],
      "source": [
        "# Size of each cluster\n",
        "for i in range(len(km.cluster_centers_)):\n",
        "  print(\"Cluster\", i)\n",
        "  print(\"Center:\", km.cluster_centers_[i])\n",
        "  print(\"Size:\", sum(km.labels_ == i))"
      ]
    },
    {
      "cell_type": "code",
      "execution_count": 89,
      "metadata": {
        "id": "nShcyUZwI-db"
      },
      "outputs": [],
      "source": [
        "train_final['cluster_pca'] = km.labels_"
      ]
    },
    {
      "cell_type": "code",
      "execution_count": 90,
      "metadata": {
        "id": "UObEFlRnJyzF",
        "colab": {
          "base_uri": "https://localhost:8080/",
          "height": 270
        },
        "outputId": "3ff5f2ec-51c0-40f2-9c35-f35b8afadbd1"
      },
      "outputs": [
        {
          "output_type": "execute_result",
          "data": {
            "text/plain": [
              "   Provider  InscClaimAmtReimbursed  DeductibleAmtPaid  AdmittedDays  \\\n",
              "0  PRV55912                   26000             1068.0           7.0   \n",
              "1  PRV55912                      50                0.0           0.0   \n",
              "2  PRV55912                   19000             1068.0          13.0   \n",
              "3  PRV55912                   17000             1068.0          19.0   \n",
              "4  PRV55912                   13000             1068.0           5.0   \n",
              "\n",
              "  RenalDiseaseIndicator  NoOfMonths_PartACov  NoOfMonths_PartBCov  \\\n",
              "0                     0                   12                   12   \n",
              "1                     0                   12                   12   \n",
              "2                     0                   12                   12   \n",
              "3                     0                   12                   12   \n",
              "4                     0                   12                   12   \n",
              "\n",
              "   ChronicCond_Alzheimer  ChronicCond_Heartfailure  ChronicCond_KidneyDisease  \\\n",
              "0                      1                         0                          1   \n",
              "1                      1                         1                          1   \n",
              "2                      1                         1                          1   \n",
              "3                      0                         0                          0   \n",
              "4                      0                         1                          0   \n",
              "\n",
              "   ChronicCond_Cancer  ChronicCond_ObstrPulmonary  ChronicCond_Depression  \\\n",
              "0                   0                           0                       1   \n",
              "1                   0                           0                       0   \n",
              "2                   0                           1                       0   \n",
              "3                   0                           0                       0   \n",
              "4                   0                           1                       0   \n",
              "\n",
              "   ChronicCond_Diabetes  ChronicCond_IschemicHeart  ChronicCond_Osteoporasis  \\\n",
              "0                     1                          1                         0   \n",
              "1                     0                          1                         0   \n",
              "2                     0                          1                         0   \n",
              "3                     0                          1                         1   \n",
              "4                     1                          1                         1   \n",
              "\n",
              "   ChronicCond_rheumatoidarthritis  ChronicCond_stroke  \\\n",
              "0                                1                   1   \n",
              "1                                0                   0   \n",
              "2                                0                   0   \n",
              "3                                0                   0   \n",
              "4                                1                   0   \n",
              "\n",
              "   IPAnnualReimbursementAmt  IPAnnualDeductibleAmt  OPAnnualReimbursementAmt  \\\n",
              "0                     36000                   3204                        60   \n",
              "1                     24000                   2136                       450   \n",
              "2                     19000                   1068                       100   \n",
              "3                     17000                   1068                      1050   \n",
              "4                     27000                   2136                       450   \n",
              "\n",
              "   OPAnnualDeductibleAmt    Age  DeadOrNot  Gender_2  Race_2  Race_3  Race_5  \\\n",
              "0                     70   77.0        0.0         0       0       0       0   \n",
              "1                    200   88.0        0.0         0       0       0       0   \n",
              "2                     20  106.0        0.0         1       0       0       0   \n",
              "3                    540   97.0        0.0         0       0       0       0   \n",
              "4                    160   89.0        0.0         1       0       0       0   \n",
              "\n",
              "   cluster_pca  \n",
              "0            0  \n",
              "1            1  \n",
              "2            0  \n",
              "3            0  \n",
              "4            0  "
            ],
            "text/html": [
              "\n",
              "  <div id=\"df-47c18340-809f-440f-993a-04b44b3a54b4\">\n",
              "    <div class=\"colab-df-container\">\n",
              "      <div>\n",
              "<style scoped>\n",
              "    .dataframe tbody tr th:only-of-type {\n",
              "        vertical-align: middle;\n",
              "    }\n",
              "\n",
              "    .dataframe tbody tr th {\n",
              "        vertical-align: top;\n",
              "    }\n",
              "\n",
              "    .dataframe thead th {\n",
              "        text-align: right;\n",
              "    }\n",
              "</style>\n",
              "<table border=\"1\" class=\"dataframe\">\n",
              "  <thead>\n",
              "    <tr style=\"text-align: right;\">\n",
              "      <th></th>\n",
              "      <th>Provider</th>\n",
              "      <th>InscClaimAmtReimbursed</th>\n",
              "      <th>DeductibleAmtPaid</th>\n",
              "      <th>AdmittedDays</th>\n",
              "      <th>RenalDiseaseIndicator</th>\n",
              "      <th>NoOfMonths_PartACov</th>\n",
              "      <th>NoOfMonths_PartBCov</th>\n",
              "      <th>ChronicCond_Alzheimer</th>\n",
              "      <th>ChronicCond_Heartfailure</th>\n",
              "      <th>ChronicCond_KidneyDisease</th>\n",
              "      <th>ChronicCond_Cancer</th>\n",
              "      <th>ChronicCond_ObstrPulmonary</th>\n",
              "      <th>ChronicCond_Depression</th>\n",
              "      <th>ChronicCond_Diabetes</th>\n",
              "      <th>ChronicCond_IschemicHeart</th>\n",
              "      <th>ChronicCond_Osteoporasis</th>\n",
              "      <th>ChronicCond_rheumatoidarthritis</th>\n",
              "      <th>ChronicCond_stroke</th>\n",
              "      <th>IPAnnualReimbursementAmt</th>\n",
              "      <th>IPAnnualDeductibleAmt</th>\n",
              "      <th>OPAnnualReimbursementAmt</th>\n",
              "      <th>OPAnnualDeductibleAmt</th>\n",
              "      <th>Age</th>\n",
              "      <th>DeadOrNot</th>\n",
              "      <th>Gender_2</th>\n",
              "      <th>Race_2</th>\n",
              "      <th>Race_3</th>\n",
              "      <th>Race_5</th>\n",
              "      <th>cluster_pca</th>\n",
              "    </tr>\n",
              "  </thead>\n",
              "  <tbody>\n",
              "    <tr>\n",
              "      <th>0</th>\n",
              "      <td>PRV55912</td>\n",
              "      <td>26000</td>\n",
              "      <td>1068.0</td>\n",
              "      <td>7.0</td>\n",
              "      <td>0</td>\n",
              "      <td>12</td>\n",
              "      <td>12</td>\n",
              "      <td>1</td>\n",
              "      <td>0</td>\n",
              "      <td>1</td>\n",
              "      <td>0</td>\n",
              "      <td>0</td>\n",
              "      <td>1</td>\n",
              "      <td>1</td>\n",
              "      <td>1</td>\n",
              "      <td>0</td>\n",
              "      <td>1</td>\n",
              "      <td>1</td>\n",
              "      <td>36000</td>\n",
              "      <td>3204</td>\n",
              "      <td>60</td>\n",
              "      <td>70</td>\n",
              "      <td>77.0</td>\n",
              "      <td>0.0</td>\n",
              "      <td>0</td>\n",
              "      <td>0</td>\n",
              "      <td>0</td>\n",
              "      <td>0</td>\n",
              "      <td>0</td>\n",
              "    </tr>\n",
              "    <tr>\n",
              "      <th>1</th>\n",
              "      <td>PRV55912</td>\n",
              "      <td>50</td>\n",
              "      <td>0.0</td>\n",
              "      <td>0.0</td>\n",
              "      <td>0</td>\n",
              "      <td>12</td>\n",
              "      <td>12</td>\n",
              "      <td>1</td>\n",
              "      <td>1</td>\n",
              "      <td>1</td>\n",
              "      <td>0</td>\n",
              "      <td>0</td>\n",
              "      <td>0</td>\n",
              "      <td>0</td>\n",
              "      <td>1</td>\n",
              "      <td>0</td>\n",
              "      <td>0</td>\n",
              "      <td>0</td>\n",
              "      <td>24000</td>\n",
              "      <td>2136</td>\n",
              "      <td>450</td>\n",
              "      <td>200</td>\n",
              "      <td>88.0</td>\n",
              "      <td>0.0</td>\n",
              "      <td>0</td>\n",
              "      <td>0</td>\n",
              "      <td>0</td>\n",
              "      <td>0</td>\n",
              "      <td>1</td>\n",
              "    </tr>\n",
              "    <tr>\n",
              "      <th>2</th>\n",
              "      <td>PRV55912</td>\n",
              "      <td>19000</td>\n",
              "      <td>1068.0</td>\n",
              "      <td>13.0</td>\n",
              "      <td>0</td>\n",
              "      <td>12</td>\n",
              "      <td>12</td>\n",
              "      <td>1</td>\n",
              "      <td>1</td>\n",
              "      <td>1</td>\n",
              "      <td>0</td>\n",
              "      <td>1</td>\n",
              "      <td>0</td>\n",
              "      <td>0</td>\n",
              "      <td>1</td>\n",
              "      <td>0</td>\n",
              "      <td>0</td>\n",
              "      <td>0</td>\n",
              "      <td>19000</td>\n",
              "      <td>1068</td>\n",
              "      <td>100</td>\n",
              "      <td>20</td>\n",
              "      <td>106.0</td>\n",
              "      <td>0.0</td>\n",
              "      <td>1</td>\n",
              "      <td>0</td>\n",
              "      <td>0</td>\n",
              "      <td>0</td>\n",
              "      <td>0</td>\n",
              "    </tr>\n",
              "    <tr>\n",
              "      <th>3</th>\n",
              "      <td>PRV55912</td>\n",
              "      <td>17000</td>\n",
              "      <td>1068.0</td>\n",
              "      <td>19.0</td>\n",
              "      <td>0</td>\n",
              "      <td>12</td>\n",
              "      <td>12</td>\n",
              "      <td>0</td>\n",
              "      <td>0</td>\n",
              "      <td>0</td>\n",
              "      <td>0</td>\n",
              "      <td>0</td>\n",
              "      <td>0</td>\n",
              "      <td>0</td>\n",
              "      <td>1</td>\n",
              "      <td>1</td>\n",
              "      <td>0</td>\n",
              "      <td>0</td>\n",
              "      <td>17000</td>\n",
              "      <td>1068</td>\n",
              "      <td>1050</td>\n",
              "      <td>540</td>\n",
              "      <td>97.0</td>\n",
              "      <td>0.0</td>\n",
              "      <td>0</td>\n",
              "      <td>0</td>\n",
              "      <td>0</td>\n",
              "      <td>0</td>\n",
              "      <td>0</td>\n",
              "    </tr>\n",
              "    <tr>\n",
              "      <th>4</th>\n",
              "      <td>PRV55912</td>\n",
              "      <td>13000</td>\n",
              "      <td>1068.0</td>\n",
              "      <td>5.0</td>\n",
              "      <td>0</td>\n",
              "      <td>12</td>\n",
              "      <td>12</td>\n",
              "      <td>0</td>\n",
              "      <td>1</td>\n",
              "      <td>0</td>\n",
              "      <td>0</td>\n",
              "      <td>1</td>\n",
              "      <td>0</td>\n",
              "      <td>1</td>\n",
              "      <td>1</td>\n",
              "      <td>1</td>\n",
              "      <td>1</td>\n",
              "      <td>0</td>\n",
              "      <td>27000</td>\n",
              "      <td>2136</td>\n",
              "      <td>450</td>\n",
              "      <td>160</td>\n",
              "      <td>89.0</td>\n",
              "      <td>0.0</td>\n",
              "      <td>1</td>\n",
              "      <td>0</td>\n",
              "      <td>0</td>\n",
              "      <td>0</td>\n",
              "      <td>0</td>\n",
              "    </tr>\n",
              "  </tbody>\n",
              "</table>\n",
              "</div>\n",
              "      <button class=\"colab-df-convert\" onclick=\"convertToInteractive('df-47c18340-809f-440f-993a-04b44b3a54b4')\"\n",
              "              title=\"Convert this dataframe to an interactive table.\"\n",
              "              style=\"display:none;\">\n",
              "        \n",
              "  <svg xmlns=\"http://www.w3.org/2000/svg\" height=\"24px\"viewBox=\"0 0 24 24\"\n",
              "       width=\"24px\">\n",
              "    <path d=\"M0 0h24v24H0V0z\" fill=\"none\"/>\n",
              "    <path d=\"M18.56 5.44l.94 2.06.94-2.06 2.06-.94-2.06-.94-.94-2.06-.94 2.06-2.06.94zm-11 1L8.5 8.5l.94-2.06 2.06-.94-2.06-.94L8.5 2.5l-.94 2.06-2.06.94zm10 10l.94 2.06.94-2.06 2.06-.94-2.06-.94-.94-2.06-.94 2.06-2.06.94z\"/><path d=\"M17.41 7.96l-1.37-1.37c-.4-.4-.92-.59-1.43-.59-.52 0-1.04.2-1.43.59L10.3 9.45l-7.72 7.72c-.78.78-.78 2.05 0 2.83L4 21.41c.39.39.9.59 1.41.59.51 0 1.02-.2 1.41-.59l7.78-7.78 2.81-2.81c.8-.78.8-2.07 0-2.86zM5.41 20L4 18.59l7.72-7.72 1.47 1.35L5.41 20z\"/>\n",
              "  </svg>\n",
              "      </button>\n",
              "      \n",
              "  <style>\n",
              "    .colab-df-container {\n",
              "      display:flex;\n",
              "      flex-wrap:wrap;\n",
              "      gap: 12px;\n",
              "    }\n",
              "\n",
              "    .colab-df-convert {\n",
              "      background-color: #E8F0FE;\n",
              "      border: none;\n",
              "      border-radius: 50%;\n",
              "      cursor: pointer;\n",
              "      display: none;\n",
              "      fill: #1967D2;\n",
              "      height: 32px;\n",
              "      padding: 0 0 0 0;\n",
              "      width: 32px;\n",
              "    }\n",
              "\n",
              "    .colab-df-convert:hover {\n",
              "      background-color: #E2EBFA;\n",
              "      box-shadow: 0px 1px 2px rgba(60, 64, 67, 0.3), 0px 1px 3px 1px rgba(60, 64, 67, 0.15);\n",
              "      fill: #174EA6;\n",
              "    }\n",
              "\n",
              "    [theme=dark] .colab-df-convert {\n",
              "      background-color: #3B4455;\n",
              "      fill: #D2E3FC;\n",
              "    }\n",
              "\n",
              "    [theme=dark] .colab-df-convert:hover {\n",
              "      background-color: #434B5C;\n",
              "      box-shadow: 0px 1px 3px 1px rgba(0, 0, 0, 0.15);\n",
              "      filter: drop-shadow(0px 1px 2px rgba(0, 0, 0, 0.3));\n",
              "      fill: #FFFFFF;\n",
              "    }\n",
              "  </style>\n",
              "\n",
              "      <script>\n",
              "        const buttonEl =\n",
              "          document.querySelector('#df-47c18340-809f-440f-993a-04b44b3a54b4 button.colab-df-convert');\n",
              "        buttonEl.style.display =\n",
              "          google.colab.kernel.accessAllowed ? 'block' : 'none';\n",
              "\n",
              "        async function convertToInteractive(key) {\n",
              "          const element = document.querySelector('#df-47c18340-809f-440f-993a-04b44b3a54b4');\n",
              "          const dataTable =\n",
              "            await google.colab.kernel.invokeFunction('convertToInteractive',\n",
              "                                                     [key], {});\n",
              "          if (!dataTable) return;\n",
              "\n",
              "          const docLinkHtml = 'Like what you see? Visit the ' +\n",
              "            '<a target=\"_blank\" href=https://colab.research.google.com/notebooks/data_table.ipynb>data table notebook</a>'\n",
              "            + ' to learn more about interactive tables.';\n",
              "          element.innerHTML = '';\n",
              "          dataTable['output_type'] = 'display_data';\n",
              "          await google.colab.output.renderOutput(dataTable, element);\n",
              "          const docLink = document.createElement('div');\n",
              "          docLink.innerHTML = docLinkHtml;\n",
              "          element.appendChild(docLink);\n",
              "        }\n",
              "      </script>\n",
              "    </div>\n",
              "  </div>\n",
              "  "
            ]
          },
          "metadata": {},
          "execution_count": 90
        }
      ],
      "source": [
        "train_final.head()"
      ]
    },
    {
      "cell_type": "code",
      "execution_count": 91,
      "metadata": {
        "id": "PtTBaViwJ1cd",
        "colab": {
          "base_uri": "https://localhost:8080/"
        },
        "outputId": "da120b88-feaf-408a-f7f4-50fdfc7f70d9"
      },
      "outputs": [
        {
          "output_type": "execute_result",
          "data": {
            "text/plain": [
              "array([0, 1, 2], dtype=int32)"
            ]
          },
          "metadata": {},
          "execution_count": 91
        }
      ],
      "source": [
        "train_final['cluster_pca'].unique()"
      ]
    },
    {
      "cell_type": "code",
      "execution_count": 92,
      "metadata": {
        "id": "htG2R3zeJ9Uz",
        "colab": {
          "base_uri": "https://localhost:8080/",
          "height": 364
        },
        "outputId": "5fbd81b2-6154-4e79-f7bf-6372d66d10cb"
      },
      "outputs": [
        {
          "output_type": "execute_result",
          "data": {
            "text/plain": [
              "       InscClaimAmtReimbursed  DeductibleAmtPaid  AdmittedDays  \\\n",
              "count            39973.000000       39973.000000  39973.000000   \n",
              "mean             10161.885773        1050.154955      6.688940   \n",
              "std              10404.924757         136.758282      5.670954   \n",
              "min                  0.000000           0.000000      0.000000   \n",
              "25%               4000.000000        1068.000000      3.000000   \n",
              "50%               7000.000000        1068.000000      5.000000   \n",
              "75%              12000.000000        1068.000000      8.000000   \n",
              "max             125000.000000        1068.000000     36.000000   \n",
              "\n",
              "       NoOfMonths_PartACov  NoOfMonths_PartBCov  ChronicCond_Alzheimer  \\\n",
              "count         39973.000000         39973.000000           39973.000000   \n",
              "mean             11.916243            11.923673               0.506042   \n",
              "std               0.983116             0.873692               0.499970   \n",
              "min               0.000000             0.000000               0.000000   \n",
              "25%              12.000000            12.000000               0.000000   \n",
              "50%              12.000000            12.000000               1.000000   \n",
              "75%              12.000000            12.000000               1.000000   \n",
              "max              12.000000            12.000000               1.000000   \n",
              "\n",
              "       ChronicCond_Heartfailure  ChronicCond_KidneyDisease  \\\n",
              "count              39973.000000               39973.000000   \n",
              "mean                   0.724964                   0.604808   \n",
              "std                    0.446538                   0.488898   \n",
              "min                    0.000000                   0.000000   \n",
              "25%                    0.000000                   0.000000   \n",
              "50%                    1.000000                   1.000000   \n",
              "75%                    1.000000                   1.000000   \n",
              "max                    1.000000                   1.000000   \n",
              "\n",
              "       ChronicCond_Cancer  ChronicCond_ObstrPulmonary  ChronicCond_Depression  \\\n",
              "count        39973.000000                39973.000000            39973.000000   \n",
              "mean             0.192055                    0.480950                0.503240   \n",
              "std              0.393921                    0.499643                0.499996   \n",
              "min              0.000000                    0.000000                0.000000   \n",
              "25%              0.000000                    0.000000                0.000000   \n",
              "50%              0.000000                    0.000000                1.000000   \n",
              "75%              0.000000                    1.000000                1.000000   \n",
              "max              1.000000                    1.000000                1.000000   \n",
              "\n",
              "       ChronicCond_Diabetes  ChronicCond_IschemicHeart  \\\n",
              "count          39973.000000               39973.000000   \n",
              "mean               0.804518                   0.858680   \n",
              "std                0.396576                   0.348356   \n",
              "min                0.000000                   0.000000   \n",
              "25%                1.000000                   1.000000   \n",
              "50%                1.000000                   1.000000   \n",
              "75%                1.000000                   1.000000   \n",
              "max                1.000000                   1.000000   \n",
              "\n",
              "       ChronicCond_Osteoporasis  ChronicCond_rheumatoidarthritis  \\\n",
              "count              39973.000000                     39973.000000   \n",
              "mean                   0.352963                         0.361319   \n",
              "std                    0.477897                         0.480389   \n",
              "min                    0.000000                         0.000000   \n",
              "25%                    0.000000                         0.000000   \n",
              "50%                    0.000000                         0.000000   \n",
              "75%                    1.000000                         1.000000   \n",
              "max                    1.000000                         1.000000   \n",
              "\n",
              "       ChronicCond_stroke  IPAnnualReimbursementAmt  IPAnnualDeductibleAmt  \\\n",
              "count        39973.000000              39973.000000           39973.000000   \n",
              "mean             0.169815              17698.293348            1997.632252   \n",
              "std              0.375475              17790.629144            2345.749583   \n",
              "min              0.000000                  0.000000               0.000000   \n",
              "25%              0.000000               6000.000000            1068.000000   \n",
              "50%              0.000000              12000.000000            1068.000000   \n",
              "75%              0.000000              22080.000000            2136.000000   \n",
              "max              1.000000             161470.000000           38272.000000   \n",
              "\n",
              "       OPAnnualReimbursementAmt  OPAnnualDeductibleAmt           Age  \\\n",
              "count              39973.000000           39973.000000  39973.000000   \n",
              "mean                1904.966352             528.353263     84.056463   \n",
              "std                 4089.560853             940.068801     13.209149   \n",
              "min                  -70.000000               0.000000     36.000000   \n",
              "25%                  190.000000              40.000000     78.000000   \n",
              "50%                  740.000000             220.000000     85.000000   \n",
              "75%                 2020.000000             610.000000     93.000000   \n",
              "max               102960.000000           13840.000000    111.000000   \n",
              "\n",
              "          DeadOrNot      Gender_2        Race_2        Race_3        Race_5  \\\n",
              "count  39973.000000  39973.000000  39973.000000  39973.000000  39973.000000   \n",
              "mean       0.007855      0.573962      0.103820      0.033823      0.019338   \n",
              "std        0.088282      0.494505      0.305031      0.180775      0.137712   \n",
              "min        0.000000      0.000000      0.000000      0.000000      0.000000   \n",
              "25%        0.000000      0.000000      0.000000      0.000000      0.000000   \n",
              "50%        0.000000      1.000000      0.000000      0.000000      0.000000   \n",
              "75%        0.000000      1.000000      0.000000      0.000000      0.000000   \n",
              "max        1.000000      1.000000      1.000000      1.000000      1.000000   \n",
              "\n",
              "       cluster_pca  \n",
              "count      39973.0  \n",
              "mean           0.0  \n",
              "std            0.0  \n",
              "min            0.0  \n",
              "25%            0.0  \n",
              "50%            0.0  \n",
              "75%            0.0  \n",
              "max            0.0  "
            ],
            "text/html": [
              "\n",
              "  <div id=\"df-436e03ba-89f7-471b-9575-d689a58f3be3\">\n",
              "    <div class=\"colab-df-container\">\n",
              "      <div>\n",
              "<style scoped>\n",
              "    .dataframe tbody tr th:only-of-type {\n",
              "        vertical-align: middle;\n",
              "    }\n",
              "\n",
              "    .dataframe tbody tr th {\n",
              "        vertical-align: top;\n",
              "    }\n",
              "\n",
              "    .dataframe thead th {\n",
              "        text-align: right;\n",
              "    }\n",
              "</style>\n",
              "<table border=\"1\" class=\"dataframe\">\n",
              "  <thead>\n",
              "    <tr style=\"text-align: right;\">\n",
              "      <th></th>\n",
              "      <th>InscClaimAmtReimbursed</th>\n",
              "      <th>DeductibleAmtPaid</th>\n",
              "      <th>AdmittedDays</th>\n",
              "      <th>NoOfMonths_PartACov</th>\n",
              "      <th>NoOfMonths_PartBCov</th>\n",
              "      <th>ChronicCond_Alzheimer</th>\n",
              "      <th>ChronicCond_Heartfailure</th>\n",
              "      <th>ChronicCond_KidneyDisease</th>\n",
              "      <th>ChronicCond_Cancer</th>\n",
              "      <th>ChronicCond_ObstrPulmonary</th>\n",
              "      <th>ChronicCond_Depression</th>\n",
              "      <th>ChronicCond_Diabetes</th>\n",
              "      <th>ChronicCond_IschemicHeart</th>\n",
              "      <th>ChronicCond_Osteoporasis</th>\n",
              "      <th>ChronicCond_rheumatoidarthritis</th>\n",
              "      <th>ChronicCond_stroke</th>\n",
              "      <th>IPAnnualReimbursementAmt</th>\n",
              "      <th>IPAnnualDeductibleAmt</th>\n",
              "      <th>OPAnnualReimbursementAmt</th>\n",
              "      <th>OPAnnualDeductibleAmt</th>\n",
              "      <th>Age</th>\n",
              "      <th>DeadOrNot</th>\n",
              "      <th>Gender_2</th>\n",
              "      <th>Race_2</th>\n",
              "      <th>Race_3</th>\n",
              "      <th>Race_5</th>\n",
              "      <th>cluster_pca</th>\n",
              "    </tr>\n",
              "  </thead>\n",
              "  <tbody>\n",
              "    <tr>\n",
              "      <th>count</th>\n",
              "      <td>39973.000000</td>\n",
              "      <td>39973.000000</td>\n",
              "      <td>39973.000000</td>\n",
              "      <td>39973.000000</td>\n",
              "      <td>39973.000000</td>\n",
              "      <td>39973.000000</td>\n",
              "      <td>39973.000000</td>\n",
              "      <td>39973.000000</td>\n",
              "      <td>39973.000000</td>\n",
              "      <td>39973.000000</td>\n",
              "      <td>39973.000000</td>\n",
              "      <td>39973.000000</td>\n",
              "      <td>39973.000000</td>\n",
              "      <td>39973.000000</td>\n",
              "      <td>39973.000000</td>\n",
              "      <td>39973.000000</td>\n",
              "      <td>39973.000000</td>\n",
              "      <td>39973.000000</td>\n",
              "      <td>39973.000000</td>\n",
              "      <td>39973.000000</td>\n",
              "      <td>39973.000000</td>\n",
              "      <td>39973.000000</td>\n",
              "      <td>39973.000000</td>\n",
              "      <td>39973.000000</td>\n",
              "      <td>39973.000000</td>\n",
              "      <td>39973.000000</td>\n",
              "      <td>39973.0</td>\n",
              "    </tr>\n",
              "    <tr>\n",
              "      <th>mean</th>\n",
              "      <td>10161.885773</td>\n",
              "      <td>1050.154955</td>\n",
              "      <td>6.688940</td>\n",
              "      <td>11.916243</td>\n",
              "      <td>11.923673</td>\n",
              "      <td>0.506042</td>\n",
              "      <td>0.724964</td>\n",
              "      <td>0.604808</td>\n",
              "      <td>0.192055</td>\n",
              "      <td>0.480950</td>\n",
              "      <td>0.503240</td>\n",
              "      <td>0.804518</td>\n",
              "      <td>0.858680</td>\n",
              "      <td>0.352963</td>\n",
              "      <td>0.361319</td>\n",
              "      <td>0.169815</td>\n",
              "      <td>17698.293348</td>\n",
              "      <td>1997.632252</td>\n",
              "      <td>1904.966352</td>\n",
              "      <td>528.353263</td>\n",
              "      <td>84.056463</td>\n",
              "      <td>0.007855</td>\n",
              "      <td>0.573962</td>\n",
              "      <td>0.103820</td>\n",
              "      <td>0.033823</td>\n",
              "      <td>0.019338</td>\n",
              "      <td>0.0</td>\n",
              "    </tr>\n",
              "    <tr>\n",
              "      <th>std</th>\n",
              "      <td>10404.924757</td>\n",
              "      <td>136.758282</td>\n",
              "      <td>5.670954</td>\n",
              "      <td>0.983116</td>\n",
              "      <td>0.873692</td>\n",
              "      <td>0.499970</td>\n",
              "      <td>0.446538</td>\n",
              "      <td>0.488898</td>\n",
              "      <td>0.393921</td>\n",
              "      <td>0.499643</td>\n",
              "      <td>0.499996</td>\n",
              "      <td>0.396576</td>\n",
              "      <td>0.348356</td>\n",
              "      <td>0.477897</td>\n",
              "      <td>0.480389</td>\n",
              "      <td>0.375475</td>\n",
              "      <td>17790.629144</td>\n",
              "      <td>2345.749583</td>\n",
              "      <td>4089.560853</td>\n",
              "      <td>940.068801</td>\n",
              "      <td>13.209149</td>\n",
              "      <td>0.088282</td>\n",
              "      <td>0.494505</td>\n",
              "      <td>0.305031</td>\n",
              "      <td>0.180775</td>\n",
              "      <td>0.137712</td>\n",
              "      <td>0.0</td>\n",
              "    </tr>\n",
              "    <tr>\n",
              "      <th>min</th>\n",
              "      <td>0.000000</td>\n",
              "      <td>0.000000</td>\n",
              "      <td>0.000000</td>\n",
              "      <td>0.000000</td>\n",
              "      <td>0.000000</td>\n",
              "      <td>0.000000</td>\n",
              "      <td>0.000000</td>\n",
              "      <td>0.000000</td>\n",
              "      <td>0.000000</td>\n",
              "      <td>0.000000</td>\n",
              "      <td>0.000000</td>\n",
              "      <td>0.000000</td>\n",
              "      <td>0.000000</td>\n",
              "      <td>0.000000</td>\n",
              "      <td>0.000000</td>\n",
              "      <td>0.000000</td>\n",
              "      <td>0.000000</td>\n",
              "      <td>0.000000</td>\n",
              "      <td>-70.000000</td>\n",
              "      <td>0.000000</td>\n",
              "      <td>36.000000</td>\n",
              "      <td>0.000000</td>\n",
              "      <td>0.000000</td>\n",
              "      <td>0.000000</td>\n",
              "      <td>0.000000</td>\n",
              "      <td>0.000000</td>\n",
              "      <td>0.0</td>\n",
              "    </tr>\n",
              "    <tr>\n",
              "      <th>25%</th>\n",
              "      <td>4000.000000</td>\n",
              "      <td>1068.000000</td>\n",
              "      <td>3.000000</td>\n",
              "      <td>12.000000</td>\n",
              "      <td>12.000000</td>\n",
              "      <td>0.000000</td>\n",
              "      <td>0.000000</td>\n",
              "      <td>0.000000</td>\n",
              "      <td>0.000000</td>\n",
              "      <td>0.000000</td>\n",
              "      <td>0.000000</td>\n",
              "      <td>1.000000</td>\n",
              "      <td>1.000000</td>\n",
              "      <td>0.000000</td>\n",
              "      <td>0.000000</td>\n",
              "      <td>0.000000</td>\n",
              "      <td>6000.000000</td>\n",
              "      <td>1068.000000</td>\n",
              "      <td>190.000000</td>\n",
              "      <td>40.000000</td>\n",
              "      <td>78.000000</td>\n",
              "      <td>0.000000</td>\n",
              "      <td>0.000000</td>\n",
              "      <td>0.000000</td>\n",
              "      <td>0.000000</td>\n",
              "      <td>0.000000</td>\n",
              "      <td>0.0</td>\n",
              "    </tr>\n",
              "    <tr>\n",
              "      <th>50%</th>\n",
              "      <td>7000.000000</td>\n",
              "      <td>1068.000000</td>\n",
              "      <td>5.000000</td>\n",
              "      <td>12.000000</td>\n",
              "      <td>12.000000</td>\n",
              "      <td>1.000000</td>\n",
              "      <td>1.000000</td>\n",
              "      <td>1.000000</td>\n",
              "      <td>0.000000</td>\n",
              "      <td>0.000000</td>\n",
              "      <td>1.000000</td>\n",
              "      <td>1.000000</td>\n",
              "      <td>1.000000</td>\n",
              "      <td>0.000000</td>\n",
              "      <td>0.000000</td>\n",
              "      <td>0.000000</td>\n",
              "      <td>12000.000000</td>\n",
              "      <td>1068.000000</td>\n",
              "      <td>740.000000</td>\n",
              "      <td>220.000000</td>\n",
              "      <td>85.000000</td>\n",
              "      <td>0.000000</td>\n",
              "      <td>1.000000</td>\n",
              "      <td>0.000000</td>\n",
              "      <td>0.000000</td>\n",
              "      <td>0.000000</td>\n",
              "      <td>0.0</td>\n",
              "    </tr>\n",
              "    <tr>\n",
              "      <th>75%</th>\n",
              "      <td>12000.000000</td>\n",
              "      <td>1068.000000</td>\n",
              "      <td>8.000000</td>\n",
              "      <td>12.000000</td>\n",
              "      <td>12.000000</td>\n",
              "      <td>1.000000</td>\n",
              "      <td>1.000000</td>\n",
              "      <td>1.000000</td>\n",
              "      <td>0.000000</td>\n",
              "      <td>1.000000</td>\n",
              "      <td>1.000000</td>\n",
              "      <td>1.000000</td>\n",
              "      <td>1.000000</td>\n",
              "      <td>1.000000</td>\n",
              "      <td>1.000000</td>\n",
              "      <td>0.000000</td>\n",
              "      <td>22080.000000</td>\n",
              "      <td>2136.000000</td>\n",
              "      <td>2020.000000</td>\n",
              "      <td>610.000000</td>\n",
              "      <td>93.000000</td>\n",
              "      <td>0.000000</td>\n",
              "      <td>1.000000</td>\n",
              "      <td>0.000000</td>\n",
              "      <td>0.000000</td>\n",
              "      <td>0.000000</td>\n",
              "      <td>0.0</td>\n",
              "    </tr>\n",
              "    <tr>\n",
              "      <th>max</th>\n",
              "      <td>125000.000000</td>\n",
              "      <td>1068.000000</td>\n",
              "      <td>36.000000</td>\n",
              "      <td>12.000000</td>\n",
              "      <td>12.000000</td>\n",
              "      <td>1.000000</td>\n",
              "      <td>1.000000</td>\n",
              "      <td>1.000000</td>\n",
              "      <td>1.000000</td>\n",
              "      <td>1.000000</td>\n",
              "      <td>1.000000</td>\n",
              "      <td>1.000000</td>\n",
              "      <td>1.000000</td>\n",
              "      <td>1.000000</td>\n",
              "      <td>1.000000</td>\n",
              "      <td>1.000000</td>\n",
              "      <td>161470.000000</td>\n",
              "      <td>38272.000000</td>\n",
              "      <td>102960.000000</td>\n",
              "      <td>13840.000000</td>\n",
              "      <td>111.000000</td>\n",
              "      <td>1.000000</td>\n",
              "      <td>1.000000</td>\n",
              "      <td>1.000000</td>\n",
              "      <td>1.000000</td>\n",
              "      <td>1.000000</td>\n",
              "      <td>0.0</td>\n",
              "    </tr>\n",
              "  </tbody>\n",
              "</table>\n",
              "</div>\n",
              "      <button class=\"colab-df-convert\" onclick=\"convertToInteractive('df-436e03ba-89f7-471b-9575-d689a58f3be3')\"\n",
              "              title=\"Convert this dataframe to an interactive table.\"\n",
              "              style=\"display:none;\">\n",
              "        \n",
              "  <svg xmlns=\"http://www.w3.org/2000/svg\" height=\"24px\"viewBox=\"0 0 24 24\"\n",
              "       width=\"24px\">\n",
              "    <path d=\"M0 0h24v24H0V0z\" fill=\"none\"/>\n",
              "    <path d=\"M18.56 5.44l.94 2.06.94-2.06 2.06-.94-2.06-.94-.94-2.06-.94 2.06-2.06.94zm-11 1L8.5 8.5l.94-2.06 2.06-.94-2.06-.94L8.5 2.5l-.94 2.06-2.06.94zm10 10l.94 2.06.94-2.06 2.06-.94-2.06-.94-.94-2.06-.94 2.06-2.06.94z\"/><path d=\"M17.41 7.96l-1.37-1.37c-.4-.4-.92-.59-1.43-.59-.52 0-1.04.2-1.43.59L10.3 9.45l-7.72 7.72c-.78.78-.78 2.05 0 2.83L4 21.41c.39.39.9.59 1.41.59.51 0 1.02-.2 1.41-.59l7.78-7.78 2.81-2.81c.8-.78.8-2.07 0-2.86zM5.41 20L4 18.59l7.72-7.72 1.47 1.35L5.41 20z\"/>\n",
              "  </svg>\n",
              "      </button>\n",
              "      \n",
              "  <style>\n",
              "    .colab-df-container {\n",
              "      display:flex;\n",
              "      flex-wrap:wrap;\n",
              "      gap: 12px;\n",
              "    }\n",
              "\n",
              "    .colab-df-convert {\n",
              "      background-color: #E8F0FE;\n",
              "      border: none;\n",
              "      border-radius: 50%;\n",
              "      cursor: pointer;\n",
              "      display: none;\n",
              "      fill: #1967D2;\n",
              "      height: 32px;\n",
              "      padding: 0 0 0 0;\n",
              "      width: 32px;\n",
              "    }\n",
              "\n",
              "    .colab-df-convert:hover {\n",
              "      background-color: #E2EBFA;\n",
              "      box-shadow: 0px 1px 2px rgba(60, 64, 67, 0.3), 0px 1px 3px 1px rgba(60, 64, 67, 0.15);\n",
              "      fill: #174EA6;\n",
              "    }\n",
              "\n",
              "    [theme=dark] .colab-df-convert {\n",
              "      background-color: #3B4455;\n",
              "      fill: #D2E3FC;\n",
              "    }\n",
              "\n",
              "    [theme=dark] .colab-df-convert:hover {\n",
              "      background-color: #434B5C;\n",
              "      box-shadow: 0px 1px 3px 1px rgba(0, 0, 0, 0.15);\n",
              "      filter: drop-shadow(0px 1px 2px rgba(0, 0, 0, 0.3));\n",
              "      fill: #FFFFFF;\n",
              "    }\n",
              "  </style>\n",
              "\n",
              "      <script>\n",
              "        const buttonEl =\n",
              "          document.querySelector('#df-436e03ba-89f7-471b-9575-d689a58f3be3 button.colab-df-convert');\n",
              "        buttonEl.style.display =\n",
              "          google.colab.kernel.accessAllowed ? 'block' : 'none';\n",
              "\n",
              "        async function convertToInteractive(key) {\n",
              "          const element = document.querySelector('#df-436e03ba-89f7-471b-9575-d689a58f3be3');\n",
              "          const dataTable =\n",
              "            await google.colab.kernel.invokeFunction('convertToInteractive',\n",
              "                                                     [key], {});\n",
              "          if (!dataTable) return;\n",
              "\n",
              "          const docLinkHtml = 'Like what you see? Visit the ' +\n",
              "            '<a target=\"_blank\" href=https://colab.research.google.com/notebooks/data_table.ipynb>data table notebook</a>'\n",
              "            + ' to learn more about interactive tables.';\n",
              "          element.innerHTML = '';\n",
              "          dataTable['output_type'] = 'display_data';\n",
              "          await google.colab.output.renderOutput(dataTable, element);\n",
              "          const docLink = document.createElement('div');\n",
              "          docLink.innerHTML = docLinkHtml;\n",
              "          element.appendChild(docLink);\n",
              "        }\n",
              "      </script>\n",
              "    </div>\n",
              "  </div>\n",
              "  "
            ]
          },
          "metadata": {},
          "execution_count": 92
        }
      ],
      "source": [
        "train_final.loc[train_final['cluster_pca'] == 0].describe()"
      ]
    },
    {
      "cell_type": "code",
      "execution_count": 93,
      "metadata": {
        "id": "FR7-9nMqKDoo",
        "colab": {
          "base_uri": "https://localhost:8080/",
          "height": 364
        },
        "outputId": "c1f4b0d6-d1d6-43c2-ae00-ad769a680030"
      },
      "outputs": [
        {
          "output_type": "execute_result",
          "data": {
            "text/plain": [
              "       InscClaimAmtReimbursed  DeductibleAmtPaid   AdmittedDays  \\\n",
              "count            216016.00000      216016.000000  216016.000000   \n",
              "mean                366.40022           2.807162       0.007509   \n",
              "std                 760.62503          20.758803       0.195117   \n",
              "min                   0.00000           0.000000       0.000000   \n",
              "25%                  40.00000           0.000000       0.000000   \n",
              "50%                  80.00000           0.000000       0.000000   \n",
              "75%                 300.00000           0.000000       0.000000   \n",
              "max               17300.00000        1068.000000      10.000000   \n",
              "\n",
              "       NoOfMonths_PartACov  NoOfMonths_PartBCov  ChronicCond_Alzheimer  \\\n",
              "count        216016.000000        216016.000000          216016.000000   \n",
              "mean             11.957730            11.966873               0.587424   \n",
              "std               0.699072             0.594394               0.492299   \n",
              "min               0.000000             0.000000               0.000000   \n",
              "25%              12.000000            12.000000               0.000000   \n",
              "50%              12.000000            12.000000               1.000000   \n",
              "75%              12.000000            12.000000               1.000000   \n",
              "max              12.000000            12.000000               1.000000   \n",
              "\n",
              "       ChronicCond_Heartfailure  ChronicCond_KidneyDisease  \\\n",
              "count             216016.000000              216016.000000   \n",
              "mean                   0.860469                   0.782414   \n",
              "std                    0.346501                   0.412605   \n",
              "min                    0.000000                   0.000000   \n",
              "25%                    1.000000                   1.000000   \n",
              "50%                    1.000000                   1.000000   \n",
              "75%                    1.000000                   1.000000   \n",
              "max                    1.000000                   1.000000   \n",
              "\n",
              "       ChronicCond_Cancer  ChronicCond_ObstrPulmonary  ChronicCond_Depression  \\\n",
              "count       216016.000000               216016.000000           216016.000000   \n",
              "mean             0.226465                    0.548608                0.615334   \n",
              "std              0.418544                    0.497633                0.486517   \n",
              "min              0.000000                    0.000000                0.000000   \n",
              "25%              0.000000                    0.000000                0.000000   \n",
              "50%              0.000000                    1.000000                1.000000   \n",
              "75%              0.000000                    1.000000                1.000000   \n",
              "max              1.000000                    1.000000                1.000000   \n",
              "\n",
              "       ChronicCond_Diabetes  ChronicCond_IschemicHeart  \\\n",
              "count         216016.000000              216016.000000   \n",
              "mean               0.936107                   0.939491   \n",
              "std                0.244564                   0.238429   \n",
              "min                0.000000                   0.000000   \n",
              "25%                1.000000                   1.000000   \n",
              "50%                1.000000                   1.000000   \n",
              "75%                1.000000                   1.000000   \n",
              "max                1.000000                   1.000000   \n",
              "\n",
              "       ChronicCond_Osteoporasis  ChronicCond_rheumatoidarthritis  \\\n",
              "count             216016.000000                    216016.000000   \n",
              "mean                   0.412678                         0.451865   \n",
              "std                    0.492317                         0.497679   \n",
              "min                    0.000000                         0.000000   \n",
              "25%                    0.000000                         0.000000   \n",
              "50%                    0.000000                         0.000000   \n",
              "75%                    1.000000                         1.000000   \n",
              "max                    1.000000                         1.000000   \n",
              "\n",
              "       ChronicCond_stroke  IPAnnualReimbursementAmt  IPAnnualDeductibleAmt  \\\n",
              "count       216016.000000             216016.000000          216016.000000   \n",
              "mean             0.183125               8554.089790             887.775943   \n",
              "std              0.386770              14538.892873            1267.874265   \n",
              "min              0.000000              -8000.000000               0.000000   \n",
              "25%              0.000000                  0.000000               0.000000   \n",
              "50%              0.000000                240.000000            1068.000000   \n",
              "75%              0.000000              11800.000000            1068.000000   \n",
              "max              1.000000             155600.000000           21204.000000   \n",
              "\n",
              "       OPAnnualReimbursementAmt  OPAnnualDeductibleAmt            Age  \\\n",
              "count             216016.000000          216016.000000  216016.000000   \n",
              "mean                3669.145202            1025.423584      84.629944   \n",
              "std                 5441.141798            1387.606578      13.128063   \n",
              "min                    0.000000               0.000000      36.000000   \n",
              "25%                  900.000000             250.000000      78.000000   \n",
              "50%                 1950.000000             580.000000      86.000000   \n",
              "75%                 3950.000000            1200.000000      94.000000   \n",
              "max               102960.000000           13840.000000     111.000000   \n",
              "\n",
              "           DeadOrNot      Gender_2         Race_2         Race_3  \\\n",
              "count  216016.000000  216016.00000  216016.000000  216016.000000   \n",
              "mean        0.006972       0.58092       0.106173       0.032678   \n",
              "std         0.083205       0.49341       0.308059       0.177793   \n",
              "min         0.000000       0.00000       0.000000       0.000000   \n",
              "25%         0.000000       0.00000       0.000000       0.000000   \n",
              "50%         0.000000       1.00000       0.000000       0.000000   \n",
              "75%         0.000000       1.00000       0.000000       0.000000   \n",
              "max         1.000000       1.00000       1.000000       1.000000   \n",
              "\n",
              "              Race_5  cluster_pca  \n",
              "count  216016.000000     216016.0  \n",
              "mean        0.021378          1.0  \n",
              "std         0.144641          0.0  \n",
              "min         0.000000          1.0  \n",
              "25%         0.000000          1.0  \n",
              "50%         0.000000          1.0  \n",
              "75%         0.000000          1.0  \n",
              "max         1.000000          1.0  "
            ],
            "text/html": [
              "\n",
              "  <div id=\"df-a45712d0-5ae1-455f-a649-a6e685e42a92\">\n",
              "    <div class=\"colab-df-container\">\n",
              "      <div>\n",
              "<style scoped>\n",
              "    .dataframe tbody tr th:only-of-type {\n",
              "        vertical-align: middle;\n",
              "    }\n",
              "\n",
              "    .dataframe tbody tr th {\n",
              "        vertical-align: top;\n",
              "    }\n",
              "\n",
              "    .dataframe thead th {\n",
              "        text-align: right;\n",
              "    }\n",
              "</style>\n",
              "<table border=\"1\" class=\"dataframe\">\n",
              "  <thead>\n",
              "    <tr style=\"text-align: right;\">\n",
              "      <th></th>\n",
              "      <th>InscClaimAmtReimbursed</th>\n",
              "      <th>DeductibleAmtPaid</th>\n",
              "      <th>AdmittedDays</th>\n",
              "      <th>NoOfMonths_PartACov</th>\n",
              "      <th>NoOfMonths_PartBCov</th>\n",
              "      <th>ChronicCond_Alzheimer</th>\n",
              "      <th>ChronicCond_Heartfailure</th>\n",
              "      <th>ChronicCond_KidneyDisease</th>\n",
              "      <th>ChronicCond_Cancer</th>\n",
              "      <th>ChronicCond_ObstrPulmonary</th>\n",
              "      <th>ChronicCond_Depression</th>\n",
              "      <th>ChronicCond_Diabetes</th>\n",
              "      <th>ChronicCond_IschemicHeart</th>\n",
              "      <th>ChronicCond_Osteoporasis</th>\n",
              "      <th>ChronicCond_rheumatoidarthritis</th>\n",
              "      <th>ChronicCond_stroke</th>\n",
              "      <th>IPAnnualReimbursementAmt</th>\n",
              "      <th>IPAnnualDeductibleAmt</th>\n",
              "      <th>OPAnnualReimbursementAmt</th>\n",
              "      <th>OPAnnualDeductibleAmt</th>\n",
              "      <th>Age</th>\n",
              "      <th>DeadOrNot</th>\n",
              "      <th>Gender_2</th>\n",
              "      <th>Race_2</th>\n",
              "      <th>Race_3</th>\n",
              "      <th>Race_5</th>\n",
              "      <th>cluster_pca</th>\n",
              "    </tr>\n",
              "  </thead>\n",
              "  <tbody>\n",
              "    <tr>\n",
              "      <th>count</th>\n",
              "      <td>216016.00000</td>\n",
              "      <td>216016.000000</td>\n",
              "      <td>216016.000000</td>\n",
              "      <td>216016.000000</td>\n",
              "      <td>216016.000000</td>\n",
              "      <td>216016.000000</td>\n",
              "      <td>216016.000000</td>\n",
              "      <td>216016.000000</td>\n",
              "      <td>216016.000000</td>\n",
              "      <td>216016.000000</td>\n",
              "      <td>216016.000000</td>\n",
              "      <td>216016.000000</td>\n",
              "      <td>216016.000000</td>\n",
              "      <td>216016.000000</td>\n",
              "      <td>216016.000000</td>\n",
              "      <td>216016.000000</td>\n",
              "      <td>216016.000000</td>\n",
              "      <td>216016.000000</td>\n",
              "      <td>216016.000000</td>\n",
              "      <td>216016.000000</td>\n",
              "      <td>216016.000000</td>\n",
              "      <td>216016.000000</td>\n",
              "      <td>216016.00000</td>\n",
              "      <td>216016.000000</td>\n",
              "      <td>216016.000000</td>\n",
              "      <td>216016.000000</td>\n",
              "      <td>216016.0</td>\n",
              "    </tr>\n",
              "    <tr>\n",
              "      <th>mean</th>\n",
              "      <td>366.40022</td>\n",
              "      <td>2.807162</td>\n",
              "      <td>0.007509</td>\n",
              "      <td>11.957730</td>\n",
              "      <td>11.966873</td>\n",
              "      <td>0.587424</td>\n",
              "      <td>0.860469</td>\n",
              "      <td>0.782414</td>\n",
              "      <td>0.226465</td>\n",
              "      <td>0.548608</td>\n",
              "      <td>0.615334</td>\n",
              "      <td>0.936107</td>\n",
              "      <td>0.939491</td>\n",
              "      <td>0.412678</td>\n",
              "      <td>0.451865</td>\n",
              "      <td>0.183125</td>\n",
              "      <td>8554.089790</td>\n",
              "      <td>887.775943</td>\n",
              "      <td>3669.145202</td>\n",
              "      <td>1025.423584</td>\n",
              "      <td>84.629944</td>\n",
              "      <td>0.006972</td>\n",
              "      <td>0.58092</td>\n",
              "      <td>0.106173</td>\n",
              "      <td>0.032678</td>\n",
              "      <td>0.021378</td>\n",
              "      <td>1.0</td>\n",
              "    </tr>\n",
              "    <tr>\n",
              "      <th>std</th>\n",
              "      <td>760.62503</td>\n",
              "      <td>20.758803</td>\n",
              "      <td>0.195117</td>\n",
              "      <td>0.699072</td>\n",
              "      <td>0.594394</td>\n",
              "      <td>0.492299</td>\n",
              "      <td>0.346501</td>\n",
              "      <td>0.412605</td>\n",
              "      <td>0.418544</td>\n",
              "      <td>0.497633</td>\n",
              "      <td>0.486517</td>\n",
              "      <td>0.244564</td>\n",
              "      <td>0.238429</td>\n",
              "      <td>0.492317</td>\n",
              "      <td>0.497679</td>\n",
              "      <td>0.386770</td>\n",
              "      <td>14538.892873</td>\n",
              "      <td>1267.874265</td>\n",
              "      <td>5441.141798</td>\n",
              "      <td>1387.606578</td>\n",
              "      <td>13.128063</td>\n",
              "      <td>0.083205</td>\n",
              "      <td>0.49341</td>\n",
              "      <td>0.308059</td>\n",
              "      <td>0.177793</td>\n",
              "      <td>0.144641</td>\n",
              "      <td>0.0</td>\n",
              "    </tr>\n",
              "    <tr>\n",
              "      <th>min</th>\n",
              "      <td>0.00000</td>\n",
              "      <td>0.000000</td>\n",
              "      <td>0.000000</td>\n",
              "      <td>0.000000</td>\n",
              "      <td>0.000000</td>\n",
              "      <td>0.000000</td>\n",
              "      <td>0.000000</td>\n",
              "      <td>0.000000</td>\n",
              "      <td>0.000000</td>\n",
              "      <td>0.000000</td>\n",
              "      <td>0.000000</td>\n",
              "      <td>0.000000</td>\n",
              "      <td>0.000000</td>\n",
              "      <td>0.000000</td>\n",
              "      <td>0.000000</td>\n",
              "      <td>0.000000</td>\n",
              "      <td>-8000.000000</td>\n",
              "      <td>0.000000</td>\n",
              "      <td>0.000000</td>\n",
              "      <td>0.000000</td>\n",
              "      <td>36.000000</td>\n",
              "      <td>0.000000</td>\n",
              "      <td>0.00000</td>\n",
              "      <td>0.000000</td>\n",
              "      <td>0.000000</td>\n",
              "      <td>0.000000</td>\n",
              "      <td>1.0</td>\n",
              "    </tr>\n",
              "    <tr>\n",
              "      <th>25%</th>\n",
              "      <td>40.00000</td>\n",
              "      <td>0.000000</td>\n",
              "      <td>0.000000</td>\n",
              "      <td>12.000000</td>\n",
              "      <td>12.000000</td>\n",
              "      <td>0.000000</td>\n",
              "      <td>1.000000</td>\n",
              "      <td>1.000000</td>\n",
              "      <td>0.000000</td>\n",
              "      <td>0.000000</td>\n",
              "      <td>0.000000</td>\n",
              "      <td>1.000000</td>\n",
              "      <td>1.000000</td>\n",
              "      <td>0.000000</td>\n",
              "      <td>0.000000</td>\n",
              "      <td>0.000000</td>\n",
              "      <td>0.000000</td>\n",
              "      <td>0.000000</td>\n",
              "      <td>900.000000</td>\n",
              "      <td>250.000000</td>\n",
              "      <td>78.000000</td>\n",
              "      <td>0.000000</td>\n",
              "      <td>0.00000</td>\n",
              "      <td>0.000000</td>\n",
              "      <td>0.000000</td>\n",
              "      <td>0.000000</td>\n",
              "      <td>1.0</td>\n",
              "    </tr>\n",
              "    <tr>\n",
              "      <th>50%</th>\n",
              "      <td>80.00000</td>\n",
              "      <td>0.000000</td>\n",
              "      <td>0.000000</td>\n",
              "      <td>12.000000</td>\n",
              "      <td>12.000000</td>\n",
              "      <td>1.000000</td>\n",
              "      <td>1.000000</td>\n",
              "      <td>1.000000</td>\n",
              "      <td>0.000000</td>\n",
              "      <td>1.000000</td>\n",
              "      <td>1.000000</td>\n",
              "      <td>1.000000</td>\n",
              "      <td>1.000000</td>\n",
              "      <td>0.000000</td>\n",
              "      <td>0.000000</td>\n",
              "      <td>0.000000</td>\n",
              "      <td>240.000000</td>\n",
              "      <td>1068.000000</td>\n",
              "      <td>1950.000000</td>\n",
              "      <td>580.000000</td>\n",
              "      <td>86.000000</td>\n",
              "      <td>0.000000</td>\n",
              "      <td>1.00000</td>\n",
              "      <td>0.000000</td>\n",
              "      <td>0.000000</td>\n",
              "      <td>0.000000</td>\n",
              "      <td>1.0</td>\n",
              "    </tr>\n",
              "    <tr>\n",
              "      <th>75%</th>\n",
              "      <td>300.00000</td>\n",
              "      <td>0.000000</td>\n",
              "      <td>0.000000</td>\n",
              "      <td>12.000000</td>\n",
              "      <td>12.000000</td>\n",
              "      <td>1.000000</td>\n",
              "      <td>1.000000</td>\n",
              "      <td>1.000000</td>\n",
              "      <td>0.000000</td>\n",
              "      <td>1.000000</td>\n",
              "      <td>1.000000</td>\n",
              "      <td>1.000000</td>\n",
              "      <td>1.000000</td>\n",
              "      <td>1.000000</td>\n",
              "      <td>1.000000</td>\n",
              "      <td>0.000000</td>\n",
              "      <td>11800.000000</td>\n",
              "      <td>1068.000000</td>\n",
              "      <td>3950.000000</td>\n",
              "      <td>1200.000000</td>\n",
              "      <td>94.000000</td>\n",
              "      <td>0.000000</td>\n",
              "      <td>1.00000</td>\n",
              "      <td>0.000000</td>\n",
              "      <td>0.000000</td>\n",
              "      <td>0.000000</td>\n",
              "      <td>1.0</td>\n",
              "    </tr>\n",
              "    <tr>\n",
              "      <th>max</th>\n",
              "      <td>17300.00000</td>\n",
              "      <td>1068.000000</td>\n",
              "      <td>10.000000</td>\n",
              "      <td>12.000000</td>\n",
              "      <td>12.000000</td>\n",
              "      <td>1.000000</td>\n",
              "      <td>1.000000</td>\n",
              "      <td>1.000000</td>\n",
              "      <td>1.000000</td>\n",
              "      <td>1.000000</td>\n",
              "      <td>1.000000</td>\n",
              "      <td>1.000000</td>\n",
              "      <td>1.000000</td>\n",
              "      <td>1.000000</td>\n",
              "      <td>1.000000</td>\n",
              "      <td>1.000000</td>\n",
              "      <td>155600.000000</td>\n",
              "      <td>21204.000000</td>\n",
              "      <td>102960.000000</td>\n",
              "      <td>13840.000000</td>\n",
              "      <td>111.000000</td>\n",
              "      <td>1.000000</td>\n",
              "      <td>1.00000</td>\n",
              "      <td>1.000000</td>\n",
              "      <td>1.000000</td>\n",
              "      <td>1.000000</td>\n",
              "      <td>1.0</td>\n",
              "    </tr>\n",
              "  </tbody>\n",
              "</table>\n",
              "</div>\n",
              "      <button class=\"colab-df-convert\" onclick=\"convertToInteractive('df-a45712d0-5ae1-455f-a649-a6e685e42a92')\"\n",
              "              title=\"Convert this dataframe to an interactive table.\"\n",
              "              style=\"display:none;\">\n",
              "        \n",
              "  <svg xmlns=\"http://www.w3.org/2000/svg\" height=\"24px\"viewBox=\"0 0 24 24\"\n",
              "       width=\"24px\">\n",
              "    <path d=\"M0 0h24v24H0V0z\" fill=\"none\"/>\n",
              "    <path d=\"M18.56 5.44l.94 2.06.94-2.06 2.06-.94-2.06-.94-.94-2.06-.94 2.06-2.06.94zm-11 1L8.5 8.5l.94-2.06 2.06-.94-2.06-.94L8.5 2.5l-.94 2.06-2.06.94zm10 10l.94 2.06.94-2.06 2.06-.94-2.06-.94-.94-2.06-.94 2.06-2.06.94z\"/><path d=\"M17.41 7.96l-1.37-1.37c-.4-.4-.92-.59-1.43-.59-.52 0-1.04.2-1.43.59L10.3 9.45l-7.72 7.72c-.78.78-.78 2.05 0 2.83L4 21.41c.39.39.9.59 1.41.59.51 0 1.02-.2 1.41-.59l7.78-7.78 2.81-2.81c.8-.78.8-2.07 0-2.86zM5.41 20L4 18.59l7.72-7.72 1.47 1.35L5.41 20z\"/>\n",
              "  </svg>\n",
              "      </button>\n",
              "      \n",
              "  <style>\n",
              "    .colab-df-container {\n",
              "      display:flex;\n",
              "      flex-wrap:wrap;\n",
              "      gap: 12px;\n",
              "    }\n",
              "\n",
              "    .colab-df-convert {\n",
              "      background-color: #E8F0FE;\n",
              "      border: none;\n",
              "      border-radius: 50%;\n",
              "      cursor: pointer;\n",
              "      display: none;\n",
              "      fill: #1967D2;\n",
              "      height: 32px;\n",
              "      padding: 0 0 0 0;\n",
              "      width: 32px;\n",
              "    }\n",
              "\n",
              "    .colab-df-convert:hover {\n",
              "      background-color: #E2EBFA;\n",
              "      box-shadow: 0px 1px 2px rgba(60, 64, 67, 0.3), 0px 1px 3px 1px rgba(60, 64, 67, 0.15);\n",
              "      fill: #174EA6;\n",
              "    }\n",
              "\n",
              "    [theme=dark] .colab-df-convert {\n",
              "      background-color: #3B4455;\n",
              "      fill: #D2E3FC;\n",
              "    }\n",
              "\n",
              "    [theme=dark] .colab-df-convert:hover {\n",
              "      background-color: #434B5C;\n",
              "      box-shadow: 0px 1px 3px 1px rgba(0, 0, 0, 0.15);\n",
              "      filter: drop-shadow(0px 1px 2px rgba(0, 0, 0, 0.3));\n",
              "      fill: #FFFFFF;\n",
              "    }\n",
              "  </style>\n",
              "\n",
              "      <script>\n",
              "        const buttonEl =\n",
              "          document.querySelector('#df-a45712d0-5ae1-455f-a649-a6e685e42a92 button.colab-df-convert');\n",
              "        buttonEl.style.display =\n",
              "          google.colab.kernel.accessAllowed ? 'block' : 'none';\n",
              "\n",
              "        async function convertToInteractive(key) {\n",
              "          const element = document.querySelector('#df-a45712d0-5ae1-455f-a649-a6e685e42a92');\n",
              "          const dataTable =\n",
              "            await google.colab.kernel.invokeFunction('convertToInteractive',\n",
              "                                                     [key], {});\n",
              "          if (!dataTable) return;\n",
              "\n",
              "          const docLinkHtml = 'Like what you see? Visit the ' +\n",
              "            '<a target=\"_blank\" href=https://colab.research.google.com/notebooks/data_table.ipynb>data table notebook</a>'\n",
              "            + ' to learn more about interactive tables.';\n",
              "          element.innerHTML = '';\n",
              "          dataTable['output_type'] = 'display_data';\n",
              "          await google.colab.output.renderOutput(dataTable, element);\n",
              "          const docLink = document.createElement('div');\n",
              "          docLink.innerHTML = docLinkHtml;\n",
              "          element.appendChild(docLink);\n",
              "        }\n",
              "      </script>\n",
              "    </div>\n",
              "  </div>\n",
              "  "
            ]
          },
          "metadata": {},
          "execution_count": 93
        }
      ],
      "source": [
        "train_final.loc[train_final['cluster_pca'] == 1].describe()\n"
      ]
    },
    {
      "cell_type": "code",
      "execution_count": 94,
      "metadata": {
        "id": "6VvXI5iaKR7b",
        "colab": {
          "base_uri": "https://localhost:8080/",
          "height": 364
        },
        "outputId": "84f071a2-9f7c-4d1f-938e-be23b3be081c"
      },
      "outputs": [
        {
          "output_type": "execute_result",
          "data": {
            "text/plain": [
              "       InscClaimAmtReimbursed  DeductibleAmtPaid   AdmittedDays  \\\n",
              "count           302222.000000      302222.000000  302222.000000   \n",
              "mean               235.567795           3.708453       0.002538   \n",
              "std                517.922197          33.710051       0.092807   \n",
              "min                  0.000000           0.000000       0.000000   \n",
              "25%                 40.000000           0.000000       0.000000   \n",
              "50%                 70.000000           0.000000       0.000000   \n",
              "75%                200.000000           0.000000       0.000000   \n",
              "max              17300.000000        1068.000000       9.000000   \n",
              "\n",
              "       NoOfMonths_PartACov  NoOfMonths_PartBCov  ChronicCond_Alzheimer  \\\n",
              "count        302222.000000        302222.000000          302222.000000   \n",
              "mean             11.914718            11.920681               0.255461   \n",
              "std               0.992039             0.886784               0.436121   \n",
              "min               0.000000             0.000000               0.000000   \n",
              "25%              12.000000            12.000000               0.000000   \n",
              "50%              12.000000            12.000000               0.000000   \n",
              "75%              12.000000            12.000000               1.000000   \n",
              "max              12.000000            12.000000               1.000000   \n",
              "\n",
              "       ChronicCond_Heartfailure  ChronicCond_KidneyDisease  \\\n",
              "count             302222.000000              302222.000000   \n",
              "mean                   0.379618                   0.121745   \n",
              "std                    0.485293                   0.326992   \n",
              "min                    0.000000                   0.000000   \n",
              "25%                    0.000000                   0.000000   \n",
              "50%                    0.000000                   0.000000   \n",
              "75%                    1.000000                   0.000000   \n",
              "max                    1.000000                   1.000000   \n",
              "\n",
              "       ChronicCond_Cancer  ChronicCond_ObstrPulmonary  ChronicCond_Depression  \\\n",
              "count       302222.000000               302222.000000           302222.000000   \n",
              "mean             0.092343                    0.122255                0.296722   \n",
              "std              0.289510                    0.327580                0.456814   \n",
              "min              0.000000                    0.000000                0.000000   \n",
              "25%              0.000000                    0.000000                0.000000   \n",
              "50%              0.000000                    0.000000                0.000000   \n",
              "75%              0.000000                    0.000000                1.000000   \n",
              "max              1.000000                    1.000000                1.000000   \n",
              "\n",
              "       ChronicCond_Diabetes  ChronicCond_IschemicHeart  \\\n",
              "count         302222.000000              302222.000000   \n",
              "mean               0.527381                   0.617298   \n",
              "std                0.499251                   0.486047   \n",
              "min                0.000000                   0.000000   \n",
              "25%                0.000000                   0.000000   \n",
              "50%                1.000000                   1.000000   \n",
              "75%                1.000000                   1.000000   \n",
              "max                1.000000                   1.000000   \n",
              "\n",
              "       ChronicCond_Osteoporasis  ChronicCond_rheumatoidarthritis  \\\n",
              "count             302222.000000                    302222.000000   \n",
              "mean                   0.245052                         0.203976   \n",
              "std                    0.430119                         0.402952   \n",
              "min                    0.000000                         0.000000   \n",
              "25%                    0.000000                         0.000000   \n",
              "50%                    0.000000                         0.000000   \n",
              "75%                    0.000000                         0.000000   \n",
              "max                    1.000000                         1.000000   \n",
              "\n",
              "       ChronicCond_stroke  IPAnnualReimbursementAmt  IPAnnualDeductibleAmt  \\\n",
              "count       302222.000000             302222.000000          302222.000000   \n",
              "mean             0.034528               1201.226383             151.746544   \n",
              "std              0.182580               4352.572878             418.044974   \n",
              "min              0.000000              -1400.000000               0.000000   \n",
              "25%              0.000000                  0.000000               0.000000   \n",
              "50%              0.000000                  0.000000               0.000000   \n",
              "75%              0.000000                  0.000000               0.000000   \n",
              "max              1.000000             119200.000000           11068.000000   \n",
              "\n",
              "       OPAnnualReimbursementAmt  OPAnnualDeductibleAmt            Age  \\\n",
              "count             302222.000000          302222.000000  302222.000000   \n",
              "mean                1333.420995             397.195505      82.980346   \n",
              "std                 1471.488869             441.332786      12.919485   \n",
              "min                    0.000000               0.000000      36.000000   \n",
              "25%                  340.000000              90.000000      78.000000   \n",
              "50%                  840.000000             240.000000      84.000000   \n",
              "75%                 1800.000000             550.000000      91.000000   \n",
              "max                28560.000000            4440.000000     111.000000   \n",
              "\n",
              "           DeadOrNot       Gender_2         Race_2         Race_3  \\\n",
              "count  302222.000000  302222.000000  302222.000000  302222.000000   \n",
              "mean        0.007647       0.577996       0.094484       0.037403   \n",
              "std         0.087111       0.493880       0.292501       0.189747   \n",
              "min         0.000000       0.000000       0.000000       0.000000   \n",
              "25%         0.000000       0.000000       0.000000       0.000000   \n",
              "50%         0.000000       1.000000       0.000000       0.000000   \n",
              "75%         0.000000       1.000000       0.000000       0.000000   \n",
              "max         1.000000       1.000000       1.000000       1.000000   \n",
              "\n",
              "              Race_5  cluster_pca  \n",
              "count  302222.000000     302222.0  \n",
              "mean        0.021272          2.0  \n",
              "std         0.144291          0.0  \n",
              "min         0.000000          2.0  \n",
              "25%         0.000000          2.0  \n",
              "50%         0.000000          2.0  \n",
              "75%         0.000000          2.0  \n",
              "max         1.000000          2.0  "
            ],
            "text/html": [
              "\n",
              "  <div id=\"df-61394a9c-1012-4401-a1cb-b02002f7a132\">\n",
              "    <div class=\"colab-df-container\">\n",
              "      <div>\n",
              "<style scoped>\n",
              "    .dataframe tbody tr th:only-of-type {\n",
              "        vertical-align: middle;\n",
              "    }\n",
              "\n",
              "    .dataframe tbody tr th {\n",
              "        vertical-align: top;\n",
              "    }\n",
              "\n",
              "    .dataframe thead th {\n",
              "        text-align: right;\n",
              "    }\n",
              "</style>\n",
              "<table border=\"1\" class=\"dataframe\">\n",
              "  <thead>\n",
              "    <tr style=\"text-align: right;\">\n",
              "      <th></th>\n",
              "      <th>InscClaimAmtReimbursed</th>\n",
              "      <th>DeductibleAmtPaid</th>\n",
              "      <th>AdmittedDays</th>\n",
              "      <th>NoOfMonths_PartACov</th>\n",
              "      <th>NoOfMonths_PartBCov</th>\n",
              "      <th>ChronicCond_Alzheimer</th>\n",
              "      <th>ChronicCond_Heartfailure</th>\n",
              "      <th>ChronicCond_KidneyDisease</th>\n",
              "      <th>ChronicCond_Cancer</th>\n",
              "      <th>ChronicCond_ObstrPulmonary</th>\n",
              "      <th>ChronicCond_Depression</th>\n",
              "      <th>ChronicCond_Diabetes</th>\n",
              "      <th>ChronicCond_IschemicHeart</th>\n",
              "      <th>ChronicCond_Osteoporasis</th>\n",
              "      <th>ChronicCond_rheumatoidarthritis</th>\n",
              "      <th>ChronicCond_stroke</th>\n",
              "      <th>IPAnnualReimbursementAmt</th>\n",
              "      <th>IPAnnualDeductibleAmt</th>\n",
              "      <th>OPAnnualReimbursementAmt</th>\n",
              "      <th>OPAnnualDeductibleAmt</th>\n",
              "      <th>Age</th>\n",
              "      <th>DeadOrNot</th>\n",
              "      <th>Gender_2</th>\n",
              "      <th>Race_2</th>\n",
              "      <th>Race_3</th>\n",
              "      <th>Race_5</th>\n",
              "      <th>cluster_pca</th>\n",
              "    </tr>\n",
              "  </thead>\n",
              "  <tbody>\n",
              "    <tr>\n",
              "      <th>count</th>\n",
              "      <td>302222.000000</td>\n",
              "      <td>302222.000000</td>\n",
              "      <td>302222.000000</td>\n",
              "      <td>302222.000000</td>\n",
              "      <td>302222.000000</td>\n",
              "      <td>302222.000000</td>\n",
              "      <td>302222.000000</td>\n",
              "      <td>302222.000000</td>\n",
              "      <td>302222.000000</td>\n",
              "      <td>302222.000000</td>\n",
              "      <td>302222.000000</td>\n",
              "      <td>302222.000000</td>\n",
              "      <td>302222.000000</td>\n",
              "      <td>302222.000000</td>\n",
              "      <td>302222.000000</td>\n",
              "      <td>302222.000000</td>\n",
              "      <td>302222.000000</td>\n",
              "      <td>302222.000000</td>\n",
              "      <td>302222.000000</td>\n",
              "      <td>302222.000000</td>\n",
              "      <td>302222.000000</td>\n",
              "      <td>302222.000000</td>\n",
              "      <td>302222.000000</td>\n",
              "      <td>302222.000000</td>\n",
              "      <td>302222.000000</td>\n",
              "      <td>302222.000000</td>\n",
              "      <td>302222.0</td>\n",
              "    </tr>\n",
              "    <tr>\n",
              "      <th>mean</th>\n",
              "      <td>235.567795</td>\n",
              "      <td>3.708453</td>\n",
              "      <td>0.002538</td>\n",
              "      <td>11.914718</td>\n",
              "      <td>11.920681</td>\n",
              "      <td>0.255461</td>\n",
              "      <td>0.379618</td>\n",
              "      <td>0.121745</td>\n",
              "      <td>0.092343</td>\n",
              "      <td>0.122255</td>\n",
              "      <td>0.296722</td>\n",
              "      <td>0.527381</td>\n",
              "      <td>0.617298</td>\n",
              "      <td>0.245052</td>\n",
              "      <td>0.203976</td>\n",
              "      <td>0.034528</td>\n",
              "      <td>1201.226383</td>\n",
              "      <td>151.746544</td>\n",
              "      <td>1333.420995</td>\n",
              "      <td>397.195505</td>\n",
              "      <td>82.980346</td>\n",
              "      <td>0.007647</td>\n",
              "      <td>0.577996</td>\n",
              "      <td>0.094484</td>\n",
              "      <td>0.037403</td>\n",
              "      <td>0.021272</td>\n",
              "      <td>2.0</td>\n",
              "    </tr>\n",
              "    <tr>\n",
              "      <th>std</th>\n",
              "      <td>517.922197</td>\n",
              "      <td>33.710051</td>\n",
              "      <td>0.092807</td>\n",
              "      <td>0.992039</td>\n",
              "      <td>0.886784</td>\n",
              "      <td>0.436121</td>\n",
              "      <td>0.485293</td>\n",
              "      <td>0.326992</td>\n",
              "      <td>0.289510</td>\n",
              "      <td>0.327580</td>\n",
              "      <td>0.456814</td>\n",
              "      <td>0.499251</td>\n",
              "      <td>0.486047</td>\n",
              "      <td>0.430119</td>\n",
              "      <td>0.402952</td>\n",
              "      <td>0.182580</td>\n",
              "      <td>4352.572878</td>\n",
              "      <td>418.044974</td>\n",
              "      <td>1471.488869</td>\n",
              "      <td>441.332786</td>\n",
              "      <td>12.919485</td>\n",
              "      <td>0.087111</td>\n",
              "      <td>0.493880</td>\n",
              "      <td>0.292501</td>\n",
              "      <td>0.189747</td>\n",
              "      <td>0.144291</td>\n",
              "      <td>0.0</td>\n",
              "    </tr>\n",
              "    <tr>\n",
              "      <th>min</th>\n",
              "      <td>0.000000</td>\n",
              "      <td>0.000000</td>\n",
              "      <td>0.000000</td>\n",
              "      <td>0.000000</td>\n",
              "      <td>0.000000</td>\n",
              "      <td>0.000000</td>\n",
              "      <td>0.000000</td>\n",
              "      <td>0.000000</td>\n",
              "      <td>0.000000</td>\n",
              "      <td>0.000000</td>\n",
              "      <td>0.000000</td>\n",
              "      <td>0.000000</td>\n",
              "      <td>0.000000</td>\n",
              "      <td>0.000000</td>\n",
              "      <td>0.000000</td>\n",
              "      <td>0.000000</td>\n",
              "      <td>-1400.000000</td>\n",
              "      <td>0.000000</td>\n",
              "      <td>0.000000</td>\n",
              "      <td>0.000000</td>\n",
              "      <td>36.000000</td>\n",
              "      <td>0.000000</td>\n",
              "      <td>0.000000</td>\n",
              "      <td>0.000000</td>\n",
              "      <td>0.000000</td>\n",
              "      <td>0.000000</td>\n",
              "      <td>2.0</td>\n",
              "    </tr>\n",
              "    <tr>\n",
              "      <th>25%</th>\n",
              "      <td>40.000000</td>\n",
              "      <td>0.000000</td>\n",
              "      <td>0.000000</td>\n",
              "      <td>12.000000</td>\n",
              "      <td>12.000000</td>\n",
              "      <td>0.000000</td>\n",
              "      <td>0.000000</td>\n",
              "      <td>0.000000</td>\n",
              "      <td>0.000000</td>\n",
              "      <td>0.000000</td>\n",
              "      <td>0.000000</td>\n",
              "      <td>0.000000</td>\n",
              "      <td>0.000000</td>\n",
              "      <td>0.000000</td>\n",
              "      <td>0.000000</td>\n",
              "      <td>0.000000</td>\n",
              "      <td>0.000000</td>\n",
              "      <td>0.000000</td>\n",
              "      <td>340.000000</td>\n",
              "      <td>90.000000</td>\n",
              "      <td>78.000000</td>\n",
              "      <td>0.000000</td>\n",
              "      <td>0.000000</td>\n",
              "      <td>0.000000</td>\n",
              "      <td>0.000000</td>\n",
              "      <td>0.000000</td>\n",
              "      <td>2.0</td>\n",
              "    </tr>\n",
              "    <tr>\n",
              "      <th>50%</th>\n",
              "      <td>70.000000</td>\n",
              "      <td>0.000000</td>\n",
              "      <td>0.000000</td>\n",
              "      <td>12.000000</td>\n",
              "      <td>12.000000</td>\n",
              "      <td>0.000000</td>\n",
              "      <td>0.000000</td>\n",
              "      <td>0.000000</td>\n",
              "      <td>0.000000</td>\n",
              "      <td>0.000000</td>\n",
              "      <td>0.000000</td>\n",
              "      <td>1.000000</td>\n",
              "      <td>1.000000</td>\n",
              "      <td>0.000000</td>\n",
              "      <td>0.000000</td>\n",
              "      <td>0.000000</td>\n",
              "      <td>0.000000</td>\n",
              "      <td>0.000000</td>\n",
              "      <td>840.000000</td>\n",
              "      <td>240.000000</td>\n",
              "      <td>84.000000</td>\n",
              "      <td>0.000000</td>\n",
              "      <td>1.000000</td>\n",
              "      <td>0.000000</td>\n",
              "      <td>0.000000</td>\n",
              "      <td>0.000000</td>\n",
              "      <td>2.0</td>\n",
              "    </tr>\n",
              "    <tr>\n",
              "      <th>75%</th>\n",
              "      <td>200.000000</td>\n",
              "      <td>0.000000</td>\n",
              "      <td>0.000000</td>\n",
              "      <td>12.000000</td>\n",
              "      <td>12.000000</td>\n",
              "      <td>1.000000</td>\n",
              "      <td>1.000000</td>\n",
              "      <td>0.000000</td>\n",
              "      <td>0.000000</td>\n",
              "      <td>0.000000</td>\n",
              "      <td>1.000000</td>\n",
              "      <td>1.000000</td>\n",
              "      <td>1.000000</td>\n",
              "      <td>0.000000</td>\n",
              "      <td>0.000000</td>\n",
              "      <td>0.000000</td>\n",
              "      <td>0.000000</td>\n",
              "      <td>0.000000</td>\n",
              "      <td>1800.000000</td>\n",
              "      <td>550.000000</td>\n",
              "      <td>91.000000</td>\n",
              "      <td>0.000000</td>\n",
              "      <td>1.000000</td>\n",
              "      <td>0.000000</td>\n",
              "      <td>0.000000</td>\n",
              "      <td>0.000000</td>\n",
              "      <td>2.0</td>\n",
              "    </tr>\n",
              "    <tr>\n",
              "      <th>max</th>\n",
              "      <td>17300.000000</td>\n",
              "      <td>1068.000000</td>\n",
              "      <td>9.000000</td>\n",
              "      <td>12.000000</td>\n",
              "      <td>12.000000</td>\n",
              "      <td>1.000000</td>\n",
              "      <td>1.000000</td>\n",
              "      <td>1.000000</td>\n",
              "      <td>1.000000</td>\n",
              "      <td>1.000000</td>\n",
              "      <td>1.000000</td>\n",
              "      <td>1.000000</td>\n",
              "      <td>1.000000</td>\n",
              "      <td>1.000000</td>\n",
              "      <td>1.000000</td>\n",
              "      <td>1.000000</td>\n",
              "      <td>119200.000000</td>\n",
              "      <td>11068.000000</td>\n",
              "      <td>28560.000000</td>\n",
              "      <td>4440.000000</td>\n",
              "      <td>111.000000</td>\n",
              "      <td>1.000000</td>\n",
              "      <td>1.000000</td>\n",
              "      <td>1.000000</td>\n",
              "      <td>1.000000</td>\n",
              "      <td>1.000000</td>\n",
              "      <td>2.0</td>\n",
              "    </tr>\n",
              "  </tbody>\n",
              "</table>\n",
              "</div>\n",
              "      <button class=\"colab-df-convert\" onclick=\"convertToInteractive('df-61394a9c-1012-4401-a1cb-b02002f7a132')\"\n",
              "              title=\"Convert this dataframe to an interactive table.\"\n",
              "              style=\"display:none;\">\n",
              "        \n",
              "  <svg xmlns=\"http://www.w3.org/2000/svg\" height=\"24px\"viewBox=\"0 0 24 24\"\n",
              "       width=\"24px\">\n",
              "    <path d=\"M0 0h24v24H0V0z\" fill=\"none\"/>\n",
              "    <path d=\"M18.56 5.44l.94 2.06.94-2.06 2.06-.94-2.06-.94-.94-2.06-.94 2.06-2.06.94zm-11 1L8.5 8.5l.94-2.06 2.06-.94-2.06-.94L8.5 2.5l-.94 2.06-2.06.94zm10 10l.94 2.06.94-2.06 2.06-.94-2.06-.94-.94-2.06-.94 2.06-2.06.94z\"/><path d=\"M17.41 7.96l-1.37-1.37c-.4-.4-.92-.59-1.43-.59-.52 0-1.04.2-1.43.59L10.3 9.45l-7.72 7.72c-.78.78-.78 2.05 0 2.83L4 21.41c.39.39.9.59 1.41.59.51 0 1.02-.2 1.41-.59l7.78-7.78 2.81-2.81c.8-.78.8-2.07 0-2.86zM5.41 20L4 18.59l7.72-7.72 1.47 1.35L5.41 20z\"/>\n",
              "  </svg>\n",
              "      </button>\n",
              "      \n",
              "  <style>\n",
              "    .colab-df-container {\n",
              "      display:flex;\n",
              "      flex-wrap:wrap;\n",
              "      gap: 12px;\n",
              "    }\n",
              "\n",
              "    .colab-df-convert {\n",
              "      background-color: #E8F0FE;\n",
              "      border: none;\n",
              "      border-radius: 50%;\n",
              "      cursor: pointer;\n",
              "      display: none;\n",
              "      fill: #1967D2;\n",
              "      height: 32px;\n",
              "      padding: 0 0 0 0;\n",
              "      width: 32px;\n",
              "    }\n",
              "\n",
              "    .colab-df-convert:hover {\n",
              "      background-color: #E2EBFA;\n",
              "      box-shadow: 0px 1px 2px rgba(60, 64, 67, 0.3), 0px 1px 3px 1px rgba(60, 64, 67, 0.15);\n",
              "      fill: #174EA6;\n",
              "    }\n",
              "\n",
              "    [theme=dark] .colab-df-convert {\n",
              "      background-color: #3B4455;\n",
              "      fill: #D2E3FC;\n",
              "    }\n",
              "\n",
              "    [theme=dark] .colab-df-convert:hover {\n",
              "      background-color: #434B5C;\n",
              "      box-shadow: 0px 1px 3px 1px rgba(0, 0, 0, 0.15);\n",
              "      filter: drop-shadow(0px 1px 2px rgba(0, 0, 0, 0.3));\n",
              "      fill: #FFFFFF;\n",
              "    }\n",
              "  </style>\n",
              "\n",
              "      <script>\n",
              "        const buttonEl =\n",
              "          document.querySelector('#df-61394a9c-1012-4401-a1cb-b02002f7a132 button.colab-df-convert');\n",
              "        buttonEl.style.display =\n",
              "          google.colab.kernel.accessAllowed ? 'block' : 'none';\n",
              "\n",
              "        async function convertToInteractive(key) {\n",
              "          const element = document.querySelector('#df-61394a9c-1012-4401-a1cb-b02002f7a132');\n",
              "          const dataTable =\n",
              "            await google.colab.kernel.invokeFunction('convertToInteractive',\n",
              "                                                     [key], {});\n",
              "          if (!dataTable) return;\n",
              "\n",
              "          const docLinkHtml = 'Like what you see? Visit the ' +\n",
              "            '<a target=\"_blank\" href=https://colab.research.google.com/notebooks/data_table.ipynb>data table notebook</a>'\n",
              "            + ' to learn more about interactive tables.';\n",
              "          element.innerHTML = '';\n",
              "          dataTable['output_type'] = 'display_data';\n",
              "          await google.colab.output.renderOutput(dataTable, element);\n",
              "          const docLink = document.createElement('div');\n",
              "          docLink.innerHTML = docLinkHtml;\n",
              "          element.appendChild(docLink);\n",
              "        }\n",
              "      </script>\n",
              "    </div>\n",
              "  </div>\n",
              "  "
            ]
          },
          "metadata": {},
          "execution_count": 94
        }
      ],
      "source": [
        "train_final.loc[train_final['cluster_pca'] == 2].describe()\n"
      ]
    },
    {
      "cell_type": "code",
      "execution_count": 95,
      "metadata": {
        "id": "OspqFevvKYNb",
        "colab": {
          "base_uri": "https://localhost:8080/"
        },
        "outputId": "b6206f14-ad3b-4350-878d-05db8f76e4e7"
      },
      "outputs": [
        {
          "output_type": "execute_result",
          "data": {
            "text/plain": [
              "cluster_pca\n",
              "0    2136\n",
              "1    4760\n",
              "2    4910\n",
              "Name: Provider, dtype: int64"
            ]
          },
          "metadata": {},
          "execution_count": 95
        }
      ],
      "source": [
        "train_final.groupby('cluster_pca')['Provider'].nunique()\n"
      ]
    },
    {
      "cell_type": "code",
      "execution_count": 96,
      "metadata": {
        "id": "7hDcX_4MLoV6",
        "colab": {
          "base_uri": "https://localhost:8080/"
        },
        "outputId": "79d33360-bb34-40f9-f7b3-b9e91ea22cbc"
      },
      "outputs": [
        {
          "output_type": "execute_result",
          "data": {
            "text/plain": [
              "5410"
            ]
          },
          "metadata": {},
          "execution_count": 96
        }
      ],
      "source": [
        "train_final['Provider'].nunique()"
      ]
    },
    {
      "cell_type": "code",
      "source": [
        "pickle.dump(km, open('km_model.pkl', 'wb'))"
      ],
      "metadata": {
        "id": "62tsDdy-C0Kx"
      },
      "execution_count": 97,
      "outputs": []
    },
    {
      "cell_type": "code",
      "execution_count": 98,
      "metadata": {
        "id": "NFBpHC2dLw5e",
        "colab": {
          "base_uri": "https://localhost:8080/",
          "height": 143
        },
        "outputId": "7b8ce4b7-117d-4065-e792-d90df80ec5c9"
      },
      "outputs": [
        {
          "output_type": "execute_result",
          "data": {
            "text/plain": [
              "   cluster_pca  InscClaimAmtReimbursed_mean\n",
              "0            0                 10161.885773\n",
              "1            1                   366.400220\n",
              "2            2                   235.567795"
            ],
            "text/html": [
              "\n",
              "  <div id=\"df-b3e23893-6e82-4299-96d4-5ede6aa2e320\">\n",
              "    <div class=\"colab-df-container\">\n",
              "      <div>\n",
              "<style scoped>\n",
              "    .dataframe tbody tr th:only-of-type {\n",
              "        vertical-align: middle;\n",
              "    }\n",
              "\n",
              "    .dataframe tbody tr th {\n",
              "        vertical-align: top;\n",
              "    }\n",
              "\n",
              "    .dataframe thead th {\n",
              "        text-align: right;\n",
              "    }\n",
              "</style>\n",
              "<table border=\"1\" class=\"dataframe\">\n",
              "  <thead>\n",
              "    <tr style=\"text-align: right;\">\n",
              "      <th></th>\n",
              "      <th>cluster_pca</th>\n",
              "      <th>InscClaimAmtReimbursed_mean</th>\n",
              "    </tr>\n",
              "  </thead>\n",
              "  <tbody>\n",
              "    <tr>\n",
              "      <th>0</th>\n",
              "      <td>0</td>\n",
              "      <td>10161.885773</td>\n",
              "    </tr>\n",
              "    <tr>\n",
              "      <th>1</th>\n",
              "      <td>1</td>\n",
              "      <td>366.400220</td>\n",
              "    </tr>\n",
              "    <tr>\n",
              "      <th>2</th>\n",
              "      <td>2</td>\n",
              "      <td>235.567795</td>\n",
              "    </tr>\n",
              "  </tbody>\n",
              "</table>\n",
              "</div>\n",
              "      <button class=\"colab-df-convert\" onclick=\"convertToInteractive('df-b3e23893-6e82-4299-96d4-5ede6aa2e320')\"\n",
              "              title=\"Convert this dataframe to an interactive table.\"\n",
              "              style=\"display:none;\">\n",
              "        \n",
              "  <svg xmlns=\"http://www.w3.org/2000/svg\" height=\"24px\"viewBox=\"0 0 24 24\"\n",
              "       width=\"24px\">\n",
              "    <path d=\"M0 0h24v24H0V0z\" fill=\"none\"/>\n",
              "    <path d=\"M18.56 5.44l.94 2.06.94-2.06 2.06-.94-2.06-.94-.94-2.06-.94 2.06-2.06.94zm-11 1L8.5 8.5l.94-2.06 2.06-.94-2.06-.94L8.5 2.5l-.94 2.06-2.06.94zm10 10l.94 2.06.94-2.06 2.06-.94-2.06-.94-.94-2.06-.94 2.06-2.06.94z\"/><path d=\"M17.41 7.96l-1.37-1.37c-.4-.4-.92-.59-1.43-.59-.52 0-1.04.2-1.43.59L10.3 9.45l-7.72 7.72c-.78.78-.78 2.05 0 2.83L4 21.41c.39.39.9.59 1.41.59.51 0 1.02-.2 1.41-.59l7.78-7.78 2.81-2.81c.8-.78.8-2.07 0-2.86zM5.41 20L4 18.59l7.72-7.72 1.47 1.35L5.41 20z\"/>\n",
              "  </svg>\n",
              "      </button>\n",
              "      \n",
              "  <style>\n",
              "    .colab-df-container {\n",
              "      display:flex;\n",
              "      flex-wrap:wrap;\n",
              "      gap: 12px;\n",
              "    }\n",
              "\n",
              "    .colab-df-convert {\n",
              "      background-color: #E8F0FE;\n",
              "      border: none;\n",
              "      border-radius: 50%;\n",
              "      cursor: pointer;\n",
              "      display: none;\n",
              "      fill: #1967D2;\n",
              "      height: 32px;\n",
              "      padding: 0 0 0 0;\n",
              "      width: 32px;\n",
              "    }\n",
              "\n",
              "    .colab-df-convert:hover {\n",
              "      background-color: #E2EBFA;\n",
              "      box-shadow: 0px 1px 2px rgba(60, 64, 67, 0.3), 0px 1px 3px 1px rgba(60, 64, 67, 0.15);\n",
              "      fill: #174EA6;\n",
              "    }\n",
              "\n",
              "    [theme=dark] .colab-df-convert {\n",
              "      background-color: #3B4455;\n",
              "      fill: #D2E3FC;\n",
              "    }\n",
              "\n",
              "    [theme=dark] .colab-df-convert:hover {\n",
              "      background-color: #434B5C;\n",
              "      box-shadow: 0px 1px 3px 1px rgba(0, 0, 0, 0.15);\n",
              "      filter: drop-shadow(0px 1px 2px rgba(0, 0, 0, 0.3));\n",
              "      fill: #FFFFFF;\n",
              "    }\n",
              "  </style>\n",
              "\n",
              "      <script>\n",
              "        const buttonEl =\n",
              "          document.querySelector('#df-b3e23893-6e82-4299-96d4-5ede6aa2e320 button.colab-df-convert');\n",
              "        buttonEl.style.display =\n",
              "          google.colab.kernel.accessAllowed ? 'block' : 'none';\n",
              "\n",
              "        async function convertToInteractive(key) {\n",
              "          const element = document.querySelector('#df-b3e23893-6e82-4299-96d4-5ede6aa2e320');\n",
              "          const dataTable =\n",
              "            await google.colab.kernel.invokeFunction('convertToInteractive',\n",
              "                                                     [key], {});\n",
              "          if (!dataTable) return;\n",
              "\n",
              "          const docLinkHtml = 'Like what you see? Visit the ' +\n",
              "            '<a target=\"_blank\" href=https://colab.research.google.com/notebooks/data_table.ipynb>data table notebook</a>'\n",
              "            + ' to learn more about interactive tables.';\n",
              "          element.innerHTML = '';\n",
              "          dataTable['output_type'] = 'display_data';\n",
              "          await google.colab.output.renderOutput(dataTable, element);\n",
              "          const docLink = document.createElement('div');\n",
              "          docLink.innerHTML = docLinkHtml;\n",
              "          element.appendChild(docLink);\n",
              "        }\n",
              "      </script>\n",
              "    </div>\n",
              "  </div>\n",
              "  "
            ]
          },
          "metadata": {},
          "execution_count": 98
        }
      ],
      "source": [
        "df_InscClaimAmtReimbursed = train_final.groupby('cluster_pca')['InscClaimAmtReimbursed'].mean()\\\n",
        "                                       .reset_index(name='InscClaimAmtReimbursed_mean')\\\n",
        "                                       .sort_values(['InscClaimAmtReimbursed_mean'], ascending=False)\n",
        "\n",
        "df_InscClaimAmtReimbursed.head()"
      ]
    },
    {
      "cell_type": "code",
      "execution_count": 99,
      "metadata": {
        "id": "QiD9qaNsMcG1",
        "colab": {
          "base_uri": "https://localhost:8080/",
          "height": 143
        },
        "outputId": "a2987479-8f45-4b88-f06f-65d6e5caa2d8"
      },
      "outputs": [
        {
          "output_type": "execute_result",
          "data": {
            "text/plain": [
              "   cluster_pca  DeductibleAmtPaid_mean\n",
              "0            0             1050.154955\n",
              "2            2                3.708453\n",
              "1            1                2.807162"
            ],
            "text/html": [
              "\n",
              "  <div id=\"df-45b48eba-97da-4b51-83b4-4b91bd6ae8fc\">\n",
              "    <div class=\"colab-df-container\">\n",
              "      <div>\n",
              "<style scoped>\n",
              "    .dataframe tbody tr th:only-of-type {\n",
              "        vertical-align: middle;\n",
              "    }\n",
              "\n",
              "    .dataframe tbody tr th {\n",
              "        vertical-align: top;\n",
              "    }\n",
              "\n",
              "    .dataframe thead th {\n",
              "        text-align: right;\n",
              "    }\n",
              "</style>\n",
              "<table border=\"1\" class=\"dataframe\">\n",
              "  <thead>\n",
              "    <tr style=\"text-align: right;\">\n",
              "      <th></th>\n",
              "      <th>cluster_pca</th>\n",
              "      <th>DeductibleAmtPaid_mean</th>\n",
              "    </tr>\n",
              "  </thead>\n",
              "  <tbody>\n",
              "    <tr>\n",
              "      <th>0</th>\n",
              "      <td>0</td>\n",
              "      <td>1050.154955</td>\n",
              "    </tr>\n",
              "    <tr>\n",
              "      <th>2</th>\n",
              "      <td>2</td>\n",
              "      <td>3.708453</td>\n",
              "    </tr>\n",
              "    <tr>\n",
              "      <th>1</th>\n",
              "      <td>1</td>\n",
              "      <td>2.807162</td>\n",
              "    </tr>\n",
              "  </tbody>\n",
              "</table>\n",
              "</div>\n",
              "      <button class=\"colab-df-convert\" onclick=\"convertToInteractive('df-45b48eba-97da-4b51-83b4-4b91bd6ae8fc')\"\n",
              "              title=\"Convert this dataframe to an interactive table.\"\n",
              "              style=\"display:none;\">\n",
              "        \n",
              "  <svg xmlns=\"http://www.w3.org/2000/svg\" height=\"24px\"viewBox=\"0 0 24 24\"\n",
              "       width=\"24px\">\n",
              "    <path d=\"M0 0h24v24H0V0z\" fill=\"none\"/>\n",
              "    <path d=\"M18.56 5.44l.94 2.06.94-2.06 2.06-.94-2.06-.94-.94-2.06-.94 2.06-2.06.94zm-11 1L8.5 8.5l.94-2.06 2.06-.94-2.06-.94L8.5 2.5l-.94 2.06-2.06.94zm10 10l.94 2.06.94-2.06 2.06-.94-2.06-.94-.94-2.06-.94 2.06-2.06.94z\"/><path d=\"M17.41 7.96l-1.37-1.37c-.4-.4-.92-.59-1.43-.59-.52 0-1.04.2-1.43.59L10.3 9.45l-7.72 7.72c-.78.78-.78 2.05 0 2.83L4 21.41c.39.39.9.59 1.41.59.51 0 1.02-.2 1.41-.59l7.78-7.78 2.81-2.81c.8-.78.8-2.07 0-2.86zM5.41 20L4 18.59l7.72-7.72 1.47 1.35L5.41 20z\"/>\n",
              "  </svg>\n",
              "      </button>\n",
              "      \n",
              "  <style>\n",
              "    .colab-df-container {\n",
              "      display:flex;\n",
              "      flex-wrap:wrap;\n",
              "      gap: 12px;\n",
              "    }\n",
              "\n",
              "    .colab-df-convert {\n",
              "      background-color: #E8F0FE;\n",
              "      border: none;\n",
              "      border-radius: 50%;\n",
              "      cursor: pointer;\n",
              "      display: none;\n",
              "      fill: #1967D2;\n",
              "      height: 32px;\n",
              "      padding: 0 0 0 0;\n",
              "      width: 32px;\n",
              "    }\n",
              "\n",
              "    .colab-df-convert:hover {\n",
              "      background-color: #E2EBFA;\n",
              "      box-shadow: 0px 1px 2px rgba(60, 64, 67, 0.3), 0px 1px 3px 1px rgba(60, 64, 67, 0.15);\n",
              "      fill: #174EA6;\n",
              "    }\n",
              "\n",
              "    [theme=dark] .colab-df-convert {\n",
              "      background-color: #3B4455;\n",
              "      fill: #D2E3FC;\n",
              "    }\n",
              "\n",
              "    [theme=dark] .colab-df-convert:hover {\n",
              "      background-color: #434B5C;\n",
              "      box-shadow: 0px 1px 3px 1px rgba(0, 0, 0, 0.15);\n",
              "      filter: drop-shadow(0px 1px 2px rgba(0, 0, 0, 0.3));\n",
              "      fill: #FFFFFF;\n",
              "    }\n",
              "  </style>\n",
              "\n",
              "      <script>\n",
              "        const buttonEl =\n",
              "          document.querySelector('#df-45b48eba-97da-4b51-83b4-4b91bd6ae8fc button.colab-df-convert');\n",
              "        buttonEl.style.display =\n",
              "          google.colab.kernel.accessAllowed ? 'block' : 'none';\n",
              "\n",
              "        async function convertToInteractive(key) {\n",
              "          const element = document.querySelector('#df-45b48eba-97da-4b51-83b4-4b91bd6ae8fc');\n",
              "          const dataTable =\n",
              "            await google.colab.kernel.invokeFunction('convertToInteractive',\n",
              "                                                     [key], {});\n",
              "          if (!dataTable) return;\n",
              "\n",
              "          const docLinkHtml = 'Like what you see? Visit the ' +\n",
              "            '<a target=\"_blank\" href=https://colab.research.google.com/notebooks/data_table.ipynb>data table notebook</a>'\n",
              "            + ' to learn more about interactive tables.';\n",
              "          element.innerHTML = '';\n",
              "          dataTable['output_type'] = 'display_data';\n",
              "          await google.colab.output.renderOutput(dataTable, element);\n",
              "          const docLink = document.createElement('div');\n",
              "          docLink.innerHTML = docLinkHtml;\n",
              "          element.appendChild(docLink);\n",
              "        }\n",
              "      </script>\n",
              "    </div>\n",
              "  </div>\n",
              "  "
            ]
          },
          "metadata": {},
          "execution_count": 99
        }
      ],
      "source": [
        "df_DeductibleAmtPaid = train_final.groupby('cluster_pca')['DeductibleAmtPaid'].mean()\\\n",
        "                                       .reset_index(name='DeductibleAmtPaid_mean')\\\n",
        "                                       .sort_values(['DeductibleAmtPaid_mean'], ascending=False)\n",
        "\n",
        "df_DeductibleAmtPaid.head()"
      ]
    },
    {
      "cell_type": "code",
      "execution_count": 100,
      "metadata": {
        "id": "0X5vp940N_oW",
        "colab": {
          "base_uri": "https://localhost:8080/",
          "height": 143
        },
        "outputId": "44d508c6-02d5-46eb-d535-be07a8f3537d"
      },
      "outputs": [
        {
          "output_type": "execute_result",
          "data": {
            "text/plain": [
              "   cluster_pca  ChronicCond_Heartfailure_mean\n",
              "1            1                       0.860469\n",
              "0            0                       0.724964\n",
              "2            2                       0.379618"
            ],
            "text/html": [
              "\n",
              "  <div id=\"df-8881aa33-4780-4aec-ba0a-7e4c029acd26\">\n",
              "    <div class=\"colab-df-container\">\n",
              "      <div>\n",
              "<style scoped>\n",
              "    .dataframe tbody tr th:only-of-type {\n",
              "        vertical-align: middle;\n",
              "    }\n",
              "\n",
              "    .dataframe tbody tr th {\n",
              "        vertical-align: top;\n",
              "    }\n",
              "\n",
              "    .dataframe thead th {\n",
              "        text-align: right;\n",
              "    }\n",
              "</style>\n",
              "<table border=\"1\" class=\"dataframe\">\n",
              "  <thead>\n",
              "    <tr style=\"text-align: right;\">\n",
              "      <th></th>\n",
              "      <th>cluster_pca</th>\n",
              "      <th>ChronicCond_Heartfailure_mean</th>\n",
              "    </tr>\n",
              "  </thead>\n",
              "  <tbody>\n",
              "    <tr>\n",
              "      <th>1</th>\n",
              "      <td>1</td>\n",
              "      <td>0.860469</td>\n",
              "    </tr>\n",
              "    <tr>\n",
              "      <th>0</th>\n",
              "      <td>0</td>\n",
              "      <td>0.724964</td>\n",
              "    </tr>\n",
              "    <tr>\n",
              "      <th>2</th>\n",
              "      <td>2</td>\n",
              "      <td>0.379618</td>\n",
              "    </tr>\n",
              "  </tbody>\n",
              "</table>\n",
              "</div>\n",
              "      <button class=\"colab-df-convert\" onclick=\"convertToInteractive('df-8881aa33-4780-4aec-ba0a-7e4c029acd26')\"\n",
              "              title=\"Convert this dataframe to an interactive table.\"\n",
              "              style=\"display:none;\">\n",
              "        \n",
              "  <svg xmlns=\"http://www.w3.org/2000/svg\" height=\"24px\"viewBox=\"0 0 24 24\"\n",
              "       width=\"24px\">\n",
              "    <path d=\"M0 0h24v24H0V0z\" fill=\"none\"/>\n",
              "    <path d=\"M18.56 5.44l.94 2.06.94-2.06 2.06-.94-2.06-.94-.94-2.06-.94 2.06-2.06.94zm-11 1L8.5 8.5l.94-2.06 2.06-.94-2.06-.94L8.5 2.5l-.94 2.06-2.06.94zm10 10l.94 2.06.94-2.06 2.06-.94-2.06-.94-.94-2.06-.94 2.06-2.06.94z\"/><path d=\"M17.41 7.96l-1.37-1.37c-.4-.4-.92-.59-1.43-.59-.52 0-1.04.2-1.43.59L10.3 9.45l-7.72 7.72c-.78.78-.78 2.05 0 2.83L4 21.41c.39.39.9.59 1.41.59.51 0 1.02-.2 1.41-.59l7.78-7.78 2.81-2.81c.8-.78.8-2.07 0-2.86zM5.41 20L4 18.59l7.72-7.72 1.47 1.35L5.41 20z\"/>\n",
              "  </svg>\n",
              "      </button>\n",
              "      \n",
              "  <style>\n",
              "    .colab-df-container {\n",
              "      display:flex;\n",
              "      flex-wrap:wrap;\n",
              "      gap: 12px;\n",
              "    }\n",
              "\n",
              "    .colab-df-convert {\n",
              "      background-color: #E8F0FE;\n",
              "      border: none;\n",
              "      border-radius: 50%;\n",
              "      cursor: pointer;\n",
              "      display: none;\n",
              "      fill: #1967D2;\n",
              "      height: 32px;\n",
              "      padding: 0 0 0 0;\n",
              "      width: 32px;\n",
              "    }\n",
              "\n",
              "    .colab-df-convert:hover {\n",
              "      background-color: #E2EBFA;\n",
              "      box-shadow: 0px 1px 2px rgba(60, 64, 67, 0.3), 0px 1px 3px 1px rgba(60, 64, 67, 0.15);\n",
              "      fill: #174EA6;\n",
              "    }\n",
              "\n",
              "    [theme=dark] .colab-df-convert {\n",
              "      background-color: #3B4455;\n",
              "      fill: #D2E3FC;\n",
              "    }\n",
              "\n",
              "    [theme=dark] .colab-df-convert:hover {\n",
              "      background-color: #434B5C;\n",
              "      box-shadow: 0px 1px 3px 1px rgba(0, 0, 0, 0.15);\n",
              "      filter: drop-shadow(0px 1px 2px rgba(0, 0, 0, 0.3));\n",
              "      fill: #FFFFFF;\n",
              "    }\n",
              "  </style>\n",
              "\n",
              "      <script>\n",
              "        const buttonEl =\n",
              "          document.querySelector('#df-8881aa33-4780-4aec-ba0a-7e4c029acd26 button.colab-df-convert');\n",
              "        buttonEl.style.display =\n",
              "          google.colab.kernel.accessAllowed ? 'block' : 'none';\n",
              "\n",
              "        async function convertToInteractive(key) {\n",
              "          const element = document.querySelector('#df-8881aa33-4780-4aec-ba0a-7e4c029acd26');\n",
              "          const dataTable =\n",
              "            await google.colab.kernel.invokeFunction('convertToInteractive',\n",
              "                                                     [key], {});\n",
              "          if (!dataTable) return;\n",
              "\n",
              "          const docLinkHtml = 'Like what you see? Visit the ' +\n",
              "            '<a target=\"_blank\" href=https://colab.research.google.com/notebooks/data_table.ipynb>data table notebook</a>'\n",
              "            + ' to learn more about interactive tables.';\n",
              "          element.innerHTML = '';\n",
              "          dataTable['output_type'] = 'display_data';\n",
              "          await google.colab.output.renderOutput(dataTable, element);\n",
              "          const docLink = document.createElement('div');\n",
              "          docLink.innerHTML = docLinkHtml;\n",
              "          element.appendChild(docLink);\n",
              "        }\n",
              "      </script>\n",
              "    </div>\n",
              "  </div>\n",
              "  "
            ]
          },
          "metadata": {},
          "execution_count": 100
        }
      ],
      "source": [
        "df_ChronicCond_Heartfailure = train_final.groupby('cluster_pca')['ChronicCond_Heartfailure'].mean()\\\n",
        "                                       .reset_index(name='ChronicCond_Heartfailure_mean')\\\n",
        "                                       .sort_values(['ChronicCond_Heartfailure_mean'], ascending=False)\n",
        "\n",
        "df_ChronicCond_Heartfailure.head()"
      ]
    },
    {
      "cell_type": "code",
      "execution_count": 101,
      "metadata": {
        "id": "dG5nARbfOmkd",
        "colab": {
          "base_uri": "https://localhost:8080/",
          "height": 143
        },
        "outputId": "363c695d-5f13-494d-c2ce-2b561f1dd23d"
      },
      "outputs": [
        {
          "output_type": "execute_result",
          "data": {
            "text/plain": [
              "   cluster_pca  ChronicCond_KidneyDisease_mean\n",
              "1            1                        0.782414\n",
              "0            0                        0.604808\n",
              "2            2                        0.121745"
            ],
            "text/html": [
              "\n",
              "  <div id=\"df-8ec630c4-2f9e-45ab-984c-337111530475\">\n",
              "    <div class=\"colab-df-container\">\n",
              "      <div>\n",
              "<style scoped>\n",
              "    .dataframe tbody tr th:only-of-type {\n",
              "        vertical-align: middle;\n",
              "    }\n",
              "\n",
              "    .dataframe tbody tr th {\n",
              "        vertical-align: top;\n",
              "    }\n",
              "\n",
              "    .dataframe thead th {\n",
              "        text-align: right;\n",
              "    }\n",
              "</style>\n",
              "<table border=\"1\" class=\"dataframe\">\n",
              "  <thead>\n",
              "    <tr style=\"text-align: right;\">\n",
              "      <th></th>\n",
              "      <th>cluster_pca</th>\n",
              "      <th>ChronicCond_KidneyDisease_mean</th>\n",
              "    </tr>\n",
              "  </thead>\n",
              "  <tbody>\n",
              "    <tr>\n",
              "      <th>1</th>\n",
              "      <td>1</td>\n",
              "      <td>0.782414</td>\n",
              "    </tr>\n",
              "    <tr>\n",
              "      <th>0</th>\n",
              "      <td>0</td>\n",
              "      <td>0.604808</td>\n",
              "    </tr>\n",
              "    <tr>\n",
              "      <th>2</th>\n",
              "      <td>2</td>\n",
              "      <td>0.121745</td>\n",
              "    </tr>\n",
              "  </tbody>\n",
              "</table>\n",
              "</div>\n",
              "      <button class=\"colab-df-convert\" onclick=\"convertToInteractive('df-8ec630c4-2f9e-45ab-984c-337111530475')\"\n",
              "              title=\"Convert this dataframe to an interactive table.\"\n",
              "              style=\"display:none;\">\n",
              "        \n",
              "  <svg xmlns=\"http://www.w3.org/2000/svg\" height=\"24px\"viewBox=\"0 0 24 24\"\n",
              "       width=\"24px\">\n",
              "    <path d=\"M0 0h24v24H0V0z\" fill=\"none\"/>\n",
              "    <path d=\"M18.56 5.44l.94 2.06.94-2.06 2.06-.94-2.06-.94-.94-2.06-.94 2.06-2.06.94zm-11 1L8.5 8.5l.94-2.06 2.06-.94-2.06-.94L8.5 2.5l-.94 2.06-2.06.94zm10 10l.94 2.06.94-2.06 2.06-.94-2.06-.94-.94-2.06-.94 2.06-2.06.94z\"/><path d=\"M17.41 7.96l-1.37-1.37c-.4-.4-.92-.59-1.43-.59-.52 0-1.04.2-1.43.59L10.3 9.45l-7.72 7.72c-.78.78-.78 2.05 0 2.83L4 21.41c.39.39.9.59 1.41.59.51 0 1.02-.2 1.41-.59l7.78-7.78 2.81-2.81c.8-.78.8-2.07 0-2.86zM5.41 20L4 18.59l7.72-7.72 1.47 1.35L5.41 20z\"/>\n",
              "  </svg>\n",
              "      </button>\n",
              "      \n",
              "  <style>\n",
              "    .colab-df-container {\n",
              "      display:flex;\n",
              "      flex-wrap:wrap;\n",
              "      gap: 12px;\n",
              "    }\n",
              "\n",
              "    .colab-df-convert {\n",
              "      background-color: #E8F0FE;\n",
              "      border: none;\n",
              "      border-radius: 50%;\n",
              "      cursor: pointer;\n",
              "      display: none;\n",
              "      fill: #1967D2;\n",
              "      height: 32px;\n",
              "      padding: 0 0 0 0;\n",
              "      width: 32px;\n",
              "    }\n",
              "\n",
              "    .colab-df-convert:hover {\n",
              "      background-color: #E2EBFA;\n",
              "      box-shadow: 0px 1px 2px rgba(60, 64, 67, 0.3), 0px 1px 3px 1px rgba(60, 64, 67, 0.15);\n",
              "      fill: #174EA6;\n",
              "    }\n",
              "\n",
              "    [theme=dark] .colab-df-convert {\n",
              "      background-color: #3B4455;\n",
              "      fill: #D2E3FC;\n",
              "    }\n",
              "\n",
              "    [theme=dark] .colab-df-convert:hover {\n",
              "      background-color: #434B5C;\n",
              "      box-shadow: 0px 1px 3px 1px rgba(0, 0, 0, 0.15);\n",
              "      filter: drop-shadow(0px 1px 2px rgba(0, 0, 0, 0.3));\n",
              "      fill: #FFFFFF;\n",
              "    }\n",
              "  </style>\n",
              "\n",
              "      <script>\n",
              "        const buttonEl =\n",
              "          document.querySelector('#df-8ec630c4-2f9e-45ab-984c-337111530475 button.colab-df-convert');\n",
              "        buttonEl.style.display =\n",
              "          google.colab.kernel.accessAllowed ? 'block' : 'none';\n",
              "\n",
              "        async function convertToInteractive(key) {\n",
              "          const element = document.querySelector('#df-8ec630c4-2f9e-45ab-984c-337111530475');\n",
              "          const dataTable =\n",
              "            await google.colab.kernel.invokeFunction('convertToInteractive',\n",
              "                                                     [key], {});\n",
              "          if (!dataTable) return;\n",
              "\n",
              "          const docLinkHtml = 'Like what you see? Visit the ' +\n",
              "            '<a target=\"_blank\" href=https://colab.research.google.com/notebooks/data_table.ipynb>data table notebook</a>'\n",
              "            + ' to learn more about interactive tables.';\n",
              "          element.innerHTML = '';\n",
              "          dataTable['output_type'] = 'display_data';\n",
              "          await google.colab.output.renderOutput(dataTable, element);\n",
              "          const docLink = document.createElement('div');\n",
              "          docLink.innerHTML = docLinkHtml;\n",
              "          element.appendChild(docLink);\n",
              "        }\n",
              "      </script>\n",
              "    </div>\n",
              "  </div>\n",
              "  "
            ]
          },
          "metadata": {},
          "execution_count": 101
        }
      ],
      "source": [
        "df_ChronicCond_KidneyDisease = train_final.groupby('cluster_pca')['ChronicCond_KidneyDisease'].mean()\\\n",
        "                                       .reset_index(name='ChronicCond_KidneyDisease_mean')\\\n",
        "                                       .sort_values(['ChronicCond_KidneyDisease_mean'], ascending=False)\n",
        "\n",
        "df_ChronicCond_KidneyDisease.head()"
      ]
    },
    {
      "cell_type": "code",
      "execution_count": 102,
      "metadata": {
        "id": "bVOt0i50X6ij",
        "colab": {
          "base_uri": "https://localhost:8080/",
          "height": 143
        },
        "outputId": "00a20581-56ff-4c06-e805-cbf0dc91eb76"
      },
      "outputs": [
        {
          "output_type": "execute_result",
          "data": {
            "text/plain": [
              "   cluster_pca  ChronicCond_ObstrPulmonary_mean\n",
              "1            1                         0.548608\n",
              "0            0                         0.480950\n",
              "2            2                         0.122255"
            ],
            "text/html": [
              "\n",
              "  <div id=\"df-5c5c0f10-b6c2-4a79-94a8-3f5a9816cb41\">\n",
              "    <div class=\"colab-df-container\">\n",
              "      <div>\n",
              "<style scoped>\n",
              "    .dataframe tbody tr th:only-of-type {\n",
              "        vertical-align: middle;\n",
              "    }\n",
              "\n",
              "    .dataframe tbody tr th {\n",
              "        vertical-align: top;\n",
              "    }\n",
              "\n",
              "    .dataframe thead th {\n",
              "        text-align: right;\n",
              "    }\n",
              "</style>\n",
              "<table border=\"1\" class=\"dataframe\">\n",
              "  <thead>\n",
              "    <tr style=\"text-align: right;\">\n",
              "      <th></th>\n",
              "      <th>cluster_pca</th>\n",
              "      <th>ChronicCond_ObstrPulmonary_mean</th>\n",
              "    </tr>\n",
              "  </thead>\n",
              "  <tbody>\n",
              "    <tr>\n",
              "      <th>1</th>\n",
              "      <td>1</td>\n",
              "      <td>0.548608</td>\n",
              "    </tr>\n",
              "    <tr>\n",
              "      <th>0</th>\n",
              "      <td>0</td>\n",
              "      <td>0.480950</td>\n",
              "    </tr>\n",
              "    <tr>\n",
              "      <th>2</th>\n",
              "      <td>2</td>\n",
              "      <td>0.122255</td>\n",
              "    </tr>\n",
              "  </tbody>\n",
              "</table>\n",
              "</div>\n",
              "      <button class=\"colab-df-convert\" onclick=\"convertToInteractive('df-5c5c0f10-b6c2-4a79-94a8-3f5a9816cb41')\"\n",
              "              title=\"Convert this dataframe to an interactive table.\"\n",
              "              style=\"display:none;\">\n",
              "        \n",
              "  <svg xmlns=\"http://www.w3.org/2000/svg\" height=\"24px\"viewBox=\"0 0 24 24\"\n",
              "       width=\"24px\">\n",
              "    <path d=\"M0 0h24v24H0V0z\" fill=\"none\"/>\n",
              "    <path d=\"M18.56 5.44l.94 2.06.94-2.06 2.06-.94-2.06-.94-.94-2.06-.94 2.06-2.06.94zm-11 1L8.5 8.5l.94-2.06 2.06-.94-2.06-.94L8.5 2.5l-.94 2.06-2.06.94zm10 10l.94 2.06.94-2.06 2.06-.94-2.06-.94-.94-2.06-.94 2.06-2.06.94z\"/><path d=\"M17.41 7.96l-1.37-1.37c-.4-.4-.92-.59-1.43-.59-.52 0-1.04.2-1.43.59L10.3 9.45l-7.72 7.72c-.78.78-.78 2.05 0 2.83L4 21.41c.39.39.9.59 1.41.59.51 0 1.02-.2 1.41-.59l7.78-7.78 2.81-2.81c.8-.78.8-2.07 0-2.86zM5.41 20L4 18.59l7.72-7.72 1.47 1.35L5.41 20z\"/>\n",
              "  </svg>\n",
              "      </button>\n",
              "      \n",
              "  <style>\n",
              "    .colab-df-container {\n",
              "      display:flex;\n",
              "      flex-wrap:wrap;\n",
              "      gap: 12px;\n",
              "    }\n",
              "\n",
              "    .colab-df-convert {\n",
              "      background-color: #E8F0FE;\n",
              "      border: none;\n",
              "      border-radius: 50%;\n",
              "      cursor: pointer;\n",
              "      display: none;\n",
              "      fill: #1967D2;\n",
              "      height: 32px;\n",
              "      padding: 0 0 0 0;\n",
              "      width: 32px;\n",
              "    }\n",
              "\n",
              "    .colab-df-convert:hover {\n",
              "      background-color: #E2EBFA;\n",
              "      box-shadow: 0px 1px 2px rgba(60, 64, 67, 0.3), 0px 1px 3px 1px rgba(60, 64, 67, 0.15);\n",
              "      fill: #174EA6;\n",
              "    }\n",
              "\n",
              "    [theme=dark] .colab-df-convert {\n",
              "      background-color: #3B4455;\n",
              "      fill: #D2E3FC;\n",
              "    }\n",
              "\n",
              "    [theme=dark] .colab-df-convert:hover {\n",
              "      background-color: #434B5C;\n",
              "      box-shadow: 0px 1px 3px 1px rgba(0, 0, 0, 0.15);\n",
              "      filter: drop-shadow(0px 1px 2px rgba(0, 0, 0, 0.3));\n",
              "      fill: #FFFFFF;\n",
              "    }\n",
              "  </style>\n",
              "\n",
              "      <script>\n",
              "        const buttonEl =\n",
              "          document.querySelector('#df-5c5c0f10-b6c2-4a79-94a8-3f5a9816cb41 button.colab-df-convert');\n",
              "        buttonEl.style.display =\n",
              "          google.colab.kernel.accessAllowed ? 'block' : 'none';\n",
              "\n",
              "        async function convertToInteractive(key) {\n",
              "          const element = document.querySelector('#df-5c5c0f10-b6c2-4a79-94a8-3f5a9816cb41');\n",
              "          const dataTable =\n",
              "            await google.colab.kernel.invokeFunction('convertToInteractive',\n",
              "                                                     [key], {});\n",
              "          if (!dataTable) return;\n",
              "\n",
              "          const docLinkHtml = 'Like what you see? Visit the ' +\n",
              "            '<a target=\"_blank\" href=https://colab.research.google.com/notebooks/data_table.ipynb>data table notebook</a>'\n",
              "            + ' to learn more about interactive tables.';\n",
              "          element.innerHTML = '';\n",
              "          dataTable['output_type'] = 'display_data';\n",
              "          await google.colab.output.renderOutput(dataTable, element);\n",
              "          const docLink = document.createElement('div');\n",
              "          docLink.innerHTML = docLinkHtml;\n",
              "          element.appendChild(docLink);\n",
              "        }\n",
              "      </script>\n",
              "    </div>\n",
              "  </div>\n",
              "  "
            ]
          },
          "metadata": {},
          "execution_count": 102
        }
      ],
      "source": [
        "df_ChronicCond_ObstrPulmonary = train_final.groupby('cluster_pca')['ChronicCond_ObstrPulmonary'].mean()\\\n",
        "                                       .reset_index(name='ChronicCond_ObstrPulmonary_mean')\\\n",
        "                                       .sort_values(['ChronicCond_ObstrPulmonary_mean'], ascending=False)\n",
        "\n",
        "df_ChronicCond_ObstrPulmonary.head()"
      ]
    },
    {
      "cell_type": "code",
      "execution_count": 103,
      "metadata": {
        "id": "xclsLI5cYs2E",
        "colab": {
          "base_uri": "https://localhost:8080/",
          "height": 143
        },
        "outputId": "11df9c46-9a14-43e7-f256-2a1e525b37b6"
      },
      "outputs": [
        {
          "output_type": "execute_result",
          "data": {
            "text/plain": [
              "   cluster_pca  IPAnnualReimbursementAmt_mean\n",
              "0            0                   17698.293348\n",
              "1            1                    8554.089790\n",
              "2            2                    1201.226383"
            ],
            "text/html": [
              "\n",
              "  <div id=\"df-04a61137-f9b3-42c0-8f9d-1021b2a18701\">\n",
              "    <div class=\"colab-df-container\">\n",
              "      <div>\n",
              "<style scoped>\n",
              "    .dataframe tbody tr th:only-of-type {\n",
              "        vertical-align: middle;\n",
              "    }\n",
              "\n",
              "    .dataframe tbody tr th {\n",
              "        vertical-align: top;\n",
              "    }\n",
              "\n",
              "    .dataframe thead th {\n",
              "        text-align: right;\n",
              "    }\n",
              "</style>\n",
              "<table border=\"1\" class=\"dataframe\">\n",
              "  <thead>\n",
              "    <tr style=\"text-align: right;\">\n",
              "      <th></th>\n",
              "      <th>cluster_pca</th>\n",
              "      <th>IPAnnualReimbursementAmt_mean</th>\n",
              "    </tr>\n",
              "  </thead>\n",
              "  <tbody>\n",
              "    <tr>\n",
              "      <th>0</th>\n",
              "      <td>0</td>\n",
              "      <td>17698.293348</td>\n",
              "    </tr>\n",
              "    <tr>\n",
              "      <th>1</th>\n",
              "      <td>1</td>\n",
              "      <td>8554.089790</td>\n",
              "    </tr>\n",
              "    <tr>\n",
              "      <th>2</th>\n",
              "      <td>2</td>\n",
              "      <td>1201.226383</td>\n",
              "    </tr>\n",
              "  </tbody>\n",
              "</table>\n",
              "</div>\n",
              "      <button class=\"colab-df-convert\" onclick=\"convertToInteractive('df-04a61137-f9b3-42c0-8f9d-1021b2a18701')\"\n",
              "              title=\"Convert this dataframe to an interactive table.\"\n",
              "              style=\"display:none;\">\n",
              "        \n",
              "  <svg xmlns=\"http://www.w3.org/2000/svg\" height=\"24px\"viewBox=\"0 0 24 24\"\n",
              "       width=\"24px\">\n",
              "    <path d=\"M0 0h24v24H0V0z\" fill=\"none\"/>\n",
              "    <path d=\"M18.56 5.44l.94 2.06.94-2.06 2.06-.94-2.06-.94-.94-2.06-.94 2.06-2.06.94zm-11 1L8.5 8.5l.94-2.06 2.06-.94-2.06-.94L8.5 2.5l-.94 2.06-2.06.94zm10 10l.94 2.06.94-2.06 2.06-.94-2.06-.94-.94-2.06-.94 2.06-2.06.94z\"/><path d=\"M17.41 7.96l-1.37-1.37c-.4-.4-.92-.59-1.43-.59-.52 0-1.04.2-1.43.59L10.3 9.45l-7.72 7.72c-.78.78-.78 2.05 0 2.83L4 21.41c.39.39.9.59 1.41.59.51 0 1.02-.2 1.41-.59l7.78-7.78 2.81-2.81c.8-.78.8-2.07 0-2.86zM5.41 20L4 18.59l7.72-7.72 1.47 1.35L5.41 20z\"/>\n",
              "  </svg>\n",
              "      </button>\n",
              "      \n",
              "  <style>\n",
              "    .colab-df-container {\n",
              "      display:flex;\n",
              "      flex-wrap:wrap;\n",
              "      gap: 12px;\n",
              "    }\n",
              "\n",
              "    .colab-df-convert {\n",
              "      background-color: #E8F0FE;\n",
              "      border: none;\n",
              "      border-radius: 50%;\n",
              "      cursor: pointer;\n",
              "      display: none;\n",
              "      fill: #1967D2;\n",
              "      height: 32px;\n",
              "      padding: 0 0 0 0;\n",
              "      width: 32px;\n",
              "    }\n",
              "\n",
              "    .colab-df-convert:hover {\n",
              "      background-color: #E2EBFA;\n",
              "      box-shadow: 0px 1px 2px rgba(60, 64, 67, 0.3), 0px 1px 3px 1px rgba(60, 64, 67, 0.15);\n",
              "      fill: #174EA6;\n",
              "    }\n",
              "\n",
              "    [theme=dark] .colab-df-convert {\n",
              "      background-color: #3B4455;\n",
              "      fill: #D2E3FC;\n",
              "    }\n",
              "\n",
              "    [theme=dark] .colab-df-convert:hover {\n",
              "      background-color: #434B5C;\n",
              "      box-shadow: 0px 1px 3px 1px rgba(0, 0, 0, 0.15);\n",
              "      filter: drop-shadow(0px 1px 2px rgba(0, 0, 0, 0.3));\n",
              "      fill: #FFFFFF;\n",
              "    }\n",
              "  </style>\n",
              "\n",
              "      <script>\n",
              "        const buttonEl =\n",
              "          document.querySelector('#df-04a61137-f9b3-42c0-8f9d-1021b2a18701 button.colab-df-convert');\n",
              "        buttonEl.style.display =\n",
              "          google.colab.kernel.accessAllowed ? 'block' : 'none';\n",
              "\n",
              "        async function convertToInteractive(key) {\n",
              "          const element = document.querySelector('#df-04a61137-f9b3-42c0-8f9d-1021b2a18701');\n",
              "          const dataTable =\n",
              "            await google.colab.kernel.invokeFunction('convertToInteractive',\n",
              "                                                     [key], {});\n",
              "          if (!dataTable) return;\n",
              "\n",
              "          const docLinkHtml = 'Like what you see? Visit the ' +\n",
              "            '<a target=\"_blank\" href=https://colab.research.google.com/notebooks/data_table.ipynb>data table notebook</a>'\n",
              "            + ' to learn more about interactive tables.';\n",
              "          element.innerHTML = '';\n",
              "          dataTable['output_type'] = 'display_data';\n",
              "          await google.colab.output.renderOutput(dataTable, element);\n",
              "          const docLink = document.createElement('div');\n",
              "          docLink.innerHTML = docLinkHtml;\n",
              "          element.appendChild(docLink);\n",
              "        }\n",
              "      </script>\n",
              "    </div>\n",
              "  </div>\n",
              "  "
            ]
          },
          "metadata": {},
          "execution_count": 103
        }
      ],
      "source": [
        "df_IPAnnualReimbursementAmt = train_final.groupby('cluster_pca')['IPAnnualReimbursementAmt'].mean()\\\n",
        "                                       .reset_index(name='IPAnnualReimbursementAmt_mean')\\\n",
        "                                       .sort_values(['IPAnnualReimbursementAmt_mean'], ascending=False)\n",
        "\n",
        "df_IPAnnualReimbursementAmt.head()"
      ]
    },
    {
      "cell_type": "code",
      "execution_count": 104,
      "metadata": {
        "id": "Sp3kc71PZSOl",
        "colab": {
          "base_uri": "https://localhost:8080/",
          "height": 143
        },
        "outputId": "1fa57254-3698-4c8c-c99f-3da38509d8b1"
      },
      "outputs": [
        {
          "output_type": "execute_result",
          "data": {
            "text/plain": [
              "   cluster_pca  IPAnnualDeductibleAmt_mean\n",
              "0            0                 1997.632252\n",
              "1            1                  887.775943\n",
              "2            2                  151.746544"
            ],
            "text/html": [
              "\n",
              "  <div id=\"df-e9abe7fd-4d46-49e3-be3a-56aae25fc9bb\">\n",
              "    <div class=\"colab-df-container\">\n",
              "      <div>\n",
              "<style scoped>\n",
              "    .dataframe tbody tr th:only-of-type {\n",
              "        vertical-align: middle;\n",
              "    }\n",
              "\n",
              "    .dataframe tbody tr th {\n",
              "        vertical-align: top;\n",
              "    }\n",
              "\n",
              "    .dataframe thead th {\n",
              "        text-align: right;\n",
              "    }\n",
              "</style>\n",
              "<table border=\"1\" class=\"dataframe\">\n",
              "  <thead>\n",
              "    <tr style=\"text-align: right;\">\n",
              "      <th></th>\n",
              "      <th>cluster_pca</th>\n",
              "      <th>IPAnnualDeductibleAmt_mean</th>\n",
              "    </tr>\n",
              "  </thead>\n",
              "  <tbody>\n",
              "    <tr>\n",
              "      <th>0</th>\n",
              "      <td>0</td>\n",
              "      <td>1997.632252</td>\n",
              "    </tr>\n",
              "    <tr>\n",
              "      <th>1</th>\n",
              "      <td>1</td>\n",
              "      <td>887.775943</td>\n",
              "    </tr>\n",
              "    <tr>\n",
              "      <th>2</th>\n",
              "      <td>2</td>\n",
              "      <td>151.746544</td>\n",
              "    </tr>\n",
              "  </tbody>\n",
              "</table>\n",
              "</div>\n",
              "      <button class=\"colab-df-convert\" onclick=\"convertToInteractive('df-e9abe7fd-4d46-49e3-be3a-56aae25fc9bb')\"\n",
              "              title=\"Convert this dataframe to an interactive table.\"\n",
              "              style=\"display:none;\">\n",
              "        \n",
              "  <svg xmlns=\"http://www.w3.org/2000/svg\" height=\"24px\"viewBox=\"0 0 24 24\"\n",
              "       width=\"24px\">\n",
              "    <path d=\"M0 0h24v24H0V0z\" fill=\"none\"/>\n",
              "    <path d=\"M18.56 5.44l.94 2.06.94-2.06 2.06-.94-2.06-.94-.94-2.06-.94 2.06-2.06.94zm-11 1L8.5 8.5l.94-2.06 2.06-.94-2.06-.94L8.5 2.5l-.94 2.06-2.06.94zm10 10l.94 2.06.94-2.06 2.06-.94-2.06-.94-.94-2.06-.94 2.06-2.06.94z\"/><path d=\"M17.41 7.96l-1.37-1.37c-.4-.4-.92-.59-1.43-.59-.52 0-1.04.2-1.43.59L10.3 9.45l-7.72 7.72c-.78.78-.78 2.05 0 2.83L4 21.41c.39.39.9.59 1.41.59.51 0 1.02-.2 1.41-.59l7.78-7.78 2.81-2.81c.8-.78.8-2.07 0-2.86zM5.41 20L4 18.59l7.72-7.72 1.47 1.35L5.41 20z\"/>\n",
              "  </svg>\n",
              "      </button>\n",
              "      \n",
              "  <style>\n",
              "    .colab-df-container {\n",
              "      display:flex;\n",
              "      flex-wrap:wrap;\n",
              "      gap: 12px;\n",
              "    }\n",
              "\n",
              "    .colab-df-convert {\n",
              "      background-color: #E8F0FE;\n",
              "      border: none;\n",
              "      border-radius: 50%;\n",
              "      cursor: pointer;\n",
              "      display: none;\n",
              "      fill: #1967D2;\n",
              "      height: 32px;\n",
              "      padding: 0 0 0 0;\n",
              "      width: 32px;\n",
              "    }\n",
              "\n",
              "    .colab-df-convert:hover {\n",
              "      background-color: #E2EBFA;\n",
              "      box-shadow: 0px 1px 2px rgba(60, 64, 67, 0.3), 0px 1px 3px 1px rgba(60, 64, 67, 0.15);\n",
              "      fill: #174EA6;\n",
              "    }\n",
              "\n",
              "    [theme=dark] .colab-df-convert {\n",
              "      background-color: #3B4455;\n",
              "      fill: #D2E3FC;\n",
              "    }\n",
              "\n",
              "    [theme=dark] .colab-df-convert:hover {\n",
              "      background-color: #434B5C;\n",
              "      box-shadow: 0px 1px 3px 1px rgba(0, 0, 0, 0.15);\n",
              "      filter: drop-shadow(0px 1px 2px rgba(0, 0, 0, 0.3));\n",
              "      fill: #FFFFFF;\n",
              "    }\n",
              "  </style>\n",
              "\n",
              "      <script>\n",
              "        const buttonEl =\n",
              "          document.querySelector('#df-e9abe7fd-4d46-49e3-be3a-56aae25fc9bb button.colab-df-convert');\n",
              "        buttonEl.style.display =\n",
              "          google.colab.kernel.accessAllowed ? 'block' : 'none';\n",
              "\n",
              "        async function convertToInteractive(key) {\n",
              "          const element = document.querySelector('#df-e9abe7fd-4d46-49e3-be3a-56aae25fc9bb');\n",
              "          const dataTable =\n",
              "            await google.colab.kernel.invokeFunction('convertToInteractive',\n",
              "                                                     [key], {});\n",
              "          if (!dataTable) return;\n",
              "\n",
              "          const docLinkHtml = 'Like what you see? Visit the ' +\n",
              "            '<a target=\"_blank\" href=https://colab.research.google.com/notebooks/data_table.ipynb>data table notebook</a>'\n",
              "            + ' to learn more about interactive tables.';\n",
              "          element.innerHTML = '';\n",
              "          dataTable['output_type'] = 'display_data';\n",
              "          await google.colab.output.renderOutput(dataTable, element);\n",
              "          const docLink = document.createElement('div');\n",
              "          docLink.innerHTML = docLinkHtml;\n",
              "          element.appendChild(docLink);\n",
              "        }\n",
              "      </script>\n",
              "    </div>\n",
              "  </div>\n",
              "  "
            ]
          },
          "metadata": {},
          "execution_count": 104
        }
      ],
      "source": [
        "df_IPAnnualDeductibleAmt = train_final.groupby('cluster_pca')['IPAnnualDeductibleAmt'].mean()\\\n",
        "                                       .reset_index(name='IPAnnualDeductibleAmt_mean')\\\n",
        "                                       .sort_values(['IPAnnualDeductibleAmt_mean'], ascending=False)\n",
        "\n",
        "df_IPAnnualDeductibleAmt.head()"
      ]
    },
    {
      "cell_type": "code",
      "execution_count": 105,
      "metadata": {
        "id": "IQPQNVDtMw-Q",
        "colab": {
          "base_uri": "https://localhost:8080/",
          "height": 279
        },
        "outputId": "99d994bc-e8b5-4a03-ef4b-3aa0bf43af0c"
      },
      "outputs": [
        {
          "output_type": "display_data",
          "data": {
            "text/plain": [
              "<Figure size 720x288 with 1 Axes>"
            ],
            "image/png": "[encoded data removed]"
          },
          "metadata": {}
        }
      ],
      "source": [
        "import seaborn as sns\n",
        "import matplotlib.pyplot as plt \n",
        "\n",
        "sns.set_style(\"white\")\n",
        "plt.figure(figsize=(10,4)) \n",
        "\n",
        "sns.barplot(x='cluster_pca', y='InscClaimAmtReimbursed_mean', data=df_InscClaimAmtReimbursed)\n",
        "plt.ylabel('Avg. insurance claim amount reimbursed')\n",
        "plt.xlabel('Cluster #')\n",
        "sns.despine()"
      ]
    },
    {
      "cell_type": "code",
      "execution_count": 107,
      "metadata": {
        "id": "rKvBtWuENdgQ",
        "colab": {
          "base_uri": "https://localhost:8080/",
          "height": 279
        },
        "outputId": "343d2760-c609-4b97-b42c-94105ad32665"
      },
      "outputs": [
        {
          "output_type": "display_data",
          "data": {
            "text/plain": [
              "<Figure size 432x288 with 1 Axes>"
            ],
            "image/png": "[encoded data removed]"
          },
          "metadata": {}
        }
      ],
      "source": [
        "sns.barplot(x='cluster_pca', y='ChronicCond_Heartfailure_mean', data=df_ChronicCond_Heartfailure)\n",
        "plt.ylabel('Avg. ChronicCond_Heartfailure')\n",
        "plt.xlabel('Cluster #')\n",
        "sns.despine()"
      ]
    },
    {
      "cell_type": "code",
      "execution_count": 108,
      "metadata": {
        "id": "iLGhMyUmN49A",
        "colab": {
          "base_uri": "https://localhost:8080/",
          "height": 279
        },
        "outputId": "db3c23ef-bfcc-43d3-8678-a2d6b41592ab"
      },
      "outputs": [
        {
          "output_type": "display_data",
          "data": {
            "text/plain": [
              "<Figure size 432x288 with 1 Axes>"
            ],
            "image/png": "[encoded data removed]"
          },
          "metadata": {}
        }
      ],
      "source": [
        "sns.barplot(x='cluster_pca', y='DeductibleAmtPaid_mean', data=df_DeductibleAmtPaid)\n",
        "plt.ylabel('Avg. deductible amount reimbursed')\n",
        "plt.xlabel('Cluster #')\n",
        "sns.despine()"
      ]
    },
    {
      "cell_type": "code",
      "execution_count": 109,
      "metadata": {
        "id": "EiOdMihMOg6E",
        "colab": {
          "base_uri": "https://localhost:8080/",
          "height": 279
        },
        "outputId": "7a216844-de47-4eb7-ca47-f82c84b70e7c"
      },
      "outputs": [
        {
          "output_type": "display_data",
          "data": {
            "text/plain": [
              "<Figure size 432x288 with 1 Axes>"
            ],
            "image/png": "[encoded data removed]"
          },
          "metadata": {}
        }
      ],
      "source": [
        "sns.barplot(x='cluster_pca', y='ChronicCond_KidneyDisease_mean', data=df_ChronicCond_KidneyDisease)\n",
        "plt.ylabel('Avg. ChronicCond_KidneyDisease')\n",
        "plt.xlabel('Cluster #')\n",
        "sns.despine()"
      ]
    },
    {
      "cell_type": "code",
      "execution_count": 110,
      "metadata": {
        "id": "nf1Zk5wpO5XS",
        "colab": {
          "base_uri": "https://localhost:8080/",
          "height": 279
        },
        "outputId": "3edde5a1-3f6c-4189-baac-69f63c2f69c3"
      },
      "outputs": [
        {
          "output_type": "display_data",
          "data": {
            "text/plain": [
              "<Figure size 432x288 with 1 Axes>"
            ],
            "image/png": "[encoded data removed]"
          },
          "metadata": {}
        }
      ],
      "source": [
        "sns.barplot(x='cluster_pca', y='ChronicCond_ObstrPulmonary_mean', data=df_ChronicCond_ObstrPulmonary)\n",
        "plt.ylabel('Avg. ChronicCond_ObstrPulmonary')\n",
        "plt.xlabel('Cluster #')\n",
        "sns.despine()"
      ]
    },
    {
      "cell_type": "code",
      "execution_count": 111,
      "metadata": {
        "id": "JMeC6DaLYcBB",
        "colab": {
          "base_uri": "https://localhost:8080/",
          "height": 279
        },
        "outputId": "e60a183c-4f35-42a9-f459-1a1018136a55"
      },
      "outputs": [
        {
          "output_type": "display_data",
          "data": {
            "text/plain": [
              "<Figure size 432x288 with 1 Axes>"
            ],
            "image/png": "[encoded data removed]"
          },
          "metadata": {}
        }
      ],
      "source": [
        "sns.barplot(x='cluster_pca', y='IPAnnualReimbursementAmt_mean', data=df_IPAnnualReimbursementAmt)\n",
        "plt.ylabel('Avg. IPAnnualReimbursementAmt')\n",
        "plt.xlabel('Cluster #')\n",
        "sns.despine()"
      ]
    },
    {
      "cell_type": "code",
      "execution_count": 112,
      "metadata": {
        "id": "D373EUh6ZBuo",
        "colab": {
          "base_uri": "https://localhost:8080/",
          "height": 279
        },
        "outputId": "23dcfcd8-7b04-48e6-b7aa-5ff41f7725a9"
      },
      "outputs": [
        {
          "output_type": "display_data",
          "data": {
            "text/plain": [
              "<Figure size 432x288 with 1 Axes>"
            ],
            "image/png": "[encoded data removed]"
          },
          "metadata": {}
        }
      ],
      "source": [
        "sns.barplot(x='cluster_pca', y='IPAnnualDeductibleAmt_mean', data=df_IPAnnualDeductibleAmt)\n",
        "plt.ylabel('Avg. IPAnnualDeductibleAmt')\n",
        "plt.xlabel('Cluster #')\n",
        "sns.despine()\n"
      ]
    },
    {
      "cell_type": "code",
      "execution_count": null,
      "metadata": {
        "id": "0bXAa0ZeZuqW"
      },
      "outputs": [],
      "source": []
    }
  ],
  "metadata": {
    "colab": {
      "provenance": []
    },
    "kernelspec": {
      "display_name": "Python 3",
      "name": "python3"
    },
    "language_info": {
      "name": "python"
    }
  },
  "nbformat": 4,
  "nbformat_minor": 0
}