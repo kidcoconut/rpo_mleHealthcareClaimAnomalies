{
 "cells": [
  {
   "cell_type": "markdown",
   "metadata": {
    "id": "oGQ5uB5WwHvJ"
   },
   "source": [
    "**Business Objective**\n",
    "\n",
    "Rampant fraud in US healthcare system results in increased premiums for many vulnerable citizens who cannot afford to pay hefty price for a fundamental right such as healthcare. The aim is to find patterns of fraud commited by providers and train ML models to detect similar patterns in the future. Dataset for this capstone project is obtained from Kaggle [here](https://www.kaggle.com/code/rohitrox/medical-provider-fraud-detection/data).\n",
    "\n",
    "---\n",
    "\n",
    "\n",
    "Abuse in healthcare system can take many forms, such as:\n",
    "\n",
    "*Billing for services that were not rendered.\n",
    "\n",
    "*Duplicate submission of a claim for the same service.\n",
    "\n",
    "*Charging for a more complex or expensive than was actually provided."
   ]
  },
  {
   "cell_type": "code",
   "execution_count": 1,
   "metadata": {
    "colab": {
     "base_uri": "https://localhost:8080/"
    },
    "executionInfo": {
     "elapsed": 28214,
     "status": "ok",
     "timestamp": 1675891945986,
     "user": {
      "displayName": "kid coconut",
      "userId": "06618246116934665843"
     },
     "user_tz": 300
    },
    "id": "4yBHsMoHl4ex",
    "outputId": "3933277a-4513-40fb-e7b5-fe4bd26775a8"
   },
   "outputs": [
    {
     "name": "stdout",
     "output_type": "stream",
     "text": [
      "Mounted at /content/drive\n"
     ]
    }
   ],
   "source": [
    "from google.colab import drive\n",
    "drive.mount('/content/drive')\n",
    "\n",
    "#--- google drive refs\n",
    "m_kstrRoot = '/content/drive/My Drive/Colab Notebooks/fourthbrain.ai/'\n",
    "m_kstrRoot = m_kstrRoot + 'capstone/'\n",
    "m_kstrData = m_kstrRoot + 'data/'"
   ]
  },
  {
   "cell_type": "markdown",
   "metadata": {
    "id": "hddzx5lfIZhV"
   },
   "source": [
    "# pre-reqs"
   ]
  },
  {
   "cell_type": "code",
   "execution_count": 1,
   "metadata": {
    "colab": {
     "base_uri": "https://localhost:8080/",
     "height": 131
    },
    "executionInfo": {
     "elapsed": 322,
     "status": "error",
     "timestamp": 1675893075618,
     "user": {
      "displayName": "kid coconut",
      "userId": "06618246116934665843"
     },
     "user_tz": 300
    },
    "id": "dZf86xA5IcTb",
    "outputId": "76f666a0-b2ea-40c2-9fda-4c624192e266"
   },
   "outputs": [],
   "source": [
    "#--- imports;  versions reqs listed are from local fastapi dev env:  prod_capstone  \n",
    "import pandas as pd               #--- pandas==1.5.2\n",
    "import numpy as np                #--- numpy==1.23.5             \n",
    "import sklearn                    #--- scikit-learn >=1.2.0            \n",
    "import pickle                     #--- pickle >= 4.0\n",
    "            \n",
    "\n",
    "def persistScaler(scalarObj):\n",
    "  #--- persist the std scaler\n",
    "  with open(m_kstrData + \"std_scaler_colab.pkl\", 'wb') as filPkl:\n",
    "      pickle.dump(scalarObj, filPkl)\n",
    "\n",
    "def persistLogRegr_model(modelObj):\n",
    "  with open(m_kstrData + \"lgr_model_colab.pkl\", 'wb') as filPkl:\n",
    "      pickle.dump(modelObj, filPkl)\n",
    "\n",
    "def persistSVM_model(modelObj):\n",
    "  with open(m_kstrData + \"svm_model_colab.pkl\", 'wb') as filPkl:\n",
    "      pickle.dump(modelObj, filPkl)\n",
    "\n",
    "def persistGBC_model(modelObj):\n",
    "  with open(m_kstrData + \"gbc_model_colab.pkl\", 'wb') as filPkl:\n",
    "      pickle.dump(modelObj, filPkl)\n",
    "\n",
    "\n",
    "def persistEnc_model(modelObj):\n",
    "  with open(m_kstrData + \"enc_model_colab.pkl\", 'wb') as filPkl:\n",
    "      pickle.dump(modelObj, filPkl)\n",
    "\n",
    "\n",
    "def persistKMeans_model(modelObj):\n",
    "  with open(m_kstrData + \"kmn_model_colab.pkl\", 'wb') as filPkl:\n",
    "      pickle.dump(modelObj, filPkl)\n",
    "\n",
    "\n",
    "def prereq_createCondaEnv():\n",
    "\n",
    "  try:\n",
    "    print(\"INFO:  activating conda env_capstone ...\")\n",
    "    !conda activate env_capstone\n",
    "  except CommandNotFoundError:\n",
    "    #--- possibly, conda is not initialized?\n",
    "    print(\"EXCEPTION: ... CommandNotFoundError\")\n",
    "    !conda init bash\n",
    "    !conda create --name env_capstone python=3.10.8\n",
    "  except excE:\n",
    "    print(\"EXCEPTION: ... \", excE)\n",
    "  finally:\n",
    "    !conda activate env_capstone\n",
    "    \n",
    "'''    \n",
    "  try:\n",
    "    print(\"INFO:  creating new conda env_capstone ...\")\n",
    "    !conda create --name env_capstone python=3.10.8\n",
    "  except:\n",
    "    #--- possibly the env already exists?\n",
    "\n",
    " \n",
    "    !conda create --name env_capstone python=3.10.8\n",
    "'''\n",
    "\n",
    "\n",
    "def prereq_getCurrVersions():\n",
    "  print(\"INFO:  get current dep versions ...\")\n",
    "  print(\"python.v: \")                               #--- python 3.10.8\n",
    "  !python -V\n",
    "\n",
    "  print(\"pd.v: \", pd.__version__)                   #--- pandas 1.5.2\n",
    "  print(\"np.v: \", np.__version__)                   #--- numpy 1.24.1\n",
    "  print(\"sk.v: \", sklearn.__version__)              #--- sklearn >=0.0.post1\n",
    "  #print(\"skl.v: \", scikit-learn.__version__)        #--- scikit-learn ==1.2.0\n",
    "  print(\"pkl.v: \", pickle.format_version)           #--- pickle >= 4.0\n",
    "\n",
    "  prereqs_checkSklearn()\n",
    "\n",
    "\n",
    "def prereq_upgradePython():\n",
    "  print(\"INFO:  upgrading python ...\")\n",
    "  !wget https://github.com/korakot/kora/releases/download/v0.10/py310.sh\n",
    "  !bash ./py310.sh -b -f -p /usr/local\n",
    "  !python -m ipykernel install --name \"py310\" --user\n",
    "\n",
    "\n",
    "def prereq_upgradeDeps():\n",
    "  #--- optional exec:  ensure minimum libraries and versions\n",
    "  print(\"INFO:  upgrading dependencies ...\")\n",
    "  !pip3 install -U pandas>=1.5.3\n",
    "  !pip3 install -U numpy>=1.24.1\n",
    "\n",
    "  #!pip3 uninstall scikit-learn -y\n",
    "  #!pip3 install -U scikit-learn==1.2.0\n",
    "  #!pip3 install -U sklearn==0.0.post1\n",
    "  !pip3 install -U sklearn==1.2.0\n",
    "  \n",
    "  #!pip install -U pickle>=4.0\n",
    "  #--- optional exec:  determine default colab libraries and versions\n",
    "\n",
    "\n",
    "def prereq_forceDeps():\n",
    "  import pkg_resources\n",
    "  pkg_resources.require(\"pandas==1.5.3\")\n",
    "  pkg_resources.require(\"numpy==1.24.1\")\n",
    "  pkg_resources.require(\"scikit-learn==1.1.1\")\n",
    "\n",
    "  import pandas\n",
    "  import numpy\n",
    "  import sklearn  \n",
    "  #import scikit-learn\n",
    "\n",
    "def prereqs_checkSklearn():\n",
    "  from sklearn.preprocessing import StandardScaler\n",
    "  scaler = StandardScaler()\n",
    "  print(\"INFO (nbk_capstone_unsuperv_clustering)  StdScaler.version: \", scaler.__getstate__()['_sklearn_version'])\n",
    "  print(\"INFO (libModel.fitClaims_stdScalar)  sklearn.version: \" , sklearn.__version__)\n"
   ]
  },
  {
   "cell_type": "code",
   "execution_count": 2,
   "metadata": {
    "colab": {
     "base_uri": "https://localhost:8080/"
    },
    "executionInfo": {
     "elapsed": 24,
     "status": "ok",
     "timestamp": 1675891976711,
     "user": {
      "displayName": "kid coconut",
      "userId": "06618246116934665843"
     },
     "user_tz": 300
    },
    "id": "OSznjUrwKbPR",
    "outputId": "557f9d5f-de3c-489d-9e61-bc4ef87eb17c"
   },
   "outputs": [
    {
     "name": "stdout",
     "output_type": "stream",
     "text": [
      "INFO:  get current dep versions ...\n",
      "python.v: \n",
      "Python 3.10.8\n",
      "pd.v:  1.5.3\n",
      "np.v:  1.24.1\n",
      "sk.v:  1.1.1\n",
      "pkl.v:  4.0\n",
      "INFO (nbk_capstone_unsuperv_clustering)  StdScaler.version:  1.1.1\n",
      "INFO (libModel.fitClaims_stdScalar)  sklearn.version:  1.1.1\n"
     ]
    }
   ],
   "source": [
    "\n",
    "#--- get current versions\n",
    "prereq_getCurrVersions()\n",
    "\n",
    "#prereq_forceDeps()\n"
   ]
  },
  {
   "cell_type": "code",
   "execution_count": null,
   "metadata": {
    "colab": {
     "base_uri": "https://localhost:8080/"
    },
    "executionInfo": {
     "elapsed": 158732,
     "status": "ok",
     "timestamp": 1675892135429,
     "user": {
      "displayName": "kid coconut",
      "userId": "06618246116934665843"
     },
     "user_tz": 300
    },
    "id": "7tQyeMPXKdSY",
    "outputId": "acd422dc-432b-4c3c-8cc0-1bba997255a6"
   },
   "outputs": [],
   "source": [
    "#--- upgrade python to 3.10.6\n",
    "#prereq_upgradePython()"
   ]
  },
  {
   "cell_type": "code",
   "execution_count": null,
   "metadata": {
    "colab": {
     "base_uri": "https://localhost:8080/"
    },
    "executionInfo": {
     "elapsed": 9332,
     "status": "ok",
     "timestamp": 1675892533035,
     "user": {
      "displayName": "kid coconut",
      "userId": "06618246116934665843"
     },
     "user_tz": 300
    },
    "id": "C_pyFpKlLy2l",
    "outputId": "6f1d1613-e595-4faf-e38a-75d95f5f78f3"
   },
   "outputs": [],
   "source": [
    "#--- upgrade libraries\n",
    "#!pip list outdated\n",
    "#!pip install --upgrade pandas==1.5.2 numpy==1.23.5\n",
    "#!pip install --upgrade pandas==1.5.3 numpy==1.24.1\n",
    "#prereq_upgradeDeps()"
   ]
  },
  {
   "cell_type": "code",
   "execution_count": 3,
   "metadata": {
    "colab": {
     "base_uri": "https://localhost:8080/"
    },
    "executionInfo": {
     "elapsed": 291,
     "status": "ok",
     "timestamp": 1675892565628,
     "user": {
      "displayName": "kid coconut",
      "userId": "06618246116934665843"
     },
     "user_tz": 300
    },
    "id": "6EnBahqEmZWp",
    "outputId": "4e5ca6b9-38e5-49d7-8e54-b37e3f12b71a"
   },
   "outputs": [
    {
     "name": "stdout",
     "output_type": "stream",
     "text": [
      "INFO:  get current dep versions ...\n",
      "python.v: \n",
      "Python 3.10.8\n",
      "pd.v:  1.5.3\n",
      "np.v:  1.24.1\n",
      "sk.v:  1.2.1\n",
      "pkl.v:  4.0\n"
     ]
    }
   ],
   "source": [
    "\n",
    "#--- get current versions\n",
    "prereq_getCurrVersions()"
   ]
  },
  {
   "cell_type": "markdown",
   "metadata": {
    "id": "VsKXuTdyy5Lg"
   },
   "source": [
    "# Fetching Train and Test Files"
   ]
  },
  {
   "cell_type": "code",
   "execution_count": null,
   "metadata": {
    "colab": {
     "base_uri": "https://localhost:8080/"
    },
    "executionInfo": {
     "elapsed": 3067,
     "status": "ok",
     "timestamp": 1675468603916,
     "user": {
      "displayName": "kid coconut",
      "userId": "06618246116934665843"
     },
     "user_tz": 300
    },
    "id": "3uENGd3z72D8",
    "outputId": "eef69d84-4007-4064-e103-0f0a473fafb7"
   },
   "outputs": [],
   "source": [
    "#!pip install sklearn==0.0.post1"
   ]
  },
  {
   "cell_type": "code",
   "execution_count": null,
   "metadata": {
    "colab": {
     "base_uri": "https://localhost:8080/"
    },
    "executionInfo": {
     "elapsed": 42,
     "status": "ok",
     "timestamp": 1675468603920,
     "user": {
      "displayName": "kid coconut",
      "userId": "06618246116934665843"
     },
     "user_tz": 300
    },
    "id": "bLHPa3Hq7aUp",
    "outputId": "6c5fd8e2-9792-478a-8fa2-eed7b118ddae"
   },
   "outputs": [
    {
     "data": {
      "application/vnd.google.colaboratory.intrinsic+json": {
       "type": "string"
      },
      "text/plain": [
       "'1.0.2'"
      ]
     },
     "execution_count": 5,
     "metadata": {},
     "output_type": "execute_result"
    }
   ],
   "source": [
    "import sklearn\n",
    "sklearn.__version__"
   ]
  },
  {
   "cell_type": "code",
   "execution_count": 4,
   "metadata": {
    "id": "p7mYKEZRI-v_"
   },
   "outputs": [],
   "source": [
    "import numpy as np\n",
    "import pickle"
   ]
  },
  {
   "cell_type": "code",
   "execution_count": 6,
   "metadata": {},
   "outputs": [
    {
     "name": "stdout",
     "output_type": "stream",
     "text": [
      "/home/kidcoconut/myLurnins/fourthbrain.ai/code/rpo_mle10_capstone/demo/notebooks\n"
     ]
    }
   ],
   "source": [
    "!pwd"
   ]
  },
  {
   "cell_type": "code",
   "execution_count": 3,
   "metadata": {},
   "outputs": [
    {
     "name": "stdout",
     "output_type": "stream",
     "text": [
      "INFO (pth_appRoot):   /home/kidcoconut/myLurnins/fourthbrain.ai/code/rpo_mle10_capstone/demo/app\n"
     ]
    }
   ],
   "source": [
    "\n",
    "from pathlib import Path\n",
    "\n",
    "#pth_pwd = Path(__file__).resolve().parent\n",
    "pth_pwd = Path('/home/kidcoconut/myLurnins/fourthbrain.ai/code/rpo_mle10_capstone/demo/notebooks')\n",
    "pth_appRoot = str(pth_pwd.parent) + \"/app\"\n",
    "\n",
    "pth_root = str(pth_appRoot) + \"/\"\n",
    "pth_api = pth_root + \"api/\"\n",
    "pth_bin = pth_root + \"bin/\"\n",
    "pth_binModels = pth_root + \"bin/models/\"\n",
    "pth_data = pth_root + \"data/\"\n",
    "pth_lib = pth_root + \"lib/\"\n",
    "pth_libModels = pth_root + \"models/\"\n",
    "pth_model = pth_root + \"model/\"\n",
    "pth_qa = pth_root + \"qa/\"\n",
    "pth_routes = pth_root + \"routes/\"\n",
    "pth_templ = pth_root + \"templ/\"\n",
    "pth_uix = pth_root + \"uix/\"\n",
    "\n",
    "print(\"INFO (pth_appRoot):  \", pth_appRoot)"
   ]
  },
  {
   "cell_type": "code",
   "execution_count": 4,
   "metadata": {
    "id": "aVrfisylwe3Q"
   },
   "outputs": [],
   "source": [
    "import pandas as pd\n",
    "import os\n",
    "pathname = '/content/drive/MyDrive/fourthbrain'\n",
    "\n",
    "\n",
    "#--- IM: override\n",
    "#pathname = m_kstrData\n",
    "pathname = pth_data\n",
    "\n",
    "train_df = pd.read_csv(os.path.join(pathname,'Train-1542865627584.csv'))\n",
    "train_beneficiary_df = pd.read_csv(os.path.join(pathname,'Train_Beneficiarydata-1542865627584.csv'))\n",
    "train_inpatient_df = pd.read_csv(os.path.join(pathname,'Train_Inpatientdata-1542865627584.csv'))\n",
    "train_outpatient_df = pd.read_csv(os.path.join(pathname,'Train_Outpatientdata-1542865627584.csv'))\n",
    "\n",
    "test_df = pd.read_csv(os.path.join(pathname,'Test-1542969243754.csv'))\n",
    "test_beneficiary_df = pd.read_csv(os.path.join(pathname,'Test_Beneficiarydata-1542969243754.csv'))\n",
    "test_inpatient_df = pd.read_csv(os.path.join(pathname,'Test_Inpatientdata-1542969243754.csv'))\n",
    "test_outpatient_df = pd.read_csv(os.path.join(pathname,'Test_Outpatientdata-1542969243754.csv'))"
   ]
  },
  {
   "cell_type": "markdown",
   "metadata": {
    "id": "MyzCpDbQzB_K"
   },
   "source": [
    "# Data Engineering on Beneficiary Dataset"
   ]
  },
  {
   "cell_type": "code",
   "execution_count": 5,
   "metadata": {
    "colab": {
     "base_uri": "https://localhost:8080/"
    },
    "executionInfo": {
     "elapsed": 153,
     "status": "ok",
     "timestamp": 1675718569613,
     "user": {
      "displayName": "kid coconut",
      "userId": "06618246116934665843"
     },
     "user_tz": 300
    },
    "id": "wn9BwzZdxs-9",
    "outputId": "84bdafc8-26d4-416a-990c-b5c2aee84cee"
   },
   "outputs": [
    {
     "data": {
      "text/plain": [
       "2    92530\n",
       "1    46026\n",
       "Name: ChronicCond_Alzheimer, dtype: int64"
      ]
     },
     "execution_count": 5,
     "metadata": {},
     "output_type": "execute_result"
    }
   ],
   "source": [
    "train_beneficiary_df['ChronicCond_Alzheimer'].value_counts()"
   ]
  },
  {
   "cell_type": "code",
   "execution_count": 6,
   "metadata": {
    "colab": {
     "base_uri": "https://localhost:8080/"
    },
    "executionInfo": {
     "elapsed": 176,
     "status": "ok",
     "timestamp": 1675718569955,
     "user": {
      "displayName": "kid coconut",
      "userId": "06618246116934665843"
     },
     "user_tz": 300
    },
    "id": "dXzeDnfbyBXA",
    "outputId": "b1c016cf-aac4-4a32-aa63-3cdd2706d234"
   },
   "outputs": [
    {
     "data": {
      "text/plain": [
       "2    70154\n",
       "1    68402\n",
       "Name: ChronicCond_Heartfailure, dtype: int64"
      ]
     },
     "execution_count": 6,
     "metadata": {},
     "output_type": "execute_result"
    }
   ],
   "source": [
    "train_beneficiary_df['ChronicCond_Heartfailure'].value_counts()"
   ]
  },
  {
   "cell_type": "code",
   "execution_count": 7,
   "metadata": {
    "colab": {
     "base_uri": "https://localhost:8080/"
    },
    "executionInfo": {
     "elapsed": 16,
     "status": "ok",
     "timestamp": 1675718569956,
     "user": {
      "displayName": "kid coconut",
      "userId": "06618246116934665843"
     },
     "user_tz": 300
    },
    "id": "0TSaPAysyHWD",
    "outputId": "1b6c6324-cf1e-423e-a575-5fcaf44a9dfc"
   },
   "outputs": [
    {
     "data": {
      "text/plain": [
       "2    121935\n",
       "1     16621\n",
       "Name: ChronicCond_Cancer, dtype: int64"
      ]
     },
     "execution_count": 7,
     "metadata": {},
     "output_type": "execute_result"
    }
   ],
   "source": [
    "train_beneficiary_df['ChronicCond_Cancer'].value_counts()"
   ]
  },
  {
   "cell_type": "code",
   "execution_count": 8,
   "metadata": {
    "colab": {
     "base_uri": "https://localhost:8080/"
    },
    "executionInfo": {
     "elapsed": 14,
     "status": "ok",
     "timestamp": 1675718569956,
     "user": {
      "displayName": "kid coconut",
      "userId": "06618246116934665843"
     },
     "user_tz": 300
    },
    "id": "LOdtEiDHzhV_",
    "outputId": "9fd75b24-3523-4d11-f4ab-c3c3c08ea565"
   },
   "outputs": [
    {
     "data": {
      "text/plain": [
       "2    55176\n",
       "1     8792\n",
       "Name: ChronicCond_Cancer, dtype: int64"
      ]
     },
     "execution_count": 8,
     "metadata": {},
     "output_type": "execute_result"
    }
   ],
   "source": [
    "test_beneficiary_df['ChronicCond_Cancer'].value_counts()"
   ]
  },
  {
   "cell_type": "code",
   "execution_count": 9,
   "metadata": {
    "id": "kIO05q2PyWfF"
   },
   "outputs": [],
   "source": [
    "cols = ['ChronicCond_Alzheimer', 'ChronicCond_Heartfailure',\n",
    "       'ChronicCond_KidneyDisease', 'ChronicCond_Cancer',\n",
    "       'ChronicCond_ObstrPulmonary', 'ChronicCond_Depression',\n",
    "       'ChronicCond_Diabetes', 'ChronicCond_IschemicHeart',\n",
    "       'ChronicCond_Osteoporasis', 'ChronicCond_rheumatoidarthritis',\n",
    "       'ChronicCond_stroke'] \n",
    "\n",
    "for col in cols:\n",
    "  train_beneficiary_df.replace({col: 2}, 0, inplace=True)\n",
    "  test_beneficiary_df.replace({col: 2}, 0, inplace=True)"
   ]
  },
  {
   "cell_type": "code",
   "execution_count": 10,
   "metadata": {
    "colab": {
     "base_uri": "https://localhost:8080/"
    },
    "executionInfo": {
     "elapsed": 14,
     "status": "ok",
     "timestamp": 1675718569958,
     "user": {
      "displayName": "kid coconut",
      "userId": "06618246116934665843"
     },
     "user_tz": 300
    },
    "id": "OzS-qEypyuSn",
    "outputId": "11418300-31bd-43a8-c480-c890053ef255"
   },
   "outputs": [
    {
     "data": {
      "text/plain": [
       "0    92530\n",
       "1    46026\n",
       "Name: ChronicCond_Alzheimer, dtype: int64"
      ]
     },
     "execution_count": 10,
     "metadata": {},
     "output_type": "execute_result"
    }
   ],
   "source": [
    "train_beneficiary_df['ChronicCond_Alzheimer'].value_counts()"
   ]
  },
  {
   "cell_type": "code",
   "execution_count": 11,
   "metadata": {
    "colab": {
     "base_uri": "https://localhost:8080/"
    },
    "executionInfo": {
     "elapsed": 12,
     "status": "ok",
     "timestamp": 1675718569958,
     "user": {
      "displayName": "kid coconut",
      "userId": "06618246116934665843"
     },
     "user_tz": 300
    },
    "id": "vlbHzEwPysTu",
    "outputId": "50500904-fdf9-46d8-f10a-6e4135d2de84"
   },
   "outputs": [
    {
     "data": {
      "text/plain": [
       "0    70154\n",
       "1    68402\n",
       "Name: ChronicCond_Heartfailure, dtype: int64"
      ]
     },
     "execution_count": 11,
     "metadata": {},
     "output_type": "execute_result"
    }
   ],
   "source": [
    "train_beneficiary_df['ChronicCond_Heartfailure'].value_counts()"
   ]
  },
  {
   "cell_type": "code",
   "execution_count": 12,
   "metadata": {
    "colab": {
     "base_uri": "https://localhost:8080/"
    },
    "executionInfo": {
     "elapsed": 11,
     "status": "ok",
     "timestamp": 1675718569959,
     "user": {
      "displayName": "kid coconut",
      "userId": "06618246116934665843"
     },
     "user_tz": 300
    },
    "id": "-EDo4flHypLW",
    "outputId": "666d6d34-2c5c-4c1c-a64b-ba52ba5b678d"
   },
   "outputs": [
    {
     "data": {
      "text/plain": [
       "0    121935\n",
       "1     16621\n",
       "Name: ChronicCond_Cancer, dtype: int64"
      ]
     },
     "execution_count": 12,
     "metadata": {},
     "output_type": "execute_result"
    }
   ],
   "source": [
    "train_beneficiary_df['ChronicCond_Cancer'].value_counts()"
   ]
  },
  {
   "cell_type": "code",
   "execution_count": 13,
   "metadata": {
    "colab": {
     "base_uri": "https://localhost:8080/"
    },
    "executionInfo": {
     "elapsed": 202,
     "status": "ok",
     "timestamp": 1675718570151,
     "user": {
      "displayName": "kid coconut",
      "userId": "06618246116934665843"
     },
     "user_tz": 300
    },
    "id": "orUUSj-AyrQv",
    "outputId": "3e66e441-9f63-4705-a989-2eb2b8b07588"
   },
   "outputs": [
    {
     "data": {
      "text/plain": [
       "0    55176\n",
       "1     8792\n",
       "Name: ChronicCond_Cancer, dtype: int64"
      ]
     },
     "execution_count": 13,
     "metadata": {},
     "output_type": "execute_result"
    }
   ],
   "source": [
    "test_beneficiary_df['ChronicCond_Cancer'].value_counts()"
   ]
  },
  {
   "cell_type": "markdown",
   "metadata": {
    "id": "DF29noY-zuJR"
   },
   "source": [
    "## Person's Age on Train dataset"
   ]
  },
  {
   "cell_type": "code",
   "execution_count": 14,
   "metadata": {
    "id": "85ZX55AxzelO"
   },
   "outputs": [],
   "source": [
    "train_beneficiary_df['DOB'] = pd.to_datetime(train_beneficiary_df['DOB'], format = '%Y-%m-%d')\n",
    "train_beneficiary_df['DOD'] = pd.to_datetime(train_beneficiary_df['DOD'], format = '%Y-%m-%d') \n",
    "train_beneficiary_df['Age'] = round((train_beneficiary_df['DOD'] - train_beneficiary_df['DOB']).dt.days/365) "
   ]
  },
  {
   "cell_type": "code",
   "execution_count": 15,
   "metadata": {
    "colab": {
     "base_uri": "https://localhost:8080/"
    },
    "executionInfo": {
     "elapsed": 17,
     "status": "ok",
     "timestamp": 1675718570153,
     "user": {
      "displayName": "kid coconut",
      "userId": "06618246116934665843"
     },
     "user_tz": 300
    },
    "id": "3cHryIBB0BzR",
    "outputId": "0983dfec-f002-4482-dec7-bc4df7c0bde0"
   },
   "outputs": [
    {
     "data": {
      "text/plain": [
       "(137135, 138556)"
      ]
     },
     "execution_count": 15,
     "metadata": {},
     "output_type": "execute_result"
    }
   ],
   "source": [
    "train_beneficiary_df['Age'].isna().sum(), train_beneficiary_df.shape[0]"
   ]
  },
  {
   "cell_type": "markdown",
   "metadata": {
    "id": "RdKffm8K0KP-"
   },
   "source": [
    "**Take-away message**\n",
    "\n",
    "There are 1421 beneficiaries still alive and we need to calculate their age as well. "
   ]
  },
  {
   "cell_type": "code",
   "execution_count": 16,
   "metadata": {
    "colab": {
     "base_uri": "https://localhost:8080/"
    },
    "executionInfo": {
     "elapsed": 14,
     "status": "ok",
     "timestamp": 1675718570153,
     "user": {
      "displayName": "kid coconut",
      "userId": "06618246116934665843"
     },
     "user_tz": 300
    },
    "id": "rczZ6Gq90F-S",
    "outputId": "8855f4e4-4ed4-42d0-b773-8aa66ccc918d"
   },
   "outputs": [
    {
     "data": {
      "text/plain": [
       "Timestamp('2009-12-01 00:00:00')"
      ]
     },
     "execution_count": 16,
     "metadata": {},
     "output_type": "execute_result"
    }
   ],
   "source": [
    "train_beneficiary_df['DOD'].max()"
   ]
  },
  {
   "cell_type": "markdown",
   "metadata": {
    "id": "last8gUD0clQ"
   },
   "source": [
    "**Take-away message**\n",
    "Beneficiary data was last recorded on 2009-12-01, so we can calculate age of people that are still alive based on this date. "
   ]
  },
  {
   "cell_type": "code",
   "execution_count": 17,
   "metadata": {
    "id": "MHojV0Y_0aG6"
   },
   "outputs": [],
   "source": [
    "train_beneficiary_df['Age'].fillna(round(((pd.to_datetime('2019-12-01', format='%Y-%m-%d') - train_beneficiary_df['DOB']).dt.days)/365), inplace=True)"
   ]
  },
  {
   "cell_type": "code",
   "execution_count": 18,
   "metadata": {
    "colab": {
     "base_uri": "https://localhost:8080/"
    },
    "executionInfo": {
     "elapsed": 13,
     "status": "ok",
     "timestamp": 1675718570155,
     "user": {
      "displayName": "kid coconut",
      "userId": "06618246116934665843"
     },
     "user_tz": 300
    },
    "id": "Lf4eMebF1Fs3",
    "outputId": "5c7f5675-4742-480f-fc0e-25420de44169"
   },
   "outputs": [
    {
     "data": {
      "text/plain": [
       "0"
      ]
     },
     "execution_count": 18,
     "metadata": {},
     "output_type": "execute_result"
    }
   ],
   "source": [
    "train_beneficiary_df.Age.isna().sum()"
   ]
  },
  {
   "cell_type": "markdown",
   "metadata": {
    "id": "dE8bWqjG1SaO"
   },
   "source": [
    "## Person's Age on Test dataset"
   ]
  },
  {
   "cell_type": "code",
   "execution_count": 19,
   "metadata": {
    "id": "m4RlSQE61Liq"
   },
   "outputs": [],
   "source": [
    "test_beneficiary_df['DOB'] = pd.to_datetime(test_beneficiary_df['DOB'], format = '%Y-%m-%d')\n",
    "test_beneficiary_df['DOD'] = pd.to_datetime(test_beneficiary_df['DOD'], format = '%Y-%m-%d') \n",
    "test_beneficiary_df['Age'] = round((test_beneficiary_df['DOD'] - test_beneficiary_df['DOB']).dt.days/365)"
   ]
  },
  {
   "cell_type": "code",
   "execution_count": 20,
   "metadata": {
    "colab": {
     "base_uri": "https://localhost:8080/"
    },
    "executionInfo": {
     "elapsed": 26,
     "status": "ok",
     "timestamp": 1675718570474,
     "user": {
      "displayName": "kid coconut",
      "userId": "06618246116934665843"
     },
     "user_tz": 300
    },
    "id": "aX1c4-Ev1bD3",
    "outputId": "15e08734-e7b2-42a9-995a-cdfa59f32d9d"
   },
   "outputs": [
    {
     "data": {
      "text/plain": [
       "(63394, 63968)"
      ]
     },
     "execution_count": 20,
     "metadata": {},
     "output_type": "execute_result"
    }
   ],
   "source": [
    "test_beneficiary_df['Age'].isna().sum(), test_beneficiary_df.shape[0]\n"
   ]
  },
  {
   "cell_type": "code",
   "execution_count": 21,
   "metadata": {
    "colab": {
     "base_uri": "https://localhost:8080/"
    },
    "executionInfo": {
     "elapsed": 23,
     "status": "ok",
     "timestamp": 1675718570475,
     "user": {
      "displayName": "kid coconut",
      "userId": "06618246116934665843"
     },
     "user_tz": 300
    },
    "id": "jqmCkPjX1eJa",
    "outputId": "4b57ea85-c455-4564-e790-95c1d5b10cac"
   },
   "outputs": [
    {
     "data": {
      "text/plain": [
       "574"
      ]
     },
     "execution_count": 21,
     "metadata": {},
     "output_type": "execute_result"
    }
   ],
   "source": [
    "63968 - 63394 "
   ]
  },
  {
   "cell_type": "markdown",
   "metadata": {
    "id": "Mg-hMWRk1k8z"
   },
   "source": [
    "**Take-away message**\n",
    "\n",
    "In the test dataset, there are 574 beneficiaries that are still alive. We'll calculate their age based on the last recorded date. "
   ]
  },
  {
   "cell_type": "code",
   "execution_count": 22,
   "metadata": {
    "colab": {
     "base_uri": "https://localhost:8080/"
    },
    "executionInfo": {
     "elapsed": 21,
     "status": "ok",
     "timestamp": 1675718570475,
     "user": {
      "displayName": "kid coconut",
      "userId": "06618246116934665843"
     },
     "user_tz": 300
    },
    "id": "p3oEc9sB1jof",
    "outputId": "131ea31a-9be0-4ee9-bb3f-c7c204a61ce1"
   },
   "outputs": [
    {
     "data": {
      "text/plain": [
       "Timestamp('2009-12-01 00:00:00')"
      ]
     },
     "execution_count": 22,
     "metadata": {},
     "output_type": "execute_result"
    }
   ],
   "source": [
    "test_beneficiary_df['DOD'].max()\n"
   ]
  },
  {
   "cell_type": "code",
   "execution_count": 23,
   "metadata": {
    "id": "q_WIjbif1zTX"
   },
   "outputs": [],
   "source": [
    "test_beneficiary_df['Age'].fillna(round(((pd.to_datetime('2019-12-01', format='%Y-%m-%d') - test_beneficiary_df['DOB']).dt.days)/365), inplace=True)\n"
   ]
  },
  {
   "cell_type": "code",
   "execution_count": 24,
   "metadata": {
    "colab": {
     "base_uri": "https://localhost:8080/"
    },
    "executionInfo": {
     "elapsed": 18,
     "status": "ok",
     "timestamp": 1675718570476,
     "user": {
      "displayName": "kid coconut",
      "userId": "06618246116934665843"
     },
     "user_tz": 300
    },
    "id": "KG77e0gv15lo",
    "outputId": "9b67d591-f62b-439c-a4f7-210bd76d6d8d"
   },
   "outputs": [
    {
     "data": {
      "text/plain": [
       "0"
      ]
     },
     "execution_count": 24,
     "metadata": {},
     "output_type": "execute_result"
    }
   ],
   "source": [
    "test_beneficiary_df.Age.isna().sum()\n"
   ]
  },
  {
   "cell_type": "markdown",
   "metadata": {
    "id": "Adb_wHlQ1_8u"
   },
   "source": [
    "## Add dead flag column"
   ]
  },
  {
   "cell_type": "code",
   "execution_count": 25,
   "metadata": {
    "colab": {
     "base_uri": "https://localhost:8080/"
    },
    "executionInfo": {
     "elapsed": 17,
     "status": "ok",
     "timestamp": 1675718570477,
     "user": {
      "displayName": "kid coconut",
      "userId": "06618246116934665843"
     },
     "user_tz": 300
    },
    "id": "Gw5gthr-2VL1",
    "outputId": "9707131f-ab91-45a2-ea72-a19cf1821204"
   },
   "outputs": [
    {
     "data": {
      "text/plain": [
       "(138556, 26)"
      ]
     },
     "execution_count": 25,
     "metadata": {},
     "output_type": "execute_result"
    }
   ],
   "source": [
    "train_beneficiary_df.shape"
   ]
  },
  {
   "cell_type": "code",
   "execution_count": 26,
   "metadata": {
    "colab": {
     "base_uri": "https://localhost:8080/"
    },
    "executionInfo": {
     "elapsed": 13,
     "status": "ok",
     "timestamp": 1675718570477,
     "user": {
      "displayName": "kid coconut",
      "userId": "06618246116934665843"
     },
     "user_tz": 300
    },
    "id": "ef0gQ2ll2Z2h",
    "outputId": "f3ea55dd-2edb-4518-b75f-6a30639add31"
   },
   "outputs": [
    {
     "data": {
      "text/plain": [
       "(137135, 1421)"
      ]
     },
     "execution_count": 26,
     "metadata": {},
     "output_type": "execute_result"
    }
   ],
   "source": [
    "train_beneficiary_df['DOD'].isna().sum(), train_beneficiary_df['DOD'].notna().sum()"
   ]
  },
  {
   "cell_type": "code",
   "execution_count": 27,
   "metadata": {
    "id": "r1aHCK1n182y"
   },
   "outputs": [],
   "source": [
    "train_beneficiary_df.loc[train_beneficiary_df['DOD'].isna(), 'DeadOrNot'] = 0 \n",
    "train_beneficiary_df.loc[train_beneficiary_df['DOD'].notna(), 'DeadOrNot'] = 1 "
   ]
  },
  {
   "cell_type": "code",
   "execution_count": 28,
   "metadata": {
    "colab": {
     "base_uri": "https://localhost:8080/"
    },
    "executionInfo": {
     "elapsed": 220,
     "status": "ok",
     "timestamp": 1675718570687,
     "user": {
      "displayName": "kid coconut",
      "userId": "06618246116934665843"
     },
     "user_tz": 300
    },
    "id": "rpKGrvKU2hBg",
    "outputId": "e2951a12-a95f-4213-b297-362766a52473"
   },
   "outputs": [
    {
     "data": {
      "text/plain": [
       "0.0    137135\n",
       "1.0      1421\n",
       "Name: DeadOrNot, dtype: int64"
      ]
     },
     "execution_count": 28,
     "metadata": {},
     "output_type": "execute_result"
    }
   ],
   "source": [
    "train_beneficiary_df['DeadOrNot'].value_counts()"
   ]
  },
  {
   "cell_type": "code",
   "execution_count": 29,
   "metadata": {
    "colab": {
     "base_uri": "https://localhost:8080/"
    },
    "executionInfo": {
     "elapsed": 10,
     "status": "ok",
     "timestamp": 1675718570688,
     "user": {
      "displayName": "kid coconut",
      "userId": "06618246116934665843"
     },
     "user_tz": 300
    },
    "id": "iUeqP5qi2jDW",
    "outputId": "8bcd4910-953f-433a-e1d1-c3830018540b"
   },
   "outputs": [
    {
     "data": {
      "text/plain": [
       "(63968, 26)"
      ]
     },
     "execution_count": 29,
     "metadata": {},
     "output_type": "execute_result"
    }
   ],
   "source": [
    "test_beneficiary_df.shape"
   ]
  },
  {
   "cell_type": "code",
   "execution_count": 30,
   "metadata": {
    "colab": {
     "base_uri": "https://localhost:8080/"
    },
    "executionInfo": {
     "elapsed": 8,
     "status": "ok",
     "timestamp": 1675718570688,
     "user": {
      "displayName": "kid coconut",
      "userId": "06618246116934665843"
     },
     "user_tz": 300
    },
    "id": "itKqSJzP2lqc",
    "outputId": "3d5487a5-511d-4097-ca92-8fc616071a16"
   },
   "outputs": [
    {
     "data": {
      "text/plain": [
       "(63394, 574)"
      ]
     },
     "execution_count": 30,
     "metadata": {},
     "output_type": "execute_result"
    }
   ],
   "source": [
    "test_beneficiary_df['DOD'].isna().sum(), test_beneficiary_df['DOD'].notna().sum()\n"
   ]
  },
  {
   "cell_type": "code",
   "execution_count": 31,
   "metadata": {
    "id": "mj_ecHe02ofz"
   },
   "outputs": [],
   "source": [
    "test_beneficiary_df.loc[test_beneficiary_df['DOD'].isna(), 'DeadOrNot'] = 0 \n",
    "test_beneficiary_df.loc[test_beneficiary_df['DOD'].notna(), 'DeadOrNot'] = 1 "
   ]
  },
  {
   "cell_type": "code",
   "execution_count": 32,
   "metadata": {
    "colab": {
     "base_uri": "https://localhost:8080/"
    },
    "executionInfo": {
     "elapsed": 7,
     "status": "ok",
     "timestamp": 1675718570689,
     "user": {
      "displayName": "kid coconut",
      "userId": "06618246116934665843"
     },
     "user_tz": 300
    },
    "id": "HmoBBY312ux-",
    "outputId": "6ac2a85e-4b8d-4971-f9e4-946e35233736"
   },
   "outputs": [
    {
     "data": {
      "text/plain": [
       "0.0    63394\n",
       "1.0      574\n",
       "Name: DeadOrNot, dtype: int64"
      ]
     },
     "execution_count": 32,
     "metadata": {},
     "output_type": "execute_result"
    }
   ],
   "source": [
    "test_beneficiary_df['DeadOrNot'].value_counts()"
   ]
  },
  {
   "cell_type": "markdown",
   "metadata": {
    "id": "kuG1F9Zc299m"
   },
   "source": [
    "# Data Engineering for in-patient dataset"
   ]
  },
  {
   "cell_type": "markdown",
   "metadata": {
    "id": "ompT3vdq5AHX"
   },
   "source": [
    "**Calculating Admitted Days**\n",
    "\n",
    "Creating a new feature 'AdmittedDays' based on AdmissionDt and DischargeDt"
   ]
  },
  {
   "cell_type": "code",
   "execution_count": 33,
   "metadata": {
    "id": "-Da3cxEw2y7d"
   },
   "outputs": [],
   "source": [
    "train_inpatient_df['AdmissionDt'] = pd.to_datetime(train_inpatient_df['AdmissionDt'], format='%Y-%m-%d')\n",
    "train_inpatient_df['DischargeDt'] = pd.to_datetime(train_inpatient_df['DischargeDt'], format='%Y-%m-%d')\n",
    "train_inpatient_df['AdmittedDays'] = round((train_inpatient_df['DischargeDt'] - train_inpatient_df['AdmissionDt']).dt.days + 1) \n",
    "                                           \n",
    "test_inpatient_df['AdmissionDt'] = pd.to_datetime(test_inpatient_df['AdmissionDt'], format='%Y-%m-%d')\n",
    "test_inpatient_df['DischargeDt'] = pd.to_datetime(test_inpatient_df['DischargeDt'], format='%Y-%m-%d')\n",
    "test_inpatient_df['AdmittedDays'] = round((test_inpatient_df['DischargeDt'] - test_inpatient_df['AdmissionDt']).dt.days + 1)"
   ]
  },
  {
   "cell_type": "code",
   "execution_count": 34,
   "metadata": {
    "colab": {
     "base_uri": "https://localhost:8080/"
    },
    "executionInfo": {
     "elapsed": 18,
     "status": "ok",
     "timestamp": 1675718601893,
     "user": {
      "displayName": "kid coconut",
      "userId": "06618246116934665843"
     },
     "user_tz": 300
    },
    "id": "Uryplkq65dRL",
    "outputId": "a8f0fea6-616d-4662-ee5a-2edf53f0be78"
   },
   "outputs": [
    {
     "data": {
      "text/plain": [
       "0"
      ]
     },
     "execution_count": 34,
     "metadata": {},
     "output_type": "execute_result"
    }
   ],
   "source": [
    "train_inpatient_df['AdmittedDays'].isna().sum()"
   ]
  },
  {
   "cell_type": "code",
   "execution_count": 35,
   "metadata": {
    "colab": {
     "base_uri": "https://localhost:8080/"
    },
    "executionInfo": {
     "elapsed": 15,
     "status": "ok",
     "timestamp": 1675718601895,
     "user": {
      "displayName": "kid coconut",
      "userId": "06618246116934665843"
     },
     "user_tz": 300
    },
    "id": "eiHytc6Z5keN",
    "outputId": "9a6afb23-cfb0-4cab-aa70-bf15509bd7cb"
   },
   "outputs": [
    {
     "data": {
      "text/plain": [
       "0"
      ]
     },
     "execution_count": 35,
     "metadata": {},
     "output_type": "execute_result"
    }
   ],
   "source": [
    "test_inpatient_df['AdmittedDays'].isna().sum()"
   ]
  },
  {
   "cell_type": "markdown",
   "metadata": {
    "id": "8nT0eeKC5sJC"
   },
   "source": [
    "# Merging Inpatient and Outpatient dataset"
   ]
  },
  {
   "cell_type": "code",
   "execution_count": 36,
   "metadata": {
    "colab": {
     "base_uri": "https://localhost:8080/"
    },
    "executionInfo": {
     "elapsed": 15,
     "status": "ok",
     "timestamp": 1675718671241,
     "user": {
      "displayName": "kid coconut",
      "userId": "06618246116934665843"
     },
     "user_tz": 300
    },
    "id": "Y6h1yFk85mLF",
    "outputId": "61d7caa9-366f-416d-b58f-cd7e86732c04"
   },
   "outputs": [
    {
     "data": {
      "text/plain": [
       "['BeneID',\n",
       " 'ClaimID',\n",
       " 'ClaimStartDt',\n",
       " 'ClaimEndDt',\n",
       " 'Provider',\n",
       " 'InscClaimAmtReimbursed',\n",
       " 'AttendingPhysician',\n",
       " 'OperatingPhysician',\n",
       " 'OtherPhysician',\n",
       " 'ClmDiagnosisCode_1',\n",
       " 'ClmDiagnosisCode_2',\n",
       " 'ClmDiagnosisCode_3',\n",
       " 'ClmDiagnosisCode_4',\n",
       " 'ClmDiagnosisCode_5',\n",
       " 'ClmDiagnosisCode_6',\n",
       " 'ClmDiagnosisCode_7',\n",
       " 'ClmDiagnosisCode_8',\n",
       " 'ClmDiagnosisCode_9',\n",
       " 'ClmDiagnosisCode_10',\n",
       " 'ClmProcedureCode_1',\n",
       " 'ClmProcedureCode_2',\n",
       " 'ClmProcedureCode_3',\n",
       " 'ClmProcedureCode_4',\n",
       " 'ClmProcedureCode_5',\n",
       " 'ClmProcedureCode_6',\n",
       " 'DeductibleAmtPaid',\n",
       " 'ClmAdmitDiagnosisCode']"
      ]
     },
     "execution_count": 36,
     "metadata": {},
     "output_type": "execute_result"
    }
   ],
   "source": [
    "key_columns_to_merge = list(train_outpatient_df.columns)\n",
    "key_columns_to_merge"
   ]
  },
  {
   "cell_type": "code",
   "execution_count": 37,
   "metadata": {
    "colab": {
     "base_uri": "https://localhost:8080/"
    },
    "executionInfo": {
     "elapsed": 2838,
     "status": "ok",
     "timestamp": 1675718674244,
     "user": {
      "displayName": "kid coconut",
      "userId": "06618246116934665843"
     },
     "user_tz": 300
    },
    "id": "aoVwnxwr57wz",
    "outputId": "c6d3a1c0-5ff4-44b9-cf22-b012a5c3f3c0"
   },
   "outputs": [
    {
     "data": {
      "text/plain": [
       "(558211, 31)"
      ]
     },
     "execution_count": 37,
     "metadata": {},
     "output_type": "execute_result"
    }
   ],
   "source": [
    "train_merged_patient_data = train_inpatient_df.merge(train_outpatient_df, on=key_columns_to_merge, how='outer')\n",
    "train_merged_patient_data.shape"
   ]
  },
  {
   "cell_type": "code",
   "execution_count": 38,
   "metadata": {
    "colab": {
     "base_uri": "https://localhost:8080/"
    },
    "executionInfo": {
     "elapsed": 14,
     "status": "ok",
     "timestamp": 1675718674244,
     "user": {
      "displayName": "kid coconut",
      "userId": "06618246116934665843"
     },
     "user_tz": 300
    },
    "id": "ktYtadI36BGL",
    "outputId": "4160d0ee-6d24-45c7-e008-a9f6fb922ac0"
   },
   "outputs": [
    {
     "data": {
      "text/plain": [
       "['BeneID',\n",
       " 'ClaimID',\n",
       " 'ClaimStartDt',\n",
       " 'ClaimEndDt',\n",
       " 'Provider',\n",
       " 'InscClaimAmtReimbursed',\n",
       " 'AttendingPhysician',\n",
       " 'OperatingPhysician',\n",
       " 'OtherPhysician',\n",
       " 'ClmDiagnosisCode_1',\n",
       " 'ClmDiagnosisCode_2',\n",
       " 'ClmDiagnosisCode_3',\n",
       " 'ClmDiagnosisCode_4',\n",
       " 'ClmDiagnosisCode_5',\n",
       " 'ClmDiagnosisCode_6',\n",
       " 'ClmDiagnosisCode_7',\n",
       " 'ClmDiagnosisCode_8',\n",
       " 'ClmDiagnosisCode_9',\n",
       " 'ClmDiagnosisCode_10',\n",
       " 'ClmProcedureCode_1',\n",
       " 'ClmProcedureCode_2',\n",
       " 'ClmProcedureCode_3',\n",
       " 'ClmProcedureCode_4',\n",
       " 'ClmProcedureCode_5',\n",
       " 'ClmProcedureCode_6',\n",
       " 'DeductibleAmtPaid',\n",
       " 'ClmAdmitDiagnosisCode']"
      ]
     },
     "execution_count": 38,
     "metadata": {},
     "output_type": "execute_result"
    }
   ],
   "source": [
    "key_columns_to_merge_test = list(test_outpatient_df.columns)\n",
    "key_columns_to_merge_test"
   ]
  },
  {
   "cell_type": "code",
   "execution_count": 39,
   "metadata": {
    "colab": {
     "base_uri": "https://localhost:8080/"
    },
    "executionInfo": {
     "elapsed": 614,
     "status": "ok",
     "timestamp": 1675718674849,
     "user": {
      "displayName": "kid coconut",
      "userId": "06618246116934665843"
     },
     "user_tz": 300
    },
    "id": "KevcSS2j6KIt",
    "outputId": "7676f8c9-df97-4d8f-e19f-c15eac8d623b"
   },
   "outputs": [
    {
     "data": {
      "text/plain": [
       "(135392, 31)"
      ]
     },
     "execution_count": 39,
     "metadata": {},
     "output_type": "execute_result"
    }
   ],
   "source": [
    "test_merged_patient_data = test_inpatient_df.merge(test_outpatient_df, on=key_columns_to_merge_test, how='outer')\n",
    "test_merged_patient_data.shape"
   ]
  },
  {
   "cell_type": "markdown",
   "metadata": {
    "id": "1JNH-YWp6fru"
   },
   "source": [
    "# Merging Beneficiary with All-patient data"
   ]
  },
  {
   "cell_type": "code",
   "execution_count": 40,
   "metadata": {
    "colab": {
     "base_uri": "https://localhost:8080/"
    },
    "executionInfo": {
     "elapsed": 855,
     "status": "ok",
     "timestamp": 1675718679335,
     "user": {
      "displayName": "kid coconut",
      "userId": "06618246116934665843"
     },
     "user_tz": 300
    },
    "id": "SVW5kY-66WG6",
    "outputId": "71d24241-edf1-4453-d12f-f6299efcdbc5"
   },
   "outputs": [
    {
     "data": {
      "text/plain": [
       "(558211, 57)"
      ]
     },
     "execution_count": 40,
     "metadata": {},
     "output_type": "execute_result"
    }
   ],
   "source": [
    "trainAllPatientDetailsData = train_merged_patient_data.merge(train_beneficiary_df, on='BeneID', how='inner')\n",
    "trainAllPatientDetailsData.shape"
   ]
  },
  {
   "cell_type": "code",
   "execution_count": 41,
   "metadata": {
    "colab": {
     "base_uri": "https://localhost:8080/"
    },
    "executionInfo": {
     "elapsed": 181,
     "status": "ok",
     "timestamp": 1675718679505,
     "user": {
      "displayName": "kid coconut",
      "userId": "06618246116934665843"
     },
     "user_tz": 300
    },
    "id": "jQD5SlSx6uMm",
    "outputId": "e0310652-641f-4bbe-81d8-d2203daa4e50"
   },
   "outputs": [
    {
     "data": {
      "text/plain": [
       "(135392, 57)"
      ]
     },
     "execution_count": 41,
     "metadata": {},
     "output_type": "execute_result"
    }
   ],
   "source": [
    "testAllPatientDetailsData = test_merged_patient_data.merge(test_beneficiary_df, on='BeneID', how='inner')\n",
    "testAllPatientDetailsData.shape"
   ]
  },
  {
   "cell_type": "markdown",
   "metadata": {
    "id": "7As_Ff3m673K"
   },
   "source": [
    "# Merging all-patients data with provider data with fraud label"
   ]
  },
  {
   "cell_type": "code",
   "execution_count": 42,
   "metadata": {
    "colab": {
     "base_uri": "https://localhost:8080/"
    },
    "executionInfo": {
     "elapsed": 1010,
     "status": "ok",
     "timestamp": 1675718684286,
     "user": {
      "displayName": "kid coconut",
      "userId": "06618246116934665843"
     },
     "user_tz": 300
    },
    "id": "hYCtce9H643C",
    "outputId": "94b975dd-e082-42d7-daae-6bf6d2081ace"
   },
   "outputs": [
    {
     "data": {
      "text/plain": [
       "(558211, 58)"
      ]
     },
     "execution_count": 42,
     "metadata": {},
     "output_type": "execute_result"
    }
   ],
   "source": [
    "trainAllPatientDetailsProvider = trainAllPatientDetailsData.merge(train_df, on='Provider', how='inner')\n",
    "trainAllPatientDetailsProvider.shape"
   ]
  },
  {
   "cell_type": "code",
   "execution_count": 43,
   "metadata": {
    "colab": {
     "base_uri": "https://localhost:8080/"
    },
    "executionInfo": {
     "elapsed": 8,
     "status": "ok",
     "timestamp": 1675718684287,
     "user": {
      "displayName": "kid coconut",
      "userId": "06618246116934665843"
     },
     "user_tz": 300
    },
    "id": "4S-99DU67HMl",
    "outputId": "9f5e9ff8-1ea2-4227-d90f-78cf32529a79"
   },
   "outputs": [
    {
     "data": {
      "text/plain": [
       "(135392, 57)"
      ]
     },
     "execution_count": 43,
     "metadata": {},
     "output_type": "execute_result"
    }
   ],
   "source": [
    "testAllPatientDetailsProvider = testAllPatientDetailsData.merge(test_df, on='Provider', how='inner')\n",
    "testAllPatientDetailsProvider.shape"
   ]
  },
  {
   "cell_type": "code",
   "execution_count": 44,
   "metadata": {
    "id": "7x-wikO77T3x"
   },
   "outputs": [],
   "source": [
    "test_columns = list(testAllPatientDetailsProvider.columns)"
   ]
  },
  {
   "cell_type": "code",
   "execution_count": 45,
   "metadata": {},
   "outputs": [],
   "source": [
    "test_columns = list(testAllPatientDetailsProvider.columns)"
   ]
  },
  {
   "cell_type": "code",
   "execution_count": 46,
   "metadata": {},
   "outputs": [],
   "source": [
    "train_columns = trainAllPatientDetailsProvider.columns"
   ]
  },
  {
   "cell_type": "code",
   "execution_count": 47,
   "metadata": {
    "id": "sJKmpLjt7bB7"
   },
   "outputs": [],
   "source": [
    "train_columns = trainAllPatientDetailsProvider.columns"
   ]
  },
  {
   "cell_type": "code",
   "execution_count": 48,
   "metadata": {
    "colab": {
     "base_uri": "https://localhost:8080/"
    },
    "executionInfo": {
     "elapsed": 165,
     "status": "ok",
     "timestamp": 1675718684447,
     "user": {
      "displayName": "kid coconut",
      "userId": "06618246116934665843"
     },
     "user_tz": 300
    },
    "id": "kZbfcFdb7fBW",
    "outputId": "3800567b-dfce-48f9-af23-d77e4ffd4eaa"
   },
   "outputs": [
    {
     "data": {
      "text/plain": [
       "['PotentialFraud']"
      ]
     },
     "execution_count": 48,
     "metadata": {},
     "output_type": "execute_result"
    }
   ],
   "source": [
    "[test for test in train_columns if test not in test_columns]"
   ]
  },
  {
   "cell_type": "code",
   "execution_count": 49,
   "metadata": {
    "colab": {
     "base_uri": "https://localhost:8080/"
    },
    "executionInfo": {
     "elapsed": 10,
     "status": "ok",
     "timestamp": 1675718684448,
     "user": {
      "displayName": "kid coconut",
      "userId": "06618246116934665843"
     },
     "user_tz": 300
    },
    "id": "xM2L1BWG8ykK",
    "outputId": "451132a8-da6f-4d4c-8ef5-6d7054dbb963"
   },
   "outputs": [
    {
     "data": {
      "text/html": [
       "<div>\n",
       "<style scoped>\n",
       "    .dataframe tbody tr th:only-of-type {\n",
       "        vertical-align: middle;\n",
       "    }\n",
       "\n",
       "    .dataframe tbody tr th {\n",
       "        vertical-align: top;\n",
       "    }\n",
       "\n",
       "    .dataframe thead th {\n",
       "        text-align: right;\n",
       "    }\n",
       "</style>\n",
       "<table border=\"1\" class=\"dataframe\">\n",
       "  <thead>\n",
       "    <tr style=\"text-align: right;\">\n",
       "      <th></th>\n",
       "      <th>Provider</th>\n",
       "    </tr>\n",
       "  </thead>\n",
       "  <tbody>\n",
       "    <tr>\n",
       "      <th>0</th>\n",
       "      <td>PRV51002</td>\n",
       "    </tr>\n",
       "    <tr>\n",
       "      <th>1</th>\n",
       "      <td>PRV51006</td>\n",
       "    </tr>\n",
       "    <tr>\n",
       "      <th>2</th>\n",
       "      <td>PRV51009</td>\n",
       "    </tr>\n",
       "    <tr>\n",
       "      <th>3</th>\n",
       "      <td>PRV51010</td>\n",
       "    </tr>\n",
       "    <tr>\n",
       "      <th>4</th>\n",
       "      <td>PRV51018</td>\n",
       "    </tr>\n",
       "  </tbody>\n",
       "</table>\n",
       "</div>"
      ],
      "text/plain": [
       "   Provider\n",
       "0  PRV51002\n",
       "1  PRV51006\n",
       "2  PRV51009\n",
       "3  PRV51010\n",
       "4  PRV51018"
      ]
     },
     "execution_count": 49,
     "metadata": {},
     "output_type": "execute_result"
    }
   ],
   "source": [
    "test_df.head()"
   ]
  },
  {
   "cell_type": "markdown",
   "metadata": {
    "id": "RmjNzKEg9Krk"
   },
   "source": [
    "# Missing value information in final dataset"
   ]
  },
  {
   "cell_type": "code",
   "execution_count": 50,
   "metadata": {
    "colab": {
     "base_uri": "https://localhost:8080/"
    },
    "executionInfo": {
     "elapsed": 824,
     "status": "ok",
     "timestamp": 1675718687865,
     "user": {
      "displayName": "kid coconut",
      "userId": "06618246116934665843"
     },
     "user_tz": 300
    },
    "id": "2dyyjR3M86xs",
    "outputId": "3478b95e-eb5d-4825-b5b0-6c116be8a818"
   },
   "outputs": [
    {
     "data": {
      "text/plain": [
       "BeneID                               0.000000\n",
       "ClaimID                              0.000000\n",
       "ClaimStartDt                         0.000000\n",
       "ClaimEndDt                           0.000000\n",
       "Provider                             0.000000\n",
       "InscClaimAmtReimbursed               0.000000\n",
       "AttendingPhysician                   0.270149\n",
       "OperatingPhysician                  79.497538\n",
       "OtherPhysician                      64.218548\n",
       "AdmissionDt                         92.749337\n",
       "ClmAdmitDiagnosisCode               73.863109\n",
       "DeductibleAmtPaid                    0.161050\n",
       "DischargeDt                         92.749337\n",
       "DiagnosisGroupCode                  92.749337\n",
       "ClmDiagnosisCode_1                   1.872589\n",
       "ClmDiagnosisCode_2                  35.041588\n",
       "ClmDiagnosisCode_3                  56.458221\n",
       "ClmDiagnosisCode_4                  70.524407\n",
       "ClmDiagnosisCode_5                  79.949517\n",
       "ClmDiagnosisCode_6                  84.881702\n",
       "ClmDiagnosisCode_7                  88.144805\n",
       "ClmDiagnosisCode_8                  90.425843\n",
       "ClmDiagnosisCode_9                  92.509105\n",
       "ClmDiagnosisCode_10                 99.102490\n",
       "ClmProcedureCode_1                  95.824160\n",
       "ClmProcedureCode_2                  99.016501\n",
       "ClmProcedureCode_3                  99.826410\n",
       "ClmProcedureCode_4                  99.978861\n",
       "ClmProcedureCode_5                  99.998388\n",
       "ClmProcedureCode_6                 100.000000\n",
       "AdmittedDays                        92.749337\n",
       "DOB                                  0.000000\n",
       "DOD                                 99.259957\n",
       "Gender                               0.000000\n",
       "Race                                 0.000000\n",
       "RenalDiseaseIndicator                0.000000\n",
       "State                                0.000000\n",
       "County                               0.000000\n",
       "NoOfMonths_PartACov                  0.000000\n",
       "NoOfMonths_PartBCov                  0.000000\n",
       "ChronicCond_Alzheimer                0.000000\n",
       "ChronicCond_Heartfailure             0.000000\n",
       "ChronicCond_KidneyDisease            0.000000\n",
       "ChronicCond_Cancer                   0.000000\n",
       "ChronicCond_ObstrPulmonary           0.000000\n",
       "ChronicCond_Depression               0.000000\n",
       "ChronicCond_Diabetes                 0.000000\n",
       "ChronicCond_IschemicHeart            0.000000\n",
       "ChronicCond_Osteoporasis             0.000000\n",
       "ChronicCond_rheumatoidarthritis      0.000000\n",
       "ChronicCond_stroke                   0.000000\n",
       "IPAnnualReimbursementAmt             0.000000\n",
       "IPAnnualDeductibleAmt                0.000000\n",
       "OPAnnualReimbursementAmt             0.000000\n",
       "OPAnnualDeductibleAmt                0.000000\n",
       "Age                                  0.000000\n",
       "DeadOrNot                            0.000000\n",
       "PotentialFraud                       0.000000\n",
       "dtype: float64"
      ]
     },
     "execution_count": 50,
     "metadata": {},
     "output_type": "execute_result"
    }
   ],
   "source": [
    "trainAllPatientDetailsProvider.isna().sum()*100/len(trainAllPatientDetailsProvider)"
   ]
  },
  {
   "cell_type": "code",
   "execution_count": 51,
   "metadata": {
    "colab": {
     "base_uri": "https://localhost:8080/"
    },
    "executionInfo": {
     "elapsed": 19,
     "status": "ok",
     "timestamp": 1675718687866,
     "user": {
      "displayName": "kid coconut",
      "userId": "06618246116934665843"
     },
     "user_tz": 300
    },
    "id": "VptE4idA9P65",
    "outputId": "bb5531c3-7aa3-4198-dc8e-e367b9157c2d"
   },
   "outputs": [
    {
     "data": {
      "text/plain": [
       "BeneID                               0.000000\n",
       "ClaimID                              0.000000\n",
       "ClaimStartDt                         0.000000\n",
       "ClaimEndDt                           0.000000\n",
       "Provider                             0.000000\n",
       "InscClaimAmtReimbursed               0.000000\n",
       "AttendingPhysician                   0.256293\n",
       "OperatingPhysician                  79.915357\n",
       "OtherPhysician                      64.080596\n",
       "AdmissionDt                         92.945669\n",
       "ClmAdmitDiagnosisCode               73.886197\n",
       "DeductibleAmtPaid                    0.144765\n",
       "DischargeDt                         92.945669\n",
       "DiagnosisGroupCode                  92.945669\n",
       "ClmDiagnosisCode_1                   1.904101\n",
       "ClmDiagnosisCode_2                  35.293814\n",
       "ClmDiagnosisCode_3                  56.682817\n",
       "ClmDiagnosisCode_4                  70.739039\n",
       "ClmDiagnosisCode_5                  80.207102\n",
       "ClmDiagnosisCode_6                  85.109903\n",
       "ClmDiagnosisCode_7                  88.341261\n",
       "ClmDiagnosisCode_8                  90.603581\n",
       "ClmDiagnosisCode_9                  92.705625\n",
       "ClmDiagnosisCode_10                 99.150615\n",
       "ClmProcedureCode_1                  95.962095\n",
       "ClmProcedureCode_2                  99.067153\n",
       "ClmProcedureCode_3                  99.833816\n",
       "ClmProcedureCode_4                  99.978581\n",
       "ClmProcedureCode_5                  99.998523\n",
       "ClmProcedureCode_6                 100.000000\n",
       "AdmittedDays                        92.945669\n",
       "DOB                                  0.000000\n",
       "DOD                                 99.231860\n",
       "Gender                               0.000000\n",
       "Race                                 0.000000\n",
       "RenalDiseaseIndicator                0.000000\n",
       "State                                0.000000\n",
       "County                               0.000000\n",
       "NoOfMonths_PartACov                  0.000000\n",
       "NoOfMonths_PartBCov                  0.000000\n",
       "ChronicCond_Alzheimer                0.000000\n",
       "ChronicCond_Heartfailure             0.000000\n",
       "ChronicCond_KidneyDisease            0.000000\n",
       "ChronicCond_Cancer                   0.000000\n",
       "ChronicCond_ObstrPulmonary           0.000000\n",
       "ChronicCond_Depression               0.000000\n",
       "ChronicCond_Diabetes                 0.000000\n",
       "ChronicCond_IschemicHeart            0.000000\n",
       "ChronicCond_Osteoporasis             0.000000\n",
       "ChronicCond_rheumatoidarthritis      0.000000\n",
       "ChronicCond_stroke                   0.000000\n",
       "IPAnnualReimbursementAmt             0.000000\n",
       "IPAnnualDeductibleAmt                0.000000\n",
       "OPAnnualReimbursementAmt             0.000000\n",
       "OPAnnualDeductibleAmt                0.000000\n",
       "Age                                  0.000000\n",
       "DeadOrNot                            0.000000\n",
       "dtype: float64"
      ]
     },
     "execution_count": 51,
     "metadata": {},
     "output_type": "execute_result"
    }
   ],
   "source": [
    "testAllPatientDetailsProvider.isna().sum()*100/len(testAllPatientDetailsProvider)"
   ]
  },
  {
   "cell_type": "markdown",
   "metadata": {
    "id": "pHetZKjX-22k"
   },
   "source": [
    "# Feature Engineering"
   ]
  },
  {
   "cell_type": "code",
   "execution_count": 52,
   "metadata": {
    "colab": {
     "base_uri": "https://localhost:8080/",
     "height": 357
    },
    "executionInfo": {
     "elapsed": 194,
     "status": "ok",
     "timestamp": 1675718692894,
     "user": {
      "displayName": "kid coconut",
      "userId": "06618246116934665843"
     },
     "user_tz": 300
    },
    "id": "hxsa3YSpAWdz",
    "outputId": "89dfae6d-db5f-4bf1-b8e9-d48cd160bf5c"
   },
   "outputs": [
    {
     "data": {
      "text/html": [
       "<div>\n",
       "<style scoped>\n",
       "    .dataframe tbody tr th:only-of-type {\n",
       "        vertical-align: middle;\n",
       "    }\n",
       "\n",
       "    .dataframe tbody tr th {\n",
       "        vertical-align: top;\n",
       "    }\n",
       "\n",
       "    .dataframe thead th {\n",
       "        text-align: right;\n",
       "    }\n",
       "</style>\n",
       "<table border=\"1\" class=\"dataframe\">\n",
       "  <thead>\n",
       "    <tr style=\"text-align: right;\">\n",
       "      <th></th>\n",
       "      <th>BeneID</th>\n",
       "      <th>ClaimID</th>\n",
       "      <th>ClaimStartDt</th>\n",
       "      <th>ClaimEndDt</th>\n",
       "      <th>Provider</th>\n",
       "      <th>InscClaimAmtReimbursed</th>\n",
       "      <th>AttendingPhysician</th>\n",
       "      <th>OperatingPhysician</th>\n",
       "      <th>OtherPhysician</th>\n",
       "      <th>AdmissionDt</th>\n",
       "      <th>ClmAdmitDiagnosisCode</th>\n",
       "      <th>DeductibleAmtPaid</th>\n",
       "      <th>DischargeDt</th>\n",
       "      <th>DiagnosisGroupCode</th>\n",
       "      <th>ClmDiagnosisCode_1</th>\n",
       "      <th>ClmDiagnosisCode_2</th>\n",
       "      <th>ClmDiagnosisCode_3</th>\n",
       "      <th>ClmDiagnosisCode_4</th>\n",
       "      <th>ClmDiagnosisCode_5</th>\n",
       "      <th>ClmDiagnosisCode_6</th>\n",
       "      <th>ClmDiagnosisCode_7</th>\n",
       "      <th>ClmDiagnosisCode_8</th>\n",
       "      <th>ClmDiagnosisCode_9</th>\n",
       "      <th>ClmDiagnosisCode_10</th>\n",
       "      <th>ClmProcedureCode_1</th>\n",
       "      <th>ClmProcedureCode_2</th>\n",
       "      <th>ClmProcedureCode_3</th>\n",
       "      <th>ClmProcedureCode_4</th>\n",
       "      <th>ClmProcedureCode_5</th>\n",
       "      <th>ClmProcedureCode_6</th>\n",
       "      <th>AdmittedDays</th>\n",
       "      <th>DOB</th>\n",
       "      <th>DOD</th>\n",
       "      <th>Gender</th>\n",
       "      <th>Race</th>\n",
       "      <th>RenalDiseaseIndicator</th>\n",
       "      <th>State</th>\n",
       "      <th>County</th>\n",
       "      <th>NoOfMonths_PartACov</th>\n",
       "      <th>NoOfMonths_PartBCov</th>\n",
       "      <th>ChronicCond_Alzheimer</th>\n",
       "      <th>ChronicCond_Heartfailure</th>\n",
       "      <th>ChronicCond_KidneyDisease</th>\n",
       "      <th>ChronicCond_Cancer</th>\n",
       "      <th>ChronicCond_ObstrPulmonary</th>\n",
       "      <th>ChronicCond_Depression</th>\n",
       "      <th>ChronicCond_Diabetes</th>\n",
       "      <th>ChronicCond_IschemicHeart</th>\n",
       "      <th>ChronicCond_Osteoporasis</th>\n",
       "      <th>ChronicCond_rheumatoidarthritis</th>\n",
       "      <th>ChronicCond_stroke</th>\n",
       "      <th>IPAnnualReimbursementAmt</th>\n",
       "      <th>IPAnnualDeductibleAmt</th>\n",
       "      <th>OPAnnualReimbursementAmt</th>\n",
       "      <th>OPAnnualDeductibleAmt</th>\n",
       "      <th>Age</th>\n",
       "      <th>DeadOrNot</th>\n",
       "      <th>PotentialFraud</th>\n",
       "    </tr>\n",
       "  </thead>\n",
       "  <tbody>\n",
       "    <tr>\n",
       "      <th>0</th>\n",
       "      <td>BENE11001</td>\n",
       "      <td>CLM46614</td>\n",
       "      <td>2009-04-12</td>\n",
       "      <td>2009-04-18</td>\n",
       "      <td>PRV55912</td>\n",
       "      <td>26000</td>\n",
       "      <td>PHY390922</td>\n",
       "      <td>NaN</td>\n",
       "      <td>NaN</td>\n",
       "      <td>2009-04-12</td>\n",
       "      <td>7866</td>\n",
       "      <td>1068.0</td>\n",
       "      <td>2009-04-18</td>\n",
       "      <td>201</td>\n",
       "      <td>1970</td>\n",
       "      <td>4019</td>\n",
       "      <td>5853</td>\n",
       "      <td>7843</td>\n",
       "      <td>2768</td>\n",
       "      <td>71590</td>\n",
       "      <td>2724</td>\n",
       "      <td>19889</td>\n",
       "      <td>5849</td>\n",
       "      <td>NaN</td>\n",
       "      <td>NaN</td>\n",
       "      <td>NaN</td>\n",
       "      <td>NaN</td>\n",
       "      <td>NaN</td>\n",
       "      <td>NaN</td>\n",
       "      <td>NaN</td>\n",
       "      <td>7.0</td>\n",
       "      <td>1943-01-01</td>\n",
       "      <td>NaT</td>\n",
       "      <td>1</td>\n",
       "      <td>1</td>\n",
       "      <td>0</td>\n",
       "      <td>39</td>\n",
       "      <td>230</td>\n",
       "      <td>12</td>\n",
       "      <td>12</td>\n",
       "      <td>1</td>\n",
       "      <td>0</td>\n",
       "      <td>1</td>\n",
       "      <td>0</td>\n",
       "      <td>0</td>\n",
       "      <td>1</td>\n",
       "      <td>1</td>\n",
       "      <td>1</td>\n",
       "      <td>0</td>\n",
       "      <td>1</td>\n",
       "      <td>1</td>\n",
       "      <td>36000</td>\n",
       "      <td>3204</td>\n",
       "      <td>60</td>\n",
       "      <td>70</td>\n",
       "      <td>77.0</td>\n",
       "      <td>0.0</td>\n",
       "      <td>Yes</td>\n",
       "    </tr>\n",
       "    <tr>\n",
       "      <th>1</th>\n",
       "      <td>BENE16973</td>\n",
       "      <td>CLM565430</td>\n",
       "      <td>2009-09-06</td>\n",
       "      <td>2009-09-06</td>\n",
       "      <td>PRV55912</td>\n",
       "      <td>50</td>\n",
       "      <td>PHY365867</td>\n",
       "      <td>PHY327147</td>\n",
       "      <td>NaN</td>\n",
       "      <td>NaT</td>\n",
       "      <td>NaN</td>\n",
       "      <td>0.0</td>\n",
       "      <td>NaT</td>\n",
       "      <td>NaN</td>\n",
       "      <td>V7183</td>\n",
       "      <td>53081</td>\n",
       "      <td>78959</td>\n",
       "      <td>4280</td>\n",
       "      <td>E8788</td>\n",
       "      <td>78079</td>\n",
       "      <td>79902</td>\n",
       "      <td>25002</td>\n",
       "      <td>71848</td>\n",
       "      <td>NaN</td>\n",
       "      <td>NaN</td>\n",
       "      <td>NaN</td>\n",
       "      <td>NaN</td>\n",
       "      <td>NaN</td>\n",
       "      <td>NaN</td>\n",
       "      <td>NaN</td>\n",
       "      <td>NaN</td>\n",
       "      <td>1932-05-01</td>\n",
       "      <td>NaT</td>\n",
       "      <td>1</td>\n",
       "      <td>1</td>\n",
       "      <td>0</td>\n",
       "      <td>39</td>\n",
       "      <td>310</td>\n",
       "      <td>12</td>\n",
       "      <td>12</td>\n",
       "      <td>1</td>\n",
       "      <td>1</td>\n",
       "      <td>1</td>\n",
       "      <td>0</td>\n",
       "      <td>0</td>\n",
       "      <td>0</td>\n",
       "      <td>0</td>\n",
       "      <td>1</td>\n",
       "      <td>0</td>\n",
       "      <td>0</td>\n",
       "      <td>0</td>\n",
       "      <td>24000</td>\n",
       "      <td>2136</td>\n",
       "      <td>450</td>\n",
       "      <td>200</td>\n",
       "      <td>88.0</td>\n",
       "      <td>0.0</td>\n",
       "      <td>Yes</td>\n",
       "    </tr>\n",
       "    <tr>\n",
       "      <th>2</th>\n",
       "      <td>BENE17521</td>\n",
       "      <td>CLM34721</td>\n",
       "      <td>2009-01-20</td>\n",
       "      <td>2009-02-01</td>\n",
       "      <td>PRV55912</td>\n",
       "      <td>19000</td>\n",
       "      <td>PHY349293</td>\n",
       "      <td>PHY370861</td>\n",
       "      <td>PHY363291</td>\n",
       "      <td>2009-01-20</td>\n",
       "      <td>45340</td>\n",
       "      <td>1068.0</td>\n",
       "      <td>2009-02-01</td>\n",
       "      <td>987</td>\n",
       "      <td>4240</td>\n",
       "      <td>2639</td>\n",
       "      <td>2948</td>\n",
       "      <td>40390</td>\n",
       "      <td>45821</td>\n",
       "      <td>28489</td>\n",
       "      <td>5854</td>\n",
       "      <td>2753</td>\n",
       "      <td>E9305</td>\n",
       "      <td>NaN</td>\n",
       "      <td>7769.0</td>\n",
       "      <td>5849.0</td>\n",
       "      <td>NaN</td>\n",
       "      <td>NaN</td>\n",
       "      <td>NaN</td>\n",
       "      <td>NaN</td>\n",
       "      <td>13.0</td>\n",
       "      <td>1913-12-01</td>\n",
       "      <td>NaT</td>\n",
       "      <td>2</td>\n",
       "      <td>1</td>\n",
       "      <td>0</td>\n",
       "      <td>39</td>\n",
       "      <td>230</td>\n",
       "      <td>12</td>\n",
       "      <td>12</td>\n",
       "      <td>1</td>\n",
       "      <td>1</td>\n",
       "      <td>1</td>\n",
       "      <td>0</td>\n",
       "      <td>1</td>\n",
       "      <td>0</td>\n",
       "      <td>0</td>\n",
       "      <td>1</td>\n",
       "      <td>0</td>\n",
       "      <td>0</td>\n",
       "      <td>0</td>\n",
       "      <td>19000</td>\n",
       "      <td>1068</td>\n",
       "      <td>100</td>\n",
       "      <td>20</td>\n",
       "      <td>106.0</td>\n",
       "      <td>0.0</td>\n",
       "      <td>Yes</td>\n",
       "    </tr>\n",
       "    <tr>\n",
       "      <th>3</th>\n",
       "      <td>BENE21718</td>\n",
       "      <td>CLM72336</td>\n",
       "      <td>2009-10-17</td>\n",
       "      <td>2009-11-04</td>\n",
       "      <td>PRV55912</td>\n",
       "      <td>17000</td>\n",
       "      <td>PHY334706</td>\n",
       "      <td>PHY334706</td>\n",
       "      <td>NaN</td>\n",
       "      <td>2009-10-17</td>\n",
       "      <td>V5789</td>\n",
       "      <td>1068.0</td>\n",
       "      <td>2009-11-04</td>\n",
       "      <td>941</td>\n",
       "      <td>V5789</td>\n",
       "      <td>4168</td>\n",
       "      <td>73313</td>\n",
       "      <td>7812</td>\n",
       "      <td>7993</td>\n",
       "      <td>78830</td>\n",
       "      <td>72273</td>\n",
       "      <td>43812</td>\n",
       "      <td>4019</td>\n",
       "      <td>NaN</td>\n",
       "      <td>9338.0</td>\n",
       "      <td>NaN</td>\n",
       "      <td>NaN</td>\n",
       "      <td>NaN</td>\n",
       "      <td>NaN</td>\n",
       "      <td>NaN</td>\n",
       "      <td>19.0</td>\n",
       "      <td>1922-10-01</td>\n",
       "      <td>NaT</td>\n",
       "      <td>1</td>\n",
       "      <td>1</td>\n",
       "      <td>0</td>\n",
       "      <td>39</td>\n",
       "      <td>600</td>\n",
       "      <td>12</td>\n",
       "      <td>12</td>\n",
       "      <td>0</td>\n",
       "      <td>0</td>\n",
       "      <td>0</td>\n",
       "      <td>0</td>\n",
       "      <td>0</td>\n",
       "      <td>0</td>\n",
       "      <td>0</td>\n",
       "      <td>1</td>\n",
       "      <td>1</td>\n",
       "      <td>0</td>\n",
       "      <td>0</td>\n",
       "      <td>17000</td>\n",
       "      <td>1068</td>\n",
       "      <td>1050</td>\n",
       "      <td>540</td>\n",
       "      <td>97.0</td>\n",
       "      <td>0.0</td>\n",
       "      <td>Yes</td>\n",
       "    </tr>\n",
       "    <tr>\n",
       "      <th>4</th>\n",
       "      <td>BENE22934</td>\n",
       "      <td>CLM73394</td>\n",
       "      <td>2009-10-25</td>\n",
       "      <td>2009-10-29</td>\n",
       "      <td>PRV55912</td>\n",
       "      <td>13000</td>\n",
       "      <td>PHY390614</td>\n",
       "      <td>PHY323689</td>\n",
       "      <td>PHY363291</td>\n",
       "      <td>2009-10-25</td>\n",
       "      <td>71946</td>\n",
       "      <td>1068.0</td>\n",
       "      <td>2009-10-29</td>\n",
       "      <td>506</td>\n",
       "      <td>71535</td>\n",
       "      <td>71960</td>\n",
       "      <td>4019</td>\n",
       "      <td>V1202</td>\n",
       "      <td>4240</td>\n",
       "      <td>2449</td>\n",
       "      <td>2768</td>\n",
       "      <td>NaN</td>\n",
       "      <td>NaN</td>\n",
       "      <td>NaN</td>\n",
       "      <td>8154.0</td>\n",
       "      <td>NaN</td>\n",
       "      <td>NaN</td>\n",
       "      <td>NaN</td>\n",
       "      <td>NaN</td>\n",
       "      <td>NaN</td>\n",
       "      <td>5.0</td>\n",
       "      <td>1930-07-01</td>\n",
       "      <td>NaT</td>\n",
       "      <td>2</td>\n",
       "      <td>1</td>\n",
       "      <td>0</td>\n",
       "      <td>39</td>\n",
       "      <td>280</td>\n",
       "      <td>12</td>\n",
       "      <td>12</td>\n",
       "      <td>0</td>\n",
       "      <td>1</td>\n",
       "      <td>0</td>\n",
       "      <td>0</td>\n",
       "      <td>1</td>\n",
       "      <td>0</td>\n",
       "      <td>1</td>\n",
       "      <td>1</td>\n",
       "      <td>1</td>\n",
       "      <td>1</td>\n",
       "      <td>0</td>\n",
       "      <td>27000</td>\n",
       "      <td>2136</td>\n",
       "      <td>450</td>\n",
       "      <td>160</td>\n",
       "      <td>89.0</td>\n",
       "      <td>0.0</td>\n",
       "      <td>Yes</td>\n",
       "    </tr>\n",
       "  </tbody>\n",
       "</table>\n",
       "</div>"
      ],
      "text/plain": [
       "      BeneID    ClaimID ClaimStartDt  ClaimEndDt  Provider  \\\n",
       "0  BENE11001   CLM46614   2009-04-12  2009-04-18  PRV55912   \n",
       "1  BENE16973  CLM565430   2009-09-06  2009-09-06  PRV55912   \n",
       "2  BENE17521   CLM34721   2009-01-20  2009-02-01  PRV55912   \n",
       "3  BENE21718   CLM72336   2009-10-17  2009-11-04  PRV55912   \n",
       "4  BENE22934   CLM73394   2009-10-25  2009-10-29  PRV55912   \n",
       "\n",
       "   InscClaimAmtReimbursed AttendingPhysician OperatingPhysician  \\\n",
       "0                   26000          PHY390922                NaN   \n",
       "1                      50          PHY365867          PHY327147   \n",
       "2                   19000          PHY349293          PHY370861   \n",
       "3                   17000          PHY334706          PHY334706   \n",
       "4                   13000          PHY390614          PHY323689   \n",
       "\n",
       "  OtherPhysician AdmissionDt ClmAdmitDiagnosisCode  DeductibleAmtPaid  \\\n",
       "0            NaN  2009-04-12                  7866             1068.0   \n",
       "1            NaN         NaT                   NaN                0.0   \n",
       "2      PHY363291  2009-01-20                 45340             1068.0   \n",
       "3            NaN  2009-10-17                 V5789             1068.0   \n",
       "4      PHY363291  2009-10-25                 71946             1068.0   \n",
       "\n",
       "  DischargeDt DiagnosisGroupCode ClmDiagnosisCode_1 ClmDiagnosisCode_2  \\\n",
       "0  2009-04-18                201               1970               4019   \n",
       "1         NaT                NaN              V7183              53081   \n",
       "2  2009-02-01                987               4240               2639   \n",
       "3  2009-11-04                941              V5789               4168   \n",
       "4  2009-10-29                506              71535              71960   \n",
       "\n",
       "  ClmDiagnosisCode_3 ClmDiagnosisCode_4 ClmDiagnosisCode_5 ClmDiagnosisCode_6  \\\n",
       "0               5853               7843               2768              71590   \n",
       "1              78959               4280              E8788              78079   \n",
       "2               2948              40390              45821              28489   \n",
       "3              73313               7812               7993              78830   \n",
       "4               4019              V1202               4240               2449   \n",
       "\n",
       "  ClmDiagnosisCode_7 ClmDiagnosisCode_8 ClmDiagnosisCode_9  \\\n",
       "0               2724              19889               5849   \n",
       "1              79902              25002              71848   \n",
       "2               5854               2753              E9305   \n",
       "3              72273              43812               4019   \n",
       "4               2768                NaN                NaN   \n",
       "\n",
       "  ClmDiagnosisCode_10  ClmProcedureCode_1  ClmProcedureCode_2  \\\n",
       "0                 NaN                 NaN                 NaN   \n",
       "1                 NaN                 NaN                 NaN   \n",
       "2                 NaN              7769.0              5849.0   \n",
       "3                 NaN              9338.0                 NaN   \n",
       "4                 NaN              8154.0                 NaN   \n",
       "\n",
       "   ClmProcedureCode_3  ClmProcedureCode_4  ClmProcedureCode_5  \\\n",
       "0                 NaN                 NaN                 NaN   \n",
       "1                 NaN                 NaN                 NaN   \n",
       "2                 NaN                 NaN                 NaN   \n",
       "3                 NaN                 NaN                 NaN   \n",
       "4                 NaN                 NaN                 NaN   \n",
       "\n",
       "   ClmProcedureCode_6  AdmittedDays        DOB DOD  Gender  Race  \\\n",
       "0                 NaN           7.0 1943-01-01 NaT       1     1   \n",
       "1                 NaN           NaN 1932-05-01 NaT       1     1   \n",
       "2                 NaN          13.0 1913-12-01 NaT       2     1   \n",
       "3                 NaN          19.0 1922-10-01 NaT       1     1   \n",
       "4                 NaN           5.0 1930-07-01 NaT       2     1   \n",
       "\n",
       "  RenalDiseaseIndicator  State  County  NoOfMonths_PartACov  \\\n",
       "0                     0     39     230                   12   \n",
       "1                     0     39     310                   12   \n",
       "2                     0     39     230                   12   \n",
       "3                     0     39     600                   12   \n",
       "4                     0     39     280                   12   \n",
       "\n",
       "   NoOfMonths_PartBCov  ChronicCond_Alzheimer  ChronicCond_Heartfailure  \\\n",
       "0                   12                      1                         0   \n",
       "1                   12                      1                         1   \n",
       "2                   12                      1                         1   \n",
       "3                   12                      0                         0   \n",
       "4                   12                      0                         1   \n",
       "\n",
       "   ChronicCond_KidneyDisease  ChronicCond_Cancer  ChronicCond_ObstrPulmonary  \\\n",
       "0                          1                   0                           0   \n",
       "1                          1                   0                           0   \n",
       "2                          1                   0                           1   \n",
       "3                          0                   0                           0   \n",
       "4                          0                   0                           1   \n",
       "\n",
       "   ChronicCond_Depression  ChronicCond_Diabetes  ChronicCond_IschemicHeart  \\\n",
       "0                       1                     1                          1   \n",
       "1                       0                     0                          1   \n",
       "2                       0                     0                          1   \n",
       "3                       0                     0                          1   \n",
       "4                       0                     1                          1   \n",
       "\n",
       "   ChronicCond_Osteoporasis  ChronicCond_rheumatoidarthritis  \\\n",
       "0                         0                                1   \n",
       "1                         0                                0   \n",
       "2                         0                                0   \n",
       "3                         1                                0   \n",
       "4                         1                                1   \n",
       "\n",
       "   ChronicCond_stroke  IPAnnualReimbursementAmt  IPAnnualDeductibleAmt  \\\n",
       "0                   1                     36000                   3204   \n",
       "1                   0                     24000                   2136   \n",
       "2                   0                     19000                   1068   \n",
       "3                   0                     17000                   1068   \n",
       "4                   0                     27000                   2136   \n",
       "\n",
       "   OPAnnualReimbursementAmt  OPAnnualDeductibleAmt    Age  DeadOrNot  \\\n",
       "0                        60                     70   77.0        0.0   \n",
       "1                       450                    200   88.0        0.0   \n",
       "2                       100                     20  106.0        0.0   \n",
       "3                      1050                    540   97.0        0.0   \n",
       "4                       450                    160   89.0        0.0   \n",
       "\n",
       "  PotentialFraud  \n",
       "0            Yes  \n",
       "1            Yes  \n",
       "2            Yes  \n",
       "3            Yes  \n",
       "4            Yes  "
      ]
     },
     "execution_count": 52,
     "metadata": {},
     "output_type": "execute_result"
    }
   ],
   "source": [
    "pd.set_option('display.max_columns', None)\n",
    "trainAllPatientDetailsProvider.head()"
   ]
  },
  {
   "cell_type": "code",
   "execution_count": 53,
   "metadata": {
    "colab": {
     "base_uri": "https://localhost:8080/"
    },
    "executionInfo": {
     "elapsed": 734,
     "status": "ok",
     "timestamp": 1675718693779,
     "user": {
      "displayName": "kid coconut",
      "userId": "06618246116934665843"
     },
     "user_tz": 300
    },
    "id": "qiNs0R8IAV8W",
    "outputId": "46dab720-6146-435d-9270-73f1146cddcb"
   },
   "outputs": [
    {
     "data": {
      "text/plain": [
       "(558211, 27)"
      ]
     },
     "execution_count": 53,
     "metadata": {},
     "output_type": "execute_result"
    }
   ],
   "source": [
    "columns_to_remove = ['BeneID', 'ClaimID', 'ClaimStartDt','ClaimEndDt','AttendingPhysician',\n",
    "                     'OperatingPhysician', 'OtherPhysician', 'ClmDiagnosisCode_1',\n",
    "                     'ClmDiagnosisCode_2', 'ClmDiagnosisCode_3', 'ClmDiagnosisCode_4',\n",
    "                     'ClmDiagnosisCode_5', 'ClmDiagnosisCode_6', 'ClmDiagnosisCode_7',\n",
    "                     'ClmDiagnosisCode_8', 'ClmDiagnosisCode_9', 'ClmDiagnosisCode_10',\n",
    "                     'ClmProcedureCode_1', 'ClmProcedureCode_2', 'ClmProcedureCode_3',\n",
    "                     'ClmProcedureCode_4', 'ClmProcedureCode_5', 'ClmProcedureCode_6',\n",
    "                     'ClmAdmitDiagnosisCode', 'AdmissionDt',\n",
    "                     'DischargeDt', 'DiagnosisGroupCode','DOB', 'DOD',\n",
    "                     'State', 'County']\n",
    "\n",
    "train_final = trainAllPatientDetailsProvider.drop(columns=columns_to_remove, axis=1)\n",
    "train_final.shape"
   ]
  },
  {
   "cell_type": "code",
   "execution_count": 54,
   "metadata": {
    "colab": {
     "base_uri": "https://localhost:8080/"
    },
    "executionInfo": {
     "elapsed": 240,
     "status": "ok",
     "timestamp": 1675718694009,
     "user": {
      "displayName": "kid coconut",
      "userId": "06618246116934665843"
     },
     "user_tz": 300
    },
    "id": "f2ZXWx0PBS4T",
    "outputId": "ea77ea6c-f44f-4c4a-b8c3-9e90cd81804c"
   },
   "outputs": [
    {
     "data": {
      "text/plain": [
       "Provider                                0\n",
       "InscClaimAmtReimbursed                  0\n",
       "DeductibleAmtPaid                     899\n",
       "AdmittedDays                       517737\n",
       "Gender                                  0\n",
       "Race                                    0\n",
       "RenalDiseaseIndicator                   0\n",
       "NoOfMonths_PartACov                     0\n",
       "NoOfMonths_PartBCov                     0\n",
       "ChronicCond_Alzheimer                   0\n",
       "ChronicCond_Heartfailure                0\n",
       "ChronicCond_KidneyDisease               0\n",
       "ChronicCond_Cancer                      0\n",
       "ChronicCond_ObstrPulmonary              0\n",
       "ChronicCond_Depression                  0\n",
       "ChronicCond_Diabetes                    0\n",
       "ChronicCond_IschemicHeart               0\n",
       "ChronicCond_Osteoporasis                0\n",
       "ChronicCond_rheumatoidarthritis         0\n",
       "ChronicCond_stroke                      0\n",
       "IPAnnualReimbursementAmt                0\n",
       "IPAnnualDeductibleAmt                   0\n",
       "OPAnnualReimbursementAmt                0\n",
       "OPAnnualDeductibleAmt                   0\n",
       "Age                                     0\n",
       "DeadOrNot                               0\n",
       "PotentialFraud                          0\n",
       "dtype: int64"
      ]
     },
     "execution_count": 54,
     "metadata": {},
     "output_type": "execute_result"
    }
   ],
   "source": [
    "train_final.isnull().sum()"
   ]
  },
  {
   "cell_type": "code",
   "execution_count": 55,
   "metadata": {
    "colab": {
     "base_uri": "https://localhost:8080/"
    },
    "executionInfo": {
     "elapsed": 206,
     "status": "ok",
     "timestamp": 1675718694207,
     "user": {
      "displayName": "kid coconut",
      "userId": "06618246116934665843"
     },
     "user_tz": 300
    },
    "id": "kIf4xMVGBXxd",
    "outputId": "92d85f6d-6449-4a3f-be64-db9aa86b4a52"
   },
   "outputs": [
    {
     "data": {
      "text/plain": [
       "(135392, 26)"
      ]
     },
     "execution_count": 55,
     "metadata": {},
     "output_type": "execute_result"
    }
   ],
   "source": [
    "test_final = testAllPatientDetailsProvider.drop(columns=columns_to_remove, axis=1)\n",
    "test_final.shape"
   ]
  },
  {
   "cell_type": "code",
   "execution_count": 56,
   "metadata": {
    "colab": {
     "base_uri": "https://localhost:8080/"
    },
    "executionInfo": {
     "elapsed": 20,
     "status": "ok",
     "timestamp": 1675718694210,
     "user": {
      "displayName": "kid coconut",
      "userId": "06618246116934665843"
     },
     "user_tz": 300
    },
    "id": "oinj62dNBkUX",
    "outputId": "08818773-3fed-4d52-c62a-964dd7af9735"
   },
   "outputs": [
    {
     "data": {
      "text/plain": [
       "Provider                                0\n",
       "InscClaimAmtReimbursed                  0\n",
       "DeductibleAmtPaid                     196\n",
       "AdmittedDays                       125841\n",
       "Gender                                  0\n",
       "Race                                    0\n",
       "RenalDiseaseIndicator                   0\n",
       "NoOfMonths_PartACov                     0\n",
       "NoOfMonths_PartBCov                     0\n",
       "ChronicCond_Alzheimer                   0\n",
       "ChronicCond_Heartfailure                0\n",
       "ChronicCond_KidneyDisease               0\n",
       "ChronicCond_Cancer                      0\n",
       "ChronicCond_ObstrPulmonary              0\n",
       "ChronicCond_Depression                  0\n",
       "ChronicCond_Diabetes                    0\n",
       "ChronicCond_IschemicHeart               0\n",
       "ChronicCond_Osteoporasis                0\n",
       "ChronicCond_rheumatoidarthritis         0\n",
       "ChronicCond_stroke                      0\n",
       "IPAnnualReimbursementAmt                0\n",
       "IPAnnualDeductibleAmt                   0\n",
       "OPAnnualReimbursementAmt                0\n",
       "OPAnnualDeductibleAmt                   0\n",
       "Age                                     0\n",
       "DeadOrNot                               0\n",
       "dtype: int64"
      ]
     },
     "execution_count": 56,
     "metadata": {},
     "output_type": "execute_result"
    }
   ],
   "source": [
    "test_final.isnull().sum()"
   ]
  },
  {
   "cell_type": "code",
   "execution_count": 57,
   "metadata": {
    "id": "rc77o8gOBoN_"
   },
   "outputs": [],
   "source": [
    "train_final.Gender = train_final.Gender.astype('category')\n",
    "train_final.Race = train_final.Race.astype('category')"
   ]
  },
  {
   "cell_type": "code",
   "execution_count": 58,
   "metadata": {
    "id": "eXWDnISGBsCo"
   },
   "outputs": [],
   "source": [
    "test_final.Gender = test_final.Gender.astype('category')\n",
    "test_final.Race = test_final.Race.astype('category')"
   ]
  },
  {
   "cell_type": "code",
   "execution_count": 59,
   "metadata": {},
   "outputs": [],
   "source": [
    "test_final.Gender = test_final.Gender.astype('category')\n",
    "test_final.Race = test_final.Race.astype('category')"
   ]
  },
  {
   "cell_type": "markdown",
   "metadata": {
    "id": "Uo3AXMo7B08B"
   },
   "source": [
    "## One-hot encoding"
   ]
  },
  {
   "cell_type": "code",
   "execution_count": 60,
   "metadata": {
    "colab": {
     "base_uri": "https://localhost:8080/",
     "height": 270
    },
    "executionInfo": {
     "elapsed": 155,
     "status": "ok",
     "timestamp": 1675718694581,
     "user": {
      "displayName": "kid coconut",
      "userId": "06618246116934665843"
     },
     "user_tz": 300
    },
    "id": "4uTw412rBwAC",
    "outputId": "73240b0c-39ca-4a43-9e4c-fe2c64d2827d"
   },
   "outputs": [
    {
     "data": {
      "text/html": [
       "<div>\n",
       "<style scoped>\n",
       "    .dataframe tbody tr th:only-of-type {\n",
       "        vertical-align: middle;\n",
       "    }\n",
       "\n",
       "    .dataframe tbody tr th {\n",
       "        vertical-align: top;\n",
       "    }\n",
       "\n",
       "    .dataframe thead th {\n",
       "        text-align: right;\n",
       "    }\n",
       "</style>\n",
       "<table border=\"1\" class=\"dataframe\">\n",
       "  <thead>\n",
       "    <tr style=\"text-align: right;\">\n",
       "      <th></th>\n",
       "      <th>Provider</th>\n",
       "      <th>InscClaimAmtReimbursed</th>\n",
       "      <th>DeductibleAmtPaid</th>\n",
       "      <th>AdmittedDays</th>\n",
       "      <th>RenalDiseaseIndicator</th>\n",
       "      <th>NoOfMonths_PartACov</th>\n",
       "      <th>NoOfMonths_PartBCov</th>\n",
       "      <th>ChronicCond_Alzheimer</th>\n",
       "      <th>ChronicCond_Heartfailure</th>\n",
       "      <th>ChronicCond_KidneyDisease</th>\n",
       "      <th>ChronicCond_Cancer</th>\n",
       "      <th>ChronicCond_ObstrPulmonary</th>\n",
       "      <th>ChronicCond_Depression</th>\n",
       "      <th>ChronicCond_Diabetes</th>\n",
       "      <th>ChronicCond_IschemicHeart</th>\n",
       "      <th>ChronicCond_Osteoporasis</th>\n",
       "      <th>ChronicCond_rheumatoidarthritis</th>\n",
       "      <th>ChronicCond_stroke</th>\n",
       "      <th>IPAnnualReimbursementAmt</th>\n",
       "      <th>IPAnnualDeductibleAmt</th>\n",
       "      <th>OPAnnualReimbursementAmt</th>\n",
       "      <th>OPAnnualDeductibleAmt</th>\n",
       "      <th>Age</th>\n",
       "      <th>DeadOrNot</th>\n",
       "      <th>PotentialFraud</th>\n",
       "      <th>Gender_2</th>\n",
       "      <th>Race_2</th>\n",
       "      <th>Race_3</th>\n",
       "      <th>Race_5</th>\n",
       "    </tr>\n",
       "  </thead>\n",
       "  <tbody>\n",
       "    <tr>\n",
       "      <th>0</th>\n",
       "      <td>PRV55912</td>\n",
       "      <td>26000</td>\n",
       "      <td>1068.0</td>\n",
       "      <td>7.0</td>\n",
       "      <td>0</td>\n",
       "      <td>12</td>\n",
       "      <td>12</td>\n",
       "      <td>1</td>\n",
       "      <td>0</td>\n",
       "      <td>1</td>\n",
       "      <td>0</td>\n",
       "      <td>0</td>\n",
       "      <td>1</td>\n",
       "      <td>1</td>\n",
       "      <td>1</td>\n",
       "      <td>0</td>\n",
       "      <td>1</td>\n",
       "      <td>1</td>\n",
       "      <td>36000</td>\n",
       "      <td>3204</td>\n",
       "      <td>60</td>\n",
       "      <td>70</td>\n",
       "      <td>77.0</td>\n",
       "      <td>0.0</td>\n",
       "      <td>Yes</td>\n",
       "      <td>0</td>\n",
       "      <td>0</td>\n",
       "      <td>0</td>\n",
       "      <td>0</td>\n",
       "    </tr>\n",
       "    <tr>\n",
       "      <th>1</th>\n",
       "      <td>PRV55912</td>\n",
       "      <td>50</td>\n",
       "      <td>0.0</td>\n",
       "      <td>NaN</td>\n",
       "      <td>0</td>\n",
       "      <td>12</td>\n",
       "      <td>12</td>\n",
       "      <td>1</td>\n",
       "      <td>1</td>\n",
       "      <td>1</td>\n",
       "      <td>0</td>\n",
       "      <td>0</td>\n",
       "      <td>0</td>\n",
       "      <td>0</td>\n",
       "      <td>1</td>\n",
       "      <td>0</td>\n",
       "      <td>0</td>\n",
       "      <td>0</td>\n",
       "      <td>24000</td>\n",
       "      <td>2136</td>\n",
       "      <td>450</td>\n",
       "      <td>200</td>\n",
       "      <td>88.0</td>\n",
       "      <td>0.0</td>\n",
       "      <td>Yes</td>\n",
       "      <td>0</td>\n",
       "      <td>0</td>\n",
       "      <td>0</td>\n",
       "      <td>0</td>\n",
       "    </tr>\n",
       "    <tr>\n",
       "      <th>2</th>\n",
       "      <td>PRV55912</td>\n",
       "      <td>19000</td>\n",
       "      <td>1068.0</td>\n",
       "      <td>13.0</td>\n",
       "      <td>0</td>\n",
       "      <td>12</td>\n",
       "      <td>12</td>\n",
       "      <td>1</td>\n",
       "      <td>1</td>\n",
       "      <td>1</td>\n",
       "      <td>0</td>\n",
       "      <td>1</td>\n",
       "      <td>0</td>\n",
       "      <td>0</td>\n",
       "      <td>1</td>\n",
       "      <td>0</td>\n",
       "      <td>0</td>\n",
       "      <td>0</td>\n",
       "      <td>19000</td>\n",
       "      <td>1068</td>\n",
       "      <td>100</td>\n",
       "      <td>20</td>\n",
       "      <td>106.0</td>\n",
       "      <td>0.0</td>\n",
       "      <td>Yes</td>\n",
       "      <td>1</td>\n",
       "      <td>0</td>\n",
       "      <td>0</td>\n",
       "      <td>0</td>\n",
       "    </tr>\n",
       "    <tr>\n",
       "      <th>3</th>\n",
       "      <td>PRV55912</td>\n",
       "      <td>17000</td>\n",
       "      <td>1068.0</td>\n",
       "      <td>19.0</td>\n",
       "      <td>0</td>\n",
       "      <td>12</td>\n",
       "      <td>12</td>\n",
       "      <td>0</td>\n",
       "      <td>0</td>\n",
       "      <td>0</td>\n",
       "      <td>0</td>\n",
       "      <td>0</td>\n",
       "      <td>0</td>\n",
       "      <td>0</td>\n",
       "      <td>1</td>\n",
       "      <td>1</td>\n",
       "      <td>0</td>\n",
       "      <td>0</td>\n",
       "      <td>17000</td>\n",
       "      <td>1068</td>\n",
       "      <td>1050</td>\n",
       "      <td>540</td>\n",
       "      <td>97.0</td>\n",
       "      <td>0.0</td>\n",
       "      <td>Yes</td>\n",
       "      <td>0</td>\n",
       "      <td>0</td>\n",
       "      <td>0</td>\n",
       "      <td>0</td>\n",
       "    </tr>\n",
       "    <tr>\n",
       "      <th>4</th>\n",
       "      <td>PRV55912</td>\n",
       "      <td>13000</td>\n",
       "      <td>1068.0</td>\n",
       "      <td>5.0</td>\n",
       "      <td>0</td>\n",
       "      <td>12</td>\n",
       "      <td>12</td>\n",
       "      <td>0</td>\n",
       "      <td>1</td>\n",
       "      <td>0</td>\n",
       "      <td>0</td>\n",
       "      <td>1</td>\n",
       "      <td>0</td>\n",
       "      <td>1</td>\n",
       "      <td>1</td>\n",
       "      <td>1</td>\n",
       "      <td>1</td>\n",
       "      <td>0</td>\n",
       "      <td>27000</td>\n",
       "      <td>2136</td>\n",
       "      <td>450</td>\n",
       "      <td>160</td>\n",
       "      <td>89.0</td>\n",
       "      <td>0.0</td>\n",
       "      <td>Yes</td>\n",
       "      <td>1</td>\n",
       "      <td>0</td>\n",
       "      <td>0</td>\n",
       "      <td>0</td>\n",
       "    </tr>\n",
       "  </tbody>\n",
       "</table>\n",
       "</div>"
      ],
      "text/plain": [
       "   Provider  InscClaimAmtReimbursed  DeductibleAmtPaid  AdmittedDays  \\\n",
       "0  PRV55912                   26000             1068.0           7.0   \n",
       "1  PRV55912                      50                0.0           NaN   \n",
       "2  PRV55912                   19000             1068.0          13.0   \n",
       "3  PRV55912                   17000             1068.0          19.0   \n",
       "4  PRV55912                   13000             1068.0           5.0   \n",
       "\n",
       "  RenalDiseaseIndicator  NoOfMonths_PartACov  NoOfMonths_PartBCov  \\\n",
       "0                     0                   12                   12   \n",
       "1                     0                   12                   12   \n",
       "2                     0                   12                   12   \n",
       "3                     0                   12                   12   \n",
       "4                     0                   12                   12   \n",
       "\n",
       "   ChronicCond_Alzheimer  ChronicCond_Heartfailure  ChronicCond_KidneyDisease  \\\n",
       "0                      1                         0                          1   \n",
       "1                      1                         1                          1   \n",
       "2                      1                         1                          1   \n",
       "3                      0                         0                          0   \n",
       "4                      0                         1                          0   \n",
       "\n",
       "   ChronicCond_Cancer  ChronicCond_ObstrPulmonary  ChronicCond_Depression  \\\n",
       "0                   0                           0                       1   \n",
       "1                   0                           0                       0   \n",
       "2                   0                           1                       0   \n",
       "3                   0                           0                       0   \n",
       "4                   0                           1                       0   \n",
       "\n",
       "   ChronicCond_Diabetes  ChronicCond_IschemicHeart  ChronicCond_Osteoporasis  \\\n",
       "0                     1                          1                         0   \n",
       "1                     0                          1                         0   \n",
       "2                     0                          1                         0   \n",
       "3                     0                          1                         1   \n",
       "4                     1                          1                         1   \n",
       "\n",
       "   ChronicCond_rheumatoidarthritis  ChronicCond_stroke  \\\n",
       "0                                1                   1   \n",
       "1                                0                   0   \n",
       "2                                0                   0   \n",
       "3                                0                   0   \n",
       "4                                1                   0   \n",
       "\n",
       "   IPAnnualReimbursementAmt  IPAnnualDeductibleAmt  OPAnnualReimbursementAmt  \\\n",
       "0                     36000                   3204                        60   \n",
       "1                     24000                   2136                       450   \n",
       "2                     19000                   1068                       100   \n",
       "3                     17000                   1068                      1050   \n",
       "4                     27000                   2136                       450   \n",
       "\n",
       "   OPAnnualDeductibleAmt    Age  DeadOrNot PotentialFraud  Gender_2  Race_2  \\\n",
       "0                     70   77.0        0.0            Yes         0       0   \n",
       "1                    200   88.0        0.0            Yes         0       0   \n",
       "2                     20  106.0        0.0            Yes         1       0   \n",
       "3                    540   97.0        0.0            Yes         0       0   \n",
       "4                    160   89.0        0.0            Yes         1       0   \n",
       "\n",
       "   Race_3  Race_5  \n",
       "0       0       0  \n",
       "1       0       0  \n",
       "2       0       0  \n",
       "3       0       0  \n",
       "4       0       0  "
      ]
     },
     "execution_count": 60,
     "metadata": {},
     "output_type": "execute_result"
    }
   ],
   "source": [
    "train_final = pd.get_dummies(train_final, columns=['Gender', 'Race'], drop_first=True)\n",
    "train_final.head()"
   ]
  },
  {
   "cell_type": "code",
   "execution_count": 61,
   "metadata": {
    "id": "znsIjeqiCEVK"
   },
   "outputs": [],
   "source": [
    "train_final.loc[train_final['PotentialFraud'] == 'Yes', 'PotentialFraud'] = 1\n",
    "train_final.loc[train_final['PotentialFraud'] == 'No', 'PotentialFraud'] = 0"
   ]
  },
  {
   "cell_type": "code",
   "execution_count": 62,
   "metadata": {
    "colab": {
     "base_uri": "https://localhost:8080/"
    },
    "executionInfo": {
     "elapsed": 38,
     "status": "ok",
     "timestamp": 1675718695030,
     "user": {
      "displayName": "kid coconut",
      "userId": "06618246116934665843"
     },
     "user_tz": 300
    },
    "id": "nkLWERF9Cb0G",
    "outputId": "0bd995b9-039d-43b5-bda0-ed70ad76dee0"
   },
   "outputs": [
    {
     "data": {
      "text/plain": [
       "0    345415\n",
       "1    212796\n",
       "Name: PotentialFraud, dtype: int64"
      ]
     },
     "execution_count": 62,
     "metadata": {},
     "output_type": "execute_result"
    }
   ],
   "source": [
    "train_final['PotentialFraud'].value_counts()"
   ]
  },
  {
   "cell_type": "code",
   "execution_count": 63,
   "metadata": {
    "colab": {
     "base_uri": "https://localhost:8080/",
     "height": 270
    },
    "executionInfo": {
     "elapsed": 28,
     "status": "ok",
     "timestamp": 1675718695031,
     "user": {
      "displayName": "kid coconut",
      "userId": "06618246116934665843"
     },
     "user_tz": 300
    },
    "id": "nff9J5Y-CfCp",
    "outputId": "47ff5fda-91fe-442c-dd3d-9d9e194e64fe"
   },
   "outputs": [
    {
     "data": {
      "text/html": [
       "<div>\n",
       "<style scoped>\n",
       "    .dataframe tbody tr th:only-of-type {\n",
       "        vertical-align: middle;\n",
       "    }\n",
       "\n",
       "    .dataframe tbody tr th {\n",
       "        vertical-align: top;\n",
       "    }\n",
       "\n",
       "    .dataframe thead th {\n",
       "        text-align: right;\n",
       "    }\n",
       "</style>\n",
       "<table border=\"1\" class=\"dataframe\">\n",
       "  <thead>\n",
       "    <tr style=\"text-align: right;\">\n",
       "      <th></th>\n",
       "      <th>Provider</th>\n",
       "      <th>InscClaimAmtReimbursed</th>\n",
       "      <th>DeductibleAmtPaid</th>\n",
       "      <th>AdmittedDays</th>\n",
       "      <th>RenalDiseaseIndicator</th>\n",
       "      <th>NoOfMonths_PartACov</th>\n",
       "      <th>NoOfMonths_PartBCov</th>\n",
       "      <th>ChronicCond_Alzheimer</th>\n",
       "      <th>ChronicCond_Heartfailure</th>\n",
       "      <th>ChronicCond_KidneyDisease</th>\n",
       "      <th>ChronicCond_Cancer</th>\n",
       "      <th>ChronicCond_ObstrPulmonary</th>\n",
       "      <th>ChronicCond_Depression</th>\n",
       "      <th>ChronicCond_Diabetes</th>\n",
       "      <th>ChronicCond_IschemicHeart</th>\n",
       "      <th>ChronicCond_Osteoporasis</th>\n",
       "      <th>ChronicCond_rheumatoidarthritis</th>\n",
       "      <th>ChronicCond_stroke</th>\n",
       "      <th>IPAnnualReimbursementAmt</th>\n",
       "      <th>IPAnnualDeductibleAmt</th>\n",
       "      <th>OPAnnualReimbursementAmt</th>\n",
       "      <th>OPAnnualDeductibleAmt</th>\n",
       "      <th>Age</th>\n",
       "      <th>DeadOrNot</th>\n",
       "      <th>Gender_2</th>\n",
       "      <th>Race_2</th>\n",
       "      <th>Race_3</th>\n",
       "      <th>Race_5</th>\n",
       "    </tr>\n",
       "  </thead>\n",
       "  <tbody>\n",
       "    <tr>\n",
       "      <th>0</th>\n",
       "      <td>PRV57070</td>\n",
       "      <td>9000</td>\n",
       "      <td>1068.0</td>\n",
       "      <td>8.0</td>\n",
       "      <td>Y</td>\n",
       "      <td>12</td>\n",
       "      <td>12</td>\n",
       "      <td>0</td>\n",
       "      <td>1</td>\n",
       "      <td>1</td>\n",
       "      <td>0</td>\n",
       "      <td>1</td>\n",
       "      <td>1</td>\n",
       "      <td>0</td>\n",
       "      <td>1</td>\n",
       "      <td>0</td>\n",
       "      <td>0</td>\n",
       "      <td>0</td>\n",
       "      <td>21260</td>\n",
       "      <td>2136</td>\n",
       "      <td>120</td>\n",
       "      <td>100</td>\n",
       "      <td>82.0</td>\n",
       "      <td>0.0</td>\n",
       "      <td>1</td>\n",
       "      <td>0</td>\n",
       "      <td>0</td>\n",
       "      <td>0</td>\n",
       "    </tr>\n",
       "    <tr>\n",
       "      <th>1</th>\n",
       "      <td>PRV57070</td>\n",
       "      <td>3000</td>\n",
       "      <td>1068.0</td>\n",
       "      <td>3.0</td>\n",
       "      <td>0</td>\n",
       "      <td>12</td>\n",
       "      <td>12</td>\n",
       "      <td>1</td>\n",
       "      <td>1</td>\n",
       "      <td>1</td>\n",
       "      <td>0</td>\n",
       "      <td>1</td>\n",
       "      <td>1</td>\n",
       "      <td>1</td>\n",
       "      <td>1</td>\n",
       "      <td>0</td>\n",
       "      <td>1</td>\n",
       "      <td>0</td>\n",
       "      <td>8000</td>\n",
       "      <td>2136</td>\n",
       "      <td>2540</td>\n",
       "      <td>1880</td>\n",
       "      <td>83.0</td>\n",
       "      <td>0.0</td>\n",
       "      <td>1</td>\n",
       "      <td>0</td>\n",
       "      <td>0</td>\n",
       "      <td>0</td>\n",
       "    </tr>\n",
       "    <tr>\n",
       "      <th>2</th>\n",
       "      <td>PRV57070</td>\n",
       "      <td>7000</td>\n",
       "      <td>1068.0</td>\n",
       "      <td>7.0</td>\n",
       "      <td>Y</td>\n",
       "      <td>12</td>\n",
       "      <td>12</td>\n",
       "      <td>0</td>\n",
       "      <td>1</td>\n",
       "      <td>1</td>\n",
       "      <td>0</td>\n",
       "      <td>1</td>\n",
       "      <td>0</td>\n",
       "      <td>0</td>\n",
       "      <td>1</td>\n",
       "      <td>1</td>\n",
       "      <td>0</td>\n",
       "      <td>0</td>\n",
       "      <td>10200</td>\n",
       "      <td>2136</td>\n",
       "      <td>40</td>\n",
       "      <td>100</td>\n",
       "      <td>82.0</td>\n",
       "      <td>0.0</td>\n",
       "      <td>1</td>\n",
       "      <td>0</td>\n",
       "      <td>0</td>\n",
       "      <td>0</td>\n",
       "    </tr>\n",
       "    <tr>\n",
       "      <th>3</th>\n",
       "      <td>PRV57070</td>\n",
       "      <td>5000</td>\n",
       "      <td>1068.0</td>\n",
       "      <td>9.0</td>\n",
       "      <td>0</td>\n",
       "      <td>12</td>\n",
       "      <td>12</td>\n",
       "      <td>0</td>\n",
       "      <td>0</td>\n",
       "      <td>1</td>\n",
       "      <td>0</td>\n",
       "      <td>1</td>\n",
       "      <td>0</td>\n",
       "      <td>0</td>\n",
       "      <td>1</td>\n",
       "      <td>1</td>\n",
       "      <td>0</td>\n",
       "      <td>0</td>\n",
       "      <td>5000</td>\n",
       "      <td>1068</td>\n",
       "      <td>600</td>\n",
       "      <td>180</td>\n",
       "      <td>95.0</td>\n",
       "      <td>0.0</td>\n",
       "      <td>1</td>\n",
       "      <td>0</td>\n",
       "      <td>0</td>\n",
       "      <td>0</td>\n",
       "    </tr>\n",
       "    <tr>\n",
       "      <th>4</th>\n",
       "      <td>PRV57070</td>\n",
       "      <td>9000</td>\n",
       "      <td>1068.0</td>\n",
       "      <td>11.0</td>\n",
       "      <td>Y</td>\n",
       "      <td>12</td>\n",
       "      <td>12</td>\n",
       "      <td>1</td>\n",
       "      <td>1</td>\n",
       "      <td>1</td>\n",
       "      <td>1</td>\n",
       "      <td>1</td>\n",
       "      <td>0</td>\n",
       "      <td>1</td>\n",
       "      <td>1</td>\n",
       "      <td>0</td>\n",
       "      <td>1</td>\n",
       "      <td>0</td>\n",
       "      <td>9000</td>\n",
       "      <td>1068</td>\n",
       "      <td>10</td>\n",
       "      <td>40</td>\n",
       "      <td>76.0</td>\n",
       "      <td>0.0</td>\n",
       "      <td>1</td>\n",
       "      <td>0</td>\n",
       "      <td>0</td>\n",
       "      <td>0</td>\n",
       "    </tr>\n",
       "  </tbody>\n",
       "</table>\n",
       "</div>"
      ],
      "text/plain": [
       "   Provider  InscClaimAmtReimbursed  DeductibleAmtPaid  AdmittedDays  \\\n",
       "0  PRV57070                    9000             1068.0           8.0   \n",
       "1  PRV57070                    3000             1068.0           3.0   \n",
       "2  PRV57070                    7000             1068.0           7.0   \n",
       "3  PRV57070                    5000             1068.0           9.0   \n",
       "4  PRV57070                    9000             1068.0          11.0   \n",
       "\n",
       "  RenalDiseaseIndicator  NoOfMonths_PartACov  NoOfMonths_PartBCov  \\\n",
       "0                     Y                   12                   12   \n",
       "1                     0                   12                   12   \n",
       "2                     Y                   12                   12   \n",
       "3                     0                   12                   12   \n",
       "4                     Y                   12                   12   \n",
       "\n",
       "   ChronicCond_Alzheimer  ChronicCond_Heartfailure  ChronicCond_KidneyDisease  \\\n",
       "0                      0                         1                          1   \n",
       "1                      1                         1                          1   \n",
       "2                      0                         1                          1   \n",
       "3                      0                         0                          1   \n",
       "4                      1                         1                          1   \n",
       "\n",
       "   ChronicCond_Cancer  ChronicCond_ObstrPulmonary  ChronicCond_Depression  \\\n",
       "0                   0                           1                       1   \n",
       "1                   0                           1                       1   \n",
       "2                   0                           1                       0   \n",
       "3                   0                           1                       0   \n",
       "4                   1                           1                       0   \n",
       "\n",
       "   ChronicCond_Diabetes  ChronicCond_IschemicHeart  ChronicCond_Osteoporasis  \\\n",
       "0                     0                          1                         0   \n",
       "1                     1                          1                         0   \n",
       "2                     0                          1                         1   \n",
       "3                     0                          1                         1   \n",
       "4                     1                          1                         0   \n",
       "\n",
       "   ChronicCond_rheumatoidarthritis  ChronicCond_stroke  \\\n",
       "0                                0                   0   \n",
       "1                                1                   0   \n",
       "2                                0                   0   \n",
       "3                                0                   0   \n",
       "4                                1                   0   \n",
       "\n",
       "   IPAnnualReimbursementAmt  IPAnnualDeductibleAmt  OPAnnualReimbursementAmt  \\\n",
       "0                     21260                   2136                       120   \n",
       "1                      8000                   2136                      2540   \n",
       "2                     10200                   2136                        40   \n",
       "3                      5000                   1068                       600   \n",
       "4                      9000                   1068                        10   \n",
       "\n",
       "   OPAnnualDeductibleAmt   Age  DeadOrNot  Gender_2  Race_2  Race_3  Race_5  \n",
       "0                    100  82.0        0.0         1       0       0       0  \n",
       "1                   1880  83.0        0.0         1       0       0       0  \n",
       "2                    100  82.0        0.0         1       0       0       0  \n",
       "3                    180  95.0        0.0         1       0       0       0  \n",
       "4                     40  76.0        0.0         1       0       0       0  "
      ]
     },
     "execution_count": 63,
     "metadata": {},
     "output_type": "execute_result"
    }
   ],
   "source": [
    "test_final = pd.get_dummies(test_final, columns=['Gender', 'Race'], drop_first=True)\n",
    "test_final.head()"
   ]
  },
  {
   "cell_type": "code",
   "execution_count": 64,
   "metadata": {
    "colab": {
     "base_uri": "https://localhost:8080/"
    },
    "executionInfo": {
     "elapsed": 243,
     "status": "ok",
     "timestamp": 1675718695249,
     "user": {
      "displayName": "kid coconut",
      "userId": "06618246116934665843"
     },
     "user_tz": 300
    },
    "id": "uDA2bnF8C2DW",
    "outputId": "c07b782a-9aec-44b7-b5d9-8210b1f40f87"
   },
   "outputs": [
    {
     "data": {
      "text/plain": [
       "0    448363\n",
       "Y    109848\n",
       "Name: RenalDiseaseIndicator, dtype: int64"
      ]
     },
     "execution_count": 64,
     "metadata": {},
     "output_type": "execute_result"
    }
   ],
   "source": [
    "train_final['RenalDiseaseIndicator'].value_counts()"
   ]
  },
  {
   "cell_type": "code",
   "execution_count": 65,
   "metadata": {
    "id": "YFAK4M-KC9qx"
   },
   "outputs": [],
   "source": [
    "train_final.loc[train_final['RenalDiseaseIndicator'] == 'Y', 'RenalDiseaseIndicator'] = 1 "
   ]
  },
  {
   "cell_type": "code",
   "execution_count": 66,
   "metadata": {
    "colab": {
     "base_uri": "https://localhost:8080/"
    },
    "executionInfo": {
     "elapsed": 16,
     "status": "ok",
     "timestamp": 1675718695251,
     "user": {
      "displayName": "kid coconut",
      "userId": "06618246116934665843"
     },
     "user_tz": 300
    },
    "id": "fq3H8xSMDL9m",
    "outputId": "0dd19405-74eb-402e-8e9f-44fc6ec7dd07"
   },
   "outputs": [
    {
     "data": {
      "text/plain": [
       "0    448363\n",
       "1    109848\n",
       "Name: RenalDiseaseIndicator, dtype: int64"
      ]
     },
     "execution_count": 66,
     "metadata": {},
     "output_type": "execute_result"
    }
   ],
   "source": [
    "train_final['RenalDiseaseIndicator'].value_counts()"
   ]
  },
  {
   "cell_type": "code",
   "execution_count": 67,
   "metadata": {
    "id": "I6we2RYBDNZh"
   },
   "outputs": [],
   "source": [
    "test_final.loc[test_final['RenalDiseaseIndicator'] == 'Y', 'RenalDiseaseIndicator'] = 1 "
   ]
  },
  {
   "cell_type": "code",
   "execution_count": 68,
   "metadata": {
    "colab": {
     "base_uri": "https://localhost:8080/"
    },
    "executionInfo": {
     "elapsed": 14,
     "status": "ok",
     "timestamp": 1675718695451,
     "user": {
      "displayName": "kid coconut",
      "userId": "06618246116934665843"
     },
     "user_tz": 300
    },
    "id": "vl5WhXGiDRzC",
    "outputId": "304369d9-22bf-4b38-83df-96688863ab06"
   },
   "outputs": [
    {
     "data": {
      "text/plain": [
       "0    109143\n",
       "1     26249\n",
       "Name: RenalDiseaseIndicator, dtype: int64"
      ]
     },
     "execution_count": 68,
     "metadata": {},
     "output_type": "execute_result"
    }
   ],
   "source": [
    "test_final['RenalDiseaseIndicator'].value_counts()"
   ]
  },
  {
   "cell_type": "code",
   "execution_count": 69,
   "metadata": {
    "id": "P1ZXUmKcDTz4"
   },
   "outputs": [],
   "source": [
    "train_final['DeductibleAmtPaid'].fillna(0, inplace=True)\n",
    "train_final['AdmittedDays'].fillna(0, inplace=True)"
   ]
  },
  {
   "cell_type": "code",
   "execution_count": 70,
   "metadata": {
    "colab": {
     "base_uri": "https://localhost:8080/"
    },
    "executionInfo": {
     "elapsed": 222,
     "status": "ok",
     "timestamp": 1675718695665,
     "user": {
      "displayName": "kid coconut",
      "userId": "06618246116934665843"
     },
     "user_tz": 300
    },
    "id": "7qbainfJDYWT",
    "outputId": "c5e6e9d3-92d5-4146-fd8c-f88765c41201"
   },
   "outputs": [
    {
     "data": {
      "text/plain": [
       "Provider                           0\n",
       "InscClaimAmtReimbursed             0\n",
       "DeductibleAmtPaid                  0\n",
       "AdmittedDays                       0\n",
       "RenalDiseaseIndicator              0\n",
       "NoOfMonths_PartACov                0\n",
       "NoOfMonths_PartBCov                0\n",
       "ChronicCond_Alzheimer              0\n",
       "ChronicCond_Heartfailure           0\n",
       "ChronicCond_KidneyDisease          0\n",
       "ChronicCond_Cancer                 0\n",
       "ChronicCond_ObstrPulmonary         0\n",
       "ChronicCond_Depression             0\n",
       "ChronicCond_Diabetes               0\n",
       "ChronicCond_IschemicHeart          0\n",
       "ChronicCond_Osteoporasis           0\n",
       "ChronicCond_rheumatoidarthritis    0\n",
       "ChronicCond_stroke                 0\n",
       "IPAnnualReimbursementAmt           0\n",
       "IPAnnualDeductibleAmt              0\n",
       "OPAnnualReimbursementAmt           0\n",
       "OPAnnualDeductibleAmt              0\n",
       "Age                                0\n",
       "DeadOrNot                          0\n",
       "PotentialFraud                     0\n",
       "Gender_2                           0\n",
       "Race_2                             0\n",
       "Race_3                             0\n",
       "Race_5                             0\n",
       "dtype: int64"
      ]
     },
     "execution_count": 70,
     "metadata": {},
     "output_type": "execute_result"
    }
   ],
   "source": [
    "train_final.isna().sum()"
   ]
  },
  {
   "cell_type": "code",
   "execution_count": 71,
   "metadata": {
    "id": "nx338Jn_Da82"
   },
   "outputs": [],
   "source": [
    "test_final['DeductibleAmtPaid'].fillna(0, inplace=True)\n",
    "test_final['AdmittedDays'].fillna(0, inplace=True)"
   ]
  },
  {
   "cell_type": "code",
   "execution_count": 72,
   "metadata": {
    "colab": {
     "base_uri": "https://localhost:8080/"
    },
    "executionInfo": {
     "elapsed": 17,
     "status": "ok",
     "timestamp": 1675718695666,
     "user": {
      "displayName": "kid coconut",
      "userId": "06618246116934665843"
     },
     "user_tz": 300
    },
    "id": "Ah7zGnPsDe9a",
    "outputId": "e9af9046-c900-4644-c862-a4b0e6429e62"
   },
   "outputs": [
    {
     "data": {
      "text/plain": [
       "Provider                           0\n",
       "InscClaimAmtReimbursed             0\n",
       "DeductibleAmtPaid                  0\n",
       "AdmittedDays                       0\n",
       "RenalDiseaseIndicator              0\n",
       "NoOfMonths_PartACov                0\n",
       "NoOfMonths_PartBCov                0\n",
       "ChronicCond_Alzheimer              0\n",
       "ChronicCond_Heartfailure           0\n",
       "ChronicCond_KidneyDisease          0\n",
       "ChronicCond_Cancer                 0\n",
       "ChronicCond_ObstrPulmonary         0\n",
       "ChronicCond_Depression             0\n",
       "ChronicCond_Diabetes               0\n",
       "ChronicCond_IschemicHeart          0\n",
       "ChronicCond_Osteoporasis           0\n",
       "ChronicCond_rheumatoidarthritis    0\n",
       "ChronicCond_stroke                 0\n",
       "IPAnnualReimbursementAmt           0\n",
       "IPAnnualDeductibleAmt              0\n",
       "OPAnnualReimbursementAmt           0\n",
       "OPAnnualDeductibleAmt              0\n",
       "Age                                0\n",
       "DeadOrNot                          0\n",
       "Gender_2                           0\n",
       "Race_2                             0\n",
       "Race_3                             0\n",
       "Race_5                             0\n",
       "dtype: int64"
      ]
     },
     "execution_count": 72,
     "metadata": {},
     "output_type": "execute_result"
    }
   ],
   "source": [
    "test_final.isna().sum()"
   ]
  },
  {
   "cell_type": "code",
   "execution_count": 73,
   "metadata": {
    "colab": {
     "base_uri": "https://localhost:8080/"
    },
    "executionInfo": {
     "elapsed": 13,
     "status": "ok",
     "timestamp": 1675718695667,
     "user": {
      "displayName": "kid coconut",
      "userId": "06618246116934665843"
     },
     "user_tz": 300
    },
    "id": "rOexHaEEDhC3",
    "outputId": "d39a42be-7d76-4e7f-e1cc-afcd48f59e8e"
   },
   "outputs": [
    {
     "data": {
      "text/plain": [
       "0    345415\n",
       "1    212796\n",
       "Name: PotentialFraud, dtype: int64"
      ]
     },
     "execution_count": 73,
     "metadata": {},
     "output_type": "execute_result"
    }
   ],
   "source": [
    "train_final['PotentialFraud'].value_counts()"
   ]
  },
  {
   "cell_type": "markdown",
   "metadata": {
    "id": "Gs9XKBN3Iu9p"
   },
   "source": [
    "## Check for correlated columns"
   ]
  },
  {
   "cell_type": "code",
   "execution_count": 74,
   "metadata": {
    "colab": {
     "base_uri": "https://localhost:8080/"
    },
    "executionInfo": {
     "elapsed": 196,
     "status": "ok",
     "timestamp": 1675718695854,
     "user": {
      "displayName": "kid coconut",
      "userId": "06618246116934665843"
     },
     "user_tz": 300
    },
    "id": "ugbHyHrDJuJs",
    "outputId": "b0b15522-e726-4257-8c72-6281d50aab08"
   },
   "outputs": [
    {
     "data": {
      "text/plain": [
       "(558211, 29)"
      ]
     },
     "execution_count": 74,
     "metadata": {},
     "output_type": "execute_result"
    }
   ],
   "source": [
    "train_final.shape"
   ]
  },
  {
   "cell_type": "markdown",
   "metadata": {
    "id": "oP7p3bYU7T6R"
   },
   "source": []
  },
  {
   "cell_type": "code",
   "execution_count": 75,
   "metadata": {
    "colab": {
     "base_uri": "https://localhost:8080/"
    },
    "executionInfo": {
     "elapsed": 1959,
     "status": "ok",
     "timestamp": 1675718697802,
     "user": {
      "displayName": "kid coconut",
      "userId": "06618246116934665843"
     },
     "user_tz": 300
    },
    "id": "0lF2nktQD9x8",
    "outputId": "5823cfe4-3c7e-4c3d-88c2-41e93597d459"
   },
   "outputs": [
    {
     "name": "stderr",
     "output_type": "stream",
     "text": [
      "/tmp/ipykernel_3049/1962930306.py:1: FutureWarning: The default value of numeric_only in DataFrame.corr is deprecated. In a future version, it will default to False. Select only valid columns or specify the value of numeric_only to silence this warning.\n",
      "  cor = train_final.corr()\n"
     ]
    },
    {
     "data": {
      "text/plain": [
       "array([ True,  True,  True,  True,  True,  True,  True,  True,  True,\n",
       "        True,  True,  True,  True,  True,  True,  True,  True,  True,\n",
       "       False,  True,  True,  True,  True,  True,  True,  True])"
      ]
     },
     "execution_count": 75,
     "metadata": {},
     "output_type": "execute_result"
    }
   ],
   "source": [
    "cor = train_final.corr() \n",
    "\n",
    "keep_columns = np.full(cor.shape[0], True) \n",
    "\n",
    "for i in range(cor.shape[0]-1):\n",
    "  for j in range(i+1, cor.shape[0]-1):\n",
    "    if (np.abs(cor.iloc[i,j]) >= 0.8):\n",
    "      keep_columns[i] = False \n",
    "\n",
    "#selected_columns = train_final.columns[keep_columns]\n",
    "\n",
    "keep_columns"
   ]
  },
  {
   "cell_type": "code",
   "execution_count": 76,
   "metadata": {
    "colab": {
     "base_uri": "https://localhost:8080/"
    },
    "executionInfo": {
     "elapsed": 11,
     "status": "ok",
     "timestamp": 1675718697803,
     "user": {
      "displayName": "kid coconut",
      "userId": "06618246116934665843"
     },
     "user_tz": 300
    },
    "id": "WfhjvGKkI5H2",
    "outputId": "f58ae6fe-3aa9-496c-e9b7-f89cac0de477"
   },
   "outputs": [
    {
     "data": {
      "text/plain": [
       "Index(['Provider', 'InscClaimAmtReimbursed', 'DeductibleAmtPaid',\n",
       "       'AdmittedDays', 'RenalDiseaseIndicator', 'NoOfMonths_PartACov',\n",
       "       'NoOfMonths_PartBCov', 'ChronicCond_Alzheimer',\n",
       "       'ChronicCond_Heartfailure', 'ChronicCond_KidneyDisease',\n",
       "       'ChronicCond_Cancer', 'ChronicCond_ObstrPulmonary',\n",
       "       'ChronicCond_Depression', 'ChronicCond_Diabetes',\n",
       "       'ChronicCond_IschemicHeart', 'ChronicCond_Osteoporasis',\n",
       "       'ChronicCond_rheumatoidarthritis', 'ChronicCond_stroke',\n",
       "       'IPAnnualReimbursementAmt', 'IPAnnualDeductibleAmt',\n",
       "       'OPAnnualReimbursementAmt', 'OPAnnualDeductibleAmt', 'Age', 'DeadOrNot',\n",
       "       'Gender_2', 'Race_2', 'Race_3', 'Race_5'],\n",
       "      dtype='object')"
      ]
     },
     "execution_count": 76,
     "metadata": {},
     "output_type": "execute_result"
    }
   ],
   "source": [
    "test_final.columns"
   ]
  },
  {
   "cell_type": "code",
   "execution_count": 77,
   "metadata": {
    "colab": {
     "base_uri": "https://localhost:8080/"
    },
    "executionInfo": {
     "elapsed": 8,
     "status": "ok",
     "timestamp": 1675718697804,
     "user": {
      "displayName": "kid coconut",
      "userId": "06618246116934665843"
     },
     "user_tz": 300
    },
    "id": "zSvQNDhr3sfY",
    "outputId": "1de7d85f-d4d1-4aba-f8f2-8764a3f1498f"
   },
   "outputs": [
    {
     "data": {
      "text/plain": [
       "Index(['Provider', 'InscClaimAmtReimbursed', 'DeductibleAmtPaid',\n",
       "       'AdmittedDays', 'RenalDiseaseIndicator', 'NoOfMonths_PartACov',\n",
       "       'NoOfMonths_PartBCov', 'ChronicCond_Alzheimer',\n",
       "       'ChronicCond_Heartfailure', 'ChronicCond_KidneyDisease',\n",
       "       'ChronicCond_Cancer', 'ChronicCond_ObstrPulmonary',\n",
       "       'ChronicCond_Depression', 'ChronicCond_Diabetes',\n",
       "       'ChronicCond_IschemicHeart', 'ChronicCond_Osteoporasis',\n",
       "       'ChronicCond_rheumatoidarthritis', 'ChronicCond_stroke',\n",
       "       'IPAnnualReimbursementAmt', 'IPAnnualDeductibleAmt',\n",
       "       'OPAnnualReimbursementAmt', 'OPAnnualDeductibleAmt', 'Age', 'DeadOrNot',\n",
       "       'PotentialFraud', 'Gender_2', 'Race_2', 'Race_3', 'Race_5'],\n",
       "      dtype='object')"
      ]
     },
     "execution_count": 77,
     "metadata": {},
     "output_type": "execute_result"
    }
   ],
   "source": [
    "train_final.columns"
   ]
  },
  {
   "cell_type": "code",
   "execution_count": 78,
   "metadata": {
    "id": "oxps92Qd3sO-"
   },
   "outputs": [],
   "source": [
    "y = train_final.pop('PotentialFraud')\n",
    "X = train_final.drop(columns = ['Provider'], axis=1)"
   ]
  },
  {
   "cell_type": "code",
   "execution_count": 79,
   "metadata": {
    "colab": {
     "base_uri": "https://localhost:8080/"
    },
    "executionInfo": {
     "elapsed": 4,
     "status": "ok",
     "timestamp": 1675718697993,
     "user": {
      "displayName": "kid coconut",
      "userId": "06618246116934665843"
     },
     "user_tz": 300
    },
    "id": "esAyufNG4iCt",
    "outputId": "2ba69fa1-f2c1-4306-9490-36680bcdfc20"
   },
   "outputs": [
    {
     "data": {
      "text/plain": [
       "((558211, 27), (558211,))"
      ]
     },
     "execution_count": 79,
     "metadata": {},
     "output_type": "execute_result"
    }
   ],
   "source": [
    "X.shape, y.shape"
   ]
  },
  {
   "cell_type": "code",
   "execution_count": 90,
   "metadata": {},
   "outputs": [
    {
     "name": "stdout",
     "output_type": "stream",
     "text": [
      "Collecting matplotlib\n",
      "  Using cached matplotlib-3.6.3-cp310-cp310-manylinux_2_17_x86_64.manylinux2014_x86_64.whl (11.8 MB)\n",
      "Requirement already satisfied: python-dateutil>=2.7 in /home/kidcoconut/miniconda3/envs/nbk_capstone/lib/python3.10/site-packages (from matplotlib) (2.8.2)\n",
      "Requirement already satisfied: numpy>=1.19 in /home/kidcoconut/miniconda3/envs/nbk_capstone/lib/python3.10/site-packages (from matplotlib) (1.24.1)\n",
      "Collecting fonttools>=4.22.0\n",
      "  Using cached fonttools-4.38.0-py3-none-any.whl (965 kB)\n",
      "Collecting cycler>=0.10\n",
      "  Using cached cycler-0.11.0-py3-none-any.whl (6.4 kB)\n",
      "Requirement already satisfied: packaging>=20.0 in /home/kidcoconut/miniconda3/envs/nbk_capstone/lib/python3.10/site-packages (from matplotlib) (23.0)\n",
      "Requirement already satisfied: pillow>=6.2.0 in /home/kidcoconut/miniconda3/envs/nbk_capstone/lib/python3.10/site-packages (from matplotlib) (9.4.0)\n",
      "Collecting kiwisolver>=1.0.1\n",
      "  Using cached kiwisolver-1.4.4-cp310-cp310-manylinux_2_12_x86_64.manylinux2010_x86_64.whl (1.6 MB)\n",
      "Collecting pyparsing>=2.2.1\n",
      "  Using cached pyparsing-3.0.9-py3-none-any.whl (98 kB)\n",
      "Collecting contourpy>=1.0.1\n",
      "  Using cached contourpy-1.0.7-cp310-cp310-manylinux_2_17_x86_64.manylinux2014_x86_64.whl (300 kB)\n",
      "Requirement already satisfied: six>=1.5 in /home/kidcoconut/miniconda3/envs/nbk_capstone/lib/python3.10/site-packages (from python-dateutil>=2.7->matplotlib) (1.16.0)\n",
      "Installing collected packages: pyparsing, kiwisolver, fonttools, cycler, contourpy, matplotlib\n",
      "Successfully installed contourpy-1.0.7 cycler-0.11.0 fonttools-4.38.0 kiwisolver-1.4.4 matplotlib-3.6.3 pyparsing-3.0.9\n"
     ]
    }
   ],
   "source": [
    "#!pip install matplotlib"
   ]
  },
  {
   "cell_type": "code",
   "execution_count": 80,
   "metadata": {
    "id": "yjIO0NAS4phO"
   },
   "outputs": [],
   "source": [
    "from sklearn.decomposition import PCA \n",
    "from sklearn.preprocessing import StandardScaler\n",
    "import matplotlib.pyplot as plt"
   ]
  },
  {
   "cell_type": "code",
   "execution_count": 81,
   "metadata": {},
   "outputs": [
    {
     "name": "stdout",
     "output_type": "stream",
     "text": [
      "scikit-learn                      1.1.1\n"
     ]
    }
   ],
   "source": [
    "!pip list | grep scikit"
   ]
  },
  {
   "cell_type": "code",
   "execution_count": 82,
   "metadata": {
    "id": "-s2Sgd9PsGAm"
   },
   "outputs": [
    {
     "data": {
      "text/plain": [
       "(558211, 27)"
      ]
     },
     "execution_count": 82,
     "metadata": {},
     "output_type": "execute_result"
    }
   ],
   "source": [
    "X.shape"
   ]
  },
  {
   "cell_type": "code",
   "execution_count": 83,
   "metadata": {
    "id": "cXv15EYh42nw"
   },
   "outputs": [],
   "source": [
    "#apply standard scaling\n",
    "\n",
    "scaler = StandardScaler()\n",
    "sclObj = scaler.fit(X)\n",
    "X_scaled = scaler.fit_transform(X) \n",
    "\n",
    "#--- export pkl file for claims level scaling\n",
    "m_strSclPath = pth_binModels + \"claims_stdScaler_v1.1.1_27cols.pkl\"\n",
    "with open(m_strSclPath, 'wb') as filPkl:\n",
    "  pickle.dump(sclObj, filPkl)\n",
    "\n"
   ]
  },
  {
   "cell_type": "code",
   "execution_count": 85,
   "metadata": {},
   "outputs": [],
   "source": [
    "\n",
    "pca = PCA(n_components=27, whiten=True).fit(X_scaled)\n",
    "#X_reduced = pca.transform(X_scaled)\n",
    "X_pca = pca.transform(X_scaled)"
   ]
  },
  {
   "cell_type": "code",
   "execution_count": 86,
   "metadata": {
    "colab": {
     "base_uri": "https://localhost:8080/"
    },
    "executionInfo": {
     "elapsed": 6,
     "status": "ok",
     "timestamp": 1675724220702,
     "user": {
      "displayName": "kid coconut",
      "userId": "06618246116934665843"
     },
     "user_tz": 300
    },
    "id": "Oh2ZiEY635Nm",
    "outputId": "4052b036-d637-4801-eb6c-c69dc30141f2"
   },
   "outputs": [
    {
     "data": {
      "text/plain": [
       "Index(['InscClaimAmtReimbursed', 'DeductibleAmtPaid', 'AdmittedDays',\n",
       "       'RenalDiseaseIndicator', 'NoOfMonths_PartACov', 'NoOfMonths_PartBCov',\n",
       "       'ChronicCond_Alzheimer', 'ChronicCond_Heartfailure',\n",
       "       'ChronicCond_KidneyDisease', 'ChronicCond_Cancer',\n",
       "       'ChronicCond_ObstrPulmonary', 'ChronicCond_Depression',\n",
       "       'ChronicCond_Diabetes', 'ChronicCond_IschemicHeart',\n",
       "       'ChronicCond_Osteoporasis', 'ChronicCond_rheumatoidarthritis',\n",
       "       'ChronicCond_stroke', 'IPAnnualReimbursementAmt',\n",
       "       'IPAnnualDeductibleAmt', 'OPAnnualReimbursementAmt',\n",
       "       'OPAnnualDeductibleAmt', 'Age', 'DeadOrNot', 'Gender_2', 'Race_2',\n",
       "       'Race_3', 'Race_5'],\n",
       "      dtype='object')"
      ]
     },
     "execution_count": 86,
     "metadata": {},
     "output_type": "execute_result"
    }
   ],
   "source": [
    "X.columns"
   ]
  },
  {
   "cell_type": "code",
   "execution_count": 87,
   "metadata": {
    "id": "fNxfMhNPzfUy"
   },
   "outputs": [
    {
     "data": {
      "text/plain": [
       "(pandas.core.frame.DataFrame, numpy.ndarray, numpy.ndarray)"
      ]
     },
     "execution_count": 87,
     "metadata": {},
     "output_type": "execute_result"
    }
   ],
   "source": [
    "type(X), type(X_scaled), type(X_pca)"
   ]
  },
  {
   "cell_type": "code",
   "execution_count": 88,
   "metadata": {
    "id": "9WwbwtAESBWB"
   },
   "outputs": [
    {
     "name": "stdout",
     "output_type": "stream",
     "text": [
      "PCA explained variance: [0.138 0.088 0.06  0.045 0.043 0.04  0.039 0.038 0.037 0.037 0.037 0.035\n",
      " 0.034 0.033 0.032 0.032 0.03  0.029 0.029 0.029 0.026 0.026 0.019 0.017\n",
      " 0.011 0.009 0.006]\n"
     ]
    }
   ],
   "source": [
    "print(f'PCA explained variance: {np.round(pca.explained_variance_ratio_, 3)}')"
   ]
  },
  {
   "cell_type": "code",
   "execution_count": 96,
   "metadata": {},
   "outputs": [
    {
     "data": {
      "text/plain": [
       "((558211, 27), (558211, 27))"
      ]
     },
     "execution_count": 96,
     "metadata": {},
     "output_type": "execute_result"
    }
   ],
   "source": [
    "X_scaled.shape,  X_pca.shape "
   ]
  },
  {
   "cell_type": "code",
   "execution_count": 97,
   "metadata": {
    "id": "tdqw8Gg9uLSM"
   },
   "outputs": [],
   "source": [
    "#--- export pkl file for pca kmeans\n",
    "m_strPcaPath = pth_binModels + \"claims_pca_v1.1.1_.pkl\"\n",
    "with open(m_strPcaPath, 'wb') as filPkl:\n",
    "  pickle.dump(pca, filPkl)"
   ]
  },
  {
   "cell_type": "markdown",
   "metadata": {
    "id": "0j9n5zNp65X3"
   },
   "source": [
    "# K-means clustering"
   ]
  },
  {
   "cell_type": "code",
   "execution_count": 98,
   "metadata": {
    "id": "29KONpyi68WJ"
   },
   "outputs": [],
   "source": [
    "from sklearn.cluster import KMeans"
   ]
  },
  {
   "cell_type": "code",
   "execution_count": 102,
   "metadata": {
    "id": "6tdnulzm7AiQ"
   },
   "outputs": [],
   "source": [
    "def visualize_elbow(X, ks):\n",
    "    fig, ax = plt.subplots()\n",
    "    inertias = []\n",
    "    for k in ks:\n",
    "        kmeanModel = KMeans(n_clusters=k, random_state=0).fit(X)\n",
    "        kmeanModel.fit(X)\n",
    "        inertias.append(kmeanModel.inertia_)\n",
    "    plt.plot(ks, inertias)\n",
    "    plt.xticks(ks)\n",
    "    plt.xlabel('Number of clusters')\n",
    "    plt.ylabel('Inertia')\n",
    "    plt.title('Elbow plot')"
   ]
  },
  {
   "cell_type": "code",
   "execution_count": null,
   "metadata": {
    "colab": {
     "base_uri": "https://localhost:8080/",
     "height": 295
    },
    "executionInfo": {
     "elapsed": 266585,
     "status": "ok",
     "timestamp": 1675469694128,
     "user": {
      "displayName": "kid coconut",
      "userId": "06618246116934665843"
     },
     "user_tz": 300
    },
    "id": "eDL29y1M7REW",
    "outputId": "1bcd314b-9201-476b-e41c-354c2541c548"
   },
   "outputs": [],
   "source": [
    "K = range(1, 10)\n",
    "visualize_elbow(X, K)"
   ]
  },
  {
   "cell_type": "code",
   "execution_count": 99,
   "metadata": {},
   "outputs": [
    {
     "data": {
      "text/plain": [
       "(558211, 27)"
      ]
     },
     "execution_count": 99,
     "metadata": {},
     "output_type": "execute_result"
    }
   ],
   "source": [
    "X.shape"
   ]
  },
  {
   "cell_type": "code",
   "execution_count": 101,
   "metadata": {},
   "outputs": [],
   "source": [
    "\n",
    "\n",
    "#--- convert X_scaled from numpy array to dataframe\n",
    "ary27cols = ['InscClaimAmtReimbursed', 'DeductibleAmtPaid', \n",
    "       'AdmittedDays', 'RenalDiseaseIndicator', 'NoOfMonths_PartACov', \n",
    "       'NoOfMonths_PartBCov', 'ChronicCond_Alzheimer', \n",
    "       'ChronicCond_Heartfailure', 'ChronicCond_KidneyDisease', \n",
    "       'ChronicCond_Cancer', 'ChronicCond_ObstrPulmonary', \n",
    "       'ChronicCond_Depression', 'ChronicCond_Diabetes', \n",
    "       'ChronicCond_IschemicHeart', 'ChronicCond_Osteoporasis', \n",
    "       'ChronicCond_rheumatoidarthritis', 'ChronicCond_stroke', \n",
    "       'IPAnnualReimbursementAmt', 'IPAnnualDeductibleAmt', \n",
    "       'OPAnnualReimbursementAmt', 'OPAnnualDeductibleAmt', 'Age', \n",
    "       'DeadOrNot', 'Gender_2', 'Race_2', 'Race_3', 'Race_5']\n",
    "pdfX_scaled = pd.DataFrame(X_scaled, columns=ary27cols)\n"
   ]
  },
  {
   "cell_type": "code",
   "execution_count": 102,
   "metadata": {
    "id": "hqTz57rb7UGm"
   },
   "outputs": [],
   "source": [
    "#--- BUG?   X_reduced is overwritten as a reduced column set of X\n",
    "#---        X is NOT scaled!  Should use X_scaled instead\n",
    "ary22cols = ['InscClaimAmtReimbursed', 'DeductibleAmtPaid', \n",
    "       'AdmittedDays', 'RenalDiseaseIndicator', 'NoOfMonths_PartACov', \n",
    "       'NoOfMonths_PartBCov', 'ChronicCond_Alzheimer', \n",
    "       'ChronicCond_Heartfailure', 'ChronicCond_KidneyDisease', \n",
    "       'ChronicCond_Cancer', 'ChronicCond_ObstrPulmonary', \n",
    "       'ChronicCond_Depression', 'ChronicCond_Diabetes', \n",
    "       'ChronicCond_IschemicHeart', 'ChronicCond_Osteoporasis', \n",
    "       'ChronicCond_rheumatoidarthritis', 'ChronicCond_stroke', \n",
    "       'IPAnnualReimbursementAmt', 'IPAnnualDeductibleAmt', \n",
    "       'OPAnnualReimbursementAmt', 'OPAnnualDeductibleAmt', 'Age']\n",
    "\n",
    "#X_reduced = X_scaled[['InscClaimAmtReimbursed', 'DeductibleAmtPaid',\n",
    "#X_reduced = X[ary22cols]\n",
    "X_reduced = pdfX_scaled[ary22cols]"
   ]
  },
  {
   "cell_type": "code",
   "execution_count": 104,
   "metadata": {
    "id": "_O_qovrA9mJp"
   },
   "outputs": [],
   "source": [
    "from sklearn.metrics import silhouette_samples, silhouette_score"
   ]
  },
  {
   "cell_type": "code",
   "execution_count": null,
   "metadata": {
    "colab": {
     "base_uri": "https://localhost:8080/",
     "height": 433
    },
    "executionInfo": {
     "elapsed": 758206,
     "status": "error",
     "timestamp": 1675471131749,
     "user": {
      "displayName": "kid coconut",
      "userId": "06618246116934665843"
     },
     "user_tz": 300
    },
    "id": "m20m_9_19pSQ",
    "outputId": "ff345ba6-1dfc-440b-b156-b705914b6ee2"
   },
   "outputs": [],
   "source": [
    "\n",
    "#--- take sample, set random state and run silhouette against this\n",
    "X_silh = X_reduced.sample(n=10000)\n",
    "\n",
    "range_n_clusters = [2,3,4,5,6,7,8]\n",
    "for num_clusters in range_n_clusters:\n",
    "  kmeans = KMeans(n_clusters=num_clusters, max_iter=50, random_state=2022)\n",
    "  kmeans.fit(X_silh)\n",
    "\n",
    "  cluster_labels = kmeans.labels_\n",
    "  silhouette_avg = silhouette_score(X_reduced, cluster_labels)\n",
    "  print(\"For n_clusters={0}, the silhouette score is {1}\".format(num_clusters, silhouette_avg))"
   ]
  },
  {
   "cell_type": "code",
   "execution_count": 106,
   "metadata": {
    "colab": {
     "base_uri": "https://localhost:8080/"
    },
    "executionInfo": {
     "elapsed": 9164,
     "status": "ok",
     "timestamp": 1675471386811,
     "user": {
      "displayName": "kid coconut",
      "userId": "06618246116934665843"
     },
     "user_tz": 300
    },
    "id": "EAtx5JaQ9xSG",
    "outputId": "cc181693-343a-43e4-ee6a-f820702d48b6"
   },
   "outputs": [
    {
     "data": {
      "text/html": [
       "<style>#sk-container-id-1 {color: black;background-color: white;}#sk-container-id-1 pre{padding: 0;}#sk-container-id-1 div.sk-toggleable {background-color: white;}#sk-container-id-1 label.sk-toggleable__label {cursor: pointer;display: block;width: 100%;margin-bottom: 0;padding: 0.3em;box-sizing: border-box;text-align: center;}#sk-container-id-1 label.sk-toggleable__label-arrow:before {content: \"▸\";float: left;margin-right: 0.25em;color: #696969;}#sk-container-id-1 label.sk-toggleable__label-arrow:hover:before {color: black;}#sk-container-id-1 div.sk-estimator:hover label.sk-toggleable__label-arrow:before {color: black;}#sk-container-id-1 div.sk-toggleable__content {max-height: 0;max-width: 0;overflow: hidden;text-align: left;background-color: #f0f8ff;}#sk-container-id-1 div.sk-toggleable__content pre {margin: 0.2em;color: black;border-radius: 0.25em;background-color: #f0f8ff;}#sk-container-id-1 input.sk-toggleable__control:checked~div.sk-toggleable__content {max-height: 200px;max-width: 100%;overflow: auto;}#sk-container-id-1 input.sk-toggleable__control:checked~label.sk-toggleable__label-arrow:before {content: \"▾\";}#sk-container-id-1 div.sk-estimator input.sk-toggleable__control:checked~label.sk-toggleable__label {background-color: #d4ebff;}#sk-container-id-1 div.sk-label input.sk-toggleable__control:checked~label.sk-toggleable__label {background-color: #d4ebff;}#sk-container-id-1 input.sk-hidden--visually {border: 0;clip: rect(1px 1px 1px 1px);clip: rect(1px, 1px, 1px, 1px);height: 1px;margin: -1px;overflow: hidden;padding: 0;position: absolute;width: 1px;}#sk-container-id-1 div.sk-estimator {font-family: monospace;background-color: #f0f8ff;border: 1px dotted black;border-radius: 0.25em;box-sizing: border-box;margin-bottom: 0.5em;}#sk-container-id-1 div.sk-estimator:hover {background-color: #d4ebff;}#sk-container-id-1 div.sk-parallel-item::after {content: \"\";width: 100%;border-bottom: 1px solid gray;flex-grow: 1;}#sk-container-id-1 div.sk-label:hover label.sk-toggleable__label {background-color: #d4ebff;}#sk-container-id-1 div.sk-serial::before {content: \"\";position: absolute;border-left: 1px solid gray;box-sizing: border-box;top: 0;bottom: 0;left: 50%;z-index: 0;}#sk-container-id-1 div.sk-serial {display: flex;flex-direction: column;align-items: center;background-color: white;padding-right: 0.2em;padding-left: 0.2em;position: relative;}#sk-container-id-1 div.sk-item {position: relative;z-index: 1;}#sk-container-id-1 div.sk-parallel {display: flex;align-items: stretch;justify-content: center;background-color: white;position: relative;}#sk-container-id-1 div.sk-item::before, #sk-container-id-1 div.sk-parallel-item::before {content: \"\";position: absolute;border-left: 1px solid gray;box-sizing: border-box;top: 0;bottom: 0;left: 50%;z-index: -1;}#sk-container-id-1 div.sk-parallel-item {display: flex;flex-direction: column;z-index: 1;position: relative;background-color: white;}#sk-container-id-1 div.sk-parallel-item:first-child::after {align-self: flex-end;width: 50%;}#sk-container-id-1 div.sk-parallel-item:last-child::after {align-self: flex-start;width: 50%;}#sk-container-id-1 div.sk-parallel-item:only-child::after {width: 0;}#sk-container-id-1 div.sk-dashed-wrapped {border: 1px dashed gray;margin: 0 0.4em 0.5em 0.4em;box-sizing: border-box;padding-bottom: 0.4em;background-color: white;}#sk-container-id-1 div.sk-label label {font-family: monospace;font-weight: bold;display: inline-block;line-height: 1.2em;}#sk-container-id-1 div.sk-label-container {text-align: center;}#sk-container-id-1 div.sk-container {/* jupyter's `normalize.less` sets `[hidden] { display: none; }` but bootstrap.min.css set `[hidden] { display: none !important; }` so we also need the `!important` here to be able to override the default hidden behavior on the sphinx rendered scikit-learn.org. See: https://github.com/scikit-learn/scikit-learn/issues/21755 */display: inline-block !important;position: relative;}#sk-container-id-1 div.sk-text-repr-fallback {display: none;}</style><div id=\"sk-container-id-1\" class=\"sk-top-container\"><div class=\"sk-text-repr-fallback\"><pre>KMeans(max_iter=50, n_clusters=3, random_state=2022)</pre><b>In a Jupyter environment, please rerun this cell to show the HTML representation or trust the notebook. <br />On GitHub, the HTML representation is unable to render, please try loading this page with nbviewer.org.</b></div><div class=\"sk-container\" hidden><div class=\"sk-item\"><div class=\"sk-estimator sk-toggleable\"><input class=\"sk-toggleable__control sk-hidden--visually\" id=\"sk-estimator-id-1\" type=\"checkbox\" checked><label for=\"sk-estimator-id-1\" class=\"sk-toggleable__label sk-toggleable__label-arrow\">KMeans</label><div class=\"sk-toggleable__content\"><pre>KMeans(max_iter=50, n_clusters=3, random_state=2022)</pre></div></div></div></div></div>"
      ],
      "text/plain": [
       "KMeans(max_iter=50, n_clusters=3, random_state=2022)"
      ]
     },
     "execution_count": 106,
     "metadata": {},
     "output_type": "execute_result"
    }
   ],
   "source": [
    "\n",
    "\n",
    "#--- generate KMeans on 3 clusters \n",
    "km = KMeans(n_clusters=3, max_iter=50, random_state=2022)\n",
    "km.fit(X_reduced)"
   ]
  },
  {
   "cell_type": "code",
   "execution_count": 107,
   "metadata": {
    "id": "BYyM8KR3w1TU"
   },
   "outputs": [],
   "source": [
    "\n",
    "\n",
    "#--- export pkl file for kmeans\n",
    "m_strKmeansPath = pth_binModels + \"claims_kmn_v1.1.1.pkl\"\n",
    "with open(m_strKmeansPath, 'wb') as filPkl:\n",
    "  pickle.dump(km, filPkl)"
   ]
  },
  {
   "cell_type": "code",
   "execution_count": 108,
   "metadata": {
    "colab": {
     "base_uri": "https://localhost:8080/"
    },
    "id": "un1F9f-0I3EA",
    "outputId": "614de0cb-377f-49c7-854d-d3d5e4e8c8aa"
   },
   "outputs": [
    {
     "name": "stdout",
     "output_type": "stream",
     "text": [
      "Cluster 0\n",
      "Center: [ 2.39834597  3.54944016  2.69753837  0.15922457 -0.01712115 -0.01921468\n",
      "  0.21242977  0.27355763  0.39168702  0.11349358  0.36230027  0.13809479\n",
      "  0.21741891  0.23251636  0.075788    0.10830251  0.22513452  1.05781376\n",
      "  1.21140822 -0.09641148 -0.12136136  0.02762291]\n",
      "Size: 39973\n",
      "Cluster 1\n",
      "Center: [-0.16498013 -0.2756735  -0.20678946  0.50616846  0.02928922  0.03572619\n",
      "  0.37891145  0.54934652  0.75168049  0.21027373  0.50909834  0.36479773\n",
      "  0.506143    0.42179049  0.20517263  0.30468394  0.26964406  0.28276294\n",
      "  0.27113126  0.35876803  0.37551855  0.0718642 ]\n",
      "Size: 216016\n",
      "Cluster 2\n",
      "Center: [-0.19925723 -0.27239836 -0.20896129 -0.38236253 -0.01864422 -0.02296235\n",
      " -0.29855624 -0.42829714 -0.58834299 -0.16510066 -0.4112974  -0.27865559\n",
      " -0.39003674 -0.33181949 -0.15647528 -0.23180681 -0.22223786 -0.34166971\n",
      " -0.35366953 -0.24335336 -0.2520123  -0.05494975]\n",
      "Size: 302222\n"
     ]
    }
   ],
   "source": [
    "# Size of each cluster\n",
    "for i in range(len(km.cluster_centers_)):\n",
    "  print(\"Cluster\", i)\n",
    "  print(\"Center:\", km.cluster_centers_[i])\n",
    "  print(\"Size:\", sum(km.labels_ == i))"
   ]
  },
  {
   "cell_type": "code",
   "execution_count": 109,
   "metadata": {
    "id": "nShcyUZwI-db"
   },
   "outputs": [],
   "source": [
    "train_final['cluster_pca'] = km.labels_"
   ]
  },
  {
   "cell_type": "code",
   "execution_count": null,
   "metadata": {
    "colab": {
     "base_uri": "https://localhost:8080/",
     "height": 266
    },
    "id": "UObEFlRnJyzF",
    "outputId": "5fc37e94-8bd0-479d-a2b8-c29e34b40f12"
   },
   "outputs": [
    {
     "data": {
      "text/html": [
       "\n",
       "  <div id=\"df-7436097d-09f2-4936-8689-90605622ec2a\">\n",
       "    <div class=\"colab-df-container\">\n",
       "      <div>\n",
       "<style scoped>\n",
       "    .dataframe tbody tr th:only-of-type {\n",
       "        vertical-align: middle;\n",
       "    }\n",
       "\n",
       "    .dataframe tbody tr th {\n",
       "        vertical-align: top;\n",
       "    }\n",
       "\n",
       "    .dataframe thead th {\n",
       "        text-align: right;\n",
       "    }\n",
       "</style>\n",
       "<table border=\"1\" class=\"dataframe\">\n",
       "  <thead>\n",
       "    <tr style=\"text-align: right;\">\n",
       "      <th></th>\n",
       "      <th>Provider</th>\n",
       "      <th>InscClaimAmtReimbursed</th>\n",
       "      <th>DeductibleAmtPaid</th>\n",
       "      <th>AdmittedDays</th>\n",
       "      <th>RenalDiseaseIndicator</th>\n",
       "      <th>NoOfMonths_PartACov</th>\n",
       "      <th>NoOfMonths_PartBCov</th>\n",
       "      <th>ChronicCond_Alzheimer</th>\n",
       "      <th>ChronicCond_Heartfailure</th>\n",
       "      <th>ChronicCond_KidneyDisease</th>\n",
       "      <th>ChronicCond_Cancer</th>\n",
       "      <th>ChronicCond_ObstrPulmonary</th>\n",
       "      <th>ChronicCond_Depression</th>\n",
       "      <th>ChronicCond_Diabetes</th>\n",
       "      <th>ChronicCond_IschemicHeart</th>\n",
       "      <th>ChronicCond_Osteoporasis</th>\n",
       "      <th>ChronicCond_rheumatoidarthritis</th>\n",
       "      <th>ChronicCond_stroke</th>\n",
       "      <th>IPAnnualReimbursementAmt</th>\n",
       "      <th>IPAnnualDeductibleAmt</th>\n",
       "      <th>OPAnnualReimbursementAmt</th>\n",
       "      <th>OPAnnualDeductibleAmt</th>\n",
       "      <th>Age</th>\n",
       "      <th>DeadOrNot</th>\n",
       "      <th>Gender_2</th>\n",
       "      <th>Race_2</th>\n",
       "      <th>Race_3</th>\n",
       "      <th>Race_5</th>\n",
       "      <th>cluster_pca</th>\n",
       "    </tr>\n",
       "  </thead>\n",
       "  <tbody>\n",
       "    <tr>\n",
       "      <th>0</th>\n",
       "      <td>PRV55912</td>\n",
       "      <td>26000</td>\n",
       "      <td>1068.0</td>\n",
       "      <td>7.0</td>\n",
       "      <td>0</td>\n",
       "      <td>12</td>\n",
       "      <td>12</td>\n",
       "      <td>1</td>\n",
       "      <td>0</td>\n",
       "      <td>1</td>\n",
       "      <td>0</td>\n",
       "      <td>0</td>\n",
       "      <td>1</td>\n",
       "      <td>1</td>\n",
       "      <td>1</td>\n",
       "      <td>0</td>\n",
       "      <td>1</td>\n",
       "      <td>1</td>\n",
       "      <td>36000</td>\n",
       "      <td>3204</td>\n",
       "      <td>60</td>\n",
       "      <td>70</td>\n",
       "      <td>77.0</td>\n",
       "      <td>0.0</td>\n",
       "      <td>0</td>\n",
       "      <td>0</td>\n",
       "      <td>0</td>\n",
       "      <td>0</td>\n",
       "      <td>2</td>\n",
       "    </tr>\n",
       "    <tr>\n",
       "      <th>1</th>\n",
       "      <td>PRV55912</td>\n",
       "      <td>50</td>\n",
       "      <td>0.0</td>\n",
       "      <td>0.0</td>\n",
       "      <td>0</td>\n",
       "      <td>12</td>\n",
       "      <td>12</td>\n",
       "      <td>1</td>\n",
       "      <td>1</td>\n",
       "      <td>1</td>\n",
       "      <td>0</td>\n",
       "      <td>0</td>\n",
       "      <td>0</td>\n",
       "      <td>0</td>\n",
       "      <td>1</td>\n",
       "      <td>0</td>\n",
       "      <td>0</td>\n",
       "      <td>0</td>\n",
       "      <td>24000</td>\n",
       "      <td>2136</td>\n",
       "      <td>450</td>\n",
       "      <td>200</td>\n",
       "      <td>88.0</td>\n",
       "      <td>0.0</td>\n",
       "      <td>0</td>\n",
       "      <td>0</td>\n",
       "      <td>0</td>\n",
       "      <td>0</td>\n",
       "      <td>1</td>\n",
       "    </tr>\n",
       "    <tr>\n",
       "      <th>2</th>\n",
       "      <td>PRV55912</td>\n",
       "      <td>19000</td>\n",
       "      <td>1068.0</td>\n",
       "      <td>13.0</td>\n",
       "      <td>0</td>\n",
       "      <td>12</td>\n",
       "      <td>12</td>\n",
       "      <td>1</td>\n",
       "      <td>1</td>\n",
       "      <td>1</td>\n",
       "      <td>0</td>\n",
       "      <td>1</td>\n",
       "      <td>0</td>\n",
       "      <td>0</td>\n",
       "      <td>1</td>\n",
       "      <td>0</td>\n",
       "      <td>0</td>\n",
       "      <td>0</td>\n",
       "      <td>19000</td>\n",
       "      <td>1068</td>\n",
       "      <td>100</td>\n",
       "      <td>20</td>\n",
       "      <td>106.0</td>\n",
       "      <td>0.0</td>\n",
       "      <td>1</td>\n",
       "      <td>0</td>\n",
       "      <td>0</td>\n",
       "      <td>0</td>\n",
       "      <td>1</td>\n",
       "    </tr>\n",
       "    <tr>\n",
       "      <th>3</th>\n",
       "      <td>PRV55912</td>\n",
       "      <td>17000</td>\n",
       "      <td>1068.0</td>\n",
       "      <td>19.0</td>\n",
       "      <td>0</td>\n",
       "      <td>12</td>\n",
       "      <td>12</td>\n",
       "      <td>0</td>\n",
       "      <td>0</td>\n",
       "      <td>0</td>\n",
       "      <td>0</td>\n",
       "      <td>0</td>\n",
       "      <td>0</td>\n",
       "      <td>0</td>\n",
       "      <td>1</td>\n",
       "      <td>1</td>\n",
       "      <td>0</td>\n",
       "      <td>0</td>\n",
       "      <td>17000</td>\n",
       "      <td>1068</td>\n",
       "      <td>1050</td>\n",
       "      <td>540</td>\n",
       "      <td>97.0</td>\n",
       "      <td>0.0</td>\n",
       "      <td>0</td>\n",
       "      <td>0</td>\n",
       "      <td>0</td>\n",
       "      <td>0</td>\n",
       "      <td>1</td>\n",
       "    </tr>\n",
       "    <tr>\n",
       "      <th>4</th>\n",
       "      <td>PRV55912</td>\n",
       "      <td>13000</td>\n",
       "      <td>1068.0</td>\n",
       "      <td>5.0</td>\n",
       "      <td>0</td>\n",
       "      <td>12</td>\n",
       "      <td>12</td>\n",
       "      <td>0</td>\n",
       "      <td>1</td>\n",
       "      <td>0</td>\n",
       "      <td>0</td>\n",
       "      <td>1</td>\n",
       "      <td>0</td>\n",
       "      <td>1</td>\n",
       "      <td>1</td>\n",
       "      <td>1</td>\n",
       "      <td>1</td>\n",
       "      <td>0</td>\n",
       "      <td>27000</td>\n",
       "      <td>2136</td>\n",
       "      <td>450</td>\n",
       "      <td>160</td>\n",
       "      <td>89.0</td>\n",
       "      <td>0.0</td>\n",
       "      <td>1</td>\n",
       "      <td>0</td>\n",
       "      <td>0</td>\n",
       "      <td>0</td>\n",
       "      <td>1</td>\n",
       "    </tr>\n",
       "  </tbody>\n",
       "</table>\n",
       "</div>\n",
       "      <button class=\"colab-df-convert\" onclick=\"convertToInteractive('df-7436097d-09f2-4936-8689-90605622ec2a')\"\n",
       "              title=\"Convert this dataframe to an interactive table.\"\n",
       "              style=\"display:none;\">\n",
       "        \n",
       "  <svg xmlns=\"http://www.w3.org/2000/svg\" height=\"24px\"viewBox=\"0 0 24 24\"\n",
       "       width=\"24px\">\n",
       "    <path d=\"M0 0h24v24H0V0z\" fill=\"none\"/>\n",
       "    <path d=\"M18.56 5.44l.94 2.06.94-2.06 2.06-.94-2.06-.94-.94-2.06-.94 2.06-2.06.94zm-11 1L8.5 8.5l.94-2.06 2.06-.94-2.06-.94L8.5 2.5l-.94 2.06-2.06.94zm10 10l.94 2.06.94-2.06 2.06-.94-2.06-.94-.94-2.06-.94 2.06-2.06.94z\"/><path d=\"M17.41 7.96l-1.37-1.37c-.4-.4-.92-.59-1.43-.59-.52 0-1.04.2-1.43.59L10.3 9.45l-7.72 7.72c-.78.78-.78 2.05 0 2.83L4 21.41c.39.39.9.59 1.41.59.51 0 1.02-.2 1.41-.59l7.78-7.78 2.81-2.81c.8-.78.8-2.07 0-2.86zM5.41 20L4 18.59l7.72-7.72 1.47 1.35L5.41 20z\"/>\n",
       "  </svg>\n",
       "      </button>\n",
       "      \n",
       "  <style>\n",
       "    .colab-df-container {\n",
       "      display:flex;\n",
       "      flex-wrap:wrap;\n",
       "      gap: 12px;\n",
       "    }\n",
       "\n",
       "    .colab-df-convert {\n",
       "      background-color: #E8F0FE;\n",
       "      border: none;\n",
       "      border-radius: 50%;\n",
       "      cursor: pointer;\n",
       "      display: none;\n",
       "      fill: #1967D2;\n",
       "      height: 32px;\n",
       "      padding: 0 0 0 0;\n",
       "      width: 32px;\n",
       "    }\n",
       "\n",
       "    .colab-df-convert:hover {\n",
       "      background-color: #E2EBFA;\n",
       "      box-shadow: 0px 1px 2px rgba(60, 64, 67, 0.3), 0px 1px 3px 1px rgba(60, 64, 67, 0.15);\n",
       "      fill: #174EA6;\n",
       "    }\n",
       "\n",
       "    [theme=dark] .colab-df-convert {\n",
       "      background-color: #3B4455;\n",
       "      fill: #D2E3FC;\n",
       "    }\n",
       "\n",
       "    [theme=dark] .colab-df-convert:hover {\n",
       "      background-color: #434B5C;\n",
       "      box-shadow: 0px 1px 3px 1px rgba(0, 0, 0, 0.15);\n",
       "      filter: drop-shadow(0px 1px 2px rgba(0, 0, 0, 0.3));\n",
       "      fill: #FFFFFF;\n",
       "    }\n",
       "  </style>\n",
       "\n",
       "      <script>\n",
       "        const buttonEl =\n",
       "          document.querySelector('#df-7436097d-09f2-4936-8689-90605622ec2a button.colab-df-convert');\n",
       "        buttonEl.style.display =\n",
       "          google.colab.kernel.accessAllowed ? 'block' : 'none';\n",
       "\n",
       "        async function convertToInteractive(key) {\n",
       "          const element = document.querySelector('#df-7436097d-09f2-4936-8689-90605622ec2a');\n",
       "          const dataTable =\n",
       "            await google.colab.kernel.invokeFunction('convertToInteractive',\n",
       "                                                     [key], {});\n",
       "          if (!dataTable) return;\n",
       "\n",
       "          const docLinkHtml = 'Like what you see? Visit the ' +\n",
       "            '<a target=\"_blank\" href=https://colab.research.google.com/notebooks/data_table.ipynb>data table notebook</a>'\n",
       "            + ' to learn more about interactive tables.';\n",
       "          element.innerHTML = '';\n",
       "          dataTable['output_type'] = 'display_data';\n",
       "          await google.colab.output.renderOutput(dataTable, element);\n",
       "          const docLink = document.createElement('div');\n",
       "          docLink.innerHTML = docLinkHtml;\n",
       "          element.appendChild(docLink);\n",
       "        }\n",
       "      </script>\n",
       "    </div>\n",
       "  </div>\n",
       "  "
      ],
      "text/plain": [
       "   Provider  InscClaimAmtReimbursed  DeductibleAmtPaid  AdmittedDays  \\\n",
       "0  PRV55912                   26000             1068.0           7.0   \n",
       "1  PRV55912                      50                0.0           0.0   \n",
       "2  PRV55912                   19000             1068.0          13.0   \n",
       "3  PRV55912                   17000             1068.0          19.0   \n",
       "4  PRV55912                   13000             1068.0           5.0   \n",
       "\n",
       "  RenalDiseaseIndicator  NoOfMonths_PartACov  NoOfMonths_PartBCov  \\\n",
       "0                     0                   12                   12   \n",
       "1                     0                   12                   12   \n",
       "2                     0                   12                   12   \n",
       "3                     0                   12                   12   \n",
       "4                     0                   12                   12   \n",
       "\n",
       "   ChronicCond_Alzheimer  ChronicCond_Heartfailure  ChronicCond_KidneyDisease  \\\n",
       "0                      1                         0                          1   \n",
       "1                      1                         1                          1   \n",
       "2                      1                         1                          1   \n",
       "3                      0                         0                          0   \n",
       "4                      0                         1                          0   \n",
       "\n",
       "   ChronicCond_Cancer  ChronicCond_ObstrPulmonary  ChronicCond_Depression  \\\n",
       "0                   0                           0                       1   \n",
       "1                   0                           0                       0   \n",
       "2                   0                           1                       0   \n",
       "3                   0                           0                       0   \n",
       "4                   0                           1                       0   \n",
       "\n",
       "   ChronicCond_Diabetes  ChronicCond_IschemicHeart  ChronicCond_Osteoporasis  \\\n",
       "0                     1                          1                         0   \n",
       "1                     0                          1                         0   \n",
       "2                     0                          1                         0   \n",
       "3                     0                          1                         1   \n",
       "4                     1                          1                         1   \n",
       "\n",
       "   ChronicCond_rheumatoidarthritis  ChronicCond_stroke  \\\n",
       "0                                1                   1   \n",
       "1                                0                   0   \n",
       "2                                0                   0   \n",
       "3                                0                   0   \n",
       "4                                1                   0   \n",
       "\n",
       "   IPAnnualReimbursementAmt  IPAnnualDeductibleAmt  OPAnnualReimbursementAmt  \\\n",
       "0                     36000                   3204                        60   \n",
       "1                     24000                   2136                       450   \n",
       "2                     19000                   1068                       100   \n",
       "3                     17000                   1068                      1050   \n",
       "4                     27000                   2136                       450   \n",
       "\n",
       "   OPAnnualDeductibleAmt    Age  DeadOrNot  Gender_2  Race_2  Race_3  Race_5  \\\n",
       "0                     70   77.0        0.0         0       0       0       0   \n",
       "1                    200   88.0        0.0         0       0       0       0   \n",
       "2                     20  106.0        0.0         1       0       0       0   \n",
       "3                    540   97.0        0.0         0       0       0       0   \n",
       "4                    160   89.0        0.0         1       0       0       0   \n",
       "\n",
       "   cluster_pca  \n",
       "0            2  \n",
       "1            1  \n",
       "2            1  \n",
       "3            1  \n",
       "4            1  "
      ]
     },
     "execution_count": 89,
     "metadata": {},
     "output_type": "execute_result"
    }
   ],
   "source": [
    "train_final.head()"
   ]
  },
  {
   "cell_type": "code",
   "execution_count": null,
   "metadata": {
    "colab": {
     "base_uri": "https://localhost:8080/"
    },
    "id": "PtTBaViwJ1cd",
    "outputId": "928fcc35-b50a-49d5-ef7a-7986d5cc1e96"
   },
   "outputs": [
    {
     "data": {
      "text/plain": [
       "array([2, 1, 0], dtype=int32)"
      ]
     },
     "execution_count": 90,
     "metadata": {},
     "output_type": "execute_result"
    }
   ],
   "source": [
    "train_final['cluster_pca'].unique()"
   ]
  },
  {
   "cell_type": "code",
   "execution_count": null,
   "metadata": {
    "colab": {
     "base_uri": "https://localhost:8080/",
     "height": 357
    },
    "id": "htG2R3zeJ9Uz",
    "outputId": "d95d4bfe-0468-420d-95e7-88e45b47dc6a"
   },
   "outputs": [
    {
     "data": {
      "text/html": [
       "\n",
       "  <div id=\"df-1a30ff6e-1349-4c94-9f83-4d56045cced2\">\n",
       "    <div class=\"colab-df-container\">\n",
       "      <div>\n",
       "<style scoped>\n",
       "    .dataframe tbody tr th:only-of-type {\n",
       "        vertical-align: middle;\n",
       "    }\n",
       "\n",
       "    .dataframe tbody tr th {\n",
       "        vertical-align: top;\n",
       "    }\n",
       "\n",
       "    .dataframe thead th {\n",
       "        text-align: right;\n",
       "    }\n",
       "</style>\n",
       "<table border=\"1\" class=\"dataframe\">\n",
       "  <thead>\n",
       "    <tr style=\"text-align: right;\">\n",
       "      <th></th>\n",
       "      <th>InscClaimAmtReimbursed</th>\n",
       "      <th>DeductibleAmtPaid</th>\n",
       "      <th>AdmittedDays</th>\n",
       "      <th>NoOfMonths_PartACov</th>\n",
       "      <th>NoOfMonths_PartBCov</th>\n",
       "      <th>ChronicCond_Alzheimer</th>\n",
       "      <th>ChronicCond_Heartfailure</th>\n",
       "      <th>ChronicCond_KidneyDisease</th>\n",
       "      <th>ChronicCond_Cancer</th>\n",
       "      <th>ChronicCond_ObstrPulmonary</th>\n",
       "      <th>ChronicCond_Depression</th>\n",
       "      <th>ChronicCond_Diabetes</th>\n",
       "      <th>ChronicCond_IschemicHeart</th>\n",
       "      <th>ChronicCond_Osteoporasis</th>\n",
       "      <th>ChronicCond_rheumatoidarthritis</th>\n",
       "      <th>ChronicCond_stroke</th>\n",
       "      <th>IPAnnualReimbursementAmt</th>\n",
       "      <th>IPAnnualDeductibleAmt</th>\n",
       "      <th>OPAnnualReimbursementAmt</th>\n",
       "      <th>OPAnnualDeductibleAmt</th>\n",
       "      <th>Age</th>\n",
       "      <th>DeadOrNot</th>\n",
       "      <th>Gender_2</th>\n",
       "      <th>Race_2</th>\n",
       "      <th>Race_3</th>\n",
       "      <th>Race_5</th>\n",
       "      <th>cluster_pca</th>\n",
       "    </tr>\n",
       "  </thead>\n",
       "  <tbody>\n",
       "    <tr>\n",
       "      <th>count</th>\n",
       "      <td>454736.000000</td>\n",
       "      <td>454736.000000</td>\n",
       "      <td>454736.000000</td>\n",
       "      <td>454736.000000</td>\n",
       "      <td>454736.000000</td>\n",
       "      <td>454736.000000</td>\n",
       "      <td>454736.000000</td>\n",
       "      <td>454736.000000</td>\n",
       "      <td>454736.000000</td>\n",
       "      <td>454736.000000</td>\n",
       "      <td>454736.000000</td>\n",
       "      <td>454736.000000</td>\n",
       "      <td>454736.000000</td>\n",
       "      <td>454736.000000</td>\n",
       "      <td>454736.000000</td>\n",
       "      <td>454736.000000</td>\n",
       "      <td>454736.000000</td>\n",
       "      <td>454736.000000</td>\n",
       "      <td>454736.000000</td>\n",
       "      <td>454736.000000</td>\n",
       "      <td>454736.000000</td>\n",
       "      <td>454736.000000</td>\n",
       "      <td>454736.000000</td>\n",
       "      <td>454736.000000</td>\n",
       "      <td>454736.000000</td>\n",
       "      <td>454736.000000</td>\n",
       "      <td>454736.0</td>\n",
       "    </tr>\n",
       "    <tr>\n",
       "      <th>mean</th>\n",
       "      <td>403.204453</td>\n",
       "      <td>37.339577</td>\n",
       "      <td>0.170637</td>\n",
       "      <td>11.933500</td>\n",
       "      <td>11.939484</td>\n",
       "      <td>0.370879</td>\n",
       "      <td>0.546205</td>\n",
       "      <td>0.346073</td>\n",
       "      <td>0.136371</td>\n",
       "      <td>0.264085</td>\n",
       "      <td>0.410069</td>\n",
       "      <td>0.669927</td>\n",
       "      <td>0.727083</td>\n",
       "      <td>0.304133</td>\n",
       "      <td>0.290254</td>\n",
       "      <td>0.082595</td>\n",
       "      <td>974.399080</td>\n",
       "      <td>227.814675</td>\n",
       "      <td>1973.221496</td>\n",
       "      <td>572.275672</td>\n",
       "      <td>83.593975</td>\n",
       "      <td>0.007692</td>\n",
       "      <td>0.577792</td>\n",
       "      <td>0.098517</td>\n",
       "      <td>0.036006</td>\n",
       "      <td>0.021470</td>\n",
       "      <td>0.0</td>\n",
       "    </tr>\n",
       "    <tr>\n",
       "      <th>std</th>\n",
       "      <td>1002.583790</td>\n",
       "      <td>189.325185</td>\n",
       "      <td>1.197413</td>\n",
       "      <td>0.877174</td>\n",
       "      <td>0.779485</td>\n",
       "      <td>0.483041</td>\n",
       "      <td>0.497861</td>\n",
       "      <td>0.475717</td>\n",
       "      <td>0.343183</td>\n",
       "      <td>0.440845</td>\n",
       "      <td>0.491846</td>\n",
       "      <td>0.470240</td>\n",
       "      <td>0.445459</td>\n",
       "      <td>0.460040</td>\n",
       "      <td>0.453880</td>\n",
       "      <td>0.275270</td>\n",
       "      <td>2258.989144</td>\n",
       "      <td>593.321213</td>\n",
       "      <td>3039.931706</td>\n",
       "      <td>813.936374</td>\n",
       "      <td>12.982495</td>\n",
       "      <td>0.087368</td>\n",
       "      <td>0.493912</td>\n",
       "      <td>0.298012</td>\n",
       "      <td>0.186304</td>\n",
       "      <td>0.144944</td>\n",
       "      <td>0.0</td>\n",
       "    </tr>\n",
       "    <tr>\n",
       "      <th>min</th>\n",
       "      <td>0.000000</td>\n",
       "      <td>0.000000</td>\n",
       "      <td>0.000000</td>\n",
       "      <td>0.000000</td>\n",
       "      <td>0.000000</td>\n",
       "      <td>0.000000</td>\n",
       "      <td>0.000000</td>\n",
       "      <td>0.000000</td>\n",
       "      <td>0.000000</td>\n",
       "      <td>0.000000</td>\n",
       "      <td>0.000000</td>\n",
       "      <td>0.000000</td>\n",
       "      <td>0.000000</td>\n",
       "      <td>0.000000</td>\n",
       "      <td>0.000000</td>\n",
       "      <td>0.000000</td>\n",
       "      <td>-8000.000000</td>\n",
       "      <td>0.000000</td>\n",
       "      <td>-60.000000</td>\n",
       "      <td>0.000000</td>\n",
       "      <td>36.000000</td>\n",
       "      <td>0.000000</td>\n",
       "      <td>0.000000</td>\n",
       "      <td>0.000000</td>\n",
       "      <td>0.000000</td>\n",
       "      <td>0.000000</td>\n",
       "      <td>0.0</td>\n",
       "    </tr>\n",
       "    <tr>\n",
       "      <th>25%</th>\n",
       "      <td>40.000000</td>\n",
       "      <td>0.000000</td>\n",
       "      <td>0.000000</td>\n",
       "      <td>12.000000</td>\n",
       "      <td>12.000000</td>\n",
       "      <td>0.000000</td>\n",
       "      <td>0.000000</td>\n",
       "      <td>0.000000</td>\n",
       "      <td>0.000000</td>\n",
       "      <td>0.000000</td>\n",
       "      <td>0.000000</td>\n",
       "      <td>0.000000</td>\n",
       "      <td>0.000000</td>\n",
       "      <td>0.000000</td>\n",
       "      <td>0.000000</td>\n",
       "      <td>0.000000</td>\n",
       "      <td>0.000000</td>\n",
       "      <td>0.000000</td>\n",
       "      <td>440.000000</td>\n",
       "      <td>120.000000</td>\n",
       "      <td>78.000000</td>\n",
       "      <td>0.000000</td>\n",
       "      <td>0.000000</td>\n",
       "      <td>0.000000</td>\n",
       "      <td>0.000000</td>\n",
       "      <td>0.000000</td>\n",
       "      <td>0.0</td>\n",
       "    </tr>\n",
       "    <tr>\n",
       "      <th>50%</th>\n",
       "      <td>80.000000</td>\n",
       "      <td>0.000000</td>\n",
       "      <td>0.000000</td>\n",
       "      <td>12.000000</td>\n",
       "      <td>12.000000</td>\n",
       "      <td>0.000000</td>\n",
       "      <td>1.000000</td>\n",
       "      <td>0.000000</td>\n",
       "      <td>0.000000</td>\n",
       "      <td>0.000000</td>\n",
       "      <td>0.000000</td>\n",
       "      <td>1.000000</td>\n",
       "      <td>1.000000</td>\n",
       "      <td>0.000000</td>\n",
       "      <td>0.000000</td>\n",
       "      <td>0.000000</td>\n",
       "      <td>0.000000</td>\n",
       "      <td>0.000000</td>\n",
       "      <td>1100.000000</td>\n",
       "      <td>320.000000</td>\n",
       "      <td>84.000000</td>\n",
       "      <td>0.000000</td>\n",
       "      <td>1.000000</td>\n",
       "      <td>0.000000</td>\n",
       "      <td>0.000000</td>\n",
       "      <td>0.000000</td>\n",
       "      <td>0.0</td>\n",
       "    </tr>\n",
       "    <tr>\n",
       "      <th>75%</th>\n",
       "      <td>300.000000</td>\n",
       "      <td>0.000000</td>\n",
       "      <td>0.000000</td>\n",
       "      <td>12.000000</td>\n",
       "      <td>12.000000</td>\n",
       "      <td>1.000000</td>\n",
       "      <td>1.000000</td>\n",
       "      <td>1.000000</td>\n",
       "      <td>0.000000</td>\n",
       "      <td>1.000000</td>\n",
       "      <td>1.000000</td>\n",
       "      <td>1.000000</td>\n",
       "      <td>1.000000</td>\n",
       "      <td>1.000000</td>\n",
       "      <td>1.000000</td>\n",
       "      <td>0.000000</td>\n",
       "      <td>0.000000</td>\n",
       "      <td>0.000000</td>\n",
       "      <td>2410.000000</td>\n",
       "      <td>730.000000</td>\n",
       "      <td>92.000000</td>\n",
       "      <td>0.000000</td>\n",
       "      <td>1.000000</td>\n",
       "      <td>0.000000</td>\n",
       "      <td>0.000000</td>\n",
       "      <td>0.000000</td>\n",
       "      <td>0.0</td>\n",
       "    </tr>\n",
       "    <tr>\n",
       "      <th>max</th>\n",
       "      <td>17300.000000</td>\n",
       "      <td>1068.000000</td>\n",
       "      <td>36.000000</td>\n",
       "      <td>12.000000</td>\n",
       "      <td>12.000000</td>\n",
       "      <td>1.000000</td>\n",
       "      <td>1.000000</td>\n",
       "      <td>1.000000</td>\n",
       "      <td>1.000000</td>\n",
       "      <td>1.000000</td>\n",
       "      <td>1.000000</td>\n",
       "      <td>1.000000</td>\n",
       "      <td>1.000000</td>\n",
       "      <td>1.000000</td>\n",
       "      <td>1.000000</td>\n",
       "      <td>1.000000</td>\n",
       "      <td>9840.000000</td>\n",
       "      <td>36136.000000</td>\n",
       "      <td>44750.000000</td>\n",
       "      <td>13040.000000</td>\n",
       "      <td>111.000000</td>\n",
       "      <td>1.000000</td>\n",
       "      <td>1.000000</td>\n",
       "      <td>1.000000</td>\n",
       "      <td>1.000000</td>\n",
       "      <td>1.000000</td>\n",
       "      <td>0.0</td>\n",
       "    </tr>\n",
       "  </tbody>\n",
       "</table>\n",
       "</div>\n",
       "      <button class=\"colab-df-convert\" onclick=\"convertToInteractive('df-1a30ff6e-1349-4c94-9f83-4d56045cced2')\"\n",
       "              title=\"Convert this dataframe to an interactive table.\"\n",
       "              style=\"display:none;\">\n",
       "        \n",
       "  <svg xmlns=\"http://www.w3.org/2000/svg\" height=\"24px\"viewBox=\"0 0 24 24\"\n",
       "       width=\"24px\">\n",
       "    <path d=\"M0 0h24v24H0V0z\" fill=\"none\"/>\n",
       "    <path d=\"M18.56 5.44l.94 2.06.94-2.06 2.06-.94-2.06-.94-.94-2.06-.94 2.06-2.06.94zm-11 1L8.5 8.5l.94-2.06 2.06-.94-2.06-.94L8.5 2.5l-.94 2.06-2.06.94zm10 10l.94 2.06.94-2.06 2.06-.94-2.06-.94-.94-2.06-.94 2.06-2.06.94z\"/><path d=\"M17.41 7.96l-1.37-1.37c-.4-.4-.92-.59-1.43-.59-.52 0-1.04.2-1.43.59L10.3 9.45l-7.72 7.72c-.78.78-.78 2.05 0 2.83L4 21.41c.39.39.9.59 1.41.59.51 0 1.02-.2 1.41-.59l7.78-7.78 2.81-2.81c.8-.78.8-2.07 0-2.86zM5.41 20L4 18.59l7.72-7.72 1.47 1.35L5.41 20z\"/>\n",
       "  </svg>\n",
       "      </button>\n",
       "      \n",
       "  <style>\n",
       "    .colab-df-container {\n",
       "      display:flex;\n",
       "      flex-wrap:wrap;\n",
       "      gap: 12px;\n",
       "    }\n",
       "\n",
       "    .colab-df-convert {\n",
       "      background-color: #E8F0FE;\n",
       "      border: none;\n",
       "      border-radius: 50%;\n",
       "      cursor: pointer;\n",
       "      display: none;\n",
       "      fill: #1967D2;\n",
       "      height: 32px;\n",
       "      padding: 0 0 0 0;\n",
       "      width: 32px;\n",
       "    }\n",
       "\n",
       "    .colab-df-convert:hover {\n",
       "      background-color: #E2EBFA;\n",
       "      box-shadow: 0px 1px 2px rgba(60, 64, 67, 0.3), 0px 1px 3px 1px rgba(60, 64, 67, 0.15);\n",
       "      fill: #174EA6;\n",
       "    }\n",
       "\n",
       "    [theme=dark] .colab-df-convert {\n",
       "      background-color: #3B4455;\n",
       "      fill: #D2E3FC;\n",
       "    }\n",
       "\n",
       "    [theme=dark] .colab-df-convert:hover {\n",
       "      background-color: #434B5C;\n",
       "      box-shadow: 0px 1px 3px 1px rgba(0, 0, 0, 0.15);\n",
       "      filter: drop-shadow(0px 1px 2px rgba(0, 0, 0, 0.3));\n",
       "      fill: #FFFFFF;\n",
       "    }\n",
       "  </style>\n",
       "\n",
       "      <script>\n",
       "        const buttonEl =\n",
       "          document.querySelector('#df-1a30ff6e-1349-4c94-9f83-4d56045cced2 button.colab-df-convert');\n",
       "        buttonEl.style.display =\n",
       "          google.colab.kernel.accessAllowed ? 'block' : 'none';\n",
       "\n",
       "        async function convertToInteractive(key) {\n",
       "          const element = document.querySelector('#df-1a30ff6e-1349-4c94-9f83-4d56045cced2');\n",
       "          const dataTable =\n",
       "            await google.colab.kernel.invokeFunction('convertToInteractive',\n",
       "                                                     [key], {});\n",
       "          if (!dataTable) return;\n",
       "\n",
       "          const docLinkHtml = 'Like what you see? Visit the ' +\n",
       "            '<a target=\"_blank\" href=https://colab.research.google.com/notebooks/data_table.ipynb>data table notebook</a>'\n",
       "            + ' to learn more about interactive tables.';\n",
       "          element.innerHTML = '';\n",
       "          dataTable['output_type'] = 'display_data';\n",
       "          await google.colab.output.renderOutput(dataTable, element);\n",
       "          const docLink = document.createElement('div');\n",
       "          docLink.innerHTML = docLinkHtml;\n",
       "          element.appendChild(docLink);\n",
       "        }\n",
       "      </script>\n",
       "    </div>\n",
       "  </div>\n",
       "  "
      ],
      "text/plain": [
       "       InscClaimAmtReimbursed  DeductibleAmtPaid   AdmittedDays  \\\n",
       "count           454736.000000      454736.000000  454736.000000   \n",
       "mean               403.204453          37.339577       0.170637   \n",
       "std               1002.583790         189.325185       1.197413   \n",
       "min                  0.000000           0.000000       0.000000   \n",
       "25%                 40.000000           0.000000       0.000000   \n",
       "50%                 80.000000           0.000000       0.000000   \n",
       "75%                300.000000           0.000000       0.000000   \n",
       "max              17300.000000        1068.000000      36.000000   \n",
       "\n",
       "       NoOfMonths_PartACov  NoOfMonths_PartBCov  ChronicCond_Alzheimer  \\\n",
       "count        454736.000000        454736.000000          454736.000000   \n",
       "mean             11.933500            11.939484               0.370879   \n",
       "std               0.877174             0.779485               0.483041   \n",
       "min               0.000000             0.000000               0.000000   \n",
       "25%              12.000000            12.000000               0.000000   \n",
       "50%              12.000000            12.000000               0.000000   \n",
       "75%              12.000000            12.000000               1.000000   \n",
       "max              12.000000            12.000000               1.000000   \n",
       "\n",
       "       ChronicCond_Heartfailure  ChronicCond_KidneyDisease  \\\n",
       "count             454736.000000              454736.000000   \n",
       "mean                   0.546205                   0.346073   \n",
       "std                    0.497861                   0.475717   \n",
       "min                    0.000000                   0.000000   \n",
       "25%                    0.000000                   0.000000   \n",
       "50%                    1.000000                   0.000000   \n",
       "75%                    1.000000                   1.000000   \n",
       "max                    1.000000                   1.000000   \n",
       "\n",
       "       ChronicCond_Cancer  ChronicCond_ObstrPulmonary  ChronicCond_Depression  \\\n",
       "count       454736.000000               454736.000000           454736.000000   \n",
       "mean             0.136371                    0.264085                0.410069   \n",
       "std              0.343183                    0.440845                0.491846   \n",
       "min              0.000000                    0.000000                0.000000   \n",
       "25%              0.000000                    0.000000                0.000000   \n",
       "50%              0.000000                    0.000000                0.000000   \n",
       "75%              0.000000                    1.000000                1.000000   \n",
       "max              1.000000                    1.000000                1.000000   \n",
       "\n",
       "       ChronicCond_Diabetes  ChronicCond_IschemicHeart  \\\n",
       "count         454736.000000              454736.000000   \n",
       "mean               0.669927                   0.727083   \n",
       "std                0.470240                   0.445459   \n",
       "min                0.000000                   0.000000   \n",
       "25%                0.000000                   0.000000   \n",
       "50%                1.000000                   1.000000   \n",
       "75%                1.000000                   1.000000   \n",
       "max                1.000000                   1.000000   \n",
       "\n",
       "       ChronicCond_Osteoporasis  ChronicCond_rheumatoidarthritis  \\\n",
       "count             454736.000000                    454736.000000   \n",
       "mean                   0.304133                         0.290254   \n",
       "std                    0.460040                         0.453880   \n",
       "min                    0.000000                         0.000000   \n",
       "25%                    0.000000                         0.000000   \n",
       "50%                    0.000000                         0.000000   \n",
       "75%                    1.000000                         1.000000   \n",
       "max                    1.000000                         1.000000   \n",
       "\n",
       "       ChronicCond_stroke  IPAnnualReimbursementAmt  IPAnnualDeductibleAmt  \\\n",
       "count       454736.000000             454736.000000          454736.000000   \n",
       "mean             0.082595                974.399080             227.814675   \n",
       "std              0.275270               2258.989144             593.321213   \n",
       "min              0.000000              -8000.000000               0.000000   \n",
       "25%              0.000000                  0.000000               0.000000   \n",
       "50%              0.000000                  0.000000               0.000000   \n",
       "75%              0.000000                  0.000000               0.000000   \n",
       "max              1.000000               9840.000000           36136.000000   \n",
       "\n",
       "       OPAnnualReimbursementAmt  OPAnnualDeductibleAmt            Age  \\\n",
       "count             454736.000000          454736.000000  454736.000000   \n",
       "mean                1973.221496             572.275672      83.593975   \n",
       "std                 3039.931706             813.936374      12.982495   \n",
       "min                  -60.000000               0.000000      36.000000   \n",
       "25%                  440.000000             120.000000      78.000000   \n",
       "50%                 1100.000000             320.000000      84.000000   \n",
       "75%                 2410.000000             730.000000      92.000000   \n",
       "max                44750.000000           13040.000000     111.000000   \n",
       "\n",
       "           DeadOrNot       Gender_2         Race_2         Race_3  \\\n",
       "count  454736.000000  454736.000000  454736.000000  454736.000000   \n",
       "mean        0.007692       0.577792       0.098517       0.036006   \n",
       "std         0.087368       0.493912       0.298012       0.186304   \n",
       "min         0.000000       0.000000       0.000000       0.000000   \n",
       "25%         0.000000       0.000000       0.000000       0.000000   \n",
       "50%         0.000000       1.000000       0.000000       0.000000   \n",
       "75%         0.000000       1.000000       0.000000       0.000000   \n",
       "max         1.000000       1.000000       1.000000       1.000000   \n",
       "\n",
       "              Race_5  cluster_pca  \n",
       "count  454736.000000     454736.0  \n",
       "mean        0.021470          0.0  \n",
       "std         0.144944          0.0  \n",
       "min         0.000000          0.0  \n",
       "25%         0.000000          0.0  \n",
       "50%         0.000000          0.0  \n",
       "75%         0.000000          0.0  \n",
       "max         1.000000          0.0  "
      ]
     },
     "execution_count": 91,
     "metadata": {},
     "output_type": "execute_result"
    }
   ],
   "source": [
    "train_final.loc[train_final['cluster_pca'] == 0].describe()"
   ]
  },
  {
   "cell_type": "code",
   "execution_count": null,
   "metadata": {
    "colab": {
     "base_uri": "https://localhost:8080/",
     "height": 357
    },
    "id": "FR7-9nMqKDoo",
    "outputId": "52d68fe9-3c9b-4356-f7a6-14cef8e26597"
   },
   "outputs": [
    {
     "data": {
      "text/html": [
       "\n",
       "  <div id=\"df-6d0926a1-9afe-45a2-9581-ffdae2016e81\">\n",
       "    <div class=\"colab-df-container\">\n",
       "      <div>\n",
       "<style scoped>\n",
       "    .dataframe tbody tr th:only-of-type {\n",
       "        vertical-align: middle;\n",
       "    }\n",
       "\n",
       "    .dataframe tbody tr th {\n",
       "        vertical-align: top;\n",
       "    }\n",
       "\n",
       "    .dataframe thead th {\n",
       "        text-align: right;\n",
       "    }\n",
       "</style>\n",
       "<table border=\"1\" class=\"dataframe\">\n",
       "  <thead>\n",
       "    <tr style=\"text-align: right;\">\n",
       "      <th></th>\n",
       "      <th>InscClaimAmtReimbursed</th>\n",
       "      <th>DeductibleAmtPaid</th>\n",
       "      <th>AdmittedDays</th>\n",
       "      <th>NoOfMonths_PartACov</th>\n",
       "      <th>NoOfMonths_PartBCov</th>\n",
       "      <th>ChronicCond_Alzheimer</th>\n",
       "      <th>ChronicCond_Heartfailure</th>\n",
       "      <th>ChronicCond_KidneyDisease</th>\n",
       "      <th>ChronicCond_Cancer</th>\n",
       "      <th>ChronicCond_ObstrPulmonary</th>\n",
       "      <th>ChronicCond_Depression</th>\n",
       "      <th>ChronicCond_Diabetes</th>\n",
       "      <th>ChronicCond_IschemicHeart</th>\n",
       "      <th>ChronicCond_Osteoporasis</th>\n",
       "      <th>ChronicCond_rheumatoidarthritis</th>\n",
       "      <th>ChronicCond_stroke</th>\n",
       "      <th>IPAnnualReimbursementAmt</th>\n",
       "      <th>IPAnnualDeductibleAmt</th>\n",
       "      <th>OPAnnualReimbursementAmt</th>\n",
       "      <th>OPAnnualDeductibleAmt</th>\n",
       "      <th>Age</th>\n",
       "      <th>DeadOrNot</th>\n",
       "      <th>Gender_2</th>\n",
       "      <th>Race_2</th>\n",
       "      <th>Race_3</th>\n",
       "      <th>Race_5</th>\n",
       "      <th>cluster_pca</th>\n",
       "    </tr>\n",
       "  </thead>\n",
       "  <tbody>\n",
       "    <tr>\n",
       "      <th>count</th>\n",
       "      <td>87088.000000</td>\n",
       "      <td>87088.000000</td>\n",
       "      <td>87088.000000</td>\n",
       "      <td>87088.000000</td>\n",
       "      <td>87088.000000</td>\n",
       "      <td>87088.000000</td>\n",
       "      <td>87088.000000</td>\n",
       "      <td>87088.000000</td>\n",
       "      <td>87088.000000</td>\n",
       "      <td>87088.000000</td>\n",
       "      <td>87088.000000</td>\n",
       "      <td>87088.000000</td>\n",
       "      <td>87088.000000</td>\n",
       "      <td>87088.000000</td>\n",
       "      <td>87088.000000</td>\n",
       "      <td>87088.000000</td>\n",
       "      <td>87088.000000</td>\n",
       "      <td>87088.00000</td>\n",
       "      <td>87088.000000</td>\n",
       "      <td>87088.000000</td>\n",
       "      <td>87088.000000</td>\n",
       "      <td>87088.000000</td>\n",
       "      <td>87088.000000</td>\n",
       "      <td>87088.000000</td>\n",
       "      <td>87088.000000</td>\n",
       "      <td>87088.000000</td>\n",
       "      <td>87088.0</td>\n",
       "    </tr>\n",
       "    <tr>\n",
       "      <th>mean</th>\n",
       "      <td>2840.121371</td>\n",
       "      <td>250.774297</td>\n",
       "      <td>1.657209</td>\n",
       "      <td>11.923422</td>\n",
       "      <td>11.931299</td>\n",
       "      <td>0.529694</td>\n",
       "      <td>0.772012</td>\n",
       "      <td>0.679565</td>\n",
       "      <td>0.212130</td>\n",
       "      <td>0.508566</td>\n",
       "      <td>0.537399</td>\n",
       "      <td>0.853447</td>\n",
       "      <td>0.892327</td>\n",
       "      <td>0.374667</td>\n",
       "      <td>0.405165</td>\n",
       "      <td>0.174134</td>\n",
       "      <td>17845.721913</td>\n",
       "      <td>1873.47545</td>\n",
       "      <td>3380.708134</td>\n",
       "      <td>933.758405</td>\n",
       "      <td>84.106272</td>\n",
       "      <td>0.006155</td>\n",
       "      <td>0.586223</td>\n",
       "      <td>0.101679</td>\n",
       "      <td>0.032335</td>\n",
       "      <td>0.020129</td>\n",
       "      <td>1.0</td>\n",
       "    </tr>\n",
       "    <tr>\n",
       "      <th>std</th>\n",
       "      <td>5380.765130</td>\n",
       "      <td>450.510881</td>\n",
       "      <td>3.991277</td>\n",
       "      <td>0.939195</td>\n",
       "      <td>0.840693</td>\n",
       "      <td>0.499120</td>\n",
       "      <td>0.419537</td>\n",
       "      <td>0.466646</td>\n",
       "      <td>0.408819</td>\n",
       "      <td>0.499929</td>\n",
       "      <td>0.498602</td>\n",
       "      <td>0.353662</td>\n",
       "      <td>0.309968</td>\n",
       "      <td>0.484040</td>\n",
       "      <td>0.490927</td>\n",
       "      <td>0.379227</td>\n",
       "      <td>7203.742081</td>\n",
       "      <td>1386.67165</td>\n",
       "      <td>5704.944764</td>\n",
       "      <td>1479.526429</td>\n",
       "      <td>13.300229</td>\n",
       "      <td>0.078211</td>\n",
       "      <td>0.492512</td>\n",
       "      <td>0.302227</td>\n",
       "      <td>0.176890</td>\n",
       "      <td>0.140443</td>\n",
       "      <td>0.0</td>\n",
       "    </tr>\n",
       "    <tr>\n",
       "      <th>min</th>\n",
       "      <td>0.000000</td>\n",
       "      <td>0.000000</td>\n",
       "      <td>0.000000</td>\n",
       "      <td>0.000000</td>\n",
       "      <td>0.000000</td>\n",
       "      <td>0.000000</td>\n",
       "      <td>0.000000</td>\n",
       "      <td>0.000000</td>\n",
       "      <td>0.000000</td>\n",
       "      <td>0.000000</td>\n",
       "      <td>0.000000</td>\n",
       "      <td>0.000000</td>\n",
       "      <td>0.000000</td>\n",
       "      <td>0.000000</td>\n",
       "      <td>0.000000</td>\n",
       "      <td>0.000000</td>\n",
       "      <td>6000.000000</td>\n",
       "      <td>0.00000</td>\n",
       "      <td>-70.000000</td>\n",
       "      <td>0.000000</td>\n",
       "      <td>36.000000</td>\n",
       "      <td>0.000000</td>\n",
       "      <td>0.000000</td>\n",
       "      <td>0.000000</td>\n",
       "      <td>0.000000</td>\n",
       "      <td>0.000000</td>\n",
       "      <td>1.0</td>\n",
       "    </tr>\n",
       "    <tr>\n",
       "      <th>25%</th>\n",
       "      <td>50.000000</td>\n",
       "      <td>0.000000</td>\n",
       "      <td>0.000000</td>\n",
       "      <td>12.000000</td>\n",
       "      <td>12.000000</td>\n",
       "      <td>0.000000</td>\n",
       "      <td>1.000000</td>\n",
       "      <td>0.000000</td>\n",
       "      <td>0.000000</td>\n",
       "      <td>0.000000</td>\n",
       "      <td>0.000000</td>\n",
       "      <td>1.000000</td>\n",
       "      <td>1.000000</td>\n",
       "      <td>0.000000</td>\n",
       "      <td>0.000000</td>\n",
       "      <td>0.000000</td>\n",
       "      <td>12000.000000</td>\n",
       "      <td>1068.00000</td>\n",
       "      <td>560.000000</td>\n",
       "      <td>150.000000</td>\n",
       "      <td>78.000000</td>\n",
       "      <td>0.000000</td>\n",
       "      <td>0.000000</td>\n",
       "      <td>0.000000</td>\n",
       "      <td>0.000000</td>\n",
       "      <td>0.000000</td>\n",
       "      <td>1.0</td>\n",
       "    </tr>\n",
       "    <tr>\n",
       "      <th>50%</th>\n",
       "      <td>200.000000</td>\n",
       "      <td>0.000000</td>\n",
       "      <td>0.000000</td>\n",
       "      <td>12.000000</td>\n",
       "      <td>12.000000</td>\n",
       "      <td>1.000000</td>\n",
       "      <td>1.000000</td>\n",
       "      <td>1.000000</td>\n",
       "      <td>0.000000</td>\n",
       "      <td>1.000000</td>\n",
       "      <td>1.000000</td>\n",
       "      <td>1.000000</td>\n",
       "      <td>1.000000</td>\n",
       "      <td>0.000000</td>\n",
       "      <td>0.000000</td>\n",
       "      <td>0.000000</td>\n",
       "      <td>16000.000000</td>\n",
       "      <td>1068.00000</td>\n",
       "      <td>1490.000000</td>\n",
       "      <td>440.000000</td>\n",
       "      <td>85.000000</td>\n",
       "      <td>0.000000</td>\n",
       "      <td>1.000000</td>\n",
       "      <td>0.000000</td>\n",
       "      <td>0.000000</td>\n",
       "      <td>0.000000</td>\n",
       "      <td>1.0</td>\n",
       "    </tr>\n",
       "    <tr>\n",
       "      <th>75%</th>\n",
       "      <td>2800.000000</td>\n",
       "      <td>60.000000</td>\n",
       "      <td>0.000000</td>\n",
       "      <td>12.000000</td>\n",
       "      <td>12.000000</td>\n",
       "      <td>1.000000</td>\n",
       "      <td>1.000000</td>\n",
       "      <td>1.000000</td>\n",
       "      <td>0.000000</td>\n",
       "      <td>1.000000</td>\n",
       "      <td>1.000000</td>\n",
       "      <td>1.000000</td>\n",
       "      <td>1.000000</td>\n",
       "      <td>1.000000</td>\n",
       "      <td>1.000000</td>\n",
       "      <td>0.000000</td>\n",
       "      <td>22080.000000</td>\n",
       "      <td>2136.00000</td>\n",
       "      <td>3480.000000</td>\n",
       "      <td>1050.000000</td>\n",
       "      <td>93.000000</td>\n",
       "      <td>0.000000</td>\n",
       "      <td>1.000000</td>\n",
       "      <td>0.000000</td>\n",
       "      <td>0.000000</td>\n",
       "      <td>0.000000</td>\n",
       "      <td>1.0</td>\n",
       "    </tr>\n",
       "    <tr>\n",
       "      <th>max</th>\n",
       "      <td>33000.000000</td>\n",
       "      <td>1068.000000</td>\n",
       "      <td>36.000000</td>\n",
       "      <td>12.000000</td>\n",
       "      <td>12.000000</td>\n",
       "      <td>1.000000</td>\n",
       "      <td>1.000000</td>\n",
       "      <td>1.000000</td>\n",
       "      <td>1.000000</td>\n",
       "      <td>1.000000</td>\n",
       "      <td>1.000000</td>\n",
       "      <td>1.000000</td>\n",
       "      <td>1.000000</td>\n",
       "      <td>1.000000</td>\n",
       "      <td>1.000000</td>\n",
       "      <td>1.000000</td>\n",
       "      <td>37880.000000</td>\n",
       "      <td>37204.00000</td>\n",
       "      <td>52900.000000</td>\n",
       "      <td>13840.000000</td>\n",
       "      <td>111.000000</td>\n",
       "      <td>1.000000</td>\n",
       "      <td>1.000000</td>\n",
       "      <td>1.000000</td>\n",
       "      <td>1.000000</td>\n",
       "      <td>1.000000</td>\n",
       "      <td>1.0</td>\n",
       "    </tr>\n",
       "  </tbody>\n",
       "</table>\n",
       "</div>\n",
       "      <button class=\"colab-df-convert\" onclick=\"convertToInteractive('df-6d0926a1-9afe-45a2-9581-ffdae2016e81')\"\n",
       "              title=\"Convert this dataframe to an interactive table.\"\n",
       "              style=\"display:none;\">\n",
       "        \n",
       "  <svg xmlns=\"http://www.w3.org/2000/svg\" height=\"24px\"viewBox=\"0 0 24 24\"\n",
       "       width=\"24px\">\n",
       "    <path d=\"M0 0h24v24H0V0z\" fill=\"none\"/>\n",
       "    <path d=\"M18.56 5.44l.94 2.06.94-2.06 2.06-.94-2.06-.94-.94-2.06-.94 2.06-2.06.94zm-11 1L8.5 8.5l.94-2.06 2.06-.94-2.06-.94L8.5 2.5l-.94 2.06-2.06.94zm10 10l.94 2.06.94-2.06 2.06-.94-2.06-.94-.94-2.06-.94 2.06-2.06.94z\"/><path d=\"M17.41 7.96l-1.37-1.37c-.4-.4-.92-.59-1.43-.59-.52 0-1.04.2-1.43.59L10.3 9.45l-7.72 7.72c-.78.78-.78 2.05 0 2.83L4 21.41c.39.39.9.59 1.41.59.51 0 1.02-.2 1.41-.59l7.78-7.78 2.81-2.81c.8-.78.8-2.07 0-2.86zM5.41 20L4 18.59l7.72-7.72 1.47 1.35L5.41 20z\"/>\n",
       "  </svg>\n",
       "      </button>\n",
       "      \n",
       "  <style>\n",
       "    .colab-df-container {\n",
       "      display:flex;\n",
       "      flex-wrap:wrap;\n",
       "      gap: 12px;\n",
       "    }\n",
       "\n",
       "    .colab-df-convert {\n",
       "      background-color: #E8F0FE;\n",
       "      border: none;\n",
       "      border-radius: 50%;\n",
       "      cursor: pointer;\n",
       "      display: none;\n",
       "      fill: #1967D2;\n",
       "      height: 32px;\n",
       "      padding: 0 0 0 0;\n",
       "      width: 32px;\n",
       "    }\n",
       "\n",
       "    .colab-df-convert:hover {\n",
       "      background-color: #E2EBFA;\n",
       "      box-shadow: 0px 1px 2px rgba(60, 64, 67, 0.3), 0px 1px 3px 1px rgba(60, 64, 67, 0.15);\n",
       "      fill: #174EA6;\n",
       "    }\n",
       "\n",
       "    [theme=dark] .colab-df-convert {\n",
       "      background-color: #3B4455;\n",
       "      fill: #D2E3FC;\n",
       "    }\n",
       "\n",
       "    [theme=dark] .colab-df-convert:hover {\n",
       "      background-color: #434B5C;\n",
       "      box-shadow: 0px 1px 3px 1px rgba(0, 0, 0, 0.15);\n",
       "      filter: drop-shadow(0px 1px 2px rgba(0, 0, 0, 0.3));\n",
       "      fill: #FFFFFF;\n",
       "    }\n",
       "  </style>\n",
       "\n",
       "      <script>\n",
       "        const buttonEl =\n",
       "          document.querySelector('#df-6d0926a1-9afe-45a2-9581-ffdae2016e81 button.colab-df-convert');\n",
       "        buttonEl.style.display =\n",
       "          google.colab.kernel.accessAllowed ? 'block' : 'none';\n",
       "\n",
       "        async function convertToInteractive(key) {\n",
       "          const element = document.querySelector('#df-6d0926a1-9afe-45a2-9581-ffdae2016e81');\n",
       "          const dataTable =\n",
       "            await google.colab.kernel.invokeFunction('convertToInteractive',\n",
       "                                                     [key], {});\n",
       "          if (!dataTable) return;\n",
       "\n",
       "          const docLinkHtml = 'Like what you see? Visit the ' +\n",
       "            '<a target=\"_blank\" href=https://colab.research.google.com/notebooks/data_table.ipynb>data table notebook</a>'\n",
       "            + ' to learn more about interactive tables.';\n",
       "          element.innerHTML = '';\n",
       "          dataTable['output_type'] = 'display_data';\n",
       "          await google.colab.output.renderOutput(dataTable, element);\n",
       "          const docLink = document.createElement('div');\n",
       "          docLink.innerHTML = docLinkHtml;\n",
       "          element.appendChild(docLink);\n",
       "        }\n",
       "      </script>\n",
       "    </div>\n",
       "  </div>\n",
       "  "
      ],
      "text/plain": [
       "       InscClaimAmtReimbursed  DeductibleAmtPaid  AdmittedDays  \\\n",
       "count            87088.000000       87088.000000  87088.000000   \n",
       "mean              2840.121371         250.774297      1.657209   \n",
       "std               5380.765130         450.510881      3.991277   \n",
       "min                  0.000000           0.000000      0.000000   \n",
       "25%                 50.000000           0.000000      0.000000   \n",
       "50%                200.000000           0.000000      0.000000   \n",
       "75%               2800.000000          60.000000      0.000000   \n",
       "max              33000.000000        1068.000000     36.000000   \n",
       "\n",
       "       NoOfMonths_PartACov  NoOfMonths_PartBCov  ChronicCond_Alzheimer  \\\n",
       "count         87088.000000         87088.000000           87088.000000   \n",
       "mean             11.923422            11.931299               0.529694   \n",
       "std               0.939195             0.840693               0.499120   \n",
       "min               0.000000             0.000000               0.000000   \n",
       "25%              12.000000            12.000000               0.000000   \n",
       "50%              12.000000            12.000000               1.000000   \n",
       "75%              12.000000            12.000000               1.000000   \n",
       "max              12.000000            12.000000               1.000000   \n",
       "\n",
       "       ChronicCond_Heartfailure  ChronicCond_KidneyDisease  \\\n",
       "count              87088.000000               87088.000000   \n",
       "mean                   0.772012                   0.679565   \n",
       "std                    0.419537                   0.466646   \n",
       "min                    0.000000                   0.000000   \n",
       "25%                    1.000000                   0.000000   \n",
       "50%                    1.000000                   1.000000   \n",
       "75%                    1.000000                   1.000000   \n",
       "max                    1.000000                   1.000000   \n",
       "\n",
       "       ChronicCond_Cancer  ChronicCond_ObstrPulmonary  ChronicCond_Depression  \\\n",
       "count        87088.000000                87088.000000            87088.000000   \n",
       "mean             0.212130                    0.508566                0.537399   \n",
       "std              0.408819                    0.499929                0.498602   \n",
       "min              0.000000                    0.000000                0.000000   \n",
       "25%              0.000000                    0.000000                0.000000   \n",
       "50%              0.000000                    1.000000                1.000000   \n",
       "75%              0.000000                    1.000000                1.000000   \n",
       "max              1.000000                    1.000000                1.000000   \n",
       "\n",
       "       ChronicCond_Diabetes  ChronicCond_IschemicHeart  \\\n",
       "count          87088.000000               87088.000000   \n",
       "mean               0.853447                   0.892327   \n",
       "std                0.353662                   0.309968   \n",
       "min                0.000000                   0.000000   \n",
       "25%                1.000000                   1.000000   \n",
       "50%                1.000000                   1.000000   \n",
       "75%                1.000000                   1.000000   \n",
       "max                1.000000                   1.000000   \n",
       "\n",
       "       ChronicCond_Osteoporasis  ChronicCond_rheumatoidarthritis  \\\n",
       "count              87088.000000                     87088.000000   \n",
       "mean                   0.374667                         0.405165   \n",
       "std                    0.484040                         0.490927   \n",
       "min                    0.000000                         0.000000   \n",
       "25%                    0.000000                         0.000000   \n",
       "50%                    0.000000                         0.000000   \n",
       "75%                    1.000000                         1.000000   \n",
       "max                    1.000000                         1.000000   \n",
       "\n",
       "       ChronicCond_stroke  IPAnnualReimbursementAmt  IPAnnualDeductibleAmt  \\\n",
       "count        87088.000000              87088.000000            87088.00000   \n",
       "mean             0.174134              17845.721913             1873.47545   \n",
       "std              0.379227               7203.742081             1386.67165   \n",
       "min              0.000000               6000.000000                0.00000   \n",
       "25%              0.000000              12000.000000             1068.00000   \n",
       "50%              0.000000              16000.000000             1068.00000   \n",
       "75%              0.000000              22080.000000             2136.00000   \n",
       "max              1.000000              37880.000000            37204.00000   \n",
       "\n",
       "       OPAnnualReimbursementAmt  OPAnnualDeductibleAmt           Age  \\\n",
       "count              87088.000000           87088.000000  87088.000000   \n",
       "mean                3380.708134             933.758405     84.106272   \n",
       "std                 5704.944764            1479.526429     13.300229   \n",
       "min                  -70.000000               0.000000     36.000000   \n",
       "25%                  560.000000             150.000000     78.000000   \n",
       "50%                 1490.000000             440.000000     85.000000   \n",
       "75%                 3480.000000            1050.000000     93.000000   \n",
       "max                52900.000000           13840.000000    111.000000   \n",
       "\n",
       "          DeadOrNot      Gender_2        Race_2        Race_3        Race_5  \\\n",
       "count  87088.000000  87088.000000  87088.000000  87088.000000  87088.000000   \n",
       "mean       0.006155      0.586223      0.101679      0.032335      0.020129   \n",
       "std        0.078211      0.492512      0.302227      0.176890      0.140443   \n",
       "min        0.000000      0.000000      0.000000      0.000000      0.000000   \n",
       "25%        0.000000      0.000000      0.000000      0.000000      0.000000   \n",
       "50%        0.000000      1.000000      0.000000      0.000000      0.000000   \n",
       "75%        0.000000      1.000000      0.000000      0.000000      0.000000   \n",
       "max        1.000000      1.000000      1.000000      1.000000      1.000000   \n",
       "\n",
       "       cluster_pca  \n",
       "count      87088.0  \n",
       "mean           1.0  \n",
       "std            0.0  \n",
       "min            1.0  \n",
       "25%            1.0  \n",
       "50%            1.0  \n",
       "75%            1.0  \n",
       "max            1.0  "
      ]
     },
     "execution_count": 92,
     "metadata": {},
     "output_type": "execute_result"
    }
   ],
   "source": [
    "train_final.loc[train_final['cluster_pca'] == 1].describe()\n"
   ]
  },
  {
   "cell_type": "code",
   "execution_count": null,
   "metadata": {
    "colab": {
     "base_uri": "https://localhost:8080/",
     "height": 357
    },
    "id": "6VvXI5iaKR7b",
    "outputId": "dc2ed8e4-2ca8-4a42-daf6-fa196818f811"
   },
   "outputs": [
    {
     "data": {
      "text/html": [
       "\n",
       "  <div id=\"df-24b45160-cb5d-4cfb-a4c7-a3e83a58e108\">\n",
       "    <div class=\"colab-df-container\">\n",
       "      <div>\n",
       "<style scoped>\n",
       "    .dataframe tbody tr th:only-of-type {\n",
       "        vertical-align: middle;\n",
       "    }\n",
       "\n",
       "    .dataframe tbody tr th {\n",
       "        vertical-align: top;\n",
       "    }\n",
       "\n",
       "    .dataframe thead th {\n",
       "        text-align: right;\n",
       "    }\n",
       "</style>\n",
       "<table border=\"1\" class=\"dataframe\">\n",
       "  <thead>\n",
       "    <tr style=\"text-align: right;\">\n",
       "      <th></th>\n",
       "      <th>InscClaimAmtReimbursed</th>\n",
       "      <th>DeductibleAmtPaid</th>\n",
       "      <th>AdmittedDays</th>\n",
       "      <th>NoOfMonths_PartACov</th>\n",
       "      <th>NoOfMonths_PartBCov</th>\n",
       "      <th>ChronicCond_Alzheimer</th>\n",
       "      <th>ChronicCond_Heartfailure</th>\n",
       "      <th>ChronicCond_KidneyDisease</th>\n",
       "      <th>ChronicCond_Cancer</th>\n",
       "      <th>ChronicCond_ObstrPulmonary</th>\n",
       "      <th>ChronicCond_Depression</th>\n",
       "      <th>ChronicCond_Diabetes</th>\n",
       "      <th>ChronicCond_IschemicHeart</th>\n",
       "      <th>ChronicCond_Osteoporasis</th>\n",
       "      <th>ChronicCond_rheumatoidarthritis</th>\n",
       "      <th>ChronicCond_stroke</th>\n",
       "      <th>IPAnnualReimbursementAmt</th>\n",
       "      <th>IPAnnualDeductibleAmt</th>\n",
       "      <th>OPAnnualReimbursementAmt</th>\n",
       "      <th>OPAnnualDeductibleAmt</th>\n",
       "      <th>Age</th>\n",
       "      <th>DeadOrNot</th>\n",
       "      <th>Gender_2</th>\n",
       "      <th>Race_2</th>\n",
       "      <th>Race_3</th>\n",
       "      <th>Race_5</th>\n",
       "      <th>cluster_pca</th>\n",
       "    </tr>\n",
       "  </thead>\n",
       "  <tbody>\n",
       "    <tr>\n",
       "      <th>count</th>\n",
       "      <td>16387.000000</td>\n",
       "      <td>16387.000000</td>\n",
       "      <td>16387.000000</td>\n",
       "      <td>16387.000000</td>\n",
       "      <td>16387.000000</td>\n",
       "      <td>16387.000000</td>\n",
       "      <td>16387.000000</td>\n",
       "      <td>16387.000000</td>\n",
       "      <td>16387.000000</td>\n",
       "      <td>16387.000000</td>\n",
       "      <td>16387.000000</td>\n",
       "      <td>16387.000000</td>\n",
       "      <td>16387.000000</td>\n",
       "      <td>16387.000000</td>\n",
       "      <td>16387.000000</td>\n",
       "      <td>16387.000000</td>\n",
       "      <td>16387.000000</td>\n",
       "      <td>16387.000000</td>\n",
       "      <td>16387.000000</td>\n",
       "      <td>16387.000000</td>\n",
       "      <td>16387.000000</td>\n",
       "      <td>16387.000000</td>\n",
       "      <td>16387.000000</td>\n",
       "      <td>16387.000000</td>\n",
       "      <td>16387.000000</td>\n",
       "      <td>16387.000000</td>\n",
       "      <td>16387.0</td>\n",
       "    </tr>\n",
       "    <tr>\n",
       "      <th>mean</th>\n",
       "      <td>7679.933484</td>\n",
       "      <td>298.158906</td>\n",
       "      <td>2.919876</td>\n",
       "      <td>11.917984</td>\n",
       "      <td>11.958687</td>\n",
       "      <td>0.582474</td>\n",
       "      <td>0.852566</td>\n",
       "      <td>0.819552</td>\n",
       "      <td>0.245194</td>\n",
       "      <td>0.628669</td>\n",
       "      <td>0.576066</td>\n",
       "      <td>0.902789</td>\n",
       "      <td>0.945139</td>\n",
       "      <td>0.389638</td>\n",
       "      <td>0.392079</td>\n",
       "      <td>0.247574</td>\n",
       "      <td>56207.274669</td>\n",
       "      <td>3095.962775</td>\n",
       "      <td>4882.924879</td>\n",
       "      <td>1288.550925</td>\n",
       "      <td>84.338805</td>\n",
       "      <td>0.005919</td>\n",
       "      <td>0.568621</td>\n",
       "      <td>0.121194</td>\n",
       "      <td>0.032099</td>\n",
       "      <td>0.018551</td>\n",
       "      <td>2.0</td>\n",
       "    </tr>\n",
       "    <tr>\n",
       "      <th>std</th>\n",
       "      <td>15595.960656</td>\n",
       "      <td>477.168843</td>\n",
       "      <td>6.314482</td>\n",
       "      <td>0.961665</td>\n",
       "      <td>0.649622</td>\n",
       "      <td>0.493166</td>\n",
       "      <td>0.354549</td>\n",
       "      <td>0.384572</td>\n",
       "      <td>0.430216</td>\n",
       "      <td>0.483175</td>\n",
       "      <td>0.494195</td>\n",
       "      <td>0.296254</td>\n",
       "      <td>0.227715</td>\n",
       "      <td>0.487683</td>\n",
       "      <td>0.488229</td>\n",
       "      <td>0.431616</td>\n",
       "      <td>19173.837626</td>\n",
       "      <td>2952.669423</td>\n",
       "      <td>8250.938820</td>\n",
       "      <td>1783.735416</td>\n",
       "      <td>13.353421</td>\n",
       "      <td>0.076711</td>\n",
       "      <td>0.495284</td>\n",
       "      <td>0.326362</td>\n",
       "      <td>0.176267</td>\n",
       "      <td>0.134938</td>\n",
       "      <td>0.0</td>\n",
       "    </tr>\n",
       "    <tr>\n",
       "      <th>min</th>\n",
       "      <td>0.000000</td>\n",
       "      <td>0.000000</td>\n",
       "      <td>0.000000</td>\n",
       "      <td>0.000000</td>\n",
       "      <td>0.000000</td>\n",
       "      <td>0.000000</td>\n",
       "      <td>0.000000</td>\n",
       "      <td>0.000000</td>\n",
       "      <td>0.000000</td>\n",
       "      <td>0.000000</td>\n",
       "      <td>0.000000</td>\n",
       "      <td>0.000000</td>\n",
       "      <td>0.000000</td>\n",
       "      <td>0.000000</td>\n",
       "      <td>0.000000</td>\n",
       "      <td>0.000000</td>\n",
       "      <td>33000.000000</td>\n",
       "      <td>0.000000</td>\n",
       "      <td>-60.000000</td>\n",
       "      <td>0.000000</td>\n",
       "      <td>36.000000</td>\n",
       "      <td>0.000000</td>\n",
       "      <td>0.000000</td>\n",
       "      <td>0.000000</td>\n",
       "      <td>0.000000</td>\n",
       "      <td>0.000000</td>\n",
       "      <td>2.0</td>\n",
       "    </tr>\n",
       "    <tr>\n",
       "      <th>25%</th>\n",
       "      <td>60.000000</td>\n",
       "      <td>0.000000</td>\n",
       "      <td>0.000000</td>\n",
       "      <td>12.000000</td>\n",
       "      <td>12.000000</td>\n",
       "      <td>0.000000</td>\n",
       "      <td>1.000000</td>\n",
       "      <td>1.000000</td>\n",
       "      <td>0.000000</td>\n",
       "      <td>0.000000</td>\n",
       "      <td>0.000000</td>\n",
       "      <td>1.000000</td>\n",
       "      <td>1.000000</td>\n",
       "      <td>0.000000</td>\n",
       "      <td>0.000000</td>\n",
       "      <td>0.000000</td>\n",
       "      <td>43000.000000</td>\n",
       "      <td>1068.000000</td>\n",
       "      <td>650.000000</td>\n",
       "      <td>200.000000</td>\n",
       "      <td>78.000000</td>\n",
       "      <td>0.000000</td>\n",
       "      <td>0.000000</td>\n",
       "      <td>0.000000</td>\n",
       "      <td>0.000000</td>\n",
       "      <td>0.000000</td>\n",
       "      <td>2.0</td>\n",
       "    </tr>\n",
       "    <tr>\n",
       "      <th>50%</th>\n",
       "      <td>300.000000</td>\n",
       "      <td>0.000000</td>\n",
       "      <td>0.000000</td>\n",
       "      <td>12.000000</td>\n",
       "      <td>12.000000</td>\n",
       "      <td>1.000000</td>\n",
       "      <td>1.000000</td>\n",
       "      <td>1.000000</td>\n",
       "      <td>0.000000</td>\n",
       "      <td>1.000000</td>\n",
       "      <td>1.000000</td>\n",
       "      <td>1.000000</td>\n",
       "      <td>1.000000</td>\n",
       "      <td>0.000000</td>\n",
       "      <td>0.000000</td>\n",
       "      <td>0.000000</td>\n",
       "      <td>51080.000000</td>\n",
       "      <td>2136.000000</td>\n",
       "      <td>1860.000000</td>\n",
       "      <td>590.000000</td>\n",
       "      <td>85.000000</td>\n",
       "      <td>0.000000</td>\n",
       "      <td>1.000000</td>\n",
       "      <td>0.000000</td>\n",
       "      <td>0.000000</td>\n",
       "      <td>0.000000</td>\n",
       "      <td>2.0</td>\n",
       "    </tr>\n",
       "    <tr>\n",
       "      <th>75%</th>\n",
       "      <td>6000.000000</td>\n",
       "      <td>1068.000000</td>\n",
       "      <td>3.000000</td>\n",
       "      <td>12.000000</td>\n",
       "      <td>12.000000</td>\n",
       "      <td>1.000000</td>\n",
       "      <td>1.000000</td>\n",
       "      <td>1.000000</td>\n",
       "      <td>0.000000</td>\n",
       "      <td>1.000000</td>\n",
       "      <td>1.000000</td>\n",
       "      <td>1.000000</td>\n",
       "      <td>1.000000</td>\n",
       "      <td>1.000000</td>\n",
       "      <td>1.000000</td>\n",
       "      <td>0.000000</td>\n",
       "      <td>62000.000000</td>\n",
       "      <td>3204.000000</td>\n",
       "      <td>4775.000000</td>\n",
       "      <td>1470.000000</td>\n",
       "      <td>94.000000</td>\n",
       "      <td>0.000000</td>\n",
       "      <td>1.000000</td>\n",
       "      <td>0.000000</td>\n",
       "      <td>0.000000</td>\n",
       "      <td>0.000000</td>\n",
       "      <td>2.0</td>\n",
       "    </tr>\n",
       "    <tr>\n",
       "      <th>max</th>\n",
       "      <td>125000.000000</td>\n",
       "      <td>1068.000000</td>\n",
       "      <td>36.000000</td>\n",
       "      <td>12.000000</td>\n",
       "      <td>12.000000</td>\n",
       "      <td>1.000000</td>\n",
       "      <td>1.000000</td>\n",
       "      <td>1.000000</td>\n",
       "      <td>1.000000</td>\n",
       "      <td>1.000000</td>\n",
       "      <td>1.000000</td>\n",
       "      <td>1.000000</td>\n",
       "      <td>1.000000</td>\n",
       "      <td>1.000000</td>\n",
       "      <td>1.000000</td>\n",
       "      <td>1.000000</td>\n",
       "      <td>161470.000000</td>\n",
       "      <td>38272.000000</td>\n",
       "      <td>102960.000000</td>\n",
       "      <td>9950.000000</td>\n",
       "      <td>111.000000</td>\n",
       "      <td>1.000000</td>\n",
       "      <td>1.000000</td>\n",
       "      <td>1.000000</td>\n",
       "      <td>1.000000</td>\n",
       "      <td>1.000000</td>\n",
       "      <td>2.0</td>\n",
       "    </tr>\n",
       "  </tbody>\n",
       "</table>\n",
       "</div>\n",
       "      <button class=\"colab-df-convert\" onclick=\"convertToInteractive('df-24b45160-cb5d-4cfb-a4c7-a3e83a58e108')\"\n",
       "              title=\"Convert this dataframe to an interactive table.\"\n",
       "              style=\"display:none;\">\n",
       "        \n",
       "  <svg xmlns=\"http://www.w3.org/2000/svg\" height=\"24px\"viewBox=\"0 0 24 24\"\n",
       "       width=\"24px\">\n",
       "    <path d=\"M0 0h24v24H0V0z\" fill=\"none\"/>\n",
       "    <path d=\"M18.56 5.44l.94 2.06.94-2.06 2.06-.94-2.06-.94-.94-2.06-.94 2.06-2.06.94zm-11 1L8.5 8.5l.94-2.06 2.06-.94-2.06-.94L8.5 2.5l-.94 2.06-2.06.94zm10 10l.94 2.06.94-2.06 2.06-.94-2.06-.94-.94-2.06-.94 2.06-2.06.94z\"/><path d=\"M17.41 7.96l-1.37-1.37c-.4-.4-.92-.59-1.43-.59-.52 0-1.04.2-1.43.59L10.3 9.45l-7.72 7.72c-.78.78-.78 2.05 0 2.83L4 21.41c.39.39.9.59 1.41.59.51 0 1.02-.2 1.41-.59l7.78-7.78 2.81-2.81c.8-.78.8-2.07 0-2.86zM5.41 20L4 18.59l7.72-7.72 1.47 1.35L5.41 20z\"/>\n",
       "  </svg>\n",
       "      </button>\n",
       "      \n",
       "  <style>\n",
       "    .colab-df-container {\n",
       "      display:flex;\n",
       "      flex-wrap:wrap;\n",
       "      gap: 12px;\n",
       "    }\n",
       "\n",
       "    .colab-df-convert {\n",
       "      background-color: #E8F0FE;\n",
       "      border: none;\n",
       "      border-radius: 50%;\n",
       "      cursor: pointer;\n",
       "      display: none;\n",
       "      fill: #1967D2;\n",
       "      height: 32px;\n",
       "      padding: 0 0 0 0;\n",
       "      width: 32px;\n",
       "    }\n",
       "\n",
       "    .colab-df-convert:hover {\n",
       "      background-color: #E2EBFA;\n",
       "      box-shadow: 0px 1px 2px rgba(60, 64, 67, 0.3), 0px 1px 3px 1px rgba(60, 64, 67, 0.15);\n",
       "      fill: #174EA6;\n",
       "    }\n",
       "\n",
       "    [theme=dark] .colab-df-convert {\n",
       "      background-color: #3B4455;\n",
       "      fill: #D2E3FC;\n",
       "    }\n",
       "\n",
       "    [theme=dark] .colab-df-convert:hover {\n",
       "      background-color: #434B5C;\n",
       "      box-shadow: 0px 1px 3px 1px rgba(0, 0, 0, 0.15);\n",
       "      filter: drop-shadow(0px 1px 2px rgba(0, 0, 0, 0.3));\n",
       "      fill: #FFFFFF;\n",
       "    }\n",
       "  </style>\n",
       "\n",
       "      <script>\n",
       "        const buttonEl =\n",
       "          document.querySelector('#df-24b45160-cb5d-4cfb-a4c7-a3e83a58e108 button.colab-df-convert');\n",
       "        buttonEl.style.display =\n",
       "          google.colab.kernel.accessAllowed ? 'block' : 'none';\n",
       "\n",
       "        async function convertToInteractive(key) {\n",
       "          const element = document.querySelector('#df-24b45160-cb5d-4cfb-a4c7-a3e83a58e108');\n",
       "          const dataTable =\n",
       "            await google.colab.kernel.invokeFunction('convertToInteractive',\n",
       "                                                     [key], {});\n",
       "          if (!dataTable) return;\n",
       "\n",
       "          const docLinkHtml = 'Like what you see? Visit the ' +\n",
       "            '<a target=\"_blank\" href=https://colab.research.google.com/notebooks/data_table.ipynb>data table notebook</a>'\n",
       "            + ' to learn more about interactive tables.';\n",
       "          element.innerHTML = '';\n",
       "          dataTable['output_type'] = 'display_data';\n",
       "          await google.colab.output.renderOutput(dataTable, element);\n",
       "          const docLink = document.createElement('div');\n",
       "          docLink.innerHTML = docLinkHtml;\n",
       "          element.appendChild(docLink);\n",
       "        }\n",
       "      </script>\n",
       "    </div>\n",
       "  </div>\n",
       "  "
      ],
      "text/plain": [
       "       InscClaimAmtReimbursed  DeductibleAmtPaid  AdmittedDays  \\\n",
       "count            16387.000000       16387.000000  16387.000000   \n",
       "mean              7679.933484         298.158906      2.919876   \n",
       "std              15595.960656         477.168843      6.314482   \n",
       "min                  0.000000           0.000000      0.000000   \n",
       "25%                 60.000000           0.000000      0.000000   \n",
       "50%                300.000000           0.000000      0.000000   \n",
       "75%               6000.000000        1068.000000      3.000000   \n",
       "max             125000.000000        1068.000000     36.000000   \n",
       "\n",
       "       NoOfMonths_PartACov  NoOfMonths_PartBCov  ChronicCond_Alzheimer  \\\n",
       "count         16387.000000         16387.000000           16387.000000   \n",
       "mean             11.917984            11.958687               0.582474   \n",
       "std               0.961665             0.649622               0.493166   \n",
       "min               0.000000             0.000000               0.000000   \n",
       "25%              12.000000            12.000000               0.000000   \n",
       "50%              12.000000            12.000000               1.000000   \n",
       "75%              12.000000            12.000000               1.000000   \n",
       "max              12.000000            12.000000               1.000000   \n",
       "\n",
       "       ChronicCond_Heartfailure  ChronicCond_KidneyDisease  \\\n",
       "count              16387.000000               16387.000000   \n",
       "mean                   0.852566                   0.819552   \n",
       "std                    0.354549                   0.384572   \n",
       "min                    0.000000                   0.000000   \n",
       "25%                    1.000000                   1.000000   \n",
       "50%                    1.000000                   1.000000   \n",
       "75%                    1.000000                   1.000000   \n",
       "max                    1.000000                   1.000000   \n",
       "\n",
       "       ChronicCond_Cancer  ChronicCond_ObstrPulmonary  ChronicCond_Depression  \\\n",
       "count        16387.000000                16387.000000            16387.000000   \n",
       "mean             0.245194                    0.628669                0.576066   \n",
       "std              0.430216                    0.483175                0.494195   \n",
       "min              0.000000                    0.000000                0.000000   \n",
       "25%              0.000000                    0.000000                0.000000   \n",
       "50%              0.000000                    1.000000                1.000000   \n",
       "75%              0.000000                    1.000000                1.000000   \n",
       "max              1.000000                    1.000000                1.000000   \n",
       "\n",
       "       ChronicCond_Diabetes  ChronicCond_IschemicHeart  \\\n",
       "count          16387.000000               16387.000000   \n",
       "mean               0.902789                   0.945139   \n",
       "std                0.296254                   0.227715   \n",
       "min                0.000000                   0.000000   \n",
       "25%                1.000000                   1.000000   \n",
       "50%                1.000000                   1.000000   \n",
       "75%                1.000000                   1.000000   \n",
       "max                1.000000                   1.000000   \n",
       "\n",
       "       ChronicCond_Osteoporasis  ChronicCond_rheumatoidarthritis  \\\n",
       "count              16387.000000                     16387.000000   \n",
       "mean                   0.389638                         0.392079   \n",
       "std                    0.487683                         0.488229   \n",
       "min                    0.000000                         0.000000   \n",
       "25%                    0.000000                         0.000000   \n",
       "50%                    0.000000                         0.000000   \n",
       "75%                    1.000000                         1.000000   \n",
       "max                    1.000000                         1.000000   \n",
       "\n",
       "       ChronicCond_stroke  IPAnnualReimbursementAmt  IPAnnualDeductibleAmt  \\\n",
       "count        16387.000000              16387.000000           16387.000000   \n",
       "mean             0.247574              56207.274669            3095.962775   \n",
       "std              0.431616              19173.837626            2952.669423   \n",
       "min              0.000000              33000.000000               0.000000   \n",
       "25%              0.000000              43000.000000            1068.000000   \n",
       "50%              0.000000              51080.000000            2136.000000   \n",
       "75%              0.000000              62000.000000            3204.000000   \n",
       "max              1.000000             161470.000000           38272.000000   \n",
       "\n",
       "       OPAnnualReimbursementAmt  OPAnnualDeductibleAmt           Age  \\\n",
       "count              16387.000000           16387.000000  16387.000000   \n",
       "mean                4882.924879            1288.550925     84.338805   \n",
       "std                 8250.938820            1783.735416     13.353421   \n",
       "min                  -60.000000               0.000000     36.000000   \n",
       "25%                  650.000000             200.000000     78.000000   \n",
       "50%                 1860.000000             590.000000     85.000000   \n",
       "75%                 4775.000000            1470.000000     94.000000   \n",
       "max               102960.000000            9950.000000    111.000000   \n",
       "\n",
       "          DeadOrNot      Gender_2        Race_2        Race_3        Race_5  \\\n",
       "count  16387.000000  16387.000000  16387.000000  16387.000000  16387.000000   \n",
       "mean       0.005919      0.568621      0.121194      0.032099      0.018551   \n",
       "std        0.076711      0.495284      0.326362      0.176267      0.134938   \n",
       "min        0.000000      0.000000      0.000000      0.000000      0.000000   \n",
       "25%        0.000000      0.000000      0.000000      0.000000      0.000000   \n",
       "50%        0.000000      1.000000      0.000000      0.000000      0.000000   \n",
       "75%        0.000000      1.000000      0.000000      0.000000      0.000000   \n",
       "max        1.000000      1.000000      1.000000      1.000000      1.000000   \n",
       "\n",
       "       cluster_pca  \n",
       "count      16387.0  \n",
       "mean           2.0  \n",
       "std            0.0  \n",
       "min            2.0  \n",
       "25%            2.0  \n",
       "50%            2.0  \n",
       "75%            2.0  \n",
       "max            2.0  "
      ]
     },
     "execution_count": 93,
     "metadata": {},
     "output_type": "execute_result"
    }
   ],
   "source": [
    "train_final.loc[train_final['cluster_pca'] == 2].describe()\n"
   ]
  },
  {
   "cell_type": "code",
   "execution_count": 110,
   "metadata": {
    "colab": {
     "base_uri": "https://localhost:8080/"
    },
    "id": "OspqFevvKYNb",
    "outputId": "29aa2bb2-0fec-4609-c8a9-bd44e118b15b"
   },
   "outputs": [
    {
     "data": {
      "text/plain": [
       "cluster_pca\n",
       "0    2136\n",
       "1    4760\n",
       "2    4910\n",
       "Name: Provider, dtype: int64"
      ]
     },
     "execution_count": 110,
     "metadata": {},
     "output_type": "execute_result"
    }
   ],
   "source": [
    "train_final.groupby('cluster_pca')['Provider'].nunique()\n"
   ]
  },
  {
   "cell_type": "code",
   "execution_count": null,
   "metadata": {
    "colab": {
     "base_uri": "https://localhost:8080/"
    },
    "id": "7hDcX_4MLoV6",
    "outputId": "3d6bca8c-10d7-4150-df98-11ffbb72c5cd"
   },
   "outputs": [
    {
     "data": {
      "text/plain": [
       "5410"
      ]
     },
     "execution_count": 95,
     "metadata": {},
     "output_type": "execute_result"
    }
   ],
   "source": [
    "train_final['Provider'].nunique()"
   ]
  },
  {
   "cell_type": "code",
   "execution_count": 119,
   "metadata": {},
   "outputs": [
    {
     "data": {
      "text/html": [
       "<div>\n",
       "<style scoped>\n",
       "    .dataframe tbody tr th:only-of-type {\n",
       "        vertical-align: middle;\n",
       "    }\n",
       "\n",
       "    .dataframe tbody tr th {\n",
       "        vertical-align: top;\n",
       "    }\n",
       "\n",
       "    .dataframe thead th {\n",
       "        text-align: right;\n",
       "    }\n",
       "</style>\n",
       "<table border=\"1\" class=\"dataframe\">\n",
       "  <thead>\n",
       "    <tr style=\"text-align: right;\">\n",
       "      <th></th>\n",
       "      <th>InscClaimAmtReimbursed</th>\n",
       "      <th>DeductibleAmtPaid</th>\n",
       "      <th>IPAnnualReimbursementAmt</th>\n",
       "      <th>IPAnnualDeductibleAmt</th>\n",
       "      <th>OPAnnualReimbursementAmt</th>\n",
       "      <th>OPAnnualDeductibleAmt</th>\n",
       "      <th>ChronicCond_Heartfailure</th>\n",
       "      <th>ChronicCond_ObstrPulmonary</th>\n",
       "      <th>ChronicCond_KidneyDisease</th>\n",
       "    </tr>\n",
       "    <tr>\n",
       "      <th>cluster_pca</th>\n",
       "      <th></th>\n",
       "      <th></th>\n",
       "      <th></th>\n",
       "      <th></th>\n",
       "      <th></th>\n",
       "      <th></th>\n",
       "      <th></th>\n",
       "      <th></th>\n",
       "      <th></th>\n",
       "    </tr>\n",
       "  </thead>\n",
       "  <tbody>\n",
       "    <tr>\n",
       "      <th>0</th>\n",
       "      <td>10161.885773</td>\n",
       "      <td>1050.154955</td>\n",
       "      <td>17698.293348</td>\n",
       "      <td>1997.632252</td>\n",
       "      <td>1904.966352</td>\n",
       "      <td>528.353263</td>\n",
       "      <td>0.724964</td>\n",
       "      <td>0.480950</td>\n",
       "      <td>0.604808</td>\n",
       "    </tr>\n",
       "    <tr>\n",
       "      <th>1</th>\n",
       "      <td>366.400220</td>\n",
       "      <td>2.807162</td>\n",
       "      <td>8554.089790</td>\n",
       "      <td>887.775943</td>\n",
       "      <td>3669.145202</td>\n",
       "      <td>1025.423584</td>\n",
       "      <td>0.860469</td>\n",
       "      <td>0.548608</td>\n",
       "      <td>0.782414</td>\n",
       "    </tr>\n",
       "    <tr>\n",
       "      <th>2</th>\n",
       "      <td>235.567795</td>\n",
       "      <td>3.708453</td>\n",
       "      <td>1201.226383</td>\n",
       "      <td>151.746544</td>\n",
       "      <td>1333.420995</td>\n",
       "      <td>397.195505</td>\n",
       "      <td>0.379618</td>\n",
       "      <td>0.122255</td>\n",
       "      <td>0.121745</td>\n",
       "    </tr>\n",
       "  </tbody>\n",
       "</table>\n",
       "</div>"
      ],
      "text/plain": [
       "             InscClaimAmtReimbursed  DeductibleAmtPaid  \\\n",
       "cluster_pca                                              \n",
       "0                      10161.885773        1050.154955   \n",
       "1                        366.400220           2.807162   \n",
       "2                        235.567795           3.708453   \n",
       "\n",
       "             IPAnnualReimbursementAmt  IPAnnualDeductibleAmt  \\\n",
       "cluster_pca                                                    \n",
       "0                        17698.293348            1997.632252   \n",
       "1                         8554.089790             887.775943   \n",
       "2                         1201.226383             151.746544   \n",
       "\n",
       "             OPAnnualReimbursementAmt  OPAnnualDeductibleAmt  \\\n",
       "cluster_pca                                                    \n",
       "0                         1904.966352             528.353263   \n",
       "1                         3669.145202            1025.423584   \n",
       "2                         1333.420995             397.195505   \n",
       "\n",
       "             ChronicCond_Heartfailure  ChronicCond_ObstrPulmonary  \\\n",
       "cluster_pca                                                         \n",
       "0                            0.724964                    0.480950   \n",
       "1                            0.860469                    0.548608   \n",
       "2                            0.379618                    0.122255   \n",
       "\n",
       "             ChronicCond_KidneyDisease  \n",
       "cluster_pca                             \n",
       "0                             0.604808  \n",
       "1                             0.782414  \n",
       "2                             0.121745  "
      ]
     },
     "execution_count": 119,
     "metadata": {},
     "output_type": "execute_result"
    }
   ],
   "source": [
    "pdfTrain_avgByCluster = train_final.groupby('cluster_pca').agg({\\\n",
    "                                   'InscClaimAmtReimbursed':np.mean,\\\n",
    "                                   'DeductibleAmtPaid':np.mean,\\\n",
    "                                   'IPAnnualReimbursementAmt':np.mean,\\\n",
    "                                   'IPAnnualDeductibleAmt':np.mean,\\\n",
    "                                   'OPAnnualReimbursementAmt':np.mean,\\\n",
    "                                   'OPAnnualDeductibleAmt':np.mean,\\\n",
    "                                   'ChronicCond_Heartfailure':np.mean,\\\n",
    "                                   'ChronicCond_ObstrPulmonary':np.mean,\\\n",
    "                                   'ChronicCond_KidneyDisease':np.mean})\n",
    "\n",
    "pdfTrain_avgByCluster.head()"
   ]
  },
  {
   "cell_type": "code",
   "execution_count": 127,
   "metadata": {},
   "outputs": [
    {
     "data": {
      "text/plain": [
       "array([0, 1, 2], dtype=int32)"
      ]
     },
     "execution_count": 127,
     "metadata": {},
     "output_type": "execute_result"
    }
   ],
   "source": [
    "train_final['cluster_pca'].unique()"
   ]
  },
  {
   "cell_type": "code",
   "execution_count": 129,
   "metadata": {
    "colab": {
     "base_uri": "https://localhost:8080/",
     "height": 303
    },
    "id": "IQPQNVDtMw-Q",
    "outputId": "e01e5718-1d12-47d4-d102-9bd69eac6f75"
   },
   "outputs": [
    {
     "data": {
      "image/png": "[encoded data removed]",
      "text/plain": [
       "<Figure size 1000x400 with 1 Axes>"
      ]
     },
     "metadata": {},
     "output_type": "display_data"
    }
   ],
   "source": [
    "import seaborn as sns\n",
    "import matplotlib.pyplot as plt \n",
    "\n",
    "sns.set_style(\"white\")\n",
    "plt.figure(figsize=(10,4)) \n",
    "\n",
    "aryClusters = train_final['cluster_pca'].unique()\n",
    "\n",
    "sns.barplot(x=aryClusters, y='InscClaimAmtReimbursed', data=pdfTrain_avgByCluster)\n",
    "plt.ylabel('Avg. insurance claim amount reimbursed')\n",
    "plt.xlabel('Cluster #')\n",
    "sns.despine()"
   ]
  },
  {
   "cell_type": "code",
   "execution_count": 131,
   "metadata": {
    "colab": {
     "base_uri": "https://localhost:8080/",
     "height": 300
    },
    "id": "rKvBtWuENdgQ",
    "outputId": "eb558e7d-121e-4014-fb60-0908f7553365"
   },
   "outputs": [
    {
     "data": {
      "image/png": "[encoded data removed]",
      "text/plain": [
       "<Figure size 640x480 with 1 Axes>"
      ]
     },
     "metadata": {},
     "output_type": "display_data"
    }
   ],
   "source": [
    "sns.barplot(x=aryClusters, y='ChronicCond_Heartfailure', data=pdfTrain_avgByCluster)\n",
    "plt.ylabel('Avg. ChronicCond_Heartfailure')\n",
    "plt.xlabel('Cluster #')\n",
    "sns.despine()"
   ]
  },
  {
   "cell_type": "code",
   "execution_count": 132,
   "metadata": {
    "colab": {
     "base_uri": "https://localhost:8080/",
     "height": 300
    },
    "id": "iLGhMyUmN49A",
    "outputId": "c18bd45c-123b-401f-845b-e1cc618bda44"
   },
   "outputs": [
    {
     "data": {
      "image/png": "[encoded data removed]",
      "text/plain": [
       "<Figure size 640x480 with 1 Axes>"
      ]
     },
     "metadata": {},
     "output_type": "display_data"
    }
   ],
   "source": [
    "sns.barplot(x=aryClusters, y='DeductibleAmtPaid', data=pdfTrain_avgByCluster)\n",
    "plt.ylabel('Avg. deductible amount reimbursed')\n",
    "plt.xlabel('Cluster #')\n",
    "sns.despine()"
   ]
  },
  {
   "cell_type": "code",
   "execution_count": 133,
   "metadata": {
    "colab": {
     "base_uri": "https://localhost:8080/",
     "height": 300
    },
    "id": "EiOdMihMOg6E",
    "outputId": "48662e24-fb11-430c-adf8-9d839bd47439"
   },
   "outputs": [
    {
     "data": {
      "image/png": "[encoded data removed]",
      "text/plain": [
       "<Figure size 640x480 with 1 Axes>"
      ]
     },
     "metadata": {},
     "output_type": "display_data"
    }
   ],
   "source": [
    "sns.barplot(x=aryClusters, y='ChronicCond_KidneyDisease', data=pdfTrain_avgByCluster)\n",
    "plt.ylabel('Avg. ChronicCond_KidneyDisease')\n",
    "plt.xlabel('Cluster #')\n",
    "sns.despine()"
   ]
  },
  {
   "cell_type": "code",
   "execution_count": 134,
   "metadata": {
    "colab": {
     "base_uri": "https://localhost:8080/",
     "height": 300
    },
    "id": "nf1Zk5wpO5XS",
    "outputId": "341584af-336a-4441-880c-a008eea278a1"
   },
   "outputs": [
    {
     "data": {
      "image/png": "[encoded data removed]",
      "text/plain": [
       "<Figure size 640x480 with 1 Axes>"
      ]
     },
     "metadata": {},
     "output_type": "display_data"
    }
   ],
   "source": [
    "sns.barplot(x=aryClusters, y='ChronicCond_ObstrPulmonary', data=pdfTrain_avgByCluster)\n",
    "plt.ylabel('Avg. ChronicCond_ObstrPulmonary')\n",
    "plt.xlabel('Cluster #')\n",
    "sns.despine()"
   ]
  },
  {
   "cell_type": "code",
   "execution_count": 135,
   "metadata": {
    "colab": {
     "base_uri": "https://localhost:8080/",
     "height": 300
    },
    "id": "JMeC6DaLYcBB",
    "outputId": "50093764-3e40-405b-a813-9f32596ee019"
   },
   "outputs": [
    {
     "data": {
      "image/png": "[encoded data removed]",
      "text/plain": [
       "<Figure size 640x480 with 1 Axes>"
      ]
     },
     "metadata": {},
     "output_type": "display_data"
    }
   ],
   "source": [
    "sns.barplot(x=aryClusters, y='IPAnnualReimbursementAmt', data=pdfTrain_avgByCluster)\n",
    "plt.ylabel('Avg. IPAnnualReimbursementAmt')\n",
    "plt.xlabel('Cluster #')\n",
    "sns.despine()"
   ]
  },
  {
   "cell_type": "code",
   "execution_count": 137,
   "metadata": {
    "colab": {
     "base_uri": "https://localhost:8080/",
     "height": 300
    },
    "id": "D373EUh6ZBuo",
    "outputId": "8b800efd-fe08-4598-e5c6-fc7ff8c126d2"
   },
   "outputs": [
    {
     "data": {
      "image/png": "[encoded data removed]",
      "text/plain": [
       "<Figure size 640x480 with 1 Axes>"
      ]
     },
     "metadata": {},
     "output_type": "display_data"
    }
   ],
   "source": [
    "sns.barplot(x=aryClusters, y='IPAnnualDeductibleAmt', data=pdfTrain_avgByCluster)\n",
    "plt.ylabel('Avg. IPAnnualDeductibleAmt')\n",
    "plt.xlabel('Cluster #')\n",
    "sns.despine()\n"
   ]
  },
  {
   "cell_type": "code",
   "execution_count": null,
   "metadata": {
    "id": "0bXAa0ZeZuqW"
   },
   "outputs": [],
   "source": []
  }
 ],
 "metadata": {
  "colab": {
   "collapsed_sections": [
    "VsKXuTdyy5Lg",
    "MyzCpDbQzB_K",
    "DF29noY-zuJR",
    "dE8bWqjG1SaO",
    "Adb_wHlQ1_8u",
    "kuG1F9Zc299m",
    "8nT0eeKC5sJC",
    "1JNH-YWp6fru",
    "7As_Ff3m673K",
    "RmjNzKEg9Krk"
   ],
   "provenance": []
  },
  "kernelspec": {
   "display_name": "nbk_capstone",
   "language": "python",
   "name": "python3"
  },
  "language_info": {
   "codemirror_mode": {
    "name": "ipython",
    "version": 3
   },
   "file_extension": ".py",
   "mimetype": "text/x-python",
   "name": "python",
   "nbconvert_exporter": "python",
   "pygments_lexer": "ipython3",
   "version": "3.10.8"
  },
  "vscode": {
   "interpreter": {
    "hash": "d3ab443c0d0bf8c3dee1033b670a0023fd66ea910b2cdd19188de041be6594ec"
   }
  }
 },
 "nbformat": 4,
 "nbformat_minor": 1
}
