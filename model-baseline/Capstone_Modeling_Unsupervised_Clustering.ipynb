{
<<<<<<< HEAD
<<<<<<< HEAD
  "nbformat": 4,
  "nbformat_minor": 0,
  "metadata": {
    "colab": {
      "provenance": [],
      "toc_visible": true
    },
    "kernelspec": {
      "name": "python3",
      "display_name": "Python 3"
    },
    "language_info": {
      "name": "python"
    }
  },
  "cells": [
    {
      "cell_type": "markdown",
=======
=======
>>>>>>> 8735260d3ca5a4cec4948b7001761cc14fc1cc6e
  "cells": [
    {
      "cell_type": "markdown",
      "metadata": {
        "id": "oGQ5uB5WwHvJ"
      },
<<<<<<< HEAD
>>>>>>> 8735260d3ca5a4cec4948b7001761cc14fc1cc6e
=======
>>>>>>> 8735260d3ca5a4cec4948b7001761cc14fc1cc6e
      "source": [
        "**Business Objective**\n",
        "\n",
        "Rampant fraud in US healthcare system results in increased premiums for many vulnerable citizens who cannot afford to pay hefty price for a fundamental right such as healthcare. The aim is to find patterns of fraud commited by providers and train ML models to detect similar patterns in the future. Dataset for this capstone project is obtained from Kaggle [here](https://www.kaggle.com/code/rohitrox/medical-provider-fraud-detection/data).\n",
        "\n",
        "---\n",
        "\n",
        "\n",
        "Abuse in healthcare system can take many forms, such as:\n",
        "\n",
        "*Billing for services that were not rendered.\n",
        "\n",
        "*Duplicate submission of a claim for the same service.\n",
        "\n",
        "*Charging for a more complex or expensive than was actually provided."
<<<<<<< HEAD
<<<<<<< HEAD
      ],
      "metadata": {
        "id": "oGQ5uB5WwHvJ"
      }
    },
    {
      "cell_type": "markdown",
      "source": [
        "# Fetching Train and Test Files"
      ],
      "metadata": {
        "id": "VsKXuTdyy5Lg"
      }
    },
    {
      "cell_type": "code",
      "source": [
        "!pip install sklearn==0.0.post1"
      ],
=======
=======
>>>>>>> 8735260d3ca5a4cec4948b7001761cc14fc1cc6e
      ]
    },
    {
      "cell_type": "markdown",
      "metadata": {
        "id": "VsKXuTdyy5Lg"
      },
      "source": [
        "# Fetching Train and Test Files"
      ]
    },
    {
      "cell_type": "code",
      "execution_count": 1,
<<<<<<< HEAD
>>>>>>> 8735260d3ca5a4cec4948b7001761cc14fc1cc6e
=======
>>>>>>> 8735260d3ca5a4cec4948b7001761cc14fc1cc6e
      "metadata": {
        "colab": {
          "base_uri": "https://localhost:8080/"
        },
        "id": "3uENGd3z72D8",
<<<<<<< HEAD
<<<<<<< HEAD
        "outputId": "3731dd99-05fa-462e-bb47-a9a2c589c834"
      },
      "execution_count": 1,
=======
        "outputId": "4136846a-bcd1-4e39-f4f4-36d9617b9dd0"
      },
>>>>>>> 8735260d3ca5a4cec4948b7001761cc14fc1cc6e
=======
        "outputId": "4136846a-bcd1-4e39-f4f4-36d9617b9dd0"
      },
>>>>>>> 8735260d3ca5a4cec4948b7001761cc14fc1cc6e
      "outputs": [
        {
          "output_type": "stream",
          "name": "stdout",
          "text": [
            "Looking in indexes: https://pypi.org/simple, https://us-python.pkg.dev/colab-wheels/public/simple/\n",
            "Collecting sklearn==0.0.post1\n",
            "  Downloading sklearn-0.0.post1.tar.gz (3.6 kB)\n",
            "  Preparing metadata (setup.py) ... \u001b[?25l\u001b[?25hdone\n",
            "Building wheels for collected packages: sklearn\n",
            "  Building wheel for sklearn (setup.py) ... \u001b[?25l\u001b[?25hdone\n",
<<<<<<< HEAD
<<<<<<< HEAD
            "  Created wheel for sklearn: filename=sklearn-0.0.post1-py3-none-any.whl size=2344 sha256=5cfc537da8cd52021e183eb405157c47dcc3ce5f9931a1836d4b3efcc439fa94\n",
=======
            "  Created wheel for sklearn: filename=sklearn-0.0.post1-py3-none-any.whl size=2344 sha256=9ab62aa411477bf0ae600e4791aba83f1ce4b658435b0e8b54eea707d33eb9c1\n",
>>>>>>> 8735260d3ca5a4cec4948b7001761cc14fc1cc6e
=======
            "  Created wheel for sklearn: filename=sklearn-0.0.post1-py3-none-any.whl size=2344 sha256=9ab62aa411477bf0ae600e4791aba83f1ce4b658435b0e8b54eea707d33eb9c1\n",
>>>>>>> 8735260d3ca5a4cec4948b7001761cc14fc1cc6e
            "  Stored in directory: /root/.cache/pip/wheels/14/25/f7/1cc0956978ae479e75140219088deb7a36f60459df242b1a72\n",
            "Successfully built sklearn\n",
            "Installing collected packages: sklearn\n",
            "Successfully installed sklearn-0.0.post1\n"
          ]
        }
<<<<<<< HEAD
<<<<<<< HEAD
=======
      ],
      "source": [
        "!pip install sklearn==0.0.post1"
>>>>>>> 8735260d3ca5a4cec4948b7001761cc14fc1cc6e
=======
      ],
      "source": [
        "!pip install sklearn==0.0.post1"
>>>>>>> 8735260d3ca5a4cec4948b7001761cc14fc1cc6e
      ]
    },
    {
      "cell_type": "code",
<<<<<<< HEAD
<<<<<<< HEAD
      "source": [
        "import sklearn\n",
        "sklearn.__version__"
      ],
      "metadata": {
        "colab": {
          "base_uri": "https://localhost:8080/",
          "height": 56
        },
        "id": "bLHPa3Hq7aUp",
        "outputId": "a038692d-1d7a-45ae-92f5-cce94b3abd76"
      },
      "execution_count": 2,
=======
=======
>>>>>>> 8735260d3ca5a4cec4948b7001761cc14fc1cc6e
      "execution_count": 2,
      "metadata": {
        "colab": {
          "base_uri": "https://localhost:8080/",
          "height": 35
        },
        "id": "bLHPa3Hq7aUp",
        "outputId": "939f96fb-29c8-4737-d492-ab5cb54f0b77"
      },
<<<<<<< HEAD
>>>>>>> 8735260d3ca5a4cec4948b7001761cc14fc1cc6e
=======
>>>>>>> 8735260d3ca5a4cec4948b7001761cc14fc1cc6e
      "outputs": [
        {
          "output_type": "execute_result",
          "data": {
            "text/plain": [
              "'1.0.2'"
            ],
            "application/vnd.google.colaboratory.intrinsic+json": {
              "type": "string"
            }
          },
          "metadata": {},
          "execution_count": 2
        }
<<<<<<< HEAD
<<<<<<< HEAD
=======
=======
>>>>>>> 8735260d3ca5a4cec4948b7001761cc14fc1cc6e
      ],
      "source": [
        "import sklearn\n",
        "sklearn.__version__"
<<<<<<< HEAD
>>>>>>> 8735260d3ca5a4cec4948b7001761cc14fc1cc6e
=======
>>>>>>> 8735260d3ca5a4cec4948b7001761cc14fc1cc6e
      ]
    },
    {
      "cell_type": "code",
<<<<<<< HEAD
<<<<<<< HEAD
      "source": [
        "import numpy as np\n",
        "import pickle"
      ],
      "metadata": {
        "id": "p7mYKEZRI-v_"
      },
      "execution_count": 3,
      "outputs": []
    },
    {
      "cell_type": "code",
      "source": [
        "from google.colab import drive\n",
        "drive.mount('/content/drive')"
      ],
=======
=======
>>>>>>> 8735260d3ca5a4cec4948b7001761cc14fc1cc6e
      "execution_count": 3,
      "metadata": {
        "id": "p7mYKEZRI-v_"
      },
      "outputs": [],
      "source": [
        "import numpy as np\n",
        "import pickle"
      ]
    },
    {
      "cell_type": "code",
      "execution_count": 4,
<<<<<<< HEAD
>>>>>>> 8735260d3ca5a4cec4948b7001761cc14fc1cc6e
=======
>>>>>>> 8735260d3ca5a4cec4948b7001761cc14fc1cc6e
      "metadata": {
        "colab": {
          "base_uri": "https://localhost:8080/"
        },
        "id": "iT4Y0NjcKlfr",
<<<<<<< HEAD
<<<<<<< HEAD
        "outputId": "c414b616-e941-456c-84d0-2e78dc837773"
      },
      "execution_count": 4,
=======
        "outputId": "38c2d87a-6556-4063-eba7-e0a96104fb65"
      },
>>>>>>> 8735260d3ca5a4cec4948b7001761cc14fc1cc6e
=======
        "outputId": "38c2d87a-6556-4063-eba7-e0a96104fb65"
      },
>>>>>>> 8735260d3ca5a4cec4948b7001761cc14fc1cc6e
      "outputs": [
        {
          "output_type": "stream",
          "name": "stdout",
          "text": [
            "Mounted at /content/drive\n"
          ]
        }
<<<<<<< HEAD
<<<<<<< HEAD
=======
=======
>>>>>>> 8735260d3ca5a4cec4948b7001761cc14fc1cc6e
      ],
      "source": [
        "from google.colab import drive\n",
        "drive.mount('/content/drive')"
<<<<<<< HEAD
>>>>>>> 8735260d3ca5a4cec4948b7001761cc14fc1cc6e
=======
>>>>>>> 8735260d3ca5a4cec4948b7001761cc14fc1cc6e
      ]
    },
    {
      "cell_type": "code",
<<<<<<< HEAD
<<<<<<< HEAD
      "source": [
        "!ls /content/drive/MyDrive/fourthbrain"
      ],
=======
      "execution_count": 5,
>>>>>>> 8735260d3ca5a4cec4948b7001761cc14fc1cc6e
=======
      "execution_count": 5,
>>>>>>> 8735260d3ca5a4cec4948b7001761cc14fc1cc6e
      "metadata": {
        "colab": {
          "base_uri": "https://localhost:8080/"
        },
        "id": "fxRPjtPlXexS",
<<<<<<< HEAD
<<<<<<< HEAD
        "outputId": "ee266a89-19eb-46f2-ed05-c3afdd07239a"
      },
      "execution_count": 5,
=======
        "outputId": "ee948bb0-909a-4d7b-fdce-57d108768dce"
      },
>>>>>>> 8735260d3ca5a4cec4948b7001761cc14fc1cc6e
=======
        "outputId": "ee948bb0-909a-4d7b-fdce-57d108768dce"
      },
>>>>>>> 8735260d3ca5a4cec4948b7001761cc14fc1cc6e
      "outputs": [
        {
          "output_type": "stream",
          "name": "stdout",
          "text": [
            "dog_dataset\t\t\t\tTrain_Beneficiarydata-1542865627584.csv\n",
            "Test-1542969243754.csv\t\t\tTrain_Inpatientdata-1542865627584.csv\n",
            "Test_Beneficiarydata-1542969243754.csv\tTrain_Outpatientdata-1542865627584.csv\n",
            "Test_Inpatientdata-1542969243754.csv\ttweets.csv.gz\n",
            "Test_Outpatientdata-1542969243754.csv\ttwitter-mask.png\n",
            "Train-1542865627584.csv\n"
          ]
        }
<<<<<<< HEAD
<<<<<<< HEAD
=======
      ],
      "source": [
        "!ls /content/drive/MyDrive/fourthbrain"
>>>>>>> 8735260d3ca5a4cec4948b7001761cc14fc1cc6e
=======
      ],
      "source": [
        "!ls /content/drive/MyDrive/fourthbrain"
>>>>>>> 8735260d3ca5a4cec4948b7001761cc14fc1cc6e
      ]
    },
    {
      "cell_type": "code",
<<<<<<< HEAD
<<<<<<< HEAD
=======
=======
>>>>>>> 8735260d3ca5a4cec4948b7001761cc14fc1cc6e
      "execution_count": 6,
      "metadata": {
        "id": "aVrfisylwe3Q"
      },
      "outputs": [],
<<<<<<< HEAD
>>>>>>> 8735260d3ca5a4cec4948b7001761cc14fc1cc6e
=======
>>>>>>> 8735260d3ca5a4cec4948b7001761cc14fc1cc6e
      "source": [
        "import pandas as pd\n",
        "import os\n",
        "pathname = '/content/drive/MyDrive/fourthbrain'\n",
        "\n",
        "train_df = pd.read_csv(os.path.join(pathname,'Train-1542865627584.csv'))\n",
        "train_beneficiary_df = pd.read_csv(os.path.join(pathname,'Train_Beneficiarydata-1542865627584.csv'))\n",
        "train_inpatient_df = pd.read_csv(os.path.join(pathname,'Train_Inpatientdata-1542865627584.csv'))\n",
        "train_outpatient_df = pd.read_csv(os.path.join(pathname,'Train_Outpatientdata-1542865627584.csv'))\n",
        "\n",
        "test_df = pd.read_csv(os.path.join(pathname,'Test-1542969243754.csv'))\n",
        "test_beneficiary_df = pd.read_csv(os.path.join(pathname,'Test_Beneficiarydata-1542969243754.csv'))\n",
        "test_inpatient_df = pd.read_csv(os.path.join(pathname,'Test_Inpatientdata-1542969243754.csv'))\n",
        "test_outpatient_df = pd.read_csv(os.path.join(pathname,'Test_Outpatientdata-1542969243754.csv'))"
<<<<<<< HEAD
<<<<<<< HEAD
      ],
      "metadata": {
        "id": "aVrfisylwe3Q"
      },
      "execution_count": 6,
      "outputs": []
    },
    {
      "cell_type": "markdown",
      "source": [
        "# Data Engineering on Beneficiary Dataset"
      ],
      "metadata": {
        "id": "MyzCpDbQzB_K"
      }
    },
    {
      "cell_type": "code",
      "source": [
        "train_beneficiary_df['ChronicCond_Alzheimer'].value_counts()"
      ],
=======
=======
>>>>>>> 8735260d3ca5a4cec4948b7001761cc14fc1cc6e
      ]
    },
    {
      "cell_type": "markdown",
      "metadata": {
        "id": "MyzCpDbQzB_K"
      },
      "source": [
        "# Data Engineering on Beneficiary Dataset"
      ]
    },
    {
      "cell_type": "code",
      "execution_count": 7,
<<<<<<< HEAD
>>>>>>> 8735260d3ca5a4cec4948b7001761cc14fc1cc6e
=======
>>>>>>> 8735260d3ca5a4cec4948b7001761cc14fc1cc6e
      "metadata": {
        "colab": {
          "base_uri": "https://localhost:8080/"
        },
        "id": "wn9BwzZdxs-9",
<<<<<<< HEAD
<<<<<<< HEAD
        "outputId": "f352bb99-b012-4d1c-8d5e-2a0564783f00"
      },
      "execution_count": 7,
=======
        "outputId": "8387fb7f-7599-4a21-d896-4f2ffda8828b"
      },
>>>>>>> 8735260d3ca5a4cec4948b7001761cc14fc1cc6e
=======
        "outputId": "8387fb7f-7599-4a21-d896-4f2ffda8828b"
      },
>>>>>>> 8735260d3ca5a4cec4948b7001761cc14fc1cc6e
      "outputs": [
        {
          "output_type": "execute_result",
          "data": {
            "text/plain": [
              "2    92530\n",
              "1    46026\n",
              "Name: ChronicCond_Alzheimer, dtype: int64"
            ]
          },
          "metadata": {},
          "execution_count": 7
        }
<<<<<<< HEAD
<<<<<<< HEAD
=======
      ],
      "source": [
        "train_beneficiary_df['ChronicCond_Alzheimer'].value_counts()"
>>>>>>> 8735260d3ca5a4cec4948b7001761cc14fc1cc6e
=======
      ],
      "source": [
        "train_beneficiary_df['ChronicCond_Alzheimer'].value_counts()"
>>>>>>> 8735260d3ca5a4cec4948b7001761cc14fc1cc6e
      ]
    },
    {
      "cell_type": "code",
<<<<<<< HEAD
<<<<<<< HEAD
      "source": [
        "train_beneficiary_df['ChronicCond_Heartfailure'].value_counts()"
      ],
=======
      "execution_count": 8,
>>>>>>> 8735260d3ca5a4cec4948b7001761cc14fc1cc6e
=======
      "execution_count": 8,
>>>>>>> 8735260d3ca5a4cec4948b7001761cc14fc1cc6e
      "metadata": {
        "colab": {
          "base_uri": "https://localhost:8080/"
        },
        "id": "dXzeDnfbyBXA",
<<<<<<< HEAD
<<<<<<< HEAD
        "outputId": "36fa4b7d-e100-4238-db7a-719da248eb18"
      },
      "execution_count": 8,
=======
        "outputId": "2489f81d-b896-4b8e-993d-eb968008cc33"
      },
>>>>>>> 8735260d3ca5a4cec4948b7001761cc14fc1cc6e
=======
        "outputId": "2489f81d-b896-4b8e-993d-eb968008cc33"
      },
>>>>>>> 8735260d3ca5a4cec4948b7001761cc14fc1cc6e
      "outputs": [
        {
          "output_type": "execute_result",
          "data": {
            "text/plain": [
              "2    70154\n",
              "1    68402\n",
              "Name: ChronicCond_Heartfailure, dtype: int64"
            ]
          },
          "metadata": {},
          "execution_count": 8
        }
<<<<<<< HEAD
<<<<<<< HEAD
=======
      ],
      "source": [
        "train_beneficiary_df['ChronicCond_Heartfailure'].value_counts()"
>>>>>>> 8735260d3ca5a4cec4948b7001761cc14fc1cc6e
=======
      ],
      "source": [
        "train_beneficiary_df['ChronicCond_Heartfailure'].value_counts()"
>>>>>>> 8735260d3ca5a4cec4948b7001761cc14fc1cc6e
      ]
    },
    {
      "cell_type": "code",
<<<<<<< HEAD
<<<<<<< HEAD
      "source": [
        "train_beneficiary_df['ChronicCond_Cancer'].value_counts()"
      ],
=======
      "execution_count": 9,
>>>>>>> 8735260d3ca5a4cec4948b7001761cc14fc1cc6e
=======
      "execution_count": 9,
>>>>>>> 8735260d3ca5a4cec4948b7001761cc14fc1cc6e
      "metadata": {
        "colab": {
          "base_uri": "https://localhost:8080/"
        },
        "id": "0TSaPAysyHWD",
<<<<<<< HEAD
<<<<<<< HEAD
        "outputId": "6f7ae258-b797-4310-891c-0bfad7357a33"
      },
      "execution_count": 9,
=======
        "outputId": "30d71c76-6f00-419f-c04a-9aaee87b6208"
      },
>>>>>>> 8735260d3ca5a4cec4948b7001761cc14fc1cc6e
=======
        "outputId": "30d71c76-6f00-419f-c04a-9aaee87b6208"
      },
>>>>>>> 8735260d3ca5a4cec4948b7001761cc14fc1cc6e
      "outputs": [
        {
          "output_type": "execute_result",
          "data": {
            "text/plain": [
              "2    121935\n",
              "1     16621\n",
              "Name: ChronicCond_Cancer, dtype: int64"
            ]
          },
          "metadata": {},
          "execution_count": 9
        }
<<<<<<< HEAD
<<<<<<< HEAD
=======
      ],
      "source": [
        "train_beneficiary_df['ChronicCond_Cancer'].value_counts()"
>>>>>>> 8735260d3ca5a4cec4948b7001761cc14fc1cc6e
=======
      ],
      "source": [
        "train_beneficiary_df['ChronicCond_Cancer'].value_counts()"
>>>>>>> 8735260d3ca5a4cec4948b7001761cc14fc1cc6e
      ]
    },
    {
      "cell_type": "code",
<<<<<<< HEAD
<<<<<<< HEAD
      "source": [
        "test_beneficiary_df['ChronicCond_Cancer'].value_counts()"
      ],
=======
      "execution_count": 10,
>>>>>>> 8735260d3ca5a4cec4948b7001761cc14fc1cc6e
=======
      "execution_count": 10,
>>>>>>> 8735260d3ca5a4cec4948b7001761cc14fc1cc6e
      "metadata": {
        "colab": {
          "base_uri": "https://localhost:8080/"
        },
        "id": "LOdtEiDHzhV_",
<<<<<<< HEAD
<<<<<<< HEAD
        "outputId": "b7315eaa-f598-4d1a-a619-c4c9f6c20ec4"
      },
      "execution_count": 10,
=======
        "outputId": "fc96d9fb-a2c3-4dbd-f08b-8e06b457b213"
      },
>>>>>>> 8735260d3ca5a4cec4948b7001761cc14fc1cc6e
=======
        "outputId": "fc96d9fb-a2c3-4dbd-f08b-8e06b457b213"
      },
>>>>>>> 8735260d3ca5a4cec4948b7001761cc14fc1cc6e
      "outputs": [
        {
          "output_type": "execute_result",
          "data": {
            "text/plain": [
              "2    55176\n",
              "1     8792\n",
              "Name: ChronicCond_Cancer, dtype: int64"
            ]
          },
          "metadata": {},
          "execution_count": 10
        }
<<<<<<< HEAD
<<<<<<< HEAD
=======
      ],
      "source": [
        "test_beneficiary_df['ChronicCond_Cancer'].value_counts()"
>>>>>>> 8735260d3ca5a4cec4948b7001761cc14fc1cc6e
=======
      ],
      "source": [
        "test_beneficiary_df['ChronicCond_Cancer'].value_counts()"
>>>>>>> 8735260d3ca5a4cec4948b7001761cc14fc1cc6e
      ]
    },
    {
      "cell_type": "code",
<<<<<<< HEAD
<<<<<<< HEAD
=======
=======
>>>>>>> 8735260d3ca5a4cec4948b7001761cc14fc1cc6e
      "execution_count": 11,
      "metadata": {
        "id": "kIO05q2PyWfF"
      },
      "outputs": [],
<<<<<<< HEAD
>>>>>>> 8735260d3ca5a4cec4948b7001761cc14fc1cc6e
=======
>>>>>>> 8735260d3ca5a4cec4948b7001761cc14fc1cc6e
      "source": [
        "cols = ['ChronicCond_Alzheimer', 'ChronicCond_Heartfailure',\n",
        "       'ChronicCond_KidneyDisease', 'ChronicCond_Cancer',\n",
        "       'ChronicCond_ObstrPulmonary', 'ChronicCond_Depression',\n",
        "       'ChronicCond_Diabetes', 'ChronicCond_IschemicHeart',\n",
        "       'ChronicCond_Osteoporasis', 'ChronicCond_rheumatoidarthritis',\n",
        "       'ChronicCond_stroke'] \n",
        "\n",
        "for col in cols:\n",
        "  train_beneficiary_df.replace({col: 2}, 0, inplace=True)\n",
        "  test_beneficiary_df.replace({col: 2}, 0, inplace=True)"
<<<<<<< HEAD
<<<<<<< HEAD
      ],
      "metadata": {
        "id": "kIO05q2PyWfF"
      },
      "execution_count": 11,
      "outputs": []
    },
    {
      "cell_type": "code",
      "source": [
        "train_beneficiary_df['ChronicCond_Alzheimer'].value_counts()"
      ],
=======
=======
>>>>>>> 8735260d3ca5a4cec4948b7001761cc14fc1cc6e
      ]
    },
    {
      "cell_type": "code",
      "execution_count": 12,
<<<<<<< HEAD
>>>>>>> 8735260d3ca5a4cec4948b7001761cc14fc1cc6e
=======
>>>>>>> 8735260d3ca5a4cec4948b7001761cc14fc1cc6e
      "metadata": {
        "colab": {
          "base_uri": "https://localhost:8080/"
        },
        "id": "OzS-qEypyuSn",
<<<<<<< HEAD
<<<<<<< HEAD
        "outputId": "cdce26f4-8a85-498f-870b-1628786243d1"
      },
      "execution_count": 12,
=======
        "outputId": "b03672ac-c888-4252-d262-5d2986cf00e1"
      },
>>>>>>> 8735260d3ca5a4cec4948b7001761cc14fc1cc6e
=======
        "outputId": "b03672ac-c888-4252-d262-5d2986cf00e1"
      },
>>>>>>> 8735260d3ca5a4cec4948b7001761cc14fc1cc6e
      "outputs": [
        {
          "output_type": "execute_result",
          "data": {
            "text/plain": [
              "0    92530\n",
              "1    46026\n",
              "Name: ChronicCond_Alzheimer, dtype: int64"
            ]
          },
          "metadata": {},
          "execution_count": 12
        }
<<<<<<< HEAD
<<<<<<< HEAD
=======
      ],
      "source": [
        "train_beneficiary_df['ChronicCond_Alzheimer'].value_counts()"
>>>>>>> 8735260d3ca5a4cec4948b7001761cc14fc1cc6e
=======
      ],
      "source": [
        "train_beneficiary_df['ChronicCond_Alzheimer'].value_counts()"
>>>>>>> 8735260d3ca5a4cec4948b7001761cc14fc1cc6e
      ]
    },
    {
      "cell_type": "code",
<<<<<<< HEAD
<<<<<<< HEAD
      "source": [
        "train_beneficiary_df['ChronicCond_Heartfailure'].value_counts()"
      ],
=======
      "execution_count": 13,
>>>>>>> 8735260d3ca5a4cec4948b7001761cc14fc1cc6e
=======
      "execution_count": 13,
>>>>>>> 8735260d3ca5a4cec4948b7001761cc14fc1cc6e
      "metadata": {
        "colab": {
          "base_uri": "https://localhost:8080/"
        },
        "id": "vlbHzEwPysTu",
<<<<<<< HEAD
<<<<<<< HEAD
        "outputId": "a813c519-5f08-4e37-f6c3-08f1f71a7c2b"
      },
      "execution_count": 13,
=======
        "outputId": "514b97e4-6aef-4519-b1e2-8599f114d68a"
      },
>>>>>>> 8735260d3ca5a4cec4948b7001761cc14fc1cc6e
=======
        "outputId": "514b97e4-6aef-4519-b1e2-8599f114d68a"
      },
>>>>>>> 8735260d3ca5a4cec4948b7001761cc14fc1cc6e
      "outputs": [
        {
          "output_type": "execute_result",
          "data": {
            "text/plain": [
              "0    70154\n",
              "1    68402\n",
              "Name: ChronicCond_Heartfailure, dtype: int64"
            ]
          },
          "metadata": {},
          "execution_count": 13
        }
<<<<<<< HEAD
<<<<<<< HEAD
=======
      ],
      "source": [
        "train_beneficiary_df['ChronicCond_Heartfailure'].value_counts()"
>>>>>>> 8735260d3ca5a4cec4948b7001761cc14fc1cc6e
=======
      ],
      "source": [
        "train_beneficiary_df['ChronicCond_Heartfailure'].value_counts()"
>>>>>>> 8735260d3ca5a4cec4948b7001761cc14fc1cc6e
      ]
    },
    {
      "cell_type": "code",
<<<<<<< HEAD
<<<<<<< HEAD
      "source": [
        "train_beneficiary_df['ChronicCond_Cancer'].value_counts()"
      ],
=======
      "execution_count": 14,
>>>>>>> 8735260d3ca5a4cec4948b7001761cc14fc1cc6e
=======
      "execution_count": 14,
>>>>>>> 8735260d3ca5a4cec4948b7001761cc14fc1cc6e
      "metadata": {
        "colab": {
          "base_uri": "https://localhost:8080/"
        },
        "id": "-EDo4flHypLW",
<<<<<<< HEAD
<<<<<<< HEAD
        "outputId": "714bbe4c-3f53-46bd-d43c-90abaa233a1d"
      },
      "execution_count": 14,
=======
        "outputId": "bfde619e-af91-4f62-e73c-f5dd1b088f80"
      },
>>>>>>> 8735260d3ca5a4cec4948b7001761cc14fc1cc6e
=======
        "outputId": "bfde619e-af91-4f62-e73c-f5dd1b088f80"
      },
>>>>>>> 8735260d3ca5a4cec4948b7001761cc14fc1cc6e
      "outputs": [
        {
          "output_type": "execute_result",
          "data": {
            "text/plain": [
              "0    121935\n",
              "1     16621\n",
              "Name: ChronicCond_Cancer, dtype: int64"
            ]
          },
          "metadata": {},
          "execution_count": 14
        }
<<<<<<< HEAD
<<<<<<< HEAD
=======
      ],
      "source": [
        "train_beneficiary_df['ChronicCond_Cancer'].value_counts()"
>>>>>>> 8735260d3ca5a4cec4948b7001761cc14fc1cc6e
=======
      ],
      "source": [
        "train_beneficiary_df['ChronicCond_Cancer'].value_counts()"
>>>>>>> 8735260d3ca5a4cec4948b7001761cc14fc1cc6e
      ]
    },
    {
      "cell_type": "code",
<<<<<<< HEAD
<<<<<<< HEAD
      "source": [
        "test_beneficiary_df['ChronicCond_Cancer'].value_counts()"
      ],
=======
      "execution_count": 15,
>>>>>>> 8735260d3ca5a4cec4948b7001761cc14fc1cc6e
=======
      "execution_count": 15,
>>>>>>> 8735260d3ca5a4cec4948b7001761cc14fc1cc6e
      "metadata": {
        "colab": {
          "base_uri": "https://localhost:8080/"
        },
        "id": "orUUSj-AyrQv",
<<<<<<< HEAD
<<<<<<< HEAD
        "outputId": "d476fc7c-147e-4c47-96ee-5bc068afa104"
      },
      "execution_count": 15,
=======
        "outputId": "fa15227f-31b6-401d-b67f-ec6edec9e1a4"
      },
>>>>>>> 8735260d3ca5a4cec4948b7001761cc14fc1cc6e
=======
        "outputId": "fa15227f-31b6-401d-b67f-ec6edec9e1a4"
      },
>>>>>>> 8735260d3ca5a4cec4948b7001761cc14fc1cc6e
      "outputs": [
        {
          "output_type": "execute_result",
          "data": {
            "text/plain": [
              "0    55176\n",
              "1     8792\n",
              "Name: ChronicCond_Cancer, dtype: int64"
            ]
          },
          "metadata": {},
          "execution_count": 15
        }
<<<<<<< HEAD
<<<<<<< HEAD
=======
      ],
      "source": [
        "test_beneficiary_df['ChronicCond_Cancer'].value_counts()"
>>>>>>> 8735260d3ca5a4cec4948b7001761cc14fc1cc6e
=======
      ],
      "source": [
        "test_beneficiary_df['ChronicCond_Cancer'].value_counts()"
>>>>>>> 8735260d3ca5a4cec4948b7001761cc14fc1cc6e
      ]
    },
    {
      "cell_type": "markdown",
<<<<<<< HEAD
<<<<<<< HEAD
      "source": [
        "## Person's Age on Train dataset"
      ],
      "metadata": {
        "id": "DF29noY-zuJR"
      }
    },
    {
      "cell_type": "code",
=======
=======
>>>>>>> 8735260d3ca5a4cec4948b7001761cc14fc1cc6e
      "metadata": {
        "id": "DF29noY-zuJR"
      },
      "source": [
        "## Person's Age on Train dataset"
      ]
    },
    {
      "cell_type": "code",
      "execution_count": 16,
      "metadata": {
        "id": "85ZX55AxzelO"
      },
      "outputs": [],
<<<<<<< HEAD
>>>>>>> 8735260d3ca5a4cec4948b7001761cc14fc1cc6e
=======
>>>>>>> 8735260d3ca5a4cec4948b7001761cc14fc1cc6e
      "source": [
        "train_beneficiary_df['DOB'] = pd.to_datetime(train_beneficiary_df['DOB'], format = '%Y-%m-%d')\n",
        "train_beneficiary_df['DOD'] = pd.to_datetime(train_beneficiary_df['DOD'], format = '%Y-%m-%d') \n",
        "train_beneficiary_df['Age'] = round((train_beneficiary_df['DOD'] - train_beneficiary_df['DOB']).dt.days/365) "
<<<<<<< HEAD
<<<<<<< HEAD
      ],
      "metadata": {
        "id": "85ZX55AxzelO"
      },
      "execution_count": 16,
      "outputs": []
    },
    {
      "cell_type": "code",
      "source": [
        "train_beneficiary_df['Age'].isna().sum(), train_beneficiary_df.shape[0]"
      ],
=======
=======
>>>>>>> 8735260d3ca5a4cec4948b7001761cc14fc1cc6e
      ]
    },
    {
      "cell_type": "code",
      "execution_count": 17,
<<<<<<< HEAD
>>>>>>> 8735260d3ca5a4cec4948b7001761cc14fc1cc6e
=======
>>>>>>> 8735260d3ca5a4cec4948b7001761cc14fc1cc6e
      "metadata": {
        "colab": {
          "base_uri": "https://localhost:8080/"
        },
        "id": "3cHryIBB0BzR",
<<<<<<< HEAD
<<<<<<< HEAD
        "outputId": "0096e8a2-85ed-49b9-bc30-a731b901a636"
      },
      "execution_count": 17,
=======
        "outputId": "ec71cd37-026d-4eb2-d7f4-f5677585bb01"
      },
>>>>>>> 8735260d3ca5a4cec4948b7001761cc14fc1cc6e
=======
        "outputId": "ec71cd37-026d-4eb2-d7f4-f5677585bb01"
      },
>>>>>>> 8735260d3ca5a4cec4948b7001761cc14fc1cc6e
      "outputs": [
        {
          "output_type": "execute_result",
          "data": {
            "text/plain": [
              "(137135, 138556)"
            ]
          },
          "metadata": {},
          "execution_count": 17
        }
<<<<<<< HEAD
<<<<<<< HEAD
=======
      ],
      "source": [
        "train_beneficiary_df['Age'].isna().sum(), train_beneficiary_df.shape[0]"
>>>>>>> 8735260d3ca5a4cec4948b7001761cc14fc1cc6e
=======
      ],
      "source": [
        "train_beneficiary_df['Age'].isna().sum(), train_beneficiary_df.shape[0]"
>>>>>>> 8735260d3ca5a4cec4948b7001761cc14fc1cc6e
      ]
    },
    {
      "cell_type": "markdown",
<<<<<<< HEAD
<<<<<<< HEAD
=======
      "metadata": {
        "id": "RdKffm8K0KP-"
      },
>>>>>>> 8735260d3ca5a4cec4948b7001761cc14fc1cc6e
=======
      "metadata": {
        "id": "RdKffm8K0KP-"
      },
>>>>>>> 8735260d3ca5a4cec4948b7001761cc14fc1cc6e
      "source": [
        "**Take-away message**\n",
        "\n",
        "There are 1421 beneficiaries still alive and we need to calculate their age as well. "
<<<<<<< HEAD
<<<<<<< HEAD
      ],
      "metadata": {
        "id": "RdKffm8K0KP-"
      }
    },
    {
      "cell_type": "code",
      "source": [
        "train_beneficiary_df['DOD'].max()"
      ],
=======
=======
>>>>>>> 8735260d3ca5a4cec4948b7001761cc14fc1cc6e
      ]
    },
    {
      "cell_type": "code",
      "execution_count": 18,
<<<<<<< HEAD
>>>>>>> 8735260d3ca5a4cec4948b7001761cc14fc1cc6e
=======
>>>>>>> 8735260d3ca5a4cec4948b7001761cc14fc1cc6e
      "metadata": {
        "colab": {
          "base_uri": "https://localhost:8080/"
        },
        "id": "rczZ6Gq90F-S",
<<<<<<< HEAD
<<<<<<< HEAD
        "outputId": "ec83f0b1-d96c-494b-b53b-472560330df5"
      },
      "execution_count": 18,
=======
        "outputId": "7371f001-04db-4819-a132-077ce786d3de"
      },
>>>>>>> 8735260d3ca5a4cec4948b7001761cc14fc1cc6e
=======
        "outputId": "7371f001-04db-4819-a132-077ce786d3de"
      },
>>>>>>> 8735260d3ca5a4cec4948b7001761cc14fc1cc6e
      "outputs": [
        {
          "output_type": "execute_result",
          "data": {
            "text/plain": [
              "Timestamp('2009-12-01 00:00:00')"
            ]
          },
          "metadata": {},
          "execution_count": 18
        }
<<<<<<< HEAD
<<<<<<< HEAD
=======
      ],
      "source": [
        "train_beneficiary_df['DOD'].max()"
>>>>>>> 8735260d3ca5a4cec4948b7001761cc14fc1cc6e
=======
      ],
      "source": [
        "train_beneficiary_df['DOD'].max()"
>>>>>>> 8735260d3ca5a4cec4948b7001761cc14fc1cc6e
      ]
    },
    {
      "cell_type": "markdown",
<<<<<<< HEAD
<<<<<<< HEAD
      "source": [
        "**Take-away message**\n",
        "Beneficiary data was last recorded on 2009-12-01, so we can calculate age of people that are still alive based on this date. "
      ],
      "metadata": {
        "id": "last8gUD0clQ"
      }
    },
    {
      "cell_type": "code",
      "source": [
        "train_beneficiary_df['Age'].fillna(round(((pd.to_datetime('2019-12-01', format='%Y-%m-%d') - train_beneficiary_df['DOB']).dt.days)/365), inplace=True)"
      ],
      "metadata": {
        "id": "MHojV0Y_0aG6"
      },
      "execution_count": 19,
      "outputs": []
    },
    {
      "cell_type": "code",
      "source": [
        "train_beneficiary_df.Age.isna().sum()"
      ],
=======
=======
>>>>>>> 8735260d3ca5a4cec4948b7001761cc14fc1cc6e
      "metadata": {
        "id": "last8gUD0clQ"
      },
      "source": [
        "**Take-away message**\n",
        "Beneficiary data was last recorded on 2009-12-01, so we can calculate age of people that are still alive based on this date. "
      ]
    },
    {
      "cell_type": "code",
      "execution_count": 19,
      "metadata": {
        "id": "MHojV0Y_0aG6"
      },
      "outputs": [],
      "source": [
        "train_beneficiary_df['Age'].fillna(round(((pd.to_datetime('2019-12-01', format='%Y-%m-%d') - train_beneficiary_df['DOB']).dt.days)/365), inplace=True)"
      ]
    },
    {
      "cell_type": "code",
      "execution_count": 20,
<<<<<<< HEAD
>>>>>>> 8735260d3ca5a4cec4948b7001761cc14fc1cc6e
=======
>>>>>>> 8735260d3ca5a4cec4948b7001761cc14fc1cc6e
      "metadata": {
        "colab": {
          "base_uri": "https://localhost:8080/"
        },
        "id": "Lf4eMebF1Fs3",
<<<<<<< HEAD
<<<<<<< HEAD
        "outputId": "b1ddecc3-22f5-44ca-d602-4255252bc54b"
      },
      "execution_count": 20,
=======
        "outputId": "f3e550b1-4271-4f23-f29d-cc5e9928301d"
      },
>>>>>>> 8735260d3ca5a4cec4948b7001761cc14fc1cc6e
=======
        "outputId": "f3e550b1-4271-4f23-f29d-cc5e9928301d"
      },
>>>>>>> 8735260d3ca5a4cec4948b7001761cc14fc1cc6e
      "outputs": [
        {
          "output_type": "execute_result",
          "data": {
            "text/plain": [
              "0"
            ]
          },
          "metadata": {},
          "execution_count": 20
        }
<<<<<<< HEAD
<<<<<<< HEAD
=======
      ],
      "source": [
        "train_beneficiary_df.Age.isna().sum()"
>>>>>>> 8735260d3ca5a4cec4948b7001761cc14fc1cc6e
=======
      ],
      "source": [
        "train_beneficiary_df.Age.isna().sum()"
>>>>>>> 8735260d3ca5a4cec4948b7001761cc14fc1cc6e
      ]
    },
    {
      "cell_type": "markdown",
<<<<<<< HEAD
<<<<<<< HEAD
      "source": [
        "## Person's Age on Test dataset"
      ],
      "metadata": {
        "id": "dE8bWqjG1SaO"
      }
    },
    {
      "cell_type": "code",
=======
=======
>>>>>>> 8735260d3ca5a4cec4948b7001761cc14fc1cc6e
      "metadata": {
        "id": "dE8bWqjG1SaO"
      },
      "source": [
        "## Person's Age on Test dataset"
      ]
    },
    {
      "cell_type": "code",
      "execution_count": 21,
      "metadata": {
        "id": "m4RlSQE61Liq"
      },
      "outputs": [],
<<<<<<< HEAD
>>>>>>> 8735260d3ca5a4cec4948b7001761cc14fc1cc6e
=======
>>>>>>> 8735260d3ca5a4cec4948b7001761cc14fc1cc6e
      "source": [
        "test_beneficiary_df['DOB'] = pd.to_datetime(test_beneficiary_df['DOB'], format = '%Y-%m-%d')\n",
        "test_beneficiary_df['DOD'] = pd.to_datetime(test_beneficiary_df['DOD'], format = '%Y-%m-%d') \n",
        "test_beneficiary_df['Age'] = round((test_beneficiary_df['DOD'] - test_beneficiary_df['DOB']).dt.days/365)"
<<<<<<< HEAD
<<<<<<< HEAD
      ],
      "metadata": {
        "id": "m4RlSQE61Liq"
      },
      "execution_count": 21,
      "outputs": []
    },
    {
      "cell_type": "code",
      "source": [
        "test_beneficiary_df['Age'].isna().sum(), test_beneficiary_df.shape[0]\n"
      ],
=======
=======
>>>>>>> 8735260d3ca5a4cec4948b7001761cc14fc1cc6e
      ]
    },
    {
      "cell_type": "code",
      "execution_count": 22,
<<<<<<< HEAD
>>>>>>> 8735260d3ca5a4cec4948b7001761cc14fc1cc6e
=======
>>>>>>> 8735260d3ca5a4cec4948b7001761cc14fc1cc6e
      "metadata": {
        "colab": {
          "base_uri": "https://localhost:8080/"
        },
        "id": "aX1c4-Ev1bD3",
<<<<<<< HEAD
<<<<<<< HEAD
        "outputId": "2bc5fa54-2993-47e9-e7a2-6e0d23473087"
      },
      "execution_count": 22,
=======
        "outputId": "ea1bf951-1a12-4100-fb8d-bf37d589a0e3"
      },
>>>>>>> 8735260d3ca5a4cec4948b7001761cc14fc1cc6e
=======
        "outputId": "ea1bf951-1a12-4100-fb8d-bf37d589a0e3"
      },
>>>>>>> 8735260d3ca5a4cec4948b7001761cc14fc1cc6e
      "outputs": [
        {
          "output_type": "execute_result",
          "data": {
            "text/plain": [
              "(63394, 63968)"
            ]
          },
          "metadata": {},
          "execution_count": 22
        }
<<<<<<< HEAD
<<<<<<< HEAD
=======
      ],
      "source": [
        "test_beneficiary_df['Age'].isna().sum(), test_beneficiary_df.shape[0]\n"
>>>>>>> 8735260d3ca5a4cec4948b7001761cc14fc1cc6e
=======
      ],
      "source": [
        "test_beneficiary_df['Age'].isna().sum(), test_beneficiary_df.shape[0]\n"
>>>>>>> 8735260d3ca5a4cec4948b7001761cc14fc1cc6e
      ]
    },
    {
      "cell_type": "code",
<<<<<<< HEAD
<<<<<<< HEAD
      "source": [
        "63968 - 63394 "
      ],
=======
      "execution_count": 23,
>>>>>>> 8735260d3ca5a4cec4948b7001761cc14fc1cc6e
=======
      "execution_count": 23,
>>>>>>> 8735260d3ca5a4cec4948b7001761cc14fc1cc6e
      "metadata": {
        "colab": {
          "base_uri": "https://localhost:8080/"
        },
        "id": "jqmCkPjX1eJa",
<<<<<<< HEAD
<<<<<<< HEAD
        "outputId": "0c91f6d8-4420-424e-ac75-b11b3f4eab93"
      },
      "execution_count": 23,
=======
        "outputId": "9f181c73-826f-42eb-f578-bf65154ca60e"
      },
>>>>>>> 8735260d3ca5a4cec4948b7001761cc14fc1cc6e
=======
        "outputId": "9f181c73-826f-42eb-f578-bf65154ca60e"
      },
>>>>>>> 8735260d3ca5a4cec4948b7001761cc14fc1cc6e
      "outputs": [
        {
          "output_type": "execute_result",
          "data": {
            "text/plain": [
              "574"
            ]
          },
          "metadata": {},
          "execution_count": 23
        }
<<<<<<< HEAD
<<<<<<< HEAD
=======
      ],
      "source": [
        "63968 - 63394 "
>>>>>>> 8735260d3ca5a4cec4948b7001761cc14fc1cc6e
=======
      ],
      "source": [
        "63968 - 63394 "
>>>>>>> 8735260d3ca5a4cec4948b7001761cc14fc1cc6e
      ]
    },
    {
      "cell_type": "markdown",
<<<<<<< HEAD
<<<<<<< HEAD
=======
      "metadata": {
        "id": "Mg-hMWRk1k8z"
      },
>>>>>>> 8735260d3ca5a4cec4948b7001761cc14fc1cc6e
=======
      "metadata": {
        "id": "Mg-hMWRk1k8z"
      },
>>>>>>> 8735260d3ca5a4cec4948b7001761cc14fc1cc6e
      "source": [
        "**Take-away message**\n",
        "\n",
        "In the test dataset, there are 574 beneficiaries that are still alive. We'll calculate their age based on the last recorded date. "
<<<<<<< HEAD
<<<<<<< HEAD
      ],
      "metadata": {
        "id": "Mg-hMWRk1k8z"
      }
    },
    {
      "cell_type": "code",
      "source": [
        "test_beneficiary_df['DOD'].max()\n"
      ],
=======
=======
>>>>>>> 8735260d3ca5a4cec4948b7001761cc14fc1cc6e
      ]
    },
    {
      "cell_type": "code",
      "execution_count": 24,
<<<<<<< HEAD
>>>>>>> 8735260d3ca5a4cec4948b7001761cc14fc1cc6e
=======
>>>>>>> 8735260d3ca5a4cec4948b7001761cc14fc1cc6e
      "metadata": {
        "colab": {
          "base_uri": "https://localhost:8080/"
        },
        "id": "p3oEc9sB1jof",
<<<<<<< HEAD
<<<<<<< HEAD
        "outputId": "c560e9b6-cde1-48e0-e3cc-64cca00f1180"
      },
      "execution_count": 24,
=======
        "outputId": "47dba4bf-6987-49c5-ed93-1d4f5491e063"
      },
>>>>>>> 8735260d3ca5a4cec4948b7001761cc14fc1cc6e
=======
        "outputId": "47dba4bf-6987-49c5-ed93-1d4f5491e063"
      },
>>>>>>> 8735260d3ca5a4cec4948b7001761cc14fc1cc6e
      "outputs": [
        {
          "output_type": "execute_result",
          "data": {
            "text/plain": [
              "Timestamp('2009-12-01 00:00:00')"
            ]
          },
          "metadata": {},
          "execution_count": 24
        }
<<<<<<< HEAD
<<<<<<< HEAD
=======
      ],
      "source": [
        "test_beneficiary_df['DOD'].max()\n"
>>>>>>> 8735260d3ca5a4cec4948b7001761cc14fc1cc6e
=======
      ],
      "source": [
        "test_beneficiary_df['DOD'].max()\n"
>>>>>>> 8735260d3ca5a4cec4948b7001761cc14fc1cc6e
      ]
    },
    {
      "cell_type": "code",
<<<<<<< HEAD
<<<<<<< HEAD
      "source": [
        "test_beneficiary_df['Age'].fillna(round(((pd.to_datetime('2019-12-01', format='%Y-%m-%d') - test_beneficiary_df['DOB']).dt.days)/365), inplace=True)\n"
      ],
      "metadata": {
        "id": "q_WIjbif1zTX"
      },
      "execution_count": 25,
      "outputs": []
    },
    {
      "cell_type": "code",
      "source": [
        "test_beneficiary_df.Age.isna().sum()\n"
      ],
=======
=======
>>>>>>> 8735260d3ca5a4cec4948b7001761cc14fc1cc6e
      "execution_count": 25,
      "metadata": {
        "id": "q_WIjbif1zTX"
      },
      "outputs": [],
      "source": [
        "test_beneficiary_df['Age'].fillna(round(((pd.to_datetime('2019-12-01', format='%Y-%m-%d') - test_beneficiary_df['DOB']).dt.days)/365), inplace=True)\n"
      ]
    },
    {
      "cell_type": "code",
      "execution_count": 26,
<<<<<<< HEAD
>>>>>>> 8735260d3ca5a4cec4948b7001761cc14fc1cc6e
=======
>>>>>>> 8735260d3ca5a4cec4948b7001761cc14fc1cc6e
      "metadata": {
        "colab": {
          "base_uri": "https://localhost:8080/"
        },
        "id": "KG77e0gv15lo",
<<<<<<< HEAD
<<<<<<< HEAD
        "outputId": "0bbd2d3b-8bbd-4790-e6ce-ae213fe1bcc0"
      },
      "execution_count": 26,
=======
        "outputId": "bf5d56ec-76ff-4325-84a8-c00571d1d9cb"
      },
>>>>>>> 8735260d3ca5a4cec4948b7001761cc14fc1cc6e
=======
        "outputId": "bf5d56ec-76ff-4325-84a8-c00571d1d9cb"
      },
>>>>>>> 8735260d3ca5a4cec4948b7001761cc14fc1cc6e
      "outputs": [
        {
          "output_type": "execute_result",
          "data": {
            "text/plain": [
              "0"
            ]
          },
          "metadata": {},
          "execution_count": 26
        }
<<<<<<< HEAD
<<<<<<< HEAD
=======
      ],
      "source": [
        "test_beneficiary_df.Age.isna().sum()\n"
>>>>>>> 8735260d3ca5a4cec4948b7001761cc14fc1cc6e
=======
      ],
      "source": [
        "test_beneficiary_df.Age.isna().sum()\n"
>>>>>>> 8735260d3ca5a4cec4948b7001761cc14fc1cc6e
      ]
    },
    {
      "cell_type": "markdown",
<<<<<<< HEAD
<<<<<<< HEAD
      "source": [
        "## Add dead flag column"
      ],
      "metadata": {
        "id": "Adb_wHlQ1_8u"
      }
    },
    {
      "cell_type": "code",
      "source": [
        "train_beneficiary_df.shape"
      ],
=======
=======
>>>>>>> 8735260d3ca5a4cec4948b7001761cc14fc1cc6e
      "metadata": {
        "id": "Adb_wHlQ1_8u"
      },
      "source": [
        "## Add dead flag column"
      ]
    },
    {
      "cell_type": "code",
      "execution_count": 27,
<<<<<<< HEAD
>>>>>>> 8735260d3ca5a4cec4948b7001761cc14fc1cc6e
=======
>>>>>>> 8735260d3ca5a4cec4948b7001761cc14fc1cc6e
      "metadata": {
        "colab": {
          "base_uri": "https://localhost:8080/"
        },
        "id": "Gw5gthr-2VL1",
<<<<<<< HEAD
<<<<<<< HEAD
        "outputId": "6c865fad-d038-4bc0-8b8d-0159c4d3111e"
      },
      "execution_count": 27,
=======
        "outputId": "6f356dd1-494b-4651-f03d-c562f9e1cfc8"
      },
>>>>>>> 8735260d3ca5a4cec4948b7001761cc14fc1cc6e
=======
        "outputId": "6f356dd1-494b-4651-f03d-c562f9e1cfc8"
      },
>>>>>>> 8735260d3ca5a4cec4948b7001761cc14fc1cc6e
      "outputs": [
        {
          "output_type": "execute_result",
          "data": {
            "text/plain": [
              "(138556, 26)"
            ]
          },
          "metadata": {},
          "execution_count": 27
        }
<<<<<<< HEAD
<<<<<<< HEAD
=======
      ],
      "source": [
        "train_beneficiary_df.shape"
>>>>>>> 8735260d3ca5a4cec4948b7001761cc14fc1cc6e
=======
      ],
      "source": [
        "train_beneficiary_df.shape"
>>>>>>> 8735260d3ca5a4cec4948b7001761cc14fc1cc6e
      ]
    },
    {
      "cell_type": "code",
<<<<<<< HEAD
<<<<<<< HEAD
      "source": [
        "train_beneficiary_df['DOD'].isna().sum(), train_beneficiary_df['DOD'].notna().sum()"
      ],
=======
      "execution_count": 28,
>>>>>>> 8735260d3ca5a4cec4948b7001761cc14fc1cc6e
=======
      "execution_count": 28,
>>>>>>> 8735260d3ca5a4cec4948b7001761cc14fc1cc6e
      "metadata": {
        "colab": {
          "base_uri": "https://localhost:8080/"
        },
        "id": "ef0gQ2ll2Z2h",
<<<<<<< HEAD
<<<<<<< HEAD
        "outputId": "1550c61f-7303-4853-83e0-10e97e141c04"
      },
      "execution_count": 28,
=======
        "outputId": "b2f762be-c002-4a57-8363-01c599140978"
      },
>>>>>>> 8735260d3ca5a4cec4948b7001761cc14fc1cc6e
=======
        "outputId": "b2f762be-c002-4a57-8363-01c599140978"
      },
>>>>>>> 8735260d3ca5a4cec4948b7001761cc14fc1cc6e
      "outputs": [
        {
          "output_type": "execute_result",
          "data": {
            "text/plain": [
              "(137135, 1421)"
            ]
          },
          "metadata": {},
          "execution_count": 28
        }
<<<<<<< HEAD
<<<<<<< HEAD
=======
      ],
      "source": [
        "train_beneficiary_df['DOD'].isna().sum(), train_beneficiary_df['DOD'].notna().sum()"
>>>>>>> 8735260d3ca5a4cec4948b7001761cc14fc1cc6e
=======
      ],
      "source": [
        "train_beneficiary_df['DOD'].isna().sum(), train_beneficiary_df['DOD'].notna().sum()"
>>>>>>> 8735260d3ca5a4cec4948b7001761cc14fc1cc6e
      ]
    },
    {
      "cell_type": "code",
<<<<<<< HEAD
<<<<<<< HEAD
      "source": [
        "train_beneficiary_df.loc[train_beneficiary_df['DOD'].isna(), 'DeadOrNot'] = 0 \n",
        "train_beneficiary_df.loc[train_beneficiary_df['DOD'].notna(), 'DeadOrNot'] = 1 "
      ],
      "metadata": {
        "id": "r1aHCK1n182y"
      },
      "execution_count": 29,
      "outputs": []
    },
    {
      "cell_type": "code",
      "source": [
        "train_beneficiary_df['DeadOrNot'].value_counts()"
      ],
=======
=======
>>>>>>> 8735260d3ca5a4cec4948b7001761cc14fc1cc6e
      "execution_count": 29,
      "metadata": {
        "id": "r1aHCK1n182y"
      },
      "outputs": [],
      "source": [
        "train_beneficiary_df.loc[train_beneficiary_df['DOD'].isna(), 'DeadOrNot'] = 0 \n",
        "train_beneficiary_df.loc[train_beneficiary_df['DOD'].notna(), 'DeadOrNot'] = 1 "
      ]
    },
    {
      "cell_type": "code",
      "execution_count": 30,
<<<<<<< HEAD
>>>>>>> 8735260d3ca5a4cec4948b7001761cc14fc1cc6e
=======
>>>>>>> 8735260d3ca5a4cec4948b7001761cc14fc1cc6e
      "metadata": {
        "colab": {
          "base_uri": "https://localhost:8080/"
        },
        "id": "rpKGrvKU2hBg",
<<<<<<< HEAD
<<<<<<< HEAD
        "outputId": "b9a72654-5253-47ea-a3b0-4368acb00e4e"
      },
      "execution_count": 30,
=======
        "outputId": "2b4c9aed-3780-4339-d118-201d3441a71c"
      },
>>>>>>> 8735260d3ca5a4cec4948b7001761cc14fc1cc6e
=======
        "outputId": "2b4c9aed-3780-4339-d118-201d3441a71c"
      },
>>>>>>> 8735260d3ca5a4cec4948b7001761cc14fc1cc6e
      "outputs": [
        {
          "output_type": "execute_result",
          "data": {
            "text/plain": [
              "0.0    137135\n",
              "1.0      1421\n",
              "Name: DeadOrNot, dtype: int64"
            ]
          },
          "metadata": {},
          "execution_count": 30
        }
<<<<<<< HEAD
<<<<<<< HEAD
=======
      ],
      "source": [
        "train_beneficiary_df['DeadOrNot'].value_counts()"
>>>>>>> 8735260d3ca5a4cec4948b7001761cc14fc1cc6e
=======
      ],
      "source": [
        "train_beneficiary_df['DeadOrNot'].value_counts()"
>>>>>>> 8735260d3ca5a4cec4948b7001761cc14fc1cc6e
      ]
    },
    {
      "cell_type": "code",
<<<<<<< HEAD
<<<<<<< HEAD
      "source": [
        "test_beneficiary_df.shape"
      ],
=======
      "execution_count": 31,
>>>>>>> 8735260d3ca5a4cec4948b7001761cc14fc1cc6e
=======
      "execution_count": 31,
>>>>>>> 8735260d3ca5a4cec4948b7001761cc14fc1cc6e
      "metadata": {
        "colab": {
          "base_uri": "https://localhost:8080/"
        },
        "id": "iUeqP5qi2jDW",
<<<<<<< HEAD
<<<<<<< HEAD
        "outputId": "f17608f7-0fcc-4707-a2fa-f124279ce96f"
      },
      "execution_count": 31,
=======
        "outputId": "38a7f4c2-67fa-4015-fea6-bf1c1baac68b"
      },
>>>>>>> 8735260d3ca5a4cec4948b7001761cc14fc1cc6e
=======
        "outputId": "38a7f4c2-67fa-4015-fea6-bf1c1baac68b"
      },
>>>>>>> 8735260d3ca5a4cec4948b7001761cc14fc1cc6e
      "outputs": [
        {
          "output_type": "execute_result",
          "data": {
            "text/plain": [
              "(63968, 26)"
            ]
          },
          "metadata": {},
          "execution_count": 31
        }
<<<<<<< HEAD
<<<<<<< HEAD
=======
      ],
      "source": [
        "test_beneficiary_df.shape"
>>>>>>> 8735260d3ca5a4cec4948b7001761cc14fc1cc6e
=======
      ],
      "source": [
        "test_beneficiary_df.shape"
>>>>>>> 8735260d3ca5a4cec4948b7001761cc14fc1cc6e
      ]
    },
    {
      "cell_type": "code",
<<<<<<< HEAD
<<<<<<< HEAD
      "source": [
        "test_beneficiary_df['DOD'].isna().sum(), test_beneficiary_df['DOD'].notna().sum()\n"
      ],
=======
      "execution_count": 32,
>>>>>>> 8735260d3ca5a4cec4948b7001761cc14fc1cc6e
=======
      "execution_count": 32,
>>>>>>> 8735260d3ca5a4cec4948b7001761cc14fc1cc6e
      "metadata": {
        "colab": {
          "base_uri": "https://localhost:8080/"
        },
        "id": "itKqSJzP2lqc",
<<<<<<< HEAD
<<<<<<< HEAD
        "outputId": "7da3170f-bee2-4b1f-8073-0a7fd9f2f7ed"
      },
      "execution_count": 32,
=======
        "outputId": "ac259892-e13c-4553-86ad-9623c1b1cd9a"
      },
>>>>>>> 8735260d3ca5a4cec4948b7001761cc14fc1cc6e
=======
        "outputId": "ac259892-e13c-4553-86ad-9623c1b1cd9a"
      },
>>>>>>> 8735260d3ca5a4cec4948b7001761cc14fc1cc6e
      "outputs": [
        {
          "output_type": "execute_result",
          "data": {
            "text/plain": [
              "(63394, 574)"
            ]
          },
          "metadata": {},
          "execution_count": 32
        }
<<<<<<< HEAD
<<<<<<< HEAD
=======
      ],
      "source": [
        "test_beneficiary_df['DOD'].isna().sum(), test_beneficiary_df['DOD'].notna().sum()\n"
>>>>>>> 8735260d3ca5a4cec4948b7001761cc14fc1cc6e
=======
      ],
      "source": [
        "test_beneficiary_df['DOD'].isna().sum(), test_beneficiary_df['DOD'].notna().sum()\n"
>>>>>>> 8735260d3ca5a4cec4948b7001761cc14fc1cc6e
      ]
    },
    {
      "cell_type": "code",
<<<<<<< HEAD
<<<<<<< HEAD
      "source": [
        "test_beneficiary_df.loc[test_beneficiary_df['DOD'].isna(), 'DeadOrNot'] = 0 \n",
        "test_beneficiary_df.loc[test_beneficiary_df['DOD'].notna(), 'DeadOrNot'] = 1 "
      ],
      "metadata": {
        "id": "mj_ecHe02ofz"
      },
      "execution_count": 33,
      "outputs": []
    },
    {
      "cell_type": "code",
      "source": [
        "test_beneficiary_df['DeadOrNot'].value_counts()"
      ],
=======
=======
>>>>>>> 8735260d3ca5a4cec4948b7001761cc14fc1cc6e
      "execution_count": 33,
      "metadata": {
        "id": "mj_ecHe02ofz"
      },
      "outputs": [],
      "source": [
        "test_beneficiary_df.loc[test_beneficiary_df['DOD'].isna(), 'DeadOrNot'] = 0 \n",
        "test_beneficiary_df.loc[test_beneficiary_df['DOD'].notna(), 'DeadOrNot'] = 1 "
      ]
    },
    {
      "cell_type": "code",
      "execution_count": 34,
<<<<<<< HEAD
>>>>>>> 8735260d3ca5a4cec4948b7001761cc14fc1cc6e
=======
>>>>>>> 8735260d3ca5a4cec4948b7001761cc14fc1cc6e
      "metadata": {
        "colab": {
          "base_uri": "https://localhost:8080/"
        },
        "id": "HmoBBY312ux-",
<<<<<<< HEAD
<<<<<<< HEAD
        "outputId": "8c80f5b1-2e51-4268-d60b-93d2870f2fae"
      },
      "execution_count": 34,
=======
        "outputId": "4e67ca0d-1279-4757-9a30-3fbe047243fc"
      },
>>>>>>> 8735260d3ca5a4cec4948b7001761cc14fc1cc6e
=======
        "outputId": "4e67ca0d-1279-4757-9a30-3fbe047243fc"
      },
>>>>>>> 8735260d3ca5a4cec4948b7001761cc14fc1cc6e
      "outputs": [
        {
          "output_type": "execute_result",
          "data": {
            "text/plain": [
              "0.0    63394\n",
              "1.0      574\n",
              "Name: DeadOrNot, dtype: int64"
            ]
          },
          "metadata": {},
          "execution_count": 34
        }
<<<<<<< HEAD
<<<<<<< HEAD
=======
      ],
      "source": [
        "test_beneficiary_df['DeadOrNot'].value_counts()"
>>>>>>> 8735260d3ca5a4cec4948b7001761cc14fc1cc6e
=======
      ],
      "source": [
        "test_beneficiary_df['DeadOrNot'].value_counts()"
>>>>>>> 8735260d3ca5a4cec4948b7001761cc14fc1cc6e
      ]
    },
    {
      "cell_type": "markdown",
<<<<<<< HEAD
<<<<<<< HEAD
      "source": [
        "# Data Engineering for in-patient dataset"
      ],
      "metadata": {
        "id": "kuG1F9Zc299m"
      }
    },
    {
      "cell_type": "markdown",
=======
=======
>>>>>>> 8735260d3ca5a4cec4948b7001761cc14fc1cc6e
      "metadata": {
        "id": "kuG1F9Zc299m"
      },
      "source": [
        "# Data Engineering for in-patient dataset"
      ]
    },
    {
      "cell_type": "markdown",
      "metadata": {
        "id": "ompT3vdq5AHX"
      },
<<<<<<< HEAD
>>>>>>> 8735260d3ca5a4cec4948b7001761cc14fc1cc6e
=======
>>>>>>> 8735260d3ca5a4cec4948b7001761cc14fc1cc6e
      "source": [
        "**Calculating Admitted Days**\n",
        "\n",
        "Creating a new feature 'AdmittedDays' based on AdmissionDt and DischargeDt"
<<<<<<< HEAD
<<<<<<< HEAD
      ],
      "metadata": {
        "id": "ompT3vdq5AHX"
      }
    },
    {
      "cell_type": "code",
=======
=======
>>>>>>> 8735260d3ca5a4cec4948b7001761cc14fc1cc6e
      ]
    },
    {
      "cell_type": "code",
      "execution_count": 35,
      "metadata": {
        "id": "-Da3cxEw2y7d"
      },
      "outputs": [],
<<<<<<< HEAD
>>>>>>> 8735260d3ca5a4cec4948b7001761cc14fc1cc6e
=======
>>>>>>> 8735260d3ca5a4cec4948b7001761cc14fc1cc6e
      "source": [
        "train_inpatient_df['AdmissionDt'] = pd.to_datetime(train_inpatient_df['AdmissionDt'], format='%Y-%m-%d')\n",
        "train_inpatient_df['DischargeDt'] = pd.to_datetime(train_inpatient_df['DischargeDt'], format='%Y-%m-%d')\n",
        "train_inpatient_df['AdmittedDays'] = round((train_inpatient_df['DischargeDt'] - train_inpatient_df['AdmissionDt']).dt.days + 1) \n",
        "                                           \n",
        "test_inpatient_df['AdmissionDt'] = pd.to_datetime(test_inpatient_df['AdmissionDt'], format='%Y-%m-%d')\n",
        "test_inpatient_df['DischargeDt'] = pd.to_datetime(test_inpatient_df['DischargeDt'], format='%Y-%m-%d')\n",
        "test_inpatient_df['AdmittedDays'] = round((test_inpatient_df['DischargeDt'] - test_inpatient_df['AdmissionDt']).dt.days + 1)"
<<<<<<< HEAD
<<<<<<< HEAD
      ],
      "metadata": {
        "id": "-Da3cxEw2y7d"
      },
      "execution_count": 35,
      "outputs": []
    },
    {
      "cell_type": "code",
      "source": [
        "train_inpatient_df['AdmittedDays'].isna().sum()"
      ],
=======
=======
>>>>>>> 8735260d3ca5a4cec4948b7001761cc14fc1cc6e
      ]
    },
    {
      "cell_type": "code",
      "execution_count": 36,
<<<<<<< HEAD
>>>>>>> 8735260d3ca5a4cec4948b7001761cc14fc1cc6e
=======
>>>>>>> 8735260d3ca5a4cec4948b7001761cc14fc1cc6e
      "metadata": {
        "colab": {
          "base_uri": "https://localhost:8080/"
        },
        "id": "Uryplkq65dRL",
<<<<<<< HEAD
<<<<<<< HEAD
        "outputId": "17e7f4cd-f11f-44ef-c3aa-7aefc8c87b5a"
      },
      "execution_count": 36,
=======
        "outputId": "8c17ca3a-ab1d-4588-8481-17f7dd52ab36"
      },
>>>>>>> 8735260d3ca5a4cec4948b7001761cc14fc1cc6e
=======
        "outputId": "8c17ca3a-ab1d-4588-8481-17f7dd52ab36"
      },
>>>>>>> 8735260d3ca5a4cec4948b7001761cc14fc1cc6e
      "outputs": [
        {
          "output_type": "execute_result",
          "data": {
            "text/plain": [
              "0"
            ]
          },
          "metadata": {},
          "execution_count": 36
        }
<<<<<<< HEAD
<<<<<<< HEAD
=======
      ],
      "source": [
        "train_inpatient_df['AdmittedDays'].isna().sum()"
>>>>>>> 8735260d3ca5a4cec4948b7001761cc14fc1cc6e
=======
      ],
      "source": [
        "train_inpatient_df['AdmittedDays'].isna().sum()"
>>>>>>> 8735260d3ca5a4cec4948b7001761cc14fc1cc6e
      ]
    },
    {
      "cell_type": "code",
<<<<<<< HEAD
<<<<<<< HEAD
      "source": [
        "test_inpatient_df['AdmittedDays'].isna().sum()"
      ],
=======
      "execution_count": 37,
>>>>>>> 8735260d3ca5a4cec4948b7001761cc14fc1cc6e
=======
      "execution_count": 37,
>>>>>>> 8735260d3ca5a4cec4948b7001761cc14fc1cc6e
      "metadata": {
        "colab": {
          "base_uri": "https://localhost:8080/"
        },
        "id": "eiHytc6Z5keN",
<<<<<<< HEAD
<<<<<<< HEAD
        "outputId": "987bac38-d75e-4816-ea1b-8ce6410d7b23"
      },
      "execution_count": 37,
=======
        "outputId": "17f16c98-0a1b-4b91-b5a1-8a88dc1624d8"
      },
>>>>>>> 8735260d3ca5a4cec4948b7001761cc14fc1cc6e
=======
        "outputId": "17f16c98-0a1b-4b91-b5a1-8a88dc1624d8"
      },
>>>>>>> 8735260d3ca5a4cec4948b7001761cc14fc1cc6e
      "outputs": [
        {
          "output_type": "execute_result",
          "data": {
            "text/plain": [
              "0"
            ]
          },
          "metadata": {},
          "execution_count": 37
        }
<<<<<<< HEAD
<<<<<<< HEAD
=======
      ],
      "source": [
        "test_inpatient_df['AdmittedDays'].isna().sum()"
>>>>>>> 8735260d3ca5a4cec4948b7001761cc14fc1cc6e
=======
      ],
      "source": [
        "test_inpatient_df['AdmittedDays'].isna().sum()"
>>>>>>> 8735260d3ca5a4cec4948b7001761cc14fc1cc6e
      ]
    },
    {
      "cell_type": "markdown",
<<<<<<< HEAD
<<<<<<< HEAD
      "source": [
        "# Merging Inpatient and Outpatient dataset"
      ],
      "metadata": {
        "id": "8nT0eeKC5sJC"
      }
    },
    {
      "cell_type": "code",
      "source": [
        "key_columns_to_merge = list(train_outpatient_df.columns)\n",
        "key_columns_to_merge"
      ],
=======
=======
>>>>>>> 8735260d3ca5a4cec4948b7001761cc14fc1cc6e
      "metadata": {
        "id": "8nT0eeKC5sJC"
      },
      "source": [
        "# Merging Inpatient and Outpatient dataset"
      ]
    },
    {
      "cell_type": "code",
      "execution_count": 38,
<<<<<<< HEAD
>>>>>>> 8735260d3ca5a4cec4948b7001761cc14fc1cc6e
=======
>>>>>>> 8735260d3ca5a4cec4948b7001761cc14fc1cc6e
      "metadata": {
        "colab": {
          "base_uri": "https://localhost:8080/"
        },
        "id": "Y6h1yFk85mLF",
<<<<<<< HEAD
<<<<<<< HEAD
        "outputId": "f9d79a79-0510-46ca-f76b-431618615390"
      },
      "execution_count": 38,
=======
        "outputId": "3cc34135-d8e3-4e3f-a4cf-64d27b4e646f"
      },
>>>>>>> 8735260d3ca5a4cec4948b7001761cc14fc1cc6e
=======
        "outputId": "3cc34135-d8e3-4e3f-a4cf-64d27b4e646f"
      },
>>>>>>> 8735260d3ca5a4cec4948b7001761cc14fc1cc6e
      "outputs": [
        {
          "output_type": "execute_result",
          "data": {
            "text/plain": [
              "['BeneID',\n",
              " 'ClaimID',\n",
              " 'ClaimStartDt',\n",
              " 'ClaimEndDt',\n",
              " 'Provider',\n",
              " 'InscClaimAmtReimbursed',\n",
              " 'AttendingPhysician',\n",
              " 'OperatingPhysician',\n",
              " 'OtherPhysician',\n",
              " 'ClmDiagnosisCode_1',\n",
              " 'ClmDiagnosisCode_2',\n",
              " 'ClmDiagnosisCode_3',\n",
              " 'ClmDiagnosisCode_4',\n",
              " 'ClmDiagnosisCode_5',\n",
              " 'ClmDiagnosisCode_6',\n",
              " 'ClmDiagnosisCode_7',\n",
              " 'ClmDiagnosisCode_8',\n",
              " 'ClmDiagnosisCode_9',\n",
              " 'ClmDiagnosisCode_10',\n",
              " 'ClmProcedureCode_1',\n",
              " 'ClmProcedureCode_2',\n",
              " 'ClmProcedureCode_3',\n",
              " 'ClmProcedureCode_4',\n",
              " 'ClmProcedureCode_5',\n",
              " 'ClmProcedureCode_6',\n",
              " 'DeductibleAmtPaid',\n",
              " 'ClmAdmitDiagnosisCode']"
            ]
          },
          "metadata": {},
          "execution_count": 38
        }
<<<<<<< HEAD
<<<<<<< HEAD
=======
=======
>>>>>>> 8735260d3ca5a4cec4948b7001761cc14fc1cc6e
      ],
      "source": [
        "key_columns_to_merge = list(train_outpatient_df.columns)\n",
        "key_columns_to_merge"
<<<<<<< HEAD
>>>>>>> 8735260d3ca5a4cec4948b7001761cc14fc1cc6e
=======
>>>>>>> 8735260d3ca5a4cec4948b7001761cc14fc1cc6e
      ]
    },
    {
      "cell_type": "code",
<<<<<<< HEAD
<<<<<<< HEAD
      "source": [
        "train_merged_patient_data = train_inpatient_df.merge(train_outpatient_df, on=key_columns_to_merge, how='outer')\n",
        "train_merged_patient_data.shape"
      ],
=======
      "execution_count": 39,
>>>>>>> 8735260d3ca5a4cec4948b7001761cc14fc1cc6e
=======
      "execution_count": 39,
>>>>>>> 8735260d3ca5a4cec4948b7001761cc14fc1cc6e
      "metadata": {
        "colab": {
          "base_uri": "https://localhost:8080/"
        },
        "id": "aoVwnxwr57wz",
<<<<<<< HEAD
<<<<<<< HEAD
        "outputId": "fbd3a506-e4b3-4b2d-94be-6585e3d8a2d5"
      },
      "execution_count": 39,
=======
        "outputId": "78ed6f69-a0d2-4b5f-9d3f-12dcaf15cc09"
      },
>>>>>>> 8735260d3ca5a4cec4948b7001761cc14fc1cc6e
=======
        "outputId": "78ed6f69-a0d2-4b5f-9d3f-12dcaf15cc09"
      },
>>>>>>> 8735260d3ca5a4cec4948b7001761cc14fc1cc6e
      "outputs": [
        {
          "output_type": "execute_result",
          "data": {
            "text/plain": [
              "(558211, 31)"
            ]
          },
          "metadata": {},
          "execution_count": 39
        }
<<<<<<< HEAD
<<<<<<< HEAD
=======
=======
>>>>>>> 8735260d3ca5a4cec4948b7001761cc14fc1cc6e
      ],
      "source": [
        "train_merged_patient_data = train_inpatient_df.merge(train_outpatient_df, on=key_columns_to_merge, how='outer')\n",
        "train_merged_patient_data.shape"
<<<<<<< HEAD
>>>>>>> 8735260d3ca5a4cec4948b7001761cc14fc1cc6e
=======
>>>>>>> 8735260d3ca5a4cec4948b7001761cc14fc1cc6e
      ]
    },
    {
      "cell_type": "code",
<<<<<<< HEAD
<<<<<<< HEAD
      "source": [
        "key_columns_to_merge_test = list(test_outpatient_df.columns)\n",
        "key_columns_to_merge_test"
      ],
=======
      "execution_count": 40,
>>>>>>> 8735260d3ca5a4cec4948b7001761cc14fc1cc6e
=======
      "execution_count": 40,
>>>>>>> 8735260d3ca5a4cec4948b7001761cc14fc1cc6e
      "metadata": {
        "colab": {
          "base_uri": "https://localhost:8080/"
        },
        "id": "ktYtadI36BGL",
<<<<<<< HEAD
<<<<<<< HEAD
        "outputId": "b2363d60-11fc-4ee2-a88d-111c7c82df07"
      },
      "execution_count": 40,
=======
        "outputId": "5dbb514a-fac3-4a55-d1a2-a1f42738e787"
      },
>>>>>>> 8735260d3ca5a4cec4948b7001761cc14fc1cc6e
=======
        "outputId": "5dbb514a-fac3-4a55-d1a2-a1f42738e787"
      },
>>>>>>> 8735260d3ca5a4cec4948b7001761cc14fc1cc6e
      "outputs": [
        {
          "output_type": "execute_result",
          "data": {
            "text/plain": [
              "['BeneID',\n",
              " 'ClaimID',\n",
              " 'ClaimStartDt',\n",
              " 'ClaimEndDt',\n",
              " 'Provider',\n",
              " 'InscClaimAmtReimbursed',\n",
              " 'AttendingPhysician',\n",
              " 'OperatingPhysician',\n",
              " 'OtherPhysician',\n",
              " 'ClmDiagnosisCode_1',\n",
              " 'ClmDiagnosisCode_2',\n",
              " 'ClmDiagnosisCode_3',\n",
              " 'ClmDiagnosisCode_4',\n",
              " 'ClmDiagnosisCode_5',\n",
              " 'ClmDiagnosisCode_6',\n",
              " 'ClmDiagnosisCode_7',\n",
              " 'ClmDiagnosisCode_8',\n",
              " 'ClmDiagnosisCode_9',\n",
              " 'ClmDiagnosisCode_10',\n",
              " 'ClmProcedureCode_1',\n",
              " 'ClmProcedureCode_2',\n",
              " 'ClmProcedureCode_3',\n",
              " 'ClmProcedureCode_4',\n",
              " 'ClmProcedureCode_5',\n",
              " 'ClmProcedureCode_6',\n",
              " 'DeductibleAmtPaid',\n",
              " 'ClmAdmitDiagnosisCode']"
            ]
          },
          "metadata": {},
          "execution_count": 40
        }
<<<<<<< HEAD
<<<<<<< HEAD
=======
=======
>>>>>>> 8735260d3ca5a4cec4948b7001761cc14fc1cc6e
      ],
      "source": [
        "key_columns_to_merge_test = list(test_outpatient_df.columns)\n",
        "key_columns_to_merge_test"
<<<<<<< HEAD
>>>>>>> 8735260d3ca5a4cec4948b7001761cc14fc1cc6e
=======
>>>>>>> 8735260d3ca5a4cec4948b7001761cc14fc1cc6e
      ]
    },
    {
      "cell_type": "code",
<<<<<<< HEAD
<<<<<<< HEAD
      "source": [
        "test_merged_patient_data = test_inpatient_df.merge(test_outpatient_df, on=key_columns_to_merge_test, how='outer')\n",
        "test_merged_patient_data.shape"
      ],
=======
      "execution_count": 41,
>>>>>>> 8735260d3ca5a4cec4948b7001761cc14fc1cc6e
=======
      "execution_count": 41,
>>>>>>> 8735260d3ca5a4cec4948b7001761cc14fc1cc6e
      "metadata": {
        "colab": {
          "base_uri": "https://localhost:8080/"
        },
        "id": "KevcSS2j6KIt",
<<<<<<< HEAD
<<<<<<< HEAD
        "outputId": "e6625486-7e07-485e-fd26-369077092712"
      },
      "execution_count": 41,
=======
        "outputId": "5dc116cd-a959-4410-bd32-9c151f030d55"
      },
>>>>>>> 8735260d3ca5a4cec4948b7001761cc14fc1cc6e
=======
        "outputId": "5dc116cd-a959-4410-bd32-9c151f030d55"
      },
>>>>>>> 8735260d3ca5a4cec4948b7001761cc14fc1cc6e
      "outputs": [
        {
          "output_type": "execute_result",
          "data": {
            "text/plain": [
              "(135392, 31)"
            ]
          },
          "metadata": {},
          "execution_count": 41
        }
<<<<<<< HEAD
<<<<<<< HEAD
=======
=======
>>>>>>> 8735260d3ca5a4cec4948b7001761cc14fc1cc6e
      ],
      "source": [
        "test_merged_patient_data = test_inpatient_df.merge(test_outpatient_df, on=key_columns_to_merge_test, how='outer')\n",
        "test_merged_patient_data.shape"
<<<<<<< HEAD
>>>>>>> 8735260d3ca5a4cec4948b7001761cc14fc1cc6e
=======
>>>>>>> 8735260d3ca5a4cec4948b7001761cc14fc1cc6e
      ]
    },
    {
      "cell_type": "markdown",
<<<<<<< HEAD
<<<<<<< HEAD
      "source": [
        "# Merging Beneficiary with All-patient data"
      ],
      "metadata": {
        "id": "1JNH-YWp6fru"
      }
    },
    {
      "cell_type": "code",
      "source": [
        "trainAllPatientDetailsData = train_merged_patient_data.merge(train_beneficiary_df, on='BeneID', how='inner')\n",
        "trainAllPatientDetailsData.shape"
      ],
=======
=======
>>>>>>> 8735260d3ca5a4cec4948b7001761cc14fc1cc6e
      "metadata": {
        "id": "1JNH-YWp6fru"
      },
      "source": [
        "# Merging Beneficiary with All-patient data"
      ]
    },
    {
      "cell_type": "code",
      "execution_count": 42,
<<<<<<< HEAD
>>>>>>> 8735260d3ca5a4cec4948b7001761cc14fc1cc6e
=======
>>>>>>> 8735260d3ca5a4cec4948b7001761cc14fc1cc6e
      "metadata": {
        "colab": {
          "base_uri": "https://localhost:8080/"
        },
        "id": "SVW5kY-66WG6",
<<<<<<< HEAD
<<<<<<< HEAD
        "outputId": "ca7f5074-5e91-4168-e98a-9b4e97f562e4"
      },
      "execution_count": 42,
=======
        "outputId": "2f4df00f-a596-4274-d1c1-f8732cd8c2f1"
      },
>>>>>>> 8735260d3ca5a4cec4948b7001761cc14fc1cc6e
=======
        "outputId": "2f4df00f-a596-4274-d1c1-f8732cd8c2f1"
      },
>>>>>>> 8735260d3ca5a4cec4948b7001761cc14fc1cc6e
      "outputs": [
        {
          "output_type": "execute_result",
          "data": {
            "text/plain": [
              "(558211, 57)"
            ]
          },
          "metadata": {},
          "execution_count": 42
        }
<<<<<<< HEAD
<<<<<<< HEAD
=======
=======
>>>>>>> 8735260d3ca5a4cec4948b7001761cc14fc1cc6e
      ],
      "source": [
        "trainAllPatientDetailsData = train_merged_patient_data.merge(train_beneficiary_df, on='BeneID', how='inner')\n",
        "trainAllPatientDetailsData.shape"
<<<<<<< HEAD
>>>>>>> 8735260d3ca5a4cec4948b7001761cc14fc1cc6e
=======
>>>>>>> 8735260d3ca5a4cec4948b7001761cc14fc1cc6e
      ]
    },
    {
      "cell_type": "code",
<<<<<<< HEAD
<<<<<<< HEAD
      "source": [
        "testAllPatientDetailsData = test_merged_patient_data.merge(test_beneficiary_df, on='BeneID', how='inner')\n",
        "testAllPatientDetailsData.shape"
      ],
=======
      "execution_count": 43,
>>>>>>> 8735260d3ca5a4cec4948b7001761cc14fc1cc6e
=======
      "execution_count": 43,
>>>>>>> 8735260d3ca5a4cec4948b7001761cc14fc1cc6e
      "metadata": {
        "colab": {
          "base_uri": "https://localhost:8080/"
        },
        "id": "jQD5SlSx6uMm",
<<<<<<< HEAD
<<<<<<< HEAD
        "outputId": "6b843618-2415-411a-b20c-7a995db1aa19"
      },
      "execution_count": 43,
=======
        "outputId": "d96ba51f-c3e3-484b-86e5-28ce64eed3ca"
      },
>>>>>>> 8735260d3ca5a4cec4948b7001761cc14fc1cc6e
=======
        "outputId": "d96ba51f-c3e3-484b-86e5-28ce64eed3ca"
      },
>>>>>>> 8735260d3ca5a4cec4948b7001761cc14fc1cc6e
      "outputs": [
        {
          "output_type": "execute_result",
          "data": {
            "text/plain": [
              "(135392, 57)"
            ]
          },
          "metadata": {},
          "execution_count": 43
        }
<<<<<<< HEAD
<<<<<<< HEAD
=======
=======
>>>>>>> 8735260d3ca5a4cec4948b7001761cc14fc1cc6e
      ],
      "source": [
        "testAllPatientDetailsData = test_merged_patient_data.merge(test_beneficiary_df, on='BeneID', how='inner')\n",
        "testAllPatientDetailsData.shape"
<<<<<<< HEAD
>>>>>>> 8735260d3ca5a4cec4948b7001761cc14fc1cc6e
=======
>>>>>>> 8735260d3ca5a4cec4948b7001761cc14fc1cc6e
      ]
    },
    {
      "cell_type": "markdown",
<<<<<<< HEAD
<<<<<<< HEAD
      "source": [
        "# Merging all-patients data with provider data with fraud label"
      ],
      "metadata": {
        "id": "7As_Ff3m673K"
      }
    },
    {
      "cell_type": "code",
      "source": [
        "trainAllPatientDetailsProvider = trainAllPatientDetailsData.merge(train_df, on='Provider', how='inner')\n",
        "trainAllPatientDetailsProvider.shape"
      ],
=======
=======
>>>>>>> 8735260d3ca5a4cec4948b7001761cc14fc1cc6e
      "metadata": {
        "id": "7As_Ff3m673K"
      },
      "source": [
        "# Merging all-patients data with provider data with fraud label"
      ]
    },
    {
      "cell_type": "code",
      "execution_count": 44,
<<<<<<< HEAD
>>>>>>> 8735260d3ca5a4cec4948b7001761cc14fc1cc6e
=======
>>>>>>> 8735260d3ca5a4cec4948b7001761cc14fc1cc6e
      "metadata": {
        "colab": {
          "base_uri": "https://localhost:8080/"
        },
        "id": "hYCtce9H643C",
<<<<<<< HEAD
<<<<<<< HEAD
        "outputId": "43dc298e-5400-4329-bcfa-d12c7a033cfb"
      },
      "execution_count": 44,
=======
        "outputId": "4a6842e7-f390-41ae-d7ed-306c2d25305a"
      },
>>>>>>> 8735260d3ca5a4cec4948b7001761cc14fc1cc6e
=======
        "outputId": "4a6842e7-f390-41ae-d7ed-306c2d25305a"
      },
>>>>>>> 8735260d3ca5a4cec4948b7001761cc14fc1cc6e
      "outputs": [
        {
          "output_type": "execute_result",
          "data": {
            "text/plain": [
              "(558211, 58)"
            ]
          },
          "metadata": {},
          "execution_count": 44
        }
<<<<<<< HEAD
<<<<<<< HEAD
=======
=======
>>>>>>> 8735260d3ca5a4cec4948b7001761cc14fc1cc6e
      ],
      "source": [
        "trainAllPatientDetailsProvider = trainAllPatientDetailsData.merge(train_df, on='Provider', how='inner')\n",
        "trainAllPatientDetailsProvider.shape"
<<<<<<< HEAD
>>>>>>> 8735260d3ca5a4cec4948b7001761cc14fc1cc6e
=======
>>>>>>> 8735260d3ca5a4cec4948b7001761cc14fc1cc6e
      ]
    },
    {
      "cell_type": "code",
<<<<<<< HEAD
<<<<<<< HEAD
      "source": [
        "testAllPatientDetailsProvider = testAllPatientDetailsData.merge(test_df, on='Provider', how='inner')\n",
        "testAllPatientDetailsProvider.shape"
      ],
=======
      "execution_count": 45,
>>>>>>> 8735260d3ca5a4cec4948b7001761cc14fc1cc6e
=======
      "execution_count": 45,
>>>>>>> 8735260d3ca5a4cec4948b7001761cc14fc1cc6e
      "metadata": {
        "colab": {
          "base_uri": "https://localhost:8080/"
        },
        "id": "4S-99DU67HMl",
<<<<<<< HEAD
<<<<<<< HEAD
        "outputId": "4fa233f1-857f-46fc-a118-03076b1deaf5"
      },
      "execution_count": 45,
=======
        "outputId": "4db51442-ee28-4496-cc01-d585a33b20d8"
      },
>>>>>>> 8735260d3ca5a4cec4948b7001761cc14fc1cc6e
=======
        "outputId": "4db51442-ee28-4496-cc01-d585a33b20d8"
      },
>>>>>>> 8735260d3ca5a4cec4948b7001761cc14fc1cc6e
      "outputs": [
        {
          "output_type": "execute_result",
          "data": {
            "text/plain": [
              "(135392, 57)"
            ]
          },
          "metadata": {},
          "execution_count": 45
        }
<<<<<<< HEAD
<<<<<<< HEAD
      ]
    },
    {
      "cell_type": "code",
      "source": [
        "test_columns = list(testAllPatientDetailsProvider.columns)"
      ],
      "metadata": {
        "id": "7x-wikO77T3x"
      },
      "execution_count": 46,
      "outputs": []
    },
    {
      "cell_type": "code",
      "source": [
        "train_columns = trainAllPatientDetailsProvider.columns"
      ],
      "metadata": {
        "id": "sJKmpLjt7bB7"
      },
      "execution_count": 47,
      "outputs": []
    },
    {
      "cell_type": "code",
      "source": [
        "[test for test in train_columns if test not in test_columns]"
      ],
=======
=======
>>>>>>> 8735260d3ca5a4cec4948b7001761cc14fc1cc6e
      ],
      "source": [
        "testAllPatientDetailsProvider = testAllPatientDetailsData.merge(test_df, on='Provider', how='inner')\n",
        "testAllPatientDetailsProvider.shape"
      ]
    },
    {
      "cell_type": "code",
      "execution_count": 46,
      "metadata": {
        "id": "7x-wikO77T3x"
      },
      "outputs": [],
      "source": [
        "test_columns = list(testAllPatientDetailsProvider.columns)"
      ]
    },
    {
      "cell_type": "code",
      "execution_count": 47,
      "metadata": {
        "id": "sJKmpLjt7bB7"
      },
      "outputs": [],
      "source": [
        "train_columns = trainAllPatientDetailsProvider.columns"
      ]
    },
    {
      "cell_type": "code",
      "execution_count": 48,
<<<<<<< HEAD
>>>>>>> 8735260d3ca5a4cec4948b7001761cc14fc1cc6e
=======
>>>>>>> 8735260d3ca5a4cec4948b7001761cc14fc1cc6e
      "metadata": {
        "colab": {
          "base_uri": "https://localhost:8080/"
        },
        "id": "kZbfcFdb7fBW",
<<<<<<< HEAD
<<<<<<< HEAD
        "outputId": "85e7953c-9ffa-48bd-fdd2-194a3a2a858d"
      },
      "execution_count": 48,
=======
        "outputId": "bef2dc6b-d8bf-4a28-8afa-38832c663848"
      },
>>>>>>> 8735260d3ca5a4cec4948b7001761cc14fc1cc6e
=======
        "outputId": "bef2dc6b-d8bf-4a28-8afa-38832c663848"
      },
>>>>>>> 8735260d3ca5a4cec4948b7001761cc14fc1cc6e
      "outputs": [
        {
          "output_type": "execute_result",
          "data": {
            "text/plain": [
              "['PotentialFraud']"
            ]
          },
          "metadata": {},
          "execution_count": 48
        }
<<<<<<< HEAD
<<<<<<< HEAD
=======
      ],
      "source": [
        "[test for test in train_columns if test not in test_columns]"
>>>>>>> 8735260d3ca5a4cec4948b7001761cc14fc1cc6e
=======
      ],
      "source": [
        "[test for test in train_columns if test not in test_columns]"
>>>>>>> 8735260d3ca5a4cec4948b7001761cc14fc1cc6e
      ]
    },
    {
      "cell_type": "code",
<<<<<<< HEAD
<<<<<<< HEAD
      "source": [
        "test_df.head()"
      ],
      "metadata": {
        "colab": {
          "base_uri": "https://localhost:8080/",
          "height": 221
        },
        "id": "xM2L1BWG8ykK",
        "outputId": "fc4d3892-0301-4a53-83a2-f773f9bae3ae"
      },
      "execution_count": 49,
=======
=======
>>>>>>> 8735260d3ca5a4cec4948b7001761cc14fc1cc6e
      "execution_count": 49,
      "metadata": {
        "colab": {
          "base_uri": "https://localhost:8080/",
          "height": 206
        },
        "id": "xM2L1BWG8ykK",
        "outputId": "7d9c9b55-b217-4bdc-fffc-3256edcdb305"
      },
<<<<<<< HEAD
>>>>>>> 8735260d3ca5a4cec4948b7001761cc14fc1cc6e
=======
>>>>>>> 8735260d3ca5a4cec4948b7001761cc14fc1cc6e
      "outputs": [
        {
          "output_type": "execute_result",
          "data": {
            "text/plain": [
              "   Provider\n",
              "0  PRV51002\n",
              "1  PRV51006\n",
              "2  PRV51009\n",
              "3  PRV51010\n",
              "4  PRV51018"
            ],
            "text/html": [
              "\n",
<<<<<<< HEAD
<<<<<<< HEAD
              "  <div id=\"df-ab6019c7-eedb-4886-9770-9fe23a36f7c1\">\n",
=======
              "  <div id=\"df-bb3f1bc0-a7c8-48f1-827f-4f5053ee1ec7\">\n",
>>>>>>> 8735260d3ca5a4cec4948b7001761cc14fc1cc6e
=======
              "  <div id=\"df-bb3f1bc0-a7c8-48f1-827f-4f5053ee1ec7\">\n",
>>>>>>> 8735260d3ca5a4cec4948b7001761cc14fc1cc6e
              "    <div class=\"colab-df-container\">\n",
              "      <div>\n",
              "<style scoped>\n",
              "    .dataframe tbody tr th:only-of-type {\n",
              "        vertical-align: middle;\n",
              "    }\n",
              "\n",
              "    .dataframe tbody tr th {\n",
              "        vertical-align: top;\n",
              "    }\n",
              "\n",
              "    .dataframe thead th {\n",
              "        text-align: right;\n",
              "    }\n",
              "</style>\n",
              "<table border=\"1\" class=\"dataframe\">\n",
              "  <thead>\n",
              "    <tr style=\"text-align: right;\">\n",
              "      <th></th>\n",
              "      <th>Provider</th>\n",
              "    </tr>\n",
              "  </thead>\n",
              "  <tbody>\n",
              "    <tr>\n",
              "      <th>0</th>\n",
              "      <td>PRV51002</td>\n",
              "    </tr>\n",
              "    <tr>\n",
              "      <th>1</th>\n",
              "      <td>PRV51006</td>\n",
              "    </tr>\n",
              "    <tr>\n",
              "      <th>2</th>\n",
              "      <td>PRV51009</td>\n",
              "    </tr>\n",
              "    <tr>\n",
              "      <th>3</th>\n",
              "      <td>PRV51010</td>\n",
              "    </tr>\n",
              "    <tr>\n",
              "      <th>4</th>\n",
              "      <td>PRV51018</td>\n",
              "    </tr>\n",
              "  </tbody>\n",
              "</table>\n",
              "</div>\n",
<<<<<<< HEAD
<<<<<<< HEAD
              "      <button class=\"colab-df-convert\" onclick=\"convertToInteractive('df-ab6019c7-eedb-4886-9770-9fe23a36f7c1')\"\n",
=======
              "      <button class=\"colab-df-convert\" onclick=\"convertToInteractive('df-bb3f1bc0-a7c8-48f1-827f-4f5053ee1ec7')\"\n",
>>>>>>> 8735260d3ca5a4cec4948b7001761cc14fc1cc6e
=======
              "      <button class=\"colab-df-convert\" onclick=\"convertToInteractive('df-bb3f1bc0-a7c8-48f1-827f-4f5053ee1ec7')\"\n",
>>>>>>> 8735260d3ca5a4cec4948b7001761cc14fc1cc6e
              "              title=\"Convert this dataframe to an interactive table.\"\n",
              "              style=\"display:none;\">\n",
              "        \n",
              "  <svg xmlns=\"http://www.w3.org/2000/svg\" height=\"24px\"viewBox=\"0 0 24 24\"\n",
              "       width=\"24px\">\n",
              "    <path d=\"M0 0h24v24H0V0z\" fill=\"none\"/>\n",
              "    <path d=\"M18.56 5.44l.94 2.06.94-2.06 2.06-.94-2.06-.94-.94-2.06-.94 2.06-2.06.94zm-11 1L8.5 8.5l.94-2.06 2.06-.94-2.06-.94L8.5 2.5l-.94 2.06-2.06.94zm10 10l.94 2.06.94-2.06 2.06-.94-2.06-.94-.94-2.06-.94 2.06-2.06.94z\"/><path d=\"M17.41 7.96l-1.37-1.37c-.4-.4-.92-.59-1.43-.59-.52 0-1.04.2-1.43.59L10.3 9.45l-7.72 7.72c-.78.78-.78 2.05 0 2.83L4 21.41c.39.39.9.59 1.41.59.51 0 1.02-.2 1.41-.59l7.78-7.78 2.81-2.81c.8-.78.8-2.07 0-2.86zM5.41 20L4 18.59l7.72-7.72 1.47 1.35L5.41 20z\"/>\n",
              "  </svg>\n",
              "      </button>\n",
              "      \n",
              "  <style>\n",
              "    .colab-df-container {\n",
              "      display:flex;\n",
              "      flex-wrap:wrap;\n",
              "      gap: 12px;\n",
              "    }\n",
              "\n",
              "    .colab-df-convert {\n",
              "      background-color: #E8F0FE;\n",
              "      border: none;\n",
              "      border-radius: 50%;\n",
              "      cursor: pointer;\n",
              "      display: none;\n",
              "      fill: #1967D2;\n",
              "      height: 32px;\n",
              "      padding: 0 0 0 0;\n",
              "      width: 32px;\n",
              "    }\n",
              "\n",
              "    .colab-df-convert:hover {\n",
              "      background-color: #E2EBFA;\n",
              "      box-shadow: 0px 1px 2px rgba(60, 64, 67, 0.3), 0px 1px 3px 1px rgba(60, 64, 67, 0.15);\n",
              "      fill: #174EA6;\n",
              "    }\n",
              "\n",
              "    [theme=dark] .colab-df-convert {\n",
              "      background-color: #3B4455;\n",
              "      fill: #D2E3FC;\n",
              "    }\n",
              "\n",
              "    [theme=dark] .colab-df-convert:hover {\n",
              "      background-color: #434B5C;\n",
              "      box-shadow: 0px 1px 3px 1px rgba(0, 0, 0, 0.15);\n",
              "      filter: drop-shadow(0px 1px 2px rgba(0, 0, 0, 0.3));\n",
              "      fill: #FFFFFF;\n",
              "    }\n",
              "  </style>\n",
              "\n",
              "      <script>\n",
              "        const buttonEl =\n",
<<<<<<< HEAD
<<<<<<< HEAD
              "          document.querySelector('#df-ab6019c7-eedb-4886-9770-9fe23a36f7c1 button.colab-df-convert');\n",
=======
              "          document.querySelector('#df-bb3f1bc0-a7c8-48f1-827f-4f5053ee1ec7 button.colab-df-convert');\n",
>>>>>>> 8735260d3ca5a4cec4948b7001761cc14fc1cc6e
=======
              "          document.querySelector('#df-bb3f1bc0-a7c8-48f1-827f-4f5053ee1ec7 button.colab-df-convert');\n",
>>>>>>> 8735260d3ca5a4cec4948b7001761cc14fc1cc6e
              "        buttonEl.style.display =\n",
              "          google.colab.kernel.accessAllowed ? 'block' : 'none';\n",
              "\n",
              "        async function convertToInteractive(key) {\n",
<<<<<<< HEAD
<<<<<<< HEAD
              "          const element = document.querySelector('#df-ab6019c7-eedb-4886-9770-9fe23a36f7c1');\n",
=======
              "          const element = document.querySelector('#df-bb3f1bc0-a7c8-48f1-827f-4f5053ee1ec7');\n",
>>>>>>> 8735260d3ca5a4cec4948b7001761cc14fc1cc6e
=======
              "          const element = document.querySelector('#df-bb3f1bc0-a7c8-48f1-827f-4f5053ee1ec7');\n",
>>>>>>> 8735260d3ca5a4cec4948b7001761cc14fc1cc6e
              "          const dataTable =\n",
              "            await google.colab.kernel.invokeFunction('convertToInteractive',\n",
              "                                                     [key], {});\n",
              "          if (!dataTable) return;\n",
              "\n",
              "          const docLinkHtml = 'Like what you see? Visit the ' +\n",
              "            '<a target=\"_blank\" href=https://colab.research.google.com/notebooks/data_table.ipynb>data table notebook</a>'\n",
              "            + ' to learn more about interactive tables.';\n",
              "          element.innerHTML = '';\n",
              "          dataTable['output_type'] = 'display_data';\n",
              "          await google.colab.output.renderOutput(dataTable, element);\n",
              "          const docLink = document.createElement('div');\n",
              "          docLink.innerHTML = docLinkHtml;\n",
              "          element.appendChild(docLink);\n",
              "        }\n",
              "      </script>\n",
              "    </div>\n",
              "  </div>\n",
              "  "
            ]
          },
          "metadata": {},
          "execution_count": 49
        }
<<<<<<< HEAD
<<<<<<< HEAD
=======
      ],
      "source": [
        "test_df.head()"
>>>>>>> 8735260d3ca5a4cec4948b7001761cc14fc1cc6e
=======
      ],
      "source": [
        "test_df.head()"
>>>>>>> 8735260d3ca5a4cec4948b7001761cc14fc1cc6e
      ]
    },
    {
      "cell_type": "markdown",
<<<<<<< HEAD
<<<<<<< HEAD
      "source": [
        "# Missing value information in final dataset"
      ],
      "metadata": {
        "id": "RmjNzKEg9Krk"
      }
    },
    {
      "cell_type": "code",
      "source": [
        "trainAllPatientDetailsProvider.isna().sum()*100/len(trainAllPatientDetailsProvider)"
      ],
=======
=======
>>>>>>> 8735260d3ca5a4cec4948b7001761cc14fc1cc6e
      "metadata": {
        "id": "RmjNzKEg9Krk"
      },
      "source": [
        "# Missing value information in final dataset"
      ]
    },
    {
      "cell_type": "code",
      "execution_count": 50,
<<<<<<< HEAD
>>>>>>> 8735260d3ca5a4cec4948b7001761cc14fc1cc6e
=======
>>>>>>> 8735260d3ca5a4cec4948b7001761cc14fc1cc6e
      "metadata": {
        "colab": {
          "base_uri": "https://localhost:8080/"
        },
        "id": "2dyyjR3M86xs",
<<<<<<< HEAD
<<<<<<< HEAD
        "outputId": "a12af5e2-33d6-4b5d-c1d3-f1e245d2a0a0"
      },
      "execution_count": 50,
=======
        "outputId": "fdfb5674-d426-4ed9-a43a-199c6f16e13b"
      },
>>>>>>> 8735260d3ca5a4cec4948b7001761cc14fc1cc6e
=======
        "outputId": "fdfb5674-d426-4ed9-a43a-199c6f16e13b"
      },
>>>>>>> 8735260d3ca5a4cec4948b7001761cc14fc1cc6e
      "outputs": [
        {
          "output_type": "execute_result",
          "data": {
            "text/plain": [
              "BeneID                               0.000000\n",
              "ClaimID                              0.000000\n",
              "ClaimStartDt                         0.000000\n",
              "ClaimEndDt                           0.000000\n",
              "Provider                             0.000000\n",
              "InscClaimAmtReimbursed               0.000000\n",
              "AttendingPhysician                   0.270149\n",
              "OperatingPhysician                  79.497538\n",
              "OtherPhysician                      64.218548\n",
              "AdmissionDt                         92.749337\n",
              "ClmAdmitDiagnosisCode               73.863109\n",
              "DeductibleAmtPaid                    0.161050\n",
              "DischargeDt                         92.749337\n",
              "DiagnosisGroupCode                  92.749337\n",
              "ClmDiagnosisCode_1                   1.872589\n",
              "ClmDiagnosisCode_2                  35.041588\n",
              "ClmDiagnosisCode_3                  56.458221\n",
              "ClmDiagnosisCode_4                  70.524407\n",
              "ClmDiagnosisCode_5                  79.949517\n",
              "ClmDiagnosisCode_6                  84.881702\n",
              "ClmDiagnosisCode_7                  88.144805\n",
              "ClmDiagnosisCode_8                  90.425843\n",
              "ClmDiagnosisCode_9                  92.509105\n",
              "ClmDiagnosisCode_10                 99.102490\n",
              "ClmProcedureCode_1                  95.824160\n",
              "ClmProcedureCode_2                  99.016501\n",
              "ClmProcedureCode_3                  99.826410\n",
              "ClmProcedureCode_4                  99.978861\n",
              "ClmProcedureCode_5                  99.998388\n",
              "ClmProcedureCode_6                 100.000000\n",
              "AdmittedDays                        92.749337\n",
              "DOB                                  0.000000\n",
              "DOD                                 99.259957\n",
              "Gender                               0.000000\n",
              "Race                                 0.000000\n",
              "RenalDiseaseIndicator                0.000000\n",
              "State                                0.000000\n",
              "County                               0.000000\n",
              "NoOfMonths_PartACov                  0.000000\n",
              "NoOfMonths_PartBCov                  0.000000\n",
              "ChronicCond_Alzheimer                0.000000\n",
              "ChronicCond_Heartfailure             0.000000\n",
              "ChronicCond_KidneyDisease            0.000000\n",
              "ChronicCond_Cancer                   0.000000\n",
              "ChronicCond_ObstrPulmonary           0.000000\n",
              "ChronicCond_Depression               0.000000\n",
              "ChronicCond_Diabetes                 0.000000\n",
              "ChronicCond_IschemicHeart            0.000000\n",
              "ChronicCond_Osteoporasis             0.000000\n",
              "ChronicCond_rheumatoidarthritis      0.000000\n",
              "ChronicCond_stroke                   0.000000\n",
              "IPAnnualReimbursementAmt             0.000000\n",
              "IPAnnualDeductibleAmt                0.000000\n",
              "OPAnnualReimbursementAmt             0.000000\n",
              "OPAnnualDeductibleAmt                0.000000\n",
              "Age                                  0.000000\n",
              "DeadOrNot                            0.000000\n",
              "PotentialFraud                       0.000000\n",
              "dtype: float64"
            ]
          },
          "metadata": {},
          "execution_count": 50
        }
<<<<<<< HEAD
<<<<<<< HEAD
=======
      ],
      "source": [
        "trainAllPatientDetailsProvider.isna().sum()*100/len(trainAllPatientDetailsProvider)"
>>>>>>> 8735260d3ca5a4cec4948b7001761cc14fc1cc6e
      ]
    },
    {
      "cell_type": "code",
<<<<<<< HEAD
      "source": [
        "testAllPatientDetailsProvider.isna().sum()*100/len(testAllPatientDetailsProvider)"
      ],
=======
      "execution_count": 51,
>>>>>>> 8735260d3ca5a4cec4948b7001761cc14fc1cc6e
=======
      ],
      "source": [
        "trainAllPatientDetailsProvider.isna().sum()*100/len(trainAllPatientDetailsProvider)"
      ]
    },
    {
      "cell_type": "code",
      "execution_count": 51,
>>>>>>> 8735260d3ca5a4cec4948b7001761cc14fc1cc6e
      "metadata": {
        "colab": {
          "base_uri": "https://localhost:8080/"
        },
        "id": "VptE4idA9P65",
<<<<<<< HEAD
<<<<<<< HEAD
        "outputId": "909b77f5-1aae-4f51-b6b5-23f7ff84e423"
      },
      "execution_count": 51,
=======
        "outputId": "1feab66d-e6ef-43b5-bf7d-dca12b0f60b6"
      },
>>>>>>> 8735260d3ca5a4cec4948b7001761cc14fc1cc6e
=======
        "outputId": "1feab66d-e6ef-43b5-bf7d-dca12b0f60b6"
      },
>>>>>>> 8735260d3ca5a4cec4948b7001761cc14fc1cc6e
      "outputs": [
        {
          "output_type": "execute_result",
          "data": {
            "text/plain": [
              "BeneID                               0.000000\n",
              "ClaimID                              0.000000\n",
              "ClaimStartDt                         0.000000\n",
              "ClaimEndDt                           0.000000\n",
              "Provider                             0.000000\n",
              "InscClaimAmtReimbursed               0.000000\n",
              "AttendingPhysician                   0.256293\n",
              "OperatingPhysician                  79.915357\n",
              "OtherPhysician                      64.080596\n",
              "AdmissionDt                         92.945669\n",
              "ClmAdmitDiagnosisCode               73.886197\n",
              "DeductibleAmtPaid                    0.144765\n",
              "DischargeDt                         92.945669\n",
              "DiagnosisGroupCode                  92.945669\n",
              "ClmDiagnosisCode_1                   1.904101\n",
              "ClmDiagnosisCode_2                  35.293814\n",
              "ClmDiagnosisCode_3                  56.682817\n",
              "ClmDiagnosisCode_4                  70.739039\n",
              "ClmDiagnosisCode_5                  80.207102\n",
              "ClmDiagnosisCode_6                  85.109903\n",
              "ClmDiagnosisCode_7                  88.341261\n",
              "ClmDiagnosisCode_8                  90.603581\n",
              "ClmDiagnosisCode_9                  92.705625\n",
              "ClmDiagnosisCode_10                 99.150615\n",
              "ClmProcedureCode_1                  95.962095\n",
              "ClmProcedureCode_2                  99.067153\n",
              "ClmProcedureCode_3                  99.833816\n",
              "ClmProcedureCode_4                  99.978581\n",
              "ClmProcedureCode_5                  99.998523\n",
              "ClmProcedureCode_6                 100.000000\n",
              "AdmittedDays                        92.945669\n",
              "DOB                                  0.000000\n",
              "DOD                                 99.231860\n",
              "Gender                               0.000000\n",
              "Race                                 0.000000\n",
              "RenalDiseaseIndicator                0.000000\n",
              "State                                0.000000\n",
              "County                               0.000000\n",
              "NoOfMonths_PartACov                  0.000000\n",
              "NoOfMonths_PartBCov                  0.000000\n",
              "ChronicCond_Alzheimer                0.000000\n",
              "ChronicCond_Heartfailure             0.000000\n",
              "ChronicCond_KidneyDisease            0.000000\n",
              "ChronicCond_Cancer                   0.000000\n",
              "ChronicCond_ObstrPulmonary           0.000000\n",
              "ChronicCond_Depression               0.000000\n",
              "ChronicCond_Diabetes                 0.000000\n",
              "ChronicCond_IschemicHeart            0.000000\n",
              "ChronicCond_Osteoporasis             0.000000\n",
              "ChronicCond_rheumatoidarthritis      0.000000\n",
              "ChronicCond_stroke                   0.000000\n",
              "IPAnnualReimbursementAmt             0.000000\n",
              "IPAnnualDeductibleAmt                0.000000\n",
              "OPAnnualReimbursementAmt             0.000000\n",
              "OPAnnualDeductibleAmt                0.000000\n",
              "Age                                  0.000000\n",
              "DeadOrNot                            0.000000\n",
              "dtype: float64"
            ]
          },
          "metadata": {},
          "execution_count": 51
        }
<<<<<<< HEAD
<<<<<<< HEAD
=======
      ],
      "source": [
        "testAllPatientDetailsProvider.isna().sum()*100/len(testAllPatientDetailsProvider)"
>>>>>>> 8735260d3ca5a4cec4948b7001761cc14fc1cc6e
=======
      ],
      "source": [
        "testAllPatientDetailsProvider.isna().sum()*100/len(testAllPatientDetailsProvider)"
>>>>>>> 8735260d3ca5a4cec4948b7001761cc14fc1cc6e
      ]
    },
    {
      "cell_type": "markdown",
<<<<<<< HEAD
<<<<<<< HEAD
      "source": [
        "# Feature Engineering"
      ],
      "metadata": {
        "id": "pHetZKjX-22k"
      }
    },
    {
      "cell_type": "code",
      "source": [
        "pd.set_option('display.max_columns', None)\n",
        "trainAllPatientDetailsProvider.head()"
      ],
      "metadata": {
        "colab": {
          "base_uri": "https://localhost:8080/",
          "height": 348
        },
        "id": "hxsa3YSpAWdz",
        "outputId": "f138c954-54c8-429b-ae17-b6741e5919a6"
      },
      "execution_count": 52,
=======
=======
>>>>>>> 8735260d3ca5a4cec4948b7001761cc14fc1cc6e
      "metadata": {
        "id": "pHetZKjX-22k"
      },
      "source": [
        "# Feature Engineering"
      ]
    },
    {
      "cell_type": "code",
      "execution_count": 52,
      "metadata": {
        "colab": {
          "base_uri": "https://localhost:8080/",
          "height": 357
        },
        "id": "hxsa3YSpAWdz",
        "outputId": "54eb5c0a-fc48-4b4f-a119-f1bf09556315"
      },
<<<<<<< HEAD
>>>>>>> 8735260d3ca5a4cec4948b7001761cc14fc1cc6e
=======
>>>>>>> 8735260d3ca5a4cec4948b7001761cc14fc1cc6e
      "outputs": [
        {
          "output_type": "execute_result",
          "data": {
            "text/plain": [
              "      BeneID    ClaimID ClaimStartDt  ClaimEndDt  Provider  \\\n",
              "0  BENE11001   CLM46614   2009-04-12  2009-04-18  PRV55912   \n",
              "1  BENE16973  CLM565430   2009-09-06  2009-09-06  PRV55912   \n",
              "2  BENE17521   CLM34721   2009-01-20  2009-02-01  PRV55912   \n",
              "3  BENE21718   CLM72336   2009-10-17  2009-11-04  PRV55912   \n",
              "4  BENE22934   CLM73394   2009-10-25  2009-10-29  PRV55912   \n",
              "\n",
              "   InscClaimAmtReimbursed AttendingPhysician OperatingPhysician  \\\n",
              "0                   26000          PHY390922                NaN   \n",
              "1                      50          PHY365867          PHY327147   \n",
              "2                   19000          PHY349293          PHY370861   \n",
              "3                   17000          PHY334706          PHY334706   \n",
              "4                   13000          PHY390614          PHY323689   \n",
              "\n",
              "  OtherPhysician AdmissionDt ClmAdmitDiagnosisCode  DeductibleAmtPaid  \\\n",
              "0            NaN  2009-04-12                  7866             1068.0   \n",
              "1            NaN         NaT                   NaN                0.0   \n",
              "2      PHY363291  2009-01-20                 45340             1068.0   \n",
              "3            NaN  2009-10-17                 V5789             1068.0   \n",
              "4      PHY363291  2009-10-25                 71946             1068.0   \n",
              "\n",
              "  DischargeDt DiagnosisGroupCode ClmDiagnosisCode_1 ClmDiagnosisCode_2  \\\n",
              "0  2009-04-18                201               1970               4019   \n",
              "1         NaT                NaN              V7183              53081   \n",
              "2  2009-02-01                987               4240               2639   \n",
              "3  2009-11-04                941              V5789               4168   \n",
              "4  2009-10-29                506              71535              71960   \n",
              "\n",
              "  ClmDiagnosisCode_3 ClmDiagnosisCode_4 ClmDiagnosisCode_5 ClmDiagnosisCode_6  \\\n",
              "0               5853               7843               2768              71590   \n",
              "1              78959               4280              E8788              78079   \n",
              "2               2948              40390              45821              28489   \n",
              "3              73313               7812               7993              78830   \n",
              "4               4019              V1202               4240               2449   \n",
              "\n",
              "  ClmDiagnosisCode_7 ClmDiagnosisCode_8 ClmDiagnosisCode_9  \\\n",
              "0               2724              19889               5849   \n",
              "1              79902              25002              71848   \n",
              "2               5854               2753              E9305   \n",
              "3              72273              43812               4019   \n",
              "4               2768                NaN                NaN   \n",
              "\n",
              "  ClmDiagnosisCode_10  ClmProcedureCode_1  ClmProcedureCode_2  \\\n",
              "0                 NaN                 NaN                 NaN   \n",
              "1                 NaN                 NaN                 NaN   \n",
              "2                 NaN              7769.0              5849.0   \n",
              "3                 NaN              9338.0                 NaN   \n",
              "4                 NaN              8154.0                 NaN   \n",
              "\n",
              "   ClmProcedureCode_3  ClmProcedureCode_4  ClmProcedureCode_5  \\\n",
              "0                 NaN                 NaN                 NaN   \n",
              "1                 NaN                 NaN                 NaN   \n",
              "2                 NaN                 NaN                 NaN   \n",
              "3                 NaN                 NaN                 NaN   \n",
              "4                 NaN                 NaN                 NaN   \n",
              "\n",
              "   ClmProcedureCode_6  AdmittedDays        DOB DOD  Gender  Race  \\\n",
              "0                 NaN           7.0 1943-01-01 NaT       1     1   \n",
              "1                 NaN           NaN 1932-05-01 NaT       1     1   \n",
              "2                 NaN          13.0 1913-12-01 NaT       2     1   \n",
              "3                 NaN          19.0 1922-10-01 NaT       1     1   \n",
              "4                 NaN           5.0 1930-07-01 NaT       2     1   \n",
              "\n",
              "  RenalDiseaseIndicator  State  County  NoOfMonths_PartACov  \\\n",
              "0                     0     39     230                   12   \n",
              "1                     0     39     310                   12   \n",
              "2                     0     39     230                   12   \n",
              "3                     0     39     600                   12   \n",
              "4                     0     39     280                   12   \n",
              "\n",
              "   NoOfMonths_PartBCov  ChronicCond_Alzheimer  ChronicCond_Heartfailure  \\\n",
              "0                   12                      1                         0   \n",
              "1                   12                      1                         1   \n",
              "2                   12                      1                         1   \n",
              "3                   12                      0                         0   \n",
              "4                   12                      0                         1   \n",
              "\n",
              "   ChronicCond_KidneyDisease  ChronicCond_Cancer  ChronicCond_ObstrPulmonary  \\\n",
              "0                          1                   0                           0   \n",
              "1                          1                   0                           0   \n",
              "2                          1                   0                           1   \n",
              "3                          0                   0                           0   \n",
              "4                          0                   0                           1   \n",
              "\n",
              "   ChronicCond_Depression  ChronicCond_Diabetes  ChronicCond_IschemicHeart  \\\n",
              "0                       1                     1                          1   \n",
              "1                       0                     0                          1   \n",
              "2                       0                     0                          1   \n",
              "3                       0                     0                          1   \n",
              "4                       0                     1                          1   \n",
              "\n",
              "   ChronicCond_Osteoporasis  ChronicCond_rheumatoidarthritis  \\\n",
              "0                         0                                1   \n",
              "1                         0                                0   \n",
              "2                         0                                0   \n",
              "3                         1                                0   \n",
              "4                         1                                1   \n",
              "\n",
              "   ChronicCond_stroke  IPAnnualReimbursementAmt  IPAnnualDeductibleAmt  \\\n",
              "0                   1                     36000                   3204   \n",
              "1                   0                     24000                   2136   \n",
              "2                   0                     19000                   1068   \n",
              "3                   0                     17000                   1068   \n",
              "4                   0                     27000                   2136   \n",
              "\n",
              "   OPAnnualReimbursementAmt  OPAnnualDeductibleAmt    Age  DeadOrNot  \\\n",
              "0                        60                     70   77.0        0.0   \n",
              "1                       450                    200   88.0        0.0   \n",
              "2                       100                     20  106.0        0.0   \n",
              "3                      1050                    540   97.0        0.0   \n",
              "4                       450                    160   89.0        0.0   \n",
              "\n",
              "  PotentialFraud  \n",
              "0            Yes  \n",
              "1            Yes  \n",
              "2            Yes  \n",
              "3            Yes  \n",
              "4            Yes  "
            ],
            "text/html": [
              "\n",
<<<<<<< HEAD
<<<<<<< HEAD
              "  <div id=\"df-3fb810a1-397f-4f23-8e9d-bd010994f296\">\n",
=======
              "  <div id=\"df-e1691e49-2417-4fad-8788-f7394166bc3a\">\n",
>>>>>>> 8735260d3ca5a4cec4948b7001761cc14fc1cc6e
=======
              "  <div id=\"df-e1691e49-2417-4fad-8788-f7394166bc3a\">\n",
>>>>>>> 8735260d3ca5a4cec4948b7001761cc14fc1cc6e
              "    <div class=\"colab-df-container\">\n",
              "      <div>\n",
              "<style scoped>\n",
              "    .dataframe tbody tr th:only-of-type {\n",
              "        vertical-align: middle;\n",
              "    }\n",
              "\n",
              "    .dataframe tbody tr th {\n",
              "        vertical-align: top;\n",
              "    }\n",
              "\n",
              "    .dataframe thead th {\n",
              "        text-align: right;\n",
              "    }\n",
              "</style>\n",
              "<table border=\"1\" class=\"dataframe\">\n",
              "  <thead>\n",
              "    <tr style=\"text-align: right;\">\n",
              "      <th></th>\n",
              "      <th>BeneID</th>\n",
              "      <th>ClaimID</th>\n",
              "      <th>ClaimStartDt</th>\n",
              "      <th>ClaimEndDt</th>\n",
              "      <th>Provider</th>\n",
              "      <th>InscClaimAmtReimbursed</th>\n",
              "      <th>AttendingPhysician</th>\n",
              "      <th>OperatingPhysician</th>\n",
              "      <th>OtherPhysician</th>\n",
              "      <th>AdmissionDt</th>\n",
              "      <th>ClmAdmitDiagnosisCode</th>\n",
              "      <th>DeductibleAmtPaid</th>\n",
              "      <th>DischargeDt</th>\n",
              "      <th>DiagnosisGroupCode</th>\n",
              "      <th>ClmDiagnosisCode_1</th>\n",
              "      <th>ClmDiagnosisCode_2</th>\n",
              "      <th>ClmDiagnosisCode_3</th>\n",
              "      <th>ClmDiagnosisCode_4</th>\n",
              "      <th>ClmDiagnosisCode_5</th>\n",
              "      <th>ClmDiagnosisCode_6</th>\n",
              "      <th>ClmDiagnosisCode_7</th>\n",
              "      <th>ClmDiagnosisCode_8</th>\n",
              "      <th>ClmDiagnosisCode_9</th>\n",
              "      <th>ClmDiagnosisCode_10</th>\n",
              "      <th>ClmProcedureCode_1</th>\n",
              "      <th>ClmProcedureCode_2</th>\n",
              "      <th>ClmProcedureCode_3</th>\n",
              "      <th>ClmProcedureCode_4</th>\n",
              "      <th>ClmProcedureCode_5</th>\n",
              "      <th>ClmProcedureCode_6</th>\n",
              "      <th>AdmittedDays</th>\n",
              "      <th>DOB</th>\n",
              "      <th>DOD</th>\n",
              "      <th>Gender</th>\n",
              "      <th>Race</th>\n",
              "      <th>RenalDiseaseIndicator</th>\n",
              "      <th>State</th>\n",
              "      <th>County</th>\n",
              "      <th>NoOfMonths_PartACov</th>\n",
              "      <th>NoOfMonths_PartBCov</th>\n",
              "      <th>ChronicCond_Alzheimer</th>\n",
              "      <th>ChronicCond_Heartfailure</th>\n",
              "      <th>ChronicCond_KidneyDisease</th>\n",
              "      <th>ChronicCond_Cancer</th>\n",
              "      <th>ChronicCond_ObstrPulmonary</th>\n",
              "      <th>ChronicCond_Depression</th>\n",
              "      <th>ChronicCond_Diabetes</th>\n",
              "      <th>ChronicCond_IschemicHeart</th>\n",
              "      <th>ChronicCond_Osteoporasis</th>\n",
              "      <th>ChronicCond_rheumatoidarthritis</th>\n",
              "      <th>ChronicCond_stroke</th>\n",
              "      <th>IPAnnualReimbursementAmt</th>\n",
              "      <th>IPAnnualDeductibleAmt</th>\n",
              "      <th>OPAnnualReimbursementAmt</th>\n",
              "      <th>OPAnnualDeductibleAmt</th>\n",
              "      <th>Age</th>\n",
              "      <th>DeadOrNot</th>\n",
              "      <th>PotentialFraud</th>\n",
              "    </tr>\n",
              "  </thead>\n",
              "  <tbody>\n",
              "    <tr>\n",
              "      <th>0</th>\n",
              "      <td>BENE11001</td>\n",
              "      <td>CLM46614</td>\n",
              "      <td>2009-04-12</td>\n",
              "      <td>2009-04-18</td>\n",
              "      <td>PRV55912</td>\n",
              "      <td>26000</td>\n",
              "      <td>PHY390922</td>\n",
              "      <td>NaN</td>\n",
              "      <td>NaN</td>\n",
              "      <td>2009-04-12</td>\n",
              "      <td>7866</td>\n",
              "      <td>1068.0</td>\n",
              "      <td>2009-04-18</td>\n",
              "      <td>201</td>\n",
              "      <td>1970</td>\n",
              "      <td>4019</td>\n",
              "      <td>5853</td>\n",
              "      <td>7843</td>\n",
              "      <td>2768</td>\n",
              "      <td>71590</td>\n",
              "      <td>2724</td>\n",
              "      <td>19889</td>\n",
              "      <td>5849</td>\n",
              "      <td>NaN</td>\n",
              "      <td>NaN</td>\n",
              "      <td>NaN</td>\n",
              "      <td>NaN</td>\n",
              "      <td>NaN</td>\n",
              "      <td>NaN</td>\n",
              "      <td>NaN</td>\n",
              "      <td>7.0</td>\n",
              "      <td>1943-01-01</td>\n",
              "      <td>NaT</td>\n",
              "      <td>1</td>\n",
              "      <td>1</td>\n",
              "      <td>0</td>\n",
              "      <td>39</td>\n",
              "      <td>230</td>\n",
              "      <td>12</td>\n",
              "      <td>12</td>\n",
              "      <td>1</td>\n",
              "      <td>0</td>\n",
              "      <td>1</td>\n",
              "      <td>0</td>\n",
              "      <td>0</td>\n",
              "      <td>1</td>\n",
              "      <td>1</td>\n",
              "      <td>1</td>\n",
              "      <td>0</td>\n",
              "      <td>1</td>\n",
              "      <td>1</td>\n",
              "      <td>36000</td>\n",
              "      <td>3204</td>\n",
              "      <td>60</td>\n",
              "      <td>70</td>\n",
              "      <td>77.0</td>\n",
              "      <td>0.0</td>\n",
              "      <td>Yes</td>\n",
              "    </tr>\n",
              "    <tr>\n",
              "      <th>1</th>\n",
              "      <td>BENE16973</td>\n",
              "      <td>CLM565430</td>\n",
              "      <td>2009-09-06</td>\n",
              "      <td>2009-09-06</td>\n",
              "      <td>PRV55912</td>\n",
              "      <td>50</td>\n",
              "      <td>PHY365867</td>\n",
              "      <td>PHY327147</td>\n",
              "      <td>NaN</td>\n",
              "      <td>NaT</td>\n",
              "      <td>NaN</td>\n",
              "      <td>0.0</td>\n",
              "      <td>NaT</td>\n",
              "      <td>NaN</td>\n",
              "      <td>V7183</td>\n",
              "      <td>53081</td>\n",
              "      <td>78959</td>\n",
              "      <td>4280</td>\n",
              "      <td>E8788</td>\n",
              "      <td>78079</td>\n",
              "      <td>79902</td>\n",
              "      <td>25002</td>\n",
              "      <td>71848</td>\n",
              "      <td>NaN</td>\n",
              "      <td>NaN</td>\n",
              "      <td>NaN</td>\n",
              "      <td>NaN</td>\n",
              "      <td>NaN</td>\n",
              "      <td>NaN</td>\n",
              "      <td>NaN</td>\n",
              "      <td>NaN</td>\n",
              "      <td>1932-05-01</td>\n",
              "      <td>NaT</td>\n",
              "      <td>1</td>\n",
              "      <td>1</td>\n",
              "      <td>0</td>\n",
              "      <td>39</td>\n",
              "      <td>310</td>\n",
              "      <td>12</td>\n",
              "      <td>12</td>\n",
              "      <td>1</td>\n",
              "      <td>1</td>\n",
              "      <td>1</td>\n",
              "      <td>0</td>\n",
              "      <td>0</td>\n",
              "      <td>0</td>\n",
              "      <td>0</td>\n",
              "      <td>1</td>\n",
              "      <td>0</td>\n",
              "      <td>0</td>\n",
              "      <td>0</td>\n",
              "      <td>24000</td>\n",
              "      <td>2136</td>\n",
              "      <td>450</td>\n",
              "      <td>200</td>\n",
              "      <td>88.0</td>\n",
              "      <td>0.0</td>\n",
              "      <td>Yes</td>\n",
              "    </tr>\n",
              "    <tr>\n",
              "      <th>2</th>\n",
              "      <td>BENE17521</td>\n",
              "      <td>CLM34721</td>\n",
              "      <td>2009-01-20</td>\n",
              "      <td>2009-02-01</td>\n",
              "      <td>PRV55912</td>\n",
              "      <td>19000</td>\n",
              "      <td>PHY349293</td>\n",
              "      <td>PHY370861</td>\n",
              "      <td>PHY363291</td>\n",
              "      <td>2009-01-20</td>\n",
              "      <td>45340</td>\n",
              "      <td>1068.0</td>\n",
              "      <td>2009-02-01</td>\n",
              "      <td>987</td>\n",
              "      <td>4240</td>\n",
              "      <td>2639</td>\n",
              "      <td>2948</td>\n",
              "      <td>40390</td>\n",
              "      <td>45821</td>\n",
              "      <td>28489</td>\n",
              "      <td>5854</td>\n",
              "      <td>2753</td>\n",
              "      <td>E9305</td>\n",
              "      <td>NaN</td>\n",
              "      <td>7769.0</td>\n",
              "      <td>5849.0</td>\n",
              "      <td>NaN</td>\n",
              "      <td>NaN</td>\n",
              "      <td>NaN</td>\n",
              "      <td>NaN</td>\n",
              "      <td>13.0</td>\n",
              "      <td>1913-12-01</td>\n",
              "      <td>NaT</td>\n",
              "      <td>2</td>\n",
              "      <td>1</td>\n",
              "      <td>0</td>\n",
              "      <td>39</td>\n",
              "      <td>230</td>\n",
              "      <td>12</td>\n",
              "      <td>12</td>\n",
              "      <td>1</td>\n",
              "      <td>1</td>\n",
              "      <td>1</td>\n",
              "      <td>0</td>\n",
              "      <td>1</td>\n",
              "      <td>0</td>\n",
              "      <td>0</td>\n",
              "      <td>1</td>\n",
              "      <td>0</td>\n",
              "      <td>0</td>\n",
              "      <td>0</td>\n",
              "      <td>19000</td>\n",
              "      <td>1068</td>\n",
              "      <td>100</td>\n",
              "      <td>20</td>\n",
              "      <td>106.0</td>\n",
              "      <td>0.0</td>\n",
              "      <td>Yes</td>\n",
              "    </tr>\n",
              "    <tr>\n",
              "      <th>3</th>\n",
              "      <td>BENE21718</td>\n",
              "      <td>CLM72336</td>\n",
              "      <td>2009-10-17</td>\n",
              "      <td>2009-11-04</td>\n",
              "      <td>PRV55912</td>\n",
              "      <td>17000</td>\n",
              "      <td>PHY334706</td>\n",
              "      <td>PHY334706</td>\n",
              "      <td>NaN</td>\n",
              "      <td>2009-10-17</td>\n",
              "      <td>V5789</td>\n",
              "      <td>1068.0</td>\n",
              "      <td>2009-11-04</td>\n",
              "      <td>941</td>\n",
              "      <td>V5789</td>\n",
              "      <td>4168</td>\n",
              "      <td>73313</td>\n",
              "      <td>7812</td>\n",
              "      <td>7993</td>\n",
              "      <td>78830</td>\n",
              "      <td>72273</td>\n",
              "      <td>43812</td>\n",
              "      <td>4019</td>\n",
              "      <td>NaN</td>\n",
              "      <td>9338.0</td>\n",
              "      <td>NaN</td>\n",
              "      <td>NaN</td>\n",
              "      <td>NaN</td>\n",
              "      <td>NaN</td>\n",
              "      <td>NaN</td>\n",
              "      <td>19.0</td>\n",
              "      <td>1922-10-01</td>\n",
              "      <td>NaT</td>\n",
              "      <td>1</td>\n",
              "      <td>1</td>\n",
              "      <td>0</td>\n",
              "      <td>39</td>\n",
              "      <td>600</td>\n",
              "      <td>12</td>\n",
              "      <td>12</td>\n",
              "      <td>0</td>\n",
              "      <td>0</td>\n",
              "      <td>0</td>\n",
              "      <td>0</td>\n",
              "      <td>0</td>\n",
              "      <td>0</td>\n",
              "      <td>0</td>\n",
              "      <td>1</td>\n",
              "      <td>1</td>\n",
              "      <td>0</td>\n",
              "      <td>0</td>\n",
              "      <td>17000</td>\n",
              "      <td>1068</td>\n",
              "      <td>1050</td>\n",
              "      <td>540</td>\n",
              "      <td>97.0</td>\n",
              "      <td>0.0</td>\n",
              "      <td>Yes</td>\n",
              "    </tr>\n",
              "    <tr>\n",
              "      <th>4</th>\n",
              "      <td>BENE22934</td>\n",
              "      <td>CLM73394</td>\n",
              "      <td>2009-10-25</td>\n",
              "      <td>2009-10-29</td>\n",
              "      <td>PRV55912</td>\n",
              "      <td>13000</td>\n",
              "      <td>PHY390614</td>\n",
              "      <td>PHY323689</td>\n",
              "      <td>PHY363291</td>\n",
              "      <td>2009-10-25</td>\n",
              "      <td>71946</td>\n",
              "      <td>1068.0</td>\n",
              "      <td>2009-10-29</td>\n",
              "      <td>506</td>\n",
              "      <td>71535</td>\n",
              "      <td>71960</td>\n",
              "      <td>4019</td>\n",
              "      <td>V1202</td>\n",
              "      <td>4240</td>\n",
              "      <td>2449</td>\n",
              "      <td>2768</td>\n",
              "      <td>NaN</td>\n",
              "      <td>NaN</td>\n",
              "      <td>NaN</td>\n",
              "      <td>8154.0</td>\n",
              "      <td>NaN</td>\n",
              "      <td>NaN</td>\n",
              "      <td>NaN</td>\n",
              "      <td>NaN</td>\n",
              "      <td>NaN</td>\n",
              "      <td>5.0</td>\n",
              "      <td>1930-07-01</td>\n",
              "      <td>NaT</td>\n",
              "      <td>2</td>\n",
              "      <td>1</td>\n",
              "      <td>0</td>\n",
              "      <td>39</td>\n",
              "      <td>280</td>\n",
              "      <td>12</td>\n",
              "      <td>12</td>\n",
              "      <td>0</td>\n",
              "      <td>1</td>\n",
              "      <td>0</td>\n",
              "      <td>0</td>\n",
              "      <td>1</td>\n",
              "      <td>0</td>\n",
              "      <td>1</td>\n",
              "      <td>1</td>\n",
              "      <td>1</td>\n",
              "      <td>1</td>\n",
              "      <td>0</td>\n",
              "      <td>27000</td>\n",
              "      <td>2136</td>\n",
              "      <td>450</td>\n",
              "      <td>160</td>\n",
              "      <td>89.0</td>\n",
              "      <td>0.0</td>\n",
              "      <td>Yes</td>\n",
              "    </tr>\n",
              "  </tbody>\n",
              "</table>\n",
              "</div>\n",
<<<<<<< HEAD
<<<<<<< HEAD
              "      <button class=\"colab-df-convert\" onclick=\"convertToInteractive('df-3fb810a1-397f-4f23-8e9d-bd010994f296')\"\n",
=======
              "      <button class=\"colab-df-convert\" onclick=\"convertToInteractive('df-e1691e49-2417-4fad-8788-f7394166bc3a')\"\n",
>>>>>>> 8735260d3ca5a4cec4948b7001761cc14fc1cc6e
=======
              "      <button class=\"colab-df-convert\" onclick=\"convertToInteractive('df-e1691e49-2417-4fad-8788-f7394166bc3a')\"\n",
>>>>>>> 8735260d3ca5a4cec4948b7001761cc14fc1cc6e
              "              title=\"Convert this dataframe to an interactive table.\"\n",
              "              style=\"display:none;\">\n",
              "        \n",
              "  <svg xmlns=\"http://www.w3.org/2000/svg\" height=\"24px\"viewBox=\"0 0 24 24\"\n",
              "       width=\"24px\">\n",
              "    <path d=\"M0 0h24v24H0V0z\" fill=\"none\"/>\n",
              "    <path d=\"M18.56 5.44l.94 2.06.94-2.06 2.06-.94-2.06-.94-.94-2.06-.94 2.06-2.06.94zm-11 1L8.5 8.5l.94-2.06 2.06-.94-2.06-.94L8.5 2.5l-.94 2.06-2.06.94zm10 10l.94 2.06.94-2.06 2.06-.94-2.06-.94-.94-2.06-.94 2.06-2.06.94z\"/><path d=\"M17.41 7.96l-1.37-1.37c-.4-.4-.92-.59-1.43-.59-.52 0-1.04.2-1.43.59L10.3 9.45l-7.72 7.72c-.78.78-.78 2.05 0 2.83L4 21.41c.39.39.9.59 1.41.59.51 0 1.02-.2 1.41-.59l7.78-7.78 2.81-2.81c.8-.78.8-2.07 0-2.86zM5.41 20L4 18.59l7.72-7.72 1.47 1.35L5.41 20z\"/>\n",
              "  </svg>\n",
              "      </button>\n",
              "      \n",
              "  <style>\n",
              "    .colab-df-container {\n",
              "      display:flex;\n",
              "      flex-wrap:wrap;\n",
              "      gap: 12px;\n",
              "    }\n",
              "\n",
              "    .colab-df-convert {\n",
              "      background-color: #E8F0FE;\n",
              "      border: none;\n",
              "      border-radius: 50%;\n",
              "      cursor: pointer;\n",
              "      display: none;\n",
              "      fill: #1967D2;\n",
              "      height: 32px;\n",
              "      padding: 0 0 0 0;\n",
              "      width: 32px;\n",
              "    }\n",
              "\n",
              "    .colab-df-convert:hover {\n",
              "      background-color: #E2EBFA;\n",
              "      box-shadow: 0px 1px 2px rgba(60, 64, 67, 0.3), 0px 1px 3px 1px rgba(60, 64, 67, 0.15);\n",
              "      fill: #174EA6;\n",
              "    }\n",
              "\n",
              "    [theme=dark] .colab-df-convert {\n",
              "      background-color: #3B4455;\n",
              "      fill: #D2E3FC;\n",
              "    }\n",
              "\n",
              "    [theme=dark] .colab-df-convert:hover {\n",
              "      background-color: #434B5C;\n",
              "      box-shadow: 0px 1px 3px 1px rgba(0, 0, 0, 0.15);\n",
              "      filter: drop-shadow(0px 1px 2px rgba(0, 0, 0, 0.3));\n",
              "      fill: #FFFFFF;\n",
              "    }\n",
              "  </style>\n",
              "\n",
              "      <script>\n",
              "        const buttonEl =\n",
<<<<<<< HEAD
<<<<<<< HEAD
              "          document.querySelector('#df-3fb810a1-397f-4f23-8e9d-bd010994f296 button.colab-df-convert');\n",
=======
              "          document.querySelector('#df-e1691e49-2417-4fad-8788-f7394166bc3a button.colab-df-convert');\n",
>>>>>>> 8735260d3ca5a4cec4948b7001761cc14fc1cc6e
=======
              "          document.querySelector('#df-e1691e49-2417-4fad-8788-f7394166bc3a button.colab-df-convert');\n",
>>>>>>> 8735260d3ca5a4cec4948b7001761cc14fc1cc6e
              "        buttonEl.style.display =\n",
              "          google.colab.kernel.accessAllowed ? 'block' : 'none';\n",
              "\n",
              "        async function convertToInteractive(key) {\n",
<<<<<<< HEAD
<<<<<<< HEAD
              "          const element = document.querySelector('#df-3fb810a1-397f-4f23-8e9d-bd010994f296');\n",
=======
              "          const element = document.querySelector('#df-e1691e49-2417-4fad-8788-f7394166bc3a');\n",
>>>>>>> 8735260d3ca5a4cec4948b7001761cc14fc1cc6e
=======
              "          const element = document.querySelector('#df-e1691e49-2417-4fad-8788-f7394166bc3a');\n",
>>>>>>> 8735260d3ca5a4cec4948b7001761cc14fc1cc6e
              "          const dataTable =\n",
              "            await google.colab.kernel.invokeFunction('convertToInteractive',\n",
              "                                                     [key], {});\n",
              "          if (!dataTable) return;\n",
              "\n",
              "          const docLinkHtml = 'Like what you see? Visit the ' +\n",
              "            '<a target=\"_blank\" href=https://colab.research.google.com/notebooks/data_table.ipynb>data table notebook</a>'\n",
              "            + ' to learn more about interactive tables.';\n",
              "          element.innerHTML = '';\n",
              "          dataTable['output_type'] = 'display_data';\n",
              "          await google.colab.output.renderOutput(dataTable, element);\n",
              "          const docLink = document.createElement('div');\n",
              "          docLink.innerHTML = docLinkHtml;\n",
              "          element.appendChild(docLink);\n",
              "        }\n",
              "      </script>\n",
              "    </div>\n",
              "  </div>\n",
              "  "
            ]
          },
          "metadata": {},
          "execution_count": 52
        }
<<<<<<< HEAD
<<<<<<< HEAD
=======
=======
>>>>>>> 8735260d3ca5a4cec4948b7001761cc14fc1cc6e
      ],
      "source": [
        "pd.set_option('display.max_columns', None)\n",
        "trainAllPatientDetailsProvider.head()"
<<<<<<< HEAD
>>>>>>> 8735260d3ca5a4cec4948b7001761cc14fc1cc6e
=======
>>>>>>> 8735260d3ca5a4cec4948b7001761cc14fc1cc6e
      ]
    },
    {
      "cell_type": "code",
<<<<<<< HEAD
<<<<<<< HEAD
      "source": [
        "columns_to_remove = ['BeneID', 'ClaimID', 'ClaimStartDt','ClaimEndDt','AttendingPhysician',\n",
        "                     'OperatingPhysician', 'OtherPhysician', 'ClmDiagnosisCode_1',\n",
        "                     'ClmDiagnosisCode_2', 'ClmDiagnosisCode_3', 'ClmDiagnosisCode_4',\n",
        "                     'ClmDiagnosisCode_5', 'ClmDiagnosisCode_6', 'ClmDiagnosisCode_7',\n",
        "                     'ClmDiagnosisCode_8', 'ClmDiagnosisCode_9', 'ClmDiagnosisCode_10',\n",
        "                     'ClmProcedureCode_1', 'ClmProcedureCode_2', 'ClmProcedureCode_3',\n",
        "                     'ClmProcedureCode_4', 'ClmProcedureCode_5', 'ClmProcedureCode_6',\n",
        "                     'ClmAdmitDiagnosisCode', 'AdmissionDt',\n",
        "                     'DischargeDt', 'DiagnosisGroupCode','DOB', 'DOD',\n",
        "                     'State', 'County']\n",
        "\n",
        "train_final = trainAllPatientDetailsProvider.drop(columns=columns_to_remove, axis=1)\n",
        "train_final.shape"
      ],
=======
      "execution_count": 53,
>>>>>>> 8735260d3ca5a4cec4948b7001761cc14fc1cc6e
=======
      "execution_count": 53,
>>>>>>> 8735260d3ca5a4cec4948b7001761cc14fc1cc6e
      "metadata": {
        "colab": {
          "base_uri": "https://localhost:8080/"
        },
        "id": "qiNs0R8IAV8W",
<<<<<<< HEAD
<<<<<<< HEAD
        "outputId": "23f9a97b-6698-41a0-d5d6-725365881fa8"
      },
      "execution_count": 53,
=======
        "outputId": "879c584a-d3b1-4a96-c494-2363ea0c484b"
      },
>>>>>>> 8735260d3ca5a4cec4948b7001761cc14fc1cc6e
=======
        "outputId": "879c584a-d3b1-4a96-c494-2363ea0c484b"
      },
>>>>>>> 8735260d3ca5a4cec4948b7001761cc14fc1cc6e
      "outputs": [
        {
          "output_type": "execute_result",
          "data": {
            "text/plain": [
              "(558211, 27)"
            ]
          },
          "metadata": {},
          "execution_count": 53
        }
<<<<<<< HEAD
<<<<<<< HEAD
=======
=======
>>>>>>> 8735260d3ca5a4cec4948b7001761cc14fc1cc6e
      ],
      "source": [
        "columns_to_remove = ['BeneID', 'ClaimID', 'ClaimStartDt','ClaimEndDt','AttendingPhysician',\n",
        "                     'OperatingPhysician', 'OtherPhysician', 'ClmDiagnosisCode_1',\n",
        "                     'ClmDiagnosisCode_2', 'ClmDiagnosisCode_3', 'ClmDiagnosisCode_4',\n",
        "                     'ClmDiagnosisCode_5', 'ClmDiagnosisCode_6', 'ClmDiagnosisCode_7',\n",
        "                     'ClmDiagnosisCode_8', 'ClmDiagnosisCode_9', 'ClmDiagnosisCode_10',\n",
        "                     'ClmProcedureCode_1', 'ClmProcedureCode_2', 'ClmProcedureCode_3',\n",
        "                     'ClmProcedureCode_4', 'ClmProcedureCode_5', 'ClmProcedureCode_6',\n",
        "                     'ClmAdmitDiagnosisCode', 'AdmissionDt',\n",
        "                     'DischargeDt', 'DiagnosisGroupCode','DOB', 'DOD',\n",
        "                     'State', 'County']\n",
        "\n",
        "train_final = trainAllPatientDetailsProvider.drop(columns=columns_to_remove, axis=1)\n",
        "train_final.shape"
<<<<<<< HEAD
>>>>>>> 8735260d3ca5a4cec4948b7001761cc14fc1cc6e
=======
>>>>>>> 8735260d3ca5a4cec4948b7001761cc14fc1cc6e
      ]
    },
    {
      "cell_type": "code",
<<<<<<< HEAD
<<<<<<< HEAD
      "source": [
        "train_final.isnull().sum()"
      ],
=======
      "execution_count": 54,
>>>>>>> 8735260d3ca5a4cec4948b7001761cc14fc1cc6e
=======
      "execution_count": 54,
>>>>>>> 8735260d3ca5a4cec4948b7001761cc14fc1cc6e
      "metadata": {
        "colab": {
          "base_uri": "https://localhost:8080/"
        },
        "id": "f2ZXWx0PBS4T",
<<<<<<< HEAD
<<<<<<< HEAD
        "outputId": "51e24acf-4ae0-4585-e161-79b22e077a92"
      },
      "execution_count": 54,
=======
        "outputId": "a6771c8f-2d56-4caa-9743-72dd18bf2fee"
      },
>>>>>>> 8735260d3ca5a4cec4948b7001761cc14fc1cc6e
=======
        "outputId": "a6771c8f-2d56-4caa-9743-72dd18bf2fee"
      },
>>>>>>> 8735260d3ca5a4cec4948b7001761cc14fc1cc6e
      "outputs": [
        {
          "output_type": "execute_result",
          "data": {
            "text/plain": [
              "Provider                                0\n",
              "InscClaimAmtReimbursed                  0\n",
              "DeductibleAmtPaid                     899\n",
              "AdmittedDays                       517737\n",
              "Gender                                  0\n",
              "Race                                    0\n",
              "RenalDiseaseIndicator                   0\n",
              "NoOfMonths_PartACov                     0\n",
              "NoOfMonths_PartBCov                     0\n",
              "ChronicCond_Alzheimer                   0\n",
              "ChronicCond_Heartfailure                0\n",
              "ChronicCond_KidneyDisease               0\n",
              "ChronicCond_Cancer                      0\n",
              "ChronicCond_ObstrPulmonary              0\n",
              "ChronicCond_Depression                  0\n",
              "ChronicCond_Diabetes                    0\n",
              "ChronicCond_IschemicHeart               0\n",
              "ChronicCond_Osteoporasis                0\n",
              "ChronicCond_rheumatoidarthritis         0\n",
              "ChronicCond_stroke                      0\n",
              "IPAnnualReimbursementAmt                0\n",
              "IPAnnualDeductibleAmt                   0\n",
              "OPAnnualReimbursementAmt                0\n",
              "OPAnnualDeductibleAmt                   0\n",
              "Age                                     0\n",
              "DeadOrNot                               0\n",
              "PotentialFraud                          0\n",
              "dtype: int64"
            ]
          },
          "metadata": {},
          "execution_count": 54
        }
<<<<<<< HEAD
<<<<<<< HEAD
=======
      ],
      "source": [
        "train_final.isnull().sum()"
>>>>>>> 8735260d3ca5a4cec4948b7001761cc14fc1cc6e
=======
      ],
      "source": [
        "train_final.isnull().sum()"
>>>>>>> 8735260d3ca5a4cec4948b7001761cc14fc1cc6e
      ]
    },
    {
      "cell_type": "code",
<<<<<<< HEAD
<<<<<<< HEAD
      "source": [
        "test_final = testAllPatientDetailsProvider.drop(columns=columns_to_remove, axis=1)\n",
        "test_final.shape"
      ],
=======
      "execution_count": 55,
>>>>>>> 8735260d3ca5a4cec4948b7001761cc14fc1cc6e
=======
      "execution_count": 55,
>>>>>>> 8735260d3ca5a4cec4948b7001761cc14fc1cc6e
      "metadata": {
        "colab": {
          "base_uri": "https://localhost:8080/"
        },
        "id": "kIf4xMVGBXxd",
<<<<<<< HEAD
<<<<<<< HEAD
        "outputId": "e5b46ed5-7ccc-478f-cfcf-8d5d382929e0"
      },
      "execution_count": 55,
=======
        "outputId": "54100034-8665-490c-f82f-efd71b7ac9cb"
      },
>>>>>>> 8735260d3ca5a4cec4948b7001761cc14fc1cc6e
=======
        "outputId": "54100034-8665-490c-f82f-efd71b7ac9cb"
      },
>>>>>>> 8735260d3ca5a4cec4948b7001761cc14fc1cc6e
      "outputs": [
        {
          "output_type": "execute_result",
          "data": {
            "text/plain": [
              "(135392, 26)"
            ]
          },
          "metadata": {},
          "execution_count": 55
        }
<<<<<<< HEAD
<<<<<<< HEAD
=======
=======
>>>>>>> 8735260d3ca5a4cec4948b7001761cc14fc1cc6e
      ],
      "source": [
        "test_final = testAllPatientDetailsProvider.drop(columns=columns_to_remove, axis=1)\n",
        "test_final.shape"
<<<<<<< HEAD
>>>>>>> 8735260d3ca5a4cec4948b7001761cc14fc1cc6e
=======
>>>>>>> 8735260d3ca5a4cec4948b7001761cc14fc1cc6e
      ]
    },
    {
      "cell_type": "code",
<<<<<<< HEAD
<<<<<<< HEAD
      "source": [
        "test_final.isnull().sum()"
      ],
=======
      "execution_count": 56,
>>>>>>> 8735260d3ca5a4cec4948b7001761cc14fc1cc6e
=======
      "execution_count": 56,
>>>>>>> 8735260d3ca5a4cec4948b7001761cc14fc1cc6e
      "metadata": {
        "colab": {
          "base_uri": "https://localhost:8080/"
        },
        "id": "oinj62dNBkUX",
<<<<<<< HEAD
<<<<<<< HEAD
        "outputId": "78e73606-314b-487a-f136-fca586bdede2"
      },
      "execution_count": 56,
=======
        "outputId": "9995e772-0837-45fb-ae84-0c2a71bf4d11"
      },
>>>>>>> 8735260d3ca5a4cec4948b7001761cc14fc1cc6e
=======
        "outputId": "9995e772-0837-45fb-ae84-0c2a71bf4d11"
      },
>>>>>>> 8735260d3ca5a4cec4948b7001761cc14fc1cc6e
      "outputs": [
        {
          "output_type": "execute_result",
          "data": {
            "text/plain": [
              "Provider                                0\n",
              "InscClaimAmtReimbursed                  0\n",
              "DeductibleAmtPaid                     196\n",
              "AdmittedDays                       125841\n",
              "Gender                                  0\n",
              "Race                                    0\n",
              "RenalDiseaseIndicator                   0\n",
              "NoOfMonths_PartACov                     0\n",
              "NoOfMonths_PartBCov                     0\n",
              "ChronicCond_Alzheimer                   0\n",
              "ChronicCond_Heartfailure                0\n",
              "ChronicCond_KidneyDisease               0\n",
              "ChronicCond_Cancer                      0\n",
              "ChronicCond_ObstrPulmonary              0\n",
              "ChronicCond_Depression                  0\n",
              "ChronicCond_Diabetes                    0\n",
              "ChronicCond_IschemicHeart               0\n",
              "ChronicCond_Osteoporasis                0\n",
              "ChronicCond_rheumatoidarthritis         0\n",
              "ChronicCond_stroke                      0\n",
              "IPAnnualReimbursementAmt                0\n",
              "IPAnnualDeductibleAmt                   0\n",
              "OPAnnualReimbursementAmt                0\n",
              "OPAnnualDeductibleAmt                   0\n",
              "Age                                     0\n",
              "DeadOrNot                               0\n",
              "dtype: int64"
            ]
          },
          "metadata": {},
          "execution_count": 56
        }
<<<<<<< HEAD
<<<<<<< HEAD
=======
      ],
      "source": [
        "test_final.isnull().sum()"
>>>>>>> 8735260d3ca5a4cec4948b7001761cc14fc1cc6e
=======
      ],
      "source": [
        "test_final.isnull().sum()"
>>>>>>> 8735260d3ca5a4cec4948b7001761cc14fc1cc6e
      ]
    },
    {
      "cell_type": "code",
<<<<<<< HEAD
<<<<<<< HEAD
      "source": [
        "train_final.Gender = train_final.Gender.astype('category')\n",
        "train_final.Race = train_final.Race.astype('category')"
      ],
      "metadata": {
        "id": "rc77o8gOBoN_"
      },
      "execution_count": 57,
      "outputs": []
    },
    {
      "cell_type": "code",
      "source": [
        "test_final.Gender = test_final.Gender.astype('category')\n",
        "test_final.Race = test_final.Race.astype('category')"
      ],
      "metadata": {
        "id": "eXWDnISGBsCo"
      },
      "execution_count": 58,
      "outputs": []
    },
    {
      "cell_type": "markdown",
      "source": [
        "## One-hot encoding"
      ],
      "metadata": {
        "id": "Uo3AXMo7B08B"
      }
    },
    {
      "cell_type": "code",
      "source": [
        "train_final = pd.get_dummies(train_final, columns=['Gender', 'Race'], drop_first=True)\n",
        "train_final.head()"
      ],
      "metadata": {
        "colab": {
          "base_uri": "https://localhost:8080/",
          "height": 266
        },
        "id": "4uTw412rBwAC",
        "outputId": "d7116eec-c83a-41bb-94ef-a557c4d41c63"
      },
      "execution_count": 59,
=======
=======
>>>>>>> 8735260d3ca5a4cec4948b7001761cc14fc1cc6e
      "execution_count": 57,
      "metadata": {
        "id": "rc77o8gOBoN_"
      },
      "outputs": [],
      "source": [
        "train_final.Gender = train_final.Gender.astype('category')\n",
        "train_final.Race = train_final.Race.astype('category')"
      ]
    },
    {
      "cell_type": "code",
      "execution_count": 58,
      "metadata": {
        "id": "eXWDnISGBsCo"
      },
      "outputs": [],
      "source": [
        "test_final.Gender = test_final.Gender.astype('category')\n",
        "test_final.Race = test_final.Race.astype('category')"
      ]
    },
    {
      "cell_type": "markdown",
      "metadata": {
        "id": "Uo3AXMo7B08B"
      },
      "source": [
        "## One-hot encoding"
      ]
    },
    {
      "cell_type": "code",
      "execution_count": 59,
      "metadata": {
        "colab": {
          "base_uri": "https://localhost:8080/",
          "height": 270
        },
        "id": "4uTw412rBwAC",
        "outputId": "910e8d62-d230-4111-97d6-9af7accb3db2"
      },
<<<<<<< HEAD
>>>>>>> 8735260d3ca5a4cec4948b7001761cc14fc1cc6e
=======
>>>>>>> 8735260d3ca5a4cec4948b7001761cc14fc1cc6e
      "outputs": [
        {
          "output_type": "execute_result",
          "data": {
            "text/plain": [
              "   Provider  InscClaimAmtReimbursed  DeductibleAmtPaid  AdmittedDays  \\\n",
              "0  PRV55912                   26000             1068.0           7.0   \n",
              "1  PRV55912                      50                0.0           NaN   \n",
              "2  PRV55912                   19000             1068.0          13.0   \n",
              "3  PRV55912                   17000             1068.0          19.0   \n",
              "4  PRV55912                   13000             1068.0           5.0   \n",
              "\n",
              "  RenalDiseaseIndicator  NoOfMonths_PartACov  NoOfMonths_PartBCov  \\\n",
              "0                     0                   12                   12   \n",
              "1                     0                   12                   12   \n",
              "2                     0                   12                   12   \n",
              "3                     0                   12                   12   \n",
              "4                     0                   12                   12   \n",
              "\n",
              "   ChronicCond_Alzheimer  ChronicCond_Heartfailure  ChronicCond_KidneyDisease  \\\n",
              "0                      1                         0                          1   \n",
              "1                      1                         1                          1   \n",
              "2                      1                         1                          1   \n",
              "3                      0                         0                          0   \n",
              "4                      0                         1                          0   \n",
              "\n",
              "   ChronicCond_Cancer  ChronicCond_ObstrPulmonary  ChronicCond_Depression  \\\n",
              "0                   0                           0                       1   \n",
              "1                   0                           0                       0   \n",
              "2                   0                           1                       0   \n",
              "3                   0                           0                       0   \n",
              "4                   0                           1                       0   \n",
              "\n",
              "   ChronicCond_Diabetes  ChronicCond_IschemicHeart  ChronicCond_Osteoporasis  \\\n",
              "0                     1                          1                         0   \n",
              "1                     0                          1                         0   \n",
              "2                     0                          1                         0   \n",
              "3                     0                          1                         1   \n",
              "4                     1                          1                         1   \n",
              "\n",
              "   ChronicCond_rheumatoidarthritis  ChronicCond_stroke  \\\n",
              "0                                1                   1   \n",
              "1                                0                   0   \n",
              "2                                0                   0   \n",
              "3                                0                   0   \n",
              "4                                1                   0   \n",
              "\n",
              "   IPAnnualReimbursementAmt  IPAnnualDeductibleAmt  OPAnnualReimbursementAmt  \\\n",
              "0                     36000                   3204                        60   \n",
              "1                     24000                   2136                       450   \n",
              "2                     19000                   1068                       100   \n",
              "3                     17000                   1068                      1050   \n",
              "4                     27000                   2136                       450   \n",
              "\n",
              "   OPAnnualDeductibleAmt    Age  DeadOrNot PotentialFraud  Gender_2  Race_2  \\\n",
              "0                     70   77.0        0.0            Yes         0       0   \n",
              "1                    200   88.0        0.0            Yes         0       0   \n",
              "2                     20  106.0        0.0            Yes         1       0   \n",
              "3                    540   97.0        0.0            Yes         0       0   \n",
              "4                    160   89.0        0.0            Yes         1       0   \n",
              "\n",
              "   Race_3  Race_5  \n",
              "0       0       0  \n",
              "1       0       0  \n",
              "2       0       0  \n",
              "3       0       0  \n",
              "4       0       0  "
            ],
            "text/html": [
              "\n",
<<<<<<< HEAD
<<<<<<< HEAD
              "  <div id=\"df-992dfad6-5351-41b8-8317-a674fad9872c\">\n",
=======
              "  <div id=\"df-01e80cd9-9e44-43e5-9901-188fc5904a90\">\n",
>>>>>>> 8735260d3ca5a4cec4948b7001761cc14fc1cc6e
=======
              "  <div id=\"df-01e80cd9-9e44-43e5-9901-188fc5904a90\">\n",
>>>>>>> 8735260d3ca5a4cec4948b7001761cc14fc1cc6e
              "    <div class=\"colab-df-container\">\n",
              "      <div>\n",
              "<style scoped>\n",
              "    .dataframe tbody tr th:only-of-type {\n",
              "        vertical-align: middle;\n",
              "    }\n",
              "\n",
              "    .dataframe tbody tr th {\n",
              "        vertical-align: top;\n",
              "    }\n",
              "\n",
              "    .dataframe thead th {\n",
              "        text-align: right;\n",
              "    }\n",
              "</style>\n",
              "<table border=\"1\" class=\"dataframe\">\n",
              "  <thead>\n",
              "    <tr style=\"text-align: right;\">\n",
              "      <th></th>\n",
              "      <th>Provider</th>\n",
              "      <th>InscClaimAmtReimbursed</th>\n",
              "      <th>DeductibleAmtPaid</th>\n",
              "      <th>AdmittedDays</th>\n",
              "      <th>RenalDiseaseIndicator</th>\n",
              "      <th>NoOfMonths_PartACov</th>\n",
              "      <th>NoOfMonths_PartBCov</th>\n",
              "      <th>ChronicCond_Alzheimer</th>\n",
              "      <th>ChronicCond_Heartfailure</th>\n",
              "      <th>ChronicCond_KidneyDisease</th>\n",
              "      <th>ChronicCond_Cancer</th>\n",
              "      <th>ChronicCond_ObstrPulmonary</th>\n",
              "      <th>ChronicCond_Depression</th>\n",
              "      <th>ChronicCond_Diabetes</th>\n",
              "      <th>ChronicCond_IschemicHeart</th>\n",
              "      <th>ChronicCond_Osteoporasis</th>\n",
              "      <th>ChronicCond_rheumatoidarthritis</th>\n",
              "      <th>ChronicCond_stroke</th>\n",
              "      <th>IPAnnualReimbursementAmt</th>\n",
              "      <th>IPAnnualDeductibleAmt</th>\n",
              "      <th>OPAnnualReimbursementAmt</th>\n",
              "      <th>OPAnnualDeductibleAmt</th>\n",
              "      <th>Age</th>\n",
              "      <th>DeadOrNot</th>\n",
              "      <th>PotentialFraud</th>\n",
              "      <th>Gender_2</th>\n",
              "      <th>Race_2</th>\n",
              "      <th>Race_3</th>\n",
              "      <th>Race_5</th>\n",
              "    </tr>\n",
              "  </thead>\n",
              "  <tbody>\n",
              "    <tr>\n",
              "      <th>0</th>\n",
              "      <td>PRV55912</td>\n",
              "      <td>26000</td>\n",
              "      <td>1068.0</td>\n",
              "      <td>7.0</td>\n",
              "      <td>0</td>\n",
              "      <td>12</td>\n",
              "      <td>12</td>\n",
              "      <td>1</td>\n",
              "      <td>0</td>\n",
              "      <td>1</td>\n",
              "      <td>0</td>\n",
              "      <td>0</td>\n",
              "      <td>1</td>\n",
              "      <td>1</td>\n",
              "      <td>1</td>\n",
              "      <td>0</td>\n",
              "      <td>1</td>\n",
              "      <td>1</td>\n",
              "      <td>36000</td>\n",
              "      <td>3204</td>\n",
              "      <td>60</td>\n",
              "      <td>70</td>\n",
              "      <td>77.0</td>\n",
              "      <td>0.0</td>\n",
              "      <td>Yes</td>\n",
              "      <td>0</td>\n",
              "      <td>0</td>\n",
              "      <td>0</td>\n",
              "      <td>0</td>\n",
              "    </tr>\n",
              "    <tr>\n",
              "      <th>1</th>\n",
              "      <td>PRV55912</td>\n",
              "      <td>50</td>\n",
              "      <td>0.0</td>\n",
              "      <td>NaN</td>\n",
              "      <td>0</td>\n",
              "      <td>12</td>\n",
              "      <td>12</td>\n",
              "      <td>1</td>\n",
              "      <td>1</td>\n",
              "      <td>1</td>\n",
              "      <td>0</td>\n",
              "      <td>0</td>\n",
              "      <td>0</td>\n",
              "      <td>0</td>\n",
              "      <td>1</td>\n",
              "      <td>0</td>\n",
              "      <td>0</td>\n",
              "      <td>0</td>\n",
              "      <td>24000</td>\n",
              "      <td>2136</td>\n",
              "      <td>450</td>\n",
              "      <td>200</td>\n",
              "      <td>88.0</td>\n",
              "      <td>0.0</td>\n",
              "      <td>Yes</td>\n",
              "      <td>0</td>\n",
              "      <td>0</td>\n",
              "      <td>0</td>\n",
              "      <td>0</td>\n",
              "    </tr>\n",
              "    <tr>\n",
              "      <th>2</th>\n",
              "      <td>PRV55912</td>\n",
              "      <td>19000</td>\n",
              "      <td>1068.0</td>\n",
              "      <td>13.0</td>\n",
              "      <td>0</td>\n",
              "      <td>12</td>\n",
              "      <td>12</td>\n",
              "      <td>1</td>\n",
              "      <td>1</td>\n",
              "      <td>1</td>\n",
              "      <td>0</td>\n",
              "      <td>1</td>\n",
              "      <td>0</td>\n",
              "      <td>0</td>\n",
              "      <td>1</td>\n",
              "      <td>0</td>\n",
              "      <td>0</td>\n",
              "      <td>0</td>\n",
              "      <td>19000</td>\n",
              "      <td>1068</td>\n",
              "      <td>100</td>\n",
              "      <td>20</td>\n",
              "      <td>106.0</td>\n",
              "      <td>0.0</td>\n",
              "      <td>Yes</td>\n",
              "      <td>1</td>\n",
              "      <td>0</td>\n",
              "      <td>0</td>\n",
              "      <td>0</td>\n",
              "    </tr>\n",
              "    <tr>\n",
              "      <th>3</th>\n",
              "      <td>PRV55912</td>\n",
              "      <td>17000</td>\n",
              "      <td>1068.0</td>\n",
              "      <td>19.0</td>\n",
              "      <td>0</td>\n",
              "      <td>12</td>\n",
              "      <td>12</td>\n",
              "      <td>0</td>\n",
              "      <td>0</td>\n",
              "      <td>0</td>\n",
              "      <td>0</td>\n",
              "      <td>0</td>\n",
              "      <td>0</td>\n",
              "      <td>0</td>\n",
              "      <td>1</td>\n",
              "      <td>1</td>\n",
              "      <td>0</td>\n",
              "      <td>0</td>\n",
              "      <td>17000</td>\n",
              "      <td>1068</td>\n",
              "      <td>1050</td>\n",
              "      <td>540</td>\n",
              "      <td>97.0</td>\n",
              "      <td>0.0</td>\n",
              "      <td>Yes</td>\n",
              "      <td>0</td>\n",
              "      <td>0</td>\n",
              "      <td>0</td>\n",
              "      <td>0</td>\n",
              "    </tr>\n",
              "    <tr>\n",
              "      <th>4</th>\n",
              "      <td>PRV55912</td>\n",
              "      <td>13000</td>\n",
              "      <td>1068.0</td>\n",
              "      <td>5.0</td>\n",
              "      <td>0</td>\n",
              "      <td>12</td>\n",
              "      <td>12</td>\n",
              "      <td>0</td>\n",
              "      <td>1</td>\n",
              "      <td>0</td>\n",
              "      <td>0</td>\n",
              "      <td>1</td>\n",
              "      <td>0</td>\n",
              "      <td>1</td>\n",
              "      <td>1</td>\n",
              "      <td>1</td>\n",
              "      <td>1</td>\n",
              "      <td>0</td>\n",
              "      <td>27000</td>\n",
              "      <td>2136</td>\n",
              "      <td>450</td>\n",
              "      <td>160</td>\n",
              "      <td>89.0</td>\n",
              "      <td>0.0</td>\n",
              "      <td>Yes</td>\n",
              "      <td>1</td>\n",
              "      <td>0</td>\n",
              "      <td>0</td>\n",
              "      <td>0</td>\n",
              "    </tr>\n",
              "  </tbody>\n",
              "</table>\n",
              "</div>\n",
<<<<<<< HEAD
<<<<<<< HEAD
              "      <button class=\"colab-df-convert\" onclick=\"convertToInteractive('df-992dfad6-5351-41b8-8317-a674fad9872c')\"\n",
=======
              "      <button class=\"colab-df-convert\" onclick=\"convertToInteractive('df-01e80cd9-9e44-43e5-9901-188fc5904a90')\"\n",
>>>>>>> 8735260d3ca5a4cec4948b7001761cc14fc1cc6e
=======
              "      <button class=\"colab-df-convert\" onclick=\"convertToInteractive('df-01e80cd9-9e44-43e5-9901-188fc5904a90')\"\n",
>>>>>>> 8735260d3ca5a4cec4948b7001761cc14fc1cc6e
              "              title=\"Convert this dataframe to an interactive table.\"\n",
              "              style=\"display:none;\">\n",
              "        \n",
              "  <svg xmlns=\"http://www.w3.org/2000/svg\" height=\"24px\"viewBox=\"0 0 24 24\"\n",
              "       width=\"24px\">\n",
              "    <path d=\"M0 0h24v24H0V0z\" fill=\"none\"/>\n",
              "    <path d=\"M18.56 5.44l.94 2.06.94-2.06 2.06-.94-2.06-.94-.94-2.06-.94 2.06-2.06.94zm-11 1L8.5 8.5l.94-2.06 2.06-.94-2.06-.94L8.5 2.5l-.94 2.06-2.06.94zm10 10l.94 2.06.94-2.06 2.06-.94-2.06-.94-.94-2.06-.94 2.06-2.06.94z\"/><path d=\"M17.41 7.96l-1.37-1.37c-.4-.4-.92-.59-1.43-.59-.52 0-1.04.2-1.43.59L10.3 9.45l-7.72 7.72c-.78.78-.78 2.05 0 2.83L4 21.41c.39.39.9.59 1.41.59.51 0 1.02-.2 1.41-.59l7.78-7.78 2.81-2.81c.8-.78.8-2.07 0-2.86zM5.41 20L4 18.59l7.72-7.72 1.47 1.35L5.41 20z\"/>\n",
              "  </svg>\n",
              "      </button>\n",
              "      \n",
              "  <style>\n",
              "    .colab-df-container {\n",
              "      display:flex;\n",
              "      flex-wrap:wrap;\n",
              "      gap: 12px;\n",
              "    }\n",
              "\n",
              "    .colab-df-convert {\n",
              "      background-color: #E8F0FE;\n",
              "      border: none;\n",
              "      border-radius: 50%;\n",
              "      cursor: pointer;\n",
              "      display: none;\n",
              "      fill: #1967D2;\n",
              "      height: 32px;\n",
              "      padding: 0 0 0 0;\n",
              "      width: 32px;\n",
              "    }\n",
              "\n",
              "    .colab-df-convert:hover {\n",
              "      background-color: #E2EBFA;\n",
              "      box-shadow: 0px 1px 2px rgba(60, 64, 67, 0.3), 0px 1px 3px 1px rgba(60, 64, 67, 0.15);\n",
              "      fill: #174EA6;\n",
              "    }\n",
              "\n",
              "    [theme=dark] .colab-df-convert {\n",
              "      background-color: #3B4455;\n",
              "      fill: #D2E3FC;\n",
              "    }\n",
              "\n",
              "    [theme=dark] .colab-df-convert:hover {\n",
              "      background-color: #434B5C;\n",
              "      box-shadow: 0px 1px 3px 1px rgba(0, 0, 0, 0.15);\n",
              "      filter: drop-shadow(0px 1px 2px rgba(0, 0, 0, 0.3));\n",
              "      fill: #FFFFFF;\n",
              "    }\n",
              "  </style>\n",
              "\n",
              "      <script>\n",
              "        const buttonEl =\n",
<<<<<<< HEAD
<<<<<<< HEAD
              "          document.querySelector('#df-992dfad6-5351-41b8-8317-a674fad9872c button.colab-df-convert');\n",
=======
              "          document.querySelector('#df-01e80cd9-9e44-43e5-9901-188fc5904a90 button.colab-df-convert');\n",
>>>>>>> 8735260d3ca5a4cec4948b7001761cc14fc1cc6e
=======
              "          document.querySelector('#df-01e80cd9-9e44-43e5-9901-188fc5904a90 button.colab-df-convert');\n",
>>>>>>> 8735260d3ca5a4cec4948b7001761cc14fc1cc6e
              "        buttonEl.style.display =\n",
              "          google.colab.kernel.accessAllowed ? 'block' : 'none';\n",
              "\n",
              "        async function convertToInteractive(key) {\n",
<<<<<<< HEAD
<<<<<<< HEAD
              "          const element = document.querySelector('#df-992dfad6-5351-41b8-8317-a674fad9872c');\n",
=======
              "          const element = document.querySelector('#df-01e80cd9-9e44-43e5-9901-188fc5904a90');\n",
>>>>>>> 8735260d3ca5a4cec4948b7001761cc14fc1cc6e
=======
              "          const element = document.querySelector('#df-01e80cd9-9e44-43e5-9901-188fc5904a90');\n",
>>>>>>> 8735260d3ca5a4cec4948b7001761cc14fc1cc6e
              "          const dataTable =\n",
              "            await google.colab.kernel.invokeFunction('convertToInteractive',\n",
              "                                                     [key], {});\n",
              "          if (!dataTable) return;\n",
              "\n",
              "          const docLinkHtml = 'Like what you see? Visit the ' +\n",
              "            '<a target=\"_blank\" href=https://colab.research.google.com/notebooks/data_table.ipynb>data table notebook</a>'\n",
              "            + ' to learn more about interactive tables.';\n",
              "          element.innerHTML = '';\n",
              "          dataTable['output_type'] = 'display_data';\n",
              "          await google.colab.output.renderOutput(dataTable, element);\n",
              "          const docLink = document.createElement('div');\n",
              "          docLink.innerHTML = docLinkHtml;\n",
              "          element.appendChild(docLink);\n",
              "        }\n",
              "      </script>\n",
              "    </div>\n",
              "  </div>\n",
              "  "
            ]
          },
          "metadata": {},
          "execution_count": 59
        }
<<<<<<< HEAD
<<<<<<< HEAD
=======
=======
>>>>>>> 8735260d3ca5a4cec4948b7001761cc14fc1cc6e
      ],
      "source": [
        "train_final = pd.get_dummies(train_final, columns=['Gender', 'Race'], drop_first=True)\n",
        "train_final.head()"
<<<<<<< HEAD
>>>>>>> 8735260d3ca5a4cec4948b7001761cc14fc1cc6e
=======
>>>>>>> 8735260d3ca5a4cec4948b7001761cc14fc1cc6e
      ]
    },
    {
      "cell_type": "code",
<<<<<<< HEAD
<<<<<<< HEAD
      "source": [
        "train_final.loc[train_final['PotentialFraud'] == 'Yes', 'PotentialFraud'] = 1\n",
        "train_final.loc[train_final['PotentialFraud'] == 'No', 'PotentialFraud'] = 0"
      ],
      "metadata": {
        "id": "znsIjeqiCEVK"
      },
      "execution_count": 60,
      "outputs": []
    },
    {
      "cell_type": "code",
      "source": [
        "train_final['PotentialFraud'].value_counts()"
      ],
=======
=======
>>>>>>> 8735260d3ca5a4cec4948b7001761cc14fc1cc6e
      "execution_count": 60,
      "metadata": {
        "id": "znsIjeqiCEVK"
      },
      "outputs": [],
      "source": [
        "train_final.loc[train_final['PotentialFraud'] == 'Yes', 'PotentialFraud'] = 1\n",
        "train_final.loc[train_final['PotentialFraud'] == 'No', 'PotentialFraud'] = 0"
      ]
    },
    {
      "cell_type": "code",
      "execution_count": 61,
<<<<<<< HEAD
>>>>>>> 8735260d3ca5a4cec4948b7001761cc14fc1cc6e
=======
>>>>>>> 8735260d3ca5a4cec4948b7001761cc14fc1cc6e
      "metadata": {
        "colab": {
          "base_uri": "https://localhost:8080/"
        },
        "id": "nkLWERF9Cb0G",
<<<<<<< HEAD
<<<<<<< HEAD
        "outputId": "eeddc819-a732-44c3-9c5d-7c000aef6d69"
      },
      "execution_count": 61,
=======
        "outputId": "e308c00b-ca42-4c96-c498-342a5d62f1fd"
      },
>>>>>>> 8735260d3ca5a4cec4948b7001761cc14fc1cc6e
=======
        "outputId": "e308c00b-ca42-4c96-c498-342a5d62f1fd"
      },
>>>>>>> 8735260d3ca5a4cec4948b7001761cc14fc1cc6e
      "outputs": [
        {
          "output_type": "execute_result",
          "data": {
            "text/plain": [
              "0    345415\n",
              "1    212796\n",
              "Name: PotentialFraud, dtype: int64"
            ]
          },
          "metadata": {},
          "execution_count": 61
        }
<<<<<<< HEAD
<<<<<<< HEAD
=======
      ],
      "source": [
        "train_final['PotentialFraud'].value_counts()"
>>>>>>> 8735260d3ca5a4cec4948b7001761cc14fc1cc6e
=======
      ],
      "source": [
        "train_final['PotentialFraud'].value_counts()"
>>>>>>> 8735260d3ca5a4cec4948b7001761cc14fc1cc6e
      ]
    },
    {
      "cell_type": "code",
<<<<<<< HEAD
<<<<<<< HEAD
      "source": [
        "test_final = pd.get_dummies(test_final, columns=['Gender', 'Race'], drop_first=True)\n",
        "test_final.head()"
      ],
      "metadata": {
        "colab": {
          "base_uri": "https://localhost:8080/",
          "height": 266
        },
        "id": "nff9J5Y-CfCp",
        "outputId": "0a435a0c-ed8d-47ce-9044-0d654114caf8"
      },
      "execution_count": 62,
=======
=======
>>>>>>> 8735260d3ca5a4cec4948b7001761cc14fc1cc6e
      "execution_count": 62,
      "metadata": {
        "colab": {
          "base_uri": "https://localhost:8080/",
          "height": 270
        },
        "id": "nff9J5Y-CfCp",
        "outputId": "5b29a001-871c-41c5-e57b-963f0528b41b"
      },
<<<<<<< HEAD
>>>>>>> 8735260d3ca5a4cec4948b7001761cc14fc1cc6e
=======
>>>>>>> 8735260d3ca5a4cec4948b7001761cc14fc1cc6e
      "outputs": [
        {
          "output_type": "execute_result",
          "data": {
            "text/plain": [
              "   Provider  InscClaimAmtReimbursed  DeductibleAmtPaid  AdmittedDays  \\\n",
              "0  PRV57070                    9000             1068.0           8.0   \n",
              "1  PRV57070                    3000             1068.0           3.0   \n",
              "2  PRV57070                    7000             1068.0           7.0   \n",
              "3  PRV57070                    5000             1068.0           9.0   \n",
              "4  PRV57070                    9000             1068.0          11.0   \n",
              "\n",
              "  RenalDiseaseIndicator  NoOfMonths_PartACov  NoOfMonths_PartBCov  \\\n",
              "0                     Y                   12                   12   \n",
              "1                     0                   12                   12   \n",
              "2                     Y                   12                   12   \n",
              "3                     0                   12                   12   \n",
              "4                     Y                   12                   12   \n",
              "\n",
              "   ChronicCond_Alzheimer  ChronicCond_Heartfailure  ChronicCond_KidneyDisease  \\\n",
              "0                      0                         1                          1   \n",
              "1                      1                         1                          1   \n",
              "2                      0                         1                          1   \n",
              "3                      0                         0                          1   \n",
              "4                      1                         1                          1   \n",
              "\n",
              "   ChronicCond_Cancer  ChronicCond_ObstrPulmonary  ChronicCond_Depression  \\\n",
              "0                   0                           1                       1   \n",
              "1                   0                           1                       1   \n",
              "2                   0                           1                       0   \n",
              "3                   0                           1                       0   \n",
              "4                   1                           1                       0   \n",
              "\n",
              "   ChronicCond_Diabetes  ChronicCond_IschemicHeart  ChronicCond_Osteoporasis  \\\n",
              "0                     0                          1                         0   \n",
              "1                     1                          1                         0   \n",
              "2                     0                          1                         1   \n",
              "3                     0                          1                         1   \n",
              "4                     1                          1                         0   \n",
              "\n",
              "   ChronicCond_rheumatoidarthritis  ChronicCond_stroke  \\\n",
              "0                                0                   0   \n",
              "1                                1                   0   \n",
              "2                                0                   0   \n",
              "3                                0                   0   \n",
              "4                                1                   0   \n",
              "\n",
              "   IPAnnualReimbursementAmt  IPAnnualDeductibleAmt  OPAnnualReimbursementAmt  \\\n",
              "0                     21260                   2136                       120   \n",
              "1                      8000                   2136                      2540   \n",
              "2                     10200                   2136                        40   \n",
              "3                      5000                   1068                       600   \n",
              "4                      9000                   1068                        10   \n",
              "\n",
              "   OPAnnualDeductibleAmt   Age  DeadOrNot  Gender_2  Race_2  Race_3  Race_5  \n",
              "0                    100  82.0        0.0         1       0       0       0  \n",
              "1                   1880  83.0        0.0         1       0       0       0  \n",
              "2                    100  82.0        0.0         1       0       0       0  \n",
              "3                    180  95.0        0.0         1       0       0       0  \n",
              "4                     40  76.0        0.0         1       0       0       0  "
            ],
            "text/html": [
              "\n",
<<<<<<< HEAD
<<<<<<< HEAD
              "  <div id=\"df-b651b663-c21c-4ea5-85f6-704a2a5f15fe\">\n",
=======
              "  <div id=\"df-887f1ee1-190a-4711-a800-b0ea19d6b487\">\n",
>>>>>>> 8735260d3ca5a4cec4948b7001761cc14fc1cc6e
=======
              "  <div id=\"df-887f1ee1-190a-4711-a800-b0ea19d6b487\">\n",
>>>>>>> 8735260d3ca5a4cec4948b7001761cc14fc1cc6e
              "    <div class=\"colab-df-container\">\n",
              "      <div>\n",
              "<style scoped>\n",
              "    .dataframe tbody tr th:only-of-type {\n",
              "        vertical-align: middle;\n",
              "    }\n",
              "\n",
              "    .dataframe tbody tr th {\n",
              "        vertical-align: top;\n",
              "    }\n",
              "\n",
              "    .dataframe thead th {\n",
              "        text-align: right;\n",
              "    }\n",
              "</style>\n",
              "<table border=\"1\" class=\"dataframe\">\n",
              "  <thead>\n",
              "    <tr style=\"text-align: right;\">\n",
              "      <th></th>\n",
              "      <th>Provider</th>\n",
              "      <th>InscClaimAmtReimbursed</th>\n",
              "      <th>DeductibleAmtPaid</th>\n",
              "      <th>AdmittedDays</th>\n",
              "      <th>RenalDiseaseIndicator</th>\n",
              "      <th>NoOfMonths_PartACov</th>\n",
              "      <th>NoOfMonths_PartBCov</th>\n",
              "      <th>ChronicCond_Alzheimer</th>\n",
              "      <th>ChronicCond_Heartfailure</th>\n",
              "      <th>ChronicCond_KidneyDisease</th>\n",
              "      <th>ChronicCond_Cancer</th>\n",
              "      <th>ChronicCond_ObstrPulmonary</th>\n",
              "      <th>ChronicCond_Depression</th>\n",
              "      <th>ChronicCond_Diabetes</th>\n",
              "      <th>ChronicCond_IschemicHeart</th>\n",
              "      <th>ChronicCond_Osteoporasis</th>\n",
              "      <th>ChronicCond_rheumatoidarthritis</th>\n",
              "      <th>ChronicCond_stroke</th>\n",
              "      <th>IPAnnualReimbursementAmt</th>\n",
              "      <th>IPAnnualDeductibleAmt</th>\n",
              "      <th>OPAnnualReimbursementAmt</th>\n",
              "      <th>OPAnnualDeductibleAmt</th>\n",
              "      <th>Age</th>\n",
              "      <th>DeadOrNot</th>\n",
              "      <th>Gender_2</th>\n",
              "      <th>Race_2</th>\n",
              "      <th>Race_3</th>\n",
              "      <th>Race_5</th>\n",
              "    </tr>\n",
              "  </thead>\n",
              "  <tbody>\n",
              "    <tr>\n",
              "      <th>0</th>\n",
              "      <td>PRV57070</td>\n",
              "      <td>9000</td>\n",
              "      <td>1068.0</td>\n",
              "      <td>8.0</td>\n",
              "      <td>Y</td>\n",
              "      <td>12</td>\n",
              "      <td>12</td>\n",
              "      <td>0</td>\n",
              "      <td>1</td>\n",
              "      <td>1</td>\n",
              "      <td>0</td>\n",
              "      <td>1</td>\n",
              "      <td>1</td>\n",
              "      <td>0</td>\n",
              "      <td>1</td>\n",
              "      <td>0</td>\n",
              "      <td>0</td>\n",
              "      <td>0</td>\n",
              "      <td>21260</td>\n",
              "      <td>2136</td>\n",
              "      <td>120</td>\n",
              "      <td>100</td>\n",
              "      <td>82.0</td>\n",
              "      <td>0.0</td>\n",
              "      <td>1</td>\n",
              "      <td>0</td>\n",
              "      <td>0</td>\n",
              "      <td>0</td>\n",
              "    </tr>\n",
              "    <tr>\n",
              "      <th>1</th>\n",
              "      <td>PRV57070</td>\n",
              "      <td>3000</td>\n",
              "      <td>1068.0</td>\n",
              "      <td>3.0</td>\n",
              "      <td>0</td>\n",
              "      <td>12</td>\n",
              "      <td>12</td>\n",
              "      <td>1</td>\n",
              "      <td>1</td>\n",
              "      <td>1</td>\n",
              "      <td>0</td>\n",
              "      <td>1</td>\n",
              "      <td>1</td>\n",
              "      <td>1</td>\n",
              "      <td>1</td>\n",
              "      <td>0</td>\n",
              "      <td>1</td>\n",
              "      <td>0</td>\n",
              "      <td>8000</td>\n",
              "      <td>2136</td>\n",
              "      <td>2540</td>\n",
              "      <td>1880</td>\n",
              "      <td>83.0</td>\n",
              "      <td>0.0</td>\n",
              "      <td>1</td>\n",
              "      <td>0</td>\n",
              "      <td>0</td>\n",
              "      <td>0</td>\n",
              "    </tr>\n",
              "    <tr>\n",
              "      <th>2</th>\n",
              "      <td>PRV57070</td>\n",
              "      <td>7000</td>\n",
              "      <td>1068.0</td>\n",
              "      <td>7.0</td>\n",
              "      <td>Y</td>\n",
              "      <td>12</td>\n",
              "      <td>12</td>\n",
              "      <td>0</td>\n",
              "      <td>1</td>\n",
              "      <td>1</td>\n",
              "      <td>0</td>\n",
              "      <td>1</td>\n",
              "      <td>0</td>\n",
              "      <td>0</td>\n",
              "      <td>1</td>\n",
              "      <td>1</td>\n",
              "      <td>0</td>\n",
              "      <td>0</td>\n",
              "      <td>10200</td>\n",
              "      <td>2136</td>\n",
              "      <td>40</td>\n",
              "      <td>100</td>\n",
              "      <td>82.0</td>\n",
              "      <td>0.0</td>\n",
              "      <td>1</td>\n",
              "      <td>0</td>\n",
              "      <td>0</td>\n",
              "      <td>0</td>\n",
              "    </tr>\n",
              "    <tr>\n",
              "      <th>3</th>\n",
              "      <td>PRV57070</td>\n",
              "      <td>5000</td>\n",
              "      <td>1068.0</td>\n",
              "      <td>9.0</td>\n",
              "      <td>0</td>\n",
              "      <td>12</td>\n",
              "      <td>12</td>\n",
              "      <td>0</td>\n",
              "      <td>0</td>\n",
              "      <td>1</td>\n",
              "      <td>0</td>\n",
              "      <td>1</td>\n",
              "      <td>0</td>\n",
              "      <td>0</td>\n",
              "      <td>1</td>\n",
              "      <td>1</td>\n",
              "      <td>0</td>\n",
              "      <td>0</td>\n",
              "      <td>5000</td>\n",
              "      <td>1068</td>\n",
              "      <td>600</td>\n",
              "      <td>180</td>\n",
              "      <td>95.0</td>\n",
              "      <td>0.0</td>\n",
              "      <td>1</td>\n",
              "      <td>0</td>\n",
              "      <td>0</td>\n",
              "      <td>0</td>\n",
              "    </tr>\n",
              "    <tr>\n",
              "      <th>4</th>\n",
              "      <td>PRV57070</td>\n",
              "      <td>9000</td>\n",
              "      <td>1068.0</td>\n",
              "      <td>11.0</td>\n",
              "      <td>Y</td>\n",
              "      <td>12</td>\n",
              "      <td>12</td>\n",
              "      <td>1</td>\n",
              "      <td>1</td>\n",
              "      <td>1</td>\n",
              "      <td>1</td>\n",
              "      <td>1</td>\n",
              "      <td>0</td>\n",
              "      <td>1</td>\n",
              "      <td>1</td>\n",
              "      <td>0</td>\n",
              "      <td>1</td>\n",
              "      <td>0</td>\n",
              "      <td>9000</td>\n",
              "      <td>1068</td>\n",
              "      <td>10</td>\n",
              "      <td>40</td>\n",
              "      <td>76.0</td>\n",
              "      <td>0.0</td>\n",
              "      <td>1</td>\n",
              "      <td>0</td>\n",
              "      <td>0</td>\n",
              "      <td>0</td>\n",
              "    </tr>\n",
              "  </tbody>\n",
              "</table>\n",
              "</div>\n",
<<<<<<< HEAD
<<<<<<< HEAD
              "      <button class=\"colab-df-convert\" onclick=\"convertToInteractive('df-b651b663-c21c-4ea5-85f6-704a2a5f15fe')\"\n",
=======
              "      <button class=\"colab-df-convert\" onclick=\"convertToInteractive('df-887f1ee1-190a-4711-a800-b0ea19d6b487')\"\n",
>>>>>>> 8735260d3ca5a4cec4948b7001761cc14fc1cc6e
=======
              "      <button class=\"colab-df-convert\" onclick=\"convertToInteractive('df-887f1ee1-190a-4711-a800-b0ea19d6b487')\"\n",
>>>>>>> 8735260d3ca5a4cec4948b7001761cc14fc1cc6e
              "              title=\"Convert this dataframe to an interactive table.\"\n",
              "              style=\"display:none;\">\n",
              "        \n",
              "  <svg xmlns=\"http://www.w3.org/2000/svg\" height=\"24px\"viewBox=\"0 0 24 24\"\n",
              "       width=\"24px\">\n",
              "    <path d=\"M0 0h24v24H0V0z\" fill=\"none\"/>\n",
              "    <path d=\"M18.56 5.44l.94 2.06.94-2.06 2.06-.94-2.06-.94-.94-2.06-.94 2.06-2.06.94zm-11 1L8.5 8.5l.94-2.06 2.06-.94-2.06-.94L8.5 2.5l-.94 2.06-2.06.94zm10 10l.94 2.06.94-2.06 2.06-.94-2.06-.94-.94-2.06-.94 2.06-2.06.94z\"/><path d=\"M17.41 7.96l-1.37-1.37c-.4-.4-.92-.59-1.43-.59-.52 0-1.04.2-1.43.59L10.3 9.45l-7.72 7.72c-.78.78-.78 2.05 0 2.83L4 21.41c.39.39.9.59 1.41.59.51 0 1.02-.2 1.41-.59l7.78-7.78 2.81-2.81c.8-.78.8-2.07 0-2.86zM5.41 20L4 18.59l7.72-7.72 1.47 1.35L5.41 20z\"/>\n",
              "  </svg>\n",
              "      </button>\n",
              "      \n",
              "  <style>\n",
              "    .colab-df-container {\n",
              "      display:flex;\n",
              "      flex-wrap:wrap;\n",
              "      gap: 12px;\n",
              "    }\n",
              "\n",
              "    .colab-df-convert {\n",
              "      background-color: #E8F0FE;\n",
              "      border: none;\n",
              "      border-radius: 50%;\n",
              "      cursor: pointer;\n",
              "      display: none;\n",
              "      fill: #1967D2;\n",
              "      height: 32px;\n",
              "      padding: 0 0 0 0;\n",
              "      width: 32px;\n",
              "    }\n",
              "\n",
              "    .colab-df-convert:hover {\n",
              "      background-color: #E2EBFA;\n",
              "      box-shadow: 0px 1px 2px rgba(60, 64, 67, 0.3), 0px 1px 3px 1px rgba(60, 64, 67, 0.15);\n",
              "      fill: #174EA6;\n",
              "    }\n",
              "\n",
              "    [theme=dark] .colab-df-convert {\n",
              "      background-color: #3B4455;\n",
              "      fill: #D2E3FC;\n",
              "    }\n",
              "\n",
              "    [theme=dark] .colab-df-convert:hover {\n",
              "      background-color: #434B5C;\n",
              "      box-shadow: 0px 1px 3px 1px rgba(0, 0, 0, 0.15);\n",
              "      filter: drop-shadow(0px 1px 2px rgba(0, 0, 0, 0.3));\n",
              "      fill: #FFFFFF;\n",
              "    }\n",
              "  </style>\n",
              "\n",
              "      <script>\n",
              "        const buttonEl =\n",
<<<<<<< HEAD
<<<<<<< HEAD
              "          document.querySelector('#df-b651b663-c21c-4ea5-85f6-704a2a5f15fe button.colab-df-convert');\n",
=======
              "          document.querySelector('#df-887f1ee1-190a-4711-a800-b0ea19d6b487 button.colab-df-convert');\n",
>>>>>>> 8735260d3ca5a4cec4948b7001761cc14fc1cc6e
=======
              "          document.querySelector('#df-887f1ee1-190a-4711-a800-b0ea19d6b487 button.colab-df-convert');\n",
>>>>>>> 8735260d3ca5a4cec4948b7001761cc14fc1cc6e
              "        buttonEl.style.display =\n",
              "          google.colab.kernel.accessAllowed ? 'block' : 'none';\n",
              "\n",
              "        async function convertToInteractive(key) {\n",
<<<<<<< HEAD
<<<<<<< HEAD
              "          const element = document.querySelector('#df-b651b663-c21c-4ea5-85f6-704a2a5f15fe');\n",
=======
              "          const element = document.querySelector('#df-887f1ee1-190a-4711-a800-b0ea19d6b487');\n",
>>>>>>> 8735260d3ca5a4cec4948b7001761cc14fc1cc6e
=======
              "          const element = document.querySelector('#df-887f1ee1-190a-4711-a800-b0ea19d6b487');\n",
>>>>>>> 8735260d3ca5a4cec4948b7001761cc14fc1cc6e
              "          const dataTable =\n",
              "            await google.colab.kernel.invokeFunction('convertToInteractive',\n",
              "                                                     [key], {});\n",
              "          if (!dataTable) return;\n",
              "\n",
              "          const docLinkHtml = 'Like what you see? Visit the ' +\n",
              "            '<a target=\"_blank\" href=https://colab.research.google.com/notebooks/data_table.ipynb>data table notebook</a>'\n",
              "            + ' to learn more about interactive tables.';\n",
              "          element.innerHTML = '';\n",
              "          dataTable['output_type'] = 'display_data';\n",
              "          await google.colab.output.renderOutput(dataTable, element);\n",
              "          const docLink = document.createElement('div');\n",
              "          docLink.innerHTML = docLinkHtml;\n",
              "          element.appendChild(docLink);\n",
              "        }\n",
              "      </script>\n",
              "    </div>\n",
              "  </div>\n",
              "  "
            ]
          },
          "metadata": {},
          "execution_count": 62
        }
<<<<<<< HEAD
<<<<<<< HEAD
=======
=======
>>>>>>> 8735260d3ca5a4cec4948b7001761cc14fc1cc6e
      ],
      "source": [
        "test_final = pd.get_dummies(test_final, columns=['Gender', 'Race'], drop_first=True)\n",
        "test_final.head()"
<<<<<<< HEAD
>>>>>>> 8735260d3ca5a4cec4948b7001761cc14fc1cc6e
=======
>>>>>>> 8735260d3ca5a4cec4948b7001761cc14fc1cc6e
      ]
    },
    {
      "cell_type": "code",
<<<<<<< HEAD
<<<<<<< HEAD
      "source": [
        "train_final['RenalDiseaseIndicator'].value_counts()"
      ],
=======
      "execution_count": 63,
>>>>>>> 8735260d3ca5a4cec4948b7001761cc14fc1cc6e
=======
      "execution_count": 63,
>>>>>>> 8735260d3ca5a4cec4948b7001761cc14fc1cc6e
      "metadata": {
        "colab": {
          "base_uri": "https://localhost:8080/"
        },
        "id": "uDA2bnF8C2DW",
<<<<<<< HEAD
<<<<<<< HEAD
        "outputId": "2b253c2c-16f4-4123-a8b5-4483e03a16f6"
      },
      "execution_count": 63,
=======
        "outputId": "ea9c4bdb-d0e9-465f-85d6-951f3849dad1"
      },
>>>>>>> 8735260d3ca5a4cec4948b7001761cc14fc1cc6e
=======
        "outputId": "ea9c4bdb-d0e9-465f-85d6-951f3849dad1"
      },
>>>>>>> 8735260d3ca5a4cec4948b7001761cc14fc1cc6e
      "outputs": [
        {
          "output_type": "execute_result",
          "data": {
            "text/plain": [
              "0    448363\n",
              "Y    109848\n",
              "Name: RenalDiseaseIndicator, dtype: int64"
            ]
          },
          "metadata": {},
          "execution_count": 63
        }
<<<<<<< HEAD
<<<<<<< HEAD
=======
      ],
      "source": [
        "train_final['RenalDiseaseIndicator'].value_counts()"
>>>>>>> 8735260d3ca5a4cec4948b7001761cc14fc1cc6e
=======
      ],
      "source": [
        "train_final['RenalDiseaseIndicator'].value_counts()"
>>>>>>> 8735260d3ca5a4cec4948b7001761cc14fc1cc6e
      ]
    },
    {
      "cell_type": "code",
<<<<<<< HEAD
<<<<<<< HEAD
      "source": [
        "train_final.loc[train_final['RenalDiseaseIndicator'] == 'Y', 'RenalDiseaseIndicator'] = 1 "
      ],
      "metadata": {
        "id": "YFAK4M-KC9qx"
      },
      "execution_count": 64,
      "outputs": []
    },
    {
      "cell_type": "code",
      "source": [
        "train_final['RenalDiseaseIndicator'].value_counts()"
      ],
=======
=======
>>>>>>> 8735260d3ca5a4cec4948b7001761cc14fc1cc6e
      "execution_count": 64,
      "metadata": {
        "id": "YFAK4M-KC9qx"
      },
      "outputs": [],
      "source": [
        "train_final.loc[train_final['RenalDiseaseIndicator'] == 'Y', 'RenalDiseaseIndicator'] = 1 "
      ]
    },
    {
      "cell_type": "code",
      "execution_count": 65,
<<<<<<< HEAD
>>>>>>> 8735260d3ca5a4cec4948b7001761cc14fc1cc6e
=======
>>>>>>> 8735260d3ca5a4cec4948b7001761cc14fc1cc6e
      "metadata": {
        "colab": {
          "base_uri": "https://localhost:8080/"
        },
        "id": "fq3H8xSMDL9m",
<<<<<<< HEAD
<<<<<<< HEAD
        "outputId": "3bb45c57-66d2-4ce3-b0b6-0b4982a7b061"
      },
      "execution_count": 65,
=======
        "outputId": "1ba168d0-1d96-4542-a2d3-5ff72e51c762"
      },
>>>>>>> 8735260d3ca5a4cec4948b7001761cc14fc1cc6e
=======
        "outputId": "1ba168d0-1d96-4542-a2d3-5ff72e51c762"
      },
>>>>>>> 8735260d3ca5a4cec4948b7001761cc14fc1cc6e
      "outputs": [
        {
          "output_type": "execute_result",
          "data": {
            "text/plain": [
              "0    448363\n",
              "1    109848\n",
              "Name: RenalDiseaseIndicator, dtype: int64"
            ]
          },
          "metadata": {},
          "execution_count": 65
        }
<<<<<<< HEAD
<<<<<<< HEAD
=======
      ],
      "source": [
        "train_final['RenalDiseaseIndicator'].value_counts()"
>>>>>>> 8735260d3ca5a4cec4948b7001761cc14fc1cc6e
=======
      ],
      "source": [
        "train_final['RenalDiseaseIndicator'].value_counts()"
>>>>>>> 8735260d3ca5a4cec4948b7001761cc14fc1cc6e
      ]
    },
    {
      "cell_type": "code",
<<<<<<< HEAD
<<<<<<< HEAD
      "source": [
        "test_final.loc[test_final['RenalDiseaseIndicator'] == 'Y', 'RenalDiseaseIndicator'] = 1 "
      ],
      "metadata": {
        "id": "I6we2RYBDNZh"
      },
      "execution_count": 66,
      "outputs": []
    },
    {
      "cell_type": "code",
      "source": [
        "test_final['RenalDiseaseIndicator'].value_counts()"
      ],
=======
=======
>>>>>>> 8735260d3ca5a4cec4948b7001761cc14fc1cc6e
      "execution_count": 66,
      "metadata": {
        "id": "I6we2RYBDNZh"
      },
      "outputs": [],
      "source": [
        "test_final.loc[test_final['RenalDiseaseIndicator'] == 'Y', 'RenalDiseaseIndicator'] = 1 "
      ]
    },
    {
      "cell_type": "code",
      "execution_count": 67,
<<<<<<< HEAD
>>>>>>> 8735260d3ca5a4cec4948b7001761cc14fc1cc6e
=======
>>>>>>> 8735260d3ca5a4cec4948b7001761cc14fc1cc6e
      "metadata": {
        "colab": {
          "base_uri": "https://localhost:8080/"
        },
        "id": "vl5WhXGiDRzC",
<<<<<<< HEAD
<<<<<<< HEAD
        "outputId": "0b7330c0-2b72-4854-e756-61d80790697e"
      },
      "execution_count": 67,
=======
        "outputId": "73bc93c7-ebd8-4399-c7d2-913160e312c2"
      },
>>>>>>> 8735260d3ca5a4cec4948b7001761cc14fc1cc6e
=======
        "outputId": "73bc93c7-ebd8-4399-c7d2-913160e312c2"
      },
>>>>>>> 8735260d3ca5a4cec4948b7001761cc14fc1cc6e
      "outputs": [
        {
          "output_type": "execute_result",
          "data": {
            "text/plain": [
              "0    109143\n",
              "1     26249\n",
              "Name: RenalDiseaseIndicator, dtype: int64"
            ]
          },
          "metadata": {},
          "execution_count": 67
        }
<<<<<<< HEAD
<<<<<<< HEAD
=======
      ],
      "source": [
        "test_final['RenalDiseaseIndicator'].value_counts()"
>>>>>>> 8735260d3ca5a4cec4948b7001761cc14fc1cc6e
=======
      ],
      "source": [
        "test_final['RenalDiseaseIndicator'].value_counts()"
>>>>>>> 8735260d3ca5a4cec4948b7001761cc14fc1cc6e
      ]
    },
    {
      "cell_type": "code",
<<<<<<< HEAD
<<<<<<< HEAD
      "source": [
        "train_final['DeductibleAmtPaid'].fillna(0, inplace=True)\n",
        "train_final['AdmittedDays'].fillna(0, inplace=True)"
      ],
      "metadata": {
        "id": "P1ZXUmKcDTz4"
      },
      "execution_count": 68,
      "outputs": []
    },
    {
      "cell_type": "code",
      "source": [
        "train_final.isna().sum()"
      ],
=======
=======
>>>>>>> 8735260d3ca5a4cec4948b7001761cc14fc1cc6e
      "execution_count": 68,
      "metadata": {
        "id": "P1ZXUmKcDTz4"
      },
      "outputs": [],
      "source": [
        "train_final['DeductibleAmtPaid'].fillna(0, inplace=True)\n",
        "train_final['AdmittedDays'].fillna(0, inplace=True)"
      ]
    },
    {
      "cell_type": "code",
      "execution_count": 69,
<<<<<<< HEAD
>>>>>>> 8735260d3ca5a4cec4948b7001761cc14fc1cc6e
=======
>>>>>>> 8735260d3ca5a4cec4948b7001761cc14fc1cc6e
      "metadata": {
        "colab": {
          "base_uri": "https://localhost:8080/"
        },
        "id": "7qbainfJDYWT",
<<<<<<< HEAD
<<<<<<< HEAD
        "outputId": "de76cf72-0937-4161-8573-f7de93ae0015"
      },
      "execution_count": 69,
=======
        "outputId": "9e22f00f-821e-4008-a6e7-fca553d0a532"
      },
>>>>>>> 8735260d3ca5a4cec4948b7001761cc14fc1cc6e
=======
        "outputId": "9e22f00f-821e-4008-a6e7-fca553d0a532"
      },
>>>>>>> 8735260d3ca5a4cec4948b7001761cc14fc1cc6e
      "outputs": [
        {
          "output_type": "execute_result",
          "data": {
            "text/plain": [
              "Provider                           0\n",
              "InscClaimAmtReimbursed             0\n",
              "DeductibleAmtPaid                  0\n",
              "AdmittedDays                       0\n",
              "RenalDiseaseIndicator              0\n",
              "NoOfMonths_PartACov                0\n",
              "NoOfMonths_PartBCov                0\n",
              "ChronicCond_Alzheimer              0\n",
              "ChronicCond_Heartfailure           0\n",
              "ChronicCond_KidneyDisease          0\n",
              "ChronicCond_Cancer                 0\n",
              "ChronicCond_ObstrPulmonary         0\n",
              "ChronicCond_Depression             0\n",
              "ChronicCond_Diabetes               0\n",
              "ChronicCond_IschemicHeart          0\n",
              "ChronicCond_Osteoporasis           0\n",
              "ChronicCond_rheumatoidarthritis    0\n",
              "ChronicCond_stroke                 0\n",
              "IPAnnualReimbursementAmt           0\n",
              "IPAnnualDeductibleAmt              0\n",
              "OPAnnualReimbursementAmt           0\n",
              "OPAnnualDeductibleAmt              0\n",
              "Age                                0\n",
              "DeadOrNot                          0\n",
              "PotentialFraud                     0\n",
              "Gender_2                           0\n",
              "Race_2                             0\n",
              "Race_3                             0\n",
              "Race_5                             0\n",
              "dtype: int64"
            ]
          },
          "metadata": {},
          "execution_count": 69
        }
<<<<<<< HEAD
<<<<<<< HEAD
=======
      ],
      "source": [
        "train_final.isna().sum()"
>>>>>>> 8735260d3ca5a4cec4948b7001761cc14fc1cc6e
=======
      ],
      "source": [
        "train_final.isna().sum()"
>>>>>>> 8735260d3ca5a4cec4948b7001761cc14fc1cc6e
      ]
    },
    {
      "cell_type": "code",
<<<<<<< HEAD
<<<<<<< HEAD
      "source": [
        "test_final['DeductibleAmtPaid'].fillna(0, inplace=True)\n",
        "test_final['AdmittedDays'].fillna(0, inplace=True)"
      ],
      "metadata": {
        "id": "nx338Jn_Da82"
      },
      "execution_count": 70,
      "outputs": []
    },
    {
      "cell_type": "code",
      "source": [
        "test_final.isna().sum()"
      ],
=======
=======
>>>>>>> 8735260d3ca5a4cec4948b7001761cc14fc1cc6e
      "execution_count": 70,
      "metadata": {
        "id": "nx338Jn_Da82"
      },
      "outputs": [],
      "source": [
        "test_final['DeductibleAmtPaid'].fillna(0, inplace=True)\n",
        "test_final['AdmittedDays'].fillna(0, inplace=True)"
      ]
    },
    {
      "cell_type": "code",
      "execution_count": 71,
<<<<<<< HEAD
>>>>>>> 8735260d3ca5a4cec4948b7001761cc14fc1cc6e
=======
>>>>>>> 8735260d3ca5a4cec4948b7001761cc14fc1cc6e
      "metadata": {
        "colab": {
          "base_uri": "https://localhost:8080/"
        },
        "id": "Ah7zGnPsDe9a",
<<<<<<< HEAD
<<<<<<< HEAD
        "outputId": "5517e5ed-2948-4243-e1e1-7d0021dea0db"
      },
      "execution_count": 71,
=======
        "outputId": "f0b11b19-f763-4870-87f0-cf2425cad959"
      },
>>>>>>> 8735260d3ca5a4cec4948b7001761cc14fc1cc6e
=======
        "outputId": "f0b11b19-f763-4870-87f0-cf2425cad959"
      },
>>>>>>> 8735260d3ca5a4cec4948b7001761cc14fc1cc6e
      "outputs": [
        {
          "output_type": "execute_result",
          "data": {
            "text/plain": [
              "Provider                           0\n",
              "InscClaimAmtReimbursed             0\n",
              "DeductibleAmtPaid                  0\n",
              "AdmittedDays                       0\n",
              "RenalDiseaseIndicator              0\n",
              "NoOfMonths_PartACov                0\n",
              "NoOfMonths_PartBCov                0\n",
              "ChronicCond_Alzheimer              0\n",
              "ChronicCond_Heartfailure           0\n",
              "ChronicCond_KidneyDisease          0\n",
              "ChronicCond_Cancer                 0\n",
              "ChronicCond_ObstrPulmonary         0\n",
              "ChronicCond_Depression             0\n",
              "ChronicCond_Diabetes               0\n",
              "ChronicCond_IschemicHeart          0\n",
              "ChronicCond_Osteoporasis           0\n",
              "ChronicCond_rheumatoidarthritis    0\n",
              "ChronicCond_stroke                 0\n",
              "IPAnnualReimbursementAmt           0\n",
              "IPAnnualDeductibleAmt              0\n",
              "OPAnnualReimbursementAmt           0\n",
              "OPAnnualDeductibleAmt              0\n",
              "Age                                0\n",
              "DeadOrNot                          0\n",
              "Gender_2                           0\n",
              "Race_2                             0\n",
              "Race_3                             0\n",
              "Race_5                             0\n",
              "dtype: int64"
            ]
          },
          "metadata": {},
          "execution_count": 71
        }
<<<<<<< HEAD
<<<<<<< HEAD
=======
      ],
      "source": [
        "test_final.isna().sum()"
>>>>>>> 8735260d3ca5a4cec4948b7001761cc14fc1cc6e
=======
      ],
      "source": [
        "test_final.isna().sum()"
>>>>>>> 8735260d3ca5a4cec4948b7001761cc14fc1cc6e
      ]
    },
    {
      "cell_type": "code",
<<<<<<< HEAD
<<<<<<< HEAD
      "source": [
        "train_final['PotentialFraud'].value_counts()"
      ],
=======
      "execution_count": 72,
>>>>>>> 8735260d3ca5a4cec4948b7001761cc14fc1cc6e
=======
      "execution_count": 72,
>>>>>>> 8735260d3ca5a4cec4948b7001761cc14fc1cc6e
      "metadata": {
        "colab": {
          "base_uri": "https://localhost:8080/"
        },
        "id": "rOexHaEEDhC3",
<<<<<<< HEAD
<<<<<<< HEAD
        "outputId": "46c34028-dc75-40e9-983f-952534f30fe6"
      },
      "execution_count": 72,
=======
        "outputId": "a04223be-a63a-46e0-d50d-a88112646103"
      },
>>>>>>> 8735260d3ca5a4cec4948b7001761cc14fc1cc6e
=======
        "outputId": "a04223be-a63a-46e0-d50d-a88112646103"
      },
>>>>>>> 8735260d3ca5a4cec4948b7001761cc14fc1cc6e
      "outputs": [
        {
          "output_type": "execute_result",
          "data": {
            "text/plain": [
              "0    345415\n",
              "1    212796\n",
              "Name: PotentialFraud, dtype: int64"
            ]
          },
          "metadata": {},
          "execution_count": 72
        }
<<<<<<< HEAD
<<<<<<< HEAD
=======
      ],
      "source": [
        "train_final['PotentialFraud'].value_counts()"
>>>>>>> 8735260d3ca5a4cec4948b7001761cc14fc1cc6e
=======
      ],
      "source": [
        "train_final['PotentialFraud'].value_counts()"
>>>>>>> 8735260d3ca5a4cec4948b7001761cc14fc1cc6e
      ]
    },
    {
      "cell_type": "markdown",
<<<<<<< HEAD
<<<<<<< HEAD
      "source": [
        "## Check for correlated columns"
      ],
      "metadata": {
        "id": "Gs9XKBN3Iu9p"
      }
    },
    {
      "cell_type": "code",
      "source": [
        "train_final.shape"
      ],
=======
=======
>>>>>>> 8735260d3ca5a4cec4948b7001761cc14fc1cc6e
      "metadata": {
        "id": "Gs9XKBN3Iu9p"
      },
      "source": [
        "## Check for correlated columns"
      ]
    },
    {
      "cell_type": "code",
      "execution_count": 73,
<<<<<<< HEAD
>>>>>>> 8735260d3ca5a4cec4948b7001761cc14fc1cc6e
=======
>>>>>>> 8735260d3ca5a4cec4948b7001761cc14fc1cc6e
      "metadata": {
        "colab": {
          "base_uri": "https://localhost:8080/"
        },
        "id": "ugbHyHrDJuJs",
<<<<<<< HEAD
<<<<<<< HEAD
        "outputId": "b94659ec-227c-4a27-bbc8-f55025bfe5fe"
      },
      "execution_count": 73,
=======
        "outputId": "d33800eb-c5c8-4fb0-a91d-e29ea1cec201"
      },
>>>>>>> 8735260d3ca5a4cec4948b7001761cc14fc1cc6e
=======
        "outputId": "d33800eb-c5c8-4fb0-a91d-e29ea1cec201"
      },
>>>>>>> 8735260d3ca5a4cec4948b7001761cc14fc1cc6e
      "outputs": [
        {
          "output_type": "execute_result",
          "data": {
            "text/plain": [
              "(558211, 29)"
            ]
          },
          "metadata": {},
          "execution_count": 73
        }
<<<<<<< HEAD
<<<<<<< HEAD
=======
      ],
      "source": [
        "train_final.shape"
>>>>>>> 8735260d3ca5a4cec4948b7001761cc14fc1cc6e
=======
      ],
      "source": [
        "train_final.shape"
>>>>>>> 8735260d3ca5a4cec4948b7001761cc14fc1cc6e
      ]
    },
    {
      "cell_type": "code",
<<<<<<< HEAD
<<<<<<< HEAD
      "source": [
        "cor = train_final.corr() \n",
        "\n",
        "keep_columns = np.full(cor.shape[0], True) \n",
        "\n",
        "for i in range(cor.shape[0]-1):\n",
        "  for j in range(i+1, cor.shape[0]-1):\n",
        "    if (np.abs(cor.iloc[i,j]) >= 0.8):\n",
        "      keep_columns[i] = False \n",
        "\n",
        "#selected_columns = train_final.columns[keep_columns]\n",
        "\n",
        "keep_columns"
      ],
=======
      "execution_count": 74,
>>>>>>> 8735260d3ca5a4cec4948b7001761cc14fc1cc6e
=======
      "execution_count": 74,
>>>>>>> 8735260d3ca5a4cec4948b7001761cc14fc1cc6e
      "metadata": {
        "colab": {
          "base_uri": "https://localhost:8080/"
        },
        "id": "0lF2nktQD9x8",
<<<<<<< HEAD
<<<<<<< HEAD
        "outputId": "8e6c83b1-9d4b-4755-90ef-79ba087a47a4"
      },
      "execution_count": 74,
=======
        "outputId": "81451085-435c-4679-932f-26dc16544264"
      },
>>>>>>> 8735260d3ca5a4cec4948b7001761cc14fc1cc6e
=======
        "outputId": "81451085-435c-4679-932f-26dc16544264"
      },
>>>>>>> 8735260d3ca5a4cec4948b7001761cc14fc1cc6e
      "outputs": [
        {
          "output_type": "execute_result",
          "data": {
            "text/plain": [
              "array([ True,  True,  True,  True,  True,  True,  True,  True,  True,\n",
              "        True,  True,  True,  True,  True,  True,  True,  True,  True,\n",
              "       False,  True,  True,  True,  True,  True,  True,  True])"
            ]
          },
          "metadata": {},
          "execution_count": 74
        }
<<<<<<< HEAD
<<<<<<< HEAD
=======
=======
>>>>>>> 8735260d3ca5a4cec4948b7001761cc14fc1cc6e
      ],
      "source": [
        "cor = train_final.corr() \n",
        "\n",
        "keep_columns = np.full(cor.shape[0], True) \n",
        "\n",
        "for i in range(cor.shape[0]-1):\n",
        "  for j in range(i+1, cor.shape[0]-1):\n",
        "    if (np.abs(cor.iloc[i,j]) >= 0.8):\n",
        "      keep_columns[i] = False \n",
        "\n",
        "#selected_columns = train_final.columns[keep_columns]\n",
        "\n",
        "keep_columns"
<<<<<<< HEAD
>>>>>>> 8735260d3ca5a4cec4948b7001761cc14fc1cc6e
=======
>>>>>>> 8735260d3ca5a4cec4948b7001761cc14fc1cc6e
      ]
    },
    {
      "cell_type": "code",
<<<<<<< HEAD
<<<<<<< HEAD
      "source": [
        "test_final.columns"
      ],
=======
      "execution_count": 75,
>>>>>>> 8735260d3ca5a4cec4948b7001761cc14fc1cc6e
=======
      "execution_count": 75,
>>>>>>> 8735260d3ca5a4cec4948b7001761cc14fc1cc6e
      "metadata": {
        "colab": {
          "base_uri": "https://localhost:8080/"
        },
        "id": "WfhjvGKkI5H2",
<<<<<<< HEAD
<<<<<<< HEAD
        "outputId": "1c44479b-7c41-4116-a495-65388b7ae5d2"
      },
      "execution_count": 75,
=======
        "outputId": "c6feb071-622e-4320-e3c2-0eef1e5ed2b4"
      },
>>>>>>> 8735260d3ca5a4cec4948b7001761cc14fc1cc6e
=======
        "outputId": "c6feb071-622e-4320-e3c2-0eef1e5ed2b4"
      },
>>>>>>> 8735260d3ca5a4cec4948b7001761cc14fc1cc6e
      "outputs": [
        {
          "output_type": "execute_result",
          "data": {
            "text/plain": [
              "Index(['Provider', 'InscClaimAmtReimbursed', 'DeductibleAmtPaid',\n",
              "       'AdmittedDays', 'RenalDiseaseIndicator', 'NoOfMonths_PartACov',\n",
              "       'NoOfMonths_PartBCov', 'ChronicCond_Alzheimer',\n",
              "       'ChronicCond_Heartfailure', 'ChronicCond_KidneyDisease',\n",
              "       'ChronicCond_Cancer', 'ChronicCond_ObstrPulmonary',\n",
              "       'ChronicCond_Depression', 'ChronicCond_Diabetes',\n",
              "       'ChronicCond_IschemicHeart', 'ChronicCond_Osteoporasis',\n",
              "       'ChronicCond_rheumatoidarthritis', 'ChronicCond_stroke',\n",
              "       'IPAnnualReimbursementAmt', 'IPAnnualDeductibleAmt',\n",
              "       'OPAnnualReimbursementAmt', 'OPAnnualDeductibleAmt', 'Age', 'DeadOrNot',\n",
              "       'Gender_2', 'Race_2', 'Race_3', 'Race_5'],\n",
              "      dtype='object')"
            ]
          },
          "metadata": {},
          "execution_count": 75
        }
<<<<<<< HEAD
<<<<<<< HEAD
=======
      ],
      "source": [
        "test_final.columns"
>>>>>>> 8735260d3ca5a4cec4948b7001761cc14fc1cc6e
=======
      ],
      "source": [
        "test_final.columns"
>>>>>>> 8735260d3ca5a4cec4948b7001761cc14fc1cc6e
      ]
    },
    {
      "cell_type": "code",
<<<<<<< HEAD
<<<<<<< HEAD
      "source": [
        "train_final.columns"
      ],
=======
      "execution_count": 76,
>>>>>>> 8735260d3ca5a4cec4948b7001761cc14fc1cc6e
=======
      "execution_count": 76,
>>>>>>> 8735260d3ca5a4cec4948b7001761cc14fc1cc6e
      "metadata": {
        "colab": {
          "base_uri": "https://localhost:8080/"
        },
        "id": "zSvQNDhr3sfY",
<<<<<<< HEAD
<<<<<<< HEAD
        "outputId": "dda350ad-54f6-49f6-cb46-c7378fd41324"
      },
      "execution_count": 76,
=======
        "outputId": "90fc6773-5e12-4424-e160-888f4eb29127"
      },
>>>>>>> 8735260d3ca5a4cec4948b7001761cc14fc1cc6e
=======
        "outputId": "90fc6773-5e12-4424-e160-888f4eb29127"
      },
>>>>>>> 8735260d3ca5a4cec4948b7001761cc14fc1cc6e
      "outputs": [
        {
          "output_type": "execute_result",
          "data": {
            "text/plain": [
              "Index(['Provider', 'InscClaimAmtReimbursed', 'DeductibleAmtPaid',\n",
              "       'AdmittedDays', 'RenalDiseaseIndicator', 'NoOfMonths_PartACov',\n",
              "       'NoOfMonths_PartBCov', 'ChronicCond_Alzheimer',\n",
              "       'ChronicCond_Heartfailure', 'ChronicCond_KidneyDisease',\n",
              "       'ChronicCond_Cancer', 'ChronicCond_ObstrPulmonary',\n",
              "       'ChronicCond_Depression', 'ChronicCond_Diabetes',\n",
              "       'ChronicCond_IschemicHeart', 'ChronicCond_Osteoporasis',\n",
              "       'ChronicCond_rheumatoidarthritis', 'ChronicCond_stroke',\n",
              "       'IPAnnualReimbursementAmt', 'IPAnnualDeductibleAmt',\n",
              "       'OPAnnualReimbursementAmt', 'OPAnnualDeductibleAmt', 'Age', 'DeadOrNot',\n",
              "       'PotentialFraud', 'Gender_2', 'Race_2', 'Race_3', 'Race_5'],\n",
              "      dtype='object')"
            ]
          },
          "metadata": {},
          "execution_count": 76
        }
<<<<<<< HEAD
<<<<<<< HEAD
=======
      ],
      "source": [
        "train_final.columns"
>>>>>>> 8735260d3ca5a4cec4948b7001761cc14fc1cc6e
=======
      ],
      "source": [
        "train_final.columns"
>>>>>>> 8735260d3ca5a4cec4948b7001761cc14fc1cc6e
      ]
    },
    {
      "cell_type": "code",
<<<<<<< HEAD
<<<<<<< HEAD
      "source": [
        "y = train_final.pop('PotentialFraud')\n",
        "X = train_final.drop(columns = ['Provider'], axis=1)"
      ],
      "metadata": {
        "id": "oxps92Qd3sO-"
      },
      "execution_count": 77,
      "outputs": []
    },
    {
      "cell_type": "code",
      "source": [
        "X.shape, y.shape"
      ],
=======
=======
>>>>>>> 8735260d3ca5a4cec4948b7001761cc14fc1cc6e
      "execution_count": 77,
      "metadata": {
        "id": "oxps92Qd3sO-"
      },
      "outputs": [],
      "source": [
        "y = train_final.pop('PotentialFraud')\n",
        "X = train_final.drop(columns = ['Provider'], axis=1)"
      ]
    },
    {
      "cell_type": "code",
      "execution_count": 78,
<<<<<<< HEAD
>>>>>>> 8735260d3ca5a4cec4948b7001761cc14fc1cc6e
=======
>>>>>>> 8735260d3ca5a4cec4948b7001761cc14fc1cc6e
      "metadata": {
        "colab": {
          "base_uri": "https://localhost:8080/"
        },
        "id": "esAyufNG4iCt",
<<<<<<< HEAD
<<<<<<< HEAD
        "outputId": "72bff090-fb8a-4182-fa97-312718c4f7ed"
      },
      "execution_count": 78,
=======
        "outputId": "ddbc0a4f-69ac-4da6-f4db-f04776dde886"
      },
>>>>>>> 8735260d3ca5a4cec4948b7001761cc14fc1cc6e
=======
        "outputId": "ddbc0a4f-69ac-4da6-f4db-f04776dde886"
      },
>>>>>>> 8735260d3ca5a4cec4948b7001761cc14fc1cc6e
      "outputs": [
        {
          "output_type": "execute_result",
          "data": {
            "text/plain": [
              "((558211, 27), (558211,))"
            ]
          },
          "metadata": {},
          "execution_count": 78
        }
<<<<<<< HEAD
<<<<<<< HEAD
=======
      ],
      "source": [
        "X.shape, y.shape"
>>>>>>> 8735260d3ca5a4cec4948b7001761cc14fc1cc6e
=======
      ],
      "source": [
        "X.shape, y.shape"
>>>>>>> 8735260d3ca5a4cec4948b7001761cc14fc1cc6e
      ]
    },
    {
      "cell_type": "code",
<<<<<<< HEAD
<<<<<<< HEAD
=======
=======
>>>>>>> 8735260d3ca5a4cec4948b7001761cc14fc1cc6e
      "execution_count": 79,
      "metadata": {
        "id": "yjIO0NAS4phO"
      },
      "outputs": [],
<<<<<<< HEAD
>>>>>>> 8735260d3ca5a4cec4948b7001761cc14fc1cc6e
=======
>>>>>>> 8735260d3ca5a4cec4948b7001761cc14fc1cc6e
      "source": [
        "from sklearn.decomposition import PCA \n",
        "from sklearn.preprocessing import StandardScaler\n",
        "import matplotlib.pyplot as plt"
<<<<<<< HEAD
<<<<<<< HEAD
      ],
      "metadata": {
        "id": "yjIO0NAS4phO"
      },
      "execution_count": 79,
=======
=======
>>>>>>> 8735260d3ca5a4cec4948b7001761cc14fc1cc6e
      ]
    },
    {
      "cell_type": "code",
      "execution_count": 80,
      "metadata": {
        "id": "cXv15EYh42nw"
      },
      "outputs": [],
      "source": [
        "scaler = StandardScaler()\n",
        "model = scaler.fit(X) \n",
        "X_scaled = model.transform(X)\n",
        "pca = PCA(n_components=27, whiten=True).fit(X_scaled)\n",
        "X_reduced = pca.transform(X_scaled)"
      ]
    },
    {
      "cell_type": "code",
      "execution_count": 81,
      "metadata": {
        "colab": {
          "base_uri": "https://localhost:8080/"
        },
        "id": "9WwbwtAESBWB",
        "outputId": "5a74163b-7347-48f7-c80d-e49f55cf15dd"
      },
      "outputs": [
        {
          "output_type": "stream",
          "name": "stdout",
          "text": [
            "PCA explained variance: [0.138 0.088 0.06  0.045 0.043 0.04  0.039 0.038 0.037 0.037 0.037 0.035\n",
            " 0.034 0.033 0.032 0.032 0.03  0.029 0.029 0.029 0.026 0.026 0.019 0.017\n",
            " 0.011 0.009 0.006]\n"
          ]
        }
      ],
      "source": [
        "print(f'PCA explained variance: {np.round(pca.explained_variance_ratio_, 3)}')"
      ]
    },
    {
      "cell_type": "code",
      "source": [
        "pickle.dump(model, open('km_scaler.pkl', 'wb'))"
      ],
      "metadata": {
        "id": "WmD2jK7oTtB5"
      },
      "execution_count": null,
<<<<<<< HEAD
>>>>>>> 8735260d3ca5a4cec4948b7001761cc14fc1cc6e
=======
>>>>>>> 8735260d3ca5a4cec4948b7001761cc14fc1cc6e
      "outputs": []
    },
    {
      "cell_type": "code",
      "source": [
<<<<<<< HEAD
<<<<<<< HEAD
        "scaler = StandardScaler()\n",
        "X_scaled = scaler.fit_transform(X) \n",
        "pca = PCA(n_components=27, whiten=True).fit(X_scaled)\n",
        "X_reduced = pca.transform(X_scaled)"
      ],
      "metadata": {
        "id": "cXv15EYh42nw"
      },
      "execution_count": 80,
=======
=======
>>>>>>> 8735260d3ca5a4cec4948b7001761cc14fc1cc6e
        "X.columns"
      ],
      "metadata": {
        "colab": {
          "base_uri": "https://localhost:8080/"
        },
        "id": "-eR2KjpV8Imk",
        "outputId": "519a80d4-369e-4654-b5eb-781e9ba63b5d"
      },
      "execution_count": 113,
      "outputs": [
        {
          "output_type": "execute_result",
          "data": {
            "text/plain": [
              "Index(['InscClaimAmtReimbursed', 'DeductibleAmtPaid', 'AdmittedDays',\n",
              "       'RenalDiseaseIndicator', 'NoOfMonths_PartACov', 'NoOfMonths_PartBCov',\n",
              "       'ChronicCond_Alzheimer', 'ChronicCond_Heartfailure',\n",
              "       'ChronicCond_KidneyDisease', 'ChronicCond_Cancer',\n",
              "       'ChronicCond_ObstrPulmonary', 'ChronicCond_Depression',\n",
              "       'ChronicCond_Diabetes', 'ChronicCond_IschemicHeart',\n",
              "       'ChronicCond_Osteoporasis', 'ChronicCond_rheumatoidarthritis',\n",
              "       'ChronicCond_stroke', 'IPAnnualReimbursementAmt',\n",
              "       'IPAnnualDeductibleAmt', 'OPAnnualReimbursementAmt',\n",
              "       'OPAnnualDeductibleAmt', 'Age', 'DeadOrNot', 'Gender_2', 'Race_2',\n",
              "       'Race_3', 'Race_5'],\n",
              "      dtype='object')"
            ]
          },
          "metadata": {},
          "execution_count": 113
        }
      ]
    },
    {
      "cell_type": "code",
      "source": [
        "df_cluster = pd.DataFrame(np.squeeze(X_scaled), columns=['InscClaimAmtReimbursed', 'DeductibleAmtPaid',\n",
        "       'AdmittedDays', 'RenalDiseaseIndicator', 'NoOfMonths_PartACov',\n",
        "       'NoOfMonths_PartBCov', 'ChronicCond_Alzheimer',\n",
        "       'ChronicCond_Heartfailure', 'ChronicCond_KidneyDisease',\n",
        "       'ChronicCond_Cancer', 'ChronicCond_ObstrPulmonary',\n",
        "       'ChronicCond_Depression', 'ChronicCond_Diabetes',\n",
        "       'ChronicCond_IschemicHeart', 'ChronicCond_Osteoporasis',\n",
        "       'ChronicCond_rheumatoidarthritis', 'ChronicCond_stroke',\n",
        "       'IPAnnualReimbursementAmt', 'IPAnnualDeductibleAmt',\n",
        "       'OPAnnualReimbursementAmt', 'OPAnnualDeductibleAmt', 'Age', 'DeadOrNot', \n",
        "       'Gender_2', 'Race_2', 'Race_3', 'Race_5'])"
      ],
      "metadata": {
        "id": "1L_XBzB_5i7T"
      },
      "execution_count": 85,
<<<<<<< HEAD
>>>>>>> 8735260d3ca5a4cec4948b7001761cc14fc1cc6e
=======
>>>>>>> 8735260d3ca5a4cec4948b7001761cc14fc1cc6e
      "outputs": []
    },
    {
      "cell_type": "code",
      "source": [
<<<<<<< HEAD
<<<<<<< HEAD
        "print(f'PCA explained variance: {np.round(pca.explained_variance_ratio_, 3)}')"
      ],
      "metadata": {
        "colab": {
          "base_uri": "https://localhost:8080/"
        },
        "id": "9WwbwtAESBWB",
        "outputId": "8509d5c4-c860-4521-8fca-ba7e5b810dbd"
      },
      "execution_count": 81,
      "outputs": [
        {
          "output_type": "stream",
          "name": "stdout",
          "text": [
            "PCA explained variance: [0.138 0.088 0.06  0.045 0.043 0.04  0.039 0.038 0.037 0.037 0.037 0.035\n",
            " 0.034 0.033 0.032 0.032 0.03  0.029 0.029 0.029 0.026 0.026 0.019 0.017\n",
            " 0.011 0.009 0.006]\n"
          ]
        }
      ]
    },
    {
      "cell_type": "markdown",
      "source": [
        "# K-means clustering"
      ],
      "metadata": {
        "id": "0j9n5zNp65X3"
      }
    },
    {
      "cell_type": "code",
      "source": [
        "from sklearn.cluster import KMeans"
      ],
      "metadata": {
        "id": "29KONpyi68WJ"
      },
      "execution_count": 82,
      "outputs": []
    },
    {
      "cell_type": "code",
=======
=======
>>>>>>> 8735260d3ca5a4cec4948b7001761cc14fc1cc6e
        "df_selected = df_cluster[['InscClaimAmtReimbursed', 'DeductibleAmtPaid',\n",
        "                      'AdmittedDays', 'RenalDiseaseIndicator', 'NoOfMonths_PartACov',\n",
        "                      'NoOfMonths_PartBCov', 'ChronicCond_Alzheimer',\n",
        "                      'ChronicCond_Heartfailure', 'ChronicCond_KidneyDisease',\n",
        "                      'ChronicCond_Cancer', 'ChronicCond_ObstrPulmonary',\n",
        "                      'ChronicCond_Depression', 'ChronicCond_Diabetes',\n",
        "                      'ChronicCond_IschemicHeart', 'ChronicCond_Osteoporasis',\n",
        "                      'ChronicCond_rheumatoidarthritis', 'ChronicCond_stroke',\n",
        "                      'IPAnnualReimbursementAmt', 'IPAnnualDeductibleAmt',\n",
        "                      'OPAnnualReimbursementAmt', 'OPAnnualDeductibleAmt', 'Age']]"
      ],
      "metadata": {
        "id": "sGoEDLQl57_R"
      },
      "execution_count": 86,
      "outputs": []
    },
    {
      "cell_type": "markdown",
      "metadata": {
        "id": "0j9n5zNp65X3"
      },
      "source": [
        "# K-means clustering"
      ]
    },
    {
      "cell_type": "code",
      "execution_count": 82,
      "metadata": {
        "id": "29KONpyi68WJ"
      },
      "outputs": [],
      "source": [
        "from sklearn.cluster import KMeans"
      ]
    },
    {
      "cell_type": "code",
      "execution_count": null,
      "metadata": {
        "id": "6tdnulzm7AiQ"
      },
      "outputs": [],
<<<<<<< HEAD
>>>>>>> 8735260d3ca5a4cec4948b7001761cc14fc1cc6e
=======
>>>>>>> 8735260d3ca5a4cec4948b7001761cc14fc1cc6e
      "source": [
        "def visualize_elbow(X, ks):\n",
        "    fig, ax = plt.subplots()\n",
        "    inertias = []\n",
        "    for k in ks:\n",
        "        kmeanModel = KMeans(n_clusters=k, random_state=0).fit(X)\n",
        "        kmeanModel.fit(X)\n",
        "        inertias.append(kmeanModel.inertia_)\n",
        "    plt.plot(ks, inertias)\n",
        "    plt.xticks(ks)\n",
        "    plt.xlabel('Number of clusters')\n",
        "    plt.ylabel('Inertia')\n",
        "    plt.title('Elbow plot')"
<<<<<<< HEAD
<<<<<<< HEAD
      ],
      "metadata": {
        "id": "6tdnulzm7AiQ"
      },
      "execution_count": 83,
      "outputs": []
    },
    {
      "cell_type": "code",
      "source": [
        "K = range(1, 10)\n",
        "visualize_elbow(X, K)"
      ],
      "metadata": {
        "colab": {
          "base_uri": "https://localhost:8080/",
          "height": 316
        },
        "id": "eDL29y1M7REW",
        "outputId": "9b954efb-5195-40b0-fdc8-a015f0f22504"
      },
      "execution_count": 84,
      "outputs": [
        {
          "output_type": "display_data",
          "data": {
            "text/plain": [
              "<Figure size 432x288 with 1 Axes>"
            ],
            "image/png": "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\n"
          },
          "metadata": {
            "needs_background": "light"
          }
        }
=======
=======
>>>>>>> 8735260d3ca5a4cec4948b7001761cc14fc1cc6e
      ]
    },
    {
      "cell_type": "code",
      "execution_count": null,
      "metadata": {
        "colab": {
          "background_save": true,
          "base_uri": "https://localhost:8080/",
          "height": 295
        },
        "id": "eDL29y1M7REW",
        "outputId": "fee403dd-9b41-4caa-ac44-e7ebbdbeeaf6"
      },
      "outputs": [
        {
          "data": {
            "image/png": "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\n",
            "text/plain": [
              "<Figure size 432x288 with 1 Axes>"
            ]
          },
          "metadata": {},
          "output_type": "display_data"
        }
      ],
      "source": [
        "K = range(1, 10)\n",
        "visualize_elbow(X, K)"
<<<<<<< HEAD
>>>>>>> 8735260d3ca5a4cec4948b7001761cc14fc1cc6e
=======
>>>>>>> 8735260d3ca5a4cec4948b7001761cc14fc1cc6e
      ]
    },
    {
      "cell_type": "code",
<<<<<<< HEAD
<<<<<<< HEAD
      "source": [
        "X_reduced = X[['InscClaimAmtReimbursed', 'DeductibleAmtPaid',\n",
        "       'AdmittedDays', 'RenalDiseaseIndicator', 'NoOfMonths_PartACov',\n",
        "       'NoOfMonths_PartBCov', 'ChronicCond_Alzheimer',\n",
        "       'ChronicCond_Heartfailure', 'ChronicCond_KidneyDisease',\n",
        "       'ChronicCond_Cancer', 'ChronicCond_ObstrPulmonary',\n",
        "       'ChronicCond_Depression', 'ChronicCond_Diabetes',\n",
        "       'ChronicCond_IschemicHeart', 'ChronicCond_Osteoporasis',\n",
        "       'ChronicCond_rheumatoidarthritis', 'ChronicCond_stroke',\n",
        "       'IPAnnualReimbursementAmt', 'IPAnnualDeductibleAmt',\n",
        "       'OPAnnualReimbursementAmt', 'OPAnnualDeductibleAmt', 'Age']]"
      ],
      "metadata": {
        "id": "hqTz57rb7UGm"
      },
      "execution_count": 85,
      "outputs": []
    },
    {
      "cell_type": "code",
      "source": [
        "from sklearn.metrics import silhouette_samples, silhouette_score"
      ],
      "metadata": {
        "id": "_O_qovrA9mJp"
      },
      "execution_count": 249,
      "outputs": []
    },
    {
      "cell_type": "code",
=======
=======
>>>>>>> 8735260d3ca5a4cec4948b7001761cc14fc1cc6e
      "execution_count": null,
      "metadata": {
        "id": "_O_qovrA9mJp"
      },
      "outputs": [],
      "source": [
        "from sklearn.metrics import silhouette_samples, silhouette_score"
      ]
    },
    {
      "cell_type": "code",
      "execution_count": null,
      "metadata": {
        "id": "m20m_9_19pSQ",
        "colab": {
          "base_uri": "https://localhost:8080/",
          "height": 363
        },
        "outputId": "815389ed-65b2-4235-fe05-dc1819a87dc9"
      },
      "outputs": [
        {
          "output_type": "error",
          "ename": "KeyboardInterrupt",
          "evalue": "ignored",
          "traceback": [
            "\u001b[0;31m---------------------------------------------------------------------------\u001b[0m",
            "\u001b[0;31mKeyboardInterrupt\u001b[0m                         Traceback (most recent call last)",
            "\u001b[0;32m<ipython-input-85-2b296f679206>\u001b[0m in \u001b[0;36m<module>\u001b[0;34m\u001b[0m\n\u001b[1;32m      5\u001b[0m \u001b[0;34m\u001b[0m\u001b[0m\n\u001b[1;32m      6\u001b[0m   \u001b[0mcluster_labels\u001b[0m \u001b[0;34m=\u001b[0m \u001b[0mkmeans\u001b[0m\u001b[0;34m.\u001b[0m\u001b[0mlabels_\u001b[0m\u001b[0;34m\u001b[0m\u001b[0;34m\u001b[0m\u001b[0m\n\u001b[0;32m----> 7\u001b[0;31m   \u001b[0msilhouette_avg\u001b[0m \u001b[0;34m=\u001b[0m \u001b[0msilhouette_score\u001b[0m\u001b[0;34m(\u001b[0m\u001b[0mX_reduced\u001b[0m\u001b[0;34m,\u001b[0m \u001b[0mcluster_labels\u001b[0m\u001b[0;34m)\u001b[0m\u001b[0;34m\u001b[0m\u001b[0;34m\u001b[0m\u001b[0m\n\u001b[0m\u001b[1;32m      8\u001b[0m   \u001b[0mprint\u001b[0m\u001b[0;34m(\u001b[0m\u001b[0;34m\"For n_clusters={0}, the silhouette score is {1}\"\u001b[0m\u001b[0;34m.\u001b[0m\u001b[0mformat\u001b[0m\u001b[0;34m(\u001b[0m\u001b[0mnum_clusters\u001b[0m\u001b[0;34m,\u001b[0m \u001b[0msilhouette_avg\u001b[0m\u001b[0;34m)\u001b[0m\u001b[0;34m)\u001b[0m\u001b[0;34m\u001b[0m\u001b[0;34m\u001b[0m\u001b[0m\n",
            "\u001b[0;32m/usr/local/lib/python3.8/dist-packages/sklearn/metrics/cluster/_unsupervised.py\u001b[0m in \u001b[0;36msilhouette_score\u001b[0;34m(X, labels, metric, sample_size, random_state, **kwds)\u001b[0m\n\u001b[1;32m    115\u001b[0m         \u001b[0;32melse\u001b[0m\u001b[0;34m:\u001b[0m\u001b[0;34m\u001b[0m\u001b[0;34m\u001b[0m\u001b[0m\n\u001b[1;32m    116\u001b[0m             \u001b[0mX\u001b[0m\u001b[0;34m,\u001b[0m \u001b[0mlabels\u001b[0m \u001b[0;34m=\u001b[0m \u001b[0mX\u001b[0m\u001b[0;34m[\u001b[0m\u001b[0mindices\u001b[0m\u001b[0;34m]\u001b[0m\u001b[0;34m,\u001b[0m \u001b[0mlabels\u001b[0m\u001b[0;34m[\u001b[0m\u001b[0mindices\u001b[0m\u001b[0;34m]\u001b[0m\u001b[0;34m\u001b[0m\u001b[0;34m\u001b[0m\u001b[0m\n\u001b[0;32m--> 117\u001b[0;31m     \u001b[0;32mreturn\u001b[0m \u001b[0mnp\u001b[0m\u001b[0;34m.\u001b[0m\u001b[0mmean\u001b[0m\u001b[0;34m(\u001b[0m\u001b[0msilhouette_samples\u001b[0m\u001b[0;34m(\u001b[0m\u001b[0mX\u001b[0m\u001b[0;34m,\u001b[0m \u001b[0mlabels\u001b[0m\u001b[0;34m,\u001b[0m \u001b[0mmetric\u001b[0m\u001b[0;34m=\u001b[0m\u001b[0mmetric\u001b[0m\u001b[0;34m,\u001b[0m \u001b[0;34m**\u001b[0m\u001b[0mkwds\u001b[0m\u001b[0;34m)\u001b[0m\u001b[0;34m)\u001b[0m\u001b[0;34m\u001b[0m\u001b[0;34m\u001b[0m\u001b[0m\n\u001b[0m\u001b[1;32m    118\u001b[0m \u001b[0;34m\u001b[0m\u001b[0m\n\u001b[1;32m    119\u001b[0m \u001b[0;34m\u001b[0m\u001b[0m\n",
            "\u001b[0;32m/usr/local/lib/python3.8/dist-packages/sklearn/metrics/cluster/_unsupervised.py\u001b[0m in \u001b[0;36msilhouette_samples\u001b[0;34m(X, labels, metric, **kwds)\u001b[0m\n\u001b[1;32m    231\u001b[0m         \u001b[0m_silhouette_reduce\u001b[0m\u001b[0;34m,\u001b[0m \u001b[0mlabels\u001b[0m\u001b[0;34m=\u001b[0m\u001b[0mlabels\u001b[0m\u001b[0;34m,\u001b[0m \u001b[0mlabel_freqs\u001b[0m\u001b[0;34m=\u001b[0m\u001b[0mlabel_freqs\u001b[0m\u001b[0;34m\u001b[0m\u001b[0;34m\u001b[0m\u001b[0m\n\u001b[1;32m    232\u001b[0m     )\n\u001b[0;32m--> 233\u001b[0;31m     \u001b[0mresults\u001b[0m \u001b[0;34m=\u001b[0m \u001b[0mzip\u001b[0m\u001b[0;34m(\u001b[0m\u001b[0;34m*\u001b[0m\u001b[0mpairwise_distances_chunked\u001b[0m\u001b[0;34m(\u001b[0m\u001b[0mX\u001b[0m\u001b[0;34m,\u001b[0m \u001b[0mreduce_func\u001b[0m\u001b[0;34m=\u001b[0m\u001b[0mreduce_func\u001b[0m\u001b[0;34m,\u001b[0m \u001b[0;34m**\u001b[0m\u001b[0mkwds\u001b[0m\u001b[0;34m)\u001b[0m\u001b[0;34m)\u001b[0m\u001b[0;34m\u001b[0m\u001b[0;34m\u001b[0m\u001b[0m\n\u001b[0m\u001b[1;32m    234\u001b[0m     \u001b[0mintra_clust_dists\u001b[0m\u001b[0;34m,\u001b[0m \u001b[0minter_clust_dists\u001b[0m \u001b[0;34m=\u001b[0m \u001b[0mresults\u001b[0m\u001b[0;34m\u001b[0m\u001b[0;34m\u001b[0m\u001b[0m\n\u001b[1;32m    235\u001b[0m     \u001b[0mintra_clust_dists\u001b[0m \u001b[0;34m=\u001b[0m \u001b[0mnp\u001b[0m\u001b[0;34m.\u001b[0m\u001b[0mconcatenate\u001b[0m\u001b[0;34m(\u001b[0m\u001b[0mintra_clust_dists\u001b[0m\u001b[0;34m)\u001b[0m\u001b[0;34m\u001b[0m\u001b[0;34m\u001b[0m\u001b[0m\n",
            "\u001b[0;32m/usr/local/lib/python3.8/dist-packages/sklearn/metrics/pairwise.py\u001b[0m in \u001b[0;36mpairwise_distances_chunked\u001b[0;34m(X, Y, reduce_func, metric, n_jobs, working_memory, **kwds)\u001b[0m\n\u001b[1;32m   1715\u001b[0m         \u001b[0;32melse\u001b[0m\u001b[0;34m:\u001b[0m\u001b[0;34m\u001b[0m\u001b[0;34m\u001b[0m\u001b[0m\n\u001b[1;32m   1716\u001b[0m             \u001b[0mX_chunk\u001b[0m \u001b[0;34m=\u001b[0m \u001b[0mX\u001b[0m\u001b[0;34m[\u001b[0m\u001b[0msl\u001b[0m\u001b[0;34m]\u001b[0m\u001b[0;34m\u001b[0m\u001b[0;34m\u001b[0m\u001b[0m\n\u001b[0;32m-> 1717\u001b[0;31m         \u001b[0mD_chunk\u001b[0m \u001b[0;34m=\u001b[0m \u001b[0mpairwise_distances\u001b[0m\u001b[0;34m(\u001b[0m\u001b[0mX_chunk\u001b[0m\u001b[0;34m,\u001b[0m \u001b[0mY\u001b[0m\u001b[0;34m,\u001b[0m \u001b[0mmetric\u001b[0m\u001b[0;34m=\u001b[0m\u001b[0mmetric\u001b[0m\u001b[0;34m,\u001b[0m \u001b[0mn_jobs\u001b[0m\u001b[0;34m=\u001b[0m\u001b[0mn_jobs\u001b[0m\u001b[0;34m,\u001b[0m \u001b[0;34m**\u001b[0m\u001b[0mkwds\u001b[0m\u001b[0;34m)\u001b[0m\u001b[0;34m\u001b[0m\u001b[0;34m\u001b[0m\u001b[0m\n\u001b[0m\u001b[1;32m   1718\u001b[0m         if (X is Y or Y is None) and PAIRWISE_DISTANCE_FUNCTIONS.get(\n\u001b[1;32m   1719\u001b[0m             \u001b[0mmetric\u001b[0m\u001b[0;34m,\u001b[0m \u001b[0;32mNone\u001b[0m\u001b[0;34m\u001b[0m\u001b[0;34m\u001b[0m\u001b[0m\n",
            "\u001b[0;32m/usr/local/lib/python3.8/dist-packages/sklearn/metrics/pairwise.py\u001b[0m in \u001b[0;36mpairwise_distances\u001b[0;34m(X, Y, metric, n_jobs, force_all_finite, **kwds)\u001b[0m\n\u001b[1;32m   1887\u001b[0m         \u001b[0mfunc\u001b[0m \u001b[0;34m=\u001b[0m \u001b[0mpartial\u001b[0m\u001b[0;34m(\u001b[0m\u001b[0mdistance\u001b[0m\u001b[0;34m.\u001b[0m\u001b[0mcdist\u001b[0m\u001b[0;34m,\u001b[0m \u001b[0mmetric\u001b[0m\u001b[0;34m=\u001b[0m\u001b[0mmetric\u001b[0m\u001b[0;34m,\u001b[0m \u001b[0;34m**\u001b[0m\u001b[0mkwds\u001b[0m\u001b[0;34m)\u001b[0m\u001b[0;34m\u001b[0m\u001b[0;34m\u001b[0m\u001b[0m\n\u001b[1;32m   1888\u001b[0m \u001b[0;34m\u001b[0m\u001b[0m\n\u001b[0;32m-> 1889\u001b[0;31m     \u001b[0;32mreturn\u001b[0m \u001b[0m_parallel_pairwise\u001b[0m\u001b[0;34m(\u001b[0m\u001b[0mX\u001b[0m\u001b[0;34m,\u001b[0m \u001b[0mY\u001b[0m\u001b[0;34m,\u001b[0m \u001b[0mfunc\u001b[0m\u001b[0;34m,\u001b[0m \u001b[0mn_jobs\u001b[0m\u001b[0;34m,\u001b[0m \u001b[0;34m**\u001b[0m\u001b[0mkwds\u001b[0m\u001b[0;34m)\u001b[0m\u001b[0;34m\u001b[0m\u001b[0;34m\u001b[0m\u001b[0m\n\u001b[0m\u001b[1;32m   1890\u001b[0m \u001b[0;34m\u001b[0m\u001b[0m\n\u001b[1;32m   1891\u001b[0m \u001b[0;34m\u001b[0m\u001b[0m\n",
            "\u001b[0;32m/usr/local/lib/python3.8/dist-packages/sklearn/metrics/pairwise.py\u001b[0m in \u001b[0;36m_parallel_pairwise\u001b[0;34m(X, Y, func, n_jobs, **kwds)\u001b[0m\n\u001b[1;32m   1428\u001b[0m \u001b[0;34m\u001b[0m\u001b[0m\n\u001b[1;32m   1429\u001b[0m     \u001b[0;32mif\u001b[0m \u001b[0meffective_n_jobs\u001b[0m\u001b[0;34m(\u001b[0m\u001b[0mn_jobs\u001b[0m\u001b[0;34m)\u001b[0m \u001b[0;34m==\u001b[0m \u001b[0;36m1\u001b[0m\u001b[0;34m:\u001b[0m\u001b[0;34m\u001b[0m\u001b[0;34m\u001b[0m\u001b[0m\n\u001b[0;32m-> 1430\u001b[0;31m         \u001b[0;32mreturn\u001b[0m \u001b[0mfunc\u001b[0m\u001b[0;34m(\u001b[0m\u001b[0mX\u001b[0m\u001b[0;34m,\u001b[0m \u001b[0mY\u001b[0m\u001b[0;34m,\u001b[0m \u001b[0;34m**\u001b[0m\u001b[0mkwds\u001b[0m\u001b[0;34m)\u001b[0m\u001b[0;34m\u001b[0m\u001b[0;34m\u001b[0m\u001b[0m\n\u001b[0m\u001b[1;32m   1431\u001b[0m \u001b[0;34m\u001b[0m\u001b[0m\n\u001b[1;32m   1432\u001b[0m     \u001b[0;31m# enforce a threading backend to prevent data communication overhead\u001b[0m\u001b[0;34m\u001b[0m\u001b[0;34m\u001b[0m\u001b[0;34m\u001b[0m\u001b[0m\n",
            "\u001b[0;32m/usr/local/lib/python3.8/dist-packages/sklearn/metrics/pairwise.py\u001b[0m in \u001b[0;36meuclidean_distances\u001b[0;34m(X, Y, Y_norm_squared, squared, X_norm_squared)\u001b[0m\n\u001b[1;32m    328\u001b[0m             )\n\u001b[1;32m    329\u001b[0m \u001b[0;34m\u001b[0m\u001b[0m\n\u001b[0;32m--> 330\u001b[0;31m     \u001b[0;32mreturn\u001b[0m \u001b[0m_euclidean_distances\u001b[0m\u001b[0;34m(\u001b[0m\u001b[0mX\u001b[0m\u001b[0;34m,\u001b[0m \u001b[0mY\u001b[0m\u001b[0;34m,\u001b[0m \u001b[0mX_norm_squared\u001b[0m\u001b[0;34m,\u001b[0m \u001b[0mY_norm_squared\u001b[0m\u001b[0;34m,\u001b[0m \u001b[0msquared\u001b[0m\u001b[0;34m)\u001b[0m\u001b[0;34m\u001b[0m\u001b[0;34m\u001b[0m\u001b[0m\n\u001b[0m\u001b[1;32m    331\u001b[0m \u001b[0;34m\u001b[0m\u001b[0m\n\u001b[1;32m    332\u001b[0m \u001b[0;34m\u001b[0m\u001b[0m\n",
            "\u001b[0;32m/usr/local/lib/python3.8/dist-packages/sklearn/metrics/pairwise.py\u001b[0m in \u001b[0;36m_euclidean_distances\u001b[0;34m(X, Y, X_norm_squared, Y_norm_squared, squared)\u001b[0m\n\u001b[1;32m    369\u001b[0m     \u001b[0;32melse\u001b[0m\u001b[0;34m:\u001b[0m\u001b[0;34m\u001b[0m\u001b[0;34m\u001b[0m\u001b[0m\n\u001b[1;32m    370\u001b[0m         \u001b[0;31m# if dtype is already float64, no need to chunk and upcast\u001b[0m\u001b[0;34m\u001b[0m\u001b[0;34m\u001b[0m\u001b[0;34m\u001b[0m\u001b[0m\n\u001b[0;32m--> 371\u001b[0;31m         \u001b[0mdistances\u001b[0m \u001b[0;34m=\u001b[0m \u001b[0;34m-\u001b[0m\u001b[0;36m2\u001b[0m \u001b[0;34m*\u001b[0m \u001b[0msafe_sparse_dot\u001b[0m\u001b[0;34m(\u001b[0m\u001b[0mX\u001b[0m\u001b[0;34m,\u001b[0m \u001b[0mY\u001b[0m\u001b[0;34m.\u001b[0m\u001b[0mT\u001b[0m\u001b[0;34m,\u001b[0m \u001b[0mdense_output\u001b[0m\u001b[0;34m=\u001b[0m\u001b[0;32mTrue\u001b[0m\u001b[0;34m)\u001b[0m\u001b[0;34m\u001b[0m\u001b[0;34m\u001b[0m\u001b[0m\n\u001b[0m\u001b[1;32m    372\u001b[0m         \u001b[0mdistances\u001b[0m \u001b[0;34m+=\u001b[0m \u001b[0mXX\u001b[0m\u001b[0;34m\u001b[0m\u001b[0;34m\u001b[0m\u001b[0m\n\u001b[1;32m    373\u001b[0m         \u001b[0mdistances\u001b[0m \u001b[0;34m+=\u001b[0m \u001b[0mYY\u001b[0m\u001b[0;34m\u001b[0m\u001b[0;34m\u001b[0m\u001b[0m\n",
            "\u001b[0;31mKeyboardInterrupt\u001b[0m: "
          ]
        }
      ],
<<<<<<< HEAD
>>>>>>> 8735260d3ca5a4cec4948b7001761cc14fc1cc6e
=======
>>>>>>> 8735260d3ca5a4cec4948b7001761cc14fc1cc6e
      "source": [
        "range_n_clusters = [2,3,4,5,6,7,8]\n",
        "for num_clusters in range_n_clusters:\n",
        "  kmeans = KMeans(n_clusters=num_clusters, max_iter=50, random_state=2022)\n",
        "  kmeans.fit(X_reduced)\n",
        "\n",
        "  cluster_labels = kmeans.labels_\n",
        "  silhouette_avg = silhouette_score(X_reduced, cluster_labels)\n",
        "  print(\"For n_clusters={0}, the silhouette score is {1}\".format(num_clusters, silhouette_avg))"
<<<<<<< HEAD
<<<<<<< HEAD
      ],
      "metadata": {
        "id": "m20m_9_19pSQ"
      },
      "execution_count": null,
      "outputs": []
    },
    {
      "cell_type": "code",
      "source": [
        "km = KMeans(n_clusters=3, max_iter=50, random_state=2022)\n",
        "km.fit(X_reduced)"
      ],
      "metadata": {
        "colab": {
          "base_uri": "https://localhost:8080/"
        },
        "id": "EAtx5JaQ9xSG",
        "outputId": "d31cf869-f982-411f-ccea-25cb320d7442"
      },
      "execution_count": 86,
=======
=======
>>>>>>> 8735260d3ca5a4cec4948b7001761cc14fc1cc6e
      ]
    },
    {
      "cell_type": "code",
      "execution_count": 87,
      "metadata": {
        "id": "EAtx5JaQ9xSG",
        "colab": {
          "base_uri": "https://localhost:8080/"
        },
        "outputId": "e0f279b6-3f59-4ec7-8944-439bb28fb5f4"
      },
<<<<<<< HEAD
>>>>>>> 8735260d3ca5a4cec4948b7001761cc14fc1cc6e
=======
>>>>>>> 8735260d3ca5a4cec4948b7001761cc14fc1cc6e
      "outputs": [
        {
          "output_type": "execute_result",
          "data": {
            "text/plain": [
              "KMeans(max_iter=50, n_clusters=3, random_state=2022)"
            ]
          },
          "metadata": {},
<<<<<<< HEAD
<<<<<<< HEAD
          "execution_count": 86
        }
=======
=======
>>>>>>> 8735260d3ca5a4cec4948b7001761cc14fc1cc6e
          "execution_count": 87
        }
      ],
      "source": [
        "km = KMeans(n_clusters=3, max_iter=50, random_state=2022)\n",
        "km.fit(df_selected)"
<<<<<<< HEAD
>>>>>>> 8735260d3ca5a4cec4948b7001761cc14fc1cc6e
=======
>>>>>>> 8735260d3ca5a4cec4948b7001761cc14fc1cc6e
      ]
    },
    {
      "cell_type": "code",
<<<<<<< HEAD
<<<<<<< HEAD
      "source": [
        "# Size of each cluster\n",
        "for i in range(len(km.cluster_centers_)):\n",
        "  print(\"Cluster\", i)\n",
        "  print(\"Center:\", km.cluster_centers_[i])\n",
        "  print(\"Size:\", sum(km.labels_ == i))"
      ],
      "metadata": {
        "colab": {
          "base_uri": "https://localhost:8080/"
        },
        "id": "un1F9f-0I3EA",
        "outputId": "614de0cb-377f-49c7-854d-d3d5e4e8c8aa"
      },
      "execution_count": 87,
=======
=======
>>>>>>> 8735260d3ca5a4cec4948b7001761cc14fc1cc6e
      "execution_count": 88,
      "metadata": {
        "id": "un1F9f-0I3EA",
        "colab": {
          "base_uri": "https://localhost:8080/"
        },
        "outputId": "fec3c67a-22e3-4940-803a-df8ed9fa6776"
      },
<<<<<<< HEAD
>>>>>>> 8735260d3ca5a4cec4948b7001761cc14fc1cc6e
=======
>>>>>>> 8735260d3ca5a4cec4948b7001761cc14fc1cc6e
      "outputs": [
        {
          "output_type": "stream",
          "name": "stdout",
          "text": [
            "Cluster 0\n",
<<<<<<< HEAD
<<<<<<< HEAD
            "Center: [4.03208053e+02 3.73392488e+01 1.70635968e-01 1.62165193e-01\n",
            " 1.19335005e+01 1.19394841e+01 3.70880063e-01 5.46208823e-01\n",
            " 3.46074680e-01 1.36372433e-01 2.64091569e-01 4.10069490e-01\n",
            " 6.69930070e-01 7.27085807e-01 3.04134231e-01 2.90255970e-01\n",
            " 8.25988477e-02 9.74471390e+02 2.27826763e+02 1.97325538e+03\n",
            " 5.72284954e+02 8.35938932e+01]\n",
            "Size: 454736\n",
            "Cluster 1\n",
            "Center: [2.84039157e+03 2.50792320e+02 1.65731576e+00 3.27010082e-01\n",
            " 1.19234205e+01 1.19312289e+01 5.29706267e-01 7.72006982e-01\n",
            " 6.79581104e-01 2.12123648e-01 5.08531796e-01 5.37388329e-01\n",
            " 8.53443722e-01 8.92324828e-01 3.74675608e-01 4.05174196e-01\n",
            " 1.74115242e-01 1.78465376e+04 1.87349395e+03 3.38078819e+03\n",
            " 9.33770319e+02 8.41066073e+01]\n",
            "Size: 87088\n",
            "Cluster 2\n",
            "Center: [7.67958316e+03 2.98130119e+02 2.91986573e+00 4.65486726e-01\n",
            " 1.19179738e+01 1.19590479e+01 5.82422948e-01 8.52548062e-01\n",
            " 8.19530058e-01 2.45224291e-01 6.28745804e-01 5.76136710e-01\n",
            " 9.02776930e-01 9.45132743e-01 3.89563625e-01 3.92004883e-01\n",
            " 2.47604516e-01 5.62097339e+04 3.09607995e+03 4.88208605e+03\n",
            " 1.28836155e+03 8.43394568e+01]\n",
            "Size: 16387\n"
          ]
        }
=======
=======
>>>>>>> 8735260d3ca5a4cec4948b7001761cc14fc1cc6e
            "Center: [ 2.39834597  3.54944016  2.69753837  0.15922457 -0.01712115 -0.01921468\n",
            "  0.21242977  0.27355763  0.39168702  0.11349358  0.36230027  0.13809479\n",
            "  0.21741891  0.23251636  0.075788    0.10830251  0.22513452  1.05781376\n",
            "  1.21140822 -0.09641148 -0.12136136  0.02762291]\n",
            "Size: 39973\n",
            "Cluster 1\n",
            "Center: [-0.16498013 -0.2756735  -0.20678946  0.50616846  0.02928922  0.03572619\n",
            "  0.37891145  0.54934652  0.75168049  0.21027373  0.50909834  0.36479773\n",
            "  0.506143    0.42179049  0.20517263  0.30468394  0.26964406  0.28276294\n",
            "  0.27113126  0.35876803  0.37551855  0.0718642 ]\n",
            "Size: 216016\n",
            "Cluster 2\n",
            "Center: [-0.19925723 -0.27239836 -0.20896129 -0.38236253 -0.01864422 -0.02296235\n",
            " -0.29855624 -0.42829714 -0.58834299 -0.16510066 -0.4112974  -0.27865559\n",
            " -0.39003674 -0.33181949 -0.15647528 -0.23180681 -0.22223786 -0.34166971\n",
            " -0.35366953 -0.24335336 -0.2520123  -0.05494975]\n",
            "Size: 302222\n"
          ]
        }
      ],
      "source": [
        "# Size of each cluster\n",
        "for i in range(len(km.cluster_centers_)):\n",
        "  print(\"Cluster\", i)\n",
        "  print(\"Center:\", km.cluster_centers_[i])\n",
        "  print(\"Size:\", sum(km.labels_ == i))"
<<<<<<< HEAD
>>>>>>> 8735260d3ca5a4cec4948b7001761cc14fc1cc6e
=======
>>>>>>> 8735260d3ca5a4cec4948b7001761cc14fc1cc6e
      ]
    },
    {
      "cell_type": "code",
<<<<<<< HEAD
<<<<<<< HEAD
      "source": [
        "train_final['cluster_pca'] = km.labels_"
      ],
      "metadata": {
        "id": "nShcyUZwI-db"
      },
      "execution_count": 88,
      "outputs": []
    },
    {
      "cell_type": "code",
      "source": [
        "train_final.head()"
      ],
      "metadata": {
        "colab": {
          "base_uri": "https://localhost:8080/",
          "height": 266
        },
        "id": "UObEFlRnJyzF",
        "outputId": "5fc37e94-8bd0-479d-a2b8-c29e34b40f12"
      },
      "execution_count": 89,
=======
=======
>>>>>>> 8735260d3ca5a4cec4948b7001761cc14fc1cc6e
      "execution_count": 89,
      "metadata": {
        "id": "nShcyUZwI-db"
      },
      "outputs": [],
      "source": [
        "train_final['cluster_pca'] = km.labels_"
      ]
    },
    {
      "cell_type": "code",
      "execution_count": 90,
      "metadata": {
        "id": "UObEFlRnJyzF",
        "colab": {
          "base_uri": "https://localhost:8080/",
          "height": 270
        },
        "outputId": "3ff5f2ec-51c0-40f2-9c35-f35b8afadbd1"
      },
<<<<<<< HEAD
>>>>>>> 8735260d3ca5a4cec4948b7001761cc14fc1cc6e
=======
>>>>>>> 8735260d3ca5a4cec4948b7001761cc14fc1cc6e
      "outputs": [
        {
          "output_type": "execute_result",
          "data": {
            "text/plain": [
              "   Provider  InscClaimAmtReimbursed  DeductibleAmtPaid  AdmittedDays  \\\n",
              "0  PRV55912                   26000             1068.0           7.0   \n",
              "1  PRV55912                      50                0.0           0.0   \n",
              "2  PRV55912                   19000             1068.0          13.0   \n",
              "3  PRV55912                   17000             1068.0          19.0   \n",
              "4  PRV55912                   13000             1068.0           5.0   \n",
              "\n",
              "  RenalDiseaseIndicator  NoOfMonths_PartACov  NoOfMonths_PartBCov  \\\n",
              "0                     0                   12                   12   \n",
              "1                     0                   12                   12   \n",
              "2                     0                   12                   12   \n",
              "3                     0                   12                   12   \n",
              "4                     0                   12                   12   \n",
              "\n",
              "   ChronicCond_Alzheimer  ChronicCond_Heartfailure  ChronicCond_KidneyDisease  \\\n",
              "0                      1                         0                          1   \n",
              "1                      1                         1                          1   \n",
              "2                      1                         1                          1   \n",
              "3                      0                         0                          0   \n",
              "4                      0                         1                          0   \n",
              "\n",
              "   ChronicCond_Cancer  ChronicCond_ObstrPulmonary  ChronicCond_Depression  \\\n",
              "0                   0                           0                       1   \n",
              "1                   0                           0                       0   \n",
              "2                   0                           1                       0   \n",
              "3                   0                           0                       0   \n",
              "4                   0                           1                       0   \n",
              "\n",
              "   ChronicCond_Diabetes  ChronicCond_IschemicHeart  ChronicCond_Osteoporasis  \\\n",
              "0                     1                          1                         0   \n",
              "1                     0                          1                         0   \n",
              "2                     0                          1                         0   \n",
              "3                     0                          1                         1   \n",
              "4                     1                          1                         1   \n",
              "\n",
              "   ChronicCond_rheumatoidarthritis  ChronicCond_stroke  \\\n",
              "0                                1                   1   \n",
              "1                                0                   0   \n",
              "2                                0                   0   \n",
              "3                                0                   0   \n",
              "4                                1                   0   \n",
              "\n",
              "   IPAnnualReimbursementAmt  IPAnnualDeductibleAmt  OPAnnualReimbursementAmt  \\\n",
              "0                     36000                   3204                        60   \n",
              "1                     24000                   2136                       450   \n",
              "2                     19000                   1068                       100   \n",
              "3                     17000                   1068                      1050   \n",
              "4                     27000                   2136                       450   \n",
              "\n",
              "   OPAnnualDeductibleAmt    Age  DeadOrNot  Gender_2  Race_2  Race_3  Race_5  \\\n",
              "0                     70   77.0        0.0         0       0       0       0   \n",
              "1                    200   88.0        0.0         0       0       0       0   \n",
              "2                     20  106.0        0.0         1       0       0       0   \n",
              "3                    540   97.0        0.0         0       0       0       0   \n",
              "4                    160   89.0        0.0         1       0       0       0   \n",
              "\n",
              "   cluster_pca  \n",
<<<<<<< HEAD
<<<<<<< HEAD
              "0            2  \n",
              "1            1  \n",
              "2            1  \n",
              "3            1  \n",
              "4            1  "
            ],
            "text/html": [
              "\n",
              "  <div id=\"df-7436097d-09f2-4936-8689-90605622ec2a\">\n",
=======
=======
>>>>>>> 8735260d3ca5a4cec4948b7001761cc14fc1cc6e
              "0            0  \n",
              "1            1  \n",
              "2            0  \n",
              "3            0  \n",
              "4            0  "
            ],
            "text/html": [
              "\n",
              "  <div id=\"df-47c18340-809f-440f-993a-04b44b3a54b4\">\n",
<<<<<<< HEAD
>>>>>>> 8735260d3ca5a4cec4948b7001761cc14fc1cc6e
=======
>>>>>>> 8735260d3ca5a4cec4948b7001761cc14fc1cc6e
              "    <div class=\"colab-df-container\">\n",
              "      <div>\n",
              "<style scoped>\n",
              "    .dataframe tbody tr th:only-of-type {\n",
              "        vertical-align: middle;\n",
              "    }\n",
              "\n",
              "    .dataframe tbody tr th {\n",
              "        vertical-align: top;\n",
              "    }\n",
              "\n",
              "    .dataframe thead th {\n",
              "        text-align: right;\n",
              "    }\n",
              "</style>\n",
              "<table border=\"1\" class=\"dataframe\">\n",
              "  <thead>\n",
              "    <tr style=\"text-align: right;\">\n",
              "      <th></th>\n",
              "      <th>Provider</th>\n",
              "      <th>InscClaimAmtReimbursed</th>\n",
              "      <th>DeductibleAmtPaid</th>\n",
              "      <th>AdmittedDays</th>\n",
              "      <th>RenalDiseaseIndicator</th>\n",
              "      <th>NoOfMonths_PartACov</th>\n",
              "      <th>NoOfMonths_PartBCov</th>\n",
              "      <th>ChronicCond_Alzheimer</th>\n",
              "      <th>ChronicCond_Heartfailure</th>\n",
              "      <th>ChronicCond_KidneyDisease</th>\n",
              "      <th>ChronicCond_Cancer</th>\n",
              "      <th>ChronicCond_ObstrPulmonary</th>\n",
              "      <th>ChronicCond_Depression</th>\n",
              "      <th>ChronicCond_Diabetes</th>\n",
              "      <th>ChronicCond_IschemicHeart</th>\n",
              "      <th>ChronicCond_Osteoporasis</th>\n",
              "      <th>ChronicCond_rheumatoidarthritis</th>\n",
              "      <th>ChronicCond_stroke</th>\n",
              "      <th>IPAnnualReimbursementAmt</th>\n",
              "      <th>IPAnnualDeductibleAmt</th>\n",
              "      <th>OPAnnualReimbursementAmt</th>\n",
              "      <th>OPAnnualDeductibleAmt</th>\n",
              "      <th>Age</th>\n",
              "      <th>DeadOrNot</th>\n",
              "      <th>Gender_2</th>\n",
              "      <th>Race_2</th>\n",
              "      <th>Race_3</th>\n",
              "      <th>Race_5</th>\n",
              "      <th>cluster_pca</th>\n",
              "    </tr>\n",
              "  </thead>\n",
              "  <tbody>\n",
              "    <tr>\n",
              "      <th>0</th>\n",
              "      <td>PRV55912</td>\n",
              "      <td>26000</td>\n",
              "      <td>1068.0</td>\n",
              "      <td>7.0</td>\n",
              "      <td>0</td>\n",
              "      <td>12</td>\n",
              "      <td>12</td>\n",
              "      <td>1</td>\n",
              "      <td>0</td>\n",
              "      <td>1</td>\n",
              "      <td>0</td>\n",
              "      <td>0</td>\n",
              "      <td>1</td>\n",
              "      <td>1</td>\n",
              "      <td>1</td>\n",
              "      <td>0</td>\n",
              "      <td>1</td>\n",
              "      <td>1</td>\n",
              "      <td>36000</td>\n",
              "      <td>3204</td>\n",
              "      <td>60</td>\n",
              "      <td>70</td>\n",
              "      <td>77.0</td>\n",
              "      <td>0.0</td>\n",
              "      <td>0</td>\n",
              "      <td>0</td>\n",
              "      <td>0</td>\n",
              "      <td>0</td>\n",
<<<<<<< HEAD
<<<<<<< HEAD
              "      <td>2</td>\n",
=======
              "      <td>0</td>\n",
>>>>>>> 8735260d3ca5a4cec4948b7001761cc14fc1cc6e
=======
              "      <td>0</td>\n",
>>>>>>> 8735260d3ca5a4cec4948b7001761cc14fc1cc6e
              "    </tr>\n",
              "    <tr>\n",
              "      <th>1</th>\n",
              "      <td>PRV55912</td>\n",
              "      <td>50</td>\n",
              "      <td>0.0</td>\n",
              "      <td>0.0</td>\n",
              "      <td>0</td>\n",
              "      <td>12</td>\n",
              "      <td>12</td>\n",
              "      <td>1</td>\n",
              "      <td>1</td>\n",
              "      <td>1</td>\n",
              "      <td>0</td>\n",
              "      <td>0</td>\n",
              "      <td>0</td>\n",
              "      <td>0</td>\n",
              "      <td>1</td>\n",
              "      <td>0</td>\n",
              "      <td>0</td>\n",
              "      <td>0</td>\n",
              "      <td>24000</td>\n",
              "      <td>2136</td>\n",
              "      <td>450</td>\n",
              "      <td>200</td>\n",
              "      <td>88.0</td>\n",
              "      <td>0.0</td>\n",
              "      <td>0</td>\n",
              "      <td>0</td>\n",
              "      <td>0</td>\n",
              "      <td>0</td>\n",
              "      <td>1</td>\n",
              "    </tr>\n",
              "    <tr>\n",
              "      <th>2</th>\n",
              "      <td>PRV55912</td>\n",
              "      <td>19000</td>\n",
              "      <td>1068.0</td>\n",
              "      <td>13.0</td>\n",
              "      <td>0</td>\n",
              "      <td>12</td>\n",
              "      <td>12</td>\n",
              "      <td>1</td>\n",
              "      <td>1</td>\n",
              "      <td>1</td>\n",
              "      <td>0</td>\n",
              "      <td>1</td>\n",
              "      <td>0</td>\n",
              "      <td>0</td>\n",
              "      <td>1</td>\n",
              "      <td>0</td>\n",
              "      <td>0</td>\n",
              "      <td>0</td>\n",
              "      <td>19000</td>\n",
              "      <td>1068</td>\n",
              "      <td>100</td>\n",
              "      <td>20</td>\n",
              "      <td>106.0</td>\n",
              "      <td>0.0</td>\n",
              "      <td>1</td>\n",
              "      <td>0</td>\n",
              "      <td>0</td>\n",
              "      <td>0</td>\n",
<<<<<<< HEAD
<<<<<<< HEAD
              "      <td>1</td>\n",
=======
              "      <td>0</td>\n",
>>>>>>> 8735260d3ca5a4cec4948b7001761cc14fc1cc6e
=======
              "      <td>0</td>\n",
>>>>>>> 8735260d3ca5a4cec4948b7001761cc14fc1cc6e
              "    </tr>\n",
              "    <tr>\n",
              "      <th>3</th>\n",
              "      <td>PRV55912</td>\n",
              "      <td>17000</td>\n",
              "      <td>1068.0</td>\n",
              "      <td>19.0</td>\n",
              "      <td>0</td>\n",
              "      <td>12</td>\n",
              "      <td>12</td>\n",
              "      <td>0</td>\n",
              "      <td>0</td>\n",
              "      <td>0</td>\n",
              "      <td>0</td>\n",
              "      <td>0</td>\n",
              "      <td>0</td>\n",
              "      <td>0</td>\n",
              "      <td>1</td>\n",
              "      <td>1</td>\n",
              "      <td>0</td>\n",
              "      <td>0</td>\n",
              "      <td>17000</td>\n",
              "      <td>1068</td>\n",
              "      <td>1050</td>\n",
              "      <td>540</td>\n",
              "      <td>97.0</td>\n",
              "      <td>0.0</td>\n",
              "      <td>0</td>\n",
              "      <td>0</td>\n",
              "      <td>0</td>\n",
              "      <td>0</td>\n",
<<<<<<< HEAD
<<<<<<< HEAD
              "      <td>1</td>\n",
=======
              "      <td>0</td>\n",
>>>>>>> 8735260d3ca5a4cec4948b7001761cc14fc1cc6e
=======
              "      <td>0</td>\n",
>>>>>>> 8735260d3ca5a4cec4948b7001761cc14fc1cc6e
              "    </tr>\n",
              "    <tr>\n",
              "      <th>4</th>\n",
              "      <td>PRV55912</td>\n",
              "      <td>13000</td>\n",
              "      <td>1068.0</td>\n",
              "      <td>5.0</td>\n",
              "      <td>0</td>\n",
              "      <td>12</td>\n",
              "      <td>12</td>\n",
              "      <td>0</td>\n",
              "      <td>1</td>\n",
              "      <td>0</td>\n",
              "      <td>0</td>\n",
              "      <td>1</td>\n",
              "      <td>0</td>\n",
              "      <td>1</td>\n",
              "      <td>1</td>\n",
              "      <td>1</td>\n",
              "      <td>1</td>\n",
              "      <td>0</td>\n",
              "      <td>27000</td>\n",
              "      <td>2136</td>\n",
              "      <td>450</td>\n",
              "      <td>160</td>\n",
              "      <td>89.0</td>\n",
              "      <td>0.0</td>\n",
              "      <td>1</td>\n",
              "      <td>0</td>\n",
              "      <td>0</td>\n",
              "      <td>0</td>\n",
<<<<<<< HEAD
<<<<<<< HEAD
              "      <td>1</td>\n",
=======
              "      <td>0</td>\n",
>>>>>>> 8735260d3ca5a4cec4948b7001761cc14fc1cc6e
=======
              "      <td>0</td>\n",
>>>>>>> 8735260d3ca5a4cec4948b7001761cc14fc1cc6e
              "    </tr>\n",
              "  </tbody>\n",
              "</table>\n",
              "</div>\n",
<<<<<<< HEAD
<<<<<<< HEAD
              "      <button class=\"colab-df-convert\" onclick=\"convertToInteractive('df-7436097d-09f2-4936-8689-90605622ec2a')\"\n",
=======
              "      <button class=\"colab-df-convert\" onclick=\"convertToInteractive('df-47c18340-809f-440f-993a-04b44b3a54b4')\"\n",
>>>>>>> 8735260d3ca5a4cec4948b7001761cc14fc1cc6e
=======
              "      <button class=\"colab-df-convert\" onclick=\"convertToInteractive('df-47c18340-809f-440f-993a-04b44b3a54b4')\"\n",
>>>>>>> 8735260d3ca5a4cec4948b7001761cc14fc1cc6e
              "              title=\"Convert this dataframe to an interactive table.\"\n",
              "              style=\"display:none;\">\n",
              "        \n",
              "  <svg xmlns=\"http://www.w3.org/2000/svg\" height=\"24px\"viewBox=\"0 0 24 24\"\n",
              "       width=\"24px\">\n",
              "    <path d=\"M0 0h24v24H0V0z\" fill=\"none\"/>\n",
              "    <path d=\"M18.56 5.44l.94 2.06.94-2.06 2.06-.94-2.06-.94-.94-2.06-.94 2.06-2.06.94zm-11 1L8.5 8.5l.94-2.06 2.06-.94-2.06-.94L8.5 2.5l-.94 2.06-2.06.94zm10 10l.94 2.06.94-2.06 2.06-.94-2.06-.94-.94-2.06-.94 2.06-2.06.94z\"/><path d=\"M17.41 7.96l-1.37-1.37c-.4-.4-.92-.59-1.43-.59-.52 0-1.04.2-1.43.59L10.3 9.45l-7.72 7.72c-.78.78-.78 2.05 0 2.83L4 21.41c.39.39.9.59 1.41.59.51 0 1.02-.2 1.41-.59l7.78-7.78 2.81-2.81c.8-.78.8-2.07 0-2.86zM5.41 20L4 18.59l7.72-7.72 1.47 1.35L5.41 20z\"/>\n",
              "  </svg>\n",
              "      </button>\n",
              "      \n",
              "  <style>\n",
              "    .colab-df-container {\n",
              "      display:flex;\n",
              "      flex-wrap:wrap;\n",
              "      gap: 12px;\n",
              "    }\n",
              "\n",
              "    .colab-df-convert {\n",
              "      background-color: #E8F0FE;\n",
              "      border: none;\n",
              "      border-radius: 50%;\n",
              "      cursor: pointer;\n",
              "      display: none;\n",
              "      fill: #1967D2;\n",
              "      height: 32px;\n",
              "      padding: 0 0 0 0;\n",
              "      width: 32px;\n",
              "    }\n",
              "\n",
              "    .colab-df-convert:hover {\n",
              "      background-color: #E2EBFA;\n",
              "      box-shadow: 0px 1px 2px rgba(60, 64, 67, 0.3), 0px 1px 3px 1px rgba(60, 64, 67, 0.15);\n",
              "      fill: #174EA6;\n",
              "    }\n",
              "\n",
              "    [theme=dark] .colab-df-convert {\n",
              "      background-color: #3B4455;\n",
              "      fill: #D2E3FC;\n",
              "    }\n",
              "\n",
              "    [theme=dark] .colab-df-convert:hover {\n",
              "      background-color: #434B5C;\n",
              "      box-shadow: 0px 1px 3px 1px rgba(0, 0, 0, 0.15);\n",
              "      filter: drop-shadow(0px 1px 2px rgba(0, 0, 0, 0.3));\n",
              "      fill: #FFFFFF;\n",
              "    }\n",
              "  </style>\n",
              "\n",
              "      <script>\n",
              "        const buttonEl =\n",
<<<<<<< HEAD
<<<<<<< HEAD
              "          document.querySelector('#df-7436097d-09f2-4936-8689-90605622ec2a button.colab-df-convert');\n",
=======
              "          document.querySelector('#df-47c18340-809f-440f-993a-04b44b3a54b4 button.colab-df-convert');\n",
>>>>>>> 8735260d3ca5a4cec4948b7001761cc14fc1cc6e
=======
              "          document.querySelector('#df-47c18340-809f-440f-993a-04b44b3a54b4 button.colab-df-convert');\n",
>>>>>>> 8735260d3ca5a4cec4948b7001761cc14fc1cc6e
              "        buttonEl.style.display =\n",
              "          google.colab.kernel.accessAllowed ? 'block' : 'none';\n",
              "\n",
              "        async function convertToInteractive(key) {\n",
<<<<<<< HEAD
<<<<<<< HEAD
              "          const element = document.querySelector('#df-7436097d-09f2-4936-8689-90605622ec2a');\n",
=======
              "          const element = document.querySelector('#df-47c18340-809f-440f-993a-04b44b3a54b4');\n",
>>>>>>> 8735260d3ca5a4cec4948b7001761cc14fc1cc6e
=======
              "          const element = document.querySelector('#df-47c18340-809f-440f-993a-04b44b3a54b4');\n",
>>>>>>> 8735260d3ca5a4cec4948b7001761cc14fc1cc6e
              "          const dataTable =\n",
              "            await google.colab.kernel.invokeFunction('convertToInteractive',\n",
              "                                                     [key], {});\n",
              "          if (!dataTable) return;\n",
              "\n",
              "          const docLinkHtml = 'Like what you see? Visit the ' +\n",
              "            '<a target=\"_blank\" href=https://colab.research.google.com/notebooks/data_table.ipynb>data table notebook</a>'\n",
              "            + ' to learn more about interactive tables.';\n",
              "          element.innerHTML = '';\n",
              "          dataTable['output_type'] = 'display_data';\n",
              "          await google.colab.output.renderOutput(dataTable, element);\n",
              "          const docLink = document.createElement('div');\n",
              "          docLink.innerHTML = docLinkHtml;\n",
              "          element.appendChild(docLink);\n",
              "        }\n",
              "      </script>\n",
              "    </div>\n",
              "  </div>\n",
              "  "
            ]
          },
          "metadata": {},
<<<<<<< HEAD
<<<<<<< HEAD
          "execution_count": 89
        }
=======
=======
>>>>>>> 8735260d3ca5a4cec4948b7001761cc14fc1cc6e
          "execution_count": 90
        }
      ],
      "source": [
        "train_final.head()"
<<<<<<< HEAD
>>>>>>> 8735260d3ca5a4cec4948b7001761cc14fc1cc6e
=======
>>>>>>> 8735260d3ca5a4cec4948b7001761cc14fc1cc6e
      ]
    },
    {
      "cell_type": "code",
<<<<<<< HEAD
<<<<<<< HEAD
      "source": [
        "train_final['cluster_pca'].unique()"
      ],
      "metadata": {
        "colab": {
          "base_uri": "https://localhost:8080/"
        },
        "id": "PtTBaViwJ1cd",
        "outputId": "928fcc35-b50a-49d5-ef7a-7986d5cc1e96"
      },
      "execution_count": 90,
=======
=======
>>>>>>> 8735260d3ca5a4cec4948b7001761cc14fc1cc6e
      "execution_count": 91,
      "metadata": {
        "id": "PtTBaViwJ1cd",
        "colab": {
          "base_uri": "https://localhost:8080/"
        },
        "outputId": "da120b88-feaf-408a-f7f4-50fdfc7f70d9"
      },
<<<<<<< HEAD
>>>>>>> 8735260d3ca5a4cec4948b7001761cc14fc1cc6e
=======
>>>>>>> 8735260d3ca5a4cec4948b7001761cc14fc1cc6e
      "outputs": [
        {
          "output_type": "execute_result",
          "data": {
            "text/plain": [
<<<<<<< HEAD
<<<<<<< HEAD
              "array([2, 1, 0], dtype=int32)"
            ]
          },
          "metadata": {},
          "execution_count": 90
        }
=======
=======
>>>>>>> 8735260d3ca5a4cec4948b7001761cc14fc1cc6e
              "array([0, 1, 2], dtype=int32)"
            ]
          },
          "metadata": {},
          "execution_count": 91
        }
      ],
      "source": [
        "train_final['cluster_pca'].unique()"
<<<<<<< HEAD
>>>>>>> 8735260d3ca5a4cec4948b7001761cc14fc1cc6e
=======
>>>>>>> 8735260d3ca5a4cec4948b7001761cc14fc1cc6e
      ]
    },
    {
      "cell_type": "code",
<<<<<<< HEAD
<<<<<<< HEAD
      "source": [
        "train_final.loc[train_final['cluster_pca'] == 0].describe()"
      ],
      "metadata": {
        "colab": {
          "base_uri": "https://localhost:8080/",
          "height": 357
        },
        "id": "htG2R3zeJ9Uz",
        "outputId": "d95d4bfe-0468-420d-95e7-88e45b47dc6a"
      },
      "execution_count": 91,
=======
=======
>>>>>>> 8735260d3ca5a4cec4948b7001761cc14fc1cc6e
      "execution_count": 92,
      "metadata": {
        "id": "htG2R3zeJ9Uz",
        "colab": {
          "base_uri": "https://localhost:8080/",
          "height": 364
        },
        "outputId": "5fbd81b2-6154-4e79-f7bf-6372d66d10cb"
      },
<<<<<<< HEAD
>>>>>>> 8735260d3ca5a4cec4948b7001761cc14fc1cc6e
=======
>>>>>>> 8735260d3ca5a4cec4948b7001761cc14fc1cc6e
      "outputs": [
        {
          "output_type": "execute_result",
          "data": {
            "text/plain": [
<<<<<<< HEAD
<<<<<<< HEAD
              "       InscClaimAmtReimbursed  DeductibleAmtPaid   AdmittedDays  \\\n",
              "count           454736.000000      454736.000000  454736.000000   \n",
              "mean               403.204453          37.339577       0.170637   \n",
              "std               1002.583790         189.325185       1.197413   \n",
              "min                  0.000000           0.000000       0.000000   \n",
              "25%                 40.000000           0.000000       0.000000   \n",
              "50%                 80.000000           0.000000       0.000000   \n",
              "75%                300.000000           0.000000       0.000000   \n",
              "max              17300.000000        1068.000000      36.000000   \n",
              "\n",
              "       NoOfMonths_PartACov  NoOfMonths_PartBCov  ChronicCond_Alzheimer  \\\n",
              "count        454736.000000        454736.000000          454736.000000   \n",
              "mean             11.933500            11.939484               0.370879   \n",
              "std               0.877174             0.779485               0.483041   \n",
              "min               0.000000             0.000000               0.000000   \n",
              "25%              12.000000            12.000000               0.000000   \n",
              "50%              12.000000            12.000000               0.000000   \n",
=======
=======
>>>>>>> 8735260d3ca5a4cec4948b7001761cc14fc1cc6e
              "       InscClaimAmtReimbursed  DeductibleAmtPaid  AdmittedDays  \\\n",
              "count            39973.000000       39973.000000  39973.000000   \n",
              "mean             10161.885773        1050.154955      6.688940   \n",
              "std              10404.924757         136.758282      5.670954   \n",
              "min                  0.000000           0.000000      0.000000   \n",
              "25%               4000.000000        1068.000000      3.000000   \n",
              "50%               7000.000000        1068.000000      5.000000   \n",
              "75%              12000.000000        1068.000000      8.000000   \n",
              "max             125000.000000        1068.000000     36.000000   \n",
              "\n",
              "       NoOfMonths_PartACov  NoOfMonths_PartBCov  ChronicCond_Alzheimer  \\\n",
              "count         39973.000000         39973.000000           39973.000000   \n",
              "mean             11.916243            11.923673               0.506042   \n",
              "std               0.983116             0.873692               0.499970   \n",
              "min               0.000000             0.000000               0.000000   \n",
              "25%              12.000000            12.000000               0.000000   \n",
              "50%              12.000000            12.000000               1.000000   \n",
<<<<<<< HEAD
>>>>>>> 8735260d3ca5a4cec4948b7001761cc14fc1cc6e
=======
>>>>>>> 8735260d3ca5a4cec4948b7001761cc14fc1cc6e
              "75%              12.000000            12.000000               1.000000   \n",
              "max              12.000000            12.000000               1.000000   \n",
              "\n",
              "       ChronicCond_Heartfailure  ChronicCond_KidneyDisease  \\\n",
<<<<<<< HEAD
<<<<<<< HEAD
              "count             454736.000000              454736.000000   \n",
              "mean                   0.546205                   0.346073   \n",
              "std                    0.497861                   0.475717   \n",
              "min                    0.000000                   0.000000   \n",
              "25%                    0.000000                   0.000000   \n",
              "50%                    1.000000                   0.000000   \n",
=======
=======
>>>>>>> 8735260d3ca5a4cec4948b7001761cc14fc1cc6e
              "count              39973.000000               39973.000000   \n",
              "mean                   0.724964                   0.604808   \n",
              "std                    0.446538                   0.488898   \n",
              "min                    0.000000                   0.000000   \n",
              "25%                    0.000000                   0.000000   \n",
              "50%                    1.000000                   1.000000   \n",
<<<<<<< HEAD
>>>>>>> 8735260d3ca5a4cec4948b7001761cc14fc1cc6e
=======
>>>>>>> 8735260d3ca5a4cec4948b7001761cc14fc1cc6e
              "75%                    1.000000                   1.000000   \n",
              "max                    1.000000                   1.000000   \n",
              "\n",
              "       ChronicCond_Cancer  ChronicCond_ObstrPulmonary  ChronicCond_Depression  \\\n",
<<<<<<< HEAD
<<<<<<< HEAD
              "count       454736.000000               454736.000000           454736.000000   \n",
              "mean             0.136371                    0.264085                0.410069   \n",
              "std              0.343183                    0.440845                0.491846   \n",
              "min              0.000000                    0.000000                0.000000   \n",
              "25%              0.000000                    0.000000                0.000000   \n",
              "50%              0.000000                    0.000000                0.000000   \n",
=======
=======
>>>>>>> 8735260d3ca5a4cec4948b7001761cc14fc1cc6e
              "count        39973.000000                39973.000000            39973.000000   \n",
              "mean             0.192055                    0.480950                0.503240   \n",
              "std              0.393921                    0.499643                0.499996   \n",
              "min              0.000000                    0.000000                0.000000   \n",
              "25%              0.000000                    0.000000                0.000000   \n",
              "50%              0.000000                    0.000000                1.000000   \n",
<<<<<<< HEAD
>>>>>>> 8735260d3ca5a4cec4948b7001761cc14fc1cc6e
=======
>>>>>>> 8735260d3ca5a4cec4948b7001761cc14fc1cc6e
              "75%              0.000000                    1.000000                1.000000   \n",
              "max              1.000000                    1.000000                1.000000   \n",
              "\n",
              "       ChronicCond_Diabetes  ChronicCond_IschemicHeart  \\\n",
<<<<<<< HEAD
<<<<<<< HEAD
              "count         454736.000000              454736.000000   \n",
              "mean               0.669927                   0.727083   \n",
              "std                0.470240                   0.445459   \n",
              "min                0.000000                   0.000000   \n",
              "25%                0.000000                   0.000000   \n",
=======
=======
>>>>>>> 8735260d3ca5a4cec4948b7001761cc14fc1cc6e
              "count          39973.000000               39973.000000   \n",
              "mean               0.804518                   0.858680   \n",
              "std                0.396576                   0.348356   \n",
              "min                0.000000                   0.000000   \n",
              "25%                1.000000                   1.000000   \n",
<<<<<<< HEAD
>>>>>>> 8735260d3ca5a4cec4948b7001761cc14fc1cc6e
=======
>>>>>>> 8735260d3ca5a4cec4948b7001761cc14fc1cc6e
              "50%                1.000000                   1.000000   \n",
              "75%                1.000000                   1.000000   \n",
              "max                1.000000                   1.000000   \n",
              "\n",
              "       ChronicCond_Osteoporasis  ChronicCond_rheumatoidarthritis  \\\n",
<<<<<<< HEAD
<<<<<<< HEAD
              "count             454736.000000                    454736.000000   \n",
              "mean                   0.304133                         0.290254   \n",
              "std                    0.460040                         0.453880   \n",
=======
              "count              39973.000000                     39973.000000   \n",
              "mean                   0.352963                         0.361319   \n",
              "std                    0.477897                         0.480389   \n",
>>>>>>> 8735260d3ca5a4cec4948b7001761cc14fc1cc6e
=======
              "count              39973.000000                     39973.000000   \n",
              "mean                   0.352963                         0.361319   \n",
              "std                    0.477897                         0.480389   \n",
>>>>>>> 8735260d3ca5a4cec4948b7001761cc14fc1cc6e
              "min                    0.000000                         0.000000   \n",
              "25%                    0.000000                         0.000000   \n",
              "50%                    0.000000                         0.000000   \n",
              "75%                    1.000000                         1.000000   \n",
              "max                    1.000000                         1.000000   \n",
              "\n",
              "       ChronicCond_stroke  IPAnnualReimbursementAmt  IPAnnualDeductibleAmt  \\\n",
<<<<<<< HEAD
<<<<<<< HEAD
              "count       454736.000000             454736.000000          454736.000000   \n",
              "mean             0.082595                974.399080             227.814675   \n",
              "std              0.275270               2258.989144             593.321213   \n",
              "min              0.000000              -8000.000000               0.000000   \n",
              "25%              0.000000                  0.000000               0.000000   \n",
              "50%              0.000000                  0.000000               0.000000   \n",
              "75%              0.000000                  0.000000               0.000000   \n",
              "max              1.000000               9840.000000           36136.000000   \n",
              "\n",
              "       OPAnnualReimbursementAmt  OPAnnualDeductibleAmt            Age  \\\n",
              "count             454736.000000          454736.000000  454736.000000   \n",
              "mean                1973.221496             572.275672      83.593975   \n",
              "std                 3039.931706             813.936374      12.982495   \n",
              "min                  -60.000000               0.000000      36.000000   \n",
              "25%                  440.000000             120.000000      78.000000   \n",
              "50%                 1100.000000             320.000000      84.000000   \n",
              "75%                 2410.000000             730.000000      92.000000   \n",
              "max                44750.000000           13040.000000     111.000000   \n",
              "\n",
              "           DeadOrNot       Gender_2         Race_2         Race_3  \\\n",
              "count  454736.000000  454736.000000  454736.000000  454736.000000   \n",
              "mean        0.007692       0.577792       0.098517       0.036006   \n",
              "std         0.087368       0.493912       0.298012       0.186304   \n",
              "min         0.000000       0.000000       0.000000       0.000000   \n",
              "25%         0.000000       0.000000       0.000000       0.000000   \n",
              "50%         0.000000       1.000000       0.000000       0.000000   \n",
              "75%         0.000000       1.000000       0.000000       0.000000   \n",
              "max         1.000000       1.000000       1.000000       1.000000   \n",
              "\n",
              "              Race_5  cluster_pca  \n",
              "count  454736.000000     454736.0  \n",
              "mean        0.021470          0.0  \n",
              "std         0.144944          0.0  \n",
              "min         0.000000          0.0  \n",
              "25%         0.000000          0.0  \n",
              "50%         0.000000          0.0  \n",
              "75%         0.000000          0.0  \n",
              "max         1.000000          0.0  "
            ],
            "text/html": [
              "\n",
              "  <div id=\"df-1a30ff6e-1349-4c94-9f83-4d56045cced2\">\n",
=======
=======
>>>>>>> 8735260d3ca5a4cec4948b7001761cc14fc1cc6e
              "count        39973.000000              39973.000000           39973.000000   \n",
              "mean             0.169815              17698.293348            1997.632252   \n",
              "std              0.375475              17790.629144            2345.749583   \n",
              "min              0.000000                  0.000000               0.000000   \n",
              "25%              0.000000               6000.000000            1068.000000   \n",
              "50%              0.000000              12000.000000            1068.000000   \n",
              "75%              0.000000              22080.000000            2136.000000   \n",
              "max              1.000000             161470.000000           38272.000000   \n",
              "\n",
              "       OPAnnualReimbursementAmt  OPAnnualDeductibleAmt           Age  \\\n",
              "count              39973.000000           39973.000000  39973.000000   \n",
              "mean                1904.966352             528.353263     84.056463   \n",
              "std                 4089.560853             940.068801     13.209149   \n",
              "min                  -70.000000               0.000000     36.000000   \n",
              "25%                  190.000000              40.000000     78.000000   \n",
              "50%                  740.000000             220.000000     85.000000   \n",
              "75%                 2020.000000             610.000000     93.000000   \n",
              "max               102960.000000           13840.000000    111.000000   \n",
              "\n",
              "          DeadOrNot      Gender_2        Race_2        Race_3        Race_5  \\\n",
              "count  39973.000000  39973.000000  39973.000000  39973.000000  39973.000000   \n",
              "mean       0.007855      0.573962      0.103820      0.033823      0.019338   \n",
              "std        0.088282      0.494505      0.305031      0.180775      0.137712   \n",
              "min        0.000000      0.000000      0.000000      0.000000      0.000000   \n",
              "25%        0.000000      0.000000      0.000000      0.000000      0.000000   \n",
              "50%        0.000000      1.000000      0.000000      0.000000      0.000000   \n",
              "75%        0.000000      1.000000      0.000000      0.000000      0.000000   \n",
              "max        1.000000      1.000000      1.000000      1.000000      1.000000   \n",
              "\n",
              "       cluster_pca  \n",
              "count      39973.0  \n",
              "mean           0.0  \n",
              "std            0.0  \n",
              "min            0.0  \n",
              "25%            0.0  \n",
              "50%            0.0  \n",
              "75%            0.0  \n",
              "max            0.0  "
            ],
            "text/html": [
              "\n",
              "  <div id=\"df-436e03ba-89f7-471b-9575-d689a58f3be3\">\n",
<<<<<<< HEAD
>>>>>>> 8735260d3ca5a4cec4948b7001761cc14fc1cc6e
=======
>>>>>>> 8735260d3ca5a4cec4948b7001761cc14fc1cc6e
              "    <div class=\"colab-df-container\">\n",
              "      <div>\n",
              "<style scoped>\n",
              "    .dataframe tbody tr th:only-of-type {\n",
              "        vertical-align: middle;\n",
              "    }\n",
              "\n",
              "    .dataframe tbody tr th {\n",
              "        vertical-align: top;\n",
              "    }\n",
              "\n",
              "    .dataframe thead th {\n",
              "        text-align: right;\n",
              "    }\n",
              "</style>\n",
              "<table border=\"1\" class=\"dataframe\">\n",
              "  <thead>\n",
              "    <tr style=\"text-align: right;\">\n",
              "      <th></th>\n",
              "      <th>InscClaimAmtReimbursed</th>\n",
              "      <th>DeductibleAmtPaid</th>\n",
              "      <th>AdmittedDays</th>\n",
              "      <th>NoOfMonths_PartACov</th>\n",
              "      <th>NoOfMonths_PartBCov</th>\n",
              "      <th>ChronicCond_Alzheimer</th>\n",
              "      <th>ChronicCond_Heartfailure</th>\n",
              "      <th>ChronicCond_KidneyDisease</th>\n",
              "      <th>ChronicCond_Cancer</th>\n",
              "      <th>ChronicCond_ObstrPulmonary</th>\n",
              "      <th>ChronicCond_Depression</th>\n",
              "      <th>ChronicCond_Diabetes</th>\n",
              "      <th>ChronicCond_IschemicHeart</th>\n",
              "      <th>ChronicCond_Osteoporasis</th>\n",
              "      <th>ChronicCond_rheumatoidarthritis</th>\n",
              "      <th>ChronicCond_stroke</th>\n",
              "      <th>IPAnnualReimbursementAmt</th>\n",
              "      <th>IPAnnualDeductibleAmt</th>\n",
              "      <th>OPAnnualReimbursementAmt</th>\n",
              "      <th>OPAnnualDeductibleAmt</th>\n",
              "      <th>Age</th>\n",
              "      <th>DeadOrNot</th>\n",
              "      <th>Gender_2</th>\n",
              "      <th>Race_2</th>\n",
              "      <th>Race_3</th>\n",
              "      <th>Race_5</th>\n",
              "      <th>cluster_pca</th>\n",
              "    </tr>\n",
              "  </thead>\n",
              "  <tbody>\n",
              "    <tr>\n",
              "      <th>count</th>\n",
<<<<<<< HEAD
<<<<<<< HEAD
              "      <td>454736.000000</td>\n",
              "      <td>454736.000000</td>\n",
              "      <td>454736.000000</td>\n",
              "      <td>454736.000000</td>\n",
              "      <td>454736.000000</td>\n",
              "      <td>454736.000000</td>\n",
              "      <td>454736.000000</td>\n",
              "      <td>454736.000000</td>\n",
              "      <td>454736.000000</td>\n",
              "      <td>454736.000000</td>\n",
              "      <td>454736.000000</td>\n",
              "      <td>454736.000000</td>\n",
              "      <td>454736.000000</td>\n",
              "      <td>454736.000000</td>\n",
              "      <td>454736.000000</td>\n",
              "      <td>454736.000000</td>\n",
              "      <td>454736.000000</td>\n",
              "      <td>454736.000000</td>\n",
              "      <td>454736.000000</td>\n",
              "      <td>454736.000000</td>\n",
              "      <td>454736.000000</td>\n",
              "      <td>454736.000000</td>\n",
              "      <td>454736.000000</td>\n",
              "      <td>454736.000000</td>\n",
              "      <td>454736.000000</td>\n",
              "      <td>454736.000000</td>\n",
              "      <td>454736.0</td>\n",
              "    </tr>\n",
              "    <tr>\n",
              "      <th>mean</th>\n",
              "      <td>403.204453</td>\n",
              "      <td>37.339577</td>\n",
              "      <td>0.170637</td>\n",
              "      <td>11.933500</td>\n",
              "      <td>11.939484</td>\n",
              "      <td>0.370879</td>\n",
              "      <td>0.546205</td>\n",
              "      <td>0.346073</td>\n",
              "      <td>0.136371</td>\n",
              "      <td>0.264085</td>\n",
              "      <td>0.410069</td>\n",
              "      <td>0.669927</td>\n",
              "      <td>0.727083</td>\n",
              "      <td>0.304133</td>\n",
              "      <td>0.290254</td>\n",
              "      <td>0.082595</td>\n",
              "      <td>974.399080</td>\n",
              "      <td>227.814675</td>\n",
              "      <td>1973.221496</td>\n",
              "      <td>572.275672</td>\n",
              "      <td>83.593975</td>\n",
              "      <td>0.007692</td>\n",
              "      <td>0.577792</td>\n",
              "      <td>0.098517</td>\n",
              "      <td>0.036006</td>\n",
              "      <td>0.021470</td>\n",
=======
=======
>>>>>>> 8735260d3ca5a4cec4948b7001761cc14fc1cc6e
              "      <td>39973.000000</td>\n",
              "      <td>39973.000000</td>\n",
              "      <td>39973.000000</td>\n",
              "      <td>39973.000000</td>\n",
              "      <td>39973.000000</td>\n",
              "      <td>39973.000000</td>\n",
              "      <td>39973.000000</td>\n",
              "      <td>39973.000000</td>\n",
              "      <td>39973.000000</td>\n",
              "      <td>39973.000000</td>\n",
              "      <td>39973.000000</td>\n",
              "      <td>39973.000000</td>\n",
              "      <td>39973.000000</td>\n",
              "      <td>39973.000000</td>\n",
              "      <td>39973.000000</td>\n",
              "      <td>39973.000000</td>\n",
              "      <td>39973.000000</td>\n",
              "      <td>39973.000000</td>\n",
              "      <td>39973.000000</td>\n",
              "      <td>39973.000000</td>\n",
              "      <td>39973.000000</td>\n",
              "      <td>39973.000000</td>\n",
              "      <td>39973.000000</td>\n",
              "      <td>39973.000000</td>\n",
              "      <td>39973.000000</td>\n",
              "      <td>39973.000000</td>\n",
              "      <td>39973.0</td>\n",
              "    </tr>\n",
              "    <tr>\n",
              "      <th>mean</th>\n",
              "      <td>10161.885773</td>\n",
              "      <td>1050.154955</td>\n",
              "      <td>6.688940</td>\n",
              "      <td>11.916243</td>\n",
              "      <td>11.923673</td>\n",
              "      <td>0.506042</td>\n",
              "      <td>0.724964</td>\n",
              "      <td>0.604808</td>\n",
              "      <td>0.192055</td>\n",
              "      <td>0.480950</td>\n",
              "      <td>0.503240</td>\n",
              "      <td>0.804518</td>\n",
              "      <td>0.858680</td>\n",
              "      <td>0.352963</td>\n",
              "      <td>0.361319</td>\n",
              "      <td>0.169815</td>\n",
              "      <td>17698.293348</td>\n",
              "      <td>1997.632252</td>\n",
              "      <td>1904.966352</td>\n",
              "      <td>528.353263</td>\n",
              "      <td>84.056463</td>\n",
              "      <td>0.007855</td>\n",
              "      <td>0.573962</td>\n",
              "      <td>0.103820</td>\n",
              "      <td>0.033823</td>\n",
              "      <td>0.019338</td>\n",
<<<<<<< HEAD
>>>>>>> 8735260d3ca5a4cec4948b7001761cc14fc1cc6e
=======
>>>>>>> 8735260d3ca5a4cec4948b7001761cc14fc1cc6e
              "      <td>0.0</td>\n",
              "    </tr>\n",
              "    <tr>\n",
              "      <th>std</th>\n",
<<<<<<< HEAD
<<<<<<< HEAD
              "      <td>1002.583790</td>\n",
              "      <td>189.325185</td>\n",
              "      <td>1.197413</td>\n",
              "      <td>0.877174</td>\n",
              "      <td>0.779485</td>\n",
              "      <td>0.483041</td>\n",
              "      <td>0.497861</td>\n",
              "      <td>0.475717</td>\n",
              "      <td>0.343183</td>\n",
              "      <td>0.440845</td>\n",
              "      <td>0.491846</td>\n",
              "      <td>0.470240</td>\n",
              "      <td>0.445459</td>\n",
              "      <td>0.460040</td>\n",
              "      <td>0.453880</td>\n",
              "      <td>0.275270</td>\n",
              "      <td>2258.989144</td>\n",
              "      <td>593.321213</td>\n",
              "      <td>3039.931706</td>\n",
              "      <td>813.936374</td>\n",
              "      <td>12.982495</td>\n",
              "      <td>0.087368</td>\n",
              "      <td>0.493912</td>\n",
              "      <td>0.298012</td>\n",
              "      <td>0.186304</td>\n",
              "      <td>0.144944</td>\n",
=======
=======
>>>>>>> 8735260d3ca5a4cec4948b7001761cc14fc1cc6e
              "      <td>10404.924757</td>\n",
              "      <td>136.758282</td>\n",
              "      <td>5.670954</td>\n",
              "      <td>0.983116</td>\n",
              "      <td>0.873692</td>\n",
              "      <td>0.499970</td>\n",
              "      <td>0.446538</td>\n",
              "      <td>0.488898</td>\n",
              "      <td>0.393921</td>\n",
              "      <td>0.499643</td>\n",
              "      <td>0.499996</td>\n",
              "      <td>0.396576</td>\n",
              "      <td>0.348356</td>\n",
              "      <td>0.477897</td>\n",
              "      <td>0.480389</td>\n",
              "      <td>0.375475</td>\n",
              "      <td>17790.629144</td>\n",
              "      <td>2345.749583</td>\n",
              "      <td>4089.560853</td>\n",
              "      <td>940.068801</td>\n",
              "      <td>13.209149</td>\n",
              "      <td>0.088282</td>\n",
              "      <td>0.494505</td>\n",
              "      <td>0.305031</td>\n",
              "      <td>0.180775</td>\n",
              "      <td>0.137712</td>\n",
<<<<<<< HEAD
>>>>>>> 8735260d3ca5a4cec4948b7001761cc14fc1cc6e
=======
>>>>>>> 8735260d3ca5a4cec4948b7001761cc14fc1cc6e
              "      <td>0.0</td>\n",
              "    </tr>\n",
              "    <tr>\n",
              "      <th>min</th>\n",
              "      <td>0.000000</td>\n",
              "      <td>0.000000</td>\n",
              "      <td>0.000000</td>\n",
              "      <td>0.000000</td>\n",
              "      <td>0.000000</td>\n",
              "      <td>0.000000</td>\n",
              "      <td>0.000000</td>\n",
              "      <td>0.000000</td>\n",
              "      <td>0.000000</td>\n",
              "      <td>0.000000</td>\n",
              "      <td>0.000000</td>\n",
              "      <td>0.000000</td>\n",
              "      <td>0.000000</td>\n",
              "      <td>0.000000</td>\n",
              "      <td>0.000000</td>\n",
              "      <td>0.000000</td>\n",
<<<<<<< HEAD
<<<<<<< HEAD
              "      <td>-8000.000000</td>\n",
              "      <td>0.000000</td>\n",
              "      <td>-60.000000</td>\n",
=======
              "      <td>0.000000</td>\n",
              "      <td>0.000000</td>\n",
              "      <td>-70.000000</td>\n",
>>>>>>> 8735260d3ca5a4cec4948b7001761cc14fc1cc6e
=======
              "      <td>0.000000</td>\n",
              "      <td>0.000000</td>\n",
              "      <td>-70.000000</td>\n",
>>>>>>> 8735260d3ca5a4cec4948b7001761cc14fc1cc6e
              "      <td>0.000000</td>\n",
              "      <td>36.000000</td>\n",
              "      <td>0.000000</td>\n",
              "      <td>0.000000</td>\n",
              "      <td>0.000000</td>\n",
              "      <td>0.000000</td>\n",
              "      <td>0.000000</td>\n",
              "      <td>0.0</td>\n",
              "    </tr>\n",
              "    <tr>\n",
              "      <th>25%</th>\n",
<<<<<<< HEAD
<<<<<<< HEAD
              "      <td>40.000000</td>\n",
              "      <td>0.000000</td>\n",
              "      <td>0.000000</td>\n",
=======
              "      <td>4000.000000</td>\n",
              "      <td>1068.000000</td>\n",
              "      <td>3.000000</td>\n",
>>>>>>> 8735260d3ca5a4cec4948b7001761cc14fc1cc6e
              "      <td>12.000000</td>\n",
              "      <td>12.000000</td>\n",
              "      <td>0.000000</td>\n",
              "      <td>0.000000</td>\n",
              "      <td>0.000000</td>\n",
              "      <td>0.000000</td>\n",
              "      <td>0.000000</td>\n",
              "      <td>0.000000</td>\n",
<<<<<<< HEAD
              "      <td>0.000000</td>\n",
=======
              "      <td>4000.000000</td>\n",
              "      <td>1068.000000</td>\n",
              "      <td>3.000000</td>\n",
              "      <td>12.000000</td>\n",
              "      <td>12.000000</td>\n",
>>>>>>> 8735260d3ca5a4cec4948b7001761cc14fc1cc6e
              "      <td>0.000000</td>\n",
              "      <td>0.000000</td>\n",
              "      <td>0.000000</td>\n",
              "      <td>0.000000</td>\n",
              "      <td>0.000000</td>\n",
              "      <td>0.000000</td>\n",
<<<<<<< HEAD
              "      <td>440.000000</td>\n",
              "      <td>120.000000</td>\n",
=======
=======
>>>>>>> 8735260d3ca5a4cec4948b7001761cc14fc1cc6e
              "      <td>1.000000</td>\n",
              "      <td>1.000000</td>\n",
              "      <td>0.000000</td>\n",
              "      <td>0.000000</td>\n",
              "      <td>0.000000</td>\n",
              "      <td>6000.000000</td>\n",
              "      <td>1068.000000</td>\n",
              "      <td>190.000000</td>\n",
              "      <td>40.000000</td>\n",
<<<<<<< HEAD
>>>>>>> 8735260d3ca5a4cec4948b7001761cc14fc1cc6e
=======
>>>>>>> 8735260d3ca5a4cec4948b7001761cc14fc1cc6e
              "      <td>78.000000</td>\n",
              "      <td>0.000000</td>\n",
              "      <td>0.000000</td>\n",
              "      <td>0.000000</td>\n",
              "      <td>0.000000</td>\n",
              "      <td>0.000000</td>\n",
              "      <td>0.0</td>\n",
              "    </tr>\n",
              "    <tr>\n",
              "      <th>50%</th>\n",
<<<<<<< HEAD
<<<<<<< HEAD
              "      <td>80.000000</td>\n",
              "      <td>0.000000</td>\n",
              "      <td>0.000000</td>\n",
              "      <td>12.000000</td>\n",
              "      <td>12.000000</td>\n",
              "      <td>0.000000</td>\n",
              "      <td>1.000000</td>\n",
              "      <td>0.000000</td>\n",
              "      <td>0.000000</td>\n",
              "      <td>0.000000</td>\n",
              "      <td>0.000000</td>\n",
=======
=======
>>>>>>> 8735260d3ca5a4cec4948b7001761cc14fc1cc6e
              "      <td>7000.000000</td>\n",
              "      <td>1068.000000</td>\n",
              "      <td>5.000000</td>\n",
              "      <td>12.000000</td>\n",
              "      <td>12.000000</td>\n",
              "      <td>1.000000</td>\n",
<<<<<<< HEAD
>>>>>>> 8735260d3ca5a4cec4948b7001761cc14fc1cc6e
=======
>>>>>>> 8735260d3ca5a4cec4948b7001761cc14fc1cc6e
              "      <td>1.000000</td>\n",
              "      <td>1.000000</td>\n",
              "      <td>0.000000</td>\n",
              "      <td>0.000000</td>\n",
<<<<<<< HEAD
<<<<<<< HEAD
              "      <td>0.000000</td>\n",
              "      <td>0.000000</td>\n",
              "      <td>0.000000</td>\n",
              "      <td>1100.000000</td>\n",
              "      <td>320.000000</td>\n",
              "      <td>84.000000</td>\n",
=======
=======
>>>>>>> 8735260d3ca5a4cec4948b7001761cc14fc1cc6e
              "      <td>1.000000</td>\n",
              "      <td>1.000000</td>\n",
              "      <td>1.000000</td>\n",
              "      <td>0.000000</td>\n",
              "      <td>0.000000</td>\n",
              "      <td>0.000000</td>\n",
              "      <td>12000.000000</td>\n",
              "      <td>1068.000000</td>\n",
              "      <td>740.000000</td>\n",
              "      <td>220.000000</td>\n",
              "      <td>85.000000</td>\n",
<<<<<<< HEAD
>>>>>>> 8735260d3ca5a4cec4948b7001761cc14fc1cc6e
=======
>>>>>>> 8735260d3ca5a4cec4948b7001761cc14fc1cc6e
              "      <td>0.000000</td>\n",
              "      <td>1.000000</td>\n",
              "      <td>0.000000</td>\n",
              "      <td>0.000000</td>\n",
              "      <td>0.000000</td>\n",
              "      <td>0.0</td>\n",
              "    </tr>\n",
              "    <tr>\n",
              "      <th>75%</th>\n",
<<<<<<< HEAD
<<<<<<< HEAD
              "      <td>300.000000</td>\n",
              "      <td>0.000000</td>\n",
              "      <td>0.000000</td>\n",
=======
              "      <td>12000.000000</td>\n",
              "      <td>1068.000000</td>\n",
              "      <td>8.000000</td>\n",
>>>>>>> 8735260d3ca5a4cec4948b7001761cc14fc1cc6e
=======
              "      <td>12000.000000</td>\n",
              "      <td>1068.000000</td>\n",
              "      <td>8.000000</td>\n",
>>>>>>> 8735260d3ca5a4cec4948b7001761cc14fc1cc6e
              "      <td>12.000000</td>\n",
              "      <td>12.000000</td>\n",
              "      <td>1.000000</td>\n",
              "      <td>1.000000</td>\n",
              "      <td>1.000000</td>\n",
              "      <td>0.000000</td>\n",
              "      <td>1.000000</td>\n",
              "      <td>1.000000</td>\n",
              "      <td>1.000000</td>\n",
              "      <td>1.000000</td>\n",
              "      <td>1.000000</td>\n",
              "      <td>1.000000</td>\n",
              "      <td>0.000000</td>\n",
<<<<<<< HEAD
<<<<<<< HEAD
              "      <td>0.000000</td>\n",
              "      <td>0.000000</td>\n",
              "      <td>2410.000000</td>\n",
              "      <td>730.000000</td>\n",
              "      <td>92.000000</td>\n",
=======
=======
>>>>>>> 8735260d3ca5a4cec4948b7001761cc14fc1cc6e
              "      <td>22080.000000</td>\n",
              "      <td>2136.000000</td>\n",
              "      <td>2020.000000</td>\n",
              "      <td>610.000000</td>\n",
              "      <td>93.000000</td>\n",
<<<<<<< HEAD
>>>>>>> 8735260d3ca5a4cec4948b7001761cc14fc1cc6e
=======
>>>>>>> 8735260d3ca5a4cec4948b7001761cc14fc1cc6e
              "      <td>0.000000</td>\n",
              "      <td>1.000000</td>\n",
              "      <td>0.000000</td>\n",
              "      <td>0.000000</td>\n",
              "      <td>0.000000</td>\n",
              "      <td>0.0</td>\n",
              "    </tr>\n",
              "    <tr>\n",
              "      <th>max</th>\n",
<<<<<<< HEAD
<<<<<<< HEAD
              "      <td>17300.000000</td>\n",
=======
              "      <td>125000.000000</td>\n",
>>>>>>> 8735260d3ca5a4cec4948b7001761cc14fc1cc6e
=======
              "      <td>125000.000000</td>\n",
>>>>>>> 8735260d3ca5a4cec4948b7001761cc14fc1cc6e
              "      <td>1068.000000</td>\n",
              "      <td>36.000000</td>\n",
              "      <td>12.000000</td>\n",
              "      <td>12.000000</td>\n",
              "      <td>1.000000</td>\n",
              "      <td>1.000000</td>\n",
              "      <td>1.000000</td>\n",
              "      <td>1.000000</td>\n",
              "      <td>1.000000</td>\n",
              "      <td>1.000000</td>\n",
              "      <td>1.000000</td>\n",
              "      <td>1.000000</td>\n",
              "      <td>1.000000</td>\n",
              "      <td>1.000000</td>\n",
              "      <td>1.000000</td>\n",
<<<<<<< HEAD
<<<<<<< HEAD
              "      <td>9840.000000</td>\n",
              "      <td>36136.000000</td>\n",
              "      <td>44750.000000</td>\n",
              "      <td>13040.000000</td>\n",
=======
=======
>>>>>>> 8735260d3ca5a4cec4948b7001761cc14fc1cc6e
              "      <td>161470.000000</td>\n",
              "      <td>38272.000000</td>\n",
              "      <td>102960.000000</td>\n",
              "      <td>13840.000000</td>\n",
<<<<<<< HEAD
>>>>>>> 8735260d3ca5a4cec4948b7001761cc14fc1cc6e
=======
>>>>>>> 8735260d3ca5a4cec4948b7001761cc14fc1cc6e
              "      <td>111.000000</td>\n",
              "      <td>1.000000</td>\n",
              "      <td>1.000000</td>\n",
              "      <td>1.000000</td>\n",
              "      <td>1.000000</td>\n",
              "      <td>1.000000</td>\n",
              "      <td>0.0</td>\n",
              "    </tr>\n",
              "  </tbody>\n",
              "</table>\n",
              "</div>\n",
<<<<<<< HEAD
<<<<<<< HEAD
              "      <button class=\"colab-df-convert\" onclick=\"convertToInteractive('df-1a30ff6e-1349-4c94-9f83-4d56045cced2')\"\n",
=======
              "      <button class=\"colab-df-convert\" onclick=\"convertToInteractive('df-436e03ba-89f7-471b-9575-d689a58f3be3')\"\n",
>>>>>>> 8735260d3ca5a4cec4948b7001761cc14fc1cc6e
=======
              "      <button class=\"colab-df-convert\" onclick=\"convertToInteractive('df-436e03ba-89f7-471b-9575-d689a58f3be3')\"\n",
>>>>>>> 8735260d3ca5a4cec4948b7001761cc14fc1cc6e
              "              title=\"Convert this dataframe to an interactive table.\"\n",
              "              style=\"display:none;\">\n",
              "        \n",
              "  <svg xmlns=\"http://www.w3.org/2000/svg\" height=\"24px\"viewBox=\"0 0 24 24\"\n",
              "       width=\"24px\">\n",
              "    <path d=\"M0 0h24v24H0V0z\" fill=\"none\"/>\n",
              "    <path d=\"M18.56 5.44l.94 2.06.94-2.06 2.06-.94-2.06-.94-.94-2.06-.94 2.06-2.06.94zm-11 1L8.5 8.5l.94-2.06 2.06-.94-2.06-.94L8.5 2.5l-.94 2.06-2.06.94zm10 10l.94 2.06.94-2.06 2.06-.94-2.06-.94-.94-2.06-.94 2.06-2.06.94z\"/><path d=\"M17.41 7.96l-1.37-1.37c-.4-.4-.92-.59-1.43-.59-.52 0-1.04.2-1.43.59L10.3 9.45l-7.72 7.72c-.78.78-.78 2.05 0 2.83L4 21.41c.39.39.9.59 1.41.59.51 0 1.02-.2 1.41-.59l7.78-7.78 2.81-2.81c.8-.78.8-2.07 0-2.86zM5.41 20L4 18.59l7.72-7.72 1.47 1.35L5.41 20z\"/>\n",
              "  </svg>\n",
              "      </button>\n",
              "      \n",
              "  <style>\n",
              "    .colab-df-container {\n",
              "      display:flex;\n",
              "      flex-wrap:wrap;\n",
              "      gap: 12px;\n",
              "    }\n",
              "\n",
              "    .colab-df-convert {\n",
              "      background-color: #E8F0FE;\n",
              "      border: none;\n",
              "      border-radius: 50%;\n",
              "      cursor: pointer;\n",
              "      display: none;\n",
              "      fill: #1967D2;\n",
              "      height: 32px;\n",
              "      padding: 0 0 0 0;\n",
              "      width: 32px;\n",
              "    }\n",
              "\n",
              "    .colab-df-convert:hover {\n",
              "      background-color: #E2EBFA;\n",
              "      box-shadow: 0px 1px 2px rgba(60, 64, 67, 0.3), 0px 1px 3px 1px rgba(60, 64, 67, 0.15);\n",
              "      fill: #174EA6;\n",
              "    }\n",
              "\n",
              "    [theme=dark] .colab-df-convert {\n",
              "      background-color: #3B4455;\n",
              "      fill: #D2E3FC;\n",
              "    }\n",
              "\n",
              "    [theme=dark] .colab-df-convert:hover {\n",
              "      background-color: #434B5C;\n",
              "      box-shadow: 0px 1px 3px 1px rgba(0, 0, 0, 0.15);\n",
              "      filter: drop-shadow(0px 1px 2px rgba(0, 0, 0, 0.3));\n",
              "      fill: #FFFFFF;\n",
              "    }\n",
              "  </style>\n",
              "\n",
              "      <script>\n",
              "        const buttonEl =\n",
<<<<<<< HEAD
<<<<<<< HEAD
              "          document.querySelector('#df-1a30ff6e-1349-4c94-9f83-4d56045cced2 button.colab-df-convert');\n",
=======
              "          document.querySelector('#df-436e03ba-89f7-471b-9575-d689a58f3be3 button.colab-df-convert');\n",
>>>>>>> 8735260d3ca5a4cec4948b7001761cc14fc1cc6e
=======
              "          document.querySelector('#df-436e03ba-89f7-471b-9575-d689a58f3be3 button.colab-df-convert');\n",
>>>>>>> 8735260d3ca5a4cec4948b7001761cc14fc1cc6e
              "        buttonEl.style.display =\n",
              "          google.colab.kernel.accessAllowed ? 'block' : 'none';\n",
              "\n",
              "        async function convertToInteractive(key) {\n",
<<<<<<< HEAD
<<<<<<< HEAD
              "          const element = document.querySelector('#df-1a30ff6e-1349-4c94-9f83-4d56045cced2');\n",
=======
              "          const element = document.querySelector('#df-436e03ba-89f7-471b-9575-d689a58f3be3');\n",
>>>>>>> 8735260d3ca5a4cec4948b7001761cc14fc1cc6e
=======
              "          const element = document.querySelector('#df-436e03ba-89f7-471b-9575-d689a58f3be3');\n",
>>>>>>> 8735260d3ca5a4cec4948b7001761cc14fc1cc6e
              "          const dataTable =\n",
              "            await google.colab.kernel.invokeFunction('convertToInteractive',\n",
              "                                                     [key], {});\n",
              "          if (!dataTable) return;\n",
              "\n",
              "          const docLinkHtml = 'Like what you see? Visit the ' +\n",
              "            '<a target=\"_blank\" href=https://colab.research.google.com/notebooks/data_table.ipynb>data table notebook</a>'\n",
              "            + ' to learn more about interactive tables.';\n",
              "          element.innerHTML = '';\n",
              "          dataTable['output_type'] = 'display_data';\n",
              "          await google.colab.output.renderOutput(dataTable, element);\n",
              "          const docLink = document.createElement('div');\n",
              "          docLink.innerHTML = docLinkHtml;\n",
              "          element.appendChild(docLink);\n",
              "        }\n",
              "      </script>\n",
              "    </div>\n",
              "  </div>\n",
              "  "
            ]
          },
          "metadata": {},
<<<<<<< HEAD
<<<<<<< HEAD
          "execution_count": 91
        }
=======
=======
>>>>>>> 8735260d3ca5a4cec4948b7001761cc14fc1cc6e
          "execution_count": 92
        }
      ],
      "source": [
        "train_final.loc[train_final['cluster_pca'] == 0].describe()"
<<<<<<< HEAD
>>>>>>> 8735260d3ca5a4cec4948b7001761cc14fc1cc6e
=======
>>>>>>> 8735260d3ca5a4cec4948b7001761cc14fc1cc6e
      ]
    },
    {
      "cell_type": "code",
<<<<<<< HEAD
<<<<<<< HEAD
      "source": [
        "train_final.loc[train_final['cluster_pca'] == 1].describe()\n"
      ],
      "metadata": {
        "colab": {
          "base_uri": "https://localhost:8080/",
          "height": 357
        },
        "id": "FR7-9nMqKDoo",
        "outputId": "52d68fe9-3c9b-4356-f7a6-14cef8e26597"
      },
      "execution_count": 92,
=======
=======
>>>>>>> 8735260d3ca5a4cec4948b7001761cc14fc1cc6e
      "execution_count": 93,
      "metadata": {
        "id": "FR7-9nMqKDoo",
        "colab": {
          "base_uri": "https://localhost:8080/",
          "height": 364
        },
        "outputId": "c1f4b0d6-d1d6-43c2-ae00-ad769a680030"
      },
<<<<<<< HEAD
>>>>>>> 8735260d3ca5a4cec4948b7001761cc14fc1cc6e
=======
>>>>>>> 8735260d3ca5a4cec4948b7001761cc14fc1cc6e
      "outputs": [
        {
          "output_type": "execute_result",
          "data": {
            "text/plain": [
<<<<<<< HEAD
<<<<<<< HEAD
              "       InscClaimAmtReimbursed  DeductibleAmtPaid  AdmittedDays  \\\n",
              "count            87088.000000       87088.000000  87088.000000   \n",
              "mean              2840.121371         250.774297      1.657209   \n",
              "std               5380.765130         450.510881      3.991277   \n",
              "min                  0.000000           0.000000      0.000000   \n",
              "25%                 50.000000           0.000000      0.000000   \n",
              "50%                200.000000           0.000000      0.000000   \n",
              "75%               2800.000000          60.000000      0.000000   \n",
              "max              33000.000000        1068.000000     36.000000   \n",
              "\n",
              "       NoOfMonths_PartACov  NoOfMonths_PartBCov  ChronicCond_Alzheimer  \\\n",
              "count         87088.000000         87088.000000           87088.000000   \n",
              "mean             11.923422            11.931299               0.529694   \n",
              "std               0.939195             0.840693               0.499120   \n",
=======
=======
>>>>>>> 8735260d3ca5a4cec4948b7001761cc14fc1cc6e
              "       InscClaimAmtReimbursed  DeductibleAmtPaid   AdmittedDays  \\\n",
              "count            216016.00000      216016.000000  216016.000000   \n",
              "mean                366.40022           2.807162       0.007509   \n",
              "std                 760.62503          20.758803       0.195117   \n",
              "min                   0.00000           0.000000       0.000000   \n",
              "25%                  40.00000           0.000000       0.000000   \n",
              "50%                  80.00000           0.000000       0.000000   \n",
              "75%                 300.00000           0.000000       0.000000   \n",
              "max               17300.00000        1068.000000      10.000000   \n",
              "\n",
              "       NoOfMonths_PartACov  NoOfMonths_PartBCov  ChronicCond_Alzheimer  \\\n",
              "count        216016.000000        216016.000000          216016.000000   \n",
              "mean             11.957730            11.966873               0.587424   \n",
              "std               0.699072             0.594394               0.492299   \n",
<<<<<<< HEAD
>>>>>>> 8735260d3ca5a4cec4948b7001761cc14fc1cc6e
=======
>>>>>>> 8735260d3ca5a4cec4948b7001761cc14fc1cc6e
              "min               0.000000             0.000000               0.000000   \n",
              "25%              12.000000            12.000000               0.000000   \n",
              "50%              12.000000            12.000000               1.000000   \n",
              "75%              12.000000            12.000000               1.000000   \n",
              "max              12.000000            12.000000               1.000000   \n",
              "\n",
              "       ChronicCond_Heartfailure  ChronicCond_KidneyDisease  \\\n",
<<<<<<< HEAD
<<<<<<< HEAD
              "count              87088.000000               87088.000000   \n",
              "mean                   0.772012                   0.679565   \n",
              "std                    0.419537                   0.466646   \n",
              "min                    0.000000                   0.000000   \n",
              "25%                    1.000000                   0.000000   \n",
=======
=======
>>>>>>> 8735260d3ca5a4cec4948b7001761cc14fc1cc6e
              "count             216016.000000              216016.000000   \n",
              "mean                   0.860469                   0.782414   \n",
              "std                    0.346501                   0.412605   \n",
              "min                    0.000000                   0.000000   \n",
              "25%                    1.000000                   1.000000   \n",
<<<<<<< HEAD
>>>>>>> 8735260d3ca5a4cec4948b7001761cc14fc1cc6e
=======
>>>>>>> 8735260d3ca5a4cec4948b7001761cc14fc1cc6e
              "50%                    1.000000                   1.000000   \n",
              "75%                    1.000000                   1.000000   \n",
              "max                    1.000000                   1.000000   \n",
              "\n",
              "       ChronicCond_Cancer  ChronicCond_ObstrPulmonary  ChronicCond_Depression  \\\n",
<<<<<<< HEAD
<<<<<<< HEAD
              "count        87088.000000                87088.000000            87088.000000   \n",
              "mean             0.212130                    0.508566                0.537399   \n",
              "std              0.408819                    0.499929                0.498602   \n",
=======
              "count       216016.000000               216016.000000           216016.000000   \n",
              "mean             0.226465                    0.548608                0.615334   \n",
              "std              0.418544                    0.497633                0.486517   \n",
>>>>>>> 8735260d3ca5a4cec4948b7001761cc14fc1cc6e
=======
              "count       216016.000000               216016.000000           216016.000000   \n",
              "mean             0.226465                    0.548608                0.615334   \n",
              "std              0.418544                    0.497633                0.486517   \n",
>>>>>>> 8735260d3ca5a4cec4948b7001761cc14fc1cc6e
              "min              0.000000                    0.000000                0.000000   \n",
              "25%              0.000000                    0.000000                0.000000   \n",
              "50%              0.000000                    1.000000                1.000000   \n",
              "75%              0.000000                    1.000000                1.000000   \n",
              "max              1.000000                    1.000000                1.000000   \n",
              "\n",
              "       ChronicCond_Diabetes  ChronicCond_IschemicHeart  \\\n",
<<<<<<< HEAD
<<<<<<< HEAD
              "count          87088.000000               87088.000000   \n",
              "mean               0.853447                   0.892327   \n",
              "std                0.353662                   0.309968   \n",
=======
              "count         216016.000000              216016.000000   \n",
              "mean               0.936107                   0.939491   \n",
              "std                0.244564                   0.238429   \n",
>>>>>>> 8735260d3ca5a4cec4948b7001761cc14fc1cc6e
=======
              "count         216016.000000              216016.000000   \n",
              "mean               0.936107                   0.939491   \n",
              "std                0.244564                   0.238429   \n",
>>>>>>> 8735260d3ca5a4cec4948b7001761cc14fc1cc6e
              "min                0.000000                   0.000000   \n",
              "25%                1.000000                   1.000000   \n",
              "50%                1.000000                   1.000000   \n",
              "75%                1.000000                   1.000000   \n",
              "max                1.000000                   1.000000   \n",
              "\n",
              "       ChronicCond_Osteoporasis  ChronicCond_rheumatoidarthritis  \\\n",
<<<<<<< HEAD
<<<<<<< HEAD
              "count              87088.000000                     87088.000000   \n",
              "mean                   0.374667                         0.405165   \n",
              "std                    0.484040                         0.490927   \n",
=======
              "count             216016.000000                    216016.000000   \n",
              "mean                   0.412678                         0.451865   \n",
              "std                    0.492317                         0.497679   \n",
>>>>>>> 8735260d3ca5a4cec4948b7001761cc14fc1cc6e
=======
              "count             216016.000000                    216016.000000   \n",
              "mean                   0.412678                         0.451865   \n",
              "std                    0.492317                         0.497679   \n",
>>>>>>> 8735260d3ca5a4cec4948b7001761cc14fc1cc6e
              "min                    0.000000                         0.000000   \n",
              "25%                    0.000000                         0.000000   \n",
              "50%                    0.000000                         0.000000   \n",
              "75%                    1.000000                         1.000000   \n",
              "max                    1.000000                         1.000000   \n",
              "\n",
              "       ChronicCond_stroke  IPAnnualReimbursementAmt  IPAnnualDeductibleAmt  \\\n",
<<<<<<< HEAD
<<<<<<< HEAD
              "count        87088.000000              87088.000000            87088.00000   \n",
              "mean             0.174134              17845.721913             1873.47545   \n",
              "std              0.379227               7203.742081             1386.67165   \n",
              "min              0.000000               6000.000000                0.00000   \n",
              "25%              0.000000              12000.000000             1068.00000   \n",
              "50%              0.000000              16000.000000             1068.00000   \n",
              "75%              0.000000              22080.000000             2136.00000   \n",
              "max              1.000000              37880.000000            37204.00000   \n",
              "\n",
              "       OPAnnualReimbursementAmt  OPAnnualDeductibleAmt           Age  \\\n",
              "count              87088.000000           87088.000000  87088.000000   \n",
              "mean                3380.708134             933.758405     84.106272   \n",
              "std                 5704.944764            1479.526429     13.300229   \n",
              "min                  -70.000000               0.000000     36.000000   \n",
              "25%                  560.000000             150.000000     78.000000   \n",
              "50%                 1490.000000             440.000000     85.000000   \n",
              "75%                 3480.000000            1050.000000     93.000000   \n",
              "max                52900.000000           13840.000000    111.000000   \n",
              "\n",
              "          DeadOrNot      Gender_2        Race_2        Race_3        Race_5  \\\n",
              "count  87088.000000  87088.000000  87088.000000  87088.000000  87088.000000   \n",
              "mean       0.006155      0.586223      0.101679      0.032335      0.020129   \n",
              "std        0.078211      0.492512      0.302227      0.176890      0.140443   \n",
              "min        0.000000      0.000000      0.000000      0.000000      0.000000   \n",
              "25%        0.000000      0.000000      0.000000      0.000000      0.000000   \n",
              "50%        0.000000      1.000000      0.000000      0.000000      0.000000   \n",
              "75%        0.000000      1.000000      0.000000      0.000000      0.000000   \n",
              "max        1.000000      1.000000      1.000000      1.000000      1.000000   \n",
              "\n",
              "       cluster_pca  \n",
              "count      87088.0  \n",
              "mean           1.0  \n",
              "std            0.0  \n",
              "min            1.0  \n",
              "25%            1.0  \n",
              "50%            1.0  \n",
              "75%            1.0  \n",
              "max            1.0  "
            ],
            "text/html": [
              "\n",
              "  <div id=\"df-6d0926a1-9afe-45a2-9581-ffdae2016e81\">\n",
=======
=======
>>>>>>> 8735260d3ca5a4cec4948b7001761cc14fc1cc6e
              "count       216016.000000             216016.000000          216016.000000   \n",
              "mean             0.183125               8554.089790             887.775943   \n",
              "std              0.386770              14538.892873            1267.874265   \n",
              "min              0.000000              -8000.000000               0.000000   \n",
              "25%              0.000000                  0.000000               0.000000   \n",
              "50%              0.000000                240.000000            1068.000000   \n",
              "75%              0.000000              11800.000000            1068.000000   \n",
              "max              1.000000             155600.000000           21204.000000   \n",
              "\n",
              "       OPAnnualReimbursementAmt  OPAnnualDeductibleAmt            Age  \\\n",
              "count             216016.000000          216016.000000  216016.000000   \n",
              "mean                3669.145202            1025.423584      84.629944   \n",
              "std                 5441.141798            1387.606578      13.128063   \n",
              "min                    0.000000               0.000000      36.000000   \n",
              "25%                  900.000000             250.000000      78.000000   \n",
              "50%                 1950.000000             580.000000      86.000000   \n",
              "75%                 3950.000000            1200.000000      94.000000   \n",
              "max               102960.000000           13840.000000     111.000000   \n",
              "\n",
              "           DeadOrNot      Gender_2         Race_2         Race_3  \\\n",
              "count  216016.000000  216016.00000  216016.000000  216016.000000   \n",
              "mean        0.006972       0.58092       0.106173       0.032678   \n",
              "std         0.083205       0.49341       0.308059       0.177793   \n",
              "min         0.000000       0.00000       0.000000       0.000000   \n",
              "25%         0.000000       0.00000       0.000000       0.000000   \n",
              "50%         0.000000       1.00000       0.000000       0.000000   \n",
              "75%         0.000000       1.00000       0.000000       0.000000   \n",
              "max         1.000000       1.00000       1.000000       1.000000   \n",
              "\n",
              "              Race_5  cluster_pca  \n",
              "count  216016.000000     216016.0  \n",
              "mean        0.021378          1.0  \n",
              "std         0.144641          0.0  \n",
              "min         0.000000          1.0  \n",
              "25%         0.000000          1.0  \n",
              "50%         0.000000          1.0  \n",
              "75%         0.000000          1.0  \n",
              "max         1.000000          1.0  "
            ],
            "text/html": [
              "\n",
              "  <div id=\"df-a45712d0-5ae1-455f-a649-a6e685e42a92\">\n",
<<<<<<< HEAD
>>>>>>> 8735260d3ca5a4cec4948b7001761cc14fc1cc6e
=======
>>>>>>> 8735260d3ca5a4cec4948b7001761cc14fc1cc6e
              "    <div class=\"colab-df-container\">\n",
              "      <div>\n",
              "<style scoped>\n",
              "    .dataframe tbody tr th:only-of-type {\n",
              "        vertical-align: middle;\n",
              "    }\n",
              "\n",
              "    .dataframe tbody tr th {\n",
              "        vertical-align: top;\n",
              "    }\n",
              "\n",
              "    .dataframe thead th {\n",
              "        text-align: right;\n",
              "    }\n",
              "</style>\n",
              "<table border=\"1\" class=\"dataframe\">\n",
              "  <thead>\n",
              "    <tr style=\"text-align: right;\">\n",
              "      <th></th>\n",
              "      <th>InscClaimAmtReimbursed</th>\n",
              "      <th>DeductibleAmtPaid</th>\n",
              "      <th>AdmittedDays</th>\n",
              "      <th>NoOfMonths_PartACov</th>\n",
              "      <th>NoOfMonths_PartBCov</th>\n",
              "      <th>ChronicCond_Alzheimer</th>\n",
              "      <th>ChronicCond_Heartfailure</th>\n",
              "      <th>ChronicCond_KidneyDisease</th>\n",
              "      <th>ChronicCond_Cancer</th>\n",
              "      <th>ChronicCond_ObstrPulmonary</th>\n",
              "      <th>ChronicCond_Depression</th>\n",
              "      <th>ChronicCond_Diabetes</th>\n",
              "      <th>ChronicCond_IschemicHeart</th>\n",
              "      <th>ChronicCond_Osteoporasis</th>\n",
              "      <th>ChronicCond_rheumatoidarthritis</th>\n",
              "      <th>ChronicCond_stroke</th>\n",
              "      <th>IPAnnualReimbursementAmt</th>\n",
              "      <th>IPAnnualDeductibleAmt</th>\n",
              "      <th>OPAnnualReimbursementAmt</th>\n",
              "      <th>OPAnnualDeductibleAmt</th>\n",
              "      <th>Age</th>\n",
              "      <th>DeadOrNot</th>\n",
              "      <th>Gender_2</th>\n",
              "      <th>Race_2</th>\n",
              "      <th>Race_3</th>\n",
              "      <th>Race_5</th>\n",
              "      <th>cluster_pca</th>\n",
              "    </tr>\n",
              "  </thead>\n",
              "  <tbody>\n",
              "    <tr>\n",
              "      <th>count</th>\n",
<<<<<<< HEAD
<<<<<<< HEAD
              "      <td>87088.000000</td>\n",
              "      <td>87088.000000</td>\n",
              "      <td>87088.000000</td>\n",
              "      <td>87088.000000</td>\n",
              "      <td>87088.000000</td>\n",
              "      <td>87088.000000</td>\n",
              "      <td>87088.000000</td>\n",
              "      <td>87088.000000</td>\n",
              "      <td>87088.000000</td>\n",
              "      <td>87088.000000</td>\n",
              "      <td>87088.000000</td>\n",
              "      <td>87088.000000</td>\n",
              "      <td>87088.000000</td>\n",
              "      <td>87088.000000</td>\n",
              "      <td>87088.000000</td>\n",
              "      <td>87088.000000</td>\n",
              "      <td>87088.000000</td>\n",
              "      <td>87088.00000</td>\n",
              "      <td>87088.000000</td>\n",
              "      <td>87088.000000</td>\n",
              "      <td>87088.000000</td>\n",
              "      <td>87088.000000</td>\n",
              "      <td>87088.000000</td>\n",
              "      <td>87088.000000</td>\n",
              "      <td>87088.000000</td>\n",
              "      <td>87088.000000</td>\n",
              "      <td>87088.0</td>\n",
              "    </tr>\n",
              "    <tr>\n",
              "      <th>mean</th>\n",
              "      <td>2840.121371</td>\n",
              "      <td>250.774297</td>\n",
              "      <td>1.657209</td>\n",
              "      <td>11.923422</td>\n",
              "      <td>11.931299</td>\n",
              "      <td>0.529694</td>\n",
              "      <td>0.772012</td>\n",
              "      <td>0.679565</td>\n",
              "      <td>0.212130</td>\n",
              "      <td>0.508566</td>\n",
              "      <td>0.537399</td>\n",
              "      <td>0.853447</td>\n",
              "      <td>0.892327</td>\n",
              "      <td>0.374667</td>\n",
              "      <td>0.405165</td>\n",
              "      <td>0.174134</td>\n",
              "      <td>17845.721913</td>\n",
              "      <td>1873.47545</td>\n",
              "      <td>3380.708134</td>\n",
              "      <td>933.758405</td>\n",
              "      <td>84.106272</td>\n",
              "      <td>0.006155</td>\n",
              "      <td>0.586223</td>\n",
              "      <td>0.101679</td>\n",
              "      <td>0.032335</td>\n",
              "      <td>0.020129</td>\n",
=======
=======
>>>>>>> 8735260d3ca5a4cec4948b7001761cc14fc1cc6e
              "      <td>216016.00000</td>\n",
              "      <td>216016.000000</td>\n",
              "      <td>216016.000000</td>\n",
              "      <td>216016.000000</td>\n",
              "      <td>216016.000000</td>\n",
              "      <td>216016.000000</td>\n",
              "      <td>216016.000000</td>\n",
              "      <td>216016.000000</td>\n",
              "      <td>216016.000000</td>\n",
              "      <td>216016.000000</td>\n",
              "      <td>216016.000000</td>\n",
              "      <td>216016.000000</td>\n",
              "      <td>216016.000000</td>\n",
              "      <td>216016.000000</td>\n",
              "      <td>216016.000000</td>\n",
              "      <td>216016.000000</td>\n",
              "      <td>216016.000000</td>\n",
              "      <td>216016.000000</td>\n",
              "      <td>216016.000000</td>\n",
              "      <td>216016.000000</td>\n",
              "      <td>216016.000000</td>\n",
              "      <td>216016.000000</td>\n",
              "      <td>216016.00000</td>\n",
              "      <td>216016.000000</td>\n",
              "      <td>216016.000000</td>\n",
              "      <td>216016.000000</td>\n",
              "      <td>216016.0</td>\n",
              "    </tr>\n",
              "    <tr>\n",
              "      <th>mean</th>\n",
              "      <td>366.40022</td>\n",
              "      <td>2.807162</td>\n",
              "      <td>0.007509</td>\n",
              "      <td>11.957730</td>\n",
              "      <td>11.966873</td>\n",
              "      <td>0.587424</td>\n",
              "      <td>0.860469</td>\n",
              "      <td>0.782414</td>\n",
              "      <td>0.226465</td>\n",
              "      <td>0.548608</td>\n",
              "      <td>0.615334</td>\n",
              "      <td>0.936107</td>\n",
              "      <td>0.939491</td>\n",
              "      <td>0.412678</td>\n",
              "      <td>0.451865</td>\n",
              "      <td>0.183125</td>\n",
              "      <td>8554.089790</td>\n",
              "      <td>887.775943</td>\n",
              "      <td>3669.145202</td>\n",
              "      <td>1025.423584</td>\n",
              "      <td>84.629944</td>\n",
              "      <td>0.006972</td>\n",
              "      <td>0.58092</td>\n",
              "      <td>0.106173</td>\n",
              "      <td>0.032678</td>\n",
              "      <td>0.021378</td>\n",
<<<<<<< HEAD
>>>>>>> 8735260d3ca5a4cec4948b7001761cc14fc1cc6e
=======
>>>>>>> 8735260d3ca5a4cec4948b7001761cc14fc1cc6e
              "      <td>1.0</td>\n",
              "    </tr>\n",
              "    <tr>\n",
              "      <th>std</th>\n",
<<<<<<< HEAD
<<<<<<< HEAD
              "      <td>5380.765130</td>\n",
              "      <td>450.510881</td>\n",
              "      <td>3.991277</td>\n",
              "      <td>0.939195</td>\n",
              "      <td>0.840693</td>\n",
              "      <td>0.499120</td>\n",
              "      <td>0.419537</td>\n",
              "      <td>0.466646</td>\n",
              "      <td>0.408819</td>\n",
              "      <td>0.499929</td>\n",
              "      <td>0.498602</td>\n",
              "      <td>0.353662</td>\n",
              "      <td>0.309968</td>\n",
              "      <td>0.484040</td>\n",
              "      <td>0.490927</td>\n",
              "      <td>0.379227</td>\n",
              "      <td>7203.742081</td>\n",
              "      <td>1386.67165</td>\n",
              "      <td>5704.944764</td>\n",
              "      <td>1479.526429</td>\n",
              "      <td>13.300229</td>\n",
              "      <td>0.078211</td>\n",
              "      <td>0.492512</td>\n",
              "      <td>0.302227</td>\n",
              "      <td>0.176890</td>\n",
              "      <td>0.140443</td>\n",
=======
=======
>>>>>>> 8735260d3ca5a4cec4948b7001761cc14fc1cc6e
              "      <td>760.62503</td>\n",
              "      <td>20.758803</td>\n",
              "      <td>0.195117</td>\n",
              "      <td>0.699072</td>\n",
              "      <td>0.594394</td>\n",
              "      <td>0.492299</td>\n",
              "      <td>0.346501</td>\n",
              "      <td>0.412605</td>\n",
              "      <td>0.418544</td>\n",
              "      <td>0.497633</td>\n",
              "      <td>0.486517</td>\n",
              "      <td>0.244564</td>\n",
              "      <td>0.238429</td>\n",
              "      <td>0.492317</td>\n",
              "      <td>0.497679</td>\n",
              "      <td>0.386770</td>\n",
              "      <td>14538.892873</td>\n",
              "      <td>1267.874265</td>\n",
              "      <td>5441.141798</td>\n",
              "      <td>1387.606578</td>\n",
              "      <td>13.128063</td>\n",
              "      <td>0.083205</td>\n",
              "      <td>0.49341</td>\n",
              "      <td>0.308059</td>\n",
              "      <td>0.177793</td>\n",
              "      <td>0.144641</td>\n",
<<<<<<< HEAD
>>>>>>> 8735260d3ca5a4cec4948b7001761cc14fc1cc6e
=======
>>>>>>> 8735260d3ca5a4cec4948b7001761cc14fc1cc6e
              "      <td>0.0</td>\n",
              "    </tr>\n",
              "    <tr>\n",
              "      <th>min</th>\n",
<<<<<<< HEAD
<<<<<<< HEAD
=======
              "      <td>0.00000</td>\n",
>>>>>>> 8735260d3ca5a4cec4948b7001761cc14fc1cc6e
              "      <td>0.000000</td>\n",
              "      <td>0.000000</td>\n",
              "      <td>0.000000</td>\n",
              "      <td>0.000000</td>\n",
=======
              "      <td>0.00000</td>\n",
>>>>>>> 8735260d3ca5a4cec4948b7001761cc14fc1cc6e
              "      <td>0.000000</td>\n",
              "      <td>0.000000</td>\n",
              "      <td>0.000000</td>\n",
              "      <td>0.000000</td>\n",
              "      <td>0.000000</td>\n",
              "      <td>0.000000</td>\n",
              "      <td>0.000000</td>\n",
              "      <td>0.000000</td>\n",
              "      <td>0.000000</td>\n",
              "      <td>0.000000</td>\n",
              "      <td>0.000000</td>\n",
<<<<<<< HEAD
<<<<<<< HEAD
              "      <td>0.000000</td>\n",
              "      <td>6000.000000</td>\n",
              "      <td>0.00000</td>\n",
              "      <td>-70.000000</td>\n",
              "      <td>0.000000</td>\n",
              "      <td>36.000000</td>\n",
              "      <td>0.000000</td>\n",
              "      <td>0.000000</td>\n",
=======
=======
              "      <td>0.000000</td>\n",
              "      <td>0.000000</td>\n",
              "      <td>0.000000</td>\n",
              "      <td>0.000000</td>\n",
>>>>>>> 8735260d3ca5a4cec4948b7001761cc14fc1cc6e
              "      <td>-8000.000000</td>\n",
              "      <td>0.000000</td>\n",
              "      <td>0.000000</td>\n",
              "      <td>0.000000</td>\n",
              "      <td>36.000000</td>\n",
              "      <td>0.000000</td>\n",
              "      <td>0.00000</td>\n",
<<<<<<< HEAD
>>>>>>> 8735260d3ca5a4cec4948b7001761cc14fc1cc6e
=======
>>>>>>> 8735260d3ca5a4cec4948b7001761cc14fc1cc6e
              "      <td>0.000000</td>\n",
              "      <td>0.000000</td>\n",
              "      <td>0.000000</td>\n",
              "      <td>1.0</td>\n",
              "    </tr>\n",
              "    <tr>\n",
              "      <th>25%</th>\n",
<<<<<<< HEAD
<<<<<<< HEAD
              "      <td>50.000000</td>\n",
=======
              "      <td>40.00000</td>\n",
>>>>>>> 8735260d3ca5a4cec4948b7001761cc14fc1cc6e
=======
              "      <td>40.00000</td>\n",
>>>>>>> 8735260d3ca5a4cec4948b7001761cc14fc1cc6e
              "      <td>0.000000</td>\n",
              "      <td>0.000000</td>\n",
              "      <td>12.000000</td>\n",
              "      <td>12.000000</td>\n",
              "      <td>0.000000</td>\n",
              "      <td>1.000000</td>\n",
<<<<<<< HEAD
<<<<<<< HEAD
              "      <td>0.000000</td>\n",
=======
              "      <td>1.000000</td>\n",
>>>>>>> 8735260d3ca5a4cec4948b7001761cc14fc1cc6e
=======
              "      <td>1.000000</td>\n",
>>>>>>> 8735260d3ca5a4cec4948b7001761cc14fc1cc6e
              "      <td>0.000000</td>\n",
              "      <td>0.000000</td>\n",
              "      <td>0.000000</td>\n",
              "      <td>1.000000</td>\n",
              "      <td>1.000000</td>\n",
              "      <td>0.000000</td>\n",
              "      <td>0.000000</td>\n",
              "      <td>0.000000</td>\n",
<<<<<<< HEAD
<<<<<<< HEAD
              "      <td>12000.000000</td>\n",
              "      <td>1068.00000</td>\n",
              "      <td>560.000000</td>\n",
              "      <td>150.000000</td>\n",
              "      <td>78.000000</td>\n",
              "      <td>0.000000</td>\n",
              "      <td>0.000000</td>\n",
=======
=======
>>>>>>> 8735260d3ca5a4cec4948b7001761cc14fc1cc6e
              "      <td>0.000000</td>\n",
              "      <td>0.000000</td>\n",
              "      <td>900.000000</td>\n",
              "      <td>250.000000</td>\n",
              "      <td>78.000000</td>\n",
              "      <td>0.000000</td>\n",
              "      <td>0.00000</td>\n",
<<<<<<< HEAD
>>>>>>> 8735260d3ca5a4cec4948b7001761cc14fc1cc6e
=======
>>>>>>> 8735260d3ca5a4cec4948b7001761cc14fc1cc6e
              "      <td>0.000000</td>\n",
              "      <td>0.000000</td>\n",
              "      <td>0.000000</td>\n",
              "      <td>1.0</td>\n",
              "    </tr>\n",
              "    <tr>\n",
              "      <th>50%</th>\n",
<<<<<<< HEAD
<<<<<<< HEAD
              "      <td>200.000000</td>\n",
=======
              "      <td>80.00000</td>\n",
>>>>>>> 8735260d3ca5a4cec4948b7001761cc14fc1cc6e
=======
              "      <td>80.00000</td>\n",
>>>>>>> 8735260d3ca5a4cec4948b7001761cc14fc1cc6e
              "      <td>0.000000</td>\n",
              "      <td>0.000000</td>\n",
              "      <td>12.000000</td>\n",
              "      <td>12.000000</td>\n",
              "      <td>1.000000</td>\n",
              "      <td>1.000000</td>\n",
              "      <td>1.000000</td>\n",
              "      <td>0.000000</td>\n",
              "      <td>1.000000</td>\n",
              "      <td>1.000000</td>\n",
              "      <td>1.000000</td>\n",
              "      <td>1.000000</td>\n",
              "      <td>0.000000</td>\n",
              "      <td>0.000000</td>\n",
              "      <td>0.000000</td>\n",
<<<<<<< HEAD
<<<<<<< HEAD
              "      <td>16000.000000</td>\n",
              "      <td>1068.00000</td>\n",
              "      <td>1490.000000</td>\n",
              "      <td>440.000000</td>\n",
              "      <td>85.000000</td>\n",
              "      <td>0.000000</td>\n",
              "      <td>1.000000</td>\n",
=======
=======
>>>>>>> 8735260d3ca5a4cec4948b7001761cc14fc1cc6e
              "      <td>240.000000</td>\n",
              "      <td>1068.000000</td>\n",
              "      <td>1950.000000</td>\n",
              "      <td>580.000000</td>\n",
              "      <td>86.000000</td>\n",
              "      <td>0.000000</td>\n",
              "      <td>1.00000</td>\n",
<<<<<<< HEAD
>>>>>>> 8735260d3ca5a4cec4948b7001761cc14fc1cc6e
=======
>>>>>>> 8735260d3ca5a4cec4948b7001761cc14fc1cc6e
              "      <td>0.000000</td>\n",
              "      <td>0.000000</td>\n",
              "      <td>0.000000</td>\n",
              "      <td>1.0</td>\n",
              "    </tr>\n",
              "    <tr>\n",
              "      <th>75%</th>\n",
<<<<<<< HEAD
<<<<<<< HEAD
              "      <td>2800.000000</td>\n",
              "      <td>60.000000</td>\n",
=======
              "      <td>300.00000</td>\n",
              "      <td>0.000000</td>\n",
>>>>>>> 8735260d3ca5a4cec4948b7001761cc14fc1cc6e
=======
              "      <td>300.00000</td>\n",
              "      <td>0.000000</td>\n",
>>>>>>> 8735260d3ca5a4cec4948b7001761cc14fc1cc6e
              "      <td>0.000000</td>\n",
              "      <td>12.000000</td>\n",
              "      <td>12.000000</td>\n",
              "      <td>1.000000</td>\n",
              "      <td>1.000000</td>\n",
              "      <td>1.000000</td>\n",
              "      <td>0.000000</td>\n",
              "      <td>1.000000</td>\n",
              "      <td>1.000000</td>\n",
              "      <td>1.000000</td>\n",
              "      <td>1.000000</td>\n",
              "      <td>1.000000</td>\n",
              "      <td>1.000000</td>\n",
              "      <td>0.000000</td>\n",
<<<<<<< HEAD
<<<<<<< HEAD
              "      <td>22080.000000</td>\n",
              "      <td>2136.00000</td>\n",
              "      <td>3480.000000</td>\n",
              "      <td>1050.000000</td>\n",
              "      <td>93.000000</td>\n",
              "      <td>0.000000</td>\n",
              "      <td>1.000000</td>\n",
=======
=======
>>>>>>> 8735260d3ca5a4cec4948b7001761cc14fc1cc6e
              "      <td>11800.000000</td>\n",
              "      <td>1068.000000</td>\n",
              "      <td>3950.000000</td>\n",
              "      <td>1200.000000</td>\n",
              "      <td>94.000000</td>\n",
              "      <td>0.000000</td>\n",
              "      <td>1.00000</td>\n",
<<<<<<< HEAD
>>>>>>> 8735260d3ca5a4cec4948b7001761cc14fc1cc6e
=======
>>>>>>> 8735260d3ca5a4cec4948b7001761cc14fc1cc6e
              "      <td>0.000000</td>\n",
              "      <td>0.000000</td>\n",
              "      <td>0.000000</td>\n",
              "      <td>1.0</td>\n",
              "    </tr>\n",
              "    <tr>\n",
              "      <th>max</th>\n",
<<<<<<< HEAD
<<<<<<< HEAD
              "      <td>33000.000000</td>\n",
              "      <td>1068.000000</td>\n",
              "      <td>36.000000</td>\n",
=======
              "      <td>17300.00000</td>\n",
              "      <td>1068.000000</td>\n",
              "      <td>10.000000</td>\n",
>>>>>>> 8735260d3ca5a4cec4948b7001761cc14fc1cc6e
=======
              "      <td>17300.00000</td>\n",
              "      <td>1068.000000</td>\n",
              "      <td>10.000000</td>\n",
>>>>>>> 8735260d3ca5a4cec4948b7001761cc14fc1cc6e
              "      <td>12.000000</td>\n",
              "      <td>12.000000</td>\n",
              "      <td>1.000000</td>\n",
              "      <td>1.000000</td>\n",
              "      <td>1.000000</td>\n",
              "      <td>1.000000</td>\n",
              "      <td>1.000000</td>\n",
              "      <td>1.000000</td>\n",
              "      <td>1.000000</td>\n",
              "      <td>1.000000</td>\n",
              "      <td>1.000000</td>\n",
              "      <td>1.000000</td>\n",
              "      <td>1.000000</td>\n",
<<<<<<< HEAD
<<<<<<< HEAD
              "      <td>37880.000000</td>\n",
              "      <td>37204.00000</td>\n",
              "      <td>52900.000000</td>\n",
              "      <td>13840.000000</td>\n",
              "      <td>111.000000</td>\n",
              "      <td>1.000000</td>\n",
              "      <td>1.000000</td>\n",
=======
=======
>>>>>>> 8735260d3ca5a4cec4948b7001761cc14fc1cc6e
              "      <td>155600.000000</td>\n",
              "      <td>21204.000000</td>\n",
              "      <td>102960.000000</td>\n",
              "      <td>13840.000000</td>\n",
              "      <td>111.000000</td>\n",
              "      <td>1.000000</td>\n",
              "      <td>1.00000</td>\n",
<<<<<<< HEAD
>>>>>>> 8735260d3ca5a4cec4948b7001761cc14fc1cc6e
=======
>>>>>>> 8735260d3ca5a4cec4948b7001761cc14fc1cc6e
              "      <td>1.000000</td>\n",
              "      <td>1.000000</td>\n",
              "      <td>1.000000</td>\n",
              "      <td>1.0</td>\n",
              "    </tr>\n",
              "  </tbody>\n",
              "</table>\n",
              "</div>\n",
<<<<<<< HEAD
<<<<<<< HEAD
              "      <button class=\"colab-df-convert\" onclick=\"convertToInteractive('df-6d0926a1-9afe-45a2-9581-ffdae2016e81')\"\n",
=======
              "      <button class=\"colab-df-convert\" onclick=\"convertToInteractive('df-a45712d0-5ae1-455f-a649-a6e685e42a92')\"\n",
>>>>>>> 8735260d3ca5a4cec4948b7001761cc14fc1cc6e
=======
              "      <button class=\"colab-df-convert\" onclick=\"convertToInteractive('df-a45712d0-5ae1-455f-a649-a6e685e42a92')\"\n",
>>>>>>> 8735260d3ca5a4cec4948b7001761cc14fc1cc6e
              "              title=\"Convert this dataframe to an interactive table.\"\n",
              "              style=\"display:none;\">\n",
              "        \n",
              "  <svg xmlns=\"http://www.w3.org/2000/svg\" height=\"24px\"viewBox=\"0 0 24 24\"\n",
              "       width=\"24px\">\n",
              "    <path d=\"M0 0h24v24H0V0z\" fill=\"none\"/>\n",
              "    <path d=\"M18.56 5.44l.94 2.06.94-2.06 2.06-.94-2.06-.94-.94-2.06-.94 2.06-2.06.94zm-11 1L8.5 8.5l.94-2.06 2.06-.94-2.06-.94L8.5 2.5l-.94 2.06-2.06.94zm10 10l.94 2.06.94-2.06 2.06-.94-2.06-.94-.94-2.06-.94 2.06-2.06.94z\"/><path d=\"M17.41 7.96l-1.37-1.37c-.4-.4-.92-.59-1.43-.59-.52 0-1.04.2-1.43.59L10.3 9.45l-7.72 7.72c-.78.78-.78 2.05 0 2.83L4 21.41c.39.39.9.59 1.41.59.51 0 1.02-.2 1.41-.59l7.78-7.78 2.81-2.81c.8-.78.8-2.07 0-2.86zM5.41 20L4 18.59l7.72-7.72 1.47 1.35L5.41 20z\"/>\n",
              "  </svg>\n",
              "      </button>\n",
              "      \n",
              "  <style>\n",
              "    .colab-df-container {\n",
              "      display:flex;\n",
              "      flex-wrap:wrap;\n",
              "      gap: 12px;\n",
              "    }\n",
              "\n",
              "    .colab-df-convert {\n",
              "      background-color: #E8F0FE;\n",
              "      border: none;\n",
              "      border-radius: 50%;\n",
              "      cursor: pointer;\n",
              "      display: none;\n",
              "      fill: #1967D2;\n",
              "      height: 32px;\n",
              "      padding: 0 0 0 0;\n",
              "      width: 32px;\n",
              "    }\n",
              "\n",
              "    .colab-df-convert:hover {\n",
              "      background-color: #E2EBFA;\n",
              "      box-shadow: 0px 1px 2px rgba(60, 64, 67, 0.3), 0px 1px 3px 1px rgba(60, 64, 67, 0.15);\n",
              "      fill: #174EA6;\n",
              "    }\n",
              "\n",
              "    [theme=dark] .colab-df-convert {\n",
              "      background-color: #3B4455;\n",
              "      fill: #D2E3FC;\n",
              "    }\n",
              "\n",
              "    [theme=dark] .colab-df-convert:hover {\n",
              "      background-color: #434B5C;\n",
              "      box-shadow: 0px 1px 3px 1px rgba(0, 0, 0, 0.15);\n",
              "      filter: drop-shadow(0px 1px 2px rgba(0, 0, 0, 0.3));\n",
              "      fill: #FFFFFF;\n",
              "    }\n",
              "  </style>\n",
              "\n",
              "      <script>\n",
              "        const buttonEl =\n",
<<<<<<< HEAD
<<<<<<< HEAD
              "          document.querySelector('#df-6d0926a1-9afe-45a2-9581-ffdae2016e81 button.colab-df-convert');\n",
=======
              "          document.querySelector('#df-a45712d0-5ae1-455f-a649-a6e685e42a92 button.colab-df-convert');\n",
>>>>>>> 8735260d3ca5a4cec4948b7001761cc14fc1cc6e
=======
              "          document.querySelector('#df-a45712d0-5ae1-455f-a649-a6e685e42a92 button.colab-df-convert');\n",
>>>>>>> 8735260d3ca5a4cec4948b7001761cc14fc1cc6e
              "        buttonEl.style.display =\n",
              "          google.colab.kernel.accessAllowed ? 'block' : 'none';\n",
              "\n",
              "        async function convertToInteractive(key) {\n",
<<<<<<< HEAD
<<<<<<< HEAD
              "          const element = document.querySelector('#df-6d0926a1-9afe-45a2-9581-ffdae2016e81');\n",
=======
              "          const element = document.querySelector('#df-a45712d0-5ae1-455f-a649-a6e685e42a92');\n",
>>>>>>> 8735260d3ca5a4cec4948b7001761cc14fc1cc6e
=======
              "          const element = document.querySelector('#df-a45712d0-5ae1-455f-a649-a6e685e42a92');\n",
>>>>>>> 8735260d3ca5a4cec4948b7001761cc14fc1cc6e
              "          const dataTable =\n",
              "            await google.colab.kernel.invokeFunction('convertToInteractive',\n",
              "                                                     [key], {});\n",
              "          if (!dataTable) return;\n",
              "\n",
              "          const docLinkHtml = 'Like what you see? Visit the ' +\n",
              "            '<a target=\"_blank\" href=https://colab.research.google.com/notebooks/data_table.ipynb>data table notebook</a>'\n",
              "            + ' to learn more about interactive tables.';\n",
              "          element.innerHTML = '';\n",
              "          dataTable['output_type'] = 'display_data';\n",
              "          await google.colab.output.renderOutput(dataTable, element);\n",
              "          const docLink = document.createElement('div');\n",
              "          docLink.innerHTML = docLinkHtml;\n",
              "          element.appendChild(docLink);\n",
              "        }\n",
              "      </script>\n",
              "    </div>\n",
              "  </div>\n",
              "  "
            ]
          },
          "metadata": {},
<<<<<<< HEAD
<<<<<<< HEAD
          "execution_count": 92
        }
=======
=======
>>>>>>> 8735260d3ca5a4cec4948b7001761cc14fc1cc6e
          "execution_count": 93
        }
      ],
      "source": [
        "train_final.loc[train_final['cluster_pca'] == 1].describe()\n"
<<<<<<< HEAD
>>>>>>> 8735260d3ca5a4cec4948b7001761cc14fc1cc6e
=======
>>>>>>> 8735260d3ca5a4cec4948b7001761cc14fc1cc6e
      ]
    },
    {
      "cell_type": "code",
<<<<<<< HEAD
<<<<<<< HEAD
      "source": [
        "train_final.loc[train_final['cluster_pca'] == 2].describe()\n"
      ],
      "metadata": {
        "colab": {
          "base_uri": "https://localhost:8080/",
          "height": 357
        },
        "id": "6VvXI5iaKR7b",
        "outputId": "dc2ed8e4-2ca8-4a42-daf6-fa196818f811"
      },
      "execution_count": 93,
=======
=======
>>>>>>> 8735260d3ca5a4cec4948b7001761cc14fc1cc6e
      "execution_count": 94,
      "metadata": {
        "id": "6VvXI5iaKR7b",
        "colab": {
          "base_uri": "https://localhost:8080/",
          "height": 364
        },
        "outputId": "84f071a2-9f7c-4d1f-938e-be23b3be081c"
      },
<<<<<<< HEAD
>>>>>>> 8735260d3ca5a4cec4948b7001761cc14fc1cc6e
=======
>>>>>>> 8735260d3ca5a4cec4948b7001761cc14fc1cc6e
      "outputs": [
        {
          "output_type": "execute_result",
          "data": {
            "text/plain": [
<<<<<<< HEAD
<<<<<<< HEAD
              "       InscClaimAmtReimbursed  DeductibleAmtPaid  AdmittedDays  \\\n",
              "count            16387.000000       16387.000000  16387.000000   \n",
              "mean              7679.933484         298.158906      2.919876   \n",
              "std              15595.960656         477.168843      6.314482   \n",
              "min                  0.000000           0.000000      0.000000   \n",
              "25%                 60.000000           0.000000      0.000000   \n",
              "50%                300.000000           0.000000      0.000000   \n",
              "75%               6000.000000        1068.000000      3.000000   \n",
              "max             125000.000000        1068.000000     36.000000   \n",
              "\n",
              "       NoOfMonths_PartACov  NoOfMonths_PartBCov  ChronicCond_Alzheimer  \\\n",
              "count         16387.000000         16387.000000           16387.000000   \n",
              "mean             11.917984            11.958687               0.582474   \n",
              "std               0.961665             0.649622               0.493166   \n",
              "min               0.000000             0.000000               0.000000   \n",
              "25%              12.000000            12.000000               0.000000   \n",
              "50%              12.000000            12.000000               1.000000   \n",
=======
=======
>>>>>>> 8735260d3ca5a4cec4948b7001761cc14fc1cc6e
              "       InscClaimAmtReimbursed  DeductibleAmtPaid   AdmittedDays  \\\n",
              "count           302222.000000      302222.000000  302222.000000   \n",
              "mean               235.567795           3.708453       0.002538   \n",
              "std                517.922197          33.710051       0.092807   \n",
              "min                  0.000000           0.000000       0.000000   \n",
              "25%                 40.000000           0.000000       0.000000   \n",
              "50%                 70.000000           0.000000       0.000000   \n",
              "75%                200.000000           0.000000       0.000000   \n",
              "max              17300.000000        1068.000000       9.000000   \n",
              "\n",
              "       NoOfMonths_PartACov  NoOfMonths_PartBCov  ChronicCond_Alzheimer  \\\n",
              "count        302222.000000        302222.000000          302222.000000   \n",
              "mean             11.914718            11.920681               0.255461   \n",
              "std               0.992039             0.886784               0.436121   \n",
              "min               0.000000             0.000000               0.000000   \n",
              "25%              12.000000            12.000000               0.000000   \n",
              "50%              12.000000            12.000000               0.000000   \n",
<<<<<<< HEAD
>>>>>>> 8735260d3ca5a4cec4948b7001761cc14fc1cc6e
=======
>>>>>>> 8735260d3ca5a4cec4948b7001761cc14fc1cc6e
              "75%              12.000000            12.000000               1.000000   \n",
              "max              12.000000            12.000000               1.000000   \n",
              "\n",
              "       ChronicCond_Heartfailure  ChronicCond_KidneyDisease  \\\n",
<<<<<<< HEAD
<<<<<<< HEAD
              "count              16387.000000               16387.000000   \n",
              "mean                   0.852566                   0.819552   \n",
              "std                    0.354549                   0.384572   \n",
              "min                    0.000000                   0.000000   \n",
              "25%                    1.000000                   1.000000   \n",
              "50%                    1.000000                   1.000000   \n",
              "75%                    1.000000                   1.000000   \n",
              "max                    1.000000                   1.000000   \n",
              "\n",
              "       ChronicCond_Cancer  ChronicCond_ObstrPulmonary  ChronicCond_Depression  \\\n",
              "count        16387.000000                16387.000000            16387.000000   \n",
              "mean             0.245194                    0.628669                0.576066   \n",
              "std              0.430216                    0.483175                0.494195   \n",
              "min              0.000000                    0.000000                0.000000   \n",
              "25%              0.000000                    0.000000                0.000000   \n",
              "50%              0.000000                    1.000000                1.000000   \n",
              "75%              0.000000                    1.000000                1.000000   \n",
              "max              1.000000                    1.000000                1.000000   \n",
              "\n",
              "       ChronicCond_Diabetes  ChronicCond_IschemicHeart  \\\n",
              "count          16387.000000               16387.000000   \n",
              "mean               0.902789                   0.945139   \n",
              "std                0.296254                   0.227715   \n",
              "min                0.000000                   0.000000   \n",
              "25%                1.000000                   1.000000   \n",
=======
=======
>>>>>>> 8735260d3ca5a4cec4948b7001761cc14fc1cc6e
              "count             302222.000000              302222.000000   \n",
              "mean                   0.379618                   0.121745   \n",
              "std                    0.485293                   0.326992   \n",
              "min                    0.000000                   0.000000   \n",
              "25%                    0.000000                   0.000000   \n",
              "50%                    0.000000                   0.000000   \n",
              "75%                    1.000000                   0.000000   \n",
              "max                    1.000000                   1.000000   \n",
              "\n",
              "       ChronicCond_Cancer  ChronicCond_ObstrPulmonary  ChronicCond_Depression  \\\n",
              "count       302222.000000               302222.000000           302222.000000   \n",
              "mean             0.092343                    0.122255                0.296722   \n",
              "std              0.289510                    0.327580                0.456814   \n",
              "min              0.000000                    0.000000                0.000000   \n",
              "25%              0.000000                    0.000000                0.000000   \n",
              "50%              0.000000                    0.000000                0.000000   \n",
              "75%              0.000000                    0.000000                1.000000   \n",
              "max              1.000000                    1.000000                1.000000   \n",
              "\n",
              "       ChronicCond_Diabetes  ChronicCond_IschemicHeart  \\\n",
              "count         302222.000000              302222.000000   \n",
              "mean               0.527381                   0.617298   \n",
              "std                0.499251                   0.486047   \n",
              "min                0.000000                   0.000000   \n",
              "25%                0.000000                   0.000000   \n",
<<<<<<< HEAD
>>>>>>> 8735260d3ca5a4cec4948b7001761cc14fc1cc6e
=======
>>>>>>> 8735260d3ca5a4cec4948b7001761cc14fc1cc6e
              "50%                1.000000                   1.000000   \n",
              "75%                1.000000                   1.000000   \n",
              "max                1.000000                   1.000000   \n",
              "\n",
              "       ChronicCond_Osteoporasis  ChronicCond_rheumatoidarthritis  \\\n",
<<<<<<< HEAD
<<<<<<< HEAD
              "count              16387.000000                     16387.000000   \n",
              "mean                   0.389638                         0.392079   \n",
              "std                    0.487683                         0.488229   \n",
              "min                    0.000000                         0.000000   \n",
              "25%                    0.000000                         0.000000   \n",
              "50%                    0.000000                         0.000000   \n",
              "75%                    1.000000                         1.000000   \n",
              "max                    1.000000                         1.000000   \n",
              "\n",
              "       ChronicCond_stroke  IPAnnualReimbursementAmt  IPAnnualDeductibleAmt  \\\n",
              "count        16387.000000              16387.000000           16387.000000   \n",
              "mean             0.247574              56207.274669            3095.962775   \n",
              "std              0.431616              19173.837626            2952.669423   \n",
              "min              0.000000              33000.000000               0.000000   \n",
              "25%              0.000000              43000.000000            1068.000000   \n",
              "50%              0.000000              51080.000000            2136.000000   \n",
              "75%              0.000000              62000.000000            3204.000000   \n",
              "max              1.000000             161470.000000           38272.000000   \n",
              "\n",
              "       OPAnnualReimbursementAmt  OPAnnualDeductibleAmt           Age  \\\n",
              "count              16387.000000           16387.000000  16387.000000   \n",
              "mean                4882.924879            1288.550925     84.338805   \n",
              "std                 8250.938820            1783.735416     13.353421   \n",
              "min                  -60.000000               0.000000     36.000000   \n",
              "25%                  650.000000             200.000000     78.000000   \n",
              "50%                 1860.000000             590.000000     85.000000   \n",
              "75%                 4775.000000            1470.000000     94.000000   \n",
              "max               102960.000000            9950.000000    111.000000   \n",
              "\n",
              "          DeadOrNot      Gender_2        Race_2        Race_3        Race_5  \\\n",
              "count  16387.000000  16387.000000  16387.000000  16387.000000  16387.000000   \n",
              "mean       0.005919      0.568621      0.121194      0.032099      0.018551   \n",
              "std        0.076711      0.495284      0.326362      0.176267      0.134938   \n",
              "min        0.000000      0.000000      0.000000      0.000000      0.000000   \n",
              "25%        0.000000      0.000000      0.000000      0.000000      0.000000   \n",
              "50%        0.000000      1.000000      0.000000      0.000000      0.000000   \n",
              "75%        0.000000      1.000000      0.000000      0.000000      0.000000   \n",
              "max        1.000000      1.000000      1.000000      1.000000      1.000000   \n",
              "\n",
              "       cluster_pca  \n",
              "count      16387.0  \n",
              "mean           2.0  \n",
              "std            0.0  \n",
              "min            2.0  \n",
              "25%            2.0  \n",
              "50%            2.0  \n",
              "75%            2.0  \n",
              "max            2.0  "
            ],
            "text/html": [
              "\n",
              "  <div id=\"df-24b45160-cb5d-4cfb-a4c7-a3e83a58e108\">\n",
=======
=======
>>>>>>> 8735260d3ca5a4cec4948b7001761cc14fc1cc6e
              "count             302222.000000                    302222.000000   \n",
              "mean                   0.245052                         0.203976   \n",
              "std                    0.430119                         0.402952   \n",
              "min                    0.000000                         0.000000   \n",
              "25%                    0.000000                         0.000000   \n",
              "50%                    0.000000                         0.000000   \n",
              "75%                    0.000000                         0.000000   \n",
              "max                    1.000000                         1.000000   \n",
              "\n",
              "       ChronicCond_stroke  IPAnnualReimbursementAmt  IPAnnualDeductibleAmt  \\\n",
              "count       302222.000000             302222.000000          302222.000000   \n",
              "mean             0.034528               1201.226383             151.746544   \n",
              "std              0.182580               4352.572878             418.044974   \n",
              "min              0.000000              -1400.000000               0.000000   \n",
              "25%              0.000000                  0.000000               0.000000   \n",
              "50%              0.000000                  0.000000               0.000000   \n",
              "75%              0.000000                  0.000000               0.000000   \n",
              "max              1.000000             119200.000000           11068.000000   \n",
              "\n",
              "       OPAnnualReimbursementAmt  OPAnnualDeductibleAmt            Age  \\\n",
              "count             302222.000000          302222.000000  302222.000000   \n",
              "mean                1333.420995             397.195505      82.980346   \n",
              "std                 1471.488869             441.332786      12.919485   \n",
              "min                    0.000000               0.000000      36.000000   \n",
              "25%                  340.000000              90.000000      78.000000   \n",
              "50%                  840.000000             240.000000      84.000000   \n",
              "75%                 1800.000000             550.000000      91.000000   \n",
              "max                28560.000000            4440.000000     111.000000   \n",
              "\n",
              "           DeadOrNot       Gender_2         Race_2         Race_3  \\\n",
              "count  302222.000000  302222.000000  302222.000000  302222.000000   \n",
              "mean        0.007647       0.577996       0.094484       0.037403   \n",
              "std         0.087111       0.493880       0.292501       0.189747   \n",
              "min         0.000000       0.000000       0.000000       0.000000   \n",
              "25%         0.000000       0.000000       0.000000       0.000000   \n",
              "50%         0.000000       1.000000       0.000000       0.000000   \n",
              "75%         0.000000       1.000000       0.000000       0.000000   \n",
              "max         1.000000       1.000000       1.000000       1.000000   \n",
              "\n",
              "              Race_5  cluster_pca  \n",
              "count  302222.000000     302222.0  \n",
              "mean        0.021272          2.0  \n",
              "std         0.144291          0.0  \n",
              "min         0.000000          2.0  \n",
              "25%         0.000000          2.0  \n",
              "50%         0.000000          2.0  \n",
              "75%         0.000000          2.0  \n",
              "max         1.000000          2.0  "
            ],
            "text/html": [
              "\n",
              "  <div id=\"df-61394a9c-1012-4401-a1cb-b02002f7a132\">\n",
<<<<<<< HEAD
>>>>>>> 8735260d3ca5a4cec4948b7001761cc14fc1cc6e
=======
>>>>>>> 8735260d3ca5a4cec4948b7001761cc14fc1cc6e
              "    <div class=\"colab-df-container\">\n",
              "      <div>\n",
              "<style scoped>\n",
              "    .dataframe tbody tr th:only-of-type {\n",
              "        vertical-align: middle;\n",
              "    }\n",
              "\n",
              "    .dataframe tbody tr th {\n",
              "        vertical-align: top;\n",
              "    }\n",
              "\n",
              "    .dataframe thead th {\n",
              "        text-align: right;\n",
              "    }\n",
              "</style>\n",
              "<table border=\"1\" class=\"dataframe\">\n",
              "  <thead>\n",
              "    <tr style=\"text-align: right;\">\n",
              "      <th></th>\n",
              "      <th>InscClaimAmtReimbursed</th>\n",
              "      <th>DeductibleAmtPaid</th>\n",
              "      <th>AdmittedDays</th>\n",
              "      <th>NoOfMonths_PartACov</th>\n",
              "      <th>NoOfMonths_PartBCov</th>\n",
              "      <th>ChronicCond_Alzheimer</th>\n",
              "      <th>ChronicCond_Heartfailure</th>\n",
              "      <th>ChronicCond_KidneyDisease</th>\n",
              "      <th>ChronicCond_Cancer</th>\n",
              "      <th>ChronicCond_ObstrPulmonary</th>\n",
              "      <th>ChronicCond_Depression</th>\n",
              "      <th>ChronicCond_Diabetes</th>\n",
              "      <th>ChronicCond_IschemicHeart</th>\n",
              "      <th>ChronicCond_Osteoporasis</th>\n",
              "      <th>ChronicCond_rheumatoidarthritis</th>\n",
              "      <th>ChronicCond_stroke</th>\n",
              "      <th>IPAnnualReimbursementAmt</th>\n",
              "      <th>IPAnnualDeductibleAmt</th>\n",
              "      <th>OPAnnualReimbursementAmt</th>\n",
              "      <th>OPAnnualDeductibleAmt</th>\n",
              "      <th>Age</th>\n",
              "      <th>DeadOrNot</th>\n",
              "      <th>Gender_2</th>\n",
              "      <th>Race_2</th>\n",
              "      <th>Race_3</th>\n",
              "      <th>Race_5</th>\n",
              "      <th>cluster_pca</th>\n",
              "    </tr>\n",
              "  </thead>\n",
              "  <tbody>\n",
              "    <tr>\n",
              "      <th>count</th>\n",
<<<<<<< HEAD
<<<<<<< HEAD
              "      <td>16387.000000</td>\n",
              "      <td>16387.000000</td>\n",
              "      <td>16387.000000</td>\n",
              "      <td>16387.000000</td>\n",
              "      <td>16387.000000</td>\n",
              "      <td>16387.000000</td>\n",
              "      <td>16387.000000</td>\n",
              "      <td>16387.000000</td>\n",
              "      <td>16387.000000</td>\n",
              "      <td>16387.000000</td>\n",
              "      <td>16387.000000</td>\n",
              "      <td>16387.000000</td>\n",
              "      <td>16387.000000</td>\n",
              "      <td>16387.000000</td>\n",
              "      <td>16387.000000</td>\n",
              "      <td>16387.000000</td>\n",
              "      <td>16387.000000</td>\n",
              "      <td>16387.000000</td>\n",
              "      <td>16387.000000</td>\n",
              "      <td>16387.000000</td>\n",
              "      <td>16387.000000</td>\n",
              "      <td>16387.000000</td>\n",
              "      <td>16387.000000</td>\n",
              "      <td>16387.000000</td>\n",
              "      <td>16387.000000</td>\n",
              "      <td>16387.000000</td>\n",
              "      <td>16387.0</td>\n",
              "    </tr>\n",
              "    <tr>\n",
              "      <th>mean</th>\n",
              "      <td>7679.933484</td>\n",
              "      <td>298.158906</td>\n",
              "      <td>2.919876</td>\n",
              "      <td>11.917984</td>\n",
              "      <td>11.958687</td>\n",
              "      <td>0.582474</td>\n",
              "      <td>0.852566</td>\n",
              "      <td>0.819552</td>\n",
              "      <td>0.245194</td>\n",
              "      <td>0.628669</td>\n",
              "      <td>0.576066</td>\n",
              "      <td>0.902789</td>\n",
              "      <td>0.945139</td>\n",
              "      <td>0.389638</td>\n",
              "      <td>0.392079</td>\n",
              "      <td>0.247574</td>\n",
              "      <td>56207.274669</td>\n",
              "      <td>3095.962775</td>\n",
              "      <td>4882.924879</td>\n",
              "      <td>1288.550925</td>\n",
              "      <td>84.338805</td>\n",
              "      <td>0.005919</td>\n",
              "      <td>0.568621</td>\n",
              "      <td>0.121194</td>\n",
              "      <td>0.032099</td>\n",
              "      <td>0.018551</td>\n",
=======
=======
>>>>>>> 8735260d3ca5a4cec4948b7001761cc14fc1cc6e
              "      <td>302222.000000</td>\n",
              "      <td>302222.000000</td>\n",
              "      <td>302222.000000</td>\n",
              "      <td>302222.000000</td>\n",
              "      <td>302222.000000</td>\n",
              "      <td>302222.000000</td>\n",
              "      <td>302222.000000</td>\n",
              "      <td>302222.000000</td>\n",
              "      <td>302222.000000</td>\n",
              "      <td>302222.000000</td>\n",
              "      <td>302222.000000</td>\n",
              "      <td>302222.000000</td>\n",
              "      <td>302222.000000</td>\n",
              "      <td>302222.000000</td>\n",
              "      <td>302222.000000</td>\n",
              "      <td>302222.000000</td>\n",
              "      <td>302222.000000</td>\n",
              "      <td>302222.000000</td>\n",
              "      <td>302222.000000</td>\n",
              "      <td>302222.000000</td>\n",
              "      <td>302222.000000</td>\n",
              "      <td>302222.000000</td>\n",
              "      <td>302222.000000</td>\n",
              "      <td>302222.000000</td>\n",
              "      <td>302222.000000</td>\n",
              "      <td>302222.000000</td>\n",
              "      <td>302222.0</td>\n",
              "    </tr>\n",
              "    <tr>\n",
              "      <th>mean</th>\n",
              "      <td>235.567795</td>\n",
              "      <td>3.708453</td>\n",
              "      <td>0.002538</td>\n",
              "      <td>11.914718</td>\n",
              "      <td>11.920681</td>\n",
              "      <td>0.255461</td>\n",
              "      <td>0.379618</td>\n",
              "      <td>0.121745</td>\n",
              "      <td>0.092343</td>\n",
              "      <td>0.122255</td>\n",
              "      <td>0.296722</td>\n",
              "      <td>0.527381</td>\n",
              "      <td>0.617298</td>\n",
              "      <td>0.245052</td>\n",
              "      <td>0.203976</td>\n",
              "      <td>0.034528</td>\n",
              "      <td>1201.226383</td>\n",
              "      <td>151.746544</td>\n",
              "      <td>1333.420995</td>\n",
              "      <td>397.195505</td>\n",
              "      <td>82.980346</td>\n",
              "      <td>0.007647</td>\n",
              "      <td>0.577996</td>\n",
              "      <td>0.094484</td>\n",
              "      <td>0.037403</td>\n",
              "      <td>0.021272</td>\n",
<<<<<<< HEAD
>>>>>>> 8735260d3ca5a4cec4948b7001761cc14fc1cc6e
=======
>>>>>>> 8735260d3ca5a4cec4948b7001761cc14fc1cc6e
              "      <td>2.0</td>\n",
              "    </tr>\n",
              "    <tr>\n",
              "      <th>std</th>\n",
<<<<<<< HEAD
<<<<<<< HEAD
              "      <td>15595.960656</td>\n",
              "      <td>477.168843</td>\n",
              "      <td>6.314482</td>\n",
              "      <td>0.961665</td>\n",
              "      <td>0.649622</td>\n",
              "      <td>0.493166</td>\n",
              "      <td>0.354549</td>\n",
              "      <td>0.384572</td>\n",
              "      <td>0.430216</td>\n",
              "      <td>0.483175</td>\n",
              "      <td>0.494195</td>\n",
              "      <td>0.296254</td>\n",
              "      <td>0.227715</td>\n",
              "      <td>0.487683</td>\n",
              "      <td>0.488229</td>\n",
              "      <td>0.431616</td>\n",
              "      <td>19173.837626</td>\n",
              "      <td>2952.669423</td>\n",
              "      <td>8250.938820</td>\n",
              "      <td>1783.735416</td>\n",
              "      <td>13.353421</td>\n",
              "      <td>0.076711</td>\n",
              "      <td>0.495284</td>\n",
              "      <td>0.326362</td>\n",
              "      <td>0.176267</td>\n",
              "      <td>0.134938</td>\n",
=======
=======
>>>>>>> 8735260d3ca5a4cec4948b7001761cc14fc1cc6e
              "      <td>517.922197</td>\n",
              "      <td>33.710051</td>\n",
              "      <td>0.092807</td>\n",
              "      <td>0.992039</td>\n",
              "      <td>0.886784</td>\n",
              "      <td>0.436121</td>\n",
              "      <td>0.485293</td>\n",
              "      <td>0.326992</td>\n",
              "      <td>0.289510</td>\n",
              "      <td>0.327580</td>\n",
              "      <td>0.456814</td>\n",
              "      <td>0.499251</td>\n",
              "      <td>0.486047</td>\n",
              "      <td>0.430119</td>\n",
              "      <td>0.402952</td>\n",
              "      <td>0.182580</td>\n",
              "      <td>4352.572878</td>\n",
              "      <td>418.044974</td>\n",
              "      <td>1471.488869</td>\n",
              "      <td>441.332786</td>\n",
              "      <td>12.919485</td>\n",
              "      <td>0.087111</td>\n",
              "      <td>0.493880</td>\n",
              "      <td>0.292501</td>\n",
              "      <td>0.189747</td>\n",
              "      <td>0.144291</td>\n",
<<<<<<< HEAD
>>>>>>> 8735260d3ca5a4cec4948b7001761cc14fc1cc6e
=======
>>>>>>> 8735260d3ca5a4cec4948b7001761cc14fc1cc6e
              "      <td>0.0</td>\n",
              "    </tr>\n",
              "    <tr>\n",
              "      <th>min</th>\n",
              "      <td>0.000000</td>\n",
              "      <td>0.000000</td>\n",
              "      <td>0.000000</td>\n",
              "      <td>0.000000</td>\n",
              "      <td>0.000000</td>\n",
              "      <td>0.000000</td>\n",
              "      <td>0.000000</td>\n",
              "      <td>0.000000</td>\n",
              "      <td>0.000000</td>\n",
              "      <td>0.000000</td>\n",
              "      <td>0.000000</td>\n",
              "      <td>0.000000</td>\n",
              "      <td>0.000000</td>\n",
              "      <td>0.000000</td>\n",
              "      <td>0.000000</td>\n",
              "      <td>0.000000</td>\n",
<<<<<<< HEAD
<<<<<<< HEAD
              "      <td>33000.000000</td>\n",
              "      <td>0.000000</td>\n",
              "      <td>-60.000000</td>\n",
=======
              "      <td>-1400.000000</td>\n",
              "      <td>0.000000</td>\n",
              "      <td>0.000000</td>\n",
>>>>>>> 8735260d3ca5a4cec4948b7001761cc14fc1cc6e
=======
              "      <td>-1400.000000</td>\n",
              "      <td>0.000000</td>\n",
              "      <td>0.000000</td>\n",
>>>>>>> 8735260d3ca5a4cec4948b7001761cc14fc1cc6e
              "      <td>0.000000</td>\n",
              "      <td>36.000000</td>\n",
              "      <td>0.000000</td>\n",
              "      <td>0.000000</td>\n",
              "      <td>0.000000</td>\n",
              "      <td>0.000000</td>\n",
              "      <td>0.000000</td>\n",
              "      <td>2.0</td>\n",
              "    </tr>\n",
              "    <tr>\n",
              "      <th>25%</th>\n",
<<<<<<< HEAD
<<<<<<< HEAD
              "      <td>60.000000</td>\n",
=======
              "      <td>40.000000</td>\n",
>>>>>>> 8735260d3ca5a4cec4948b7001761cc14fc1cc6e
=======
              "      <td>40.000000</td>\n",
>>>>>>> 8735260d3ca5a4cec4948b7001761cc14fc1cc6e
              "      <td>0.000000</td>\n",
              "      <td>0.000000</td>\n",
              "      <td>12.000000</td>\n",
              "      <td>12.000000</td>\n",
              "      <td>0.000000</td>\n",
<<<<<<< HEAD
<<<<<<< HEAD
              "      <td>1.000000</td>\n",
              "      <td>1.000000</td>\n",
              "      <td>0.000000</td>\n",
              "      <td>0.000000</td>\n",
              "      <td>0.000000</td>\n",
              "      <td>1.000000</td>\n",
              "      <td>1.000000</td>\n",
              "      <td>0.000000</td>\n",
              "      <td>0.000000</td>\n",
              "      <td>0.000000</td>\n",
              "      <td>43000.000000</td>\n",
              "      <td>1068.000000</td>\n",
              "      <td>650.000000</td>\n",
              "      <td>200.000000</td>\n",
=======
=======
>>>>>>> 8735260d3ca5a4cec4948b7001761cc14fc1cc6e
              "      <td>0.000000</td>\n",
              "      <td>0.000000</td>\n",
              "      <td>0.000000</td>\n",
              "      <td>0.000000</td>\n",
              "      <td>0.000000</td>\n",
              "      <td>0.000000</td>\n",
              "      <td>0.000000</td>\n",
              "      <td>0.000000</td>\n",
              "      <td>0.000000</td>\n",
              "      <td>0.000000</td>\n",
              "      <td>0.000000</td>\n",
              "      <td>0.000000</td>\n",
              "      <td>340.000000</td>\n",
              "      <td>90.000000</td>\n",
<<<<<<< HEAD
>>>>>>> 8735260d3ca5a4cec4948b7001761cc14fc1cc6e
=======
>>>>>>> 8735260d3ca5a4cec4948b7001761cc14fc1cc6e
              "      <td>78.000000</td>\n",
              "      <td>0.000000</td>\n",
              "      <td>0.000000</td>\n",
              "      <td>0.000000</td>\n",
              "      <td>0.000000</td>\n",
              "      <td>0.000000</td>\n",
              "      <td>2.0</td>\n",
              "    </tr>\n",
              "    <tr>\n",
              "      <th>50%</th>\n",
<<<<<<< HEAD
<<<<<<< HEAD
              "      <td>300.000000</td>\n",
=======
              "      <td>70.000000</td>\n",
>>>>>>> 8735260d3ca5a4cec4948b7001761cc14fc1cc6e
=======
              "      <td>70.000000</td>\n",
>>>>>>> 8735260d3ca5a4cec4948b7001761cc14fc1cc6e
              "      <td>0.000000</td>\n",
              "      <td>0.000000</td>\n",
              "      <td>12.000000</td>\n",
              "      <td>12.000000</td>\n",
<<<<<<< HEAD
<<<<<<< HEAD
              "      <td>1.000000</td>\n",
              "      <td>1.000000</td>\n",
              "      <td>1.000000</td>\n",
              "      <td>0.000000</td>\n",
              "      <td>1.000000</td>\n",
              "      <td>1.000000</td>\n",
=======
=======
>>>>>>> 8735260d3ca5a4cec4948b7001761cc14fc1cc6e
              "      <td>0.000000</td>\n",
              "      <td>0.000000</td>\n",
              "      <td>0.000000</td>\n",
              "      <td>0.000000</td>\n",
              "      <td>0.000000</td>\n",
              "      <td>0.000000</td>\n",
<<<<<<< HEAD
>>>>>>> 8735260d3ca5a4cec4948b7001761cc14fc1cc6e
=======
>>>>>>> 8735260d3ca5a4cec4948b7001761cc14fc1cc6e
              "      <td>1.000000</td>\n",
              "      <td>1.000000</td>\n",
              "      <td>0.000000</td>\n",
              "      <td>0.000000</td>\n",
              "      <td>0.000000</td>\n",
<<<<<<< HEAD
<<<<<<< HEAD
              "      <td>51080.000000</td>\n",
              "      <td>2136.000000</td>\n",
              "      <td>1860.000000</td>\n",
              "      <td>590.000000</td>\n",
              "      <td>85.000000</td>\n",
=======
=======
>>>>>>> 8735260d3ca5a4cec4948b7001761cc14fc1cc6e
              "      <td>0.000000</td>\n",
              "      <td>0.000000</td>\n",
              "      <td>840.000000</td>\n",
              "      <td>240.000000</td>\n",
              "      <td>84.000000</td>\n",
<<<<<<< HEAD
>>>>>>> 8735260d3ca5a4cec4948b7001761cc14fc1cc6e
=======
>>>>>>> 8735260d3ca5a4cec4948b7001761cc14fc1cc6e
              "      <td>0.000000</td>\n",
              "      <td>1.000000</td>\n",
              "      <td>0.000000</td>\n",
              "      <td>0.000000</td>\n",
              "      <td>0.000000</td>\n",
              "      <td>2.0</td>\n",
              "    </tr>\n",
              "    <tr>\n",
              "      <th>75%</th>\n",
<<<<<<< HEAD
<<<<<<< HEAD
              "      <td>6000.000000</td>\n",
              "      <td>1068.000000</td>\n",
              "      <td>3.000000</td>\n",
=======
              "      <td>200.000000</td>\n",
              "      <td>0.000000</td>\n",
              "      <td>0.000000</td>\n",
>>>>>>> 8735260d3ca5a4cec4948b7001761cc14fc1cc6e
=======
              "      <td>200.000000</td>\n",
              "      <td>0.000000</td>\n",
              "      <td>0.000000</td>\n",
>>>>>>> 8735260d3ca5a4cec4948b7001761cc14fc1cc6e
              "      <td>12.000000</td>\n",
              "      <td>12.000000</td>\n",
              "      <td>1.000000</td>\n",
              "      <td>1.000000</td>\n",
<<<<<<< HEAD
<<<<<<< HEAD
              "      <td>1.000000</td>\n",
              "      <td>0.000000</td>\n",
              "      <td>1.000000</td>\n",
              "      <td>1.000000</td>\n",
              "      <td>1.000000</td>\n",
=======
              "      <td>0.000000</td>\n",
              "      <td>0.000000</td>\n",
              "      <td>0.000000</td>\n",
>>>>>>> 8735260d3ca5a4cec4948b7001761cc14fc1cc6e
=======
              "      <td>0.000000</td>\n",
              "      <td>0.000000</td>\n",
              "      <td>0.000000</td>\n",
>>>>>>> 8735260d3ca5a4cec4948b7001761cc14fc1cc6e
              "      <td>1.000000</td>\n",
              "      <td>1.000000</td>\n",
              "      <td>1.000000</td>\n",
              "      <td>0.000000</td>\n",
<<<<<<< HEAD
<<<<<<< HEAD
              "      <td>62000.000000</td>\n",
              "      <td>3204.000000</td>\n",
              "      <td>4775.000000</td>\n",
              "      <td>1470.000000</td>\n",
              "      <td>94.000000</td>\n",
=======
=======
>>>>>>> 8735260d3ca5a4cec4948b7001761cc14fc1cc6e
              "      <td>0.000000</td>\n",
              "      <td>0.000000</td>\n",
              "      <td>0.000000</td>\n",
              "      <td>0.000000</td>\n",
              "      <td>1800.000000</td>\n",
              "      <td>550.000000</td>\n",
              "      <td>91.000000</td>\n",
<<<<<<< HEAD
>>>>>>> 8735260d3ca5a4cec4948b7001761cc14fc1cc6e
=======
>>>>>>> 8735260d3ca5a4cec4948b7001761cc14fc1cc6e
              "      <td>0.000000</td>\n",
              "      <td>1.000000</td>\n",
              "      <td>0.000000</td>\n",
              "      <td>0.000000</td>\n",
              "      <td>0.000000</td>\n",
              "      <td>2.0</td>\n",
              "    </tr>\n",
              "    <tr>\n",
              "      <th>max</th>\n",
<<<<<<< HEAD
<<<<<<< HEAD
              "      <td>125000.000000</td>\n",
              "      <td>1068.000000</td>\n",
              "      <td>36.000000</td>\n",
=======
              "      <td>17300.000000</td>\n",
              "      <td>1068.000000</td>\n",
              "      <td>9.000000</td>\n",
>>>>>>> 8735260d3ca5a4cec4948b7001761cc14fc1cc6e
=======
              "      <td>17300.000000</td>\n",
              "      <td>1068.000000</td>\n",
              "      <td>9.000000</td>\n",
>>>>>>> 8735260d3ca5a4cec4948b7001761cc14fc1cc6e
              "      <td>12.000000</td>\n",
              "      <td>12.000000</td>\n",
              "      <td>1.000000</td>\n",
              "      <td>1.000000</td>\n",
              "      <td>1.000000</td>\n",
              "      <td>1.000000</td>\n",
              "      <td>1.000000</td>\n",
              "      <td>1.000000</td>\n",
              "      <td>1.000000</td>\n",
              "      <td>1.000000</td>\n",
              "      <td>1.000000</td>\n",
              "      <td>1.000000</td>\n",
              "      <td>1.000000</td>\n",
<<<<<<< HEAD
<<<<<<< HEAD
              "      <td>161470.000000</td>\n",
              "      <td>38272.000000</td>\n",
              "      <td>102960.000000</td>\n",
              "      <td>9950.000000</td>\n",
=======
=======
>>>>>>> 8735260d3ca5a4cec4948b7001761cc14fc1cc6e
              "      <td>119200.000000</td>\n",
              "      <td>11068.000000</td>\n",
              "      <td>28560.000000</td>\n",
              "      <td>4440.000000</td>\n",
<<<<<<< HEAD
>>>>>>> 8735260d3ca5a4cec4948b7001761cc14fc1cc6e
=======
>>>>>>> 8735260d3ca5a4cec4948b7001761cc14fc1cc6e
              "      <td>111.000000</td>\n",
              "      <td>1.000000</td>\n",
              "      <td>1.000000</td>\n",
              "      <td>1.000000</td>\n",
              "      <td>1.000000</td>\n",
              "      <td>1.000000</td>\n",
              "      <td>2.0</td>\n",
              "    </tr>\n",
              "  </tbody>\n",
              "</table>\n",
              "</div>\n",
<<<<<<< HEAD
<<<<<<< HEAD
              "      <button class=\"colab-df-convert\" onclick=\"convertToInteractive('df-24b45160-cb5d-4cfb-a4c7-a3e83a58e108')\"\n",
=======
              "      <button class=\"colab-df-convert\" onclick=\"convertToInteractive('df-61394a9c-1012-4401-a1cb-b02002f7a132')\"\n",
>>>>>>> 8735260d3ca5a4cec4948b7001761cc14fc1cc6e
=======
              "      <button class=\"colab-df-convert\" onclick=\"convertToInteractive('df-61394a9c-1012-4401-a1cb-b02002f7a132')\"\n",
>>>>>>> 8735260d3ca5a4cec4948b7001761cc14fc1cc6e
              "              title=\"Convert this dataframe to an interactive table.\"\n",
              "              style=\"display:none;\">\n",
              "        \n",
              "  <svg xmlns=\"http://www.w3.org/2000/svg\" height=\"24px\"viewBox=\"0 0 24 24\"\n",
              "       width=\"24px\">\n",
              "    <path d=\"M0 0h24v24H0V0z\" fill=\"none\"/>\n",
              "    <path d=\"M18.56 5.44l.94 2.06.94-2.06 2.06-.94-2.06-.94-.94-2.06-.94 2.06-2.06.94zm-11 1L8.5 8.5l.94-2.06 2.06-.94-2.06-.94L8.5 2.5l-.94 2.06-2.06.94zm10 10l.94 2.06.94-2.06 2.06-.94-2.06-.94-.94-2.06-.94 2.06-2.06.94z\"/><path d=\"M17.41 7.96l-1.37-1.37c-.4-.4-.92-.59-1.43-.59-.52 0-1.04.2-1.43.59L10.3 9.45l-7.72 7.72c-.78.78-.78 2.05 0 2.83L4 21.41c.39.39.9.59 1.41.59.51 0 1.02-.2 1.41-.59l7.78-7.78 2.81-2.81c.8-.78.8-2.07 0-2.86zM5.41 20L4 18.59l7.72-7.72 1.47 1.35L5.41 20z\"/>\n",
              "  </svg>\n",
              "      </button>\n",
              "      \n",
              "  <style>\n",
              "    .colab-df-container {\n",
              "      display:flex;\n",
              "      flex-wrap:wrap;\n",
              "      gap: 12px;\n",
              "    }\n",
              "\n",
              "    .colab-df-convert {\n",
              "      background-color: #E8F0FE;\n",
              "      border: none;\n",
              "      border-radius: 50%;\n",
              "      cursor: pointer;\n",
              "      display: none;\n",
              "      fill: #1967D2;\n",
              "      height: 32px;\n",
              "      padding: 0 0 0 0;\n",
              "      width: 32px;\n",
              "    }\n",
              "\n",
              "    .colab-df-convert:hover {\n",
              "      background-color: #E2EBFA;\n",
              "      box-shadow: 0px 1px 2px rgba(60, 64, 67, 0.3), 0px 1px 3px 1px rgba(60, 64, 67, 0.15);\n",
              "      fill: #174EA6;\n",
              "    }\n",
              "\n",
              "    [theme=dark] .colab-df-convert {\n",
              "      background-color: #3B4455;\n",
              "      fill: #D2E3FC;\n",
              "    }\n",
              "\n",
              "    [theme=dark] .colab-df-convert:hover {\n",
              "      background-color: #434B5C;\n",
              "      box-shadow: 0px 1px 3px 1px rgba(0, 0, 0, 0.15);\n",
              "      filter: drop-shadow(0px 1px 2px rgba(0, 0, 0, 0.3));\n",
              "      fill: #FFFFFF;\n",
              "    }\n",
              "  </style>\n",
              "\n",
              "      <script>\n",
              "        const buttonEl =\n",
<<<<<<< HEAD
<<<<<<< HEAD
              "          document.querySelector('#df-24b45160-cb5d-4cfb-a4c7-a3e83a58e108 button.colab-df-convert');\n",
=======
              "          document.querySelector('#df-61394a9c-1012-4401-a1cb-b02002f7a132 button.colab-df-convert');\n",
>>>>>>> 8735260d3ca5a4cec4948b7001761cc14fc1cc6e
=======
              "          document.querySelector('#df-61394a9c-1012-4401-a1cb-b02002f7a132 button.colab-df-convert');\n",
>>>>>>> 8735260d3ca5a4cec4948b7001761cc14fc1cc6e
              "        buttonEl.style.display =\n",
              "          google.colab.kernel.accessAllowed ? 'block' : 'none';\n",
              "\n",
              "        async function convertToInteractive(key) {\n",
<<<<<<< HEAD
<<<<<<< HEAD
              "          const element = document.querySelector('#df-24b45160-cb5d-4cfb-a4c7-a3e83a58e108');\n",
=======
              "          const element = document.querySelector('#df-61394a9c-1012-4401-a1cb-b02002f7a132');\n",
>>>>>>> 8735260d3ca5a4cec4948b7001761cc14fc1cc6e
=======
              "          const element = document.querySelector('#df-61394a9c-1012-4401-a1cb-b02002f7a132');\n",
>>>>>>> 8735260d3ca5a4cec4948b7001761cc14fc1cc6e
              "          const dataTable =\n",
              "            await google.colab.kernel.invokeFunction('convertToInteractive',\n",
              "                                                     [key], {});\n",
              "          if (!dataTable) return;\n",
              "\n",
              "          const docLinkHtml = 'Like what you see? Visit the ' +\n",
              "            '<a target=\"_blank\" href=https://colab.research.google.com/notebooks/data_table.ipynb>data table notebook</a>'\n",
              "            + ' to learn more about interactive tables.';\n",
              "          element.innerHTML = '';\n",
              "          dataTable['output_type'] = 'display_data';\n",
              "          await google.colab.output.renderOutput(dataTable, element);\n",
              "          const docLink = document.createElement('div');\n",
              "          docLink.innerHTML = docLinkHtml;\n",
              "          element.appendChild(docLink);\n",
              "        }\n",
              "      </script>\n",
              "    </div>\n",
              "  </div>\n",
              "  "
            ]
          },
          "metadata": {},
<<<<<<< HEAD
<<<<<<< HEAD
          "execution_count": 93
        }
=======
=======
>>>>>>> 8735260d3ca5a4cec4948b7001761cc14fc1cc6e
          "execution_count": 94
        }
      ],
      "source": [
        "train_final.loc[train_final['cluster_pca'] == 2].describe()\n"
<<<<<<< HEAD
>>>>>>> 8735260d3ca5a4cec4948b7001761cc14fc1cc6e
=======
>>>>>>> 8735260d3ca5a4cec4948b7001761cc14fc1cc6e
      ]
    },
    {
      "cell_type": "code",
<<<<<<< HEAD
<<<<<<< HEAD
      "source": [
        "train_final.groupby('cluster_pca')['Provider'].nunique()\n"
      ],
      "metadata": {
        "colab": {
          "base_uri": "https://localhost:8080/"
        },
        "id": "OspqFevvKYNb",
        "outputId": "29aa2bb2-0fec-4609-c8a9-bd44e118b15b"
      },
      "execution_count": 94,
=======
=======
>>>>>>> 8735260d3ca5a4cec4948b7001761cc14fc1cc6e
      "execution_count": 95,
      "metadata": {
        "id": "OspqFevvKYNb",
        "colab": {
          "base_uri": "https://localhost:8080/"
        },
        "outputId": "b6206f14-ad3b-4350-878d-05db8f76e4e7"
      },
<<<<<<< HEAD
>>>>>>> 8735260d3ca5a4cec4948b7001761cc14fc1cc6e
=======
>>>>>>> 8735260d3ca5a4cec4948b7001761cc14fc1cc6e
      "outputs": [
        {
          "output_type": "execute_result",
          "data": {
            "text/plain": [
              "cluster_pca\n",
<<<<<<< HEAD
<<<<<<< HEAD
              "0    5308\n",
              "1    4507\n",
              "2    2897\n",
=======
              "0    2136\n",
              "1    4760\n",
              "2    4910\n",
>>>>>>> 8735260d3ca5a4cec4948b7001761cc14fc1cc6e
=======
              "0    2136\n",
              "1    4760\n",
              "2    4910\n",
>>>>>>> 8735260d3ca5a4cec4948b7001761cc14fc1cc6e
              "Name: Provider, dtype: int64"
            ]
          },
          "metadata": {},
<<<<<<< HEAD
<<<<<<< HEAD
          "execution_count": 94
        }
=======
=======
>>>>>>> 8735260d3ca5a4cec4948b7001761cc14fc1cc6e
          "execution_count": 95
        }
      ],
      "source": [
        "train_final.groupby('cluster_pca')['Provider'].nunique()\n"
<<<<<<< HEAD
>>>>>>> 8735260d3ca5a4cec4948b7001761cc14fc1cc6e
=======
>>>>>>> 8735260d3ca5a4cec4948b7001761cc14fc1cc6e
      ]
    },
    {
      "cell_type": "code",
<<<<<<< HEAD
<<<<<<< HEAD
      "source": [
        "train_final['Provider'].nunique()"
      ],
      "metadata": {
        "colab": {
          "base_uri": "https://localhost:8080/"
        },
        "id": "7hDcX_4MLoV6",
        "outputId": "3d6bca8c-10d7-4150-df98-11ffbb72c5cd"
      },
      "execution_count": 95,
=======
=======
>>>>>>> 8735260d3ca5a4cec4948b7001761cc14fc1cc6e
      "execution_count": 96,
      "metadata": {
        "id": "7hDcX_4MLoV6",
        "colab": {
          "base_uri": "https://localhost:8080/"
        },
        "outputId": "79d33360-bb34-40f9-f7b3-b9e91ea22cbc"
      },
<<<<<<< HEAD
>>>>>>> 8735260d3ca5a4cec4948b7001761cc14fc1cc6e
=======
>>>>>>> 8735260d3ca5a4cec4948b7001761cc14fc1cc6e
      "outputs": [
        {
          "output_type": "execute_result",
          "data": {
            "text/plain": [
              "5410"
            ]
          },
          "metadata": {},
<<<<<<< HEAD
<<<<<<< HEAD
          "execution_count": 95
        }
=======
=======
>>>>>>> 8735260d3ca5a4cec4948b7001761cc14fc1cc6e
          "execution_count": 96
        }
      ],
      "source": [
        "train_final['Provider'].nunique()"
<<<<<<< HEAD
>>>>>>> 8735260d3ca5a4cec4948b7001761cc14fc1cc6e
=======
>>>>>>> 8735260d3ca5a4cec4948b7001761cc14fc1cc6e
      ]
    },
    {
      "cell_type": "code",
      "source": [
<<<<<<< HEAD
<<<<<<< HEAD
        "df_InscClaimAmtReimbursed = train_final.groupby('cluster_pca')['InscClaimAmtReimbursed'].mean()\\\n",
        "                                       .reset_index(name='InscClaimAmtReimbursed_mean')\\\n",
        "                                       .sort_values(['InscClaimAmtReimbursed_mean'], ascending=False)\n",
        "\n",
        "df_InscClaimAmtReimbursed.head()"
      ],
      "metadata": {
        "colab": {
          "base_uri": "https://localhost:8080/",
          "height": 160
        },
        "id": "NFBpHC2dLw5e",
        "outputId": "7424619e-745e-4f04-afdb-933a1f5bb6ec"
      },
      "execution_count": 97,
=======
=======
>>>>>>> 8735260d3ca5a4cec4948b7001761cc14fc1cc6e
        "pickle.dump(km, open('km_model.pkl', 'wb'))"
      ],
      "metadata": {
        "id": "62tsDdy-C0Kx"
      },
      "execution_count": 97,
      "outputs": []
    },
    {
      "cell_type": "code",
      "execution_count": 98,
      "metadata": {
        "id": "NFBpHC2dLw5e",
        "colab": {
          "base_uri": "https://localhost:8080/",
          "height": 143
        },
        "outputId": "7b8ce4b7-117d-4065-e792-d90df80ec5c9"
      },
<<<<<<< HEAD
>>>>>>> 8735260d3ca5a4cec4948b7001761cc14fc1cc6e
=======
>>>>>>> 8735260d3ca5a4cec4948b7001761cc14fc1cc6e
      "outputs": [
        {
          "output_type": "execute_result",
          "data": {
            "text/plain": [
              "   cluster_pca  InscClaimAmtReimbursed_mean\n",
<<<<<<< HEAD
<<<<<<< HEAD
              "2            2                  7679.933484\n",
              "1            1                  2840.121371\n",
              "0            0                   403.204453"
            ],
            "text/html": [
              "\n",
              "  <div id=\"df-adad5b06-5498-4098-83ac-7f213bcc3d74\">\n",
=======
=======
>>>>>>> 8735260d3ca5a4cec4948b7001761cc14fc1cc6e
              "0            0                 10161.885773\n",
              "1            1                   366.400220\n",
              "2            2                   235.567795"
            ],
            "text/html": [
              "\n",
              "  <div id=\"df-b3e23893-6e82-4299-96d4-5ede6aa2e320\">\n",
<<<<<<< HEAD
>>>>>>> 8735260d3ca5a4cec4948b7001761cc14fc1cc6e
=======
>>>>>>> 8735260d3ca5a4cec4948b7001761cc14fc1cc6e
              "    <div class=\"colab-df-container\">\n",
              "      <div>\n",
              "<style scoped>\n",
              "    .dataframe tbody tr th:only-of-type {\n",
              "        vertical-align: middle;\n",
              "    }\n",
              "\n",
              "    .dataframe tbody tr th {\n",
              "        vertical-align: top;\n",
              "    }\n",
              "\n",
              "    .dataframe thead th {\n",
              "        text-align: right;\n",
              "    }\n",
              "</style>\n",
              "<table border=\"1\" class=\"dataframe\">\n",
              "  <thead>\n",
              "    <tr style=\"text-align: right;\">\n",
              "      <th></th>\n",
              "      <th>cluster_pca</th>\n",
              "      <th>InscClaimAmtReimbursed_mean</th>\n",
              "    </tr>\n",
              "  </thead>\n",
              "  <tbody>\n",
              "    <tr>\n",
<<<<<<< HEAD
<<<<<<< HEAD
              "      <th>2</th>\n",
              "      <td>2</td>\n",
              "      <td>7679.933484</td>\n",
=======
              "      <th>0</th>\n",
              "      <td>0</td>\n",
              "      <td>10161.885773</td>\n",
>>>>>>> 8735260d3ca5a4cec4948b7001761cc14fc1cc6e
=======
              "      <th>0</th>\n",
              "      <td>0</td>\n",
              "      <td>10161.885773</td>\n",
>>>>>>> 8735260d3ca5a4cec4948b7001761cc14fc1cc6e
              "    </tr>\n",
              "    <tr>\n",
              "      <th>1</th>\n",
              "      <td>1</td>\n",
<<<<<<< HEAD
<<<<<<< HEAD
              "      <td>2840.121371</td>\n",
              "    </tr>\n",
              "    <tr>\n",
              "      <th>0</th>\n",
              "      <td>0</td>\n",
              "      <td>403.204453</td>\n",
=======
=======
>>>>>>> 8735260d3ca5a4cec4948b7001761cc14fc1cc6e
              "      <td>366.400220</td>\n",
              "    </tr>\n",
              "    <tr>\n",
              "      <th>2</th>\n",
              "      <td>2</td>\n",
              "      <td>235.567795</td>\n",
<<<<<<< HEAD
>>>>>>> 8735260d3ca5a4cec4948b7001761cc14fc1cc6e
=======
>>>>>>> 8735260d3ca5a4cec4948b7001761cc14fc1cc6e
              "    </tr>\n",
              "  </tbody>\n",
              "</table>\n",
              "</div>\n",
<<<<<<< HEAD
<<<<<<< HEAD
              "      <button class=\"colab-df-convert\" onclick=\"convertToInteractive('df-adad5b06-5498-4098-83ac-7f213bcc3d74')\"\n",
=======
              "      <button class=\"colab-df-convert\" onclick=\"convertToInteractive('df-b3e23893-6e82-4299-96d4-5ede6aa2e320')\"\n",
>>>>>>> 8735260d3ca5a4cec4948b7001761cc14fc1cc6e
=======
              "      <button class=\"colab-df-convert\" onclick=\"convertToInteractive('df-b3e23893-6e82-4299-96d4-5ede6aa2e320')\"\n",
>>>>>>> 8735260d3ca5a4cec4948b7001761cc14fc1cc6e
              "              title=\"Convert this dataframe to an interactive table.\"\n",
              "              style=\"display:none;\">\n",
              "        \n",
              "  <svg xmlns=\"http://www.w3.org/2000/svg\" height=\"24px\"viewBox=\"0 0 24 24\"\n",
              "       width=\"24px\">\n",
              "    <path d=\"M0 0h24v24H0V0z\" fill=\"none\"/>\n",
              "    <path d=\"M18.56 5.44l.94 2.06.94-2.06 2.06-.94-2.06-.94-.94-2.06-.94 2.06-2.06.94zm-11 1L8.5 8.5l.94-2.06 2.06-.94-2.06-.94L8.5 2.5l-.94 2.06-2.06.94zm10 10l.94 2.06.94-2.06 2.06-.94-2.06-.94-.94-2.06-.94 2.06-2.06.94z\"/><path d=\"M17.41 7.96l-1.37-1.37c-.4-.4-.92-.59-1.43-.59-.52 0-1.04.2-1.43.59L10.3 9.45l-7.72 7.72c-.78.78-.78 2.05 0 2.83L4 21.41c.39.39.9.59 1.41.59.51 0 1.02-.2 1.41-.59l7.78-7.78 2.81-2.81c.8-.78.8-2.07 0-2.86zM5.41 20L4 18.59l7.72-7.72 1.47 1.35L5.41 20z\"/>\n",
              "  </svg>\n",
              "      </button>\n",
              "      \n",
              "  <style>\n",
              "    .colab-df-container {\n",
              "      display:flex;\n",
              "      flex-wrap:wrap;\n",
              "      gap: 12px;\n",
              "    }\n",
              "\n",
              "    .colab-df-convert {\n",
              "      background-color: #E8F0FE;\n",
              "      border: none;\n",
              "      border-radius: 50%;\n",
              "      cursor: pointer;\n",
              "      display: none;\n",
              "      fill: #1967D2;\n",
              "      height: 32px;\n",
              "      padding: 0 0 0 0;\n",
              "      width: 32px;\n",
              "    }\n",
              "\n",
              "    .colab-df-convert:hover {\n",
              "      background-color: #E2EBFA;\n",
              "      box-shadow: 0px 1px 2px rgba(60, 64, 67, 0.3), 0px 1px 3px 1px rgba(60, 64, 67, 0.15);\n",
              "      fill: #174EA6;\n",
              "    }\n",
              "\n",
              "    [theme=dark] .colab-df-convert {\n",
              "      background-color: #3B4455;\n",
              "      fill: #D2E3FC;\n",
              "    }\n",
              "\n",
              "    [theme=dark] .colab-df-convert:hover {\n",
              "      background-color: #434B5C;\n",
              "      box-shadow: 0px 1px 3px 1px rgba(0, 0, 0, 0.15);\n",
              "      filter: drop-shadow(0px 1px 2px rgba(0, 0, 0, 0.3));\n",
              "      fill: #FFFFFF;\n",
              "    }\n",
              "  </style>\n",
              "\n",
              "      <script>\n",
              "        const buttonEl =\n",
<<<<<<< HEAD
<<<<<<< HEAD
              "          document.querySelector('#df-adad5b06-5498-4098-83ac-7f213bcc3d74 button.colab-df-convert');\n",
=======
              "          document.querySelector('#df-b3e23893-6e82-4299-96d4-5ede6aa2e320 button.colab-df-convert');\n",
>>>>>>> 8735260d3ca5a4cec4948b7001761cc14fc1cc6e
=======
              "          document.querySelector('#df-b3e23893-6e82-4299-96d4-5ede6aa2e320 button.colab-df-convert');\n",
>>>>>>> 8735260d3ca5a4cec4948b7001761cc14fc1cc6e
              "        buttonEl.style.display =\n",
              "          google.colab.kernel.accessAllowed ? 'block' : 'none';\n",
              "\n",
              "        async function convertToInteractive(key) {\n",
<<<<<<< HEAD
<<<<<<< HEAD
              "          const element = document.querySelector('#df-adad5b06-5498-4098-83ac-7f213bcc3d74');\n",
=======
              "          const element = document.querySelector('#df-b3e23893-6e82-4299-96d4-5ede6aa2e320');\n",
>>>>>>> 8735260d3ca5a4cec4948b7001761cc14fc1cc6e
=======
              "          const element = document.querySelector('#df-b3e23893-6e82-4299-96d4-5ede6aa2e320');\n",
>>>>>>> 8735260d3ca5a4cec4948b7001761cc14fc1cc6e
              "          const dataTable =\n",
              "            await google.colab.kernel.invokeFunction('convertToInteractive',\n",
              "                                                     [key], {});\n",
              "          if (!dataTable) return;\n",
              "\n",
              "          const docLinkHtml = 'Like what you see? Visit the ' +\n",
              "            '<a target=\"_blank\" href=https://colab.research.google.com/notebooks/data_table.ipynb>data table notebook</a>'\n",
              "            + ' to learn more about interactive tables.';\n",
              "          element.innerHTML = '';\n",
              "          dataTable['output_type'] = 'display_data';\n",
              "          await google.colab.output.renderOutput(dataTable, element);\n",
              "          const docLink = document.createElement('div');\n",
              "          docLink.innerHTML = docLinkHtml;\n",
              "          element.appendChild(docLink);\n",
              "        }\n",
              "      </script>\n",
              "    </div>\n",
              "  </div>\n",
              "  "
            ]
          },
          "metadata": {},
<<<<<<< HEAD
<<<<<<< HEAD
          "execution_count": 97
        }
=======
=======
>>>>>>> 8735260d3ca5a4cec4948b7001761cc14fc1cc6e
          "execution_count": 98
        }
      ],
      "source": [
        "df_InscClaimAmtReimbursed = train_final.groupby('cluster_pca')['InscClaimAmtReimbursed'].mean()\\\n",
        "                                       .reset_index(name='InscClaimAmtReimbursed_mean')\\\n",
<<<<<<< HEAD
        "                                       .sort_values(['InscClaimAmtReimbursed_mean'], ascending=False)\n",
        "\n",
        "df_InscClaimAmtReimbursed.head()"
>>>>>>> 8735260d3ca5a4cec4948b7001761cc14fc1cc6e
      ]
    },
    {
      "cell_type": "code",
<<<<<<< HEAD
      "source": [
        "df_DeductibleAmtPaid = train_final.groupby('cluster_pca')['DeductibleAmtPaid'].mean()\\\n",
        "                                       .reset_index(name='DeductibleAmtPaid_mean')\\\n",
        "                                       .sort_values(['DeductibleAmtPaid_mean'], ascending=False)\n",
        "\n",
        "df_DeductibleAmtPaid.head()"
      ],
      "metadata": {
        "colab": {
          "base_uri": "https://localhost:8080/",
          "height": 160
        },
        "id": "QiD9qaNsMcG1",
        "outputId": "d9c4f809-9482-4471-d847-139b5365a836"
      },
      "execution_count": 98,
=======
=======
        "                                       .sort_values(['InscClaimAmtReimbursed_mean'], ascending=False)\n",
        "\n",
        "df_InscClaimAmtReimbursed.head()"
      ]
    },
    {
      "cell_type": "code",
>>>>>>> 8735260d3ca5a4cec4948b7001761cc14fc1cc6e
      "execution_count": 99,
      "metadata": {
        "id": "QiD9qaNsMcG1",
        "colab": {
          "base_uri": "https://localhost:8080/",
          "height": 143
        },
        "outputId": "a2987479-8f45-4b88-f06f-65d6e5caa2d8"
      },
<<<<<<< HEAD
>>>>>>> 8735260d3ca5a4cec4948b7001761cc14fc1cc6e
=======
>>>>>>> 8735260d3ca5a4cec4948b7001761cc14fc1cc6e
      "outputs": [
        {
          "output_type": "execute_result",
          "data": {
            "text/plain": [
              "   cluster_pca  DeductibleAmtPaid_mean\n",
<<<<<<< HEAD
<<<<<<< HEAD
              "2            2              298.158906\n",
              "1            1              250.774297\n",
              "0            0               37.339577"
            ],
            "text/html": [
              "\n",
              "  <div id=\"df-46d5660e-5ea7-45ac-8699-1c42b0a4cfbc\">\n",
=======
=======
>>>>>>> 8735260d3ca5a4cec4948b7001761cc14fc1cc6e
              "0            0             1050.154955\n",
              "2            2                3.708453\n",
              "1            1                2.807162"
            ],
            "text/html": [
              "\n",
              "  <div id=\"df-45b48eba-97da-4b51-83b4-4b91bd6ae8fc\">\n",
<<<<<<< HEAD
>>>>>>> 8735260d3ca5a4cec4948b7001761cc14fc1cc6e
=======
>>>>>>> 8735260d3ca5a4cec4948b7001761cc14fc1cc6e
              "    <div class=\"colab-df-container\">\n",
              "      <div>\n",
              "<style scoped>\n",
              "    .dataframe tbody tr th:only-of-type {\n",
              "        vertical-align: middle;\n",
              "    }\n",
              "\n",
              "    .dataframe tbody tr th {\n",
              "        vertical-align: top;\n",
              "    }\n",
              "\n",
              "    .dataframe thead th {\n",
              "        text-align: right;\n",
              "    }\n",
              "</style>\n",
              "<table border=\"1\" class=\"dataframe\">\n",
              "  <thead>\n",
              "    <tr style=\"text-align: right;\">\n",
              "      <th></th>\n",
              "      <th>cluster_pca</th>\n",
              "      <th>DeductibleAmtPaid_mean</th>\n",
              "    </tr>\n",
              "  </thead>\n",
              "  <tbody>\n",
              "    <tr>\n",
<<<<<<< HEAD
<<<<<<< HEAD
              "      <th>2</th>\n",
              "      <td>2</td>\n",
              "      <td>298.158906</td>\n",
=======
=======
>>>>>>> 8735260d3ca5a4cec4948b7001761cc14fc1cc6e
              "      <th>0</th>\n",
              "      <td>0</td>\n",
              "      <td>1050.154955</td>\n",
              "    </tr>\n",
              "    <tr>\n",
              "      <th>2</th>\n",
              "      <td>2</td>\n",
              "      <td>3.708453</td>\n",
<<<<<<< HEAD
>>>>>>> 8735260d3ca5a4cec4948b7001761cc14fc1cc6e
=======
>>>>>>> 8735260d3ca5a4cec4948b7001761cc14fc1cc6e
              "    </tr>\n",
              "    <tr>\n",
              "      <th>1</th>\n",
              "      <td>1</td>\n",
<<<<<<< HEAD
<<<<<<< HEAD
              "      <td>250.774297</td>\n",
              "    </tr>\n",
              "    <tr>\n",
              "      <th>0</th>\n",
              "      <td>0</td>\n",
              "      <td>37.339577</td>\n",
=======
              "      <td>2.807162</td>\n",
>>>>>>> 8735260d3ca5a4cec4948b7001761cc14fc1cc6e
=======
              "      <td>2.807162</td>\n",
>>>>>>> 8735260d3ca5a4cec4948b7001761cc14fc1cc6e
              "    </tr>\n",
              "  </tbody>\n",
              "</table>\n",
              "</div>\n",
<<<<<<< HEAD
<<<<<<< HEAD
              "      <button class=\"colab-df-convert\" onclick=\"convertToInteractive('df-46d5660e-5ea7-45ac-8699-1c42b0a4cfbc')\"\n",
=======
              "      <button class=\"colab-df-convert\" onclick=\"convertToInteractive('df-45b48eba-97da-4b51-83b4-4b91bd6ae8fc')\"\n",
>>>>>>> 8735260d3ca5a4cec4948b7001761cc14fc1cc6e
=======
              "      <button class=\"colab-df-convert\" onclick=\"convertToInteractive('df-45b48eba-97da-4b51-83b4-4b91bd6ae8fc')\"\n",
>>>>>>> 8735260d3ca5a4cec4948b7001761cc14fc1cc6e
              "              title=\"Convert this dataframe to an interactive table.\"\n",
              "              style=\"display:none;\">\n",
              "        \n",
              "  <svg xmlns=\"http://www.w3.org/2000/svg\" height=\"24px\"viewBox=\"0 0 24 24\"\n",
              "       width=\"24px\">\n",
              "    <path d=\"M0 0h24v24H0V0z\" fill=\"none\"/>\n",
              "    <path d=\"M18.56 5.44l.94 2.06.94-2.06 2.06-.94-2.06-.94-.94-2.06-.94 2.06-2.06.94zm-11 1L8.5 8.5l.94-2.06 2.06-.94-2.06-.94L8.5 2.5l-.94 2.06-2.06.94zm10 10l.94 2.06.94-2.06 2.06-.94-2.06-.94-.94-2.06-.94 2.06-2.06.94z\"/><path d=\"M17.41 7.96l-1.37-1.37c-.4-.4-.92-.59-1.43-.59-.52 0-1.04.2-1.43.59L10.3 9.45l-7.72 7.72c-.78.78-.78 2.05 0 2.83L4 21.41c.39.39.9.59 1.41.59.51 0 1.02-.2 1.41-.59l7.78-7.78 2.81-2.81c.8-.78.8-2.07 0-2.86zM5.41 20L4 18.59l7.72-7.72 1.47 1.35L5.41 20z\"/>\n",
              "  </svg>\n",
              "      </button>\n",
              "      \n",
              "  <style>\n",
              "    .colab-df-container {\n",
              "      display:flex;\n",
              "      flex-wrap:wrap;\n",
              "      gap: 12px;\n",
              "    }\n",
              "\n",
              "    .colab-df-convert {\n",
              "      background-color: #E8F0FE;\n",
              "      border: none;\n",
              "      border-radius: 50%;\n",
              "      cursor: pointer;\n",
              "      display: none;\n",
              "      fill: #1967D2;\n",
              "      height: 32px;\n",
              "      padding: 0 0 0 0;\n",
              "      width: 32px;\n",
              "    }\n",
              "\n",
              "    .colab-df-convert:hover {\n",
              "      background-color: #E2EBFA;\n",
              "      box-shadow: 0px 1px 2px rgba(60, 64, 67, 0.3), 0px 1px 3px 1px rgba(60, 64, 67, 0.15);\n",
              "      fill: #174EA6;\n",
              "    }\n",
              "\n",
              "    [theme=dark] .colab-df-convert {\n",
              "      background-color: #3B4455;\n",
              "      fill: #D2E3FC;\n",
              "    }\n",
              "\n",
              "    [theme=dark] .colab-df-convert:hover {\n",
              "      background-color: #434B5C;\n",
              "      box-shadow: 0px 1px 3px 1px rgba(0, 0, 0, 0.15);\n",
              "      filter: drop-shadow(0px 1px 2px rgba(0, 0, 0, 0.3));\n",
              "      fill: #FFFFFF;\n",
              "    }\n",
              "  </style>\n",
              "\n",
              "      <script>\n",
              "        const buttonEl =\n",
<<<<<<< HEAD
<<<<<<< HEAD
              "          document.querySelector('#df-46d5660e-5ea7-45ac-8699-1c42b0a4cfbc button.colab-df-convert');\n",
=======
              "          document.querySelector('#df-45b48eba-97da-4b51-83b4-4b91bd6ae8fc button.colab-df-convert');\n",
>>>>>>> 8735260d3ca5a4cec4948b7001761cc14fc1cc6e
=======
              "          document.querySelector('#df-45b48eba-97da-4b51-83b4-4b91bd6ae8fc button.colab-df-convert');\n",
>>>>>>> 8735260d3ca5a4cec4948b7001761cc14fc1cc6e
              "        buttonEl.style.display =\n",
              "          google.colab.kernel.accessAllowed ? 'block' : 'none';\n",
              "\n",
              "        async function convertToInteractive(key) {\n",
<<<<<<< HEAD
<<<<<<< HEAD
              "          const element = document.querySelector('#df-46d5660e-5ea7-45ac-8699-1c42b0a4cfbc');\n",
=======
              "          const element = document.querySelector('#df-45b48eba-97da-4b51-83b4-4b91bd6ae8fc');\n",
>>>>>>> 8735260d3ca5a4cec4948b7001761cc14fc1cc6e
=======
              "          const element = document.querySelector('#df-45b48eba-97da-4b51-83b4-4b91bd6ae8fc');\n",
>>>>>>> 8735260d3ca5a4cec4948b7001761cc14fc1cc6e
              "          const dataTable =\n",
              "            await google.colab.kernel.invokeFunction('convertToInteractive',\n",
              "                                                     [key], {});\n",
              "          if (!dataTable) return;\n",
              "\n",
              "          const docLinkHtml = 'Like what you see? Visit the ' +\n",
              "            '<a target=\"_blank\" href=https://colab.research.google.com/notebooks/data_table.ipynb>data table notebook</a>'\n",
              "            + ' to learn more about interactive tables.';\n",
              "          element.innerHTML = '';\n",
              "          dataTable['output_type'] = 'display_data';\n",
              "          await google.colab.output.renderOutput(dataTable, element);\n",
              "          const docLink = document.createElement('div');\n",
              "          docLink.innerHTML = docLinkHtml;\n",
              "          element.appendChild(docLink);\n",
              "        }\n",
              "      </script>\n",
              "    </div>\n",
              "  </div>\n",
              "  "
            ]
          },
          "metadata": {},
<<<<<<< HEAD
<<<<<<< HEAD
          "execution_count": 98
        }
      ]
    },
    {
      "cell_type": "code",
      "source": [
        "df_ChronicCond_Heartfailure = train_final.groupby('cluster_pca')['ChronicCond_Heartfailure'].mean()\\\n",
        "                                       .reset_index(name='ChronicCond_Heartfailure_mean')\\\n",
        "                                       .sort_values(['ChronicCond_Heartfailure_mean'], ascending=False)\n",
        "\n",
        "df_ChronicCond_Heartfailure.head()"
      ],
      "metadata": {
        "colab": {
          "base_uri": "https://localhost:8080/",
          "height": 160
        },
        "id": "0X5vp940N_oW",
        "outputId": "fb7a1f85-bab6-4ffb-e619-10ff13e260f8"
      },
      "execution_count": 104,
=======
=======
>>>>>>> 8735260d3ca5a4cec4948b7001761cc14fc1cc6e
          "execution_count": 99
        }
      ],
      "source": [
        "df_DeductibleAmtPaid = train_final.groupby('cluster_pca')['DeductibleAmtPaid'].mean()\\\n",
        "                                       .reset_index(name='DeductibleAmtPaid_mean')\\\n",
        "                                       .sort_values(['DeductibleAmtPaid_mean'], ascending=False)\n",
        "\n",
        "df_DeductibleAmtPaid.head()"
      ]
    },
    {
      "cell_type": "code",
      "execution_count": 100,
      "metadata": {
        "id": "0X5vp940N_oW",
        "colab": {
          "base_uri": "https://localhost:8080/",
          "height": 143
        },
        "outputId": "44d508c6-02d5-46eb-d535-be07a8f3537d"
      },
<<<<<<< HEAD
>>>>>>> 8735260d3ca5a4cec4948b7001761cc14fc1cc6e
=======
>>>>>>> 8735260d3ca5a4cec4948b7001761cc14fc1cc6e
      "outputs": [
        {
          "output_type": "execute_result",
          "data": {
            "text/plain": [
              "   cluster_pca  ChronicCond_Heartfailure_mean\n",
<<<<<<< HEAD
<<<<<<< HEAD
              "2            2                       0.852566\n",
              "1            1                       0.772012\n",
              "0            0                       0.546205"
            ],
            "text/html": [
              "\n",
              "  <div id=\"df-c90f3d29-8531-4fb0-8b10-26acdc1d16aa\">\n",
=======
=======
>>>>>>> 8735260d3ca5a4cec4948b7001761cc14fc1cc6e
              "1            1                       0.860469\n",
              "0            0                       0.724964\n",
              "2            2                       0.379618"
            ],
            "text/html": [
              "\n",
              "  <div id=\"df-8881aa33-4780-4aec-ba0a-7e4c029acd26\">\n",
<<<<<<< HEAD
>>>>>>> 8735260d3ca5a4cec4948b7001761cc14fc1cc6e
=======
>>>>>>> 8735260d3ca5a4cec4948b7001761cc14fc1cc6e
              "    <div class=\"colab-df-container\">\n",
              "      <div>\n",
              "<style scoped>\n",
              "    .dataframe tbody tr th:only-of-type {\n",
              "        vertical-align: middle;\n",
              "    }\n",
              "\n",
              "    .dataframe tbody tr th {\n",
              "        vertical-align: top;\n",
              "    }\n",
              "\n",
              "    .dataframe thead th {\n",
              "        text-align: right;\n",
              "    }\n",
              "</style>\n",
              "<table border=\"1\" class=\"dataframe\">\n",
              "  <thead>\n",
              "    <tr style=\"text-align: right;\">\n",
              "      <th></th>\n",
              "      <th>cluster_pca</th>\n",
              "      <th>ChronicCond_Heartfailure_mean</th>\n",
              "    </tr>\n",
              "  </thead>\n",
              "  <tbody>\n",
              "    <tr>\n",
<<<<<<< HEAD
<<<<<<< HEAD
              "      <th>2</th>\n",
              "      <td>2</td>\n",
              "      <td>0.852566</td>\n",
              "    </tr>\n",
              "    <tr>\n",
              "      <th>1</th>\n",
              "      <td>1</td>\n",
              "      <td>0.772012</td>\n",
=======
              "      <th>1</th>\n",
              "      <td>1</td>\n",
              "      <td>0.860469</td>\n",
>>>>>>> 8735260d3ca5a4cec4948b7001761cc14fc1cc6e
=======
              "      <th>1</th>\n",
              "      <td>1</td>\n",
              "      <td>0.860469</td>\n",
>>>>>>> 8735260d3ca5a4cec4948b7001761cc14fc1cc6e
              "    </tr>\n",
              "    <tr>\n",
              "      <th>0</th>\n",
              "      <td>0</td>\n",
<<<<<<< HEAD
<<<<<<< HEAD
              "      <td>0.546205</td>\n",
=======
=======
>>>>>>> 8735260d3ca5a4cec4948b7001761cc14fc1cc6e
              "      <td>0.724964</td>\n",
              "    </tr>\n",
              "    <tr>\n",
              "      <th>2</th>\n",
              "      <td>2</td>\n",
              "      <td>0.379618</td>\n",
<<<<<<< HEAD
>>>>>>> 8735260d3ca5a4cec4948b7001761cc14fc1cc6e
=======
>>>>>>> 8735260d3ca5a4cec4948b7001761cc14fc1cc6e
              "    </tr>\n",
              "  </tbody>\n",
              "</table>\n",
              "</div>\n",
<<<<<<< HEAD
<<<<<<< HEAD
              "      <button class=\"colab-df-convert\" onclick=\"convertToInteractive('df-c90f3d29-8531-4fb0-8b10-26acdc1d16aa')\"\n",
=======
              "      <button class=\"colab-df-convert\" onclick=\"convertToInteractive('df-8881aa33-4780-4aec-ba0a-7e4c029acd26')\"\n",
>>>>>>> 8735260d3ca5a4cec4948b7001761cc14fc1cc6e
=======
              "      <button class=\"colab-df-convert\" onclick=\"convertToInteractive('df-8881aa33-4780-4aec-ba0a-7e4c029acd26')\"\n",
>>>>>>> 8735260d3ca5a4cec4948b7001761cc14fc1cc6e
              "              title=\"Convert this dataframe to an interactive table.\"\n",
              "              style=\"display:none;\">\n",
              "        \n",
              "  <svg xmlns=\"http://www.w3.org/2000/svg\" height=\"24px\"viewBox=\"0 0 24 24\"\n",
              "       width=\"24px\">\n",
              "    <path d=\"M0 0h24v24H0V0z\" fill=\"none\"/>\n",
              "    <path d=\"M18.56 5.44l.94 2.06.94-2.06 2.06-.94-2.06-.94-.94-2.06-.94 2.06-2.06.94zm-11 1L8.5 8.5l.94-2.06 2.06-.94-2.06-.94L8.5 2.5l-.94 2.06-2.06.94zm10 10l.94 2.06.94-2.06 2.06-.94-2.06-.94-.94-2.06-.94 2.06-2.06.94z\"/><path d=\"M17.41 7.96l-1.37-1.37c-.4-.4-.92-.59-1.43-.59-.52 0-1.04.2-1.43.59L10.3 9.45l-7.72 7.72c-.78.78-.78 2.05 0 2.83L4 21.41c.39.39.9.59 1.41.59.51 0 1.02-.2 1.41-.59l7.78-7.78 2.81-2.81c.8-.78.8-2.07 0-2.86zM5.41 20L4 18.59l7.72-7.72 1.47 1.35L5.41 20z\"/>\n",
              "  </svg>\n",
              "      </button>\n",
              "      \n",
              "  <style>\n",
              "    .colab-df-container {\n",
              "      display:flex;\n",
              "      flex-wrap:wrap;\n",
              "      gap: 12px;\n",
              "    }\n",
              "\n",
              "    .colab-df-convert {\n",
              "      background-color: #E8F0FE;\n",
              "      border: none;\n",
              "      border-radius: 50%;\n",
              "      cursor: pointer;\n",
              "      display: none;\n",
              "      fill: #1967D2;\n",
              "      height: 32px;\n",
              "      padding: 0 0 0 0;\n",
              "      width: 32px;\n",
              "    }\n",
              "\n",
              "    .colab-df-convert:hover {\n",
              "      background-color: #E2EBFA;\n",
              "      box-shadow: 0px 1px 2px rgba(60, 64, 67, 0.3), 0px 1px 3px 1px rgba(60, 64, 67, 0.15);\n",
              "      fill: #174EA6;\n",
              "    }\n",
              "\n",
              "    [theme=dark] .colab-df-convert {\n",
              "      background-color: #3B4455;\n",
              "      fill: #D2E3FC;\n",
              "    }\n",
              "\n",
              "    [theme=dark] .colab-df-convert:hover {\n",
              "      background-color: #434B5C;\n",
              "      box-shadow: 0px 1px 3px 1px rgba(0, 0, 0, 0.15);\n",
              "      filter: drop-shadow(0px 1px 2px rgba(0, 0, 0, 0.3));\n",
              "      fill: #FFFFFF;\n",
              "    }\n",
              "  </style>\n",
              "\n",
              "      <script>\n",
              "        const buttonEl =\n",
<<<<<<< HEAD
<<<<<<< HEAD
              "          document.querySelector('#df-c90f3d29-8531-4fb0-8b10-26acdc1d16aa button.colab-df-convert');\n",
=======
              "          document.querySelector('#df-8881aa33-4780-4aec-ba0a-7e4c029acd26 button.colab-df-convert');\n",
>>>>>>> 8735260d3ca5a4cec4948b7001761cc14fc1cc6e
=======
              "          document.querySelector('#df-8881aa33-4780-4aec-ba0a-7e4c029acd26 button.colab-df-convert');\n",
>>>>>>> 8735260d3ca5a4cec4948b7001761cc14fc1cc6e
              "        buttonEl.style.display =\n",
              "          google.colab.kernel.accessAllowed ? 'block' : 'none';\n",
              "\n",
              "        async function convertToInteractive(key) {\n",
<<<<<<< HEAD
<<<<<<< HEAD
              "          const element = document.querySelector('#df-c90f3d29-8531-4fb0-8b10-26acdc1d16aa');\n",
=======
              "          const element = document.querySelector('#df-8881aa33-4780-4aec-ba0a-7e4c029acd26');\n",
>>>>>>> 8735260d3ca5a4cec4948b7001761cc14fc1cc6e
=======
              "          const element = document.querySelector('#df-8881aa33-4780-4aec-ba0a-7e4c029acd26');\n",
>>>>>>> 8735260d3ca5a4cec4948b7001761cc14fc1cc6e
              "          const dataTable =\n",
              "            await google.colab.kernel.invokeFunction('convertToInteractive',\n",
              "                                                     [key], {});\n",
              "          if (!dataTable) return;\n",
              "\n",
              "          const docLinkHtml = 'Like what you see? Visit the ' +\n",
              "            '<a target=\"_blank\" href=https://colab.research.google.com/notebooks/data_table.ipynb>data table notebook</a>'\n",
              "            + ' to learn more about interactive tables.';\n",
              "          element.innerHTML = '';\n",
              "          dataTable['output_type'] = 'display_data';\n",
              "          await google.colab.output.renderOutput(dataTable, element);\n",
              "          const docLink = document.createElement('div');\n",
              "          docLink.innerHTML = docLinkHtml;\n",
              "          element.appendChild(docLink);\n",
              "        }\n",
              "      </script>\n",
              "    </div>\n",
              "  </div>\n",
              "  "
            ]
          },
          "metadata": {},
<<<<<<< HEAD
<<<<<<< HEAD
          "execution_count": 104
        }
=======
=======
>>>>>>> 8735260d3ca5a4cec4948b7001761cc14fc1cc6e
          "execution_count": 100
        }
      ],
      "source": [
        "df_ChronicCond_Heartfailure = train_final.groupby('cluster_pca')['ChronicCond_Heartfailure'].mean()\\\n",
        "                                       .reset_index(name='ChronicCond_Heartfailure_mean')\\\n",
        "                                       .sort_values(['ChronicCond_Heartfailure_mean'], ascending=False)\n",
        "\n",
        "df_ChronicCond_Heartfailure.head()"
<<<<<<< HEAD
>>>>>>> 8735260d3ca5a4cec4948b7001761cc14fc1cc6e
=======
>>>>>>> 8735260d3ca5a4cec4948b7001761cc14fc1cc6e
      ]
    },
    {
      "cell_type": "code",
<<<<<<< HEAD
<<<<<<< HEAD
      "source": [
        "df_ChronicCond_KidneyDisease = train_final.groupby('cluster_pca')['ChronicCond_KidneyDisease'].mean()\\\n",
        "                                       .reset_index(name='ChronicCond_KidneyDisease_mean')\\\n",
        "                                       .sort_values(['ChronicCond_KidneyDisease_mean'], ascending=False)\n",
        "\n",
        "df_ChronicCond_KidneyDisease.head()"
      ],
      "metadata": {
        "colab": {
          "base_uri": "https://localhost:8080/",
          "height": 160
        },
        "id": "dG5nARbfOmkd",
        "outputId": "f36d94b9-362b-40ec-db76-63f8b2f54364"
      },
      "execution_count": 109,
=======
=======
>>>>>>> 8735260d3ca5a4cec4948b7001761cc14fc1cc6e
      "execution_count": 101,
      "metadata": {
        "id": "dG5nARbfOmkd",
        "colab": {
          "base_uri": "https://localhost:8080/",
          "height": 143
        },
        "outputId": "363c695d-5f13-494d-c2ce-2b561f1dd23d"
      },
<<<<<<< HEAD
>>>>>>> 8735260d3ca5a4cec4948b7001761cc14fc1cc6e
=======
>>>>>>> 8735260d3ca5a4cec4948b7001761cc14fc1cc6e
      "outputs": [
        {
          "output_type": "execute_result",
          "data": {
            "text/plain": [
              "   cluster_pca  ChronicCond_KidneyDisease_mean\n",
<<<<<<< HEAD
<<<<<<< HEAD
              "2            2                        0.819552\n",
              "1            1                        0.679565\n",
              "0            0                        0.346073"
            ],
            "text/html": [
              "\n",
              "  <div id=\"df-a250f013-9bc8-4928-8572-2de0ccb2effb\">\n",
=======
=======
>>>>>>> 8735260d3ca5a4cec4948b7001761cc14fc1cc6e
              "1            1                        0.782414\n",
              "0            0                        0.604808\n",
              "2            2                        0.121745"
            ],
            "text/html": [
              "\n",
              "  <div id=\"df-8ec630c4-2f9e-45ab-984c-337111530475\">\n",
<<<<<<< HEAD
>>>>>>> 8735260d3ca5a4cec4948b7001761cc14fc1cc6e
=======
>>>>>>> 8735260d3ca5a4cec4948b7001761cc14fc1cc6e
              "    <div class=\"colab-df-container\">\n",
              "      <div>\n",
              "<style scoped>\n",
              "    .dataframe tbody tr th:only-of-type {\n",
              "        vertical-align: middle;\n",
              "    }\n",
              "\n",
              "    .dataframe tbody tr th {\n",
              "        vertical-align: top;\n",
              "    }\n",
              "\n",
              "    .dataframe thead th {\n",
              "        text-align: right;\n",
              "    }\n",
              "</style>\n",
              "<table border=\"1\" class=\"dataframe\">\n",
              "  <thead>\n",
              "    <tr style=\"text-align: right;\">\n",
              "      <th></th>\n",
              "      <th>cluster_pca</th>\n",
              "      <th>ChronicCond_KidneyDisease_mean</th>\n",
              "    </tr>\n",
              "  </thead>\n",
              "  <tbody>\n",
              "    <tr>\n",
<<<<<<< HEAD
<<<<<<< HEAD
              "      <th>2</th>\n",
              "      <td>2</td>\n",
              "      <td>0.819552</td>\n",
              "    </tr>\n",
              "    <tr>\n",
              "      <th>1</th>\n",
              "      <td>1</td>\n",
              "      <td>0.679565</td>\n",
=======
              "      <th>1</th>\n",
              "      <td>1</td>\n",
              "      <td>0.782414</td>\n",
>>>>>>> 8735260d3ca5a4cec4948b7001761cc14fc1cc6e
=======
              "      <th>1</th>\n",
              "      <td>1</td>\n",
              "      <td>0.782414</td>\n",
>>>>>>> 8735260d3ca5a4cec4948b7001761cc14fc1cc6e
              "    </tr>\n",
              "    <tr>\n",
              "      <th>0</th>\n",
              "      <td>0</td>\n",
<<<<<<< HEAD
<<<<<<< HEAD
              "      <td>0.346073</td>\n",
=======
=======
>>>>>>> 8735260d3ca5a4cec4948b7001761cc14fc1cc6e
              "      <td>0.604808</td>\n",
              "    </tr>\n",
              "    <tr>\n",
              "      <th>2</th>\n",
              "      <td>2</td>\n",
              "      <td>0.121745</td>\n",
<<<<<<< HEAD
>>>>>>> 8735260d3ca5a4cec4948b7001761cc14fc1cc6e
=======
>>>>>>> 8735260d3ca5a4cec4948b7001761cc14fc1cc6e
              "    </tr>\n",
              "  </tbody>\n",
              "</table>\n",
              "</div>\n",
<<<<<<< HEAD
<<<<<<< HEAD
              "      <button class=\"colab-df-convert\" onclick=\"convertToInteractive('df-a250f013-9bc8-4928-8572-2de0ccb2effb')\"\n",
=======
              "      <button class=\"colab-df-convert\" onclick=\"convertToInteractive('df-8ec630c4-2f9e-45ab-984c-337111530475')\"\n",
>>>>>>> 8735260d3ca5a4cec4948b7001761cc14fc1cc6e
=======
              "      <button class=\"colab-df-convert\" onclick=\"convertToInteractive('df-8ec630c4-2f9e-45ab-984c-337111530475')\"\n",
>>>>>>> 8735260d3ca5a4cec4948b7001761cc14fc1cc6e
              "              title=\"Convert this dataframe to an interactive table.\"\n",
              "              style=\"display:none;\">\n",
              "        \n",
              "  <svg xmlns=\"http://www.w3.org/2000/svg\" height=\"24px\"viewBox=\"0 0 24 24\"\n",
              "       width=\"24px\">\n",
              "    <path d=\"M0 0h24v24H0V0z\" fill=\"none\"/>\n",
              "    <path d=\"M18.56 5.44l.94 2.06.94-2.06 2.06-.94-2.06-.94-.94-2.06-.94 2.06-2.06.94zm-11 1L8.5 8.5l.94-2.06 2.06-.94-2.06-.94L8.5 2.5l-.94 2.06-2.06.94zm10 10l.94 2.06.94-2.06 2.06-.94-2.06-.94-.94-2.06-.94 2.06-2.06.94z\"/><path d=\"M17.41 7.96l-1.37-1.37c-.4-.4-.92-.59-1.43-.59-.52 0-1.04.2-1.43.59L10.3 9.45l-7.72 7.72c-.78.78-.78 2.05 0 2.83L4 21.41c.39.39.9.59 1.41.59.51 0 1.02-.2 1.41-.59l7.78-7.78 2.81-2.81c.8-.78.8-2.07 0-2.86zM5.41 20L4 18.59l7.72-7.72 1.47 1.35L5.41 20z\"/>\n",
              "  </svg>\n",
              "      </button>\n",
              "      \n",
              "  <style>\n",
              "    .colab-df-container {\n",
              "      display:flex;\n",
              "      flex-wrap:wrap;\n",
              "      gap: 12px;\n",
              "    }\n",
              "\n",
              "    .colab-df-convert {\n",
              "      background-color: #E8F0FE;\n",
              "      border: none;\n",
              "      border-radius: 50%;\n",
              "      cursor: pointer;\n",
              "      display: none;\n",
              "      fill: #1967D2;\n",
              "      height: 32px;\n",
              "      padding: 0 0 0 0;\n",
              "      width: 32px;\n",
              "    }\n",
              "\n",
              "    .colab-df-convert:hover {\n",
              "      background-color: #E2EBFA;\n",
              "      box-shadow: 0px 1px 2px rgba(60, 64, 67, 0.3), 0px 1px 3px 1px rgba(60, 64, 67, 0.15);\n",
              "      fill: #174EA6;\n",
              "    }\n",
              "\n",
              "    [theme=dark] .colab-df-convert {\n",
              "      background-color: #3B4455;\n",
              "      fill: #D2E3FC;\n",
              "    }\n",
              "\n",
              "    [theme=dark] .colab-df-convert:hover {\n",
              "      background-color: #434B5C;\n",
              "      box-shadow: 0px 1px 3px 1px rgba(0, 0, 0, 0.15);\n",
              "      filter: drop-shadow(0px 1px 2px rgba(0, 0, 0, 0.3));\n",
              "      fill: #FFFFFF;\n",
              "    }\n",
              "  </style>\n",
              "\n",
              "      <script>\n",
              "        const buttonEl =\n",
<<<<<<< HEAD
<<<<<<< HEAD
              "          document.querySelector('#df-a250f013-9bc8-4928-8572-2de0ccb2effb button.colab-df-convert');\n",
=======
              "          document.querySelector('#df-8ec630c4-2f9e-45ab-984c-337111530475 button.colab-df-convert');\n",
>>>>>>> 8735260d3ca5a4cec4948b7001761cc14fc1cc6e
=======
              "          document.querySelector('#df-8ec630c4-2f9e-45ab-984c-337111530475 button.colab-df-convert');\n",
>>>>>>> 8735260d3ca5a4cec4948b7001761cc14fc1cc6e
              "        buttonEl.style.display =\n",
              "          google.colab.kernel.accessAllowed ? 'block' : 'none';\n",
              "\n",
              "        async function convertToInteractive(key) {\n",
<<<<<<< HEAD
<<<<<<< HEAD
              "          const element = document.querySelector('#df-a250f013-9bc8-4928-8572-2de0ccb2effb');\n",
=======
              "          const element = document.querySelector('#df-8ec630c4-2f9e-45ab-984c-337111530475');\n",
>>>>>>> 8735260d3ca5a4cec4948b7001761cc14fc1cc6e
=======
              "          const element = document.querySelector('#df-8ec630c4-2f9e-45ab-984c-337111530475');\n",
>>>>>>> 8735260d3ca5a4cec4948b7001761cc14fc1cc6e
              "          const dataTable =\n",
              "            await google.colab.kernel.invokeFunction('convertToInteractive',\n",
              "                                                     [key], {});\n",
              "          if (!dataTable) return;\n",
              "\n",
              "          const docLinkHtml = 'Like what you see? Visit the ' +\n",
              "            '<a target=\"_blank\" href=https://colab.research.google.com/notebooks/data_table.ipynb>data table notebook</a>'\n",
              "            + ' to learn more about interactive tables.';\n",
              "          element.innerHTML = '';\n",
              "          dataTable['output_type'] = 'display_data';\n",
              "          await google.colab.output.renderOutput(dataTable, element);\n",
              "          const docLink = document.createElement('div');\n",
              "          docLink.innerHTML = docLinkHtml;\n",
              "          element.appendChild(docLink);\n",
              "        }\n",
              "      </script>\n",
              "    </div>\n",
              "  </div>\n",
              "  "
            ]
          },
          "metadata": {},
<<<<<<< HEAD
<<<<<<< HEAD
          "execution_count": 109
        }
=======
=======
>>>>>>> 8735260d3ca5a4cec4948b7001761cc14fc1cc6e
          "execution_count": 101
        }
      ],
      "source": [
        "df_ChronicCond_KidneyDisease = train_final.groupby('cluster_pca')['ChronicCond_KidneyDisease'].mean()\\\n",
        "                                       .reset_index(name='ChronicCond_KidneyDisease_mean')\\\n",
        "                                       .sort_values(['ChronicCond_KidneyDisease_mean'], ascending=False)\n",
        "\n",
        "df_ChronicCond_KidneyDisease.head()"
<<<<<<< HEAD
>>>>>>> 8735260d3ca5a4cec4948b7001761cc14fc1cc6e
=======
>>>>>>> 8735260d3ca5a4cec4948b7001761cc14fc1cc6e
      ]
    },
    {
      "cell_type": "code",
<<<<<<< HEAD
<<<<<<< HEAD
      "source": [
        "df_ChronicCond_ObstrPulmonary = train_final.groupby('cluster_pca')['ChronicCond_ObstrPulmonary'].mean()\\\n",
        "                                       .reset_index(name='ChronicCond_ObstrPulmonary_mean')\\\n",
        "                                       .sort_values(['ChronicCond_ObstrPulmonary_mean'], ascending=False)\n",
        "\n",
        "df_ChronicCond_ObstrPulmonary.head()"
      ],
      "metadata": {
        "colab": {
          "base_uri": "https://localhost:8080/",
          "height": 160
        },
        "id": "bVOt0i50X6ij",
        "outputId": "e7b48e9a-dae5-47b5-9636-57951a846ce8"
      },
      "execution_count": 110,
=======
=======
>>>>>>> 8735260d3ca5a4cec4948b7001761cc14fc1cc6e
      "execution_count": 102,
      "metadata": {
        "id": "bVOt0i50X6ij",
        "colab": {
          "base_uri": "https://localhost:8080/",
          "height": 143
        },
        "outputId": "00a20581-56ff-4c06-e805-cbf0dc91eb76"
      },
<<<<<<< HEAD
>>>>>>> 8735260d3ca5a4cec4948b7001761cc14fc1cc6e
=======
>>>>>>> 8735260d3ca5a4cec4948b7001761cc14fc1cc6e
      "outputs": [
        {
          "output_type": "execute_result",
          "data": {
            "text/plain": [
              "   cluster_pca  ChronicCond_ObstrPulmonary_mean\n",
<<<<<<< HEAD
<<<<<<< HEAD
              "2            2                         0.628669\n",
              "1            1                         0.508566\n",
              "0            0                         0.264085"
            ],
            "text/html": [
              "\n",
              "  <div id=\"df-9e52b4ce-ac37-4319-b513-c1cf5e7ca112\">\n",
=======
=======
>>>>>>> 8735260d3ca5a4cec4948b7001761cc14fc1cc6e
              "1            1                         0.548608\n",
              "0            0                         0.480950\n",
              "2            2                         0.122255"
            ],
            "text/html": [
              "\n",
              "  <div id=\"df-5c5c0f10-b6c2-4a79-94a8-3f5a9816cb41\">\n",
<<<<<<< HEAD
>>>>>>> 8735260d3ca5a4cec4948b7001761cc14fc1cc6e
=======
>>>>>>> 8735260d3ca5a4cec4948b7001761cc14fc1cc6e
              "    <div class=\"colab-df-container\">\n",
              "      <div>\n",
              "<style scoped>\n",
              "    .dataframe tbody tr th:only-of-type {\n",
              "        vertical-align: middle;\n",
              "    }\n",
              "\n",
              "    .dataframe tbody tr th {\n",
              "        vertical-align: top;\n",
              "    }\n",
              "\n",
              "    .dataframe thead th {\n",
              "        text-align: right;\n",
              "    }\n",
              "</style>\n",
              "<table border=\"1\" class=\"dataframe\">\n",
              "  <thead>\n",
              "    <tr style=\"text-align: right;\">\n",
              "      <th></th>\n",
              "      <th>cluster_pca</th>\n",
              "      <th>ChronicCond_ObstrPulmonary_mean</th>\n",
              "    </tr>\n",
              "  </thead>\n",
              "  <tbody>\n",
              "    <tr>\n",
<<<<<<< HEAD
<<<<<<< HEAD
              "      <th>2</th>\n",
              "      <td>2</td>\n",
              "      <td>0.628669</td>\n",
              "    </tr>\n",
              "    <tr>\n",
              "      <th>1</th>\n",
              "      <td>1</td>\n",
              "      <td>0.508566</td>\n",
=======
              "      <th>1</th>\n",
              "      <td>1</td>\n",
              "      <td>0.548608</td>\n",
>>>>>>> 8735260d3ca5a4cec4948b7001761cc14fc1cc6e
=======
              "      <th>1</th>\n",
              "      <td>1</td>\n",
              "      <td>0.548608</td>\n",
>>>>>>> 8735260d3ca5a4cec4948b7001761cc14fc1cc6e
              "    </tr>\n",
              "    <tr>\n",
              "      <th>0</th>\n",
              "      <td>0</td>\n",
<<<<<<< HEAD
<<<<<<< HEAD
              "      <td>0.264085</td>\n",
=======
=======
>>>>>>> 8735260d3ca5a4cec4948b7001761cc14fc1cc6e
              "      <td>0.480950</td>\n",
              "    </tr>\n",
              "    <tr>\n",
              "      <th>2</th>\n",
              "      <td>2</td>\n",
              "      <td>0.122255</td>\n",
<<<<<<< HEAD
>>>>>>> 8735260d3ca5a4cec4948b7001761cc14fc1cc6e
=======
>>>>>>> 8735260d3ca5a4cec4948b7001761cc14fc1cc6e
              "    </tr>\n",
              "  </tbody>\n",
              "</table>\n",
              "</div>\n",
<<<<<<< HEAD
<<<<<<< HEAD
              "      <button class=\"colab-df-convert\" onclick=\"convertToInteractive('df-9e52b4ce-ac37-4319-b513-c1cf5e7ca112')\"\n",
=======
              "      <button class=\"colab-df-convert\" onclick=\"convertToInteractive('df-5c5c0f10-b6c2-4a79-94a8-3f5a9816cb41')\"\n",
>>>>>>> 8735260d3ca5a4cec4948b7001761cc14fc1cc6e
=======
              "      <button class=\"colab-df-convert\" onclick=\"convertToInteractive('df-5c5c0f10-b6c2-4a79-94a8-3f5a9816cb41')\"\n",
>>>>>>> 8735260d3ca5a4cec4948b7001761cc14fc1cc6e
              "              title=\"Convert this dataframe to an interactive table.\"\n",
              "              style=\"display:none;\">\n",
              "        \n",
              "  <svg xmlns=\"http://www.w3.org/2000/svg\" height=\"24px\"viewBox=\"0 0 24 24\"\n",
              "       width=\"24px\">\n",
              "    <path d=\"M0 0h24v24H0V0z\" fill=\"none\"/>\n",
              "    <path d=\"M18.56 5.44l.94 2.06.94-2.06 2.06-.94-2.06-.94-.94-2.06-.94 2.06-2.06.94zm-11 1L8.5 8.5l.94-2.06 2.06-.94-2.06-.94L8.5 2.5l-.94 2.06-2.06.94zm10 10l.94 2.06.94-2.06 2.06-.94-2.06-.94-.94-2.06-.94 2.06-2.06.94z\"/><path d=\"M17.41 7.96l-1.37-1.37c-.4-.4-.92-.59-1.43-.59-.52 0-1.04.2-1.43.59L10.3 9.45l-7.72 7.72c-.78.78-.78 2.05 0 2.83L4 21.41c.39.39.9.59 1.41.59.51 0 1.02-.2 1.41-.59l7.78-7.78 2.81-2.81c.8-.78.8-2.07 0-2.86zM5.41 20L4 18.59l7.72-7.72 1.47 1.35L5.41 20z\"/>\n",
              "  </svg>\n",
              "      </button>\n",
              "      \n",
              "  <style>\n",
              "    .colab-df-container {\n",
              "      display:flex;\n",
              "      flex-wrap:wrap;\n",
              "      gap: 12px;\n",
              "    }\n",
              "\n",
              "    .colab-df-convert {\n",
              "      background-color: #E8F0FE;\n",
              "      border: none;\n",
              "      border-radius: 50%;\n",
              "      cursor: pointer;\n",
              "      display: none;\n",
              "      fill: #1967D2;\n",
              "      height: 32px;\n",
              "      padding: 0 0 0 0;\n",
              "      width: 32px;\n",
              "    }\n",
              "\n",
              "    .colab-df-convert:hover {\n",
              "      background-color: #E2EBFA;\n",
              "      box-shadow: 0px 1px 2px rgba(60, 64, 67, 0.3), 0px 1px 3px 1px rgba(60, 64, 67, 0.15);\n",
              "      fill: #174EA6;\n",
              "    }\n",
              "\n",
              "    [theme=dark] .colab-df-convert {\n",
              "      background-color: #3B4455;\n",
              "      fill: #D2E3FC;\n",
              "    }\n",
              "\n",
              "    [theme=dark] .colab-df-convert:hover {\n",
              "      background-color: #434B5C;\n",
              "      box-shadow: 0px 1px 3px 1px rgba(0, 0, 0, 0.15);\n",
              "      filter: drop-shadow(0px 1px 2px rgba(0, 0, 0, 0.3));\n",
              "      fill: #FFFFFF;\n",
              "    }\n",
              "  </style>\n",
              "\n",
              "      <script>\n",
              "        const buttonEl =\n",
<<<<<<< HEAD
<<<<<<< HEAD
              "          document.querySelector('#df-9e52b4ce-ac37-4319-b513-c1cf5e7ca112 button.colab-df-convert');\n",
=======
              "          document.querySelector('#df-5c5c0f10-b6c2-4a79-94a8-3f5a9816cb41 button.colab-df-convert');\n",
>>>>>>> 8735260d3ca5a4cec4948b7001761cc14fc1cc6e
=======
              "          document.querySelector('#df-5c5c0f10-b6c2-4a79-94a8-3f5a9816cb41 button.colab-df-convert');\n",
>>>>>>> 8735260d3ca5a4cec4948b7001761cc14fc1cc6e
              "        buttonEl.style.display =\n",
              "          google.colab.kernel.accessAllowed ? 'block' : 'none';\n",
              "\n",
              "        async function convertToInteractive(key) {\n",
<<<<<<< HEAD
<<<<<<< HEAD
              "          const element = document.querySelector('#df-9e52b4ce-ac37-4319-b513-c1cf5e7ca112');\n",
=======
              "          const element = document.querySelector('#df-5c5c0f10-b6c2-4a79-94a8-3f5a9816cb41');\n",
>>>>>>> 8735260d3ca5a4cec4948b7001761cc14fc1cc6e
=======
              "          const element = document.querySelector('#df-5c5c0f10-b6c2-4a79-94a8-3f5a9816cb41');\n",
>>>>>>> 8735260d3ca5a4cec4948b7001761cc14fc1cc6e
              "          const dataTable =\n",
              "            await google.colab.kernel.invokeFunction('convertToInteractive',\n",
              "                                                     [key], {});\n",
              "          if (!dataTable) return;\n",
              "\n",
              "          const docLinkHtml = 'Like what you see? Visit the ' +\n",
              "            '<a target=\"_blank\" href=https://colab.research.google.com/notebooks/data_table.ipynb>data table notebook</a>'\n",
              "            + ' to learn more about interactive tables.';\n",
              "          element.innerHTML = '';\n",
              "          dataTable['output_type'] = 'display_data';\n",
              "          await google.colab.output.renderOutput(dataTable, element);\n",
              "          const docLink = document.createElement('div');\n",
              "          docLink.innerHTML = docLinkHtml;\n",
              "          element.appendChild(docLink);\n",
              "        }\n",
              "      </script>\n",
              "    </div>\n",
              "  </div>\n",
              "  "
            ]
          },
          "metadata": {},
<<<<<<< HEAD
<<<<<<< HEAD
          "execution_count": 110
        }
=======
=======
>>>>>>> 8735260d3ca5a4cec4948b7001761cc14fc1cc6e
          "execution_count": 102
        }
      ],
      "source": [
        "df_ChronicCond_ObstrPulmonary = train_final.groupby('cluster_pca')['ChronicCond_ObstrPulmonary'].mean()\\\n",
        "                                       .reset_index(name='ChronicCond_ObstrPulmonary_mean')\\\n",
        "                                       .sort_values(['ChronicCond_ObstrPulmonary_mean'], ascending=False)\n",
        "\n",
        "df_ChronicCond_ObstrPulmonary.head()"
<<<<<<< HEAD
>>>>>>> 8735260d3ca5a4cec4948b7001761cc14fc1cc6e
=======
>>>>>>> 8735260d3ca5a4cec4948b7001761cc14fc1cc6e
      ]
    },
    {
      "cell_type": "code",
<<<<<<< HEAD
<<<<<<< HEAD
      "source": [
        "df_IPAnnualReimbursementAmt = train_final.groupby('cluster_pca')['IPAnnualReimbursementAmt'].mean()\\\n",
        "                                       .reset_index(name='IPAnnualReimbursementAmt_mean')\\\n",
        "                                       .sort_values(['IPAnnualReimbursementAmt_mean'], ascending=False)\n",
        "\n",
        "df_IPAnnualReimbursementAmt.head()"
      ],
      "metadata": {
        "colab": {
          "base_uri": "https://localhost:8080/",
          "height": 160
        },
        "id": "xclsLI5cYs2E",
        "outputId": "f24858fd-ad4a-48c5-96e9-0f83f66659ab"
      },
      "execution_count": 112,
=======
=======
>>>>>>> 8735260d3ca5a4cec4948b7001761cc14fc1cc6e
      "execution_count": 103,
      "metadata": {
        "id": "xclsLI5cYs2E",
        "colab": {
          "base_uri": "https://localhost:8080/",
          "height": 143
        },
        "outputId": "11df9c46-9a14-43e7-f256-2a1e525b37b6"
      },
<<<<<<< HEAD
>>>>>>> 8735260d3ca5a4cec4948b7001761cc14fc1cc6e
=======
>>>>>>> 8735260d3ca5a4cec4948b7001761cc14fc1cc6e
      "outputs": [
        {
          "output_type": "execute_result",
          "data": {
            "text/plain": [
              "   cluster_pca  IPAnnualReimbursementAmt_mean\n",
<<<<<<< HEAD
<<<<<<< HEAD
              "2            2                   56207.274669\n",
              "1            1                   17845.721913\n",
              "0            0                     974.399080"
            ],
            "text/html": [
              "\n",
              "  <div id=\"df-66aa2110-7dae-4134-ae3c-7e5b8be765ad\">\n",
=======
=======
>>>>>>> 8735260d3ca5a4cec4948b7001761cc14fc1cc6e
              "0            0                   17698.293348\n",
              "1            1                    8554.089790\n",
              "2            2                    1201.226383"
            ],
            "text/html": [
              "\n",
              "  <div id=\"df-04a61137-f9b3-42c0-8f9d-1021b2a18701\">\n",
<<<<<<< HEAD
>>>>>>> 8735260d3ca5a4cec4948b7001761cc14fc1cc6e
=======
>>>>>>> 8735260d3ca5a4cec4948b7001761cc14fc1cc6e
              "    <div class=\"colab-df-container\">\n",
              "      <div>\n",
              "<style scoped>\n",
              "    .dataframe tbody tr th:only-of-type {\n",
              "        vertical-align: middle;\n",
              "    }\n",
              "\n",
              "    .dataframe tbody tr th {\n",
              "        vertical-align: top;\n",
              "    }\n",
              "\n",
              "    .dataframe thead th {\n",
              "        text-align: right;\n",
              "    }\n",
              "</style>\n",
              "<table border=\"1\" class=\"dataframe\">\n",
              "  <thead>\n",
              "    <tr style=\"text-align: right;\">\n",
              "      <th></th>\n",
              "      <th>cluster_pca</th>\n",
              "      <th>IPAnnualReimbursementAmt_mean</th>\n",
              "    </tr>\n",
              "  </thead>\n",
              "  <tbody>\n",
              "    <tr>\n",
<<<<<<< HEAD
<<<<<<< HEAD
              "      <th>2</th>\n",
              "      <td>2</td>\n",
              "      <td>56207.274669</td>\n",
=======
              "      <th>0</th>\n",
              "      <td>0</td>\n",
              "      <td>17698.293348</td>\n",
>>>>>>> 8735260d3ca5a4cec4948b7001761cc14fc1cc6e
=======
              "      <th>0</th>\n",
              "      <td>0</td>\n",
              "      <td>17698.293348</td>\n",
>>>>>>> 8735260d3ca5a4cec4948b7001761cc14fc1cc6e
              "    </tr>\n",
              "    <tr>\n",
              "      <th>1</th>\n",
              "      <td>1</td>\n",
<<<<<<< HEAD
<<<<<<< HEAD
              "      <td>17845.721913</td>\n",
              "    </tr>\n",
              "    <tr>\n",
              "      <th>0</th>\n",
              "      <td>0</td>\n",
              "      <td>974.399080</td>\n",
=======
=======
>>>>>>> 8735260d3ca5a4cec4948b7001761cc14fc1cc6e
              "      <td>8554.089790</td>\n",
              "    </tr>\n",
              "    <tr>\n",
              "      <th>2</th>\n",
              "      <td>2</td>\n",
              "      <td>1201.226383</td>\n",
<<<<<<< HEAD
>>>>>>> 8735260d3ca5a4cec4948b7001761cc14fc1cc6e
=======
>>>>>>> 8735260d3ca5a4cec4948b7001761cc14fc1cc6e
              "    </tr>\n",
              "  </tbody>\n",
              "</table>\n",
              "</div>\n",
<<<<<<< HEAD
<<<<<<< HEAD
              "      <button class=\"colab-df-convert\" onclick=\"convertToInteractive('df-66aa2110-7dae-4134-ae3c-7e5b8be765ad')\"\n",
=======
              "      <button class=\"colab-df-convert\" onclick=\"convertToInteractive('df-04a61137-f9b3-42c0-8f9d-1021b2a18701')\"\n",
>>>>>>> 8735260d3ca5a4cec4948b7001761cc14fc1cc6e
=======
              "      <button class=\"colab-df-convert\" onclick=\"convertToInteractive('df-04a61137-f9b3-42c0-8f9d-1021b2a18701')\"\n",
>>>>>>> 8735260d3ca5a4cec4948b7001761cc14fc1cc6e
              "              title=\"Convert this dataframe to an interactive table.\"\n",
              "              style=\"display:none;\">\n",
              "        \n",
              "  <svg xmlns=\"http://www.w3.org/2000/svg\" height=\"24px\"viewBox=\"0 0 24 24\"\n",
              "       width=\"24px\">\n",
              "    <path d=\"M0 0h24v24H0V0z\" fill=\"none\"/>\n",
              "    <path d=\"M18.56 5.44l.94 2.06.94-2.06 2.06-.94-2.06-.94-.94-2.06-.94 2.06-2.06.94zm-11 1L8.5 8.5l.94-2.06 2.06-.94-2.06-.94L8.5 2.5l-.94 2.06-2.06.94zm10 10l.94 2.06.94-2.06 2.06-.94-2.06-.94-.94-2.06-.94 2.06-2.06.94z\"/><path d=\"M17.41 7.96l-1.37-1.37c-.4-.4-.92-.59-1.43-.59-.52 0-1.04.2-1.43.59L10.3 9.45l-7.72 7.72c-.78.78-.78 2.05 0 2.83L4 21.41c.39.39.9.59 1.41.59.51 0 1.02-.2 1.41-.59l7.78-7.78 2.81-2.81c.8-.78.8-2.07 0-2.86zM5.41 20L4 18.59l7.72-7.72 1.47 1.35L5.41 20z\"/>\n",
              "  </svg>\n",
              "      </button>\n",
              "      \n",
              "  <style>\n",
              "    .colab-df-container {\n",
              "      display:flex;\n",
              "      flex-wrap:wrap;\n",
              "      gap: 12px;\n",
              "    }\n",
              "\n",
              "    .colab-df-convert {\n",
              "      background-color: #E8F0FE;\n",
              "      border: none;\n",
              "      border-radius: 50%;\n",
              "      cursor: pointer;\n",
              "      display: none;\n",
              "      fill: #1967D2;\n",
              "      height: 32px;\n",
              "      padding: 0 0 0 0;\n",
              "      width: 32px;\n",
              "    }\n",
              "\n",
              "    .colab-df-convert:hover {\n",
              "      background-color: #E2EBFA;\n",
              "      box-shadow: 0px 1px 2px rgba(60, 64, 67, 0.3), 0px 1px 3px 1px rgba(60, 64, 67, 0.15);\n",
              "      fill: #174EA6;\n",
              "    }\n",
              "\n",
              "    [theme=dark] .colab-df-convert {\n",
              "      background-color: #3B4455;\n",
              "      fill: #D2E3FC;\n",
              "    }\n",
              "\n",
              "    [theme=dark] .colab-df-convert:hover {\n",
              "      background-color: #434B5C;\n",
              "      box-shadow: 0px 1px 3px 1px rgba(0, 0, 0, 0.15);\n",
              "      filter: drop-shadow(0px 1px 2px rgba(0, 0, 0, 0.3));\n",
              "      fill: #FFFFFF;\n",
              "    }\n",
              "  </style>\n",
              "\n",
              "      <script>\n",
              "        const buttonEl =\n",
<<<<<<< HEAD
<<<<<<< HEAD
              "          document.querySelector('#df-66aa2110-7dae-4134-ae3c-7e5b8be765ad button.colab-df-convert');\n",
=======
              "          document.querySelector('#df-04a61137-f9b3-42c0-8f9d-1021b2a18701 button.colab-df-convert');\n",
>>>>>>> 8735260d3ca5a4cec4948b7001761cc14fc1cc6e
=======
              "          document.querySelector('#df-04a61137-f9b3-42c0-8f9d-1021b2a18701 button.colab-df-convert');\n",
>>>>>>> 8735260d3ca5a4cec4948b7001761cc14fc1cc6e
              "        buttonEl.style.display =\n",
              "          google.colab.kernel.accessAllowed ? 'block' : 'none';\n",
              "\n",
              "        async function convertToInteractive(key) {\n",
<<<<<<< HEAD
<<<<<<< HEAD
              "          const element = document.querySelector('#df-66aa2110-7dae-4134-ae3c-7e5b8be765ad');\n",
=======
              "          const element = document.querySelector('#df-04a61137-f9b3-42c0-8f9d-1021b2a18701');\n",
>>>>>>> 8735260d3ca5a4cec4948b7001761cc14fc1cc6e
=======
              "          const element = document.querySelector('#df-04a61137-f9b3-42c0-8f9d-1021b2a18701');\n",
>>>>>>> 8735260d3ca5a4cec4948b7001761cc14fc1cc6e
              "          const dataTable =\n",
              "            await google.colab.kernel.invokeFunction('convertToInteractive',\n",
              "                                                     [key], {});\n",
              "          if (!dataTable) return;\n",
              "\n",
              "          const docLinkHtml = 'Like what you see? Visit the ' +\n",
              "            '<a target=\"_blank\" href=https://colab.research.google.com/notebooks/data_table.ipynb>data table notebook</a>'\n",
              "            + ' to learn more about interactive tables.';\n",
              "          element.innerHTML = '';\n",
              "          dataTable['output_type'] = 'display_data';\n",
              "          await google.colab.output.renderOutput(dataTable, element);\n",
              "          const docLink = document.createElement('div');\n",
              "          docLink.innerHTML = docLinkHtml;\n",
              "          element.appendChild(docLink);\n",
              "        }\n",
              "      </script>\n",
              "    </div>\n",
              "  </div>\n",
              "  "
            ]
          },
          "metadata": {},
<<<<<<< HEAD
<<<<<<< HEAD
          "execution_count": 112
        }
=======
=======
>>>>>>> 8735260d3ca5a4cec4948b7001761cc14fc1cc6e
          "execution_count": 103
        }
      ],
      "source": [
        "df_IPAnnualReimbursementAmt = train_final.groupby('cluster_pca')['IPAnnualReimbursementAmt'].mean()\\\n",
        "                                       .reset_index(name='IPAnnualReimbursementAmt_mean')\\\n",
        "                                       .sort_values(['IPAnnualReimbursementAmt_mean'], ascending=False)\n",
        "\n",
        "df_IPAnnualReimbursementAmt.head()"
<<<<<<< HEAD
>>>>>>> 8735260d3ca5a4cec4948b7001761cc14fc1cc6e
=======
>>>>>>> 8735260d3ca5a4cec4948b7001761cc14fc1cc6e
      ]
    },
    {
      "cell_type": "code",
<<<<<<< HEAD
<<<<<<< HEAD
      "source": [
        "df_IPAnnualDeductibleAmt = train_final.groupby('cluster_pca')['IPAnnualDeductibleAmt'].mean()\\\n",
        "                                       .reset_index(name='IPAnnualDeductibleAmt_mean')\\\n",
        "                                       .sort_values(['IPAnnualDeductibleAmt_mean'], ascending=False)\n",
        "\n",
        "df_IPAnnualDeductibleAmt.head()"
      ],
      "metadata": {
        "colab": {
          "base_uri": "https://localhost:8080/",
          "height": 160
        },
        "id": "Sp3kc71PZSOl",
        "outputId": "07ebb726-43c0-46fa-e397-0c8687199590"
      },
      "execution_count": 114,
=======
=======
>>>>>>> 8735260d3ca5a4cec4948b7001761cc14fc1cc6e
      "execution_count": 104,
      "metadata": {
        "id": "Sp3kc71PZSOl",
        "colab": {
          "base_uri": "https://localhost:8080/",
          "height": 143
        },
        "outputId": "1fa57254-3698-4c8c-c99f-3da38509d8b1"
      },
<<<<<<< HEAD
>>>>>>> 8735260d3ca5a4cec4948b7001761cc14fc1cc6e
=======
>>>>>>> 8735260d3ca5a4cec4948b7001761cc14fc1cc6e
      "outputs": [
        {
          "output_type": "execute_result",
          "data": {
            "text/plain": [
              "   cluster_pca  IPAnnualDeductibleAmt_mean\n",
<<<<<<< HEAD
<<<<<<< HEAD
              "2            2                 3095.962775\n",
              "1            1                 1873.475450\n",
              "0            0                  227.814675"
            ],
            "text/html": [
              "\n",
              "  <div id=\"df-8214918e-da26-41f2-8829-8426fc2d49d4\">\n",
=======
=======
>>>>>>> 8735260d3ca5a4cec4948b7001761cc14fc1cc6e
              "0            0                 1997.632252\n",
              "1            1                  887.775943\n",
              "2            2                  151.746544"
            ],
            "text/html": [
              "\n",
              "  <div id=\"df-e9abe7fd-4d46-49e3-be3a-56aae25fc9bb\">\n",
<<<<<<< HEAD
>>>>>>> 8735260d3ca5a4cec4948b7001761cc14fc1cc6e
=======
>>>>>>> 8735260d3ca5a4cec4948b7001761cc14fc1cc6e
              "    <div class=\"colab-df-container\">\n",
              "      <div>\n",
              "<style scoped>\n",
              "    .dataframe tbody tr th:only-of-type {\n",
              "        vertical-align: middle;\n",
              "    }\n",
              "\n",
              "    .dataframe tbody tr th {\n",
              "        vertical-align: top;\n",
              "    }\n",
              "\n",
              "    .dataframe thead th {\n",
              "        text-align: right;\n",
              "    }\n",
              "</style>\n",
              "<table border=\"1\" class=\"dataframe\">\n",
              "  <thead>\n",
              "    <tr style=\"text-align: right;\">\n",
              "      <th></th>\n",
              "      <th>cluster_pca</th>\n",
              "      <th>IPAnnualDeductibleAmt_mean</th>\n",
              "    </tr>\n",
              "  </thead>\n",
              "  <tbody>\n",
              "    <tr>\n",
<<<<<<< HEAD
<<<<<<< HEAD
              "      <th>2</th>\n",
              "      <td>2</td>\n",
              "      <td>3095.962775</td>\n",
=======
              "      <th>0</th>\n",
              "      <td>0</td>\n",
              "      <td>1997.632252</td>\n",
>>>>>>> 8735260d3ca5a4cec4948b7001761cc14fc1cc6e
=======
              "      <th>0</th>\n",
              "      <td>0</td>\n",
              "      <td>1997.632252</td>\n",
>>>>>>> 8735260d3ca5a4cec4948b7001761cc14fc1cc6e
              "    </tr>\n",
              "    <tr>\n",
              "      <th>1</th>\n",
              "      <td>1</td>\n",
<<<<<<< HEAD
<<<<<<< HEAD
              "      <td>1873.475450</td>\n",
              "    </tr>\n",
              "    <tr>\n",
              "      <th>0</th>\n",
              "      <td>0</td>\n",
              "      <td>227.814675</td>\n",
=======
=======
>>>>>>> 8735260d3ca5a4cec4948b7001761cc14fc1cc6e
              "      <td>887.775943</td>\n",
              "    </tr>\n",
              "    <tr>\n",
              "      <th>2</th>\n",
              "      <td>2</td>\n",
              "      <td>151.746544</td>\n",
<<<<<<< HEAD
>>>>>>> 8735260d3ca5a4cec4948b7001761cc14fc1cc6e
=======
>>>>>>> 8735260d3ca5a4cec4948b7001761cc14fc1cc6e
              "    </tr>\n",
              "  </tbody>\n",
              "</table>\n",
              "</div>\n",
<<<<<<< HEAD
<<<<<<< HEAD
              "      <button class=\"colab-df-convert\" onclick=\"convertToInteractive('df-8214918e-da26-41f2-8829-8426fc2d49d4')\"\n",
=======
              "      <button class=\"colab-df-convert\" onclick=\"convertToInteractive('df-e9abe7fd-4d46-49e3-be3a-56aae25fc9bb')\"\n",
>>>>>>> 8735260d3ca5a4cec4948b7001761cc14fc1cc6e
=======
              "      <button class=\"colab-df-convert\" onclick=\"convertToInteractive('df-e9abe7fd-4d46-49e3-be3a-56aae25fc9bb')\"\n",
>>>>>>> 8735260d3ca5a4cec4948b7001761cc14fc1cc6e
              "              title=\"Convert this dataframe to an interactive table.\"\n",
              "              style=\"display:none;\">\n",
              "        \n",
              "  <svg xmlns=\"http://www.w3.org/2000/svg\" height=\"24px\"viewBox=\"0 0 24 24\"\n",
              "       width=\"24px\">\n",
              "    <path d=\"M0 0h24v24H0V0z\" fill=\"none\"/>\n",
              "    <path d=\"M18.56 5.44l.94 2.06.94-2.06 2.06-.94-2.06-.94-.94-2.06-.94 2.06-2.06.94zm-11 1L8.5 8.5l.94-2.06 2.06-.94-2.06-.94L8.5 2.5l-.94 2.06-2.06.94zm10 10l.94 2.06.94-2.06 2.06-.94-2.06-.94-.94-2.06-.94 2.06-2.06.94z\"/><path d=\"M17.41 7.96l-1.37-1.37c-.4-.4-.92-.59-1.43-.59-.52 0-1.04.2-1.43.59L10.3 9.45l-7.72 7.72c-.78.78-.78 2.05 0 2.83L4 21.41c.39.39.9.59 1.41.59.51 0 1.02-.2 1.41-.59l7.78-7.78 2.81-2.81c.8-.78.8-2.07 0-2.86zM5.41 20L4 18.59l7.72-7.72 1.47 1.35L5.41 20z\"/>\n",
              "  </svg>\n",
              "      </button>\n",
              "      \n",
              "  <style>\n",
              "    .colab-df-container {\n",
              "      display:flex;\n",
              "      flex-wrap:wrap;\n",
              "      gap: 12px;\n",
              "    }\n",
              "\n",
              "    .colab-df-convert {\n",
              "      background-color: #E8F0FE;\n",
              "      border: none;\n",
              "      border-radius: 50%;\n",
              "      cursor: pointer;\n",
              "      display: none;\n",
              "      fill: #1967D2;\n",
              "      height: 32px;\n",
              "      padding: 0 0 0 0;\n",
              "      width: 32px;\n",
              "    }\n",
              "\n",
              "    .colab-df-convert:hover {\n",
              "      background-color: #E2EBFA;\n",
              "      box-shadow: 0px 1px 2px rgba(60, 64, 67, 0.3), 0px 1px 3px 1px rgba(60, 64, 67, 0.15);\n",
              "      fill: #174EA6;\n",
              "    }\n",
              "\n",
              "    [theme=dark] .colab-df-convert {\n",
              "      background-color: #3B4455;\n",
              "      fill: #D2E3FC;\n",
              "    }\n",
              "\n",
              "    [theme=dark] .colab-df-convert:hover {\n",
              "      background-color: #434B5C;\n",
              "      box-shadow: 0px 1px 3px 1px rgba(0, 0, 0, 0.15);\n",
              "      filter: drop-shadow(0px 1px 2px rgba(0, 0, 0, 0.3));\n",
              "      fill: #FFFFFF;\n",
              "    }\n",
              "  </style>\n",
              "\n",
              "      <script>\n",
              "        const buttonEl =\n",
<<<<<<< HEAD
<<<<<<< HEAD
              "          document.querySelector('#df-8214918e-da26-41f2-8829-8426fc2d49d4 button.colab-df-convert');\n",
=======
              "          document.querySelector('#df-e9abe7fd-4d46-49e3-be3a-56aae25fc9bb button.colab-df-convert');\n",
>>>>>>> 8735260d3ca5a4cec4948b7001761cc14fc1cc6e
=======
              "          document.querySelector('#df-e9abe7fd-4d46-49e3-be3a-56aae25fc9bb button.colab-df-convert');\n",
>>>>>>> 8735260d3ca5a4cec4948b7001761cc14fc1cc6e
              "        buttonEl.style.display =\n",
              "          google.colab.kernel.accessAllowed ? 'block' : 'none';\n",
              "\n",
              "        async function convertToInteractive(key) {\n",
<<<<<<< HEAD
<<<<<<< HEAD
              "          const element = document.querySelector('#df-8214918e-da26-41f2-8829-8426fc2d49d4');\n",
=======
              "          const element = document.querySelector('#df-e9abe7fd-4d46-49e3-be3a-56aae25fc9bb');\n",
>>>>>>> 8735260d3ca5a4cec4948b7001761cc14fc1cc6e
=======
              "          const element = document.querySelector('#df-e9abe7fd-4d46-49e3-be3a-56aae25fc9bb');\n",
>>>>>>> 8735260d3ca5a4cec4948b7001761cc14fc1cc6e
              "          const dataTable =\n",
              "            await google.colab.kernel.invokeFunction('convertToInteractive',\n",
              "                                                     [key], {});\n",
              "          if (!dataTable) return;\n",
              "\n",
              "          const docLinkHtml = 'Like what you see? Visit the ' +\n",
              "            '<a target=\"_blank\" href=https://colab.research.google.com/notebooks/data_table.ipynb>data table notebook</a>'\n",
              "            + ' to learn more about interactive tables.';\n",
              "          element.innerHTML = '';\n",
              "          dataTable['output_type'] = 'display_data';\n",
              "          await google.colab.output.renderOutput(dataTable, element);\n",
              "          const docLink = document.createElement('div');\n",
              "          docLink.innerHTML = docLinkHtml;\n",
              "          element.appendChild(docLink);\n",
              "        }\n",
              "      </script>\n",
              "    </div>\n",
              "  </div>\n",
              "  "
            ]
          },
          "metadata": {},
<<<<<<< HEAD
<<<<<<< HEAD
          "execution_count": 114
        }
=======
=======
>>>>>>> 8735260d3ca5a4cec4948b7001761cc14fc1cc6e
          "execution_count": 104
        }
      ],
      "source": [
        "df_IPAnnualDeductibleAmt = train_final.groupby('cluster_pca')['IPAnnualDeductibleAmt'].mean()\\\n",
        "                                       .reset_index(name='IPAnnualDeductibleAmt_mean')\\\n",
        "                                       .sort_values(['IPAnnualDeductibleAmt_mean'], ascending=False)\n",
        "\n",
        "df_IPAnnualDeductibleAmt.head()"
<<<<<<< HEAD
>>>>>>> 8735260d3ca5a4cec4948b7001761cc14fc1cc6e
=======
>>>>>>> 8735260d3ca5a4cec4948b7001761cc14fc1cc6e
      ]
    },
    {
      "cell_type": "code",
<<<<<<< HEAD
<<<<<<< HEAD
=======
=======
>>>>>>> 8735260d3ca5a4cec4948b7001761cc14fc1cc6e
      "execution_count": 105,
      "metadata": {
        "id": "IQPQNVDtMw-Q",
        "colab": {
          "base_uri": "https://localhost:8080/",
          "height": 279
        },
        "outputId": "99d994bc-e8b5-4a03-ef4b-3aa0bf43af0c"
      },
      "outputs": [
        {
          "output_type": "display_data",
          "data": {
            "text/plain": [
              "<Figure size 720x288 with 1 Axes>"
            ],
            "image/png": "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\n"
          },
          "metadata": {}
        }
      ],
<<<<<<< HEAD
>>>>>>> 8735260d3ca5a4cec4948b7001761cc14fc1cc6e
=======
>>>>>>> 8735260d3ca5a4cec4948b7001761cc14fc1cc6e
      "source": [
        "import seaborn as sns\n",
        "import matplotlib.pyplot as plt \n",
        "\n",
        "sns.set_style(\"white\")\n",
        "plt.figure(figsize=(10,4)) \n",
        "\n",
        "sns.barplot(x='cluster_pca', y='InscClaimAmtReimbursed_mean', data=df_InscClaimAmtReimbursed)\n",
        "plt.ylabel('Avg. insurance claim amount reimbursed')\n",
        "plt.xlabel('Cluster #')\n",
        "sns.despine()"
<<<<<<< HEAD
<<<<<<< HEAD
      ],
      "metadata": {
        "colab": {
          "base_uri": "https://localhost:8080/",
          "height": 303
        },
        "id": "IQPQNVDtMw-Q",
        "outputId": "e01e5718-1d12-47d4-d102-9bd69eac6f75"
      },
      "execution_count": 101,
=======
=======
>>>>>>> 8735260d3ca5a4cec4948b7001761cc14fc1cc6e
      ]
    },
    {
      "cell_type": "code",
      "execution_count": 107,
      "metadata": {
        "id": "rKvBtWuENdgQ",
        "colab": {
          "base_uri": "https://localhost:8080/",
          "height": 279
        },
        "outputId": "343d2760-c609-4b97-b42c-94105ad32665"
      },
<<<<<<< HEAD
>>>>>>> 8735260d3ca5a4cec4948b7001761cc14fc1cc6e
=======
>>>>>>> 8735260d3ca5a4cec4948b7001761cc14fc1cc6e
      "outputs": [
        {
          "output_type": "display_data",
          "data": {
            "text/plain": [
<<<<<<< HEAD
<<<<<<< HEAD
              "<Figure size 720x288 with 1 Axes>"
            ],
            "image/png": "iVBORw0KGgoAAAANSUhEUgAAAmoAAAEJCAYAAAAkWgsWAAAABHNCSVQICAgIfAhkiAAAAAlwSFlzAAALEgAACxIB0t1+/AAAADh0RVh0U29mdHdhcmUAbWF0cGxvdGxpYiB2ZXJzaW9uMy4yLjIsIGh0dHA6Ly9tYXRwbG90bGliLm9yZy+WH4yJAAAgAElEQVR4nO3deXBUZaL+8W+nQyRAFoKkozEygmFkgoI1sk0iaEMnQuCShESuWsxlUZRFSJCMbOLC6lwdo6YUo9YVmEVZkjAQkCVIIAijgMCguFDCNSDpzC+QhEWycX5/cO0REU4IdGfp51NFVfpNn3OeYyH11Fne12IYhoGIiIiINDo+DR1ARERERH6ZipqIiIhII6WiJiIiItJIqaiJiIiINFIqaiIiIiKNlIqaiIiISCPl1qL23nvvER8fz+DBg5kyZQqVlZUUFRWRkpKCw+EgNTWVqqoqAKqqqkhNTcXhcJCSksLRo0dd+3nrrbdwOBzExcWxbds2d0YWERERaTTcVtScTidLlixh5cqVrFmzhtraWvLy8njppZcYOXIkGzduJDAwkBUrVgCwfPlyAgMD2bhxIyNHjuSll14C4NChQ+Tl5ZGXl8c777zD888/T21trbtii4iIiDQabr2iVltby7lz56ipqeHcuXO0b9+enTt3EhcXB0BiYiL5+fkAbN68mcTERADi4uLYsWMHhmGQn59PfHw8fn5+RERE0KFDB/bv33/F444ZM8adpyUiIiLiEW4rajabjdGjR3P//fcTExNDmzZtiIqKIjAwEF9fXwDCwsJwOp3AhStwN910EwC+vr4EBARw8uRJnE4nYWFhF+33x20u5+TJk246KxERERHPcVtRKy8vJz8/n/z8fLZt28YPP/yg58tEREREroLbitrHH3/MLbfcQkhICC1atCA2NpY9e/ZQUVFBTU0NAMXFxdhsNuDClbLjx48DUFNTw6lTp2jbti02m43i4mLXfp1Op2sbERERkebMbUXt5ptvZt++ffzwww8YhsGOHTu4/fbb6dWrF+vXrwcgJycHu90OgN1uJycnB4D169fTu3dvLBYLdrudvLw8qqqqKCoq4siRI9x1113uii0iIiLSaPi6a8fdunUjLi6OxMREfH196dKlC8OHD+e+++4jLS2NjIwMunTpQkpKCgDJycmkp6fjcDgICgrilVdeASAyMpKBAwcyaNAgrFYrs2fPxmq1uiu2iIiISKNhMQzDaOgQ11tSUhLZ2dkNHUNERETkmmhlAhEREZFG6rK3PocMGXLFDVevXn3dw4iIiIjIv122qC1atAiAv/zlLwAMHToUUEETERER8ZTLFrXw8HDgwjQbubm5rvFf//rXJCYmMnXqVPenExEREfFips+oGYbB7t27XZ/37NnD+fPn3RpKRETkequsqWzoCNLMeOLvlOn0HPPmzWPGjBmcPn0agICAAObPn+/2YCIiItfTDb43EP16dEPHkGZk+5Pb3X4M06LWtWtX/v73v3Pq1CngQlETEREREfczvfX5//7f/2PGjBmkpaUREBDAoUOHWL58uSeyiYiIiHg106I2bdo0YmJiKCkpAeBXv/oVS5YscXswEREREW9nWtROnjzJoEGD8PG58FVfX1/XzyIiIiLiPqaNq1WrVpw8eRKLxQLA3r179ZyaiIiIiAeYvkwwbdo0xo0bx3fffcd//ud/cvLkSV599VVPZBMRERHxaqZFLSoqij//+c8cPnwYwzC47bbbaNGihSeyiYiIiHg101uf69at49y5c0RGRrJp0ybS0tL4/PPPPZFNRERExKuZFrU33niDNm3asGvXLnbs2EFycjLPPfecB6KJiIiIeDfToma1WgEoKCjgwQcf5L777qO6utrtwURERES8nWlRs9lszJ49m7Vr19KvXz+qqqq01qeIiIiIB5gWtYyMDGJiYnj33XcJDAykrKyMP/zhD57IJiIiIuLVrvjWZ21tLYmJiXz44YeusdDQUEJDQ013/O2335KWlub6XFRUxKRJk0hISCAtLY1jx44RHh5ORkYGQUFBGIbBvHnzKCgooGXLlixcuJCoqCgAcnJyePPNNwEYN24ciYmJ9TpZERERkabkilfUrFYrt912G99///1V77hjx46sWrWKVatWkZ2djb+/Pw6Hg6ysLPr06cOGDRvo06cPWVlZAGzdupUjR46wYcMG5syZ43phoaysjMzMTJYtW8by5cvJzMykvLz86s9UREREpIkxnUetoqKC+Ph47rrrLvz9/V3jixYtqvNBduzYQUREBOHh4eTn57N06VIAEhISGDFiBOnp6eTn55OQkIDFYqF79+5UVFRQUlLCJ598QnR0NMHBwQBER0ezbds2Bg8efLXnKiIiItKkmBa1yZMnX/NB8vLyXMWqtLTUdeu0ffv2lJaWAuB0OgkLC3NtExYWhtPpvGTcZrPhdDqvOZOIiIhIY2da1Hr27HlNB6iqqmLz5s089dRTl/zOYrG41hAVERERkYuZFrW7777bVaaqq6upqanB39+fPXv21OkAW7duJSoqihtvvBGAdu3aUVJSQmhoKCUlJYSEhAAXrpQVFxe7tisuLsZms2Gz2fjkk09c406n85rLo4iIiEhTYDo9x2effcaePXvYs2cP+/fv5/XXX+fhhx+u8wHy8vKIj493fbbb7eTm5gKQm5tL//79Lxo3DIO9e/cSEBBAaGgoMTExFBYWUl5eTnl5OYWFhcTExFzteYqIiIg0OaZF7acsFgsDBgygsLCwTt8/e/YsH3/8MbGxsa6xsWPHsn37dmJjY/n4448ZO3YsAP369SMiIgKHw8EzzzzDs88+C0BwcDDjx48nOTmZ5ORkJkyY4HqxQERERKQ5sxiGYVzpCxs2bHD9fP78eQ4cOMCnn37KBx984PZw9ZWUlER2dnZDxxARkUYm+vXoho4gzcj2J7e7/Rimz6h99NFHrp+tVivh4eG88cYbbg0lIiIiInUoagsWLPBEDhERERH5GdNn1IqKinjiiSfo3bs3ffr0Ydy4cRQVFXkim4iIiIhXMy1qTz31FA888ACFhYVs27aNBx54gClTpngim4iIiIhXMy1qP/zwAwkJCfj6+uLr68vQoUOprKz0RDYRERERr3bZZ9TKysoA6Nu3L1lZWQwaNAiLxcLatWvp16+fxwKKiIiIeKvLFrWkpCQsFgs/zt7x/vvvu35nsVh+cUkoEREREbl+LlvUNm/e7MkcIiIiIvIzptNz1NbWsmXLFo4dO0Ztba1rfNSoUW4NJiIiIuLtTIvaE088wQ033EDnzp3x8bmqFadERERE5BqYFrXi4mJWr17tiSwiIiIi8hOml8j69u1b50XYRUREROT6Mb2i1r17dyZOnMj58+fx9fXFMAwsFgt79uzxRD4RERERr1WntT7ff/99fv3rX2OxWDyRSURERESow63Pm266ic6dO6ukiYiIiHiY6RW1iIgIRowYQd++ffHz83ONa3oOEREREfcyLWq33HILt9xyC9XV1VRXV3sik4iIiIhQh6I2ceJET+QQERERkZ+5bFGbN28eM2fO5IknnvjF3y9atMh05xUVFcyaNYuvv/4ai8XC/Pnzue2220hLS+PYsWOEh4eTkZFBUFAQhmEwb948CgoKaNmyJQsXLiQqKgqAnJwc3nzzTQDGjRtHYmJifc5VREREpEm5bFEbOnQoAKNHj673zufNm8e9997La6+9RlVVFefOnWPRokX06dOHsWPHkpWVRVZWFunp6WzdupUjR46wYcMG9u3bx3PPPcfy5cspKysjMzOTlStXYrFYSEpKwm63ExQUVO9cIiIiIk3BZd/67Nq1KwA9e/bkrrvu4sYbb6Rnz56uP2ZOnTrFp59+SnJyMgB+fn4EBgaSn59PQkICAAkJCWzatAnANW6xWOjevTsVFRWUlJRQWFhIdHQ0wcHBBAUFER0dzbZt2675xEVEREQaO9PpOTZv3szQoUN59NFHATh48OBlb4f+1NGjRwkJCWH69OkkJCQwc+ZMzp49S2lpKaGhoQC0b9+e0tJSAJxOJ2FhYa7tw8LCcDqdl4zbbDacTufVnaWIiIhIE2Ra1DIzM1mxYgWBgYEAdOnShWPHjpnuuKamhi+++IKHHnqI3Nxc/P39ycrKuug7FotF87OJiIiIXIZpUfP19SUgIOCqdxwWFkZYWBjdunUD4IEHHuCLL76gXbt2lJSUAFBSUkJISAhw4UpZcXGxa/vi4mJsNtsl406nE5vNdtV5RERERJoa06J2++23s3r1amprazly5Ahz5szh7rvvNt1x+/btCQsL49tvvwVgx44ddOrUCbvdTm5uLgC5ubn0798fwDVuGAZ79+4lICCA0NBQYmJiKCwspLy8nPLycgoLC4mJibmWcxYRERFpEkznUXvmmWdYtGgRfn5+PPXUU8TExDB+/Pg67fyZZ55h6tSpVFdXExERwYIFCzh//jypqamsWLGCm2++mYyMDAD69etHQUEBDocDf39/5s+fD0BwcDDjx493vZQwYcIEgoOD63u+IiIiIk2GxTAM43K/rK2tZeTIkSxdutSTma5ZUlIS2dnZDR1DREQamejXoxs6gjQj25/c7vZjXPHWp9VqxcfHh1OnTrk9iIiIiIhczPTWZ6tWrRgyZAi/+93vaNWqlWt81qxZbg0mIiIi4u1Mi1psbCyxsbGeyCIiIiIiP2Fa1LSupoiIiEjDMJ2eQ0REREQahoqaiIiISCNlWtTWrVtXpzERERERub5Mi9rP1+e83JiIiIiIXF+XfZmgoKCArVu34nQ6mTt3rmv89OnTWK1Wj4QTERER8WaXLWo2m42uXbuyefNmoqKiXOOtW7dm+vTpHgknIiIi4s0uW9TuuOMO7rjjDgYPHkyLFi08mUlEREREqMM8avv37yczM5Pvv/+empoaDMPAYrGQn5/viXwiIiIiXsu0qM2cOZPp06fTtWtXfHw0m4eIiIiIp5gWtYCAAPr16+eJLCIiIiLyE6ZFrVevXrz44ovExsbi5+fnGv/pCwYiIiIicv2ZFrV9+/YBcODAAdeYxWJhyZIl7kslIiIiIuZFbenSpZ7IISIiIiI/Y1rUMjMzf3F84sSJ1z2MiIiIiPybaVFr1aqV6+fKykq2bNlCx44d67Rzu91O69at8fHxwWq1kp2dTVlZGWlpaRw7dozw8HAyMjIICgrCMAzmzZtHQUEBLVu2ZOHCha7n4HJycnjzzTcBGDduHImJifU5VxEREZEmxbSojR49+qLPY8aMYcyYMXU+wOLFiwkJCXF9zsrKok+fPowdO5asrCyysrJIT09n69atHDlyhA0bNrBv3z6ee+45li9fTllZGZmZmaxcuRKLxUJSUhJ2u52goKCrOE0RERGRpueqJ0b74YcfKC4urvcB8/PzSUhIACAhIYFNmzZdNG6xWOjevTsVFRWUlJRQWFhIdHQ0wcHBBAUFER0dzbZt2+p9fBEREZGmwvSK2pAhQ1w/nz9/nhMnTjBhwoQ6H2DMmDFYLBaGDx/O8OHDKS0tJTQ0FID27dtTWloKgNPpJCwszLVdWFgYTqfzknGbzYbT6azz8UVERESaKtOitmjRon9/2deXdu3a4etruhkAf/vb37DZbJSWljJq1KhLnm2zWCxYLJarjCwiIiLiHUxvfYaHh3Pq1Ck++ugjNm7cyKFDh+q8c5vNBkC7du1wOBzs37+fdu3aUVJSAkBJSYnr+TWbzXbRLdXi4mJsNtsl406n07VfERERkebMtKgtXryYqVOnUlpaSmlpKenp6XWaW+3s2bOcPn3a9fP27duJjIzEbreTm5sLQG5uLv379wdwjRuGwd69ewkICCA0NJSYmBgKCwspLy+nvLycwsJCYmJiruWcRURERJoE03uYK1asYNmyZa5pOh577DGGDx/OiBEjrrhdaWmp61m22tpaBg8eTN++fbnzzjtJTU1lxYoV3HzzzWRkZADQr18/CgoKcDgc+Pv7M3/+fACCg4MZP348ycnJAEyYMIHg4OD6n7GIiIhIE1Gnh82sVusv/nwlERER/P3vf79kvG3btixevPiScYvFwrPPPvuL+0pOTnYVNRERERFvYVrUkpKSSElJweFwALBp0yaGDRvm9mAiIiIi3s60qI0aNYqePXuye/duABYsWMBvfvMbtwcTERER8XZ1uvV5yy23YLVaqa2txTAMPv/8c9fyTiIiIiLiHqZFLSMjg5ycHG699VbXmMViYcmSJW4NJiIiIuLtTIvaunXr2LhxI35+fp7IIyIiIiL/x3Qetc6dO3Pq1ClPZBERERGRnzC9ojZ27FgSEhLo3LkzLVq0cI3/dGkpEREREbn+TIvatGnTeOyxx+jcuTM+PqYX4ERERETkOjEtai1btuT3v/+9J7KIiIiIyE+YFrV77rmHl19+GbvdftELBZqeQ0RERMS9TIvaF198AcDevXtdY5qeQ0RERMT9TIva0qVLPZFDRERERH6mTisTbNmyhW+++YbKykrX2MSJE90WSkRERETqMI/a7NmzWbt2LX/+858BWL9+Pd9//73bg4mIiIh4O9Oi9tlnn/HHP/6RwMBAJk6cyPvvv8+RI0c8EE1ERETEu5kWtZYtWwLg7++P0+mkRYsW/Otf/3J7MBERERFvZ/qM2n333UdFRQVjxowhKSkJi8VCSkqKJ7KJiIiIeDXTojZhwgQA4uLiuP/++6msrCQgIMDtwURERES83VWtCeXn53fVJa22tpaEhAQef/xxAIqKikhJScHhcJCamkpVVRUAVVVVpKam4nA4SElJ4ejRo659vPXWWzgcDuLi4ti2bdtVHV9ERESkqXL74p1LliyhU6dOrs8vvfQSI0eOZOPGjQQGBrJixQoAli9fTmBgIBs3bmTkyJG89NJLABw6dIi8vDzy8vJ45513eP7556mtrXV3bBEREZEG59aiVlxczJYtW0hOTgbAMAx27txJXFwcAImJieTn5wOwefNmEhMTgQu3WXfs2IFhGOTn5xMfH4+fnx8RERF06NCB/fv3uzO2iIiISKNQpwlvv/zyS44dO3bRlazY2FjT7ebPn096ejpnzpwB4OTJkwQGBuLre+GwYWFhOJ1OAJxOJzfddNOFUL6+BAQEcPLkSZxOJ926dXPt02azubYRERERac5Mi9r06dP56quviIyMxMfn3xfgzIraRx99REhICF27duUf//jHtScVERER8TKmRW3fvn2sXbv2qne8Z88eNm/ezNatW6msrOT06dPMmzePiooKampq8PX1pbi4GJvNBly4Unb8+HHCwsKoqanh1KlTtG3bFpvNRnFxsWu/TqfTtY2IiIhIc2b6jFr37t05dOjQVe/4qaeeYuvWrWzevJk//elP9O7dm5dffplevXqxfv16AHJycrDb7QDY7XZycnKAC8tU9e7dG4vFgt1uJy8vj6qqKoqKijhy5Ah33XXXVecRERERaWpMr6glJCQwfPhwbrzxRvz8/Fzjq1evrtcB09PTSUtLIyMjgy5durgmz01OTiY9PR2Hw0FQUBCvvPIKAJGRkQwcOJBBgwZhtVqZPXs2Vqu1XscWERERaUoshmEYV/qCw+Fg2rRpdO7c+aJn1MLDw90err6SkpLIzs5u6BgiItLIRL8e3dARpBnZ/uR2tx/D9IpaSEgI/fv3d3sQEREREbmYaVHr0qULTz31FPfff/9Ftz7rMj2HiIiIiNSfaVGrrKzEz8+P7dsvvrynoiYiIiLiXqZFbcGCBZ7IISIiIiI/c9mi9vbbb/PYY48xZ84cLBbLJb+fNWuWW4OJiIiIeLvLFrUfF1Lv2rWrx8KIiIiIyL9dtqj9OBHtjwuli4iIiIhnmT6jduLECd5++20OHTpEZWWla3zJkiVuDSYiIiLi7UyXkJo6dSodO3bk6NGjTJw4kfDwcO68805PZBMRERHxaqZFraysjJSUFHx9fenZsycLFixg586dnsgmIiIi4tVMb336+l74SmhoKFu2bCE0NJTy8nK3BxMRERHxdqZFbdy4cZw6dYqnn36aOXPmcObMGaZPn+6JbCIiIiJezbSo3X///QAEBASwdOlStwcSERERkQsuW9QuN9HtjzThrYiIiIh7XbaoaaJbERERkYZ12aKmiW5FREREGpbp9ByjRo2ioqLC9bm8vJwxY8a4NZSIiIiI1KGonThxgsDAQNfnoKAgSktL3RpKREREROpQ1KxWK99//73r87Fjx674ksGPKisrSU5O5j/+4z+Ij4/ntddeA6CoqIiUlBQcDgepqalUVVUBUFVVRWpqKg6Hg5SUFI4ePera11tvvYXD4SAuLo5t27Zd9UmKiIiINEWm03Okpqby8MMP06NHDwzDYPfu3bzwwgumO/bz82Px4sW0bt2a6upqHn74Yfr27cv//M//MHLkSOLj45k9ezYrVqzg4YcfZvny5QQGBrJx40by8vJ46aWXyMjI4NChQ+Tl5ZGXl4fT6WTUqFGsX78eq9V6Xf4DiIiIiDRWplfU+vbtS3Z2NoMGDSI+Pp6VK1dy7733mu7YYrHQunVrAGpqaqipqcFisbBz507i4uKACy8s5OfnA7B582bXCwxxcXHs2LEDwzDIz88nPj4ePz8/IiIi6NChA/v376/3CYuIiIg0FaZX1ABCQkJcE99ejdraWpKSkvjuu+94+OGHiYiIIDAw0LUsVVhYGE6nEwCn08lNN910IZSvLwEBAZw8eRKn00m3bt1c+7TZbK5tRERERJoz0ytq18JqtbJq1SoKCgrYv38/3377rTsPJyIiItKsuLWo/SgwMJBevXqxd+9eKioqqKmpAaC4uBibzQZcuFJ2/Phx4MKt0lOnTtG2bVtsNhvFxcWufTmdTtc2IiIiIs1ZnYrarl27WLlyJXBhuo6ioiLTbU6cOOGaf+3cuXN8/PHHdOrUiV69erF+/XoAcnJysNvtANjtdnJycgBYv349vXv3xmKxYLfbycvLo6qqiqKiIo4cOcJdd9119WcqIiIi0sSYPqOWmZnJgQMHOHz4MMOGDaO6upr09HTef//9K25XUlLCtGnTqK2txTAMHnjgAe6//35uv/120tLSyMjIoEuXLqSkpACQnJxMeno6DoeDoKAgXnnlFQAiIyMZOHAggwYNwmq1Mnv2bL3xKSIiIl7BYhiGcaUvDB06lNzcXBITE8nNzQVgyJAhrF692iMB6yMpKYns7OyGjiHSZBg1lVh8b2joGNKMNNa/U9GvRzd0BGlGtj+53e3HML2i1qJFCywWi2uS27Nnz7o9lIh4lsX3Br574c6GjiHNyK2z/9nQEUSaBdOiNnDgQGbPnk1FRQXLli1j5cqVPPjgg57IJiIiIuLVTIvamDFj2L59O61bt+bw4cNMmjSJ6GhdOhYRERFxN9OiVlRUxD333OMqZ+fOnePo0aPccsstbg8nIiIi4s1Mp+eYPHnyRYuw+/j4MHnyZLeGEhEREZE6FLXa2lr8/Pxcn/38/KiurnZrKBERERGpQ1ELCQlxLZwOsGnTJtq2bevWUCIiIiJSh2fUnn/+eaZOncqcOXMwDIObbrqJF1980RPZRERERLyaaVG79dZbWbZsGWfOnAGgdevWbg8lIiIiInUoalVVVaxfv55jx465FlMHmDhxoluDiYiIiHg706I2btw4AgICiIqKuuilAhERERFxL9Oi5nQ6effddz2RRURERER+wvStz7vvvpuvvvrKE1lERERE5CdMr6jt3r2bnJwcwsPDL7r1uXr1arcGExEREfF2pkXt7bff9kQOEREREfkZ06IWHh4OQGlpKZWVlW4PJCIiIiIXmBa1/Px8XnzxRUpKSggJCeH777+nU6dO5OXleSKfiIiIiNcyfZng1Vdf5YMPPuBXv/oVmzdv5r333qNbt26eyCYiIiLi1UyLmq+vL23btuX8+fOcP3+e3r17c+DAAdMdHz9+nBEjRjBo0CDi4+NZvHgxAGVlZYwaNYrY2FhGjRpFeXk5AIZhMHfuXBwOB0OGDOHzzz937SsnJ4fY2FhiY2PJycmp77mKiIiINCmmtz4DAwM5c+YMPXr0YOrUqYSEhNCqVSvTHVutVqZNm0ZUVBSnT59m2LBhREdHk52dTZ8+fRg7dixZWVlkZWWRnp7O1q1bOXLkCBs2bGDfvn0899xzLF++nLKyMjIzM1m5ciUWi4WkpCTsdjtBQUHX5T+AiIiISGNlekXtjTfewN/fn+nTp3Pvvfdy66238uabb5ruODQ0lKioKADatGlDx44dcTqd5Ofnk5CQAEBCQgKbNm0CcI1bLBa6d+9ORUUFJSUlFBYWEh0dTXBwMEFBQURHR7Nt27ZrOWcRERGRJuGKV9Rqa2t5/PHHWbp0KT4+PiQmJtbrIEePHuXgwYN069aN0tJSQkNDAWjfvj2lpaXAhRUQwsLCXNuEhYXhdDovGbfZbDidznrlEBEREWlKrnhFzWq14uPjw6lTp+p9gDNnzjBp0iRmzJhBmzZtLvqdxWLBYrHUe98iIiIizZnpM2qtWrViyJAh/O53v7vo2bRZs2aZ7ry6uppJkyYxZMgQYmNjAWjXrh0lJSWEhoa6pvyAC1fKiouLXdsWFxdjs9mw2Wx88sknrnGn00nPnj3rfoYiIiIiTZTpM2qxsbFMnjyZHj16EBUV5fpjxjAMZs6cSceOHRk1apRr3G63k5ubC0Bubi79+/e/aNwwDPbu3UtAQAChoaHExMRQWFhIeXk55eXlFBYWEhMTU9/zFREREWkyTK+o1fe5tN27d7Nq1So6d+7M0KFDAZgyZQpjx44lNTWVFStWcPPNN5ORkQFAv379KCgowOFw4O/vz/z58wEIDg5m/PjxJCcnAzBhwgSCg4PrlUlERESkKbEYhmFc6Qt2u/0XnyPLz893W6hrlZSURHZ2dkPHEGlSvnvhzoaOIM3IrbP/2dARflH069ENHUGake1Pbnf7MUyvqK1cudL1c1VVFevWrXNNUisiIiIi7mP6jFrbtm1df2w2GyNHjqSgoMAT2URERES8mukVtZ8u5XT+/HkOHDhATU2NW0OJiIiISB2K2sKFC//9ZV9fwsPDXS8AiIiIiIj7mBa1pUuXeiKHiIiIiPyM6ePTt+UAAAwmSURBVDNqixcv5vTp06550RITEyksLPRENhERERGvZlrUVq5cSZs2bSgsLKSsrIw//vGPvPzyy57IJiIiIuLVTIvaj9OsFRQUkJCQQGRkJCZTr4mIiIjIdWBa1Lp27cro0aPZunUrMTExnD59Gh8f081ERERE5BqZvkwwb948Dh48SEREBP7+/pw8edK1vJOIiIiIuI9pUfPx8eHGG2/k0KFD1NbWeiKTiIiIiFCHovbf//3frFu3jk6dOmG1Wl3jPXr0cGswEREREW9nWtQ2bdrEhx9+iJ+fnyfyiIiIiMj/MX0rICIigurqak9kEREREZGfML2i5u/vT0JCAn369LnoqtqsWbPcGkxERETE25kWNbvdjt1u90QWEREREfkJ06KWmJjoiRwiIiIi8jOXLWqTJ0/m1VdfZciQIb/4+9WrV7stlIiIiIhcoajNnDkTgEWLFtVrx9OnT2fLli20a9eONWvWAFBWVkZaWhrHjh0jPDycjIwMgoKCMAyDefPmUVBQQMuWLVm4cCFRUVEA5OTk8OabbwIwbtw4XeETERERr3HZtz5DQ0MBCA8P/8U/ZpKSknjnnXcuGsvKyqJPnz5s2LCBPn36kJWVBcDWrVs5cuQIGzZsYM6cOTz33HPAhWKXmZnJsmXLWL58OZmZmZSXl9f3XEVERESaFLct2tmjRw+CgoIuGsvPzychIQGAhIQENm3adNG4xWKhe/fuVFRUUFJSQmFhIdHR0QQHBxMUFER0dDTbtm1zV2QRERGRRsWjq6uXlpa6rtS1b9+e0tJSAJxOJ2FhYa7vhYWF4XQ6Lxm32Ww4nU5PRhYRERFpMB4taj9lsViwWCwNdXgRERGRRq9eRe3111+v18HatWtHSUkJACUlJYSEhAAXrpQVFxe7vldcXIzNZrtk3Ol0YrPZ6nVsERERkaamXkXtxzcyr5bdbic3NxeA3Nxc+vfvf9G4YRjs3buXgIAAQkNDiYmJobCwkPLycsrLyyksLCQmJqZexxYRERFpakwnvP0ldVmpYMqUKXzyySecPHmSvn378uSTTzJ27FhSU1NZsWIFN998MxkZGQD069ePgoICHA4H/v7+zJ8/H4Dg4GDGjx9PcnIyABMmTCA4OLg+kUVERESaHIthGMaVvjB37txLxtq0aUPXrl0ZMGCA24Jdi6SkJLKzsxs6hkiT8t0LdzZ0BGlGbp39z4aO8IuiX49u6AjSjGx/crvbj2F667OyspKDBw/SoUMHOnTowFdffYXT6WTFihXMmzfP7QFFREREvJXprc+vvvqKv/3tb1itVgAeeughHnnkEf76179ednkpEREREbl2plfUysvLOXv2rOvzDz/8QFlZGVarFT8/P7eGExEREfFmplfUHn30UYYOHUqvXr0wDINPP/2UJ554grNnz9KnTx9PZBQRERHxSqZFLSUlhX79+rF//34A0tLSXHOZPf300+5NJyIiIuLFTIvaE088weDBg7Hb7bRq1coTmURERESEOjyjNnr0aHbt2kV8fDyTJk3iww8/pLKy0hPZRERERLya6RW1nj170rNnT2pra9m5cyfLli1jxowZ7NmzxxP5RERERLxWnVYmOHfuHJs3b2bdunV8/vnnJCYmujuXiIiIiNczLWqTJ0/mn//8JzExMTzyyCP07NkTH596LREqIiIiIlfBtKglJyfzpz/9yTXh7a5du8jLy+PZZ591ezgRERERb2Za1O69916++OIL1qxZw4cffkh4eDixsbGeyNYoVFbXckMLa0PHkGZEf6dERKSuLlvUDh8+TF5eHmvWrKFt27YMGjQIwzBYunSpJ/M1uBtaWPlt+pKGjiHNyO7//n1DRxARkSbiskVt4MCB3HPPPbz11lt06NABgPfee89TuURERES83mXfCsjMzKR9+/b8/ve/Z9asWezYsQPDMDyZTURERMSrXfaK2oABAxgwYABnz54lPz+fxYsXc+LECZ599lkcDgcxMTGezCkiIiLidUzn2WjVqhVDhgxh0aJFFBQU8Jvf/Ia3337bE9lEREREvFqdJrz9UVBQEMOHD2f48OHuyiMiIiIi/6fJzFy7detW4uLicDgcZGVlNXQcEREREbdrEkWttraWF154gXfeecc1ZcihQ4caOpaIiIiIWzWJorZ//346dOhAREQEfn5+xMfHk5+f39CxRERERNyqSRQ1p9NJWFiY67PNZsPpdDZgIhERERH3u6qXCZqKY8eOkZSUdN321+G67UkEkpJyGzrCZUQ2dABpTq7jv8HXkw1bQ0eQZiTpo+vz97xt27a8++67v/i7JlHUbDYbxcXFrs9OpxOb7fL/s/3jH//wRCwRERERt2oStz7vvPNOjhw5QlFREVVVVeTl5WG32xs6loiIiIhbNYkrar6+vsyePZtHH32U2tpahg0bRmSkbtOIiIhI82YxtICniIiISKPUJG59ioiIiHgjFTURERGRRkpFTa6ZlveS5m769On06dOHwYMHN3QUEbc5fvw4I0aMYNCgQcTHx7N48eKGjiSoqMk10vJe4g2SkpJ45513GjqGiFtZrVamTZvG2rVr+eCDD/jrX/+qf88bARU1uSZa3ku8QY8ePQgKCmroGCJuFRoaSlRUFABt2rShY8eOWgWoEVBRk2ui5b1ERJqfo0ePcvDgQbp169bQUbyeipqIiIi4nDlzhkmTJjFjxgzatGnT0HG8noqaXJOrXd5LREQar+rqaiZNmsSQIUOIjY1t6DiCippcIy3vJSLSPBiGwcyZM+nYsSOjRo1q6Djyf7QygVyzgoIC5s+f71rea9y4cQ0dSeS6mjJlCp988gknT56kXbt2PPnkk6SkpDR0LJHrateuXTzyyCN07twZH58L13GmTJlCv379GjiZd1NRExEREWmkdOtTREREpJFSURMRERFppFTURERERBopFTURERGRRkpFTURERKSRUlETkWbnX//6F2lpaQwYMICkpCQee+wxDh8+zNGjRxk8eHC99pmdnX1dl0cbPnw4ABMmTKCkpOS67VdEmhffhg4gInI9GYbBxIkTSUhI4JVXXgHgyy+/pLS09KJ1aa9WTk4OkZGRV7XyRk1NDb6+l/4z+7//+7/ceuutGIZBSUkJoaGh9c4lIs2bipqINCs7d+7E19eXhx56yDV2xx13ABcWmv5RdnY2Bw4cYPbs2QA8/vjjjB49mnvuuYeZM2dy4MABLBYLw4YNIywsjAMHDjB16lRatmzJBx98wKFDh1i4cCFnz56lbdu2LFiwgNDQUEaMGMEdd9zB7t27GTx4MKNHj3Yd89y5cwwfPpzy8nIMw2DgwIGcOHGCoUOHsnDhQrp06eKh/0oi0lSoqIlIs/LNN98QFRVV7+0PHjyI0+lkzZo1AFRUVBAYGMhf/vIX/vCHP3DnnXdSXV3N3LlzeeONNwgJCWHt2rW88sorLFiwALiwXmJ2dvYl+27ZsiWrVq3i+eefZ9iwYXzzzTecPXuWRx55pN55RaR5U1ETEfmJiIgIioqKmDNnDv369SMmJuaS7xw+fJivv/7atR7i+fPnad++vev3gwYNuuIxvv76ayIjI1mzZg0DBgy4vicgIs2KipqINCuRkZGsX7/e9HtWq5Xz58+7PldWVgIQFBTEqlWrKCws5P3332fdunWuK2U/MgyDyMhIPvjgg1/ct7+//y+OZ2ZmsmHDBoqKinjwwQcpKipi+/btxMTE8PTTT9f1FEXEi+itTxFpVnr37k1VVdVFJerLL79k165dF30vPDycL7/8kvPnz3P8+HH2798PwIkTJzAMg7i4OFJTU/niiy8AaN26NWfOnAHgtttu48SJE3z22WfAhVud33zzjWm2iRMnMnfuXJKSkli+fDl33HEHq1evVkkTkcvSFTURaVYsFguZmZnMnz+ft99+mxtuuIHw8HBmzJhx0fd++9vfEh4ezqBBg+jUqZPrubaSkhKmT5/uuto2ZcoUABITE3n22WddLxO89tprzJ07l1OnTlFbW8t//dd/ERkZaZrv008/5be//S379++nW7du1/nsRaS5sRiGYTR0CBERERG5lG59ioiIiDRSKmoiIiIijZSKmoiIiEgjpaImIiIi0kipqImIiIg0UipqIiIiIo2UipqIiIhII6WiJiIiItJI/X9qr3Mojh6BEAAAAABJRU5ErkJggg==\n"
          },
          "metadata": {}
        }
      ]
    },
    {
      "cell_type": "code",
=======
=======
>>>>>>> 8735260d3ca5a4cec4948b7001761cc14fc1cc6e
              "<Figure size 432x288 with 1 Axes>"
            ],
            "image/png": "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\n"
          },
          "metadata": {}
        }
      ],
<<<<<<< HEAD
>>>>>>> 8735260d3ca5a4cec4948b7001761cc14fc1cc6e
=======
>>>>>>> 8735260d3ca5a4cec4948b7001761cc14fc1cc6e
      "source": [
        "sns.barplot(x='cluster_pca', y='ChronicCond_Heartfailure_mean', data=df_ChronicCond_Heartfailure)\n",
        "plt.ylabel('Avg. ChronicCond_Heartfailure')\n",
        "plt.xlabel('Cluster #')\n",
        "sns.despine()"
<<<<<<< HEAD
<<<<<<< HEAD
      ],
      "metadata": {
        "colab": {
          "base_uri": "https://localhost:8080/",
          "height": 300
        },
        "id": "rKvBtWuENdgQ",
        "outputId": "eb558e7d-121e-4014-fb60-0908f7553365"
      },
      "execution_count": 105,
=======
=======
>>>>>>> 8735260d3ca5a4cec4948b7001761cc14fc1cc6e
      ]
    },
    {
      "cell_type": "code",
      "execution_count": 108,
      "metadata": {
        "id": "iLGhMyUmN49A",
        "colab": {
          "base_uri": "https://localhost:8080/",
          "height": 279
        },
        "outputId": "db3c23ef-bfcc-43d3-8678-a2d6b41592ab"
      },
<<<<<<< HEAD
>>>>>>> 8735260d3ca5a4cec4948b7001761cc14fc1cc6e
=======
>>>>>>> 8735260d3ca5a4cec4948b7001761cc14fc1cc6e
      "outputs": [
        {
          "output_type": "display_data",
          "data": {
            "text/plain": [
              "<Figure size 432x288 with 1 Axes>"
            ],
<<<<<<< HEAD
<<<<<<< HEAD
            "image/png": "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\n"
          },
          "metadata": {}
        }
      ]
    },
    {
      "cell_type": "code",
=======
=======
>>>>>>> 8735260d3ca5a4cec4948b7001761cc14fc1cc6e
            "image/png": "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\n"
          },
          "metadata": {}
        }
      ],
<<<<<<< HEAD
>>>>>>> 8735260d3ca5a4cec4948b7001761cc14fc1cc6e
=======
>>>>>>> 8735260d3ca5a4cec4948b7001761cc14fc1cc6e
      "source": [
        "sns.barplot(x='cluster_pca', y='DeductibleAmtPaid_mean', data=df_DeductibleAmtPaid)\n",
        "plt.ylabel('Avg. deductible amount reimbursed')\n",
        "plt.xlabel('Cluster #')\n",
        "sns.despine()"
<<<<<<< HEAD
<<<<<<< HEAD
      ],
      "metadata": {
        "colab": {
          "base_uri": "https://localhost:8080/",
          "height": 300
        },
        "id": "iLGhMyUmN49A",
        "outputId": "c18bd45c-123b-401f-845b-e1cc618bda44"
      },
      "execution_count": 106,
=======
=======
>>>>>>> 8735260d3ca5a4cec4948b7001761cc14fc1cc6e
      ]
    },
    {
      "cell_type": "code",
      "execution_count": 109,
      "metadata": {
        "id": "EiOdMihMOg6E",
        "colab": {
          "base_uri": "https://localhost:8080/",
          "height": 279
        },
        "outputId": "7a216844-de47-4eb7-ca47-f82c84b70e7c"
      },
<<<<<<< HEAD
>>>>>>> 8735260d3ca5a4cec4948b7001761cc14fc1cc6e
=======
>>>>>>> 8735260d3ca5a4cec4948b7001761cc14fc1cc6e
      "outputs": [
        {
          "output_type": "display_data",
          "data": {
            "text/plain": [
              "<Figure size 432x288 with 1 Axes>"
            ],
<<<<<<< HEAD
<<<<<<< HEAD
            "image/png": "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\n"
          },
          "metadata": {}
        }
      ]
    },
    {
      "cell_type": "code",
=======
=======
>>>>>>> 8735260d3ca5a4cec4948b7001761cc14fc1cc6e
            "image/png": "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\n"
          },
          "metadata": {}
        }
      ],
<<<<<<< HEAD
>>>>>>> 8735260d3ca5a4cec4948b7001761cc14fc1cc6e
=======
>>>>>>> 8735260d3ca5a4cec4948b7001761cc14fc1cc6e
      "source": [
        "sns.barplot(x='cluster_pca', y='ChronicCond_KidneyDisease_mean', data=df_ChronicCond_KidneyDisease)\n",
        "plt.ylabel('Avg. ChronicCond_KidneyDisease')\n",
        "plt.xlabel('Cluster #')\n",
        "sns.despine()"
<<<<<<< HEAD
<<<<<<< HEAD
      ],
      "metadata": {
        "colab": {
          "base_uri": "https://localhost:8080/",
          "height": 300
        },
        "id": "EiOdMihMOg6E",
        "outputId": "48662e24-fb11-430c-adf8-9d839bd47439"
      },
      "execution_count": 108,
=======
=======
>>>>>>> 8735260d3ca5a4cec4948b7001761cc14fc1cc6e
      ]
    },
    {
      "cell_type": "code",
      "execution_count": 110,
      "metadata": {
        "id": "nf1Zk5wpO5XS",
        "colab": {
          "base_uri": "https://localhost:8080/",
          "height": 279
        },
        "outputId": "3edde5a1-3f6c-4189-baac-69f63c2f69c3"
      },
<<<<<<< HEAD
>>>>>>> 8735260d3ca5a4cec4948b7001761cc14fc1cc6e
=======
>>>>>>> 8735260d3ca5a4cec4948b7001761cc14fc1cc6e
      "outputs": [
        {
          "output_type": "display_data",
          "data": {
            "text/plain": [
              "<Figure size 432x288 with 1 Axes>"
            ],
<<<<<<< HEAD
<<<<<<< HEAD
            "image/png": "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\n"
          },
          "metadata": {}
        }
      ]
    },
    {
      "cell_type": "code",
=======
=======
>>>>>>> 8735260d3ca5a4cec4948b7001761cc14fc1cc6e
            "image/png": "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\n"
          },
          "metadata": {}
        }
      ],
<<<<<<< HEAD
>>>>>>> 8735260d3ca5a4cec4948b7001761cc14fc1cc6e
=======
>>>>>>> 8735260d3ca5a4cec4948b7001761cc14fc1cc6e
      "source": [
        "sns.barplot(x='cluster_pca', y='ChronicCond_ObstrPulmonary_mean', data=df_ChronicCond_ObstrPulmonary)\n",
        "plt.ylabel('Avg. ChronicCond_ObstrPulmonary')\n",
        "plt.xlabel('Cluster #')\n",
        "sns.despine()"
<<<<<<< HEAD
<<<<<<< HEAD
      ],
      "metadata": {
        "colab": {
          "base_uri": "https://localhost:8080/",
          "height": 300
        },
        "id": "nf1Zk5wpO5XS",
        "outputId": "341584af-336a-4441-880c-a008eea278a1"
      },
      "execution_count": 111,
=======
=======
>>>>>>> 8735260d3ca5a4cec4948b7001761cc14fc1cc6e
      ]
    },
    {
      "cell_type": "code",
      "execution_count": 111,
      "metadata": {
        "id": "JMeC6DaLYcBB",
        "colab": {
          "base_uri": "https://localhost:8080/",
          "height": 279
        },
        "outputId": "e60a183c-4f35-42a9-f459-1a1018136a55"
      },
<<<<<<< HEAD
>>>>>>> 8735260d3ca5a4cec4948b7001761cc14fc1cc6e
=======
>>>>>>> 8735260d3ca5a4cec4948b7001761cc14fc1cc6e
      "outputs": [
        {
          "output_type": "display_data",
          "data": {
            "text/plain": [
              "<Figure size 432x288 with 1 Axes>"
            ],
<<<<<<< HEAD
<<<<<<< HEAD
            "image/png": "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\n"
          },
          "metadata": {}
        }
      ]
    },
    {
      "cell_type": "code",
=======
=======
>>>>>>> 8735260d3ca5a4cec4948b7001761cc14fc1cc6e
            "image/png": "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\n"
          },
          "metadata": {}
        }
      ],
<<<<<<< HEAD
>>>>>>> 8735260d3ca5a4cec4948b7001761cc14fc1cc6e
=======
>>>>>>> 8735260d3ca5a4cec4948b7001761cc14fc1cc6e
      "source": [
        "sns.barplot(x='cluster_pca', y='IPAnnualReimbursementAmt_mean', data=df_IPAnnualReimbursementAmt)\n",
        "plt.ylabel('Avg. IPAnnualReimbursementAmt')\n",
        "plt.xlabel('Cluster #')\n",
        "sns.despine()"
<<<<<<< HEAD
<<<<<<< HEAD
      ],
      "metadata": {
        "colab": {
          "base_uri": "https://localhost:8080/",
          "height": 300
        },
        "id": "JMeC6DaLYcBB",
        "outputId": "50093764-3e40-405b-a813-9f32596ee019"
      },
      "execution_count": 113,
=======
=======
>>>>>>> 8735260d3ca5a4cec4948b7001761cc14fc1cc6e
      ]
    },
    {
      "cell_type": "code",
      "execution_count": 112,
      "metadata": {
        "id": "D373EUh6ZBuo",
        "colab": {
          "base_uri": "https://localhost:8080/",
          "height": 279
        },
        "outputId": "23dcfcd8-7b04-48e6-b7aa-5ff41f7725a9"
      },
<<<<<<< HEAD
>>>>>>> 8735260d3ca5a4cec4948b7001761cc14fc1cc6e
=======
>>>>>>> 8735260d3ca5a4cec4948b7001761cc14fc1cc6e
      "outputs": [
        {
          "output_type": "display_data",
          "data": {
            "text/plain": [
              "<Figure size 432x288 with 1 Axes>"
            ],
<<<<<<< HEAD
<<<<<<< HEAD
            "image/png": "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\n"
          },
          "metadata": {}
        }
      ]
    },
    {
      "cell_type": "code",
=======
=======
>>>>>>> 8735260d3ca5a4cec4948b7001761cc14fc1cc6e
            "image/png": "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\n"
          },
          "metadata": {}
        }
      ],
<<<<<<< HEAD
>>>>>>> 8735260d3ca5a4cec4948b7001761cc14fc1cc6e
=======
>>>>>>> 8735260d3ca5a4cec4948b7001761cc14fc1cc6e
      "source": [
        "sns.barplot(x='cluster_pca', y='IPAnnualDeductibleAmt_mean', data=df_IPAnnualDeductibleAmt)\n",
        "plt.ylabel('Avg. IPAnnualDeductibleAmt')\n",
        "plt.xlabel('Cluster #')\n",
        "sns.despine()\n"
<<<<<<< HEAD
<<<<<<< HEAD
      ],
      "metadata": {
        "colab": {
          "base_uri": "https://localhost:8080/",
          "height": 300
        },
        "id": "D373EUh6ZBuo",
        "outputId": "8b800efd-fe08-4598-e5c6-fc7ff8c126d2"
      },
      "execution_count": 115,
      "outputs": [
        {
          "output_type": "display_data",
          "data": {
            "text/plain": [
              "<Figure size 432x288 with 1 Axes>"
            ],
            "image/png": "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\n"
          },
          "metadata": {}
        }
=======
>>>>>>> 8735260d3ca5a4cec4948b7001761cc14fc1cc6e
=======
>>>>>>> 8735260d3ca5a4cec4948b7001761cc14fc1cc6e
      ]
    },
    {
      "cell_type": "code",
<<<<<<< HEAD
<<<<<<< HEAD
      "source": [],
      "metadata": {
        "id": "0bXAa0ZeZuqW"
      },
      "execution_count": null,
      "outputs": []
    }
  ]
=======
=======
>>>>>>> 8735260d3ca5a4cec4948b7001761cc14fc1cc6e
      "execution_count": null,
      "metadata": {
        "id": "0bXAa0ZeZuqW"
      },
      "outputs": [],
      "source": []
    }
  ],
  "metadata": {
    "colab": {
      "provenance": []
    },
    "kernelspec": {
      "display_name": "Python 3",
      "name": "python3"
    },
    "language_info": {
      "name": "python"
    }
  },
  "nbformat": 4,
  "nbformat_minor": 0
<<<<<<< HEAD
>>>>>>> 8735260d3ca5a4cec4948b7001761cc14fc1cc6e
=======
>>>>>>> 8735260d3ca5a4cec4948b7001761cc14fc1cc6e
}