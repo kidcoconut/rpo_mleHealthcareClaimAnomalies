{
  "nbformat": 4,
  "nbformat_minor": 0,
  "metadata": {
    "colab": {
      "provenance": []
    },
    "kernelspec": {
      "name": "python3",
      "display_name": "Python 3"
    },
    "language_info": {
      "name": "python"
    },
    "widgets": {
      "application/vnd.jupyter.widget-state+json": {
        "85bc8b63d0bd47f6b061f330cda34b86": {
          "model_module": "@jupyter-widgets/controls",
          "model_name": "HBoxModel",
          "model_module_version": "1.5.0",
          "state": {
            "_dom_classes": [],
            "_model_module": "@jupyter-widgets/controls",
            "_model_module_version": "1.5.0",
            "_model_name": "HBoxModel",
            "_view_count": null,
            "_view_module": "@jupyter-widgets/controls",
            "_view_module_version": "1.5.0",
            "_view_name": "HBoxView",
            "box_style": "",
            "children": [
              "IPY_MODEL_f760d314f46a423899b307b2491655dd",
              "IPY_MODEL_480404ac1ee84239bd4b867ab76dc297",
              "IPY_MODEL_81da2d21d086446ba284481b493dee14"
            ],
            "layout": "IPY_MODEL_29ea79a5968f48a783a9b0538ed0ea7a"
          }
        },
        "f760d314f46a423899b307b2491655dd": {
          "model_module": "@jupyter-widgets/controls",
          "model_name": "HTMLModel",
          "model_module_version": "1.5.0",
          "state": {
            "_dom_classes": [],
            "_model_module": "@jupyter-widgets/controls",
            "_model_module_version": "1.5.0",
            "_model_name": "HTMLModel",
            "_view_count": null,
            "_view_module": "@jupyter-widgets/controls",
            "_view_module_version": "1.5.0",
            "_view_name": "HTMLView",
            "description": "",
            "description_tooltip": null,
            "layout": "IPY_MODEL_b831f8bf244f40c0a18179654e53865e",
            "placeholder": "​",
            "style": "IPY_MODEL_c869f659f19240a390575a1a5e4c4495",
            "value": "Optimization Progress: 100%"
          }
        },
        "480404ac1ee84239bd4b867ab76dc297": {
          "model_module": "@jupyter-widgets/controls",
          "model_name": "FloatProgressModel",
          "model_module_version": "1.5.0",
          "state": {
            "_dom_classes": [],
            "_model_module": "@jupyter-widgets/controls",
            "_model_module_version": "1.5.0",
            "_model_name": "FloatProgressModel",
            "_view_count": null,
            "_view_module": "@jupyter-widgets/controls",
            "_view_module_version": "1.5.0",
            "_view_name": "ProgressView",
            "bar_style": "",
            "description": "",
            "description_tooltip": null,
            "layout": "IPY_MODEL_49d9442b66a347c498cb744aaaaf59c8",
            "max": 176,
            "min": 0,
            "orientation": "horizontal",
            "style": "IPY_MODEL_b32e9a66d09e435bab9be7cc410d68a0",
            "value": 176
          }
        },
        "81da2d21d086446ba284481b493dee14": {
          "model_module": "@jupyter-widgets/controls",
          "model_name": "HTMLModel",
          "model_module_version": "1.5.0",
          "state": {
            "_dom_classes": [],
            "_model_module": "@jupyter-widgets/controls",
            "_model_module_version": "1.5.0",
            "_model_name": "HTMLModel",
            "_view_count": null,
            "_view_module": "@jupyter-widgets/controls",
            "_view_module_version": "1.5.0",
            "_view_name": "HTMLView",
            "description": "",
            "description_tooltip": null,
            "layout": "IPY_MODEL_d739ce65f8ef4193ba0f8eafde173ed3",
            "placeholder": "​",
            "style": "IPY_MODEL_eea0b7152c6a4d229c14d22faf23b712",
            "value": " 176/176 [16:18&lt;00:00,  3.91s/pipeline]"
          }
        },
        "29ea79a5968f48a783a9b0538ed0ea7a": {
          "model_module": "@jupyter-widgets/base",
          "model_name": "LayoutModel",
          "model_module_version": "1.2.0",
          "state": {
            "_model_module": "@jupyter-widgets/base",
            "_model_module_version": "1.2.0",
            "_model_name": "LayoutModel",
            "_view_count": null,
            "_view_module": "@jupyter-widgets/base",
            "_view_module_version": "1.2.0",
            "_view_name": "LayoutView",
            "align_content": null,
            "align_items": null,
            "align_self": null,
            "border": null,
            "bottom": null,
            "display": null,
            "flex": null,
            "flex_flow": null,
            "grid_area": null,
            "grid_auto_columns": null,
            "grid_auto_flow": null,
            "grid_auto_rows": null,
            "grid_column": null,
            "grid_gap": null,
            "grid_row": null,
            "grid_template_areas": null,
            "grid_template_columns": null,
            "grid_template_rows": null,
            "height": null,
            "justify_content": null,
            "justify_items": null,
            "left": null,
            "margin": null,
            "max_height": null,
            "max_width": null,
            "min_height": null,
            "min_width": null,
            "object_fit": null,
            "object_position": null,
            "order": null,
            "overflow": null,
            "overflow_x": null,
            "overflow_y": null,
            "padding": null,
            "right": null,
            "top": null,
            "visibility": "hidden",
            "width": null
          }
        },
        "b831f8bf244f40c0a18179654e53865e": {
          "model_module": "@jupyter-widgets/base",
          "model_name": "LayoutModel",
          "model_module_version": "1.2.0",
          "state": {
            "_model_module": "@jupyter-widgets/base",
            "_model_module_version": "1.2.0",
            "_model_name": "LayoutModel",
            "_view_count": null,
            "_view_module": "@jupyter-widgets/base",
            "_view_module_version": "1.2.0",
            "_view_name": "LayoutView",
            "align_content": null,
            "align_items": null,
            "align_self": null,
            "border": null,
            "bottom": null,
            "display": null,
            "flex": null,
            "flex_flow": null,
            "grid_area": null,
            "grid_auto_columns": null,
            "grid_auto_flow": null,
            "grid_auto_rows": null,
            "grid_column": null,
            "grid_gap": null,
            "grid_row": null,
            "grid_template_areas": null,
            "grid_template_columns": null,
            "grid_template_rows": null,
            "height": null,
            "justify_content": null,
            "justify_items": null,
            "left": null,
            "margin": null,
            "max_height": null,
            "max_width": null,
            "min_height": null,
            "min_width": null,
            "object_fit": null,
            "object_position": null,
            "order": null,
            "overflow": null,
            "overflow_x": null,
            "overflow_y": null,
            "padding": null,
            "right": null,
            "top": null,
            "visibility": null,
            "width": null
          }
        },
        "c869f659f19240a390575a1a5e4c4495": {
          "model_module": "@jupyter-widgets/controls",
          "model_name": "DescriptionStyleModel",
          "model_module_version": "1.5.0",
          "state": {
            "_model_module": "@jupyter-widgets/controls",
            "_model_module_version": "1.5.0",
            "_model_name": "DescriptionStyleModel",
            "_view_count": null,
            "_view_module": "@jupyter-widgets/base",
            "_view_module_version": "1.2.0",
            "_view_name": "StyleView",
            "description_width": ""
          }
        },
        "49d9442b66a347c498cb744aaaaf59c8": {
          "model_module": "@jupyter-widgets/base",
          "model_name": "LayoutModel",
          "model_module_version": "1.2.0",
          "state": {
            "_model_module": "@jupyter-widgets/base",
            "_model_module_version": "1.2.0",
            "_model_name": "LayoutModel",
            "_view_count": null,
            "_view_module": "@jupyter-widgets/base",
            "_view_module_version": "1.2.0",
            "_view_name": "LayoutView",
            "align_content": null,
            "align_items": null,
            "align_self": null,
            "border": null,
            "bottom": null,
            "display": null,
            "flex": null,
            "flex_flow": null,
            "grid_area": null,
            "grid_auto_columns": null,
            "grid_auto_flow": null,
            "grid_auto_rows": null,
            "grid_column": null,
            "grid_gap": null,
            "grid_row": null,
            "grid_template_areas": null,
            "grid_template_columns": null,
            "grid_template_rows": null,
            "height": null,
            "justify_content": null,
            "justify_items": null,
            "left": null,
            "margin": null,
            "max_height": null,
            "max_width": null,
            "min_height": null,
            "min_width": null,
            "object_fit": null,
            "object_position": null,
            "order": null,
            "overflow": null,
            "overflow_x": null,
            "overflow_y": null,
            "padding": null,
            "right": null,
            "top": null,
            "visibility": null,
            "width": null
          }
        },
        "b32e9a66d09e435bab9be7cc410d68a0": {
          "model_module": "@jupyter-widgets/controls",
          "model_name": "ProgressStyleModel",
          "model_module_version": "1.5.0",
          "state": {
            "_model_module": "@jupyter-widgets/controls",
            "_model_module_version": "1.5.0",
            "_model_name": "ProgressStyleModel",
            "_view_count": null,
            "_view_module": "@jupyter-widgets/base",
            "_view_module_version": "1.2.0",
            "_view_name": "StyleView",
            "bar_color": null,
            "description_width": ""
          }
        },
        "d739ce65f8ef4193ba0f8eafde173ed3": {
          "model_module": "@jupyter-widgets/base",
          "model_name": "LayoutModel",
          "model_module_version": "1.2.0",
          "state": {
            "_model_module": "@jupyter-widgets/base",
            "_model_module_version": "1.2.0",
            "_model_name": "LayoutModel",
            "_view_count": null,
            "_view_module": "@jupyter-widgets/base",
            "_view_module_version": "1.2.0",
            "_view_name": "LayoutView",
            "align_content": null,
            "align_items": null,
            "align_self": null,
            "border": null,
            "bottom": null,
            "display": null,
            "flex": null,
            "flex_flow": null,
            "grid_area": null,
            "grid_auto_columns": null,
            "grid_auto_flow": null,
            "grid_auto_rows": null,
            "grid_column": null,
            "grid_gap": null,
            "grid_row": null,
            "grid_template_areas": null,
            "grid_template_columns": null,
            "grid_template_rows": null,
            "height": null,
            "justify_content": null,
            "justify_items": null,
            "left": null,
            "margin": null,
            "max_height": null,
            "max_width": null,
            "min_height": null,
            "min_width": null,
            "object_fit": null,
            "object_position": null,
            "order": null,
            "overflow": null,
            "overflow_x": null,
            "overflow_y": null,
            "padding": null,
            "right": null,
            "top": null,
            "visibility": null,
            "width": null
          }
        },
        "eea0b7152c6a4d229c14d22faf23b712": {
          "model_module": "@jupyter-widgets/controls",
          "model_name": "DescriptionStyleModel",
          "model_module_version": "1.5.0",
          "state": {
            "_model_module": "@jupyter-widgets/controls",
            "_model_module_version": "1.5.0",
            "_model_name": "DescriptionStyleModel",
            "_view_count": null,
            "_view_module": "@jupyter-widgets/base",
            "_view_module_version": "1.2.0",
            "_view_name": "StyleView",
            "description_width": ""
          }
        }
      }
    }
  },
  "cells": [
    {
      "cell_type": "markdown",
      "source": [
        "**Business Objective**\n",
        "\n",
        "Rampant fraud in US healthcare system results in increased premiums for many vulnerable citizens who cannot afford to pay hefty price for a fundamental right such as healthcare. The aim is to find patterns of fraud commited by providers and train ML models to detect similar patterns in the future. Dataset for this capstone project is obtained from Kaggle [here](https://www.kaggle.com/code/rohitrox/medical-provider-fraud-detection/data).\n",
        "\n",
        "---\n",
        "\n",
        "\n",
        "Abuse in healthcare system can take many forms, such as:\n",
        "\n",
        "*Billing for services that were not rendered.\n",
        "\n",
        "*Duplicate submission of a claim for the same service.\n",
        "\n",
        "*Charging for a more complex or expensive than was actually provided."
      ],
      "metadata": {
        "id": "oGQ5uB5WwHvJ"
      }
    },
    {
      "cell_type": "markdown",
      "source": [
        "# Fetching Train and Test Files"
      ],
      "metadata": {
        "id": "VsKXuTdyy5Lg"
      }
    },
    {
      "cell_type": "code",
      "source": [
        "import numpy as np\n",
        "import pickle"
      ],
      "metadata": {
        "id": "p7mYKEZRI-v_"
      },
      "execution_count": 319,
      "outputs": []
    },
    {
      "cell_type": "code",
      "source": [
        "from google.colab import drive\n",
        "drive.mount('/content/drive')"
      ],
      "metadata": {
        "colab": {
          "base_uri": "https://localhost:8080/"
        },
        "id": "iT4Y0NjcKlfr",
        "outputId": "fd53fd4e-5bdb-46c0-d5f8-ea9e04a27f98"
      },
      "execution_count": 320,
      "outputs": [
        {
          "output_type": "stream",
          "name": "stdout",
          "text": [
            "Drive already mounted at /content/drive; to attempt to forcibly remount, call drive.mount(\"/content/drive\", force_remount=True).\n"
          ]
        }
      ]
    },
    {
      "cell_type": "code",
      "source": [
        "!ls /content/drive/MyDrive/fourthbrain"
      ],
      "metadata": {
        "colab": {
          "base_uri": "https://localhost:8080/"
        },
        "id": "fxRPjtPlXexS",
        "outputId": "43842daf-594a-49ab-80bc-6cddfe5fc1f1"
      },
      "execution_count": 321,
      "outputs": [
        {
          "output_type": "stream",
          "name": "stdout",
          "text": [
            "dog_dataset\t\t\t\tTrain_Beneficiarydata-1542865627584.csv\n",
            "Test-1542969243754.csv\t\t\tTrain_Inpatientdata-1542865627584.csv\n",
            "Test_Beneficiarydata-1542969243754.csv\tTrain_Outpatientdata-1542865627584.csv\n",
            "Test_Inpatientdata-1542969243754.csv\ttweets.csv.gz\n",
            "Test_Outpatientdata-1542969243754.csv\ttwitter-mask.png\n",
            "Train-1542865627584.csv\n"
          ]
        }
      ]
    },
    {
      "cell_type": "code",
      "source": [
        "import pandas as pd\n",
        "import os\n",
        "pathname = '/content/drive/MyDrive/fourthbrain'\n",
        "\n",
        "train_df = pd.read_csv(os.path.join(pathname,'Train-1542865627584.csv'))\n",
        "train_beneficiary_df = pd.read_csv(os.path.join(pathname,'Train_Beneficiarydata-1542865627584.csv'))\n",
        "train_inpatient_df = pd.read_csv(os.path.join(pathname,'Train_Inpatientdata-1542865627584.csv'))\n",
        "train_outpatient_df = pd.read_csv(os.path.join(pathname,'Train_Outpatientdata-1542865627584.csv'))\n",
        "\n",
        "test_df = pd.read_csv(os.path.join(pathname,'Test-1542969243754.csv'))\n",
        "test_beneficiary_df = pd.read_csv(os.path.join(pathname,'Test_Beneficiarydata-1542969243754.csv'))\n",
        "test_inpatient_df = pd.read_csv(os.path.join(pathname,'Test_Inpatientdata-1542969243754.csv'))\n",
        "test_outpatient_df = pd.read_csv(os.path.join(pathname,'Test_Outpatientdata-1542969243754.csv'))"
      ],
      "metadata": {
        "id": "aVrfisylwe3Q"
      },
      "execution_count": 322,
      "outputs": []
    },
    {
      "cell_type": "markdown",
      "source": [
        "# Data Engineering on Beneficiary Dataset"
      ],
      "metadata": {
        "id": "MyzCpDbQzB_K"
      }
    },
    {
      "cell_type": "code",
      "source": [
        "train_beneficiary_df['ChronicCond_Alzheimer'].value_counts()"
      ],
      "metadata": {
        "colab": {
          "base_uri": "https://localhost:8080/"
        },
        "id": "wn9BwzZdxs-9",
        "outputId": "b0cc8602-48c8-4f29-f178-e89c424df23c"
      },
      "execution_count": 323,
      "outputs": [
        {
          "output_type": "execute_result",
          "data": {
            "text/plain": [
              "2    92530\n",
              "1    46026\n",
              "Name: ChronicCond_Alzheimer, dtype: int64"
            ]
          },
          "metadata": {},
          "execution_count": 323
        }
      ]
    },
    {
      "cell_type": "code",
      "source": [
        "train_beneficiary_df['ChronicCond_Heartfailure'].value_counts()"
      ],
      "metadata": {
        "colab": {
          "base_uri": "https://localhost:8080/"
        },
        "id": "dXzeDnfbyBXA",
        "outputId": "515256ab-4439-4f06-bce3-770152484c63"
      },
      "execution_count": 324,
      "outputs": [
        {
          "output_type": "execute_result",
          "data": {
            "text/plain": [
              "2    70154\n",
              "1    68402\n",
              "Name: ChronicCond_Heartfailure, dtype: int64"
            ]
          },
          "metadata": {},
          "execution_count": 324
        }
      ]
    },
    {
      "cell_type": "code",
      "source": [
        "train_beneficiary_df['ChronicCond_Cancer'].value_counts()"
      ],
      "metadata": {
        "colab": {
          "base_uri": "https://localhost:8080/"
        },
        "id": "0TSaPAysyHWD",
        "outputId": "2c5f7a10-c8aa-4e2e-cf53-9f35cacb67f7"
      },
      "execution_count": 325,
      "outputs": [
        {
          "output_type": "execute_result",
          "data": {
            "text/plain": [
              "2    121935\n",
              "1     16621\n",
              "Name: ChronicCond_Cancer, dtype: int64"
            ]
          },
          "metadata": {},
          "execution_count": 325
        }
      ]
    },
    {
      "cell_type": "code",
      "source": [
        "test_beneficiary_df['ChronicCond_Cancer'].value_counts()"
      ],
      "metadata": {
        "colab": {
          "base_uri": "https://localhost:8080/"
        },
        "id": "LOdtEiDHzhV_",
        "outputId": "a531b053-8a17-4b18-c25c-4eb7089f8dee"
      },
      "execution_count": 326,
      "outputs": [
        {
          "output_type": "execute_result",
          "data": {
            "text/plain": [
              "2    55176\n",
              "1     8792\n",
              "Name: ChronicCond_Cancer, dtype: int64"
            ]
          },
          "metadata": {},
          "execution_count": 326
        }
      ]
    },
    {
      "cell_type": "code",
      "source": [
        "cols = ['ChronicCond_Alzheimer', 'ChronicCond_Heartfailure',\n",
        "       'ChronicCond_KidneyDisease', 'ChronicCond_Cancer',\n",
        "       'ChronicCond_ObstrPulmonary', 'ChronicCond_Depression',\n",
        "       'ChronicCond_Diabetes', 'ChronicCond_IschemicHeart',\n",
        "       'ChronicCond_Osteoporasis', 'ChronicCond_rheumatoidarthritis',\n",
        "       'ChronicCond_stroke'] \n",
        "\n",
        "for col in cols:\n",
        "  train_beneficiary_df.replace({col: 2}, 0, inplace=True)\n",
        "  test_beneficiary_df.replace({col: 2}, 0, inplace=True)"
      ],
      "metadata": {
        "id": "kIO05q2PyWfF"
      },
      "execution_count": 327,
      "outputs": []
    },
    {
      "cell_type": "code",
      "source": [
        "train_beneficiary_df['ChronicCond_Alzheimer'].value_counts()"
      ],
      "metadata": {
        "colab": {
          "base_uri": "https://localhost:8080/"
        },
        "id": "OzS-qEypyuSn",
        "outputId": "7189c17e-a05b-4cd6-a143-e9a4322b3f2c"
      },
      "execution_count": 328,
      "outputs": [
        {
          "output_type": "execute_result",
          "data": {
            "text/plain": [
              "0    92530\n",
              "1    46026\n",
              "Name: ChronicCond_Alzheimer, dtype: int64"
            ]
          },
          "metadata": {},
          "execution_count": 328
        }
      ]
    },
    {
      "cell_type": "code",
      "source": [
        "train_beneficiary_df['ChronicCond_Heartfailure'].value_counts()"
      ],
      "metadata": {
        "colab": {
          "base_uri": "https://localhost:8080/"
        },
        "id": "vlbHzEwPysTu",
        "outputId": "3be51b66-2bcf-4ee6-8c13-181931b23cde"
      },
      "execution_count": 329,
      "outputs": [
        {
          "output_type": "execute_result",
          "data": {
            "text/plain": [
              "0    70154\n",
              "1    68402\n",
              "Name: ChronicCond_Heartfailure, dtype: int64"
            ]
          },
          "metadata": {},
          "execution_count": 329
        }
      ]
    },
    {
      "cell_type": "code",
      "source": [
        "train_beneficiary_df['ChronicCond_Cancer'].value_counts()"
      ],
      "metadata": {
        "colab": {
          "base_uri": "https://localhost:8080/"
        },
        "id": "-EDo4flHypLW",
        "outputId": "83912f78-14c2-4b25-bd32-837954604fa0"
      },
      "execution_count": 330,
      "outputs": [
        {
          "output_type": "execute_result",
          "data": {
            "text/plain": [
              "0    121935\n",
              "1     16621\n",
              "Name: ChronicCond_Cancer, dtype: int64"
            ]
          },
          "metadata": {},
          "execution_count": 330
        }
      ]
    },
    {
      "cell_type": "code",
      "source": [
        "test_beneficiary_df['ChronicCond_Cancer'].value_counts()"
      ],
      "metadata": {
        "colab": {
          "base_uri": "https://localhost:8080/"
        },
        "id": "orUUSj-AyrQv",
        "outputId": "6ff2a2c2-9fa3-4921-d484-e3927ec9cb54"
      },
      "execution_count": 331,
      "outputs": [
        {
          "output_type": "execute_result",
          "data": {
            "text/plain": [
              "0    55176\n",
              "1     8792\n",
              "Name: ChronicCond_Cancer, dtype: int64"
            ]
          },
          "metadata": {},
          "execution_count": 331
        }
      ]
    },
    {
      "cell_type": "markdown",
      "source": [
        "## Person's Age on Train dataset"
      ],
      "metadata": {
        "id": "DF29noY-zuJR"
      }
    },
    {
      "cell_type": "code",
      "source": [
        "train_beneficiary_df['DOB'] = pd.to_datetime(train_beneficiary_df['DOB'], format = '%Y-%m-%d')\n",
        "train_beneficiary_df['DOD'] = pd.to_datetime(train_beneficiary_df['DOD'], format = '%Y-%m-%d') \n",
        "train_beneficiary_df['Age'] = round((train_beneficiary_df['DOD'] - train_beneficiary_df['DOB']).dt.days/365) "
      ],
      "metadata": {
        "id": "85ZX55AxzelO"
      },
      "execution_count": 332,
      "outputs": []
    },
    {
      "cell_type": "code",
      "source": [
        "train_beneficiary_df['Age'].isna().sum(), train_beneficiary_df.shape[0]"
      ],
      "metadata": {
        "colab": {
          "base_uri": "https://localhost:8080/"
        },
        "id": "3cHryIBB0BzR",
        "outputId": "e6569e88-67e5-40bb-c435-81e76904a0e7"
      },
      "execution_count": 333,
      "outputs": [
        {
          "output_type": "execute_result",
          "data": {
            "text/plain": [
              "(137135, 138556)"
            ]
          },
          "metadata": {},
          "execution_count": 333
        }
      ]
    },
    {
      "cell_type": "markdown",
      "source": [
        "**Take-away message**\n",
        "\n",
        "There are 1421 beneficiaries still alive and we need to calculate their age as well. "
      ],
      "metadata": {
        "id": "RdKffm8K0KP-"
      }
    },
    {
      "cell_type": "code",
      "source": [
        "train_beneficiary_df['DOD'].max()"
      ],
      "metadata": {
        "colab": {
          "base_uri": "https://localhost:8080/"
        },
        "id": "rczZ6Gq90F-S",
        "outputId": "934e25e6-9b1f-48b4-e0b9-ac4f1d8e5c44"
      },
      "execution_count": 334,
      "outputs": [
        {
          "output_type": "execute_result",
          "data": {
            "text/plain": [
              "Timestamp('2009-12-01 00:00:00')"
            ]
          },
          "metadata": {},
          "execution_count": 334
        }
      ]
    },
    {
      "cell_type": "markdown",
      "source": [
        "**Take-away message**\n",
        "Beneficiary data was last recorded on 2009-12-01, so we can calculate age of people that are still alive based on this date. "
      ],
      "metadata": {
        "id": "last8gUD0clQ"
      }
    },
    {
      "cell_type": "code",
      "source": [
        "train_beneficiary_df['Age'].fillna(round(((pd.to_datetime('2019-12-01', format='%Y-%m-%d') - train_beneficiary_df['DOB']).dt.days)/365), inplace=True)"
      ],
      "metadata": {
        "id": "MHojV0Y_0aG6"
      },
      "execution_count": 335,
      "outputs": []
    },
    {
      "cell_type": "code",
      "source": [
        "train_beneficiary_df.Age.isna().sum()"
      ],
      "metadata": {
        "colab": {
          "base_uri": "https://localhost:8080/"
        },
        "id": "Lf4eMebF1Fs3",
        "outputId": "875c1aaf-42d7-45ca-d5a6-868bd1687c5b"
      },
      "execution_count": 336,
      "outputs": [
        {
          "output_type": "execute_result",
          "data": {
            "text/plain": [
              "0"
            ]
          },
          "metadata": {},
          "execution_count": 336
        }
      ]
    },
    {
      "cell_type": "markdown",
      "source": [
        "## Person's Age on Test dataset"
      ],
      "metadata": {
        "id": "dE8bWqjG1SaO"
      }
    },
    {
      "cell_type": "code",
      "source": [
        "test_beneficiary_df['DOB'] = pd.to_datetime(test_beneficiary_df['DOB'], format = '%Y-%m-%d')\n",
        "test_beneficiary_df['DOD'] = pd.to_datetime(test_beneficiary_df['DOD'], format = '%Y-%m-%d') \n",
        "test_beneficiary_df['Age'] = round((test_beneficiary_df['DOD'] - test_beneficiary_df['DOB']).dt.days/365)"
      ],
      "metadata": {
        "id": "m4RlSQE61Liq"
      },
      "execution_count": 337,
      "outputs": []
    },
    {
      "cell_type": "code",
      "source": [
        "test_beneficiary_df['Age'].isna().sum(), test_beneficiary_df.shape[0]\n"
      ],
      "metadata": {
        "colab": {
          "base_uri": "https://localhost:8080/"
        },
        "id": "aX1c4-Ev1bD3",
        "outputId": "b17ff909-0b11-412c-da3c-2c99eb0cea31"
      },
      "execution_count": 338,
      "outputs": [
        {
          "output_type": "execute_result",
          "data": {
            "text/plain": [
              "(63394, 63968)"
            ]
          },
          "metadata": {},
          "execution_count": 338
        }
      ]
    },
    {
      "cell_type": "code",
      "source": [
        "63968 - 63394 "
      ],
      "metadata": {
        "colab": {
          "base_uri": "https://localhost:8080/"
        },
        "id": "jqmCkPjX1eJa",
        "outputId": "b19da0b8-a21c-4fbb-dcf7-849caa393327"
      },
      "execution_count": 339,
      "outputs": [
        {
          "output_type": "execute_result",
          "data": {
            "text/plain": [
              "574"
            ]
          },
          "metadata": {},
          "execution_count": 339
        }
      ]
    },
    {
      "cell_type": "markdown",
      "source": [
        "**Take-away message**\n",
        "\n",
        "In the test dataset, there are 574 beneficiaries that are still alive. We'll calculate their age based on the last recorded date. "
      ],
      "metadata": {
        "id": "Mg-hMWRk1k8z"
      }
    },
    {
      "cell_type": "code",
      "source": [
        "test_beneficiary_df['DOD'].max()\n"
      ],
      "metadata": {
        "colab": {
          "base_uri": "https://localhost:8080/"
        },
        "id": "p3oEc9sB1jof",
        "outputId": "3ad13400-32ca-4d35-bcdc-a01745be6b09"
      },
      "execution_count": 340,
      "outputs": [
        {
          "output_type": "execute_result",
          "data": {
            "text/plain": [
              "Timestamp('2009-12-01 00:00:00')"
            ]
          },
          "metadata": {},
          "execution_count": 340
        }
      ]
    },
    {
      "cell_type": "code",
      "source": [
        "test_beneficiary_df['Age'].fillna(round(((pd.to_datetime('2019-12-01', format='%Y-%m-%d') - test_beneficiary_df['DOB']).dt.days)/365), inplace=True)\n"
      ],
      "metadata": {
        "id": "q_WIjbif1zTX"
      },
      "execution_count": 341,
      "outputs": []
    },
    {
      "cell_type": "code",
      "source": [
        "test_beneficiary_df.Age.isna().sum()\n"
      ],
      "metadata": {
        "colab": {
          "base_uri": "https://localhost:8080/"
        },
        "id": "KG77e0gv15lo",
        "outputId": "c237c05d-ec42-43cd-a113-63745742ae47"
      },
      "execution_count": 342,
      "outputs": [
        {
          "output_type": "execute_result",
          "data": {
            "text/plain": [
              "0"
            ]
          },
          "metadata": {},
          "execution_count": 342
        }
      ]
    },
    {
      "cell_type": "markdown",
      "source": [
        "## Add dead flag column"
      ],
      "metadata": {
        "id": "Adb_wHlQ1_8u"
      }
    },
    {
      "cell_type": "code",
      "source": [
        "train_beneficiary_df.shape"
      ],
      "metadata": {
        "colab": {
          "base_uri": "https://localhost:8080/"
        },
        "id": "Gw5gthr-2VL1",
        "outputId": "ec40448c-da05-4a29-f140-747353917e43"
      },
      "execution_count": 343,
      "outputs": [
        {
          "output_type": "execute_result",
          "data": {
            "text/plain": [
              "(138556, 26)"
            ]
          },
          "metadata": {},
          "execution_count": 343
        }
      ]
    },
    {
      "cell_type": "code",
      "source": [
        "train_beneficiary_df['DOD'].isna().sum(), train_beneficiary_df['DOD'].notna().sum()"
      ],
      "metadata": {
        "colab": {
          "base_uri": "https://localhost:8080/"
        },
        "id": "ef0gQ2ll2Z2h",
        "outputId": "567f554f-0b50-4192-a31b-25ccdb723bba"
      },
      "execution_count": 344,
      "outputs": [
        {
          "output_type": "execute_result",
          "data": {
            "text/plain": [
              "(137135, 1421)"
            ]
          },
          "metadata": {},
          "execution_count": 344
        }
      ]
    },
    {
      "cell_type": "code",
      "source": [
        "train_beneficiary_df.loc[train_beneficiary_df['DOD'].isna(), 'DeadOrNot'] = 0 \n",
        "train_beneficiary_df.loc[train_beneficiary_df['DOD'].notna(), 'DeadOrNot'] = 1 "
      ],
      "metadata": {
        "id": "r1aHCK1n182y"
      },
      "execution_count": 345,
      "outputs": []
    },
    {
      "cell_type": "code",
      "source": [
        "train_beneficiary_df['DeadOrNot'].value_counts()"
      ],
      "metadata": {
        "colab": {
          "base_uri": "https://localhost:8080/"
        },
        "id": "rpKGrvKU2hBg",
        "outputId": "001e23e4-2184-45a8-ca5c-a3936520d26c"
      },
      "execution_count": 346,
      "outputs": [
        {
          "output_type": "execute_result",
          "data": {
            "text/plain": [
              "0.0    137135\n",
              "1.0      1421\n",
              "Name: DeadOrNot, dtype: int64"
            ]
          },
          "metadata": {},
          "execution_count": 346
        }
      ]
    },
    {
      "cell_type": "code",
      "source": [
        "test_beneficiary_df.shape"
      ],
      "metadata": {
        "colab": {
          "base_uri": "https://localhost:8080/"
        },
        "id": "iUeqP5qi2jDW",
        "outputId": "a9ad36ac-a7ce-497d-8b7a-8caa339b0b3b"
      },
      "execution_count": 347,
      "outputs": [
        {
          "output_type": "execute_result",
          "data": {
            "text/plain": [
              "(63968, 26)"
            ]
          },
          "metadata": {},
          "execution_count": 347
        }
      ]
    },
    {
      "cell_type": "code",
      "source": [
        "test_beneficiary_df['DOD'].isna().sum(), test_beneficiary_df['DOD'].notna().sum()\n"
      ],
      "metadata": {
        "colab": {
          "base_uri": "https://localhost:8080/"
        },
        "id": "itKqSJzP2lqc",
        "outputId": "b71c1d78-6d55-4fdd-923b-69ff42269a48"
      },
      "execution_count": 348,
      "outputs": [
        {
          "output_type": "execute_result",
          "data": {
            "text/plain": [
              "(63394, 574)"
            ]
          },
          "metadata": {},
          "execution_count": 348
        }
      ]
    },
    {
      "cell_type": "code",
      "source": [
        "test_beneficiary_df.loc[test_beneficiary_df['DOD'].isna(), 'DeadOrNot'] = 0 \n",
        "test_beneficiary_df.loc[test_beneficiary_df['DOD'].notna(), 'DeadOrNot'] = 1 "
      ],
      "metadata": {
        "id": "mj_ecHe02ofz"
      },
      "execution_count": 349,
      "outputs": []
    },
    {
      "cell_type": "code",
      "source": [
        "test_beneficiary_df['DeadOrNot'].value_counts()"
      ],
      "metadata": {
        "colab": {
          "base_uri": "https://localhost:8080/"
        },
        "id": "HmoBBY312ux-",
        "outputId": "87bc999c-1673-4c82-cef3-51b7e3b7c675"
      },
      "execution_count": 350,
      "outputs": [
        {
          "output_type": "execute_result",
          "data": {
            "text/plain": [
              "0.0    63394\n",
              "1.0      574\n",
              "Name: DeadOrNot, dtype: int64"
            ]
          },
          "metadata": {},
          "execution_count": 350
        }
      ]
    },
    {
      "cell_type": "markdown",
      "source": [
        "# Data Engineering for in-patient dataset"
      ],
      "metadata": {
        "id": "kuG1F9Zc299m"
      }
    },
    {
      "cell_type": "markdown",
      "source": [
        "**Calculating Admitted Days**\n",
        "\n",
        "Creating a new feature 'AdmittedDays' based on AdmissionDt and DischargeDt"
      ],
      "metadata": {
        "id": "ompT3vdq5AHX"
      }
    },
    {
      "cell_type": "code",
      "source": [
        "train_inpatient_df['AdmissionDt'] = pd.to_datetime(train_inpatient_df['AdmissionDt'], format='%Y-%m-%d')\n",
        "train_inpatient_df['DischargeDt'] = pd.to_datetime(train_inpatient_df['DischargeDt'], format='%Y-%m-%d')\n",
        "train_inpatient_df['AdmittedDays'] = round((train_inpatient_df['DischargeDt'] - train_inpatient_df['AdmissionDt']).dt.days + 1) \n",
        "                                           \n",
        "test_inpatient_df['AdmissionDt'] = pd.to_datetime(test_inpatient_df['AdmissionDt'], format='%Y-%m-%d')\n",
        "test_inpatient_df['DischargeDt'] = pd.to_datetime(test_inpatient_df['DischargeDt'], format='%Y-%m-%d')\n",
        "test_inpatient_df['AdmittedDays'] = round((test_inpatient_df['DischargeDt'] - test_inpatient_df['AdmissionDt']).dt.days + 1)"
      ],
      "metadata": {
        "id": "-Da3cxEw2y7d"
      },
      "execution_count": 351,
      "outputs": []
    },
    {
      "cell_type": "code",
      "source": [
        "train_inpatient_df['AdmittedDays'].isna().sum()"
      ],
      "metadata": {
        "colab": {
          "base_uri": "https://localhost:8080/"
        },
        "id": "Uryplkq65dRL",
        "outputId": "8fc0bf37-a35b-4ffa-ac4b-daff13e09719"
      },
      "execution_count": 352,
      "outputs": [
        {
          "output_type": "execute_result",
          "data": {
            "text/plain": [
              "0"
            ]
          },
          "metadata": {},
          "execution_count": 352
        }
      ]
    },
    {
      "cell_type": "code",
      "source": [
        "test_inpatient_df['AdmittedDays'].isna().sum()"
      ],
      "metadata": {
        "colab": {
          "base_uri": "https://localhost:8080/"
        },
        "id": "eiHytc6Z5keN",
        "outputId": "63f26135-c363-4ba2-be0f-20c0bfef67e1"
      },
      "execution_count": 353,
      "outputs": [
        {
          "output_type": "execute_result",
          "data": {
            "text/plain": [
              "0"
            ]
          },
          "metadata": {},
          "execution_count": 353
        }
      ]
    },
    {
      "cell_type": "markdown",
      "source": [
        "# Merging Inpatient and Outpatient dataset"
      ],
      "metadata": {
        "id": "8nT0eeKC5sJC"
      }
    },
    {
      "cell_type": "code",
      "source": [
        "key_columns_to_merge = list(train_outpatient_df.columns)\n",
        "key_columns_to_merge"
      ],
      "metadata": {
        "colab": {
          "base_uri": "https://localhost:8080/"
        },
        "id": "Y6h1yFk85mLF",
        "outputId": "b1ea6c56-1821-491f-c379-94506ef7e048"
      },
      "execution_count": 354,
      "outputs": [
        {
          "output_type": "execute_result",
          "data": {
            "text/plain": [
              "['BeneID',\n",
              " 'ClaimID',\n",
              " 'ClaimStartDt',\n",
              " 'ClaimEndDt',\n",
              " 'Provider',\n",
              " 'InscClaimAmtReimbursed',\n",
              " 'AttendingPhysician',\n",
              " 'OperatingPhysician',\n",
              " 'OtherPhysician',\n",
              " 'ClmDiagnosisCode_1',\n",
              " 'ClmDiagnosisCode_2',\n",
              " 'ClmDiagnosisCode_3',\n",
              " 'ClmDiagnosisCode_4',\n",
              " 'ClmDiagnosisCode_5',\n",
              " 'ClmDiagnosisCode_6',\n",
              " 'ClmDiagnosisCode_7',\n",
              " 'ClmDiagnosisCode_8',\n",
              " 'ClmDiagnosisCode_9',\n",
              " 'ClmDiagnosisCode_10',\n",
              " 'ClmProcedureCode_1',\n",
              " 'ClmProcedureCode_2',\n",
              " 'ClmProcedureCode_3',\n",
              " 'ClmProcedureCode_4',\n",
              " 'ClmProcedureCode_5',\n",
              " 'ClmProcedureCode_6',\n",
              " 'DeductibleAmtPaid',\n",
              " 'ClmAdmitDiagnosisCode']"
            ]
          },
          "metadata": {},
          "execution_count": 354
        }
      ]
    },
    {
      "cell_type": "code",
      "source": [
        "train_merged_patient_data = train_inpatient_df.merge(train_outpatient_df, on=key_columns_to_merge, how='outer')\n",
        "train_merged_patient_data.shape"
      ],
      "metadata": {
        "colab": {
          "base_uri": "https://localhost:8080/"
        },
        "id": "aoVwnxwr57wz",
        "outputId": "b2f57506-0b50-4d05-8e9f-30353741f222"
      },
      "execution_count": 355,
      "outputs": [
        {
          "output_type": "execute_result",
          "data": {
            "text/plain": [
              "(558211, 31)"
            ]
          },
          "metadata": {},
          "execution_count": 355
        }
      ]
    },
    {
      "cell_type": "code",
      "source": [
        "key_columns_to_merge_test = list(test_outpatient_df.columns)\n",
        "key_columns_to_merge_test"
      ],
      "metadata": {
        "colab": {
          "base_uri": "https://localhost:8080/"
        },
        "id": "ktYtadI36BGL",
        "outputId": "4ac05048-938c-47d9-d8b8-940a15a38a99"
      },
      "execution_count": 356,
      "outputs": [
        {
          "output_type": "execute_result",
          "data": {
            "text/plain": [
              "['BeneID',\n",
              " 'ClaimID',\n",
              " 'ClaimStartDt',\n",
              " 'ClaimEndDt',\n",
              " 'Provider',\n",
              " 'InscClaimAmtReimbursed',\n",
              " 'AttendingPhysician',\n",
              " 'OperatingPhysician',\n",
              " 'OtherPhysician',\n",
              " 'ClmDiagnosisCode_1',\n",
              " 'ClmDiagnosisCode_2',\n",
              " 'ClmDiagnosisCode_3',\n",
              " 'ClmDiagnosisCode_4',\n",
              " 'ClmDiagnosisCode_5',\n",
              " 'ClmDiagnosisCode_6',\n",
              " 'ClmDiagnosisCode_7',\n",
              " 'ClmDiagnosisCode_8',\n",
              " 'ClmDiagnosisCode_9',\n",
              " 'ClmDiagnosisCode_10',\n",
              " 'ClmProcedureCode_1',\n",
              " 'ClmProcedureCode_2',\n",
              " 'ClmProcedureCode_3',\n",
              " 'ClmProcedureCode_4',\n",
              " 'ClmProcedureCode_5',\n",
              " 'ClmProcedureCode_6',\n",
              " 'DeductibleAmtPaid',\n",
              " 'ClmAdmitDiagnosisCode']"
            ]
          },
          "metadata": {},
          "execution_count": 356
        }
      ]
    },
    {
      "cell_type": "code",
      "source": [
        "test_merged_patient_data = test_inpatient_df.merge(test_outpatient_df, on=key_columns_to_merge_test, how='outer')\n",
        "test_merged_patient_data.shape"
      ],
      "metadata": {
        "colab": {
          "base_uri": "https://localhost:8080/"
        },
        "id": "KevcSS2j6KIt",
        "outputId": "b1bebb51-006d-47f7-cac3-93c4006f80af"
      },
      "execution_count": 357,
      "outputs": [
        {
          "output_type": "execute_result",
          "data": {
            "text/plain": [
              "(135392, 31)"
            ]
          },
          "metadata": {},
          "execution_count": 357
        }
      ]
    },
    {
      "cell_type": "markdown",
      "source": [
        "# Merging Beneficiary with All-patient data"
      ],
      "metadata": {
        "id": "1JNH-YWp6fru"
      }
    },
    {
      "cell_type": "code",
      "source": [
        "trainAllPatientDetailsData = train_merged_patient_data.merge(train_beneficiary_df, on='BeneID', how='inner')\n",
        "trainAllPatientDetailsData.shape"
      ],
      "metadata": {
        "colab": {
          "base_uri": "https://localhost:8080/"
        },
        "id": "SVW5kY-66WG6",
        "outputId": "672c2249-f444-478e-c507-87e572f8efa0"
      },
      "execution_count": 358,
      "outputs": [
        {
          "output_type": "execute_result",
          "data": {
            "text/plain": [
              "(558211, 57)"
            ]
          },
          "metadata": {},
          "execution_count": 358
        }
      ]
    },
    {
      "cell_type": "code",
      "source": [
        "testAllPatientDetailsData = test_merged_patient_data.merge(test_beneficiary_df, on='BeneID', how='inner')\n",
        "testAllPatientDetailsData.shape"
      ],
      "metadata": {
        "colab": {
          "base_uri": "https://localhost:8080/"
        },
        "id": "jQD5SlSx6uMm",
        "outputId": "20c3bbb7-19d2-476b-960c-721ce8149e6c"
      },
      "execution_count": 359,
      "outputs": [
        {
          "output_type": "execute_result",
          "data": {
            "text/plain": [
              "(135392, 57)"
            ]
          },
          "metadata": {},
          "execution_count": 359
        }
      ]
    },
    {
      "cell_type": "markdown",
      "source": [
        "# Merging all-patients data with provider data with fraud label"
      ],
      "metadata": {
        "id": "7As_Ff3m673K"
      }
    },
    {
      "cell_type": "code",
      "source": [
        "trainAllPatientDetailsProvider = trainAllPatientDetailsData.merge(train_df, on='Provider', how='inner')\n",
        "trainAllPatientDetailsProvider.shape"
      ],
      "metadata": {
        "colab": {
          "base_uri": "https://localhost:8080/"
        },
        "id": "hYCtce9H643C",
        "outputId": "06a8fb69-ac44-4b62-c3b5-4ea7c56f9f05"
      },
      "execution_count": 360,
      "outputs": [
        {
          "output_type": "execute_result",
          "data": {
            "text/plain": [
              "(558211, 58)"
            ]
          },
          "metadata": {},
          "execution_count": 360
        }
      ]
    },
    {
      "cell_type": "code",
      "source": [
        "testAllPatientDetailsProvider = testAllPatientDetailsData.merge(test_df, on='Provider', how='inner')\n",
        "testAllPatientDetailsProvider.shape"
      ],
      "metadata": {
        "colab": {
          "base_uri": "https://localhost:8080/"
        },
        "id": "4S-99DU67HMl",
        "outputId": "2db9f49f-bfd9-4dcd-cadb-4551acef4b35"
      },
      "execution_count": 361,
      "outputs": [
        {
          "output_type": "execute_result",
          "data": {
            "text/plain": [
              "(135392, 57)"
            ]
          },
          "metadata": {},
          "execution_count": 361
        }
      ]
    },
    {
      "cell_type": "code",
      "source": [
        "test_columns = list(testAllPatientDetailsProvider.columns)"
      ],
      "metadata": {
        "id": "7x-wikO77T3x"
      },
      "execution_count": 362,
      "outputs": []
    },
    {
      "cell_type": "code",
      "source": [
        "train_columns = trainAllPatientDetailsProvider.columns"
      ],
      "metadata": {
        "id": "sJKmpLjt7bB7"
      },
      "execution_count": 363,
      "outputs": []
    },
    {
      "cell_type": "code",
      "source": [
        "[test for test in train_columns if test not in test_columns]"
      ],
      "metadata": {
        "colab": {
          "base_uri": "https://localhost:8080/"
        },
        "id": "kZbfcFdb7fBW",
        "outputId": "1dbcff0b-aef6-4b08-f9b1-c3185a20eff4"
      },
      "execution_count": 364,
      "outputs": [
        {
          "output_type": "execute_result",
          "data": {
            "text/plain": [
              "['PotentialFraud']"
            ]
          },
          "metadata": {},
          "execution_count": 364
        }
      ]
    },
    {
      "cell_type": "code",
      "source": [
        "test_df.head()"
      ],
      "metadata": {
        "colab": {
          "base_uri": "https://localhost:8080/",
          "height": 221
        },
        "id": "xM2L1BWG8ykK",
        "outputId": "30f8cbb9-9afa-4b43-b827-bca6fe829e9c"
      },
      "execution_count": 365,
      "outputs": [
        {
          "output_type": "execute_result",
          "data": {
            "text/plain": [
              "   Provider\n",
              "0  PRV51002\n",
              "1  PRV51006\n",
              "2  PRV51009\n",
              "3  PRV51010\n",
              "4  PRV51018"
            ],
            "text/html": [
              "\n",
              "  <div id=\"df-590fac4b-eafc-4a0c-a97c-163704b2ad88\">\n",
              "    <div class=\"colab-df-container\">\n",
              "      <div>\n",
              "<style scoped>\n",
              "    .dataframe tbody tr th:only-of-type {\n",
              "        vertical-align: middle;\n",
              "    }\n",
              "\n",
              "    .dataframe tbody tr th {\n",
              "        vertical-align: top;\n",
              "    }\n",
              "\n",
              "    .dataframe thead th {\n",
              "        text-align: right;\n",
              "    }\n",
              "</style>\n",
              "<table border=\"1\" class=\"dataframe\">\n",
              "  <thead>\n",
              "    <tr style=\"text-align: right;\">\n",
              "      <th></th>\n",
              "      <th>Provider</th>\n",
              "    </tr>\n",
              "  </thead>\n",
              "  <tbody>\n",
              "    <tr>\n",
              "      <th>0</th>\n",
              "      <td>PRV51002</td>\n",
              "    </tr>\n",
              "    <tr>\n",
              "      <th>1</th>\n",
              "      <td>PRV51006</td>\n",
              "    </tr>\n",
              "    <tr>\n",
              "      <th>2</th>\n",
              "      <td>PRV51009</td>\n",
              "    </tr>\n",
              "    <tr>\n",
              "      <th>3</th>\n",
              "      <td>PRV51010</td>\n",
              "    </tr>\n",
              "    <tr>\n",
              "      <th>4</th>\n",
              "      <td>PRV51018</td>\n",
              "    </tr>\n",
              "  </tbody>\n",
              "</table>\n",
              "</div>\n",
              "      <button class=\"colab-df-convert\" onclick=\"convertToInteractive('df-590fac4b-eafc-4a0c-a97c-163704b2ad88')\"\n",
              "              title=\"Convert this dataframe to an interactive table.\"\n",
              "              style=\"display:none;\">\n",
              "        \n",
              "  <svg xmlns=\"http://www.w3.org/2000/svg\" height=\"24px\"viewBox=\"0 0 24 24\"\n",
              "       width=\"24px\">\n",
              "    <path d=\"M0 0h24v24H0V0z\" fill=\"none\"/>\n",
              "    <path d=\"M18.56 5.44l.94 2.06.94-2.06 2.06-.94-2.06-.94-.94-2.06-.94 2.06-2.06.94zm-11 1L8.5 8.5l.94-2.06 2.06-.94-2.06-.94L8.5 2.5l-.94 2.06-2.06.94zm10 10l.94 2.06.94-2.06 2.06-.94-2.06-.94-.94-2.06-.94 2.06-2.06.94z\"/><path d=\"M17.41 7.96l-1.37-1.37c-.4-.4-.92-.59-1.43-.59-.52 0-1.04.2-1.43.59L10.3 9.45l-7.72 7.72c-.78.78-.78 2.05 0 2.83L4 21.41c.39.39.9.59 1.41.59.51 0 1.02-.2 1.41-.59l7.78-7.78 2.81-2.81c.8-.78.8-2.07 0-2.86zM5.41 20L4 18.59l7.72-7.72 1.47 1.35L5.41 20z\"/>\n",
              "  </svg>\n",
              "      </button>\n",
              "      \n",
              "  <style>\n",
              "    .colab-df-container {\n",
              "      display:flex;\n",
              "      flex-wrap:wrap;\n",
              "      gap: 12px;\n",
              "    }\n",
              "\n",
              "    .colab-df-convert {\n",
              "      background-color: #E8F0FE;\n",
              "      border: none;\n",
              "      border-radius: 50%;\n",
              "      cursor: pointer;\n",
              "      display: none;\n",
              "      fill: #1967D2;\n",
              "      height: 32px;\n",
              "      padding: 0 0 0 0;\n",
              "      width: 32px;\n",
              "    }\n",
              "\n",
              "    .colab-df-convert:hover {\n",
              "      background-color: #E2EBFA;\n",
              "      box-shadow: 0px 1px 2px rgba(60, 64, 67, 0.3), 0px 1px 3px 1px rgba(60, 64, 67, 0.15);\n",
              "      fill: #174EA6;\n",
              "    }\n",
              "\n",
              "    [theme=dark] .colab-df-convert {\n",
              "      background-color: #3B4455;\n",
              "      fill: #D2E3FC;\n",
              "    }\n",
              "\n",
              "    [theme=dark] .colab-df-convert:hover {\n",
              "      background-color: #434B5C;\n",
              "      box-shadow: 0px 1px 3px 1px rgba(0, 0, 0, 0.15);\n",
              "      filter: drop-shadow(0px 1px 2px rgba(0, 0, 0, 0.3));\n",
              "      fill: #FFFFFF;\n",
              "    }\n",
              "  </style>\n",
              "\n",
              "      <script>\n",
              "        const buttonEl =\n",
              "          document.querySelector('#df-590fac4b-eafc-4a0c-a97c-163704b2ad88 button.colab-df-convert');\n",
              "        buttonEl.style.display =\n",
              "          google.colab.kernel.accessAllowed ? 'block' : 'none';\n",
              "\n",
              "        async function convertToInteractive(key) {\n",
              "          const element = document.querySelector('#df-590fac4b-eafc-4a0c-a97c-163704b2ad88');\n",
              "          const dataTable =\n",
              "            await google.colab.kernel.invokeFunction('convertToInteractive',\n",
              "                                                     [key], {});\n",
              "          if (!dataTable) return;\n",
              "\n",
              "          const docLinkHtml = 'Like what you see? Visit the ' +\n",
              "            '<a target=\"_blank\" href=https://colab.research.google.com/notebooks/data_table.ipynb>data table notebook</a>'\n",
              "            + ' to learn more about interactive tables.';\n",
              "          element.innerHTML = '';\n",
              "          dataTable['output_type'] = 'display_data';\n",
              "          await google.colab.output.renderOutput(dataTable, element);\n",
              "          const docLink = document.createElement('div');\n",
              "          docLink.innerHTML = docLinkHtml;\n",
              "          element.appendChild(docLink);\n",
              "        }\n",
              "      </script>\n",
              "    </div>\n",
              "  </div>\n",
              "  "
            ]
          },
          "metadata": {},
          "execution_count": 365
        }
      ]
    },
    {
      "cell_type": "markdown",
      "source": [
        "# Missing value information in final dataset"
      ],
      "metadata": {
        "id": "RmjNzKEg9Krk"
      }
    },
    {
      "cell_type": "code",
      "source": [
        "trainAllPatientDetailsProvider.isna().sum()*100/len(trainAllPatientDetailsProvider)"
      ],
      "metadata": {
        "colab": {
          "base_uri": "https://localhost:8080/"
        },
        "id": "2dyyjR3M86xs",
        "outputId": "71bb2c75-1e8a-4117-bfdc-e276b47ad91c"
      },
      "execution_count": 366,
      "outputs": [
        {
          "output_type": "execute_result",
          "data": {
            "text/plain": [
              "BeneID                               0.000000\n",
              "ClaimID                              0.000000\n",
              "ClaimStartDt                         0.000000\n",
              "ClaimEndDt                           0.000000\n",
              "Provider                             0.000000\n",
              "InscClaimAmtReimbursed               0.000000\n",
              "AttendingPhysician                   0.270149\n",
              "OperatingPhysician                  79.497538\n",
              "OtherPhysician                      64.218548\n",
              "AdmissionDt                         92.749337\n",
              "ClmAdmitDiagnosisCode               73.863109\n",
              "DeductibleAmtPaid                    0.161050\n",
              "DischargeDt                         92.749337\n",
              "DiagnosisGroupCode                  92.749337\n",
              "ClmDiagnosisCode_1                   1.872589\n",
              "ClmDiagnosisCode_2                  35.041588\n",
              "ClmDiagnosisCode_3                  56.458221\n",
              "ClmDiagnosisCode_4                  70.524407\n",
              "ClmDiagnosisCode_5                  79.949517\n",
              "ClmDiagnosisCode_6                  84.881702\n",
              "ClmDiagnosisCode_7                  88.144805\n",
              "ClmDiagnosisCode_8                  90.425843\n",
              "ClmDiagnosisCode_9                  92.509105\n",
              "ClmDiagnosisCode_10                 99.102490\n",
              "ClmProcedureCode_1                  95.824160\n",
              "ClmProcedureCode_2                  99.016501\n",
              "ClmProcedureCode_3                  99.826410\n",
              "ClmProcedureCode_4                  99.978861\n",
              "ClmProcedureCode_5                  99.998388\n",
              "ClmProcedureCode_6                 100.000000\n",
              "AdmittedDays                        92.749337\n",
              "DOB                                  0.000000\n",
              "DOD                                 99.259957\n",
              "Gender                               0.000000\n",
              "Race                                 0.000000\n",
              "RenalDiseaseIndicator                0.000000\n",
              "State                                0.000000\n",
              "County                               0.000000\n",
              "NoOfMonths_PartACov                  0.000000\n",
              "NoOfMonths_PartBCov                  0.000000\n",
              "ChronicCond_Alzheimer                0.000000\n",
              "ChronicCond_Heartfailure             0.000000\n",
              "ChronicCond_KidneyDisease            0.000000\n",
              "ChronicCond_Cancer                   0.000000\n",
              "ChronicCond_ObstrPulmonary           0.000000\n",
              "ChronicCond_Depression               0.000000\n",
              "ChronicCond_Diabetes                 0.000000\n",
              "ChronicCond_IschemicHeart            0.000000\n",
              "ChronicCond_Osteoporasis             0.000000\n",
              "ChronicCond_rheumatoidarthritis      0.000000\n",
              "ChronicCond_stroke                   0.000000\n",
              "IPAnnualReimbursementAmt             0.000000\n",
              "IPAnnualDeductibleAmt                0.000000\n",
              "OPAnnualReimbursementAmt             0.000000\n",
              "OPAnnualDeductibleAmt                0.000000\n",
              "Age                                  0.000000\n",
              "DeadOrNot                            0.000000\n",
              "PotentialFraud                       0.000000\n",
              "dtype: float64"
            ]
          },
          "metadata": {},
          "execution_count": 366
        }
      ]
    },
    {
      "cell_type": "code",
      "source": [
        "testAllPatientDetailsProvider.isna().sum()*100/len(testAllPatientDetailsProvider)"
      ],
      "metadata": {
        "colab": {
          "base_uri": "https://localhost:8080/"
        },
        "id": "VptE4idA9P65",
        "outputId": "5a2535b6-0ea9-4c09-ada7-c4ab1945487c"
      },
      "execution_count": 367,
      "outputs": [
        {
          "output_type": "execute_result",
          "data": {
            "text/plain": [
              "BeneID                               0.000000\n",
              "ClaimID                              0.000000\n",
              "ClaimStartDt                         0.000000\n",
              "ClaimEndDt                           0.000000\n",
              "Provider                             0.000000\n",
              "InscClaimAmtReimbursed               0.000000\n",
              "AttendingPhysician                   0.256293\n",
              "OperatingPhysician                  79.915357\n",
              "OtherPhysician                      64.080596\n",
              "AdmissionDt                         92.945669\n",
              "ClmAdmitDiagnosisCode               73.886197\n",
              "DeductibleAmtPaid                    0.144765\n",
              "DischargeDt                         92.945669\n",
              "DiagnosisGroupCode                  92.945669\n",
              "ClmDiagnosisCode_1                   1.904101\n",
              "ClmDiagnosisCode_2                  35.293814\n",
              "ClmDiagnosisCode_3                  56.682817\n",
              "ClmDiagnosisCode_4                  70.739039\n",
              "ClmDiagnosisCode_5                  80.207102\n",
              "ClmDiagnosisCode_6                  85.109903\n",
              "ClmDiagnosisCode_7                  88.341261\n",
              "ClmDiagnosisCode_8                  90.603581\n",
              "ClmDiagnosisCode_9                  92.705625\n",
              "ClmDiagnosisCode_10                 99.150615\n",
              "ClmProcedureCode_1                  95.962095\n",
              "ClmProcedureCode_2                  99.067153\n",
              "ClmProcedureCode_3                  99.833816\n",
              "ClmProcedureCode_4                  99.978581\n",
              "ClmProcedureCode_5                  99.998523\n",
              "ClmProcedureCode_6                 100.000000\n",
              "AdmittedDays                        92.945669\n",
              "DOB                                  0.000000\n",
              "DOD                                 99.231860\n",
              "Gender                               0.000000\n",
              "Race                                 0.000000\n",
              "RenalDiseaseIndicator                0.000000\n",
              "State                                0.000000\n",
              "County                               0.000000\n",
              "NoOfMonths_PartACov                  0.000000\n",
              "NoOfMonths_PartBCov                  0.000000\n",
              "ChronicCond_Alzheimer                0.000000\n",
              "ChronicCond_Heartfailure             0.000000\n",
              "ChronicCond_KidneyDisease            0.000000\n",
              "ChronicCond_Cancer                   0.000000\n",
              "ChronicCond_ObstrPulmonary           0.000000\n",
              "ChronicCond_Depression               0.000000\n",
              "ChronicCond_Diabetes                 0.000000\n",
              "ChronicCond_IschemicHeart            0.000000\n",
              "ChronicCond_Osteoporasis             0.000000\n",
              "ChronicCond_rheumatoidarthritis      0.000000\n",
              "ChronicCond_stroke                   0.000000\n",
              "IPAnnualReimbursementAmt             0.000000\n",
              "IPAnnualDeductibleAmt                0.000000\n",
              "OPAnnualReimbursementAmt             0.000000\n",
              "OPAnnualDeductibleAmt                0.000000\n",
              "Age                                  0.000000\n",
              "DeadOrNot                            0.000000\n",
              "dtype: float64"
            ]
          },
          "metadata": {},
          "execution_count": 367
        }
      ]
    },
    {
      "cell_type": "markdown",
      "source": [
        "# Feature Engineering"
      ],
      "metadata": {
        "id": "pHetZKjX-22k"
      }
    },
    {
      "cell_type": "code",
      "source": [
        "pd.set_option('display.max_columns', None)\n",
        "trainAllPatientDetailsProvider.head()"
      ],
      "metadata": {
        "colab": {
          "base_uri": "https://localhost:8080/",
          "height": 348
        },
        "id": "hxsa3YSpAWdz",
        "outputId": "55b15e37-c9a3-410d-f1f3-f37c7a78778c"
      },
      "execution_count": 368,
      "outputs": [
        {
          "output_type": "execute_result",
          "data": {
            "text/plain": [
              "      BeneID    ClaimID ClaimStartDt  ClaimEndDt  Provider  \\\n",
              "0  BENE11001   CLM46614   2009-04-12  2009-04-18  PRV55912   \n",
              "1  BENE16973  CLM565430   2009-09-06  2009-09-06  PRV55912   \n",
              "2  BENE17521   CLM34721   2009-01-20  2009-02-01  PRV55912   \n",
              "3  BENE21718   CLM72336   2009-10-17  2009-11-04  PRV55912   \n",
              "4  BENE22934   CLM73394   2009-10-25  2009-10-29  PRV55912   \n",
              "\n",
              "   InscClaimAmtReimbursed AttendingPhysician OperatingPhysician  \\\n",
              "0                   26000          PHY390922                NaN   \n",
              "1                      50          PHY365867          PHY327147   \n",
              "2                   19000          PHY349293          PHY370861   \n",
              "3                   17000          PHY334706          PHY334706   \n",
              "4                   13000          PHY390614          PHY323689   \n",
              "\n",
              "  OtherPhysician AdmissionDt ClmAdmitDiagnosisCode  DeductibleAmtPaid  \\\n",
              "0            NaN  2009-04-12                  7866             1068.0   \n",
              "1            NaN         NaT                   NaN                0.0   \n",
              "2      PHY363291  2009-01-20                 45340             1068.0   \n",
              "3            NaN  2009-10-17                 V5789             1068.0   \n",
              "4      PHY363291  2009-10-25                 71946             1068.0   \n",
              "\n",
              "  DischargeDt DiagnosisGroupCode ClmDiagnosisCode_1 ClmDiagnosisCode_2  \\\n",
              "0  2009-04-18                201               1970               4019   \n",
              "1         NaT                NaN              V7183              53081   \n",
              "2  2009-02-01                987               4240               2639   \n",
              "3  2009-11-04                941              V5789               4168   \n",
              "4  2009-10-29                506              71535              71960   \n",
              "\n",
              "  ClmDiagnosisCode_3 ClmDiagnosisCode_4 ClmDiagnosisCode_5 ClmDiagnosisCode_6  \\\n",
              "0               5853               7843               2768              71590   \n",
              "1              78959               4280              E8788              78079   \n",
              "2               2948              40390              45821              28489   \n",
              "3              73313               7812               7993              78830   \n",
              "4               4019              V1202               4240               2449   \n",
              "\n",
              "  ClmDiagnosisCode_7 ClmDiagnosisCode_8 ClmDiagnosisCode_9  \\\n",
              "0               2724              19889               5849   \n",
              "1              79902              25002              71848   \n",
              "2               5854               2753              E9305   \n",
              "3              72273              43812               4019   \n",
              "4               2768                NaN                NaN   \n",
              "\n",
              "  ClmDiagnosisCode_10  ClmProcedureCode_1  ClmProcedureCode_2  \\\n",
              "0                 NaN                 NaN                 NaN   \n",
              "1                 NaN                 NaN                 NaN   \n",
              "2                 NaN              7769.0              5849.0   \n",
              "3                 NaN              9338.0                 NaN   \n",
              "4                 NaN              8154.0                 NaN   \n",
              "\n",
              "   ClmProcedureCode_3  ClmProcedureCode_4  ClmProcedureCode_5  \\\n",
              "0                 NaN                 NaN                 NaN   \n",
              "1                 NaN                 NaN                 NaN   \n",
              "2                 NaN                 NaN                 NaN   \n",
              "3                 NaN                 NaN                 NaN   \n",
              "4                 NaN                 NaN                 NaN   \n",
              "\n",
              "   ClmProcedureCode_6  AdmittedDays        DOB DOD  Gender  Race  \\\n",
              "0                 NaN           7.0 1943-01-01 NaT       1     1   \n",
              "1                 NaN           NaN 1932-05-01 NaT       1     1   \n",
              "2                 NaN          13.0 1913-12-01 NaT       2     1   \n",
              "3                 NaN          19.0 1922-10-01 NaT       1     1   \n",
              "4                 NaN           5.0 1930-07-01 NaT       2     1   \n",
              "\n",
              "  RenalDiseaseIndicator  State  County  NoOfMonths_PartACov  \\\n",
              "0                     0     39     230                   12   \n",
              "1                     0     39     310                   12   \n",
              "2                     0     39     230                   12   \n",
              "3                     0     39     600                   12   \n",
              "4                     0     39     280                   12   \n",
              "\n",
              "   NoOfMonths_PartBCov  ChronicCond_Alzheimer  ChronicCond_Heartfailure  \\\n",
              "0                   12                      1                         0   \n",
              "1                   12                      1                         1   \n",
              "2                   12                      1                         1   \n",
              "3                   12                      0                         0   \n",
              "4                   12                      0                         1   \n",
              "\n",
              "   ChronicCond_KidneyDisease  ChronicCond_Cancer  ChronicCond_ObstrPulmonary  \\\n",
              "0                          1                   0                           0   \n",
              "1                          1                   0                           0   \n",
              "2                          1                   0                           1   \n",
              "3                          0                   0                           0   \n",
              "4                          0                   0                           1   \n",
              "\n",
              "   ChronicCond_Depression  ChronicCond_Diabetes  ChronicCond_IschemicHeart  \\\n",
              "0                       1                     1                          1   \n",
              "1                       0                     0                          1   \n",
              "2                       0                     0                          1   \n",
              "3                       0                     0                          1   \n",
              "4                       0                     1                          1   \n",
              "\n",
              "   ChronicCond_Osteoporasis  ChronicCond_rheumatoidarthritis  \\\n",
              "0                         0                                1   \n",
              "1                         0                                0   \n",
              "2                         0                                0   \n",
              "3                         1                                0   \n",
              "4                         1                                1   \n",
              "\n",
              "   ChronicCond_stroke  IPAnnualReimbursementAmt  IPAnnualDeductibleAmt  \\\n",
              "0                   1                     36000                   3204   \n",
              "1                   0                     24000                   2136   \n",
              "2                   0                     19000                   1068   \n",
              "3                   0                     17000                   1068   \n",
              "4                   0                     27000                   2136   \n",
              "\n",
              "   OPAnnualReimbursementAmt  OPAnnualDeductibleAmt    Age  DeadOrNot  \\\n",
              "0                        60                     70   77.0        0.0   \n",
              "1                       450                    200   88.0        0.0   \n",
              "2                       100                     20  106.0        0.0   \n",
              "3                      1050                    540   97.0        0.0   \n",
              "4                       450                    160   89.0        0.0   \n",
              "\n",
              "  PotentialFraud  \n",
              "0            Yes  \n",
              "1            Yes  \n",
              "2            Yes  \n",
              "3            Yes  \n",
              "4            Yes  "
            ],
            "text/html": [
              "\n",
              "  <div id=\"df-b220d0f9-28ff-4b6c-a193-b322298fd56d\">\n",
              "    <div class=\"colab-df-container\">\n",
              "      <div>\n",
              "<style scoped>\n",
              "    .dataframe tbody tr th:only-of-type {\n",
              "        vertical-align: middle;\n",
              "    }\n",
              "\n",
              "    .dataframe tbody tr th {\n",
              "        vertical-align: top;\n",
              "    }\n",
              "\n",
              "    .dataframe thead th {\n",
              "        text-align: right;\n",
              "    }\n",
              "</style>\n",
              "<table border=\"1\" class=\"dataframe\">\n",
              "  <thead>\n",
              "    <tr style=\"text-align: right;\">\n",
              "      <th></th>\n",
              "      <th>BeneID</th>\n",
              "      <th>ClaimID</th>\n",
              "      <th>ClaimStartDt</th>\n",
              "      <th>ClaimEndDt</th>\n",
              "      <th>Provider</th>\n",
              "      <th>InscClaimAmtReimbursed</th>\n",
              "      <th>AttendingPhysician</th>\n",
              "      <th>OperatingPhysician</th>\n",
              "      <th>OtherPhysician</th>\n",
              "      <th>AdmissionDt</th>\n",
              "      <th>ClmAdmitDiagnosisCode</th>\n",
              "      <th>DeductibleAmtPaid</th>\n",
              "      <th>DischargeDt</th>\n",
              "      <th>DiagnosisGroupCode</th>\n",
              "      <th>ClmDiagnosisCode_1</th>\n",
              "      <th>ClmDiagnosisCode_2</th>\n",
              "      <th>ClmDiagnosisCode_3</th>\n",
              "      <th>ClmDiagnosisCode_4</th>\n",
              "      <th>ClmDiagnosisCode_5</th>\n",
              "      <th>ClmDiagnosisCode_6</th>\n",
              "      <th>ClmDiagnosisCode_7</th>\n",
              "      <th>ClmDiagnosisCode_8</th>\n",
              "      <th>ClmDiagnosisCode_9</th>\n",
              "      <th>ClmDiagnosisCode_10</th>\n",
              "      <th>ClmProcedureCode_1</th>\n",
              "      <th>ClmProcedureCode_2</th>\n",
              "      <th>ClmProcedureCode_3</th>\n",
              "      <th>ClmProcedureCode_4</th>\n",
              "      <th>ClmProcedureCode_5</th>\n",
              "      <th>ClmProcedureCode_6</th>\n",
              "      <th>AdmittedDays</th>\n",
              "      <th>DOB</th>\n",
              "      <th>DOD</th>\n",
              "      <th>Gender</th>\n",
              "      <th>Race</th>\n",
              "      <th>RenalDiseaseIndicator</th>\n",
              "      <th>State</th>\n",
              "      <th>County</th>\n",
              "      <th>NoOfMonths_PartACov</th>\n",
              "      <th>NoOfMonths_PartBCov</th>\n",
              "      <th>ChronicCond_Alzheimer</th>\n",
              "      <th>ChronicCond_Heartfailure</th>\n",
              "      <th>ChronicCond_KidneyDisease</th>\n",
              "      <th>ChronicCond_Cancer</th>\n",
              "      <th>ChronicCond_ObstrPulmonary</th>\n",
              "      <th>ChronicCond_Depression</th>\n",
              "      <th>ChronicCond_Diabetes</th>\n",
              "      <th>ChronicCond_IschemicHeart</th>\n",
              "      <th>ChronicCond_Osteoporasis</th>\n",
              "      <th>ChronicCond_rheumatoidarthritis</th>\n",
              "      <th>ChronicCond_stroke</th>\n",
              "      <th>IPAnnualReimbursementAmt</th>\n",
              "      <th>IPAnnualDeductibleAmt</th>\n",
              "      <th>OPAnnualReimbursementAmt</th>\n",
              "      <th>OPAnnualDeductibleAmt</th>\n",
              "      <th>Age</th>\n",
              "      <th>DeadOrNot</th>\n",
              "      <th>PotentialFraud</th>\n",
              "    </tr>\n",
              "  </thead>\n",
              "  <tbody>\n",
              "    <tr>\n",
              "      <th>0</th>\n",
              "      <td>BENE11001</td>\n",
              "      <td>CLM46614</td>\n",
              "      <td>2009-04-12</td>\n",
              "      <td>2009-04-18</td>\n",
              "      <td>PRV55912</td>\n",
              "      <td>26000</td>\n",
              "      <td>PHY390922</td>\n",
              "      <td>NaN</td>\n",
              "      <td>NaN</td>\n",
              "      <td>2009-04-12</td>\n",
              "      <td>7866</td>\n",
              "      <td>1068.0</td>\n",
              "      <td>2009-04-18</td>\n",
              "      <td>201</td>\n",
              "      <td>1970</td>\n",
              "      <td>4019</td>\n",
              "      <td>5853</td>\n",
              "      <td>7843</td>\n",
              "      <td>2768</td>\n",
              "      <td>71590</td>\n",
              "      <td>2724</td>\n",
              "      <td>19889</td>\n",
              "      <td>5849</td>\n",
              "      <td>NaN</td>\n",
              "      <td>NaN</td>\n",
              "      <td>NaN</td>\n",
              "      <td>NaN</td>\n",
              "      <td>NaN</td>\n",
              "      <td>NaN</td>\n",
              "      <td>NaN</td>\n",
              "      <td>7.0</td>\n",
              "      <td>1943-01-01</td>\n",
              "      <td>NaT</td>\n",
              "      <td>1</td>\n",
              "      <td>1</td>\n",
              "      <td>0</td>\n",
              "      <td>39</td>\n",
              "      <td>230</td>\n",
              "      <td>12</td>\n",
              "      <td>12</td>\n",
              "      <td>1</td>\n",
              "      <td>0</td>\n",
              "      <td>1</td>\n",
              "      <td>0</td>\n",
              "      <td>0</td>\n",
              "      <td>1</td>\n",
              "      <td>1</td>\n",
              "      <td>1</td>\n",
              "      <td>0</td>\n",
              "      <td>1</td>\n",
              "      <td>1</td>\n",
              "      <td>36000</td>\n",
              "      <td>3204</td>\n",
              "      <td>60</td>\n",
              "      <td>70</td>\n",
              "      <td>77.0</td>\n",
              "      <td>0.0</td>\n",
              "      <td>Yes</td>\n",
              "    </tr>\n",
              "    <tr>\n",
              "      <th>1</th>\n",
              "      <td>BENE16973</td>\n",
              "      <td>CLM565430</td>\n",
              "      <td>2009-09-06</td>\n",
              "      <td>2009-09-06</td>\n",
              "      <td>PRV55912</td>\n",
              "      <td>50</td>\n",
              "      <td>PHY365867</td>\n",
              "      <td>PHY327147</td>\n",
              "      <td>NaN</td>\n",
              "      <td>NaT</td>\n",
              "      <td>NaN</td>\n",
              "      <td>0.0</td>\n",
              "      <td>NaT</td>\n",
              "      <td>NaN</td>\n",
              "      <td>V7183</td>\n",
              "      <td>53081</td>\n",
              "      <td>78959</td>\n",
              "      <td>4280</td>\n",
              "      <td>E8788</td>\n",
              "      <td>78079</td>\n",
              "      <td>79902</td>\n",
              "      <td>25002</td>\n",
              "      <td>71848</td>\n",
              "      <td>NaN</td>\n",
              "      <td>NaN</td>\n",
              "      <td>NaN</td>\n",
              "      <td>NaN</td>\n",
              "      <td>NaN</td>\n",
              "      <td>NaN</td>\n",
              "      <td>NaN</td>\n",
              "      <td>NaN</td>\n",
              "      <td>1932-05-01</td>\n",
              "      <td>NaT</td>\n",
              "      <td>1</td>\n",
              "      <td>1</td>\n",
              "      <td>0</td>\n",
              "      <td>39</td>\n",
              "      <td>310</td>\n",
              "      <td>12</td>\n",
              "      <td>12</td>\n",
              "      <td>1</td>\n",
              "      <td>1</td>\n",
              "      <td>1</td>\n",
              "      <td>0</td>\n",
              "      <td>0</td>\n",
              "      <td>0</td>\n",
              "      <td>0</td>\n",
              "      <td>1</td>\n",
              "      <td>0</td>\n",
              "      <td>0</td>\n",
              "      <td>0</td>\n",
              "      <td>24000</td>\n",
              "      <td>2136</td>\n",
              "      <td>450</td>\n",
              "      <td>200</td>\n",
              "      <td>88.0</td>\n",
              "      <td>0.0</td>\n",
              "      <td>Yes</td>\n",
              "    </tr>\n",
              "    <tr>\n",
              "      <th>2</th>\n",
              "      <td>BENE17521</td>\n",
              "      <td>CLM34721</td>\n",
              "      <td>2009-01-20</td>\n",
              "      <td>2009-02-01</td>\n",
              "      <td>PRV55912</td>\n",
              "      <td>19000</td>\n",
              "      <td>PHY349293</td>\n",
              "      <td>PHY370861</td>\n",
              "      <td>PHY363291</td>\n",
              "      <td>2009-01-20</td>\n",
              "      <td>45340</td>\n",
              "      <td>1068.0</td>\n",
              "      <td>2009-02-01</td>\n",
              "      <td>987</td>\n",
              "      <td>4240</td>\n",
              "      <td>2639</td>\n",
              "      <td>2948</td>\n",
              "      <td>40390</td>\n",
              "      <td>45821</td>\n",
              "      <td>28489</td>\n",
              "      <td>5854</td>\n",
              "      <td>2753</td>\n",
              "      <td>E9305</td>\n",
              "      <td>NaN</td>\n",
              "      <td>7769.0</td>\n",
              "      <td>5849.0</td>\n",
              "      <td>NaN</td>\n",
              "      <td>NaN</td>\n",
              "      <td>NaN</td>\n",
              "      <td>NaN</td>\n",
              "      <td>13.0</td>\n",
              "      <td>1913-12-01</td>\n",
              "      <td>NaT</td>\n",
              "      <td>2</td>\n",
              "      <td>1</td>\n",
              "      <td>0</td>\n",
              "      <td>39</td>\n",
              "      <td>230</td>\n",
              "      <td>12</td>\n",
              "      <td>12</td>\n",
              "      <td>1</td>\n",
              "      <td>1</td>\n",
              "      <td>1</td>\n",
              "      <td>0</td>\n",
              "      <td>1</td>\n",
              "      <td>0</td>\n",
              "      <td>0</td>\n",
              "      <td>1</td>\n",
              "      <td>0</td>\n",
              "      <td>0</td>\n",
              "      <td>0</td>\n",
              "      <td>19000</td>\n",
              "      <td>1068</td>\n",
              "      <td>100</td>\n",
              "      <td>20</td>\n",
              "      <td>106.0</td>\n",
              "      <td>0.0</td>\n",
              "      <td>Yes</td>\n",
              "    </tr>\n",
              "    <tr>\n",
              "      <th>3</th>\n",
              "      <td>BENE21718</td>\n",
              "      <td>CLM72336</td>\n",
              "      <td>2009-10-17</td>\n",
              "      <td>2009-11-04</td>\n",
              "      <td>PRV55912</td>\n",
              "      <td>17000</td>\n",
              "      <td>PHY334706</td>\n",
              "      <td>PHY334706</td>\n",
              "      <td>NaN</td>\n",
              "      <td>2009-10-17</td>\n",
              "      <td>V5789</td>\n",
              "      <td>1068.0</td>\n",
              "      <td>2009-11-04</td>\n",
              "      <td>941</td>\n",
              "      <td>V5789</td>\n",
              "      <td>4168</td>\n",
              "      <td>73313</td>\n",
              "      <td>7812</td>\n",
              "      <td>7993</td>\n",
              "      <td>78830</td>\n",
              "      <td>72273</td>\n",
              "      <td>43812</td>\n",
              "      <td>4019</td>\n",
              "      <td>NaN</td>\n",
              "      <td>9338.0</td>\n",
              "      <td>NaN</td>\n",
              "      <td>NaN</td>\n",
              "      <td>NaN</td>\n",
              "      <td>NaN</td>\n",
              "      <td>NaN</td>\n",
              "      <td>19.0</td>\n",
              "      <td>1922-10-01</td>\n",
              "      <td>NaT</td>\n",
              "      <td>1</td>\n",
              "      <td>1</td>\n",
              "      <td>0</td>\n",
              "      <td>39</td>\n",
              "      <td>600</td>\n",
              "      <td>12</td>\n",
              "      <td>12</td>\n",
              "      <td>0</td>\n",
              "      <td>0</td>\n",
              "      <td>0</td>\n",
              "      <td>0</td>\n",
              "      <td>0</td>\n",
              "      <td>0</td>\n",
              "      <td>0</td>\n",
              "      <td>1</td>\n",
              "      <td>1</td>\n",
              "      <td>0</td>\n",
              "      <td>0</td>\n",
              "      <td>17000</td>\n",
              "      <td>1068</td>\n",
              "      <td>1050</td>\n",
              "      <td>540</td>\n",
              "      <td>97.0</td>\n",
              "      <td>0.0</td>\n",
              "      <td>Yes</td>\n",
              "    </tr>\n",
              "    <tr>\n",
              "      <th>4</th>\n",
              "      <td>BENE22934</td>\n",
              "      <td>CLM73394</td>\n",
              "      <td>2009-10-25</td>\n",
              "      <td>2009-10-29</td>\n",
              "      <td>PRV55912</td>\n",
              "      <td>13000</td>\n",
              "      <td>PHY390614</td>\n",
              "      <td>PHY323689</td>\n",
              "      <td>PHY363291</td>\n",
              "      <td>2009-10-25</td>\n",
              "      <td>71946</td>\n",
              "      <td>1068.0</td>\n",
              "      <td>2009-10-29</td>\n",
              "      <td>506</td>\n",
              "      <td>71535</td>\n",
              "      <td>71960</td>\n",
              "      <td>4019</td>\n",
              "      <td>V1202</td>\n",
              "      <td>4240</td>\n",
              "      <td>2449</td>\n",
              "      <td>2768</td>\n",
              "      <td>NaN</td>\n",
              "      <td>NaN</td>\n",
              "      <td>NaN</td>\n",
              "      <td>8154.0</td>\n",
              "      <td>NaN</td>\n",
              "      <td>NaN</td>\n",
              "      <td>NaN</td>\n",
              "      <td>NaN</td>\n",
              "      <td>NaN</td>\n",
              "      <td>5.0</td>\n",
              "      <td>1930-07-01</td>\n",
              "      <td>NaT</td>\n",
              "      <td>2</td>\n",
              "      <td>1</td>\n",
              "      <td>0</td>\n",
              "      <td>39</td>\n",
              "      <td>280</td>\n",
              "      <td>12</td>\n",
              "      <td>12</td>\n",
              "      <td>0</td>\n",
              "      <td>1</td>\n",
              "      <td>0</td>\n",
              "      <td>0</td>\n",
              "      <td>1</td>\n",
              "      <td>0</td>\n",
              "      <td>1</td>\n",
              "      <td>1</td>\n",
              "      <td>1</td>\n",
              "      <td>1</td>\n",
              "      <td>0</td>\n",
              "      <td>27000</td>\n",
              "      <td>2136</td>\n",
              "      <td>450</td>\n",
              "      <td>160</td>\n",
              "      <td>89.0</td>\n",
              "      <td>0.0</td>\n",
              "      <td>Yes</td>\n",
              "    </tr>\n",
              "  </tbody>\n",
              "</table>\n",
              "</div>\n",
              "      <button class=\"colab-df-convert\" onclick=\"convertToInteractive('df-b220d0f9-28ff-4b6c-a193-b322298fd56d')\"\n",
              "              title=\"Convert this dataframe to an interactive table.\"\n",
              "              style=\"display:none;\">\n",
              "        \n",
              "  <svg xmlns=\"http://www.w3.org/2000/svg\" height=\"24px\"viewBox=\"0 0 24 24\"\n",
              "       width=\"24px\">\n",
              "    <path d=\"M0 0h24v24H0V0z\" fill=\"none\"/>\n",
              "    <path d=\"M18.56 5.44l.94 2.06.94-2.06 2.06-.94-2.06-.94-.94-2.06-.94 2.06-2.06.94zm-11 1L8.5 8.5l.94-2.06 2.06-.94-2.06-.94L8.5 2.5l-.94 2.06-2.06.94zm10 10l.94 2.06.94-2.06 2.06-.94-2.06-.94-.94-2.06-.94 2.06-2.06.94z\"/><path d=\"M17.41 7.96l-1.37-1.37c-.4-.4-.92-.59-1.43-.59-.52 0-1.04.2-1.43.59L10.3 9.45l-7.72 7.72c-.78.78-.78 2.05 0 2.83L4 21.41c.39.39.9.59 1.41.59.51 0 1.02-.2 1.41-.59l7.78-7.78 2.81-2.81c.8-.78.8-2.07 0-2.86zM5.41 20L4 18.59l7.72-7.72 1.47 1.35L5.41 20z\"/>\n",
              "  </svg>\n",
              "      </button>\n",
              "      \n",
              "  <style>\n",
              "    .colab-df-container {\n",
              "      display:flex;\n",
              "      flex-wrap:wrap;\n",
              "      gap: 12px;\n",
              "    }\n",
              "\n",
              "    .colab-df-convert {\n",
              "      background-color: #E8F0FE;\n",
              "      border: none;\n",
              "      border-radius: 50%;\n",
              "      cursor: pointer;\n",
              "      display: none;\n",
              "      fill: #1967D2;\n",
              "      height: 32px;\n",
              "      padding: 0 0 0 0;\n",
              "      width: 32px;\n",
              "    }\n",
              "\n",
              "    .colab-df-convert:hover {\n",
              "      background-color: #E2EBFA;\n",
              "      box-shadow: 0px 1px 2px rgba(60, 64, 67, 0.3), 0px 1px 3px 1px rgba(60, 64, 67, 0.15);\n",
              "      fill: #174EA6;\n",
              "    }\n",
              "\n",
              "    [theme=dark] .colab-df-convert {\n",
              "      background-color: #3B4455;\n",
              "      fill: #D2E3FC;\n",
              "    }\n",
              "\n",
              "    [theme=dark] .colab-df-convert:hover {\n",
              "      background-color: #434B5C;\n",
              "      box-shadow: 0px 1px 3px 1px rgba(0, 0, 0, 0.15);\n",
              "      filter: drop-shadow(0px 1px 2px rgba(0, 0, 0, 0.3));\n",
              "      fill: #FFFFFF;\n",
              "    }\n",
              "  </style>\n",
              "\n",
              "      <script>\n",
              "        const buttonEl =\n",
              "          document.querySelector('#df-b220d0f9-28ff-4b6c-a193-b322298fd56d button.colab-df-convert');\n",
              "        buttonEl.style.display =\n",
              "          google.colab.kernel.accessAllowed ? 'block' : 'none';\n",
              "\n",
              "        async function convertToInteractive(key) {\n",
              "          const element = document.querySelector('#df-b220d0f9-28ff-4b6c-a193-b322298fd56d');\n",
              "          const dataTable =\n",
              "            await google.colab.kernel.invokeFunction('convertToInteractive',\n",
              "                                                     [key], {});\n",
              "          if (!dataTable) return;\n",
              "\n",
              "          const docLinkHtml = 'Like what you see? Visit the ' +\n",
              "            '<a target=\"_blank\" href=https://colab.research.google.com/notebooks/data_table.ipynb>data table notebook</a>'\n",
              "            + ' to learn more about interactive tables.';\n",
              "          element.innerHTML = '';\n",
              "          dataTable['output_type'] = 'display_data';\n",
              "          await google.colab.output.renderOutput(dataTable, element);\n",
              "          const docLink = document.createElement('div');\n",
              "          docLink.innerHTML = docLinkHtml;\n",
              "          element.appendChild(docLink);\n",
              "        }\n",
              "      </script>\n",
              "    </div>\n",
              "  </div>\n",
              "  "
            ]
          },
          "metadata": {},
          "execution_count": 368
        }
      ]
    },
    {
      "cell_type": "code",
      "source": [
        "columns_to_remove = ['BeneID', 'ClaimID', 'ClaimStartDt','ClaimEndDt','AttendingPhysician',\n",
        "                     'OperatingPhysician', 'OtherPhysician', 'ClmDiagnosisCode_1',\n",
        "                     'ClmDiagnosisCode_2', 'ClmDiagnosisCode_3', 'ClmDiagnosisCode_4',\n",
        "                     'ClmDiagnosisCode_5', 'ClmDiagnosisCode_6', 'ClmDiagnosisCode_7',\n",
        "                     'ClmDiagnosisCode_8', 'ClmDiagnosisCode_9', 'ClmDiagnosisCode_10',\n",
        "                     'ClmProcedureCode_1', 'ClmProcedureCode_2', 'ClmProcedureCode_3',\n",
        "                     'ClmProcedureCode_4', 'ClmProcedureCode_5', 'ClmProcedureCode_6',\n",
        "                     'ClmAdmitDiagnosisCode', 'AdmissionDt',\n",
        "                     'DischargeDt', 'DiagnosisGroupCode','DOB', 'DOD',\n",
        "                     'State', 'County']\n",
        "\n",
        "train_final = trainAllPatientDetailsProvider.drop(columns=columns_to_remove, axis=1)\n",
        "train_final.shape"
      ],
      "metadata": {
        "colab": {
          "base_uri": "https://localhost:8080/"
        },
        "id": "qiNs0R8IAV8W",
        "outputId": "ba32e37a-306e-4c2a-9aaa-f8113810e7e2"
      },
      "execution_count": 369,
      "outputs": [
        {
          "output_type": "execute_result",
          "data": {
            "text/plain": [
              "(558211, 27)"
            ]
          },
          "metadata": {},
          "execution_count": 369
        }
      ]
    },
    {
      "cell_type": "code",
      "source": [
        "train_final.isnull().sum()"
      ],
      "metadata": {
        "colab": {
          "base_uri": "https://localhost:8080/"
        },
        "id": "f2ZXWx0PBS4T",
        "outputId": "0821df15-9fec-4a3c-be35-407497d06f48"
      },
      "execution_count": 370,
      "outputs": [
        {
          "output_type": "execute_result",
          "data": {
            "text/plain": [
              "Provider                                0\n",
              "InscClaimAmtReimbursed                  0\n",
              "DeductibleAmtPaid                     899\n",
              "AdmittedDays                       517737\n",
              "Gender                                  0\n",
              "Race                                    0\n",
              "RenalDiseaseIndicator                   0\n",
              "NoOfMonths_PartACov                     0\n",
              "NoOfMonths_PartBCov                     0\n",
              "ChronicCond_Alzheimer                   0\n",
              "ChronicCond_Heartfailure                0\n",
              "ChronicCond_KidneyDisease               0\n",
              "ChronicCond_Cancer                      0\n",
              "ChronicCond_ObstrPulmonary              0\n",
              "ChronicCond_Depression                  0\n",
              "ChronicCond_Diabetes                    0\n",
              "ChronicCond_IschemicHeart               0\n",
              "ChronicCond_Osteoporasis                0\n",
              "ChronicCond_rheumatoidarthritis         0\n",
              "ChronicCond_stroke                      0\n",
              "IPAnnualReimbursementAmt                0\n",
              "IPAnnualDeductibleAmt                   0\n",
              "OPAnnualReimbursementAmt                0\n",
              "OPAnnualDeductibleAmt                   0\n",
              "Age                                     0\n",
              "DeadOrNot                               0\n",
              "PotentialFraud                          0\n",
              "dtype: int64"
            ]
          },
          "metadata": {},
          "execution_count": 370
        }
      ]
    },
    {
      "cell_type": "code",
      "source": [
        "test_final = testAllPatientDetailsProvider.drop(columns=columns_to_remove, axis=1)\n",
        "test_final.shape"
      ],
      "metadata": {
        "colab": {
          "base_uri": "https://localhost:8080/"
        },
        "id": "kIf4xMVGBXxd",
        "outputId": "9331aadd-d92f-4fe6-d9da-e1b56da7763b"
      },
      "execution_count": 371,
      "outputs": [
        {
          "output_type": "execute_result",
          "data": {
            "text/plain": [
              "(135392, 26)"
            ]
          },
          "metadata": {},
          "execution_count": 371
        }
      ]
    },
    {
      "cell_type": "code",
      "source": [
        "test_final.isnull().sum()"
      ],
      "metadata": {
        "colab": {
          "base_uri": "https://localhost:8080/"
        },
        "id": "oinj62dNBkUX",
        "outputId": "afd2cd25-1c75-4600-8367-641f30cf9a21"
      },
      "execution_count": 372,
      "outputs": [
        {
          "output_type": "execute_result",
          "data": {
            "text/plain": [
              "Provider                                0\n",
              "InscClaimAmtReimbursed                  0\n",
              "DeductibleAmtPaid                     196\n",
              "AdmittedDays                       125841\n",
              "Gender                                  0\n",
              "Race                                    0\n",
              "RenalDiseaseIndicator                   0\n",
              "NoOfMonths_PartACov                     0\n",
              "NoOfMonths_PartBCov                     0\n",
              "ChronicCond_Alzheimer                   0\n",
              "ChronicCond_Heartfailure                0\n",
              "ChronicCond_KidneyDisease               0\n",
              "ChronicCond_Cancer                      0\n",
              "ChronicCond_ObstrPulmonary              0\n",
              "ChronicCond_Depression                  0\n",
              "ChronicCond_Diabetes                    0\n",
              "ChronicCond_IschemicHeart               0\n",
              "ChronicCond_Osteoporasis                0\n",
              "ChronicCond_rheumatoidarthritis         0\n",
              "ChronicCond_stroke                      0\n",
              "IPAnnualReimbursementAmt                0\n",
              "IPAnnualDeductibleAmt                   0\n",
              "OPAnnualReimbursementAmt                0\n",
              "OPAnnualDeductibleAmt                   0\n",
              "Age                                     0\n",
              "DeadOrNot                               0\n",
              "dtype: int64"
            ]
          },
          "metadata": {},
          "execution_count": 372
        }
      ]
    },
    {
      "cell_type": "code",
      "source": [
        "train_final.Gender = train_final.Gender.astype('category')\n",
        "train_final.Race = train_final.Race.astype('category')"
      ],
      "metadata": {
        "id": "rc77o8gOBoN_"
      },
      "execution_count": 373,
      "outputs": []
    },
    {
      "cell_type": "code",
      "source": [
        "test_final.Gender = test_final.Gender.astype('category')\n",
        "test_final.Race = test_final.Race.astype('category')"
      ],
      "metadata": {
        "id": "eXWDnISGBsCo"
      },
      "execution_count": 374,
      "outputs": []
    },
    {
      "cell_type": "markdown",
      "source": [
        "## One-hot encoding"
      ],
      "metadata": {
        "id": "Uo3AXMo7B08B"
      }
    },
    {
      "cell_type": "code",
      "source": [
        "train_final = pd.get_dummies(train_final, columns=['Gender', 'Race'], drop_first=True)\n",
        "train_final.head()"
      ],
      "metadata": {
        "colab": {
          "base_uri": "https://localhost:8080/",
          "height": 266
        },
        "id": "4uTw412rBwAC",
        "outputId": "12785fab-bbf7-4564-c11a-18dcf9645ed6"
      },
      "execution_count": 375,
      "outputs": [
        {
          "output_type": "execute_result",
          "data": {
            "text/plain": [
              "   Provider  InscClaimAmtReimbursed  DeductibleAmtPaid  AdmittedDays  \\\n",
              "0  PRV55912                   26000             1068.0           7.0   \n",
              "1  PRV55912                      50                0.0           NaN   \n",
              "2  PRV55912                   19000             1068.0          13.0   \n",
              "3  PRV55912                   17000             1068.0          19.0   \n",
              "4  PRV55912                   13000             1068.0           5.0   \n",
              "\n",
              "  RenalDiseaseIndicator  NoOfMonths_PartACov  NoOfMonths_PartBCov  \\\n",
              "0                     0                   12                   12   \n",
              "1                     0                   12                   12   \n",
              "2                     0                   12                   12   \n",
              "3                     0                   12                   12   \n",
              "4                     0                   12                   12   \n",
              "\n",
              "   ChronicCond_Alzheimer  ChronicCond_Heartfailure  ChronicCond_KidneyDisease  \\\n",
              "0                      1                         0                          1   \n",
              "1                      1                         1                          1   \n",
              "2                      1                         1                          1   \n",
              "3                      0                         0                          0   \n",
              "4                      0                         1                          0   \n",
              "\n",
              "   ChronicCond_Cancer  ChronicCond_ObstrPulmonary  ChronicCond_Depression  \\\n",
              "0                   0                           0                       1   \n",
              "1                   0                           0                       0   \n",
              "2                   0                           1                       0   \n",
              "3                   0                           0                       0   \n",
              "4                   0                           1                       0   \n",
              "\n",
              "   ChronicCond_Diabetes  ChronicCond_IschemicHeart  ChronicCond_Osteoporasis  \\\n",
              "0                     1                          1                         0   \n",
              "1                     0                          1                         0   \n",
              "2                     0                          1                         0   \n",
              "3                     0                          1                         1   \n",
              "4                     1                          1                         1   \n",
              "\n",
              "   ChronicCond_rheumatoidarthritis  ChronicCond_stroke  \\\n",
              "0                                1                   1   \n",
              "1                                0                   0   \n",
              "2                                0                   0   \n",
              "3                                0                   0   \n",
              "4                                1                   0   \n",
              "\n",
              "   IPAnnualReimbursementAmt  IPAnnualDeductibleAmt  OPAnnualReimbursementAmt  \\\n",
              "0                     36000                   3204                        60   \n",
              "1                     24000                   2136                       450   \n",
              "2                     19000                   1068                       100   \n",
              "3                     17000                   1068                      1050   \n",
              "4                     27000                   2136                       450   \n",
              "\n",
              "   OPAnnualDeductibleAmt    Age  DeadOrNot PotentialFraud  Gender_2  Race_2  \\\n",
              "0                     70   77.0        0.0            Yes         0       0   \n",
              "1                    200   88.0        0.0            Yes         0       0   \n",
              "2                     20  106.0        0.0            Yes         1       0   \n",
              "3                    540   97.0        0.0            Yes         0       0   \n",
              "4                    160   89.0        0.0            Yes         1       0   \n",
              "\n",
              "   Race_3  Race_5  \n",
              "0       0       0  \n",
              "1       0       0  \n",
              "2       0       0  \n",
              "3       0       0  \n",
              "4       0       0  "
            ],
            "text/html": [
              "\n",
              "  <div id=\"df-0a776597-e4b2-4dec-86f1-828b4aebb95a\">\n",
              "    <div class=\"colab-df-container\">\n",
              "      <div>\n",
              "<style scoped>\n",
              "    .dataframe tbody tr th:only-of-type {\n",
              "        vertical-align: middle;\n",
              "    }\n",
              "\n",
              "    .dataframe tbody tr th {\n",
              "        vertical-align: top;\n",
              "    }\n",
              "\n",
              "    .dataframe thead th {\n",
              "        text-align: right;\n",
              "    }\n",
              "</style>\n",
              "<table border=\"1\" class=\"dataframe\">\n",
              "  <thead>\n",
              "    <tr style=\"text-align: right;\">\n",
              "      <th></th>\n",
              "      <th>Provider</th>\n",
              "      <th>InscClaimAmtReimbursed</th>\n",
              "      <th>DeductibleAmtPaid</th>\n",
              "      <th>AdmittedDays</th>\n",
              "      <th>RenalDiseaseIndicator</th>\n",
              "      <th>NoOfMonths_PartACov</th>\n",
              "      <th>NoOfMonths_PartBCov</th>\n",
              "      <th>ChronicCond_Alzheimer</th>\n",
              "      <th>ChronicCond_Heartfailure</th>\n",
              "      <th>ChronicCond_KidneyDisease</th>\n",
              "      <th>ChronicCond_Cancer</th>\n",
              "      <th>ChronicCond_ObstrPulmonary</th>\n",
              "      <th>ChronicCond_Depression</th>\n",
              "      <th>ChronicCond_Diabetes</th>\n",
              "      <th>ChronicCond_IschemicHeart</th>\n",
              "      <th>ChronicCond_Osteoporasis</th>\n",
              "      <th>ChronicCond_rheumatoidarthritis</th>\n",
              "      <th>ChronicCond_stroke</th>\n",
              "      <th>IPAnnualReimbursementAmt</th>\n",
              "      <th>IPAnnualDeductibleAmt</th>\n",
              "      <th>OPAnnualReimbursementAmt</th>\n",
              "      <th>OPAnnualDeductibleAmt</th>\n",
              "      <th>Age</th>\n",
              "      <th>DeadOrNot</th>\n",
              "      <th>PotentialFraud</th>\n",
              "      <th>Gender_2</th>\n",
              "      <th>Race_2</th>\n",
              "      <th>Race_3</th>\n",
              "      <th>Race_5</th>\n",
              "    </tr>\n",
              "  </thead>\n",
              "  <tbody>\n",
              "    <tr>\n",
              "      <th>0</th>\n",
              "      <td>PRV55912</td>\n",
              "      <td>26000</td>\n",
              "      <td>1068.0</td>\n",
              "      <td>7.0</td>\n",
              "      <td>0</td>\n",
              "      <td>12</td>\n",
              "      <td>12</td>\n",
              "      <td>1</td>\n",
              "      <td>0</td>\n",
              "      <td>1</td>\n",
              "      <td>0</td>\n",
              "      <td>0</td>\n",
              "      <td>1</td>\n",
              "      <td>1</td>\n",
              "      <td>1</td>\n",
              "      <td>0</td>\n",
              "      <td>1</td>\n",
              "      <td>1</td>\n",
              "      <td>36000</td>\n",
              "      <td>3204</td>\n",
              "      <td>60</td>\n",
              "      <td>70</td>\n",
              "      <td>77.0</td>\n",
              "      <td>0.0</td>\n",
              "      <td>Yes</td>\n",
              "      <td>0</td>\n",
              "      <td>0</td>\n",
              "      <td>0</td>\n",
              "      <td>0</td>\n",
              "    </tr>\n",
              "    <tr>\n",
              "      <th>1</th>\n",
              "      <td>PRV55912</td>\n",
              "      <td>50</td>\n",
              "      <td>0.0</td>\n",
              "      <td>NaN</td>\n",
              "      <td>0</td>\n",
              "      <td>12</td>\n",
              "      <td>12</td>\n",
              "      <td>1</td>\n",
              "      <td>1</td>\n",
              "      <td>1</td>\n",
              "      <td>0</td>\n",
              "      <td>0</td>\n",
              "      <td>0</td>\n",
              "      <td>0</td>\n",
              "      <td>1</td>\n",
              "      <td>0</td>\n",
              "      <td>0</td>\n",
              "      <td>0</td>\n",
              "      <td>24000</td>\n",
              "      <td>2136</td>\n",
              "      <td>450</td>\n",
              "      <td>200</td>\n",
              "      <td>88.0</td>\n",
              "      <td>0.0</td>\n",
              "      <td>Yes</td>\n",
              "      <td>0</td>\n",
              "      <td>0</td>\n",
              "      <td>0</td>\n",
              "      <td>0</td>\n",
              "    </tr>\n",
              "    <tr>\n",
              "      <th>2</th>\n",
              "      <td>PRV55912</td>\n",
              "      <td>19000</td>\n",
              "      <td>1068.0</td>\n",
              "      <td>13.0</td>\n",
              "      <td>0</td>\n",
              "      <td>12</td>\n",
              "      <td>12</td>\n",
              "      <td>1</td>\n",
              "      <td>1</td>\n",
              "      <td>1</td>\n",
              "      <td>0</td>\n",
              "      <td>1</td>\n",
              "      <td>0</td>\n",
              "      <td>0</td>\n",
              "      <td>1</td>\n",
              "      <td>0</td>\n",
              "      <td>0</td>\n",
              "      <td>0</td>\n",
              "      <td>19000</td>\n",
              "      <td>1068</td>\n",
              "      <td>100</td>\n",
              "      <td>20</td>\n",
              "      <td>106.0</td>\n",
              "      <td>0.0</td>\n",
              "      <td>Yes</td>\n",
              "      <td>1</td>\n",
              "      <td>0</td>\n",
              "      <td>0</td>\n",
              "      <td>0</td>\n",
              "    </tr>\n",
              "    <tr>\n",
              "      <th>3</th>\n",
              "      <td>PRV55912</td>\n",
              "      <td>17000</td>\n",
              "      <td>1068.0</td>\n",
              "      <td>19.0</td>\n",
              "      <td>0</td>\n",
              "      <td>12</td>\n",
              "      <td>12</td>\n",
              "      <td>0</td>\n",
              "      <td>0</td>\n",
              "      <td>0</td>\n",
              "      <td>0</td>\n",
              "      <td>0</td>\n",
              "      <td>0</td>\n",
              "      <td>0</td>\n",
              "      <td>1</td>\n",
              "      <td>1</td>\n",
              "      <td>0</td>\n",
              "      <td>0</td>\n",
              "      <td>17000</td>\n",
              "      <td>1068</td>\n",
              "      <td>1050</td>\n",
              "      <td>540</td>\n",
              "      <td>97.0</td>\n",
              "      <td>0.0</td>\n",
              "      <td>Yes</td>\n",
              "      <td>0</td>\n",
              "      <td>0</td>\n",
              "      <td>0</td>\n",
              "      <td>0</td>\n",
              "    </tr>\n",
              "    <tr>\n",
              "      <th>4</th>\n",
              "      <td>PRV55912</td>\n",
              "      <td>13000</td>\n",
              "      <td>1068.0</td>\n",
              "      <td>5.0</td>\n",
              "      <td>0</td>\n",
              "      <td>12</td>\n",
              "      <td>12</td>\n",
              "      <td>0</td>\n",
              "      <td>1</td>\n",
              "      <td>0</td>\n",
              "      <td>0</td>\n",
              "      <td>1</td>\n",
              "      <td>0</td>\n",
              "      <td>1</td>\n",
              "      <td>1</td>\n",
              "      <td>1</td>\n",
              "      <td>1</td>\n",
              "      <td>0</td>\n",
              "      <td>27000</td>\n",
              "      <td>2136</td>\n",
              "      <td>450</td>\n",
              "      <td>160</td>\n",
              "      <td>89.0</td>\n",
              "      <td>0.0</td>\n",
              "      <td>Yes</td>\n",
              "      <td>1</td>\n",
              "      <td>0</td>\n",
              "      <td>0</td>\n",
              "      <td>0</td>\n",
              "    </tr>\n",
              "  </tbody>\n",
              "</table>\n",
              "</div>\n",
              "      <button class=\"colab-df-convert\" onclick=\"convertToInteractive('df-0a776597-e4b2-4dec-86f1-828b4aebb95a')\"\n",
              "              title=\"Convert this dataframe to an interactive table.\"\n",
              "              style=\"display:none;\">\n",
              "        \n",
              "  <svg xmlns=\"http://www.w3.org/2000/svg\" height=\"24px\"viewBox=\"0 0 24 24\"\n",
              "       width=\"24px\">\n",
              "    <path d=\"M0 0h24v24H0V0z\" fill=\"none\"/>\n",
              "    <path d=\"M18.56 5.44l.94 2.06.94-2.06 2.06-.94-2.06-.94-.94-2.06-.94 2.06-2.06.94zm-11 1L8.5 8.5l.94-2.06 2.06-.94-2.06-.94L8.5 2.5l-.94 2.06-2.06.94zm10 10l.94 2.06.94-2.06 2.06-.94-2.06-.94-.94-2.06-.94 2.06-2.06.94z\"/><path d=\"M17.41 7.96l-1.37-1.37c-.4-.4-.92-.59-1.43-.59-.52 0-1.04.2-1.43.59L10.3 9.45l-7.72 7.72c-.78.78-.78 2.05 0 2.83L4 21.41c.39.39.9.59 1.41.59.51 0 1.02-.2 1.41-.59l7.78-7.78 2.81-2.81c.8-.78.8-2.07 0-2.86zM5.41 20L4 18.59l7.72-7.72 1.47 1.35L5.41 20z\"/>\n",
              "  </svg>\n",
              "      </button>\n",
              "      \n",
              "  <style>\n",
              "    .colab-df-container {\n",
              "      display:flex;\n",
              "      flex-wrap:wrap;\n",
              "      gap: 12px;\n",
              "    }\n",
              "\n",
              "    .colab-df-convert {\n",
              "      background-color: #E8F0FE;\n",
              "      border: none;\n",
              "      border-radius: 50%;\n",
              "      cursor: pointer;\n",
              "      display: none;\n",
              "      fill: #1967D2;\n",
              "      height: 32px;\n",
              "      padding: 0 0 0 0;\n",
              "      width: 32px;\n",
              "    }\n",
              "\n",
              "    .colab-df-convert:hover {\n",
              "      background-color: #E2EBFA;\n",
              "      box-shadow: 0px 1px 2px rgba(60, 64, 67, 0.3), 0px 1px 3px 1px rgba(60, 64, 67, 0.15);\n",
              "      fill: #174EA6;\n",
              "    }\n",
              "\n",
              "    [theme=dark] .colab-df-convert {\n",
              "      background-color: #3B4455;\n",
              "      fill: #D2E3FC;\n",
              "    }\n",
              "\n",
              "    [theme=dark] .colab-df-convert:hover {\n",
              "      background-color: #434B5C;\n",
              "      box-shadow: 0px 1px 3px 1px rgba(0, 0, 0, 0.15);\n",
              "      filter: drop-shadow(0px 1px 2px rgba(0, 0, 0, 0.3));\n",
              "      fill: #FFFFFF;\n",
              "    }\n",
              "  </style>\n",
              "\n",
              "      <script>\n",
              "        const buttonEl =\n",
              "          document.querySelector('#df-0a776597-e4b2-4dec-86f1-828b4aebb95a button.colab-df-convert');\n",
              "        buttonEl.style.display =\n",
              "          google.colab.kernel.accessAllowed ? 'block' : 'none';\n",
              "\n",
              "        async function convertToInteractive(key) {\n",
              "          const element = document.querySelector('#df-0a776597-e4b2-4dec-86f1-828b4aebb95a');\n",
              "          const dataTable =\n",
              "            await google.colab.kernel.invokeFunction('convertToInteractive',\n",
              "                                                     [key], {});\n",
              "          if (!dataTable) return;\n",
              "\n",
              "          const docLinkHtml = 'Like what you see? Visit the ' +\n",
              "            '<a target=\"_blank\" href=https://colab.research.google.com/notebooks/data_table.ipynb>data table notebook</a>'\n",
              "            + ' to learn more about interactive tables.';\n",
              "          element.innerHTML = '';\n",
              "          dataTable['output_type'] = 'display_data';\n",
              "          await google.colab.output.renderOutput(dataTable, element);\n",
              "          const docLink = document.createElement('div');\n",
              "          docLink.innerHTML = docLinkHtml;\n",
              "          element.appendChild(docLink);\n",
              "        }\n",
              "      </script>\n",
              "    </div>\n",
              "  </div>\n",
              "  "
            ]
          },
          "metadata": {},
          "execution_count": 375
        }
      ]
    },
    {
      "cell_type": "code",
      "source": [
        "train_final.loc[train_final['PotentialFraud'] == 'Yes', 'PotentialFraud'] = 1\n",
        "train_final.loc[train_final['PotentialFraud'] == 'No', 'PotentialFraud'] = 0"
      ],
      "metadata": {
        "id": "znsIjeqiCEVK"
      },
      "execution_count": 376,
      "outputs": []
    },
    {
      "cell_type": "code",
      "source": [
        "train_final['PotentialFraud'].value_counts()"
      ],
      "metadata": {
        "colab": {
          "base_uri": "https://localhost:8080/"
        },
        "id": "nkLWERF9Cb0G",
        "outputId": "fe3e7c36-4d9f-44b1-8459-fff15bf94fad"
      },
      "execution_count": 377,
      "outputs": [
        {
          "output_type": "execute_result",
          "data": {
            "text/plain": [
              "0    345415\n",
              "1    212796\n",
              "Name: PotentialFraud, dtype: int64"
            ]
          },
          "metadata": {},
          "execution_count": 377
        }
      ]
    },
    {
      "cell_type": "code",
      "source": [
        "test_final = pd.get_dummies(test_final, columns=['Gender', 'Race'], drop_first=True)\n",
        "test_final.head()"
      ],
      "metadata": {
        "colab": {
          "base_uri": "https://localhost:8080/",
          "height": 266
        },
        "id": "nff9J5Y-CfCp",
        "outputId": "272a8067-4807-4154-cf0e-a18380a15a8c"
      },
      "execution_count": 378,
      "outputs": [
        {
          "output_type": "execute_result",
          "data": {
            "text/plain": [
              "   Provider  InscClaimAmtReimbursed  DeductibleAmtPaid  AdmittedDays  \\\n",
              "0  PRV57070                    9000             1068.0           8.0   \n",
              "1  PRV57070                    3000             1068.0           3.0   \n",
              "2  PRV57070                    7000             1068.0           7.0   \n",
              "3  PRV57070                    5000             1068.0           9.0   \n",
              "4  PRV57070                    9000             1068.0          11.0   \n",
              "\n",
              "  RenalDiseaseIndicator  NoOfMonths_PartACov  NoOfMonths_PartBCov  \\\n",
              "0                     Y                   12                   12   \n",
              "1                     0                   12                   12   \n",
              "2                     Y                   12                   12   \n",
              "3                     0                   12                   12   \n",
              "4                     Y                   12                   12   \n",
              "\n",
              "   ChronicCond_Alzheimer  ChronicCond_Heartfailure  ChronicCond_KidneyDisease  \\\n",
              "0                      0                         1                          1   \n",
              "1                      1                         1                          1   \n",
              "2                      0                         1                          1   \n",
              "3                      0                         0                          1   \n",
              "4                      1                         1                          1   \n",
              "\n",
              "   ChronicCond_Cancer  ChronicCond_ObstrPulmonary  ChronicCond_Depression  \\\n",
              "0                   0                           1                       1   \n",
              "1                   0                           1                       1   \n",
              "2                   0                           1                       0   \n",
              "3                   0                           1                       0   \n",
              "4                   1                           1                       0   \n",
              "\n",
              "   ChronicCond_Diabetes  ChronicCond_IschemicHeart  ChronicCond_Osteoporasis  \\\n",
              "0                     0                          1                         0   \n",
              "1                     1                          1                         0   \n",
              "2                     0                          1                         1   \n",
              "3                     0                          1                         1   \n",
              "4                     1                          1                         0   \n",
              "\n",
              "   ChronicCond_rheumatoidarthritis  ChronicCond_stroke  \\\n",
              "0                                0                   0   \n",
              "1                                1                   0   \n",
              "2                                0                   0   \n",
              "3                                0                   0   \n",
              "4                                1                   0   \n",
              "\n",
              "   IPAnnualReimbursementAmt  IPAnnualDeductibleAmt  OPAnnualReimbursementAmt  \\\n",
              "0                     21260                   2136                       120   \n",
              "1                      8000                   2136                      2540   \n",
              "2                     10200                   2136                        40   \n",
              "3                      5000                   1068                       600   \n",
              "4                      9000                   1068                        10   \n",
              "\n",
              "   OPAnnualDeductibleAmt   Age  DeadOrNot  Gender_2  Race_2  Race_3  Race_5  \n",
              "0                    100  82.0        0.0         1       0       0       0  \n",
              "1                   1880  83.0        0.0         1       0       0       0  \n",
              "2                    100  82.0        0.0         1       0       0       0  \n",
              "3                    180  95.0        0.0         1       0       0       0  \n",
              "4                     40  76.0        0.0         1       0       0       0  "
            ],
            "text/html": [
              "\n",
              "  <div id=\"df-526955f2-c2ca-4273-acff-68a818cb10fc\">\n",
              "    <div class=\"colab-df-container\">\n",
              "      <div>\n",
              "<style scoped>\n",
              "    .dataframe tbody tr th:only-of-type {\n",
              "        vertical-align: middle;\n",
              "    }\n",
              "\n",
              "    .dataframe tbody tr th {\n",
              "        vertical-align: top;\n",
              "    }\n",
              "\n",
              "    .dataframe thead th {\n",
              "        text-align: right;\n",
              "    }\n",
              "</style>\n",
              "<table border=\"1\" class=\"dataframe\">\n",
              "  <thead>\n",
              "    <tr style=\"text-align: right;\">\n",
              "      <th></th>\n",
              "      <th>Provider</th>\n",
              "      <th>InscClaimAmtReimbursed</th>\n",
              "      <th>DeductibleAmtPaid</th>\n",
              "      <th>AdmittedDays</th>\n",
              "      <th>RenalDiseaseIndicator</th>\n",
              "      <th>NoOfMonths_PartACov</th>\n",
              "      <th>NoOfMonths_PartBCov</th>\n",
              "      <th>ChronicCond_Alzheimer</th>\n",
              "      <th>ChronicCond_Heartfailure</th>\n",
              "      <th>ChronicCond_KidneyDisease</th>\n",
              "      <th>ChronicCond_Cancer</th>\n",
              "      <th>ChronicCond_ObstrPulmonary</th>\n",
              "      <th>ChronicCond_Depression</th>\n",
              "      <th>ChronicCond_Diabetes</th>\n",
              "      <th>ChronicCond_IschemicHeart</th>\n",
              "      <th>ChronicCond_Osteoporasis</th>\n",
              "      <th>ChronicCond_rheumatoidarthritis</th>\n",
              "      <th>ChronicCond_stroke</th>\n",
              "      <th>IPAnnualReimbursementAmt</th>\n",
              "      <th>IPAnnualDeductibleAmt</th>\n",
              "      <th>OPAnnualReimbursementAmt</th>\n",
              "      <th>OPAnnualDeductibleAmt</th>\n",
              "      <th>Age</th>\n",
              "      <th>DeadOrNot</th>\n",
              "      <th>Gender_2</th>\n",
              "      <th>Race_2</th>\n",
              "      <th>Race_3</th>\n",
              "      <th>Race_5</th>\n",
              "    </tr>\n",
              "  </thead>\n",
              "  <tbody>\n",
              "    <tr>\n",
              "      <th>0</th>\n",
              "      <td>PRV57070</td>\n",
              "      <td>9000</td>\n",
              "      <td>1068.0</td>\n",
              "      <td>8.0</td>\n",
              "      <td>Y</td>\n",
              "      <td>12</td>\n",
              "      <td>12</td>\n",
              "      <td>0</td>\n",
              "      <td>1</td>\n",
              "      <td>1</td>\n",
              "      <td>0</td>\n",
              "      <td>1</td>\n",
              "      <td>1</td>\n",
              "      <td>0</td>\n",
              "      <td>1</td>\n",
              "      <td>0</td>\n",
              "      <td>0</td>\n",
              "      <td>0</td>\n",
              "      <td>21260</td>\n",
              "      <td>2136</td>\n",
              "      <td>120</td>\n",
              "      <td>100</td>\n",
              "      <td>82.0</td>\n",
              "      <td>0.0</td>\n",
              "      <td>1</td>\n",
              "      <td>0</td>\n",
              "      <td>0</td>\n",
              "      <td>0</td>\n",
              "    </tr>\n",
              "    <tr>\n",
              "      <th>1</th>\n",
              "      <td>PRV57070</td>\n",
              "      <td>3000</td>\n",
              "      <td>1068.0</td>\n",
              "      <td>3.0</td>\n",
              "      <td>0</td>\n",
              "      <td>12</td>\n",
              "      <td>12</td>\n",
              "      <td>1</td>\n",
              "      <td>1</td>\n",
              "      <td>1</td>\n",
              "      <td>0</td>\n",
              "      <td>1</td>\n",
              "      <td>1</td>\n",
              "      <td>1</td>\n",
              "      <td>1</td>\n",
              "      <td>0</td>\n",
              "      <td>1</td>\n",
              "      <td>0</td>\n",
              "      <td>8000</td>\n",
              "      <td>2136</td>\n",
              "      <td>2540</td>\n",
              "      <td>1880</td>\n",
              "      <td>83.0</td>\n",
              "      <td>0.0</td>\n",
              "      <td>1</td>\n",
              "      <td>0</td>\n",
              "      <td>0</td>\n",
              "      <td>0</td>\n",
              "    </tr>\n",
              "    <tr>\n",
              "      <th>2</th>\n",
              "      <td>PRV57070</td>\n",
              "      <td>7000</td>\n",
              "      <td>1068.0</td>\n",
              "      <td>7.0</td>\n",
              "      <td>Y</td>\n",
              "      <td>12</td>\n",
              "      <td>12</td>\n",
              "      <td>0</td>\n",
              "      <td>1</td>\n",
              "      <td>1</td>\n",
              "      <td>0</td>\n",
              "      <td>1</td>\n",
              "      <td>0</td>\n",
              "      <td>0</td>\n",
              "      <td>1</td>\n",
              "      <td>1</td>\n",
              "      <td>0</td>\n",
              "      <td>0</td>\n",
              "      <td>10200</td>\n",
              "      <td>2136</td>\n",
              "      <td>40</td>\n",
              "      <td>100</td>\n",
              "      <td>82.0</td>\n",
              "      <td>0.0</td>\n",
              "      <td>1</td>\n",
              "      <td>0</td>\n",
              "      <td>0</td>\n",
              "      <td>0</td>\n",
              "    </tr>\n",
              "    <tr>\n",
              "      <th>3</th>\n",
              "      <td>PRV57070</td>\n",
              "      <td>5000</td>\n",
              "      <td>1068.0</td>\n",
              "      <td>9.0</td>\n",
              "      <td>0</td>\n",
              "      <td>12</td>\n",
              "      <td>12</td>\n",
              "      <td>0</td>\n",
              "      <td>0</td>\n",
              "      <td>1</td>\n",
              "      <td>0</td>\n",
              "      <td>1</td>\n",
              "      <td>0</td>\n",
              "      <td>0</td>\n",
              "      <td>1</td>\n",
              "      <td>1</td>\n",
              "      <td>0</td>\n",
              "      <td>0</td>\n",
              "      <td>5000</td>\n",
              "      <td>1068</td>\n",
              "      <td>600</td>\n",
              "      <td>180</td>\n",
              "      <td>95.0</td>\n",
              "      <td>0.0</td>\n",
              "      <td>1</td>\n",
              "      <td>0</td>\n",
              "      <td>0</td>\n",
              "      <td>0</td>\n",
              "    </tr>\n",
              "    <tr>\n",
              "      <th>4</th>\n",
              "      <td>PRV57070</td>\n",
              "      <td>9000</td>\n",
              "      <td>1068.0</td>\n",
              "      <td>11.0</td>\n",
              "      <td>Y</td>\n",
              "      <td>12</td>\n",
              "      <td>12</td>\n",
              "      <td>1</td>\n",
              "      <td>1</td>\n",
              "      <td>1</td>\n",
              "      <td>1</td>\n",
              "      <td>1</td>\n",
              "      <td>0</td>\n",
              "      <td>1</td>\n",
              "      <td>1</td>\n",
              "      <td>0</td>\n",
              "      <td>1</td>\n",
              "      <td>0</td>\n",
              "      <td>9000</td>\n",
              "      <td>1068</td>\n",
              "      <td>10</td>\n",
              "      <td>40</td>\n",
              "      <td>76.0</td>\n",
              "      <td>0.0</td>\n",
              "      <td>1</td>\n",
              "      <td>0</td>\n",
              "      <td>0</td>\n",
              "      <td>0</td>\n",
              "    </tr>\n",
              "  </tbody>\n",
              "</table>\n",
              "</div>\n",
              "      <button class=\"colab-df-convert\" onclick=\"convertToInteractive('df-526955f2-c2ca-4273-acff-68a818cb10fc')\"\n",
              "              title=\"Convert this dataframe to an interactive table.\"\n",
              "              style=\"display:none;\">\n",
              "        \n",
              "  <svg xmlns=\"http://www.w3.org/2000/svg\" height=\"24px\"viewBox=\"0 0 24 24\"\n",
              "       width=\"24px\">\n",
              "    <path d=\"M0 0h24v24H0V0z\" fill=\"none\"/>\n",
              "    <path d=\"M18.56 5.44l.94 2.06.94-2.06 2.06-.94-2.06-.94-.94-2.06-.94 2.06-2.06.94zm-11 1L8.5 8.5l.94-2.06 2.06-.94-2.06-.94L8.5 2.5l-.94 2.06-2.06.94zm10 10l.94 2.06.94-2.06 2.06-.94-2.06-.94-.94-2.06-.94 2.06-2.06.94z\"/><path d=\"M17.41 7.96l-1.37-1.37c-.4-.4-.92-.59-1.43-.59-.52 0-1.04.2-1.43.59L10.3 9.45l-7.72 7.72c-.78.78-.78 2.05 0 2.83L4 21.41c.39.39.9.59 1.41.59.51 0 1.02-.2 1.41-.59l7.78-7.78 2.81-2.81c.8-.78.8-2.07 0-2.86zM5.41 20L4 18.59l7.72-7.72 1.47 1.35L5.41 20z\"/>\n",
              "  </svg>\n",
              "      </button>\n",
              "      \n",
              "  <style>\n",
              "    .colab-df-container {\n",
              "      display:flex;\n",
              "      flex-wrap:wrap;\n",
              "      gap: 12px;\n",
              "    }\n",
              "\n",
              "    .colab-df-convert {\n",
              "      background-color: #E8F0FE;\n",
              "      border: none;\n",
              "      border-radius: 50%;\n",
              "      cursor: pointer;\n",
              "      display: none;\n",
              "      fill: #1967D2;\n",
              "      height: 32px;\n",
              "      padding: 0 0 0 0;\n",
              "      width: 32px;\n",
              "    }\n",
              "\n",
              "    .colab-df-convert:hover {\n",
              "      background-color: #E2EBFA;\n",
              "      box-shadow: 0px 1px 2px rgba(60, 64, 67, 0.3), 0px 1px 3px 1px rgba(60, 64, 67, 0.15);\n",
              "      fill: #174EA6;\n",
              "    }\n",
              "\n",
              "    [theme=dark] .colab-df-convert {\n",
              "      background-color: #3B4455;\n",
              "      fill: #D2E3FC;\n",
              "    }\n",
              "\n",
              "    [theme=dark] .colab-df-convert:hover {\n",
              "      background-color: #434B5C;\n",
              "      box-shadow: 0px 1px 3px 1px rgba(0, 0, 0, 0.15);\n",
              "      filter: drop-shadow(0px 1px 2px rgba(0, 0, 0, 0.3));\n",
              "      fill: #FFFFFF;\n",
              "    }\n",
              "  </style>\n",
              "\n",
              "      <script>\n",
              "        const buttonEl =\n",
              "          document.querySelector('#df-526955f2-c2ca-4273-acff-68a818cb10fc button.colab-df-convert');\n",
              "        buttonEl.style.display =\n",
              "          google.colab.kernel.accessAllowed ? 'block' : 'none';\n",
              "\n",
              "        async function convertToInteractive(key) {\n",
              "          const element = document.querySelector('#df-526955f2-c2ca-4273-acff-68a818cb10fc');\n",
              "          const dataTable =\n",
              "            await google.colab.kernel.invokeFunction('convertToInteractive',\n",
              "                                                     [key], {});\n",
              "          if (!dataTable) return;\n",
              "\n",
              "          const docLinkHtml = 'Like what you see? Visit the ' +\n",
              "            '<a target=\"_blank\" href=https://colab.research.google.com/notebooks/data_table.ipynb>data table notebook</a>'\n",
              "            + ' to learn more about interactive tables.';\n",
              "          element.innerHTML = '';\n",
              "          dataTable['output_type'] = 'display_data';\n",
              "          await google.colab.output.renderOutput(dataTable, element);\n",
              "          const docLink = document.createElement('div');\n",
              "          docLink.innerHTML = docLinkHtml;\n",
              "          element.appendChild(docLink);\n",
              "        }\n",
              "      </script>\n",
              "    </div>\n",
              "  </div>\n",
              "  "
            ]
          },
          "metadata": {},
          "execution_count": 378
        }
      ]
    },
    {
      "cell_type": "code",
      "source": [
        "train_final['RenalDiseaseIndicator'].value_counts()"
      ],
      "metadata": {
        "colab": {
          "base_uri": "https://localhost:8080/"
        },
        "id": "uDA2bnF8C2DW",
        "outputId": "c2202cbe-c3df-4df0-e76f-e46176af6cae"
      },
      "execution_count": 379,
      "outputs": [
        {
          "output_type": "execute_result",
          "data": {
            "text/plain": [
              "0    448363\n",
              "Y    109848\n",
              "Name: RenalDiseaseIndicator, dtype: int64"
            ]
          },
          "metadata": {},
          "execution_count": 379
        }
      ]
    },
    {
      "cell_type": "code",
      "source": [
        "train_final.loc[train_final['RenalDiseaseIndicator'] == 'Y', 'RenalDiseaseIndicator'] = 1 "
      ],
      "metadata": {
        "id": "YFAK4M-KC9qx"
      },
      "execution_count": 380,
      "outputs": []
    },
    {
      "cell_type": "code",
      "source": [
        "train_final['RenalDiseaseIndicator'].value_counts()"
      ],
      "metadata": {
        "colab": {
          "base_uri": "https://localhost:8080/"
        },
        "id": "fq3H8xSMDL9m",
        "outputId": "595e35d7-2d3a-44c2-a739-97608783fe21"
      },
      "execution_count": 381,
      "outputs": [
        {
          "output_type": "execute_result",
          "data": {
            "text/plain": [
              "0    448363\n",
              "1    109848\n",
              "Name: RenalDiseaseIndicator, dtype: int64"
            ]
          },
          "metadata": {},
          "execution_count": 381
        }
      ]
    },
    {
      "cell_type": "code",
      "source": [
        "test_final.loc[test_final['RenalDiseaseIndicator'] == 'Y', 'RenalDiseaseIndicator'] = 1 "
      ],
      "metadata": {
        "id": "I6we2RYBDNZh"
      },
      "execution_count": 382,
      "outputs": []
    },
    {
      "cell_type": "code",
      "source": [
        "test_final['RenalDiseaseIndicator'].value_counts()"
      ],
      "metadata": {
        "colab": {
          "base_uri": "https://localhost:8080/"
        },
        "id": "vl5WhXGiDRzC",
        "outputId": "c997ad53-c01f-4fc6-af0b-eaa85e94dffe"
      },
      "execution_count": 383,
      "outputs": [
        {
          "output_type": "execute_result",
          "data": {
            "text/plain": [
              "0    109143\n",
              "1     26249\n",
              "Name: RenalDiseaseIndicator, dtype: int64"
            ]
          },
          "metadata": {},
          "execution_count": 383
        }
      ]
    },
    {
      "cell_type": "code",
      "source": [
        "train_final['DeductibleAmtPaid'].fillna(0, inplace=True)\n",
        "train_final['AdmittedDays'].fillna(0, inplace=True)"
      ],
      "metadata": {
        "id": "P1ZXUmKcDTz4"
      },
      "execution_count": 384,
      "outputs": []
    },
    {
      "cell_type": "code",
      "source": [
        "train_final.isna().sum()"
      ],
      "metadata": {
        "colab": {
          "base_uri": "https://localhost:8080/"
        },
        "id": "7qbainfJDYWT",
        "outputId": "bbcd3c12-7306-4b06-d80d-35a93a21ebb3"
      },
      "execution_count": 385,
      "outputs": [
        {
          "output_type": "execute_result",
          "data": {
            "text/plain": [
              "Provider                           0\n",
              "InscClaimAmtReimbursed             0\n",
              "DeductibleAmtPaid                  0\n",
              "AdmittedDays                       0\n",
              "RenalDiseaseIndicator              0\n",
              "NoOfMonths_PartACov                0\n",
              "NoOfMonths_PartBCov                0\n",
              "ChronicCond_Alzheimer              0\n",
              "ChronicCond_Heartfailure           0\n",
              "ChronicCond_KidneyDisease          0\n",
              "ChronicCond_Cancer                 0\n",
              "ChronicCond_ObstrPulmonary         0\n",
              "ChronicCond_Depression             0\n",
              "ChronicCond_Diabetes               0\n",
              "ChronicCond_IschemicHeart          0\n",
              "ChronicCond_Osteoporasis           0\n",
              "ChronicCond_rheumatoidarthritis    0\n",
              "ChronicCond_stroke                 0\n",
              "IPAnnualReimbursementAmt           0\n",
              "IPAnnualDeductibleAmt              0\n",
              "OPAnnualReimbursementAmt           0\n",
              "OPAnnualDeductibleAmt              0\n",
              "Age                                0\n",
              "DeadOrNot                          0\n",
              "PotentialFraud                     0\n",
              "Gender_2                           0\n",
              "Race_2                             0\n",
              "Race_3                             0\n",
              "Race_5                             0\n",
              "dtype: int64"
            ]
          },
          "metadata": {},
          "execution_count": 385
        }
      ]
    },
    {
      "cell_type": "code",
      "source": [
        "test_final['DeductibleAmtPaid'].fillna(0, inplace=True)\n",
        "test_final['AdmittedDays'].fillna(0, inplace=True)"
      ],
      "metadata": {
        "id": "nx338Jn_Da82"
      },
      "execution_count": 386,
      "outputs": []
    },
    {
      "cell_type": "code",
      "source": [
        "test_final.isna().sum()"
      ],
      "metadata": {
        "colab": {
          "base_uri": "https://localhost:8080/"
        },
        "id": "Ah7zGnPsDe9a",
        "outputId": "26a6895c-9169-4412-d767-8c73585a2f70"
      },
      "execution_count": 387,
      "outputs": [
        {
          "output_type": "execute_result",
          "data": {
            "text/plain": [
              "Provider                           0\n",
              "InscClaimAmtReimbursed             0\n",
              "DeductibleAmtPaid                  0\n",
              "AdmittedDays                       0\n",
              "RenalDiseaseIndicator              0\n",
              "NoOfMonths_PartACov                0\n",
              "NoOfMonths_PartBCov                0\n",
              "ChronicCond_Alzheimer              0\n",
              "ChronicCond_Heartfailure           0\n",
              "ChronicCond_KidneyDisease          0\n",
              "ChronicCond_Cancer                 0\n",
              "ChronicCond_ObstrPulmonary         0\n",
              "ChronicCond_Depression             0\n",
              "ChronicCond_Diabetes               0\n",
              "ChronicCond_IschemicHeart          0\n",
              "ChronicCond_Osteoporasis           0\n",
              "ChronicCond_rheumatoidarthritis    0\n",
              "ChronicCond_stroke                 0\n",
              "IPAnnualReimbursementAmt           0\n",
              "IPAnnualDeductibleAmt              0\n",
              "OPAnnualReimbursementAmt           0\n",
              "OPAnnualDeductibleAmt              0\n",
              "Age                                0\n",
              "DeadOrNot                          0\n",
              "Gender_2                           0\n",
              "Race_2                             0\n",
              "Race_3                             0\n",
              "Race_5                             0\n",
              "dtype: int64"
            ]
          },
          "metadata": {},
          "execution_count": 387
        }
      ]
    },
    {
      "cell_type": "code",
      "source": [
        "train_final['PotentialFraud'].value_counts()"
      ],
      "metadata": {
        "colab": {
          "base_uri": "https://localhost:8080/"
        },
        "id": "rOexHaEEDhC3",
        "outputId": "0c05c8a1-092d-4514-d0b7-4fcf5e70d40f"
      },
      "execution_count": 388,
      "outputs": [
        {
          "output_type": "execute_result",
          "data": {
            "text/plain": [
              "0    345415\n",
              "1    212796\n",
              "Name: PotentialFraud, dtype: int64"
            ]
          },
          "metadata": {},
          "execution_count": 388
        }
      ]
    },
    {
      "cell_type": "markdown",
      "source": [
        "## Check for correlated columns"
      ],
      "metadata": {
        "id": "Gs9XKBN3Iu9p"
      }
    },
    {
      "cell_type": "code",
      "source": [
        "train_final.shape"
      ],
      "metadata": {
        "colab": {
          "base_uri": "https://localhost:8080/"
        },
        "id": "ugbHyHrDJuJs",
        "outputId": "eb9598e0-9da1-49fa-f97d-a0295cb89487"
      },
      "execution_count": 389,
      "outputs": [
        {
          "output_type": "execute_result",
          "data": {
            "text/plain": [
              "(558211, 29)"
            ]
          },
          "metadata": {},
          "execution_count": 389
        }
      ]
    },
    {
      "cell_type": "code",
      "source": [
        "cor = train_final.corr() \n",
        "\n",
        "keep_columns = np.full(cor.shape[0], True) \n",
        "\n",
        "for i in range(cor.shape[0]-1):\n",
        "  for j in range(i+1, cor.shape[0]-1):\n",
        "    if (np.abs(cor.iloc[i,j]) >= 0.8):\n",
        "      keep_columns[i] = False \n",
        "\n",
        "#selected_columns = train_final.columns[keep_columns]\n",
        "\n",
        "keep_columns"
      ],
      "metadata": {
        "colab": {
          "base_uri": "https://localhost:8080/"
        },
        "id": "0lF2nktQD9x8",
        "outputId": "9c97ebea-7138-4466-c2b1-9a92a2d3806c"
      },
      "execution_count": 390,
      "outputs": [
        {
          "output_type": "execute_result",
          "data": {
            "text/plain": [
              "array([ True,  True,  True,  True,  True,  True,  True,  True,  True,\n",
              "        True,  True,  True,  True,  True,  True,  True,  True,  True,\n",
              "       False,  True,  True,  True,  True,  True,  True,  True])"
            ]
          },
          "metadata": {},
          "execution_count": 390
        }
      ]
    },
    {
      "cell_type": "code",
      "source": [
        "test_final.columns"
      ],
      "metadata": {
        "colab": {
          "base_uri": "https://localhost:8080/"
        },
        "id": "WfhjvGKkI5H2",
        "outputId": "c11850a1-6c27-4a01-ea62-311e19c7daa4"
      },
      "execution_count": 391,
      "outputs": [
        {
          "output_type": "execute_result",
          "data": {
            "text/plain": [
              "Index(['Provider', 'InscClaimAmtReimbursed', 'DeductibleAmtPaid',\n",
              "       'AdmittedDays', 'RenalDiseaseIndicator', 'NoOfMonths_PartACov',\n",
              "       'NoOfMonths_PartBCov', 'ChronicCond_Alzheimer',\n",
              "       'ChronicCond_Heartfailure', 'ChronicCond_KidneyDisease',\n",
              "       'ChronicCond_Cancer', 'ChronicCond_ObstrPulmonary',\n",
              "       'ChronicCond_Depression', 'ChronicCond_Diabetes',\n",
              "       'ChronicCond_IschemicHeart', 'ChronicCond_Osteoporasis',\n",
              "       'ChronicCond_rheumatoidarthritis', 'ChronicCond_stroke',\n",
              "       'IPAnnualReimbursementAmt', 'IPAnnualDeductibleAmt',\n",
              "       'OPAnnualReimbursementAmt', 'OPAnnualDeductibleAmt', 'Age', 'DeadOrNot',\n",
              "       'Gender_2', 'Race_2', 'Race_3', 'Race_5'],\n",
              "      dtype='object')"
            ]
          },
          "metadata": {},
          "execution_count": 391
        }
      ]
    },
    {
      "cell_type": "markdown",
      "source": [
        "## New features for better predictions"
      ],
      "metadata": {
        "id": "l57lcAIXwsYQ"
      }
    },
    {
      "cell_type": "code",
      "source": [
        "train_final['InscClaimReimbursement_ProviderAvg'] = train_final.groupby(['Provider'])['InscClaimAmtReimbursed'].transform('mean')\n",
        "test_final['InscClaimReimbursement_ProviderAvg'] = test_final.groupby(['Provider'])['InscClaimAmtReimbursed'].transform('mean')"
      ],
      "metadata": {
        "id": "9ODmCvQhwzfd"
      },
      "execution_count": 392,
      "outputs": []
    },
    {
      "cell_type": "code",
      "source": [
        "train_final['DeductibleAmtPaid_ProviderAvg'] = train_final.groupby(['Provider'])['DeductibleAmtPaid'].transform('mean')\n",
        "test_final['DeductibleAmtPaid_ProviderAvg'] = test_final.groupby(['Provider'])['DeductibleAmtPaid'].transform('mean')"
      ],
      "metadata": {
        "id": "YUlI2yXmwy2W"
      },
      "execution_count": 393,
      "outputs": []
    },
    {
      "cell_type": "code",
      "source": [
        "train_final['IPAnnualReimbursementAmt_ProviderAvg'] = train_final.groupby(['Provider'])['IPAnnualReimbursementAmt'].transform('mean')\n",
        "test_final['IPAnnualReimbursementAmt_ProviderAvg'] = test_final.groupby(['Provider'])['IPAnnualReimbursementAmt'].transform('mean')"
      ],
      "metadata": {
        "id": "SH056HLFzY08"
      },
      "execution_count": 394,
      "outputs": []
    },
    {
      "cell_type": "code",
      "source": [
        "train_final['IPAnnualDeductibleAmt_ProviderAvg'] = train_final.groupby(['Provider'])['IPAnnualDeductibleAmt'].transform('mean')\n",
        "test_final['IPAnnualDeductibleAmt_ProviderAvg'] = test_final.groupby(['Provider'])['IPAnnualDeductibleAmt'].transform('mean')"
      ],
      "metadata": {
        "id": "rcGrYTz9zYZm"
      },
      "execution_count": 395,
      "outputs": []
    },
    {
      "cell_type": "code",
      "source": [
        "train_final['OPAnnualReimbursementAmt_ProviderAvg'] = train_final.groupby(['Provider'])['OPAnnualReimbursementAmt'].transform('mean')\n",
        "test_final['OPAnnualReimbursementAmt_ProviderAvg'] = test_final.groupby(['Provider'])['OPAnnualReimbursementAmt'].transform('mean')"
      ],
      "metadata": {
        "id": "-tTy-9dxzYFX"
      },
      "execution_count": 396,
      "outputs": []
    },
    {
      "cell_type": "code",
      "source": [
        "train_final['OPAnnualDeductibleAmt_ProviderAvg'] = train_final.groupby(['Provider'])['OPAnnualDeductibleAmt'].transform('mean')\n",
        "test_final['OPAnnualDeductibleAmt_ProviderAvg'] = test_final.groupby(['Provider'])['OPAnnualDeductibleAmt'].transform('mean')"
      ],
      "metadata": {
        "id": "4EYPLweF0bhb"
      },
      "execution_count": 397,
      "outputs": []
    },
    {
      "cell_type": "code",
      "source": [],
      "metadata": {
        "id": "Z25987iZ0bQV"
      },
      "execution_count": 397,
      "outputs": []
    },
    {
      "cell_type": "code",
      "source": [],
      "metadata": {
        "id": "DNhuaMks0a5I"
      },
      "execution_count": 397,
      "outputs": []
    },
    {
      "cell_type": "markdown",
      "source": [
        "# Train & validation split"
      ],
      "metadata": {
        "id": "m71JlxxuL147"
      }
    },
    {
      "cell_type": "code",
      "source": [
        "train_final_groupby = train_final.groupby(['Provider', 'PotentialFraud'], as_index = False).agg('sum')\n",
        "\n",
        "train_final_groupby.shape"
      ],
      "metadata": {
        "colab": {
          "base_uri": "https://localhost:8080/"
        },
        "id": "Gqfnv7aIeK5Z",
        "outputId": "345a4575-57fe-4111-f4d3-6bfdb36d813e"
      },
      "execution_count": 398,
      "outputs": [
        {
          "output_type": "execute_result",
          "data": {
            "text/plain": [
              "(5410, 34)"
            ]
          },
          "metadata": {},
          "execution_count": 398
        }
      ]
    },
    {
      "cell_type": "code",
      "source": [
        "test_final_groupby = test_final.groupby(['Provider'], as_index=False).agg('sum')\n",
        "test_final_groupby.shape"
      ],
      "metadata": {
        "colab": {
          "base_uri": "https://localhost:8080/"
        },
        "id": "rIQdd3e0eQqW",
        "outputId": "2917b898-a241-45fa-a0bf-11dbc87acdd8"
      },
      "execution_count": 399,
      "outputs": [
        {
          "output_type": "execute_result",
          "data": {
            "text/plain": [
              "(1353, 33)"
            ]
          },
          "metadata": {},
          "execution_count": 399
        }
      ]
    },
    {
      "cell_type": "code",
      "source": [
        "test_final_groupby.columns"
      ],
      "metadata": {
        "colab": {
          "base_uri": "https://localhost:8080/"
        },
        "id": "WMqPTcstCSFu",
        "outputId": "09777749-fdd2-40dc-9d00-3126817777b3"
      },
      "execution_count": 400,
      "outputs": [
        {
          "output_type": "execute_result",
          "data": {
            "text/plain": [
              "Index(['Provider', 'InscClaimAmtReimbursed', 'DeductibleAmtPaid',\n",
              "       'AdmittedDays', 'NoOfMonths_PartACov', 'NoOfMonths_PartBCov',\n",
              "       'ChronicCond_Alzheimer', 'ChronicCond_Heartfailure',\n",
              "       'ChronicCond_KidneyDisease', 'ChronicCond_Cancer',\n",
              "       'ChronicCond_ObstrPulmonary', 'ChronicCond_Depression',\n",
              "       'ChronicCond_Diabetes', 'ChronicCond_IschemicHeart',\n",
              "       'ChronicCond_Osteoporasis', 'ChronicCond_rheumatoidarthritis',\n",
              "       'ChronicCond_stroke', 'IPAnnualReimbursementAmt',\n",
              "       'IPAnnualDeductibleAmt', 'OPAnnualReimbursementAmt',\n",
              "       'OPAnnualDeductibleAmt', 'Age', 'DeadOrNot', 'Gender_2', 'Race_2',\n",
              "       'Race_3', 'Race_5', 'InscClaimReimbursement_ProviderAvg',\n",
              "       'DeductibleAmtPaid_ProviderAvg', 'IPAnnualReimbursementAmt_ProviderAvg',\n",
              "       'IPAnnualDeductibleAmt_ProviderAvg',\n",
              "       'OPAnnualReimbursementAmt_ProviderAvg',\n",
              "       'OPAnnualDeductibleAmt_ProviderAvg'],\n",
              "      dtype='object')"
            ]
          },
          "metadata": {},
          "execution_count": 400
        }
      ]
    },
    {
      "cell_type": "code",
      "source": [
        "X = train_final_groupby.drop(columns=['Provider', 'PotentialFraud'], axis=1)\n",
        "y = train_final_groupby['PotentialFraud']\n",
        "y = y.astype('int')"
      ],
      "metadata": {
        "id": "oQsMTspjKV7p"
      },
      "execution_count": 401,
      "outputs": []
    },
    {
      "cell_type": "code",
      "source": [
        "train_final_groupby.shape"
      ],
      "metadata": {
        "colab": {
          "base_uri": "https://localhost:8080/"
        },
        "id": "25e7hJpuM-WF",
        "outputId": "44a37e5d-9eff-4506-b125-29d02ba7f7ec"
      },
      "execution_count": 402,
      "outputs": [
        {
          "output_type": "execute_result",
          "data": {
            "text/plain": [
              "(5410, 34)"
            ]
          },
          "metadata": {},
          "execution_count": 402
        }
      ]
    },
    {
      "cell_type": "code",
      "source": [
        "test_final_groupby.shape"
      ],
      "metadata": {
        "colab": {
          "base_uri": "https://localhost:8080/"
        },
        "id": "-WixRzQZOi34",
        "outputId": "dbec1c8f-d25d-4871-d206-798cbf6f99a3"
      },
      "execution_count": 403,
      "outputs": [
        {
          "output_type": "execute_result",
          "data": {
            "text/plain": [
              "(1353, 33)"
            ]
          },
          "metadata": {},
          "execution_count": 403
        }
      ]
    },
    {
      "cell_type": "code",
      "source": [
        "train_final_groupby.loc[train_final_groupby['Provider'] == 'PRV51003'].head()"
      ],
      "metadata": {
        "colab": {
          "base_uri": "https://localhost:8080/",
          "height": 143
        },
        "id": "CvzZwYv6feKH",
        "outputId": "57d3024f-ecbc-4dea-e192-3cac3afc3f95"
      },
      "execution_count": 404,
      "outputs": [
        {
          "output_type": "execute_result",
          "data": {
            "text/plain": [
              "   Provider  PotentialFraud  InscClaimAmtReimbursed  DeductibleAmtPaid  \\\n",
              "1  PRV51003               1                  605670            66286.0   \n",
              "\n",
              "   AdmittedDays  NoOfMonths_PartACov  NoOfMonths_PartBCov  \\\n",
              "1         382.0                 1560                 1567   \n",
              "\n",
              "   ChronicCond_Alzheimer  ChronicCond_Heartfailure  ChronicCond_KidneyDisease  \\\n",
              "1                     56                        80                         64   \n",
              "\n",
              "   ChronicCond_Cancer  ChronicCond_ObstrPulmonary  ChronicCond_Depression  \\\n",
              "1                  10                          41                      54   \n",
              "\n",
              "   ChronicCond_Diabetes  ChronicCond_IschemicHeart  ChronicCond_Osteoporasis  \\\n",
              "1                   100                        112                        33   \n",
              "\n",
              "   ChronicCond_rheumatoidarthritis  ChronicCond_stroke  \\\n",
              "1                               38                  12   \n",
              "\n",
              "   IPAnnualReimbursementAmt  IPAnnualDeductibleAmt  OPAnnualReimbursementAmt  \\\n",
              "1                    999000                 122948                    353520   \n",
              "\n",
              "   OPAnnualDeductibleAmt      Age  DeadOrNot  Gender_2  Race_2  Race_3  \\\n",
              "1                  97300  10553.0        1.0      78.0    24.0     0.0   \n",
              "\n",
              "   Race_5  InscClaimReimbursement_ProviderAvg  DeductibleAmtPaid_ProviderAvg  \\\n",
              "1     1.0                            605670.0                        66286.0   \n",
              "\n",
              "   IPAnnualReimbursementAmt_ProviderAvg  IPAnnualDeductibleAmt_ProviderAvg  \\\n",
              "1                              999000.0                           122948.0   \n",
              "\n",
              "   OPAnnualReimbursementAmt_ProviderAvg  OPAnnualDeductibleAmt_ProviderAvg  \n",
              "1                              353520.0                            97300.0  "
            ],
            "text/html": [
              "\n",
              "  <div id=\"df-79de2090-ceca-4ca6-bf55-0653e0d92cd5\">\n",
              "    <div class=\"colab-df-container\">\n",
              "      <div>\n",
              "<style scoped>\n",
              "    .dataframe tbody tr th:only-of-type {\n",
              "        vertical-align: middle;\n",
              "    }\n",
              "\n",
              "    .dataframe tbody tr th {\n",
              "        vertical-align: top;\n",
              "    }\n",
              "\n",
              "    .dataframe thead th {\n",
              "        text-align: right;\n",
              "    }\n",
              "</style>\n",
              "<table border=\"1\" class=\"dataframe\">\n",
              "  <thead>\n",
              "    <tr style=\"text-align: right;\">\n",
              "      <th></th>\n",
              "      <th>Provider</th>\n",
              "      <th>PotentialFraud</th>\n",
              "      <th>InscClaimAmtReimbursed</th>\n",
              "      <th>DeductibleAmtPaid</th>\n",
              "      <th>AdmittedDays</th>\n",
              "      <th>NoOfMonths_PartACov</th>\n",
              "      <th>NoOfMonths_PartBCov</th>\n",
              "      <th>ChronicCond_Alzheimer</th>\n",
              "      <th>ChronicCond_Heartfailure</th>\n",
              "      <th>ChronicCond_KidneyDisease</th>\n",
              "      <th>ChronicCond_Cancer</th>\n",
              "      <th>ChronicCond_ObstrPulmonary</th>\n",
              "      <th>ChronicCond_Depression</th>\n",
              "      <th>ChronicCond_Diabetes</th>\n",
              "      <th>ChronicCond_IschemicHeart</th>\n",
              "      <th>ChronicCond_Osteoporasis</th>\n",
              "      <th>ChronicCond_rheumatoidarthritis</th>\n",
              "      <th>ChronicCond_stroke</th>\n",
              "      <th>IPAnnualReimbursementAmt</th>\n",
              "      <th>IPAnnualDeductibleAmt</th>\n",
              "      <th>OPAnnualReimbursementAmt</th>\n",
              "      <th>OPAnnualDeductibleAmt</th>\n",
              "      <th>Age</th>\n",
              "      <th>DeadOrNot</th>\n",
              "      <th>Gender_2</th>\n",
              "      <th>Race_2</th>\n",
              "      <th>Race_3</th>\n",
              "      <th>Race_5</th>\n",
              "      <th>InscClaimReimbursement_ProviderAvg</th>\n",
              "      <th>DeductibleAmtPaid_ProviderAvg</th>\n",
              "      <th>IPAnnualReimbursementAmt_ProviderAvg</th>\n",
              "      <th>IPAnnualDeductibleAmt_ProviderAvg</th>\n",
              "      <th>OPAnnualReimbursementAmt_ProviderAvg</th>\n",
              "      <th>OPAnnualDeductibleAmt_ProviderAvg</th>\n",
              "    </tr>\n",
              "  </thead>\n",
              "  <tbody>\n",
              "    <tr>\n",
              "      <th>1</th>\n",
              "      <td>PRV51003</td>\n",
              "      <td>1</td>\n",
              "      <td>605670</td>\n",
              "      <td>66286.0</td>\n",
              "      <td>382.0</td>\n",
              "      <td>1560</td>\n",
              "      <td>1567</td>\n",
              "      <td>56</td>\n",
              "      <td>80</td>\n",
              "      <td>64</td>\n",
              "      <td>10</td>\n",
              "      <td>41</td>\n",
              "      <td>54</td>\n",
              "      <td>100</td>\n",
              "      <td>112</td>\n",
              "      <td>33</td>\n",
              "      <td>38</td>\n",
              "      <td>12</td>\n",
              "      <td>999000</td>\n",
              "      <td>122948</td>\n",
              "      <td>353520</td>\n",
              "      <td>97300</td>\n",
              "      <td>10553.0</td>\n",
              "      <td>1.0</td>\n",
              "      <td>78.0</td>\n",
              "      <td>24.0</td>\n",
              "      <td>0.0</td>\n",
              "      <td>1.0</td>\n",
              "      <td>605670.0</td>\n",
              "      <td>66286.0</td>\n",
              "      <td>999000.0</td>\n",
              "      <td>122948.0</td>\n",
              "      <td>353520.0</td>\n",
              "      <td>97300.0</td>\n",
              "    </tr>\n",
              "  </tbody>\n",
              "</table>\n",
              "</div>\n",
              "      <button class=\"colab-df-convert\" onclick=\"convertToInteractive('df-79de2090-ceca-4ca6-bf55-0653e0d92cd5')\"\n",
              "              title=\"Convert this dataframe to an interactive table.\"\n",
              "              style=\"display:none;\">\n",
              "        \n",
              "  <svg xmlns=\"http://www.w3.org/2000/svg\" height=\"24px\"viewBox=\"0 0 24 24\"\n",
              "       width=\"24px\">\n",
              "    <path d=\"M0 0h24v24H0V0z\" fill=\"none\"/>\n",
              "    <path d=\"M18.56 5.44l.94 2.06.94-2.06 2.06-.94-2.06-.94-.94-2.06-.94 2.06-2.06.94zm-11 1L8.5 8.5l.94-2.06 2.06-.94-2.06-.94L8.5 2.5l-.94 2.06-2.06.94zm10 10l.94 2.06.94-2.06 2.06-.94-2.06-.94-.94-2.06-.94 2.06-2.06.94z\"/><path d=\"M17.41 7.96l-1.37-1.37c-.4-.4-.92-.59-1.43-.59-.52 0-1.04.2-1.43.59L10.3 9.45l-7.72 7.72c-.78.78-.78 2.05 0 2.83L4 21.41c.39.39.9.59 1.41.59.51 0 1.02-.2 1.41-.59l7.78-7.78 2.81-2.81c.8-.78.8-2.07 0-2.86zM5.41 20L4 18.59l7.72-7.72 1.47 1.35L5.41 20z\"/>\n",
              "  </svg>\n",
              "      </button>\n",
              "      \n",
              "  <style>\n",
              "    .colab-df-container {\n",
              "      display:flex;\n",
              "      flex-wrap:wrap;\n",
              "      gap: 12px;\n",
              "    }\n",
              "\n",
              "    .colab-df-convert {\n",
              "      background-color: #E8F0FE;\n",
              "      border: none;\n",
              "      border-radius: 50%;\n",
              "      cursor: pointer;\n",
              "      display: none;\n",
              "      fill: #1967D2;\n",
              "      height: 32px;\n",
              "      padding: 0 0 0 0;\n",
              "      width: 32px;\n",
              "    }\n",
              "\n",
              "    .colab-df-convert:hover {\n",
              "      background-color: #E2EBFA;\n",
              "      box-shadow: 0px 1px 2px rgba(60, 64, 67, 0.3), 0px 1px 3px 1px rgba(60, 64, 67, 0.15);\n",
              "      fill: #174EA6;\n",
              "    }\n",
              "\n",
              "    [theme=dark] .colab-df-convert {\n",
              "      background-color: #3B4455;\n",
              "      fill: #D2E3FC;\n",
              "    }\n",
              "\n",
              "    [theme=dark] .colab-df-convert:hover {\n",
              "      background-color: #434B5C;\n",
              "      box-shadow: 0px 1px 3px 1px rgba(0, 0, 0, 0.15);\n",
              "      filter: drop-shadow(0px 1px 2px rgba(0, 0, 0, 0.3));\n",
              "      fill: #FFFFFF;\n",
              "    }\n",
              "  </style>\n",
              "\n",
              "      <script>\n",
              "        const buttonEl =\n",
              "          document.querySelector('#df-79de2090-ceca-4ca6-bf55-0653e0d92cd5 button.colab-df-convert');\n",
              "        buttonEl.style.display =\n",
              "          google.colab.kernel.accessAllowed ? 'block' : 'none';\n",
              "\n",
              "        async function convertToInteractive(key) {\n",
              "          const element = document.querySelector('#df-79de2090-ceca-4ca6-bf55-0653e0d92cd5');\n",
              "          const dataTable =\n",
              "            await google.colab.kernel.invokeFunction('convertToInteractive',\n",
              "                                                     [key], {});\n",
              "          if (!dataTable) return;\n",
              "\n",
              "          const docLinkHtml = 'Like what you see? Visit the ' +\n",
              "            '<a target=\"_blank\" href=https://colab.research.google.com/notebooks/data_table.ipynb>data table notebook</a>'\n",
              "            + ' to learn more about interactive tables.';\n",
              "          element.innerHTML = '';\n",
              "          dataTable['output_type'] = 'display_data';\n",
              "          await google.colab.output.renderOutput(dataTable, element);\n",
              "          const docLink = document.createElement('div');\n",
              "          docLink.innerHTML = docLinkHtml;\n",
              "          element.appendChild(docLink);\n",
              "        }\n",
              "      </script>\n",
              "    </div>\n",
              "  </div>\n",
              "  "
            ]
          },
          "metadata": {},
          "execution_count": 404
        }
      ]
    },
    {
      "cell_type": "code",
      "source": [
        "train_final_groupby['Provider'].value_counts()"
      ],
      "metadata": {
        "colab": {
          "base_uri": "https://localhost:8080/"
        },
        "id": "OdQlvT_lhAWn",
        "outputId": "05117715-6ef0-46ed-db01-15cd760a3742"
      },
      "execution_count": 200,
      "outputs": [
        {
          "output_type": "execute_result",
          "data": {
            "text/plain": [
              "PRV51001    1\n",
              "PRV55516    1\n",
              "PRV55527    1\n",
              "PRV55525    1\n",
              "PRV55523    1\n",
              "           ..\n",
              "PRV53246    1\n",
              "PRV53245    1\n",
              "PRV53244    1\n",
              "PRV53243    1\n",
              "PRV57763    1\n",
              "Name: Provider, Length: 5410, dtype: int64"
            ]
          },
          "metadata": {},
          "execution_count": 200
        }
      ]
    },
    {
      "cell_type": "markdown",
      "source": [
        "**Standard Scaler**\n"
      ],
      "metadata": {
        "id": "SbbIz5aWMNcS"
      }
    },
    {
      "cell_type": "code",
      "source": [
        "from sklearn.preprocessing import StandardScaler\n",
        "\n",
        "scaler = StandardScaler()\n",
        "\n",
        "X_minmax = scaler.fit_transform(X) # Train dataset\n",
        "X_test = scaler.transform(test_final_groupby.iloc[:, 1:]) # Test dataset"
      ],
      "metadata": {
        "id": "lc878CCDMIXj"
      },
      "execution_count": null,
      "outputs": []
    },
    {
      "cell_type": "markdown",
      "source": [
        "**Train and validation split**"
      ],
      "metadata": {
        "id": "hYQZZMR0Nbq-"
      }
    },
    {
      "cell_type": "code",
      "source": [
        "from sklearn.model_selection import train_test_split\n",
        "\n",
        "# Stratify = y will ensure equal number of potential fraud cases in train and validation dataset \n",
        "X_train, X_val, y_train, y_val = train_test_split(X_minmax, y, test_size=0.3, random_state=2022, stratify=y, shuffle=True)"
      ],
      "metadata": {
        "id": "92L2HQdhNKrj"
      },
      "execution_count": null,
      "outputs": []
    },
    {
      "cell_type": "code",
      "source": [
        "print(f'X train dataset: {X_train.shape}')\n",
        "print(f'y train dataset: {y_train.shape}')"
      ],
      "metadata": {
        "colab": {
          "base_uri": "https://localhost:8080/"
        },
        "id": "GBjF74ptO-0W",
        "outputId": "40f0b2f6-c289-49af-801f-4d9afcf7bf36"
      },
      "execution_count": null,
      "outputs": [
        {
          "output_type": "stream",
          "name": "stdout",
          "text": [
            "X train dataset: (3787, 32)\n",
            "y train dataset: (3787,)\n"
          ]
        }
      ]
    },
    {
      "cell_type": "code",
      "source": [
        "print(f'X validation dataset: {X_val.shape}')\n",
        "print(f'y validation dataset: {y_val.shape}')"
      ],
      "metadata": {
        "colab": {
          "base_uri": "https://localhost:8080/"
        },
        "id": "OmWvk3ZLPHMv",
        "outputId": "db5d48de-36b2-421b-9866-441ca2987e6a"
      },
      "execution_count": null,
      "outputs": [
        {
          "output_type": "stream",
          "name": "stdout",
          "text": [
            "X validation dataset: (1623, 32)\n",
            "y validation dataset: (1623,)\n"
          ]
        }
      ]
    },
    {
      "cell_type": "code",
      "source": [
        "X_val[0,:]"
      ],
      "metadata": {
        "colab": {
          "base_uri": "https://localhost:8080/"
        },
        "id": "cJj2kqag7x43",
        "outputId": "f4e55a2d-e5bd-44f0-b3b4-33f429ac03b7"
      },
      "execution_count": null,
      "outputs": [
        {
          "output_type": "execute_result",
          "data": {
            "text/plain": [
              "array([-0.31897753, -0.31732824, -0.31190787, -0.21248512, -0.21257621,\n",
              "       -0.34340524, -0.19485988, -0.12278404, -0.25557352, -0.23252876,\n",
              "       -0.18599364, -0.20315994, -0.21607582, -0.1953917 , -0.33266682,\n",
              "       -0.38630658, -0.05298077, -0.25966756, -0.18723404, -0.18039556,\n",
              "       -0.22352393, -0.32994963, -0.26495847, -0.35820504, -0.17022483,\n",
              "       -0.19598378, -0.31897753, -0.31732824, -0.31897753, -0.31732824,\n",
              "       -0.31897753, -0.31732824])"
            ]
          },
          "metadata": {},
          "execution_count": 88
        }
      ]
    },
    {
      "cell_type": "markdown",
      "source": [
        "# Model I: Logistic Regression"
      ],
      "metadata": {
        "id": "anOCh8UoPqtL"
      }
    },
    {
      "cell_type": "code",
      "source": [
        "from sklearn.linear_model import LogisticRegressionCV\n",
        "\n",
        "from sklearn.metrics import (\n",
        "    confusion_matrix,\n",
        "    accuracy_score as accuracy,\n",
        "    recall_score as recall,\n",
        "    precision_score as precision,\n",
        "    f1_score\n",
        ")"
      ],
      "metadata": {
        "id": "bxzzDOs9Pgiu"
      },
      "execution_count": null,
      "outputs": []
    },
    {
      "cell_type": "code",
      "source": [
        "%%time\n",
        "#lr = LogisticRegression(featuresCol=selected_columns, labelCol='Purchase', maxIter=10)\n",
        "lr = LogisticRegressionCV(cv=10, class_weight='balanced', random_state=2022)\n",
        "lr_model = lr.fit(X_train, y_train) "
      ],
      "metadata": {
        "id": "_jpMEpgnP5gc",
        "colab": {
          "base_uri": "https://localhost:8080/"
        },
        "outputId": "17b4fb88-0716-40c1-b8e6-ba005eff76c7"
      },
      "execution_count": null,
      "outputs": [
        {
          "output_type": "stream",
          "name": "stderr",
          "text": [
            "/usr/local/lib/python3.8/dist-packages/sklearn/linear_model/_logistic.py:814: ConvergenceWarning: lbfgs failed to converge (status=1):\n",
            "STOP: TOTAL NO. of ITERATIONS REACHED LIMIT.\n",
            "\n",
            "Increase the number of iterations (max_iter) or scale the data as shown in:\n",
            "    https://scikit-learn.org/stable/modules/preprocessing.html\n",
            "Please also refer to the documentation for alternative solver options:\n",
            "    https://scikit-learn.org/stable/modules/linear_model.html#logistic-regression\n",
            "  n_iter_i = _check_optimize_result(\n",
            "/usr/local/lib/python3.8/dist-packages/sklearn/linear_model/_logistic.py:814: ConvergenceWarning: lbfgs failed to converge (status=1):\n",
            "STOP: TOTAL NO. of ITERATIONS REACHED LIMIT.\n",
            "\n",
            "Increase the number of iterations (max_iter) or scale the data as shown in:\n",
            "    https://scikit-learn.org/stable/modules/preprocessing.html\n",
            "Please also refer to the documentation for alternative solver options:\n",
            "    https://scikit-learn.org/stable/modules/linear_model.html#logistic-regression\n",
            "  n_iter_i = _check_optimize_result(\n",
            "/usr/local/lib/python3.8/dist-packages/sklearn/linear_model/_logistic.py:814: ConvergenceWarning: lbfgs failed to converge (status=1):\n",
            "STOP: TOTAL NO. of ITERATIONS REACHED LIMIT.\n",
            "\n",
            "Increase the number of iterations (max_iter) or scale the data as shown in:\n",
            "    https://scikit-learn.org/stable/modules/preprocessing.html\n",
            "Please also refer to the documentation for alternative solver options:\n",
            "    https://scikit-learn.org/stable/modules/linear_model.html#logistic-regression\n",
            "  n_iter_i = _check_optimize_result(\n",
            "/usr/local/lib/python3.8/dist-packages/sklearn/linear_model/_logistic.py:814: ConvergenceWarning: lbfgs failed to converge (status=1):\n",
            "STOP: TOTAL NO. of ITERATIONS REACHED LIMIT.\n",
            "\n",
            "Increase the number of iterations (max_iter) or scale the data as shown in:\n",
            "    https://scikit-learn.org/stable/modules/preprocessing.html\n",
            "Please also refer to the documentation for alternative solver options:\n",
            "    https://scikit-learn.org/stable/modules/linear_model.html#logistic-regression\n",
            "  n_iter_i = _check_optimize_result(\n",
            "/usr/local/lib/python3.8/dist-packages/sklearn/linear_model/_logistic.py:814: ConvergenceWarning: lbfgs failed to converge (status=1):\n",
            "STOP: TOTAL NO. of ITERATIONS REACHED LIMIT.\n",
            "\n",
            "Increase the number of iterations (max_iter) or scale the data as shown in:\n",
            "    https://scikit-learn.org/stable/modules/preprocessing.html\n",
            "Please also refer to the documentation for alternative solver options:\n",
            "    https://scikit-learn.org/stable/modules/linear_model.html#logistic-regression\n",
            "  n_iter_i = _check_optimize_result(\n",
            "/usr/local/lib/python3.8/dist-packages/sklearn/linear_model/_logistic.py:814: ConvergenceWarning: lbfgs failed to converge (status=1):\n",
            "STOP: TOTAL NO. of ITERATIONS REACHED LIMIT.\n",
            "\n",
            "Increase the number of iterations (max_iter) or scale the data as shown in:\n",
            "    https://scikit-learn.org/stable/modules/preprocessing.html\n",
            "Please also refer to the documentation for alternative solver options:\n",
            "    https://scikit-learn.org/stable/modules/linear_model.html#logistic-regression\n",
            "  n_iter_i = _check_optimize_result(\n",
            "/usr/local/lib/python3.8/dist-packages/sklearn/linear_model/_logistic.py:814: ConvergenceWarning: lbfgs failed to converge (status=1):\n",
            "STOP: TOTAL NO. of ITERATIONS REACHED LIMIT.\n",
            "\n",
            "Increase the number of iterations (max_iter) or scale the data as shown in:\n",
            "    https://scikit-learn.org/stable/modules/preprocessing.html\n",
            "Please also refer to the documentation for alternative solver options:\n",
            "    https://scikit-learn.org/stable/modules/linear_model.html#logistic-regression\n",
            "  n_iter_i = _check_optimize_result(\n",
            "/usr/local/lib/python3.8/dist-packages/sklearn/linear_model/_logistic.py:814: ConvergenceWarning: lbfgs failed to converge (status=1):\n",
            "STOP: TOTAL NO. of ITERATIONS REACHED LIMIT.\n",
            "\n",
            "Increase the number of iterations (max_iter) or scale the data as shown in:\n",
            "    https://scikit-learn.org/stable/modules/preprocessing.html\n",
            "Please also refer to the documentation for alternative solver options:\n",
            "    https://scikit-learn.org/stable/modules/linear_model.html#logistic-regression\n",
            "  n_iter_i = _check_optimize_result(\n",
            "/usr/local/lib/python3.8/dist-packages/sklearn/linear_model/_logistic.py:814: ConvergenceWarning: lbfgs failed to converge (status=1):\n",
            "STOP: TOTAL NO. of ITERATIONS REACHED LIMIT.\n",
            "\n",
            "Increase the number of iterations (max_iter) or scale the data as shown in:\n",
            "    https://scikit-learn.org/stable/modules/preprocessing.html\n",
            "Please also refer to the documentation for alternative solver options:\n",
            "    https://scikit-learn.org/stable/modules/linear_model.html#logistic-regression\n",
            "  n_iter_i = _check_optimize_result(\n",
            "/usr/local/lib/python3.8/dist-packages/sklearn/linear_model/_logistic.py:814: ConvergenceWarning: lbfgs failed to converge (status=1):\n",
            "STOP: TOTAL NO. of ITERATIONS REACHED LIMIT.\n",
            "\n",
            "Increase the number of iterations (max_iter) or scale the data as shown in:\n",
            "    https://scikit-learn.org/stable/modules/preprocessing.html\n",
            "Please also refer to the documentation for alternative solver options:\n",
            "    https://scikit-learn.org/stable/modules/linear_model.html#logistic-regression\n",
            "  n_iter_i = _check_optimize_result(\n",
            "/usr/local/lib/python3.8/dist-packages/sklearn/linear_model/_logistic.py:814: ConvergenceWarning: lbfgs failed to converge (status=1):\n",
            "STOP: TOTAL NO. of ITERATIONS REACHED LIMIT.\n",
            "\n",
            "Increase the number of iterations (max_iter) or scale the data as shown in:\n",
            "    https://scikit-learn.org/stable/modules/preprocessing.html\n",
            "Please also refer to the documentation for alternative solver options:\n",
            "    https://scikit-learn.org/stable/modules/linear_model.html#logistic-regression\n",
            "  n_iter_i = _check_optimize_result(\n",
            "/usr/local/lib/python3.8/dist-packages/sklearn/linear_model/_logistic.py:814: ConvergenceWarning: lbfgs failed to converge (status=1):\n",
            "STOP: TOTAL NO. of ITERATIONS REACHED LIMIT.\n",
            "\n",
            "Increase the number of iterations (max_iter) or scale the data as shown in:\n",
            "    https://scikit-learn.org/stable/modules/preprocessing.html\n",
            "Please also refer to the documentation for alternative solver options:\n",
            "    https://scikit-learn.org/stable/modules/linear_model.html#logistic-regression\n",
            "  n_iter_i = _check_optimize_result(\n",
            "/usr/local/lib/python3.8/dist-packages/sklearn/linear_model/_logistic.py:814: ConvergenceWarning: lbfgs failed to converge (status=1):\n",
            "STOP: TOTAL NO. of ITERATIONS REACHED LIMIT.\n",
            "\n",
            "Increase the number of iterations (max_iter) or scale the data as shown in:\n",
            "    https://scikit-learn.org/stable/modules/preprocessing.html\n",
            "Please also refer to the documentation for alternative solver options:\n",
            "    https://scikit-learn.org/stable/modules/linear_model.html#logistic-regression\n",
            "  n_iter_i = _check_optimize_result(\n",
            "/usr/local/lib/python3.8/dist-packages/sklearn/linear_model/_logistic.py:814: ConvergenceWarning: lbfgs failed to converge (status=1):\n",
            "STOP: TOTAL NO. of ITERATIONS REACHED LIMIT.\n",
            "\n",
            "Increase the number of iterations (max_iter) or scale the data as shown in:\n",
            "    https://scikit-learn.org/stable/modules/preprocessing.html\n",
            "Please also refer to the documentation for alternative solver options:\n",
            "    https://scikit-learn.org/stable/modules/linear_model.html#logistic-regression\n",
            "  n_iter_i = _check_optimize_result(\n",
            "/usr/local/lib/python3.8/dist-packages/sklearn/linear_model/_logistic.py:814: ConvergenceWarning: lbfgs failed to converge (status=1):\n",
            "STOP: TOTAL NO. of ITERATIONS REACHED LIMIT.\n",
            "\n",
            "Increase the number of iterations (max_iter) or scale the data as shown in:\n",
            "    https://scikit-learn.org/stable/modules/preprocessing.html\n",
            "Please also refer to the documentation for alternative solver options:\n",
            "    https://scikit-learn.org/stable/modules/linear_model.html#logistic-regression\n",
            "  n_iter_i = _check_optimize_result(\n",
            "/usr/local/lib/python3.8/dist-packages/sklearn/linear_model/_logistic.py:814: ConvergenceWarning: lbfgs failed to converge (status=1):\n",
            "STOP: TOTAL NO. of ITERATIONS REACHED LIMIT.\n",
            "\n",
            "Increase the number of iterations (max_iter) or scale the data as shown in:\n",
            "    https://scikit-learn.org/stable/modules/preprocessing.html\n",
            "Please also refer to the documentation for alternative solver options:\n",
            "    https://scikit-learn.org/stable/modules/linear_model.html#logistic-regression\n",
            "  n_iter_i = _check_optimize_result(\n",
            "/usr/local/lib/python3.8/dist-packages/sklearn/linear_model/_logistic.py:814: ConvergenceWarning: lbfgs failed to converge (status=1):\n",
            "STOP: TOTAL NO. of ITERATIONS REACHED LIMIT.\n",
            "\n",
            "Increase the number of iterations (max_iter) or scale the data as shown in:\n",
            "    https://scikit-learn.org/stable/modules/preprocessing.html\n",
            "Please also refer to the documentation for alternative solver options:\n",
            "    https://scikit-learn.org/stable/modules/linear_model.html#logistic-regression\n",
            "  n_iter_i = _check_optimize_result(\n",
            "/usr/local/lib/python3.8/dist-packages/sklearn/linear_model/_logistic.py:814: ConvergenceWarning: lbfgs failed to converge (status=1):\n",
            "STOP: TOTAL NO. of ITERATIONS REACHED LIMIT.\n",
            "\n",
            "Increase the number of iterations (max_iter) or scale the data as shown in:\n",
            "    https://scikit-learn.org/stable/modules/preprocessing.html\n",
            "Please also refer to the documentation for alternative solver options:\n",
            "    https://scikit-learn.org/stable/modules/linear_model.html#logistic-regression\n",
            "  n_iter_i = _check_optimize_result(\n",
            "/usr/local/lib/python3.8/dist-packages/sklearn/linear_model/_logistic.py:814: ConvergenceWarning: lbfgs failed to converge (status=1):\n",
            "STOP: TOTAL NO. of ITERATIONS REACHED LIMIT.\n",
            "\n",
            "Increase the number of iterations (max_iter) or scale the data as shown in:\n",
            "    https://scikit-learn.org/stable/modules/preprocessing.html\n",
            "Please also refer to the documentation for alternative solver options:\n",
            "    https://scikit-learn.org/stable/modules/linear_model.html#logistic-regression\n",
            "  n_iter_i = _check_optimize_result(\n",
            "/usr/local/lib/python3.8/dist-packages/sklearn/linear_model/_logistic.py:814: ConvergenceWarning: lbfgs failed to converge (status=1):\n",
            "STOP: TOTAL NO. of ITERATIONS REACHED LIMIT.\n",
            "\n",
            "Increase the number of iterations (max_iter) or scale the data as shown in:\n",
            "    https://scikit-learn.org/stable/modules/preprocessing.html\n",
            "Please also refer to the documentation for alternative solver options:\n",
            "    https://scikit-learn.org/stable/modules/linear_model.html#logistic-regression\n",
            "  n_iter_i = _check_optimize_result(\n",
            "/usr/local/lib/python3.8/dist-packages/sklearn/linear_model/_logistic.py:814: ConvergenceWarning: lbfgs failed to converge (status=1):\n",
            "STOP: TOTAL NO. of ITERATIONS REACHED LIMIT.\n",
            "\n",
            "Increase the number of iterations (max_iter) or scale the data as shown in:\n",
            "    https://scikit-learn.org/stable/modules/preprocessing.html\n",
            "Please also refer to the documentation for alternative solver options:\n",
            "    https://scikit-learn.org/stable/modules/linear_model.html#logistic-regression\n",
            "  n_iter_i = _check_optimize_result(\n",
            "/usr/local/lib/python3.8/dist-packages/sklearn/linear_model/_logistic.py:814: ConvergenceWarning: lbfgs failed to converge (status=1):\n",
            "STOP: TOTAL NO. of ITERATIONS REACHED LIMIT.\n",
            "\n",
            "Increase the number of iterations (max_iter) or scale the data as shown in:\n",
            "    https://scikit-learn.org/stable/modules/preprocessing.html\n",
            "Please also refer to the documentation for alternative solver options:\n",
            "    https://scikit-learn.org/stable/modules/linear_model.html#logistic-regression\n",
            "  n_iter_i = _check_optimize_result(\n",
            "/usr/local/lib/python3.8/dist-packages/sklearn/linear_model/_logistic.py:814: ConvergenceWarning: lbfgs failed to converge (status=1):\n",
            "STOP: TOTAL NO. of ITERATIONS REACHED LIMIT.\n",
            "\n",
            "Increase the number of iterations (max_iter) or scale the data as shown in:\n",
            "    https://scikit-learn.org/stable/modules/preprocessing.html\n",
            "Please also refer to the documentation for alternative solver options:\n",
            "    https://scikit-learn.org/stable/modules/linear_model.html#logistic-regression\n",
            "  n_iter_i = _check_optimize_result(\n",
            "/usr/local/lib/python3.8/dist-packages/sklearn/linear_model/_logistic.py:814: ConvergenceWarning: lbfgs failed to converge (status=1):\n",
            "STOP: TOTAL NO. of ITERATIONS REACHED LIMIT.\n",
            "\n",
            "Increase the number of iterations (max_iter) or scale the data as shown in:\n",
            "    https://scikit-learn.org/stable/modules/preprocessing.html\n",
            "Please also refer to the documentation for alternative solver options:\n",
            "    https://scikit-learn.org/stable/modules/linear_model.html#logistic-regression\n",
            "  n_iter_i = _check_optimize_result(\n",
            "/usr/local/lib/python3.8/dist-packages/sklearn/linear_model/_logistic.py:814: ConvergenceWarning: lbfgs failed to converge (status=1):\n",
            "STOP: TOTAL NO. of ITERATIONS REACHED LIMIT.\n",
            "\n",
            "Increase the number of iterations (max_iter) or scale the data as shown in:\n",
            "    https://scikit-learn.org/stable/modules/preprocessing.html\n",
            "Please also refer to the documentation for alternative solver options:\n",
            "    https://scikit-learn.org/stable/modules/linear_model.html#logistic-regression\n",
            "  n_iter_i = _check_optimize_result(\n",
            "/usr/local/lib/python3.8/dist-packages/sklearn/linear_model/_logistic.py:814: ConvergenceWarning: lbfgs failed to converge (status=1):\n",
            "STOP: TOTAL NO. of ITERATIONS REACHED LIMIT.\n",
            "\n",
            "Increase the number of iterations (max_iter) or scale the data as shown in:\n",
            "    https://scikit-learn.org/stable/modules/preprocessing.html\n",
            "Please also refer to the documentation for alternative solver options:\n",
            "    https://scikit-learn.org/stable/modules/linear_model.html#logistic-regression\n",
            "  n_iter_i = _check_optimize_result(\n",
            "/usr/local/lib/python3.8/dist-packages/sklearn/linear_model/_logistic.py:814: ConvergenceWarning: lbfgs failed to converge (status=1):\n",
            "STOP: TOTAL NO. of ITERATIONS REACHED LIMIT.\n",
            "\n",
            "Increase the number of iterations (max_iter) or scale the data as shown in:\n",
            "    https://scikit-learn.org/stable/modules/preprocessing.html\n",
            "Please also refer to the documentation for alternative solver options:\n",
            "    https://scikit-learn.org/stable/modules/linear_model.html#logistic-regression\n",
            "  n_iter_i = _check_optimize_result(\n",
            "/usr/local/lib/python3.8/dist-packages/sklearn/linear_model/_logistic.py:814: ConvergenceWarning: lbfgs failed to converge (status=1):\n",
            "STOP: TOTAL NO. of ITERATIONS REACHED LIMIT.\n",
            "\n",
            "Increase the number of iterations (max_iter) or scale the data as shown in:\n",
            "    https://scikit-learn.org/stable/modules/preprocessing.html\n",
            "Please also refer to the documentation for alternative solver options:\n",
            "    https://scikit-learn.org/stable/modules/linear_model.html#logistic-regression\n",
            "  n_iter_i = _check_optimize_result(\n",
            "/usr/local/lib/python3.8/dist-packages/sklearn/linear_model/_logistic.py:814: ConvergenceWarning: lbfgs failed to converge (status=1):\n",
            "STOP: TOTAL NO. of ITERATIONS REACHED LIMIT.\n",
            "\n",
            "Increase the number of iterations (max_iter) or scale the data as shown in:\n",
            "    https://scikit-learn.org/stable/modules/preprocessing.html\n",
            "Please also refer to the documentation for alternative solver options:\n",
            "    https://scikit-learn.org/stable/modules/linear_model.html#logistic-regression\n",
            "  n_iter_i = _check_optimize_result(\n",
            "/usr/local/lib/python3.8/dist-packages/sklearn/linear_model/_logistic.py:814: ConvergenceWarning: lbfgs failed to converge (status=1):\n",
            "STOP: TOTAL NO. of ITERATIONS REACHED LIMIT.\n",
            "\n",
            "Increase the number of iterations (max_iter) or scale the data as shown in:\n",
            "    https://scikit-learn.org/stable/modules/preprocessing.html\n",
            "Please also refer to the documentation for alternative solver options:\n",
            "    https://scikit-learn.org/stable/modules/linear_model.html#logistic-regression\n",
            "  n_iter_i = _check_optimize_result(\n",
            "/usr/local/lib/python3.8/dist-packages/sklearn/linear_model/_logistic.py:814: ConvergenceWarning: lbfgs failed to converge (status=1):\n",
            "STOP: TOTAL NO. of ITERATIONS REACHED LIMIT.\n",
            "\n",
            "Increase the number of iterations (max_iter) or scale the data as shown in:\n",
            "    https://scikit-learn.org/stable/modules/preprocessing.html\n",
            "Please also refer to the documentation for alternative solver options:\n",
            "    https://scikit-learn.org/stable/modules/linear_model.html#logistic-regression\n",
            "  n_iter_i = _check_optimize_result(\n",
            "/usr/local/lib/python3.8/dist-packages/sklearn/linear_model/_logistic.py:814: ConvergenceWarning: lbfgs failed to converge (status=1):\n",
            "STOP: TOTAL NO. of ITERATIONS REACHED LIMIT.\n",
            "\n",
            "Increase the number of iterations (max_iter) or scale the data as shown in:\n",
            "    https://scikit-learn.org/stable/modules/preprocessing.html\n",
            "Please also refer to the documentation for alternative solver options:\n",
            "    https://scikit-learn.org/stable/modules/linear_model.html#logistic-regression\n",
            "  n_iter_i = _check_optimize_result(\n",
            "/usr/local/lib/python3.8/dist-packages/sklearn/linear_model/_logistic.py:814: ConvergenceWarning: lbfgs failed to converge (status=1):\n",
            "STOP: TOTAL NO. of ITERATIONS REACHED LIMIT.\n",
            "\n",
            "Increase the number of iterations (max_iter) or scale the data as shown in:\n",
            "    https://scikit-learn.org/stable/modules/preprocessing.html\n",
            "Please also refer to the documentation for alternative solver options:\n",
            "    https://scikit-learn.org/stable/modules/linear_model.html#logistic-regression\n",
            "  n_iter_i = _check_optimize_result(\n",
            "/usr/local/lib/python3.8/dist-packages/sklearn/linear_model/_logistic.py:814: ConvergenceWarning: lbfgs failed to converge (status=1):\n",
            "STOP: TOTAL NO. of ITERATIONS REACHED LIMIT.\n",
            "\n",
            "Increase the number of iterations (max_iter) or scale the data as shown in:\n",
            "    https://scikit-learn.org/stable/modules/preprocessing.html\n",
            "Please also refer to the documentation for alternative solver options:\n",
            "    https://scikit-learn.org/stable/modules/linear_model.html#logistic-regression\n",
            "  n_iter_i = _check_optimize_result(\n",
            "/usr/local/lib/python3.8/dist-packages/sklearn/linear_model/_logistic.py:814: ConvergenceWarning: lbfgs failed to converge (status=1):\n",
            "STOP: TOTAL NO. of ITERATIONS REACHED LIMIT.\n",
            "\n",
            "Increase the number of iterations (max_iter) or scale the data as shown in:\n",
            "    https://scikit-learn.org/stable/modules/preprocessing.html\n",
            "Please also refer to the documentation for alternative solver options:\n",
            "    https://scikit-learn.org/stable/modules/linear_model.html#logistic-regression\n",
            "  n_iter_i = _check_optimize_result(\n",
            "/usr/local/lib/python3.8/dist-packages/sklearn/linear_model/_logistic.py:814: ConvergenceWarning: lbfgs failed to converge (status=1):\n",
            "STOP: TOTAL NO. of ITERATIONS REACHED LIMIT.\n",
            "\n",
            "Increase the number of iterations (max_iter) or scale the data as shown in:\n",
            "    https://scikit-learn.org/stable/modules/preprocessing.html\n",
            "Please also refer to the documentation for alternative solver options:\n",
            "    https://scikit-learn.org/stable/modules/linear_model.html#logistic-regression\n",
            "  n_iter_i = _check_optimize_result(\n",
            "/usr/local/lib/python3.8/dist-packages/sklearn/linear_model/_logistic.py:814: ConvergenceWarning: lbfgs failed to converge (status=1):\n",
            "STOP: TOTAL NO. of ITERATIONS REACHED LIMIT.\n",
            "\n",
            "Increase the number of iterations (max_iter) or scale the data as shown in:\n",
            "    https://scikit-learn.org/stable/modules/preprocessing.html\n",
            "Please also refer to the documentation for alternative solver options:\n",
            "    https://scikit-learn.org/stable/modules/linear_model.html#logistic-regression\n",
            "  n_iter_i = _check_optimize_result(\n",
            "/usr/local/lib/python3.8/dist-packages/sklearn/linear_model/_logistic.py:814: ConvergenceWarning: lbfgs failed to converge (status=1):\n",
            "STOP: TOTAL NO. of ITERATIONS REACHED LIMIT.\n",
            "\n",
            "Increase the number of iterations (max_iter) or scale the data as shown in:\n",
            "    https://scikit-learn.org/stable/modules/preprocessing.html\n",
            "Please also refer to the documentation for alternative solver options:\n",
            "    https://scikit-learn.org/stable/modules/linear_model.html#logistic-regression\n",
            "  n_iter_i = _check_optimize_result(\n",
            "/usr/local/lib/python3.8/dist-packages/sklearn/linear_model/_logistic.py:814: ConvergenceWarning: lbfgs failed to converge (status=1):\n",
            "STOP: TOTAL NO. of ITERATIONS REACHED LIMIT.\n",
            "\n",
            "Increase the number of iterations (max_iter) or scale the data as shown in:\n",
            "    https://scikit-learn.org/stable/modules/preprocessing.html\n",
            "Please also refer to the documentation for alternative solver options:\n",
            "    https://scikit-learn.org/stable/modules/linear_model.html#logistic-regression\n",
            "  n_iter_i = _check_optimize_result(\n",
            "/usr/local/lib/python3.8/dist-packages/sklearn/linear_model/_logistic.py:814: ConvergenceWarning: lbfgs failed to converge (status=1):\n",
            "STOP: TOTAL NO. of ITERATIONS REACHED LIMIT.\n",
            "\n",
            "Increase the number of iterations (max_iter) or scale the data as shown in:\n",
            "    https://scikit-learn.org/stable/modules/preprocessing.html\n",
            "Please also refer to the documentation for alternative solver options:\n",
            "    https://scikit-learn.org/stable/modules/linear_model.html#logistic-regression\n",
            "  n_iter_i = _check_optimize_result(\n",
            "/usr/local/lib/python3.8/dist-packages/sklearn/linear_model/_logistic.py:814: ConvergenceWarning: lbfgs failed to converge (status=1):\n",
            "STOP: TOTAL NO. of ITERATIONS REACHED LIMIT.\n",
            "\n",
            "Increase the number of iterations (max_iter) or scale the data as shown in:\n",
            "    https://scikit-learn.org/stable/modules/preprocessing.html\n",
            "Please also refer to the documentation for alternative solver options:\n",
            "    https://scikit-learn.org/stable/modules/linear_model.html#logistic-regression\n",
            "  n_iter_i = _check_optimize_result(\n",
            "/usr/local/lib/python3.8/dist-packages/sklearn/linear_model/_logistic.py:814: ConvergenceWarning: lbfgs failed to converge (status=1):\n",
            "STOP: TOTAL NO. of ITERATIONS REACHED LIMIT.\n",
            "\n",
            "Increase the number of iterations (max_iter) or scale the data as shown in:\n",
            "    https://scikit-learn.org/stable/modules/preprocessing.html\n",
            "Please also refer to the documentation for alternative solver options:\n",
            "    https://scikit-learn.org/stable/modules/linear_model.html#logistic-regression\n",
            "  n_iter_i = _check_optimize_result(\n",
            "/usr/local/lib/python3.8/dist-packages/sklearn/linear_model/_logistic.py:814: ConvergenceWarning: lbfgs failed to converge (status=1):\n",
            "STOP: TOTAL NO. of ITERATIONS REACHED LIMIT.\n",
            "\n",
            "Increase the number of iterations (max_iter) or scale the data as shown in:\n",
            "    https://scikit-learn.org/stable/modules/preprocessing.html\n",
            "Please also refer to the documentation for alternative solver options:\n",
            "    https://scikit-learn.org/stable/modules/linear_model.html#logistic-regression\n",
            "  n_iter_i = _check_optimize_result(\n",
            "/usr/local/lib/python3.8/dist-packages/sklearn/linear_model/_logistic.py:814: ConvergenceWarning: lbfgs failed to converge (status=1):\n",
            "STOP: TOTAL NO. of ITERATIONS REACHED LIMIT.\n",
            "\n",
            "Increase the number of iterations (max_iter) or scale the data as shown in:\n",
            "    https://scikit-learn.org/stable/modules/preprocessing.html\n",
            "Please also refer to the documentation for alternative solver options:\n",
            "    https://scikit-learn.org/stable/modules/linear_model.html#logistic-regression\n",
            "  n_iter_i = _check_optimize_result(\n",
            "/usr/local/lib/python3.8/dist-packages/sklearn/linear_model/_logistic.py:814: ConvergenceWarning: lbfgs failed to converge (status=1):\n",
            "STOP: TOTAL NO. of ITERATIONS REACHED LIMIT.\n",
            "\n",
            "Increase the number of iterations (max_iter) or scale the data as shown in:\n",
            "    https://scikit-learn.org/stable/modules/preprocessing.html\n",
            "Please also refer to the documentation for alternative solver options:\n",
            "    https://scikit-learn.org/stable/modules/linear_model.html#logistic-regression\n",
            "  n_iter_i = _check_optimize_result(\n",
            "/usr/local/lib/python3.8/dist-packages/sklearn/linear_model/_logistic.py:814: ConvergenceWarning: lbfgs failed to converge (status=1):\n",
            "STOP: TOTAL NO. of ITERATIONS REACHED LIMIT.\n",
            "\n",
            "Increase the number of iterations (max_iter) or scale the data as shown in:\n",
            "    https://scikit-learn.org/stable/modules/preprocessing.html\n",
            "Please also refer to the documentation for alternative solver options:\n",
            "    https://scikit-learn.org/stable/modules/linear_model.html#logistic-regression\n",
            "  n_iter_i = _check_optimize_result(\n"
          ]
        },
        {
          "output_type": "stream",
          "name": "stdout",
          "text": [
            "CPU times: user 5.16 s, sys: 3.79 s, total: 8.95 s\n",
            "Wall time: 4.8 s\n"
          ]
        },
        {
          "output_type": "stream",
          "name": "stderr",
          "text": [
            "/usr/local/lib/python3.8/dist-packages/sklearn/linear_model/_logistic.py:814: ConvergenceWarning: lbfgs failed to converge (status=1):\n",
            "STOP: TOTAL NO. of ITERATIONS REACHED LIMIT.\n",
            "\n",
            "Increase the number of iterations (max_iter) or scale the data as shown in:\n",
            "    https://scikit-learn.org/stable/modules/preprocessing.html\n",
            "Please also refer to the documentation for alternative solver options:\n",
            "    https://scikit-learn.org/stable/modules/linear_model.html#logistic-regression\n",
            "  n_iter_i = _check_optimize_result(\n"
          ]
        }
      ]
    },
    {
      "cell_type": "code",
      "source": [
        "# Predict probabilities for X_train and X_val\n",
        "lr_train_pred_probability = lr.predict_proba(X_train)\n",
        "lr_val_pred_probability = lr.predict_proba(X_val)"
      ],
      "metadata": {
        "id": "Y7QZQTSPQwP4"
      },
      "execution_count": null,
      "outputs": []
    },
    {
      "cell_type": "code",
      "source": [
        "# Lets compare model prediction performance on train and Validation both.\n",
        "import matplotlib.pyplot as plt\n",
        "import seaborn as sns\n",
        "\n",
        "fig = plt.figure(figsize=(12,8))\n",
        "\n",
        "sns.distplot(lr.predict_proba(X_train)[:,1],color='darkblue')\n",
        "sns.distplot(lr.predict_proba(X_val)[:,1],color='firebrick')\n",
        "plt.title('Predictions of Train and Validation ')\n",
        "plt.xlim([0, 1])\n",
        "\n",
        "plt.tight_layout()\n",
        "\n",
        "plt.show()"
      ],
      "metadata": {
        "id": "C4XER795arzb",
        "colab": {
          "base_uri": "https://localhost:8080/",
          "height": 619
        },
        "outputId": "b9929f45-9140-4b65-dd23-bfc6f9b43ab9"
      },
      "execution_count": null,
      "outputs": [
        {
          "output_type": "stream",
          "name": "stderr",
          "text": [
            "/usr/local/lib/python3.8/dist-packages/seaborn/distributions.py:2619: FutureWarning: `distplot` is a deprecated function and will be removed in a future version. Please adapt your code to use either `displot` (a figure-level function with similar flexibility) or `histplot` (an axes-level function for histograms).\n",
            "  warnings.warn(msg, FutureWarning)\n",
            "/usr/local/lib/python3.8/dist-packages/seaborn/distributions.py:2619: FutureWarning: `distplot` is a deprecated function and will be removed in a future version. Please adapt your code to use either `displot` (a figure-level function with similar flexibility) or `histplot` (an axes-level function for histograms).\n",
            "  warnings.warn(msg, FutureWarning)\n"
          ]
        },
        {
          "output_type": "display_data",
          "data": {
            "text/plain": [
              "<Figure size 864x576 with 1 Axes>"
            ],
            "image/png": "[encoded data removed]"
          },
          "metadata": {
            "needs_background": "light"
          }
        }
      ]
    },
    {
      "cell_type": "code",
      "source": [
        "from sklearn.metrics import roc_curve, auc, precision_recall_curve\n",
        "fpr, tpr, thresholds = roc_curve(y_val,lr.predict_proba(X_val)[:,1])         \n",
        "roc_auc = auc(fpr, tpr)\n",
        "\n",
        "plt.figure()\n",
        "plt.plot(fpr, tpr, color='darkorange', lw=1, label='ROC curve (AUC = %0.2f)' % roc_auc)\n",
        "plt.plot([0, 1], [0, 1], color='navy', lw=1, linestyle='--')\n",
        "\n",
        "for label in range(1,10,1):\n",
        "    plt.text((10-label)/10,(10-label)/10,thresholds[label*15],fontdict={'size': 14})\n",
        "\n",
        "plt.xlim([0.0, 1.0])\n",
        "plt.ylim([0.0, 1.05])\n",
        "plt.xlabel('False Positive Rate')\n",
        "plt.ylabel('True Positive Rate')\n",
        "plt.title('Receiver operating characteristic')\n",
        "plt.legend(loc=\"lower right\")\n",
        "plt.show()"
      ],
      "metadata": {
        "id": "9pH-gCH_a-mk",
        "colab": {
          "base_uri": "https://localhost:8080/",
          "height": 316
        },
        "outputId": "bfeb06a9-ef7c-4c89-aa8b-c26530ff2970"
      },
      "execution_count": null,
      "outputs": [
        {
          "output_type": "display_data",
          "data": {
            "text/plain": [
              "<Figure size 432x288 with 1 Axes>"
            ],
            "image/png": "[encoded data removed]"
          },
          "metadata": {
            "needs_background": "light"
          }
        }
      ]
    },
    {
      "cell_type": "code",
      "source": [
        "## Lets Check precision and recall \n",
        "precision, recall, _ = precision_recall_curve(y_val, lr.predict_proba(X_val)[:,1])\n",
        "\n",
        "plt.plot(precision,recall)\n",
        "plt.xlabel('Recall')\n",
        "plt.ylabel('Precision')\n",
        "plt.title('Precision Vs Recall')"
      ],
      "metadata": {
        "id": "mdWP2RD2bgfZ",
        "colab": {
          "base_uri": "https://localhost:8080/",
          "height": 333
        },
        "outputId": "0f1a12e5-f2f6-47b9-9c61-028aed6aaecb"
      },
      "execution_count": null,
      "outputs": [
        {
          "output_type": "execute_result",
          "data": {
            "text/plain": [
              "Text(0.5, 1.0, 'Precision Vs Recall')"
            ]
          },
          "metadata": {},
          "execution_count": 94
        },
        {
          "output_type": "display_data",
          "data": {
            "text/plain": [
              "<Figure size 432x288 with 1 Axes>"
            ],
            "image/png": "[encoded data removed]"
          },
          "metadata": {
            "needs_background": "light"
          }
        }
      ]
    },
    {
      "cell_type": "code",
      "source": [
        "lr_train_pred_60=(lr.predict_proba(X_train)[:,1]>0.60).astype(bool)\n",
        "lr_val_pred_60=(lr.predict_proba(X_val)[:,1]>0.60).astype(bool)   # set threshold as 0.60"
      ],
      "metadata": {
        "id": "ej-BiNJEgEkx"
      },
      "execution_count": null,
      "outputs": []
    },
    {
      "cell_type": "code",
      "source": [
        "#Confusion matrix, Accuracy, sensitivity and specificity\n",
        "\n",
        "from sklearn.metrics import confusion_matrix,accuracy_score,cohen_kappa_score,roc_auc_score,f1_score,auc\n",
        "\n",
        "cm0 = confusion_matrix(y_train, lr_train_pred_60,labels=[1,0])\n",
        "print('Confusion Matrix Train : \\n', cm0)\n",
        "\n",
        "cm1 = confusion_matrix(y_val, lr_val_pred_60,labels=[1,0])\n",
        "print('Confusion Matrix Val: \\n', cm1)\n",
        "\n",
        "total0=sum(sum(cm0))\n",
        "total1=sum(sum(cm1))\n",
        "#####from confusion matrix calculate accuracy\n",
        "accuracy0=(cm0[0,0]+cm0[1,1])/total0\n",
        "print ('Accuracy Train: ', accuracy0)\n",
        "\n",
        "accuracy1=(cm1[0,0]+cm1[1,1])/total1\n",
        "print ('Accuracy Val: ', accuracy1)\n",
        "\n",
        "sensitivity0 = cm0[0,0]/(cm0[0,0]+cm0[0,1])\n",
        "print('Sensitivity Train : ', sensitivity0 )\n",
        "\n",
        "sensitivity1 = cm1[0,0]/(cm1[0,0]+cm1[0,1])\n",
        "print('Sensitivity Val: ', sensitivity1 )\n",
        "\n",
        "\n",
        "specificity0 = cm0[1,1]/(cm0[1,0]+cm0[1,1])\n",
        "print('Specificity Train: ', specificity0)\n",
        "\n",
        "specificity1 = cm1[1,1]/(cm1[1,0]+cm1[1,1])\n",
        "print('Specificity Val: ', specificity1)\n",
        "\n",
        "KappaValue=cohen_kappa_score(y_val, lr_val_pred_60)\n",
        "print(\"Kappa Value :\",KappaValue)\n",
        "AUC=roc_auc_score(y_val, lr_val_pred_60)\n",
        "\n",
        "print(\"AUC         :\",AUC)\n",
        "\n",
        "print(\"F1-Score Train  : \",f1_score(y_train, lr_train_pred_60))\n",
        "\n",
        "print(\"F1-Score Val  : \",f1_score(y_val, lr_val_pred_60))"
      ],
      "metadata": {
        "id": "ULpIJgjab458",
        "colab": {
          "base_uri": "https://localhost:8080/"
        },
        "outputId": "e7226658-b8bf-4c9f-d08a-f4c8766dc62b"
      },
      "execution_count": null,
      "outputs": [
        {
          "output_type": "stream",
          "name": "stdout",
          "text": [
            "Confusion Matrix Train : \n",
            " [[ 171  183]\n",
            " [  89 3344]]\n",
            "Confusion Matrix Val: \n",
            " [[  68   84]\n",
            " [  41 1430]]\n",
            "Accuracy Train:  0.9281753366781094\n",
            "Accuracy Val:  0.9229821318545902\n",
            "Sensitivity Train :  0.4830508474576271\n",
            "Sensitivity Val:  0.4473684210526316\n",
            "Specificity Train:  0.9740751529274687\n",
            "Specificity Val:  0.9721278042148198\n",
            "Kappa Value : 0.48042984426340773\n",
            "AUC         : 0.7097481126337257\n",
            "F1-Score Train  :  0.5570032573289903\n",
            "F1-Score Val  :  0.521072796934866\n"
          ]
        }
      ]
    },
    {
      "cell_type": "markdown",
      "source": [
        "# Model II: Support Vector Machines"
      ],
      "metadata": {
        "id": "Z0_uYY1S3KwV"
      }
    },
    {
      "cell_type": "code",
      "source": [
        "%%time\n",
        "from sklearn.svm import LinearSVC\n",
        "\n",
        "svm_model = LinearSVC(random_state=0, tol=1e-5) # YOUR CODE HERE \n",
        "svm_model.fit(X_train, y_train)\n",
        "svm_pred = svm_model.predict(X_val)"
      ],
      "metadata": {
        "id": "gOWQjrRod_aF",
        "colab": {
          "base_uri": "https://localhost:8080/"
        },
        "outputId": "4dbe2b02-f8f3-4461-c399-ac3118f9bddd"
      },
      "execution_count": null,
      "outputs": [
        {
          "output_type": "stream",
          "name": "stdout",
          "text": [
            "CPU times: user 555 ms, sys: 8.8 ms, total: 564 ms\n",
            "Wall time: 553 ms\n"
          ]
        },
        {
          "output_type": "stream",
          "name": "stderr",
          "text": [
            "/usr/local/lib/python3.8/dist-packages/sklearn/svm/_base.py:1206: ConvergenceWarning: Liblinear failed to converge, increase the number of iterations.\n",
            "  warnings.warn(\n"
          ]
        }
      ]
    },
    {
      "cell_type": "code",
      "source": [
        "from sklearn.metrics import (\n",
        "    confusion_matrix,\n",
        "    accuracy_score as accuracy,\n",
        "    recall_score as recall,\n",
        "    precision_score as precision,\n",
        "    f1_score\n",
        ")\n",
        "\n",
        "def display_metrics(y_true, y_pred):\n",
        "    print(f\"Confusion Matrix: \\n{confusion_matrix(y_true, y_pred)}\")\n",
        "    print(f\"F1 Score: {f1_score(y_true, y_pred):.3f}\")\n",
        "    print(f\"Accuracy: {accuracy(y_true, y_pred):.3f}\")\n",
        "    print(f\"Recall: {recall(y_true, y_pred):.3f}\")\n",
        "    print(f\"Precision: {precision(y_true, y_pred):.3f}\")"
      ],
      "metadata": {
        "id": "t9NQpVhF5FsU"
      },
      "execution_count": null,
      "outputs": []
    },
    {
      "cell_type": "code",
      "source": [
        "display_metrics(y_val, svm_pred)"
      ],
      "metadata": {
        "id": "ZkSvQSdO5bZ3",
        "colab": {
          "base_uri": "https://localhost:8080/"
        },
        "outputId": "0a3e6a70-66ee-41d9-b088-0fcb0f8c1937"
      },
      "execution_count": null,
      "outputs": [
        {
          "output_type": "stream",
          "name": "stdout",
          "text": [
            "Confusion Matrix: \n",
            "[[1454   17]\n",
            " [  96   56]]\n",
            "F1 Score: 0.498\n",
            "Accuracy: 0.930\n",
            "Recall: 0.368\n",
            "Precision: 0.767\n"
          ]
        }
      ]
    },
    {
      "cell_type": "markdown",
      "source": [
        "# Model III: Gradient Boosting Classifier"
      ],
      "metadata": {
        "id": "DGrrFY376x1G"
      }
    },
    {
      "cell_type": "code",
      "source": [
        "%%time\n",
        "from sklearn.ensemble import GradientBoostingClassifier\n",
        "\n",
        "gbt_model = GradientBoostingClassifier(n_estimators=100, learning_rate=1.0, max_depth=1, random_state=42) # YOUR CODE HERE\n",
        "gbt_model.fit(X_train, y_train)\n",
        "gbt_pred = gbt_model.predict(X_val)"
      ],
      "metadata": {
        "id": "kx1JVFwx34t-",
        "colab": {
          "base_uri": "https://localhost:8080/"
        },
        "outputId": "abb17839-dced-464a-fa75-94627eec6697"
      },
      "execution_count": null,
      "outputs": [
        {
          "output_type": "stream",
          "name": "stdout",
          "text": [
            "CPU times: user 922 ms, sys: 51.6 ms, total: 974 ms\n",
            "Wall time: 1.07 s\n"
          ]
        }
      ]
    },
    {
      "cell_type": "code",
      "source": [
        "display_metrics(y_val, gbt_pred)"
      ],
      "metadata": {
        "id": "cn9Hhcpa7DKQ",
        "colab": {
          "base_uri": "https://localhost:8080/"
        },
        "outputId": "080639b6-c3a0-4737-9919-5b6b1d8b7102"
      },
      "execution_count": null,
      "outputs": [
        {
          "output_type": "stream",
          "name": "stdout",
          "text": [
            "Confusion Matrix: \n",
            "[[1401   70]\n",
            " [  60   92]]\n",
            "F1 Score: 0.586\n",
            "Accuracy: 0.920\n",
            "Recall: 0.605\n",
            "Precision: 0.568\n"
          ]
        }
      ]
    },
    {
      "cell_type": "code",
      "source": [
        "pickle.dump(gbt_model, open('gbt_model.pkl', 'wb'))"
      ],
      "metadata": {
        "id": "JcCO0dSrNKtr"
      },
      "execution_count": null,
      "outputs": []
    },
    {
      "cell_type": "markdown",
      "source": [
        "# SHAP Explanability"
      ],
      "metadata": {
        "id": "yLFsTp328K9c"
      }
    },
    {
      "cell_type": "code",
      "source": [
        "pip install shap"
      ],
      "metadata": {
        "id": "Qrqdrjb68jW5",
        "colab": {
          "base_uri": "https://localhost:8080/"
        },
        "outputId": "89b9b54b-744a-43f5-ded1-b5a3a1a2cce1"
      },
      "execution_count": null,
      "outputs": [
        {
          "output_type": "stream",
          "name": "stdout",
          "text": [
            "Looking in indexes: https://pypi.org/simple, https://us-python.pkg.dev/colab-wheels/public/simple/\n",
            "Collecting shap\n",
            "  Downloading shap-0.41.0-cp38-cp38-manylinux_2_12_x86_64.manylinux2010_x86_64.whl (575 kB)\n",
            "\u001b[2K     \u001b[90m━━━━━━━━━━━━━━━━━━━━━━━━━━━━━━━━━━━━━━\u001b[0m \u001b[32m575.9/575.9 KB\u001b[0m \u001b[31m14.9 MB/s\u001b[0m eta \u001b[36m0:00:00\u001b[0m\n",
            "\u001b[?25hRequirement already satisfied: numba in /usr/local/lib/python3.8/dist-packages (from shap) (0.56.4)\n",
            "Requirement already satisfied: scipy in /usr/local/lib/python3.8/dist-packages (from shap) (1.7.3)\n",
            "Collecting slicer==0.0.7\n",
            "  Downloading slicer-0.0.7-py3-none-any.whl (14 kB)\n",
            "Requirement already satisfied: scikit-learn in /usr/local/lib/python3.8/dist-packages (from shap) (1.0.2)\n",
            "Requirement already satisfied: cloudpickle in /usr/local/lib/python3.8/dist-packages (from shap) (2.2.0)\n",
            "Requirement already satisfied: tqdm>4.25.0 in /usr/local/lib/python3.8/dist-packages (from shap) (4.64.1)\n",
            "Requirement already satisfied: packaging>20.9 in /usr/local/lib/python3.8/dist-packages (from shap) (21.3)\n",
            "Requirement already satisfied: numpy in /usr/local/lib/python3.8/dist-packages (from shap) (1.21.6)\n",
            "Requirement already satisfied: pandas in /usr/local/lib/python3.8/dist-packages (from shap) (1.3.5)\n",
            "Requirement already satisfied: pyparsing!=3.0.5,>=2.0.2 in /usr/local/lib/python3.8/dist-packages (from packaging>20.9->shap) (3.0.9)\n",
            "Requirement already satisfied: importlib-metadata in /usr/local/lib/python3.8/dist-packages (from numba->shap) (6.0.0)\n",
            "Requirement already satisfied: llvmlite<0.40,>=0.39.0dev0 in /usr/local/lib/python3.8/dist-packages (from numba->shap) (0.39.1)\n",
            "Requirement already satisfied: setuptools in /usr/local/lib/python3.8/dist-packages (from numba->shap) (57.4.0)\n",
            "Requirement already satisfied: pytz>=2017.3 in /usr/local/lib/python3.8/dist-packages (from pandas->shap) (2022.7)\n",
            "Requirement already satisfied: python-dateutil>=2.7.3 in /usr/local/lib/python3.8/dist-packages (from pandas->shap) (2.8.2)\n",
            "Requirement already satisfied: joblib>=0.11 in /usr/local/lib/python3.8/dist-packages (from scikit-learn->shap) (1.2.0)\n",
            "Requirement already satisfied: threadpoolctl>=2.0.0 in /usr/local/lib/python3.8/dist-packages (from scikit-learn->shap) (3.1.0)\n",
            "Requirement already satisfied: six>=1.5 in /usr/local/lib/python3.8/dist-packages (from python-dateutil>=2.7.3->pandas->shap) (1.15.0)\n",
            "Requirement already satisfied: zipp>=0.5 in /usr/local/lib/python3.8/dist-packages (from importlib-metadata->numba->shap) (3.11.0)\n",
            "Installing collected packages: slicer, shap\n",
            "Successfully installed shap-0.41.0 slicer-0.0.7\n"
          ]
        }
      ]
    },
    {
      "cell_type": "code",
      "source": [
        "import shap\n",
        "X_train_summary = shap.kmeans(X_train, 10)"
      ],
      "metadata": {
        "id": "fWmJSJUW7HJF"
      },
      "execution_count": null,
      "outputs": []
    },
    {
      "cell_type": "code",
      "source": [
        "explainer = shap.KernelExplainer(gbt_model.predict, X_train_summary)"
      ],
      "metadata": {
        "id": "wuT1AbVW8UeL"
      },
      "execution_count": null,
      "outputs": []
    },
    {
      "cell_type": "code",
      "source": [
        "%%time\n",
        "shap_values = explainer.shap_values(y_val.iloc[0, :]) # YOUR CODE HERE"
      ],
      "metadata": {
        "id": "OpSBC9vy81kM",
        "colab": {
          "base_uri": "https://localhost:8080/",
          "height": 454
        },
        "outputId": "3170d253-1cec-48e5-bfba-05589321d41f"
      },
      "execution_count": null,
      "outputs": [
        {
          "output_type": "error",
          "ename": "IndexingError",
          "evalue": "ignored",
          "traceback": [
            "\u001b[0;31m---------------------------------------------------------------------------\u001b[0m",
            "\u001b[0;31mIndexingError\u001b[0m                             Traceback (most recent call last)",
            "\u001b[0;32m<timed exec>\u001b[0m in \u001b[0;36m<module>\u001b[0;34m\u001b[0m\n",
            "\u001b[0;32m/usr/local/lib/python3.8/dist-packages/pandas/core/indexing.py\u001b[0m in \u001b[0;36m__getitem__\u001b[0;34m(self, key)\u001b[0m\n\u001b[1;32m    923\u001b[0m                 \u001b[0;32mwith\u001b[0m \u001b[0msuppress\u001b[0m\u001b[0;34m(\u001b[0m\u001b[0mKeyError\u001b[0m\u001b[0;34m,\u001b[0m \u001b[0mIndexError\u001b[0m\u001b[0;34m)\u001b[0m\u001b[0;34m:\u001b[0m\u001b[0;34m\u001b[0m\u001b[0;34m\u001b[0m\u001b[0m\n\u001b[1;32m    924\u001b[0m                     \u001b[0;32mreturn\u001b[0m \u001b[0mself\u001b[0m\u001b[0;34m.\u001b[0m\u001b[0mobj\u001b[0m\u001b[0;34m.\u001b[0m\u001b[0m_get_value\u001b[0m\u001b[0;34m(\u001b[0m\u001b[0;34m*\u001b[0m\u001b[0mkey\u001b[0m\u001b[0;34m,\u001b[0m \u001b[0mtakeable\u001b[0m\u001b[0;34m=\u001b[0m\u001b[0mself\u001b[0m\u001b[0;34m.\u001b[0m\u001b[0m_takeable\u001b[0m\u001b[0;34m)\u001b[0m\u001b[0;34m\u001b[0m\u001b[0;34m\u001b[0m\u001b[0m\n\u001b[0;32m--> 925\u001b[0;31m             \u001b[0;32mreturn\u001b[0m \u001b[0mself\u001b[0m\u001b[0;34m.\u001b[0m\u001b[0m_getitem_tuple\u001b[0m\u001b[0;34m(\u001b[0m\u001b[0mkey\u001b[0m\u001b[0;34m)\u001b[0m\u001b[0;34m\u001b[0m\u001b[0;34m\u001b[0m\u001b[0m\n\u001b[0m\u001b[1;32m    926\u001b[0m         \u001b[0;32melse\u001b[0m\u001b[0;34m:\u001b[0m\u001b[0;34m\u001b[0m\u001b[0;34m\u001b[0m\u001b[0m\n\u001b[1;32m    927\u001b[0m             \u001b[0;31m# we by definition only have the 0th axis\u001b[0m\u001b[0;34m\u001b[0m\u001b[0;34m\u001b[0m\u001b[0;34m\u001b[0m\u001b[0m\n",
            "\u001b[0;32m/usr/local/lib/python3.8/dist-packages/pandas/core/indexing.py\u001b[0m in \u001b[0;36m_getitem_tuple\u001b[0;34m(self, tup)\u001b[0m\n\u001b[1;32m   1504\u001b[0m     \u001b[0;32mdef\u001b[0m \u001b[0m_getitem_tuple\u001b[0m\u001b[0;34m(\u001b[0m\u001b[0mself\u001b[0m\u001b[0;34m,\u001b[0m \u001b[0mtup\u001b[0m\u001b[0;34m:\u001b[0m \u001b[0mtuple\u001b[0m\u001b[0;34m)\u001b[0m\u001b[0;34m:\u001b[0m\u001b[0;34m\u001b[0m\u001b[0;34m\u001b[0m\u001b[0m\n\u001b[1;32m   1505\u001b[0m \u001b[0;34m\u001b[0m\u001b[0m\n\u001b[0;32m-> 1506\u001b[0;31m         \u001b[0mself\u001b[0m\u001b[0;34m.\u001b[0m\u001b[0m_has_valid_tuple\u001b[0m\u001b[0;34m(\u001b[0m\u001b[0mtup\u001b[0m\u001b[0;34m)\u001b[0m\u001b[0;34m\u001b[0m\u001b[0;34m\u001b[0m\u001b[0m\n\u001b[0m\u001b[1;32m   1507\u001b[0m         \u001b[0;32mwith\u001b[0m \u001b[0msuppress\u001b[0m\u001b[0;34m(\u001b[0m\u001b[0mIndexingError\u001b[0m\u001b[0;34m)\u001b[0m\u001b[0;34m:\u001b[0m\u001b[0;34m\u001b[0m\u001b[0;34m\u001b[0m\u001b[0m\n\u001b[1;32m   1508\u001b[0m             \u001b[0;32mreturn\u001b[0m \u001b[0mself\u001b[0m\u001b[0;34m.\u001b[0m\u001b[0m_getitem_lowerdim\u001b[0m\u001b[0;34m(\u001b[0m\u001b[0mtup\u001b[0m\u001b[0;34m)\u001b[0m\u001b[0;34m\u001b[0m\u001b[0;34m\u001b[0m\u001b[0m\n",
            "\u001b[0;32m/usr/local/lib/python3.8/dist-packages/pandas/core/indexing.py\u001b[0m in \u001b[0;36m_has_valid_tuple\u001b[0;34m(self, key)\u001b[0m\n\u001b[1;32m    749\u001b[0m         \u001b[0mCheck\u001b[0m \u001b[0mthe\u001b[0m \u001b[0mkey\u001b[0m \u001b[0;32mfor\u001b[0m \u001b[0mvalid\u001b[0m \u001b[0mkeys\u001b[0m \u001b[0macross\u001b[0m \u001b[0mmy\u001b[0m \u001b[0mindexer\u001b[0m\u001b[0;34m.\u001b[0m\u001b[0;34m\u001b[0m\u001b[0;34m\u001b[0m\u001b[0m\n\u001b[1;32m    750\u001b[0m         \"\"\"\n\u001b[0;32m--> 751\u001b[0;31m         \u001b[0mself\u001b[0m\u001b[0;34m.\u001b[0m\u001b[0m_validate_key_length\u001b[0m\u001b[0;34m(\u001b[0m\u001b[0mkey\u001b[0m\u001b[0;34m)\u001b[0m\u001b[0;34m\u001b[0m\u001b[0;34m\u001b[0m\u001b[0m\n\u001b[0m\u001b[1;32m    752\u001b[0m         \u001b[0;32mfor\u001b[0m \u001b[0mi\u001b[0m\u001b[0;34m,\u001b[0m \u001b[0mk\u001b[0m \u001b[0;32min\u001b[0m \u001b[0menumerate\u001b[0m\u001b[0;34m(\u001b[0m\u001b[0mkey\u001b[0m\u001b[0;34m)\u001b[0m\u001b[0;34m:\u001b[0m\u001b[0;34m\u001b[0m\u001b[0;34m\u001b[0m\u001b[0m\n\u001b[1;32m    753\u001b[0m             \u001b[0;32mtry\u001b[0m\u001b[0;34m:\u001b[0m\u001b[0;34m\u001b[0m\u001b[0;34m\u001b[0m\u001b[0m\n",
            "\u001b[0;32m/usr/local/lib/python3.8/dist-packages/pandas/core/indexing.py\u001b[0m in \u001b[0;36m_validate_key_length\u001b[0;34m(self, key)\u001b[0m\n\u001b[1;32m    790\u001b[0m     \u001b[0;32mdef\u001b[0m \u001b[0m_validate_key_length\u001b[0m\u001b[0;34m(\u001b[0m\u001b[0mself\u001b[0m\u001b[0;34m,\u001b[0m \u001b[0mkey\u001b[0m\u001b[0;34m:\u001b[0m \u001b[0mSequence\u001b[0m\u001b[0;34m[\u001b[0m\u001b[0mAny\u001b[0m\u001b[0;34m]\u001b[0m\u001b[0;34m)\u001b[0m \u001b[0;34m->\u001b[0m \u001b[0;32mNone\u001b[0m\u001b[0;34m:\u001b[0m\u001b[0;34m\u001b[0m\u001b[0;34m\u001b[0m\u001b[0m\n\u001b[1;32m    791\u001b[0m         \u001b[0;32mif\u001b[0m \u001b[0mlen\u001b[0m\u001b[0;34m(\u001b[0m\u001b[0mkey\u001b[0m\u001b[0;34m)\u001b[0m \u001b[0;34m>\u001b[0m \u001b[0mself\u001b[0m\u001b[0;34m.\u001b[0m\u001b[0mndim\u001b[0m\u001b[0;34m:\u001b[0m\u001b[0;34m\u001b[0m\u001b[0;34m\u001b[0m\u001b[0m\n\u001b[0;32m--> 792\u001b[0;31m             \u001b[0;32mraise\u001b[0m \u001b[0mIndexingError\u001b[0m\u001b[0;34m(\u001b[0m\u001b[0;34m\"Too many indexers\"\u001b[0m\u001b[0;34m)\u001b[0m\u001b[0;34m\u001b[0m\u001b[0;34m\u001b[0m\u001b[0m\n\u001b[0m\u001b[1;32m    793\u001b[0m \u001b[0;34m\u001b[0m\u001b[0m\n\u001b[1;32m    794\u001b[0m     \u001b[0;32mdef\u001b[0m \u001b[0m_getitem_tuple_same_dim\u001b[0m\u001b[0;34m(\u001b[0m\u001b[0mself\u001b[0m\u001b[0;34m,\u001b[0m \u001b[0mtup\u001b[0m\u001b[0;34m:\u001b[0m \u001b[0mtuple\u001b[0m\u001b[0;34m)\u001b[0m\u001b[0;34m:\u001b[0m\u001b[0;34m\u001b[0m\u001b[0;34m\u001b[0m\u001b[0m\n",
            "\u001b[0;31mIndexingError\u001b[0m: Too many indexers"
          ]
        }
      ]
    },
    {
      "cell_type": "markdown",
      "source": [
        "# Auto - ML"
      ],
      "metadata": {
        "id": "-VUB_u1Z9hzd"
      }
    },
    {
      "cell_type": "code",
      "source": [
        "pip install tpot"
      ],
      "metadata": {
        "id": "ImAJKaOU99gl",
        "colab": {
          "base_uri": "https://localhost:8080/"
        },
        "outputId": "c137073e-b21c-40c9-e94c-164eb3f0665d"
      },
      "execution_count": null,
      "outputs": [
        {
          "output_type": "stream",
          "name": "stdout",
          "text": [
            "Looking in indexes: https://pypi.org/simple, https://us-python.pkg.dev/colab-wheels/public/simple/\n",
            "Collecting tpot\n",
            "  Downloading TPOT-0.11.7-py3-none-any.whl (87 kB)\n",
            "\u001b[2K     \u001b[90m━━━━━━━━━━━━━━━━━━━━━━━━━━━━━━━━━━━━━━━━\u001b[0m \u001b[32m87.2/87.2 KB\u001b[0m \u001b[31m4.3 MB/s\u001b[0m eta \u001b[36m0:00:00\u001b[0m\n",
            "\u001b[?25hRequirement already satisfied: scikit-learn>=0.22.0 in /usr/local/lib/python3.8/dist-packages (from tpot) (1.0.2)\n",
            "Requirement already satisfied: tqdm>=4.36.1 in /usr/local/lib/python3.8/dist-packages (from tpot) (4.64.1)\n",
            "Requirement already satisfied: joblib>=0.13.2 in /usr/local/lib/python3.8/dist-packages (from tpot) (1.2.0)\n",
            "Collecting xgboost>=1.1.0\n",
            "  Downloading xgboost-1.7.3-py3-none-manylinux2014_x86_64.whl (193.6 MB)\n",
            "\u001b[2K     \u001b[90m━━━━━━━━━━━━━━━━━━━━━━━━━━━━━━━━━━━━━━━\u001b[0m \u001b[32m193.6/193.6 MB\u001b[0m \u001b[31m3.2 MB/s\u001b[0m eta \u001b[36m0:00:00\u001b[0m\n",
            "\u001b[?25hCollecting deap>=1.2\n",
            "  Downloading deap-1.3.3-cp38-cp38-manylinux_2_5_x86_64.manylinux1_x86_64.manylinux_2_17_x86_64.manylinux2014_x86_64.whl (139 kB)\n",
            "\u001b[2K     \u001b[90m━━━━━━━━━━━━━━━━━━━━━━━━━━━━━━━━━━━━━━\u001b[0m \u001b[32m139.9/139.9 KB\u001b[0m \u001b[31m15.0 MB/s\u001b[0m eta \u001b[36m0:00:00\u001b[0m\n",
            "\u001b[?25hCollecting update-checker>=0.16\n",
            "  Downloading update_checker-0.18.0-py3-none-any.whl (7.0 kB)\n",
            "Requirement already satisfied: scipy>=1.3.1 in /usr/local/lib/python3.8/dist-packages (from tpot) (1.7.3)\n",
            "Requirement already satisfied: numpy>=1.16.3 in /usr/local/lib/python3.8/dist-packages (from tpot) (1.21.6)\n",
            "Requirement already satisfied: pandas>=0.24.2 in /usr/local/lib/python3.8/dist-packages (from tpot) (1.3.5)\n",
            "Collecting stopit>=1.1.1\n",
            "  Downloading stopit-1.1.2.tar.gz (18 kB)\n",
            "  Preparing metadata (setup.py) ... \u001b[?25l\u001b[?25hdone\n",
            "Requirement already satisfied: python-dateutil>=2.7.3 in /usr/local/lib/python3.8/dist-packages (from pandas>=0.24.2->tpot) (2.8.2)\n",
            "Requirement already satisfied: pytz>=2017.3 in /usr/local/lib/python3.8/dist-packages (from pandas>=0.24.2->tpot) (2022.7)\n",
            "Requirement already satisfied: threadpoolctl>=2.0.0 in /usr/local/lib/python3.8/dist-packages (from scikit-learn>=0.22.0->tpot) (3.1.0)\n",
            "Requirement already satisfied: requests>=2.3.0 in /usr/local/lib/python3.8/dist-packages (from update-checker>=0.16->tpot) (2.25.1)\n",
            "Requirement already satisfied: six>=1.5 in /usr/local/lib/python3.8/dist-packages (from python-dateutil>=2.7.3->pandas>=0.24.2->tpot) (1.15.0)\n",
            "Requirement already satisfied: certifi>=2017.4.17 in /usr/local/lib/python3.8/dist-packages (from requests>=2.3.0->update-checker>=0.16->tpot) (2022.12.7)\n",
            "Requirement already satisfied: urllib3<1.27,>=1.21.1 in /usr/local/lib/python3.8/dist-packages (from requests>=2.3.0->update-checker>=0.16->tpot) (1.24.3)\n",
            "Requirement already satisfied: chardet<5,>=3.0.2 in /usr/local/lib/python3.8/dist-packages (from requests>=2.3.0->update-checker>=0.16->tpot) (4.0.0)\n",
            "Requirement already satisfied: idna<3,>=2.5 in /usr/local/lib/python3.8/dist-packages (from requests>=2.3.0->update-checker>=0.16->tpot) (2.10)\n",
            "Building wheels for collected packages: stopit\n",
            "  Building wheel for stopit (setup.py) ... \u001b[?25l\u001b[?25hdone\n",
            "  Created wheel for stopit: filename=stopit-1.1.2-py3-none-any.whl size=11953 sha256=80862fd0daa54a058ea94907d0d6c96467309fcedeffd23c1c63f5b23c024402\n",
            "  Stored in directory: /root/.cache/pip/wheels/a8/bb/8f/6b9328d23c2dcedbfeb8498b9f650d55d463089e3b8fc0bfb2\n",
            "Successfully built stopit\n",
            "Installing collected packages: stopit, deap, xgboost, update-checker, tpot\n",
            "  Attempting uninstall: xgboost\n",
            "    Found existing installation: xgboost 0.90\n",
            "    Uninstalling xgboost-0.90:\n",
            "      Successfully uninstalled xgboost-0.90\n",
            "Successfully installed deap-1.3.3 stopit-1.1.2 tpot-0.11.7 update-checker-0.18.0 xgboost-1.7.3\n"
          ]
        }
      ]
    },
    {
      "cell_type": "code",
      "source": [
        "%%time\n",
        "from tpot import TPOTClassifier\n",
        "tpot = TPOTClassifier(generations=10, \n",
        "                      population_size=16,\n",
        "                      scoring='f1',# YOUR CODE HERE\n",
        "                      verbosity=2,\n",
        "                      random_state=42)\n",
        "tpot.fit(X_train, y_train)\n",
        "print(f\"Tpop score on test data: {tpot.score(X_val, y_val):.2f}\")\n",
        "tpot.export('tpot_electronics_pipeline.py')"
      ],
      "metadata": {
        "id": "hLhqp99M891a",
        "colab": {
          "base_uri": "https://localhost:8080/",
          "height": 471,
          "referenced_widgets": [
            "85bc8b63d0bd47f6b061f330cda34b86",
            "f760d314f46a423899b307b2491655dd",
            "480404ac1ee84239bd4b867ab76dc297",
            "81da2d21d086446ba284481b493dee14",
            "29ea79a5968f48a783a9b0538ed0ea7a",
            "b831f8bf244f40c0a18179654e53865e",
            "c869f659f19240a390575a1a5e4c4495",
            "49d9442b66a347c498cb744aaaaf59c8",
            "b32e9a66d09e435bab9be7cc410d68a0",
            "d739ce65f8ef4193ba0f8eafde173ed3",
            "eea0b7152c6a4d229c14d22faf23b712"
          ]
        },
        "outputId": "57293fbe-f9f3-4ebe-8a7b-d437eceecbeb"
      },
      "execution_count": null,
      "outputs": [
        {
          "output_type": "display_data",
          "data": {
            "text/plain": [
              "Optimization Progress:   0%|          | 0/176 [00:00<?, ?pipeline/s]"
            ],
            "application/vnd.jupyter.widget-view+json": {
              "version_major": 2,
              "version_minor": 0,
              "model_id": "85bc8b63d0bd47f6b061f330cda34b86"
            }
          },
          "metadata": {}
        },
        {
          "output_type": "stream",
          "name": "stdout",
          "text": [
            "\n",
            "Generation 1 - Current best internal CV score: 0.6303894859857846\n",
            "\n",
            "Generation 2 - Current best internal CV score: 0.6303894859857846\n",
            "\n",
            "Generation 3 - Current best internal CV score: 0.6312479724249798\n",
            "\n",
            "Generation 4 - Current best internal CV score: 0.6312536623329061\n",
            "\n",
            "Generation 5 - Current best internal CV score: 0.6392562906783898\n",
            "\n",
            "Generation 6 - Current best internal CV score: 0.6392562906783898\n",
            "\n",
            "Generation 7 - Current best internal CV score: 0.6392562906783898\n",
            "\n",
            "Generation 8 - Current best internal CV score: 0.6392562906783898\n",
            "\n",
            "Generation 9 - Current best internal CV score: 0.6392562906783898\n",
            "\n",
            "Generation 10 - Current best internal CV score: 0.6428878657623389\n",
            "\n",
            "Best pipeline: XGBClassifier(GradientBoostingClassifier(DecisionTreeClassifier(input_matrix, criterion=entropy, max_depth=3, min_samples_leaf=18, min_samples_split=20), learning_rate=1.0, max_depth=1, max_features=0.6000000000000001, min_samples_leaf=19, min_samples_split=5, n_estimators=100, subsample=0.7000000000000001), learning_rate=0.001, max_depth=9, min_child_weight=13, n_estimators=100, n_jobs=1, subsample=0.2, verbosity=0)\n",
            "Tpop score on test data: 0.56\n",
            "CPU times: user 16min 14s, sys: 1min 7s, total: 17min 22s\n",
            "Wall time: 16min 23s\n"
          ]
        }
      ]
    },
    {
      "cell_type": "code",
      "source": [],
      "metadata": {
        "id": "DjXM0sbO98CT"
      },
      "execution_count": null,
      "outputs": []
    },
    {
      "cell_type": "markdown",
      "source": [
        "# Auto-Encoders"
      ],
      "metadata": {
        "id": "thl6V83hPGM6"
      }
    },
    {
      "cell_type": "markdown",
      "source": [
        "**Applying Principal Component Analysis**"
      ],
      "metadata": {
        "id": "a11CHmHcPMCP"
      }
    },
    {
      "cell_type": "code",
      "source": [
        "train_final_groupby.head()"
      ],
      "metadata": {
        "colab": {
          "base_uri": "https://localhost:8080/",
          "height": 266
        },
        "id": "cuggxCB4PrfS",
        "outputId": "a6f3b571-3406-4b2f-9636-f1a9c0d6ed65"
      },
      "execution_count": 461,
      "outputs": [
        {
          "output_type": "execute_result",
          "data": {
            "text/plain": [
              "   Provider  PotentialFraud  InscClaimAmtReimbursed  DeductibleAmtPaid  \\\n",
              "0  PRV51001               0                  104640             5340.0   \n",
              "1  PRV51003               1                  605670            66286.0   \n",
              "2  PRV51004               0                   52170              310.0   \n",
              "3  PRV51005               1                  280910             3700.0   \n",
              "4  PRV51007               0                   33710             3264.0   \n",
              "\n",
              "   AdmittedDays  NoOfMonths_PartACov  NoOfMonths_PartBCov  \\\n",
              "0          30.0                  300                  300   \n",
              "1         382.0                 1560                 1567   \n",
              "2           0.0                 1768                 1782   \n",
              "3           0.0                13872                13910   \n",
              "4          19.0                  852                  852   \n",
              "\n",
              "   ChronicCond_Alzheimer  ChronicCond_Heartfailure  ChronicCond_KidneyDisease  \\\n",
              "0                     15                        19                         17   \n",
              "1                     56                        80                         64   \n",
              "2                     64                        88                         50   \n",
              "3                    426                       680                        507   \n",
              "4                     26                        40                         22   \n",
              "\n",
              "   ChronicCond_Cancer  ChronicCond_ObstrPulmonary  ChronicCond_Depression  \\\n",
              "0                   5                          10                       9   \n",
              "1                  10                          41                      54   \n",
              "2                  16                          41                      63   \n",
              "3                 165                         295                     485   \n",
              "4                  12                          16                      29   \n",
              "\n",
              "   ChronicCond_Diabetes  ChronicCond_IschemicHeart  ChronicCond_Osteoporasis  \\\n",
              "0                    21                         23                         6   \n",
              "1                   100                        112                        33   \n",
              "2                   105                        108                        49   \n",
              "3                   799                        895                       344   \n",
              "4                    49                         51                        21   \n",
              "\n",
              "   ChronicCond_rheumatoidarthritis  ChronicCond_stroke  \\\n",
              "0                                8                   6   \n",
              "1                               38                  12   \n",
              "2                               46                  17   \n",
              "3                              331                 124   \n",
              "4                               22                  12   \n",
              "\n",
              "   IPAnnualReimbursementAmt  IPAnnualDeductibleAmt  OPAnnualReimbursementAmt  \\\n",
              "0                    440150                  22428                     65380   \n",
              "1                    999000                 122948                    353520   \n",
              "2                    648430                  64808                    327040   \n",
              "3                   4221950                 441724                   2457840   \n",
              "4                    219600                  32040                    124540   \n",
              "\n",
              "   OPAnnualDeductibleAmt      Age  DeadOrNot  Gender_2  Race_2  Race_3  \\\n",
              "0                  11598   2221.0        0.0      16.0     4.0     0.0   \n",
              "1                  97300  10553.0        1.0      78.0    24.0     0.0   \n",
              "2                  92790  12232.0        1.0     103.0    24.0     5.0   \n",
              "3                 741323  93714.0        4.0     654.0   262.0    10.0   \n",
              "4                  33820   5699.0        1.0      38.0    14.0     0.0   \n",
              "\n",
              "   Race_5  InscClaimReimbursement_ProviderAvg  DeductibleAmtPaid_ProviderAvg  \\\n",
              "0     0.0                            104640.0                         5340.0   \n",
              "1     1.0                            605670.0                        66286.0   \n",
              "2     0.0                             52170.0                          310.0   \n",
              "3     0.0                            280910.0                         3700.0   \n",
              "4     0.0                             33710.0                         3264.0   \n",
              "\n",
              "   IPAnnualReimbursementAmt_ProviderAvg  IPAnnualDeductibleAmt_ProviderAvg  \\\n",
              "0                              440150.0                            22428.0   \n",
              "1                              999000.0                           122948.0   \n",
              "2                              648430.0                            64808.0   \n",
              "3                             4221950.0                           441724.0   \n",
              "4                              219600.0                            32040.0   \n",
              "\n",
              "   OPAnnualReimbursementAmt_ProviderAvg  OPAnnualDeductibleAmt_ProviderAvg  \n",
              "0                               65380.0                            11598.0  \n",
              "1                              353520.0                            97300.0  \n",
              "2                              327040.0                            92790.0  \n",
              "3                             2457840.0                           741323.0  \n",
              "4                              124540.0                            33820.0  "
            ],
            "text/html": [
              "\n",
              "  <div id=\"df-155cae2f-708f-446c-bec5-3bec134a8463\">\n",
              "    <div class=\"colab-df-container\">\n",
              "      <div>\n",
              "<style scoped>\n",
              "    .dataframe tbody tr th:only-of-type {\n",
              "        vertical-align: middle;\n",
              "    }\n",
              "\n",
              "    .dataframe tbody tr th {\n",
              "        vertical-align: top;\n",
              "    }\n",
              "\n",
              "    .dataframe thead th {\n",
              "        text-align: right;\n",
              "    }\n",
              "</style>\n",
              "<table border=\"1\" class=\"dataframe\">\n",
              "  <thead>\n",
              "    <tr style=\"text-align: right;\">\n",
              "      <th></th>\n",
              "      <th>Provider</th>\n",
              "      <th>PotentialFraud</th>\n",
              "      <th>InscClaimAmtReimbursed</th>\n",
              "      <th>DeductibleAmtPaid</th>\n",
              "      <th>AdmittedDays</th>\n",
              "      <th>NoOfMonths_PartACov</th>\n",
              "      <th>NoOfMonths_PartBCov</th>\n",
              "      <th>ChronicCond_Alzheimer</th>\n",
              "      <th>ChronicCond_Heartfailure</th>\n",
              "      <th>ChronicCond_KidneyDisease</th>\n",
              "      <th>ChronicCond_Cancer</th>\n",
              "      <th>ChronicCond_ObstrPulmonary</th>\n",
              "      <th>ChronicCond_Depression</th>\n",
              "      <th>ChronicCond_Diabetes</th>\n",
              "      <th>ChronicCond_IschemicHeart</th>\n",
              "      <th>ChronicCond_Osteoporasis</th>\n",
              "      <th>ChronicCond_rheumatoidarthritis</th>\n",
              "      <th>ChronicCond_stroke</th>\n",
              "      <th>IPAnnualReimbursementAmt</th>\n",
              "      <th>IPAnnualDeductibleAmt</th>\n",
              "      <th>OPAnnualReimbursementAmt</th>\n",
              "      <th>OPAnnualDeductibleAmt</th>\n",
              "      <th>Age</th>\n",
              "      <th>DeadOrNot</th>\n",
              "      <th>Gender_2</th>\n",
              "      <th>Race_2</th>\n",
              "      <th>Race_3</th>\n",
              "      <th>Race_5</th>\n",
              "      <th>InscClaimReimbursement_ProviderAvg</th>\n",
              "      <th>DeductibleAmtPaid_ProviderAvg</th>\n",
              "      <th>IPAnnualReimbursementAmt_ProviderAvg</th>\n",
              "      <th>IPAnnualDeductibleAmt_ProviderAvg</th>\n",
              "      <th>OPAnnualReimbursementAmt_ProviderAvg</th>\n",
              "      <th>OPAnnualDeductibleAmt_ProviderAvg</th>\n",
              "    </tr>\n",
              "  </thead>\n",
              "  <tbody>\n",
              "    <tr>\n",
              "      <th>0</th>\n",
              "      <td>PRV51001</td>\n",
              "      <td>0</td>\n",
              "      <td>104640</td>\n",
              "      <td>5340.0</td>\n",
              "      <td>30.0</td>\n",
              "      <td>300</td>\n",
              "      <td>300</td>\n",
              "      <td>15</td>\n",
              "      <td>19</td>\n",
              "      <td>17</td>\n",
              "      <td>5</td>\n",
              "      <td>10</td>\n",
              "      <td>9</td>\n",
              "      <td>21</td>\n",
              "      <td>23</td>\n",
              "      <td>6</td>\n",
              "      <td>8</td>\n",
              "      <td>6</td>\n",
              "      <td>440150</td>\n",
              "      <td>22428</td>\n",
              "      <td>65380</td>\n",
              "      <td>11598</td>\n",
              "      <td>2221.0</td>\n",
              "      <td>0.0</td>\n",
              "      <td>16.0</td>\n",
              "      <td>4.0</td>\n",
              "      <td>0.0</td>\n",
              "      <td>0.0</td>\n",
              "      <td>104640.0</td>\n",
              "      <td>5340.0</td>\n",
              "      <td>440150.0</td>\n",
              "      <td>22428.0</td>\n",
              "      <td>65380.0</td>\n",
              "      <td>11598.0</td>\n",
              "    </tr>\n",
              "    <tr>\n",
              "      <th>1</th>\n",
              "      <td>PRV51003</td>\n",
              "      <td>1</td>\n",
              "      <td>605670</td>\n",
              "      <td>66286.0</td>\n",
              "      <td>382.0</td>\n",
              "      <td>1560</td>\n",
              "      <td>1567</td>\n",
              "      <td>56</td>\n",
              "      <td>80</td>\n",
              "      <td>64</td>\n",
              "      <td>10</td>\n",
              "      <td>41</td>\n",
              "      <td>54</td>\n",
              "      <td>100</td>\n",
              "      <td>112</td>\n",
              "      <td>33</td>\n",
              "      <td>38</td>\n",
              "      <td>12</td>\n",
              "      <td>999000</td>\n",
              "      <td>122948</td>\n",
              "      <td>353520</td>\n",
              "      <td>97300</td>\n",
              "      <td>10553.0</td>\n",
              "      <td>1.0</td>\n",
              "      <td>78.0</td>\n",
              "      <td>24.0</td>\n",
              "      <td>0.0</td>\n",
              "      <td>1.0</td>\n",
              "      <td>605670.0</td>\n",
              "      <td>66286.0</td>\n",
              "      <td>999000.0</td>\n",
              "      <td>122948.0</td>\n",
              "      <td>353520.0</td>\n",
              "      <td>97300.0</td>\n",
              "    </tr>\n",
              "    <tr>\n",
              "      <th>2</th>\n",
              "      <td>PRV51004</td>\n",
              "      <td>0</td>\n",
              "      <td>52170</td>\n",
              "      <td>310.0</td>\n",
              "      <td>0.0</td>\n",
              "      <td>1768</td>\n",
              "      <td>1782</td>\n",
              "      <td>64</td>\n",
              "      <td>88</td>\n",
              "      <td>50</td>\n",
              "      <td>16</td>\n",
              "      <td>41</td>\n",
              "      <td>63</td>\n",
              "      <td>105</td>\n",
              "      <td>108</td>\n",
              "      <td>49</td>\n",
              "      <td>46</td>\n",
              "      <td>17</td>\n",
              "      <td>648430</td>\n",
              "      <td>64808</td>\n",
              "      <td>327040</td>\n",
              "      <td>92790</td>\n",
              "      <td>12232.0</td>\n",
              "      <td>1.0</td>\n",
              "      <td>103.0</td>\n",
              "      <td>24.0</td>\n",
              "      <td>5.0</td>\n",
              "      <td>0.0</td>\n",
              "      <td>52170.0</td>\n",
              "      <td>310.0</td>\n",
              "      <td>648430.0</td>\n",
              "      <td>64808.0</td>\n",
              "      <td>327040.0</td>\n",
              "      <td>92790.0</td>\n",
              "    </tr>\n",
              "    <tr>\n",
              "      <th>3</th>\n",
              "      <td>PRV51005</td>\n",
              "      <td>1</td>\n",
              "      <td>280910</td>\n",
              "      <td>3700.0</td>\n",
              "      <td>0.0</td>\n",
              "      <td>13872</td>\n",
              "      <td>13910</td>\n",
              "      <td>426</td>\n",
              "      <td>680</td>\n",
              "      <td>507</td>\n",
              "      <td>165</td>\n",
              "      <td>295</td>\n",
              "      <td>485</td>\n",
              "      <td>799</td>\n",
              "      <td>895</td>\n",
              "      <td>344</td>\n",
              "      <td>331</td>\n",
              "      <td>124</td>\n",
              "      <td>4221950</td>\n",
              "      <td>441724</td>\n",
              "      <td>2457840</td>\n",
              "      <td>741323</td>\n",
              "      <td>93714.0</td>\n",
              "      <td>4.0</td>\n",
              "      <td>654.0</td>\n",
              "      <td>262.0</td>\n",
              "      <td>10.0</td>\n",
              "      <td>0.0</td>\n",
              "      <td>280910.0</td>\n",
              "      <td>3700.0</td>\n",
              "      <td>4221950.0</td>\n",
              "      <td>441724.0</td>\n",
              "      <td>2457840.0</td>\n",
              "      <td>741323.0</td>\n",
              "    </tr>\n",
              "    <tr>\n",
              "      <th>4</th>\n",
              "      <td>PRV51007</td>\n",
              "      <td>0</td>\n",
              "      <td>33710</td>\n",
              "      <td>3264.0</td>\n",
              "      <td>19.0</td>\n",
              "      <td>852</td>\n",
              "      <td>852</td>\n",
              "      <td>26</td>\n",
              "      <td>40</td>\n",
              "      <td>22</td>\n",
              "      <td>12</td>\n",
              "      <td>16</td>\n",
              "      <td>29</td>\n",
              "      <td>49</td>\n",
              "      <td>51</td>\n",
              "      <td>21</td>\n",
              "      <td>22</td>\n",
              "      <td>12</td>\n",
              "      <td>219600</td>\n",
              "      <td>32040</td>\n",
              "      <td>124540</td>\n",
              "      <td>33820</td>\n",
              "      <td>5699.0</td>\n",
              "      <td>1.0</td>\n",
              "      <td>38.0</td>\n",
              "      <td>14.0</td>\n",
              "      <td>0.0</td>\n",
              "      <td>0.0</td>\n",
              "      <td>33710.0</td>\n",
              "      <td>3264.0</td>\n",
              "      <td>219600.0</td>\n",
              "      <td>32040.0</td>\n",
              "      <td>124540.0</td>\n",
              "      <td>33820.0</td>\n",
              "    </tr>\n",
              "  </tbody>\n",
              "</table>\n",
              "</div>\n",
              "      <button class=\"colab-df-convert\" onclick=\"convertToInteractive('df-155cae2f-708f-446c-bec5-3bec134a8463')\"\n",
              "              title=\"Convert this dataframe to an interactive table.\"\n",
              "              style=\"display:none;\">\n",
              "        \n",
              "  <svg xmlns=\"http://www.w3.org/2000/svg\" height=\"24px\"viewBox=\"0 0 24 24\"\n",
              "       width=\"24px\">\n",
              "    <path d=\"M0 0h24v24H0V0z\" fill=\"none\"/>\n",
              "    <path d=\"M18.56 5.44l.94 2.06.94-2.06 2.06-.94-2.06-.94-.94-2.06-.94 2.06-2.06.94zm-11 1L8.5 8.5l.94-2.06 2.06-.94-2.06-.94L8.5 2.5l-.94 2.06-2.06.94zm10 10l.94 2.06.94-2.06 2.06-.94-2.06-.94-.94-2.06-.94 2.06-2.06.94z\"/><path d=\"M17.41 7.96l-1.37-1.37c-.4-.4-.92-.59-1.43-.59-.52 0-1.04.2-1.43.59L10.3 9.45l-7.72 7.72c-.78.78-.78 2.05 0 2.83L4 21.41c.39.39.9.59 1.41.59.51 0 1.02-.2 1.41-.59l7.78-7.78 2.81-2.81c.8-.78.8-2.07 0-2.86zM5.41 20L4 18.59l7.72-7.72 1.47 1.35L5.41 20z\"/>\n",
              "  </svg>\n",
              "      </button>\n",
              "      \n",
              "  <style>\n",
              "    .colab-df-container {\n",
              "      display:flex;\n",
              "      flex-wrap:wrap;\n",
              "      gap: 12px;\n",
              "    }\n",
              "\n",
              "    .colab-df-convert {\n",
              "      background-color: #E8F0FE;\n",
              "      border: none;\n",
              "      border-radius: 50%;\n",
              "      cursor: pointer;\n",
              "      display: none;\n",
              "      fill: #1967D2;\n",
              "      height: 32px;\n",
              "      padding: 0 0 0 0;\n",
              "      width: 32px;\n",
              "    }\n",
              "\n",
              "    .colab-df-convert:hover {\n",
              "      background-color: #E2EBFA;\n",
              "      box-shadow: 0px 1px 2px rgba(60, 64, 67, 0.3), 0px 1px 3px 1px rgba(60, 64, 67, 0.15);\n",
              "      fill: #174EA6;\n",
              "    }\n",
              "\n",
              "    [theme=dark] .colab-df-convert {\n",
              "      background-color: #3B4455;\n",
              "      fill: #D2E3FC;\n",
              "    }\n",
              "\n",
              "    [theme=dark] .colab-df-convert:hover {\n",
              "      background-color: #434B5C;\n",
              "      box-shadow: 0px 1px 3px 1px rgba(0, 0, 0, 0.15);\n",
              "      filter: drop-shadow(0px 1px 2px rgba(0, 0, 0, 0.3));\n",
              "      fill: #FFFFFF;\n",
              "    }\n",
              "  </style>\n",
              "\n",
              "      <script>\n",
              "        const buttonEl =\n",
              "          document.querySelector('#df-155cae2f-708f-446c-bec5-3bec134a8463 button.colab-df-convert');\n",
              "        buttonEl.style.display =\n",
              "          google.colab.kernel.accessAllowed ? 'block' : 'none';\n",
              "\n",
              "        async function convertToInteractive(key) {\n",
              "          const element = document.querySelector('#df-155cae2f-708f-446c-bec5-3bec134a8463');\n",
              "          const dataTable =\n",
              "            await google.colab.kernel.invokeFunction('convertToInteractive',\n",
              "                                                     [key], {});\n",
              "          if (!dataTable) return;\n",
              "\n",
              "          const docLinkHtml = 'Like what you see? Visit the ' +\n",
              "            '<a target=\"_blank\" href=https://colab.research.google.com/notebooks/data_table.ipynb>data table notebook</a>'\n",
              "            + ' to learn more about interactive tables.';\n",
              "          element.innerHTML = '';\n",
              "          dataTable['output_type'] = 'display_data';\n",
              "          await google.colab.output.renderOutput(dataTable, element);\n",
              "          const docLink = document.createElement('div');\n",
              "          docLink.innerHTML = docLinkHtml;\n",
              "          element.appendChild(docLink);\n",
              "        }\n",
              "      </script>\n",
              "    </div>\n",
              "  </div>\n",
              "  "
            ]
          },
          "metadata": {},
          "execution_count": 461
        }
      ]
    },
    {
      "cell_type": "code",
      "source": [
        "train_final_groupby.iloc[:,2:].head()"
      ],
      "metadata": {
        "colab": {
          "base_uri": "https://localhost:8080/",
          "height": 266
        },
        "id": "WBpGJ4tGPxhW",
        "outputId": "10ba9909-1373-458d-c8c0-0bc6fc2080d0"
      },
      "execution_count": 462,
      "outputs": [
        {
          "output_type": "execute_result",
          "data": {
            "text/plain": [
              "   InscClaimAmtReimbursed  DeductibleAmtPaid  AdmittedDays  \\\n",
              "0                  104640             5340.0          30.0   \n",
              "1                  605670            66286.0         382.0   \n",
              "2                   52170              310.0           0.0   \n",
              "3                  280910             3700.0           0.0   \n",
              "4                   33710             3264.0          19.0   \n",
              "\n",
              "   NoOfMonths_PartACov  NoOfMonths_PartBCov  ChronicCond_Alzheimer  \\\n",
              "0                  300                  300                     15   \n",
              "1                 1560                 1567                     56   \n",
              "2                 1768                 1782                     64   \n",
              "3                13872                13910                    426   \n",
              "4                  852                  852                     26   \n",
              "\n",
              "   ChronicCond_Heartfailure  ChronicCond_KidneyDisease  ChronicCond_Cancer  \\\n",
              "0                        19                         17                   5   \n",
              "1                        80                         64                  10   \n",
              "2                        88                         50                  16   \n",
              "3                       680                        507                 165   \n",
              "4                        40                         22                  12   \n",
              "\n",
              "   ChronicCond_ObstrPulmonary  ChronicCond_Depression  ChronicCond_Diabetes  \\\n",
              "0                          10                       9                    21   \n",
              "1                          41                      54                   100   \n",
              "2                          41                      63                   105   \n",
              "3                         295                     485                   799   \n",
              "4                          16                      29                    49   \n",
              "\n",
              "   ChronicCond_IschemicHeart  ChronicCond_Osteoporasis  \\\n",
              "0                         23                         6   \n",
              "1                        112                        33   \n",
              "2                        108                        49   \n",
              "3                        895                       344   \n",
              "4                         51                        21   \n",
              "\n",
              "   ChronicCond_rheumatoidarthritis  ChronicCond_stroke  \\\n",
              "0                                8                   6   \n",
              "1                               38                  12   \n",
              "2                               46                  17   \n",
              "3                              331                 124   \n",
              "4                               22                  12   \n",
              "\n",
              "   IPAnnualReimbursementAmt  IPAnnualDeductibleAmt  OPAnnualReimbursementAmt  \\\n",
              "0                    440150                  22428                     65380   \n",
              "1                    999000                 122948                    353520   \n",
              "2                    648430                  64808                    327040   \n",
              "3                   4221950                 441724                   2457840   \n",
              "4                    219600                  32040                    124540   \n",
              "\n",
              "   OPAnnualDeductibleAmt      Age  DeadOrNot  Gender_2  Race_2  Race_3  \\\n",
              "0                  11598   2221.0        0.0      16.0     4.0     0.0   \n",
              "1                  97300  10553.0        1.0      78.0    24.0     0.0   \n",
              "2                  92790  12232.0        1.0     103.0    24.0     5.0   \n",
              "3                 741323  93714.0        4.0     654.0   262.0    10.0   \n",
              "4                  33820   5699.0        1.0      38.0    14.0     0.0   \n",
              "\n",
              "   Race_5  InscClaimReimbursement_ProviderAvg  DeductibleAmtPaid_ProviderAvg  \\\n",
              "0     0.0                            104640.0                         5340.0   \n",
              "1     1.0                            605670.0                        66286.0   \n",
              "2     0.0                             52170.0                          310.0   \n",
              "3     0.0                            280910.0                         3700.0   \n",
              "4     0.0                             33710.0                         3264.0   \n",
              "\n",
              "   IPAnnualReimbursementAmt_ProviderAvg  IPAnnualDeductibleAmt_ProviderAvg  \\\n",
              "0                              440150.0                            22428.0   \n",
              "1                              999000.0                           122948.0   \n",
              "2                              648430.0                            64808.0   \n",
              "3                             4221950.0                           441724.0   \n",
              "4                              219600.0                            32040.0   \n",
              "\n",
              "   OPAnnualReimbursementAmt_ProviderAvg  OPAnnualDeductibleAmt_ProviderAvg  \n",
              "0                               65380.0                            11598.0  \n",
              "1                              353520.0                            97300.0  \n",
              "2                              327040.0                            92790.0  \n",
              "3                             2457840.0                           741323.0  \n",
              "4                              124540.0                            33820.0  "
            ],
            "text/html": [
              "\n",
              "  <div id=\"df-b722ee6b-e1a5-42cf-abe6-61ed47451a86\">\n",
              "    <div class=\"colab-df-container\">\n",
              "      <div>\n",
              "<style scoped>\n",
              "    .dataframe tbody tr th:only-of-type {\n",
              "        vertical-align: middle;\n",
              "    }\n",
              "\n",
              "    .dataframe tbody tr th {\n",
              "        vertical-align: top;\n",
              "    }\n",
              "\n",
              "    .dataframe thead th {\n",
              "        text-align: right;\n",
              "    }\n",
              "</style>\n",
              "<table border=\"1\" class=\"dataframe\">\n",
              "  <thead>\n",
              "    <tr style=\"text-align: right;\">\n",
              "      <th></th>\n",
              "      <th>InscClaimAmtReimbursed</th>\n",
              "      <th>DeductibleAmtPaid</th>\n",
              "      <th>AdmittedDays</th>\n",
              "      <th>NoOfMonths_PartACov</th>\n",
              "      <th>NoOfMonths_PartBCov</th>\n",
              "      <th>ChronicCond_Alzheimer</th>\n",
              "      <th>ChronicCond_Heartfailure</th>\n",
              "      <th>ChronicCond_KidneyDisease</th>\n",
              "      <th>ChronicCond_Cancer</th>\n",
              "      <th>ChronicCond_ObstrPulmonary</th>\n",
              "      <th>ChronicCond_Depression</th>\n",
              "      <th>ChronicCond_Diabetes</th>\n",
              "      <th>ChronicCond_IschemicHeart</th>\n",
              "      <th>ChronicCond_Osteoporasis</th>\n",
              "      <th>ChronicCond_rheumatoidarthritis</th>\n",
              "      <th>ChronicCond_stroke</th>\n",
              "      <th>IPAnnualReimbursementAmt</th>\n",
              "      <th>IPAnnualDeductibleAmt</th>\n",
              "      <th>OPAnnualReimbursementAmt</th>\n",
              "      <th>OPAnnualDeductibleAmt</th>\n",
              "      <th>Age</th>\n",
              "      <th>DeadOrNot</th>\n",
              "      <th>Gender_2</th>\n",
              "      <th>Race_2</th>\n",
              "      <th>Race_3</th>\n",
              "      <th>Race_5</th>\n",
              "      <th>InscClaimReimbursement_ProviderAvg</th>\n",
              "      <th>DeductibleAmtPaid_ProviderAvg</th>\n",
              "      <th>IPAnnualReimbursementAmt_ProviderAvg</th>\n",
              "      <th>IPAnnualDeductibleAmt_ProviderAvg</th>\n",
              "      <th>OPAnnualReimbursementAmt_ProviderAvg</th>\n",
              "      <th>OPAnnualDeductibleAmt_ProviderAvg</th>\n",
              "    </tr>\n",
              "  </thead>\n",
              "  <tbody>\n",
              "    <tr>\n",
              "      <th>0</th>\n",
              "      <td>104640</td>\n",
              "      <td>5340.0</td>\n",
              "      <td>30.0</td>\n",
              "      <td>300</td>\n",
              "      <td>300</td>\n",
              "      <td>15</td>\n",
              "      <td>19</td>\n",
              "      <td>17</td>\n",
              "      <td>5</td>\n",
              "      <td>10</td>\n",
              "      <td>9</td>\n",
              "      <td>21</td>\n",
              "      <td>23</td>\n",
              "      <td>6</td>\n",
              "      <td>8</td>\n",
              "      <td>6</td>\n",
              "      <td>440150</td>\n",
              "      <td>22428</td>\n",
              "      <td>65380</td>\n",
              "      <td>11598</td>\n",
              "      <td>2221.0</td>\n",
              "      <td>0.0</td>\n",
              "      <td>16.0</td>\n",
              "      <td>4.0</td>\n",
              "      <td>0.0</td>\n",
              "      <td>0.0</td>\n",
              "      <td>104640.0</td>\n",
              "      <td>5340.0</td>\n",
              "      <td>440150.0</td>\n",
              "      <td>22428.0</td>\n",
              "      <td>65380.0</td>\n",
              "      <td>11598.0</td>\n",
              "    </tr>\n",
              "    <tr>\n",
              "      <th>1</th>\n",
              "      <td>605670</td>\n",
              "      <td>66286.0</td>\n",
              "      <td>382.0</td>\n",
              "      <td>1560</td>\n",
              "      <td>1567</td>\n",
              "      <td>56</td>\n",
              "      <td>80</td>\n",
              "      <td>64</td>\n",
              "      <td>10</td>\n",
              "      <td>41</td>\n",
              "      <td>54</td>\n",
              "      <td>100</td>\n",
              "      <td>112</td>\n",
              "      <td>33</td>\n",
              "      <td>38</td>\n",
              "      <td>12</td>\n",
              "      <td>999000</td>\n",
              "      <td>122948</td>\n",
              "      <td>353520</td>\n",
              "      <td>97300</td>\n",
              "      <td>10553.0</td>\n",
              "      <td>1.0</td>\n",
              "      <td>78.0</td>\n",
              "      <td>24.0</td>\n",
              "      <td>0.0</td>\n",
              "      <td>1.0</td>\n",
              "      <td>605670.0</td>\n",
              "      <td>66286.0</td>\n",
              "      <td>999000.0</td>\n",
              "      <td>122948.0</td>\n",
              "      <td>353520.0</td>\n",
              "      <td>97300.0</td>\n",
              "    </tr>\n",
              "    <tr>\n",
              "      <th>2</th>\n",
              "      <td>52170</td>\n",
              "      <td>310.0</td>\n",
              "      <td>0.0</td>\n",
              "      <td>1768</td>\n",
              "      <td>1782</td>\n",
              "      <td>64</td>\n",
              "      <td>88</td>\n",
              "      <td>50</td>\n",
              "      <td>16</td>\n",
              "      <td>41</td>\n",
              "      <td>63</td>\n",
              "      <td>105</td>\n",
              "      <td>108</td>\n",
              "      <td>49</td>\n",
              "      <td>46</td>\n",
              "      <td>17</td>\n",
              "      <td>648430</td>\n",
              "      <td>64808</td>\n",
              "      <td>327040</td>\n",
              "      <td>92790</td>\n",
              "      <td>12232.0</td>\n",
              "      <td>1.0</td>\n",
              "      <td>103.0</td>\n",
              "      <td>24.0</td>\n",
              "      <td>5.0</td>\n",
              "      <td>0.0</td>\n",
              "      <td>52170.0</td>\n",
              "      <td>310.0</td>\n",
              "      <td>648430.0</td>\n",
              "      <td>64808.0</td>\n",
              "      <td>327040.0</td>\n",
              "      <td>92790.0</td>\n",
              "    </tr>\n",
              "    <tr>\n",
              "      <th>3</th>\n",
              "      <td>280910</td>\n",
              "      <td>3700.0</td>\n",
              "      <td>0.0</td>\n",
              "      <td>13872</td>\n",
              "      <td>13910</td>\n",
              "      <td>426</td>\n",
              "      <td>680</td>\n",
              "      <td>507</td>\n",
              "      <td>165</td>\n",
              "      <td>295</td>\n",
              "      <td>485</td>\n",
              "      <td>799</td>\n",
              "      <td>895</td>\n",
              "      <td>344</td>\n",
              "      <td>331</td>\n",
              "      <td>124</td>\n",
              "      <td>4221950</td>\n",
              "      <td>441724</td>\n",
              "      <td>2457840</td>\n",
              "      <td>741323</td>\n",
              "      <td>93714.0</td>\n",
              "      <td>4.0</td>\n",
              "      <td>654.0</td>\n",
              "      <td>262.0</td>\n",
              "      <td>10.0</td>\n",
              "      <td>0.0</td>\n",
              "      <td>280910.0</td>\n",
              "      <td>3700.0</td>\n",
              "      <td>4221950.0</td>\n",
              "      <td>441724.0</td>\n",
              "      <td>2457840.0</td>\n",
              "      <td>741323.0</td>\n",
              "    </tr>\n",
              "    <tr>\n",
              "      <th>4</th>\n",
              "      <td>33710</td>\n",
              "      <td>3264.0</td>\n",
              "      <td>19.0</td>\n",
              "      <td>852</td>\n",
              "      <td>852</td>\n",
              "      <td>26</td>\n",
              "      <td>40</td>\n",
              "      <td>22</td>\n",
              "      <td>12</td>\n",
              "      <td>16</td>\n",
              "      <td>29</td>\n",
              "      <td>49</td>\n",
              "      <td>51</td>\n",
              "      <td>21</td>\n",
              "      <td>22</td>\n",
              "      <td>12</td>\n",
              "      <td>219600</td>\n",
              "      <td>32040</td>\n",
              "      <td>124540</td>\n",
              "      <td>33820</td>\n",
              "      <td>5699.0</td>\n",
              "      <td>1.0</td>\n",
              "      <td>38.0</td>\n",
              "      <td>14.0</td>\n",
              "      <td>0.0</td>\n",
              "      <td>0.0</td>\n",
              "      <td>33710.0</td>\n",
              "      <td>3264.0</td>\n",
              "      <td>219600.0</td>\n",
              "      <td>32040.0</td>\n",
              "      <td>124540.0</td>\n",
              "      <td>33820.0</td>\n",
              "    </tr>\n",
              "  </tbody>\n",
              "</table>\n",
              "</div>\n",
              "      <button class=\"colab-df-convert\" onclick=\"convertToInteractive('df-b722ee6b-e1a5-42cf-abe6-61ed47451a86')\"\n",
              "              title=\"Convert this dataframe to an interactive table.\"\n",
              "              style=\"display:none;\">\n",
              "        \n",
              "  <svg xmlns=\"http://www.w3.org/2000/svg\" height=\"24px\"viewBox=\"0 0 24 24\"\n",
              "       width=\"24px\">\n",
              "    <path d=\"M0 0h24v24H0V0z\" fill=\"none\"/>\n",
              "    <path d=\"M18.56 5.44l.94 2.06.94-2.06 2.06-.94-2.06-.94-.94-2.06-.94 2.06-2.06.94zm-11 1L8.5 8.5l.94-2.06 2.06-.94-2.06-.94L8.5 2.5l-.94 2.06-2.06.94zm10 10l.94 2.06.94-2.06 2.06-.94-2.06-.94-.94-2.06-.94 2.06-2.06.94z\"/><path d=\"M17.41 7.96l-1.37-1.37c-.4-.4-.92-.59-1.43-.59-.52 0-1.04.2-1.43.59L10.3 9.45l-7.72 7.72c-.78.78-.78 2.05 0 2.83L4 21.41c.39.39.9.59 1.41.59.51 0 1.02-.2 1.41-.59l7.78-7.78 2.81-2.81c.8-.78.8-2.07 0-2.86zM5.41 20L4 18.59l7.72-7.72 1.47 1.35L5.41 20z\"/>\n",
              "  </svg>\n",
              "      </button>\n",
              "      \n",
              "  <style>\n",
              "    .colab-df-container {\n",
              "      display:flex;\n",
              "      flex-wrap:wrap;\n",
              "      gap: 12px;\n",
              "    }\n",
              "\n",
              "    .colab-df-convert {\n",
              "      background-color: #E8F0FE;\n",
              "      border: none;\n",
              "      border-radius: 50%;\n",
              "      cursor: pointer;\n",
              "      display: none;\n",
              "      fill: #1967D2;\n",
              "      height: 32px;\n",
              "      padding: 0 0 0 0;\n",
              "      width: 32px;\n",
              "    }\n",
              "\n",
              "    .colab-df-convert:hover {\n",
              "      background-color: #E2EBFA;\n",
              "      box-shadow: 0px 1px 2px rgba(60, 64, 67, 0.3), 0px 1px 3px 1px rgba(60, 64, 67, 0.15);\n",
              "      fill: #174EA6;\n",
              "    }\n",
              "\n",
              "    [theme=dark] .colab-df-convert {\n",
              "      background-color: #3B4455;\n",
              "      fill: #D2E3FC;\n",
              "    }\n",
              "\n",
              "    [theme=dark] .colab-df-convert:hover {\n",
              "      background-color: #434B5C;\n",
              "      box-shadow: 0px 1px 3px 1px rgba(0, 0, 0, 0.15);\n",
              "      filter: drop-shadow(0px 1px 2px rgba(0, 0, 0, 0.3));\n",
              "      fill: #FFFFFF;\n",
              "    }\n",
              "  </style>\n",
              "\n",
              "      <script>\n",
              "        const buttonEl =\n",
              "          document.querySelector('#df-b722ee6b-e1a5-42cf-abe6-61ed47451a86 button.colab-df-convert');\n",
              "        buttonEl.style.display =\n",
              "          google.colab.kernel.accessAllowed ? 'block' : 'none';\n",
              "\n",
              "        async function convertToInteractive(key) {\n",
              "          const element = document.querySelector('#df-b722ee6b-e1a5-42cf-abe6-61ed47451a86');\n",
              "          const dataTable =\n",
              "            await google.colab.kernel.invokeFunction('convertToInteractive',\n",
              "                                                     [key], {});\n",
              "          if (!dataTable) return;\n",
              "\n",
              "          const docLinkHtml = 'Like what you see? Visit the ' +\n",
              "            '<a target=\"_blank\" href=https://colab.research.google.com/notebooks/data_table.ipynb>data table notebook</a>'\n",
              "            + ' to learn more about interactive tables.';\n",
              "          element.innerHTML = '';\n",
              "          dataTable['output_type'] = 'display_data';\n",
              "          await google.colab.output.renderOutput(dataTable, element);\n",
              "          const docLink = document.createElement('div');\n",
              "          docLink.innerHTML = docLinkHtml;\n",
              "          element.appendChild(docLink);\n",
              "        }\n",
              "      </script>\n",
              "    </div>\n",
              "  </div>\n",
              "  "
            ]
          },
          "metadata": {},
          "execution_count": 462
        }
      ]
    },
    {
      "cell_type": "code",
      "source": [
        "from sklearn.preprocessing import StandardScaler\n",
        "sc = StandardScaler()\n",
        "sc_pca = sc.fit(train_final_groupby.iloc[:,2:])\n",
        "train_final_groupby_scaled = sc_pca.transform(train_final_groupby.iloc[:,2:])\n",
        "train_final_groupby_scaled = pd.DataFrame(train_final_groupby_scaled)\n"
      ],
      "metadata": {
        "id": "pcK0G5u8PJFd"
      },
      "execution_count": 463,
      "outputs": []
    },
    {
      "cell_type": "code",
      "source": [
        "test_final_groupby_scaled = sc_pca.transform(test_final_groupby.iloc[:,1:])\n",
        "test_final_groupby_scaled = pd.DataFrame(test_final_groupby_scaled)"
      ],
      "metadata": {
        "id": "6vjt5VmEQmDp"
      },
      "execution_count": 464,
      "outputs": []
    },
    {
      "cell_type": "code",
      "source": [
        "train_final_groupby_scaled.shape"
      ],
      "metadata": {
        "colab": {
          "base_uri": "https://localhost:8080/"
        },
        "id": "j3unq7IrQqmX",
        "outputId": "951f1ec9-d280-4130-9c06-66e237569017"
      },
      "execution_count": 465,
      "outputs": [
        {
          "output_type": "execute_result",
          "data": {
            "text/plain": [
              "(5410, 32)"
            ]
          },
          "metadata": {},
          "execution_count": 465
        }
      ]
    },
    {
      "cell_type": "code",
      "source": [
        "test_final_groupby_scaled.shape"
      ],
      "metadata": {
        "colab": {
          "base_uri": "https://localhost:8080/"
        },
        "id": "C8ydjLvVRTy5",
        "outputId": "23926ac9-9eb0-4486-c32d-7b82f70cc64c"
      },
      "execution_count": 466,
      "outputs": [
        {
          "output_type": "execute_result",
          "data": {
            "text/plain": [
              "(1353, 32)"
            ]
          },
          "metadata": {},
          "execution_count": 466
        }
      ]
    },
    {
      "cell_type": "code",
      "source": [
        "from sklearn.decomposition import PCA \n",
        "\n",
        "# Use atleast 29 components \n",
        "pca = PCA(n_components=29)"
      ],
      "metadata": {
        "id": "gw1un6GlRWL8"
      },
      "execution_count": 467,
      "outputs": []
    },
    {
      "cell_type": "code",
      "source": [
        "pca.fit(train_final_groupby_scaled)"
      ],
      "metadata": {
        "colab": {
          "base_uri": "https://localhost:8080/"
        },
        "id": "WulROHvERoLB",
        "outputId": "16e5df5b-b2b6-4c1b-eccd-622ddc6bc299"
      },
      "execution_count": 468,
      "outputs": [
        {
          "output_type": "execute_result",
          "data": {
            "text/plain": [
              "PCA(n_components=29)"
            ]
          },
          "metadata": {},
          "execution_count": 468
        }
      ]
    },
    {
      "cell_type": "code",
      "source": [
        "print(f'PCA explained variance: {np.round(pca.explained_variance_ratio_, 3)}')"
      ],
      "metadata": {
        "colab": {
          "base_uri": "https://localhost:8080/"
        },
        "id": "9WwbwtAESBWB",
        "outputId": "57696776-eb05-41ce-8d8c-a72111a0e037"
      },
      "execution_count": 469,
      "outputs": [
        {
          "output_type": "stream",
          "name": "stdout",
          "text": [
            "PCA explained variance: [0.823 0.125 0.026 0.009 0.006 0.003 0.002 0.001 0.001 0.001 0.001 0.\n",
            " 0.    0.    0.    0.    0.    0.    0.    0.    0.    0.    0.    0.\n",
            " 0.    0.    0.    0.    0.   ]\n"
          ]
        }
      ]
    },
    {
      "cell_type": "markdown",
      "source": [
        "**Transforming train and test dataframes based on PCA**"
      ],
      "metadata": {
        "id": "K3lJ2EzLSeok"
      }
    },
    {
      "cell_type": "code",
      "source": [
        "train_pca = pca.transform(train_final_groupby_scaled) \n",
        "test_pca = pca.transform(test_final_groupby_scaled)"
      ],
      "metadata": {
        "id": "KaB0Hap5SRKB"
      },
      "execution_count": 470,
      "outputs": []
    },
    {
      "cell_type": "code",
      "source": [
        "print(f'Train PCA transformed shape: {train_pca.shape}')\n",
        "print(f'Test PCA transformed shape: {test_pca.shape}')"
      ],
      "metadata": {
        "colab": {
          "base_uri": "https://localhost:8080/"
        },
        "id": "JxOJXattS5Aj",
        "outputId": "d09a8433-0194-4f01-d065-0d55dd5489af"
      },
      "execution_count": 471,
      "outputs": [
        {
          "output_type": "stream",
          "name": "stdout",
          "text": [
            "Train PCA transformed shape: (5410, 29)\n",
            "Test PCA transformed shape: (1353, 29)\n"
          ]
        }
      ]
    },
    {
      "cell_type": "markdown",
      "source": [
        "**Converting to pandas DF**"
      ],
      "metadata": {
        "id": "8yMPtsm9TIOQ"
      }
    },
    {
      "cell_type": "code",
      "source": [
        "train_pca = pd.DataFrame(train_pca)\n",
        "test_pca = pd.DataFrame(test_pca)"
      ],
      "metadata": {
        "id": "_A7J7fEwTEpZ"
      },
      "execution_count": 472,
      "outputs": []
    },
    {
      "cell_type": "code",
      "source": [
        "train_pca.shape, test_pca.shape"
      ],
      "metadata": {
        "colab": {
          "base_uri": "https://localhost:8080/"
        },
        "id": "gdZkojMUTbfw",
        "outputId": "ceda81bf-375b-4497-a680-040fbfa504d4"
      },
      "execution_count": 473,
      "outputs": [
        {
          "output_type": "execute_result",
          "data": {
            "text/plain": [
              "((5410, 29), (1353, 29))"
            ]
          },
          "metadata": {},
          "execution_count": 473
        }
      ]
    },
    {
      "cell_type": "markdown",
      "source": [
        "**Add target to train data**"
      ],
      "metadata": {
        "id": "r-P9RxExTxeO"
      }
    },
    {
      "cell_type": "code",
      "source": [
        "train_pca['PotentialFraud'] = train_final_groupby.PotentialFraud"
      ],
      "metadata": {
        "id": "H8X4jTfsThpE"
      },
      "execution_count": 474,
      "outputs": []
    },
    {
      "cell_type": "code",
      "source": [
        "print(f'Train PCA transformed shape: {train_pca.shape}')\n",
        "print(f'Test PCA transformed shape: {test_pca.shape}')"
      ],
      "metadata": {
        "colab": {
          "base_uri": "https://localhost:8080/"
        },
        "id": "3OhaYO5LTo4V",
        "outputId": "b77f54e8-61f0-43c7-dc4f-702177748261"
      },
      "execution_count": 475,
      "outputs": [
        {
          "output_type": "stream",
          "name": "stdout",
          "text": [
            "Train PCA transformed shape: (5410, 30)\n",
            "Test PCA transformed shape: (1353, 29)\n"
          ]
        }
      ]
    },
    {
      "cell_type": "markdown",
      "source": [
        "**Converting data to numpy array**"
      ],
      "metadata": {
        "id": "eE0nrnnqU3oO"
      }
    },
    {
      "cell_type": "code",
      "source": [
        "train_pca = np.array(train_pca)\n",
        "test_pca = np.array(test_pca)"
      ],
      "metadata": {
        "id": "jj4TXtItUsaW"
      },
      "execution_count": 476,
      "outputs": []
    },
    {
      "cell_type": "code",
      "source": [
        "from sklearn.model_selection import train_test_split\n",
        "X_train_pca, X_test_pca = train_test_split(train_pca, test_size=0.2, random_state=2023)\n",
        "\n",
        "print(X_train_pca.shape)\n",
        "print(X_test_pca.shape)\n",
        "print(test_pca.shape)"
      ],
      "metadata": {
        "colab": {
          "base_uri": "https://localhost:8080/"
        },
        "id": "fandoJ6gVEMw",
        "outputId": "c9b96418-e7ad-400d-d4b3-d55f65546c50"
      },
      "execution_count": 477,
      "outputs": [
        {
          "output_type": "stream",
          "name": "stdout",
          "text": [
            "(4328, 30)\n",
            "(1082, 30)\n",
            "(1353, 29)\n"
          ]
        }
      ]
    },
    {
      "cell_type": "markdown",
      "source": [
        "**Considering only non-fraud records to train the auto-encoders**"
      ],
      "metadata": {
        "id": "fQT4aY3bWiKF"
      }
    },
    {
      "cell_type": "code",
      "source": [
        "# Selecting records with non-fraud label\n",
        "X_train_NF = X_train_pca[X_train_pca[:,-1] == 0]\n",
        "print(X_train_NF.shape)\n",
        "# Dropping potential fraud column\n",
        "X_train_NF = X_train_NF[:,:-1]\n",
        "print(X_train_NF.shape)"
      ],
      "metadata": {
        "colab": {
          "base_uri": "https://localhost:8080/"
        },
        "id": "dSJ04oj6V4H0",
        "outputId": "275328e1-b9b1-40f4-a951-06fd669be95f"
      },
      "execution_count": 478,
      "outputs": [
        {
          "output_type": "stream",
          "name": "stdout",
          "text": [
            "(3925, 30)\n",
            "(3925, 29)\n"
          ]
        }
      ]
    },
    {
      "cell_type": "markdown",
      "source": [
        "**Storing fraudulent records**"
      ],
      "metadata": {
        "id": "VkeiqlZeX23_"
      }
    },
    {
      "cell_type": "code",
      "source": [
        "X_train_F = X_train_pca[X_train_pca[:,-1] == 1]\n",
        "print(X_train_F.shape)"
      ],
      "metadata": {
        "colab": {
          "base_uri": "https://localhost:8080/"
        },
        "id": "P9DfBlRMXOSM",
        "outputId": "907ad30d-2422-4a8d-ccfe-c8f30313ac7c"
      },
      "execution_count": 479,
      "outputs": [
        {
          "output_type": "stream",
          "name": "stdout",
          "text": [
            "(403, 30)\n"
          ]
        }
      ]
    },
    {
      "cell_type": "markdown",
      "source": [
        "**Concatenating fraudulent records from train to test dataframe**"
      ],
      "metadata": {
        "id": "ppZm1Mu0Z1wh"
      }
    },
    {
      "cell_type": "code",
      "source": [
        "X_test_pca = np.concatenate((X_train_F, X_test_pca), axis=0)\n",
        "print(X_test_pca.shape)"
      ],
      "metadata": {
        "colab": {
          "base_uri": "https://localhost:8080/"
        },
        "id": "ZNAKsK2dYNgY",
        "outputId": "572daf88-4ae1-4582-de25-f675fa9a220b"
      },
      "execution_count": 480,
      "outputs": [
        {
          "output_type": "stream",
          "name": "stdout",
          "text": [
            "(1485, 30)\n"
          ]
        }
      ]
    },
    {
      "cell_type": "code",
      "source": [
        "X_test, X_eval = train_test_split(X_test_pca, test_size=0.2, random_state=2023)"
      ],
      "metadata": {
        "id": "SGajdsglaKuT"
      },
      "execution_count": 481,
      "outputs": []
    },
    {
      "cell_type": "code",
      "source": [
        "print(X_test.shape) \n",
        "print(X_eval.shape)"
      ],
      "metadata": {
        "colab": {
          "base_uri": "https://localhost:8080/"
        },
        "id": "lulDyJZUbXMH",
        "outputId": "38b63cc3-5f8b-408f-c9db-7dbcbab4e3c3"
      },
      "execution_count": 482,
      "outputs": [
        {
          "output_type": "stream",
          "name": "stdout",
          "text": [
            "(1188, 30)\n",
            "(297, 30)\n"
          ]
        }
      ]
    },
    {
      "cell_type": "markdown",
      "source": [
        "**Separating the independent and the class variable**"
      ],
      "metadata": {
        "id": "wgfpf9MjbyG2"
      }
    },
    {
      "cell_type": "code",
      "source": [
        "y_test = X_test[:,-1] \n",
        "X_test = X_test[:,:-1]"
      ],
      "metadata": {
        "id": "xHefkAOzbrir"
      },
      "execution_count": 483,
      "outputs": []
    },
    {
      "cell_type": "markdown",
      "source": [
        "**Expanding the dimensions of y for later concatenation**"
      ],
      "metadata": {
        "id": "VKDsDjQ_cCsY"
      }
    },
    {
      "cell_type": "code",
      "source": [
        "y_test = np.expand_dims(y_test, axis=1) \n",
        "y_test.shape"
      ],
      "metadata": {
        "colab": {
          "base_uri": "https://localhost:8080/"
        },
        "id": "ahnmeaFxcBla",
        "outputId": "bcbe8c32-7435-4636-f673-c1b088bc764f"
      },
      "execution_count": 484,
      "outputs": [
        {
          "output_type": "execute_result",
          "data": {
            "text/plain": [
              "(1188, 1)"
            ]
          },
          "metadata": {},
          "execution_count": 484
        }
      ]
    },
    {
      "cell_type": "markdown",
      "source": [
        "## Autoencoder Network Building"
      ],
      "metadata": {
        "id": "Xi2Sstx9cR1c"
      }
    },
    {
      "cell_type": "code",
      "source": [
        "# Set input dimensions to the number of inputs\n",
        "input_dim = X_train_NF.shape[1] \n",
        "\n",
        "input_dim"
      ],
      "metadata": {
        "colab": {
          "base_uri": "https://localhost:8080/"
        },
        "id": "fgEA9LlBcPhf",
        "outputId": "4c0fedcb-8514-4994-ad19-5b7dd6d96c97"
      },
      "execution_count": 485,
      "outputs": [
        {
          "output_type": "execute_result",
          "data": {
            "text/plain": [
              "29"
            ]
          },
          "metadata": {},
          "execution_count": 485
        }
      ]
    },
    {
      "cell_type": "code",
      "source": [
        "# Set encoding dimension to size 15 \n",
        "encoding_dim = 15"
      ],
      "metadata": {
        "id": "bUrI5onX3uzM"
      },
      "execution_count": 486,
      "outputs": []
    },
    {
      "cell_type": "code",
      "source": [
        "from keras.models import Sequential \n",
        "from keras.layers import Dense, Dropout \n",
        "\n",
        "autoencoder = Sequential() # Add Sequential network \n",
        "\n",
        "# Adding dropout layer to prevent overfitting\n",
        "autoencoder.add(Dropout(0.2, input_shape=(input_dim,)))\n",
        "\n",
        "# Adding dense layer to encode patterns \n",
        "autoencoder.add(Dense(encoding_dim, activation='relu')) \n",
        "\n",
        "# Adding dense layer of size of input shape \n",
        "autoencoder.add(Dense(input_dim, activation='linear'))"
      ],
      "metadata": {
        "id": "4YXxP-AP36RS"
      },
      "execution_count": 487,
      "outputs": []
    },
    {
      "cell_type": "code",
      "source": [
        "nb_epochs = 100 \n",
        "\n",
        "# sample size \n",
        "batch_size = 32 \n",
        "\n",
        "autoencoder.compile(optimizer='adam', \n",
        "                    loss='mean_squared_error',\n",
        "                    metrics=['mse'])"
      ],
      "metadata": {
        "id": "FsT4h2ly4vYL"
      },
      "execution_count": 488,
      "outputs": []
    },
    {
      "cell_type": "code",
      "source": [
        "# Model fitting and saving the history \n",
        "hist = [] \n",
        "\n",
        "for _ in range(100):\n",
        "  hist.append(autoencoder.fit(X_train_NF, X_train_NF, \n",
        "                              epochs=1, \n",
        "                              batch_size=batch_size, \n",
        "                              shuffle=True, \n",
        "                              validation_split=0.3,\n",
        "                              verbose=0).history)"
      ],
      "metadata": {
        "id": "5auinCB85EQA"
      },
      "execution_count": 489,
      "outputs": []
    },
    {
      "cell_type": "code",
      "source": [
        "hist[0:5]"
      ],
      "metadata": {
        "colab": {
          "base_uri": "https://localhost:8080/"
        },
        "id": "ILbcYVzD5hbT",
        "outputId": "09fd1685-c603-40fa-b5f2-10aa401fcfad"
      },
      "execution_count": 490,
      "outputs": [
        {
          "output_type": "execute_result",
          "data": {
            "text/plain": [
              "[{'loss': [0.23185229301452637],\n",
              "  'mse': [0.23185229301452637],\n",
              "  'val_loss': [0.19689559936523438],\n",
              "  'val_mse': [0.19689559936523438]},\n",
              " {'loss': [0.1463385373353958],\n",
              "  'mse': [0.1463385373353958],\n",
              "  'val_loss': [0.11538456380367279],\n",
              "  'val_mse': [0.11538456380367279]},\n",
              " {'loss': [0.09883225709199905],\n",
              "  'mse': [0.09883225709199905],\n",
              "  'val_loss': [0.06753353029489517],\n",
              "  'val_mse': [0.06753353029489517]},\n",
              " {'loss': [0.07639354467391968],\n",
              "  'mse': [0.07639354467391968],\n",
              "  'val_loss': [0.0490313284099102],\n",
              "  'val_mse': [0.0490313284099102]},\n",
              " {'loss': [0.07609756290912628],\n",
              "  'mse': [0.07609756290912628],\n",
              "  'val_loss': [0.04001952335238457],\n",
              "  'val_mse': [0.04001952335238457]}]"
            ]
          },
          "metadata": {},
          "execution_count": 490
        }
      ]
    },
    {
      "cell_type": "code",
      "source": [
        "# making predictions on train data \n",
        "predictions = autoencoder.predict(X_train_NF)"
      ],
      "metadata": {
        "colab": {
          "base_uri": "https://localhost:8080/"
        },
        "id": "U8DoeWSp5tJX",
        "outputId": "42d159fd-0aa5-4710-9230-d8f4139afc12"
      },
      "execution_count": 491,
      "outputs": [
        {
          "output_type": "stream",
          "name": "stdout",
          "text": [
            "123/123 [==============================] - 0s 1ms/step\n"
          ]
        }
      ]
    },
    {
      "cell_type": "code",
      "source": [
        "predictions[0:2]"
      ],
      "metadata": {
        "colab": {
          "base_uri": "https://localhost:8080/"
        },
        "id": "Qw2aWZSf574n",
        "outputId": "e55cb0c4-14db-48c0-e862-7e4f5896e80d"
      },
      "execution_count": 492,
      "outputs": [
        {
          "output_type": "execute_result",
          "data": {
            "text/plain": [
              "array([[-1.9786505e+00, -3.6290956e-01,  1.7261305e-01, -2.4669796e-02,\n",
              "        -9.5622391e-03, -2.7885139e-02,  2.8651491e-02,  5.9414981e-04,\n",
              "        -1.8991724e-02, -3.5781823e-03, -1.5261531e-02, -3.5027824e-03,\n",
              "        -5.7676453e-03, -1.1920216e-02, -1.2225583e-03,  4.3084086e-03,\n",
              "         2.8373203e-03, -9.2733651e-05,  6.1665736e-03, -2.3245011e-03,\n",
              "        -8.7739378e-03,  3.1618746e-03,  5.0298255e-03,  1.9549145e-03,\n",
              "         6.3106790e-04,  1.6140199e-03, -1.1377692e-09, -7.3473405e-10,\n",
              "        -9.1032404e-11],\n",
              "       [ 1.7494285e+00,  5.7200140e-01,  3.1118932e-01, -2.2670124e-01,\n",
              "         5.5203897e-01, -7.9717600e-01,  4.9882829e-03,  3.9072055e-01,\n",
              "        -4.2107716e-02,  4.6012007e-02, -2.4624854e-02,  1.1489924e-02,\n",
              "        -8.8428520e-03, -8.0080759e-03,  2.2521317e-02, -1.0126487e-02,\n",
              "         3.7674334e-02,  1.2591548e-02, -1.3500193e-02, -5.7081543e-03,\n",
              "         3.2396261e-03,  2.3554889e-03,  8.4290039e-03,  4.9024983e-04,\n",
              "         9.8767998e-03,  1.8956386e-03,  1.4106596e-09,  7.3085432e-10,\n",
              "        -2.3534294e-10]], dtype=float32)"
            ]
          },
          "metadata": {},
          "execution_count": 492
        }
      ]
    },
    {
      "cell_type": "markdown",
      "source": [
        "**Example of np.hstack**\n",
        "\n",
        "1st Input array : \n",
        " [1 2 3]\n",
        "2nd Input array : \n",
        " [4 5 6]\n",
        "Output horizontally stacked array:\n",
        "  [1 2 3 4 5 6]"
      ],
      "metadata": {
        "id": "cQx-9w0v69lF"
      }
    },
    {
      "cell_type": "code",
      "source": [
        "f = np.hstack((X_test, y_test)) \n",
        "\n",
        "print(f.shape)"
      ],
      "metadata": {
        "colab": {
          "base_uri": "https://localhost:8080/"
        },
        "id": "p7_lpj8T5-xX",
        "outputId": "19269034-46c0-416d-9278-bc93f978054b"
      },
      "execution_count": 493,
      "outputs": [
        {
          "output_type": "stream",
          "name": "stdout",
          "text": [
            "(1188, 30)\n"
          ]
        }
      ]
    },
    {
      "cell_type": "code",
      "source": [
        "test_nf = f[f[:,29]==0]\n",
        "print('Test_nf', test_nf.shape)"
      ],
      "metadata": {
        "colab": {
          "base_uri": "https://localhost:8080/"
        },
        "id": "QySFimY37kvL",
        "outputId": "5413fc7e-404b-4a48-f97d-dadc494670c1"
      },
      "execution_count": 494,
      "outputs": [
        {
          "output_type": "stream",
          "name": "stdout",
          "text": [
            "Test_nf (787, 30)\n"
          ]
        }
      ]
    },
    {
      "cell_type": "code",
      "source": [
        "test_f = f[f[:,29]==1]\n",
        "print('Test_f', test_f.shape)"
      ],
      "metadata": {
        "colab": {
          "base_uri": "https://localhost:8080/"
        },
        "id": "hAc0kL0D74GY",
        "outputId": "6f8033f0-a574-4e13-fb56-f486697013e3"
      },
      "execution_count": 495,
      "outputs": [
        {
          "output_type": "stream",
          "name": "stdout",
          "text": [
            "Test_f (401, 30)\n"
          ]
        }
      ]
    },
    {
      "cell_type": "code",
      "source": [
        "# Getting errors from non-fraud data separately \n",
        "autoencoder.evaluate(test_nf[:,:29], test_nf[:,:29])"
      ],
      "metadata": {
        "colab": {
          "base_uri": "https://localhost:8080/"
        },
        "id": "9tVLxgGG8GII",
        "outputId": "c327bbd3-57fa-44da-dd69-1c0049943870"
      },
      "execution_count": 496,
      "outputs": [
        {
          "output_type": "stream",
          "name": "stdout",
          "text": [
            "25/25 [==============================] - 0s 2ms/step - loss: 0.0132 - mse: 0.0132\n"
          ]
        },
        {
          "output_type": "execute_result",
          "data": {
            "text/plain": [
              "[0.013208875432610512, 0.013208875432610512]"
            ]
          },
          "metadata": {},
          "execution_count": 496
        }
      ]
    },
    {
      "cell_type": "code",
      "source": [
        "# Getting errors from fraud data separately \n",
        "autoencoder.evaluate(test_f[:,:29], test_f[:,:29])"
      ],
      "metadata": {
        "colab": {
          "base_uri": "https://localhost:8080/"
        },
        "id": "3QDw8hGv8W6g",
        "outputId": "6d8e89dc-5960-4e7e-c807-16bc8831ca36"
      },
      "execution_count": 497,
      "outputs": [
        {
          "output_type": "stream",
          "name": "stdout",
          "text": [
            "13/13 [==============================] - 0s 2ms/step - loss: 0.4027 - mse: 0.4027\n"
          ]
        },
        {
          "output_type": "execute_result",
          "data": {
            "text/plain": [
              "[0.4026537835597992, 0.4026537835597992]"
            ]
          },
          "metadata": {},
          "execution_count": 497
        }
      ]
    },
    {
      "cell_type": "code",
      "source": [
        "# Obtaining predictions from non-fraud records \n",
        "predictions_nf = autoencoder.predict(test_nf[:,:29])"
      ],
      "metadata": {
        "colab": {
          "base_uri": "https://localhost:8080/"
        },
        "id": "CKYZuHzV8fcx",
        "outputId": "c279969c-fa57-4eff-99fd-f3cef437ab28"
      },
      "execution_count": 498,
      "outputs": [
        {
          "output_type": "stream",
          "name": "stdout",
          "text": [
            "25/25 [==============================] - 0s 2ms/step\n"
          ]
        }
      ]
    },
    {
      "cell_type": "code",
      "source": [
        "# Obtaining predictions from fraud records \n",
        "predictions_f = autoencoder.predict(test_f[:,:29])"
      ],
      "metadata": {
        "colab": {
          "base_uri": "https://localhost:8080/"
        },
        "id": "V0LOw_Lu8tw8",
        "outputId": "2522f1bd-3887-4c34-ac9c-b5a47a0dc2d1"
      },
      "execution_count": 499,
      "outputs": [
        {
          "output_type": "stream",
          "name": "stdout",
          "text": [
            "13/13 [==============================] - 0s 2ms/step\n"
          ]
        }
      ]
    },
    {
      "cell_type": "code",
      "source": [
        "# Calculating MSE \n",
        "\n",
        "np.mean(np.square(np.abs(test_nf[:,:29]-predictions_nf)))"
      ],
      "metadata": {
        "colab": {
          "base_uri": "https://localhost:8080/"
        },
        "id": "ZCawJArI8x6v",
        "outputId": "d28775a1-cd59-4022-fe43-291ffc26950f"
      },
      "execution_count": 500,
      "outputs": [
        {
          "output_type": "execute_result",
          "data": {
            "text/plain": [
              "0.013208876212873795"
            ]
          },
          "metadata": {},
          "execution_count": 500
        }
      ]
    },
    {
      "cell_type": "code",
      "source": [
        "# Computing errors on the non-fraud data \n",
        "errors_nf = np.mean(np.square(np.abs(test_nf[:,:29] - predictions_nf)), axis=1)"
      ],
      "metadata": {
        "id": "Sar-tu_S8_qI"
      },
      "execution_count": 501,
      "outputs": []
    },
    {
      "cell_type": "code",
      "source": [
        "errors_nf[0:5]"
      ],
      "metadata": {
        "colab": {
          "base_uri": "https://localhost:8080/"
        },
        "id": "c1ZNMc-e9Ymj",
        "outputId": "df37e766-5184-4efe-fece-9b5b45427fe0"
      },
      "execution_count": 502,
      "outputs": [
        {
          "output_type": "execute_result",
          "data": {
            "text/plain": [
              "array([0.00229694, 0.00454748, 0.00123507, 0.00477317, 0.00210275])"
            ]
          },
          "metadata": {},
          "execution_count": 502
        }
      ]
    },
    {
      "cell_type": "code",
      "source": [
        "# Computing errors on the fraud data \n",
        "errors_f = np.mean(np.square(np.abs(test_f[:,:29] - predictions_f)), axis=1)"
      ],
      "metadata": {
        "id": "LDYzVwEc9cX1"
      },
      "execution_count": 503,
      "outputs": []
    },
    {
      "cell_type": "code",
      "source": [
        "errors_f[0:5]"
      ],
      "metadata": {
        "colab": {
          "base_uri": "https://localhost:8080/"
        },
        "id": "XVQhQZbO9kdw",
        "outputId": "2c9f9041-4f2d-4caf-9521-ba6dc5b62e32"
      },
      "execution_count": 504,
      "outputs": [
        {
          "output_type": "execute_result",
          "data": {
            "text/plain": [
              "array([0.00228782, 0.01253683, 0.03675648, 0.05177019, 0.00395661])"
            ]
          },
          "metadata": {},
          "execution_count": 504
        }
      ]
    },
    {
      "cell_type": "code",
      "source": [
        "# Computing the distribution of errors in both non-fraud and fraud data\n",
        "print(np.min(errors_nf))\n",
        "print(np.max(errors_nf))\n",
        "print(np.median(errors_nf))\n",
        "\n",
        "print(np.min(errors_f))\n",
        "print(np.max(errors_f))\n",
        "print(np.median(errors_f))"
      ],
      "metadata": {
        "colab": {
          "base_uri": "https://localhost:8080/"
        },
        "id": "l94EeEaapovg",
        "outputId": "bd2663a2-0a8a-4e55-cb93-2088462aa585"
      },
      "execution_count": 505,
      "outputs": [
        {
          "output_type": "stream",
          "name": "stdout",
          "text": [
            "0.00011427898492423897\n",
            "1.1309170985910526\n",
            "0.0018051598503801495\n",
            "0.0003471602619083065\n",
            "20.12403493158116\n",
            "0.035791223310972196\n"
          ]
        }
      ]
    },
    {
      "cell_type": "code",
      "source": [
        "import matplotlib.pyplot as plt\n",
        "import seaborn as sns \n",
        "\n",
        "fig = plt.figure(figsize=(12,8))\n",
        "\n",
        "plt.subplot(1, 2, 1)\n",
        "plt.boxplot(errors_f)\n",
        "\n",
        "plt.subplot(1, 2, 2)\n",
        "plt.boxplot(errors_nf)\n",
        "\n",
        "fig.suptitle('Error boxplot for Fraud and nonfraud')"
      ],
      "metadata": {
        "colab": {
          "base_uri": "https://localhost:8080/",
          "height": 577
        },
        "id": "bx6rx75Rp8lO",
        "outputId": "3153c012-084e-4ea2-e60a-e486a8e0c961"
      },
      "execution_count": 506,
      "outputs": [
        {
          "output_type": "execute_result",
          "data": {
            "text/plain": [
              "Text(0.5, 0.98, 'Error boxplot for Fraud and nonfraud')"
            ]
          },
          "metadata": {},
          "execution_count": 506
        },
        {
          "output_type": "display_data",
          "data": {
            "text/plain": [
              "<Figure size 864x576 with 2 Axes>"
            ],
            "image/png": "[encoded data removed]"
          },
          "metadata": {
            "needs_background": "light"
          }
        }
      ]
    },
    {
      "cell_type": "markdown",
      "source": [
        "## Setting threshold for metric calculations"
      ],
      "metadata": {
        "id": "N2Y8U736sO2Z"
      }
    },
    {
      "cell_type": "code",
      "source": [
        "threshold = 0.250003411"
      ],
      "metadata": {
        "id": "12kJIg4ysODr"
      },
      "execution_count": 507,
      "outputs": []
    },
    {
      "cell_type": "markdown",
      "source": [
        "## Testing on unseen data"
      ],
      "metadata": {
        "id": "lhLHkogCrMr0"
      }
    },
    {
      "cell_type": "code",
      "source": [
        "test_pred = autoencoder.predict(X_test)\n",
        "test_pred.shape"
      ],
      "metadata": {
        "colab": {
          "base_uri": "https://localhost:8080/"
        },
        "id": "nakVPZCorL55",
        "outputId": "9eefa462-6890-47be-f5e4-049349938def"
      },
      "execution_count": 508,
      "outputs": [
        {
          "output_type": "stream",
          "name": "stdout",
          "text": [
            "38/38 [==============================] - 0s 1ms/step\n"
          ]
        },
        {
          "output_type": "execute_result",
          "data": {
            "text/plain": [
              "(1188, 29)"
            ]
          },
          "metadata": {},
          "execution_count": 508
        }
      ]
    },
    {
      "cell_type": "code",
      "source": [
        "recon_error = np.abs(np.subtract(test_pred, X_test[:,:29]))\n",
        "recon_error.shape "
      ],
      "metadata": {
        "colab": {
          "base_uri": "https://localhost:8080/"
        },
        "id": "MHfV7tEurgSt",
        "outputId": "ade64968-b07b-4aea-c79f-17e2b174abed"
      },
      "execution_count": 509,
      "outputs": [
        {
          "output_type": "execute_result",
          "data": {
            "text/plain": [
              "(1188, 29)"
            ]
          },
          "metadata": {},
          "execution_count": 509
        }
      ]
    },
    {
      "cell_type": "code",
      "source": [
        "from sklearn.metrics import precision_score, recall_score, accuracy_score, confusion_matrix, f1_score \n",
        "\n",
        "fraud = (recon_error[:,1]>threshold)\n",
        "print(f'Recall = {recall_score(y_test, fraud)}')\n",
        "print(f'Precision = {precision_score(y_test, fraud)}')\n",
        "print(f'Accuracy = {accuracy_score(y_test, fraud)}')\n",
        "print(f'F1-Score = {f1_score(y_test, fraud)}')"
      ],
      "metadata": {
        "colab": {
          "base_uri": "https://localhost:8080/"
        },
        "id": "u8gveKDHr5cM",
        "outputId": "29976faa-dfcb-403b-fe26-23f3a451b4ce"
      },
      "execution_count": 510,
      "outputs": [
        {
          "output_type": "stream",
          "name": "stdout",
          "text": [
            "Recall = 0.6608478802992519\n",
            "Precision = 0.8359621451104101\n",
            "Accuracy = 0.8417508417508418\n",
            "F1-Score = 0.7381615598885795\n"
          ]
        }
      ]
    },
    {
      "cell_type": "code",
      "source": [
        "print(confusion_matrix(y_true=y_test,y_pred=fraud, labels=[1,0]))"
      ],
      "metadata": {
        "colab": {
          "base_uri": "https://localhost:8080/"
        },
        "id": "-9kIH6XewlIT",
        "outputId": "29d197a8-d2ce-4756-db5b-1a6237b83f71"
      },
      "execution_count": 511,
      "outputs": [
        {
          "output_type": "stream",
          "name": "stdout",
          "text": [
            "[[265 136]\n",
            " [ 52 735]]\n"
          ]
        }
      ]
    },
    {
      "cell_type": "markdown",
      "source": [
        "## Evaluation"
      ],
      "metadata": {
        "id": "hmDvXzsJxC4x"
      }
    },
    {
      "cell_type": "code",
      "source": [
        "predictions_eval = autoencoder.predict(X_eval[:,:29])\n",
        "predictions_eval.shape"
      ],
      "metadata": {
        "colab": {
          "base_uri": "https://localhost:8080/"
        },
        "id": "_8VxmNx7xBep",
        "outputId": "9e3d165f-916a-48bb-8e6b-f08ae3439c46"
      },
      "execution_count": 512,
      "outputs": [
        {
          "output_type": "stream",
          "name": "stdout",
          "text": [
            "10/10 [==============================] - 0s 2ms/step\n"
          ]
        },
        {
          "output_type": "execute_result",
          "data": {
            "text/plain": [
              "(297, 29)"
            ]
          },
          "metadata": {},
          "execution_count": 512
        }
      ]
    },
    {
      "cell_type": "code",
      "source": [
        "ind_errors_eval = np.abs(np.subtract(predictions_eval, X_eval[:,:29]))\n",
        "ind_errors_eval.shape"
      ],
      "metadata": {
        "colab": {
          "base_uri": "https://localhost:8080/"
        },
        "id": "-ljqlCf0yyAU",
        "outputId": "2c4435fd-bebc-4d9e-ad96-1287c4a6dd2a"
      },
      "execution_count": 513,
      "outputs": [
        {
          "output_type": "execute_result",
          "data": {
            "text/plain": [
              "(297, 29)"
            ]
          },
          "metadata": {},
          "execution_count": 513
        }
      ]
    },
    {
      "cell_type": "code",
      "source": [
        "fraud_eval = ind_errors_eval[:,1]>threshold \n",
        "print(f'Recall = {recall_score(X_eval[:,29], fraud_eval)}')\n",
        "print(f'Precision = {precision_score(X_eval[:,29], fraud_eval)}')\n",
        "print(f'Accuracy = {accuracy_score(X_eval[:,29], fraud_eval)}')\n",
        "print(f'F1-score = {f1_score(X_eval[:,29], fraud_eval)}')\n"
      ],
      "metadata": {
        "colab": {
          "base_uri": "https://localhost:8080/"
        },
        "id": "RMdCyAB1zFGm",
        "outputId": "dd543f58-57d9-4f04-a47a-6732196d16be"
      },
      "execution_count": 514,
      "outputs": [
        {
          "output_type": "stream",
          "name": "stdout",
          "text": [
            "Recall = 0.6857142857142857\n",
            "Precision = 0.8470588235294118\n",
            "Accuracy = 0.8451178451178452\n",
            "F1-score = 0.7578947368421053\n"
          ]
        }
      ]
    },
    {
      "cell_type": "code",
      "source": [
        "print(confusion_matrix(y_true=X_eval[:,29], y_pred=fraud_eval, labels=[1,0]))"
      ],
      "metadata": {
        "colab": {
          "base_uri": "https://localhost:8080/"
        },
        "id": "FOaRYR4_0Rn2",
        "outputId": "ff698449-fcbc-496a-a6c5-6569ccce4e8e"
      },
      "execution_count": 515,
      "outputs": [
        {
          "output_type": "stream",
          "name": "stdout",
          "text": [
            "[[ 72  33]\n",
            " [ 13 179]]\n"
          ]
        }
      ]
    },
    {
      "cell_type": "markdown",
      "source": [
        "## Predict on unseen data"
      ],
      "metadata": {
        "id": "oWHJI6MN0xIz"
      }
    },
    {
      "cell_type": "code",
      "source": [
        "predictions_unseen = autoencoder.predict(test_pca[:,:29])\n",
        "predictions_unseen.shape"
      ],
      "metadata": {
        "colab": {
          "base_uri": "https://localhost:8080/"
        },
        "id": "j0LuRD0T00B8",
        "outputId": "4c2f7127-e3d9-4750-a52b-bdb25fff5518"
      },
      "execution_count": 516,
      "outputs": [
        {
          "output_type": "stream",
          "name": "stdout",
          "text": [
            "43/43 [==============================] - 0s 1ms/step\n"
          ]
        },
        {
          "output_type": "execute_result",
          "data": {
            "text/plain": [
              "(1353, 29)"
            ]
          },
          "metadata": {},
          "execution_count": 516
        }
      ]
    },
    {
      "cell_type": "code",
      "source": [
        "ind_errors_unseen = np.abs(np.subtract(predictions_unseen, test_pca[:,:29]))\n",
        "ind_errors_unseen.shape"
      ],
      "metadata": {
        "colab": {
          "base_uri": "https://localhost:8080/"
        },
        "id": "Jz17RdT3008z",
        "outputId": "1f95ada1-c652-4564-d667-84ddb1691bad"
      },
      "execution_count": 517,
      "outputs": [
        {
          "output_type": "execute_result",
          "data": {
            "text/plain": [
              "(1353, 29)"
            ]
          },
          "metadata": {},
          "execution_count": 517
        }
      ]
    },
    {
      "cell_type": "code",
      "source": [
        "fraud_unseen = ind_errors_unseen[:,1]>threshold \n",
        "fraud_unseen.shape"
      ],
      "metadata": {
        "colab": {
          "base_uri": "https://localhost:8080/"
        },
        "id": "_43F2lvW5JUJ",
        "outputId": "651684cf-c2d7-4262-b303-91813a814a47"
      },
      "execution_count": 518,
      "outputs": [
        {
          "output_type": "execute_result",
          "data": {
            "text/plain": [
              "(1353,)"
            ]
          },
          "metadata": {},
          "execution_count": 518
        }
      ]
    },
    {
      "cell_type": "code",
      "source": [
        "fraud_unseen[:20]"
      ],
      "metadata": {
        "colab": {
          "base_uri": "https://localhost:8080/"
        },
        "id": "OoCG5B6Z5Tya",
        "outputId": "096a9ab4-be37-4031-ba54-e75b0c5a7593"
      },
      "execution_count": 519,
      "outputs": [
        {
          "output_type": "execute_result",
          "data": {
            "text/plain": [
              "array([False, False, False, False, False, False, False, False, False,\n",
              "       False, False,  True,  True,  True, False,  True, False, False,\n",
              "       False, False])"
            ]
          },
          "metadata": {},
          "execution_count": 519
        }
      ]
    },
    {
      "cell_type": "code",
      "source": [
        "pickle.dump(autoencoder, open('autoencoder_model.pkl', 'wb'))"
      ],
      "metadata": {
        "id": "EB3oK-jEMUzp"
      },
      "execution_count": 520,
      "outputs": []
    },
    {
      "cell_type": "markdown",
      "source": [
        "### Adding two hidden layers to autoencoders"
      ],
      "metadata": {
        "id": "Cv0qTuvu_7Bx"
      }
    },
    {
      "cell_type": "code",
      "source": [
        "train_pca.shape"
      ],
      "metadata": {
        "colab": {
          "base_uri": "https://localhost:8080/"
        },
        "id": "_p9b3Bw67IGn",
        "outputId": "24fedbf3-f831-465e-97ee-b681a91bcaea"
      },
      "execution_count": 279,
      "outputs": [
        {
          "output_type": "execute_result",
          "data": {
            "text/plain": [
              "(5410, 30)"
            ]
          },
          "metadata": {},
          "execution_count": 279
        }
      ]
    },
    {
      "cell_type": "code",
      "source": [
        "X_train_AE, X_test_AE = train_test_split(train_pca, test_size=0.2, random_state=2023)\n",
        "\n",
        "X_train_AE = X_train_AE[X_train_AE[:,29]==0]\n",
        "X_train_AE = X_train_AE[:,:-1] # dropping the last column \n",
        "y_test_AE = X_test_AE[:,29] \n",
        "X_test_AE = X_test_AE[:,:-1] # Dropping the last column \n",
        "#X_train_AE = X_train_AE.values \n",
        "#X_test_AE = X_test_AE.values \n",
        "X_train_AE.shape  "
      ],
      "metadata": {
        "colab": {
          "base_uri": "https://localhost:8080/"
        },
        "id": "4gVSdaHGCcEf",
        "outputId": "6398fd16-05a9-492b-afff-3bf5cebec449"
      },
      "execution_count": 295,
      "outputs": [
        {
          "output_type": "execute_result",
          "data": {
            "text/plain": [
              "(3925, 29)"
            ]
          },
          "metadata": {},
          "execution_count": 295
        }
      ]
    },
    {
      "cell_type": "code",
      "source": [
        "y_test_AE.shape"
      ],
      "metadata": {
        "colab": {
          "base_uri": "https://localhost:8080/"
        },
        "id": "0QJJmTXpGHfu",
        "outputId": "5112ea01-e452-4609-eded-d8b66c700033"
      },
      "execution_count": 296,
      "outputs": [
        {
          "output_type": "execute_result",
          "data": {
            "text/plain": [
              "(1082,)"
            ]
          },
          "metadata": {},
          "execution_count": 296
        }
      ]
    },
    {
      "cell_type": "code",
      "source": [
        "from keras.models import Model, load_model\n",
        "from keras.layers import Input, Dense\n",
        "from keras.callbacks import ModelCheckpoint, TensorBoard\n",
        "from keras import regularizers\n",
        "\n",
        "input_dim = X_train_AE.shape[1] \n",
        "encoding_dim = 14\n",
        "\n",
        "input_layer = Input(shape=(input_dim, ))\n",
        "encoder = Dense(encoding_dim, activation=\"tanh\", \n",
        "                activity_regularizer=regularizers.l1(10e-5))(input_layer)\n",
        "encoder = Dense(int(encoding_dim / 2), activation=\"relu\")(encoder)\n",
        "decoder = Dense(int(encoding_dim / 2), activation='tanh')(encoder)\n",
        "decoder = Dense(input_dim, activation='relu')(decoder)\n",
        "autoencoder = Model(inputs=input_layer, outputs=decoder)"
      ],
      "metadata": {
        "id": "rKkxWm2S7smj"
      },
      "execution_count": 284,
      "outputs": []
    },
    {
      "cell_type": "code",
      "source": [
        "nb_epoch = 1000\n",
        "batch_size = 16 \n",
        "\n",
        "autoencoder.compile(optimizer='adam',\n",
        "                    loss='mean_squared_error',\n",
        "                    metrics=['accuracy'])\n",
        "checkpointer = ModelCheckpoint(filepath='model.h5',\n",
        "                               verbose=0,\n",
        "                               save_best_only=True) \n",
        "tensorboard = TensorBoard(log_dir='./logs', #Tensorboard \n",
        "                          histogram_freq=0,\n",
        "                          write_graph=True,\n",
        "                          write_images=True) \n",
        "history = autoencoder.fit(X_train_AE, X_train_AE, \n",
        "                          epochs=nb_epochs,\n",
        "                          batch_size=batch_size,\n",
        "                          shuffle=True,\n",
        "                          validation_data=(X_test_AE, X_test_AE),\n",
        "                          verbose=1,\n",
        "                          callbacks=[checkpointer, tensorboard]).history"
      ],
      "metadata": {
        "id": "VftPG5s7BENF",
        "colab": {
          "base_uri": "https://localhost:8080/"
        },
        "outputId": "0bcd4aa7-c83d-4d71-a80e-956389e74d97"
      },
      "execution_count": 304,
      "outputs": [
        {
          "output_type": "stream",
          "name": "stdout",
          "text": [
            "Epoch 1/100\n",
            "246/246 [==============================] - 3s 7ms/step - loss: 0.0983 - accuracy: 0.7508 - val_loss: 0.4724 - val_accuracy: 0.7662\n",
            "Epoch 2/100\n",
            "246/246 [==============================] - 1s 3ms/step - loss: 0.0981 - accuracy: 0.7575 - val_loss: 0.4709 - val_accuracy: 0.7625\n",
            "Epoch 3/100\n",
            "246/246 [==============================] - 1s 3ms/step - loss: 0.0982 - accuracy: 0.7554 - val_loss: 0.4720 - val_accuracy: 0.7523\n",
            "Epoch 4/100\n",
            "246/246 [==============================] - 1s 3ms/step - loss: 0.0982 - accuracy: 0.7552 - val_loss: 0.4584 - val_accuracy: 0.7699\n",
            "Epoch 5/100\n",
            "246/246 [==============================] - 1s 3ms/step - loss: 0.0982 - accuracy: 0.7554 - val_loss: 0.4723 - val_accuracy: 0.7579\n",
            "Epoch 6/100\n",
            "246/246 [==============================] - 1s 3ms/step - loss: 0.0981 - accuracy: 0.7600 - val_loss: 0.4682 - val_accuracy: 0.7717\n",
            "Epoch 7/100\n",
            "246/246 [==============================] - 1s 3ms/step - loss: 0.0980 - accuracy: 0.7557 - val_loss: 0.4650 - val_accuracy: 0.7708\n",
            "Epoch 8/100\n",
            "246/246 [==============================] - 1s 3ms/step - loss: 0.0982 - accuracy: 0.7580 - val_loss: 0.4698 - val_accuracy: 0.7754\n",
            "Epoch 9/100\n",
            "246/246 [==============================] - 1s 3ms/step - loss: 0.0980 - accuracy: 0.7544 - val_loss: 0.4648 - val_accuracy: 0.7699\n",
            "Epoch 10/100\n",
            "246/246 [==============================] - 1s 3ms/step - loss: 0.0980 - accuracy: 0.7580 - val_loss: 0.4662 - val_accuracy: 0.7634\n",
            "Epoch 11/100\n",
            "246/246 [==============================] - 1s 3ms/step - loss: 0.0979 - accuracy: 0.7582 - val_loss: 0.4613 - val_accuracy: 0.7634\n",
            "Epoch 12/100\n",
            "246/246 [==============================] - 1s 3ms/step - loss: 0.0980 - accuracy: 0.7595 - val_loss: 0.4642 - val_accuracy: 0.7810\n",
            "Epoch 13/100\n",
            "246/246 [==============================] - 1s 3ms/step - loss: 0.0979 - accuracy: 0.7610 - val_loss: 0.4526 - val_accuracy: 0.7699\n",
            "Epoch 14/100\n",
            "246/246 [==============================] - 1s 3ms/step - loss: 0.0983 - accuracy: 0.7506 - val_loss: 0.4646 - val_accuracy: 0.7773\n",
            "Epoch 15/100\n",
            "246/246 [==============================] - 1s 3ms/step - loss: 0.0980 - accuracy: 0.7608 - val_loss: 0.4507 - val_accuracy: 0.7782\n",
            "Epoch 16/100\n",
            "246/246 [==============================] - 1s 3ms/step - loss: 0.0980 - accuracy: 0.7582 - val_loss: 0.4528 - val_accuracy: 0.7763\n",
            "Epoch 17/100\n",
            "246/246 [==============================] - 1s 3ms/step - loss: 0.0978 - accuracy: 0.7659 - val_loss: 0.4528 - val_accuracy: 0.7754\n",
            "Epoch 18/100\n",
            "246/246 [==============================] - 1s 3ms/step - loss: 0.0978 - accuracy: 0.7682 - val_loss: 0.4556 - val_accuracy: 0.7828\n",
            "Epoch 19/100\n",
            "246/246 [==============================] - 1s 3ms/step - loss: 0.0980 - accuracy: 0.7620 - val_loss: 0.4562 - val_accuracy: 0.7671\n",
            "Epoch 20/100\n",
            "246/246 [==============================] - 1s 3ms/step - loss: 0.0978 - accuracy: 0.7628 - val_loss: 0.4621 - val_accuracy: 0.7625\n",
            "Epoch 21/100\n",
            "246/246 [==============================] - 1s 3ms/step - loss: 0.0978 - accuracy: 0.7631 - val_loss: 0.4566 - val_accuracy: 0.7736\n",
            "Epoch 22/100\n",
            "246/246 [==============================] - 1s 3ms/step - loss: 0.0978 - accuracy: 0.7564 - val_loss: 0.4499 - val_accuracy: 0.7625\n",
            "Epoch 23/100\n",
            "246/246 [==============================] - 1s 3ms/step - loss: 0.0978 - accuracy: 0.7628 - val_loss: 0.4517 - val_accuracy: 0.7745\n",
            "Epoch 24/100\n",
            "246/246 [==============================] - 1s 3ms/step - loss: 0.0977 - accuracy: 0.7625 - val_loss: 0.4521 - val_accuracy: 0.7542\n",
            "Epoch 25/100\n",
            "246/246 [==============================] - 1s 3ms/step - loss: 0.0980 - accuracy: 0.7618 - val_loss: 0.4444 - val_accuracy: 0.7006\n",
            "Epoch 26/100\n",
            "246/246 [==============================] - 1s 3ms/step - loss: 0.0980 - accuracy: 0.7572 - val_loss: 0.4582 - val_accuracy: 0.7865\n",
            "Epoch 27/100\n",
            "246/246 [==============================] - 1s 3ms/step - loss: 0.0976 - accuracy: 0.7697 - val_loss: 0.4448 - val_accuracy: 0.7874\n",
            "Epoch 28/100\n",
            "246/246 [==============================] - 1s 3ms/step - loss: 0.0978 - accuracy: 0.7638 - val_loss: 0.4488 - val_accuracy: 0.7819\n",
            "Epoch 29/100\n",
            "246/246 [==============================] - 1s 3ms/step - loss: 0.0976 - accuracy: 0.7613 - val_loss: 0.4493 - val_accuracy: 0.7680\n",
            "Epoch 30/100\n",
            "246/246 [==============================] - 1s 3ms/step - loss: 0.0976 - accuracy: 0.7682 - val_loss: 0.4423 - val_accuracy: 0.7736\n",
            "Epoch 31/100\n",
            "246/246 [==============================] - 1s 3ms/step - loss: 0.0977 - accuracy: 0.7664 - val_loss: 0.4715 - val_accuracy: 0.7643\n",
            "Epoch 32/100\n",
            "246/246 [==============================] - 1s 3ms/step - loss: 0.0980 - accuracy: 0.7541 - val_loss: 0.4467 - val_accuracy: 0.7662\n",
            "Epoch 33/100\n",
            "246/246 [==============================] - 1s 3ms/step - loss: 0.0977 - accuracy: 0.7608 - val_loss: 0.4472 - val_accuracy: 0.7847\n",
            "Epoch 34/100\n",
            "246/246 [==============================] - 1s 3ms/step - loss: 0.0976 - accuracy: 0.7702 - val_loss: 0.4497 - val_accuracy: 0.7810\n",
            "Epoch 35/100\n",
            "246/246 [==============================] - 1s 3ms/step - loss: 0.0976 - accuracy: 0.7666 - val_loss: 0.4479 - val_accuracy: 0.7689\n",
            "Epoch 36/100\n",
            "246/246 [==============================] - 1s 3ms/step - loss: 0.0976 - accuracy: 0.7692 - val_loss: 0.4459 - val_accuracy: 0.7773\n",
            "Epoch 37/100\n",
            "246/246 [==============================] - 1s 3ms/step - loss: 0.0975 - accuracy: 0.7605 - val_loss: 0.4525 - val_accuracy: 0.7745\n",
            "Epoch 38/100\n",
            "246/246 [==============================] - 1s 3ms/step - loss: 0.0976 - accuracy: 0.7659 - val_loss: 0.4403 - val_accuracy: 0.7736\n",
            "Epoch 39/100\n",
            "246/246 [==============================] - 1s 3ms/step - loss: 0.0976 - accuracy: 0.7648 - val_loss: 0.4521 - val_accuracy: 0.7699\n",
            "Epoch 40/100\n",
            "246/246 [==============================] - 1s 3ms/step - loss: 0.0977 - accuracy: 0.7646 - val_loss: 0.4416 - val_accuracy: 0.7736\n",
            "Epoch 41/100\n",
            "246/246 [==============================] - 1s 3ms/step - loss: 0.0977 - accuracy: 0.7585 - val_loss: 0.4489 - val_accuracy: 0.7532\n",
            "Epoch 42/100\n",
            "246/246 [==============================] - 1s 3ms/step - loss: 0.0975 - accuracy: 0.7676 - val_loss: 0.4393 - val_accuracy: 0.7763\n",
            "Epoch 43/100\n",
            "246/246 [==============================] - 1s 3ms/step - loss: 0.0977 - accuracy: 0.7618 - val_loss: 0.4434 - val_accuracy: 0.7634\n",
            "Epoch 44/100\n",
            "246/246 [==============================] - 1s 3ms/step - loss: 0.0975 - accuracy: 0.7623 - val_loss: 0.4462 - val_accuracy: 0.7680\n",
            "Epoch 45/100\n",
            "246/246 [==============================] - 1s 3ms/step - loss: 0.0974 - accuracy: 0.7679 - val_loss: 0.4423 - val_accuracy: 0.7736\n",
            "Epoch 46/100\n",
            "246/246 [==============================] - 1s 3ms/step - loss: 0.0976 - accuracy: 0.7595 - val_loss: 0.4454 - val_accuracy: 0.7634\n",
            "Epoch 47/100\n",
            "246/246 [==============================] - 1s 3ms/step - loss: 0.0975 - accuracy: 0.7671 - val_loss: 0.4512 - val_accuracy: 0.7837\n",
            "Epoch 48/100\n",
            "246/246 [==============================] - 1s 4ms/step - loss: 0.0974 - accuracy: 0.7687 - val_loss: 0.4397 - val_accuracy: 0.7791\n",
            "Epoch 49/100\n",
            "246/246 [==============================] - 1s 3ms/step - loss: 0.0975 - accuracy: 0.7656 - val_loss: 0.4553 - val_accuracy: 0.7847\n",
            "Epoch 50/100\n",
            "246/246 [==============================] - 1s 4ms/step - loss: 0.0974 - accuracy: 0.7669 - val_loss: 0.4456 - val_accuracy: 0.7736\n",
            "Epoch 51/100\n",
            "246/246 [==============================] - 1s 3ms/step - loss: 0.0975 - accuracy: 0.7631 - val_loss: 0.4489 - val_accuracy: 0.7689\n",
            "Epoch 52/100\n",
            "246/246 [==============================] - 1s 3ms/step - loss: 0.0973 - accuracy: 0.7735 - val_loss: 0.4462 - val_accuracy: 0.7699\n",
            "Epoch 53/100\n",
            "246/246 [==============================] - 1s 3ms/step - loss: 0.0974 - accuracy: 0.7654 - val_loss: 0.4528 - val_accuracy: 0.7791\n",
            "Epoch 54/100\n",
            "246/246 [==============================] - 1s 3ms/step - loss: 0.0975 - accuracy: 0.7638 - val_loss: 0.4504 - val_accuracy: 0.7810\n",
            "Epoch 55/100\n",
            "246/246 [==============================] - 1s 3ms/step - loss: 0.0973 - accuracy: 0.7692 - val_loss: 0.4486 - val_accuracy: 0.7893\n",
            "Epoch 56/100\n",
            "246/246 [==============================] - 1s 3ms/step - loss: 0.0974 - accuracy: 0.7778 - val_loss: 0.4483 - val_accuracy: 0.7828\n",
            "Epoch 57/100\n",
            "246/246 [==============================] - 1s 3ms/step - loss: 0.0975 - accuracy: 0.7750 - val_loss: 0.4420 - val_accuracy: 0.7763\n",
            "Epoch 58/100\n",
            "246/246 [==============================] - 1s 3ms/step - loss: 0.0974 - accuracy: 0.7697 - val_loss: 0.4389 - val_accuracy: 0.7819\n",
            "Epoch 59/100\n",
            "246/246 [==============================] - 1s 3ms/step - loss: 0.0974 - accuracy: 0.7676 - val_loss: 0.4474 - val_accuracy: 0.7763\n",
            "Epoch 60/100\n",
            "246/246 [==============================] - 1s 3ms/step - loss: 0.0973 - accuracy: 0.7692 - val_loss: 0.4454 - val_accuracy: 0.7782\n",
            "Epoch 61/100\n",
            "246/246 [==============================] - 1s 3ms/step - loss: 0.0972 - accuracy: 0.7748 - val_loss: 0.4440 - val_accuracy: 0.7782\n",
            "Epoch 62/100\n",
            "246/246 [==============================] - 1s 3ms/step - loss: 0.0973 - accuracy: 0.7740 - val_loss: 0.4446 - val_accuracy: 0.7865\n",
            "Epoch 63/100\n",
            "246/246 [==============================] - 1s 4ms/step - loss: 0.0978 - accuracy: 0.7730 - val_loss: 0.4584 - val_accuracy: 0.7255\n",
            "Epoch 64/100\n",
            "246/246 [==============================] - 1s 3ms/step - loss: 0.0974 - accuracy: 0.7646 - val_loss: 0.4510 - val_accuracy: 0.7856\n",
            "Epoch 65/100\n",
            "246/246 [==============================] - 1s 3ms/step - loss: 0.0972 - accuracy: 0.7755 - val_loss: 0.4492 - val_accuracy: 0.7847\n",
            "Epoch 66/100\n",
            "246/246 [==============================] - 1s 3ms/step - loss: 0.0972 - accuracy: 0.7827 - val_loss: 0.4496 - val_accuracy: 0.7699\n",
            "Epoch 67/100\n",
            "246/246 [==============================] - 1s 3ms/step - loss: 0.0972 - accuracy: 0.7776 - val_loss: 0.4466 - val_accuracy: 0.7736\n",
            "Epoch 68/100\n",
            "246/246 [==============================] - 1s 4ms/step - loss: 0.0972 - accuracy: 0.7827 - val_loss: 0.4433 - val_accuracy: 0.7662\n",
            "Epoch 69/100\n",
            "246/246 [==============================] - 1s 3ms/step - loss: 0.0973 - accuracy: 0.7753 - val_loss: 0.4496 - val_accuracy: 0.7810\n",
            "Epoch 70/100\n",
            "246/246 [==============================] - 1s 3ms/step - loss: 0.0972 - accuracy: 0.7804 - val_loss: 0.4442 - val_accuracy: 0.7745\n",
            "Epoch 71/100\n",
            "246/246 [==============================] - 1s 3ms/step - loss: 0.0972 - accuracy: 0.7781 - val_loss: 0.4411 - val_accuracy: 0.8068\n",
            "Epoch 72/100\n",
            "246/246 [==============================] - 1s 3ms/step - loss: 0.0971 - accuracy: 0.7817 - val_loss: 0.4416 - val_accuracy: 0.7800\n",
            "Epoch 73/100\n",
            "246/246 [==============================] - 1s 3ms/step - loss: 0.0973 - accuracy: 0.7753 - val_loss: 0.4441 - val_accuracy: 0.7662\n",
            "Epoch 74/100\n",
            "246/246 [==============================] - 1s 3ms/step - loss: 0.0973 - accuracy: 0.7789 - val_loss: 0.4427 - val_accuracy: 0.7616\n",
            "Epoch 75/100\n",
            "246/246 [==============================] - 1s 3ms/step - loss: 0.0975 - accuracy: 0.7740 - val_loss: 0.4491 - val_accuracy: 0.7874\n",
            "Epoch 76/100\n",
            "246/246 [==============================] - 1s 3ms/step - loss: 0.0971 - accuracy: 0.7789 - val_loss: 0.4470 - val_accuracy: 0.7994\n",
            "Epoch 77/100\n",
            "246/246 [==============================] - 1s 3ms/step - loss: 0.0972 - accuracy: 0.7766 - val_loss: 0.4447 - val_accuracy: 0.7967\n",
            "Epoch 78/100\n",
            "246/246 [==============================] - 1s 3ms/step - loss: 0.0971 - accuracy: 0.7827 - val_loss: 0.4425 - val_accuracy: 0.7939\n",
            "Epoch 79/100\n",
            "246/246 [==============================] - 1s 3ms/step - loss: 0.0971 - accuracy: 0.7768 - val_loss: 0.4489 - val_accuracy: 0.7976\n",
            "Epoch 80/100\n",
            "246/246 [==============================] - 1s 3ms/step - loss: 0.0970 - accuracy: 0.7801 - val_loss: 0.4414 - val_accuracy: 0.7921\n",
            "Epoch 81/100\n",
            "246/246 [==============================] - 1s 3ms/step - loss: 0.0973 - accuracy: 0.7722 - val_loss: 0.4346 - val_accuracy: 0.7921\n",
            "Epoch 82/100\n",
            "246/246 [==============================] - 1s 3ms/step - loss: 0.0972 - accuracy: 0.7796 - val_loss: 0.4378 - val_accuracy: 0.7726\n",
            "Epoch 83/100\n",
            "246/246 [==============================] - 1s 3ms/step - loss: 0.0971 - accuracy: 0.7857 - val_loss: 0.4430 - val_accuracy: 0.7930\n",
            "Epoch 84/100\n",
            "246/246 [==============================] - 1s 3ms/step - loss: 0.0973 - accuracy: 0.7766 - val_loss: 0.4420 - val_accuracy: 0.7754\n",
            "Epoch 85/100\n",
            "246/246 [==============================] - 1s 3ms/step - loss: 0.0970 - accuracy: 0.7875 - val_loss: 0.4487 - val_accuracy: 0.8022\n",
            "Epoch 86/100\n",
            "246/246 [==============================] - 1s 3ms/step - loss: 0.0974 - accuracy: 0.7730 - val_loss: 0.4333 - val_accuracy: 0.8087\n",
            "Epoch 87/100\n",
            "246/246 [==============================] - 1s 3ms/step - loss: 0.0973 - accuracy: 0.7664 - val_loss: 0.4401 - val_accuracy: 0.7837\n",
            "Epoch 88/100\n",
            "246/246 [==============================] - 1s 3ms/step - loss: 0.0970 - accuracy: 0.7834 - val_loss: 0.4434 - val_accuracy: 0.7865\n",
            "Epoch 89/100\n",
            "246/246 [==============================] - 1s 3ms/step - loss: 0.0970 - accuracy: 0.7832 - val_loss: 0.4350 - val_accuracy: 0.7763\n",
            "Epoch 90/100\n",
            "246/246 [==============================] - 1s 3ms/step - loss: 0.0972 - accuracy: 0.7789 - val_loss: 0.4429 - val_accuracy: 0.7948\n",
            "Epoch 91/100\n",
            "246/246 [==============================] - 1s 3ms/step - loss: 0.0970 - accuracy: 0.7839 - val_loss: 0.4475 - val_accuracy: 0.7957\n",
            "Epoch 92/100\n",
            "246/246 [==============================] - 1s 3ms/step - loss: 0.0970 - accuracy: 0.7855 - val_loss: 0.4420 - val_accuracy: 0.7884\n",
            "Epoch 93/100\n",
            "246/246 [==============================] - 1s 3ms/step - loss: 0.0972 - accuracy: 0.7852 - val_loss: 0.4416 - val_accuracy: 0.7911\n",
            "Epoch 94/100\n",
            "246/246 [==============================] - 1s 3ms/step - loss: 0.0970 - accuracy: 0.7868 - val_loss: 0.4452 - val_accuracy: 0.8013\n",
            "Epoch 95/100\n",
            "246/246 [==============================] - 1s 3ms/step - loss: 0.0971 - accuracy: 0.7911 - val_loss: 0.4432 - val_accuracy: 0.7985\n",
            "Epoch 96/100\n",
            "246/246 [==============================] - 1s 3ms/step - loss: 0.0970 - accuracy: 0.7768 - val_loss: 0.4421 - val_accuracy: 0.7819\n",
            "Epoch 97/100\n",
            "246/246 [==============================] - 1s 3ms/step - loss: 0.0971 - accuracy: 0.7845 - val_loss: 0.4371 - val_accuracy: 0.7773\n",
            "Epoch 98/100\n",
            "246/246 [==============================] - 1s 3ms/step - loss: 0.0970 - accuracy: 0.7862 - val_loss: 0.4447 - val_accuracy: 0.7967\n",
            "Epoch 99/100\n",
            "246/246 [==============================] - 1s 3ms/step - loss: 0.0969 - accuracy: 0.7873 - val_loss: 0.4407 - val_accuracy: 0.7828\n",
            "Epoch 100/100\n",
            "246/246 [==============================] - 1s 3ms/step - loss: 0.0970 - accuracy: 0.7850 - val_loss: 0.4378 - val_accuracy: 0.8013\n"
          ]
        }
      ]
    },
    {
      "cell_type": "code",
      "source": [
        "# Loading the model \n",
        "autoencoder = load_model('model.h5')"
      ],
      "metadata": {
        "id": "SL7PYgHv943g"
      },
      "execution_count": 305,
      "outputs": []
    },
    {
      "cell_type": "code",
      "source": [
        "# Plotting training and validation loss \n",
        "\n",
        "plt.plot(history['loss'])\n",
        "plt.plot(history['val_loss'])\n",
        "plt.title('model_loss') \n",
        "plt.ylabel('loss')\n",
        "plt.xlabel('epoch')\n",
        "plt.legend(['train', 'test'], loc='upper right')"
      ],
      "metadata": {
        "colab": {
          "base_uri": "https://localhost:8080/",
          "height": 333
        },
        "id": "_JQw-fzUEdiL",
        "outputId": "c8ff2020-eada-4c34-d485-80a4873cf5a9"
      },
      "execution_count": 306,
      "outputs": [
        {
          "output_type": "execute_result",
          "data": {
            "text/plain": [
              "<matplotlib.legend.Legend at 0x7f3350ae5760>"
            ]
          },
          "metadata": {},
          "execution_count": 306
        },
        {
          "output_type": "display_data",
          "data": {
            "text/plain": [
              "<Figure size 432x288 with 1 Axes>"
            ],
            "image/png": "[encoded data removed]"
          },
          "metadata": {
            "needs_background": "light"
          }
        }
      ]
    },
    {
      "cell_type": "code",
      "source": [
        "# Predicting on test and evaluate \n",
        "\n",
        "predictions = autoencoder.predict(X_test_AE) \n",
        "mse = np.mean(np.power(X_test_AE - predictions, 2), axis=1)\n",
        "mse.shape\n",
        "error_df = pd.DataFrame({'reconstruction_error': mse, 'true_class': y_test_AE}) \n",
        "\n",
        "error_df.describe()"
      ],
      "metadata": {
        "colab": {
          "base_uri": "https://localhost:8080/",
          "height": 329
        },
        "id": "QMMYTzWyE2R-",
        "outputId": "9f42bbb9-760f-4d1d-813b-226b4f5f2af1"
      },
      "execution_count": 307,
      "outputs": [
        {
          "output_type": "stream",
          "name": "stdout",
          "text": [
            "34/34 [==============================] - 0s 1ms/step\n"
          ]
        },
        {
          "output_type": "execute_result",
          "data": {
            "text/plain": [
              "       reconstruction_error   true_class\n",
              "count           1082.000000  1082.000000\n",
              "mean               0.432913     0.095194\n",
              "std                3.738037     0.293619\n",
              "min                0.004859     0.000000\n",
              "25%                0.048194     0.000000\n",
              "50%                0.097323     0.000000\n",
              "75%                0.132201     0.000000\n",
              "max               81.426433     1.000000"
            ],
            "text/html": [
              "\n",
              "  <div id=\"df-65930118-1ea9-4c4f-aa1b-34988b70b741\">\n",
              "    <div class=\"colab-df-container\">\n",
              "      <div>\n",
              "<style scoped>\n",
              "    .dataframe tbody tr th:only-of-type {\n",
              "        vertical-align: middle;\n",
              "    }\n",
              "\n",
              "    .dataframe tbody tr th {\n",
              "        vertical-align: top;\n",
              "    }\n",
              "\n",
              "    .dataframe thead th {\n",
              "        text-align: right;\n",
              "    }\n",
              "</style>\n",
              "<table border=\"1\" class=\"dataframe\">\n",
              "  <thead>\n",
              "    <tr style=\"text-align: right;\">\n",
              "      <th></th>\n",
              "      <th>reconstruction_error</th>\n",
              "      <th>true_class</th>\n",
              "    </tr>\n",
              "  </thead>\n",
              "  <tbody>\n",
              "    <tr>\n",
              "      <th>count</th>\n",
              "      <td>1082.000000</td>\n",
              "      <td>1082.000000</td>\n",
              "    </tr>\n",
              "    <tr>\n",
              "      <th>mean</th>\n",
              "      <td>0.432913</td>\n",
              "      <td>0.095194</td>\n",
              "    </tr>\n",
              "    <tr>\n",
              "      <th>std</th>\n",
              "      <td>3.738037</td>\n",
              "      <td>0.293619</td>\n",
              "    </tr>\n",
              "    <tr>\n",
              "      <th>min</th>\n",
              "      <td>0.004859</td>\n",
              "      <td>0.000000</td>\n",
              "    </tr>\n",
              "    <tr>\n",
              "      <th>25%</th>\n",
              "      <td>0.048194</td>\n",
              "      <td>0.000000</td>\n",
              "    </tr>\n",
              "    <tr>\n",
              "      <th>50%</th>\n",
              "      <td>0.097323</td>\n",
              "      <td>0.000000</td>\n",
              "    </tr>\n",
              "    <tr>\n",
              "      <th>75%</th>\n",
              "      <td>0.132201</td>\n",
              "      <td>0.000000</td>\n",
              "    </tr>\n",
              "    <tr>\n",
              "      <th>max</th>\n",
              "      <td>81.426433</td>\n",
              "      <td>1.000000</td>\n",
              "    </tr>\n",
              "  </tbody>\n",
              "</table>\n",
              "</div>\n",
              "      <button class=\"colab-df-convert\" onclick=\"convertToInteractive('df-65930118-1ea9-4c4f-aa1b-34988b70b741')\"\n",
              "              title=\"Convert this dataframe to an interactive table.\"\n",
              "              style=\"display:none;\">\n",
              "        \n",
              "  <svg xmlns=\"http://www.w3.org/2000/svg\" height=\"24px\"viewBox=\"0 0 24 24\"\n",
              "       width=\"24px\">\n",
              "    <path d=\"M0 0h24v24H0V0z\" fill=\"none\"/>\n",
              "    <path d=\"M18.56 5.44l.94 2.06.94-2.06 2.06-.94-2.06-.94-.94-2.06-.94 2.06-2.06.94zm-11 1L8.5 8.5l.94-2.06 2.06-.94-2.06-.94L8.5 2.5l-.94 2.06-2.06.94zm10 10l.94 2.06.94-2.06 2.06-.94-2.06-.94-.94-2.06-.94 2.06-2.06.94z\"/><path d=\"M17.41 7.96l-1.37-1.37c-.4-.4-.92-.59-1.43-.59-.52 0-1.04.2-1.43.59L10.3 9.45l-7.72 7.72c-.78.78-.78 2.05 0 2.83L4 21.41c.39.39.9.59 1.41.59.51 0 1.02-.2 1.41-.59l7.78-7.78 2.81-2.81c.8-.78.8-2.07 0-2.86zM5.41 20L4 18.59l7.72-7.72 1.47 1.35L5.41 20z\"/>\n",
              "  </svg>\n",
              "      </button>\n",
              "      \n",
              "  <style>\n",
              "    .colab-df-container {\n",
              "      display:flex;\n",
              "      flex-wrap:wrap;\n",
              "      gap: 12px;\n",
              "    }\n",
              "\n",
              "    .colab-df-convert {\n",
              "      background-color: #E8F0FE;\n",
              "      border: none;\n",
              "      border-radius: 50%;\n",
              "      cursor: pointer;\n",
              "      display: none;\n",
              "      fill: #1967D2;\n",
              "      height: 32px;\n",
              "      padding: 0 0 0 0;\n",
              "      width: 32px;\n",
              "    }\n",
              "\n",
              "    .colab-df-convert:hover {\n",
              "      background-color: #E2EBFA;\n",
              "      box-shadow: 0px 1px 2px rgba(60, 64, 67, 0.3), 0px 1px 3px 1px rgba(60, 64, 67, 0.15);\n",
              "      fill: #174EA6;\n",
              "    }\n",
              "\n",
              "    [theme=dark] .colab-df-convert {\n",
              "      background-color: #3B4455;\n",
              "      fill: #D2E3FC;\n",
              "    }\n",
              "\n",
              "    [theme=dark] .colab-df-convert:hover {\n",
              "      background-color: #434B5C;\n",
              "      box-shadow: 0px 1px 3px 1px rgba(0, 0, 0, 0.15);\n",
              "      filter: drop-shadow(0px 1px 2px rgba(0, 0, 0, 0.3));\n",
              "      fill: #FFFFFF;\n",
              "    }\n",
              "  </style>\n",
              "\n",
              "      <script>\n",
              "        const buttonEl =\n",
              "          document.querySelector('#df-65930118-1ea9-4c4f-aa1b-34988b70b741 button.colab-df-convert');\n",
              "        buttonEl.style.display =\n",
              "          google.colab.kernel.accessAllowed ? 'block' : 'none';\n",
              "\n",
              "        async function convertToInteractive(key) {\n",
              "          const element = document.querySelector('#df-65930118-1ea9-4c4f-aa1b-34988b70b741');\n",
              "          const dataTable =\n",
              "            await google.colab.kernel.invokeFunction('convertToInteractive',\n",
              "                                                     [key], {});\n",
              "          if (!dataTable) return;\n",
              "\n",
              "          const docLinkHtml = 'Like what you see? Visit the ' +\n",
              "            '<a target=\"_blank\" href=https://colab.research.google.com/notebooks/data_table.ipynb>data table notebook</a>'\n",
              "            + ' to learn more about interactive tables.';\n",
              "          element.innerHTML = '';\n",
              "          dataTable['output_type'] = 'display_data';\n",
              "          await google.colab.output.renderOutput(dataTable, element);\n",
              "          const docLink = document.createElement('div');\n",
              "          docLink.innerHTML = docLinkHtml;\n",
              "          element.appendChild(docLink);\n",
              "        }\n",
              "      </script>\n",
              "    </div>\n",
              "  </div>\n",
              "  "
            ]
          },
          "metadata": {},
          "execution_count": 307
        }
      ]
    },
    {
      "cell_type": "code",
      "source": [
        "from sklearn.metrics import (confusion_matrix, precision_recall_curve, auc,\n",
        "                             roc_curve, recall_score, classification_report, f1_score,\n",
        "                             precision_recall_fscore_support)"
      ],
      "metadata": {
        "id": "j54O3fI4FiXf"
      },
      "execution_count": 308,
      "outputs": []
    },
    {
      "cell_type": "code",
      "source": [
        "###ROC for errors and true class\n",
        "\n",
        "fpr, tpr, thresholds = roc_curve(error_df.true_class, error_df.reconstruction_error)\n",
        "roc_auc = auc(fpr, tpr)\n",
        "\n",
        "plt.title('Receiver Operating Characteristic')\n",
        "plt.plot(fpr, tpr, label='AUC = %0.4f'% roc_auc)\n",
        "plt.legend(loc='lower right')\n",
        "plt.plot([0,1],[0,1],'r--')\n",
        "plt.xlim([-0.001, 1])\n",
        "plt.ylim([0, 1.001])\n",
        "plt.ylabel('True Positive Rate')\n",
        "plt.xlabel('False Positive Rate')\n",
        "plt.show();"
      ],
      "metadata": {
        "colab": {
          "base_uri": "https://localhost:8080/",
          "height": 316
        },
        "id": "x9TvMppJFtX6",
        "outputId": "1ee6b01f-283d-454f-d90d-888520d480c8"
      },
      "execution_count": 309,
      "outputs": [
        {
          "output_type": "display_data",
          "data": {
            "text/plain": [
              "<Figure size 432x288 with 1 Axes>"
            ],
            "image/png": "[encoded data removed]"
          },
          "metadata": {
            "needs_background": "light"
          }
        }
      ]
    },
    {
      "cell_type": "code",
      "source": [
        "## Recall Vs Precision\n",
        "\n",
        "precision, recall, th = precision_recall_curve(error_df.true_class, error_df.reconstruction_error)\n",
        "plt.plot(recall, precision, 'b', label='Precision-Recall curve')\n",
        "plt.title('Recall vs Precision')\n",
        "plt.xlabel('Recall')\n",
        "plt.ylabel('Precision')\n",
        "plt.show()"
      ],
      "metadata": {
        "colab": {
          "base_uri": "https://localhost:8080/",
          "height": 316
        },
        "id": "KqUJmSbGHa2F",
        "outputId": "1ff621a6-1f06-4448-d6d5-e8106a19e6b3"
      },
      "execution_count": 300,
      "outputs": [
        {
          "output_type": "display_data",
          "data": {
            "text/plain": [
              "<Figure size 432x288 with 1 Axes>"
            ],
            "image/png": "[encoded data removed]"
          },
          "metadata": {
            "needs_background": "light"
          }
        }
      ]
    },
    {
      "cell_type": "code",
      "source": [
        "#Threshold Vs Precision \n",
        "plt.plot(th, precision[1:], 'b', label='Threshold-Precision curve')\n",
        "plt.title('Precision for different threshold values')\n",
        "plt.xlabel('Threshold')\n",
        "plt.ylabel('Precision')\n",
        "plt.show()\n"
      ],
      "metadata": {
        "colab": {
          "base_uri": "https://localhost:8080/",
          "height": 316
        },
        "id": "TRCt8F4yHyQV",
        "outputId": "0ab8a536-633b-40b8-ed80-082bfcc7b3cc"
      },
      "execution_count": 301,
      "outputs": [
        {
          "output_type": "display_data",
          "data": {
            "text/plain": [
              "<Figure size 432x288 with 1 Axes>"
            ],
            "image/png": "[encoded data removed]"
          },
          "metadata": {
            "needs_background": "light"
          }
        }
      ]
    },
    {
      "cell_type": "code",
      "source": [
        "##Recall vs Thresold\n",
        "plt.plot(th, recall[1:], 'b', label='Threshold-Recall curve')\n",
        "plt.title('Recall for different threshold values')\n",
        "plt.xlabel('Reconstruction error')\n",
        "plt.ylabel('Recall')\n",
        "plt.show()"
      ],
      "metadata": {
        "colab": {
          "base_uri": "https://localhost:8080/",
          "height": 316
        },
        "id": "fY9t592LH2dc",
        "outputId": "2443a88f-389c-4d63-ac53-6d0f633c2466"
      },
      "execution_count": 302,
      "outputs": [
        {
          "output_type": "display_data",
          "data": {
            "text/plain": [
              "<Figure size 432x288 with 1 Axes>"
            ],
            "image/png": "[encoded data removed]"
          },
          "metadata": {
            "needs_background": "light"
          }
        }
      ]
    },
    {
      "cell_type": "code",
      "source": [
        "threshold = 0.5"
      ],
      "metadata": {
        "id": "S90p7_mrH6yh"
      },
      "execution_count": 316,
      "outputs": []
    },
    {
      "cell_type": "code",
      "source": [
        "LABELS = [\"Normal\", \"Fraud\"] \n",
        "\n",
        "y_pred = [1 if e > threshold else 0 for e in error_df.reconstruction_error.values]\n",
        "conf_matrix = confusion_matrix(error_df.true_class, y_pred,labels=[0,1])\n",
        "plt.figure(figsize=(12, 12))\n",
        "sns.heatmap(conf_matrix, xticklabels=LABELS, yticklabels=LABELS, annot=True, fmt=\"d\",cmap='Blues');\n",
        "plt.title(\"Confusion matrix\")\n",
        "plt.ylabel('True class')\n",
        "plt.xlabel('Predicted class')\n",
        "plt.show()"
      ],
      "metadata": {
        "colab": {
          "base_uri": "https://localhost:8080/",
          "height": 751
        },
        "id": "aEZJwwJ0IGDY",
        "outputId": "1bbb787c-2831-40d4-ea7a-056abee7bdc5"
      },
      "execution_count": 317,
      "outputs": [
        {
          "output_type": "display_data",
          "data": {
            "text/plain": [
              "<Figure size 864x864 with 2 Axes>"
            ],
            "image/png": "[encoded data removed]"
          },
          "metadata": {
            "needs_background": "light"
          }
        }
      ]
    },
    {
      "cell_type": "code",
      "source": [
        "print('F1_Score:',f1_score(error_df.true_class, y_pred))"
      ],
      "metadata": {
        "colab": {
          "base_uri": "https://localhost:8080/"
        },
        "id": "jwzI7nFAI4_1",
        "outputId": "bcf396a6-ff89-4b02-b03d-b07852322ec2"
      },
      "execution_count": 318,
      "outputs": [
        {
          "output_type": "stream",
          "name": "stdout",
          "text": [
            "F1_Score: 0.4264705882352941\n"
          ]
        }
      ]
    },
    {
      "cell_type": "markdown",
      "source": [
        "# Summary"
      ],
      "metadata": {
        "id": "U89-4NXQJhVd"
      }
    },
    {
      "cell_type": "markdown",
      "source": [
        "**We are able to achieve and F1-score of 0.7 on unseen data with an auto-encoder network of one dense layer and 100 epochs. Unfortunately a more sophisticated auto-encoder network of two dense layers does not yield improvement in performance. **"
      ],
      "metadata": {
        "id": "x5Uln3B-Jl6z"
      }
    }
  ]
}