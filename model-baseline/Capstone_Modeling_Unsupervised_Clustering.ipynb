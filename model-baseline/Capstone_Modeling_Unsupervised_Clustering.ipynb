{
  "nbformat": 4,
  "nbformat_minor": 0,
  "metadata": {
    "colab": {
      "provenance": [],
      "toc_visible": true
    },
    "kernelspec": {
      "name": "python3",
      "display_name": "Python 3"
    },
    "language_info": {
      "name": "python"
    }
  },
  "cells": [
    {
      "cell_type": "markdown",
      "source": [
        "**Business Objective**\n",
        "\n",
        "Rampant fraud in US healthcare system results in increased premiums for many vulnerable citizens who cannot afford to pay hefty price for a fundamental right such as healthcare. The aim is to find patterns of fraud commited by providers and train ML models to detect similar patterns in the future. Dataset for this capstone project is obtained from Kaggle [here](https://www.kaggle.com/code/rohitrox/medical-provider-fraud-detection/data).\n",
        "\n",
        "---\n",
        "\n",
        "\n",
        "Abuse in healthcare system can take many forms, such as:\n",
        "\n",
        "*Billing for services that were not rendered.\n",
        "\n",
        "*Duplicate submission of a claim for the same service.\n",
        "\n",
        "*Charging for a more complex or expensive than was actually provided."
      ],
      "metadata": {
        "id": "oGQ5uB5WwHvJ"
      }
    },
    {
      "cell_type": "markdown",
      "source": [
        "# Fetching Train and Test Files"
      ],
      "metadata": {
        "id": "VsKXuTdyy5Lg"
      }
    },
    {
      "cell_type": "code",
      "source": [
        "!pip install sklearn==0.0.post1"
      ],
      "metadata": {
        "colab": {
          "base_uri": "https://localhost:8080/"
        },
        "id": "3uENGd3z72D8",
        "outputId": "3731dd99-05fa-462e-bb47-a9a2c589c834"
      },
      "execution_count": 1,
      "outputs": [
        {
          "output_type": "stream",
          "name": "stdout",
          "text": [
            "Looking in indexes: https://pypi.org/simple, https://us-python.pkg.dev/colab-wheels/public/simple/\n",
            "Collecting sklearn==0.0.post1\n",
            "  Downloading sklearn-0.0.post1.tar.gz (3.6 kB)\n",
            "  Preparing metadata (setup.py) ... \u001b[?25l\u001b[?25hdone\n",
            "Building wheels for collected packages: sklearn\n",
            "  Building wheel for sklearn (setup.py) ... \u001b[?25l\u001b[?25hdone\n",
            "  Created wheel for sklearn: filename=sklearn-0.0.post1-py3-none-any.whl size=2344 sha256=5cfc537da8cd52021e183eb405157c47dcc3ce5f9931a1836d4b3efcc439fa94\n",
            "  Stored in directory: /root/.cache/pip/wheels/14/25/f7/1cc0956978ae479e75140219088deb7a36f60459df242b1a72\n",
            "Successfully built sklearn\n",
            "Installing collected packages: sklearn\n",
            "Successfully installed sklearn-0.0.post1\n"
          ]
        }
      ]
    },
    {
      "cell_type": "code",
      "source": [
        "import sklearn\n",
        "sklearn.__version__"
      ],
      "metadata": {
        "colab": {
          "base_uri": "https://localhost:8080/",
          "height": 56
        },
        "id": "bLHPa3Hq7aUp",
        "outputId": "a038692d-1d7a-45ae-92f5-cce94b3abd76"
      },
      "execution_count": 2,
      "outputs": [
        {
          "output_type": "execute_result",
          "data": {
            "text/plain": [
              "'1.0.2'"
            ],
            "application/vnd.google.colaboratory.intrinsic+json": {
              "type": "string"
            }
          },
          "metadata": {},
          "execution_count": 2
        }
      ]
    },
    {
      "cell_type": "code",
      "source": [
        "import numpy as np\n",
        "import pickle"
      ],
      "metadata": {
        "id": "p7mYKEZRI-v_"
      },
      "execution_count": 3,
      "outputs": []
    },
    {
      "cell_type": "code",
      "source": [
        "from google.colab import drive\n",
        "drive.mount('/content/drive')"
      ],
      "metadata": {
        "colab": {
          "base_uri": "https://localhost:8080/"
        },
        "id": "iT4Y0NjcKlfr",
        "outputId": "c414b616-e941-456c-84d0-2e78dc837773"
      },
      "execution_count": 4,
      "outputs": [
        {
          "output_type": "stream",
          "name": "stdout",
          "text": [
            "Mounted at /content/drive\n"
          ]
        }
      ]
    },
    {
      "cell_type": "code",
      "source": [
        "!ls /content/drive/MyDrive/fourthbrain"
      ],
      "metadata": {
        "colab": {
          "base_uri": "https://localhost:8080/"
        },
        "id": "fxRPjtPlXexS",
        "outputId": "ee266a89-19eb-46f2-ed05-c3afdd07239a"
      },
      "execution_count": 5,
      "outputs": [
        {
          "output_type": "stream",
          "name": "stdout",
          "text": [
            "dog_dataset\t\t\t\tTrain_Beneficiarydata-1542865627584.csv\n",
            "Test-1542969243754.csv\t\t\tTrain_Inpatientdata-1542865627584.csv\n",
            "Test_Beneficiarydata-1542969243754.csv\tTrain_Outpatientdata-1542865627584.csv\n",
            "Test_Inpatientdata-1542969243754.csv\ttweets.csv.gz\n",
            "Test_Outpatientdata-1542969243754.csv\ttwitter-mask.png\n",
            "Train-1542865627584.csv\n"
          ]
        }
      ]
    },
    {
      "cell_type": "code",
      "source": [
        "import pandas as pd\n",
        "import os\n",
        "pathname = '/content/drive/MyDrive/fourthbrain'\n",
        "\n",
        "train_df = pd.read_csv(os.path.join(pathname,'Train-1542865627584.csv'))\n",
        "train_beneficiary_df = pd.read_csv(os.path.join(pathname,'Train_Beneficiarydata-1542865627584.csv'))\n",
        "train_inpatient_df = pd.read_csv(os.path.join(pathname,'Train_Inpatientdata-1542865627584.csv'))\n",
        "train_outpatient_df = pd.read_csv(os.path.join(pathname,'Train_Outpatientdata-1542865627584.csv'))\n",
        "\n",
        "test_df = pd.read_csv(os.path.join(pathname,'Test-1542969243754.csv'))\n",
        "test_beneficiary_df = pd.read_csv(os.path.join(pathname,'Test_Beneficiarydata-1542969243754.csv'))\n",
        "test_inpatient_df = pd.read_csv(os.path.join(pathname,'Test_Inpatientdata-1542969243754.csv'))\n",
        "test_outpatient_df = pd.read_csv(os.path.join(pathname,'Test_Outpatientdata-1542969243754.csv'))"
      ],
      "metadata": {
        "id": "aVrfisylwe3Q"
      },
      "execution_count": 6,
      "outputs": []
    },
    {
      "cell_type": "markdown",
      "source": [
        "# Data Engineering on Beneficiary Dataset"
      ],
      "metadata": {
        "id": "MyzCpDbQzB_K"
      }
    },
    {
      "cell_type": "code",
      "source": [
        "train_beneficiary_df['ChronicCond_Alzheimer'].value_counts()"
      ],
      "metadata": {
        "colab": {
          "base_uri": "https://localhost:8080/"
        },
        "id": "wn9BwzZdxs-9",
        "outputId": "f352bb99-b012-4d1c-8d5e-2a0564783f00"
      },
      "execution_count": 7,
      "outputs": [
        {
          "output_type": "execute_result",
          "data": {
            "text/plain": [
              "2    92530\n",
              "1    46026\n",
              "Name: ChronicCond_Alzheimer, dtype: int64"
            ]
          },
          "metadata": {},
          "execution_count": 7
        }
      ]
    },
    {
      "cell_type": "code",
      "source": [
        "train_beneficiary_df['ChronicCond_Heartfailure'].value_counts()"
      ],
      "metadata": {
        "colab": {
          "base_uri": "https://localhost:8080/"
        },
        "id": "dXzeDnfbyBXA",
        "outputId": "36fa4b7d-e100-4238-db7a-719da248eb18"
      },
      "execution_count": 8,
      "outputs": [
        {
          "output_type": "execute_result",
          "data": {
            "text/plain": [
              "2    70154\n",
              "1    68402\n",
              "Name: ChronicCond_Heartfailure, dtype: int64"
            ]
          },
          "metadata": {},
          "execution_count": 8
        }
      ]
    },
    {
      "cell_type": "code",
      "source": [
        "train_beneficiary_df['ChronicCond_Cancer'].value_counts()"
      ],
      "metadata": {
        "colab": {
          "base_uri": "https://localhost:8080/"
        },
        "id": "0TSaPAysyHWD",
        "outputId": "6f7ae258-b797-4310-891c-0bfad7357a33"
      },
      "execution_count": 9,
      "outputs": [
        {
          "output_type": "execute_result",
          "data": {
            "text/plain": [
              "2    121935\n",
              "1     16621\n",
              "Name: ChronicCond_Cancer, dtype: int64"
            ]
          },
          "metadata": {},
          "execution_count": 9
        }
      ]
    },
    {
      "cell_type": "code",
      "source": [
        "test_beneficiary_df['ChronicCond_Cancer'].value_counts()"
      ],
      "metadata": {
        "colab": {
          "base_uri": "https://localhost:8080/"
        },
        "id": "LOdtEiDHzhV_",
        "outputId": "b7315eaa-f598-4d1a-a619-c4c9f6c20ec4"
      },
      "execution_count": 10,
      "outputs": [
        {
          "output_type": "execute_result",
          "data": {
            "text/plain": [
              "2    55176\n",
              "1     8792\n",
              "Name: ChronicCond_Cancer, dtype: int64"
            ]
          },
          "metadata": {},
          "execution_count": 10
        }
      ]
    },
    {
      "cell_type": "code",
      "source": [
        "cols = ['ChronicCond_Alzheimer', 'ChronicCond_Heartfailure',\n",
        "       'ChronicCond_KidneyDisease', 'ChronicCond_Cancer',\n",
        "       'ChronicCond_ObstrPulmonary', 'ChronicCond_Depression',\n",
        "       'ChronicCond_Diabetes', 'ChronicCond_IschemicHeart',\n",
        "       'ChronicCond_Osteoporasis', 'ChronicCond_rheumatoidarthritis',\n",
        "       'ChronicCond_stroke'] \n",
        "\n",
        "for col in cols:\n",
        "  train_beneficiary_df.replace({col: 2}, 0, inplace=True)\n",
        "  test_beneficiary_df.replace({col: 2}, 0, inplace=True)"
      ],
      "metadata": {
        "id": "kIO05q2PyWfF"
      },
      "execution_count": 11,
      "outputs": []
    },
    {
      "cell_type": "code",
      "source": [
        "train_beneficiary_df['ChronicCond_Alzheimer'].value_counts()"
      ],
      "metadata": {
        "colab": {
          "base_uri": "https://localhost:8080/"
        },
        "id": "OzS-qEypyuSn",
        "outputId": "cdce26f4-8a85-498f-870b-1628786243d1"
      },
      "execution_count": 12,
      "outputs": [
        {
          "output_type": "execute_result",
          "data": {
            "text/plain": [
              "0    92530\n",
              "1    46026\n",
              "Name: ChronicCond_Alzheimer, dtype: int64"
            ]
          },
          "metadata": {},
          "execution_count": 12
        }
      ]
    },
    {
      "cell_type": "code",
      "source": [
        "train_beneficiary_df['ChronicCond_Heartfailure'].value_counts()"
      ],
      "metadata": {
        "colab": {
          "base_uri": "https://localhost:8080/"
        },
        "id": "vlbHzEwPysTu",
        "outputId": "a813c519-5f08-4e37-f6c3-08f1f71a7c2b"
      },
      "execution_count": 13,
      "outputs": [
        {
          "output_type": "execute_result",
          "data": {
            "text/plain": [
              "0    70154\n",
              "1    68402\n",
              "Name: ChronicCond_Heartfailure, dtype: int64"
            ]
          },
          "metadata": {},
          "execution_count": 13
        }
      ]
    },
    {
      "cell_type": "code",
      "source": [
        "train_beneficiary_df['ChronicCond_Cancer'].value_counts()"
      ],
      "metadata": {
        "colab": {
          "base_uri": "https://localhost:8080/"
        },
        "id": "-EDo4flHypLW",
        "outputId": "714bbe4c-3f53-46bd-d43c-90abaa233a1d"
      },
      "execution_count": 14,
      "outputs": [
        {
          "output_type": "execute_result",
          "data": {
            "text/plain": [
              "0    121935\n",
              "1     16621\n",
              "Name: ChronicCond_Cancer, dtype: int64"
            ]
          },
          "metadata": {},
          "execution_count": 14
        }
      ]
    },
    {
      "cell_type": "code",
      "source": [
        "test_beneficiary_df['ChronicCond_Cancer'].value_counts()"
      ],
      "metadata": {
        "colab": {
          "base_uri": "https://localhost:8080/"
        },
        "id": "orUUSj-AyrQv",
        "outputId": "d476fc7c-147e-4c47-96ee-5bc068afa104"
      },
      "execution_count": 15,
      "outputs": [
        {
          "output_type": "execute_result",
          "data": {
            "text/plain": [
              "0    55176\n",
              "1     8792\n",
              "Name: ChronicCond_Cancer, dtype: int64"
            ]
          },
          "metadata": {},
          "execution_count": 15
        }
      ]
    },
    {
      "cell_type": "markdown",
      "source": [
        "## Person's Age on Train dataset"
      ],
      "metadata": {
        "id": "DF29noY-zuJR"
      }
    },
    {
      "cell_type": "code",
      "source": [
        "train_beneficiary_df['DOB'] = pd.to_datetime(train_beneficiary_df['DOB'], format = '%Y-%m-%d')\n",
        "train_beneficiary_df['DOD'] = pd.to_datetime(train_beneficiary_df['DOD'], format = '%Y-%m-%d') \n",
        "train_beneficiary_df['Age'] = round((train_beneficiary_df['DOD'] - train_beneficiary_df['DOB']).dt.days/365) "
      ],
      "metadata": {
        "id": "85ZX55AxzelO"
      },
      "execution_count": 16,
      "outputs": []
    },
    {
      "cell_type": "code",
      "source": [
        "train_beneficiary_df['Age'].isna().sum(), train_beneficiary_df.shape[0]"
      ],
      "metadata": {
        "colab": {
          "base_uri": "https://localhost:8080/"
        },
        "id": "3cHryIBB0BzR",
        "outputId": "0096e8a2-85ed-49b9-bc30-a731b901a636"
      },
      "execution_count": 17,
      "outputs": [
        {
          "output_type": "execute_result",
          "data": {
            "text/plain": [
              "(137135, 138556)"
            ]
          },
          "metadata": {},
          "execution_count": 17
        }
      ]
    },
    {
      "cell_type": "markdown",
      "source": [
        "**Take-away message**\n",
        "\n",
        "There are 1421 beneficiaries still alive and we need to calculate their age as well. "
      ],
      "metadata": {
        "id": "RdKffm8K0KP-"
      }
    },
    {
      "cell_type": "code",
      "source": [
        "train_beneficiary_df['DOD'].max()"
      ],
      "metadata": {
        "colab": {
          "base_uri": "https://localhost:8080/"
        },
        "id": "rczZ6Gq90F-S",
        "outputId": "ec83f0b1-d96c-494b-b53b-472560330df5"
      },
      "execution_count": 18,
      "outputs": [
        {
          "output_type": "execute_result",
          "data": {
            "text/plain": [
              "Timestamp('2009-12-01 00:00:00')"
            ]
          },
          "metadata": {},
          "execution_count": 18
        }
      ]
    },
    {
      "cell_type": "markdown",
      "source": [
        "**Take-away message**\n",
        "Beneficiary data was last recorded on 2009-12-01, so we can calculate age of people that are still alive based on this date. "
      ],
      "metadata": {
        "id": "last8gUD0clQ"
      }
    },
    {
      "cell_type": "code",
      "source": [
        "train_beneficiary_df['Age'].fillna(round(((pd.to_datetime('2019-12-01', format='%Y-%m-%d') - train_beneficiary_df['DOB']).dt.days)/365), inplace=True)"
      ],
      "metadata": {
        "id": "MHojV0Y_0aG6"
      },
      "execution_count": 19,
      "outputs": []
    },
    {
      "cell_type": "code",
      "source": [
        "train_beneficiary_df.Age.isna().sum()"
      ],
      "metadata": {
        "colab": {
          "base_uri": "https://localhost:8080/"
        },
        "id": "Lf4eMebF1Fs3",
        "outputId": "b1ddecc3-22f5-44ca-d602-4255252bc54b"
      },
      "execution_count": 20,
      "outputs": [
        {
          "output_type": "execute_result",
          "data": {
            "text/plain": [
              "0"
            ]
          },
          "metadata": {},
          "execution_count": 20
        }
      ]
    },
    {
      "cell_type": "markdown",
      "source": [
        "## Person's Age on Test dataset"
      ],
      "metadata": {
        "id": "dE8bWqjG1SaO"
      }
    },
    {
      "cell_type": "code",
      "source": [
        "test_beneficiary_df['DOB'] = pd.to_datetime(test_beneficiary_df['DOB'], format = '%Y-%m-%d')\n",
        "test_beneficiary_df['DOD'] = pd.to_datetime(test_beneficiary_df['DOD'], format = '%Y-%m-%d') \n",
        "test_beneficiary_df['Age'] = round((test_beneficiary_df['DOD'] - test_beneficiary_df['DOB']).dt.days/365)"
      ],
      "metadata": {
        "id": "m4RlSQE61Liq"
      },
      "execution_count": 21,
      "outputs": []
    },
    {
      "cell_type": "code",
      "source": [
        "test_beneficiary_df['Age'].isna().sum(), test_beneficiary_df.shape[0]\n"
      ],
      "metadata": {
        "colab": {
          "base_uri": "https://localhost:8080/"
        },
        "id": "aX1c4-Ev1bD3",
        "outputId": "2bc5fa54-2993-47e9-e7a2-6e0d23473087"
      },
      "execution_count": 22,
      "outputs": [
        {
          "output_type": "execute_result",
          "data": {
            "text/plain": [
              "(63394, 63968)"
            ]
          },
          "metadata": {},
          "execution_count": 22
        }
      ]
    },
    {
      "cell_type": "code",
      "source": [
        "63968 - 63394 "
      ],
      "metadata": {
        "colab": {
          "base_uri": "https://localhost:8080/"
        },
        "id": "jqmCkPjX1eJa",
        "outputId": "0c91f6d8-4420-424e-ac75-b11b3f4eab93"
      },
      "execution_count": 23,
      "outputs": [
        {
          "output_type": "execute_result",
          "data": {
            "text/plain": [
              "574"
            ]
          },
          "metadata": {},
          "execution_count": 23
        }
      ]
    },
    {
      "cell_type": "markdown",
      "source": [
        "**Take-away message**\n",
        "\n",
        "In the test dataset, there are 574 beneficiaries that are still alive. We'll calculate their age based on the last recorded date. "
      ],
      "metadata": {
        "id": "Mg-hMWRk1k8z"
      }
    },
    {
      "cell_type": "code",
      "source": [
        "test_beneficiary_df['DOD'].max()\n"
      ],
      "metadata": {
        "colab": {
          "base_uri": "https://localhost:8080/"
        },
        "id": "p3oEc9sB1jof",
        "outputId": "c560e9b6-cde1-48e0-e3cc-64cca00f1180"
      },
      "execution_count": 24,
      "outputs": [
        {
          "output_type": "execute_result",
          "data": {
            "text/plain": [
              "Timestamp('2009-12-01 00:00:00')"
            ]
          },
          "metadata": {},
          "execution_count": 24
        }
      ]
    },
    {
      "cell_type": "code",
      "source": [
        "test_beneficiary_df['Age'].fillna(round(((pd.to_datetime('2019-12-01', format='%Y-%m-%d') - test_beneficiary_df['DOB']).dt.days)/365), inplace=True)\n"
      ],
      "metadata": {
        "id": "q_WIjbif1zTX"
      },
      "execution_count": 25,
      "outputs": []
    },
    {
      "cell_type": "code",
      "source": [
        "test_beneficiary_df.Age.isna().sum()\n"
      ],
      "metadata": {
        "colab": {
          "base_uri": "https://localhost:8080/"
        },
        "id": "KG77e0gv15lo",
        "outputId": "0bbd2d3b-8bbd-4790-e6ce-ae213fe1bcc0"
      },
      "execution_count": 26,
      "outputs": [
        {
          "output_type": "execute_result",
          "data": {
            "text/plain": [
              "0"
            ]
          },
          "metadata": {},
          "execution_count": 26
        }
      ]
    },
    {
      "cell_type": "markdown",
      "source": [
        "## Add dead flag column"
      ],
      "metadata": {
        "id": "Adb_wHlQ1_8u"
      }
    },
    {
      "cell_type": "code",
      "source": [
        "train_beneficiary_df.shape"
      ],
      "metadata": {
        "colab": {
          "base_uri": "https://localhost:8080/"
        },
        "id": "Gw5gthr-2VL1",
        "outputId": "6c865fad-d038-4bc0-8b8d-0159c4d3111e"
      },
      "execution_count": 27,
      "outputs": [
        {
          "output_type": "execute_result",
          "data": {
            "text/plain": [
              "(138556, 26)"
            ]
          },
          "metadata": {},
          "execution_count": 27
        }
      ]
    },
    {
      "cell_type": "code",
      "source": [
        "train_beneficiary_df['DOD'].isna().sum(), train_beneficiary_df['DOD'].notna().sum()"
      ],
      "metadata": {
        "colab": {
          "base_uri": "https://localhost:8080/"
        },
        "id": "ef0gQ2ll2Z2h",
        "outputId": "1550c61f-7303-4853-83e0-10e97e141c04"
      },
      "execution_count": 28,
      "outputs": [
        {
          "output_type": "execute_result",
          "data": {
            "text/plain": [
              "(137135, 1421)"
            ]
          },
          "metadata": {},
          "execution_count": 28
        }
      ]
    },
    {
      "cell_type": "code",
      "source": [
        "train_beneficiary_df.loc[train_beneficiary_df['DOD'].isna(), 'DeadOrNot'] = 0 \n",
        "train_beneficiary_df.loc[train_beneficiary_df['DOD'].notna(), 'DeadOrNot'] = 1 "
      ],
      "metadata": {
        "id": "r1aHCK1n182y"
      },
      "execution_count": 29,
      "outputs": []
    },
    {
      "cell_type": "code",
      "source": [
        "train_beneficiary_df['DeadOrNot'].value_counts()"
      ],
      "metadata": {
        "colab": {
          "base_uri": "https://localhost:8080/"
        },
        "id": "rpKGrvKU2hBg",
        "outputId": "b9a72654-5253-47ea-a3b0-4368acb00e4e"
      },
      "execution_count": 30,
      "outputs": [
        {
          "output_type": "execute_result",
          "data": {
            "text/plain": [
              "0.0    137135\n",
              "1.0      1421\n",
              "Name: DeadOrNot, dtype: int64"
            ]
          },
          "metadata": {},
          "execution_count": 30
        }
      ]
    },
    {
      "cell_type": "code",
      "source": [
        "test_beneficiary_df.shape"
      ],
      "metadata": {
        "colab": {
          "base_uri": "https://localhost:8080/"
        },
        "id": "iUeqP5qi2jDW",
        "outputId": "f17608f7-0fcc-4707-a2fa-f124279ce96f"
      },
      "execution_count": 31,
      "outputs": [
        {
          "output_type": "execute_result",
          "data": {
            "text/plain": [
              "(63968, 26)"
            ]
          },
          "metadata": {},
          "execution_count": 31
        }
      ]
    },
    {
      "cell_type": "code",
      "source": [
        "test_beneficiary_df['DOD'].isna().sum(), test_beneficiary_df['DOD'].notna().sum()\n"
      ],
      "metadata": {
        "colab": {
          "base_uri": "https://localhost:8080/"
        },
        "id": "itKqSJzP2lqc",
        "outputId": "7da3170f-bee2-4b1f-8073-0a7fd9f2f7ed"
      },
      "execution_count": 32,
      "outputs": [
        {
          "output_type": "execute_result",
          "data": {
            "text/plain": [
              "(63394, 574)"
            ]
          },
          "metadata": {},
          "execution_count": 32
        }
      ]
    },
    {
      "cell_type": "code",
      "source": [
        "test_beneficiary_df.loc[test_beneficiary_df['DOD'].isna(), 'DeadOrNot'] = 0 \n",
        "test_beneficiary_df.loc[test_beneficiary_df['DOD'].notna(), 'DeadOrNot'] = 1 "
      ],
      "metadata": {
        "id": "mj_ecHe02ofz"
      },
      "execution_count": 33,
      "outputs": []
    },
    {
      "cell_type": "code",
      "source": [
        "test_beneficiary_df['DeadOrNot'].value_counts()"
      ],
      "metadata": {
        "colab": {
          "base_uri": "https://localhost:8080/"
        },
        "id": "HmoBBY312ux-",
        "outputId": "8c80f5b1-2e51-4268-d60b-93d2870f2fae"
      },
      "execution_count": 34,
      "outputs": [
        {
          "output_type": "execute_result",
          "data": {
            "text/plain": [
              "0.0    63394\n",
              "1.0      574\n",
              "Name: DeadOrNot, dtype: int64"
            ]
          },
          "metadata": {},
          "execution_count": 34
        }
      ]
    },
    {
      "cell_type": "markdown",
      "source": [
        "# Data Engineering for in-patient dataset"
      ],
      "metadata": {
        "id": "kuG1F9Zc299m"
      }
    },
    {
      "cell_type": "markdown",
      "source": [
        "**Calculating Admitted Days**\n",
        "\n",
        "Creating a new feature 'AdmittedDays' based on AdmissionDt and DischargeDt"
      ],
      "metadata": {
        "id": "ompT3vdq5AHX"
      }
    },
    {
      "cell_type": "code",
      "source": [
        "train_inpatient_df['AdmissionDt'] = pd.to_datetime(train_inpatient_df['AdmissionDt'], format='%Y-%m-%d')\n",
        "train_inpatient_df['DischargeDt'] = pd.to_datetime(train_inpatient_df['DischargeDt'], format='%Y-%m-%d')\n",
        "train_inpatient_df['AdmittedDays'] = round((train_inpatient_df['DischargeDt'] - train_inpatient_df['AdmissionDt']).dt.days + 1) \n",
        "                                           \n",
        "test_inpatient_df['AdmissionDt'] = pd.to_datetime(test_inpatient_df['AdmissionDt'], format='%Y-%m-%d')\n",
        "test_inpatient_df['DischargeDt'] = pd.to_datetime(test_inpatient_df['DischargeDt'], format='%Y-%m-%d')\n",
        "test_inpatient_df['AdmittedDays'] = round((test_inpatient_df['DischargeDt'] - test_inpatient_df['AdmissionDt']).dt.days + 1)"
      ],
      "metadata": {
        "id": "-Da3cxEw2y7d"
      },
      "execution_count": 35,
      "outputs": []
    },
    {
      "cell_type": "code",
      "source": [
        "train_inpatient_df['AdmittedDays'].isna().sum()"
      ],
      "metadata": {
        "colab": {
          "base_uri": "https://localhost:8080/"
        },
        "id": "Uryplkq65dRL",
        "outputId": "17e7f4cd-f11f-44ef-c3aa-7aefc8c87b5a"
      },
      "execution_count": 36,
      "outputs": [
        {
          "output_type": "execute_result",
          "data": {
            "text/plain": [
              "0"
            ]
          },
          "metadata": {},
          "execution_count": 36
        }
      ]
    },
    {
      "cell_type": "code",
      "source": [
        "test_inpatient_df['AdmittedDays'].isna().sum()"
      ],
      "metadata": {
        "colab": {
          "base_uri": "https://localhost:8080/"
        },
        "id": "eiHytc6Z5keN",
        "outputId": "987bac38-d75e-4816-ea1b-8ce6410d7b23"
      },
      "execution_count": 37,
      "outputs": [
        {
          "output_type": "execute_result",
          "data": {
            "text/plain": [
              "0"
            ]
          },
          "metadata": {},
          "execution_count": 37
        }
      ]
    },
    {
      "cell_type": "markdown",
      "source": [
        "# Merging Inpatient and Outpatient dataset"
      ],
      "metadata": {
        "id": "8nT0eeKC5sJC"
      }
    },
    {
      "cell_type": "code",
      "source": [
        "key_columns_to_merge = list(train_outpatient_df.columns)\n",
        "key_columns_to_merge"
      ],
      "metadata": {
        "colab": {
          "base_uri": "https://localhost:8080/"
        },
        "id": "Y6h1yFk85mLF",
        "outputId": "f9d79a79-0510-46ca-f76b-431618615390"
      },
      "execution_count": 38,
      "outputs": [
        {
          "output_type": "execute_result",
          "data": {
            "text/plain": [
              "['BeneID',\n",
              " 'ClaimID',\n",
              " 'ClaimStartDt',\n",
              " 'ClaimEndDt',\n",
              " 'Provider',\n",
              " 'InscClaimAmtReimbursed',\n",
              " 'AttendingPhysician',\n",
              " 'OperatingPhysician',\n",
              " 'OtherPhysician',\n",
              " 'ClmDiagnosisCode_1',\n",
              " 'ClmDiagnosisCode_2',\n",
              " 'ClmDiagnosisCode_3',\n",
              " 'ClmDiagnosisCode_4',\n",
              " 'ClmDiagnosisCode_5',\n",
              " 'ClmDiagnosisCode_6',\n",
              " 'ClmDiagnosisCode_7',\n",
              " 'ClmDiagnosisCode_8',\n",
              " 'ClmDiagnosisCode_9',\n",
              " 'ClmDiagnosisCode_10',\n",
              " 'ClmProcedureCode_1',\n",
              " 'ClmProcedureCode_2',\n",
              " 'ClmProcedureCode_3',\n",
              " 'ClmProcedureCode_4',\n",
              " 'ClmProcedureCode_5',\n",
              " 'ClmProcedureCode_6',\n",
              " 'DeductibleAmtPaid',\n",
              " 'ClmAdmitDiagnosisCode']"
            ]
          },
          "metadata": {},
          "execution_count": 38
        }
      ]
    },
    {
      "cell_type": "code",
      "source": [
        "train_merged_patient_data = train_inpatient_df.merge(train_outpatient_df, on=key_columns_to_merge, how='outer')\n",
        "train_merged_patient_data.shape"
      ],
      "metadata": {
        "colab": {
          "base_uri": "https://localhost:8080/"
        },
        "id": "aoVwnxwr57wz",
        "outputId": "fbd3a506-e4b3-4b2d-94be-6585e3d8a2d5"
      },
      "execution_count": 39,
      "outputs": [
        {
          "output_type": "execute_result",
          "data": {
            "text/plain": [
              "(558211, 31)"
            ]
          },
          "metadata": {},
          "execution_count": 39
        }
      ]
    },
    {
      "cell_type": "code",
      "source": [
        "key_columns_to_merge_test = list(test_outpatient_df.columns)\n",
        "key_columns_to_merge_test"
      ],
      "metadata": {
        "colab": {
          "base_uri": "https://localhost:8080/"
        },
        "id": "ktYtadI36BGL",
        "outputId": "b2363d60-11fc-4ee2-a88d-111c7c82df07"
      },
      "execution_count": 40,
      "outputs": [
        {
          "output_type": "execute_result",
          "data": {
            "text/plain": [
              "['BeneID',\n",
              " 'ClaimID',\n",
              " 'ClaimStartDt',\n",
              " 'ClaimEndDt',\n",
              " 'Provider',\n",
              " 'InscClaimAmtReimbursed',\n",
              " 'AttendingPhysician',\n",
              " 'OperatingPhysician',\n",
              " 'OtherPhysician',\n",
              " 'ClmDiagnosisCode_1',\n",
              " 'ClmDiagnosisCode_2',\n",
              " 'ClmDiagnosisCode_3',\n",
              " 'ClmDiagnosisCode_4',\n",
              " 'ClmDiagnosisCode_5',\n",
              " 'ClmDiagnosisCode_6',\n",
              " 'ClmDiagnosisCode_7',\n",
              " 'ClmDiagnosisCode_8',\n",
              " 'ClmDiagnosisCode_9',\n",
              " 'ClmDiagnosisCode_10',\n",
              " 'ClmProcedureCode_1',\n",
              " 'ClmProcedureCode_2',\n",
              " 'ClmProcedureCode_3',\n",
              " 'ClmProcedureCode_4',\n",
              " 'ClmProcedureCode_5',\n",
              " 'ClmProcedureCode_6',\n",
              " 'DeductibleAmtPaid',\n",
              " 'ClmAdmitDiagnosisCode']"
            ]
          },
          "metadata": {},
          "execution_count": 40
        }
      ]
    },
    {
      "cell_type": "code",
      "source": [
        "test_merged_patient_data = test_inpatient_df.merge(test_outpatient_df, on=key_columns_to_merge_test, how='outer')\n",
        "test_merged_patient_data.shape"
      ],
      "metadata": {
        "colab": {
          "base_uri": "https://localhost:8080/"
        },
        "id": "KevcSS2j6KIt",
        "outputId": "e6625486-7e07-485e-fd26-369077092712"
      },
      "execution_count": 41,
      "outputs": [
        {
          "output_type": "execute_result",
          "data": {
            "text/plain": [
              "(135392, 31)"
            ]
          },
          "metadata": {},
          "execution_count": 41
        }
      ]
    },
    {
      "cell_type": "markdown",
      "source": [
        "# Merging Beneficiary with All-patient data"
      ],
      "metadata": {
        "id": "1JNH-YWp6fru"
      }
    },
    {
      "cell_type": "code",
      "source": [
        "trainAllPatientDetailsData = train_merged_patient_data.merge(train_beneficiary_df, on='BeneID', how='inner')\n",
        "trainAllPatientDetailsData.shape"
      ],
      "metadata": {
        "colab": {
          "base_uri": "https://localhost:8080/"
        },
        "id": "SVW5kY-66WG6",
        "outputId": "ca7f5074-5e91-4168-e98a-9b4e97f562e4"
      },
      "execution_count": 42,
      "outputs": [
        {
          "output_type": "execute_result",
          "data": {
            "text/plain": [
              "(558211, 57)"
            ]
          },
          "metadata": {},
          "execution_count": 42
        }
      ]
    },
    {
      "cell_type": "code",
      "source": [
        "testAllPatientDetailsData = test_merged_patient_data.merge(test_beneficiary_df, on='BeneID', how='inner')\n",
        "testAllPatientDetailsData.shape"
      ],
      "metadata": {
        "colab": {
          "base_uri": "https://localhost:8080/"
        },
        "id": "jQD5SlSx6uMm",
        "outputId": "6b843618-2415-411a-b20c-7a995db1aa19"
      },
      "execution_count": 43,
      "outputs": [
        {
          "output_type": "execute_result",
          "data": {
            "text/plain": [
              "(135392, 57)"
            ]
          },
          "metadata": {},
          "execution_count": 43
        }
      ]
    },
    {
      "cell_type": "markdown",
      "source": [
        "# Merging all-patients data with provider data with fraud label"
      ],
      "metadata": {
        "id": "7As_Ff3m673K"
      }
    },
    {
      "cell_type": "code",
      "source": [
        "trainAllPatientDetailsProvider = trainAllPatientDetailsData.merge(train_df, on='Provider', how='inner')\n",
        "trainAllPatientDetailsProvider.shape"
      ],
      "metadata": {
        "colab": {
          "base_uri": "https://localhost:8080/"
        },
        "id": "hYCtce9H643C",
        "outputId": "43dc298e-5400-4329-bcfa-d12c7a033cfb"
      },
      "execution_count": 44,
      "outputs": [
        {
          "output_type": "execute_result",
          "data": {
            "text/plain": [
              "(558211, 58)"
            ]
          },
          "metadata": {},
          "execution_count": 44
        }
      ]
    },
    {
      "cell_type": "code",
      "source": [
        "testAllPatientDetailsProvider = testAllPatientDetailsData.merge(test_df, on='Provider', how='inner')\n",
        "testAllPatientDetailsProvider.shape"
      ],
      "metadata": {
        "colab": {
          "base_uri": "https://localhost:8080/"
        },
        "id": "4S-99DU67HMl",
        "outputId": "4fa233f1-857f-46fc-a118-03076b1deaf5"
      },
      "execution_count": 45,
      "outputs": [
        {
          "output_type": "execute_result",
          "data": {
            "text/plain": [
              "(135392, 57)"
            ]
          },
          "metadata": {},
          "execution_count": 45
        }
      ]
    },
    {
      "cell_type": "code",
      "source": [
        "test_columns = list(testAllPatientDetailsProvider.columns)"
      ],
      "metadata": {
        "id": "7x-wikO77T3x"
      },
      "execution_count": 46,
      "outputs": []
    },
    {
      "cell_type": "code",
      "source": [
        "train_columns = trainAllPatientDetailsProvider.columns"
      ],
      "metadata": {
        "id": "sJKmpLjt7bB7"
      },
      "execution_count": 47,
      "outputs": []
    },
    {
      "cell_type": "code",
      "source": [
        "[test for test in train_columns if test not in test_columns]"
      ],
      "metadata": {
        "colab": {
          "base_uri": "https://localhost:8080/"
        },
        "id": "kZbfcFdb7fBW",
        "outputId": "85e7953c-9ffa-48bd-fdd2-194a3a2a858d"
      },
      "execution_count": 48,
      "outputs": [
        {
          "output_type": "execute_result",
          "data": {
            "text/plain": [
              "['PotentialFraud']"
            ]
          },
          "metadata": {},
          "execution_count": 48
        }
      ]
    },
    {
      "cell_type": "code",
      "source": [
        "test_df.head()"
      ],
      "metadata": {
        "colab": {
          "base_uri": "https://localhost:8080/",
          "height": 221
        },
        "id": "xM2L1BWG8ykK",
        "outputId": "fc4d3892-0301-4a53-83a2-f773f9bae3ae"
      },
      "execution_count": 49,
      "outputs": [
        {
          "output_type": "execute_result",
          "data": {
            "text/plain": [
              "   Provider\n",
              "0  PRV51002\n",
              "1  PRV51006\n",
              "2  PRV51009\n",
              "3  PRV51010\n",
              "4  PRV51018"
            ],
            "text/html": [
              "\n",
              "  <div id=\"df-ab6019c7-eedb-4886-9770-9fe23a36f7c1\">\n",
              "    <div class=\"colab-df-container\">\n",
              "      <div>\n",
              "<style scoped>\n",
              "    .dataframe tbody tr th:only-of-type {\n",
              "        vertical-align: middle;\n",
              "    }\n",
              "\n",
              "    .dataframe tbody tr th {\n",
              "        vertical-align: top;\n",
              "    }\n",
              "\n",
              "    .dataframe thead th {\n",
              "        text-align: right;\n",
              "    }\n",
              "</style>\n",
              "<table border=\"1\" class=\"dataframe\">\n",
              "  <thead>\n",
              "    <tr style=\"text-align: right;\">\n",
              "      <th></th>\n",
              "      <th>Provider</th>\n",
              "    </tr>\n",
              "  </thead>\n",
              "  <tbody>\n",
              "    <tr>\n",
              "      <th>0</th>\n",
              "      <td>PRV51002</td>\n",
              "    </tr>\n",
              "    <tr>\n",
              "      <th>1</th>\n",
              "      <td>PRV51006</td>\n",
              "    </tr>\n",
              "    <tr>\n",
              "      <th>2</th>\n",
              "      <td>PRV51009</td>\n",
              "    </tr>\n",
              "    <tr>\n",
              "      <th>3</th>\n",
              "      <td>PRV51010</td>\n",
              "    </tr>\n",
              "    <tr>\n",
              "      <th>4</th>\n",
              "      <td>PRV51018</td>\n",
              "    </tr>\n",
              "  </tbody>\n",
              "</table>\n",
              "</div>\n",
              "      <button class=\"colab-df-convert\" onclick=\"convertToInteractive('df-ab6019c7-eedb-4886-9770-9fe23a36f7c1')\"\n",
              "              title=\"Convert this dataframe to an interactive table.\"\n",
              "              style=\"display:none;\">\n",
              "        \n",
              "  <svg xmlns=\"http://www.w3.org/2000/svg\" height=\"24px\"viewBox=\"0 0 24 24\"\n",
              "       width=\"24px\">\n",
              "    <path d=\"M0 0h24v24H0V0z\" fill=\"none\"/>\n",
              "    <path d=\"M18.56 5.44l.94 2.06.94-2.06 2.06-.94-2.06-.94-.94-2.06-.94 2.06-2.06.94zm-11 1L8.5 8.5l.94-2.06 2.06-.94-2.06-.94L8.5 2.5l-.94 2.06-2.06.94zm10 10l.94 2.06.94-2.06 2.06-.94-2.06-.94-.94-2.06-.94 2.06-2.06.94z\"/><path d=\"M17.41 7.96l-1.37-1.37c-.4-.4-.92-.59-1.43-.59-.52 0-1.04.2-1.43.59L10.3 9.45l-7.72 7.72c-.78.78-.78 2.05 0 2.83L4 21.41c.39.39.9.59 1.41.59.51 0 1.02-.2 1.41-.59l7.78-7.78 2.81-2.81c.8-.78.8-2.07 0-2.86zM5.41 20L4 18.59l7.72-7.72 1.47 1.35L5.41 20z\"/>\n",
              "  </svg>\n",
              "      </button>\n",
              "      \n",
              "  <style>\n",
              "    .colab-df-container {\n",
              "      display:flex;\n",
              "      flex-wrap:wrap;\n",
              "      gap: 12px;\n",
              "    }\n",
              "\n",
              "    .colab-df-convert {\n",
              "      background-color: #E8F0FE;\n",
              "      border: none;\n",
              "      border-radius: 50%;\n",
              "      cursor: pointer;\n",
              "      display: none;\n",
              "      fill: #1967D2;\n",
              "      height: 32px;\n",
              "      padding: 0 0 0 0;\n",
              "      width: 32px;\n",
              "    }\n",
              "\n",
              "    .colab-df-convert:hover {\n",
              "      background-color: #E2EBFA;\n",
              "      box-shadow: 0px 1px 2px rgba(60, 64, 67, 0.3), 0px 1px 3px 1px rgba(60, 64, 67, 0.15);\n",
              "      fill: #174EA6;\n",
              "    }\n",
              "\n",
              "    [theme=dark] .colab-df-convert {\n",
              "      background-color: #3B4455;\n",
              "      fill: #D2E3FC;\n",
              "    }\n",
              "\n",
              "    [theme=dark] .colab-df-convert:hover {\n",
              "      background-color: #434B5C;\n",
              "      box-shadow: 0px 1px 3px 1px rgba(0, 0, 0, 0.15);\n",
              "      filter: drop-shadow(0px 1px 2px rgba(0, 0, 0, 0.3));\n",
              "      fill: #FFFFFF;\n",
              "    }\n",
              "  </style>\n",
              "\n",
              "      <script>\n",
              "        const buttonEl =\n",
              "          document.querySelector('#df-ab6019c7-eedb-4886-9770-9fe23a36f7c1 button.colab-df-convert');\n",
              "        buttonEl.style.display =\n",
              "          google.colab.kernel.accessAllowed ? 'block' : 'none';\n",
              "\n",
              "        async function convertToInteractive(key) {\n",
              "          const element = document.querySelector('#df-ab6019c7-eedb-4886-9770-9fe23a36f7c1');\n",
              "          const dataTable =\n",
              "            await google.colab.kernel.invokeFunction('convertToInteractive',\n",
              "                                                     [key], {});\n",
              "          if (!dataTable) return;\n",
              "\n",
              "          const docLinkHtml = 'Like what you see? Visit the ' +\n",
              "            '<a target=\"_blank\" href=https://colab.research.google.com/notebooks/data_table.ipynb>data table notebook</a>'\n",
              "            + ' to learn more about interactive tables.';\n",
              "          element.innerHTML = '';\n",
              "          dataTable['output_type'] = 'display_data';\n",
              "          await google.colab.output.renderOutput(dataTable, element);\n",
              "          const docLink = document.createElement('div');\n",
              "          docLink.innerHTML = docLinkHtml;\n",
              "          element.appendChild(docLink);\n",
              "        }\n",
              "      </script>\n",
              "    </div>\n",
              "  </div>\n",
              "  "
            ]
          },
          "metadata": {},
          "execution_count": 49
        }
      ]
    },
    {
      "cell_type": "markdown",
      "source": [
        "# Missing value information in final dataset"
      ],
      "metadata": {
        "id": "RmjNzKEg9Krk"
      }
    },
    {
      "cell_type": "code",
      "source": [
        "trainAllPatientDetailsProvider.isna().sum()*100/len(trainAllPatientDetailsProvider)"
      ],
      "metadata": {
        "colab": {
          "base_uri": "https://localhost:8080/"
        },
        "id": "2dyyjR3M86xs",
        "outputId": "a12af5e2-33d6-4b5d-c1d3-f1e245d2a0a0"
      },
      "execution_count": 50,
      "outputs": [
        {
          "output_type": "execute_result",
          "data": {
            "text/plain": [
              "BeneID                               0.000000\n",
              "ClaimID                              0.000000\n",
              "ClaimStartDt                         0.000000\n",
              "ClaimEndDt                           0.000000\n",
              "Provider                             0.000000\n",
              "InscClaimAmtReimbursed               0.000000\n",
              "AttendingPhysician                   0.270149\n",
              "OperatingPhysician                  79.497538\n",
              "OtherPhysician                      64.218548\n",
              "AdmissionDt                         92.749337\n",
              "ClmAdmitDiagnosisCode               73.863109\n",
              "DeductibleAmtPaid                    0.161050\n",
              "DischargeDt                         92.749337\n",
              "DiagnosisGroupCode                  92.749337\n",
              "ClmDiagnosisCode_1                   1.872589\n",
              "ClmDiagnosisCode_2                  35.041588\n",
              "ClmDiagnosisCode_3                  56.458221\n",
              "ClmDiagnosisCode_4                  70.524407\n",
              "ClmDiagnosisCode_5                  79.949517\n",
              "ClmDiagnosisCode_6                  84.881702\n",
              "ClmDiagnosisCode_7                  88.144805\n",
              "ClmDiagnosisCode_8                  90.425843\n",
              "ClmDiagnosisCode_9                  92.509105\n",
              "ClmDiagnosisCode_10                 99.102490\n",
              "ClmProcedureCode_1                  95.824160\n",
              "ClmProcedureCode_2                  99.016501\n",
              "ClmProcedureCode_3                  99.826410\n",
              "ClmProcedureCode_4                  99.978861\n",
              "ClmProcedureCode_5                  99.998388\n",
              "ClmProcedureCode_6                 100.000000\n",
              "AdmittedDays                        92.749337\n",
              "DOB                                  0.000000\n",
              "DOD                                 99.259957\n",
              "Gender                               0.000000\n",
              "Race                                 0.000000\n",
              "RenalDiseaseIndicator                0.000000\n",
              "State                                0.000000\n",
              "County                               0.000000\n",
              "NoOfMonths_PartACov                  0.000000\n",
              "NoOfMonths_PartBCov                  0.000000\n",
              "ChronicCond_Alzheimer                0.000000\n",
              "ChronicCond_Heartfailure             0.000000\n",
              "ChronicCond_KidneyDisease            0.000000\n",
              "ChronicCond_Cancer                   0.000000\n",
              "ChronicCond_ObstrPulmonary           0.000000\n",
              "ChronicCond_Depression               0.000000\n",
              "ChronicCond_Diabetes                 0.000000\n",
              "ChronicCond_IschemicHeart            0.000000\n",
              "ChronicCond_Osteoporasis             0.000000\n",
              "ChronicCond_rheumatoidarthritis      0.000000\n",
              "ChronicCond_stroke                   0.000000\n",
              "IPAnnualReimbursementAmt             0.000000\n",
              "IPAnnualDeductibleAmt                0.000000\n",
              "OPAnnualReimbursementAmt             0.000000\n",
              "OPAnnualDeductibleAmt                0.000000\n",
              "Age                                  0.000000\n",
              "DeadOrNot                            0.000000\n",
              "PotentialFraud                       0.000000\n",
              "dtype: float64"
            ]
          },
          "metadata": {},
          "execution_count": 50
        }
      ]
    },
    {
      "cell_type": "code",
      "source": [
        "testAllPatientDetailsProvider.isna().sum()*100/len(testAllPatientDetailsProvider)"
      ],
      "metadata": {
        "colab": {
          "base_uri": "https://localhost:8080/"
        },
        "id": "VptE4idA9P65",
        "outputId": "909b77f5-1aae-4f51-b6b5-23f7ff84e423"
      },
      "execution_count": 51,
      "outputs": [
        {
          "output_type": "execute_result",
          "data": {
            "text/plain": [
              "BeneID                               0.000000\n",
              "ClaimID                              0.000000\n",
              "ClaimStartDt                         0.000000\n",
              "ClaimEndDt                           0.000000\n",
              "Provider                             0.000000\n",
              "InscClaimAmtReimbursed               0.000000\n",
              "AttendingPhysician                   0.256293\n",
              "OperatingPhysician                  79.915357\n",
              "OtherPhysician                      64.080596\n",
              "AdmissionDt                         92.945669\n",
              "ClmAdmitDiagnosisCode               73.886197\n",
              "DeductibleAmtPaid                    0.144765\n",
              "DischargeDt                         92.945669\n",
              "DiagnosisGroupCode                  92.945669\n",
              "ClmDiagnosisCode_1                   1.904101\n",
              "ClmDiagnosisCode_2                  35.293814\n",
              "ClmDiagnosisCode_3                  56.682817\n",
              "ClmDiagnosisCode_4                  70.739039\n",
              "ClmDiagnosisCode_5                  80.207102\n",
              "ClmDiagnosisCode_6                  85.109903\n",
              "ClmDiagnosisCode_7                  88.341261\n",
              "ClmDiagnosisCode_8                  90.603581\n",
              "ClmDiagnosisCode_9                  92.705625\n",
              "ClmDiagnosisCode_10                 99.150615\n",
              "ClmProcedureCode_1                  95.962095\n",
              "ClmProcedureCode_2                  99.067153\n",
              "ClmProcedureCode_3                  99.833816\n",
              "ClmProcedureCode_4                  99.978581\n",
              "ClmProcedureCode_5                  99.998523\n",
              "ClmProcedureCode_6                 100.000000\n",
              "AdmittedDays                        92.945669\n",
              "DOB                                  0.000000\n",
              "DOD                                 99.231860\n",
              "Gender                               0.000000\n",
              "Race                                 0.000000\n",
              "RenalDiseaseIndicator                0.000000\n",
              "State                                0.000000\n",
              "County                               0.000000\n",
              "NoOfMonths_PartACov                  0.000000\n",
              "NoOfMonths_PartBCov                  0.000000\n",
              "ChronicCond_Alzheimer                0.000000\n",
              "ChronicCond_Heartfailure             0.000000\n",
              "ChronicCond_KidneyDisease            0.000000\n",
              "ChronicCond_Cancer                   0.000000\n",
              "ChronicCond_ObstrPulmonary           0.000000\n",
              "ChronicCond_Depression               0.000000\n",
              "ChronicCond_Diabetes                 0.000000\n",
              "ChronicCond_IschemicHeart            0.000000\n",
              "ChronicCond_Osteoporasis             0.000000\n",
              "ChronicCond_rheumatoidarthritis      0.000000\n",
              "ChronicCond_stroke                   0.000000\n",
              "IPAnnualReimbursementAmt             0.000000\n",
              "IPAnnualDeductibleAmt                0.000000\n",
              "OPAnnualReimbursementAmt             0.000000\n",
              "OPAnnualDeductibleAmt                0.000000\n",
              "Age                                  0.000000\n",
              "DeadOrNot                            0.000000\n",
              "dtype: float64"
            ]
          },
          "metadata": {},
          "execution_count": 51
        }
      ]
    },
    {
      "cell_type": "markdown",
      "source": [
        "# Feature Engineering"
      ],
      "metadata": {
        "id": "pHetZKjX-22k"
      }
    },
    {
      "cell_type": "code",
      "source": [
        "pd.set_option('display.max_columns', None)\n",
        "trainAllPatientDetailsProvider.head()"
      ],
      "metadata": {
        "colab": {
          "base_uri": "https://localhost:8080/",
          "height": 348
        },
        "id": "hxsa3YSpAWdz",
        "outputId": "f138c954-54c8-429b-ae17-b6741e5919a6"
      },
      "execution_count": 52,
      "outputs": [
        {
          "output_type": "execute_result",
          "data": {
            "text/plain": [
              "      BeneID    ClaimID ClaimStartDt  ClaimEndDt  Provider  \\\n",
              "0  BENE11001   CLM46614   2009-04-12  2009-04-18  PRV55912   \n",
              "1  BENE16973  CLM565430   2009-09-06  2009-09-06  PRV55912   \n",
              "2  BENE17521   CLM34721   2009-01-20  2009-02-01  PRV55912   \n",
              "3  BENE21718   CLM72336   2009-10-17  2009-11-04  PRV55912   \n",
              "4  BENE22934   CLM73394   2009-10-25  2009-10-29  PRV55912   \n",
              "\n",
              "   InscClaimAmtReimbursed AttendingPhysician OperatingPhysician  \\\n",
              "0                   26000          PHY390922                NaN   \n",
              "1                      50          PHY365867          PHY327147   \n",
              "2                   19000          PHY349293          PHY370861   \n",
              "3                   17000          PHY334706          PHY334706   \n",
              "4                   13000          PHY390614          PHY323689   \n",
              "\n",
              "  OtherPhysician AdmissionDt ClmAdmitDiagnosisCode  DeductibleAmtPaid  \\\n",
              "0            NaN  2009-04-12                  7866             1068.0   \n",
              "1            NaN         NaT                   NaN                0.0   \n",
              "2      PHY363291  2009-01-20                 45340             1068.0   \n",
              "3            NaN  2009-10-17                 V5789             1068.0   \n",
              "4      PHY363291  2009-10-25                 71946             1068.0   \n",
              "\n",
              "  DischargeDt DiagnosisGroupCode ClmDiagnosisCode_1 ClmDiagnosisCode_2  \\\n",
              "0  2009-04-18                201               1970               4019   \n",
              "1         NaT                NaN              V7183              53081   \n",
              "2  2009-02-01                987               4240               2639   \n",
              "3  2009-11-04                941              V5789               4168   \n",
              "4  2009-10-29                506              71535              71960   \n",
              "\n",
              "  ClmDiagnosisCode_3 ClmDiagnosisCode_4 ClmDiagnosisCode_5 ClmDiagnosisCode_6  \\\n",
              "0               5853               7843               2768              71590   \n",
              "1              78959               4280              E8788              78079   \n",
              "2               2948              40390              45821              28489   \n",
              "3              73313               7812               7993              78830   \n",
              "4               4019              V1202               4240               2449   \n",
              "\n",
              "  ClmDiagnosisCode_7 ClmDiagnosisCode_8 ClmDiagnosisCode_9  \\\n",
              "0               2724              19889               5849   \n",
              "1              79902              25002              71848   \n",
              "2               5854               2753              E9305   \n",
              "3              72273              43812               4019   \n",
              "4               2768                NaN                NaN   \n",
              "\n",
              "  ClmDiagnosisCode_10  ClmProcedureCode_1  ClmProcedureCode_2  \\\n",
              "0                 NaN                 NaN                 NaN   \n",
              "1                 NaN                 NaN                 NaN   \n",
              "2                 NaN              7769.0              5849.0   \n",
              "3                 NaN              9338.0                 NaN   \n",
              "4                 NaN              8154.0                 NaN   \n",
              "\n",
              "   ClmProcedureCode_3  ClmProcedureCode_4  ClmProcedureCode_5  \\\n",
              "0                 NaN                 NaN                 NaN   \n",
              "1                 NaN                 NaN                 NaN   \n",
              "2                 NaN                 NaN                 NaN   \n",
              "3                 NaN                 NaN                 NaN   \n",
              "4                 NaN                 NaN                 NaN   \n",
              "\n",
              "   ClmProcedureCode_6  AdmittedDays        DOB DOD  Gender  Race  \\\n",
              "0                 NaN           7.0 1943-01-01 NaT       1     1   \n",
              "1                 NaN           NaN 1932-05-01 NaT       1     1   \n",
              "2                 NaN          13.0 1913-12-01 NaT       2     1   \n",
              "3                 NaN          19.0 1922-10-01 NaT       1     1   \n",
              "4                 NaN           5.0 1930-07-01 NaT       2     1   \n",
              "\n",
              "  RenalDiseaseIndicator  State  County  NoOfMonths_PartACov  \\\n",
              "0                     0     39     230                   12   \n",
              "1                     0     39     310                   12   \n",
              "2                     0     39     230                   12   \n",
              "3                     0     39     600                   12   \n",
              "4                     0     39     280                   12   \n",
              "\n",
              "   NoOfMonths_PartBCov  ChronicCond_Alzheimer  ChronicCond_Heartfailure  \\\n",
              "0                   12                      1                         0   \n",
              "1                   12                      1                         1   \n",
              "2                   12                      1                         1   \n",
              "3                   12                      0                         0   \n",
              "4                   12                      0                         1   \n",
              "\n",
              "   ChronicCond_KidneyDisease  ChronicCond_Cancer  ChronicCond_ObstrPulmonary  \\\n",
              "0                          1                   0                           0   \n",
              "1                          1                   0                           0   \n",
              "2                          1                   0                           1   \n",
              "3                          0                   0                           0   \n",
              "4                          0                   0                           1   \n",
              "\n",
              "   ChronicCond_Depression  ChronicCond_Diabetes  ChronicCond_IschemicHeart  \\\n",
              "0                       1                     1                          1   \n",
              "1                       0                     0                          1   \n",
              "2                       0                     0                          1   \n",
              "3                       0                     0                          1   \n",
              "4                       0                     1                          1   \n",
              "\n",
              "   ChronicCond_Osteoporasis  ChronicCond_rheumatoidarthritis  \\\n",
              "0                         0                                1   \n",
              "1                         0                                0   \n",
              "2                         0                                0   \n",
              "3                         1                                0   \n",
              "4                         1                                1   \n",
              "\n",
              "   ChronicCond_stroke  IPAnnualReimbursementAmt  IPAnnualDeductibleAmt  \\\n",
              "0                   1                     36000                   3204   \n",
              "1                   0                     24000                   2136   \n",
              "2                   0                     19000                   1068   \n",
              "3                   0                     17000                   1068   \n",
              "4                   0                     27000                   2136   \n",
              "\n",
              "   OPAnnualReimbursementAmt  OPAnnualDeductibleAmt    Age  DeadOrNot  \\\n",
              "0                        60                     70   77.0        0.0   \n",
              "1                       450                    200   88.0        0.0   \n",
              "2                       100                     20  106.0        0.0   \n",
              "3                      1050                    540   97.0        0.0   \n",
              "4                       450                    160   89.0        0.0   \n",
              "\n",
              "  PotentialFraud  \n",
              "0            Yes  \n",
              "1            Yes  \n",
              "2            Yes  \n",
              "3            Yes  \n",
              "4            Yes  "
            ],
            "text/html": [
              "\n",
              "  <div id=\"df-3fb810a1-397f-4f23-8e9d-bd010994f296\">\n",
              "    <div class=\"colab-df-container\">\n",
              "      <div>\n",
              "<style scoped>\n",
              "    .dataframe tbody tr th:only-of-type {\n",
              "        vertical-align: middle;\n",
              "    }\n",
              "\n",
              "    .dataframe tbody tr th {\n",
              "        vertical-align: top;\n",
              "    }\n",
              "\n",
              "    .dataframe thead th {\n",
              "        text-align: right;\n",
              "    }\n",
              "</style>\n",
              "<table border=\"1\" class=\"dataframe\">\n",
              "  <thead>\n",
              "    <tr style=\"text-align: right;\">\n",
              "      <th></th>\n",
              "      <th>BeneID</th>\n",
              "      <th>ClaimID</th>\n",
              "      <th>ClaimStartDt</th>\n",
              "      <th>ClaimEndDt</th>\n",
              "      <th>Provider</th>\n",
              "      <th>InscClaimAmtReimbursed</th>\n",
              "      <th>AttendingPhysician</th>\n",
              "      <th>OperatingPhysician</th>\n",
              "      <th>OtherPhysician</th>\n",
              "      <th>AdmissionDt</th>\n",
              "      <th>ClmAdmitDiagnosisCode</th>\n",
              "      <th>DeductibleAmtPaid</th>\n",
              "      <th>DischargeDt</th>\n",
              "      <th>DiagnosisGroupCode</th>\n",
              "      <th>ClmDiagnosisCode_1</th>\n",
              "      <th>ClmDiagnosisCode_2</th>\n",
              "      <th>ClmDiagnosisCode_3</th>\n",
              "      <th>ClmDiagnosisCode_4</th>\n",
              "      <th>ClmDiagnosisCode_5</th>\n",
              "      <th>ClmDiagnosisCode_6</th>\n",
              "      <th>ClmDiagnosisCode_7</th>\n",
              "      <th>ClmDiagnosisCode_8</th>\n",
              "      <th>ClmDiagnosisCode_9</th>\n",
              "      <th>ClmDiagnosisCode_10</th>\n",
              "      <th>ClmProcedureCode_1</th>\n",
              "      <th>ClmProcedureCode_2</th>\n",
              "      <th>ClmProcedureCode_3</th>\n",
              "      <th>ClmProcedureCode_4</th>\n",
              "      <th>ClmProcedureCode_5</th>\n",
              "      <th>ClmProcedureCode_6</th>\n",
              "      <th>AdmittedDays</th>\n",
              "      <th>DOB</th>\n",
              "      <th>DOD</th>\n",
              "      <th>Gender</th>\n",
              "      <th>Race</th>\n",
              "      <th>RenalDiseaseIndicator</th>\n",
              "      <th>State</th>\n",
              "      <th>County</th>\n",
              "      <th>NoOfMonths_PartACov</th>\n",
              "      <th>NoOfMonths_PartBCov</th>\n",
              "      <th>ChronicCond_Alzheimer</th>\n",
              "      <th>ChronicCond_Heartfailure</th>\n",
              "      <th>ChronicCond_KidneyDisease</th>\n",
              "      <th>ChronicCond_Cancer</th>\n",
              "      <th>ChronicCond_ObstrPulmonary</th>\n",
              "      <th>ChronicCond_Depression</th>\n",
              "      <th>ChronicCond_Diabetes</th>\n",
              "      <th>ChronicCond_IschemicHeart</th>\n",
              "      <th>ChronicCond_Osteoporasis</th>\n",
              "      <th>ChronicCond_rheumatoidarthritis</th>\n",
              "      <th>ChronicCond_stroke</th>\n",
              "      <th>IPAnnualReimbursementAmt</th>\n",
              "      <th>IPAnnualDeductibleAmt</th>\n",
              "      <th>OPAnnualReimbursementAmt</th>\n",
              "      <th>OPAnnualDeductibleAmt</th>\n",
              "      <th>Age</th>\n",
              "      <th>DeadOrNot</th>\n",
              "      <th>PotentialFraud</th>\n",
              "    </tr>\n",
              "  </thead>\n",
              "  <tbody>\n",
              "    <tr>\n",
              "      <th>0</th>\n",
              "      <td>BENE11001</td>\n",
              "      <td>CLM46614</td>\n",
              "      <td>2009-04-12</td>\n",
              "      <td>2009-04-18</td>\n",
              "      <td>PRV55912</td>\n",
              "      <td>26000</td>\n",
              "      <td>PHY390922</td>\n",
              "      <td>NaN</td>\n",
              "      <td>NaN</td>\n",
              "      <td>2009-04-12</td>\n",
              "      <td>7866</td>\n",
              "      <td>1068.0</td>\n",
              "      <td>2009-04-18</td>\n",
              "      <td>201</td>\n",
              "      <td>1970</td>\n",
              "      <td>4019</td>\n",
              "      <td>5853</td>\n",
              "      <td>7843</td>\n",
              "      <td>2768</td>\n",
              "      <td>71590</td>\n",
              "      <td>2724</td>\n",
              "      <td>19889</td>\n",
              "      <td>5849</td>\n",
              "      <td>NaN</td>\n",
              "      <td>NaN</td>\n",
              "      <td>NaN</td>\n",
              "      <td>NaN</td>\n",
              "      <td>NaN</td>\n",
              "      <td>NaN</td>\n",
              "      <td>NaN</td>\n",
              "      <td>7.0</td>\n",
              "      <td>1943-01-01</td>\n",
              "      <td>NaT</td>\n",
              "      <td>1</td>\n",
              "      <td>1</td>\n",
              "      <td>0</td>\n",
              "      <td>39</td>\n",
              "      <td>230</td>\n",
              "      <td>12</td>\n",
              "      <td>12</td>\n",
              "      <td>1</td>\n",
              "      <td>0</td>\n",
              "      <td>1</td>\n",
              "      <td>0</td>\n",
              "      <td>0</td>\n",
              "      <td>1</td>\n",
              "      <td>1</td>\n",
              "      <td>1</td>\n",
              "      <td>0</td>\n",
              "      <td>1</td>\n",
              "      <td>1</td>\n",
              "      <td>36000</td>\n",
              "      <td>3204</td>\n",
              "      <td>60</td>\n",
              "      <td>70</td>\n",
              "      <td>77.0</td>\n",
              "      <td>0.0</td>\n",
              "      <td>Yes</td>\n",
              "    </tr>\n",
              "    <tr>\n",
              "      <th>1</th>\n",
              "      <td>BENE16973</td>\n",
              "      <td>CLM565430</td>\n",
              "      <td>2009-09-06</td>\n",
              "      <td>2009-09-06</td>\n",
              "      <td>PRV55912</td>\n",
              "      <td>50</td>\n",
              "      <td>PHY365867</td>\n",
              "      <td>PHY327147</td>\n",
              "      <td>NaN</td>\n",
              "      <td>NaT</td>\n",
              "      <td>NaN</td>\n",
              "      <td>0.0</td>\n",
              "      <td>NaT</td>\n",
              "      <td>NaN</td>\n",
              "      <td>V7183</td>\n",
              "      <td>53081</td>\n",
              "      <td>78959</td>\n",
              "      <td>4280</td>\n",
              "      <td>E8788</td>\n",
              "      <td>78079</td>\n",
              "      <td>79902</td>\n",
              "      <td>25002</td>\n",
              "      <td>71848</td>\n",
              "      <td>NaN</td>\n",
              "      <td>NaN</td>\n",
              "      <td>NaN</td>\n",
              "      <td>NaN</td>\n",
              "      <td>NaN</td>\n",
              "      <td>NaN</td>\n",
              "      <td>NaN</td>\n",
              "      <td>NaN</td>\n",
              "      <td>1932-05-01</td>\n",
              "      <td>NaT</td>\n",
              "      <td>1</td>\n",
              "      <td>1</td>\n",
              "      <td>0</td>\n",
              "      <td>39</td>\n",
              "      <td>310</td>\n",
              "      <td>12</td>\n",
              "      <td>12</td>\n",
              "      <td>1</td>\n",
              "      <td>1</td>\n",
              "      <td>1</td>\n",
              "      <td>0</td>\n",
              "      <td>0</td>\n",
              "      <td>0</td>\n",
              "      <td>0</td>\n",
              "      <td>1</td>\n",
              "      <td>0</td>\n",
              "      <td>0</td>\n",
              "      <td>0</td>\n",
              "      <td>24000</td>\n",
              "      <td>2136</td>\n",
              "      <td>450</td>\n",
              "      <td>200</td>\n",
              "      <td>88.0</td>\n",
              "      <td>0.0</td>\n",
              "      <td>Yes</td>\n",
              "    </tr>\n",
              "    <tr>\n",
              "      <th>2</th>\n",
              "      <td>BENE17521</td>\n",
              "      <td>CLM34721</td>\n",
              "      <td>2009-01-20</td>\n",
              "      <td>2009-02-01</td>\n",
              "      <td>PRV55912</td>\n",
              "      <td>19000</td>\n",
              "      <td>PHY349293</td>\n",
              "      <td>PHY370861</td>\n",
              "      <td>PHY363291</td>\n",
              "      <td>2009-01-20</td>\n",
              "      <td>45340</td>\n",
              "      <td>1068.0</td>\n",
              "      <td>2009-02-01</td>\n",
              "      <td>987</td>\n",
              "      <td>4240</td>\n",
              "      <td>2639</td>\n",
              "      <td>2948</td>\n",
              "      <td>40390</td>\n",
              "      <td>45821</td>\n",
              "      <td>28489</td>\n",
              "      <td>5854</td>\n",
              "      <td>2753</td>\n",
              "      <td>E9305</td>\n",
              "      <td>NaN</td>\n",
              "      <td>7769.0</td>\n",
              "      <td>5849.0</td>\n",
              "      <td>NaN</td>\n",
              "      <td>NaN</td>\n",
              "      <td>NaN</td>\n",
              "      <td>NaN</td>\n",
              "      <td>13.0</td>\n",
              "      <td>1913-12-01</td>\n",
              "      <td>NaT</td>\n",
              "      <td>2</td>\n",
              "      <td>1</td>\n",
              "      <td>0</td>\n",
              "      <td>39</td>\n",
              "      <td>230</td>\n",
              "      <td>12</td>\n",
              "      <td>12</td>\n",
              "      <td>1</td>\n",
              "      <td>1</td>\n",
              "      <td>1</td>\n",
              "      <td>0</td>\n",
              "      <td>1</td>\n",
              "      <td>0</td>\n",
              "      <td>0</td>\n",
              "      <td>1</td>\n",
              "      <td>0</td>\n",
              "      <td>0</td>\n",
              "      <td>0</td>\n",
              "      <td>19000</td>\n",
              "      <td>1068</td>\n",
              "      <td>100</td>\n",
              "      <td>20</td>\n",
              "      <td>106.0</td>\n",
              "      <td>0.0</td>\n",
              "      <td>Yes</td>\n",
              "    </tr>\n",
              "    <tr>\n",
              "      <th>3</th>\n",
              "      <td>BENE21718</td>\n",
              "      <td>CLM72336</td>\n",
              "      <td>2009-10-17</td>\n",
              "      <td>2009-11-04</td>\n",
              "      <td>PRV55912</td>\n",
              "      <td>17000</td>\n",
              "      <td>PHY334706</td>\n",
              "      <td>PHY334706</td>\n",
              "      <td>NaN</td>\n",
              "      <td>2009-10-17</td>\n",
              "      <td>V5789</td>\n",
              "      <td>1068.0</td>\n",
              "      <td>2009-11-04</td>\n",
              "      <td>941</td>\n",
              "      <td>V5789</td>\n",
              "      <td>4168</td>\n",
              "      <td>73313</td>\n",
              "      <td>7812</td>\n",
              "      <td>7993</td>\n",
              "      <td>78830</td>\n",
              "      <td>72273</td>\n",
              "      <td>43812</td>\n",
              "      <td>4019</td>\n",
              "      <td>NaN</td>\n",
              "      <td>9338.0</td>\n",
              "      <td>NaN</td>\n",
              "      <td>NaN</td>\n",
              "      <td>NaN</td>\n",
              "      <td>NaN</td>\n",
              "      <td>NaN</td>\n",
              "      <td>19.0</td>\n",
              "      <td>1922-10-01</td>\n",
              "      <td>NaT</td>\n",
              "      <td>1</td>\n",
              "      <td>1</td>\n",
              "      <td>0</td>\n",
              "      <td>39</td>\n",
              "      <td>600</td>\n",
              "      <td>12</td>\n",
              "      <td>12</td>\n",
              "      <td>0</td>\n",
              "      <td>0</td>\n",
              "      <td>0</td>\n",
              "      <td>0</td>\n",
              "      <td>0</td>\n",
              "      <td>0</td>\n",
              "      <td>0</td>\n",
              "      <td>1</td>\n",
              "      <td>1</td>\n",
              "      <td>0</td>\n",
              "      <td>0</td>\n",
              "      <td>17000</td>\n",
              "      <td>1068</td>\n",
              "      <td>1050</td>\n",
              "      <td>540</td>\n",
              "      <td>97.0</td>\n",
              "      <td>0.0</td>\n",
              "      <td>Yes</td>\n",
              "    </tr>\n",
              "    <tr>\n",
              "      <th>4</th>\n",
              "      <td>BENE22934</td>\n",
              "      <td>CLM73394</td>\n",
              "      <td>2009-10-25</td>\n",
              "      <td>2009-10-29</td>\n",
              "      <td>PRV55912</td>\n",
              "      <td>13000</td>\n",
              "      <td>PHY390614</td>\n",
              "      <td>PHY323689</td>\n",
              "      <td>PHY363291</td>\n",
              "      <td>2009-10-25</td>\n",
              "      <td>71946</td>\n",
              "      <td>1068.0</td>\n",
              "      <td>2009-10-29</td>\n",
              "      <td>506</td>\n",
              "      <td>71535</td>\n",
              "      <td>71960</td>\n",
              "      <td>4019</td>\n",
              "      <td>V1202</td>\n",
              "      <td>4240</td>\n",
              "      <td>2449</td>\n",
              "      <td>2768</td>\n",
              "      <td>NaN</td>\n",
              "      <td>NaN</td>\n",
              "      <td>NaN</td>\n",
              "      <td>8154.0</td>\n",
              "      <td>NaN</td>\n",
              "      <td>NaN</td>\n",
              "      <td>NaN</td>\n",
              "      <td>NaN</td>\n",
              "      <td>NaN</td>\n",
              "      <td>5.0</td>\n",
              "      <td>1930-07-01</td>\n",
              "      <td>NaT</td>\n",
              "      <td>2</td>\n",
              "      <td>1</td>\n",
              "      <td>0</td>\n",
              "      <td>39</td>\n",
              "      <td>280</td>\n",
              "      <td>12</td>\n",
              "      <td>12</td>\n",
              "      <td>0</td>\n",
              "      <td>1</td>\n",
              "      <td>0</td>\n",
              "      <td>0</td>\n",
              "      <td>1</td>\n",
              "      <td>0</td>\n",
              "      <td>1</td>\n",
              "      <td>1</td>\n",
              "      <td>1</td>\n",
              "      <td>1</td>\n",
              "      <td>0</td>\n",
              "      <td>27000</td>\n",
              "      <td>2136</td>\n",
              "      <td>450</td>\n",
              "      <td>160</td>\n",
              "      <td>89.0</td>\n",
              "      <td>0.0</td>\n",
              "      <td>Yes</td>\n",
              "    </tr>\n",
              "  </tbody>\n",
              "</table>\n",
              "</div>\n",
              "      <button class=\"colab-df-convert\" onclick=\"convertToInteractive('df-3fb810a1-397f-4f23-8e9d-bd010994f296')\"\n",
              "              title=\"Convert this dataframe to an interactive table.\"\n",
              "              style=\"display:none;\">\n",
              "        \n",
              "  <svg xmlns=\"http://www.w3.org/2000/svg\" height=\"24px\"viewBox=\"0 0 24 24\"\n",
              "       width=\"24px\">\n",
              "    <path d=\"M0 0h24v24H0V0z\" fill=\"none\"/>\n",
              "    <path d=\"M18.56 5.44l.94 2.06.94-2.06 2.06-.94-2.06-.94-.94-2.06-.94 2.06-2.06.94zm-11 1L8.5 8.5l.94-2.06 2.06-.94-2.06-.94L8.5 2.5l-.94 2.06-2.06.94zm10 10l.94 2.06.94-2.06 2.06-.94-2.06-.94-.94-2.06-.94 2.06-2.06.94z\"/><path d=\"M17.41 7.96l-1.37-1.37c-.4-.4-.92-.59-1.43-.59-.52 0-1.04.2-1.43.59L10.3 9.45l-7.72 7.72c-.78.78-.78 2.05 0 2.83L4 21.41c.39.39.9.59 1.41.59.51 0 1.02-.2 1.41-.59l7.78-7.78 2.81-2.81c.8-.78.8-2.07 0-2.86zM5.41 20L4 18.59l7.72-7.72 1.47 1.35L5.41 20z\"/>\n",
              "  </svg>\n",
              "      </button>\n",
              "      \n",
              "  <style>\n",
              "    .colab-df-container {\n",
              "      display:flex;\n",
              "      flex-wrap:wrap;\n",
              "      gap: 12px;\n",
              "    }\n",
              "\n",
              "    .colab-df-convert {\n",
              "      background-color: #E8F0FE;\n",
              "      border: none;\n",
              "      border-radius: 50%;\n",
              "      cursor: pointer;\n",
              "      display: none;\n",
              "      fill: #1967D2;\n",
              "      height: 32px;\n",
              "      padding: 0 0 0 0;\n",
              "      width: 32px;\n",
              "    }\n",
              "\n",
              "    .colab-df-convert:hover {\n",
              "      background-color: #E2EBFA;\n",
              "      box-shadow: 0px 1px 2px rgba(60, 64, 67, 0.3), 0px 1px 3px 1px rgba(60, 64, 67, 0.15);\n",
              "      fill: #174EA6;\n",
              "    }\n",
              "\n",
              "    [theme=dark] .colab-df-convert {\n",
              "      background-color: #3B4455;\n",
              "      fill: #D2E3FC;\n",
              "    }\n",
              "\n",
              "    [theme=dark] .colab-df-convert:hover {\n",
              "      background-color: #434B5C;\n",
              "      box-shadow: 0px 1px 3px 1px rgba(0, 0, 0, 0.15);\n",
              "      filter: drop-shadow(0px 1px 2px rgba(0, 0, 0, 0.3));\n",
              "      fill: #FFFFFF;\n",
              "    }\n",
              "  </style>\n",
              "\n",
              "      <script>\n",
              "        const buttonEl =\n",
              "          document.querySelector('#df-3fb810a1-397f-4f23-8e9d-bd010994f296 button.colab-df-convert');\n",
              "        buttonEl.style.display =\n",
              "          google.colab.kernel.accessAllowed ? 'block' : 'none';\n",
              "\n",
              "        async function convertToInteractive(key) {\n",
              "          const element = document.querySelector('#df-3fb810a1-397f-4f23-8e9d-bd010994f296');\n",
              "          const dataTable =\n",
              "            await google.colab.kernel.invokeFunction('convertToInteractive',\n",
              "                                                     [key], {});\n",
              "          if (!dataTable) return;\n",
              "\n",
              "          const docLinkHtml = 'Like what you see? Visit the ' +\n",
              "            '<a target=\"_blank\" href=https://colab.research.google.com/notebooks/data_table.ipynb>data table notebook</a>'\n",
              "            + ' to learn more about interactive tables.';\n",
              "          element.innerHTML = '';\n",
              "          dataTable['output_type'] = 'display_data';\n",
              "          await google.colab.output.renderOutput(dataTable, element);\n",
              "          const docLink = document.createElement('div');\n",
              "          docLink.innerHTML = docLinkHtml;\n",
              "          element.appendChild(docLink);\n",
              "        }\n",
              "      </script>\n",
              "    </div>\n",
              "  </div>\n",
              "  "
            ]
          },
          "metadata": {},
          "execution_count": 52
        }
      ]
    },
    {
      "cell_type": "code",
      "source": [
        "columns_to_remove = ['BeneID', 'ClaimID', 'ClaimStartDt','ClaimEndDt','AttendingPhysician',\n",
        "                     'OperatingPhysician', 'OtherPhysician', 'ClmDiagnosisCode_1',\n",
        "                     'ClmDiagnosisCode_2', 'ClmDiagnosisCode_3', 'ClmDiagnosisCode_4',\n",
        "                     'ClmDiagnosisCode_5', 'ClmDiagnosisCode_6', 'ClmDiagnosisCode_7',\n",
        "                     'ClmDiagnosisCode_8', 'ClmDiagnosisCode_9', 'ClmDiagnosisCode_10',\n",
        "                     'ClmProcedureCode_1', 'ClmProcedureCode_2', 'ClmProcedureCode_3',\n",
        "                     'ClmProcedureCode_4', 'ClmProcedureCode_5', 'ClmProcedureCode_6',\n",
        "                     'ClmAdmitDiagnosisCode', 'AdmissionDt',\n",
        "                     'DischargeDt', 'DiagnosisGroupCode','DOB', 'DOD',\n",
        "                     'State', 'County']\n",
        "\n",
        "train_final = trainAllPatientDetailsProvider.drop(columns=columns_to_remove, axis=1)\n",
        "train_final.shape"
      ],
      "metadata": {
        "colab": {
          "base_uri": "https://localhost:8080/"
        },
        "id": "qiNs0R8IAV8W",
        "outputId": "23f9a97b-6698-41a0-d5d6-725365881fa8"
      },
      "execution_count": 53,
      "outputs": [
        {
          "output_type": "execute_result",
          "data": {
            "text/plain": [
              "(558211, 27)"
            ]
          },
          "metadata": {},
          "execution_count": 53
        }
      ]
    },
    {
      "cell_type": "code",
      "source": [
        "train_final.isnull().sum()"
      ],
      "metadata": {
        "colab": {
          "base_uri": "https://localhost:8080/"
        },
        "id": "f2ZXWx0PBS4T",
        "outputId": "51e24acf-4ae0-4585-e161-79b22e077a92"
      },
      "execution_count": 54,
      "outputs": [
        {
          "output_type": "execute_result",
          "data": {
            "text/plain": [
              "Provider                                0\n",
              "InscClaimAmtReimbursed                  0\n",
              "DeductibleAmtPaid                     899\n",
              "AdmittedDays                       517737\n",
              "Gender                                  0\n",
              "Race                                    0\n",
              "RenalDiseaseIndicator                   0\n",
              "NoOfMonths_PartACov                     0\n",
              "NoOfMonths_PartBCov                     0\n",
              "ChronicCond_Alzheimer                   0\n",
              "ChronicCond_Heartfailure                0\n",
              "ChronicCond_KidneyDisease               0\n",
              "ChronicCond_Cancer                      0\n",
              "ChronicCond_ObstrPulmonary              0\n",
              "ChronicCond_Depression                  0\n",
              "ChronicCond_Diabetes                    0\n",
              "ChronicCond_IschemicHeart               0\n",
              "ChronicCond_Osteoporasis                0\n",
              "ChronicCond_rheumatoidarthritis         0\n",
              "ChronicCond_stroke                      0\n",
              "IPAnnualReimbursementAmt                0\n",
              "IPAnnualDeductibleAmt                   0\n",
              "OPAnnualReimbursementAmt                0\n",
              "OPAnnualDeductibleAmt                   0\n",
              "Age                                     0\n",
              "DeadOrNot                               0\n",
              "PotentialFraud                          0\n",
              "dtype: int64"
            ]
          },
          "metadata": {},
          "execution_count": 54
        }
      ]
    },
    {
      "cell_type": "code",
      "source": [
        "test_final = testAllPatientDetailsProvider.drop(columns=columns_to_remove, axis=1)\n",
        "test_final.shape"
      ],
      "metadata": {
        "colab": {
          "base_uri": "https://localhost:8080/"
        },
        "id": "kIf4xMVGBXxd",
        "outputId": "e5b46ed5-7ccc-478f-cfcf-8d5d382929e0"
      },
      "execution_count": 55,
      "outputs": [
        {
          "output_type": "execute_result",
          "data": {
            "text/plain": [
              "(135392, 26)"
            ]
          },
          "metadata": {},
          "execution_count": 55
        }
      ]
    },
    {
      "cell_type": "code",
      "source": [
        "test_final.isnull().sum()"
      ],
      "metadata": {
        "colab": {
          "base_uri": "https://localhost:8080/"
        },
        "id": "oinj62dNBkUX",
        "outputId": "78e73606-314b-487a-f136-fca586bdede2"
      },
      "execution_count": 56,
      "outputs": [
        {
          "output_type": "execute_result",
          "data": {
            "text/plain": [
              "Provider                                0\n",
              "InscClaimAmtReimbursed                  0\n",
              "DeductibleAmtPaid                     196\n",
              "AdmittedDays                       125841\n",
              "Gender                                  0\n",
              "Race                                    0\n",
              "RenalDiseaseIndicator                   0\n",
              "NoOfMonths_PartACov                     0\n",
              "NoOfMonths_PartBCov                     0\n",
              "ChronicCond_Alzheimer                   0\n",
              "ChronicCond_Heartfailure                0\n",
              "ChronicCond_KidneyDisease               0\n",
              "ChronicCond_Cancer                      0\n",
              "ChronicCond_ObstrPulmonary              0\n",
              "ChronicCond_Depression                  0\n",
              "ChronicCond_Diabetes                    0\n",
              "ChronicCond_IschemicHeart               0\n",
              "ChronicCond_Osteoporasis                0\n",
              "ChronicCond_rheumatoidarthritis         0\n",
              "ChronicCond_stroke                      0\n",
              "IPAnnualReimbursementAmt                0\n",
              "IPAnnualDeductibleAmt                   0\n",
              "OPAnnualReimbursementAmt                0\n",
              "OPAnnualDeductibleAmt                   0\n",
              "Age                                     0\n",
              "DeadOrNot                               0\n",
              "dtype: int64"
            ]
          },
          "metadata": {},
          "execution_count": 56
        }
      ]
    },
    {
      "cell_type": "code",
      "source": [
        "train_final.Gender = train_final.Gender.astype('category')\n",
        "train_final.Race = train_final.Race.astype('category')"
      ],
      "metadata": {
        "id": "rc77o8gOBoN_"
      },
      "execution_count": 57,
      "outputs": []
    },
    {
      "cell_type": "code",
      "source": [
        "test_final.Gender = test_final.Gender.astype('category')\n",
        "test_final.Race = test_final.Race.astype('category')"
      ],
      "metadata": {
        "id": "eXWDnISGBsCo"
      },
      "execution_count": 58,
      "outputs": []
    },
    {
      "cell_type": "markdown",
      "source": [
        "## One-hot encoding"
      ],
      "metadata": {
        "id": "Uo3AXMo7B08B"
      }
    },
    {
      "cell_type": "code",
      "source": [
        "train_final = pd.get_dummies(train_final, columns=['Gender', 'Race'], drop_first=True)\n",
        "train_final.head()"
      ],
      "metadata": {
        "colab": {
          "base_uri": "https://localhost:8080/",
          "height": 266
        },
        "id": "4uTw412rBwAC",
        "outputId": "d7116eec-c83a-41bb-94ef-a557c4d41c63"
      },
      "execution_count": 59,
      "outputs": [
        {
          "output_type": "execute_result",
          "data": {
            "text/plain": [
              "   Provider  InscClaimAmtReimbursed  DeductibleAmtPaid  AdmittedDays  \\\n",
              "0  PRV55912                   26000             1068.0           7.0   \n",
              "1  PRV55912                      50                0.0           NaN   \n",
              "2  PRV55912                   19000             1068.0          13.0   \n",
              "3  PRV55912                   17000             1068.0          19.0   \n",
              "4  PRV55912                   13000             1068.0           5.0   \n",
              "\n",
              "  RenalDiseaseIndicator  NoOfMonths_PartACov  NoOfMonths_PartBCov  \\\n",
              "0                     0                   12                   12   \n",
              "1                     0                   12                   12   \n",
              "2                     0                   12                   12   \n",
              "3                     0                   12                   12   \n",
              "4                     0                   12                   12   \n",
              "\n",
              "   ChronicCond_Alzheimer  ChronicCond_Heartfailure  ChronicCond_KidneyDisease  \\\n",
              "0                      1                         0                          1   \n",
              "1                      1                         1                          1   \n",
              "2                      1                         1                          1   \n",
              "3                      0                         0                          0   \n",
              "4                      0                         1                          0   \n",
              "\n",
              "   ChronicCond_Cancer  ChronicCond_ObstrPulmonary  ChronicCond_Depression  \\\n",
              "0                   0                           0                       1   \n",
              "1                   0                           0                       0   \n",
              "2                   0                           1                       0   \n",
              "3                   0                           0                       0   \n",
              "4                   0                           1                       0   \n",
              "\n",
              "   ChronicCond_Diabetes  ChronicCond_IschemicHeart  ChronicCond_Osteoporasis  \\\n",
              "0                     1                          1                         0   \n",
              "1                     0                          1                         0   \n",
              "2                     0                          1                         0   \n",
              "3                     0                          1                         1   \n",
              "4                     1                          1                         1   \n",
              "\n",
              "   ChronicCond_rheumatoidarthritis  ChronicCond_stroke  \\\n",
              "0                                1                   1   \n",
              "1                                0                   0   \n",
              "2                                0                   0   \n",
              "3                                0                   0   \n",
              "4                                1                   0   \n",
              "\n",
              "   IPAnnualReimbursementAmt  IPAnnualDeductibleAmt  OPAnnualReimbursementAmt  \\\n",
              "0                     36000                   3204                        60   \n",
              "1                     24000                   2136                       450   \n",
              "2                     19000                   1068                       100   \n",
              "3                     17000                   1068                      1050   \n",
              "4                     27000                   2136                       450   \n",
              "\n",
              "   OPAnnualDeductibleAmt    Age  DeadOrNot PotentialFraud  Gender_2  Race_2  \\\n",
              "0                     70   77.0        0.0            Yes         0       0   \n",
              "1                    200   88.0        0.0            Yes         0       0   \n",
              "2                     20  106.0        0.0            Yes         1       0   \n",
              "3                    540   97.0        0.0            Yes         0       0   \n",
              "4                    160   89.0        0.0            Yes         1       0   \n",
              "\n",
              "   Race_3  Race_5  \n",
              "0       0       0  \n",
              "1       0       0  \n",
              "2       0       0  \n",
              "3       0       0  \n",
              "4       0       0  "
            ],
            "text/html": [
              "\n",
              "  <div id=\"df-992dfad6-5351-41b8-8317-a674fad9872c\">\n",
              "    <div class=\"colab-df-container\">\n",
              "      <div>\n",
              "<style scoped>\n",
              "    .dataframe tbody tr th:only-of-type {\n",
              "        vertical-align: middle;\n",
              "    }\n",
              "\n",
              "    .dataframe tbody tr th {\n",
              "        vertical-align: top;\n",
              "    }\n",
              "\n",
              "    .dataframe thead th {\n",
              "        text-align: right;\n",
              "    }\n",
              "</style>\n",
              "<table border=\"1\" class=\"dataframe\">\n",
              "  <thead>\n",
              "    <tr style=\"text-align: right;\">\n",
              "      <th></th>\n",
              "      <th>Provider</th>\n",
              "      <th>InscClaimAmtReimbursed</th>\n",
              "      <th>DeductibleAmtPaid</th>\n",
              "      <th>AdmittedDays</th>\n",
              "      <th>RenalDiseaseIndicator</th>\n",
              "      <th>NoOfMonths_PartACov</th>\n",
              "      <th>NoOfMonths_PartBCov</th>\n",
              "      <th>ChronicCond_Alzheimer</th>\n",
              "      <th>ChronicCond_Heartfailure</th>\n",
              "      <th>ChronicCond_KidneyDisease</th>\n",
              "      <th>ChronicCond_Cancer</th>\n",
              "      <th>ChronicCond_ObstrPulmonary</th>\n",
              "      <th>ChronicCond_Depression</th>\n",
              "      <th>ChronicCond_Diabetes</th>\n",
              "      <th>ChronicCond_IschemicHeart</th>\n",
              "      <th>ChronicCond_Osteoporasis</th>\n",
              "      <th>ChronicCond_rheumatoidarthritis</th>\n",
              "      <th>ChronicCond_stroke</th>\n",
              "      <th>IPAnnualReimbursementAmt</th>\n",
              "      <th>IPAnnualDeductibleAmt</th>\n",
              "      <th>OPAnnualReimbursementAmt</th>\n",
              "      <th>OPAnnualDeductibleAmt</th>\n",
              "      <th>Age</th>\n",
              "      <th>DeadOrNot</th>\n",
              "      <th>PotentialFraud</th>\n",
              "      <th>Gender_2</th>\n",
              "      <th>Race_2</th>\n",
              "      <th>Race_3</th>\n",
              "      <th>Race_5</th>\n",
              "    </tr>\n",
              "  </thead>\n",
              "  <tbody>\n",
              "    <tr>\n",
              "      <th>0</th>\n",
              "      <td>PRV55912</td>\n",
              "      <td>26000</td>\n",
              "      <td>1068.0</td>\n",
              "      <td>7.0</td>\n",
              "      <td>0</td>\n",
              "      <td>12</td>\n",
              "      <td>12</td>\n",
              "      <td>1</td>\n",
              "      <td>0</td>\n",
              "      <td>1</td>\n",
              "      <td>0</td>\n",
              "      <td>0</td>\n",
              "      <td>1</td>\n",
              "      <td>1</td>\n",
              "      <td>1</td>\n",
              "      <td>0</td>\n",
              "      <td>1</td>\n",
              "      <td>1</td>\n",
              "      <td>36000</td>\n",
              "      <td>3204</td>\n",
              "      <td>60</td>\n",
              "      <td>70</td>\n",
              "      <td>77.0</td>\n",
              "      <td>0.0</td>\n",
              "      <td>Yes</td>\n",
              "      <td>0</td>\n",
              "      <td>0</td>\n",
              "      <td>0</td>\n",
              "      <td>0</td>\n",
              "    </tr>\n",
              "    <tr>\n",
              "      <th>1</th>\n",
              "      <td>PRV55912</td>\n",
              "      <td>50</td>\n",
              "      <td>0.0</td>\n",
              "      <td>NaN</td>\n",
              "      <td>0</td>\n",
              "      <td>12</td>\n",
              "      <td>12</td>\n",
              "      <td>1</td>\n",
              "      <td>1</td>\n",
              "      <td>1</td>\n",
              "      <td>0</td>\n",
              "      <td>0</td>\n",
              "      <td>0</td>\n",
              "      <td>0</td>\n",
              "      <td>1</td>\n",
              "      <td>0</td>\n",
              "      <td>0</td>\n",
              "      <td>0</td>\n",
              "      <td>24000</td>\n",
              "      <td>2136</td>\n",
              "      <td>450</td>\n",
              "      <td>200</td>\n",
              "      <td>88.0</td>\n",
              "      <td>0.0</td>\n",
              "      <td>Yes</td>\n",
              "      <td>0</td>\n",
              "      <td>0</td>\n",
              "      <td>0</td>\n",
              "      <td>0</td>\n",
              "    </tr>\n",
              "    <tr>\n",
              "      <th>2</th>\n",
              "      <td>PRV55912</td>\n",
              "      <td>19000</td>\n",
              "      <td>1068.0</td>\n",
              "      <td>13.0</td>\n",
              "      <td>0</td>\n",
              "      <td>12</td>\n",
              "      <td>12</td>\n",
              "      <td>1</td>\n",
              "      <td>1</td>\n",
              "      <td>1</td>\n",
              "      <td>0</td>\n",
              "      <td>1</td>\n",
              "      <td>0</td>\n",
              "      <td>0</td>\n",
              "      <td>1</td>\n",
              "      <td>0</td>\n",
              "      <td>0</td>\n",
              "      <td>0</td>\n",
              "      <td>19000</td>\n",
              "      <td>1068</td>\n",
              "      <td>100</td>\n",
              "      <td>20</td>\n",
              "      <td>106.0</td>\n",
              "      <td>0.0</td>\n",
              "      <td>Yes</td>\n",
              "      <td>1</td>\n",
              "      <td>0</td>\n",
              "      <td>0</td>\n",
              "      <td>0</td>\n",
              "    </tr>\n",
              "    <tr>\n",
              "      <th>3</th>\n",
              "      <td>PRV55912</td>\n",
              "      <td>17000</td>\n",
              "      <td>1068.0</td>\n",
              "      <td>19.0</td>\n",
              "      <td>0</td>\n",
              "      <td>12</td>\n",
              "      <td>12</td>\n",
              "      <td>0</td>\n",
              "      <td>0</td>\n",
              "      <td>0</td>\n",
              "      <td>0</td>\n",
              "      <td>0</td>\n",
              "      <td>0</td>\n",
              "      <td>0</td>\n",
              "      <td>1</td>\n",
              "      <td>1</td>\n",
              "      <td>0</td>\n",
              "      <td>0</td>\n",
              "      <td>17000</td>\n",
              "      <td>1068</td>\n",
              "      <td>1050</td>\n",
              "      <td>540</td>\n",
              "      <td>97.0</td>\n",
              "      <td>0.0</td>\n",
              "      <td>Yes</td>\n",
              "      <td>0</td>\n",
              "      <td>0</td>\n",
              "      <td>0</td>\n",
              "      <td>0</td>\n",
              "    </tr>\n",
              "    <tr>\n",
              "      <th>4</th>\n",
              "      <td>PRV55912</td>\n",
              "      <td>13000</td>\n",
              "      <td>1068.0</td>\n",
              "      <td>5.0</td>\n",
              "      <td>0</td>\n",
              "      <td>12</td>\n",
              "      <td>12</td>\n",
              "      <td>0</td>\n",
              "      <td>1</td>\n",
              "      <td>0</td>\n",
              "      <td>0</td>\n",
              "      <td>1</td>\n",
              "      <td>0</td>\n",
              "      <td>1</td>\n",
              "      <td>1</td>\n",
              "      <td>1</td>\n",
              "      <td>1</td>\n",
              "      <td>0</td>\n",
              "      <td>27000</td>\n",
              "      <td>2136</td>\n",
              "      <td>450</td>\n",
              "      <td>160</td>\n",
              "      <td>89.0</td>\n",
              "      <td>0.0</td>\n",
              "      <td>Yes</td>\n",
              "      <td>1</td>\n",
              "      <td>0</td>\n",
              "      <td>0</td>\n",
              "      <td>0</td>\n",
              "    </tr>\n",
              "  </tbody>\n",
              "</table>\n",
              "</div>\n",
              "      <button class=\"colab-df-convert\" onclick=\"convertToInteractive('df-992dfad6-5351-41b8-8317-a674fad9872c')\"\n",
              "              title=\"Convert this dataframe to an interactive table.\"\n",
              "              style=\"display:none;\">\n",
              "        \n",
              "  <svg xmlns=\"http://www.w3.org/2000/svg\" height=\"24px\"viewBox=\"0 0 24 24\"\n",
              "       width=\"24px\">\n",
              "    <path d=\"M0 0h24v24H0V0z\" fill=\"none\"/>\n",
              "    <path d=\"M18.56 5.44l.94 2.06.94-2.06 2.06-.94-2.06-.94-.94-2.06-.94 2.06-2.06.94zm-11 1L8.5 8.5l.94-2.06 2.06-.94-2.06-.94L8.5 2.5l-.94 2.06-2.06.94zm10 10l.94 2.06.94-2.06 2.06-.94-2.06-.94-.94-2.06-.94 2.06-2.06.94z\"/><path d=\"M17.41 7.96l-1.37-1.37c-.4-.4-.92-.59-1.43-.59-.52 0-1.04.2-1.43.59L10.3 9.45l-7.72 7.72c-.78.78-.78 2.05 0 2.83L4 21.41c.39.39.9.59 1.41.59.51 0 1.02-.2 1.41-.59l7.78-7.78 2.81-2.81c.8-.78.8-2.07 0-2.86zM5.41 20L4 18.59l7.72-7.72 1.47 1.35L5.41 20z\"/>\n",
              "  </svg>\n",
              "      </button>\n",
              "      \n",
              "  <style>\n",
              "    .colab-df-container {\n",
              "      display:flex;\n",
              "      flex-wrap:wrap;\n",
              "      gap: 12px;\n",
              "    }\n",
              "\n",
              "    .colab-df-convert {\n",
              "      background-color: #E8F0FE;\n",
              "      border: none;\n",
              "      border-radius: 50%;\n",
              "      cursor: pointer;\n",
              "      display: none;\n",
              "      fill: #1967D2;\n",
              "      height: 32px;\n",
              "      padding: 0 0 0 0;\n",
              "      width: 32px;\n",
              "    }\n",
              "\n",
              "    .colab-df-convert:hover {\n",
              "      background-color: #E2EBFA;\n",
              "      box-shadow: 0px 1px 2px rgba(60, 64, 67, 0.3), 0px 1px 3px 1px rgba(60, 64, 67, 0.15);\n",
              "      fill: #174EA6;\n",
              "    }\n",
              "\n",
              "    [theme=dark] .colab-df-convert {\n",
              "      background-color: #3B4455;\n",
              "      fill: #D2E3FC;\n",
              "    }\n",
              "\n",
              "    [theme=dark] .colab-df-convert:hover {\n",
              "      background-color: #434B5C;\n",
              "      box-shadow: 0px 1px 3px 1px rgba(0, 0, 0, 0.15);\n",
              "      filter: drop-shadow(0px 1px 2px rgba(0, 0, 0, 0.3));\n",
              "      fill: #FFFFFF;\n",
              "    }\n",
              "  </style>\n",
              "\n",
              "      <script>\n",
              "        const buttonEl =\n",
              "          document.querySelector('#df-992dfad6-5351-41b8-8317-a674fad9872c button.colab-df-convert');\n",
              "        buttonEl.style.display =\n",
              "          google.colab.kernel.accessAllowed ? 'block' : 'none';\n",
              "\n",
              "        async function convertToInteractive(key) {\n",
              "          const element = document.querySelector('#df-992dfad6-5351-41b8-8317-a674fad9872c');\n",
              "          const dataTable =\n",
              "            await google.colab.kernel.invokeFunction('convertToInteractive',\n",
              "                                                     [key], {});\n",
              "          if (!dataTable) return;\n",
              "\n",
              "          const docLinkHtml = 'Like what you see? Visit the ' +\n",
              "            '<a target=\"_blank\" href=https://colab.research.google.com/notebooks/data_table.ipynb>data table notebook</a>'\n",
              "            + ' to learn more about interactive tables.';\n",
              "          element.innerHTML = '';\n",
              "          dataTable['output_type'] = 'display_data';\n",
              "          await google.colab.output.renderOutput(dataTable, element);\n",
              "          const docLink = document.createElement('div');\n",
              "          docLink.innerHTML = docLinkHtml;\n",
              "          element.appendChild(docLink);\n",
              "        }\n",
              "      </script>\n",
              "    </div>\n",
              "  </div>\n",
              "  "
            ]
          },
          "metadata": {},
          "execution_count": 59
        }
      ]
    },
    {
      "cell_type": "code",
      "source": [
        "train_final.loc[train_final['PotentialFraud'] == 'Yes', 'PotentialFraud'] = 1\n",
        "train_final.loc[train_final['PotentialFraud'] == 'No', 'PotentialFraud'] = 0"
      ],
      "metadata": {
        "id": "znsIjeqiCEVK"
      },
      "execution_count": 60,
      "outputs": []
    },
    {
      "cell_type": "code",
      "source": [
        "train_final['PotentialFraud'].value_counts()"
      ],
      "metadata": {
        "colab": {
          "base_uri": "https://localhost:8080/"
        },
        "id": "nkLWERF9Cb0G",
        "outputId": "eeddc819-a732-44c3-9c5d-7c000aef6d69"
      },
      "execution_count": 61,
      "outputs": [
        {
          "output_type": "execute_result",
          "data": {
            "text/plain": [
              "0    345415\n",
              "1    212796\n",
              "Name: PotentialFraud, dtype: int64"
            ]
          },
          "metadata": {},
          "execution_count": 61
        }
      ]
    },
    {
      "cell_type": "code",
      "source": [
        "test_final = pd.get_dummies(test_final, columns=['Gender', 'Race'], drop_first=True)\n",
        "test_final.head()"
      ],
      "metadata": {
        "colab": {
          "base_uri": "https://localhost:8080/",
          "height": 266
        },
        "id": "nff9J5Y-CfCp",
        "outputId": "0a435a0c-ed8d-47ce-9044-0d654114caf8"
      },
      "execution_count": 62,
      "outputs": [
        {
          "output_type": "execute_result",
          "data": {
            "text/plain": [
              "   Provider  InscClaimAmtReimbursed  DeductibleAmtPaid  AdmittedDays  \\\n",
              "0  PRV57070                    9000             1068.0           8.0   \n",
              "1  PRV57070                    3000             1068.0           3.0   \n",
              "2  PRV57070                    7000             1068.0           7.0   \n",
              "3  PRV57070                    5000             1068.0           9.0   \n",
              "4  PRV57070                    9000             1068.0          11.0   \n",
              "\n",
              "  RenalDiseaseIndicator  NoOfMonths_PartACov  NoOfMonths_PartBCov  \\\n",
              "0                     Y                   12                   12   \n",
              "1                     0                   12                   12   \n",
              "2                     Y                   12                   12   \n",
              "3                     0                   12                   12   \n",
              "4                     Y                   12                   12   \n",
              "\n",
              "   ChronicCond_Alzheimer  ChronicCond_Heartfailure  ChronicCond_KidneyDisease  \\\n",
              "0                      0                         1                          1   \n",
              "1                      1                         1                          1   \n",
              "2                      0                         1                          1   \n",
              "3                      0                         0                          1   \n",
              "4                      1                         1                          1   \n",
              "\n",
              "   ChronicCond_Cancer  ChronicCond_ObstrPulmonary  ChronicCond_Depression  \\\n",
              "0                   0                           1                       1   \n",
              "1                   0                           1                       1   \n",
              "2                   0                           1                       0   \n",
              "3                   0                           1                       0   \n",
              "4                   1                           1                       0   \n",
              "\n",
              "   ChronicCond_Diabetes  ChronicCond_IschemicHeart  ChronicCond_Osteoporasis  \\\n",
              "0                     0                          1                         0   \n",
              "1                     1                          1                         0   \n",
              "2                     0                          1                         1   \n",
              "3                     0                          1                         1   \n",
              "4                     1                          1                         0   \n",
              "\n",
              "   ChronicCond_rheumatoidarthritis  ChronicCond_stroke  \\\n",
              "0                                0                   0   \n",
              "1                                1                   0   \n",
              "2                                0                   0   \n",
              "3                                0                   0   \n",
              "4                                1                   0   \n",
              "\n",
              "   IPAnnualReimbursementAmt  IPAnnualDeductibleAmt  OPAnnualReimbursementAmt  \\\n",
              "0                     21260                   2136                       120   \n",
              "1                      8000                   2136                      2540   \n",
              "2                     10200                   2136                        40   \n",
              "3                      5000                   1068                       600   \n",
              "4                      9000                   1068                        10   \n",
              "\n",
              "   OPAnnualDeductibleAmt   Age  DeadOrNot  Gender_2  Race_2  Race_3  Race_5  \n",
              "0                    100  82.0        0.0         1       0       0       0  \n",
              "1                   1880  83.0        0.0         1       0       0       0  \n",
              "2                    100  82.0        0.0         1       0       0       0  \n",
              "3                    180  95.0        0.0         1       0       0       0  \n",
              "4                     40  76.0        0.0         1       0       0       0  "
            ],
            "text/html": [
              "\n",
              "  <div id=\"df-b651b663-c21c-4ea5-85f6-704a2a5f15fe\">\n",
              "    <div class=\"colab-df-container\">\n",
              "      <div>\n",
              "<style scoped>\n",
              "    .dataframe tbody tr th:only-of-type {\n",
              "        vertical-align: middle;\n",
              "    }\n",
              "\n",
              "    .dataframe tbody tr th {\n",
              "        vertical-align: top;\n",
              "    }\n",
              "\n",
              "    .dataframe thead th {\n",
              "        text-align: right;\n",
              "    }\n",
              "</style>\n",
              "<table border=\"1\" class=\"dataframe\">\n",
              "  <thead>\n",
              "    <tr style=\"text-align: right;\">\n",
              "      <th></th>\n",
              "      <th>Provider</th>\n",
              "      <th>InscClaimAmtReimbursed</th>\n",
              "      <th>DeductibleAmtPaid</th>\n",
              "      <th>AdmittedDays</th>\n",
              "      <th>RenalDiseaseIndicator</th>\n",
              "      <th>NoOfMonths_PartACov</th>\n",
              "      <th>NoOfMonths_PartBCov</th>\n",
              "      <th>ChronicCond_Alzheimer</th>\n",
              "      <th>ChronicCond_Heartfailure</th>\n",
              "      <th>ChronicCond_KidneyDisease</th>\n",
              "      <th>ChronicCond_Cancer</th>\n",
              "      <th>ChronicCond_ObstrPulmonary</th>\n",
              "      <th>ChronicCond_Depression</th>\n",
              "      <th>ChronicCond_Diabetes</th>\n",
              "      <th>ChronicCond_IschemicHeart</th>\n",
              "      <th>ChronicCond_Osteoporasis</th>\n",
              "      <th>ChronicCond_rheumatoidarthritis</th>\n",
              "      <th>ChronicCond_stroke</th>\n",
              "      <th>IPAnnualReimbursementAmt</th>\n",
              "      <th>IPAnnualDeductibleAmt</th>\n",
              "      <th>OPAnnualReimbursementAmt</th>\n",
              "      <th>OPAnnualDeductibleAmt</th>\n",
              "      <th>Age</th>\n",
              "      <th>DeadOrNot</th>\n",
              "      <th>Gender_2</th>\n",
              "      <th>Race_2</th>\n",
              "      <th>Race_3</th>\n",
              "      <th>Race_5</th>\n",
              "    </tr>\n",
              "  </thead>\n",
              "  <tbody>\n",
              "    <tr>\n",
              "      <th>0</th>\n",
              "      <td>PRV57070</td>\n",
              "      <td>9000</td>\n",
              "      <td>1068.0</td>\n",
              "      <td>8.0</td>\n",
              "      <td>Y</td>\n",
              "      <td>12</td>\n",
              "      <td>12</td>\n",
              "      <td>0</td>\n",
              "      <td>1</td>\n",
              "      <td>1</td>\n",
              "      <td>0</td>\n",
              "      <td>1</td>\n",
              "      <td>1</td>\n",
              "      <td>0</td>\n",
              "      <td>1</td>\n",
              "      <td>0</td>\n",
              "      <td>0</td>\n",
              "      <td>0</td>\n",
              "      <td>21260</td>\n",
              "      <td>2136</td>\n",
              "      <td>120</td>\n",
              "      <td>100</td>\n",
              "      <td>82.0</td>\n",
              "      <td>0.0</td>\n",
              "      <td>1</td>\n",
              "      <td>0</td>\n",
              "      <td>0</td>\n",
              "      <td>0</td>\n",
              "    </tr>\n",
              "    <tr>\n",
              "      <th>1</th>\n",
              "      <td>PRV57070</td>\n",
              "      <td>3000</td>\n",
              "      <td>1068.0</td>\n",
              "      <td>3.0</td>\n",
              "      <td>0</td>\n",
              "      <td>12</td>\n",
              "      <td>12</td>\n",
              "      <td>1</td>\n",
              "      <td>1</td>\n",
              "      <td>1</td>\n",
              "      <td>0</td>\n",
              "      <td>1</td>\n",
              "      <td>1</td>\n",
              "      <td>1</td>\n",
              "      <td>1</td>\n",
              "      <td>0</td>\n",
              "      <td>1</td>\n",
              "      <td>0</td>\n",
              "      <td>8000</td>\n",
              "      <td>2136</td>\n",
              "      <td>2540</td>\n",
              "      <td>1880</td>\n",
              "      <td>83.0</td>\n",
              "      <td>0.0</td>\n",
              "      <td>1</td>\n",
              "      <td>0</td>\n",
              "      <td>0</td>\n",
              "      <td>0</td>\n",
              "    </tr>\n",
              "    <tr>\n",
              "      <th>2</th>\n",
              "      <td>PRV57070</td>\n",
              "      <td>7000</td>\n",
              "      <td>1068.0</td>\n",
              "      <td>7.0</td>\n",
              "      <td>Y</td>\n",
              "      <td>12</td>\n",
              "      <td>12</td>\n",
              "      <td>0</td>\n",
              "      <td>1</td>\n",
              "      <td>1</td>\n",
              "      <td>0</td>\n",
              "      <td>1</td>\n",
              "      <td>0</td>\n",
              "      <td>0</td>\n",
              "      <td>1</td>\n",
              "      <td>1</td>\n",
              "      <td>0</td>\n",
              "      <td>0</td>\n",
              "      <td>10200</td>\n",
              "      <td>2136</td>\n",
              "      <td>40</td>\n",
              "      <td>100</td>\n",
              "      <td>82.0</td>\n",
              "      <td>0.0</td>\n",
              "      <td>1</td>\n",
              "      <td>0</td>\n",
              "      <td>0</td>\n",
              "      <td>0</td>\n",
              "    </tr>\n",
              "    <tr>\n",
              "      <th>3</th>\n",
              "      <td>PRV57070</td>\n",
              "      <td>5000</td>\n",
              "      <td>1068.0</td>\n",
              "      <td>9.0</td>\n",
              "      <td>0</td>\n",
              "      <td>12</td>\n",
              "      <td>12</td>\n",
              "      <td>0</td>\n",
              "      <td>0</td>\n",
              "      <td>1</td>\n",
              "      <td>0</td>\n",
              "      <td>1</td>\n",
              "      <td>0</td>\n",
              "      <td>0</td>\n",
              "      <td>1</td>\n",
              "      <td>1</td>\n",
              "      <td>0</td>\n",
              "      <td>0</td>\n",
              "      <td>5000</td>\n",
              "      <td>1068</td>\n",
              "      <td>600</td>\n",
              "      <td>180</td>\n",
              "      <td>95.0</td>\n",
              "      <td>0.0</td>\n",
              "      <td>1</td>\n",
              "      <td>0</td>\n",
              "      <td>0</td>\n",
              "      <td>0</td>\n",
              "    </tr>\n",
              "    <tr>\n",
              "      <th>4</th>\n",
              "      <td>PRV57070</td>\n",
              "      <td>9000</td>\n",
              "      <td>1068.0</td>\n",
              "      <td>11.0</td>\n",
              "      <td>Y</td>\n",
              "      <td>12</td>\n",
              "      <td>12</td>\n",
              "      <td>1</td>\n",
              "      <td>1</td>\n",
              "      <td>1</td>\n",
              "      <td>1</td>\n",
              "      <td>1</td>\n",
              "      <td>0</td>\n",
              "      <td>1</td>\n",
              "      <td>1</td>\n",
              "      <td>0</td>\n",
              "      <td>1</td>\n",
              "      <td>0</td>\n",
              "      <td>9000</td>\n",
              "      <td>1068</td>\n",
              "      <td>10</td>\n",
              "      <td>40</td>\n",
              "      <td>76.0</td>\n",
              "      <td>0.0</td>\n",
              "      <td>1</td>\n",
              "      <td>0</td>\n",
              "      <td>0</td>\n",
              "      <td>0</td>\n",
              "    </tr>\n",
              "  </tbody>\n",
              "</table>\n",
              "</div>\n",
              "      <button class=\"colab-df-convert\" onclick=\"convertToInteractive('df-b651b663-c21c-4ea5-85f6-704a2a5f15fe')\"\n",
              "              title=\"Convert this dataframe to an interactive table.\"\n",
              "              style=\"display:none;\">\n",
              "        \n",
              "  <svg xmlns=\"http://www.w3.org/2000/svg\" height=\"24px\"viewBox=\"0 0 24 24\"\n",
              "       width=\"24px\">\n",
              "    <path d=\"M0 0h24v24H0V0z\" fill=\"none\"/>\n",
              "    <path d=\"M18.56 5.44l.94 2.06.94-2.06 2.06-.94-2.06-.94-.94-2.06-.94 2.06-2.06.94zm-11 1L8.5 8.5l.94-2.06 2.06-.94-2.06-.94L8.5 2.5l-.94 2.06-2.06.94zm10 10l.94 2.06.94-2.06 2.06-.94-2.06-.94-.94-2.06-.94 2.06-2.06.94z\"/><path d=\"M17.41 7.96l-1.37-1.37c-.4-.4-.92-.59-1.43-.59-.52 0-1.04.2-1.43.59L10.3 9.45l-7.72 7.72c-.78.78-.78 2.05 0 2.83L4 21.41c.39.39.9.59 1.41.59.51 0 1.02-.2 1.41-.59l7.78-7.78 2.81-2.81c.8-.78.8-2.07 0-2.86zM5.41 20L4 18.59l7.72-7.72 1.47 1.35L5.41 20z\"/>\n",
              "  </svg>\n",
              "      </button>\n",
              "      \n",
              "  <style>\n",
              "    .colab-df-container {\n",
              "      display:flex;\n",
              "      flex-wrap:wrap;\n",
              "      gap: 12px;\n",
              "    }\n",
              "\n",
              "    .colab-df-convert {\n",
              "      background-color: #E8F0FE;\n",
              "      border: none;\n",
              "      border-radius: 50%;\n",
              "      cursor: pointer;\n",
              "      display: none;\n",
              "      fill: #1967D2;\n",
              "      height: 32px;\n",
              "      padding: 0 0 0 0;\n",
              "      width: 32px;\n",
              "    }\n",
              "\n",
              "    .colab-df-convert:hover {\n",
              "      background-color: #E2EBFA;\n",
              "      box-shadow: 0px 1px 2px rgba(60, 64, 67, 0.3), 0px 1px 3px 1px rgba(60, 64, 67, 0.15);\n",
              "      fill: #174EA6;\n",
              "    }\n",
              "\n",
              "    [theme=dark] .colab-df-convert {\n",
              "      background-color: #3B4455;\n",
              "      fill: #D2E3FC;\n",
              "    }\n",
              "\n",
              "    [theme=dark] .colab-df-convert:hover {\n",
              "      background-color: #434B5C;\n",
              "      box-shadow: 0px 1px 3px 1px rgba(0, 0, 0, 0.15);\n",
              "      filter: drop-shadow(0px 1px 2px rgba(0, 0, 0, 0.3));\n",
              "      fill: #FFFFFF;\n",
              "    }\n",
              "  </style>\n",
              "\n",
              "      <script>\n",
              "        const buttonEl =\n",
              "          document.querySelector('#df-b651b663-c21c-4ea5-85f6-704a2a5f15fe button.colab-df-convert');\n",
              "        buttonEl.style.display =\n",
              "          google.colab.kernel.accessAllowed ? 'block' : 'none';\n",
              "\n",
              "        async function convertToInteractive(key) {\n",
              "          const element = document.querySelector('#df-b651b663-c21c-4ea5-85f6-704a2a5f15fe');\n",
              "          const dataTable =\n",
              "            await google.colab.kernel.invokeFunction('convertToInteractive',\n",
              "                                                     [key], {});\n",
              "          if (!dataTable) return;\n",
              "\n",
              "          const docLinkHtml = 'Like what you see? Visit the ' +\n",
              "            '<a target=\"_blank\" href=https://colab.research.google.com/notebooks/data_table.ipynb>data table notebook</a>'\n",
              "            + ' to learn more about interactive tables.';\n",
              "          element.innerHTML = '';\n",
              "          dataTable['output_type'] = 'display_data';\n",
              "          await google.colab.output.renderOutput(dataTable, element);\n",
              "          const docLink = document.createElement('div');\n",
              "          docLink.innerHTML = docLinkHtml;\n",
              "          element.appendChild(docLink);\n",
              "        }\n",
              "      </script>\n",
              "    </div>\n",
              "  </div>\n",
              "  "
            ]
          },
          "metadata": {},
          "execution_count": 62
        }
      ]
    },
    {
      "cell_type": "code",
      "source": [
        "train_final['RenalDiseaseIndicator'].value_counts()"
      ],
      "metadata": {
        "colab": {
          "base_uri": "https://localhost:8080/"
        },
        "id": "uDA2bnF8C2DW",
        "outputId": "2b253c2c-16f4-4123-a8b5-4483e03a16f6"
      },
      "execution_count": 63,
      "outputs": [
        {
          "output_type": "execute_result",
          "data": {
            "text/plain": [
              "0    448363\n",
              "Y    109848\n",
              "Name: RenalDiseaseIndicator, dtype: int64"
            ]
          },
          "metadata": {},
          "execution_count": 63
        }
      ]
    },
    {
      "cell_type": "code",
      "source": [
        "train_final.loc[train_final['RenalDiseaseIndicator'] == 'Y', 'RenalDiseaseIndicator'] = 1 "
      ],
      "metadata": {
        "id": "YFAK4M-KC9qx"
      },
      "execution_count": 64,
      "outputs": []
    },
    {
      "cell_type": "code",
      "source": [
        "train_final['RenalDiseaseIndicator'].value_counts()"
      ],
      "metadata": {
        "colab": {
          "base_uri": "https://localhost:8080/"
        },
        "id": "fq3H8xSMDL9m",
        "outputId": "3bb45c57-66d2-4ce3-b0b6-0b4982a7b061"
      },
      "execution_count": 65,
      "outputs": [
        {
          "output_type": "execute_result",
          "data": {
            "text/plain": [
              "0    448363\n",
              "1    109848\n",
              "Name: RenalDiseaseIndicator, dtype: int64"
            ]
          },
          "metadata": {},
          "execution_count": 65
        }
      ]
    },
    {
      "cell_type": "code",
      "source": [
        "test_final.loc[test_final['RenalDiseaseIndicator'] == 'Y', 'RenalDiseaseIndicator'] = 1 "
      ],
      "metadata": {
        "id": "I6we2RYBDNZh"
      },
      "execution_count": 66,
      "outputs": []
    },
    {
      "cell_type": "code",
      "source": [
        "test_final['RenalDiseaseIndicator'].value_counts()"
      ],
      "metadata": {
        "colab": {
          "base_uri": "https://localhost:8080/"
        },
        "id": "vl5WhXGiDRzC",
        "outputId": "0b7330c0-2b72-4854-e756-61d80790697e"
      },
      "execution_count": 67,
      "outputs": [
        {
          "output_type": "execute_result",
          "data": {
            "text/plain": [
              "0    109143\n",
              "1     26249\n",
              "Name: RenalDiseaseIndicator, dtype: int64"
            ]
          },
          "metadata": {},
          "execution_count": 67
        }
      ]
    },
    {
      "cell_type": "code",
      "source": [
        "train_final['DeductibleAmtPaid'].fillna(0, inplace=True)\n",
        "train_final['AdmittedDays'].fillna(0, inplace=True)"
      ],
      "metadata": {
        "id": "P1ZXUmKcDTz4"
      },
      "execution_count": 68,
      "outputs": []
    },
    {
      "cell_type": "code",
      "source": [
        "train_final.isna().sum()"
      ],
      "metadata": {
        "colab": {
          "base_uri": "https://localhost:8080/"
        },
        "id": "7qbainfJDYWT",
        "outputId": "de76cf72-0937-4161-8573-f7de93ae0015"
      },
      "execution_count": 69,
      "outputs": [
        {
          "output_type": "execute_result",
          "data": {
            "text/plain": [
              "Provider                           0\n",
              "InscClaimAmtReimbursed             0\n",
              "DeductibleAmtPaid                  0\n",
              "AdmittedDays                       0\n",
              "RenalDiseaseIndicator              0\n",
              "NoOfMonths_PartACov                0\n",
              "NoOfMonths_PartBCov                0\n",
              "ChronicCond_Alzheimer              0\n",
              "ChronicCond_Heartfailure           0\n",
              "ChronicCond_KidneyDisease          0\n",
              "ChronicCond_Cancer                 0\n",
              "ChronicCond_ObstrPulmonary         0\n",
              "ChronicCond_Depression             0\n",
              "ChronicCond_Diabetes               0\n",
              "ChronicCond_IschemicHeart          0\n",
              "ChronicCond_Osteoporasis           0\n",
              "ChronicCond_rheumatoidarthritis    0\n",
              "ChronicCond_stroke                 0\n",
              "IPAnnualReimbursementAmt           0\n",
              "IPAnnualDeductibleAmt              0\n",
              "OPAnnualReimbursementAmt           0\n",
              "OPAnnualDeductibleAmt              0\n",
              "Age                                0\n",
              "DeadOrNot                          0\n",
              "PotentialFraud                     0\n",
              "Gender_2                           0\n",
              "Race_2                             0\n",
              "Race_3                             0\n",
              "Race_5                             0\n",
              "dtype: int64"
            ]
          },
          "metadata": {},
          "execution_count": 69
        }
      ]
    },
    {
      "cell_type": "code",
      "source": [
        "test_final['DeductibleAmtPaid'].fillna(0, inplace=True)\n",
        "test_final['AdmittedDays'].fillna(0, inplace=True)"
      ],
      "metadata": {
        "id": "nx338Jn_Da82"
      },
      "execution_count": 70,
      "outputs": []
    },
    {
      "cell_type": "code",
      "source": [
        "test_final.isna().sum()"
      ],
      "metadata": {
        "colab": {
          "base_uri": "https://localhost:8080/"
        },
        "id": "Ah7zGnPsDe9a",
        "outputId": "5517e5ed-2948-4243-e1e1-7d0021dea0db"
      },
      "execution_count": 71,
      "outputs": [
        {
          "output_type": "execute_result",
          "data": {
            "text/plain": [
              "Provider                           0\n",
              "InscClaimAmtReimbursed             0\n",
              "DeductibleAmtPaid                  0\n",
              "AdmittedDays                       0\n",
              "RenalDiseaseIndicator              0\n",
              "NoOfMonths_PartACov                0\n",
              "NoOfMonths_PartBCov                0\n",
              "ChronicCond_Alzheimer              0\n",
              "ChronicCond_Heartfailure           0\n",
              "ChronicCond_KidneyDisease          0\n",
              "ChronicCond_Cancer                 0\n",
              "ChronicCond_ObstrPulmonary         0\n",
              "ChronicCond_Depression             0\n",
              "ChronicCond_Diabetes               0\n",
              "ChronicCond_IschemicHeart          0\n",
              "ChronicCond_Osteoporasis           0\n",
              "ChronicCond_rheumatoidarthritis    0\n",
              "ChronicCond_stroke                 0\n",
              "IPAnnualReimbursementAmt           0\n",
              "IPAnnualDeductibleAmt              0\n",
              "OPAnnualReimbursementAmt           0\n",
              "OPAnnualDeductibleAmt              0\n",
              "Age                                0\n",
              "DeadOrNot                          0\n",
              "Gender_2                           0\n",
              "Race_2                             0\n",
              "Race_3                             0\n",
              "Race_5                             0\n",
              "dtype: int64"
            ]
          },
          "metadata": {},
          "execution_count": 71
        }
      ]
    },
    {
      "cell_type": "code",
      "source": [
        "train_final['PotentialFraud'].value_counts()"
      ],
      "metadata": {
        "colab": {
          "base_uri": "https://localhost:8080/"
        },
        "id": "rOexHaEEDhC3",
        "outputId": "46c34028-dc75-40e9-983f-952534f30fe6"
      },
      "execution_count": 72,
      "outputs": [
        {
          "output_type": "execute_result",
          "data": {
            "text/plain": [
              "0    345415\n",
              "1    212796\n",
              "Name: PotentialFraud, dtype: int64"
            ]
          },
          "metadata": {},
          "execution_count": 72
        }
      ]
    },
    {
      "cell_type": "markdown",
      "source": [
        "## Check for correlated columns"
      ],
      "metadata": {
        "id": "Gs9XKBN3Iu9p"
      }
    },
    {
      "cell_type": "code",
      "source": [
        "train_final.shape"
      ],
      "metadata": {
        "colab": {
          "base_uri": "https://localhost:8080/"
        },
        "id": "ugbHyHrDJuJs",
        "outputId": "b94659ec-227c-4a27-bbc8-f55025bfe5fe"
      },
      "execution_count": 73,
      "outputs": [
        {
          "output_type": "execute_result",
          "data": {
            "text/plain": [
              "(558211, 29)"
            ]
          },
          "metadata": {},
          "execution_count": 73
        }
      ]
    },
    {
      "cell_type": "code",
      "source": [
        "cor = train_final.corr() \n",
        "\n",
        "keep_columns = np.full(cor.shape[0], True) \n",
        "\n",
        "for i in range(cor.shape[0]-1):\n",
        "  for j in range(i+1, cor.shape[0]-1):\n",
        "    if (np.abs(cor.iloc[i,j]) >= 0.8):\n",
        "      keep_columns[i] = False \n",
        "\n",
        "#selected_columns = train_final.columns[keep_columns]\n",
        "\n",
        "keep_columns"
      ],
      "metadata": {
        "colab": {
          "base_uri": "https://localhost:8080/"
        },
        "id": "0lF2nktQD9x8",
        "outputId": "8e6c83b1-9d4b-4755-90ef-79ba087a47a4"
      },
      "execution_count": 74,
      "outputs": [
        {
          "output_type": "execute_result",
          "data": {
            "text/plain": [
              "array([ True,  True,  True,  True,  True,  True,  True,  True,  True,\n",
              "        True,  True,  True,  True,  True,  True,  True,  True,  True,\n",
              "       False,  True,  True,  True,  True,  True,  True,  True])"
            ]
          },
          "metadata": {},
          "execution_count": 74
        }
      ]
    },
    {
      "cell_type": "code",
      "source": [
        "test_final.columns"
      ],
      "metadata": {
        "colab": {
          "base_uri": "https://localhost:8080/"
        },
        "id": "WfhjvGKkI5H2",
        "outputId": "1c44479b-7c41-4116-a495-65388b7ae5d2"
      },
      "execution_count": 75,
      "outputs": [
        {
          "output_type": "execute_result",
          "data": {
            "text/plain": [
              "Index(['Provider', 'InscClaimAmtReimbursed', 'DeductibleAmtPaid',\n",
              "       'AdmittedDays', 'RenalDiseaseIndicator', 'NoOfMonths_PartACov',\n",
              "       'NoOfMonths_PartBCov', 'ChronicCond_Alzheimer',\n",
              "       'ChronicCond_Heartfailure', 'ChronicCond_KidneyDisease',\n",
              "       'ChronicCond_Cancer', 'ChronicCond_ObstrPulmonary',\n",
              "       'ChronicCond_Depression', 'ChronicCond_Diabetes',\n",
              "       'ChronicCond_IschemicHeart', 'ChronicCond_Osteoporasis',\n",
              "       'ChronicCond_rheumatoidarthritis', 'ChronicCond_stroke',\n",
              "       'IPAnnualReimbursementAmt', 'IPAnnualDeductibleAmt',\n",
              "       'OPAnnualReimbursementAmt', 'OPAnnualDeductibleAmt', 'Age', 'DeadOrNot',\n",
              "       'Gender_2', 'Race_2', 'Race_3', 'Race_5'],\n",
              "      dtype='object')"
            ]
          },
          "metadata": {},
          "execution_count": 75
        }
      ]
    },
    {
      "cell_type": "code",
      "source": [
        "train_final.columns"
      ],
      "metadata": {
        "colab": {
          "base_uri": "https://localhost:8080/"
        },
        "id": "zSvQNDhr3sfY",
        "outputId": "dda350ad-54f6-49f6-cb46-c7378fd41324"
      },
      "execution_count": 76,
      "outputs": [
        {
          "output_type": "execute_result",
          "data": {
            "text/plain": [
              "Index(['Provider', 'InscClaimAmtReimbursed', 'DeductibleAmtPaid',\n",
              "       'AdmittedDays', 'RenalDiseaseIndicator', 'NoOfMonths_PartACov',\n",
              "       'NoOfMonths_PartBCov', 'ChronicCond_Alzheimer',\n",
              "       'ChronicCond_Heartfailure', 'ChronicCond_KidneyDisease',\n",
              "       'ChronicCond_Cancer', 'ChronicCond_ObstrPulmonary',\n",
              "       'ChronicCond_Depression', 'ChronicCond_Diabetes',\n",
              "       'ChronicCond_IschemicHeart', 'ChronicCond_Osteoporasis',\n",
              "       'ChronicCond_rheumatoidarthritis', 'ChronicCond_stroke',\n",
              "       'IPAnnualReimbursementAmt', 'IPAnnualDeductibleAmt',\n",
              "       'OPAnnualReimbursementAmt', 'OPAnnualDeductibleAmt', 'Age', 'DeadOrNot',\n",
              "       'PotentialFraud', 'Gender_2', 'Race_2', 'Race_3', 'Race_5'],\n",
              "      dtype='object')"
            ]
          },
          "metadata": {},
          "execution_count": 76
        }
      ]
    },
    {
      "cell_type": "code",
      "source": [
        "y = train_final.pop('PotentialFraud')\n",
        "X = train_final.drop(columns = ['Provider'], axis=1)"
      ],
      "metadata": {
        "id": "oxps92Qd3sO-"
      },
      "execution_count": 77,
      "outputs": []
    },
    {
      "cell_type": "code",
      "source": [
        "X.shape, y.shape"
      ],
      "metadata": {
        "colab": {
          "base_uri": "https://localhost:8080/"
        },
        "id": "esAyufNG4iCt",
        "outputId": "72bff090-fb8a-4182-fa97-312718c4f7ed"
      },
      "execution_count": 78,
      "outputs": [
        {
          "output_type": "execute_result",
          "data": {
            "text/plain": [
              "((558211, 27), (558211,))"
            ]
          },
          "metadata": {},
          "execution_count": 78
        }
      ]
    },
    {
      "cell_type": "code",
      "source": [
        "from sklearn.decomposition import PCA \n",
        "from sklearn.preprocessing import StandardScaler\n",
        "import matplotlib.pyplot as plt"
      ],
      "metadata": {
        "id": "yjIO0NAS4phO"
      },
      "execution_count": 79,
      "outputs": []
    },
    {
      "cell_type": "code",
      "source": [
        "scaler = StandardScaler()\n",
        "X_scaled = scaler.fit_transform(X) \n",
        "pca = PCA(n_components=27, whiten=True).fit(X_scaled)\n",
        "X_reduced = pca.transform(X_scaled)"
      ],
      "metadata": {
        "id": "cXv15EYh42nw"
      },
      "execution_count": 80,
      "outputs": []
    },
    {
      "cell_type": "code",
      "source": [
        "print(f'PCA explained variance: {np.round(pca.explained_variance_ratio_, 3)}')"
      ],
      "metadata": {
        "colab": {
          "base_uri": "https://localhost:8080/"
        },
        "id": "9WwbwtAESBWB",
        "outputId": "8509d5c4-c860-4521-8fca-ba7e5b810dbd"
      },
      "execution_count": 81,
      "outputs": [
        {
          "output_type": "stream",
          "name": "stdout",
          "text": [
            "PCA explained variance: [0.138 0.088 0.06  0.045 0.043 0.04  0.039 0.038 0.037 0.037 0.037 0.035\n",
            " 0.034 0.033 0.032 0.032 0.03  0.029 0.029 0.029 0.026 0.026 0.019 0.017\n",
            " 0.011 0.009 0.006]\n"
          ]
        }
      ]
    },
    {
      "cell_type": "markdown",
      "source": [
        "# K-means clustering"
      ],
      "metadata": {
        "id": "0j9n5zNp65X3"
      }
    },
    {
      "cell_type": "code",
      "source": [
        "from sklearn.cluster import KMeans"
      ],
      "metadata": {
        "id": "29KONpyi68WJ"
      },
      "execution_count": 82,
      "outputs": []
    },
    {
      "cell_type": "code",
      "source": [
        "def visualize_elbow(X, ks):\n",
        "    fig, ax = plt.subplots()\n",
        "    inertias = []\n",
        "    for k in ks:\n",
        "        kmeanModel = KMeans(n_clusters=k, random_state=0).fit(X)\n",
        "        kmeanModel.fit(X)\n",
        "        inertias.append(kmeanModel.inertia_)\n",
        "    plt.plot(ks, inertias)\n",
        "    plt.xticks(ks)\n",
        "    plt.xlabel('Number of clusters')\n",
        "    plt.ylabel('Inertia')\n",
        "    plt.title('Elbow plot')"
      ],
      "metadata": {
        "id": "6tdnulzm7AiQ"
      },
      "execution_count": 83,
      "outputs": []
    },
    {
      "cell_type": "code",
      "source": [
        "K = range(1, 10)\n",
        "visualize_elbow(X, K)"
      ],
      "metadata": {
        "colab": {
          "base_uri": "https://localhost:8080/",
          "height": 316
        },
        "id": "eDL29y1M7REW",
        "outputId": "9b954efb-5195-40b0-fdc8-a015f0f22504"
      },
      "execution_count": 84,
      "outputs": [
        {
          "output_type": "display_data",
          "data": {
            "text/plain": [
              "<Figure size 432x288 with 1 Axes>"
            ],
            "image/png": "[encoded data removed]"
          },
          "metadata": {
            "needs_background": "light"
          }
        }
      ]
    },
    {
      "cell_type": "code",
      "source": [
        "X_reduced = X[['InscClaimAmtReimbursed', 'DeductibleAmtPaid',\n",
        "       'AdmittedDays', 'RenalDiseaseIndicator', 'NoOfMonths_PartACov',\n",
        "       'NoOfMonths_PartBCov', 'ChronicCond_Alzheimer',\n",
        "       'ChronicCond_Heartfailure', 'ChronicCond_KidneyDisease',\n",
        "       'ChronicCond_Cancer', 'ChronicCond_ObstrPulmonary',\n",
        "       'ChronicCond_Depression', 'ChronicCond_Diabetes',\n",
        "       'ChronicCond_IschemicHeart', 'ChronicCond_Osteoporasis',\n",
        "       'ChronicCond_rheumatoidarthritis', 'ChronicCond_stroke',\n",
        "       'IPAnnualReimbursementAmt', 'IPAnnualDeductibleAmt',\n",
        "       'OPAnnualReimbursementAmt', 'OPAnnualDeductibleAmt', 'Age']]"
      ],
      "metadata": {
        "id": "hqTz57rb7UGm"
      },
      "execution_count": 85,
      "outputs": []
    },
    {
      "cell_type": "code",
      "source": [
        "from sklearn.metrics import silhouette_samples, silhouette_score"
      ],
      "metadata": {
        "id": "_O_qovrA9mJp"
      },
      "execution_count": 249,
      "outputs": []
    },
    {
      "cell_type": "code",
      "source": [
        "range_n_clusters = [2,3,4,5,6,7,8]\n",
        "for num_clusters in range_n_clusters:\n",
        "  kmeans = KMeans(n_clusters=num_clusters, max_iter=50, random_state=2022)\n",
        "  kmeans.fit(X_reduced)\n",
        "\n",
        "  cluster_labels = kmeans.labels_\n",
        "  silhouette_avg = silhouette_score(X_reduced, cluster_labels)\n",
        "  print(\"For n_clusters={0}, the silhouette score is {1}\".format(num_clusters, silhouette_avg))"
      ],
      "metadata": {
        "id": "m20m_9_19pSQ"
      },
      "execution_count": null,
      "outputs": []
    },
    {
      "cell_type": "code",
      "source": [
        "km = KMeans(n_clusters=3, max_iter=50, random_state=2022)\n",
        "km.fit(X_reduced)"
      ],
      "metadata": {
        "colab": {
          "base_uri": "https://localhost:8080/"
        },
        "id": "EAtx5JaQ9xSG",
        "outputId": "d31cf869-f982-411f-ccea-25cb320d7442"
      },
      "execution_count": 86,
      "outputs": [
        {
          "output_type": "execute_result",
          "data": {
            "text/plain": [
              "KMeans(max_iter=50, n_clusters=3, random_state=2022)"
            ]
          },
          "metadata": {},
          "execution_count": 86
        }
      ]
    },
    {
      "cell_type": "code",
      "source": [
        "# Size of each cluster\n",
        "for i in range(len(km.cluster_centers_)):\n",
        "  print(\"Cluster\", i)\n",
        "  print(\"Center:\", km.cluster_centers_[i])\n",
        "  print(\"Size:\", sum(km.labels_ == i))"
      ],
      "metadata": {
        "colab": {
          "base_uri": "https://localhost:8080/"
        },
        "id": "un1F9f-0I3EA",
        "outputId": "614de0cb-377f-49c7-854d-d3d5e4e8c8aa"
      },
      "execution_count": 87,
      "outputs": [
        {
          "output_type": "stream",
          "name": "stdout",
          "text": [
            "Cluster 0\n",
            "Center: [4.03208053e+02 3.73392488e+01 1.70635968e-01 1.62165193e-01\n",
            " 1.19335005e+01 1.19394841e+01 3.70880063e-01 5.46208823e-01\n",
            " 3.46074680e-01 1.36372433e-01 2.64091569e-01 4.10069490e-01\n",
            " 6.69930070e-01 7.27085807e-01 3.04134231e-01 2.90255970e-01\n",
            " 8.25988477e-02 9.74471390e+02 2.27826763e+02 1.97325538e+03\n",
            " 5.72284954e+02 8.35938932e+01]\n",
            "Size: 454736\n",
            "Cluster 1\n",
            "Center: [2.84039157e+03 2.50792320e+02 1.65731576e+00 3.27010082e-01\n",
            " 1.19234205e+01 1.19312289e+01 5.29706267e-01 7.72006982e-01\n",
            " 6.79581104e-01 2.12123648e-01 5.08531796e-01 5.37388329e-01\n",
            " 8.53443722e-01 8.92324828e-01 3.74675608e-01 4.05174196e-01\n",
            " 1.74115242e-01 1.78465376e+04 1.87349395e+03 3.38078819e+03\n",
            " 9.33770319e+02 8.41066073e+01]\n",
            "Size: 87088\n",
            "Cluster 2\n",
            "Center: [7.67958316e+03 2.98130119e+02 2.91986573e+00 4.65486726e-01\n",
            " 1.19179738e+01 1.19590479e+01 5.82422948e-01 8.52548062e-01\n",
            " 8.19530058e-01 2.45224291e-01 6.28745804e-01 5.76136710e-01\n",
            " 9.02776930e-01 9.45132743e-01 3.89563625e-01 3.92004883e-01\n",
            " 2.47604516e-01 5.62097339e+04 3.09607995e+03 4.88208605e+03\n",
            " 1.28836155e+03 8.43394568e+01]\n",
            "Size: 16387\n"
          ]
        }
      ]
    },
    {
      "cell_type": "code",
      "source": [
        "train_final['cluster_pca'] = km.labels_"
      ],
      "metadata": {
        "id": "nShcyUZwI-db"
      },
      "execution_count": 88,
      "outputs": []
    },
    {
      "cell_type": "code",
      "source": [
        "train_final.head()"
      ],
      "metadata": {
        "colab": {
          "base_uri": "https://localhost:8080/",
          "height": 266
        },
        "id": "UObEFlRnJyzF",
        "outputId": "5fc37e94-8bd0-479d-a2b8-c29e34b40f12"
      },
      "execution_count": 89,
      "outputs": [
        {
          "output_type": "execute_result",
          "data": {
            "text/plain": [
              "   Provider  InscClaimAmtReimbursed  DeductibleAmtPaid  AdmittedDays  \\\n",
              "0  PRV55912                   26000             1068.0           7.0   \n",
              "1  PRV55912                      50                0.0           0.0   \n",
              "2  PRV55912                   19000             1068.0          13.0   \n",
              "3  PRV55912                   17000             1068.0          19.0   \n",
              "4  PRV55912                   13000             1068.0           5.0   \n",
              "\n",
              "  RenalDiseaseIndicator  NoOfMonths_PartACov  NoOfMonths_PartBCov  \\\n",
              "0                     0                   12                   12   \n",
              "1                     0                   12                   12   \n",
              "2                     0                   12                   12   \n",
              "3                     0                   12                   12   \n",
              "4                     0                   12                   12   \n",
              "\n",
              "   ChronicCond_Alzheimer  ChronicCond_Heartfailure  ChronicCond_KidneyDisease  \\\n",
              "0                      1                         0                          1   \n",
              "1                      1                         1                          1   \n",
              "2                      1                         1                          1   \n",
              "3                      0                         0                          0   \n",
              "4                      0                         1                          0   \n",
              "\n",
              "   ChronicCond_Cancer  ChronicCond_ObstrPulmonary  ChronicCond_Depression  \\\n",
              "0                   0                           0                       1   \n",
              "1                   0                           0                       0   \n",
              "2                   0                           1                       0   \n",
              "3                   0                           0                       0   \n",
              "4                   0                           1                       0   \n",
              "\n",
              "   ChronicCond_Diabetes  ChronicCond_IschemicHeart  ChronicCond_Osteoporasis  \\\n",
              "0                     1                          1                         0   \n",
              "1                     0                          1                         0   \n",
              "2                     0                          1                         0   \n",
              "3                     0                          1                         1   \n",
              "4                     1                          1                         1   \n",
              "\n",
              "   ChronicCond_rheumatoidarthritis  ChronicCond_stroke  \\\n",
              "0                                1                   1   \n",
              "1                                0                   0   \n",
              "2                                0                   0   \n",
              "3                                0                   0   \n",
              "4                                1                   0   \n",
              "\n",
              "   IPAnnualReimbursementAmt  IPAnnualDeductibleAmt  OPAnnualReimbursementAmt  \\\n",
              "0                     36000                   3204                        60   \n",
              "1                     24000                   2136                       450   \n",
              "2                     19000                   1068                       100   \n",
              "3                     17000                   1068                      1050   \n",
              "4                     27000                   2136                       450   \n",
              "\n",
              "   OPAnnualDeductibleAmt    Age  DeadOrNot  Gender_2  Race_2  Race_3  Race_5  \\\n",
              "0                     70   77.0        0.0         0       0       0       0   \n",
              "1                    200   88.0        0.0         0       0       0       0   \n",
              "2                     20  106.0        0.0         1       0       0       0   \n",
              "3                    540   97.0        0.0         0       0       0       0   \n",
              "4                    160   89.0        0.0         1       0       0       0   \n",
              "\n",
              "   cluster_pca  \n",
              "0            2  \n",
              "1            1  \n",
              "2            1  \n",
              "3            1  \n",
              "4            1  "
            ],
            "text/html": [
              "\n",
              "  <div id=\"df-7436097d-09f2-4936-8689-90605622ec2a\">\n",
              "    <div class=\"colab-df-container\">\n",
              "      <div>\n",
              "<style scoped>\n",
              "    .dataframe tbody tr th:only-of-type {\n",
              "        vertical-align: middle;\n",
              "    }\n",
              "\n",
              "    .dataframe tbody tr th {\n",
              "        vertical-align: top;\n",
              "    }\n",
              "\n",
              "    .dataframe thead th {\n",
              "        text-align: right;\n",
              "    }\n",
              "</style>\n",
              "<table border=\"1\" class=\"dataframe\">\n",
              "  <thead>\n",
              "    <tr style=\"text-align: right;\">\n",
              "      <th></th>\n",
              "      <th>Provider</th>\n",
              "      <th>InscClaimAmtReimbursed</th>\n",
              "      <th>DeductibleAmtPaid</th>\n",
              "      <th>AdmittedDays</th>\n",
              "      <th>RenalDiseaseIndicator</th>\n",
              "      <th>NoOfMonths_PartACov</th>\n",
              "      <th>NoOfMonths_PartBCov</th>\n",
              "      <th>ChronicCond_Alzheimer</th>\n",
              "      <th>ChronicCond_Heartfailure</th>\n",
              "      <th>ChronicCond_KidneyDisease</th>\n",
              "      <th>ChronicCond_Cancer</th>\n",
              "      <th>ChronicCond_ObstrPulmonary</th>\n",
              "      <th>ChronicCond_Depression</th>\n",
              "      <th>ChronicCond_Diabetes</th>\n",
              "      <th>ChronicCond_IschemicHeart</th>\n",
              "      <th>ChronicCond_Osteoporasis</th>\n",
              "      <th>ChronicCond_rheumatoidarthritis</th>\n",
              "      <th>ChronicCond_stroke</th>\n",
              "      <th>IPAnnualReimbursementAmt</th>\n",
              "      <th>IPAnnualDeductibleAmt</th>\n",
              "      <th>OPAnnualReimbursementAmt</th>\n",
              "      <th>OPAnnualDeductibleAmt</th>\n",
              "      <th>Age</th>\n",
              "      <th>DeadOrNot</th>\n",
              "      <th>Gender_2</th>\n",
              "      <th>Race_2</th>\n",
              "      <th>Race_3</th>\n",
              "      <th>Race_5</th>\n",
              "      <th>cluster_pca</th>\n",
              "    </tr>\n",
              "  </thead>\n",
              "  <tbody>\n",
              "    <tr>\n",
              "      <th>0</th>\n",
              "      <td>PRV55912</td>\n",
              "      <td>26000</td>\n",
              "      <td>1068.0</td>\n",
              "      <td>7.0</td>\n",
              "      <td>0</td>\n",
              "      <td>12</td>\n",
              "      <td>12</td>\n",
              "      <td>1</td>\n",
              "      <td>0</td>\n",
              "      <td>1</td>\n",
              "      <td>0</td>\n",
              "      <td>0</td>\n",
              "      <td>1</td>\n",
              "      <td>1</td>\n",
              "      <td>1</td>\n",
              "      <td>0</td>\n",
              "      <td>1</td>\n",
              "      <td>1</td>\n",
              "      <td>36000</td>\n",
              "      <td>3204</td>\n",
              "      <td>60</td>\n",
              "      <td>70</td>\n",
              "      <td>77.0</td>\n",
              "      <td>0.0</td>\n",
              "      <td>0</td>\n",
              "      <td>0</td>\n",
              "      <td>0</td>\n",
              "      <td>0</td>\n",
              "      <td>2</td>\n",
              "    </tr>\n",
              "    <tr>\n",
              "      <th>1</th>\n",
              "      <td>PRV55912</td>\n",
              "      <td>50</td>\n",
              "      <td>0.0</td>\n",
              "      <td>0.0</td>\n",
              "      <td>0</td>\n",
              "      <td>12</td>\n",
              "      <td>12</td>\n",
              "      <td>1</td>\n",
              "      <td>1</td>\n",
              "      <td>1</td>\n",
              "      <td>0</td>\n",
              "      <td>0</td>\n",
              "      <td>0</td>\n",
              "      <td>0</td>\n",
              "      <td>1</td>\n",
              "      <td>0</td>\n",
              "      <td>0</td>\n",
              "      <td>0</td>\n",
              "      <td>24000</td>\n",
              "      <td>2136</td>\n",
              "      <td>450</td>\n",
              "      <td>200</td>\n",
              "      <td>88.0</td>\n",
              "      <td>0.0</td>\n",
              "      <td>0</td>\n",
              "      <td>0</td>\n",
              "      <td>0</td>\n",
              "      <td>0</td>\n",
              "      <td>1</td>\n",
              "    </tr>\n",
              "    <tr>\n",
              "      <th>2</th>\n",
              "      <td>PRV55912</td>\n",
              "      <td>19000</td>\n",
              "      <td>1068.0</td>\n",
              "      <td>13.0</td>\n",
              "      <td>0</td>\n",
              "      <td>12</td>\n",
              "      <td>12</td>\n",
              "      <td>1</td>\n",
              "      <td>1</td>\n",
              "      <td>1</td>\n",
              "      <td>0</td>\n",
              "      <td>1</td>\n",
              "      <td>0</td>\n",
              "      <td>0</td>\n",
              "      <td>1</td>\n",
              "      <td>0</td>\n",
              "      <td>0</td>\n",
              "      <td>0</td>\n",
              "      <td>19000</td>\n",
              "      <td>1068</td>\n",
              "      <td>100</td>\n",
              "      <td>20</td>\n",
              "      <td>106.0</td>\n",
              "      <td>0.0</td>\n",
              "      <td>1</td>\n",
              "      <td>0</td>\n",
              "      <td>0</td>\n",
              "      <td>0</td>\n",
              "      <td>1</td>\n",
              "    </tr>\n",
              "    <tr>\n",
              "      <th>3</th>\n",
              "      <td>PRV55912</td>\n",
              "      <td>17000</td>\n",
              "      <td>1068.0</td>\n",
              "      <td>19.0</td>\n",
              "      <td>0</td>\n",
              "      <td>12</td>\n",
              "      <td>12</td>\n",
              "      <td>0</td>\n",
              "      <td>0</td>\n",
              "      <td>0</td>\n",
              "      <td>0</td>\n",
              "      <td>0</td>\n",
              "      <td>0</td>\n",
              "      <td>0</td>\n",
              "      <td>1</td>\n",
              "      <td>1</td>\n",
              "      <td>0</td>\n",
              "      <td>0</td>\n",
              "      <td>17000</td>\n",
              "      <td>1068</td>\n",
              "      <td>1050</td>\n",
              "      <td>540</td>\n",
              "      <td>97.0</td>\n",
              "      <td>0.0</td>\n",
              "      <td>0</td>\n",
              "      <td>0</td>\n",
              "      <td>0</td>\n",
              "      <td>0</td>\n",
              "      <td>1</td>\n",
              "    </tr>\n",
              "    <tr>\n",
              "      <th>4</th>\n",
              "      <td>PRV55912</td>\n",
              "      <td>13000</td>\n",
              "      <td>1068.0</td>\n",
              "      <td>5.0</td>\n",
              "      <td>0</td>\n",
              "      <td>12</td>\n",
              "      <td>12</td>\n",
              "      <td>0</td>\n",
              "      <td>1</td>\n",
              "      <td>0</td>\n",
              "      <td>0</td>\n",
              "      <td>1</td>\n",
              "      <td>0</td>\n",
              "      <td>1</td>\n",
              "      <td>1</td>\n",
              "      <td>1</td>\n",
              "      <td>1</td>\n",
              "      <td>0</td>\n",
              "      <td>27000</td>\n",
              "      <td>2136</td>\n",
              "      <td>450</td>\n",
              "      <td>160</td>\n",
              "      <td>89.0</td>\n",
              "      <td>0.0</td>\n",
              "      <td>1</td>\n",
              "      <td>0</td>\n",
              "      <td>0</td>\n",
              "      <td>0</td>\n",
              "      <td>1</td>\n",
              "    </tr>\n",
              "  </tbody>\n",
              "</table>\n",
              "</div>\n",
              "      <button class=\"colab-df-convert\" onclick=\"convertToInteractive('df-7436097d-09f2-4936-8689-90605622ec2a')\"\n",
              "              title=\"Convert this dataframe to an interactive table.\"\n",
              "              style=\"display:none;\">\n",
              "        \n",
              "  <svg xmlns=\"http://www.w3.org/2000/svg\" height=\"24px\"viewBox=\"0 0 24 24\"\n",
              "       width=\"24px\">\n",
              "    <path d=\"M0 0h24v24H0V0z\" fill=\"none\"/>\n",
              "    <path d=\"M18.56 5.44l.94 2.06.94-2.06 2.06-.94-2.06-.94-.94-2.06-.94 2.06-2.06.94zm-11 1L8.5 8.5l.94-2.06 2.06-.94-2.06-.94L8.5 2.5l-.94 2.06-2.06.94zm10 10l.94 2.06.94-2.06 2.06-.94-2.06-.94-.94-2.06-.94 2.06-2.06.94z\"/><path d=\"M17.41 7.96l-1.37-1.37c-.4-.4-.92-.59-1.43-.59-.52 0-1.04.2-1.43.59L10.3 9.45l-7.72 7.72c-.78.78-.78 2.05 0 2.83L4 21.41c.39.39.9.59 1.41.59.51 0 1.02-.2 1.41-.59l7.78-7.78 2.81-2.81c.8-.78.8-2.07 0-2.86zM5.41 20L4 18.59l7.72-7.72 1.47 1.35L5.41 20z\"/>\n",
              "  </svg>\n",
              "      </button>\n",
              "      \n",
              "  <style>\n",
              "    .colab-df-container {\n",
              "      display:flex;\n",
              "      flex-wrap:wrap;\n",
              "      gap: 12px;\n",
              "    }\n",
              "\n",
              "    .colab-df-convert {\n",
              "      background-color: #E8F0FE;\n",
              "      border: none;\n",
              "      border-radius: 50%;\n",
              "      cursor: pointer;\n",
              "      display: none;\n",
              "      fill: #1967D2;\n",
              "      height: 32px;\n",
              "      padding: 0 0 0 0;\n",
              "      width: 32px;\n",
              "    }\n",
              "\n",
              "    .colab-df-convert:hover {\n",
              "      background-color: #E2EBFA;\n",
              "      box-shadow: 0px 1px 2px rgba(60, 64, 67, 0.3), 0px 1px 3px 1px rgba(60, 64, 67, 0.15);\n",
              "      fill: #174EA6;\n",
              "    }\n",
              "\n",
              "    [theme=dark] .colab-df-convert {\n",
              "      background-color: #3B4455;\n",
              "      fill: #D2E3FC;\n",
              "    }\n",
              "\n",
              "    [theme=dark] .colab-df-convert:hover {\n",
              "      background-color: #434B5C;\n",
              "      box-shadow: 0px 1px 3px 1px rgba(0, 0, 0, 0.15);\n",
              "      filter: drop-shadow(0px 1px 2px rgba(0, 0, 0, 0.3));\n",
              "      fill: #FFFFFF;\n",
              "    }\n",
              "  </style>\n",
              "\n",
              "      <script>\n",
              "        const buttonEl =\n",
              "          document.querySelector('#df-7436097d-09f2-4936-8689-90605622ec2a button.colab-df-convert');\n",
              "        buttonEl.style.display =\n",
              "          google.colab.kernel.accessAllowed ? 'block' : 'none';\n",
              "\n",
              "        async function convertToInteractive(key) {\n",
              "          const element = document.querySelector('#df-7436097d-09f2-4936-8689-90605622ec2a');\n",
              "          const dataTable =\n",
              "            await google.colab.kernel.invokeFunction('convertToInteractive',\n",
              "                                                     [key], {});\n",
              "          if (!dataTable) return;\n",
              "\n",
              "          const docLinkHtml = 'Like what you see? Visit the ' +\n",
              "            '<a target=\"_blank\" href=https://colab.research.google.com/notebooks/data_table.ipynb>data table notebook</a>'\n",
              "            + ' to learn more about interactive tables.';\n",
              "          element.innerHTML = '';\n",
              "          dataTable['output_type'] = 'display_data';\n",
              "          await google.colab.output.renderOutput(dataTable, element);\n",
              "          const docLink = document.createElement('div');\n",
              "          docLink.innerHTML = docLinkHtml;\n",
              "          element.appendChild(docLink);\n",
              "        }\n",
              "      </script>\n",
              "    </div>\n",
              "  </div>\n",
              "  "
            ]
          },
          "metadata": {},
          "execution_count": 89
        }
      ]
    },
    {
      "cell_type": "code",
      "source": [
        "train_final['cluster_pca'].unique()"
      ],
      "metadata": {
        "colab": {
          "base_uri": "https://localhost:8080/"
        },
        "id": "PtTBaViwJ1cd",
        "outputId": "928fcc35-b50a-49d5-ef7a-7986d5cc1e96"
      },
      "execution_count": 90,
      "outputs": [
        {
          "output_type": "execute_result",
          "data": {
            "text/plain": [
              "array([2, 1, 0], dtype=int32)"
            ]
          },
          "metadata": {},
          "execution_count": 90
        }
      ]
    },
    {
      "cell_type": "code",
      "source": [
        "train_final.loc[train_final['cluster_pca'] == 0].describe()"
      ],
      "metadata": {
        "colab": {
          "base_uri": "https://localhost:8080/",
          "height": 357
        },
        "id": "htG2R3zeJ9Uz",
        "outputId": "d95d4bfe-0468-420d-95e7-88e45b47dc6a"
      },
      "execution_count": 91,
      "outputs": [
        {
          "output_type": "execute_result",
          "data": {
            "text/plain": [
              "       InscClaimAmtReimbursed  DeductibleAmtPaid   AdmittedDays  \\\n",
              "count           454736.000000      454736.000000  454736.000000   \n",
              "mean               403.204453          37.339577       0.170637   \n",
              "std               1002.583790         189.325185       1.197413   \n",
              "min                  0.000000           0.000000       0.000000   \n",
              "25%                 40.000000           0.000000       0.000000   \n",
              "50%                 80.000000           0.000000       0.000000   \n",
              "75%                300.000000           0.000000       0.000000   \n",
              "max              17300.000000        1068.000000      36.000000   \n",
              "\n",
              "       NoOfMonths_PartACov  NoOfMonths_PartBCov  ChronicCond_Alzheimer  \\\n",
              "count        454736.000000        454736.000000          454736.000000   \n",
              "mean             11.933500            11.939484               0.370879   \n",
              "std               0.877174             0.779485               0.483041   \n",
              "min               0.000000             0.000000               0.000000   \n",
              "25%              12.000000            12.000000               0.000000   \n",
              "50%              12.000000            12.000000               0.000000   \n",
              "75%              12.000000            12.000000               1.000000   \n",
              "max              12.000000            12.000000               1.000000   \n",
              "\n",
              "       ChronicCond_Heartfailure  ChronicCond_KidneyDisease  \\\n",
              "count             454736.000000              454736.000000   \n",
              "mean                   0.546205                   0.346073   \n",
              "std                    0.497861                   0.475717   \n",
              "min                    0.000000                   0.000000   \n",
              "25%                    0.000000                   0.000000   \n",
              "50%                    1.000000                   0.000000   \n",
              "75%                    1.000000                   1.000000   \n",
              "max                    1.000000                   1.000000   \n",
              "\n",
              "       ChronicCond_Cancer  ChronicCond_ObstrPulmonary  ChronicCond_Depression  \\\n",
              "count       454736.000000               454736.000000           454736.000000   \n",
              "mean             0.136371                    0.264085                0.410069   \n",
              "std              0.343183                    0.440845                0.491846   \n",
              "min              0.000000                    0.000000                0.000000   \n",
              "25%              0.000000                    0.000000                0.000000   \n",
              "50%              0.000000                    0.000000                0.000000   \n",
              "75%              0.000000                    1.000000                1.000000   \n",
              "max              1.000000                    1.000000                1.000000   \n",
              "\n",
              "       ChronicCond_Diabetes  ChronicCond_IschemicHeart  \\\n",
              "count         454736.000000              454736.000000   \n",
              "mean               0.669927                   0.727083   \n",
              "std                0.470240                   0.445459   \n",
              "min                0.000000                   0.000000   \n",
              "25%                0.000000                   0.000000   \n",
              "50%                1.000000                   1.000000   \n",
              "75%                1.000000                   1.000000   \n",
              "max                1.000000                   1.000000   \n",
              "\n",
              "       ChronicCond_Osteoporasis  ChronicCond_rheumatoidarthritis  \\\n",
              "count             454736.000000                    454736.000000   \n",
              "mean                   0.304133                         0.290254   \n",
              "std                    0.460040                         0.453880   \n",
              "min                    0.000000                         0.000000   \n",
              "25%                    0.000000                         0.000000   \n",
              "50%                    0.000000                         0.000000   \n",
              "75%                    1.000000                         1.000000   \n",
              "max                    1.000000                         1.000000   \n",
              "\n",
              "       ChronicCond_stroke  IPAnnualReimbursementAmt  IPAnnualDeductibleAmt  \\\n",
              "count       454736.000000             454736.000000          454736.000000   \n",
              "mean             0.082595                974.399080             227.814675   \n",
              "std              0.275270               2258.989144             593.321213   \n",
              "min              0.000000              -8000.000000               0.000000   \n",
              "25%              0.000000                  0.000000               0.000000   \n",
              "50%              0.000000                  0.000000               0.000000   \n",
              "75%              0.000000                  0.000000               0.000000   \n",
              "max              1.000000               9840.000000           36136.000000   \n",
              "\n",
              "       OPAnnualReimbursementAmt  OPAnnualDeductibleAmt            Age  \\\n",
              "count             454736.000000          454736.000000  454736.000000   \n",
              "mean                1973.221496             572.275672      83.593975   \n",
              "std                 3039.931706             813.936374      12.982495   \n",
              "min                  -60.000000               0.000000      36.000000   \n",
              "25%                  440.000000             120.000000      78.000000   \n",
              "50%                 1100.000000             320.000000      84.000000   \n",
              "75%                 2410.000000             730.000000      92.000000   \n",
              "max                44750.000000           13040.000000     111.000000   \n",
              "\n",
              "           DeadOrNot       Gender_2         Race_2         Race_3  \\\n",
              "count  454736.000000  454736.000000  454736.000000  454736.000000   \n",
              "mean        0.007692       0.577792       0.098517       0.036006   \n",
              "std         0.087368       0.493912       0.298012       0.186304   \n",
              "min         0.000000       0.000000       0.000000       0.000000   \n",
              "25%         0.000000       0.000000       0.000000       0.000000   \n",
              "50%         0.000000       1.000000       0.000000       0.000000   \n",
              "75%         0.000000       1.000000       0.000000       0.000000   \n",
              "max         1.000000       1.000000       1.000000       1.000000   \n",
              "\n",
              "              Race_5  cluster_pca  \n",
              "count  454736.000000     454736.0  \n",
              "mean        0.021470          0.0  \n",
              "std         0.144944          0.0  \n",
              "min         0.000000          0.0  \n",
              "25%         0.000000          0.0  \n",
              "50%         0.000000          0.0  \n",
              "75%         0.000000          0.0  \n",
              "max         1.000000          0.0  "
            ],
            "text/html": [
              "\n",
              "  <div id=\"df-1a30ff6e-1349-4c94-9f83-4d56045cced2\">\n",
              "    <div class=\"colab-df-container\">\n",
              "      <div>\n",
              "<style scoped>\n",
              "    .dataframe tbody tr th:only-of-type {\n",
              "        vertical-align: middle;\n",
              "    }\n",
              "\n",
              "    .dataframe tbody tr th {\n",
              "        vertical-align: top;\n",
              "    }\n",
              "\n",
              "    .dataframe thead th {\n",
              "        text-align: right;\n",
              "    }\n",
              "</style>\n",
              "<table border=\"1\" class=\"dataframe\">\n",
              "  <thead>\n",
              "    <tr style=\"text-align: right;\">\n",
              "      <th></th>\n",
              "      <th>InscClaimAmtReimbursed</th>\n",
              "      <th>DeductibleAmtPaid</th>\n",
              "      <th>AdmittedDays</th>\n",
              "      <th>NoOfMonths_PartACov</th>\n",
              "      <th>NoOfMonths_PartBCov</th>\n",
              "      <th>ChronicCond_Alzheimer</th>\n",
              "      <th>ChronicCond_Heartfailure</th>\n",
              "      <th>ChronicCond_KidneyDisease</th>\n",
              "      <th>ChronicCond_Cancer</th>\n",
              "      <th>ChronicCond_ObstrPulmonary</th>\n",
              "      <th>ChronicCond_Depression</th>\n",
              "      <th>ChronicCond_Diabetes</th>\n",
              "      <th>ChronicCond_IschemicHeart</th>\n",
              "      <th>ChronicCond_Osteoporasis</th>\n",
              "      <th>ChronicCond_rheumatoidarthritis</th>\n",
              "      <th>ChronicCond_stroke</th>\n",
              "      <th>IPAnnualReimbursementAmt</th>\n",
              "      <th>IPAnnualDeductibleAmt</th>\n",
              "      <th>OPAnnualReimbursementAmt</th>\n",
              "      <th>OPAnnualDeductibleAmt</th>\n",
              "      <th>Age</th>\n",
              "      <th>DeadOrNot</th>\n",
              "      <th>Gender_2</th>\n",
              "      <th>Race_2</th>\n",
              "      <th>Race_3</th>\n",
              "      <th>Race_5</th>\n",
              "      <th>cluster_pca</th>\n",
              "    </tr>\n",
              "  </thead>\n",
              "  <tbody>\n",
              "    <tr>\n",
              "      <th>count</th>\n",
              "      <td>454736.000000</td>\n",
              "      <td>454736.000000</td>\n",
              "      <td>454736.000000</td>\n",
              "      <td>454736.000000</td>\n",
              "      <td>454736.000000</td>\n",
              "      <td>454736.000000</td>\n",
              "      <td>454736.000000</td>\n",
              "      <td>454736.000000</td>\n",
              "      <td>454736.000000</td>\n",
              "      <td>454736.000000</td>\n",
              "      <td>454736.000000</td>\n",
              "      <td>454736.000000</td>\n",
              "      <td>454736.000000</td>\n",
              "      <td>454736.000000</td>\n",
              "      <td>454736.000000</td>\n",
              "      <td>454736.000000</td>\n",
              "      <td>454736.000000</td>\n",
              "      <td>454736.000000</td>\n",
              "      <td>454736.000000</td>\n",
              "      <td>454736.000000</td>\n",
              "      <td>454736.000000</td>\n",
              "      <td>454736.000000</td>\n",
              "      <td>454736.000000</td>\n",
              "      <td>454736.000000</td>\n",
              "      <td>454736.000000</td>\n",
              "      <td>454736.000000</td>\n",
              "      <td>454736.0</td>\n",
              "    </tr>\n",
              "    <tr>\n",
              "      <th>mean</th>\n",
              "      <td>403.204453</td>\n",
              "      <td>37.339577</td>\n",
              "      <td>0.170637</td>\n",
              "      <td>11.933500</td>\n",
              "      <td>11.939484</td>\n",
              "      <td>0.370879</td>\n",
              "      <td>0.546205</td>\n",
              "      <td>0.346073</td>\n",
              "      <td>0.136371</td>\n",
              "      <td>0.264085</td>\n",
              "      <td>0.410069</td>\n",
              "      <td>0.669927</td>\n",
              "      <td>0.727083</td>\n",
              "      <td>0.304133</td>\n",
              "      <td>0.290254</td>\n",
              "      <td>0.082595</td>\n",
              "      <td>974.399080</td>\n",
              "      <td>227.814675</td>\n",
              "      <td>1973.221496</td>\n",
              "      <td>572.275672</td>\n",
              "      <td>83.593975</td>\n",
              "      <td>0.007692</td>\n",
              "      <td>0.577792</td>\n",
              "      <td>0.098517</td>\n",
              "      <td>0.036006</td>\n",
              "      <td>0.021470</td>\n",
              "      <td>0.0</td>\n",
              "    </tr>\n",
              "    <tr>\n",
              "      <th>std</th>\n",
              "      <td>1002.583790</td>\n",
              "      <td>189.325185</td>\n",
              "      <td>1.197413</td>\n",
              "      <td>0.877174</td>\n",
              "      <td>0.779485</td>\n",
              "      <td>0.483041</td>\n",
              "      <td>0.497861</td>\n",
              "      <td>0.475717</td>\n",
              "      <td>0.343183</td>\n",
              "      <td>0.440845</td>\n",
              "      <td>0.491846</td>\n",
              "      <td>0.470240</td>\n",
              "      <td>0.445459</td>\n",
              "      <td>0.460040</td>\n",
              "      <td>0.453880</td>\n",
              "      <td>0.275270</td>\n",
              "      <td>2258.989144</td>\n",
              "      <td>593.321213</td>\n",
              "      <td>3039.931706</td>\n",
              "      <td>813.936374</td>\n",
              "      <td>12.982495</td>\n",
              "      <td>0.087368</td>\n",
              "      <td>0.493912</td>\n",
              "      <td>0.298012</td>\n",
              "      <td>0.186304</td>\n",
              "      <td>0.144944</td>\n",
              "      <td>0.0</td>\n",
              "    </tr>\n",
              "    <tr>\n",
              "      <th>min</th>\n",
              "      <td>0.000000</td>\n",
              "      <td>0.000000</td>\n",
              "      <td>0.000000</td>\n",
              "      <td>0.000000</td>\n",
              "      <td>0.000000</td>\n",
              "      <td>0.000000</td>\n",
              "      <td>0.000000</td>\n",
              "      <td>0.000000</td>\n",
              "      <td>0.000000</td>\n",
              "      <td>0.000000</td>\n",
              "      <td>0.000000</td>\n",
              "      <td>0.000000</td>\n",
              "      <td>0.000000</td>\n",
              "      <td>0.000000</td>\n",
              "      <td>0.000000</td>\n",
              "      <td>0.000000</td>\n",
              "      <td>-8000.000000</td>\n",
              "      <td>0.000000</td>\n",
              "      <td>-60.000000</td>\n",
              "      <td>0.000000</td>\n",
              "      <td>36.000000</td>\n",
              "      <td>0.000000</td>\n",
              "      <td>0.000000</td>\n",
              "      <td>0.000000</td>\n",
              "      <td>0.000000</td>\n",
              "      <td>0.000000</td>\n",
              "      <td>0.0</td>\n",
              "    </tr>\n",
              "    <tr>\n",
              "      <th>25%</th>\n",
              "      <td>40.000000</td>\n",
              "      <td>0.000000</td>\n",
              "      <td>0.000000</td>\n",
              "      <td>12.000000</td>\n",
              "      <td>12.000000</td>\n",
              "      <td>0.000000</td>\n",
              "      <td>0.000000</td>\n",
              "      <td>0.000000</td>\n",
              "      <td>0.000000</td>\n",
              "      <td>0.000000</td>\n",
              "      <td>0.000000</td>\n",
              "      <td>0.000000</td>\n",
              "      <td>0.000000</td>\n",
              "      <td>0.000000</td>\n",
              "      <td>0.000000</td>\n",
              "      <td>0.000000</td>\n",
              "      <td>0.000000</td>\n",
              "      <td>0.000000</td>\n",
              "      <td>440.000000</td>\n",
              "      <td>120.000000</td>\n",
              "      <td>78.000000</td>\n",
              "      <td>0.000000</td>\n",
              "      <td>0.000000</td>\n",
              "      <td>0.000000</td>\n",
              "      <td>0.000000</td>\n",
              "      <td>0.000000</td>\n",
              "      <td>0.0</td>\n",
              "    </tr>\n",
              "    <tr>\n",
              "      <th>50%</th>\n",
              "      <td>80.000000</td>\n",
              "      <td>0.000000</td>\n",
              "      <td>0.000000</td>\n",
              "      <td>12.000000</td>\n",
              "      <td>12.000000</td>\n",
              "      <td>0.000000</td>\n",
              "      <td>1.000000</td>\n",
              "      <td>0.000000</td>\n",
              "      <td>0.000000</td>\n",
              "      <td>0.000000</td>\n",
              "      <td>0.000000</td>\n",
              "      <td>1.000000</td>\n",
              "      <td>1.000000</td>\n",
              "      <td>0.000000</td>\n",
              "      <td>0.000000</td>\n",
              "      <td>0.000000</td>\n",
              "      <td>0.000000</td>\n",
              "      <td>0.000000</td>\n",
              "      <td>1100.000000</td>\n",
              "      <td>320.000000</td>\n",
              "      <td>84.000000</td>\n",
              "      <td>0.000000</td>\n",
              "      <td>1.000000</td>\n",
              "      <td>0.000000</td>\n",
              "      <td>0.000000</td>\n",
              "      <td>0.000000</td>\n",
              "      <td>0.0</td>\n",
              "    </tr>\n",
              "    <tr>\n",
              "      <th>75%</th>\n",
              "      <td>300.000000</td>\n",
              "      <td>0.000000</td>\n",
              "      <td>0.000000</td>\n",
              "      <td>12.000000</td>\n",
              "      <td>12.000000</td>\n",
              "      <td>1.000000</td>\n",
              "      <td>1.000000</td>\n",
              "      <td>1.000000</td>\n",
              "      <td>0.000000</td>\n",
              "      <td>1.000000</td>\n",
              "      <td>1.000000</td>\n",
              "      <td>1.000000</td>\n",
              "      <td>1.000000</td>\n",
              "      <td>1.000000</td>\n",
              "      <td>1.000000</td>\n",
              "      <td>0.000000</td>\n",
              "      <td>0.000000</td>\n",
              "      <td>0.000000</td>\n",
              "      <td>2410.000000</td>\n",
              "      <td>730.000000</td>\n",
              "      <td>92.000000</td>\n",
              "      <td>0.000000</td>\n",
              "      <td>1.000000</td>\n",
              "      <td>0.000000</td>\n",
              "      <td>0.000000</td>\n",
              "      <td>0.000000</td>\n",
              "      <td>0.0</td>\n",
              "    </tr>\n",
              "    <tr>\n",
              "      <th>max</th>\n",
              "      <td>17300.000000</td>\n",
              "      <td>1068.000000</td>\n",
              "      <td>36.000000</td>\n",
              "      <td>12.000000</td>\n",
              "      <td>12.000000</td>\n",
              "      <td>1.000000</td>\n",
              "      <td>1.000000</td>\n",
              "      <td>1.000000</td>\n",
              "      <td>1.000000</td>\n",
              "      <td>1.000000</td>\n",
              "      <td>1.000000</td>\n",
              "      <td>1.000000</td>\n",
              "      <td>1.000000</td>\n",
              "      <td>1.000000</td>\n",
              "      <td>1.000000</td>\n",
              "      <td>1.000000</td>\n",
              "      <td>9840.000000</td>\n",
              "      <td>36136.000000</td>\n",
              "      <td>44750.000000</td>\n",
              "      <td>13040.000000</td>\n",
              "      <td>111.000000</td>\n",
              "      <td>1.000000</td>\n",
              "      <td>1.000000</td>\n",
              "      <td>1.000000</td>\n",
              "      <td>1.000000</td>\n",
              "      <td>1.000000</td>\n",
              "      <td>0.0</td>\n",
              "    </tr>\n",
              "  </tbody>\n",
              "</table>\n",
              "</div>\n",
              "      <button class=\"colab-df-convert\" onclick=\"convertToInteractive('df-1a30ff6e-1349-4c94-9f83-4d56045cced2')\"\n",
              "              title=\"Convert this dataframe to an interactive table.\"\n",
              "              style=\"display:none;\">\n",
              "        \n",
              "  <svg xmlns=\"http://www.w3.org/2000/svg\" height=\"24px\"viewBox=\"0 0 24 24\"\n",
              "       width=\"24px\">\n",
              "    <path d=\"M0 0h24v24H0V0z\" fill=\"none\"/>\n",
              "    <path d=\"M18.56 5.44l.94 2.06.94-2.06 2.06-.94-2.06-.94-.94-2.06-.94 2.06-2.06.94zm-11 1L8.5 8.5l.94-2.06 2.06-.94-2.06-.94L8.5 2.5l-.94 2.06-2.06.94zm10 10l.94 2.06.94-2.06 2.06-.94-2.06-.94-.94-2.06-.94 2.06-2.06.94z\"/><path d=\"M17.41 7.96l-1.37-1.37c-.4-.4-.92-.59-1.43-.59-.52 0-1.04.2-1.43.59L10.3 9.45l-7.72 7.72c-.78.78-.78 2.05 0 2.83L4 21.41c.39.39.9.59 1.41.59.51 0 1.02-.2 1.41-.59l7.78-7.78 2.81-2.81c.8-.78.8-2.07 0-2.86zM5.41 20L4 18.59l7.72-7.72 1.47 1.35L5.41 20z\"/>\n",
              "  </svg>\n",
              "      </button>\n",
              "      \n",
              "  <style>\n",
              "    .colab-df-container {\n",
              "      display:flex;\n",
              "      flex-wrap:wrap;\n",
              "      gap: 12px;\n",
              "    }\n",
              "\n",
              "    .colab-df-convert {\n",
              "      background-color: #E8F0FE;\n",
              "      border: none;\n",
              "      border-radius: 50%;\n",
              "      cursor: pointer;\n",
              "      display: none;\n",
              "      fill: #1967D2;\n",
              "      height: 32px;\n",
              "      padding: 0 0 0 0;\n",
              "      width: 32px;\n",
              "    }\n",
              "\n",
              "    .colab-df-convert:hover {\n",
              "      background-color: #E2EBFA;\n",
              "      box-shadow: 0px 1px 2px rgba(60, 64, 67, 0.3), 0px 1px 3px 1px rgba(60, 64, 67, 0.15);\n",
              "      fill: #174EA6;\n",
              "    }\n",
              "\n",
              "    [theme=dark] .colab-df-convert {\n",
              "      background-color: #3B4455;\n",
              "      fill: #D2E3FC;\n",
              "    }\n",
              "\n",
              "    [theme=dark] .colab-df-convert:hover {\n",
              "      background-color: #434B5C;\n",
              "      box-shadow: 0px 1px 3px 1px rgba(0, 0, 0, 0.15);\n",
              "      filter: drop-shadow(0px 1px 2px rgba(0, 0, 0, 0.3));\n",
              "      fill: #FFFFFF;\n",
              "    }\n",
              "  </style>\n",
              "\n",
              "      <script>\n",
              "        const buttonEl =\n",
              "          document.querySelector('#df-1a30ff6e-1349-4c94-9f83-4d56045cced2 button.colab-df-convert');\n",
              "        buttonEl.style.display =\n",
              "          google.colab.kernel.accessAllowed ? 'block' : 'none';\n",
              "\n",
              "        async function convertToInteractive(key) {\n",
              "          const element = document.querySelector('#df-1a30ff6e-1349-4c94-9f83-4d56045cced2');\n",
              "          const dataTable =\n",
              "            await google.colab.kernel.invokeFunction('convertToInteractive',\n",
              "                                                     [key], {});\n",
              "          if (!dataTable) return;\n",
              "\n",
              "          const docLinkHtml = 'Like what you see? Visit the ' +\n",
              "            '<a target=\"_blank\" href=https://colab.research.google.com/notebooks/data_table.ipynb>data table notebook</a>'\n",
              "            + ' to learn more about interactive tables.';\n",
              "          element.innerHTML = '';\n",
              "          dataTable['output_type'] = 'display_data';\n",
              "          await google.colab.output.renderOutput(dataTable, element);\n",
              "          const docLink = document.createElement('div');\n",
              "          docLink.innerHTML = docLinkHtml;\n",
              "          element.appendChild(docLink);\n",
              "        }\n",
              "      </script>\n",
              "    </div>\n",
              "  </div>\n",
              "  "
            ]
          },
          "metadata": {},
          "execution_count": 91
        }
      ]
    },
    {
      "cell_type": "code",
      "source": [
        "train_final.loc[train_final['cluster_pca'] == 1].describe()\n"
      ],
      "metadata": {
        "colab": {
          "base_uri": "https://localhost:8080/",
          "height": 357
        },
        "id": "FR7-9nMqKDoo",
        "outputId": "52d68fe9-3c9b-4356-f7a6-14cef8e26597"
      },
      "execution_count": 92,
      "outputs": [
        {
          "output_type": "execute_result",
          "data": {
            "text/plain": [
              "       InscClaimAmtReimbursed  DeductibleAmtPaid  AdmittedDays  \\\n",
              "count            87088.000000       87088.000000  87088.000000   \n",
              "mean              2840.121371         250.774297      1.657209   \n",
              "std               5380.765130         450.510881      3.991277   \n",
              "min                  0.000000           0.000000      0.000000   \n",
              "25%                 50.000000           0.000000      0.000000   \n",
              "50%                200.000000           0.000000      0.000000   \n",
              "75%               2800.000000          60.000000      0.000000   \n",
              "max              33000.000000        1068.000000     36.000000   \n",
              "\n",
              "       NoOfMonths_PartACov  NoOfMonths_PartBCov  ChronicCond_Alzheimer  \\\n",
              "count         87088.000000         87088.000000           87088.000000   \n",
              "mean             11.923422            11.931299               0.529694   \n",
              "std               0.939195             0.840693               0.499120   \n",
              "min               0.000000             0.000000               0.000000   \n",
              "25%              12.000000            12.000000               0.000000   \n",
              "50%              12.000000            12.000000               1.000000   \n",
              "75%              12.000000            12.000000               1.000000   \n",
              "max              12.000000            12.000000               1.000000   \n",
              "\n",
              "       ChronicCond_Heartfailure  ChronicCond_KidneyDisease  \\\n",
              "count              87088.000000               87088.000000   \n",
              "mean                   0.772012                   0.679565   \n",
              "std                    0.419537                   0.466646   \n",
              "min                    0.000000                   0.000000   \n",
              "25%                    1.000000                   0.000000   \n",
              "50%                    1.000000                   1.000000   \n",
              "75%                    1.000000                   1.000000   \n",
              "max                    1.000000                   1.000000   \n",
              "\n",
              "       ChronicCond_Cancer  ChronicCond_ObstrPulmonary  ChronicCond_Depression  \\\n",
              "count        87088.000000                87088.000000            87088.000000   \n",
              "mean             0.212130                    0.508566                0.537399   \n",
              "std              0.408819                    0.499929                0.498602   \n",
              "min              0.000000                    0.000000                0.000000   \n",
              "25%              0.000000                    0.000000                0.000000   \n",
              "50%              0.000000                    1.000000                1.000000   \n",
              "75%              0.000000                    1.000000                1.000000   \n",
              "max              1.000000                    1.000000                1.000000   \n",
              "\n",
              "       ChronicCond_Diabetes  ChronicCond_IschemicHeart  \\\n",
              "count          87088.000000               87088.000000   \n",
              "mean               0.853447                   0.892327   \n",
              "std                0.353662                   0.309968   \n",
              "min                0.000000                   0.000000   \n",
              "25%                1.000000                   1.000000   \n",
              "50%                1.000000                   1.000000   \n",
              "75%                1.000000                   1.000000   \n",
              "max                1.000000                   1.000000   \n",
              "\n",
              "       ChronicCond_Osteoporasis  ChronicCond_rheumatoidarthritis  \\\n",
              "count              87088.000000                     87088.000000   \n",
              "mean                   0.374667                         0.405165   \n",
              "std                    0.484040                         0.490927   \n",
              "min                    0.000000                         0.000000   \n",
              "25%                    0.000000                         0.000000   \n",
              "50%                    0.000000                         0.000000   \n",
              "75%                    1.000000                         1.000000   \n",
              "max                    1.000000                         1.000000   \n",
              "\n",
              "       ChronicCond_stroke  IPAnnualReimbursementAmt  IPAnnualDeductibleAmt  \\\n",
              "count        87088.000000              87088.000000            87088.00000   \n",
              "mean             0.174134              17845.721913             1873.47545   \n",
              "std              0.379227               7203.742081             1386.67165   \n",
              "min              0.000000               6000.000000                0.00000   \n",
              "25%              0.000000              12000.000000             1068.00000   \n",
              "50%              0.000000              16000.000000             1068.00000   \n",
              "75%              0.000000              22080.000000             2136.00000   \n",
              "max              1.000000              37880.000000            37204.00000   \n",
              "\n",
              "       OPAnnualReimbursementAmt  OPAnnualDeductibleAmt           Age  \\\n",
              "count              87088.000000           87088.000000  87088.000000   \n",
              "mean                3380.708134             933.758405     84.106272   \n",
              "std                 5704.944764            1479.526429     13.300229   \n",
              "min                  -70.000000               0.000000     36.000000   \n",
              "25%                  560.000000             150.000000     78.000000   \n",
              "50%                 1490.000000             440.000000     85.000000   \n",
              "75%                 3480.000000            1050.000000     93.000000   \n",
              "max                52900.000000           13840.000000    111.000000   \n",
              "\n",
              "          DeadOrNot      Gender_2        Race_2        Race_3        Race_5  \\\n",
              "count  87088.000000  87088.000000  87088.000000  87088.000000  87088.000000   \n",
              "mean       0.006155      0.586223      0.101679      0.032335      0.020129   \n",
              "std        0.078211      0.492512      0.302227      0.176890      0.140443   \n",
              "min        0.000000      0.000000      0.000000      0.000000      0.000000   \n",
              "25%        0.000000      0.000000      0.000000      0.000000      0.000000   \n",
              "50%        0.000000      1.000000      0.000000      0.000000      0.000000   \n",
              "75%        0.000000      1.000000      0.000000      0.000000      0.000000   \n",
              "max        1.000000      1.000000      1.000000      1.000000      1.000000   \n",
              "\n",
              "       cluster_pca  \n",
              "count      87088.0  \n",
              "mean           1.0  \n",
              "std            0.0  \n",
              "min            1.0  \n",
              "25%            1.0  \n",
              "50%            1.0  \n",
              "75%            1.0  \n",
              "max            1.0  "
            ],
            "text/html": [
              "\n",
              "  <div id=\"df-6d0926a1-9afe-45a2-9581-ffdae2016e81\">\n",
              "    <div class=\"colab-df-container\">\n",
              "      <div>\n",
              "<style scoped>\n",
              "    .dataframe tbody tr th:only-of-type {\n",
              "        vertical-align: middle;\n",
              "    }\n",
              "\n",
              "    .dataframe tbody tr th {\n",
              "        vertical-align: top;\n",
              "    }\n",
              "\n",
              "    .dataframe thead th {\n",
              "        text-align: right;\n",
              "    }\n",
              "</style>\n",
              "<table border=\"1\" class=\"dataframe\">\n",
              "  <thead>\n",
              "    <tr style=\"text-align: right;\">\n",
              "      <th></th>\n",
              "      <th>InscClaimAmtReimbursed</th>\n",
              "      <th>DeductibleAmtPaid</th>\n",
              "      <th>AdmittedDays</th>\n",
              "      <th>NoOfMonths_PartACov</th>\n",
              "      <th>NoOfMonths_PartBCov</th>\n",
              "      <th>ChronicCond_Alzheimer</th>\n",
              "      <th>ChronicCond_Heartfailure</th>\n",
              "      <th>ChronicCond_KidneyDisease</th>\n",
              "      <th>ChronicCond_Cancer</th>\n",
              "      <th>ChronicCond_ObstrPulmonary</th>\n",
              "      <th>ChronicCond_Depression</th>\n",
              "      <th>ChronicCond_Diabetes</th>\n",
              "      <th>ChronicCond_IschemicHeart</th>\n",
              "      <th>ChronicCond_Osteoporasis</th>\n",
              "      <th>ChronicCond_rheumatoidarthritis</th>\n",
              "      <th>ChronicCond_stroke</th>\n",
              "      <th>IPAnnualReimbursementAmt</th>\n",
              "      <th>IPAnnualDeductibleAmt</th>\n",
              "      <th>OPAnnualReimbursementAmt</th>\n",
              "      <th>OPAnnualDeductibleAmt</th>\n",
              "      <th>Age</th>\n",
              "      <th>DeadOrNot</th>\n",
              "      <th>Gender_2</th>\n",
              "      <th>Race_2</th>\n",
              "      <th>Race_3</th>\n",
              "      <th>Race_5</th>\n",
              "      <th>cluster_pca</th>\n",
              "    </tr>\n",
              "  </thead>\n",
              "  <tbody>\n",
              "    <tr>\n",
              "      <th>count</th>\n",
              "      <td>87088.000000</td>\n",
              "      <td>87088.000000</td>\n",
              "      <td>87088.000000</td>\n",
              "      <td>87088.000000</td>\n",
              "      <td>87088.000000</td>\n",
              "      <td>87088.000000</td>\n",
              "      <td>87088.000000</td>\n",
              "      <td>87088.000000</td>\n",
              "      <td>87088.000000</td>\n",
              "      <td>87088.000000</td>\n",
              "      <td>87088.000000</td>\n",
              "      <td>87088.000000</td>\n",
              "      <td>87088.000000</td>\n",
              "      <td>87088.000000</td>\n",
              "      <td>87088.000000</td>\n",
              "      <td>87088.000000</td>\n",
              "      <td>87088.000000</td>\n",
              "      <td>87088.00000</td>\n",
              "      <td>87088.000000</td>\n",
              "      <td>87088.000000</td>\n",
              "      <td>87088.000000</td>\n",
              "      <td>87088.000000</td>\n",
              "      <td>87088.000000</td>\n",
              "      <td>87088.000000</td>\n",
              "      <td>87088.000000</td>\n",
              "      <td>87088.000000</td>\n",
              "      <td>87088.0</td>\n",
              "    </tr>\n",
              "    <tr>\n",
              "      <th>mean</th>\n",
              "      <td>2840.121371</td>\n",
              "      <td>250.774297</td>\n",
              "      <td>1.657209</td>\n",
              "      <td>11.923422</td>\n",
              "      <td>11.931299</td>\n",
              "      <td>0.529694</td>\n",
              "      <td>0.772012</td>\n",
              "      <td>0.679565</td>\n",
              "      <td>0.212130</td>\n",
              "      <td>0.508566</td>\n",
              "      <td>0.537399</td>\n",
              "      <td>0.853447</td>\n",
              "      <td>0.892327</td>\n",
              "      <td>0.374667</td>\n",
              "      <td>0.405165</td>\n",
              "      <td>0.174134</td>\n",
              "      <td>17845.721913</td>\n",
              "      <td>1873.47545</td>\n",
              "      <td>3380.708134</td>\n",
              "      <td>933.758405</td>\n",
              "      <td>84.106272</td>\n",
              "      <td>0.006155</td>\n",
              "      <td>0.586223</td>\n",
              "      <td>0.101679</td>\n",
              "      <td>0.032335</td>\n",
              "      <td>0.020129</td>\n",
              "      <td>1.0</td>\n",
              "    </tr>\n",
              "    <tr>\n",
              "      <th>std</th>\n",
              "      <td>5380.765130</td>\n",
              "      <td>450.510881</td>\n",
              "      <td>3.991277</td>\n",
              "      <td>0.939195</td>\n",
              "      <td>0.840693</td>\n",
              "      <td>0.499120</td>\n",
              "      <td>0.419537</td>\n",
              "      <td>0.466646</td>\n",
              "      <td>0.408819</td>\n",
              "      <td>0.499929</td>\n",
              "      <td>0.498602</td>\n",
              "      <td>0.353662</td>\n",
              "      <td>0.309968</td>\n",
              "      <td>0.484040</td>\n",
              "      <td>0.490927</td>\n",
              "      <td>0.379227</td>\n",
              "      <td>7203.742081</td>\n",
              "      <td>1386.67165</td>\n",
              "      <td>5704.944764</td>\n",
              "      <td>1479.526429</td>\n",
              "      <td>13.300229</td>\n",
              "      <td>0.078211</td>\n",
              "      <td>0.492512</td>\n",
              "      <td>0.302227</td>\n",
              "      <td>0.176890</td>\n",
              "      <td>0.140443</td>\n",
              "      <td>0.0</td>\n",
              "    </tr>\n",
              "    <tr>\n",
              "      <th>min</th>\n",
              "      <td>0.000000</td>\n",
              "      <td>0.000000</td>\n",
              "      <td>0.000000</td>\n",
              "      <td>0.000000</td>\n",
              "      <td>0.000000</td>\n",
              "      <td>0.000000</td>\n",
              "      <td>0.000000</td>\n",
              "      <td>0.000000</td>\n",
              "      <td>0.000000</td>\n",
              "      <td>0.000000</td>\n",
              "      <td>0.000000</td>\n",
              "      <td>0.000000</td>\n",
              "      <td>0.000000</td>\n",
              "      <td>0.000000</td>\n",
              "      <td>0.000000</td>\n",
              "      <td>0.000000</td>\n",
              "      <td>6000.000000</td>\n",
              "      <td>0.00000</td>\n",
              "      <td>-70.000000</td>\n",
              "      <td>0.000000</td>\n",
              "      <td>36.000000</td>\n",
              "      <td>0.000000</td>\n",
              "      <td>0.000000</td>\n",
              "      <td>0.000000</td>\n",
              "      <td>0.000000</td>\n",
              "      <td>0.000000</td>\n",
              "      <td>1.0</td>\n",
              "    </tr>\n",
              "    <tr>\n",
              "      <th>25%</th>\n",
              "      <td>50.000000</td>\n",
              "      <td>0.000000</td>\n",
              "      <td>0.000000</td>\n",
              "      <td>12.000000</td>\n",
              "      <td>12.000000</td>\n",
              "      <td>0.000000</td>\n",
              "      <td>1.000000</td>\n",
              "      <td>0.000000</td>\n",
              "      <td>0.000000</td>\n",
              "      <td>0.000000</td>\n",
              "      <td>0.000000</td>\n",
              "      <td>1.000000</td>\n",
              "      <td>1.000000</td>\n",
              "      <td>0.000000</td>\n",
              "      <td>0.000000</td>\n",
              "      <td>0.000000</td>\n",
              "      <td>12000.000000</td>\n",
              "      <td>1068.00000</td>\n",
              "      <td>560.000000</td>\n",
              "      <td>150.000000</td>\n",
              "      <td>78.000000</td>\n",
              "      <td>0.000000</td>\n",
              "      <td>0.000000</td>\n",
              "      <td>0.000000</td>\n",
              "      <td>0.000000</td>\n",
              "      <td>0.000000</td>\n",
              "      <td>1.0</td>\n",
              "    </tr>\n",
              "    <tr>\n",
              "      <th>50%</th>\n",
              "      <td>200.000000</td>\n",
              "      <td>0.000000</td>\n",
              "      <td>0.000000</td>\n",
              "      <td>12.000000</td>\n",
              "      <td>12.000000</td>\n",
              "      <td>1.000000</td>\n",
              "      <td>1.000000</td>\n",
              "      <td>1.000000</td>\n",
              "      <td>0.000000</td>\n",
              "      <td>1.000000</td>\n",
              "      <td>1.000000</td>\n",
              "      <td>1.000000</td>\n",
              "      <td>1.000000</td>\n",
              "      <td>0.000000</td>\n",
              "      <td>0.000000</td>\n",
              "      <td>0.000000</td>\n",
              "      <td>16000.000000</td>\n",
              "      <td>1068.00000</td>\n",
              "      <td>1490.000000</td>\n",
              "      <td>440.000000</td>\n",
              "      <td>85.000000</td>\n",
              "      <td>0.000000</td>\n",
              "      <td>1.000000</td>\n",
              "      <td>0.000000</td>\n",
              "      <td>0.000000</td>\n",
              "      <td>0.000000</td>\n",
              "      <td>1.0</td>\n",
              "    </tr>\n",
              "    <tr>\n",
              "      <th>75%</th>\n",
              "      <td>2800.000000</td>\n",
              "      <td>60.000000</td>\n",
              "      <td>0.000000</td>\n",
              "      <td>12.000000</td>\n",
              "      <td>12.000000</td>\n",
              "      <td>1.000000</td>\n",
              "      <td>1.000000</td>\n",
              "      <td>1.000000</td>\n",
              "      <td>0.000000</td>\n",
              "      <td>1.000000</td>\n",
              "      <td>1.000000</td>\n",
              "      <td>1.000000</td>\n",
              "      <td>1.000000</td>\n",
              "      <td>1.000000</td>\n",
              "      <td>1.000000</td>\n",
              "      <td>0.000000</td>\n",
              "      <td>22080.000000</td>\n",
              "      <td>2136.00000</td>\n",
              "      <td>3480.000000</td>\n",
              "      <td>1050.000000</td>\n",
              "      <td>93.000000</td>\n",
              "      <td>0.000000</td>\n",
              "      <td>1.000000</td>\n",
              "      <td>0.000000</td>\n",
              "      <td>0.000000</td>\n",
              "      <td>0.000000</td>\n",
              "      <td>1.0</td>\n",
              "    </tr>\n",
              "    <tr>\n",
              "      <th>max</th>\n",
              "      <td>33000.000000</td>\n",
              "      <td>1068.000000</td>\n",
              "      <td>36.000000</td>\n",
              "      <td>12.000000</td>\n",
              "      <td>12.000000</td>\n",
              "      <td>1.000000</td>\n",
              "      <td>1.000000</td>\n",
              "      <td>1.000000</td>\n",
              "      <td>1.000000</td>\n",
              "      <td>1.000000</td>\n",
              "      <td>1.000000</td>\n",
              "      <td>1.000000</td>\n",
              "      <td>1.000000</td>\n",
              "      <td>1.000000</td>\n",
              "      <td>1.000000</td>\n",
              "      <td>1.000000</td>\n",
              "      <td>37880.000000</td>\n",
              "      <td>37204.00000</td>\n",
              "      <td>52900.000000</td>\n",
              "      <td>13840.000000</td>\n",
              "      <td>111.000000</td>\n",
              "      <td>1.000000</td>\n",
              "      <td>1.000000</td>\n",
              "      <td>1.000000</td>\n",
              "      <td>1.000000</td>\n",
              "      <td>1.000000</td>\n",
              "      <td>1.0</td>\n",
              "    </tr>\n",
              "  </tbody>\n",
              "</table>\n",
              "</div>\n",
              "      <button class=\"colab-df-convert\" onclick=\"convertToInteractive('df-6d0926a1-9afe-45a2-9581-ffdae2016e81')\"\n",
              "              title=\"Convert this dataframe to an interactive table.\"\n",
              "              style=\"display:none;\">\n",
              "        \n",
              "  <svg xmlns=\"http://www.w3.org/2000/svg\" height=\"24px\"viewBox=\"0 0 24 24\"\n",
              "       width=\"24px\">\n",
              "    <path d=\"M0 0h24v24H0V0z\" fill=\"none\"/>\n",
              "    <path d=\"M18.56 5.44l.94 2.06.94-2.06 2.06-.94-2.06-.94-.94-2.06-.94 2.06-2.06.94zm-11 1L8.5 8.5l.94-2.06 2.06-.94-2.06-.94L8.5 2.5l-.94 2.06-2.06.94zm10 10l.94 2.06.94-2.06 2.06-.94-2.06-.94-.94-2.06-.94 2.06-2.06.94z\"/><path d=\"M17.41 7.96l-1.37-1.37c-.4-.4-.92-.59-1.43-.59-.52 0-1.04.2-1.43.59L10.3 9.45l-7.72 7.72c-.78.78-.78 2.05 0 2.83L4 21.41c.39.39.9.59 1.41.59.51 0 1.02-.2 1.41-.59l7.78-7.78 2.81-2.81c.8-.78.8-2.07 0-2.86zM5.41 20L4 18.59l7.72-7.72 1.47 1.35L5.41 20z\"/>\n",
              "  </svg>\n",
              "      </button>\n",
              "      \n",
              "  <style>\n",
              "    .colab-df-container {\n",
              "      display:flex;\n",
              "      flex-wrap:wrap;\n",
              "      gap: 12px;\n",
              "    }\n",
              "\n",
              "    .colab-df-convert {\n",
              "      background-color: #E8F0FE;\n",
              "      border: none;\n",
              "      border-radius: 50%;\n",
              "      cursor: pointer;\n",
              "      display: none;\n",
              "      fill: #1967D2;\n",
              "      height: 32px;\n",
              "      padding: 0 0 0 0;\n",
              "      width: 32px;\n",
              "    }\n",
              "\n",
              "    .colab-df-convert:hover {\n",
              "      background-color: #E2EBFA;\n",
              "      box-shadow: 0px 1px 2px rgba(60, 64, 67, 0.3), 0px 1px 3px 1px rgba(60, 64, 67, 0.15);\n",
              "      fill: #174EA6;\n",
              "    }\n",
              "\n",
              "    [theme=dark] .colab-df-convert {\n",
              "      background-color: #3B4455;\n",
              "      fill: #D2E3FC;\n",
              "    }\n",
              "\n",
              "    [theme=dark] .colab-df-convert:hover {\n",
              "      background-color: #434B5C;\n",
              "      box-shadow: 0px 1px 3px 1px rgba(0, 0, 0, 0.15);\n",
              "      filter: drop-shadow(0px 1px 2px rgba(0, 0, 0, 0.3));\n",
              "      fill: #FFFFFF;\n",
              "    }\n",
              "  </style>\n",
              "\n",
              "      <script>\n",
              "        const buttonEl =\n",
              "          document.querySelector('#df-6d0926a1-9afe-45a2-9581-ffdae2016e81 button.colab-df-convert');\n",
              "        buttonEl.style.display =\n",
              "          google.colab.kernel.accessAllowed ? 'block' : 'none';\n",
              "\n",
              "        async function convertToInteractive(key) {\n",
              "          const element = document.querySelector('#df-6d0926a1-9afe-45a2-9581-ffdae2016e81');\n",
              "          const dataTable =\n",
              "            await google.colab.kernel.invokeFunction('convertToInteractive',\n",
              "                                                     [key], {});\n",
              "          if (!dataTable) return;\n",
              "\n",
              "          const docLinkHtml = 'Like what you see? Visit the ' +\n",
              "            '<a target=\"_blank\" href=https://colab.research.google.com/notebooks/data_table.ipynb>data table notebook</a>'\n",
              "            + ' to learn more about interactive tables.';\n",
              "          element.innerHTML = '';\n",
              "          dataTable['output_type'] = 'display_data';\n",
              "          await google.colab.output.renderOutput(dataTable, element);\n",
              "          const docLink = document.createElement('div');\n",
              "          docLink.innerHTML = docLinkHtml;\n",
              "          element.appendChild(docLink);\n",
              "        }\n",
              "      </script>\n",
              "    </div>\n",
              "  </div>\n",
              "  "
            ]
          },
          "metadata": {},
          "execution_count": 92
        }
      ]
    },
    {
      "cell_type": "code",
      "source": [
        "train_final.loc[train_final['cluster_pca'] == 2].describe()\n"
      ],
      "metadata": {
        "colab": {
          "base_uri": "https://localhost:8080/",
          "height": 357
        },
        "id": "6VvXI5iaKR7b",
        "outputId": "dc2ed8e4-2ca8-4a42-daf6-fa196818f811"
      },
      "execution_count": 93,
      "outputs": [
        {
          "output_type": "execute_result",
          "data": {
            "text/plain": [
              "       InscClaimAmtReimbursed  DeductibleAmtPaid  AdmittedDays  \\\n",
              "count            16387.000000       16387.000000  16387.000000   \n",
              "mean              7679.933484         298.158906      2.919876   \n",
              "std              15595.960656         477.168843      6.314482   \n",
              "min                  0.000000           0.000000      0.000000   \n",
              "25%                 60.000000           0.000000      0.000000   \n",
              "50%                300.000000           0.000000      0.000000   \n",
              "75%               6000.000000        1068.000000      3.000000   \n",
              "max             125000.000000        1068.000000     36.000000   \n",
              "\n",
              "       NoOfMonths_PartACov  NoOfMonths_PartBCov  ChronicCond_Alzheimer  \\\n",
              "count         16387.000000         16387.000000           16387.000000   \n",
              "mean             11.917984            11.958687               0.582474   \n",
              "std               0.961665             0.649622               0.493166   \n",
              "min               0.000000             0.000000               0.000000   \n",
              "25%              12.000000            12.000000               0.000000   \n",
              "50%              12.000000            12.000000               1.000000   \n",
              "75%              12.000000            12.000000               1.000000   \n",
              "max              12.000000            12.000000               1.000000   \n",
              "\n",
              "       ChronicCond_Heartfailure  ChronicCond_KidneyDisease  \\\n",
              "count              16387.000000               16387.000000   \n",
              "mean                   0.852566                   0.819552   \n",
              "std                    0.354549                   0.384572   \n",
              "min                    0.000000                   0.000000   \n",
              "25%                    1.000000                   1.000000   \n",
              "50%                    1.000000                   1.000000   \n",
              "75%                    1.000000                   1.000000   \n",
              "max                    1.000000                   1.000000   \n",
              "\n",
              "       ChronicCond_Cancer  ChronicCond_ObstrPulmonary  ChronicCond_Depression  \\\n",
              "count        16387.000000                16387.000000            16387.000000   \n",
              "mean             0.245194                    0.628669                0.576066   \n",
              "std              0.430216                    0.483175                0.494195   \n",
              "min              0.000000                    0.000000                0.000000   \n",
              "25%              0.000000                    0.000000                0.000000   \n",
              "50%              0.000000                    1.000000                1.000000   \n",
              "75%              0.000000                    1.000000                1.000000   \n",
              "max              1.000000                    1.000000                1.000000   \n",
              "\n",
              "       ChronicCond_Diabetes  ChronicCond_IschemicHeart  \\\n",
              "count          16387.000000               16387.000000   \n",
              "mean               0.902789                   0.945139   \n",
              "std                0.296254                   0.227715   \n",
              "min                0.000000                   0.000000   \n",
              "25%                1.000000                   1.000000   \n",
              "50%                1.000000                   1.000000   \n",
              "75%                1.000000                   1.000000   \n",
              "max                1.000000                   1.000000   \n",
              "\n",
              "       ChronicCond_Osteoporasis  ChronicCond_rheumatoidarthritis  \\\n",
              "count              16387.000000                     16387.000000   \n",
              "mean                   0.389638                         0.392079   \n",
              "std                    0.487683                         0.488229   \n",
              "min                    0.000000                         0.000000   \n",
              "25%                    0.000000                         0.000000   \n",
              "50%                    0.000000                         0.000000   \n",
              "75%                    1.000000                         1.000000   \n",
              "max                    1.000000                         1.000000   \n",
              "\n",
              "       ChronicCond_stroke  IPAnnualReimbursementAmt  IPAnnualDeductibleAmt  \\\n",
              "count        16387.000000              16387.000000           16387.000000   \n",
              "mean             0.247574              56207.274669            3095.962775   \n",
              "std              0.431616              19173.837626            2952.669423   \n",
              "min              0.000000              33000.000000               0.000000   \n",
              "25%              0.000000              43000.000000            1068.000000   \n",
              "50%              0.000000              51080.000000            2136.000000   \n",
              "75%              0.000000              62000.000000            3204.000000   \n",
              "max              1.000000             161470.000000           38272.000000   \n",
              "\n",
              "       OPAnnualReimbursementAmt  OPAnnualDeductibleAmt           Age  \\\n",
              "count              16387.000000           16387.000000  16387.000000   \n",
              "mean                4882.924879            1288.550925     84.338805   \n",
              "std                 8250.938820            1783.735416     13.353421   \n",
              "min                  -60.000000               0.000000     36.000000   \n",
              "25%                  650.000000             200.000000     78.000000   \n",
              "50%                 1860.000000             590.000000     85.000000   \n",
              "75%                 4775.000000            1470.000000     94.000000   \n",
              "max               102960.000000            9950.000000    111.000000   \n",
              "\n",
              "          DeadOrNot      Gender_2        Race_2        Race_3        Race_5  \\\n",
              "count  16387.000000  16387.000000  16387.000000  16387.000000  16387.000000   \n",
              "mean       0.005919      0.568621      0.121194      0.032099      0.018551   \n",
              "std        0.076711      0.495284      0.326362      0.176267      0.134938   \n",
              "min        0.000000      0.000000      0.000000      0.000000      0.000000   \n",
              "25%        0.000000      0.000000      0.000000      0.000000      0.000000   \n",
              "50%        0.000000      1.000000      0.000000      0.000000      0.000000   \n",
              "75%        0.000000      1.000000      0.000000      0.000000      0.000000   \n",
              "max        1.000000      1.000000      1.000000      1.000000      1.000000   \n",
              "\n",
              "       cluster_pca  \n",
              "count      16387.0  \n",
              "mean           2.0  \n",
              "std            0.0  \n",
              "min            2.0  \n",
              "25%            2.0  \n",
              "50%            2.0  \n",
              "75%            2.0  \n",
              "max            2.0  "
            ],
            "text/html": [
              "\n",
              "  <div id=\"df-24b45160-cb5d-4cfb-a4c7-a3e83a58e108\">\n",
              "    <div class=\"colab-df-container\">\n",
              "      <div>\n",
              "<style scoped>\n",
              "    .dataframe tbody tr th:only-of-type {\n",
              "        vertical-align: middle;\n",
              "    }\n",
              "\n",
              "    .dataframe tbody tr th {\n",
              "        vertical-align: top;\n",
              "    }\n",
              "\n",
              "    .dataframe thead th {\n",
              "        text-align: right;\n",
              "    }\n",
              "</style>\n",
              "<table border=\"1\" class=\"dataframe\">\n",
              "  <thead>\n",
              "    <tr style=\"text-align: right;\">\n",
              "      <th></th>\n",
              "      <th>InscClaimAmtReimbursed</th>\n",
              "      <th>DeductibleAmtPaid</th>\n",
              "      <th>AdmittedDays</th>\n",
              "      <th>NoOfMonths_PartACov</th>\n",
              "      <th>NoOfMonths_PartBCov</th>\n",
              "      <th>ChronicCond_Alzheimer</th>\n",
              "      <th>ChronicCond_Heartfailure</th>\n",
              "      <th>ChronicCond_KidneyDisease</th>\n",
              "      <th>ChronicCond_Cancer</th>\n",
              "      <th>ChronicCond_ObstrPulmonary</th>\n",
              "      <th>ChronicCond_Depression</th>\n",
              "      <th>ChronicCond_Diabetes</th>\n",
              "      <th>ChronicCond_IschemicHeart</th>\n",
              "      <th>ChronicCond_Osteoporasis</th>\n",
              "      <th>ChronicCond_rheumatoidarthritis</th>\n",
              "      <th>ChronicCond_stroke</th>\n",
              "      <th>IPAnnualReimbursementAmt</th>\n",
              "      <th>IPAnnualDeductibleAmt</th>\n",
              "      <th>OPAnnualReimbursementAmt</th>\n",
              "      <th>OPAnnualDeductibleAmt</th>\n",
              "      <th>Age</th>\n",
              "      <th>DeadOrNot</th>\n",
              "      <th>Gender_2</th>\n",
              "      <th>Race_2</th>\n",
              "      <th>Race_3</th>\n",
              "      <th>Race_5</th>\n",
              "      <th>cluster_pca</th>\n",
              "    </tr>\n",
              "  </thead>\n",
              "  <tbody>\n",
              "    <tr>\n",
              "      <th>count</th>\n",
              "      <td>16387.000000</td>\n",
              "      <td>16387.000000</td>\n",
              "      <td>16387.000000</td>\n",
              "      <td>16387.000000</td>\n",
              "      <td>16387.000000</td>\n",
              "      <td>16387.000000</td>\n",
              "      <td>16387.000000</td>\n",
              "      <td>16387.000000</td>\n",
              "      <td>16387.000000</td>\n",
              "      <td>16387.000000</td>\n",
              "      <td>16387.000000</td>\n",
              "      <td>16387.000000</td>\n",
              "      <td>16387.000000</td>\n",
              "      <td>16387.000000</td>\n",
              "      <td>16387.000000</td>\n",
              "      <td>16387.000000</td>\n",
              "      <td>16387.000000</td>\n",
              "      <td>16387.000000</td>\n",
              "      <td>16387.000000</td>\n",
              "      <td>16387.000000</td>\n",
              "      <td>16387.000000</td>\n",
              "      <td>16387.000000</td>\n",
              "      <td>16387.000000</td>\n",
              "      <td>16387.000000</td>\n",
              "      <td>16387.000000</td>\n",
              "      <td>16387.000000</td>\n",
              "      <td>16387.0</td>\n",
              "    </tr>\n",
              "    <tr>\n",
              "      <th>mean</th>\n",
              "      <td>7679.933484</td>\n",
              "      <td>298.158906</td>\n",
              "      <td>2.919876</td>\n",
              "      <td>11.917984</td>\n",
              "      <td>11.958687</td>\n",
              "      <td>0.582474</td>\n",
              "      <td>0.852566</td>\n",
              "      <td>0.819552</td>\n",
              "      <td>0.245194</td>\n",
              "      <td>0.628669</td>\n",
              "      <td>0.576066</td>\n",
              "      <td>0.902789</td>\n",
              "      <td>0.945139</td>\n",
              "      <td>0.389638</td>\n",
              "      <td>0.392079</td>\n",
              "      <td>0.247574</td>\n",
              "      <td>56207.274669</td>\n",
              "      <td>3095.962775</td>\n",
              "      <td>4882.924879</td>\n",
              "      <td>1288.550925</td>\n",
              "      <td>84.338805</td>\n",
              "      <td>0.005919</td>\n",
              "      <td>0.568621</td>\n",
              "      <td>0.121194</td>\n",
              "      <td>0.032099</td>\n",
              "      <td>0.018551</td>\n",
              "      <td>2.0</td>\n",
              "    </tr>\n",
              "    <tr>\n",
              "      <th>std</th>\n",
              "      <td>15595.960656</td>\n",
              "      <td>477.168843</td>\n",
              "      <td>6.314482</td>\n",
              "      <td>0.961665</td>\n",
              "      <td>0.649622</td>\n",
              "      <td>0.493166</td>\n",
              "      <td>0.354549</td>\n",
              "      <td>0.384572</td>\n",
              "      <td>0.430216</td>\n",
              "      <td>0.483175</td>\n",
              "      <td>0.494195</td>\n",
              "      <td>0.296254</td>\n",
              "      <td>0.227715</td>\n",
              "      <td>0.487683</td>\n",
              "      <td>0.488229</td>\n",
              "      <td>0.431616</td>\n",
              "      <td>19173.837626</td>\n",
              "      <td>2952.669423</td>\n",
              "      <td>8250.938820</td>\n",
              "      <td>1783.735416</td>\n",
              "      <td>13.353421</td>\n",
              "      <td>0.076711</td>\n",
              "      <td>0.495284</td>\n",
              "      <td>0.326362</td>\n",
              "      <td>0.176267</td>\n",
              "      <td>0.134938</td>\n",
              "      <td>0.0</td>\n",
              "    </tr>\n",
              "    <tr>\n",
              "      <th>min</th>\n",
              "      <td>0.000000</td>\n",
              "      <td>0.000000</td>\n",
              "      <td>0.000000</td>\n",
              "      <td>0.000000</td>\n",
              "      <td>0.000000</td>\n",
              "      <td>0.000000</td>\n",
              "      <td>0.000000</td>\n",
              "      <td>0.000000</td>\n",
              "      <td>0.000000</td>\n",
              "      <td>0.000000</td>\n",
              "      <td>0.000000</td>\n",
              "      <td>0.000000</td>\n",
              "      <td>0.000000</td>\n",
              "      <td>0.000000</td>\n",
              "      <td>0.000000</td>\n",
              "      <td>0.000000</td>\n",
              "      <td>33000.000000</td>\n",
              "      <td>0.000000</td>\n",
              "      <td>-60.000000</td>\n",
              "      <td>0.000000</td>\n",
              "      <td>36.000000</td>\n",
              "      <td>0.000000</td>\n",
              "      <td>0.000000</td>\n",
              "      <td>0.000000</td>\n",
              "      <td>0.000000</td>\n",
              "      <td>0.000000</td>\n",
              "      <td>2.0</td>\n",
              "    </tr>\n",
              "    <tr>\n",
              "      <th>25%</th>\n",
              "      <td>60.000000</td>\n",
              "      <td>0.000000</td>\n",
              "      <td>0.000000</td>\n",
              "      <td>12.000000</td>\n",
              "      <td>12.000000</td>\n",
              "      <td>0.000000</td>\n",
              "      <td>1.000000</td>\n",
              "      <td>1.000000</td>\n",
              "      <td>0.000000</td>\n",
              "      <td>0.000000</td>\n",
              "      <td>0.000000</td>\n",
              "      <td>1.000000</td>\n",
              "      <td>1.000000</td>\n",
              "      <td>0.000000</td>\n",
              "      <td>0.000000</td>\n",
              "      <td>0.000000</td>\n",
              "      <td>43000.000000</td>\n",
              "      <td>1068.000000</td>\n",
              "      <td>650.000000</td>\n",
              "      <td>200.000000</td>\n",
              "      <td>78.000000</td>\n",
              "      <td>0.000000</td>\n",
              "      <td>0.000000</td>\n",
              "      <td>0.000000</td>\n",
              "      <td>0.000000</td>\n",
              "      <td>0.000000</td>\n",
              "      <td>2.0</td>\n",
              "    </tr>\n",
              "    <tr>\n",
              "      <th>50%</th>\n",
              "      <td>300.000000</td>\n",
              "      <td>0.000000</td>\n",
              "      <td>0.000000</td>\n",
              "      <td>12.000000</td>\n",
              "      <td>12.000000</td>\n",
              "      <td>1.000000</td>\n",
              "      <td>1.000000</td>\n",
              "      <td>1.000000</td>\n",
              "      <td>0.000000</td>\n",
              "      <td>1.000000</td>\n",
              "      <td>1.000000</td>\n",
              "      <td>1.000000</td>\n",
              "      <td>1.000000</td>\n",
              "      <td>0.000000</td>\n",
              "      <td>0.000000</td>\n",
              "      <td>0.000000</td>\n",
              "      <td>51080.000000</td>\n",
              "      <td>2136.000000</td>\n",
              "      <td>1860.000000</td>\n",
              "      <td>590.000000</td>\n",
              "      <td>85.000000</td>\n",
              "      <td>0.000000</td>\n",
              "      <td>1.000000</td>\n",
              "      <td>0.000000</td>\n",
              "      <td>0.000000</td>\n",
              "      <td>0.000000</td>\n",
              "      <td>2.0</td>\n",
              "    </tr>\n",
              "    <tr>\n",
              "      <th>75%</th>\n",
              "      <td>6000.000000</td>\n",
              "      <td>1068.000000</td>\n",
              "      <td>3.000000</td>\n",
              "      <td>12.000000</td>\n",
              "      <td>12.000000</td>\n",
              "      <td>1.000000</td>\n",
              "      <td>1.000000</td>\n",
              "      <td>1.000000</td>\n",
              "      <td>0.000000</td>\n",
              "      <td>1.000000</td>\n",
              "      <td>1.000000</td>\n",
              "      <td>1.000000</td>\n",
              "      <td>1.000000</td>\n",
              "      <td>1.000000</td>\n",
              "      <td>1.000000</td>\n",
              "      <td>0.000000</td>\n",
              "      <td>62000.000000</td>\n",
              "      <td>3204.000000</td>\n",
              "      <td>4775.000000</td>\n",
              "      <td>1470.000000</td>\n",
              "      <td>94.000000</td>\n",
              "      <td>0.000000</td>\n",
              "      <td>1.000000</td>\n",
              "      <td>0.000000</td>\n",
              "      <td>0.000000</td>\n",
              "      <td>0.000000</td>\n",
              "      <td>2.0</td>\n",
              "    </tr>\n",
              "    <tr>\n",
              "      <th>max</th>\n",
              "      <td>125000.000000</td>\n",
              "      <td>1068.000000</td>\n",
              "      <td>36.000000</td>\n",
              "      <td>12.000000</td>\n",
              "      <td>12.000000</td>\n",
              "      <td>1.000000</td>\n",
              "      <td>1.000000</td>\n",
              "      <td>1.000000</td>\n",
              "      <td>1.000000</td>\n",
              "      <td>1.000000</td>\n",
              "      <td>1.000000</td>\n",
              "      <td>1.000000</td>\n",
              "      <td>1.000000</td>\n",
              "      <td>1.000000</td>\n",
              "      <td>1.000000</td>\n",
              "      <td>1.000000</td>\n",
              "      <td>161470.000000</td>\n",
              "      <td>38272.000000</td>\n",
              "      <td>102960.000000</td>\n",
              "      <td>9950.000000</td>\n",
              "      <td>111.000000</td>\n",
              "      <td>1.000000</td>\n",
              "      <td>1.000000</td>\n",
              "      <td>1.000000</td>\n",
              "      <td>1.000000</td>\n",
              "      <td>1.000000</td>\n",
              "      <td>2.0</td>\n",
              "    </tr>\n",
              "  </tbody>\n",
              "</table>\n",
              "</div>\n",
              "      <button class=\"colab-df-convert\" onclick=\"convertToInteractive('df-24b45160-cb5d-4cfb-a4c7-a3e83a58e108')\"\n",
              "              title=\"Convert this dataframe to an interactive table.\"\n",
              "              style=\"display:none;\">\n",
              "        \n",
              "  <svg xmlns=\"http://www.w3.org/2000/svg\" height=\"24px\"viewBox=\"0 0 24 24\"\n",
              "       width=\"24px\">\n",
              "    <path d=\"M0 0h24v24H0V0z\" fill=\"none\"/>\n",
              "    <path d=\"M18.56 5.44l.94 2.06.94-2.06 2.06-.94-2.06-.94-.94-2.06-.94 2.06-2.06.94zm-11 1L8.5 8.5l.94-2.06 2.06-.94-2.06-.94L8.5 2.5l-.94 2.06-2.06.94zm10 10l.94 2.06.94-2.06 2.06-.94-2.06-.94-.94-2.06-.94 2.06-2.06.94z\"/><path d=\"M17.41 7.96l-1.37-1.37c-.4-.4-.92-.59-1.43-.59-.52 0-1.04.2-1.43.59L10.3 9.45l-7.72 7.72c-.78.78-.78 2.05 0 2.83L4 21.41c.39.39.9.59 1.41.59.51 0 1.02-.2 1.41-.59l7.78-7.78 2.81-2.81c.8-.78.8-2.07 0-2.86zM5.41 20L4 18.59l7.72-7.72 1.47 1.35L5.41 20z\"/>\n",
              "  </svg>\n",
              "      </button>\n",
              "      \n",
              "  <style>\n",
              "    .colab-df-container {\n",
              "      display:flex;\n",
              "      flex-wrap:wrap;\n",
              "      gap: 12px;\n",
              "    }\n",
              "\n",
              "    .colab-df-convert {\n",
              "      background-color: #E8F0FE;\n",
              "      border: none;\n",
              "      border-radius: 50%;\n",
              "      cursor: pointer;\n",
              "      display: none;\n",
              "      fill: #1967D2;\n",
              "      height: 32px;\n",
              "      padding: 0 0 0 0;\n",
              "      width: 32px;\n",
              "    }\n",
              "\n",
              "    .colab-df-convert:hover {\n",
              "      background-color: #E2EBFA;\n",
              "      box-shadow: 0px 1px 2px rgba(60, 64, 67, 0.3), 0px 1px 3px 1px rgba(60, 64, 67, 0.15);\n",
              "      fill: #174EA6;\n",
              "    }\n",
              "\n",
              "    [theme=dark] .colab-df-convert {\n",
              "      background-color: #3B4455;\n",
              "      fill: #D2E3FC;\n",
              "    }\n",
              "\n",
              "    [theme=dark] .colab-df-convert:hover {\n",
              "      background-color: #434B5C;\n",
              "      box-shadow: 0px 1px 3px 1px rgba(0, 0, 0, 0.15);\n",
              "      filter: drop-shadow(0px 1px 2px rgba(0, 0, 0, 0.3));\n",
              "      fill: #FFFFFF;\n",
              "    }\n",
              "  </style>\n",
              "\n",
              "      <script>\n",
              "        const buttonEl =\n",
              "          document.querySelector('#df-24b45160-cb5d-4cfb-a4c7-a3e83a58e108 button.colab-df-convert');\n",
              "        buttonEl.style.display =\n",
              "          google.colab.kernel.accessAllowed ? 'block' : 'none';\n",
              "\n",
              "        async function convertToInteractive(key) {\n",
              "          const element = document.querySelector('#df-24b45160-cb5d-4cfb-a4c7-a3e83a58e108');\n",
              "          const dataTable =\n",
              "            await google.colab.kernel.invokeFunction('convertToInteractive',\n",
              "                                                     [key], {});\n",
              "          if (!dataTable) return;\n",
              "\n",
              "          const docLinkHtml = 'Like what you see? Visit the ' +\n",
              "            '<a target=\"_blank\" href=https://colab.research.google.com/notebooks/data_table.ipynb>data table notebook</a>'\n",
              "            + ' to learn more about interactive tables.';\n",
              "          element.innerHTML = '';\n",
              "          dataTable['output_type'] = 'display_data';\n",
              "          await google.colab.output.renderOutput(dataTable, element);\n",
              "          const docLink = document.createElement('div');\n",
              "          docLink.innerHTML = docLinkHtml;\n",
              "          element.appendChild(docLink);\n",
              "        }\n",
              "      </script>\n",
              "    </div>\n",
              "  </div>\n",
              "  "
            ]
          },
          "metadata": {},
          "execution_count": 93
        }
      ]
    },
    {
      "cell_type": "code",
      "source": [
        "train_final.groupby('cluster_pca')['Provider'].nunique()\n"
      ],
      "metadata": {
        "colab": {
          "base_uri": "https://localhost:8080/"
        },
        "id": "OspqFevvKYNb",
        "outputId": "29aa2bb2-0fec-4609-c8a9-bd44e118b15b"
      },
      "execution_count": 94,
      "outputs": [
        {
          "output_type": "execute_result",
          "data": {
            "text/plain": [
              "cluster_pca\n",
              "0    5308\n",
              "1    4507\n",
              "2    2897\n",
              "Name: Provider, dtype: int64"
            ]
          },
          "metadata": {},
          "execution_count": 94
        }
      ]
    },
    {
      "cell_type": "code",
      "source": [
        "train_final['Provider'].nunique()"
      ],
      "metadata": {
        "colab": {
          "base_uri": "https://localhost:8080/"
        },
        "id": "7hDcX_4MLoV6",
        "outputId": "3d6bca8c-10d7-4150-df98-11ffbb72c5cd"
      },
      "execution_count": 95,
      "outputs": [
        {
          "output_type": "execute_result",
          "data": {
            "text/plain": [
              "5410"
            ]
          },
          "metadata": {},
          "execution_count": 95
        }
      ]
    },
    {
      "cell_type": "code",
      "source": [
        "df_InscClaimAmtReimbursed = train_final.groupby('cluster_pca')['InscClaimAmtReimbursed'].mean()\\\n",
        "                                       .reset_index(name='InscClaimAmtReimbursed_mean')\\\n",
        "                                       .sort_values(['InscClaimAmtReimbursed_mean'], ascending=False)\n",
        "\n",
        "df_InscClaimAmtReimbursed.head()"
      ],
      "metadata": {
        "colab": {
          "base_uri": "https://localhost:8080/",
          "height": 160
        },
        "id": "NFBpHC2dLw5e",
        "outputId": "7424619e-745e-4f04-afdb-933a1f5bb6ec"
      },
      "execution_count": 97,
      "outputs": [
        {
          "output_type": "execute_result",
          "data": {
            "text/plain": [
              "   cluster_pca  InscClaimAmtReimbursed_mean\n",
              "2            2                  7679.933484\n",
              "1            1                  2840.121371\n",
              "0            0                   403.204453"
            ],
            "text/html": [
              "\n",
              "  <div id=\"df-adad5b06-5498-4098-83ac-7f213bcc3d74\">\n",
              "    <div class=\"colab-df-container\">\n",
              "      <div>\n",
              "<style scoped>\n",
              "    .dataframe tbody tr th:only-of-type {\n",
              "        vertical-align: middle;\n",
              "    }\n",
              "\n",
              "    .dataframe tbody tr th {\n",
              "        vertical-align: top;\n",
              "    }\n",
              "\n",
              "    .dataframe thead th {\n",
              "        text-align: right;\n",
              "    }\n",
              "</style>\n",
              "<table border=\"1\" class=\"dataframe\">\n",
              "  <thead>\n",
              "    <tr style=\"text-align: right;\">\n",
              "      <th></th>\n",
              "      <th>cluster_pca</th>\n",
              "      <th>InscClaimAmtReimbursed_mean</th>\n",
              "    </tr>\n",
              "  </thead>\n",
              "  <tbody>\n",
              "    <tr>\n",
              "      <th>2</th>\n",
              "      <td>2</td>\n",
              "      <td>7679.933484</td>\n",
              "    </tr>\n",
              "    <tr>\n",
              "      <th>1</th>\n",
              "      <td>1</td>\n",
              "      <td>2840.121371</td>\n",
              "    </tr>\n",
              "    <tr>\n",
              "      <th>0</th>\n",
              "      <td>0</td>\n",
              "      <td>403.204453</td>\n",
              "    </tr>\n",
              "  </tbody>\n",
              "</table>\n",
              "</div>\n",
              "      <button class=\"colab-df-convert\" onclick=\"convertToInteractive('df-adad5b06-5498-4098-83ac-7f213bcc3d74')\"\n",
              "              title=\"Convert this dataframe to an interactive table.\"\n",
              "              style=\"display:none;\">\n",
              "        \n",
              "  <svg xmlns=\"http://www.w3.org/2000/svg\" height=\"24px\"viewBox=\"0 0 24 24\"\n",
              "       width=\"24px\">\n",
              "    <path d=\"M0 0h24v24H0V0z\" fill=\"none\"/>\n",
              "    <path d=\"M18.56 5.44l.94 2.06.94-2.06 2.06-.94-2.06-.94-.94-2.06-.94 2.06-2.06.94zm-11 1L8.5 8.5l.94-2.06 2.06-.94-2.06-.94L8.5 2.5l-.94 2.06-2.06.94zm10 10l.94 2.06.94-2.06 2.06-.94-2.06-.94-.94-2.06-.94 2.06-2.06.94z\"/><path d=\"M17.41 7.96l-1.37-1.37c-.4-.4-.92-.59-1.43-.59-.52 0-1.04.2-1.43.59L10.3 9.45l-7.72 7.72c-.78.78-.78 2.05 0 2.83L4 21.41c.39.39.9.59 1.41.59.51 0 1.02-.2 1.41-.59l7.78-7.78 2.81-2.81c.8-.78.8-2.07 0-2.86zM5.41 20L4 18.59l7.72-7.72 1.47 1.35L5.41 20z\"/>\n",
              "  </svg>\n",
              "      </button>\n",
              "      \n",
              "  <style>\n",
              "    .colab-df-container {\n",
              "      display:flex;\n",
              "      flex-wrap:wrap;\n",
              "      gap: 12px;\n",
              "    }\n",
              "\n",
              "    .colab-df-convert {\n",
              "      background-color: #E8F0FE;\n",
              "      border: none;\n",
              "      border-radius: 50%;\n",
              "      cursor: pointer;\n",
              "      display: none;\n",
              "      fill: #1967D2;\n",
              "      height: 32px;\n",
              "      padding: 0 0 0 0;\n",
              "      width: 32px;\n",
              "    }\n",
              "\n",
              "    .colab-df-convert:hover {\n",
              "      background-color: #E2EBFA;\n",
              "      box-shadow: 0px 1px 2px rgba(60, 64, 67, 0.3), 0px 1px 3px 1px rgba(60, 64, 67, 0.15);\n",
              "      fill: #174EA6;\n",
              "    }\n",
              "\n",
              "    [theme=dark] .colab-df-convert {\n",
              "      background-color: #3B4455;\n",
              "      fill: #D2E3FC;\n",
              "    }\n",
              "\n",
              "    [theme=dark] .colab-df-convert:hover {\n",
              "      background-color: #434B5C;\n",
              "      box-shadow: 0px 1px 3px 1px rgba(0, 0, 0, 0.15);\n",
              "      filter: drop-shadow(0px 1px 2px rgba(0, 0, 0, 0.3));\n",
              "      fill: #FFFFFF;\n",
              "    }\n",
              "  </style>\n",
              "\n",
              "      <script>\n",
              "        const buttonEl =\n",
              "          document.querySelector('#df-adad5b06-5498-4098-83ac-7f213bcc3d74 button.colab-df-convert');\n",
              "        buttonEl.style.display =\n",
              "          google.colab.kernel.accessAllowed ? 'block' : 'none';\n",
              "\n",
              "        async function convertToInteractive(key) {\n",
              "          const element = document.querySelector('#df-adad5b06-5498-4098-83ac-7f213bcc3d74');\n",
              "          const dataTable =\n",
              "            await google.colab.kernel.invokeFunction('convertToInteractive',\n",
              "                                                     [key], {});\n",
              "          if (!dataTable) return;\n",
              "\n",
              "          const docLinkHtml = 'Like what you see? Visit the ' +\n",
              "            '<a target=\"_blank\" href=https://colab.research.google.com/notebooks/data_table.ipynb>data table notebook</a>'\n",
              "            + ' to learn more about interactive tables.';\n",
              "          element.innerHTML = '';\n",
              "          dataTable['output_type'] = 'display_data';\n",
              "          await google.colab.output.renderOutput(dataTable, element);\n",
              "          const docLink = document.createElement('div');\n",
              "          docLink.innerHTML = docLinkHtml;\n",
              "          element.appendChild(docLink);\n",
              "        }\n",
              "      </script>\n",
              "    </div>\n",
              "  </div>\n",
              "  "
            ]
          },
          "metadata": {},
          "execution_count": 97
        }
      ]
    },
    {
      "cell_type": "code",
      "source": [
        "df_DeductibleAmtPaid = train_final.groupby('cluster_pca')['DeductibleAmtPaid'].mean()\\\n",
        "                                       .reset_index(name='DeductibleAmtPaid_mean')\\\n",
        "                                       .sort_values(['DeductibleAmtPaid_mean'], ascending=False)\n",
        "\n",
        "df_DeductibleAmtPaid.head()"
      ],
      "metadata": {
        "colab": {
          "base_uri": "https://localhost:8080/",
          "height": 160
        },
        "id": "QiD9qaNsMcG1",
        "outputId": "d9c4f809-9482-4471-d847-139b5365a836"
      },
      "execution_count": 98,
      "outputs": [
        {
          "output_type": "execute_result",
          "data": {
            "text/plain": [
              "   cluster_pca  DeductibleAmtPaid_mean\n",
              "2            2              298.158906\n",
              "1            1              250.774297\n",
              "0            0               37.339577"
            ],
            "text/html": [
              "\n",
              "  <div id=\"df-46d5660e-5ea7-45ac-8699-1c42b0a4cfbc\">\n",
              "    <div class=\"colab-df-container\">\n",
              "      <div>\n",
              "<style scoped>\n",
              "    .dataframe tbody tr th:only-of-type {\n",
              "        vertical-align: middle;\n",
              "    }\n",
              "\n",
              "    .dataframe tbody tr th {\n",
              "        vertical-align: top;\n",
              "    }\n",
              "\n",
              "    .dataframe thead th {\n",
              "        text-align: right;\n",
              "    }\n",
              "</style>\n",
              "<table border=\"1\" class=\"dataframe\">\n",
              "  <thead>\n",
              "    <tr style=\"text-align: right;\">\n",
              "      <th></th>\n",
              "      <th>cluster_pca</th>\n",
              "      <th>DeductibleAmtPaid_mean</th>\n",
              "    </tr>\n",
              "  </thead>\n",
              "  <tbody>\n",
              "    <tr>\n",
              "      <th>2</th>\n",
              "      <td>2</td>\n",
              "      <td>298.158906</td>\n",
              "    </tr>\n",
              "    <tr>\n",
              "      <th>1</th>\n",
              "      <td>1</td>\n",
              "      <td>250.774297</td>\n",
              "    </tr>\n",
              "    <tr>\n",
              "      <th>0</th>\n",
              "      <td>0</td>\n",
              "      <td>37.339577</td>\n",
              "    </tr>\n",
              "  </tbody>\n",
              "</table>\n",
              "</div>\n",
              "      <button class=\"colab-df-convert\" onclick=\"convertToInteractive('df-46d5660e-5ea7-45ac-8699-1c42b0a4cfbc')\"\n",
              "              title=\"Convert this dataframe to an interactive table.\"\n",
              "              style=\"display:none;\">\n",
              "        \n",
              "  <svg xmlns=\"http://www.w3.org/2000/svg\" height=\"24px\"viewBox=\"0 0 24 24\"\n",
              "       width=\"24px\">\n",
              "    <path d=\"M0 0h24v24H0V0z\" fill=\"none\"/>\n",
              "    <path d=\"M18.56 5.44l.94 2.06.94-2.06 2.06-.94-2.06-.94-.94-2.06-.94 2.06-2.06.94zm-11 1L8.5 8.5l.94-2.06 2.06-.94-2.06-.94L8.5 2.5l-.94 2.06-2.06.94zm10 10l.94 2.06.94-2.06 2.06-.94-2.06-.94-.94-2.06-.94 2.06-2.06.94z\"/><path d=\"M17.41 7.96l-1.37-1.37c-.4-.4-.92-.59-1.43-.59-.52 0-1.04.2-1.43.59L10.3 9.45l-7.72 7.72c-.78.78-.78 2.05 0 2.83L4 21.41c.39.39.9.59 1.41.59.51 0 1.02-.2 1.41-.59l7.78-7.78 2.81-2.81c.8-.78.8-2.07 0-2.86zM5.41 20L4 18.59l7.72-7.72 1.47 1.35L5.41 20z\"/>\n",
              "  </svg>\n",
              "      </button>\n",
              "      \n",
              "  <style>\n",
              "    .colab-df-container {\n",
              "      display:flex;\n",
              "      flex-wrap:wrap;\n",
              "      gap: 12px;\n",
              "    }\n",
              "\n",
              "    .colab-df-convert {\n",
              "      background-color: #E8F0FE;\n",
              "      border: none;\n",
              "      border-radius: 50%;\n",
              "      cursor: pointer;\n",
              "      display: none;\n",
              "      fill: #1967D2;\n",
              "      height: 32px;\n",
              "      padding: 0 0 0 0;\n",
              "      width: 32px;\n",
              "    }\n",
              "\n",
              "    .colab-df-convert:hover {\n",
              "      background-color: #E2EBFA;\n",
              "      box-shadow: 0px 1px 2px rgba(60, 64, 67, 0.3), 0px 1px 3px 1px rgba(60, 64, 67, 0.15);\n",
              "      fill: #174EA6;\n",
              "    }\n",
              "\n",
              "    [theme=dark] .colab-df-convert {\n",
              "      background-color: #3B4455;\n",
              "      fill: #D2E3FC;\n",
              "    }\n",
              "\n",
              "    [theme=dark] .colab-df-convert:hover {\n",
              "      background-color: #434B5C;\n",
              "      box-shadow: 0px 1px 3px 1px rgba(0, 0, 0, 0.15);\n",
              "      filter: drop-shadow(0px 1px 2px rgba(0, 0, 0, 0.3));\n",
              "      fill: #FFFFFF;\n",
              "    }\n",
              "  </style>\n",
              "\n",
              "      <script>\n",
              "        const buttonEl =\n",
              "          document.querySelector('#df-46d5660e-5ea7-45ac-8699-1c42b0a4cfbc button.colab-df-convert');\n",
              "        buttonEl.style.display =\n",
              "          google.colab.kernel.accessAllowed ? 'block' : 'none';\n",
              "\n",
              "        async function convertToInteractive(key) {\n",
              "          const element = document.querySelector('#df-46d5660e-5ea7-45ac-8699-1c42b0a4cfbc');\n",
              "          const dataTable =\n",
              "            await google.colab.kernel.invokeFunction('convertToInteractive',\n",
              "                                                     [key], {});\n",
              "          if (!dataTable) return;\n",
              "\n",
              "          const docLinkHtml = 'Like what you see? Visit the ' +\n",
              "            '<a target=\"_blank\" href=https://colab.research.google.com/notebooks/data_table.ipynb>data table notebook</a>'\n",
              "            + ' to learn more about interactive tables.';\n",
              "          element.innerHTML = '';\n",
              "          dataTable['output_type'] = 'display_data';\n",
              "          await google.colab.output.renderOutput(dataTable, element);\n",
              "          const docLink = document.createElement('div');\n",
              "          docLink.innerHTML = docLinkHtml;\n",
              "          element.appendChild(docLink);\n",
              "        }\n",
              "      </script>\n",
              "    </div>\n",
              "  </div>\n",
              "  "
            ]
          },
          "metadata": {},
          "execution_count": 98
        }
      ]
    },
    {
      "cell_type": "code",
      "source": [
        "df_ChronicCond_Heartfailure = train_final.groupby('cluster_pca')['ChronicCond_Heartfailure'].mean()\\\n",
        "                                       .reset_index(name='ChronicCond_Heartfailure_mean')\\\n",
        "                                       .sort_values(['ChronicCond_Heartfailure_mean'], ascending=False)\n",
        "\n",
        "df_ChronicCond_Heartfailure.head()"
      ],
      "metadata": {
        "colab": {
          "base_uri": "https://localhost:8080/",
          "height": 160
        },
        "id": "0X5vp940N_oW",
        "outputId": "fb7a1f85-bab6-4ffb-e619-10ff13e260f8"
      },
      "execution_count": 104,
      "outputs": [
        {
          "output_type": "execute_result",
          "data": {
            "text/plain": [
              "   cluster_pca  ChronicCond_Heartfailure_mean\n",
              "2            2                       0.852566\n",
              "1            1                       0.772012\n",
              "0            0                       0.546205"
            ],
            "text/html": [
              "\n",
              "  <div id=\"df-c90f3d29-8531-4fb0-8b10-26acdc1d16aa\">\n",
              "    <div class=\"colab-df-container\">\n",
              "      <div>\n",
              "<style scoped>\n",
              "    .dataframe tbody tr th:only-of-type {\n",
              "        vertical-align: middle;\n",
              "    }\n",
              "\n",
              "    .dataframe tbody tr th {\n",
              "        vertical-align: top;\n",
              "    }\n",
              "\n",
              "    .dataframe thead th {\n",
              "        text-align: right;\n",
              "    }\n",
              "</style>\n",
              "<table border=\"1\" class=\"dataframe\">\n",
              "  <thead>\n",
              "    <tr style=\"text-align: right;\">\n",
              "      <th></th>\n",
              "      <th>cluster_pca</th>\n",
              "      <th>ChronicCond_Heartfailure_mean</th>\n",
              "    </tr>\n",
              "  </thead>\n",
              "  <tbody>\n",
              "    <tr>\n",
              "      <th>2</th>\n",
              "      <td>2</td>\n",
              "      <td>0.852566</td>\n",
              "    </tr>\n",
              "    <tr>\n",
              "      <th>1</th>\n",
              "      <td>1</td>\n",
              "      <td>0.772012</td>\n",
              "    </tr>\n",
              "    <tr>\n",
              "      <th>0</th>\n",
              "      <td>0</td>\n",
              "      <td>0.546205</td>\n",
              "    </tr>\n",
              "  </tbody>\n",
              "</table>\n",
              "</div>\n",
              "      <button class=\"colab-df-convert\" onclick=\"convertToInteractive('df-c90f3d29-8531-4fb0-8b10-26acdc1d16aa')\"\n",
              "              title=\"Convert this dataframe to an interactive table.\"\n",
              "              style=\"display:none;\">\n",
              "        \n",
              "  <svg xmlns=\"http://www.w3.org/2000/svg\" height=\"24px\"viewBox=\"0 0 24 24\"\n",
              "       width=\"24px\">\n",
              "    <path d=\"M0 0h24v24H0V0z\" fill=\"none\"/>\n",
              "    <path d=\"M18.56 5.44l.94 2.06.94-2.06 2.06-.94-2.06-.94-.94-2.06-.94 2.06-2.06.94zm-11 1L8.5 8.5l.94-2.06 2.06-.94-2.06-.94L8.5 2.5l-.94 2.06-2.06.94zm10 10l.94 2.06.94-2.06 2.06-.94-2.06-.94-.94-2.06-.94 2.06-2.06.94z\"/><path d=\"M17.41 7.96l-1.37-1.37c-.4-.4-.92-.59-1.43-.59-.52 0-1.04.2-1.43.59L10.3 9.45l-7.72 7.72c-.78.78-.78 2.05 0 2.83L4 21.41c.39.39.9.59 1.41.59.51 0 1.02-.2 1.41-.59l7.78-7.78 2.81-2.81c.8-.78.8-2.07 0-2.86zM5.41 20L4 18.59l7.72-7.72 1.47 1.35L5.41 20z\"/>\n",
              "  </svg>\n",
              "      </button>\n",
              "      \n",
              "  <style>\n",
              "    .colab-df-container {\n",
              "      display:flex;\n",
              "      flex-wrap:wrap;\n",
              "      gap: 12px;\n",
              "    }\n",
              "\n",
              "    .colab-df-convert {\n",
              "      background-color: #E8F0FE;\n",
              "      border: none;\n",
              "      border-radius: 50%;\n",
              "      cursor: pointer;\n",
              "      display: none;\n",
              "      fill: #1967D2;\n",
              "      height: 32px;\n",
              "      padding: 0 0 0 0;\n",
              "      width: 32px;\n",
              "    }\n",
              "\n",
              "    .colab-df-convert:hover {\n",
              "      background-color: #E2EBFA;\n",
              "      box-shadow: 0px 1px 2px rgba(60, 64, 67, 0.3), 0px 1px 3px 1px rgba(60, 64, 67, 0.15);\n",
              "      fill: #174EA6;\n",
              "    }\n",
              "\n",
              "    [theme=dark] .colab-df-convert {\n",
              "      background-color: #3B4455;\n",
              "      fill: #D2E3FC;\n",
              "    }\n",
              "\n",
              "    [theme=dark] .colab-df-convert:hover {\n",
              "      background-color: #434B5C;\n",
              "      box-shadow: 0px 1px 3px 1px rgba(0, 0, 0, 0.15);\n",
              "      filter: drop-shadow(0px 1px 2px rgba(0, 0, 0, 0.3));\n",
              "      fill: #FFFFFF;\n",
              "    }\n",
              "  </style>\n",
              "\n",
              "      <script>\n",
              "        const buttonEl =\n",
              "          document.querySelector('#df-c90f3d29-8531-4fb0-8b10-26acdc1d16aa button.colab-df-convert');\n",
              "        buttonEl.style.display =\n",
              "          google.colab.kernel.accessAllowed ? 'block' : 'none';\n",
              "\n",
              "        async function convertToInteractive(key) {\n",
              "          const element = document.querySelector('#df-c90f3d29-8531-4fb0-8b10-26acdc1d16aa');\n",
              "          const dataTable =\n",
              "            await google.colab.kernel.invokeFunction('convertToInteractive',\n",
              "                                                     [key], {});\n",
              "          if (!dataTable) return;\n",
              "\n",
              "          const docLinkHtml = 'Like what you see? Visit the ' +\n",
              "            '<a target=\"_blank\" href=https://colab.research.google.com/notebooks/data_table.ipynb>data table notebook</a>'\n",
              "            + ' to learn more about interactive tables.';\n",
              "          element.innerHTML = '';\n",
              "          dataTable['output_type'] = 'display_data';\n",
              "          await google.colab.output.renderOutput(dataTable, element);\n",
              "          const docLink = document.createElement('div');\n",
              "          docLink.innerHTML = docLinkHtml;\n",
              "          element.appendChild(docLink);\n",
              "        }\n",
              "      </script>\n",
              "    </div>\n",
              "  </div>\n",
              "  "
            ]
          },
          "metadata": {},
          "execution_count": 104
        }
      ]
    },
    {
      "cell_type": "code",
      "source": [
        "df_ChronicCond_KidneyDisease = train_final.groupby('cluster_pca')['ChronicCond_KidneyDisease'].mean()\\\n",
        "                                       .reset_index(name='ChronicCond_KidneyDisease_mean')\\\n",
        "                                       .sort_values(['ChronicCond_KidneyDisease_mean'], ascending=False)\n",
        "\n",
        "df_ChronicCond_KidneyDisease.head()"
      ],
      "metadata": {
        "colab": {
          "base_uri": "https://localhost:8080/",
          "height": 160
        },
        "id": "dG5nARbfOmkd",
        "outputId": "f36d94b9-362b-40ec-db76-63f8b2f54364"
      },
      "execution_count": 109,
      "outputs": [
        {
          "output_type": "execute_result",
          "data": {
            "text/plain": [
              "   cluster_pca  ChronicCond_KidneyDisease_mean\n",
              "2            2                        0.819552\n",
              "1            1                        0.679565\n",
              "0            0                        0.346073"
            ],
            "text/html": [
              "\n",
              "  <div id=\"df-a250f013-9bc8-4928-8572-2de0ccb2effb\">\n",
              "    <div class=\"colab-df-container\">\n",
              "      <div>\n",
              "<style scoped>\n",
              "    .dataframe tbody tr th:only-of-type {\n",
              "        vertical-align: middle;\n",
              "    }\n",
              "\n",
              "    .dataframe tbody tr th {\n",
              "        vertical-align: top;\n",
              "    }\n",
              "\n",
              "    .dataframe thead th {\n",
              "        text-align: right;\n",
              "    }\n",
              "</style>\n",
              "<table border=\"1\" class=\"dataframe\">\n",
              "  <thead>\n",
              "    <tr style=\"text-align: right;\">\n",
              "      <th></th>\n",
              "      <th>cluster_pca</th>\n",
              "      <th>ChronicCond_KidneyDisease_mean</th>\n",
              "    </tr>\n",
              "  </thead>\n",
              "  <tbody>\n",
              "    <tr>\n",
              "      <th>2</th>\n",
              "      <td>2</td>\n",
              "      <td>0.819552</td>\n",
              "    </tr>\n",
              "    <tr>\n",
              "      <th>1</th>\n",
              "      <td>1</td>\n",
              "      <td>0.679565</td>\n",
              "    </tr>\n",
              "    <tr>\n",
              "      <th>0</th>\n",
              "      <td>0</td>\n",
              "      <td>0.346073</td>\n",
              "    </tr>\n",
              "  </tbody>\n",
              "</table>\n",
              "</div>\n",
              "      <button class=\"colab-df-convert\" onclick=\"convertToInteractive('df-a250f013-9bc8-4928-8572-2de0ccb2effb')\"\n",
              "              title=\"Convert this dataframe to an interactive table.\"\n",
              "              style=\"display:none;\">\n",
              "        \n",
              "  <svg xmlns=\"http://www.w3.org/2000/svg\" height=\"24px\"viewBox=\"0 0 24 24\"\n",
              "       width=\"24px\">\n",
              "    <path d=\"M0 0h24v24H0V0z\" fill=\"none\"/>\n",
              "    <path d=\"M18.56 5.44l.94 2.06.94-2.06 2.06-.94-2.06-.94-.94-2.06-.94 2.06-2.06.94zm-11 1L8.5 8.5l.94-2.06 2.06-.94-2.06-.94L8.5 2.5l-.94 2.06-2.06.94zm10 10l.94 2.06.94-2.06 2.06-.94-2.06-.94-.94-2.06-.94 2.06-2.06.94z\"/><path d=\"M17.41 7.96l-1.37-1.37c-.4-.4-.92-.59-1.43-.59-.52 0-1.04.2-1.43.59L10.3 9.45l-7.72 7.72c-.78.78-.78 2.05 0 2.83L4 21.41c.39.39.9.59 1.41.59.51 0 1.02-.2 1.41-.59l7.78-7.78 2.81-2.81c.8-.78.8-2.07 0-2.86zM5.41 20L4 18.59l7.72-7.72 1.47 1.35L5.41 20z\"/>\n",
              "  </svg>\n",
              "      </button>\n",
              "      \n",
              "  <style>\n",
              "    .colab-df-container {\n",
              "      display:flex;\n",
              "      flex-wrap:wrap;\n",
              "      gap: 12px;\n",
              "    }\n",
              "\n",
              "    .colab-df-convert {\n",
              "      background-color: #E8F0FE;\n",
              "      border: none;\n",
              "      border-radius: 50%;\n",
              "      cursor: pointer;\n",
              "      display: none;\n",
              "      fill: #1967D2;\n",
              "      height: 32px;\n",
              "      padding: 0 0 0 0;\n",
              "      width: 32px;\n",
              "    }\n",
              "\n",
              "    .colab-df-convert:hover {\n",
              "      background-color: #E2EBFA;\n",
              "      box-shadow: 0px 1px 2px rgba(60, 64, 67, 0.3), 0px 1px 3px 1px rgba(60, 64, 67, 0.15);\n",
              "      fill: #174EA6;\n",
              "    }\n",
              "\n",
              "    [theme=dark] .colab-df-convert {\n",
              "      background-color: #3B4455;\n",
              "      fill: #D2E3FC;\n",
              "    }\n",
              "\n",
              "    [theme=dark] .colab-df-convert:hover {\n",
              "      background-color: #434B5C;\n",
              "      box-shadow: 0px 1px 3px 1px rgba(0, 0, 0, 0.15);\n",
              "      filter: drop-shadow(0px 1px 2px rgba(0, 0, 0, 0.3));\n",
              "      fill: #FFFFFF;\n",
              "    }\n",
              "  </style>\n",
              "\n",
              "      <script>\n",
              "        const buttonEl =\n",
              "          document.querySelector('#df-a250f013-9bc8-4928-8572-2de0ccb2effb button.colab-df-convert');\n",
              "        buttonEl.style.display =\n",
              "          google.colab.kernel.accessAllowed ? 'block' : 'none';\n",
              "\n",
              "        async function convertToInteractive(key) {\n",
              "          const element = document.querySelector('#df-a250f013-9bc8-4928-8572-2de0ccb2effb');\n",
              "          const dataTable =\n",
              "            await google.colab.kernel.invokeFunction('convertToInteractive',\n",
              "                                                     [key], {});\n",
              "          if (!dataTable) return;\n",
              "\n",
              "          const docLinkHtml = 'Like what you see? Visit the ' +\n",
              "            '<a target=\"_blank\" href=https://colab.research.google.com/notebooks/data_table.ipynb>data table notebook</a>'\n",
              "            + ' to learn more about interactive tables.';\n",
              "          element.innerHTML = '';\n",
              "          dataTable['output_type'] = 'display_data';\n",
              "          await google.colab.output.renderOutput(dataTable, element);\n",
              "          const docLink = document.createElement('div');\n",
              "          docLink.innerHTML = docLinkHtml;\n",
              "          element.appendChild(docLink);\n",
              "        }\n",
              "      </script>\n",
              "    </div>\n",
              "  </div>\n",
              "  "
            ]
          },
          "metadata": {},
          "execution_count": 109
        }
      ]
    },
    {
      "cell_type": "code",
      "source": [
        "df_ChronicCond_ObstrPulmonary = train_final.groupby('cluster_pca')['ChronicCond_ObstrPulmonary'].mean()\\\n",
        "                                       .reset_index(name='ChronicCond_ObstrPulmonary_mean')\\\n",
        "                                       .sort_values(['ChronicCond_ObstrPulmonary_mean'], ascending=False)\n",
        "\n",
        "df_ChronicCond_ObstrPulmonary.head()"
      ],
      "metadata": {
        "colab": {
          "base_uri": "https://localhost:8080/",
          "height": 160
        },
        "id": "bVOt0i50X6ij",
        "outputId": "e7b48e9a-dae5-47b5-9636-57951a846ce8"
      },
      "execution_count": 110,
      "outputs": [
        {
          "output_type": "execute_result",
          "data": {
            "text/plain": [
              "   cluster_pca  ChronicCond_ObstrPulmonary_mean\n",
              "2            2                         0.628669\n",
              "1            1                         0.508566\n",
              "0            0                         0.264085"
            ],
            "text/html": [
              "\n",
              "  <div id=\"df-9e52b4ce-ac37-4319-b513-c1cf5e7ca112\">\n",
              "    <div class=\"colab-df-container\">\n",
              "      <div>\n",
              "<style scoped>\n",
              "    .dataframe tbody tr th:only-of-type {\n",
              "        vertical-align: middle;\n",
              "    }\n",
              "\n",
              "    .dataframe tbody tr th {\n",
              "        vertical-align: top;\n",
              "    }\n",
              "\n",
              "    .dataframe thead th {\n",
              "        text-align: right;\n",
              "    }\n",
              "</style>\n",
              "<table border=\"1\" class=\"dataframe\">\n",
              "  <thead>\n",
              "    <tr style=\"text-align: right;\">\n",
              "      <th></th>\n",
              "      <th>cluster_pca</th>\n",
              "      <th>ChronicCond_ObstrPulmonary_mean</th>\n",
              "    </tr>\n",
              "  </thead>\n",
              "  <tbody>\n",
              "    <tr>\n",
              "      <th>2</th>\n",
              "      <td>2</td>\n",
              "      <td>0.628669</td>\n",
              "    </tr>\n",
              "    <tr>\n",
              "      <th>1</th>\n",
              "      <td>1</td>\n",
              "      <td>0.508566</td>\n",
              "    </tr>\n",
              "    <tr>\n",
              "      <th>0</th>\n",
              "      <td>0</td>\n",
              "      <td>0.264085</td>\n",
              "    </tr>\n",
              "  </tbody>\n",
              "</table>\n",
              "</div>\n",
              "      <button class=\"colab-df-convert\" onclick=\"convertToInteractive('df-9e52b4ce-ac37-4319-b513-c1cf5e7ca112')\"\n",
              "              title=\"Convert this dataframe to an interactive table.\"\n",
              "              style=\"display:none;\">\n",
              "        \n",
              "  <svg xmlns=\"http://www.w3.org/2000/svg\" height=\"24px\"viewBox=\"0 0 24 24\"\n",
              "       width=\"24px\">\n",
              "    <path d=\"M0 0h24v24H0V0z\" fill=\"none\"/>\n",
              "    <path d=\"M18.56 5.44l.94 2.06.94-2.06 2.06-.94-2.06-.94-.94-2.06-.94 2.06-2.06.94zm-11 1L8.5 8.5l.94-2.06 2.06-.94-2.06-.94L8.5 2.5l-.94 2.06-2.06.94zm10 10l.94 2.06.94-2.06 2.06-.94-2.06-.94-.94-2.06-.94 2.06-2.06.94z\"/><path d=\"M17.41 7.96l-1.37-1.37c-.4-.4-.92-.59-1.43-.59-.52 0-1.04.2-1.43.59L10.3 9.45l-7.72 7.72c-.78.78-.78 2.05 0 2.83L4 21.41c.39.39.9.59 1.41.59.51 0 1.02-.2 1.41-.59l7.78-7.78 2.81-2.81c.8-.78.8-2.07 0-2.86zM5.41 20L4 18.59l7.72-7.72 1.47 1.35L5.41 20z\"/>\n",
              "  </svg>\n",
              "      </button>\n",
              "      \n",
              "  <style>\n",
              "    .colab-df-container {\n",
              "      display:flex;\n",
              "      flex-wrap:wrap;\n",
              "      gap: 12px;\n",
              "    }\n",
              "\n",
              "    .colab-df-convert {\n",
              "      background-color: #E8F0FE;\n",
              "      border: none;\n",
              "      border-radius: 50%;\n",
              "      cursor: pointer;\n",
              "      display: none;\n",
              "      fill: #1967D2;\n",
              "      height: 32px;\n",
              "      padding: 0 0 0 0;\n",
              "      width: 32px;\n",
              "    }\n",
              "\n",
              "    .colab-df-convert:hover {\n",
              "      background-color: #E2EBFA;\n",
              "      box-shadow: 0px 1px 2px rgba(60, 64, 67, 0.3), 0px 1px 3px 1px rgba(60, 64, 67, 0.15);\n",
              "      fill: #174EA6;\n",
              "    }\n",
              "\n",
              "    [theme=dark] .colab-df-convert {\n",
              "      background-color: #3B4455;\n",
              "      fill: #D2E3FC;\n",
              "    }\n",
              "\n",
              "    [theme=dark] .colab-df-convert:hover {\n",
              "      background-color: #434B5C;\n",
              "      box-shadow: 0px 1px 3px 1px rgba(0, 0, 0, 0.15);\n",
              "      filter: drop-shadow(0px 1px 2px rgba(0, 0, 0, 0.3));\n",
              "      fill: #FFFFFF;\n",
              "    }\n",
              "  </style>\n",
              "\n",
              "      <script>\n",
              "        const buttonEl =\n",
              "          document.querySelector('#df-9e52b4ce-ac37-4319-b513-c1cf5e7ca112 button.colab-df-convert');\n",
              "        buttonEl.style.display =\n",
              "          google.colab.kernel.accessAllowed ? 'block' : 'none';\n",
              "\n",
              "        async function convertToInteractive(key) {\n",
              "          const element = document.querySelector('#df-9e52b4ce-ac37-4319-b513-c1cf5e7ca112');\n",
              "          const dataTable =\n",
              "            await google.colab.kernel.invokeFunction('convertToInteractive',\n",
              "                                                     [key], {});\n",
              "          if (!dataTable) return;\n",
              "\n",
              "          const docLinkHtml = 'Like what you see? Visit the ' +\n",
              "            '<a target=\"_blank\" href=https://colab.research.google.com/notebooks/data_table.ipynb>data table notebook</a>'\n",
              "            + ' to learn more about interactive tables.';\n",
              "          element.innerHTML = '';\n",
              "          dataTable['output_type'] = 'display_data';\n",
              "          await google.colab.output.renderOutput(dataTable, element);\n",
              "          const docLink = document.createElement('div');\n",
              "          docLink.innerHTML = docLinkHtml;\n",
              "          element.appendChild(docLink);\n",
              "        }\n",
              "      </script>\n",
              "    </div>\n",
              "  </div>\n",
              "  "
            ]
          },
          "metadata": {},
          "execution_count": 110
        }
      ]
    },
    {
      "cell_type": "code",
      "source": [
        "df_IPAnnualReimbursementAmt = train_final.groupby('cluster_pca')['IPAnnualReimbursementAmt'].mean()\\\n",
        "                                       .reset_index(name='IPAnnualReimbursementAmt_mean')\\\n",
        "                                       .sort_values(['IPAnnualReimbursementAmt_mean'], ascending=False)\n",
        "\n",
        "df_IPAnnualReimbursementAmt.head()"
      ],
      "metadata": {
        "colab": {
          "base_uri": "https://localhost:8080/",
          "height": 160
        },
        "id": "xclsLI5cYs2E",
        "outputId": "f24858fd-ad4a-48c5-96e9-0f83f66659ab"
      },
      "execution_count": 112,
      "outputs": [
        {
          "output_type": "execute_result",
          "data": {
            "text/plain": [
              "   cluster_pca  IPAnnualReimbursementAmt_mean\n",
              "2            2                   56207.274669\n",
              "1            1                   17845.721913\n",
              "0            0                     974.399080"
            ],
            "text/html": [
              "\n",
              "  <div id=\"df-66aa2110-7dae-4134-ae3c-7e5b8be765ad\">\n",
              "    <div class=\"colab-df-container\">\n",
              "      <div>\n",
              "<style scoped>\n",
              "    .dataframe tbody tr th:only-of-type {\n",
              "        vertical-align: middle;\n",
              "    }\n",
              "\n",
              "    .dataframe tbody tr th {\n",
              "        vertical-align: top;\n",
              "    }\n",
              "\n",
              "    .dataframe thead th {\n",
              "        text-align: right;\n",
              "    }\n",
              "</style>\n",
              "<table border=\"1\" class=\"dataframe\">\n",
              "  <thead>\n",
              "    <tr style=\"text-align: right;\">\n",
              "      <th></th>\n",
              "      <th>cluster_pca</th>\n",
              "      <th>IPAnnualReimbursementAmt_mean</th>\n",
              "    </tr>\n",
              "  </thead>\n",
              "  <tbody>\n",
              "    <tr>\n",
              "      <th>2</th>\n",
              "      <td>2</td>\n",
              "      <td>56207.274669</td>\n",
              "    </tr>\n",
              "    <tr>\n",
              "      <th>1</th>\n",
              "      <td>1</td>\n",
              "      <td>17845.721913</td>\n",
              "    </tr>\n",
              "    <tr>\n",
              "      <th>0</th>\n",
              "      <td>0</td>\n",
              "      <td>974.399080</td>\n",
              "    </tr>\n",
              "  </tbody>\n",
              "</table>\n",
              "</div>\n",
              "      <button class=\"colab-df-convert\" onclick=\"convertToInteractive('df-66aa2110-7dae-4134-ae3c-7e5b8be765ad')\"\n",
              "              title=\"Convert this dataframe to an interactive table.\"\n",
              "              style=\"display:none;\">\n",
              "        \n",
              "  <svg xmlns=\"http://www.w3.org/2000/svg\" height=\"24px\"viewBox=\"0 0 24 24\"\n",
              "       width=\"24px\">\n",
              "    <path d=\"M0 0h24v24H0V0z\" fill=\"none\"/>\n",
              "    <path d=\"M18.56 5.44l.94 2.06.94-2.06 2.06-.94-2.06-.94-.94-2.06-.94 2.06-2.06.94zm-11 1L8.5 8.5l.94-2.06 2.06-.94-2.06-.94L8.5 2.5l-.94 2.06-2.06.94zm10 10l.94 2.06.94-2.06 2.06-.94-2.06-.94-.94-2.06-.94 2.06-2.06.94z\"/><path d=\"M17.41 7.96l-1.37-1.37c-.4-.4-.92-.59-1.43-.59-.52 0-1.04.2-1.43.59L10.3 9.45l-7.72 7.72c-.78.78-.78 2.05 0 2.83L4 21.41c.39.39.9.59 1.41.59.51 0 1.02-.2 1.41-.59l7.78-7.78 2.81-2.81c.8-.78.8-2.07 0-2.86zM5.41 20L4 18.59l7.72-7.72 1.47 1.35L5.41 20z\"/>\n",
              "  </svg>\n",
              "      </button>\n",
              "      \n",
              "  <style>\n",
              "    .colab-df-container {\n",
              "      display:flex;\n",
              "      flex-wrap:wrap;\n",
              "      gap: 12px;\n",
              "    }\n",
              "\n",
              "    .colab-df-convert {\n",
              "      background-color: #E8F0FE;\n",
              "      border: none;\n",
              "      border-radius: 50%;\n",
              "      cursor: pointer;\n",
              "      display: none;\n",
              "      fill: #1967D2;\n",
              "      height: 32px;\n",
              "      padding: 0 0 0 0;\n",
              "      width: 32px;\n",
              "    }\n",
              "\n",
              "    .colab-df-convert:hover {\n",
              "      background-color: #E2EBFA;\n",
              "      box-shadow: 0px 1px 2px rgba(60, 64, 67, 0.3), 0px 1px 3px 1px rgba(60, 64, 67, 0.15);\n",
              "      fill: #174EA6;\n",
              "    }\n",
              "\n",
              "    [theme=dark] .colab-df-convert {\n",
              "      background-color: #3B4455;\n",
              "      fill: #D2E3FC;\n",
              "    }\n",
              "\n",
              "    [theme=dark] .colab-df-convert:hover {\n",
              "      background-color: #434B5C;\n",
              "      box-shadow: 0px 1px 3px 1px rgba(0, 0, 0, 0.15);\n",
              "      filter: drop-shadow(0px 1px 2px rgba(0, 0, 0, 0.3));\n",
              "      fill: #FFFFFF;\n",
              "    }\n",
              "  </style>\n",
              "\n",
              "      <script>\n",
              "        const buttonEl =\n",
              "          document.querySelector('#df-66aa2110-7dae-4134-ae3c-7e5b8be765ad button.colab-df-convert');\n",
              "        buttonEl.style.display =\n",
              "          google.colab.kernel.accessAllowed ? 'block' : 'none';\n",
              "\n",
              "        async function convertToInteractive(key) {\n",
              "          const element = document.querySelector('#df-66aa2110-7dae-4134-ae3c-7e5b8be765ad');\n",
              "          const dataTable =\n",
              "            await google.colab.kernel.invokeFunction('convertToInteractive',\n",
              "                                                     [key], {});\n",
              "          if (!dataTable) return;\n",
              "\n",
              "          const docLinkHtml = 'Like what you see? Visit the ' +\n",
              "            '<a target=\"_blank\" href=https://colab.research.google.com/notebooks/data_table.ipynb>data table notebook</a>'\n",
              "            + ' to learn more about interactive tables.';\n",
              "          element.innerHTML = '';\n",
              "          dataTable['output_type'] = 'display_data';\n",
              "          await google.colab.output.renderOutput(dataTable, element);\n",
              "          const docLink = document.createElement('div');\n",
              "          docLink.innerHTML = docLinkHtml;\n",
              "          element.appendChild(docLink);\n",
              "        }\n",
              "      </script>\n",
              "    </div>\n",
              "  </div>\n",
              "  "
            ]
          },
          "metadata": {},
          "execution_count": 112
        }
      ]
    },
    {
      "cell_type": "code",
      "source": [
        "df_IPAnnualDeductibleAmt = train_final.groupby('cluster_pca')['IPAnnualDeductibleAmt'].mean()\\\n",
        "                                       .reset_index(name='IPAnnualDeductibleAmt_mean')\\\n",
        "                                       .sort_values(['IPAnnualDeductibleAmt_mean'], ascending=False)\n",
        "\n",
        "df_IPAnnualDeductibleAmt.head()"
      ],
      "metadata": {
        "colab": {
          "base_uri": "https://localhost:8080/",
          "height": 160
        },
        "id": "Sp3kc71PZSOl",
        "outputId": "07ebb726-43c0-46fa-e397-0c8687199590"
      },
      "execution_count": 114,
      "outputs": [
        {
          "output_type": "execute_result",
          "data": {
            "text/plain": [
              "   cluster_pca  IPAnnualDeductibleAmt_mean\n",
              "2            2                 3095.962775\n",
              "1            1                 1873.475450\n",
              "0            0                  227.814675"
            ],
            "text/html": [
              "\n",
              "  <div id=\"df-8214918e-da26-41f2-8829-8426fc2d49d4\">\n",
              "    <div class=\"colab-df-container\">\n",
              "      <div>\n",
              "<style scoped>\n",
              "    .dataframe tbody tr th:only-of-type {\n",
              "        vertical-align: middle;\n",
              "    }\n",
              "\n",
              "    .dataframe tbody tr th {\n",
              "        vertical-align: top;\n",
              "    }\n",
              "\n",
              "    .dataframe thead th {\n",
              "        text-align: right;\n",
              "    }\n",
              "</style>\n",
              "<table border=\"1\" class=\"dataframe\">\n",
              "  <thead>\n",
              "    <tr style=\"text-align: right;\">\n",
              "      <th></th>\n",
              "      <th>cluster_pca</th>\n",
              "      <th>IPAnnualDeductibleAmt_mean</th>\n",
              "    </tr>\n",
              "  </thead>\n",
              "  <tbody>\n",
              "    <tr>\n",
              "      <th>2</th>\n",
              "      <td>2</td>\n",
              "      <td>3095.962775</td>\n",
              "    </tr>\n",
              "    <tr>\n",
              "      <th>1</th>\n",
              "      <td>1</td>\n",
              "      <td>1873.475450</td>\n",
              "    </tr>\n",
              "    <tr>\n",
              "      <th>0</th>\n",
              "      <td>0</td>\n",
              "      <td>227.814675</td>\n",
              "    </tr>\n",
              "  </tbody>\n",
              "</table>\n",
              "</div>\n",
              "      <button class=\"colab-df-convert\" onclick=\"convertToInteractive('df-8214918e-da26-41f2-8829-8426fc2d49d4')\"\n",
              "              title=\"Convert this dataframe to an interactive table.\"\n",
              "              style=\"display:none;\">\n",
              "        \n",
              "  <svg xmlns=\"http://www.w3.org/2000/svg\" height=\"24px\"viewBox=\"0 0 24 24\"\n",
              "       width=\"24px\">\n",
              "    <path d=\"M0 0h24v24H0V0z\" fill=\"none\"/>\n",
              "    <path d=\"M18.56 5.44l.94 2.06.94-2.06 2.06-.94-2.06-.94-.94-2.06-.94 2.06-2.06.94zm-11 1L8.5 8.5l.94-2.06 2.06-.94-2.06-.94L8.5 2.5l-.94 2.06-2.06.94zm10 10l.94 2.06.94-2.06 2.06-.94-2.06-.94-.94-2.06-.94 2.06-2.06.94z\"/><path d=\"M17.41 7.96l-1.37-1.37c-.4-.4-.92-.59-1.43-.59-.52 0-1.04.2-1.43.59L10.3 9.45l-7.72 7.72c-.78.78-.78 2.05 0 2.83L4 21.41c.39.39.9.59 1.41.59.51 0 1.02-.2 1.41-.59l7.78-7.78 2.81-2.81c.8-.78.8-2.07 0-2.86zM5.41 20L4 18.59l7.72-7.72 1.47 1.35L5.41 20z\"/>\n",
              "  </svg>\n",
              "      </button>\n",
              "      \n",
              "  <style>\n",
              "    .colab-df-container {\n",
              "      display:flex;\n",
              "      flex-wrap:wrap;\n",
              "      gap: 12px;\n",
              "    }\n",
              "\n",
              "    .colab-df-convert {\n",
              "      background-color: #E8F0FE;\n",
              "      border: none;\n",
              "      border-radius: 50%;\n",
              "      cursor: pointer;\n",
              "      display: none;\n",
              "      fill: #1967D2;\n",
              "      height: 32px;\n",
              "      padding: 0 0 0 0;\n",
              "      width: 32px;\n",
              "    }\n",
              "\n",
              "    .colab-df-convert:hover {\n",
              "      background-color: #E2EBFA;\n",
              "      box-shadow: 0px 1px 2px rgba(60, 64, 67, 0.3), 0px 1px 3px 1px rgba(60, 64, 67, 0.15);\n",
              "      fill: #174EA6;\n",
              "    }\n",
              "\n",
              "    [theme=dark] .colab-df-convert {\n",
              "      background-color: #3B4455;\n",
              "      fill: #D2E3FC;\n",
              "    }\n",
              "\n",
              "    [theme=dark] .colab-df-convert:hover {\n",
              "      background-color: #434B5C;\n",
              "      box-shadow: 0px 1px 3px 1px rgba(0, 0, 0, 0.15);\n",
              "      filter: drop-shadow(0px 1px 2px rgba(0, 0, 0, 0.3));\n",
              "      fill: #FFFFFF;\n",
              "    }\n",
              "  </style>\n",
              "\n",
              "      <script>\n",
              "        const buttonEl =\n",
              "          document.querySelector('#df-8214918e-da26-41f2-8829-8426fc2d49d4 button.colab-df-convert');\n",
              "        buttonEl.style.display =\n",
              "          google.colab.kernel.accessAllowed ? 'block' : 'none';\n",
              "\n",
              "        async function convertToInteractive(key) {\n",
              "          const element = document.querySelector('#df-8214918e-da26-41f2-8829-8426fc2d49d4');\n",
              "          const dataTable =\n",
              "            await google.colab.kernel.invokeFunction('convertToInteractive',\n",
              "                                                     [key], {});\n",
              "          if (!dataTable) return;\n",
              "\n",
              "          const docLinkHtml = 'Like what you see? Visit the ' +\n",
              "            '<a target=\"_blank\" href=https://colab.research.google.com/notebooks/data_table.ipynb>data table notebook</a>'\n",
              "            + ' to learn more about interactive tables.';\n",
              "          element.innerHTML = '';\n",
              "          dataTable['output_type'] = 'display_data';\n",
              "          await google.colab.output.renderOutput(dataTable, element);\n",
              "          const docLink = document.createElement('div');\n",
              "          docLink.innerHTML = docLinkHtml;\n",
              "          element.appendChild(docLink);\n",
              "        }\n",
              "      </script>\n",
              "    </div>\n",
              "  </div>\n",
              "  "
            ]
          },
          "metadata": {},
          "execution_count": 114
        }
      ]
    },
    {
      "cell_type": "code",
      "source": [
        "import seaborn as sns\n",
        "import matplotlib.pyplot as plt \n",
        "\n",
        "sns.set_style(\"white\")\n",
        "plt.figure(figsize=(10,4)) \n",
        "\n",
        "sns.barplot(x='cluster_pca', y='InscClaimAmtReimbursed_mean', data=df_InscClaimAmtReimbursed)\n",
        "plt.ylabel('Avg. insurance claim amount reimbursed')\n",
        "plt.xlabel('Cluster #')\n",
        "sns.despine()"
      ],
      "metadata": {
        "colab": {
          "base_uri": "https://localhost:8080/",
          "height": 303
        },
        "id": "IQPQNVDtMw-Q",
        "outputId": "e01e5718-1d12-47d4-d102-9bd69eac6f75"
      },
      "execution_count": 101,
      "outputs": [
        {
          "output_type": "display_data",
          "data": {
            "text/plain": [
              "<Figure size 720x288 with 1 Axes>"
            ],
            "image/png": "[encoded data removed]"
          },
          "metadata": {}
        }
      ]
    },
    {
      "cell_type": "code",
      "source": [
        "sns.barplot(x='cluster_pca', y='ChronicCond_Heartfailure_mean', data=df_ChronicCond_Heartfailure)\n",
        "plt.ylabel('Avg. ChronicCond_Heartfailure')\n",
        "plt.xlabel('Cluster #')\n",
        "sns.despine()"
      ],
      "metadata": {
        "colab": {
          "base_uri": "https://localhost:8080/",
          "height": 300
        },
        "id": "rKvBtWuENdgQ",
        "outputId": "eb558e7d-121e-4014-fb60-0908f7553365"
      },
      "execution_count": 105,
      "outputs": [
        {
          "output_type": "display_data",
          "data": {
            "text/plain": [
              "<Figure size 432x288 with 1 Axes>"
            ],
            "image/png": "[encoded data removed]"
          },
          "metadata": {}
        }
      ]
    },
    {
      "cell_type": "code",
      "source": [
        "sns.barplot(x='cluster_pca', y='DeductibleAmtPaid_mean', data=df_DeductibleAmtPaid)\n",
        "plt.ylabel('Avg. deductible amount reimbursed')\n",
        "plt.xlabel('Cluster #')\n",
        "sns.despine()"
      ],
      "metadata": {
        "colab": {
          "base_uri": "https://localhost:8080/",
          "height": 300
        },
        "id": "iLGhMyUmN49A",
        "outputId": "c18bd45c-123b-401f-845b-e1cc618bda44"
      },
      "execution_count": 106,
      "outputs": [
        {
          "output_type": "display_data",
          "data": {
            "text/plain": [
              "<Figure size 432x288 with 1 Axes>"
            ],
            "image/png": "[encoded data removed]"
          },
          "metadata": {}
        }
      ]
    },
    {
      "cell_type": "code",
      "source": [
        "sns.barplot(x='cluster_pca', y='ChronicCond_KidneyDisease_mean', data=df_ChronicCond_KidneyDisease)\n",
        "plt.ylabel('Avg. ChronicCond_KidneyDisease')\n",
        "plt.xlabel('Cluster #')\n",
        "sns.despine()"
      ],
      "metadata": {
        "colab": {
          "base_uri": "https://localhost:8080/",
          "height": 300
        },
        "id": "EiOdMihMOg6E",
        "outputId": "48662e24-fb11-430c-adf8-9d839bd47439"
      },
      "execution_count": 108,
      "outputs": [
        {
          "output_type": "display_data",
          "data": {
            "text/plain": [
              "<Figure size 432x288 with 1 Axes>"
            ],
            "image/png": "[encoded data removed]"
          },
          "metadata": {}
        }
      ]
    },
    {
      "cell_type": "code",
      "source": [
        "sns.barplot(x='cluster_pca', y='ChronicCond_ObstrPulmonary_mean', data=df_ChronicCond_ObstrPulmonary)\n",
        "plt.ylabel('Avg. ChronicCond_ObstrPulmonary')\n",
        "plt.xlabel('Cluster #')\n",
        "sns.despine()"
      ],
      "metadata": {
        "colab": {
          "base_uri": "https://localhost:8080/",
          "height": 300
        },
        "id": "nf1Zk5wpO5XS",
        "outputId": "341584af-336a-4441-880c-a008eea278a1"
      },
      "execution_count": 111,
      "outputs": [
        {
          "output_type": "display_data",
          "data": {
            "text/plain": [
              "<Figure size 432x288 with 1 Axes>"
            ],
            "image/png": "[encoded data removed]"
          },
          "metadata": {}
        }
      ]
    },
    {
      "cell_type": "code",
      "source": [
        "sns.barplot(x='cluster_pca', y='IPAnnualReimbursementAmt_mean', data=df_IPAnnualReimbursementAmt)\n",
        "plt.ylabel('Avg. IPAnnualReimbursementAmt')\n",
        "plt.xlabel('Cluster #')\n",
        "sns.despine()"
      ],
      "metadata": {
        "colab": {
          "base_uri": "https://localhost:8080/",
          "height": 300
        },
        "id": "JMeC6DaLYcBB",
        "outputId": "50093764-3e40-405b-a813-9f32596ee019"
      },
      "execution_count": 113,
      "outputs": [
        {
          "output_type": "display_data",
          "data": {
            "text/plain": [
              "<Figure size 432x288 with 1 Axes>"
            ],
            "image/png": "[encoded data removed]"
          },
          "metadata": {}
        }
      ]
    },
    {
      "cell_type": "code",
      "source": [
        "sns.barplot(x='cluster_pca', y='IPAnnualDeductibleAmt_mean', data=df_IPAnnualDeductibleAmt)\n",
        "plt.ylabel('Avg. IPAnnualDeductibleAmt')\n",
        "plt.xlabel('Cluster #')\n",
        "sns.despine()\n"
      ],
      "metadata": {
        "colab": {
          "base_uri": "https://localhost:8080/",
          "height": 300
        },
        "id": "D373EUh6ZBuo",
        "outputId": "8b800efd-fe08-4598-e5c6-fc7ff8c126d2"
      },
      "execution_count": 115,
      "outputs": [
        {
          "output_type": "display_data",
          "data": {
            "text/plain": [
              "<Figure size 432x288 with 1 Axes>"
            ],
            "image/png": "[encoded data removed]"
          },
          "metadata": {}
        }
      ]
    },
    {
      "cell_type": "code",
      "source": [],
      "metadata": {
        "id": "0bXAa0ZeZuqW"
      },
      "execution_count": null,
      "outputs": []
    }
  ]
}